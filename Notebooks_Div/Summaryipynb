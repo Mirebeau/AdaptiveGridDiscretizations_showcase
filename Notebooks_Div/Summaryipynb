{
 "cells": [
  {
   "cell_type": "markdown",
   "metadata": {},
   "source": [
    "# Adaptive grid discretizations\n",
    "## A set of tools for discretizing anisotropic PDEs on cartesian grids\n",
    "# Volume : Divergence form PDEs"
   ]
  },
  {
   "cell_type": "markdown",
   "metadata": {},
   "source": [
    "This collection of notebooks presents a series of general principles and reference implementations for *anisotropic Partial Differential Equations (PDEs) in divergence form*, using *adaptive finite difference schemes on cartesian grids*. \n",
    "* *Anisotropy* means that some directions in the domain play a preferred role, locally, preferred. A typical instance of an anisotropic PDE is anisotropic diffusion\n",
    "$$\n",
    "    \\partial_t u = \\mathrm{div}(D \\nabla u)\n",
    "$$\n",
    "* *Finite difference schemes* are a numerical approach to the discretization of PDEs, based on the approximation of the first and second derivatives of a given function $u$. For instance, in this series of notebooks, you will encounter finite difference approximations of elliptic energies in the following sum of squares form\n",
    "$$\n",
    "    E_h(u) := h^{d-2}\\sum_{x \\in \\Omega_h} \\sum_{1 \\leq i \\leq I} \\lambda_i(x) (u(x+h e_i) - u(x))^2\n",
    "$$\n",
    "where $h$ is a gridscale, $\\lambda_i(x)$ is a non-negative weight, and $u(x+h e_i) - u(x)$ is the *finite difference* of $u$ at positition $x\\in \\Omega_h$ and in the direction $e_i$. In our implementation, $\\Omega_h\\subset Z^d$ is a Cartesian grid, and $e_i \\in Z^d$ is an offset with integer coordinates, so that $x+h e_i$ is a well defined grid point."
   ]
  },
  {
   "cell_type": "markdown",
   "metadata": {},
   "source": [
    "**Domain dimension.** Unless otherwise specified, the numerical experiments presented in the notebooks involve two dimensional PDEs.\n",
    "\n",
    "**Sobolev spaces.**\n",
    "Recall that $H^1(\\Omega)$ denotes the set of functions with a square integrable gradient, $H^1_0(\\Omega)$ the subspace of functions with null boundary conditions."
   ]
  },
  {
   "cell_type": "markdown",
   "metadata": {},
   "source": [
    "**Github repository** to run and modify the examples on your computer.\n",
    "[AdaptiveGridDiscretizations](https://github.com/Mirebeau/AdaptiveGridDiscretizations)\n",
    "\n",
    "\n",
    "# Table of contents\n",
    "[**Main summary**](../Summary.ipynb), including the other volumes of this work. \n",
    "### A. One space dimension\n",
    "\n",
    " * I. [Heat and wave equations](Time1D_Div.ipynb)\n",
    "  1. Quadratic forms and their discretization\n",
    "  2. The heat equation, explicit scheme\n",
    "  3. The heat equation, implicit scheme\n",
    "  4. Wave equation\n",
    "\n",
    "\n",
    "### B. Static problems\n",
    "\n",
    " * I. [Elliptic equations](Elliptic.ipynb)\n",
    "  1. Isotropic scheme\n",
    "  2. Naive anisotropic scheme\n",
    "  3. Anisotropic scheme\n",
    "  4. Neuman boundary conditions\n",
    "\n",
    "\n",
    " * II. [Elliptic equations with a first order term](EllipticAsymmetric.ipynb)\n",
    "  1. The numerical scheme\n",
    "  2. One dimensional study\n",
    "  3. Two dimensional examples\n",
    "\n",
    "\n",
    "### C. Applications\n",
    "\n",
    " * I. [Extracting geodesics from the heat kernel](VaradhanGeodesics.ipynb)\n",
    "  1. Isotropic metrics\n",
    "  2. Anisotropic Riemannian metrics\n",
    "  3. Rander metrics"
   ]
  },
  {
   "cell_type": "code",
   "execution_count": 1,
   "metadata": {},
   "outputs": [],
   "source": [
    "#import sys; sys.path.append(\"..\") # Allow imports from parent directory\n",
    "#from Miscellaneous import TocTools; print(TocTools.displayTOCs('Div'))"
   ]
  }
 ],
 "metadata": {
  "kernelspec": {
   "display_name": "Python 3",
   "language": "python",
   "name": "python3"
  },
  "language_info": {
   "codemirror_mode": {
    "name": "ipython",
    "version": 3
   },
   "file_extension": ".py",
   "mimetype": "text/x-python",
   "name": "python",
   "nbconvert_exporter": "python",
   "pygments_lexer": "ipython3",
   "version": "3.7.6"
  }
 },
 "nbformat": 4,
 "nbformat_minor": 2
}

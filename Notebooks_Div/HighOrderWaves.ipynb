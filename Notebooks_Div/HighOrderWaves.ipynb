{
 "cells": [
  {
   "cell_type": "markdown",
   "id": "948506a3",
   "metadata": {
    "editable": true,
    "slideshow": {
     "slide_type": ""
    },
    "tags": []
   },
   "source": [
    "# Adaptive PDE discretizations on Cartesian grids\n",
    "## Volume : Divergence form PDEs\n",
    "## Part : Linear elasticity\n",
    "## Chapter : Fourth order schemes for anisotropic acoustic and elastic waves\n",
    "\n",
    "$\n",
    "\\newcommand\\bbone{\\mathbb 1}\\newcommand\\sm{\\setminus}\n",
    "\\newcommand\\<{\\langle}\\newcommand\\>{\\rangle}\n",
    "\\newcommand\\vp{\\varphi}\n",
    "\\newcommand\\diff{\\mathrm d}\\newcommand\\Diff{\\mathrm{D}}\n",
    "\\DeclareMathOperator\\Id{Id}\\DeclareMathOperator\\len{len}\\DeclareMathOperator\\Tr{Tr}\n",
    "\\newcommand\\kF{\\mathfrak F}\n",
    "\\newcommand\\cL{\\mathcal L}\\newcommand\\cF{\\mathcal F}\\newcommand\\cO{\\mathcal O}\\newcommand\\cS{\\mathcal S}\n",
    "\\newcommand\\cD{\\mathcal D}\n",
    "\\newcommand\\bQ{\\mathbb Q}\\newcommand\\bR{\\mathbb R}\\newcommand\\bS{\\mathbb S}\\newcommand\\bZ{\\mathbb Z}\n",
    "\\newcommand\\ve{\\varepsilon}\n",
    "\\newcommand\\kg{\\mathrm{kg}}\n",
    "\\newcommand\\diver{\\mathrm{div}}\\newcommand\\kw{\\mathrm{k}}\n",
    "\\newcommand\\be{\\boldsymbol{\\mathrm{e}}}\n",
    "$"
   ]
  },
  {
   "cell_type": "markdown",
   "id": "0cb40969",
   "metadata": {},
   "source": [
    "We illustrate numerical schemes for the acoustic and elastic wave equations, in one to three dimensions.\n",
    "These topics are also discussed in the [notebook on the one dimensional case](Time1D_div.ipynb), and the two notebooks on the [elastic energy discretization](ElasticEnergy.ipynb) and [elastic wave equation](ElasticWave.ipynb). \n",
    "The present notbook comes with the following aspects in mind:\n",
    "- Second and fourth order finite differences schemes in space.\n",
    "- Second and fourth order symplectic schemes in time.\n",
    "- Exact conservation of a (perturbed) discrete Hamiltonian.\n",
    "- Absorbing boundary conditions.\n",
    "- Adjoint operators.\n",
    "- Changes of variables, eventually used for e.g. taking topography into account.\n",
    "- Code acceleration with specialized GPU kernels."
   ]
  },
  {
   "cell_type": "markdown",
   "id": "d8cb4c50",
   "metadata": {
    "editable": true,
    "slideshow": {
     "slide_type": ""
    },
    "tags": []
   },
   "source": [
    "[**Summary**](Summary.ipynb) of volume Divergence form PDEs, this series of notebooks.\n",
    "\n",
    "[**Main summary**](../Summary.ipynb) of the Adaptive Grid Discretizations \n",
    "\tbook of notebooks, including the other volumes.\n",
    "\n",
    "# Table of contents\n",
    "  * [1. One dimension](#1.-One-dimension)\n",
    "    * [1.1 Spatial discretization](#1.1-Spatial-discretization)\n",
    "    * [1.2 Time discretization](#1.2-Time-discretization)\n",
    "    * [1.3 Constant coefficients](#1.3-Constant-coefficients)\n",
    "    * [1.4 Acoustic change of variables](#1.4-Acoustic-change-of-variables)\n",
    "    * [1.5 Elastic change of variables](#1.5-Elastic-change-of-variables)\n",
    "    * [1.6 Damping](#1.6-Damping)\n",
    "    * [1.7 (Symplectic) Adjoint operators](#1.7-(Symplectic)-Adjoint-operators)\n",
    "    * [1.8 Automatic differentiation of the Hamiltonian](#1.8-Automatic-differentiation-of-the-Hamiltonian)\n",
    "    * [1.9 Numerical dispersion](#1.9-Numerical-dispersion)\n",
    "  * [2. Two dimensional acoustic waves](#2.-Two-dimensional-acoustic-waves)\n",
    "    * [2.1 Constant coefficients](#2.1-Constant-coefficients)\n",
    "    * [2.2 Change of variables](#2.2-Change-of-variables)\n",
    "    * [2.3 Dispersion relation](#2.3-Dispersion-relation)\n",
    "  * [3. Two dimensional elastic waves](#3.-Two-dimensional-elastic-waves)\n",
    "    * [3.1 Construction of an exact solution](#3.1-Construction-of-an-exact-solution)\n",
    "    * [3.2 Change of variables](#3.2-Change-of-variables)\n",
    "    * [3.3 Dispersion relation](#3.3-Dispersion-relation)\n",
    "  * [4. GPU accelerated kernels](#4.-GPU-accelerated-kernels)\n",
    "    * [4.1 Acoustic wave](#4.1-Acoustic-wave)\n",
    "    * [4.2 Elastic wave](#4.2-Elastic-wave)\n",
    "\n",
    "\n",
    "\n",
    "**Acknowledgement.** Some of the experiments presented in these notebooks are part of \n",
    "ongoing research with Ludovic Métivier and Da Chen.\n",
    "\n",
    "Copyright Jean-Marie Mirebeau, Centre Borelli, ENS Paris-Saclay, CNRS, University Paris-Saclay"
   ]
  },
  {
   "cell_type": "markdown",
   "id": "a900ee4a",
   "metadata": {
    "editable": true,
    "slideshow": {
     "slide_type": ""
    },
    "tags": []
   },
   "source": [
    "## 0. Importing the required libraries"
   ]
  },
  {
   "cell_type": "code",
   "execution_count": 1,
   "id": "c440343a",
   "metadata": {
    "execution": {
     "iopub.execute_input": "2024-04-30T09:02:21.328949Z",
     "iopub.status.busy": "2024-04-30T09:02:21.325270Z",
     "iopub.status.idle": "2024-04-30T09:02:21.336910Z",
     "shell.execute_reply": "2024-04-30T09:02:21.336392Z"
    }
   },
   "outputs": [],
   "source": [
    "import sys; sys.path.insert(0,\"..\") # Allow import of agd from parent directory (useless if conda package installed)\n",
    "#from Miscellaneous import TocTools; print(TocTools.displayTOC('HighOrderWaves','Div'))"
   ]
  },
  {
   "cell_type": "code",
   "execution_count": 2,
   "id": "7740e01c",
   "metadata": {
    "editable": true,
    "execution": {
     "iopub.execute_input": "2024-04-30T09:02:21.339882Z",
     "iopub.status.busy": "2024-04-30T09:02:21.339662Z",
     "iopub.status.idle": "2024-04-30T09:02:21.457871Z",
     "shell.execute_reply": "2024-04-30T09:02:21.457363Z"
    },
    "slideshow": {
     "slide_type": ""
    },
    "tags": [
     "ExportCode"
    ]
   },
   "outputs": [
    {
     "ename": "SyntaxError",
     "evalue": "'function call' is an illegal expression for augmented assignment (hamiltonian.py, line 334)",
     "output_type": "error",
     "traceback": [
      "Traceback \u001b[0;36m(most recent call last)\u001b[0m:\n",
      "\u001b[0m  File \u001b[1;32m~/opt/miniconda3/envs/agd-hfm_dev_310/lib/python3.10/site-packages/IPython/core/interactiveshell.py:3433\u001b[0m in \u001b[1;35mrun_code\u001b[0m\n    exec(code_obj, self.user_global_ns, self.user_ns)\u001b[0m\n",
      "\u001b[0;36m  Cell \u001b[0;32mIn[2], line 5\u001b[0;36m\n\u001b[0;31m    from agd.ODE.hamiltonian import QuadraticHamiltonian\u001b[0;36m\n",
      "\u001b[0;36m  File \u001b[0;32m~/Dropbox/Programmes/GithubM1/AdaptiveGridDiscretizations/agd/ODE/hamiltonian.py:334\u001b[0;36m\u001b[0m\n\u001b[0;31m    q.coef.__getitem__(ph_ind) += ph_grad[rev_iter-1] # Python 3.10 syntax for previous line\u001b[0m\n\u001b[0m    ^\u001b[0m\n\u001b[0;31mSyntaxError\u001b[0m\u001b[0;31m:\u001b[0m 'function call' is an illegal expression for augmented assignment\n"
     ]
    }
   ],
   "source": [
    "from agd import LinearParallel as lp\n",
    "from agd import FiniteDifferences as fd\n",
    "from agd.Metrics import Riemann\n",
    "from agd.Metrics.Seismic import Hooke\n",
    "from agd.ODE.hamiltonian import QuadraticHamiltonian\n",
    "from agd import AutomaticDifferentiation as ad\n",
    "from agd import Selling\n",
    "mica,_ = Hooke.mica # Note: ρ is in g/cm^3, which is inconsistent with the Hooke tensor SI units \n",
    "norm = ad.Optimization.norm"
   ]
  },
  {
   "cell_type": "code",
   "execution_count": 3,
   "id": "60a8cf07",
   "metadata": {
    "editable": true,
    "slideshow": {
     "slide_type": ""
    },
    "tags": [
     "ExportCode"
    ]
   },
   "outputs": [],
   "source": [
    "import copy\n",
    "import numpy as np; xp=np; allclose=np.allclose; π = np.pi\n",
    "import matplotlib.pyplot as plt"
   ]
  },
  {
   "cell_type": "markdown",
   "id": "da50f0f1",
   "metadata": {},
   "source": [
    "### 0.1 Additional configuration\n",
    "\n",
    "Uncomment the following line to run the code on the GPU.\n",
    "\n",
    "**Important :** In order to get actual performance improvements, specialized GPU kernels are needed, as illustrated in the end of the notebook. Sparse matrix based implementations, which are enabled by the next line, are not very efficient usually and are only for compatibility checks."
   ]
  },
  {
   "cell_type": "code",
   "execution_count": 4,
   "id": "a07c8dc7",
   "metadata": {
    "editable": true,
    "slideshow": {
     "slide_type": ""
    },
    "tags": [
     "GPU_config"
    ]
   },
   "outputs": [],
   "source": [
    "#xp,plt,mica,allclose = map(ad.cupy_friendly,(xp,plt,mica,allclose))"
   ]
  },
  {
   "cell_type": "markdown",
   "id": "b6d77652",
   "metadata": {
    "editable": true,
    "slideshow": {
     "slide_type": ""
    },
    "tags": []
   },
   "source": [
    "## 1. One dimension"
   ]
  },
  {
   "cell_type": "markdown",
   "id": "0dd4a89b",
   "metadata": {},
   "source": [
    "### 1.1 Spatial discretization\n",
    "\n",
    "**Hamiltonian.**\n",
    "The discretization of the one-dimensional wave equation is introduced in more detail in the [dedicated notebook](Time1D_div.ipynb). \n",
    "\n",
    "Consider the domain $X = [0,1]$, with periodic boundary conditions for now. The Hamiltonian of the continuous system reads\n",
    "$$\n",
    "    2 H_c(q,p) :=  \\int_X \\Big(\\frac {p(x)^2} {\\rho(x)} + D(x) q'(x)^2\\Big) \\diff x.\n",
    "$$\n",
    "This Hamiltonian may represent the energy of an elastic band, in the linearized regime. The first term accounts for the kinetic energy, and the second term accounts for the elastic energy, with the following interpretations : \n",
    "- $q$, referred to as the system \"position\", is an infinitesimal displacement of the elastic band.\n",
    "- $p$, referred to as the system \"impulsion\", is a momentum density.\n",
    "- $\\rho$ is the local material density, assumed to be positive (and non-vanishing).\n",
    "- $D$ is the local elasticity modulus."
   ]
  },
  {
   "cell_type": "code",
   "execution_count": 5,
   "id": "d7a06a3a",
   "metadata": {
    "editable": true,
    "slideshow": {
     "slide_type": ""
    },
    "tags": []
   },
   "outputs": [],
   "source": [
    "def make_domain1(N=100):\n",
    "    \"\"\"Returns X, a regular sampling of [0,1] with N points, and h the grid scale.\"\"\"\n",
    "    X,dx = xp.linspace(0,1,N,endpoint=False,retstep=True)\n",
    "    return (X+dx/2),dx"
   ]
  },
  {
   "cell_type": "markdown",
   "id": "a12a4958",
   "metadata": {},
   "source": [
    "**Discretization.** We discretize this Hamiltonian using a finite difference scheme, whose step size $h>0$ is the inverse of an integer. We denote by $X_h := \\{h/2,3h/2,\\cdots,1-h/2\\}$ the discretized interval.\n",
    "We recall that, with periodic boundary conditions as we assumed, the summation\n",
    "$$\n",
    "    \\int_X f(x) \\diff x = h \\sum_{x\\in X_h} f(x) + \\cO(h^{2k}),\n",
    "$$\n",
    "is spectrally accurate, i.e. the order $2k$ can be arbitrary, provided $f$ is smooth enough. \n",
    "\n",
    "The discretization of the *kinetic energy* is therefore straightforward:\n",
    "$$\n",
    "    \\int_X \\frac{p(x)^2}{\\rho(x)} \\diff x = h\\sum_{x\\in X_h} \\frac {p(x)^2}{\\rho(x)} + \\cO(h^{2k}),\n",
    "$$\n",
    "provided the momentum $p$ and the density $\\rho>0$ are smooth enough."
   ]
  },
  {
   "cell_type": "code",
   "execution_count": 6,
   "id": "247877d6",
   "metadata": {
    "editable": true,
    "slideshow": {
     "slide_type": ""
    },
    "tags": [
     "ExportCode"
    ]
   },
   "outputs": [],
   "source": [
    "def KineticEnergy_a(p,ρ):\n",
    "    \"\"\"\n",
    "    Kinetic energy (x2), for the acoustic wave equation.\n",
    "    p : momentum. ρ : density.\n",
    "    \"\"\"\n",
    "    return 0.5 * p**2 / ρ # Return energy density, summation will be implicit"
   ]
  },
  {
   "cell_type": "markdown",
   "id": "92fe635f",
   "metadata": {},
   "source": [
    "**Finite differences.** The discretisation of the acoustic potential energy requires us to approximate the squared derivative $q'^2$. \n",
    "\n",
    "The simplest and most classical scheme uses upwind and downwind finite differences:\n",
    "$$\n",
    "   q'(x)^2 = \\frac 1 {2h^2} \\Big[ (q(x-h)-q(x))^2 + (q(x+h)-q(x))^2 \\Big] + \\cO(h^2).\n",
    "$$\n",
    "The scheme is second order accurate for $q'(x)^2$, even though it is defined in terms of first order accurate finite differences (downwind and upwind) for $q'(x)$, thanks to a cancellation effect due to symmetry.\n",
    "\n",
    "An fourth order accurate scheme for $q'(x)^2$ can likewise be obtained as a combination of second order accurate schemes for $q'(x)$ (downwind, centered, and upwind), as follows\n",
    "$$\n",
    "    q'(x)^2 = \\frac 1 {24 h^2} \\Big[ (-q(x-2h)+4q(x-h)-3q(x))^2 + 4(q(x+h)-q(x-h))^2 + (-q(x+2h)+4q(x+h)-3q(x))^2 \\Big] + \\cO(h^4).\n",
    "$$\n",
    "Note that the coefficients of $q(x) q(x-2h)$ and $q(x) q(x+2h)$ are positive, which means that the scheme is not monotone, as can be expected for a scheme of order $>2$.\n",
    "\n",
    "**Additional parameters $\\alpha$ and $S$** in the functions below. Their relevance will be made clear in section [1.5 Elastic change of variables](#1.5-Elastic-change-of-variables)."
   ]
  },
  {
   "cell_type": "code",
   "execution_count": 7,
   "id": "98db8ebb",
   "metadata": {},
   "outputs": [
    {
     "name": "stdout",
     "output_type": "stream",
     "text": [
      "Help on function DiffEll in module agd.FiniteDifferences:\n",
      "\n",
      "DiffEll(u, offset, gridScale=1.0, order=2, α=0.0, **kwargs)\n",
      "    Helper function for discretizing (<grad u,e> - α)^2, which appears in elliptic energies. Returns\n",
      "    $$\n",
      "        [u(x)-u(x-h*e)-αh, u(x+h*e)-u(x)-αh]/(h sqrt(2))\n",
      "    $$\n",
      "    if order=2. Sum the squares to approximate (<grad u,e>-α)^2. Also accepts order=4.\n",
      "\n"
     ]
    }
   ],
   "source": [
    "help(fd.DiffEll)"
   ]
  },
  {
   "cell_type": "code",
   "execution_count": 8,
   "id": "7f28ec17",
   "metadata": {},
   "outputs": [],
   "source": [
    "def PotentialEnergy1a(q,D,dx,order=2,S=0.):\n",
    "    \"\"\"One dimensional acoustic potential energy density (x2)\"\"\"\n",
    "    offset = xp.array([1])\n",
    "    diff = fd.DiffEll(q,offset,dx,order,α=S*q,padding=None) # padding=None means periodic\n",
    "    return 0.5 * D*diff**2 # Summation is implicit"
   ]
  },
  {
   "cell_type": "markdown",
   "id": "2033e42e",
   "metadata": {},
   "source": [
    "**Full discretized Hamiltonian.** We omit for simplicity the scaling factor $h$ in the discretization of the integrals.\n",
    "\n",
    "The discretized Hamiltonian $H_d$ may be expressed as \n",
    "$$\n",
    "    2 H_d(q,p) = p^\\top A p + q^\\top B q,\n",
    "$$\n",
    "where : \n",
    "- the position $q$ and momentum $p$ defined over $X_h$ are seen as vectors $q,p \\in \\bR^N$ with $N=1/h$.\n",
    "- the matrices $A$ and $B$ are positive semi-definite.\n",
    "\n",
    "Note that by construction $A$ is a diagonal matric with the material density $\\rho$ as entries, whereas $B$ is a sparse finite element matrix."
   ]
  },
  {
   "cell_type": "code",
   "execution_count": 9,
   "id": "7a2fa7ae",
   "metadata": {
    "editable": true,
    "slideshow": {
     "slide_type": ""
    },
    "tags": []
   },
   "outputs": [],
   "source": [
    "def Hamiltonian1a(ρ,D,X,dx,order=2,S=0.):\n",
    "    \"\"\"Discretized Hamiltonian of the one dimensional acoustic wave equation.\"\"\"\n",
    "    Hq = lambda q: PotentialEnergy1a(q,D,dx,order=order,S=S) \n",
    "    Hp = lambda p: KineticEnergy_a(p,ρ)\n",
    "    H = QuadraticHamiltonian(Hq,Hp)\n",
    "    H.set_spmat(xp.zeros_like(X)) # Replaces quadratic functions with sparse matrices\n",
    "    return H"
   ]
  },
  {
   "cell_type": "markdown",
   "id": "c61a1b65",
   "metadata": {},
   "source": [
    "**Comparison of the kinetic and elastic energies.**\n",
    "In order to evaluate the Courant-Friedrichs-Levy (CFL) stability condition, for the time step of the discretized ODE below, we need to compare the matrices $A$ and $B$. Specifically, we need a constant $\\tau>0$ such that \n",
    "$$\n",
    "    A^{-1} \\succeq \\tau^2 B\n",
    "$$\n",
    "in the sense of symmetric positive definite matrices. Note that $A$ is diagonal with positive entries, hence is invertible.\n",
    "The above inequality implies, again in the sense of positive definite matrices\n",
    "\\begin{align*}\n",
    "    B &\\succeq \\tau^2 B A B, &\n",
    "    A \\succeq \\tau^2 A B A.\n",
    "\\end{align*}\n",
    "\n",
    "Using the arithmetic-geometric mean inequality $(a+b)^2 \\leq 2(a^2+b^2)$ we obtain \n",
    "$$\n",
    "    (q(x-h)-q(x))^2 + (q(x+h)-q(x))^2 \\leq 2 q(x-h)^2 + 4 q(x)^2 + 2 q(x+h)^2.\n",
    "$$\n",
    "Likewise, using $(\\alpha a+\\beta b+\\gamma c)^2\\leq (\\alpha+\\beta+\\gamma)(a^2+b^2+c^2)$ for any positive weights $\\alpha,\\beta,\\gamma$, we obtain\n",
    "\\begin{align*}\n",
    "&(-q(x-2h)+4q(x-h)-3q(x))^2 + 4(q(x+h)-q(x-h))^2 + (-q(x+2h)+4q(x+h)-3q(x))^2 \\\\\n",
    "& \\leq 8 q(x-2h)^2+40 q(x-h)^2+ 24 q(x)^2 + 40 q(x+h)^2 + 8 q(x+2h)^2,\n",
    "\\end{align*}\n",
    "where $40 = 8\\times 4+4\\times 2$ and $24 = 8 \\times 3$.\n",
    "\n",
    "Since the scheme is local, and the density $\\rho$ and elasticity $D$ are assumed to be continuous over the domain $X$, we can limit our attention to the case where they are constant, at least as a first approximation. Summing the above estimates over all translates at points $x\\in X_h$  we obtain the sufficient condition (ensures $A^{-1} \\succeq \\tau^2 B$)\n",
    "$$\n",
    "    \\rho \\geq c_{k} \\tau^2 D / h^2\n",
    "$$\n",
    "where $c_2 = (2+4+2)/2 = 4$ for the second order scheme, and $c_4 = (8+40+24+40+8)/24 = 6$ for the fourth order scheme.\n",
    "\n",
    "*Dimensional analysis.* \n",
    "Denote by $m$ (meter), $\\kg$ (kilogram), $s$ (second) and $J$ (joule) the usual SI units. \n",
    "Then $[\\rho] = \\kg/m^d$, $[D] = J/m^d = \\kg\\, m^{2-d} s^{-2}$, $[h]=m$.\n",
    "\n",
    "It follows that $[\\tau] = s$ has the dimension of a time. Note also that $c = \\sqrt{D/\\rho}$ has the dimension $[c] = m/s$ of a velocity, namely the velocity of waves."
   ]
  },
  {
   "cell_type": "markdown",
   "id": "7386784f",
   "metadata": {},
   "source": [
    "### 1.2 Time discretization\n",
    "\n",
    "**Time evolution.** \n",
    "Let us recall Hamilton's equation of evolution : \n",
    "\\begin{align*}\n",
    "    \\dot q &= \\partial_p H, &\n",
    "    \\dot p &= -\\partial_q H.\n",
    "\\end{align*}\n",
    "The wave evolution PDE is obtained as Hamilton's equations applied to the wave Hamiltonian. By construction, the Hamiltonian value is preserved along the evolution:\n",
    "$$\n",
    "    H(q(t),p(t)) = \\mathrm{cst}.\n",
    "$$"
   ]
  },
  {
   "cell_type": "markdown",
   "id": "d1cb611e",
   "metadata": {},
   "source": [
    "**The Euler first order symplectic scheme,** is first order accurate, and preserves the Hamiltonian $2 H_E(q,p) = p^\\top A p + q^\\top B q + \\delta p^\\top A B q$, see [this notebook for details](Time1D_div.ipynb)."
   ]
  },
  {
   "cell_type": "markdown",
   "id": "3271821b",
   "metadata": {},
   "source": [
    "**The Verlet second order symplectic scheme.**\n",
    "The Verlet update $(q,p) \\mapsto (q',p'')$ is defined by two implicit updates of the impulsion $p$ and one explicit update of the position $q$, as follows: \n",
    "\\begin{align}\n",
    "    p' &= p - \\tfrac \\delta 2 \\partial_q H(q,p'), &\n",
    "    q' &= q + \\delta \\partial_p H(q,p'), & \n",
    "    p'' &= p' - \\tfrac \\delta 2 \\partial_q H(q',p'').\n",
    "\\end{align}\n",
    "Fortunately in the considered case of the Wave equation, whose Hamiltonian is separable and quadratic, these updates are in fact explicit and linear:\n",
    "\\begin{align*}\n",
    "    p' &= p - \\tfrac \\delta 2 B q, &\n",
    "    q' &= q + \\delta A p', & \n",
    "    p'' &= p' - \\tfrac \\delta 2 B q'.\n",
    "\\end{align*}\n",
    "The Verlet scheme is second order accurate in time, and exactly preserves the following perturbed discrete Hamiltonian\n",
    "$$\n",
    "    2 H_V(q,p) := p^\\top A p + q^\\top (B - \\tfrac 1 4 \\delta^2 B A B) q.\n",
    "$$\n",
    "*CFL condition.* The quadratic form $H_V$ is positive semi-definite provided $B\\succ \\tfrac 1 4 \\delta^2 B A B$, which holds provided \n",
    "$\n",
    "\\delta \\leq 2\\tau.\n",
    "$\n",
    "If this condition is satisfied strictly, then $H_V$ is equivalent to the discretized Hamiltonian $H_d$, which encodes the total energy of the system, and thus the evolution is stable."
   ]
  },
  {
   "cell_type": "markdown",
   "id": "ee90bc2a",
   "metadata": {},
   "source": [
    "**The Ruth fourth order symplectic scheme (1983).**\n",
    "This is a symplectic scheme, similar to the Verlet scheme, but with 7 substeps instead of 3.\n",
    "This scheme is fourth order accurate, and exactly preserves the following perturbed discrete Hamiltonian\n",
    "$$\n",
    "    2 H_R(q,p):= p^\\top A p + q^\\top B q + \n",
    "    \\sum_{1\\leq k \\leq 4} \\alpha_k \\delta^{2k} p^\\top A (BA)^k p + \\sum_{1\\leq k \\leq 5} \\beta_k \\delta^{2k} q^\\top B (AB)^k q \n",
    "$$\n",
    "\n",
    "with coefficients $(\\alpha_1,\\cdots,\\alpha_4) \\approx (- 0.333496,-0.164001,0.0319671,0.00919193)$, and $(\\beta_1,\\cdots,\\beta_5) \\approx (- 0.333496, -0.0878906, 0.0630550,0.00539940,0.00419557)$. These coefficients are algebraic numbers with explicit (but longish) expressions. \n",
    "\n",
    "*CFL condition.*  Noting that $\\alpha_3,\\alpha_4,\\beta_3,\\beta_4,\\beta_5\\geq 0$, and that the corresponding sum terms are positive semi-definite. We thus arrive at the CFL condition\n",
    "\\begin{align*}\n",
    "    1 &\\geq \\alpha_1(\\delta/\\tau)^2 + \\alpha_2(\\delta/\\tau)^4, &\n",
    "    1 &\\geq \\beta_1(\\delta/\\tau)^2 + \\beta_2(\\delta/\\tau)^4,\n",
    "\\end{align*}\n",
    "which holds provided $\\delta \\leq k \\tau$ with $k \\approx 1.28596$.\n",
    "\n",
    "\n",
    "\n",
    "\n",
    "<!---\n",
    "\\begin{align*}\n",
    "\\delta &\\leq \\tau / \\sqrt{\\alpha}, & \\alpha &= 0.333496\\ldots\n",
    "\\end{align*}\n",
    "\n",
    "\n",
    "with coefficients $(\\alpha_1,\\cdots,\\alpha_4) \\approx (- 0.33349609375,-0.16400146484375,0.0319671630859375,0.009191930294036865)$, and $(\\beta_1,\\cdots,\\beta_5) \\approx (- 0.33349609375, -0.087890625, 0.06305503845214844,0.0053994059562683105,0.0041955700144171715)$.\n",
    "\n",
    "*CFL condition.* The quadratic form $H_R$ is positive definite provided $A \\geq \\alpha \\delta^2 A B A$ and $B\\geq \\alpha \\delta^2 B A B$, since the sum terms are positive semi-definite. Thus it suffices that $A^{-1} \\geq \\alpha \\delta^2 B$, which itself is a consequence of \n",
    "$\n",
    "\\delta \\leq \\tau / \\sqrt{\\alpha}\n",
    "$\n",
    "where $\\alpha = 0.333496\\ldots$\n",
    "\n",
    "--->"
   ]
  },
  {
   "cell_type": "markdown",
   "id": "17c5a646",
   "metadata": {},
   "source": [
    "*Efficient implementation.* If the Verlet or Ruth4 scheme is iterated several times, then the first and last substeps updating $p$ can be merged. For the problem at hand, the numerical complexity of the Verlet (or Euler) scheme is dominated by $1$ matrix-vector product $B q$ for each full time step, and three such products for the Ruth4 scheme.\n",
    "\n",
    "The implementation of the Verlet and Ruth4 scheme, and corresponding perturbed Hamiltonians, are rather straightforward, but for simplicity we will use those provided within the agd library."
   ]
  },
  {
   "cell_type": "code",
   "execution_count": 10,
   "id": "d479ef4a",
   "metadata": {},
   "outputs": [
    {
     "name": "stdout",
     "output_type": "stream",
     "text": [
      "Help on function Verlet_p in module agd.ODE.hamiltonian_base:\n",
      "\n",
      "Verlet_p(self, q, p, δ, niter=1)\n",
      "    niter time steps of the symplectic Verlet scheme.\n",
      "    Optional damping steps interleaved.\n",
      "\n",
      "Help on function HVerlet_p in module agd.ODE.hamiltonian:\n",
      "\n",
      "HVerlet_p(self, q, p, δ)\n",
      "    Modified Hamiltonian, preserved by the Verlet_p symplectic scheme\n",
      "\n"
     ]
    }
   ],
   "source": [
    "#Likewise replacing Verlet_p with Euler_p or Ruth4_p\n",
    "help(QuadraticHamiltonian.Verlet_p) # Scheme\n",
    "help(QuadraticHamiltonian.HVerlet_p) # Perturbed Hamiltonian"
   ]
  },
  {
   "cell_type": "markdown",
   "id": "a94462a9",
   "metadata": {},
   "source": [
    "**Conclusion on the CFL.**\n",
    "Denote by $k$ the order in space, and by $l$ the order in time. Then the CFL stability condition with the schemes above takes the form\n",
    "$$\n",
    "    \\delta \\leq a_k b_l c h,\n",
    "$$\n",
    "where $c:=\\sqrt{D/\\rho}$ is the velocity of waves,\n",
    "with the constants $a_2=1/2$, $a_4=1/\\sqrt{6}$, $b_2=2$, $b_4 \\approx 1.28596$. \n",
    "\n",
    "In the most favourable case of a second order scheme in space and time, we obtain $\\delta \\leq c h$. In the least favourable case, of a fourth order scheme in space and time,  $\\delta \\leq c h /2$ is a sufficient condition."
   ]
  },
  {
   "cell_type": "code",
   "execution_count": 86,
   "id": "d772061d",
   "metadata": {
    "editable": true,
    "slideshow": {
     "slide_type": ""
    },
    "tags": []
   },
   "outputs": [],
   "source": [
    "def CFL_mult(order_x=2,order_t=2):\n",
    "    \"\"\"CFL factor coming from the order of the time and spatial discretizations\"\"\"\n",
    "    return (None,None,1/2,None,1/np.sqrt(6),None,1/3)[order_x] * (None,2,2,None,1.28596)[order_t] \n",
    "    # TODO : order_x==6 likely invalid, compute and replace\n",
    "    \n",
    "def CFL1a(ρ,D,dx,**kwargs):\n",
    "    \"\"\"\n",
    "    CFL condition for the one-dimensional acoustic wave equation.\n",
    "    Constant τ such that A^-1 >= τ B.\n",
    "    kwargs : see CFL1a\n",
    "    \"\"\"\n",
    "    return dx * np.sqrt(np.min(ρ/D)) * CFL_mult(**kwargs)"
   ]
  },
  {
   "cell_type": "markdown",
   "id": "11158d44",
   "metadata": {},
   "source": [
    "### 1.3 Constant coefficients\n",
    "\n",
    "The exact solution of the one-dimensional wave equation with constant coefficients is a superposition of two travelling waves\n",
    "\\begin{align*}\n",
    "    q(t,x) &= q_-(x+ct) + q_+(x-ct), &\n",
    "    p(t,x) &= \\rho \\partial_t q = \\rho c (q'_-(x+ct)-q'_+(x-ct)),\n",
    "\\end{align*}\n",
    "for suitable $q_-$ and $q_+$. Note that $\\rho c = \\sqrt{\\rho D}$.\n",
    "\n",
    "We run such an numerical example below, so as to assess the correctness of our scheme."
   ]
  },
  {
   "cell_type": "code",
   "execution_count": 12,
   "id": "d4da5967",
   "metadata": {
    "editable": true,
    "slideshow": {
     "slide_type": ""
    },
    "tags": [
     "ExportCode"
    ]
   },
   "outputs": [],
   "source": [
    "def deriv(f,s):\n",
    "    \"\"\"Evaluate the derivative f'(s) of a univariate function f\"\"\"\n",
    "    s_ad = ad.Dense.identity(constant=s,shape_free=tuple())\n",
    "    return f(s_ad).gradient(0) # Automatic differentiation"
   ]
  },
  {
   "cell_type": "code",
   "execution_count": 13,
   "id": "1462eb60",
   "metadata": {
    "editable": true,
    "slideshow": {
     "slide_type": ""
    },
    "tags": []
   },
   "outputs": [],
   "source": [
    "def ExactSol1a(ρ,D,qm,qp):\n",
    "    \"\"\"Exact solution of the one dimensional acoustic wave equation.\"\"\"\n",
    "    c=np.sqrt(D/ρ)\n",
    "    def q(t,x): return qm(x+c*t)+qp(x-c*t)\n",
    "    def p(t,x): return ρ*c*deriv(qm,x+c*t) - deriv(qp,x-c*t)\n",
    "    return q,p"
   ]
  },
  {
   "cell_type": "code",
   "execution_count": 14,
   "id": "7f24ab9f",
   "metadata": {},
   "outputs": [],
   "source": [
    "def qm0(x): return 2*np.cos(4*π*x+1.)+np.cos(8*π*x+2.)\n",
    "def qp0(x): return 3*np.cos(2*π*x+2.)+np.cos(6*π*x+5.)+0.5*np.cos(10*π*x+3.)"
   ]
  },
  {
   "cell_type": "code",
   "execution_count": 24,
   "id": "023feae7",
   "metadata": {
    "editable": true,
    "slideshow": {
     "slide_type": ""
    },
    "tags": []
   },
   "outputs": [],
   "source": [
    "# Parameters\n",
    "X,dx = make_domain1(100)\n",
    "ρ=1; D=1;\n",
    "order_x = 2; order_t = 2\n",
    "\n",
    "# Time step\n",
    "dt_max = CFL1a(ρ,D,dx,order_x=order_x,order_t=order_t)\n",
    "dt = 0.6*dt_max\n",
    "\n",
    "# Initial conditions\n",
    "q_exact,p_exact = ExactSol1a(ρ,D,qm0,qp0)\n",
    "q0 = q_exact(0,X)\n",
    "p0 = p_exact(0,X)\n",
    "\n",
    "# Hamiltonian\n",
    "WaveH = Hamiltonian1a(ρ,D,X,dx,order=order_x)"
   ]
  },
  {
   "cell_type": "code",
   "execution_count": 25,
   "id": "9f19ce91",
   "metadata": {},
   "outputs": [],
   "source": [
    "plt.title(\"Initial conditions\")\n",
    "plt.plot(X,q0,label=\"q(t=0)\")\n",
    "plt.plot(X,p0/(2*π),label=\"p(t=0)\")\n",
    "plt.legend();"
   ]
  },
  {
   "cell_type": "markdown",
   "id": "e708c05b",
   "metadata": {},
   "source": [
    "Set parameters and compute total evolution time."
   ]
  },
  {
   "cell_type": "code",
   "execution_count": 26,
   "id": "836a4cf9",
   "metadata": {},
   "outputs": [],
   "source": [
    "niter=100\n",
    "T = niter * dt\n",
    "q1_exact = q_exact(T,X)\n",
    "p1_exact = p_exact(T,X)"
   ]
  },
  {
   "cell_type": "markdown",
   "id": "4d0c7f88",
   "metadata": {},
   "source": [
    "Solve the ODE numerically. See [how to make nice animations in this notebook](Time1D_div.ipynb)."
   ]
  },
  {
   "cell_type": "code",
   "execution_count": 27,
   "id": "b1ea7835",
   "metadata": {},
   "outputs": [],
   "source": [
    "q1,p1 = WaveH.Verlet_p(q0,p0,dt,niter=100)"
   ]
  },
  {
   "cell_type": "markdown",
   "id": "4d7da7aa",
   "metadata": {},
   "source": [
    "The discretized Hamiltonian varies a little bit."
   ]
  },
  {
   "cell_type": "code",
   "execution_count": 28,
   "id": "092b12bc",
   "metadata": {},
   "outputs": [
    {
     "name": "stdout",
     "output_type": "stream",
     "text": [
      "Discrete Hamiltonian. initial=110849.57373439583, final=110850.15226498106.\n"
     ]
    }
   ],
   "source": [
    "print(f\"Discrete Hamiltonian. initial={WaveH.H(q0,p0)}, final={WaveH.H(q1,p1)}.\") "
   ]
  },
  {
   "cell_type": "markdown",
   "id": "4fbf7a2e",
   "metadata": {},
   "source": [
    "Whereas the perturbed Hamiltonian is exactly conserved by the evolution, up to machine precision."
   ]
  },
  {
   "cell_type": "code",
   "execution_count": 29,
   "id": "05516de5",
   "metadata": {},
   "outputs": [
    {
     "name": "stdout",
     "output_type": "stream",
     "text": [
      "Discrete perturbed Hamiltonian. initial=110653.06941303881, final=110653.06941303881.\n"
     ]
    }
   ],
   "source": [
    "print(f\"Discrete perturbed Hamiltonian. initial={WaveH.HVerlet_p(q0,p0,dt)}, final={WaveH.HVerlet_p(q1,p1,dt)}.\")"
   ]
  },
  {
   "cell_type": "code",
   "execution_count": 30,
   "id": "38dd4a6b",
   "metadata": {},
   "outputs": [],
   "source": [
    "plt.title(f\"Exact and numerical momentum, {niter=} time steps\")\n",
    "plt.plot(X,q1,label=\"q_num\")\n",
    "plt.plot(X,q1_exact,label=\"q_exact\")\n",
    "\n",
    "plt.plot(X,p1/(2*π),label=\"p_num\")\n",
    "plt.plot(X,p1_exact/(2*π),label=\"p_exact\")\n",
    "plt.legend();"
   ]
  },
  {
   "cell_type": "code",
   "execution_count": 31,
   "id": "efadefff",
   "metadata": {},
   "outputs": [
    {
     "name": "stdout",
     "output_type": "stream",
     "text": [
      "Max relative error, position q : 0.0093\n",
      "Max relative error, momentum p : 0.019\n"
     ]
    }
   ],
   "source": [
    "print(f\"Max relative error, position q : {norm(q1-q1_exact,np.inf)/norm(q1_exact,np.inf):.2g}\")\n",
    "print(f\"Max relative error, momentum p : {norm(p1-p1_exact,np.inf)/norm(p1_exact,np.inf):.2g}\")"
   ]
  },
  {
   "cell_type": "markdown",
   "id": "b09126fb",
   "metadata": {},
   "source": [
    "Let us test the other schemes, systematically.\n",
    "We confirm that the relevant perturbed discrete Hamiltonian is preserved up to machine precision, and we see that using the 4th order scheme in space and time is approximately $80\\times$ more accurate than using the 2nd order scheme in time and space, for this (easy) example."
   ]
  },
  {
   "cell_type": "code",
   "execution_count": 32,
   "id": "43049359",
   "metadata": {},
   "outputs": [
    {
     "name": "stdout",
     "output_type": "stream",
     "text": [
      "Parameters dx=0.01, dt=0.003149945829629456, niter=100, ρ=1, D=1.\n",
      "\n",
      "Parameters order_x=2, order_t=1\n",
      "H_relerr=9.2e-16, q1_relerr=0.013, p1_relerr=0.04\n",
      "Parameters order_x=2, order_t=2\n",
      "H_relerr=-3.9e-16, q1_relerr=0.0058, p1_relerr=0.018\n",
      "Parameters order_x=2, order_t=4\n",
      "H_relerr=1.4e-12, q1_relerr=0.0067, p1_relerr=0.019\n",
      "Parameters order_x=4, order_t=1\n",
      "H_relerr=-5.2e-16, q1_relerr=0.015, p1_relerr=0.024\n",
      "Parameters order_x=4, order_t=2\n",
      "H_relerr=-5.2e-16, q1_relerr=0.00081, p1_relerr=0.0015\n",
      "Parameters order_x=4, order_t=4\n",
      "H_relerr=1.2e-14, q1_relerr=7.6e-05, p1_relerr=0.00023\n",
      "Parameters order_x=6, order_t=1\n",
      "H_relerr=0, q1_relerr=0.015, p1_relerr=0.023\n",
      "Parameters order_x=6, order_t=2\n",
      "H_relerr=-2.6e-16, q1_relerr=0.00088, p1_relerr=0.0016\n",
      "Parameters order_x=6, order_t=4\n",
      "H_relerr=-1e-15, q1_relerr=9.6e-06, p1_relerr=2.6e-05\n"
     ]
    }
   ],
   "source": [
    "dt_max = CFL1a(ρ,D,dx,order_x=4,order_t=4) \n",
    "dt = 0.6*dt_max\n",
    "niter=100\n",
    "T = niter * dt\n",
    "q1_exact = q_exact(T,X); q1_norm = norm(q1_exact,np.inf)\n",
    "p1_exact = p_exact(T,X); p1_norm = norm(p1_exact,np.inf)\n",
    "\n",
    "print(f\"Parameters {dx=}, {dt=}, {niter=}, {ρ=}, {D=}.\\n\")\n",
    "for order_x in (2,4,6):\n",
    "    WaveH = Hamiltonian1a(ρ,D,X,dx,order=order_x)\n",
    "    for order_t in (1,2,4):\n",
    "        print(f\"Parameters {order_x=}, {order_t=}\")\n",
    "        q1,p1 = WaveH.Sympl_p(q0,p0,dt,niter=niter,order=order_t)\n",
    "        H_num = WaveH.H_p(q1,p1,dt,order=order_t)\n",
    "        H_exact = WaveH.H_p(q0,p0,dt,order=order_t)\n",
    "        H_relerr = (H_num-H_exact)/H_exact\n",
    "        q1_relerr = norm(q1-q1_exact,np.inf)/q1_norm\n",
    "        p1_relerr = norm(p1-p1_exact,np.inf)/p1_norm\n",
    "        print(f\"{H_relerr=:.2g}, {q1_relerr=:.2g}, {p1_relerr=:.2g}\")\n",
    "        assert allclose(H_exact,H_num)"
   ]
  },
  {
   "cell_type": "markdown",
   "id": "d0bb7123",
   "metadata": {},
   "source": [
    "### 1.4 Acoustic change of variables\n",
    "\n",
    "**Abstract change of variables framework.**\n",
    "Consider a Hamiltonian $H : E \\times E^* \\to \\bR$, where $E$ is some (topological) vector space, and $E^*$ denotes its dual, and let $q : [0,T] \\to E$ and $p : [0,T] \\to E^*$. Let also $A \\in L(E)$ be a linear invertible operator, and define \n",
    "\\begin{align*}\n",
    "    \\tilde q &:= A^{-1} q, &\n",
    "    \\tilde p &:= A^\\top p, &\n",
    "    \\tilde H(\\tilde q,\\tilde p) := H(A \\tilde q, A^{-1} \\tilde p).\n",
    "\\end{align*}\n",
    "\n",
    "Then clearly the duality bracket and Hamiltonian obey\n",
    "\\begin{align*}\n",
    "    \\<\\tilde p,\\tilde q\\> &= \\<p,q\\>, &\n",
    "    \\tilde H(q,p) &= H(q,p),\n",
    "\\end{align*}\n",
    "and $(q,p)$ is a solution to the Hamilton ODEs for $H$, iff $(\\tilde q,\\tilde p)$ is a solution to the Hamilton ODEs for $\\tilde H$. \n",
    "\n",
    "**Acoustic change of variables in the wave equation.**\n",
    "Consider the Hamiltonian \n",
    "$$\n",
    "2 H(q,p) := \\int_X \\frac {p^2} \\rho + |\\nabla q|^2_D,\n",
    "$$\n",
    "where $\\rho>0$ is a density field and $D\\succ 0$ is a field symmetric positive definite matrices, over a domain $X$ (with e.g. periodic boundary conditions for simplicity). \n",
    "\n",
    "Let also $\\vp : X \\to X$ be a diffeomorphism (with positive orientation), $E := L^2(X)$, and $A \\in L(E)$ be defined by $A^{-1} q := q\\circ \\vp$. Then, based on the above general framework, the following change of variables leaves Hamilton's ODEs invariant:\n",
    "\\begin{align*}\n",
    "    \\tilde q &:= q \\circ \\vp, &\n",
    "    \\tilde p &:= p \\circ \\vp\\ J, &\n",
    "    \\tilde \\rho &:= \\rho \\circ \\vp \\ J, &\n",
    "    \\tilde D &:= \\Phi^{-1} D \\Phi^{-\\top} \\ J,\n",
    "\\end{align*}\n",
    "where $\\Phi := \\Diff \\vp$ denotes the Jacobian matrix, and $J := \\det \\Phi$ the Jacobian determinant.\n",
    "\n",
    "**One dimensional case.**\n",
    "The Jacobian derivative has shape $1 \\times 1$, hence $\\Phi = J = \\vp'$, and thus the change of variables\n",
    "\\begin{align*}\n",
    "    \\tilde q &:= q \\circ \\vp, &\n",
    "    \\tilde p &:= p \\circ \\vp\\ \\vp', &\n",
    "    \\tilde \\rho &:= \\rho \\circ \\vp \\ \\vp', &\n",
    "    \\tilde D &:= D / \\vp'.\n",
    "\\end{align*}\n",
    "\n",
    "We numerically validate our numerical scheme, with non-constant coefficients, using the previous exact solution and some arbitrary but smooth change of variables in the torus."
   ]
  },
  {
   "cell_type": "code",
   "execution_count": 33,
   "id": "df594ca9",
   "metadata": {},
   "outputs": [],
   "source": [
    "def ϕ_fun(x): return x + 0.7*np.sin(2*π*x+1)/(2*π) - 0.2*np.sin(6*π*x+4)/(6*π)"
   ]
  },
  {
   "cell_type": "code",
   "execution_count": 34,
   "id": "2634560f",
   "metadata": {
    "editable": true,
    "slideshow": {
     "slide_type": ""
    },
    "tags": []
   },
   "outputs": [],
   "source": [
    "X,dx = make_domain1(100)\n",
    "ϕ = ϕ_fun(X)\n",
    "dϕ = deriv(ϕ_fun,X)"
   ]
  },
  {
   "cell_type": "code",
   "execution_count": 35,
   "id": "51554d26",
   "metadata": {
    "editable": true,
    "slideshow": {
     "slide_type": ""
    },
    "tags": []
   },
   "outputs": [],
   "source": [
    "plt.title(\"Change of variable ϕ and its derivative\")\n",
    "X,dx = make_domain1(100)\n",
    "plt.plot(X,ϕ,label=\"ϕ\")\n",
    "plt.plot(X,dϕ,label=\"ϕ'\")\n",
    "plt.legend();"
   ]
  },
  {
   "cell_type": "markdown",
   "id": "16428f1f",
   "metadata": {},
   "source": [
    "We now define the modified coefficients and solution, associated to the one-dimensional acoustic change of variables. First as functions.\n",
    "\n",
    "<!---\n",
    "def tq_exact(x,*args,**kwargs): return q_exact(ϕ(x),*args,**kwargs)\n",
    "def tp_exact(x,*args,**kwargs): return p_exact(ϕ(x),*args,**kwargs)\n",
    "--->"
   ]
  },
  {
   "cell_type": "code",
   "execution_count": 36,
   "id": "a84a0b87",
   "metadata": {},
   "outputs": [],
   "source": [
    "# One dimensional Acoustic change of variables\n",
    "def tq1a(q,ϕ,dϕ): return q(ϕ) \n",
    "def tp1a(p,ϕ,dϕ): return p(ϕ)*dϕ\n",
    "def tρ1a(ρ,ϕ,dϕ): return ρ(ϕ)*dϕ\n",
    "def tD1a(D,ϕ,dϕ): return D(ϕ)/dϕ"
   ]
  },
  {
   "cell_type": "markdown",
   "id": "0d733c65",
   "metadata": {},
   "source": [
    "Now the same, but as numerical arrays."
   ]
  },
  {
   "cell_type": "code",
   "execution_count": 37,
   "id": "834a69f0",
   "metadata": {},
   "outputs": [],
   "source": [
    "# PDE coefficients\n",
    "tρ = tρ1a(lambda x:ρ,ϕ,dϕ)\n",
    "tD = tD1a(lambda x:D,ϕ,dϕ)\n",
    "\n",
    "# Time step and total time\n",
    "dt_max = CFL1a(tρ,tD,dx)\n",
    "dt = 0.4*dt_max # Will be admissible for all orders\n",
    "niter = 200\n",
    "T = niter*dt\n",
    "\n",
    "# PDE initial condition and solution\n",
    "def tq_exact(t): return tq1a(lambda x:q_exact(t,x),ϕ,dϕ)\n",
    "def tp_exact(t): return tp1a(lambda x:p_exact(t,x),ϕ,dϕ)\n",
    "tq0 = tq_exact(0)\n",
    "tp0 = tp_exact(0)\n",
    "tq1_exact = tq_exact(T)\n",
    "tp1_exact = tp_exact(T)\n",
    "\n",
    "# Hamiltonian\n",
    "order_x = 2; order_t = 2\n",
    "tWaveH = Hamiltonian1a(tρ,tD,X,dx,order=order_x)"
   ]
  },
  {
   "cell_type": "markdown",
   "id": "ca11bd89",
   "metadata": {},
   "source": [
    "Let us run the symplectic Verlet scheme, and compare the solutions. "
   ]
  },
  {
   "cell_type": "code",
   "execution_count": 38,
   "id": "3d2b83e0",
   "metadata": {},
   "outputs": [],
   "source": [
    "tq1,tp1 = tWaveH.Verlet_p(tq0,tp0,dt,niter)"
   ]
  },
  {
   "cell_type": "code",
   "execution_count": 39,
   "id": "90ae0be4",
   "metadata": {},
   "outputs": [],
   "source": [
    "plt.title(\"Exact and approximate solutions, acoustic change of vars\")\n",
    "plt.plot(X,tq1,label='q_num')\n",
    "plt.plot(X,tq1_exact,label='q_exact')\n",
    "plt.plot(X,tp1/(2*π),label='p_num')\n",
    "plt.plot(X,tp1_exact/(2*π),label='p_exact')\n",
    "plt.legend();"
   ]
  },
  {
   "cell_type": "markdown",
   "id": "c6fca7ed",
   "metadata": {},
   "source": [
    "As before, we test the numerical schemes of various orders systematically.\n",
    "Fourth order is approximately $45\\times$ more accurate than second order (in space and time)."
   ]
  },
  {
   "cell_type": "code",
   "execution_count": 41,
   "id": "22a73778",
   "metadata": {},
   "outputs": [
    {
     "name": "stdout",
     "output_type": "stream",
     "text": [
      "Parameters dx=0.01, dt=0.0009025984923544046, niter=200.\n",
      "\n",
      "Parameters order_x=2, order_t=1\n",
      "H_relerr=-3.9e-16, q1_relerr=0.01, p1_relerr=0.015\n",
      "Parameters order_x=2, order_t=2\n",
      "H_relerr=1.7e-15, q1_relerr=0.013, p1_relerr=0.01\n",
      "Parameters order_x=2, order_t=4\n",
      "H_relerr=7.2e-15, q1_relerr=0.013, p1_relerr=0.01\n",
      "Parameters order_x=4, order_t=1\n",
      "H_relerr=1.3e-16, q1_relerr=0.0045, p1_relerr=0.0049\n",
      "Parameters order_x=4, order_t=2\n",
      "H_relerr=2.6e-16, q1_relerr=0.00024, p1_relerr=0.00044\n",
      "Parameters order_x=4, order_t=4\n",
      "H_relerr=-2.2e-15, q1_relerr=0.00028, p1_relerr=0.00044\n",
      "Parameters order_x=6, order_t=1\n",
      "H_relerr=-1.3e-15, q1_relerr=0.0045, p1_relerr=0.0047\n",
      "Parameters order_x=6, order_t=2\n",
      "H_relerr=-1.6e-15, q1_relerr=3.7e-05, p1_relerr=6.7e-05\n",
      "Parameters order_x=6, order_t=4\n",
      "H_relerr=-2.6e-15, q1_relerr=8.9e-06, p1_relerr=2.7e-05\n"
     ]
    }
   ],
   "source": [
    "tq1_norm = norm(tq1_exact,np.inf)\n",
    "tp1_norm = norm(tp1_exact,np.inf)\n",
    "print(f\"Parameters {dx=}, {dt=}, {niter=}.\\n\")\n",
    "for order_x in (2,4,6):\n",
    "    WaveH = Hamiltonian1a(tρ,tD,X,dx,order=order_x)\n",
    "    for order_t in (1,2,4):\n",
    "        print(f\"Parameters {order_x=}, {order_t=}\")\n",
    "        tq1,tp1 = WaveH.Sympl_p(tq0,tp0,dt,niter=niter,order=order_t)\n",
    "        H_num = WaveH.H_p(tq1,tp1,dt,order=order_t)\n",
    "        H_exact = WaveH.H_p(tq0,tp0,dt,order=order_t)\n",
    "        H_relerr = (H_num-H_exact)/H_exact\n",
    "        q1_relerr = norm(tq1-tq1_exact,np.inf)/tq1_norm\n",
    "        p1_relerr = norm(tp1-tp1_exact,np.inf)/tp1_norm\n",
    "        print(f\"{H_relerr=:.2g}, {q1_relerr=:.2g}, {p1_relerr=:.2g}\")\n",
    "        assert allclose(H_exact,H_num)"
   ]
  },
  {
   "cell_type": "markdown",
   "id": "2919723f",
   "metadata": {},
   "source": [
    "### 1.5 Elastic change of variables\n",
    "\n",
    "The Hamiltonian of the elastic wave equation, slightly generalized to account for possible anisotropies, reads\n",
    "\\begin{align*}\n",
    "    2 H(q,p) &= \\int_X |p|^2_M + |\\ve|^2_C, &\n",
    "    \\ve = \\frac 1 2 (\\Diff q + \\Diff q^\\top) - S q,\n",
    "\\end{align*}\n",
    "where we denoted:\n",
    "- $X$ a $d$-dimensional domain, with e.g. periodic boundary conditions for simplicity.\n",
    "- $M$ a field of symmetric positive definite matrices. In default Cartesian coordinates one has $M = \\Id/\\rho$ where $\\rho$ is the material density.\n",
    "- $C$ is the Hooke elasticity tensor, which can be regarded as a positive quadratic form over the space $\\cS_d$ of symmetric matrices. \n",
    "- $\\ve$ is the strain tensor.\n",
    "- $S$ is, at each point of the domain, a linear mapping from $\\bR^d$ to the set of symmetric matrices $\\cS_d$. In default Cartesian coordinates one has $S = 0$. \n",
    "\n",
    "Let $\\vp$ be a diffeomorphism of $X$, with positive orientation, and let $\\Phi := \\Diff \\phi$ and $J := \\det \\Phi$ be the Jacobian matrix and determinant. Define the change of coordinates $A^{-1} q := \\Phi^\\top q \\circ \\vp$. \n",
    "\n",
    "Note that the presence of the transposed Jacobian $\\Phi^\\top$ in the latter formula means that $q$ is *dual* to an infinitesimal displacement, which may sound peculiar. The usual interpretation as a displacement is recovered if $M = \\Id/\\rho$, i.e. when the ambiant space is equipped with the Euclidean metric rather than a general metric.\n",
    "\n",
    "Then, based on the abstract formulation exposed in the previous section, we find that Hamilton's ODEs are invariant under the following change of coordinates:\n",
    "\\begin{align*}\n",
    "    \\tilde q &= \\Phi^\\top \\ q \\circ \\vp, &\n",
    "    \\tilde p &= \\Phi^{-1} \\ p \\circ \\vp \\ J, &\n",
    "    \\tilde M &= \\Phi^\\top \\ M\\circ \\vp \\ \\Phi / J, &\n",
    "    \\tilde \\ve &= \\Phi^\\top \\ \\ve \\circ \\vp \\ \\Phi.\n",
    "\\end{align*}\n",
    "Denoting $\\Psi := \\Phi^{-1}$ we also have in coordinates \n",
    "\\begin{align*}\n",
    "    \\tilde C_{ijkl} &:= \\sum_{i'j'k'l'} C_{i'j'k'l'} \\circ \\vp \\ \\Psi^{i'}_i \\Psi^{j'}_j \\Psi^{k'}_k \\Psi^{l'}_l \\ J,&\n",
    "    \\tilde S_{ij}^k &= \\sum_{i'j'} \\Phi^{i}_{i'} \\Phi^{j}_{j'} \\ S^{i'j'}_{k'}\\circ \\vp \\ \\Psi_k^{k'} \n",
    "    {+} \\sum_{k'} \\partial^{ij}\\phi_{k'} \\Psi_k^{k'}.\n",
    "\\end{align*}\n",
    "The validity of these transformations is numerically assessed in [3.2 Change of variables for the elastic wave equation](#3.2-Change-of-variables).\n",
    "\n",
    "**Getting rid of $S$.**\n",
    "Using an integration by parts, with suitable boundary conditions, one can eliminate the term $S$ from the above model and replace it with a zero-th order term $\\<q,T q\\>$ in the Hamiltonian for some suitable symmetric matrix $T$. However, this reformulation has drawbacks:\n",
    "- $T$ is not a positive nor a negative matrix in general, and corresponding Hamiltonian therefore needs not be positive locally.\n",
    "- the expression of $T$ involves derivatives of the tensor $C$, which may not be available, or unstable if obtained through finite differences, if $C$ is given as a data array.\n",
    "\n",
    "**One dimensional case.**\n",
    "The Jacobian derivative has shape $1 \\times 1$, hence $\\Phi = J = \\vp'$, and thus the change of variables\n",
    "\\begin{align*}\n",
    "    \\tilde q &= \\vp' q \\circ \\vp, &\n",
    "    \\tilde p &= p \\circ \\vp, &\n",
    "    \\tilde M &= \\vp' M\\circ \\vp, &\n",
    "    \\tilde C &= (\\vp')^{-3} C\\circ \\vp, &\n",
    "    \\tilde S &= (\\vp')^2 S\\circ \\vp + \\vp''/\\vp'.\n",
    "\\end{align*}\n",
    "\n",
    "We numerically validate our numerical scheme, with non-constant coefficients, using the previous exact solution and some arbitrary but smooth change of variables.\n",
    "\n",
    "<!---\n",
    "In addition, we can set $\\tilde \\rho = 1/\\tilde M = 1/ (\\vp' M\\circ \\vp) = \\rho \\circ \\vp / \\vp'$ (note that $\\rho$ is not properly speaking a density here).\n",
    "--->"
   ]
  },
  {
   "cell_type": "code",
   "execution_count": 42,
   "id": "1456a1d2",
   "metadata": {
    "editable": true,
    "slideshow": {
     "slide_type": ""
    },
    "tags": []
   },
   "outputs": [],
   "source": [
    "def deriv2(ϕ,x): # Compute derivative via automatic differentiation\n",
    "    \"\"\"Returns value, derivative, second order derivative, of univariate function\"\"\"\n",
    "    x_ad = ad.Dense2.identity(constant=x,shape_free=tuple())\n",
    "    ϕ_ad = ϕ(x_ad)\n",
    "    return ϕ_ad.value, ϕ_ad.gradient(0), ϕ(x_ad).hessian(0,0)"
   ]
  },
  {
   "cell_type": "code",
   "execution_count": null,
   "id": "5f8479dc-72cb-4df4-92d8-7b7dd416e650",
   "metadata": {
    "editable": true,
    "slideshow": {
     "slide_type": ""
    },
    "tags": []
   },
   "outputs": [],
   "source": [
    "ϕ,dϕ,d2ϕ = deriv2(ϕ_fun,X)"
   ]
  },
  {
   "cell_type": "code",
   "execution_count": 43,
   "id": "f1ceef45",
   "metadata": {},
   "outputs": [],
   "source": [
    "# One dimensional Elastic change of variables\n",
    "def tq1e(q,ϕ,dϕ): return q(ϕ)*dϕ\n",
    "def tp1e(p,ϕ,dϕ): return p(ϕ)\n",
    "def tM1e(M,ϕ,dϕ): return M(ϕ)*dϕ\n",
    "def tC1e(C,ϕ,dϕ): return C(ϕ)*dϕ**-3\n",
    "def tS1e(S,ϕ,dϕ,d2ϕ): return S(ϕ)*dϕ**2 + d2ϕ/dϕ"
   ]
  },
  {
   "cell_type": "code",
   "execution_count": 44,
   "id": "507e6399",
   "metadata": {},
   "outputs": [],
   "source": [
    "plt.plot(X,ϕ,label=\"ϕ\")\n",
    "plt.plot(X,dϕ/(2*π),label=\"ϕ'\")\n",
    "plt.plot(X,d2ϕ/(2*π)**2,label=\"ϕ''\")\n",
    "plt.legend();"
   ]
  },
  {
   "cell_type": "markdown",
   "id": "a2aeff4f",
   "metadata": {},
   "source": [
    "In one dimension, the acoustic and the elastic Hamiltonians are equivalent, up to the following (physically inhomogeneous) substitutions : $\\rho = 1/M$, $D = C$."
   ]
  },
  {
   "cell_type": "code",
   "execution_count": 45,
   "id": "4ffe62d3",
   "metadata": {
    "editable": true,
    "slideshow": {
     "slide_type": ""
    },
    "tags": []
   },
   "outputs": [],
   "source": [
    "M=1/ρ\n",
    "C=D\n",
    "def Hamiltonian1e(M,C,*args,**kwargs):\n",
    "    \"\"\"\n",
    "    Hamiltonian of the one dimensional elastic wave equation.\n",
    "    See Hamiltonian1a for args, kwargs.\n",
    "    \"\"\"\n",
    "    return Hamiltonian1a(1/M,C,*args,**kwargs)\n",
    "def ExactSol1e(M,C,*args,**kwargs):\n",
    "    \"\"\"\n",
    "    Exact solution of the one dimensional elastic wave equation.\n",
    "    SeeExactSol1a for args, kwargs.\n",
    "    \"\"\"\n",
    "    return ExactSol1a(1/M,C,*args,**kwargs)\n",
    "def CFL1e(M,C,*args,**kwargs):\n",
    "    \"\"\"\n",
    "    CFL condition for the one dimensional elastic wave equation.\n",
    "    See CFL1a for args, kwargs.\n",
    "    \"\"\"\n",
    "    return CFL1a(1/M,C,*args,**kwargs)"
   ]
  },
  {
   "cell_type": "markdown",
   "id": "466544a3",
   "metadata": {},
   "source": [
    "Now let us compare the exact and numerical solutions."
   ]
  },
  {
   "cell_type": "code",
   "execution_count": 46,
   "id": "da60a68d",
   "metadata": {
    "editable": true,
    "slideshow": {
     "slide_type": ""
    },
    "tags": []
   },
   "outputs": [],
   "source": [
    "# PDE coefficients\n",
    "tM = tM1e(lambda x:M,ϕ,dϕ)\n",
    "tC = tC1e(lambda x:C,ϕ,dϕ)\n",
    "tS = tS1e(lambda x:0,ϕ,dϕ,d2ϕ)\n",
    "\n",
    "# Time step and total time\n",
    "dt_max = CFL1e(tM,tC,dx)\n",
    "dt = 0.6*dt_max\n",
    "niter = 200\n",
    "T = niter*dt\n",
    "\n",
    "# PDE initial condition and solution\n",
    "q_exact,p_exact = ExactSol1e(M,C,qm0,qp0)\n",
    "def tq_exact(t): return tq1e(lambda x:q_exact(t,x),ϕ,dϕ)\n",
    "def tp_exact(t): return tp1e(lambda x:p_exact(t,x),ϕ,dϕ)\n",
    "tq0 = tq_exact(0)\n",
    "tp0 = tp_exact(0)\n",
    "tq1_exact = tq_exact(T)\n",
    "tp1_exact = tp_exact(T)\n",
    "\n",
    "# Hamiltonian\n",
    "order_x = 2; order_t = 2\n",
    "tWaveH = Hamiltonian1e(tM,tC,X,dx,order=order_x,S=tS)"
   ]
  },
  {
   "cell_type": "markdown",
   "id": "c5527a1b",
   "metadata": {},
   "source": [
    "Let us check that our change of variables is correct. The duality bracket, kinetic energy, potential energy, and their sum the Hamiltonian must be conserved by the transformation (note that this is unrelated to the Hamiltonian conservation along the evolution)."
   ]
  },
  {
   "cell_type": "code",
   "execution_count": 47,
   "id": "1fc45725",
   "metadata": {
    "editable": true,
    "slideshow": {
     "slide_type": ""
    },
    "tags": []
   },
   "outputs": [
    {
     "name": "stdout",
     "output_type": "stream",
     "text": [
      "Duality bracket conservation : np.sum(p0*q0)=-6.359357485052897e-13, np.sum(tp0*tq0)=1.2505552149377763e-12\n",
      "Kinetic energy conservation : np.sum(tp0**2*tM)=111033.04951225534, np.sum(p0**2*M)=111033.04951225528\n",
      "Hamiltonian conservation : tWaveH.H(tq0,tp0)=111447.39661469353, WaveH.H(q0,p0)=110849.57373439583\n",
      "Potential energy conservation : np.sum(dq0**2 * C)=109574.40728233082, np.sum((dtq0-tS*tq0)**2 * tC)=108872.1033565989\n"
     ]
    }
   ],
   "source": [
    "WaveH = Hamiltonian1e(M,C,X,dx,order=order_x,S=0.)\n",
    "q0 = q_exact(0,X)\n",
    "p0 = p_exact(0,X)\n",
    "\n",
    "print(f\"Duality bracket conservation : {np.sum(p0*q0)=}, {np.sum(tp0*tq0)=}\")\n",
    "print(f\"Kinetic energy conservation : {np.sum(tp0**2*tM)=}, {np.sum(p0**2*M)=}\")    \n",
    "print(f\"Hamiltonian conservation : {tWaveH.H(tq0,tp0)=}, {WaveH.H(q0,p0)=}\")\n",
    "\n",
    "# We differentiate numerically here, because\n",
    "dq0,dtq0 = [(np.roll(a,-1)-np.roll(a,1))/(2*dx) for a in (q0,tq0)]\n",
    "print(f\"Potential energy conservation : {np.sum(dq0**2 * C)=}, {np.sum((dtq0-tS*tq0)**2 * tC)=}\")"
   ]
  },
  {
   "cell_type": "markdown",
   "id": "214cce54",
   "metadata": {},
   "source": [
    "Since we use a symplectic scheme, the discrete perturbed Hamiltonian is conserved along the evolution up to machine precision."
   ]
  },
  {
   "cell_type": "code",
   "execution_count": 48,
   "id": "91104ac2",
   "metadata": {},
   "outputs": [],
   "source": [
    "tq1,tp1 = tWaveH.Sympl_p(tq0,tp0,dt,niter,order_t)"
   ]
  },
  {
   "cell_type": "code",
   "execution_count": 49,
   "id": "f9e81046",
   "metadata": {},
   "outputs": [
    {
     "data": {
      "text/plain": [
       "(111437.26542555663, 111437.26542555666)"
      ]
     },
     "execution_count": 49,
     "metadata": {},
     "output_type": "execute_result"
    }
   ],
   "source": [
    "tWaveH.H_p(tq0,tp0,dt,order=order_t),tWaveH.H_p(tq1,tp1,dt,order=order_t)"
   ]
  },
  {
   "cell_type": "markdown",
   "id": "c178c9cf",
   "metadata": {},
   "source": [
    "The numerical error is a bit larger than in the previous case, likely because the PDE coefficients involve the terms $\\phi''$ and $\\phi'^{-3}$ which are large and vary quickly over the domain."
   ]
  },
  {
   "cell_type": "code",
   "execution_count": 50,
   "id": "a1f02830",
   "metadata": {},
   "outputs": [],
   "source": [
    "plt.title(\"Exact and approximate solutions, elastic change of vars\")\n",
    "plt.plot(X,tq1,label='q_num')\n",
    "plt.plot(X,tq1_exact,label='q_exact')\n",
    "plt.plot(X,tp1/(2*π),label='p_num')\n",
    "plt.plot(X,tp1_exact/(2*π),label='p_exact')\n",
    "plt.legend();"
   ]
  },
  {
   "cell_type": "markdown",
   "id": "d951a8ab",
   "metadata": {},
   "source": [
    "The fourth order scheme (in time and space) reduces error by approximately $40\\times$ w.r.t the second order scheme."
   ]
  },
  {
   "cell_type": "code",
   "execution_count": 54,
   "id": "c5233aa4",
   "metadata": {},
   "outputs": [
    {
     "name": "stdout",
     "output_type": "stream",
     "text": [
      "Parameters dx=0.01, dt=0.001353897738531607, niter=200.\n",
      "\n",
      "Parameters : order_x=2, order_t=1\n",
      "H_relerr=2.6e-16, q1_relerr=0.039, p1_relerr=0.047\n",
      "Parameters : order_x=2, order_t=2\n",
      "H_relerr=2.6e-16, q1_relerr=0.038, p1_relerr=0.055\n",
      "Parameters : order_x=2, order_t=4\n",
      "H_relerr=-1.6e-10, q1_relerr=0.038, p1_relerr=0.055\n",
      "\n",
      "Parameters : order_x=4, order_t=1\n",
      "H_relerr=-5.2e-16, q1_relerr=0.0073, p1_relerr=0.0077\n",
      "Parameters : order_x=4, order_t=2\n",
      "H_relerr=6.6e-16, q1_relerr=0.00071, p1_relerr=0.0015\n",
      "Parameters : order_x=4, order_t=4\n",
      "H_relerr=-7.8e-14, q1_relerr=0.00063, p1_relerr=0.0013\n",
      "\n",
      "Parameters : order_x=6, order_t=1\n",
      "H_relerr=-7.9e-16, q1_relerr=0.0074, p1_relerr=0.0088\n",
      "Parameters : order_x=6, order_t=2\n",
      "H_relerr=-5.2e-16, q1_relerr=0.00018, p1_relerr=0.00033\n",
      "Parameters : order_x=6, order_t=4\n",
      "H_relerr=-1e-15, q1_relerr=4.8e-05, p1_relerr=9.2e-05\n"
     ]
    }
   ],
   "source": [
    "tq1_norm = norm(tq1_exact,np.inf)\n",
    "tp1_norm = norm(tp1_exact,np.inf)\n",
    "print(f\"Parameters {dx=}, {dt=}, {niter=}.\")\n",
    "for order_x in (2,4,6):\n",
    "    print(\"\")\n",
    "    WaveH = Hamiltonian1e(tM,tC,X,dx,order=order_x,S=tS)\n",
    "    for order_t in (1,2,4):\n",
    "        print(f\"Parameters : {order_x=}, {order_t=}\")\n",
    "        tq1,tp1 = WaveH.Sympl_p(tq0,tp0,dt,niter=niter,order=order_t)\n",
    "        H_num = WaveH.H_p(tq1,tp1,dt,order=order_t)\n",
    "        H_exact = WaveH.H_p(tq0,tp0,dt,order=order_t)\n",
    "        H_relerr = (H_num-H_exact)/H_exact\n",
    "        q1_relerr = norm(tq1-tq1_exact,np.inf)/tq1_norm\n",
    "        p1_relerr = norm(tp1-tp1_exact,np.inf)/tp1_norm\n",
    "        print(f\"{H_relerr=:.2g}, {q1_relerr=:.2g}, {p1_relerr=:.2g}\")\n",
    "        assert allclose(H_exact,H_num)"
   ]
  },
  {
   "cell_type": "markdown",
   "id": "3717eea3",
   "metadata": {},
   "source": [
    "### 1.6 Damping\n",
    "\n",
    "The computational domain for acoustic and elastic wave propagation is often only a small part of the full physical domain.\n",
    "For this reason, one needs to introduce boundary conditions that mimick an infinite domain. \n",
    "\n",
    "The state of the art methods are referred to as \"perfectly matched layers\" (PML). However, their implementation is non-trivial in our case since the geometry of the PDE varies over the domain, is anisotropic, and in the elastic case since the different propagation modes have distinct and non-convex anisotropic speed profiles. \n",
    "\n",
    "For this reason, we content ourselves with a simpler approach, which is to introduce a damping layer around the domain. This layer is intended to absorb the kinetic energy, over possibly a few wavelengths, without introducing too much reflection toward the interior of the domain.\n",
    "It is implemented as a linear term in the momentum evolution PDE:\n",
    "\\begin{align*}\n",
    "    \\dot q &= \\partial_p H, &\n",
    "    \\dot p &= -\\partial_q H - \\omega p.\n",
    "\\end{align*}\n",
    "\n",
    "**Time discretization.**\n",
    "We alternate time steps for the Hamiltonian ODE $\\dot q = \\partial_p H$, $\\dot p = -\\partial_q H$, with time steps for the damping ODE $\\dot q = 0$, $\\dot p = -\\omega p$. \n",
    "\n",
    "A timestep $\\delta$ for the damping ODE is implemented with the exact scheme\n",
    "\\begin{align*}\n",
    "    q' &= q, &\n",
    "    p' &= \\exp(-\\omega \\delta) p.\n",
    "\\end{align*}\n",
    "However, since the two ODEs do not commute, the overall alternating scheme is only second order accurate in time with the damped equation. "
   ]
  },
  {
   "cell_type": "code",
   "execution_count": 55,
   "id": "1354e130",
   "metadata": {},
   "outputs": [],
   "source": [
    "def Damp_p(p,ω,dt): return np.exp(-ω*dt)*p"
   ]
  },
  {
   "cell_type": "markdown",
   "id": "20e246ee",
   "metadata": {},
   "source": [
    "**Discrete Hamiltonian reduction with the Verlet scheme.**\n",
    "Recall that discrete perturbed Hamiltonian conserved by the Verlet scheme reads \n",
    "$$\n",
    "    2 H_V(q,p) = p^\\top A p + q^\\top (B-\\tfrac 1 4 \\delta^2 B A B)q.\n",
    "$$\n",
    "The matrix $A$, associated to the kinetic energy, is diagonal with positive entries. \n",
    "\n",
    "On the other hand, we can express the damping step as $p' = \\cD p$ where $\\cD$ is diagonal with entries in $[0,1]$ since they are negative exponentials. It follows that $(\\cD p)^\\top A (\\cD p) \\leq p^\\top A p$. \n",
    "Hence the Verlet discrete Hamiltonian decreases along the evolution, since it is preserved by the symplectic steps, and decreased by the damping steps.\n",
    "\n",
    "In contrast, the Ruth4 perturbed Hamiltonian has a more complex structure, see above. In that case the discrete perturbed kinetic energy involves the matrix $B$ which does not commute with $\\cD$. Therefore no such decreasing Hamiltonian value guarantee holds. "
   ]
  },
  {
   "cell_type": "markdown",
   "id": "49940d4c",
   "metadata": {},
   "source": [
    "**Construction of damping parameter.**\n",
    "Suppose that we want to absorb oscillating waves, with a given wavelength $l$ (or smaller), and a given velocity $c$. Denote by $k = 2 \\pi/l$ the wave number. Then heuristically, one would choose a damping parameter $\\omega$ (inverse of a time) with the following properties:\n",
    "- (Maximum damping parameter) The maximal value is $\\omega_{\\max} = k c/\\alpha = 2\\pi c/(l \\alpha)$ where $\\alpha \\gtrsim 1$, so that amplitude is approximately multiplied by $\\exp(-2 \\pi / \\alpha)$ over the wavelength $l$. This is a substantial decrease, but not too sharp  either so as to avoid reflections.\n",
    "- (Transition ramp) Damping varies from $0$ to $\\omega_{\\max}$ over a few wavelengths. Sharp or discontinuous transitions may induce reflections. \n",
    "- (Boundary layer width) The boundary layer should be a few wavelengths too.\n",
    "\n",
    "Heuristically, we can aim for an amplitude reduction by $r \\approx 500 \\approx \\exp(2 \\pi)$, achieved over $\\alpha \\log(r)/(2 \\pi) \\approx \\alpha $ wavelengths. \n",
    "Note that the damping effect of the transition ramp should be on average half as strong due to the mean value $\\omega_{\\max}/2$ of the damping parameter $\\omega$ in that region.\n",
    "\n",
    "Finally, we note that there is also potential energy, which is converted into kinetic energy over the course of one wavelength approximately. For this reason, we must double the thickness computed above. \n",
    "However, the damping region length should be counted twice, due to the periodic boundary conditions, which compensates.\n",
    "\n",
    "<!---\n",
    "For concreteness, say e.g that $\\omega$ varies over $4l$, and that $\\omega_\\max = \\pi c/l$.\n",
    "--->"
   ]
  },
  {
   "cell_type": "code",
   "execution_count": 56,
   "id": "7c10bf9e",
   "metadata": {},
   "outputs": [
    {
     "data": {
      "text/plain": [
       "535.4916555247646"
      ]
     },
     "execution_count": 56,
     "metadata": {},
     "output_type": "execute_result"
    }
   ],
   "source": [
    "np.exp(2*π)"
   ]
  },
  {
   "cell_type": "code",
   "execution_count": 57,
   "id": "c02bbbfe",
   "metadata": {},
   "outputs": [],
   "source": [
    "def bump(x,r,δ):\n",
    "    \"\"\"A bump over the interval [-r,r], with a transition over [r-δ,r+δ]\"\"\"\n",
    "    # Primitives of (1-x^2)^k : x - x**3/3, x - (2*x**3)/3 + x**5/5, x - x**3 + (3*x**5)/5 - x**7/7\n",
    "    def p(x): return x - (2*x**3)/3 + x**5/5\n",
    "    def f(x): return np.where(x<=-1,-1,np.where(x>=1,1,p(x)/p(1)))\n",
    "    return 0.5+0.5*f((r-np.abs(x))/δ)\n",
    "\n",
    "def bump_per(x,*args,**kwargs):\n",
    "    \"\"\"\n",
    "    1-periodic bump function\n",
    "    args,kwargs : see bump(x,r,δ) function\n",
    "    \"\"\"\n",
    "    return bump((x+0.5)%1-0.5,*args,**kwargs)"
   ]
  },
  {
   "cell_type": "code",
   "execution_count": 58,
   "id": "11781489",
   "metadata": {},
   "outputs": [],
   "source": [
    "plt.title(f\"Bump function\")\n",
    "plt.plot(X,bump_per(X,0.2,0.1));"
   ]
  },
  {
   "cell_type": "code",
   "execution_count": 59,
   "id": "a5f2c452",
   "metadata": {},
   "outputs": [],
   "source": [
    "def damping(X,ρ,D,k,α,r=500):\n",
    "    \"\"\"\n",
    "    X : domain\n",
    "    ρ,D : acoustic equation parameters (expecting constants)\n",
    "    k : wave number\n",
    "    α : sharpness of transition (sharp : α=1, non-sharp : α >> 1) \n",
    "    r : desired amplitude reduction\n",
    "    \"\"\"\n",
    "    c = np.sqrt(D/ρ) # Wave speed\n",
    "    ωmax = k*c/α # Maximum damping amplitude\n",
    "    L = α*np.log(r)/k # Total equivalent thickness of boundary layer\n",
    "    return ωmax * bump_per(X,L,L/2)"
   ]
  },
  {
   "cell_type": "markdown",
   "id": "95c1f080",
   "metadata": {},
   "source": [
    "In order to illustrate the damping effect, we construct an exact solution with a smaller effective support, and going only to the right."
   ]
  },
  {
   "cell_type": "code",
   "execution_count": 60,
   "id": "b3248cca",
   "metadata": {
    "editable": true,
    "slideshow": {
     "slide_type": ""
    },
    "tags": []
   },
   "outputs": [],
   "source": [
    "k = 8*2*π\n",
    "def qm1(x): return 0.*x # Multiplication by x needed for autodiff\n",
    "def qp1(x): return np.cos(k*x) * np.exp(-4*np.cos(2*π*x))\n",
    "q_exact,p_exact = ExactSol1a(ρ,D,qm1,qp1)\n",
    "\n",
    "q0 = q_exact(0,X)\n",
    "p0 = p_exact(0,X)\n",
    "ω_damp = damping(X,ρ,D,k,α=1.5)"
   ]
  },
  {
   "cell_type": "code",
   "execution_count": 61,
   "id": "c6c67cba",
   "metadata": {},
   "outputs": [],
   "source": [
    "plt.plot(X,q0,label=\"q0\")\n",
    "plt.plot(X,p0/(2*π),label=\"p0\")\n",
    "plt.plot(X,ω_damp,label=\"ω_damp\")\n",
    "plt.legend();"
   ]
  },
  {
   "cell_type": "code",
   "execution_count": 62,
   "id": "e61c0074",
   "metadata": {},
   "outputs": [],
   "source": [
    "order_x=2; order_t=2\n",
    "WaveH = Hamiltonian1a(ρ,D,X,dx,order=order_x)\n",
    "dt_max = CFL1a(ρ,D,dx)"
   ]
  },
  {
   "cell_type": "markdown",
   "id": "3e1d5cd3",
   "metadata": {},
   "source": [
    "Recall that the domain is $[0,1]$ with periodic boundary conditions. We run the wave propagation during time $T=0.3/c$, and observe that :\n",
    "- The damped and undamped waves are almost identical before the damping region.\n",
    "- The damped wave decreases sharply in amplitude in the damping region.\n",
    "- The damped wave features a small reflected wave on the left. This is an undesirable artifact of the damping method, which motivates more advanced techniques such as PML."
   ]
  },
  {
   "cell_type": "code",
   "execution_count": 63,
   "id": "670c88c4",
   "metadata": {},
   "outputs": [],
   "source": [
    "c=np.sqrt(D/ρ); T = 0.3/c\n",
    "niter = np.round(1.5*T/dt_max).astype(int)\n",
    "dt = T/niter\n",
    "\n",
    "q1_nodamp,p1_nodamp = WaveH.Sympl_p(q0,p0,dt,niter,order=order_t)\n",
    "\n",
    "q1_damp,p1_damp = q0,p0\n",
    "for i in range(niter):\n",
    "    q1_damp,p1_damp = WaveH.Sympl_p(q1_damp,p1_damp,dt,order=order_t) # Symplectic step\n",
    "    p1_damp *= np.exp(-dt*ω_damp) # Damping step"
   ]
  },
  {
   "cell_type": "code",
   "execution_count": 64,
   "id": "0f6c0413",
   "metadata": {},
   "outputs": [],
   "source": [
    "plt.title(f\"Damped and undamped waves at time {T=}\")\n",
    "plt.plot(X,q1_nodamp,label=\"q1_nodamp\")\n",
    "plt.plot(X,p1_nodamp/(2*π),label=\"p1_nodamp\")\n",
    "plt.plot(X,q1_damp,label=\"q1_damp\")\n",
    "plt.plot(X,p1_damp/(2*π),label=\"p1_damp\")\n",
    "plt.legend();"
   ]
  },
  {
   "cell_type": "markdown",
   "id": "87b524b4",
   "metadata": {},
   "source": [
    "At time $T = 1/c$ all the wave has gone through the boundary layer."
   ]
  },
  {
   "cell_type": "code",
   "execution_count": 65,
   "id": "c3697735",
   "metadata": {},
   "outputs": [],
   "source": [
    "T = 1./c\n",
    "niter = np.round(1.5*T/dt_max).astype(int)\n",
    "dt = T/niter\n",
    "\n",
    "q1_nodamp,p1_nodamp = WaveH.Sympl_p(q0,p0,dt,niter,order=order_t)\n",
    "\n",
    "q1_damp,p1_damp = q0,p0\n",
    "H_values = []\n",
    "for i in range(niter):\n",
    "    H_values.append(WaveH.H_p(q1_damp,p1_damp,dt,order=order_t)) # Save the total energy\n",
    "    q1_damp,p1_damp = WaveH.Sympl_p(q1_damp,p1_damp,dt,order=order_t) # Symplectic step\n",
    "    p1_damp *= np.exp(-dt*ω_damp) # Damping step"
   ]
  },
  {
   "cell_type": "markdown",
   "id": "26e6cd67",
   "metadata": {},
   "source": [
    "We see that the Hamiltonian:\n",
    "- Is always non-increasing. This is guaranteed by construction for the the Verlet scheme.\n",
    "- Is constant when the wave travels in an undamped region, and strictly decreasing when it goes through the damped region.\n",
    "- The first decreasing interval is due to the main wave going through the damping region, and the second one to the reflected wave going through the damping region (in the opposite direction after it travelled through the domain in reverse)."
   ]
  },
  {
   "cell_type": "code",
   "execution_count": 66,
   "id": "4e985d48",
   "metadata": {},
   "outputs": [],
   "source": [
    "plt.title(\"Hamiltonian of the damped system\")\n",
    "plt.semilogy(ad.array(H_values));"
   ]
  },
  {
   "cell_type": "code",
   "execution_count": 67,
   "id": "1e043dc7",
   "metadata": {},
   "outputs": [],
   "source": [
    "assert np.all(H_values[1:]<=H_values[:-1]) # The Hamiltonian of the Verlet scheme is always decreasing."
   ]
  },
  {
   "cell_type": "markdown",
   "id": "d82dd9fd",
   "metadata": {},
   "source": [
    "The energy (Hamiltonian) is a quadratic function of the amplitude. We were heuristically expecting a decrease by a factor $r^2$ with $r=500$, but find a slightly less strong reduction. The difference is likely due to the energy remaining in the reflected wave."
   ]
  },
  {
   "cell_type": "code",
   "execution_count": 68,
   "id": "08943835",
   "metadata": {},
   "outputs": [
    {
     "data": {
      "text/plain": [
       "304.2430839030629"
      ]
     },
     "execution_count": 68,
     "metadata": {},
     "output_type": "execute_result"
    }
   ],
   "source": [
    "np.sqrt(H_values[1]/H_values[-1])"
   ]
  },
  {
   "cell_type": "markdown",
   "id": "acf0de38",
   "metadata": {},
   "source": [
    "The Hamiltonian class allows to introduce damping steps along the time integration, as follows."
   ]
  },
  {
   "cell_type": "code",
   "execution_count": 69,
   "id": "21934d9d",
   "metadata": {},
   "outputs": [],
   "source": [
    "WaveH.damp_p = ω_damp # Damping factor for p variable.\n",
    "q2_damp,p2_damp = WaveH.Sympl_p(q0,p0,dt,order=order_t,niter=niter)\n",
    "# Damping is only inserted in between time steps, hence we do the last one by hand\n",
    "p2_damp *= np.exp(-dt*ω_damp)\n",
    "# Identical up to machine precision... although errors quickly accumulate in single precision\n",
    "assert allclose(q1_damp,q2_damp,atol=1e-8 if xp is np else 1e-4) \n",
    "assert allclose(p1_damp,p2_damp,atol=1e-8 if xp is np else 1e-2)"
   ]
  },
  {
   "cell_type": "markdown",
   "id": "029d8131",
   "metadata": {},
   "source": [
    "### 1.7 (Symplectic) Adjoint operators\n",
    "\n",
    "**The symplectic form.**\n",
    "Let $E$ be a (topological) vector space, and let $E^*$ denote its dual. The canonical symplectic form is the antisymmetric bilinear form defined as\n",
    "\\begin{align*}\n",
    "    \\Omega & : (E \\times E^*)^2 \\to \\bR, &\n",
    "    \\Omega((q_0,p_0), (q_1,p_1)) := \\<q_0,p_1\\> - \\<p_0,q_1\\>,\n",
    "\\end{align*}\n",
    "where $\\<\\cdot,\\cdot\\> : E \\times E^* \\to \\bR$ denotes the duality bracket.\n",
    "\n",
    "In particular, the symplectic form over $\\bR^N$ is represented by the $2 N \\times 2 N$ anti-symmetric matrix\n",
    "$$\n",
    "    \\Omega = \n",
    "    \\begin{pmatrix}\n",
    "    & \\Id \\\\\n",
    "    -\\Id &\n",
    "    \\end{pmatrix}.\n",
    "$$\n",
    "The symplectic adjoint of an operator $L$ can be expressed in terms of the usual ajdoint as $\\Omega^\\top L^\\top \\Omega$. Note that $\\Omega^\\top = -\\Omega = \\Omega^{-1}$."
   ]
  },
  {
   "cell_type": "code",
   "execution_count": 70,
   "id": "975b9844",
   "metadata": {
    "editable": true,
    "slideshow": {
     "slide_type": ""
    },
    "tags": []
   },
   "outputs": [],
   "source": [
    "def Ω(q0,p0,q1,p1): \n",
    "    \"\"\"The canonical symplectif form.\"\"\"\n",
    "    return np.sum(q0*p1 - p0*q1)"
   ]
  },
  {
   "cell_type": "markdown",
   "id": "387c3ea4",
   "metadata": {},
   "source": [
    "**Quadratic Hamiltonian systems.**\n",
    "Hamilton's ODEs associated to an arbitrary non-linear Hamiltonian preserve the symplectic form in a suitable sense.\n",
    "The formalism is however made simpler when the Hamiltonian is quadratic, meaning that the the evolution law is linear, and we thus focus on this case. We later specialize to *separable* quadratic Hamiltonians, an even simpler setting which encompasses the acoustic and elastic wave equations.\n",
    "\n",
    "Assuming a quadratic Hamiltonian, we thus have \n",
    "\\begin{align*}\n",
    "    \\dot q & = \\partial_p H(q,p) = H_{pq} q + H_{pp} p, &\n",
    "    \\dot p & = - \\partial_q H(q,p) = -H_{qq} q - H_{qp} p,\n",
    "\\end{align*}\n",
    "where $H_{qq} = \\partial_{qq} H$, $H_{qp} = \\partial_{qp} H$, etc, are linear operators. Note that $H_{qq}$ and $H_{pp}$ are symmetric, and that $H_{qp} = H_{pq}^\\top$. \n",
    "\n",
    "Given two solutions $(q_0,p_0)$ and $(q_1,p_1)$ of these ODEs, we thus have \n",
    "\\begin{align*}\n",
    "    \\Omega( (\\dot q_0,\\dot p_0), (q_1,p_1) ) &= \\<\\dot q_0,p_1\\> - \\<\\dot p_0,q_1\\> \\\\\n",
    "    &= \\< H_{pq} q_0 + H_{pp} p_0,p_1\\> - \\< - H_{qq} q_0 - H_{qp} p_0,q_1\\> \\\\ \n",
    "    &= \\<q_0, H_{qp} p_1 + H_{qq} q_1\\> + \\<p_0, + H_{pp} p_1 + H_{p q} q_1\\> \\\\\n",
    "    &= - \\<q_0, \\dot p_1\\> + \\<p_0,\\dot q_1\\> \\\\\n",
    "    &= - \\Omega( (q_0,p_0), (\\dot q_1,\\dot p_1) ).\n",
    "\\end{align*}\n",
    "Said otherwise, Hamilton's ODE defines a linear operator, whose symplectic adjoint is the evolution in reverse time.\n",
    "\n",
    "**Separable case and symplectic timestep.** If $2 H(q,p) = p^\\top A p + q^\\top B q$ is a separable quadratic Hamiltonian, where $A$ and $B$ are linear symmetric, then $\\partial_{pp} H = A$, $\\partial_{qq} H = B$, and $\\partial_{pq} H = 0$. \n",
    "\n",
    "The symplectic adjoints of the timesteps $p' = p - \\delta B q$ and $q' = q+\\delta A p$, are the same timesteps with opposite $\\delta$\n",
    "\\begin{align*}\n",
    "\\<q_0',p_1\\> - \\<p_0,q_1\\> = \\<q_0+\\delta A p_0,p_1\\> - \\<p_0,q_1\\> = \\<q_0, p_1\\> - \\<p_0,q_1-\\delta A p_1\\>,\\\\\n",
    "\\<q_0,p_1\\> - \\<p_0',q_1\\> = \\<q_0,p_1\\> - \\<p_0-\\delta B q_0,q_1\\> = \\<q_0, p_1+\\delta B q_1\\> - \\<p_0,q_1\\>.\n",
    "\\end{align*}\n",
    "\n",
    "The Verlet and Ruth4 schemes are compositions of such timesteps. Their adjoint are the same timesteps, in reversed order and with opposite $\\delta$.\n",
    "(Non-separable Hamiltonians lead to additional complexities, featuring implicit time steps.)\n",
    "\n",
    "**Damping.**\n",
    "The adjoint of the damping operation, considered in the previous subsection, is a reduction of amplitude : \n",
    "$$\n",
    "\\<q_0,p_1\\> - \\<\\cD p_0,q_1\\> = \\<q_0,p_1\\> - \\<p_0, \\cD q_1\\>.\n",
    "$$\n",
    "Recall that $C$ is a diagonal matrix with entries $\\exp(-\\omega \\delta)$.\n",
    "\n",
    "For computational efficiency, one often merges two updates and one damping of the impulsion, as follows:\n",
    "\\begin{align*}\n",
    "    p' &= p-\\delta B q, &\n",
    "    p'' &= \\cD p', &\n",
    "    p''' &= p''-\\eta B q = \\cD p - (\\delta \\cD + \\eta) B q.\n",
    "\\end{align*}\n",
    "The adjoint of this operation is the following mixed update:\n",
    "$$\n",
    "    \\<q_0,p_1\\> - \\<p_0''',q_1\\> \n",
    "    = \\<q_0,p_1\\> - \\<\\cD p_0 - (\\delta \\cD + \\eta) B q_0,q_1\\> \n",
    "    = \\<q_0,p_1+ B (\\delta \\cD+\\eta) q_1\\> - \\<p_0,\\cD q_1\\>.\n",
    "$$\n"
   ]
  },
  {
   "cell_type": "code",
   "execution_count": 71,
   "id": "f57737fb",
   "metadata": {
    "editable": true,
    "slideshow": {
     "slide_type": ""
    },
    "tags": []
   },
   "outputs": [],
   "source": [
    "# Using random values for everything, to test adjointness (no CLF needed)\n",
    "np.random.seed(42); N = len(X)\n",
    "q0,p0,q1,p1,ρ,D,ω_damp = xp.random.rand(7,N); δ=0.8\n",
    "WaveH = Hamiltonian1a(ρ,D,X,dx)"
   ]
  },
  {
   "cell_type": "markdown",
   "id": "99498687",
   "metadata": {},
   "source": [
    "We first check adjointness for the elementary timesteps."
   ]
  },
  {
   "cell_type": "code",
   "execution_count": 72,
   "id": "5072ec1e",
   "metadata": {},
   "outputs": [],
   "source": [
    "# Checking adjointness for the explicit Euler step q' = q + δAp\n",
    "assert allclose(Ω(WaveH.Expl_q(q0,p0,δ),p0,q1,p1), Ω(q0,p0,WaveH.Expl_q(q1,p1,-δ),p1))\n",
    "\n",
    "# Checking adjointness for the explicit Euler step p' = p - δBq\n",
    "assert allclose(Ω(q0,WaveH.Expl_p(q0,p0,δ),q1,p1), Ω(q0,p0,q1,WaveH.Expl_p(q1,p1,-δ)))\n",
    "\n",
    "# Checking the adjointness for the damping step p' = exp(-ω δ) p\n",
    "assert allclose(Ω(q0,Damp_p(p0,ω_damp,δ),q1,p1), Ω(q0,p0,Damp_p(q1,ω_damp,δ),p1))"
   ]
  },
  {
   "cell_type": "markdown",
   "id": "25bf224a",
   "metadata": {},
   "source": [
    "We next turn to composite operations, starting with the symplectic `Euler_p` scheme, which successively updates $p$ then $q$.\n",
    "As discussed above, the ordering of the updates must be reversed, leading to the `Euler_q` scheme, which successively updates $q$ then $p$."
   ]
  },
  {
   "cell_type": "code",
   "execution_count": 73,
   "id": "8f79f8c7",
   "metadata": {},
   "outputs": [],
   "source": [
    "# Checking adjointness for the Verlet scheme\n",
    "assert allclose(Ω(*WaveH.Euler_p(q0,p0,δ),q1,p1),Ω(q0,p0,*WaveH.Euler_q(q1,p1,-δ)))"
   ]
  },
  {
   "cell_type": "markdown",
   "id": "d5d8a120",
   "metadata": {},
   "source": [
    "The Verlet_p and Ruth4_p schemes use a reversible ordering of updates, $(p,q,p)$ and $(p,q,p,q,p,q,p)$ respectively, and the sequence of sub-timesteps is also reversible. Therefore it suffices to use the opposite timestep parameter $\\delta$."
   ]
  },
  {
   "cell_type": "code",
   "execution_count": 74,
   "id": "ec9b2eda",
   "metadata": {},
   "outputs": [],
   "source": [
    "# Checking adjointness for the Verlet scheme\n",
    "assert allclose(Ω(*WaveH.Verlet_p(q0,p0,δ),q1,p1),Ω(q0,p0,*WaveH.Verlet_p(q1,p1,-δ)))\n",
    "\n",
    "# Checking adjointness for the Ruth4 scheme\n",
    "assert allclose(Ω(*WaveH.Ruth4_p(q0,p0,δ),q1,p1),Ω(q0,p0,*WaveH.Ruth4_p(q1,p1,-δ)))"
   ]
  },
  {
   "cell_type": "markdown",
   "id": "0334a68c",
   "metadata": {},
   "source": [
    "Finally, optional damping steps are included in between time steps."
   ]
  },
  {
   "cell_type": "code",
   "execution_count": 75,
   "id": "311f8c39",
   "metadata": {},
   "outputs": [],
   "source": [
    "WaveH_p = copy.copy(WaveH); WaveH_p.damp_p =  ω_damp\n",
    "WaveH_q = copy.copy(WaveH); WaveH_q.damp_q = -ω_damp\n",
    "\n",
    "assert allclose(Ω(*WaveH_p.Verlet_p(q0,p0,δ,niter=2),q1,p1),Ω(q0,p0,*WaveH_q.Verlet_p(q1,p1,-δ,niter=2)))\n",
    "assert allclose(Ω(*WaveH_p.Ruth4_p(q0,p0,δ,niter=2),q1,p1),Ω(q0,p0,*WaveH_q.Ruth4_p(q1,p1,-δ,niter=2)))"
   ]
  },
  {
   "cell_type": "markdown",
   "id": "af7bb59a",
   "metadata": {},
   "source": [
    "### 1.8 Automatic differentiation of the Hamiltonian\n",
    "\n",
    "This technique is illustrated in more detail in the notebook on [acoustic and elastic wave examples](WaveExamples.ipynb).\n",
    "\n",
    "In this brief section, we consider the differentiation of a Hamiltonian w.r.t the medium parameters. We focus on the acoustic wave equation for simplicity. See below for more discussion of the finite difference scheme.\n",
    "\n",
    "Because of the incompatibilities between different AD types, we need to extract one AD channel of the result."
   ]
  },
  {
   "cell_type": "code",
   "execution_count": 76,
   "id": "26e93e9f",
   "metadata": {},
   "outputs": [],
   "source": [
    "def Hamiltonian_ad(ρ,D,X,dx):\n",
    "    \"\"\"Acoustic wave Hamiltonian with AD capabilities.\"\"\"\n",
    "    iρ=1/ρ\n",
    "    λ,e = Selling.Decomposition(D) # See below\n",
    "    def Hq(q,ad_channel=lambda x:x):\n",
    "        dq = fd.DiffEll(q,e,dx,padding=None)\n",
    "        return 0.5 * ad_channel(λ) * dq**2\n",
    "    def Hp(p,ad_channel=lambda x:x):\n",
    "        return 0.5 * ad_channel(iρ) * p**2\n",
    "    H = QuadraticHamiltonian(Hq,Hp)\n",
    "    H.set_spmat(xp.zeros_like(X)) # Replaces quadratic functions with sparse matrices\n",
    "    return H"
   ]
  },
  {
   "cell_type": "markdown",
   "id": "a55e782f",
   "metadata": {},
   "source": [
    "We can choose a density and/or a metric featuring a (first order dense) AD part."
   ]
  },
  {
   "cell_type": "code",
   "execution_count": 77,
   "id": "ba87bc7a",
   "metadata": {
    "editable": true,
    "slideshow": {
     "slide_type": ""
    },
    "tags": []
   },
   "outputs": [],
   "source": [
    "np.random.seed(42)\n",
    "X,dx = make_domain1(10)\n",
    "nX = len(X)\n",
    "def rand(*args): return xp.asarray(np.random.rand(*args))\n",
    "ρ = rand(nX) # Standard density\n",
    "#ρ = ad.Dense.identity(constant=rand(nX),shape_free=tuple()) # AD density\n",
    "#D = rand(1,1,nX) # Standard metric\n",
    "D = ad.Dense.identity(constant=rand(1,1,nX),shape_free=tuple()) # AD metric\n",
    "H0 = Hamiltonian_ad(ρ,D,X,dx)"
   ]
  },
  {
   "cell_type": "markdown",
   "id": "3868244b",
   "metadata": {},
   "source": [
    "The symplectic scheme automatically computes a first order expansion of the solution w.r.t the perturbation of the Hamiltonian coefficients."
   ]
  },
  {
   "cell_type": "code",
   "execution_count": 78,
   "id": "01c75f7f",
   "metadata": {},
   "outputs": [
    {
     "data": {
      "text/plain": [
       "(denseAD(array([ 6.89178302e+03, -2.89096384e+03,  2.58463393e+03,  8.76879089e+01,\n",
       "        -7.25793423e+03,  3.54818530e+04, -2.40849374e+05,  8.26776543e+03,\n",
       "         2.43189123e+03, -2.50577351e+03]),\n",
       " array([[   42399.69120447],\n",
       "        [  -11059.32013992],\n",
       "        [    6783.74753728],\n",
       "        [    2118.43427022],\n",
       "        [  -71427.83011464],\n",
       "        [  279574.77501337],\n",
       "        [-1545362.11742219],\n",
       "        [   46892.88862118],\n",
       "        [   14043.86534039],\n",
       "        [  -18849.50487212]])),\n",
       " denseAD(array([-3.12914004e+05,  4.86210642e+05, -3.10049265e+05, -7.11296980e+03,\n",
       "         4.61496153e+05, -3.75350776e+06,  8.51774292e+06, -5.29535949e+06,\n",
       "         5.17820177e+04,  1.60742021e+05]),\n",
       " array([[ -2744344.67944588],\n",
       "        [  2880147.2328148 ],\n",
       "        [ -1319503.28683461],\n",
       "        [  -844042.4365942 ],\n",
       "        [  6422764.64504555],\n",
       "        [-41362946.59532595],\n",
       "        [ 81430162.93978725],\n",
       "        [-46492123.43247995],\n",
       "        [   244359.10092233],\n",
       "        [  1775523.35353606]])))"
      ]
     },
     "execution_count": 78,
     "metadata": {},
     "output_type": "execute_result"
    }
   ],
   "source": [
    "# q0 and p0 do not contain any ad info, but need to be of the correct type\n",
    "q0 = ad.Dense.denseAD(rand(nX))\n",
    "p0 = ad.Dense.denseAD(rand(nX))\n",
    "dt = 1\n",
    "H0.damp_p = rand(nX)\n",
    "H0.damp_q = rand(nX)\n",
    "\n",
    "H0.Verlet_p(q0,p0,dt,niter=2)"
   ]
  },
  {
   "cell_type": "markdown",
   "id": "94d2ff55",
   "metadata": {},
   "source": [
    "In practice, for underground reconstruction, reverse mode AD is usually more appropriate than the forward AD illustrated above. \n",
    "\n",
    "Fortunately, in this case, reverse mode AD is equivalent to forward mode AD in reverse time. "
   ]
  },
  {
   "cell_type": "code",
   "execution_count": 79,
   "id": "1231df98",
   "metadata": {},
   "outputs": [],
   "source": [
    "q1 = ad.Dense.denseAD(rand(nX))\n",
    "p1 = ad.Dense.denseAD(rand(nX))\n",
    "H1 = copy.copy(H0)\n",
    "H1.damp_p = -H0.damp_q\n",
    "H1.damp_q = -H0.damp_p\n",
    "\n",
    "res0 = Ω(*H0.Verlet_p(q0,p0,dt,niter=2),q1,p1)\n",
    "res1 = Ω(q0,p0,*H1.Verlet_p(q1,p1,-dt,niter=2))\n",
    "\n",
    "assert allclose(res0.value,res1.value) and allclose(res0.coef,res1.coef)"
   ]
  },
  {
   "cell_type": "markdown",
   "id": "c2e1e9b1-ee84-4a44-95c4-096675ca8c2f",
   "metadata": {},
   "source": [
    "### 1.9 Numerical dispersion\n",
    "\n",
    "Dispersion refers to the relation between the wavenumber and the frequency for plane waves, in the case where the PDE coefficients are constant (translation invariance).\n",
    "This relation (slightly) differs between the continuous PDE and its discretization, raising the issue of numerical dispersion.\n",
    "\n",
    "We consider complex plane waves for simplicity in the theoretical discussion, although our numerical implementation requires real coefficients (obtained by taking the real or imaginary part of the plane wave)."
   ]
  },
  {
   "cell_type": "markdown",
   "id": "865f270e-f577-4fd6-8448-7a3c5dee5f07",
   "metadata": {},
   "source": [
    "**Continuous case**\n",
    "Let us first consider the continuous one-dimensional translation invariant acoustic PDE, obtain via Hamilton's equations applied to the acoustic Hamiltonian.\n",
    "\\begin{align*}\n",
    "    \\dot q &= p/\\rho, &\n",
    "    \\dot p &= - D \\Delta q.\n",
    "\\end{align*}\n",
    "\n",
    "\n",
    "A complex plane wave takes the form \n",
    "\\begin{align*}\n",
    "    q(t,x) &= \\alpha \\be(\\kw x-\\omega t), &\n",
    "    p(t,x) &= \\beta  \\be(\\kw x-\\omega t), &    \n",
    "\\end{align*}\n",
    "where $\\be(x) := \\exp(i x)$ denotes the complex exponential, obeying $\\be' = i \\be$. We denoted by $\\kw$ the wavenumber, $\\omega$ the pulsation, and $\\alpha,\\beta$ some arbitrary coefficients.\n",
    "\n",
    "Inserting these expressions in the acoustic wave PDE we obtain the relations:\n",
    "\\begin{align*}\n",
    "(-i \\omega) \\alpha &= \\beta/\\rho, &\n",
    "(-i \\omega) \\beta &= -D \\alpha (ik)^2.\n",
    "\\end{align*}\n",
    "Assuming a non-zero plane wave ($\\alpha,\\beta \\neq 0$), we obtain the relation\n",
    "$$\n",
    "\\rho \\omega^2 = D k^2,\n",
    "$$\n",
    "meaning that all plane waves have the common speed $\\omega/k = \\sqrt{D/\\rho}$. In addition, we have $\\dot q  = (-i \\omega) q = p/\\rho$."
   ]
  },
  {
   "cell_type": "markdown",
   "id": "a76e6758-f226-40b1-b95b-8a17790ac7c0",
   "metadata": {
    "editable": true,
    "slideshow": {
     "slide_type": ""
    },
    "tags": []
   },
   "source": [
    "**Discrete case.**\n",
    "We can perform the same analysis with the discrete scheme, and obtain a similar relation, with a slight perturbations depending on the gridscale and timescale. For that purpose, we define three functions $\\gamma,\\gamma^*,\\gamma^{* *}$, which converge to $1$ at the origin, corresponding to the limit $\\diff t, \\diff x\\to 0$. The first one\n",
    "\\begin{align*}\n",
    "    x^2 \\gamma_2(x) &:= -(\\be(x)-2+\\be(-x)) = 2 - 2 \\cos(x) = 4 \\sin(x/2)^2 = x^2 - x^4/12 + \\cO(x^6), \\\\\n",
    "    x^2 \\gamma_4(x) &:= -(-\\be(2x) + 16 \\be(x)-30 \\be(x)+16\\be(-x)-\\be(-2x))/12 = (\\cos(2x) - 16 \\cos(x) +15)/6 = x^2-x^6/90+\\cO(x^8),\n",
    "\\end{align*}\n",
    "arises with Fourier transform of the second derivative finite difference scheme, with accuracy order $2$ and $4$ respectively. \n",
    "The other two corrections are specific to the Ruth4 scheme fourth order symplectic scheme : \n",
    "\\begin{align*}\n",
    "    \\gamma^*_4(x) &:= 1-\\frac x {12}-c^* x^2, &\n",
    "    \\gamma^{**}_4(x) := 1-\\frac x 6-c^{* *} x^2\n",
    "\\end{align*}\n",
    "where $c =  (6+5 \\times 2^{1/3}+4\\times 2^{2/3})/144 \\approx 0.1295...$ and $\\tilde c := (4 + 4\\times 2^{1/3} + 3\\times 2^{2/3}) /144 \\approx 0.0958464...$. By convention $\\gamma^*_2(x) = \\gamma^{* *}_2(x) = 1$.\n",
    "\n",
    "A computation in the Fourier domain, not described here, shows that the discrete dispersion relation reads\n",
    "\\begin{align*}\n",
    "\\omega^2 \\, \\gamma_2(\\omega \\diff t) &= b \\, \\gamma^*_{ot} (b \\,\\diff t^2), &\n",
    "b := & \\frac D \\rho k^2 \\, \\gamma_{ox}(k \\diff x),\n",
    "\\end{align*}\n",
    "where $ot$ and $ox$ denote the order w.r.t time and space. Observe that : \n",
    "* As $\\diff t, \\diff x \\to 0$, the terms $\\gamma, \\gamma^* \\to 1$, and we recover the continuous relation $\\omega^2 = k^2 D/\\rho$.\n",
    "* In the special case $ot=ox=2$ the dispersion relation boils down to $\\sin(\\omega\\,  \\diff t/2) / \\diff t = \\sqrt{D/\\rho} \\sin(k \\, \\diff x/2) / \\diff x$.\n",
    "* If the ratio of the time and space steps exactly match the wave speed : $D/\\rho = (\\diff x/\\diff t)^2$, and in addition $ot=ox=2$,  then the dicrete dispertion relation matches the continuous one : $\\rho \\omega^2 = D k^2$. "
   ]
  },
  {
   "cell_type": "markdown",
   "id": "678f68a1-8f0a-48b2-a1e2-c27f86dd3617",
   "metadata": {},
   "source": [
    "**Relation between $p$ and $q$.**\n",
    "Recall that in the continuous case the plane wave satisfies $-i \\omega \\, \\rho q = p$. \n",
    "In the discrete case we have the analoguous relation \n",
    "\\begin{equation*}\n",
    "    -i \\frac{\\sin(\\omega \\diff t)}{\\diff t}\\, \\rho\\, q = p\\, \\gamma^{* *}(b \\diff t^2),\n",
    "\\end{equation*}\n",
    "where $b$ is defined in the previous equation.\n",
    "Again, we do not give here the detail of these computations, which are were obtained using a formal computing program (and are likely folklore). \n",
    "\n",
    "<!---\n",
    "For the Verlet scheme, we find $(-i \\sin(\\omega)) q = p/\\rho$, assuming $\\diff t = 1$.\n",
    "Taking the time step into account yields $(-i \\sin(\\omega \\diff t)/\\diff t) q = p/\\rho$.\n",
    "\n",
    "For the Ruth4 scheme, we find $(-i \\sin \\omega)/\\tilde t(b) q = p/\\rho$,\n",
    "where $\\tilde t(x) := 1-x/6-\\tilde c x^2$ with $\\tilde c := (4 + 4\\times 2^{1/3} + 3\\times 2^{2/3}) /144$, and $b = s_b(k) D/\\rho$, assuming $\\diff t=\\diff x = 1$.\n",
    "--->\n"
   ]
  },
  {
   "cell_type": "code",
   "execution_count": 2,
   "id": "ec6d2793-4b6c-473a-80df-22e3e7b2c6d7",
   "metadata": {
    "editable": true,
    "slideshow": {
     "slide_type": ""
    },
    "tags": [
     "ExportCode"
    ]
   },
   "outputs": [],
   "source": [
    "# Helper functions for the dispersion relation\n",
    "def _γ(x,order):\n",
    "    tol=[None,1e-6,3e-3,1e-2][order//2]; x=np.where(np.abs(x)<=tol,tol,x) # Avoid zero divide\n",
    "    if order==2: return 4*np.sin(x/2)**2 / x**2\n",
    "    if order==4: return (np.cos(2*x)-16*np.cos(x)+15)/6 / x**2\n",
    "    if order==6: return (49/18-3*np.cos(x)+3/10*np.cos(2*x)-1/45*np.cos(3*x)) / x**2\n",
    "\n",
    "_cs = (6+5*np.power(2,1/3)+4*np.power(2,2/3))/144\n",
    "_css = (4 + 4*np.power(2,1/3) + 3*np.power(2,2/3))/144\n",
    "def _γs(x,order): return 1 if order==2 else 1-x/12-_cs*x**2\n",
    "def _γss(x,order):return 1 if order==2 else 1-x/6-_css*x**2\n",
    "\n",
    "def _γ2inv(y,dt): \n",
    "    r\"\"\"Inverse function to $x^2 γ_2(x) = 4 \\sin^2(x/2).\"\"\"\n",
    "    return 2*np.arcsin(dt*np.sqrt(y)/2)/dt\n",
    "\n",
    "def _dispersion(b,ρ,dt,order_t):\n",
    "    ω = _γ2inv(b * _γs(b*dt**2,order_t), dt)\n",
    "    r = - ρ*np.sin(ω*dt)/(dt*_γss(b*dt**2,order_t))\n",
    "    return ω,r\n",
    "    \n",
    "def dispersion1a(k,ρ,D,dx,dt,order_x=2,order_t=2):\n",
    "    \"\"\"\n",
    "    Returns the frequency corresponding to the given wavenumber and model coefficients, for the discrete 1D model.\n",
    "    Also returns the multiplier, to obtain $p$ from $q$ (in addition to shifting by a period).\n",
    "    \"\"\"\n",
    "    b = D/ρ * k**2 * _γ(k*dx,order_x)\n",
    "    return _dispersion(b,ρ,dt,order_t)"
   ]
  },
  {
   "cell_type": "code",
   "execution_count": 87,
   "id": "8110cfa2-7c66-4fdd-9d2f-0c73d08df8a7",
   "metadata": {
    "editable": true,
    "slideshow": {
     "slide_type": ""
    },
    "tags": []
   },
   "outputs": [
    {
     "name": "stdout",
     "output_type": "stream",
     "text": [
      "order_t=2, order_x=2, err_q=1.5543122344752192e-15, err_p=7.327471962526033e-15\n",
      "order_t=4, order_x=2, err_q=1.5716594692349872e-15, err_p=8.881784197001252e-15\n",
      "order_t=2, order_x=4, err_q=5.551115123125783e-16, err_p=1.2434497875801753e-14\n",
      "order_t=4, order_x=4, err_q=1.27675647831893e-15, err_p=1.2434497875801753e-14\n",
      "order_t=2, order_x=6, err_q=1.1934897514720433e-15, err_p=1.0658141036401503e-14\n",
      "order_t=4, order_x=6, err_q=1.4710455076283324e-15, err_p=1.7763568394002505e-14\n"
     ]
    }
   ],
   "source": [
    "# Parameters\n",
    "X,dx = make_domain1(10)\n",
    "ρ=1.2; D=1.4;\n",
    "for order_x in (2,4,6):\n",
    "    for order_t in (2,4):\n",
    "        # Build the time step and Hamiltonian\n",
    "        dt_max = CFL1a(ρ,D,dx,order_x=order_x,order_t=order_t)\n",
    "        dt = 0.6*dt_max\n",
    "        WaveH = Hamiltonian1a(ρ,D,X,dx,order=order_x)\n",
    "\n",
    "        # Fix a wavenumber and the pulsation from the discrete dispersion relation\n",
    "        k = 3*2*π # Wavenumber k must be a multiple of 2π, for 1-periodicity\n",
    "        ω,r = dispersion1a(k,ρ,D,dx,dt,order_x=order_x,order_t=order_t)\n",
    "\n",
    "        # Construct the exact discrete plane wave solutions \n",
    "        def q_exact(t,x): return np.exp(1j*(k*x - ω*t)).real\n",
    "        def p_exact(t,x): return -np.exp(1j*(k*x - ω*t)).imag*r\n",
    "\n",
    "        q1,p1 = WaveH.Sympl_p(q_exact(0,X),p_exact(0,X),dt,order=order_t)\n",
    "        err_q = norm(q1 - q_exact(dt,X),np.inf)\n",
    "        err_p = norm(p1 - p_exact(dt,X),np.inf)\n",
    "        print(f\"{order_t=}, {order_x=}, {err_q=}, {err_p=}\")\n",
    "        atol=1e-13 if xp is np else 2e-5\n",
    "        assert err_q<atol/10 and err_p<atol # Exact up to machine precision. "
   ]
  },
  {
   "cell_type": "markdown",
   "id": "456ad75e-4faf-476c-a704-8f2201e51137",
   "metadata": {},
   "source": [
    "An important contribution to the numerical cost of wave evolution equations is the number of discretization points per wavelength. \n",
    "Recall that the numerical dispersion relation features the corrective factor $\\gamma_{ox} (k \\diff x)$, where $ox$ is the spatial order. \n",
    "Using $N$ points per wavelength $L$, means that $k \\diff x = 2 \\pi/N$, hence the following numerical values, which correspond to standard practice:"
   ]
  },
  {
   "cell_type": "code",
   "execution_count": 88,
   "id": "3b1b9372-43fa-4acb-a11e-9a86f0947886",
   "metadata": {
    "editable": true,
    "slideshow": {
     "slide_type": ""
    },
    "tags": []
   },
   "outputs": [
    {
     "name": "stdout",
     "output_type": "stream",
     "text": [
      "order_x=2 and N=10 yield kdx=0.6283 and relative dispersion error 0.03247\n",
      "order_x=4 and N=6 yield kdx=1.047 and relative dispersion error 0.01212\n"
     ]
    }
   ],
   "source": [
    "for order_x,N in ((2,10),(4,6)):\n",
    "    print(f\"{order_x=} and {N=} yield kdx={2*π/N:.4} and relative dispersion error {1-_γ(2*π/N,order_x):.4}\")"
   ]
  },
  {
   "cell_type": "markdown",
   "id": "1f15a9eb-ee88-461f-ad47-7812d3c6c7fa",
   "metadata": {},
   "source": [
    "On the other hand, the timestep dt is usually mostly dictated by the CFL condition. \n",
    "Recall that the wave speed is $c = \\omega/k$, and the CFL condition is often expressed as $c \\diff t \\leq \\alpha \\diff x$ for some $\\alpha \\in ]0,1]$. Under these conditions, one has $\\omega \\, \\diff t \\leq \\alpha k \\, \\diff x$.\n",
    "Let us estimate the contribution of the time discretization to the numerical dispersion error, for typical values of $\\omega \\diff t$. "
   ]
  },
  {
   "cell_type": "code",
   "execution_count": 89,
   "id": "4053e2cc-61a2-4976-8d17-bd9671e3be1d",
   "metadata": {},
   "outputs": [
    {
     "name": "stdout",
     "output_type": "stream",
     "text": [
      "order_t=2 and ωdt=0.3 yield relative dispersion error -0.003788485177906864\n",
      "order_t=4 and ωdt=0.3 yield relative dispersion error 0.0005440057629454431\n"
     ]
    }
   ],
   "source": [
    "ωdt = 0.3\n",
    "for order_t in (2,4):\n",
    "    print(f\"{order_t=} and {ωdt=} yield relative dispersion error {1-_γ2inv(ωdt**2*_γs(ωdt**2,order_t),1) / ωdt}\")"
   ]
  },
  {
   "cell_type": "markdown",
   "id": "95fe6f27",
   "metadata": {},
   "source": [
    "## 2. Two dimensional acoustic waves\n",
    "\n",
    "Let us recall the Hamiltonian of the acoustic wave equation : \n",
    "$$\n",
    "    2 H_a(q,p) = \\int_X \\frac {p^2} \\rho + |\\nabla q|_D^2,\n",
    "$$\n",
    "where $\\rho>0$ is a density field, and $D \\succ 0$ is a field of symmetric positive definite matrices.\n",
    "\n",
    "**Discretization using the Selling/Voronoi matrix decomposition.**\n",
    "Similarly to several other notebooks on [divergence form](AnisotropicDiffusion.ipynb) and [non-divergence form](../Notebooks_NonDiv/LinearMonotoneSchemes2D.ipynb) elliptic equations, we compute pointwise [Selling's decomposition](../Notebooks_Algo/TensorSelling.ipynb) of the matrix field : \n",
    "$$\n",
    "    D(x) = \\sum_{1 \\leq i \\leq I} \\lambda_i(x) e_i e_i^\\top,\n",
    "$$\n",
    "with non-negative weights $\\lambda_i \\geq 0$, offsets with integer coordinates $e_i \\in \\bZ^d \\sm \\{0\\}$, and with $I = d (d+1)/2$ terms typically. "
   ]
  },
  {
   "cell_type": "code",
   "execution_count": 90,
   "id": "48ca5677",
   "metadata": {},
   "outputs": [
    {
     "name": "stdout",
     "output_type": "stream",
     "text": [
      "Chosen positive definite matrix D=\n",
      "[[7.82842712 2.82842712]\n",
      " [2.82842712 2.17157288]].\n"
     ]
    }
   ],
   "source": [
    "ρ = 1\n",
    "D = Riemann.from_diagonal([3**2, 1]).rotate_by(np.pi/8).m\n",
    "print(f\"Chosen positive definite matrix D=\\n{D}.\")"
   ]
  },
  {
   "cell_type": "markdown",
   "id": "842dded0",
   "metadata": {},
   "source": [
    "The above line constructs the $2\\times 2$ matrix $D$ from its eigenvalues and a rotation angle. "
   ]
  },
  {
   "cell_type": "code",
   "execution_count": 91,
   "id": "a62f8edf",
   "metadata": {},
   "outputs": [
    {
     "name": "stdout",
     "output_type": "stream",
     "text": [
      "Selling weights λ=array([1.51471863, 0.65685425, 3.6862915 ]).\n",
      "Offsets e=\n",
      "[[ 1 -2  1]\n",
      " [ 1 -1  0]].\n"
     ]
    }
   ],
   "source": [
    "λ,e = Selling.Decomposition(D)\n",
    "print(f\"Selling weights {λ=}.\")\n",
    "print(f\"Offsets e=\\n{e}.\")"
   ]
  },
  {
   "cell_type": "markdown",
   "id": "f2fe8dd8",
   "metadata": {},
   "source": [
    "Then the potential energy can be approximated with second order accuracy as \n",
    "$$\n",
    "    |\\nabla q(x)|_{D(x)}^2 = \\sum_{1 \\leq i \\leq I} \n",
    "    \\frac{\\lambda_i(x)} 2 \\Big(\\big(\\frac{q(x-h e_i)-q(x)} h\\big)^2 \n",
    "    {+} \\big(\\frac{q(x+h e_i)-q(x)} h\\big)^2\\Big) + \\cO(h^2).\n",
    "$$\n",
    "A fourth order accurate scheme can also be obtained, with a similar sum-of-squared differences structure, by a straightforward adaptation of the one-dimensional setting see [1.1 Spatial discretization](#1.1-Spatial-discretization)."
   ]
  },
  {
   "cell_type": "code",
   "execution_count": 2,
   "id": "11c810a5",
   "metadata": {
    "editable": true,
    "slideshow": {
     "slide_type": ""
    },
    "tags": [
     "ExportCode"
    ]
   },
   "outputs": [],
   "source": [
    "def PotentialEnergy_a(q,D,dx,order=2):\n",
    "    \"\"\"Acoustic potential energy density (x2)\"\"\"\n",
    "    λ,e = D if isinstance(D,tuple) else Selling.Decomposition(D) # Coefficients and offsets of Selling's decomposition\n",
    "    λ = fd.as_field(λ,q.shape,depth=1) # Broadcasting coefficients if necessary\n",
    "    diff = fd.DiffEll(q,e,dx,order,padding=None) # padding=None means periodic\n",
    "    return 0.5 * λ*diff**2 # Summation is implicit"
   ]
  },
  {
   "cell_type": "code",
   "execution_count": 93,
   "id": "abc258dd",
   "metadata": {
    "editable": true,
    "slideshow": {
     "slide_type": ""
    },
    "tags": [
     "ExportCode"
    ]
   },
   "outputs": [],
   "source": [
    "def Hamiltonian_a(ρ,D,X,dx,order=2):\n",
    "    \"\"\"Discretized Hamiltonian of the acoustic wave equation.\"\"\"\n",
    "    Hq = lambda q: PotentialEnergy_a(q,D,dx,order=order) \n",
    "    Hp = lambda p: KineticEnergy_a(p,ρ)\n",
    "    H = QuadraticHamiltonian(Hq,Hp)\n",
    "    H.set_spmat(xp.zeros_like(X[0])) # Replaces quadratic functions with sparse matrices\n",
    "    return H"
   ]
  },
  {
   "cell_type": "markdown",
   "id": "c2cb5081",
   "metadata": {},
   "source": [
    "The study of the CFL stability condition is similar to the one dimensional case, see also the notebook on [divergence form](AnisotropicDiffusion.ipynb) anisotropic diffusion. \n",
    "\n",
    "The following is a bit conservative, especially for strongly anisotropic $D$. (For a sharper CFL, replace $\\Tr(D)$ with $\\sum_{1 \\leq i \\leq I} \\lambda_i$, the sum of the coefficients of Selling's decomposition.)"
   ]
  },
  {
   "cell_type": "code",
   "execution_count": 94,
   "id": "dfb1c37c",
   "metadata": {},
   "outputs": [],
   "source": [
    "def CFL_a(ρ,D,*args,**kwargs):\n",
    "    \"\"\"\n",
    "    Courant-Friedrichs-Levy stability condition of the acoustic wave scheme. \n",
    "    See CFL1a for args and kwargs. \n",
    "    \"\"\"\n",
    "    return CFL1a(ρ,lp.trace(D),*args,**kwargs) # Conservative estimate."
   ]
  },
  {
   "cell_type": "markdown",
   "id": "36ec1d23",
   "metadata": {},
   "source": [
    "**Effective construction.** \n",
    "Let us construct the discretization grid, and the discretized Hamiltonian."
   ]
  },
  {
   "cell_type": "code",
   "execution_count": 95,
   "id": "fae790a6",
   "metadata": {
    "editable": true,
    "slideshow": {
     "slide_type": ""
    },
    "tags": [
     "ExportCode"
    ]
   },
   "outputs": [],
   "source": [
    "def make_domain(N,ndim):\n",
    "    \"\"\"Returns X, a regular sampling of [0,1]^d with N^d points, and dx the grid scale.\"\"\"\n",
    "    aX,dx = xp.linspace(0,1,N,endpoint=False,retstep=True)\n",
    "    return xp.asarray(xp.meshgrid(*(aX+dx/2,)*ndim,indexing=\"ij\")),dx"
   ]
  },
  {
   "cell_type": "code",
   "execution_count": 96,
   "id": "f3d9582d",
   "metadata": {},
   "outputs": [],
   "source": [
    "X,dx = make_domain(100,2)"
   ]
  },
  {
   "cell_type": "code",
   "execution_count": 97,
   "id": "ac62a999",
   "metadata": {
    "editable": true,
    "slideshow": {
     "slide_type": ""
    },
    "tags": []
   },
   "outputs": [],
   "source": [
    "order_x=2; order_t=2\n",
    "WaveH = Hamiltonian_a(ρ,D,X,dx)\n",
    "dt_max = CFL_a(ρ,D,dx,order_x=order_x,order_t=order_t)"
   ]
  },
  {
   "cell_type": "markdown",
   "id": "4720d219",
   "metadata": {
    "editable": true,
    "slideshow": {
     "slide_type": ""
    },
    "tags": []
   },
   "source": [
    "### 2.1 Constant coefficients\n",
    "\n",
    "In order to validate the scheme we construct a non-trivial explicit solution, with constant coefficients $\\rho>0$ and $D\\succ 0$ over the domain.\n",
    "\n",
    "First, let us ignore the boundary conditions. Then \n",
    "$$\n",
    "    q(t,x) := f(\\<\\kw,x\\>-\\omega t),\n",
    "$$\n",
    "obeys\n",
    "\\begin{align*}\n",
    "    \\diver(D \\nabla q) &= |k|^2_D f''(\\<\\kw,x\\>-\\omega t), &\n",
    "    \\partial_{tt} q = \\omega^2 f''(\\<\\kw,x\\>-\\omega t).\n",
    "\\end{align*}\n",
    "Define the associated impulsion as\n",
    "$$\n",
    "    p(t,x) = \\rho \\dot q = - \\rho \\omega f'(\\<\\kw,x\\> - \\omega t).\n",
    "$$\n",
    "If the wavenumber $\\kw\\in \\bR^d$ and the pulsation $\\omega$ obey \n",
    "$$\n",
    "|\\kw|^2_D = \\rho \\omega^2,\n",
    "$$\n",
    "then $(q,p)$ is a solution of the acoustic wave equation with constant coefficients : $\\dot p = \\diver(D \\nabla u)$, $\\dot q = p/\\rho$.\n",
    "\n",
    "**Periodicity.**\n",
    "Our solution needs to be defined on torus $(\\bR/\\bZ)^2$, equivalently $[0,1]^2$ with periodic boundary conditions.\n",
    "This is satisfied provided $f$ is $1$-periodic, and $k \\in  \\bZ^d$ has integer components."
   ]
  },
  {
   "cell_type": "code",
   "execution_count": 98,
   "id": "6456fe3d",
   "metadata": {
    "editable": true,
    "slideshow": {
     "slide_type": ""
    },
    "tags": [
     "ExportCode"
    ]
   },
   "outputs": [],
   "source": [
    "def ExactSol_a(ρ,D,ks,fs):\n",
    "    \"\"\"\n",
    "    Produce an exact solution for the acoustic wave equation, \n",
    "    with constant density ρ and dual metric D.\n",
    "    - ks : list of wave numbers.\n",
    "    - fs : list of functions.\n",
    "    Choose ks with integer coordinates, and fs 1-periodic, to obtain a solution on (R/Z)^2\n",
    "    \"\"\"\n",
    "    vdim = len(D); ks = xp.array(ks)\n",
    "    ωs = [np.sqrt(lp.dot_VAV(k,D,k)/ρ) for k in ks]\n",
    "    ks = ks.reshape((-1,vdim)+(1,)*vdim)\n",
    "    def q(t,x): return sum( f(lp.dot_VV(k,x)-ω*t) for (k,ω,f) in zip(ks,ωs,fs) )\n",
    "    def p(t,x): return sum( -ρ*ω*deriv(f,lp.dot_VV(k,x)-ω*t) for (k,ω,f) in zip(ks,ωs,fs) )\n",
    "    return q,p"
   ]
  },
  {
   "cell_type": "code",
   "execution_count": 99,
   "id": "1c9413b3",
   "metadata": {},
   "outputs": [],
   "source": [
    "q_exact,p_exact = ExactSol_a(ρ,D,[\n",
    "    (1,0),(1,-1),(-2,1) # wavenumbers\n",
    "],[\n",
    "    lambda s:0.5*np.cos(6*π*s+1.2), # Some arbitrary 1-periodic function\n",
    "    lambda s:np.exp(np.cos(4*π*s+4)), \n",
    "    lambda s:np.cos(2*π*s+2)])"
   ]
  },
  {
   "cell_type": "code",
   "execution_count": 100,
   "id": "88d1f34d",
   "metadata": {
    "editable": true,
    "slideshow": {
     "slide_type": ""
    },
    "tags": []
   },
   "outputs": [
    {
     "name": "stdout",
     "output_type": "stream",
     "text": [
      "Amplitude of initial position : 4.195493462488417, momentum : 93.34450988225066\n"
     ]
    }
   ],
   "source": [
    "q0 = q_exact(0,X)\n",
    "p0 = p_exact(0,X)\n",
    "print(f\"Amplitude of initial position : {norm(q0,np.inf)}, momentum : {norm(p0,np.inf)}\")"
   ]
  },
  {
   "cell_type": "markdown",
   "id": "28687eb3",
   "metadata": {},
   "source": [
    "Let us check the $1$-periodicity w.r.t position X."
   ]
  },
  {
   "cell_type": "code",
   "execution_count": 101,
   "id": "e422496e",
   "metadata": {},
   "outputs": [],
   "source": [
    "assert allclose(q_exact(1.4,[X[0]+1,X[1]+2]),q_exact(1.4,X))\n",
    "assert allclose(p_exact(2.,[X[0]-1,X[1]+3]),p_exact(2.,X),atol=1e-8 if xp is np else 1e-3)"
   ]
  },
  {
   "cell_type": "code",
   "execution_count": 102,
   "id": "08bac811",
   "metadata": {
    "editable": true,
    "slideshow": {
     "slide_type": ""
    },
    "tags": []
   },
   "outputs": [],
   "source": [
    "plt.title(\"Initial position q0\")\n",
    "plt.contourf(*X,q_exact(0,X)) \n",
    "plt.colorbar()\n",
    "plt.axis('equal');"
   ]
  },
  {
   "cell_type": "code",
   "execution_count": 103,
   "id": "90fe5474",
   "metadata": {},
   "outputs": [],
   "source": [
    "dt = 0.6*dt_max\n",
    "niter = 100\n",
    "T = niter*dt\n",
    "q1_exact = q_exact(T,X); p1_exact = p_exact(T,X)\n",
    "q1_norm = norm(q1_exact,np.inf); p1_norm = norm(p1_exact,np.inf)"
   ]
  },
  {
   "cell_type": "code",
   "execution_count": 104,
   "id": "e16f3a37",
   "metadata": {},
   "outputs": [],
   "source": [
    "q1,p1 = WaveH.Sympl_p(q0,p0,dt,niter,order=order_t)"
   ]
  },
  {
   "cell_type": "markdown",
   "id": "117809d5",
   "metadata": {
    "editable": true,
    "slideshow": {
     "slide_type": ""
    },
    "tags": []
   },
   "source": [
    "As before, the Verlet Hamiltonian is conserved up to machine precision, and the scheme is second order accurate."
   ]
  },
  {
   "cell_type": "code",
   "execution_count": 105,
   "id": "1dc42d80",
   "metadata": {
    "editable": true,
    "slideshow": {
     "slide_type": ""
    },
    "tags": []
   },
   "outputs": [
    {
     "data": {
      "text/plain": [
       "(13279309.546274524, 13279309.546274524)"
      ]
     },
     "execution_count": 105,
     "metadata": {},
     "output_type": "execute_result"
    }
   ],
   "source": [
    "WaveH.H_p(q1,p1,dt,order=2),WaveH.H_p(q0,p0,dt,order=2)"
   ]
  },
  {
   "cell_type": "code",
   "execution_count": 106,
   "id": "d3ff5ee1",
   "metadata": {
    "editable": true,
    "slideshow": {
     "slide_type": ""
    },
    "tags": []
   },
   "outputs": [
    {
     "data": {
      "text/plain": [
       "(0.006708199930284478, 0.016986832391896578)"
      ]
     },
     "execution_count": 106,
     "metadata": {},
     "output_type": "execute_result"
    }
   ],
   "source": [
    "norm(q1_exact-q1,np.inf)/q1_norm, norm(p1_exact-p1,np.inf)/p1_norm"
   ]
  },
  {
   "cell_type": "markdown",
   "id": "5b54b7e0",
   "metadata": {
    "editable": true,
    "slideshow": {
     "slide_type": ""
    },
    "tags": []
   },
   "source": [
    "Let us systematically test the different schemes.\n",
    "The fourth order scheme (in time and space) is $70\\times$ more accurate than the second order scheme."
   ]
  },
  {
   "cell_type": "code",
   "execution_count": 107,
   "id": "df5432f7",
   "metadata": {},
   "outputs": [
    {
     "name": "stdout",
     "output_type": "stream",
     "text": [
      "Parameters dx=0.01, dt=0.0018973665961010276, niter=100, ρ=1, \n",
      "D=array([[7.82842712, 2.82842712],\n",
      "       [2.82842712, 2.17157288]]).\n",
      "\n",
      "Parameters order_x=2, order_t=1\n",
      "H_relerr=1.4e-16, q1_relerr=0.014, p1_relerr=0.038\n",
      "Parameters order_x=2, order_t=2\n",
      "H_relerr=0, q1_relerr=0.0067, p1_relerr=0.017\n",
      "Parameters order_x=2, order_t=4\n",
      "H_relerr=1.5e-12, q1_relerr=0.0078, p1_relerr=0.02\n",
      "Parameters order_x=4, order_t=1\n",
      "H_relerr=0, q1_relerr=0.015, p1_relerr=0.023\n",
      "Parameters order_x=4, order_t=2\n",
      "H_relerr=2.8e-16, q1_relerr=0.0012, p1_relerr=0.0026\n",
      "Parameters order_x=4, order_t=4\n",
      "H_relerr=2.2e-14, q1_relerr=0.00011, p1_relerr=0.00035\n"
     ]
    }
   ],
   "source": [
    "print(f\"Parameters {dx=}, {dt=}, {niter=}, {ρ=}, \\n{D=}.\\n\")\n",
    "for order_x in (2,4):\n",
    "    WaveH = Hamiltonian_a(ρ,D,X,dx,order=order_x)\n",
    "    for order_t in (1,2,4):\n",
    "        print(f\"Parameters {order_x=}, {order_t=}\")\n",
    "        q1,p1 = WaveH.Sympl_p(q0,p0,dt,niter,order=order_t)\n",
    "        H_num = WaveH.H_p(q1,p1,dt,order=order_t)\n",
    "        H_exact = WaveH.H_p(q0,p0,dt,order=order_t)\n",
    "        H_relerr = (H_num-H_exact)/H_exact\n",
    "        q1_relerr = norm(q1-q1_exact,np.inf)/q1_norm\n",
    "        p1_relerr = norm(p1-p1_exact,np.inf)/p1_norm\n",
    "        print(f\"{H_relerr=:.2g}, {q1_relerr=:.2g}, {p1_relerr=:.2g}\")\n",
    "        assert allclose(H_exact,H_num)"
   ]
  },
  {
   "cell_type": "markdown",
   "id": "5d7da8bc",
   "metadata": {},
   "source": [
    "### 2.2 Change of variables\n",
    "\n",
    "The change of variable formulas for the acoustic wave equation were presented in [1.4 Acoustic change of variables](#1.4-Acoustic-change-of-variables). Let us recall them : \n",
    "\\begin{align*}\n",
    "    \\tilde q &:= q \\circ \\vp, &\n",
    "    \\tilde p &:= p \\circ \\vp\\ J, &\n",
    "    \\tilde \\rho &:= \\rho \\circ \\vp \\ J, &\n",
    "    \\tilde D &:= \\Phi^{-1} D \\Phi^{-\\top} \\ J.\n",
    "\\end{align*}\n",
    "We use a change of variables that is compatible with the torus domain $(\\bR/\\bZ)^2$, and apply it to the constant coefficient case for which an exact solution is known."
   ]
  },
  {
   "cell_type": "code",
   "execution_count": 108,
   "id": "f9938b1a",
   "metadata": {
    "editable": true,
    "slideshow": {
     "slide_type": ""
    },
    "tags": [
     "ExportCode"
    ]
   },
   "outputs": [],
   "source": [
    "def tq_a(q,ϕ): return q(ϕ)\n",
    "def tp_a(p,ϕ,Jϕ): return p(ϕ)*Jϕ\n",
    "def tρ_a(ρ,ϕ,Jϕ): return ρ(ϕ)*Jϕ\n",
    "def tD_a(D,ϕ,inv_dϕ,Jϕ): \n",
    "    D_ = fd.as_field(D(ϕ),Jϕ.shape,depth=2)\n",
    "    return lp.dot_AA(inv_dϕ,lp.dot_AA(D_,lp.transpose(inv_dϕ))) * Jϕ"
   ]
  },
  {
   "cell_type": "markdown",
   "id": "03b1e543",
   "metadata": {
    "editable": true,
    "slideshow": {
     "slide_type": ""
    },
    "tags": []
   },
   "source": [
    "We obtain the necessary derivatives by automatic differentiation."
   ]
  },
  {
   "cell_type": "code",
   "execution_count": 109,
   "id": "50ad9bf0",
   "metadata": {
    "editable": true,
    "slideshow": {
     "slide_type": ""
    },
    "tags": [
     "ExportCode"
    ]
   },
   "outputs": [],
   "source": [
    "def differentiate(ϕ_fun,X):\n",
    "    \"\"\"\n",
    "    Returns ϕ, dϕ, (dϕ)^-1, J=det(dϕ), and d^2ϕ.\n",
    "    \"\"\"\n",
    "    X_ad = ad.Dense2.identity(constant=X,shape_free=(len(X),))\n",
    "    ϕ_ad = ϕ_fun(X_ad)\n",
    "    dϕ = np.moveaxis(ϕ_ad.gradient(),1,0) # Gradient is differential transposed\n",
    "    d2ϕ = np.moveaxis(ϕ_ad.hessian(),2,0)\n",
    "    return ϕ_ad.value, dϕ, lp.inverse(dϕ), lp.det(dϕ), d2ϕ"
   ]
  },
  {
   "cell_type": "markdown",
   "id": "c42889b9",
   "metadata": {},
   "source": [
    "Now let us pick a change of variables, with the suitable periodicity. We use a perturbation of the identity, and check that the Jacobian is everywhere positive."
   ]
  },
  {
   "cell_type": "code",
   "execution_count": 110,
   "id": "46a2ea6f",
   "metadata": {},
   "outputs": [],
   "source": [
    "def ϕ_fun(X,ϵ=0.05): \n",
    "    \"\"\"\n",
    "    Some perturbation of the identity map on the torus (R/Z)^2. \n",
    "    Appears to be invertible when ϵ<=0.05\n",
    "    \"\"\"\n",
    "    x,y = X\n",
    "    return ad.array([\n",
    "        x + 0.6*ϵ*np.sin(2*π*(x+2*y)+2) + ϵ*np.sin(2*π*x), \n",
    "        y - ϵ*np.exp(np.cos(2*π*(x-y))) ])"
   ]
  },
  {
   "cell_type": "code",
   "execution_count": 111,
   "id": "9fe5dd46",
   "metadata": {
    "editable": true,
    "slideshow": {
     "slide_type": ""
    },
    "tags": []
   },
   "outputs": [],
   "source": [
    "ϵ = 0.02\n",
    "ϕ,dϕ,inv_dϕ,Jϕ,d2ϕ = differentiate(lambda x:ϕ_fun(x,ϵ),X)\n",
    "assert np.min(Jϕ)>0"
   ]
  },
  {
   "cell_type": "code",
   "execution_count": 112,
   "id": "45e8951b",
   "metadata": {},
   "outputs": [],
   "source": [
    "plt.title(\"Jacobian determinant Jϕ of the change of variables\")\n",
    "plt.contourf(*X,Jϕ)\n",
    "plt.colorbar()\n",
    "plt.axis('equal');"
   ]
  },
  {
   "cell_type": "markdown",
   "id": "7e066be4",
   "metadata": {},
   "source": [
    "Perform the changes of variables in the coefficients."
   ]
  },
  {
   "cell_type": "code",
   "execution_count": 113,
   "id": "0ecc71ce",
   "metadata": {},
   "outputs": [],
   "source": [
    "tρ  = tρ_a(lambda x:ρ, ϕ, Jϕ)\n",
    "tD  = tD_a(lambda x:D, ϕ, inv_dϕ, Jϕ) "
   ]
  },
  {
   "cell_type": "code",
   "execution_count": 114,
   "id": "d3793ab3",
   "metadata": {},
   "outputs": [],
   "source": [
    "order_x=2; order_t=2\n",
    "dt_max = CFL_a(tρ,tD,dx,order_x=order_x,order_t=order_t)\n",
    "dt = 0.5*dt_max\n",
    "niter = 100\n",
    "T = niter*dt"
   ]
  },
  {
   "cell_type": "markdown",
   "id": "d2aae563",
   "metadata": {},
   "source": [
    "Compute the exact solution."
   ]
  },
  {
   "cell_type": "code",
   "execution_count": 115,
   "id": "1eb3e43f",
   "metadata": {
    "editable": true,
    "slideshow": {
     "slide_type": ""
    },
    "tags": []
   },
   "outputs": [],
   "source": [
    "q0 = tq_a(lambda x:q_exact(0,x), ϕ)\n",
    "p0 = tp_a(lambda x:p_exact(0,x), ϕ, Jϕ)\n",
    "q1_exact = tq_a(lambda x:q_exact(T,x), ϕ)\n",
    "p1_exact = tp_a(lambda x:p_exact(T,x), ϕ, Jϕ)\n",
    "q1_norm = norm(q1_exact,np.inf) \n",
    "p1_norm = norm(p1_exact,np.inf)"
   ]
  },
  {
   "cell_type": "markdown",
   "id": "05de0e16",
   "metadata": {},
   "source": [
    "Build the Hamiltonian."
   ]
  },
  {
   "cell_type": "code",
   "execution_count": 116,
   "id": "d602cb21",
   "metadata": {},
   "outputs": [],
   "source": [
    "WaveH = Hamiltonian_a(tρ,tD,X,dx,order=order_x)"
   ]
  },
  {
   "cell_type": "markdown",
   "id": "05256d59",
   "metadata": {},
   "source": [
    "Run the symplectic time integrator."
   ]
  },
  {
   "cell_type": "code",
   "execution_count": 117,
   "id": "cfff2b48",
   "metadata": {},
   "outputs": [],
   "source": [
    "q1,p1 = WaveH.Sympl_p(q0,p0,dt,niter,order=order_t)"
   ]
  },
  {
   "cell_type": "markdown",
   "id": "2d320721",
   "metadata": {},
   "source": [
    "Check the conservation of the discrete perturbed Hamiltonian, and the scheme accuracy."
   ]
  },
  {
   "cell_type": "code",
   "execution_count": 118,
   "id": "aef303d2",
   "metadata": {},
   "outputs": [
    {
     "data": {
      "text/plain": [
       "(13287530.137897987, 13287530.13789799)"
      ]
     },
     "execution_count": 118,
     "metadata": {},
     "output_type": "execute_result"
    }
   ],
   "source": [
    "WaveH.H_p(q1,p1,dt,order=order_t),WaveH.H_p(q0,p0,dt,order=order_t)"
   ]
  },
  {
   "cell_type": "code",
   "execution_count": 119,
   "id": "8900edcd",
   "metadata": {},
   "outputs": [
    {
     "data": {
      "text/plain": [
       "(0.006101797239235787, 0.0159757519075739)"
      ]
     },
     "execution_count": 119,
     "metadata": {},
     "output_type": "execute_result"
    }
   ],
   "source": [
    "norm(q1-q1_exact,np.inf)/q1_norm, norm(p1-p1_exact,np.inf)/p1_norm"
   ]
  },
  {
   "cell_type": "markdown",
   "id": "93c53923",
   "metadata": {},
   "source": [
    "Finally, as before, we systematically check the accuracy and Hamiltonian conservation of the other schemes.\n",
    "The fourth order scheme (in time and space) is approximately $10\\times$ more accurate than the second order scheme, with $\\epsilon=0.02$.\n",
    "\n",
    "However this is strongly dependent on the smoothness of the change of variables, which becomes more rough as $\\epsilon$ increases. Stronger improvements are obtained for smaller values ($60\\times$ for $\\ve = 0.01$), and smaller improvements for larger values ($3 \\times$ for $\\ve = 0.05$)."
   ]
  },
  {
   "cell_type": "code",
   "execution_count": 121,
   "id": "695d7706",
   "metadata": {
    "editable": true,
    "slideshow": {
     "slide_type": ""
    },
    "tags": []
   },
   "outputs": [
    {
     "name": "stdout",
     "output_type": "stream",
     "text": [
      "Parameters dx=0.01, dt=0.0012, niter=100. Change of variables ϵ=0.02\n",
      "\n",
      "Parameters order_x=2, order_t=1\n",
      "H_relerr=0, q1_relerr=0.0063, p1_relerr=0.017\n",
      "Parameters order_x=2, order_t=2\n",
      "H_relerr=-2.8e-16, q1_relerr=0.0061, p1_relerr=0.016\n",
      "Parameters order_x=2, order_t=4\n",
      "H_relerr=-1e-11, q1_relerr=0.0064, p1_relerr=0.017\n",
      "\n",
      "Parameters order_x=4, order_t=1\n",
      "H_relerr=0, q1_relerr=0.0038, p1_relerr=0.0063\n",
      "Parameters order_x=4, order_t=2\n",
      "H_relerr=-4.2e-16, q1_relerr=0.00079, p1_relerr=0.0022\n",
      "Parameters order_x=4, order_t=4\n",
      "H_relerr=-4.2e-11, q1_relerr=0.00059, p1_relerr=0.0019\n",
      "\n",
      "Parameters order_x=6, order_t=1\n",
      "H_relerr=0, q1_relerr=0.0039, p1_relerr=0.0064\n",
      "Parameters order_x=6, order_t=2\n",
      "H_relerr=-1.4e-16, q1_relerr=0.00067, p1_relerr=0.0019\n",
      "Parameters order_x=6, order_t=4\n",
      "H_relerr=-7.4e-11, q1_relerr=0.00048, p1_relerr=0.002\n"
     ]
    }
   ],
   "source": [
    "print(f\"Parameters {dx=:.2g}, {dt=:.2g}, {niter=}. Change of variables {ϵ=}\")\n",
    "for order_x in (2,4,6):\n",
    "    print()\n",
    "    WaveH = Hamiltonian_a(tρ,tD,X,dx,order=order_x)\n",
    "    for order_t in (1,2,4):\n",
    "        print(f\"Parameters {order_x=}, {order_t=}\")\n",
    "        q1,p1 = WaveH.Sympl_p(q0,p0,dt,niter,order=order_t)\n",
    "        H_num = WaveH.H_p(q1,p1,dt,order=order_t)\n",
    "        H_exact = WaveH.H_p(q0,p0,dt,order=order_t)\n",
    "        H_relerr = (H_num-H_exact)/H_exact\n",
    "        q1_relerr = norm(q1-q1_exact,np.inf)/q1_norm\n",
    "        p1_relerr = norm(p1-p1_exact,np.inf)/p1_norm\n",
    "        print(f\"{H_relerr=:.2g}, {q1_relerr=:.2g}, {p1_relerr=:.2g}\")\n",
    "        assert allclose(H_exact,H_num)"
   ]
  },
  {
   "cell_type": "markdown",
   "id": "bf6c33c0-a031-409a-9ac5-49540a48d486",
   "metadata": {},
   "source": [
    "### 2.3 Dispersion relation\n",
    "\n",
    "The multi-dimensional acoustic wave dispersion relation is a straightforward extension of the one-dimensional case, by letting \n",
    "$$\n",
    "b := \\frac 1 \\rho \\sum_{1 \\leq i \\leq I} \\lambda_i \\<k,e_i\\>^2 \\, \\gamma_{ox}(\\<k,e_i\\> \\diff x),\n",
    "$$\n",
    "where $D = \\sum_{1 \\leq i \\leq I} \\lambda_i e_i e_i^\\top$ is Selling's decomposition of the symmetric positive definite matrix $D$ encoding the wave propagation anisotropy. Note that $b = \\|k\\|_D^2 + \\cO(\\diff x^{ox})$.\n",
    "\n",
    "Using these relations, we construct exact planewave relations for the acoustic scheme."
   ]
  },
  {
   "cell_type": "code",
   "execution_count": 1,
   "id": "4607e377-5381-4065-b6a5-9a62ce60d547",
   "metadata": {
    "editable": true,
    "slideshow": {
     "slide_type": ""
    },
    "tags": [
     "ExportCode"
    ]
   },
   "outputs": [],
   "source": [
    "def dispersion_a(k,ρ,D,dx,dt,order_x=2,order_t=2):\n",
    "    \"\"\"\n",
    "    Returns the frequency corresponding to the given wavenumber and model coefficients, for the discrete 1D model.\n",
    "    Also returns the multiplier, to obtain $p$ from $q$ (in addition to shifting by a period).\n",
    "    \"\"\"\n",
    "    λ,e = D if isinstance(D,tuple) else Selling.Decomposition(D)\n",
    "    ke = lp.dot_VV(k[:,None],e)\n",
    "    b = np.sum(λ * ke**2 * _γ(ke*dx,order_x),axis=0) / ρ\n",
    "    return _dispersion(b,ρ,dt,order_t)"
   ]
  },
  {
   "cell_type": "code",
   "execution_count": 124,
   "id": "faf31ffa-8dd8-4f05-85a7-db6f5160c3ae",
   "metadata": {
    "editable": true,
    "slideshow": {
     "slide_type": ""
    },
    "tags": []
   },
   "outputs": [
    {
     "name": "stdout",
     "output_type": "stream",
     "text": [
      "order_t=2, order_x=2, err_q=8.187894806610529e-16, err_p=3.552713678800501e-14\n",
      "order_t=4, order_x=2, err_q=1.4432899320127035e-15, err_p=3.907985046680551e-14\n",
      "order_t=2, order_x=4, err_q=1.2212453270876722e-15, err_p=4.085620730620576e-14\n",
      "order_t=4, order_x=4, err_q=7.771561172376096e-16, err_p=3.0142555118573e-14\n",
      "order_t=2, order_x=6, err_q=1.3877787807814457e-15, err_p=5.684341886080802e-14\n",
      "order_t=4, order_x=6, err_q=1.3877787807814457e-15, err_p=4.618527782440651e-14\n"
     ]
    }
   ],
   "source": [
    "X,dx = make_domain(10,2)\n",
    "ρ = 1.3\n",
    "D = Riemann.from_diagonal([3**2, 1]).rotate_by(np.pi/8).m\n",
    "for order_x in (2,4,6):\n",
    "    for order_t in (2,4):\n",
    "        dt_max = CFL_a(ρ,D,dx, order_x=order_x,order_t=order_t)\n",
    "        dt = 0.6*dt_max\n",
    "\n",
    "        WaveH = Hamiltonian_a(ρ,D,X,dx,order=order_x)\n",
    "\n",
    "        k = 2*π * xp.array([1,2])\n",
    "        ω,r = dispersion_a(k,ρ,D,dx,dt,order_x=order_x,order_t=order_t)\n",
    "        k_ = fd.as_field(k,X[0].shape)\n",
    "        def q_exact(t,x): return np.exp(1j*(lp.dot_VV(k_,x) - ω*t)).real\n",
    "        def p_exact(t,x): return -np.exp(1j*(lp.dot_VV(k_,x) - ω*t)).imag*r\n",
    "\n",
    "        q1,p1 = WaveH.Sympl_p(q_exact(0,X),p_exact(0,X),dt,order=order_t)\n",
    "        err_q = norm(q1 - q_exact(dt,X),np.inf)\n",
    "        err_p = norm(p1 - p_exact(dt,X),np.inf)\n",
    "        print(f\"{order_t=}, {order_x=}, {err_q=}, {err_p=}\")\n",
    "        atol=1e-13 if xp is np else 2e-5\n",
    "        assert err_q<atol/10 and err_p<atol # Exact up to machine precision."
   ]
  },
  {
   "cell_type": "markdown",
   "id": "abac25c8-0654-4b68-a972-8404c967372d",
   "metadata": {},
   "source": [
    "We can also visualize the discrete dispersion relation, and compare it to the continuous one. \n",
    "The level lines of the latter are ellipses, namely $\\{k\\in \\bR^2\\mid \\|k\\|_D = \\omega_0\\}$."
   ]
  },
  {
   "cell_type": "code",
   "execution_count": 131,
   "id": "c904622a-4e2c-42f0-bbe8-d11e0866a6ae",
   "metadata": {
    "editable": true,
    "slideshow": {
     "slide_type": ""
    },
    "tags": []
   },
   "outputs": [
    {
     "name": "stdout",
     "output_type": "stream",
     "text": [
      "blue : continuous model; red : order_x=order_t=2; green : order_x=4 and order_t=2\n"
     ]
    }
   ],
   "source": [
    "# Choose the model parameters\n",
    "ρ = 1.3\n",
    "D = Riemann.from_diagonal([3**2, 1]).rotate_by(np.pi/8).m\n",
    "dx=2 \n",
    "dt=1\n",
    "\n",
    "# Setup the plot range\n",
    "ak0 = xp.linspace(-0.7,0.7)\n",
    "ak1 = xp.linspace(-1.2,1.2)\n",
    "ks = xp.array(np.meshgrid(ak0,ak1,indexing='ij'))\n",
    "ρs = xp.array(ρ)[None,None]; Ds = D[:,:,None,None] # Broadcast ρ and D to match k\n",
    "\n",
    "# Compute the dispersion relations\n",
    "ω_cont = lp.dot_VAV(ks,Ds,ks)/ρs\n",
    "ω_22,_ = dispersion_a(ks,ρs,Ds,dx,dt,order_x=2,order_t=2)\n",
    "ω_42,_ = dispersion_a(ks,ρs,Ds,dx,dt,order_x=4,order_t=2)\n",
    "\n",
    "# Plot\n",
    "plt.title(\"Level line ω(k)=1, for the continuous and discrete models\")\n",
    "print(\"blue : continuous model; red : order_x=order_t=2; green : order_x=4 and order_t=2\")\n",
    "plt.contour(*ks,ω_cont,levels=[1],colors='blue')\n",
    "plt.contour(*ks,ω_22,levels=[1],colors='red')\n",
    "plt.contour(*ks,ω_42,levels=[1],colors='green')\n",
    "plt.axis('equal');"
   ]
  },
  {
   "cell_type": "markdown",
   "id": "3b6ad37d",
   "metadata": {},
   "source": [
    "## 3. Two dimensional elastic waves\n",
    "\n",
    "Let us recall the Hamiltonian of the elastic wave equation : \n",
    "\\begin{align*}\n",
    "    2H_e(q,p) &:= \\int_X |p|^2_M + |\\ve|^2_C, &\n",
    "    \\text{where }\n",
    "    \\ve := \\frac 1 2 (\\Diff q + \\Diff q^\\top) - S q,\n",
    "\\end{align*}\n",
    "\n",
    "*Common simplification.*\n",
    "One has $M = \\Id/\\rho$ and $S=0$ in practice, unless a change of variables has been applied, see \n",
    "[1.5 Elastic change of variables](#1.5-Elastic-change-of-variables).\n",
    "\n",
    "**Kinetic energy.**\n",
    "The first term $\\int_X |p|^2_M$ is the kinetic energy, where $p$ is the momentum (density) and $M\\succ 0$ is a field of $d\\times d$ symmetric positive definite matrix. \n",
    "\n",
    "The discretiation of the kinetic energy is straightforward."
   ]
  },
  {
   "cell_type": "code",
   "execution_count": 132,
   "id": "5496db14",
   "metadata": {},
   "outputs": [],
   "source": [
    "def KineticEnergy_e(p,M):\n",
    "    \"\"\"Kinetic energy for elasticity.\"\"\"\n",
    "    p,M = fd.common_field( (p,M), (1,2) ) # Broadcasting\n",
    "    return 0.5 * lp.dot_VAV(p,M,p)"
   ]
  },
  {
   "cell_type": "markdown",
   "id": "62ec3013",
   "metadata": {},
   "source": [
    "Let us choose a constant symmetric positive definite matrix for our experiments."
   ]
  },
  {
   "cell_type": "code",
   "execution_count": 133,
   "id": "628510ab",
   "metadata": {},
   "outputs": [
    {
     "data": {
      "text/plain": [
       "array([[3.25      , 1.29903811],\n",
       "       [1.29903811, 1.75      ]])"
      ]
     },
     "execution_count": 133,
     "metadata": {},
     "output_type": "execute_result"
    }
   ],
   "source": [
    "M = Riemann.from_diagonal([2**2,1]).rotate_by(np.pi/6).m\n",
    "M"
   ]
  },
  {
   "cell_type": "markdown",
   "id": "e0974b8d",
   "metadata": {},
   "source": [
    "**Selling/Voronoi matrix decomposition of Hooke tensors.**\n",
    "See the notebooks on the [elastic energy](ElasticEnergy.ipynb), and the [elastic wave equation](ElasticWave.ipynb), for more discussion. \n",
    "By decomposing the Hooke tensor $C$, one obtains coefficients $\\lambda_i\\geq 0$, and matrices $E^i \\in \\cS_d(\\bZ)$ (i.e. $d\\times d$ symmetric matrices with integer coefficients), such that :\n",
    "$$\n",
    "    |\\ve|_C^2 = \\sum_{1 \\leq i \\leq I} \\lambda_i \\Tr(E^i \\ve)^2.\n",
    "$$\n",
    "One has $I = 6$ if $d=2$, and $I = 21$ if $d=3$. Let us choose a Hooke tensor, and illustrate this decomposition."
   ]
  },
  {
   "cell_type": "code",
   "execution_count": 134,
   "id": "40d12a46",
   "metadata": {},
   "outputs": [
    {
     "name": "stdout",
     "output_type": "stream",
     "text": [
      "Chosen Hooke tensor (using Voigt notation) C=\n",
      "[[140.58492238  33.8875      41.14871119]\n",
      " [ 33.8875      53.54007762   2.37371119]\n",
      " [ 41.14871119   2.37371119  31.5875    ]].\n"
     ]
    }
   ],
   "source": [
    "C = mica.extract_xz().rotate_by(np.pi/8).hooke\n",
    "print(f\"Chosen Hooke tensor (using Voigt notation) C=\\n{C}.\")"
   ]
  },
  {
   "cell_type": "code",
   "execution_count": 135,
   "id": "280499de",
   "metadata": {},
   "outputs": [
    {
     "name": "stdout",
     "output_type": "stream",
     "text": [
      "Coefficients λ=array([ 7.1875    ,  2.37371119, 22.02628881, 22.02628881, 51.17371119,\n",
      "       29.14007762])\n",
      "First two matrix offsets : \n",
      "E0=\n",
      "[[2 1]\n",
      " [1 0]],\n",
      "E1=\n",
      "[[-2 -1]\n",
      " [-1 -1]]\n"
     ]
    }
   ],
   "source": [
    "λ,E = Hooke(C).Selling()\n",
    "print(f\"Coefficients {λ=}\")\n",
    "print(f\"First two matrix offsets : \\nE0=\\n{E[:,:,0]},\\nE1=\\n{E[:,:,1]}\")"
   ]
  },
  {
   "cell_type": "markdown",
   "id": "aab7d600",
   "metadata": {},
   "source": [
    "**Discretization of the elastic potential energy.**\n",
    "Then observe that for any $E \\in \\cS_d(\\bZ)$, one has assuming  $\\ve = \\tfrac 1 2 (\\Diff q + \\Diff q^\\top) - S q$\n",
    "$$\n",
    "    \\Tr(E \\ve) = \\Tr(E \\ \\Diff q) - \\Tr(E\\ S q ) = \\sum_{1 \\leq j \\leq d} \\<e_j,\\nabla q_j\\> - \\Tr(E S_j) q_j,\n",
    "$$\n",
    "where $e_1,e_2,e_3 \\in \\bZ^d$ are the columns of $E$, and $S_1,S_2,S_3 \\in \\cS_d$ are the images of the canonical basis by $S$. The above expression can be discretized on the Cartesian grid using finite differences, e.g.\n",
    "$$\n",
    "    \\Tr(E \\ve(x)) = \\sum_{1 \\leq i \\leq d} \\frac{q_j(x+h e_j)-q_j(x)} h - \\Tr(E S_j) q_j + \\cO(h).\n",
    "$$\n",
    "\n",
    "\n",
    "*Numerical scheme symmetry*. The gradient $\\<e_j,\\nabla q_j\\>$ can be discretized using upwind or downwind finite differences, namely $q_j(x+h e_j)-q_j(x)$ or $q_j(x)-q_j(x-h e_j)$. There is no reason to correlate these choices for the different indices $1 \\leq j \\leq d$, and we thus mix the different possibilities. "
   ]
  },
  {
   "cell_type": "code",
   "execution_count": 136,
   "id": "97c98ca4",
   "metadata": {},
   "outputs": [],
   "source": [
    "def PotentialEnergy2e(q,C,dx,order=2,S=None):\n",
    "    \"\"\"Two dimensional potential elastic energy.\"\"\"\n",
    "    λ,E = C if isinstance(C,tuple) else Hooke(C).Selling()\n",
    "    λ,E,q,S = fd.common_field( (λ,E,q,S), depths=(1,3,1,3)) # broadcasting\n",
    "    if S is None: ES = (0,)*len(q)\n",
    "    else: ES = np.sum(E[:,:,None,:]*S[:,:,:,None],axis=(0,1))\n",
    "    dq0 = fd.DiffEll(q[0],E[0],dx,order=order,α=ES[0]*q[0],padding=None)\n",
    "    dq1 = fd.DiffEll(q[1],E[1],dx,order=order,α=ES[1]*q[1],padding=None)\n",
    "    return (λ/4)*((dq0+dq1)**2+(dq0+dq1[::-1])**2)"
   ]
  },
  {
   "cell_type": "code",
   "execution_count": 137,
   "id": "3e24f7cc",
   "metadata": {},
   "outputs": [],
   "source": [
    "def Hamiltonian2e(M,C,X,dx,order=2,S=None):\n",
    "    \"\"\"Discretized Hamiltonian of the two dimensional elastic wave equation.\"\"\"\n",
    "    Hq = lambda q: PotentialEnergy2e(q,C,dx,order=order,S=S) \n",
    "    Hp = lambda p: KineticEnergy_e(p,M)\n",
    "    H = QuadraticHamiltonian(Hq,Hp)\n",
    "    H.set_spmat(xp.zeros_like(X)) # Replaces quadratic functions with sparse matrices\n",
    "    return H"
   ]
  },
  {
   "cell_type": "markdown",
   "id": "461df649",
   "metadata": {},
   "source": [
    "We run these tests on a small domain, since this sparse matrix implementation is not much optimized. \n",
    "The specialized GPU kernels presented later in the notebook allow to deal with larger cases."
   ]
  },
  {
   "cell_type": "code",
   "execution_count": 138,
   "id": "8ec02ded",
   "metadata": {},
   "outputs": [],
   "source": [
    "X,dx = make_domain(80,2)"
   ]
  },
  {
   "cell_type": "code",
   "execution_count": 139,
   "id": "0554523f",
   "metadata": {},
   "outputs": [],
   "source": [
    "order_x = 2; order_t = 2\n",
    "WaveH = Hamiltonian2e(M,C,X,dx)"
   ]
  },
  {
   "cell_type": "markdown",
   "id": "e38a5c8c",
   "metadata": {},
   "source": [
    "*CFL condition.*\n",
    "The following estimate, based on the discussion in the notebooks on [elastic energy](ElasticEnergy.ipynb) and [elastic waves](ElasticWave.ipynb), can be excessively pessimistic for anisotropic $M$."
   ]
  },
  {
   "cell_type": "code",
   "execution_count": 140,
   "id": "f75ca6a0",
   "metadata": {},
   "outputs": [],
   "source": [
    "def CFL_e(M,C,dx,**kwargs):\n",
    "    \"\"\"\n",
    "    Largest time step guaranteed to be stable for the elastic wave equation\n",
    "    kwargs : see CFL_mult\n",
    "    \"\"\"\n",
    "    hooke = Hooke(C)\n",
    "    tr = lp.trace(hooke.to_Mandel())\n",
    "    M = np.moveaxis(M,(0,1),(-2,-1))\n",
    "    iρ = np.max(np.linalg.eigvalsh(M),axis=-1)    \n",
    "    return dx/(hooke.vdim*np.sqrt(np.max(iρ*tr))) * CFL_mult(**kwargs)"
   ]
  },
  {
   "cell_type": "code",
   "execution_count": 141,
   "id": "847721fe",
   "metadata": {},
   "outputs": [],
   "source": [
    "dt_max = CFL_e(M,C,dx,order_x=order_x,order_t=order_t)\n",
    "dt = 0.4*dt_max\n",
    "niter = 100\n",
    "T = 100*dt"
   ]
  },
  {
   "cell_type": "markdown",
   "id": "a33f9cc3",
   "metadata": {},
   "source": [
    "### 3.1 Construction of an exact solution\n",
    "\n",
    "A similar discussion, with nice animations but not taking $M$ into account, is presented in [the notebook on elastic waves](ElasticWave.ipynb).\n",
    "\n",
    "The elastic wave PDE, which is Hamilton's equations for the Elastic hamiltonian, reads as follows:\n",
    "\\begin{align*}\n",
    "    \\dot q &= M p, &\n",
    "    \\dot p_i &= \\sum_{jkl} \\partial^j(C_{ijkl} \\partial^k q^l),\n",
    "\\end{align*}\n",
    "for all $1 \\leq i \\leq d$, where for simplicity we assumed $S=0$.\n",
    "\n",
    "Consider a travelling wave \n",
    "$$\n",
    "    q(t,x) = v \\ f(\\<\\kw,x\\> - \\omega t),\n",
    "$$\n",
    "where $v\\in \\bR^3$ is a vector, $k \\in \\bR^3$ is the wavenumber, and $\\omega$ is the pulsation. \n",
    "Define the associated impulsion as \n",
    "$$\n",
    "    p(t,x) := M^{-1} \\dot q = -\\omega M^{-1} v f'(\\<\\kw,x\\> - \\omega t)\n",
    "$$\n",
    "Using the second elastic wave equation, we find that $(q,p)$ is a solution iff one has the compatibility condition\n",
    "\\begin{align*}\n",
    "    \\omega^2 v &= M C[\\kw] v, & \n",
    "    \\text{where } C[\\kw]_{il} := \\sum_{jk} C_{ijkl} \\kw^j \\kw^k.\n",
    "\\end{align*}\n",
    "Note that $M$ and $C[\\kw]$ are symmetric positive definite matrices by construction, for $\\kw\\neq 0$. Therefore $M C[\\kw]$, which is similar to $M^\\frac 1 2 C[\\kw] M^{\\frac 1 2}$, has $d$ positive eigenvalues.\n",
    "\n",
    "Given a wavenumber $\\kw$, we therefore have $d$ possible choices for $\\omega$ and $v$, corresponding to different  eigenvalues. The fastest of these propagation modes is often referred to as the pressure wave, and the others as shear waves; recall that the wave velocity is $\\omega/\\kw$."
   ]
  },
  {
   "cell_type": "code",
   "execution_count": 142,
   "id": "ca3b256d",
   "metadata": {
    "editable": true,
    "slideshow": {
     "slide_type": ""
    },
    "tags": [
     "ExportCode"
    ]
   },
   "outputs": [],
   "source": [
    "def eig(A,sort=False,moveaxis=True):\n",
    "    \"\"\"Wrapper around np.linalg.eig, which allows sorting, geometry first, import gpu arrays.\"\"\"\n",
    "    # cupy has no eig function, hence we do the computation on the CPU.\n",
    "    if moveaxis: A = np.moveaxis(A,(0,1),(-2,-1))\n",
    "    λ,v = np.linalg.eig(A) if xp is np else map(ad.cupy_generic.cupy_set, np.linalg.eig(ad.cupy_generic.cupy_get(A)))\n",
    "    # sort (by increasing eigenvalues), assuming real eigenvalues\n",
    "    if sort: order = np.argsort(λ,axis=-1); λ = np.take_along_axis(λ,order,-1); v = np.take_along_axis(v,order[...,None,:],-1)\n",
    "    if moveaxis: λ = np.moveaxis(λ,-1,0); v = np.moveaxis(v,(-2,-1),(0,1))\n",
    "    return λ,v\n",
    "\n",
    "def elastic_modes(M,C,k):\n",
    "    \"\"\"\n",
    "    Returns the propagation modes for the elastic wave equation\n",
    "    with constant coefficients and a given wavenumber, sorted \n",
    "    from slowest to fastest.\n",
    "    \"\"\"\n",
    "    # This code is a slight generalization of the Hooke.waves method\n",
    "    Ck = Hooke(C).contract(k)\n",
    "    λ,v = eig(lp.dot_AA(M,Ck),sort=True)\n",
    "    ω = np.sqrt(λ)\n",
    "    return ω,v"
   ]
  },
  {
   "cell_type": "code",
   "execution_count": 143,
   "id": "c0ce65a3",
   "metadata": {},
   "outputs": [
    {
     "data": {
      "text/plain": [
       "(array([11.90122422, 46.68298566]),\n",
       " array([[-0.52437991,  0.86245423],\n",
       "        [ 0.85148442,  0.50613506]]))"
      ]
     },
     "execution_count": 143,
     "metadata": {},
     "output_type": "execute_result"
    }
   ],
   "source": [
    "k = (1,2)\n",
    "elastic_modes(M,C,k)"
   ]
  },
  {
   "cell_type": "markdown",
   "id": "7182e61a-bfe9-4ac1-9adf-3dd73266b5d4",
   "metadata": {},
   "source": [
    "The slightly less general method Hooke.waves assumes an isotropic $M$."
   ]
  },
  {
   "cell_type": "code",
   "execution_count": 144,
   "id": "6d1c91e1",
   "metadata": {},
   "outputs": [
    {
     "data": {
      "text/plain": [
       "((array([10.43408063, 20.47965918]),\n",
       "  array([[ 0.53072246, -0.84754567],\n",
       "         [-0.84754567, -0.53072246]])),\n",
       " (array([10.43408063, 20.47965918]),\n",
       "  array([[-0.53072246,  0.84754567],\n",
       "         [ 0.84754567,  0.53072246]])))"
      ]
     },
     "execution_count": 144,
     "metadata": {},
     "output_type": "execute_result"
    }
   ],
   "source": [
    "ρ=1.3\n",
    "Hooke(C).waves(k,ρ), elastic_modes(xp.eye(2)/ρ,C,k)"
   ]
  },
  {
   "cell_type": "markdown",
   "id": "678323e2",
   "metadata": {},
   "source": [
    "We superpose such modes to construct an exact solution. Similarly to the acoustic case, we take care to use multiples of $2\\pi$ as wavenumbers, so as to obtain a periodic solution."
   ]
  },
  {
   "cell_type": "code",
   "execution_count": 145,
   "id": "abc9ac93",
   "metadata": {
    "editable": true,
    "slideshow": {
     "slide_type": ""
    },
    "tags": [
     "ExportCode"
    ]
   },
   "outputs": [],
   "source": [
    "def ExactSol_e(M,C,ks,fs,imodes):\n",
    "    \"\"\"\n",
    "    Produce an exact solution of the elastic wave equation, \n",
    "    with constant metric M and Hooke tensor C (and S=0).\n",
    "    - ks : list of wave numbers.\n",
    "    - fs : list of functions.\n",
    "    - imodes : list of integers in [0,...,d-1], the propagation mode number.\n",
    "    Choose ks with integer coordinates, and fs 1-periodic, to obtain a solution on (R/Z)^2\n",
    "    \"\"\"\n",
    "    vdim = len(M); ks = xp.array(ks)\n",
    "    modes = [elastic_modes(M,C,k) for k in ks]\n",
    "    ωs = [ω[i] for (ω,_),i in zip(modes,imodes)]\n",
    "    vs = [v[:,i] for (_,v),i in zip(modes,imodes)]\n",
    "    ivs = [lp.solve_AV(M,v) for v in vs]    \n",
    "\n",
    "    def q(t,x): \n",
    "        x_,vs_,ks_ = fd.common_field((x,vs,ks),depths=(1,2,2))\n",
    "        return sum( v*f(lp.dot_VV(k,x_)-ω*t) for (v,k,ω,f) in zip(vs_,ks_,ωs,fs) )\n",
    "    \n",
    "    def p(t,x): \n",
    "        x_,ivs_,ks_ = fd.common_field((x,ivs,ks),depths=(1,2,2))\n",
    "        return sum( -iv*ω*deriv(f,lp.dot_VV(k,x_)-ω*t) for (iv,k,ω,f) in zip(ivs_,ks_,ωs,fs) )\n",
    "\n",
    "    return q,p"
   ]
  },
  {
   "cell_type": "code",
   "execution_count": 146,
   "id": "f881c266",
   "metadata": {
    "editable": true,
    "slideshow": {
     "slide_type": ""
    },
    "tags": []
   },
   "outputs": [],
   "source": [
    "q_exact,p_exact = ExactSol_e(M,C,[\n",
    "    (1,0),(1,-1),(-2,1) # Wavenumbers\n",
    "],[\n",
    "    lambda s:0.5*np.cos(6*π*s+1.2), # Some arbitrary 1-periodic function\n",
    "    lambda s:np.exp(np.cos(4*π*s+4)), \n",
    "    lambda s:np.cos(2*π*s+2)\n",
    "],[0,1,0]) # Wavemodes\n",
    "\n",
    "q0 = q_exact(0,X); p0 = p_exact(0,X)\n",
    "q1_exact = q_exact(T,X); p1_exact = p_exact(T,X)\n",
    "q1_norm = norm(q1_exact,np.inf); p1_norm = norm(p1_exact,np.inf)"
   ]
  },
  {
   "cell_type": "code",
   "execution_count": 147,
   "id": "8d4d54fd",
   "metadata": {},
   "outputs": [],
   "source": [
    "plt.title(\"First component of initial condition q0\")\n",
    "plt.contourf(*X,q0[1])\n",
    "plt.colorbar()\n",
    "plt.axis('equal');"
   ]
  },
  {
   "cell_type": "markdown",
   "id": "b6cfd260",
   "metadata": {
    "editable": true,
    "slideshow": {
     "slide_type": ""
    },
    "tags": []
   },
   "source": [
    "Let us run the symplectic integrator, check the conservation of the discrete perturbed Hamiltonian, and the scheme accuracy."
   ]
  },
  {
   "cell_type": "code",
   "execution_count": 148,
   "id": "a5d71b02",
   "metadata": {
    "editable": true,
    "slideshow": {
     "slide_type": ""
    },
    "tags": []
   },
   "outputs": [],
   "source": [
    "q1,p1 = WaveH.Sympl_p(q0,p0,dt,niter,order=order_t)"
   ]
  },
  {
   "cell_type": "code",
   "execution_count": 149,
   "id": "e3253202",
   "metadata": {},
   "outputs": [
    {
     "data": {
      "text/plain": [
       "(83848126.54488605, 83848126.54488602)"
      ]
     },
     "execution_count": 149,
     "metadata": {},
     "output_type": "execute_result"
    }
   ],
   "source": [
    "WaveH.H_p(q1,p1,dt,order=order_t),WaveH.H_p(q0,p0,dt,order=order_t)"
   ]
  },
  {
   "cell_type": "code",
   "execution_count": 150,
   "id": "f02a1266",
   "metadata": {},
   "outputs": [
    {
     "data": {
      "text/plain": [
       "(0.0025992964259300825, 0.009443890767213135)"
      ]
     },
     "execution_count": 150,
     "metadata": {},
     "output_type": "execute_result"
    }
   ],
   "source": [
    "norm(q1-q1_exact,np.inf)/q1_norm, norm(p1-p1_exact,np.inf)/p1_norm"
   ]
  },
  {
   "cell_type": "markdown",
   "id": "2747c77c",
   "metadata": {},
   "source": [
    "We perform the same systematic tests as usual. The fourth order scheme in time does not bring much benefit here, in contrast to the fourth order scheme in space. \n",
    "Note that the latter is quite costly."
   ]
  },
  {
   "cell_type": "code",
   "execution_count": 153,
   "id": "c9d859d0",
   "metadata": {},
   "outputs": [
    {
     "name": "stdout",
     "output_type": "stream",
     "text": [
      "Parameters dx=0.0125, dt=7.792738804814531e-05, niter=100, M=array([[3.25      , 1.29903811],\n",
      "       [1.29903811, 1.75      ]]), \n",
      "C=array([[140.58492238,  33.8875    ,  41.14871119],\n",
      "       [ 33.8875    ,  53.54007762,   2.37371119],\n",
      "       [ 41.14871119,   2.37371119,  31.5875    ]]).\n",
      "\n",
      "Parameters order_x=2, order_t=1\n",
      "H_relerr=1.8e-16, q1_relerr=0.0048, p1_relerr=0.011\n",
      "Parameters order_x=2, order_t=2\n",
      "H_relerr=3.6e-16, q1_relerr=0.0026, p1_relerr=0.0094\n",
      "Parameters order_x=2, order_t=4\n",
      "H_relerr=5.2e-15, q1_relerr=0.0026, p1_relerr=0.0094\n",
      "\n",
      "Parameters order_x=4, order_t=1\n",
      "H_relerr=-1.1e-15, q1_relerr=0.0031, p1_relerr=0.006\n",
      "Parameters order_x=4, order_t=2\n",
      "H_relerr=-1.1e-15, q1_relerr=5.4e-05, p1_relerr=0.00014\n",
      "Parameters order_x=4, order_t=4\n",
      "H_relerr=-7.1e-16, q1_relerr=6.2e-05, p1_relerr=0.0002\n",
      "\n",
      "Parameters order_x=6, order_t=1\n",
      "H_relerr=-2.7e-15, q1_relerr=0.003, p1_relerr=0.0059\n",
      "Parameters order_x=6, order_t=2\n",
      "H_relerr=-2.3e-15, q1_relerr=3.6e-05, p1_relerr=8.9e-05\n",
      "Parameters order_x=6, order_t=4\n",
      "H_relerr=-2.5e-15, q1_relerr=2.5e-06, p1_relerr=1.6e-05\n"
     ]
    }
   ],
   "source": [
    "print(f\"Parameters {dx=}, {dt=}, {niter=}, {M=}, \\n{C=}.\")\n",
    "for order_x in (2,4,6):\n",
    "    print()\n",
    "    WaveH = Hamiltonian2e(M,C,X,dx,order=order_x)\n",
    "    for order_t in (1,2,4):\n",
    "        print(f\"Parameters {order_x=}, {order_t=}\")\n",
    "        q1,p1 = WaveH.Sympl_p(q0,p0,dt,niter,order=order_t)\n",
    "        H_num = WaveH.H_p(q1,p1,dt,order=order_t)\n",
    "        H_exact = WaveH.H_p(q0,p0,dt,order=order_t)\n",
    "        H_relerr = (H_num-H_exact)/H_exact\n",
    "        q1_relerr = norm(q1-q1_exact,np.inf)/q1_norm\n",
    "        p1_relerr = norm(p1-p1_exact,np.inf)/p1_norm\n",
    "        print(f\"{H_relerr=:.2g}, {q1_relerr=:.2g}, {p1_relerr=:.2g}\")\n",
    "        assert allclose(H_exact,H_num)"
   ]
  },
  {
   "cell_type": "markdown",
   "id": "19a5fe2d",
   "metadata": {
    "editable": true,
    "slideshow": {
     "slide_type": ""
    },
    "tags": []
   },
   "source": [
    "### 3.2 Change of variables\n",
    "\n",
    "The change of variable formulas for the elastic wave equation were presented in [1.5 Elastic change of variables](#1.5-Elastic-change-of-variables). Let us recall them : \n",
    "\\begin{align*}\n",
    "    \\tilde q &= \\Phi^\\top \\ q \\circ \\vp, &\n",
    "    \\tilde p &= \\Phi^{-1} \\ p \\circ \\vp \\ J, &\n",
    "    \\tilde M &= \\Phi^\\top \\ M\\circ \\vp \\ \\Phi / J, &\n",
    "    \\tilde \\ve &= \\Phi^\\top \\ \\ve \\circ \\vp \\ \\Phi.\n",
    "\\end{align*}\n",
    "Denoting $\\Psi := \\Phi^{-1}$ we also have in coordinates (do not put too much trust in my upper and lower indices)\n",
    "\\begin{align*}\n",
    "    \\tilde C_{ijkl} &:= \\sum_{i'j'k'l'} C_{i'j'k'l'} \\circ \\vp \\ \\Psi^{i'}_i \\Psi^{j'}_j \\Psi^{k'}_k \\Psi^{l'}_l \\ J,&\n",
    "    \\tilde S_{ij}^k &= \\sum_{i'j'} \\Phi^{i}_{i'} \\Phi^{j}_{j'} \\ S^{i'j'}_{k'}\\circ \\vp \\ \\Psi_k^{k'} \n",
    "    {+} \\sum_{k'} \\partial^{ij}\\phi_{k'} \\Psi_k^{k'}\n",
    "\\end{align*}\n",
    "We use a change of variables that is compatible with the torus domain $(\\bR/\\bZ)^2$, the same as before, and apply it to the constant coefficient case for which an exact solution is known.\n",
    "\n",
    "<!---\n",
    "**Geometric interpretation of $q$ and $p$.**\n",
    "In the generalized elastic wave equation, when $M\\neq \\Id/\\rho$, the position variable $q$ cannot be interpreted as an infinitesimal displacement anymore, as evidenced by the change of variables $\\Phi^\\top \\ q \\circ \\vp$ (as opposed to $\\Phi \\ q \\circ \\vp$). Rather, $q$ is a co-vector, which is also consistent with the upper indices $q^i$ used the elastic equations. In contrast whereas the momentum density $p$ remains a true vector, living in physical space, which is why we can compute the kinetic energy anyway. \n",
    "--->"
   ]
  },
  {
   "cell_type": "code",
   "execution_count": 154,
   "id": "36006ed6",
   "metadata": {
    "editable": true,
    "slideshow": {
     "slide_type": ""
    },
    "tags": [
     "ExportCode"
    ]
   },
   "outputs": [],
   "source": [
    "def tq_e(q,ϕ,dϕ): return lp.dot_AV(lp.transpose(dϕ),q(ϕ))\n",
    "def tp_e(p,ϕ,inv_dϕ,Jϕ): return lp.dot_AV(inv_dϕ,p(ϕ))*Jϕ\n",
    "\n",
    "def tM_e(M,ϕ,dϕ,Jϕ): \n",
    "    M_ = fd.as_field(M(ϕ),Jϕ.shape,depth=2)\n",
    "    return lp.dot_AA(lp.transpose(dϕ),lp.dot_AA(M_,dϕ))/Jϕ\n",
    "\n",
    "def tC_e(C,ϕ,inv_dϕ,Jϕ): \n",
    "    C_ = fd.as_field(C(ϕ),Jϕ.shape,depth=2)\n",
    "    return Hooke(C_).rotate(inv_dϕ).hooke*Jϕ\n",
    "\n",
    "def tS_e(S,ϕ,dϕ,inv_dϕ,d2ϕ): \n",
    "    S_ = fd.as_field(S(ϕ),ϕ[0].shape,depth=3)\n",
    "    vdim = len(dϕ)\n",
    "    \n",
    "    S1 = sum(dϕ[ip,:,None,None]*dϕ[jp,None,:,None]*S_[ip,jp,kp]*inv_dϕ[:,kp]\n",
    "          for ip in range(vdim) for jp in range(vdim) for kp in range(vdim))\n",
    "    S2 = sum(d2ϕ[kp,:,:,None]*inv_dϕ[:,kp] for kp in range(vdim))\n",
    "    return S1 + S2"
   ]
  },
  {
   "cell_type": "markdown",
   "id": "2ffd97ce",
   "metadata": {},
   "source": [
    "Let us check, using automatic differentiation, the validity of these implementations.\n",
    "\n",
    "<!---\n",
    "# Check tS, first with zeros\n",
    "S = np.zeros((2,2,2)) \n",
    "S1 = tS_e(lambda x:S,ϕ,dϕ,inv_dϕ,d2ϕ) # only second part\n",
    "q1 = lp.dot_AV(lp.transpose(dϕ),q0)\n",
    "(S1*q1).sum(axis=2)\n",
    "assert np.allclose((S1*q1).sum(axis=2), (d2ϕ*q0[:,None,None]).sum(axis=0))\n",
    "--->"
   ]
  },
  {
   "cell_type": "code",
   "execution_count": 155,
   "id": "b91b4b9e",
   "metadata": {
    "editable": true,
    "slideshow": {
     "slide_type": ""
    },
    "tags": []
   },
   "outputs": [
    {
     "name": "stdout",
     "output_type": "stream",
     "text": [
      "Finite differences energy relative error : 0.00345, order=2\n",
      "Finite differences energy relative error : 6.68e-05, order=4\n"
     ]
    }
   ],
   "source": [
    "ϵ = 0.02\n",
    "ϕ,dϕ,inv_dϕ,Jϕ,d2ϕ = differentiate(lambda x:ϕ_fun(x,ϵ),X)\n",
    "assert np.min(Jϕ)>0\n",
    "\n",
    "# Check the conservation of the duality bracket\n",
    "q0 = q_exact(0,X); p0=p_exact(0,X)\n",
    "tq0 = tq_e(lambda x:q_exact(0,x),ϕ,dϕ)\n",
    "tp0 = tp_e(lambda x:p_exact(0,x),ϕ,inv_dϕ,Jϕ)\n",
    "assert allclose(np.sum(tq0*tp0),np.sum(q0*p0),atol=1e-8 if xp is np else 3e-2)\n",
    "\n",
    "# Check the conservation of the kinetic energy\n",
    "tM = tM_e(lambda x:M,ϕ,dϕ,Jϕ)\n",
    "assert allclose(KineticEnergy_e(tp0,tM).sum(), KineticEnergy_e(p0,M).sum())\n",
    "\n",
    "# Check the Hooke tensor transformation, linear part only\n",
    "def ϵ_fun(x):\n",
    "    x_ad = ad.Dense.identity(constant=x,shape_free=(2,))\n",
    "    dq = np.moveaxis(q_exact(0,x_ad).coef,-1,1) # Differential\n",
    "    return 0.5*(dq+lp.transpose(dq))\n",
    "ϵ = ϵ_fun(X)\n",
    "ϵ1 = lp.dot_AA(lp.transpose(dϕ),lp.dot_AA(ϵ,dϕ))\n",
    "assert allclose(Hooke(C).dot_AA(ϵ,ϵ), Hooke(C).rotate(inv_dϕ).dot_AA(ϵ1,ϵ1))\n",
    "\n",
    "# Check the Hooke tensor transformation, with the coordinate transform\n",
    "tC = tC_e(lambda x:C,ϕ,inv_dϕ,Jϕ)\n",
    "tϵ = lp.dot_AA(lp.transpose(dϕ),lp.dot_AA(ϵ_fun(ϕ),dϕ))\n",
    "assert allclose(Hooke(C).dot_AA(ϵ,ϵ).sum(),Hooke(tC).dot_AA(tϵ,tϵ).sum())\n",
    "# Weird that it works so well, there should be some small error.\n",
    "\n",
    "# Check tS, with some random values\n",
    "np.random.seed(42)\n",
    "S = xp.asarray(np.random.rand(2,2,2,*Jϕ.shape)); S = S+np.moveaxis(S,0,1) # Symmetrize\n",
    "S1 = tS_e(lambda x:S,ϕ,dϕ,inv_dϕ,d2ϕ) # only second part\n",
    "s1 = lp.dot_AA(lp.transpose(dϕ),lp.dot_AA((S*q0).sum(axis=2),dϕ))\n",
    "s2 = (d2ϕ*q0[:,None,None]).sum(axis=0)\n",
    "q1 = lp.dot_AV(lp.transpose(dϕ),q0)\n",
    "assert allclose(s1+s2, (S1*q1).sum(axis=2))\n",
    "\n",
    "# Check the conservation of the Potential energy\n",
    "S = xp.zeros((2,2,2))\n",
    "tS = tS_e(lambda x:S,ϕ,dϕ,inv_dϕ,d2ϕ)\n",
    "for order in (2,4):\n",
    "    tE = PotentialEnergy2e(tq0,tC,dx,S=tS,order=order).sum()\n",
    "    E = PotentialEnergy2e(q0,C,dx,S=S,order=4).sum()\n",
    "    print(f\"Finite differences energy relative error : {tE/E-1:.3g}, {order=}\")\n",
    "    # Only accurate up to the scheme truncation error"
   ]
  },
  {
   "cell_type": "markdown",
   "id": "8b37f47d",
   "metadata": {},
   "source": [
    "Let us build the scheme, run it, and check the discrete perturbed hamiltonian conservation and numerical error."
   ]
  },
  {
   "cell_type": "code",
   "execution_count": 156,
   "id": "b0a217ff",
   "metadata": {},
   "outputs": [],
   "source": [
    "WaveH = Hamiltonian2e(tM,tC,X,dx,order=2,S=tS)"
   ]
  },
  {
   "cell_type": "code",
   "execution_count": 157,
   "id": "e1f0f616",
   "metadata": {},
   "outputs": [],
   "source": [
    "dt_max = CFL_e(tM,tC,dx)\n",
    "dt = 0.4*dt_max\n",
    "niter = 100\n",
    "T = 100*dt"
   ]
  },
  {
   "cell_type": "code",
   "execution_count": 158,
   "id": "290e6fa2",
   "metadata": {
    "editable": true,
    "slideshow": {
     "slide_type": ""
    },
    "tags": []
   },
   "outputs": [],
   "source": [
    "q0 = tq_e(lambda x:q_exact(0,x),ϕ,dϕ)\n",
    "p0 = tp_e(lambda x:p_exact(0,x),ϕ,inv_dϕ,Jϕ)\n",
    "q1_exact = tq_e(lambda x:q_exact(T,x),ϕ,dϕ)\n",
    "p1_exact = tp_e(lambda x:p_exact(T,x),ϕ,inv_dϕ,Jϕ)\n",
    "q1_norm = norm(q1_exact,np.inf); p1_norm = norm(p1_exact,np.inf)\n",
    "\n",
    "q1,p1 = WaveH.Sympl_p(q0,p0,dt,niter,order=order_t)"
   ]
  },
  {
   "cell_type": "code",
   "execution_count": 159,
   "id": "6ba3201a",
   "metadata": {},
   "outputs": [
    {
     "data": {
      "text/plain": [
       "(83945071.09771943, 83945071.09772217)"
      ]
     },
     "execution_count": 159,
     "metadata": {},
     "output_type": "execute_result"
    }
   ],
   "source": [
    "WaveH.H_p(q1,p1,dt,order=order_t),WaveH.H_p(q0,p0,dt,order=order_t)"
   ]
  },
  {
   "cell_type": "code",
   "execution_count": 160,
   "id": "7b6ad0ba",
   "metadata": {},
   "outputs": [
    {
     "data": {
      "text/plain": [
       "(0.007253681870753503, 0.01803895519800285)"
      ]
     },
     "execution_count": 160,
     "metadata": {},
     "output_type": "execute_result"
    }
   ],
   "source": [
    "norm(q1-q1_exact,np.inf)/q1_norm, norm(p1-p1_exact,np.inf)/p1_norm"
   ]
  },
  {
   "cell_type": "code",
   "execution_count": 163,
   "id": "a477161b",
   "metadata": {},
   "outputs": [
    {
     "name": "stdout",
     "output_type": "stream",
     "text": [
      "Parameters dx=0.0125, dt=5.903383474983559e-05, niter=100, M=array([[3.25      , 1.29903811],\n",
      "       [1.29903811, 1.75      ]]), \n",
      "C=array([[140.58492238,  33.8875    ,  41.14871119],\n",
      "       [ 33.8875    ,  53.54007762,   2.37371119],\n",
      "       [ 41.14871119,   2.37371119,  31.5875    ]]).\n",
      "\n",
      "Parameters order_x=2, order_t=1\n",
      "H_relerr=0, q1_relerr=0.0087, p1_relerr=0.019\n",
      "Parameters order_x=2, order_t=2\n",
      "H_relerr=0, q1_relerr=0.0073, p1_relerr=0.018\n",
      "Parameters order_x=2, order_t=4\n",
      "H_relerr=-3.3e-14, q1_relerr=0.0073, p1_relerr=0.018\n",
      "\n",
      "Parameters order_x=4, order_t=1\n",
      "H_relerr=-1.8e-16, q1_relerr=0.0036, p1_relerr=0.0099\n",
      "Parameters order_x=4, order_t=2\n",
      "H_relerr=0, q1_relerr=0.0014, p1_relerr=0.0084\n",
      "Parameters order_x=4, order_t=4\n",
      "H_relerr=-8.1e-14, q1_relerr=0.0014, p1_relerr=0.0084\n",
      "\n",
      "Parameters order_x=6, order_t=1\n",
      "H_relerr=-1.8e-16, q1_relerr=0.0036, p1_relerr=0.01\n",
      "Parameters order_x=6, order_t=2\n",
      "H_relerr=0, q1_relerr=0.0013, p1_relerr=0.0086\n",
      "Parameters order_x=6, order_t=4\n",
      "H_relerr=-1.2e-13, q1_relerr=0.0013, p1_relerr=0.0086\n"
     ]
    }
   ],
   "source": [
    "print(f\"Parameters {dx=}, {dt=}, {niter=}, {M=}, \\n{C=}.\")\n",
    "for order_x in (2,4,6):\n",
    "    print()\n",
    "    WaveH = Hamiltonian2e(tM,tC,X,dx,order=order_x,S=tS)\n",
    "    for order_t in (1,2,4):\n",
    "        print(f\"Parameters {order_x=}, {order_t=}\")\n",
    "        q1,p1 = WaveH.Sympl_p(q0,p0,dt,niter,order=order_t)\n",
    "        H_num = WaveH.H_p(q1,p1,dt,order=order_t)\n",
    "        H_exact = WaveH.H_p(q0,p0,dt,order=order_t)\n",
    "        H_relerr = (H_num-H_exact)/H_exact\n",
    "        q1_relerr = norm(q1-q1_exact,np.inf)/q1_norm\n",
    "        p1_relerr = norm(p1-p1_exact,np.inf)/p1_norm\n",
    "        print(f\"{H_relerr=:.2g}, {q1_relerr=:.2g}, {p1_relerr=:.2g}\")\n",
    "        assert np.allclose(H_exact,H_num)"
   ]
  },
  {
   "cell_type": "markdown",
   "id": "2eaa9625-ac01-49b4-aacd-00d69bcca319",
   "metadata": {},
   "source": [
    "### 3.3 Dispersion relation\n",
    "\n",
    "**Continuous setting.**\n",
    "As already observed in the construction of an explicit solution, the elastic wave equation admits $d$-propagation modes (pressure wave, shear waves) for each wavenumber $k$, with different pulsations $\\omega$ and oscillation directions $v$. They are characterized by the eigenvector/eigenvalue relation\n",
    "\\begin{align*}\n",
    "    \\omega^2 v &= M C[\\kw] v, & \n",
    "    \\text{where } C[\\kw]_{il} := \\sum_{jk} C_{ijkl} \\kw^j \\kw^k.\n",
    "\\end{align*}\n",
    "In particular, $\\det (M C[\\kw] - \\omega^2 \\Id) = 0$.\n",
    "\n",
    "The plane wave corresponding to these parameters is \n",
    "\\begin{align*}\n",
    "    q(t,x) &= v \\ \\be(\\<\\kw,x\\> - \\omega t), &\n",
    "    p(t,x) := M^{-1} \\dot q = -i \\omega M^{-1} v \\be(\\<\\kw,x\\> - \\omega t).\n",
    "\\end{align*}\n",
    "\n",
    "**Discrete setting.**\n",
    "The Selling/Voronoi decomposition, applied to the Hooke tensor $C_{ijkl}$, yields an expression of the form\n",
    "$$\n",
    "    C[\\kw]_{il} = \\sum_{1 \\leq r \\leq R} \\lambda_r (\\sigma_r \\kw)_i (\\sigma_r \\kw)_l,\n",
    "$$\n",
    "where $\\lambda_r \\geq 0$ and $\\sigma_r\\in S_d(\\bZ)$ is a symmetric matrix with integer entries, and $R$ is an integer (specifically $R = n (n+1)/2$ where $n=d (d+1)/2$). \n",
    "\n",
    "Taking the Fourier transform of the scheme, we obtain the approximate counterpart (case `order_x=2`)\n",
    "\\begin{align*}\n",
    "    C_{\\diff x}[\\kw]_{il} &:= \\sum_{1 \\leq r \\leq R} \\lambda_r \\, \\sin_{\\diff x}((\\sigma_r \\kw)_i) \\, \\sin_{\\diff x} ( (\\sigma_r \\kw)_l ), &\n",
    "    C_{\\diff x}[\\kw]_{ii} &:= \\sum_{1 \\leq r \\leq R} \\lambda_r \\sin^2_{\\diff x/2} [(\\sigma_r \\kw)_i],\n",
    "\\end{align*}\n",
    "where $\\sin_\\delta(x) := \\sin(x\\delta)/\\delta$ is the rescaled sine function.\n",
    "\n",
    "From this point, we can compute the eigenvectors, obtain the different propagation modes, and proceed as before.\n",
    "\n",
    "<!---\n",
    "def dispersion_e(k,ρ,C,dx,dt,order_x=2,order_t=2):\n",
    "    \"\"\"Return all discrete propagation modes.\"\"\"\n",
    "    assert np.allclose(M,np.diag(np.diagonal(M))) # For now, only works for diagonal matrices\n",
    "    Ck = sin_contract(C,k,dx,order_x)\n",
    "    b,vq = eig(lp.dot_AA(M,Ck),sort=True)\n",
    "    ω,r = _dispersion(b,1,dt,order_t) # Using ρ=1 here, and introducing M^{-1} in the next line\n",
    "    vp = r*lp.solve_AV(M,vq)\n",
    "    return ω,vq,vp\n",
    "--->"
   ]
  },
  {
   "cell_type": "code",
   "execution_count": 164,
   "id": "0053c93c-3926-41d1-a476-b2fabd431633",
   "metadata": {
    "editable": true,
    "slideshow": {
     "slide_type": ""
    },
    "tags": [
     "ExportCode"
    ]
   },
   "outputs": [],
   "source": [
    "def sin_eet(e,dx,order_x=2):\n",
    "    \"\"\"Approximates of e e^T as dx->0, arises from FFT of scheme.\"\"\"\n",
    "    def ondiag(s): # Fourier transform of finite difference approximation of second derivative, see _γ\n",
    "        if order_x==2: return 4*np.sin(s/2)**2\n",
    "        if order_x==4: return (np.cos(2*s)-16*np.cos(s)+15)/6\n",
    "        if order_x==6: return 49/18-3*np.cos(s)+3/10*np.cos(2*s)-1/45*np.cos(3*s)\n",
    "    def offdiag(s,t): # Fourier transform of finite difference approximation of cross derivative\n",
    "        if order_x==2: return np.sin(s)*np.sin(t)\n",
    "        if order_x==4: return (8*np.sin(s)*np.sin(t) + (4*np.sin(s)-np.sin(2*s))*(4*np.sin(t)-np.sin(2*t)))/12\n",
    "        if order_x==6: return (-9*np.sin(2*s)*(13*np.sin(t)-5*np.sin(2*t)+np.sin(3*t))+9*np.sin(s)*(50*np.sin(t)-13*np.sin(2*t)+2*np.sin(3*t))+np.sin(3*s)*(18*np.sin(t)-9*np.sin(2*t)+2*np.sin(3*t)))/180        \n",
    "    return xp.array([[ondiag(e[i]*dx) if i==j else offdiag(e[i]*dx,e[j]*dx)\n",
    "             for i in range(len(e))] for j in range(len(e))])/dx**2\n",
    "    \n",
    "def sin_contract(C,k,dx,order_x):\n",
    "    \"\"\"Approximates Hooke(C).contract(k) as dx->0, arises from FFT of scheme.\"\"\"\n",
    "    λ,σ = C if isinstance(C,tuple) else Hooke(C).Selling()\n",
    "    σk = lp.dot_AV(σ,k[:,None])\n",
    "    return np.sum(λ*sin_eet(σk,dx,order_x),axis=2)\n",
    "    \n",
    "def dispersion_e(k,ρ,C,dx,dt,order_x=2,order_t=2):\n",
    "    \"\"\"Return all discrete propagation modes.\"\"\"\n",
    "    # For now, we assume that M = Id/ρ. Anisotropic M seem doable, but would require taking care\n",
    "    # of the non-commutativity of a number of matrices in the scheme.\n",
    "    Ck = sin_contract(C,k,dx,order_x)\n",
    "    b,vq = eig(Ck/ρ,sort=True)\n",
    "    ω,r = _dispersion(b,ρ,dt,order_t)\n",
    "    return ω,vq,r*vq\n",
    "\n",
    "def mk_planewave_e(k,ω,vq,vp):\n",
    "    \"\"\"Make an elastic planewave with the specified parameters.\"\"\"\n",
    "    def brdcst(v,x): return fd.as_field(v,x[0].shape)\n",
    "    def expi(t,x): return np.exp(1j*(lp.dot_VV(brdcst(k,x),x) - ω*t)) \n",
    "    def q_exact(t,x): return  expi(t,x).real * brdcst(vq,x)\n",
    "    def p_exact(t,x): return -expi(t,x).imag * brdcst(vp,x)\n",
    "    return q_exact,p_exact"
   ]
  },
  {
   "cell_type": "code",
   "execution_count": 167,
   "id": "f05b7a8b-9932-4ed2-a23a-28448df8bd32",
   "metadata": {
    "editable": true,
    "slideshow": {
     "slide_type": ""
    },
    "tags": []
   },
   "outputs": [
    {
     "name": "stdout",
     "output_type": "stream",
     "text": [
      "\n",
      "order_x=2, order_t=2, mode=0, err_q=2.22e-16, err_p=3.553e-15\n",
      "order_x=2, order_t=2, mode=1, err_q=3.886e-16, err_p=7.105e-15\n",
      "order_x=2, order_t=4, mode=0, err_q=9.437e-16, err_p=7.55e-15\n",
      "order_x=2, order_t=4, mode=1, err_q=1.055e-15, err_p=1.421e-14\n",
      "\n",
      "order_x=4, order_t=2, mode=0, err_q=3.886e-16, err_p=7.55e-15\n",
      "order_x=4, order_t=2, mode=1, err_q=7.772e-16, err_p=1.488e-14\n",
      "order_x=4, order_t=4, mode=0, err_q=1.055e-15, err_p=9.77e-15\n",
      "order_x=4, order_t=4, mode=1, err_q=2.776e-16, err_p=7.327e-15\n",
      "\n",
      "order_x=6, order_t=2, mode=0, err_q=2.22e-16, err_p=3.553e-15\n",
      "order_x=6, order_t=2, mode=1, err_q=1.277e-15, err_p=1.599e-14\n",
      "order_x=6, order_t=4, mode=0, err_q=8.743e-16, err_p=8.216e-15\n",
      "order_x=6, order_t=4, mode=1, err_q=8.882e-16, err_p=1.688e-14\n"
     ]
    }
   ],
   "source": [
    "ρ=2.3\n",
    "#C = np.array([[1,0,0],[0,1,0],[0,0,0.]]) # Another, simpler, example with some decoupling.\n",
    "C = mica.extract_xz().rotate_by(np.pi/8).hooke; C/=np.max(C)\n",
    "k = 2*π*xp.array([1,2])\n",
    "X,dx = make_domain(10,2)\n",
    "for order_x in (2,4,6):\n",
    "    print()\n",
    "    for order_t in (2,4):\n",
    "        M = xp.eye(2)/ρ # Assuming isotropic M\n",
    "        dt_max = CFL_e(M,C,dx,order_x=order_x)\n",
    "        dt = 0.6*dt_max\n",
    "        WaveH = Hamiltonian2e(M,C,X,dx,order=order_x)\n",
    "\n",
    "        ω,vq,vp = dispersion_e(k,ρ,C,dx,dt,order_x,order_t)\n",
    "        for mode in range(len(k)):\n",
    "            qe,pe = mk_planewave_e(k,ω[mode],vq[:,mode],vp[:,mode])\n",
    "            q1,p1 = WaveH.Sympl_p(qe(0,X),pe(0,X),dt,order=order_t)\n",
    "            err_q = norm(q1-qe(dt,X),np.inf); err_p = norm(p1-pe(dt,X),np.inf)\n",
    "            print(f\"{order_x=}, {order_t=}, {mode=}, {err_q=:.4}, {err_p=:.4}\")\n",
    "            atol=1e-13 if xp is np else 2e-5\n",
    "            assert err_q<atol/10 and err_p<atol # Exact up to machine precision."
   ]
  },
  {
   "cell_type": "markdown",
   "id": "ef25301b-4817-429a-a39e-363bce37c3b4",
   "metadata": {},
   "source": [
    "Again, we can visualize the exact and numerical dispersion relations. The numerical dispersion relation is more accurate for the pressure wave than for the shear wave. This is not surprising since accuracy largely depends on the number of discretization points per wavelength, and the pressure wavelength is longer than the shear wavelength for the same frequency (pressure waves are faster)."
   ]
  },
  {
   "cell_type": "code",
   "execution_count": 183,
   "id": "f181504c-1b99-4f3a-8d5f-1ce4509e3de5",
   "metadata": {},
   "outputs": [
    {
     "name": "stdout",
     "output_type": "stream",
     "text": [
      "Continuous model (blue); order_x=2 (red); order_x=4 (blue)\n"
     ]
    }
   ],
   "source": [
    "# Choose the parameters\n",
    "ρ=2.3\n",
    "#C = xp.array([[1,0,0],[0,1,0],[0,0,0.]]) # Another, simpler, example with some decoupling.\n",
    "C = mica.extract_xz().rotate_by(np.pi/8).hooke; C/=np.max(C)\n",
    "dx=1. # Try different values\n",
    "dt=1\n",
    "\n",
    "# Choose the range of wavenumbers and broadcast data\n",
    "ak0 = xp.linspace(-1,1)\n",
    "ak1 = xp.linspace(-1,1)\n",
    "ks = xp.array(np.meshgrid(ak0,ak1,indexing='ij'))\n",
    "shape = ks[0].shape\n",
    "ρs = fd.as_field(ρ,shape); Cs = fd.as_field(C,shape)\n",
    "\n",
    "ω_cont,_ = Hooke(Cs).waves(ks,ρs) #lp.dot_VAV(ks,Ds,ks)/ρs\n",
    "ω_22,_,_ = dispersion_e(ks,ρs,Cs,dx,dt,order_x=2,order_t=2)\n",
    "ω_42,_,_ = dispersion_e(ks,ρs,Cs,dx,dt,order_x=4,order_t=2)\n",
    "ω_62,_,_ = dispersion_e(ks,ρs,Cs,dx,dt,order_x=6,order_t=2)\n",
    "\n",
    "print(\"Continuous model (blue); order_x=2 (red); order_x=4 (blue)\")\n",
    "plt.figure(figsize=[12,6])\n",
    "plt.subplot(1,2,1); plt.title(\"Shear wave pulsation ω(k), continuous and discrete.\")\n",
    "plt.contour(*ks,ω_cont[0],levels=[0.2],colors='blue')\n",
    "plt.contour(*ks,ω_22[0],levels=[0.2],colors='red')\n",
    "plt.contour(*ks,ω_42[0],levels=[0.2],colors='green')\n",
    "plt.contour(*ks,ω_62[0],levels=[0.2],colors='purple')\n",
    "plt.axis('equal')\n",
    "plt.subplot(1,2,2); plt.title(\"Pressure wave pulsation ω(k), continuous and discrete.\")\n",
    "plt.contour(*ks,ω_cont[1],levels=[0.2],colors='blue')\n",
    "plt.contour(*ks,ω_22[1],levels=[0.2],colors='red')\n",
    "plt.contour(*ks,ω_42[1],levels=[0.2],colors='green')\n",
    "plt.contour(*ks,ω_62[1],levels=[0.2],colors='purple')\n",
    "plt.axis('equal');"
   ]
  },
  {
   "cell_type": "markdown",
   "id": "810699e4",
   "metadata": {
    "editable": true,
    "slideshow": {
     "slide_type": ""
    },
    "tags": []
   },
   "source": [
    "## 4. GPU accelerated kernels\n",
    "\n",
    "Generic sparse matrix libraries are usually quite efficient on the CPU. In contrast, on the GPU, when the sparsity patterns are known, a custom kernel usually provides a substantial speedup and as importantly can be much more memory efficient. \n",
    "\n",
    "The point of this section is only to check reproducibility. We do not run large test cases here.\n",
    "We compare the above implementation, which eventually relies on sparse matrices, with another implementation based on GPU kernels."
   ]
  },
  {
   "cell_type": "code",
   "execution_count": 155,
   "id": "3ae4804a",
   "metadata": {
    "editable": true,
    "slideshow": {
     "slide_type": ""
    },
    "tags": []
   },
   "outputs": [
    {
     "data": {
      "text/plain": [
       "(agd.Eikonal.HFM_CUDA.AnisotropicWave.AcousticHamiltonian_Kernel,\n",
       " agd.Eikonal.HFM_CUDA.AnisotropicWave.ElasticHamiltonian_Kernel)"
      ]
     },
     "execution_count": 155,
     "metadata": {},
     "output_type": "execute_result"
    }
   ],
   "source": [
    "from agd.Eikonal.HFM_CUDA import AnisotropicWave as aw\n",
    "# Sparse matrix implementations, intended for CPU, as illustrated above\n",
    "aw.AcousticHamiltonian_Sparse, aw.ElasticHamiltonian_Sparse\n",
    "# GPU kernel implementations, should be equivalent\n",
    "aw.AcousticHamiltonian_Kernel, aw.ElasticHamiltonian_Kernel"
   ]
  },
  {
   "cell_type": "code",
   "execution_count": 156,
   "id": "7a4b62f2",
   "metadata": {
    "editable": true,
    "slideshow": {
     "slide_type": ""
    },
    "tags": []
   },
   "outputs": [],
   "source": [
    "try: import cupy as cp\n",
    "except ImportError: raise ad.DeliberateNotebookError(\"Cuda GPU needed for this section\")"
   ]
  },
  {
   "cell_type": "markdown",
   "id": "3a8f1fc5",
   "metadata": {},
   "source": [
    "### 4.1 Acoustic wave "
   ]
  },
  {
   "cell_type": "code",
   "execution_count": 157,
   "id": "c8894159",
   "metadata": {
    "editable": true,
    "slideshow": {
     "slide_type": ""
    },
    "tags": []
   },
   "outputs": [
    {
     "name": "stdout",
     "output_type": "stream",
     "text": [
      "Testing vdim=1, order_x=2\n",
      "Testing vdim=1, order_x=4\n",
      "Testing vdim=2, order_x=2\n",
      "Testing vdim=2, order_x=4\n",
      "Testing vdim=3, order_x=2\n",
      "Testing vdim=3, order_x=4\n"
     ]
    }
   ],
   "source": [
    "np.random.seed(42)\n",
    "rand = np.random.rand\n",
    "\n",
    "for vdim in (1,2,3,): \n",
    "    nX = (None,10,5,5)[vdim]\n",
    "    tol = (None,1e-5,1e-4,1e-3)[vdim]\n",
    "    tols = {'rtol':tol,'atol':tol}\n",
    "    shape = (nX,)*vdim\n",
    "    dx = 1/nX\n",
    "    np.random.seed(42)\n",
    "    ρ = rand(*shape)\n",
    "    D = rand(vdim,vdim,*shape)-0.5\n",
    "    D = lp.dot_AA(lp.transpose(D),D)\n",
    "    for i in range(vdim): D[i,i]+=0.1\n",
    "#    D[:] = np.eye(vdim).reshape((vdim,vdim)+(1,)*vdim) # Variant : identity matrix\n",
    "\n",
    "    q0_cpu,p0_cpu = rand(*shape),rand(*shape)\n",
    "#    q0_cpu = 1+0*q0_cpu # Variant : constant position\n",
    "#    q0_cpu = 0*q0_cpu; q0_cpu[(0,)*vdim]=1 # Variant : Dirac position\n",
    "    dt = 0.1\n",
    "    damp_p = rand(*shape)\n",
    "    damp_q = rand(*shape)\n",
    "\n",
    "    ρ_gpu,D_gpu,damp_q_gpu,damp_p_gpu,q0_gpu,p0_gpu = [cp.asarray(e,dtype=np.float32) \n",
    "        for e in (ρ,D,damp_q,damp_p,q0_cpu,p0_cpu)]\n",
    "\n",
    "    for order_x in (2,4,): #(2,4):\n",
    "        print(f\"Testing {vdim=}, {order_x=}\")\n",
    "        H_cpu = aw.AcousticHamiltonian_Sparse(ρ,D,dx,order_x=order_x)\n",
    "        H_cpu.damp_q = damp_q\n",
    "        H_cpu.damp_p = damp_p\n",
    "\n",
    "        H_gpu = aw.AcousticHamiltonian_Kernel(ρ_gpu,D_gpu,dx,bc='Periodic',order_x=order_x)\n",
    "        H_gpu.damp_q = damp_q_gpu\n",
    "        H_gpu.damp_p = damp_p_gpu\n",
    "\n",
    "        # Testing\n",
    "        q1_cpu = H_cpu.Expl_q(q0_cpu,p0_cpu,dt)\n",
    "        q1_gpu = H_gpu.Expl_q(q0_gpu,p0_gpu,dt)\n",
    "        assert allclose(q1_cpu,q1_gpu)\n",
    "\n",
    "        p1_cpu = H_cpu.Expl_p(q0_cpu,p0_cpu,dt)\n",
    "        p1_gpu = H_gpu.Expl_p(q0_gpu,p0_gpu,dt)\n",
    "        assert allclose(p1_cpu,p1_gpu,**tols)\n",
    "\n",
    "        q1_cpu,p1_cpu = H_cpu.Verlet_p(q0_cpu,p0_cpu,dt,niter=2)\n",
    "        q1_gpu,p1_gpu = H_gpu.Verlet_p(q0_gpu,p0_gpu,dt,niter=2)\n",
    "        assert allclose(q1_cpu,q1_gpu,**tols)\n",
    "        assert allclose(p1_cpu,p1_gpu,**tols)\n",
    "\n",
    "        q1_cpu,p1_cpu = H_cpu.Ruth4_p(q0_cpu,p0_cpu,dt,niter=2)\n",
    "        q1_gpu,p1_gpu = H_gpu.Ruth4_p(q0_gpu,p0_gpu,dt,niter=2)\n",
    "        assert allclose(q1_cpu,q1_gpu,**tols)\n",
    "        assert allclose(p1_cpu,p1_gpu,**tols)"
   ]
  },
  {
   "cell_type": "markdown",
   "id": "45db0f1d",
   "metadata": {
    "editable": true,
    "slideshow": {
     "slide_type": ""
    },
    "tags": []
   },
   "source": [
    "### 4.2 Elastic wave"
   ]
  },
  {
   "cell_type": "code",
   "execution_count": null,
   "id": "cf181244-fc2f-44fa-a023-3688c4890767",
   "metadata": {
    "editable": true,
    "slideshow": {
     "slide_type": ""
    },
    "tags": [
     "ExportCode"
    ]
   },
   "outputs": [],
   "source": [
    "def MakeRandomTensor(dim, shape=tuple(), relax=0.05):\n",
    "    \"\"\"\n",
    "    Some random symmetric positive definite matrices. \n",
    "    (relax>0 ensures definiteness)\n",
    "    \"\"\"\n",
    "    A = np.random.standard_normal( (dim,dim) + shape )\n",
    "    D = lp.dot_AA(lp.transpose(A),A)\n",
    "    identity = np.eye(dim).reshape((dim,dim)+(1,)*len(shape))\n",
    "    return D+lp.trace(D)*relax*identity"
   ]
  },
  {
   "cell_type": "code",
   "execution_count": 158,
   "id": "1467f47d",
   "metadata": {
    "editable": true,
    "slideshow": {
     "slide_type": ""
    },
    "tags": []
   },
   "outputs": [
    {
     "name": "stdout",
     "output_type": "stream",
     "text": [
      "Testing vdim=1, order_x=2\n",
      "Testing vdim=1, order_x=4\n",
      "Testing vdim=2, order_x=2\n",
      "Testing vdim=2, order_x=4\n",
      "Testing vdim=3, order_x=2\n",
      "Testing vdim=3, order_x=4\n"
     ]
    }
   ],
   "source": [
    "rand = np.random.rand\n",
    "\n",
    "for vdim in (1,2,3,): \n",
    "    nX = (None,10,5,5)[vdim]\n",
    "    tol = (None,1e-5,1e-4,1e-4)[vdim]\n",
    "    tols = {'atol':tol,'rtol':tol}\n",
    "    shape = (nX,)*vdim\n",
    "    dx = 1/nX\n",
    "    np.random.seed(42)\n",
    "    M = MakeRandomTensor(vdim,shape,0.2); M/=np.max(M)\n",
    "    #M[:] = np.eye(vdim).reshape((vdim,vdim)+(1,)*vdim) # Alternative : M = Id\n",
    "    #M = np.ones((1,1,*shape)) # Alternative : M = 1\n",
    "\n",
    "    symdim = (vdim*(vdim+1))//2\t\n",
    "    C = MakeRandomTensor(symdim,shape,0.3); C/=np.max(C)\n",
    "#    C[:] = np.eye(symdim).reshape((symdim,symdim)+(1,)*vdim) # Alternative : C = Id\n",
    "\n",
    "    q0_cpu,p0_cpu = rand(vdim,*shape),rand(vdim,*shape)\n",
    "    #q0_cpu = 1+0*q0_cpu # Alternative : q0 is constant\n",
    "    #q0_cpu = 0*q0_cpu; q0_cpu[0,(0,)*vdim]=1 # Alternative : q0 is a Dirac\n",
    "    dt = 0.1\n",
    "    damp_p = rand(*shape)\n",
    "    damp_q = rand(*shape)\n",
    "\n",
    "    for order_x in (2,4,):#(2,4,): #(2,4):\n",
    "        print(f\"Testing {vdim=}, {order_x=}\")\n",
    "        H_cpu = aw.ElasticHamiltonian_Sparse(M,C,dx,order_x=order_x)\n",
    "        H_cpu.damp_q = damp_q\n",
    "#        H_cpu.damp_p = damp_p\n",
    "\n",
    "        H_gpu = aw.ElasticHamiltonian_Kernel(M,C,dx,bc='Periodic',order_x=order_x)\n",
    "        H_gpu.damp_q = damp_q\n",
    "        rsh,ush = H_gpu.reshape,H_gpu.unshape\n",
    "        q0_gpu = rsh(q0_cpu); p0_gpu = rsh(p0_cpu)\n",
    "\n",
    "        # Testing\n",
    "        q1_cpu = H_cpu.Expl_q(q0_cpu,p0_cpu,dt)\n",
    "        q1_gpu = H_gpu.Expl_q(q0_gpu,p0_gpu,dt)\n",
    "        assert allclose(q1_cpu,ush(q1_gpu))\n",
    "\n",
    "        p1_cpu = H_cpu.Expl_p(q0_cpu,p0_cpu,dt)\n",
    "        p1_gpu = H_gpu.Expl_p(q0_gpu,p0_gpu,dt)\n",
    "        assert allclose(p1_cpu,ush(p1_gpu),**tols)\n",
    "\n",
    "        q1_cpu,p1_cpu = H_cpu.Verlet_p(q0_cpu,p0_cpu,dt,niter=2)\n",
    "        q1_gpu,p1_gpu = H_gpu.Verlet_p(q0_gpu,p0_gpu,dt,niter=2)\n",
    "        assert allclose(q1_cpu,ush(q1_gpu),**tols)\n",
    "        assert allclose(p1_cpu,ush(p1_gpu),**tols)\n",
    "\n",
    "        q1_cpu,p1_cpu = H_cpu.Ruth4_p(q0_cpu,p0_cpu,dt,niter=2)\n",
    "        q1_gpu,p1_gpu = H_gpu.Ruth4_p(q0_gpu,p0_gpu,dt,niter=2)\n",
    "        assert allclose(q1_cpu,ush(q1_gpu),**tols)\n",
    "        assert allclose(p1_cpu,ush(p1_gpu),**tols)"
   ]
  },
  {
   "cell_type": "code",
   "execution_count": null,
   "id": "3f44af5a",
   "metadata": {},
   "outputs": [],
   "source": []
  }
 ],
 "metadata": {
  "celltoolbar": "Raw Cell Format",
  "kernelspec": {
   "display_name": "Python 3 (ipykernel)",
   "language": "python",
   "name": "python3"
  },
  "language_info": {
   "codemirror_mode": {
    "name": "ipython",
    "version": 3
   },
   "file_extension": ".py",
   "mimetype": "text/x-python",
   "name": "python",
   "nbconvert_exporter": "python",
   "pygments_lexer": "ipython3",
   "version": "3.10.8"
  },
  "varInspector": {
   "cols": {
    "lenName": 16,
    "lenType": 16,
    "lenVar": 40
   },
   "kernels_config": {
    "python": {
     "delete_cmd_postfix": "",
     "delete_cmd_prefix": "del ",
     "library": "var_list.py",
     "varRefreshCmd": "print(var_dic_list())"
    },
    "r": {
     "delete_cmd_postfix": ") ",
     "delete_cmd_prefix": "rm(",
     "library": "var_list.r",
     "varRefreshCmd": "cat(var_dic_list()) "
    }
   },
   "types_to_exclude": [
    "module",
    "function",
    "builtin_function_or_method",
    "instance",
    "_Feature"
   ],
   "window_display": false
  }
 },
 "nbformat": 4,
 "nbformat_minor": 5
}

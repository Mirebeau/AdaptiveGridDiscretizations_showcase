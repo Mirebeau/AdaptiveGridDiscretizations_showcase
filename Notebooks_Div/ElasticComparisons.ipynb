{
 "cells": [
  {
   "cell_type": "markdown",
   "id": "7f24d27a-6d47-420a-b6b1-9286163d67b9",
   "metadata": {},
   "source": [
    "# Adaptive PDE discretizations on Cartesian grids\n",
    "## Volume : Divergence form PDEs\n",
    "## Part : Acoustic and elastic waves\n",
    "## Chapter : Staggered grid schemes\n",
    "\n",
    "$\n",
    "\\newcommand\\cE{\\mathcal{E}}\n",
    "\\newcommand\\<{\\langle} \\newcommand\\>{\\rangle}\n",
    "\\newcommand\\be{\\boldsymbol{e}}\n",
    "\\newcommand\\kw{\\mathrm{k}}\n",
    "\\newcommand\\ri{\\mathrm{i}}\n",
    "\\newcommand\\rI{\\mathrm{I}}\n",
    "\\newcommand\\diff{\\mathrm{d}}\n",
    "\\newcommand\\cO{\\mathcal{O}}\n",
    "\\DeclareMathOperator\\Tr{Tr}\n",
    "\\newcommand\\Id{\\mathrm{Id}}\n",
    "\\newcommand\\bR{\\mathbb{R}}\n",
    "\\newcommand\\bZ{\\mathbb{Z}}\n",
    "\\newcommand\\modtwo{[\\text{mod}\\, 2]}\n",
    "$"
   ]
  },
  {
   "cell_type": "markdown",
   "id": "4be53c89-58fb-4494-9404-40f33deb1362",
   "metadata": {},
   "source": [
    "In a series of other notebooks, we introduced a discretization of the elastic pootential energy, and thus a Selling/Voronoi decomposition based numerical scheme for the elastic wave equation, see [the elastic energy](ElasticEnergy), [wave propagation](ElasticWave), [high order schemes](HighOrderWaves), [gradient backpropagation](WaveExamples). The objective of this notebook is to compare the introduced method, referred to as the Selling elastic scheme, to existing methods in the literature. More precisely we consider :\n",
    "\n",
    "- the Virieux scheme, which assumes a VTI Hooke tensor\n",
    "- the Lebedev scheme, which is defined as a collection of $2^{d-1}$ coupled Virieux schemes, and allows any Hooke tensor.\n",
    "\n",
    "The Lebedev scheme and the proposed Selling scheme, which both allow arbitrary Hooke tensors, can be compared on the following points. \n",
    "- *energy conservation*. The Selling scheme preserves a perturbed energy exactly, and therefore preserves the target energy up to a multiplicative constant (close to one if the CFL is satisfied). The Virieux and Lebedev schemes do not have this guarantee, and we observe strong oscillations in the energy (with random Hooke tensors).\n",
    "- *grid decoupling*. The Selling scheme preserves a coercive energy, which controls the solution regularity via the Korn inequality, and forbids e.g chessboard artifacts. The Lebedev scheme does not offer such a guarantee, and in fact the solution on two subgrids may decouple and evolve independently in a chessboard pattern.\n",
    "- *numerical dispersion relation*. For a given number of discretization points per wavelength, which scheme has the most accurate numerical dispersion relation ? We observe that the Virieux scheme is the most accurate for VTI models, followed by the proposed Selling scheme, and last the Lebedev scheme. For non-VTI models (specifically, the mica medium), the Virieux scheme is not applicable, the situation is more nuanced : the proposed Selling scheme appears best for the pressure wave, and the Lebedev scheme for the shear wave (a proposed optimization may cure this issue). \n",
    "\n",
    "We implement the Virieux and Lebedev schemes, but only in a quick and dirty way which is only meant to perform basic comparisons and check the dispersion relations."
   ]
  },
  {
   "cell_type": "markdown",
   "id": "c5f305cf-526b-47d3-b2bc-79ba99a33aa7",
   "metadata": {},
   "source": [
    "**Acoustic waves.**\n",
    "Their case is much simpler, and discussed in the last section of the notebook. It is in the acoustic (scalar) setting that the Selling schemes are the most efficient, with the best dispersion."
   ]
  },
  {
   "cell_type": "markdown",
   "id": "2cf87873-1252-40dc-9e2b-d535ec731c2d",
   "metadata": {},
   "source": [
    "[**Summary**](Summary.ipynb) of volume Divergence form PDEs, this series of notebooks.\n",
    "\n",
    "[**Main summary**](../Summary.ipynb) of the Adaptive Grid Discretizations \n",
    "\tbook of notebooks, including the other volumes.\n",
    "\n",
    "# Table of contents\n",
    "  * [1. Staggered grids](#1.-Staggered-grids)\n",
    "  * [2. The Virieux scheme](#2.-The-Virieux-scheme)\n",
    "    * [2.1 Standard finite differences implementation](#2.1-Standard-finite-differences-implementation)\n",
    "    * [2.2 As a symplectic scheme](#2.2-As-a-symplectic-scheme)\n",
    "  * [3. The Lebedev scheme](#3.-The-Lebedev-scheme)\n",
    "    * [3.1 Finite differences implementation](#3.1-Finite-differences-implementation)\n",
    "    * [3.2 Symplectic implementation](#3.2-Symplectic-implementation)\n",
    "  * [4. Dispersion relations](#4.-Dispersion-relations)\n",
    "  * [5. Numerical dispersion](#5.-Numerical-dispersion)\n",
    "    * [5.1 Isotropic dispersion](#5.1-Isotropic-dispersion)\n",
    "    * [5.2 VTI and TTI dispersion](#5.2-VTI-and-TTI-dispersion)\n",
    "  * [6. Correlated Selling scheme](#6.-Correlated-Selling-scheme)\n",
    "    * [6.1 Scheme implementation](#6.1-Scheme-implementation)\n",
    "    * [6.2 Dispersion relation](#6.2-Dispersion-relation)\n",
    "    * [6.3 Visualizing dispersion](#6.3-Visualizing-dispersion)\n",
    "    * [6.4 Three dimensional case](#6.4-Three-dimensional-case)\n",
    "  * [7. Staggered Selling scheme](#7.-Staggered-Selling-scheme)\n",
    "    * [7.1 Staggered Selling decomposition](#7.1-Staggered-Selling-decomposition)\n",
    "    * [7.2 Scheme implementation](#7.2-Scheme-implementation)\n",
    "    * [7.3 Dispersion relation](#7.3-Dispersion-relation)\n",
    "    * [7.4 Comparing dispersions](#7.4-Comparing-dispersions)\n",
    "    * [7.5 Yet another variant](#7.5-Yet-another-variant)\n",
    "  * [8. Energy conservation](#8.-Energy-conservation)\n",
    "  * [9. Grid decoupling in the Lebedev scheme](#9.-Grid-decoupling-in-the-Lebedev-scheme)\n",
    "  * [10. Acoustic scheme](#10.-Acoustic-scheme)\n",
    "    * [10.1 Centered scheme](#10.1-Centered-scheme)\n",
    "    * [10.2 Criss-cross scheme](#10.2-Criss-cross-scheme)\n",
    "    * [10.3 Dispersion](#10.3-Dispersion)\n",
    "  * [11. Image and animation exports](#11.-Image-and-animation-exports)\n",
    "    * [11.1 Acoustic](#11.1-Acoustic)\n",
    "    * [11.2 Elastic](#11.2-Elastic)\n",
    "\n",
    "\n",
    "\n",
    "**Acknowledgement.** Some of the experiments presented in these notebooks are part of \n",
    "ongoing research with Ludovic Métivier and Da Chen.\n",
    "\n",
    "Copyright Jean-Marie Mirebeau, Centre Borelli, ENS Paris-Saclay, CNRS, University Paris-Saclay"
   ]
  },
  {
   "cell_type": "markdown",
   "id": "7b480900-6f8b-4a15-b507-0c24aad02d64",
   "metadata": {},
   "source": [
    "## 0. Importing the required libraries"
   ]
  },
  {
   "cell_type": "code",
   "execution_count": 1,
   "id": "0285a033-3e60-45d5-9f7f-23cfd3b46d81",
   "metadata": {
    "execution": {
     "iopub.execute_input": "2024-04-30T09:02:20.379765Z",
     "iopub.status.busy": "2024-04-30T09:02:20.376311Z",
     "iopub.status.idle": "2024-04-30T09:02:20.392548Z",
     "shell.execute_reply": "2024-04-30T09:02:20.391978Z"
    }
   },
   "outputs": [],
   "source": [
    "import sys; sys.path.insert(0,\"..\") # Allow import of agd from parent directory (useless if conda package installed)\n",
    "#from Miscellaneous import TocTools; print(TocTools.displayTOC('ElasticComparisons','Div'))"
   ]
  },
  {
   "cell_type": "code",
   "execution_count": 2,
   "id": "2647ec0e-67b2-4a21-86fe-c492232d5e06",
   "metadata": {
    "editable": true,
    "execution": {
     "iopub.execute_input": "2024-04-30T09:02:20.396488Z",
     "iopub.status.busy": "2024-04-30T09:02:20.396216Z",
     "iopub.status.idle": "2024-04-30T09:02:20.520515Z",
     "shell.execute_reply": "2024-04-30T09:02:20.520059Z"
    },
    "slideshow": {
     "slide_type": ""
    },
    "tags": [
     "ExportCode"
    ]
   },
   "outputs": [
    {
     "ename": "SyntaxError",
     "evalue": "'function call' is an illegal expression for augmented assignment (hamiltonian.py, line 334)",
     "output_type": "error",
     "traceback": [
      "Traceback \u001b[0;36m(most recent call last)\u001b[0m:\n",
      "\u001b[0m  File \u001b[1;32m~/opt/miniconda3/envs/agd-hfm_dev_310/lib/python3.10/site-packages/IPython/core/interactiveshell.py:3433\u001b[0m in \u001b[1;35mrun_code\u001b[0m\n    exec(code_obj, self.user_global_ns, self.user_ns)\u001b[0m\n",
      "\u001b[0m  Cell \u001b[1;32mIn[2], line 5\u001b[0m\n    from agd.ExportedCode.Notebooks_Div.HighOrderWaves import make_domain,dispersion_e,dispersion_a,MakeRandomTensor\u001b[0m\n",
      "\u001b[0;36m  File \u001b[0;32m~/Dropbox/Programmes/GithubM1/AdaptiveGridDiscretizations/agd/ExportedCode/Notebooks_Div/HighOrderWaves.py:7\u001b[0;36m\n\u001b[0;31m    from agd.ODE.hamiltonian import QuadraticHamiltonian\u001b[0;36m\n",
      "\u001b[0;36m  File \u001b[0;32m~/Dropbox/Programmes/GithubM1/AdaptiveGridDiscretizations/agd/ODE/hamiltonian.py:334\u001b[0;36m\u001b[0m\n\u001b[0;31m    q.coef.__getitem__(ph_ind) += ph_grad[rev_iter-1] # Python 3.10 syntax for previous line\u001b[0m\n\u001b[0m    ^\u001b[0m\n\u001b[0;31mSyntaxError\u001b[0m\u001b[0;31m:\u001b[0m 'function call' is an illegal expression for augmented assignment\n"
     ]
    }
   ],
   "source": [
    "from agd.Metrics.Seismic import Hooke\n",
    "from agd.Metrics import Riemann\n",
    "from agd import FiniteDifferences as fd\n",
    "from agd import LinearParallel as lp\n",
    "from agd.ExportedCode.Notebooks_Div.HighOrderWaves import make_domain,dispersion_e,dispersion_a,MakeRandomTensor\n",
    "from agd.Eikonal.HFM_CUDA import AnisotropicWave\n",
    "from agd.ODE.hamiltonian import QuadraticHamiltonian\n",
    "from agd import AutomaticDifferentiation as ad\n",
    "from agd.Metrics import Seismic\n",
    "from agd.Metrics.misc import flatten_symmetric_matrix\n",
    "from agd.Plotting import savefig; #savefig.dirName = 'Images/ElasticComparisons/'"
   ]
  },
  {
   "cell_type": "code",
   "execution_count": 3,
   "id": "cd9a940f-8d38-4217-98d5-c9eca83427b9",
   "metadata": {
    "editable": true,
    "slideshow": {
     "slide_type": ""
    },
    "tags": [
     "ExportCode"
    ]
   },
   "outputs": [],
   "source": [
    "import numpy as np\n",
    "import itertools\n",
    "import copy\n",
    "from scipy.optimize import linprog\n",
    "π = np.pi"
   ]
  },
  {
   "cell_type": "code",
   "execution_count": 4,
   "id": "6ddf67b3-0e4a-48ad-8988-2670bd0a8f7c",
   "metadata": {
    "editable": true,
    "slideshow": {
     "slide_type": ""
    },
    "tags": []
   },
   "outputs": [],
   "source": [
    "from matplotlib import pyplot as plt\n",
    "from matplotlib.patches import Patch\n",
    "from matplotlib import rc,animation; rc('animation', html='html5')\n",
    "np.set_printoptions(linewidth=2000)"
   ]
  },
  {
   "cell_type": "markdown",
   "id": "6a819c49-956c-44f8-893b-591f4b99e849",
   "metadata": {},
   "source": [
    "## 1. Staggered grids\n",
    "\n",
    "The Virieux and Lebedev schemes rely on Staggered grids : in two dimensions, the scheme unknowns may be stored at \n",
    "\\begin{align*}\n",
    "    & (i,j) \\diff x &\n",
    "    & (i+1/2,j) \\diff x &\n",
    "    & (i,j+1/2) \\diff x &\n",
    "    & (i+1/2,j+1/2) \\diff x,\n",
    "\\end{align*}\n",
    "where $i,j \\in \\bZ$. This is emphasized by subscripts `_00`, `_10`, `_01`, `_11`, in the variable name. The proposed Selling scheme, in contrast, uses the standard grid."
   ]
  },
  {
   "cell_type": "code",
   "execution_count": 5,
   "id": "a8f80bcc-0635-4299-8e07-1cb530468da0",
   "metadata": {
    "editable": true,
    "slideshow": {
     "slide_type": ""
    },
    "tags": [
     "ExportCode"
    ]
   },
   "outputs": [],
   "source": [
    "def shifted_grids(X,dx):\n",
    "    \"\"\"\n",
    "    Shifted grids for staggered scheme.\n",
    "    X_0,X_1\n",
    "    X_00,X_10,X_01,X_11 (inverted binary order)\n",
    "    X_000,X_100,X_010,X_110,X_001,X_101,X_011,X_111\n",
    "    \"\"\"\n",
    "    vdim = len(X)\n",
    "    shape = X[0].shape\n",
    "    shifts = itertools.product((0,dx/2),repeat=len(X))\n",
    "    return [X + fd.as_field(s[::-1],shape) for s in shifts]"
   ]
  },
  {
   "cell_type": "markdown",
   "id": "1d431f8b-6127-4774-9b3c-ee9de944ee03",
   "metadata": {},
   "source": [
    "The point of the staggered grid representation is to have second order accurate finite differences for derivatives along suitable grid axes. \n",
    "For instance\n",
    "$$\n",
    "    \\frac{\\partial}{\\partial x} u( (i,j) \\diff x) = \\frac{u( (i+1/2,j) \\diff x) - u( (i-1/2,j) \\diff x)}{\\diff x} + \\cO(\\diff x^2).\n",
    "$$\n",
    "Fourth order accurate finite differences likewise have a small four point stencil."
   ]
  },
  {
   "cell_type": "code",
   "execution_count": 6,
   "id": "da0049d9-74d6-430d-a777-35ab0a8cf897",
   "metadata": {
    "editable": true,
    "slideshow": {
     "slide_type": ""
    },
    "tags": [
     "ExportCode"
    ]
   },
   "outputs": [],
   "source": [
    "class staggered:\n",
    "    \"\"\"A class for first order finite difference operators on staggered grids\"\"\"\n",
    "    \n",
    "    def __init__(self,dx,order=2,bc='Periodic'):\n",
    "        self.idx=1/dx\n",
    "        self.order=order; assert order in (2,4)\n",
    "        self.bc=bc; assert bc in ('Periodic','Dirichlet')\n",
    "\n",
    "    def roll(self,q,shift,axis,bc=None):\n",
    "        \"\"\"Rolls specified axis, inserts zeros in case of Dirichlet boundary conditions\"\"\"\n",
    "        if bc is None: bc=self.bc\n",
    "        q = np.roll(q,shift,axis)\n",
    "        if bc!='Periodic': \n",
    "            pad = q[*(slice(None),)*axis,shift,None] if bc=='Constant' else 0.\n",
    "            if shift>0: q[*(slice(None),)*axis,:shift]=pad\n",
    "            else: q[*(slice(None),)*axis,shift:]=pad\n",
    "        return q\n",
    "        \n",
    "    def diff_left(self,q,axis,s=0): \n",
    "        \"\"\"\n",
    "        First order finite difference, to the left, along axis i.\n",
    "        (Result is shifted by half a grid step to the left.)\n",
    "        \"\"\"\n",
    "        dq = self.roll(q,-s,axis)-self.roll(q,1-s,axis) # Centered finite difference, with step 1/2\n",
    "        if self.order==2: return dq * self.idx \n",
    "        dq2 = self.roll(q,-1-s,axis)-self.roll(q,2-s,axis) # Centered finite difference, with step 3/2\n",
    "        return ( (9/8)*dq-(1/24)*dq2 )*self.idx # Fourth order finite difference\n",
    "    \n",
    "    def diff_right(self,q,axis):\n",
    "        \"\"\"\n",
    "        First order finite difference, to the right, along axis i.\n",
    "        (Result is shifted by half a grid step to the right.)\n",
    "        \"\"\"\n",
    "        return self.diff_left(q,axis,s=1)\n",
    "\n",
    "    def avg_left(self,q,axis,s=0,bc=None):\n",
    "        \"\"\"\n",
    "        Approximate value, half a grid step to the left, along axis i.\n",
    "        (Use bc='Constant' for averaging coefficients with Dirichlet boundary conditions.)\n",
    "        \"\"\"\n",
    "        if isinstance(axis,tuple): # Average over several axes\n",
    "            for ax in axis: q = self.avg_left(q,ax,s,bc)\n",
    "            return q\n",
    "        if bc is None: bc = self.bc\n",
    "        aq = self.roll(q,-s,axis,bc)+self.roll(q,1-s,axis,bc) # Centered average, with step 1/2\n",
    "        if self.order==2: return aq * 0.5 \n",
    "        aq2 = self.roll(q,-1-s,axis,bc)+self.roll(q,2-s,axis,bc) # Centered average, with step 3/2\n",
    "        return (9/16)*aq - (1/16)*aq2 # Fourth order accurate interpolation \n",
    "    \n",
    "    def avg_right(self,q,axis):\n",
    "        return self.avg_left(q,axis,s=1)\n",
    "\n",
    "    def diff_left_offset(self,q,axis,offset,right=False):\n",
    "        \"\"\"\n",
    "        First order finite difference, along given offset. Shifts result by 1/2 along axis i to the left.\n",
    "        - right (bool, optional) : shift to the right instead\n",
    "        Assumption : offset[axis] must be odd.\n",
    "        Example : diff_left_offset(q,i,eye[i]) == diff_left(q,i)\n",
    "        \"\"\"\n",
    "        e_left = np.array(offset).astype(int)//2\n",
    "        e_right = e_left.copy() \n",
    "        if np.ndim(right)==0: e_left[axis]+=1-right; e_right[axis]+=right\n",
    "        else: e_left[axis][np.logical_not(right)]+=1; e_right[axis][right]+=1\n",
    "        assert np.all(offset==e_left+e_right)\n",
    "        vdim = len(offset)\n",
    "        ax = tuple(range(vdim))\n",
    "        dq = self.roll(q,-e_right,ax) - self.roll(q,e_left,ax)\n",
    "        if self.order==2: return dq * self.idx # Second order finite difference\n",
    "        dq2 = self.roll(q,-e_right-offset,ax) - self.roll(q,e_left+offset,ax)\n",
    "        return ( (9/8)*dq-(1/24)*dq2 )*self.idx # Fourth order finite difference\n",
    "\n",
    "    def diff_right_offset(self,q,axis,offset):\n",
    "        \"\"\"\n",
    "        Assumption : offset[axis] must be odd.\n",
    "        Example : diff_right_offset(q,i,eye[i]) == diff_right(q,i)\n",
    "        \"\"\"\n",
    "        return self.diff_left_offset(q,axis,offset,right=True)"
   ]
  },
  {
   "cell_type": "markdown",
   "id": "5ddfec4b-f1bc-4b7c-920c-73029779b343",
   "metadata": {},
   "source": [
    "## 2. The Virieux scheme\n",
    "\n",
    "This scheme assumes a VTI hooke tensor. In two dimensions, the structure reads\n",
    "$$\n",
    "    C = \\begin{pmatrix}\n",
    "    * & * & \\\\\n",
    "    * & * & \\\\\n",
    "      &   & *\n",
    "    \\end{pmatrix}.\n",
    "$$\n",
    "In other words, $C_{02} = C_{12} = 0$. (And likewise $C_{20}=C_{21}=0$ by symmetry.)\n",
    "\n",
    "The Virieux scheme uses a staggered grid, with the following variable locations : \n",
    "- the *position and momentum* components are stored in shifted positions along their respective axis. For instance, the unknowns associated to the position $q=(q_0,q_1)$ are for $i,j \\in \\bZ$\n",
    "\\begin{align*}\n",
    "    & q_0( (i+1/2,j) \\diff x), &\n",
    "    & q_1( (i,j+1/2) \\diff x).\n",
    "\\end{align*}\n",
    "- *strain and stress* tensors have their diagonal elements centered, and their off-diagonal elements shifted along the diagonal. For instance, the unknowns associated to the stress tensor are for $i,j \\in \\bZ$\n",
    "\\begin{align*}\n",
    "    & \\sigma_{00}((i,j)\\diff x), &\n",
    "    & \\sigma_{11}((i,j)\\diff x), &\n",
    "    & \\sigma_{01}((i+1/2,j+1/2)\\diff x).\n",
    "\\end{align*}"
   ]
  },
  {
   "cell_type": "markdown",
   "id": "f40223a6-83f4-4518-9f0c-cab18b28743f",
   "metadata": {},
   "source": [
    "### 2.1 Standard finite differences implementation"
   ]
  },
  {
   "cell_type": "code",
   "execution_count": 7,
   "id": "99e0587c-2025-4760-b4e1-0fa72c6d4b15",
   "metadata": {
    "editable": true,
    "slideshow": {
     "slide_type": ""
    },
    "tags": [
     "ExportCode"
    ]
   },
   "outputs": [],
   "source": [
    "def eval_Virieux(qfun,pfun,X,dx,t,dt):\n",
    "    \"\"\"\n",
    "    Evaluate position and momentum at the given position and time, \n",
    "    taking into account spatial and temporal grid shifts\n",
    "    \"\"\"\n",
    "    vdim = len(X)\n",
    "    t2 = t+dt/2\n",
    "    if vdim==1:\n",
    "        _,X_1 = shifted_grids(X,dx)\n",
    "        q0_1 = qfun(t2,X_1)[0]\n",
    "        p0_1 = pfun(t, X_1)[0]\n",
    "        return (q0_1,),(p0_1,)\n",
    "    if vdim==2:\n",
    "        _,X_10,X_01,_ = shifted_grids(X,dx)\n",
    "        q0_10 = qfun(t2,X_10)[0]\n",
    "        q1_01 = qfun(t2,X_01)[1]\n",
    "        p0_10 = pfun(t, X_10)[0]\n",
    "        p1_01 = pfun(t, X_01)[1]\n",
    "        return (q0_10,q1_01),(p0_10,p1_01)\n",
    "    if vdim==3:\n",
    "        X_000,X_100,X_010,X_110,X_001,X_101,X_011,X_111 = shifted_grids(X,dx)\n",
    "        q0_100 = qfun(t2,X_100)[0]\n",
    "        q1_010 = qfun(t2,X_010)[1]\n",
    "        q2_001 = qfun(t2,X_001)[2]\n",
    "        p0_100 = pfun(t, X_100)[0]\n",
    "        p1_010 = pfun(t, X_010)[1]\n",
    "        p2_001 = pfun(t, X_001)[2]\n",
    "        return (q0_100,q1_010,q2_001),(p0_100,p1_010,p2_001)"
   ]
  },
  {
   "cell_type": "code",
   "execution_count": 8,
   "id": "a97ce98c-71ab-40a1-8a3e-f28a4c062983",
   "metadata": {
    "editable": true,
    "slideshow": {
     "slide_type": ""
    },
    "tags": [
     "ExportCode"
    ]
   },
   "outputs": [],
   "source": [
    "class Virieux2:\n",
    "    \"\"\"The two dimensional Virieux scheme.\"\"\"\n",
    "    def __init__(self,ρ,C,stag):\n",
    "        \"\"\"\n",
    "        Inputs : \n",
    "        - ρ : density, everywhere positive. \n",
    "        - C : Hooke tensor, assumes a VTI structure. Assumes C02=C12=0 and C symmetric.\n",
    "        - stag : staggered grid difference operators\n",
    "        \"\"\"\n",
    "        self.stag = stag\n",
    "        ar = stag.avg_right\n",
    "        # Variable locations on the grid shown after subscript\n",
    "        iρ = 1/ρ\n",
    "        self.iρ_10 = ar(iρ,0)\n",
    "        self.iρ_01 = ar(iρ,1) \n",
    "        self.C00_00 = C[0,0]\n",
    "        self.C01_00 = C[0,1]\n",
    "        self.C11_00 = C[1,1] \n",
    "        self.C22_11 = ar(C[2,2],axis=(0,1))\n",
    "\n",
    "    def step(self,q,p,dt):\n",
    "        \"\"\"\n",
    "        Inputs : \n",
    "        - q,p : position and momentum.\n",
    "        - dt : time step.\n",
    "        \"\"\"\n",
    "        # Variable locations shown after subscript\n",
    "        dl,dr = self.stag.diff_left, self.stag.diff_right\n",
    "        C00_00,C01_00,C10_00,C11_00,C22_11,iρ_10,iρ_01 = self.C00_00,self.C01_00,self.C01_00,self.C11_00,self.C22_11,self.iρ_10,self.iρ_01\n",
    "\n",
    "        q0_10,q1_01 = copy.deepcopy(q)\n",
    "        p0_10,p1_01 = copy.deepcopy(p)\n",
    "        \n",
    "        # Compute the strain tensor ϵ = (Dq+Dq^T)/2\n",
    "        ϵ00_00 = dl(q0_10,0) \n",
    "        ϵ11_00 = dl(q1_01,1) \n",
    "        ϵ01_11 = dr(q0_10,1) + dr(q1_01,0) # We omit the factor two in ϵ01 in view of Voigt's notation\n",
    "\n",
    "        # Compute the stress tensor\n",
    "        σ00_00 = C00_00*ϵ00_00+C01_00*ϵ11_00 \n",
    "        σ11_00 = C10_00*ϵ00_00+C11_00*ϵ11_00 \n",
    "        σ01_11 = C22_11*ϵ01_11 \n",
    "\n",
    "        # Stress divergence\n",
    "        dp0_10 = dr(σ00_00,0) + dl(σ01_11,1) \n",
    "        dp1_01 = dl(σ01_11,0) + dr(σ11_00,1)\n",
    "#        self.tmp = (dp0_10,dp1_01),(σ00_00,σ11_00,σ01_11),(ϵ00_00,ϵ11_00,ϵ01_11)\n",
    "\n",
    "        # Symplectic updates : first p, then q\n",
    "        p0_10 += dt*dp0_10 \n",
    "        p1_01 += dt*dp1_01 \n",
    "\n",
    "        q0_10 += dt*p0_10*iρ_10 \n",
    "        q1_01 += dt*p1_01*iρ_01\n",
    "\n",
    "        return (q0_10,q1_01),(p0_10,p1_01)"
   ]
  },
  {
   "cell_type": "code",
   "execution_count": 9,
   "id": "1f862c8e-3f8b-4e50-be33-545d9eea8cce",
   "metadata": {
    "editable": true,
    "slideshow": {
     "slide_type": ""
    },
    "tags": [
     "ExportCode"
    ]
   },
   "outputs": [],
   "source": [
    "class Virieux3:\n",
    "    \"\"\"The three dimensional Virieux scheme.\"\"\"\n",
    "    def __init__(self,ρ,C,stag):\n",
    "        \"\"\"\n",
    "        Inputs : \n",
    "        - ρ : density, everywhere positive. \n",
    "        - C : Hooke tensor, assumes a VTI structure. Assumes C02=C12=0 and C symmetric.\n",
    "        - stag : staggered grid difference operators\n",
    "        \"\"\"\n",
    "        self.stag = stag\n",
    "        ar = stag.avg_right\n",
    "        # Variable locations on the grid shown after subscript\n",
    "        iρ = 1/ρ\n",
    "        self.iρ_100 = ar(iρ,0)\n",
    "        self.iρ_010 = ar(iρ,1) \n",
    "        self.iρ_001 = ar(iρ,2) \n",
    "        self.C00_000 = C[0,0]\n",
    "        self.C01_000 = C[0,1]\n",
    "        self.C02_000 = C[0,2]\n",
    "        self.C11_000 = C[1,1] \n",
    "        self.C12_000 = C[1,2] \n",
    "        self.C22_000 = C[2,2] \n",
    "        # Voigt : 3 -> (1,2), 4->(0,2), 5->(0,1)\n",
    "        self.C33_011 = ar(C[3,3],axis=(1,2))\n",
    "        self.C44_101 = ar(C[4,4],axis=(0,2))\n",
    "        self.C55_110 = ar(C[5,5],axis=(0,1))\n",
    "\n",
    "    def step(self,q,p,dt):\n",
    "        \"\"\"\n",
    "        Inputs : \n",
    "        - q,p : position and momentum.\n",
    "        - dt : time step.\n",
    "        \"\"\"\n",
    "        # Variable locations shown after subscript\n",
    "        dl,dr = self.stag.diff_left, self.stag.diff_right\n",
    "        iρ_100,iρ_010,iρ_001, C00_000,C01_000,C02_000,C11_000,C12_000,C22_000, C33_011,C44_101,C55_110 = \\\n",
    "        self.iρ_100,self.iρ_010,self.iρ_001, self.C00_000,self.C01_000,self.C02_000,self.C11_000,self.C12_000,self.C22_000, self.C33_011,self.C44_101,self.C55_110\n",
    "\n",
    "        q0_100,q1_010,q2_001 = copy.deepcopy(q)\n",
    "        p0_100,p1_010,p2_001 = copy.deepcopy(p)\n",
    "        \n",
    "        # Compute the strain tensor ϵ = (Dq+Dq^T)/2\n",
    "        ϵ00_000 = dl(q0_100,0) \n",
    "        ϵ11_000 = dl(q1_010,1)\n",
    "        ϵ22_000 = dl(q2_001,2)\n",
    "        ϵ01_110 = dr(q0_100,1) + dr(q1_010,0) # We omit the factor two in ϵ01 in view of Voigt's notation\n",
    "        ϵ02_101 = dr(q0_100,2) + dr(q2_001,0) \n",
    "        ϵ12_011 = dr(q1_010,2) + dr(q2_001,1) \n",
    "\n",
    "        # Compute the stress tensor\n",
    "        σ00_000 = C00_000*ϵ00_000 + C01_000*ϵ11_000 + C02_000*ϵ22_000\n",
    "        σ11_000 = C01_000*ϵ00_000 + C11_000*ϵ11_000 + C12_000*ϵ22_000\n",
    "        σ22_000 = C02_000*ϵ00_000 + C12_000*ϵ11_000 + C22_000*ϵ22_000\n",
    "        # Voigt : 3 -> (1,2), 4->(0,2), 5->(0,1)\n",
    "        σ12_011 = C33_011*ϵ12_011\n",
    "        σ02_101 = C44_101*ϵ02_101\n",
    "        σ01_110 = C55_110*ϵ01_110\n",
    "\n",
    "        # Stress divergence\n",
    "        dp0_100 = dr(σ00_000,0) + dl(σ01_110,1) + dl(σ02_101,2) \n",
    "        dp1_010 = dl(σ01_110,0) + dr(σ11_000,1) + dl(σ12_011,2) \n",
    "        dp2_001 = dl(σ02_101,0) + dl(σ12_011,1) + dr(σ22_000,2) \n",
    "        self.tmp = (dp0_100,dp1_010,dp2_001),(σ00_000,σ11_000,σ22_000,σ01_110,σ02_101,σ12_011),(ϵ00_000,ϵ11_000,ϵ22_000,ϵ01_110,ϵ02_101,ϵ12_011)\n",
    "\n",
    "        # Symplectic updates : first p, then q\n",
    "        p0_100 += dt*dp0_100 \n",
    "        p1_010 += dt*dp1_010 \n",
    "        p2_001 += dt*dp2_001 \n",
    "\n",
    "        q0_100 += dt*p0_100*iρ_100 \n",
    "        q1_010 += dt*p1_010*iρ_010\n",
    "        q2_001 += dt*p2_001*iρ_001\n",
    "\n",
    "        return (q0_100,q1_010,q2_001),(p0_100,p1_010,p2_001)"
   ]
  },
  {
   "cell_type": "markdown",
   "id": "6cb9256a-2964-457e-9b81-d74adf4ac088",
   "metadata": {},
   "source": [
    "For completeness, we also implement the one dimensional case."
   ]
  },
  {
   "cell_type": "code",
   "execution_count": 10,
   "id": "9df3de38-2127-4d26-b4fa-d83d52b5720f",
   "metadata": {
    "editable": true,
    "slideshow": {
     "slide_type": ""
    },
    "tags": [
     "ExportCode"
    ]
   },
   "outputs": [],
   "source": [
    "class Virieux1:\n",
    "    \"\"\"The two dimensional Virieux scheme.\"\"\"\n",
    "    def __init__(self,ρ,C,stag):\n",
    "        \"\"\"\n",
    "        Inputs : \n",
    "        - ρ : density, everywhere positive. \n",
    "        - C : Hooke tensor, assumes a VTI structure. Assumes C02=C12=0 and C symmetric.\n",
    "        - stag : staggered grid difference operators\n",
    "        \"\"\"\n",
    "        self.stag = stag\n",
    "        ar = stag.avg_right\n",
    "        # Variable locations on the grid shown after subscript\n",
    "        iρ = 1/ρ\n",
    "        self.iρ_1 = ar(iρ,0)\n",
    "        self.C00_0 = C[0,0]\n",
    "\n",
    "    def step(self,q,p,dt):\n",
    "        \"\"\"\n",
    "        Inputs : \n",
    "        - q,p : position and momentum.\n",
    "        - dt : time step.\n",
    "        \"\"\"\n",
    "        # Variable locations shown after subscript\n",
    "        dl,dr = self.stag.diff_left, self.stag.diff_right\n",
    "        C00_0,iρ_1 = self.C00_0,self.iρ_1\n",
    "\n",
    "        q0_1, = copy.deepcopy(q)\n",
    "        p0_1, = copy.deepcopy(p)\n",
    "        \n",
    "        # Compute the strain tensor ϵ = (Dq+Dq^T)/2\n",
    "        ϵ00_0 = dl(q0_1,0) \n",
    "\n",
    "        # Compute the stress tensor\n",
    "        σ00_0 = C00_0*ϵ00_0\n",
    "\n",
    "        # Stress divergence\n",
    "        dp0_1 = dr(σ00_0,0)\n",
    "\n",
    "        # Symplectic updates : first p, then q\n",
    "        p0_1 += dt*dp0_1 \n",
    "        q0_1 += dt*p0_1*iρ_1 \n",
    "\n",
    "        return (q0_1,),(p0_1,)"
   ]
  },
  {
   "cell_type": "markdown",
   "id": "6fbcb8b0-52b3-4ff7-b6c3-6ac3fb657f73",
   "metadata": {},
   "source": [
    "### 2.2 As a symplectic scheme\n",
    "\n",
    "We implement the Virieux scheme as a symplectic scheme. On the positive side, we import all the associated techniques (higher order schemes, invariant energies, backpropagation, ...). One could also argue that this implementation is more compact and clear. On the negative side, there is the overhead of storing a sparse matrix, and of the initial step where this matrix is assembled. "
   ]
  },
  {
   "cell_type": "code",
   "execution_count": 11,
   "id": "073a00c8-c1e1-4e87-adb9-df91b12e4bb4",
   "metadata": {
    "editable": true,
    "slideshow": {
     "slide_type": ""
    },
    "tags": [
     "ExportCode"
    ]
   },
   "outputs": [],
   "source": [
    "def VirieuxH1(ρ,C,stag,X):\n",
    "    dl = stag.diff_left\n",
    "    s = Virieux1(ρ,C,stag)\n",
    "    def PotentialEnergy(q):\n",
    "        q0_1, = q\n",
    "        ϵ00_0 = dl(q0_1,0) # Compute the strain tensor ϵ = (Dq+Dq^T)/2\n",
    "        return 0.5*s.C00_0*ϵ00_0**2\n",
    "    def KineticEnergy(p):\n",
    "        p0_1, = p\n",
    "        return 0.5*s.iρ_1*p0_1**2\n",
    "    H = QuadraticHamiltonian(PotentialEnergy,KineticEnergy)\n",
    "    H.set_spmat(np.zeros_like(X)) # Replaces quadratic functions with sparse matrices\n",
    "    return H\n",
    "\n",
    "def VirieuxH2(ρ,C,stag,X,S=None):\n",
    "    dl,dr = stag.diff_left,stag.diff_right\n",
    "    s = Virieux2(ρ,C,stag)\n",
    "    def PotentialEnergy(q):\n",
    "        q0_10,q1_01 = q\n",
    "        ϵ00_00 = dl(q0_10,0) # Compute the strain tensor ϵ = (Dq+Dq^T)/2\n",
    "        ϵ11_00 = dl(q1_01,1) \n",
    "        ϵ01_11 = dr(q0_10,1) + dr(q1_01,0) # We omit the factor two in ϵ01 in view of Voigt's notation\n",
    "        if S is not None: # Additional term arising in topographic changes of variables\n",
    "            S00_00 = S[0,0]\n",
    "            S11_00 = S[1,1]\n",
    "            S01_11 = ar(2*S[0,1],(1+0,1+1))\n",
    "            q_00 = ad.array((al(q0_10,0),al(q1_01,1)))\n",
    "            q_11 = ad.array((ar(q0_10,1),ar(q1_01,1)))\n",
    "            for ϵ_,S_,q_ in ((ϵ_00,S_00,q_00),(ϵ_11,S_11,q_11)): ϵ_ -= np.sum(S_*q_,axis=2)\n",
    "        return 0.5*(s.C00_00*ϵ00_00**2 + 2*s.C01_00*ϵ00_00*ϵ11_00 + s.C11_00*ϵ11_00**2 + s.C22_11*ϵ01_11**2)\n",
    "    def KineticEnergy(p):\n",
    "        p0_10,p1_01 = p\n",
    "        return 0.5*(s.iρ_10*p0_10**2 + s.iρ_01*p1_01**2)\n",
    "    H = QuadraticHamiltonian(PotentialEnergy,KineticEnergy); H.set_spmat(np.zeros_like(X)); return H\n",
    "    \n",
    "def VirieuxH3(ρ,C,stag,X):\n",
    "    dl,dr = stag.diff_left,stag.diff_right\n",
    "    s = Virieux3(ρ,C,stag)\n",
    "    def PotentialEnergy(q):\n",
    "        q0_100,q1_010,q2_001 = q\n",
    "        # Compute the strain tensor ϵ = (Dq+Dq^T)/2\n",
    "        ϵ00_000 = dl(q0_100,0) \n",
    "        ϵ11_000 = dl(q1_010,1)\n",
    "        ϵ22_000 = dl(q2_001,2)\n",
    "        ϵ01_110 = dr(q0_100,1) + dr(q1_010,0) # We omit the factor two in ϵ01 in view of Voigt's notation\n",
    "        ϵ02_101 = dr(q0_100,2) + dr(q2_001,0) \n",
    "        ϵ12_011 = dr(q1_010,2) + dr(q2_001,1) \n",
    "        # Compute the stress tensor\n",
    "        σ00_000 = s.C00_000*ϵ00_000 + s.C01_000*ϵ11_000 + s.C02_000*ϵ22_000\n",
    "        σ11_000 = s.C01_000*ϵ00_000 + s.C11_000*ϵ11_000 + s.C12_000*ϵ22_000\n",
    "        σ22_000 = s.C02_000*ϵ00_000 + s.C12_000*ϵ11_000 + s.C22_000*ϵ22_000\n",
    "        # Voigt : 3 -> (1,2), 4->(0,2), 5->(0,1)\n",
    "        σ12_011 = s.C33_011*ϵ12_011\n",
    "        σ02_101 = s.C44_101*ϵ02_101\n",
    "        σ01_110 = s.C55_110*ϵ01_110\n",
    "        return 0.5*(ϵ00_000*σ00_000 + ϵ11_000*σ11_000 + ϵ22_000*σ22_000 + ϵ01_110*σ01_110 + ϵ02_101*σ02_101 + ϵ12_011*σ12_011)\n",
    "    def KineticEnergy(p):\n",
    "        p0_100,p1_010,p2_001 = p\n",
    "        return 0.5*(s.iρ_100*p0_100**2 + s.iρ_010*p1_010**2 + s.iρ_001*p2_001**2)\n",
    "    H = QuadraticHamiltonian(PotentialEnergy,KineticEnergy); H.set_spmat(np.zeros_like(X)); return H"
   ]
  },
  {
   "cell_type": "markdown",
   "id": "89ebdb71-eac9-44bb-a3db-682ecc0c1912",
   "metadata": {},
   "source": [
    "Let us check that the different scheme implementations yield identical results."
   ]
  },
  {
   "cell_type": "code",
   "execution_count": 12,
   "id": "82821cfc-ceda-40fb-a2bb-fa7443ea5433",
   "metadata": {},
   "outputs": [],
   "source": [
    "for vdim,Nx,order_x in [\n",
    "    (1,10,2),(2,12,2),(2,12,4),(3,9,2)\n",
    "]:\n",
    "    np.random.seed(42)\n",
    "    shape = (Nx,)*vdim\n",
    "    X,dx = make_domain(Nx,vdim)\n",
    "    stag = staggered(dx,order_x)\n",
    "    q0 = np.random.rand(vdim,*shape)\n",
    "    p0 = np.random.rand(vdim,*shape)\n",
    "    ρ = 0.5+np.random.rand(*shape)\n",
    "    symdim = int((vdim*(vdim+1))//2)\n",
    "    C = MakeRandomTensor(symdim,shape,relax=0.5) \n",
    "    # Set the non-VTI coefficients to zero (would be ignored anyway)\n",
    "    for i in range(symdim): \n",
    "        for j in range(symdim):\n",
    "            if i>=vdim and j>=vdim and i!=j: C[i,j]=0\n",
    "    dt = 0.1\n",
    "    \n",
    "    Virieux  = (None,Virieux1, Virieux2, Virieux3 )[vdim]    \n",
    "    VirieuxH = (None,VirieuxH1,VirieuxH2,VirieuxH3)[vdim]  \n",
    "    scheme  = Virieux( ρ,C,stag)\n",
    "    schemeH = VirieuxH(ρ,C,stag,X)\n",
    "    q1,p1   = scheme.step(    q0,p0,dt)\n",
    "    q1H,p1H = schemeH.Euler_p(q0,p0,dt)\n",
    "\n",
    "    assert np.allclose(q1,q1H) \n",
    "    assert np.allclose(p1,p1H) "
   ]
  },
  {
   "cell_type": "markdown",
   "id": "bc0948d1-9366-43ca-9959-08dc49c0ce0b",
   "metadata": {},
   "source": [
    "## 3. The Lebedev scheme\n",
    "\n",
    "The two dimensional Lebedev scheme consists of two Virieux schemes, weakly coupled through the coefficients $C_{02}$ and $C_{12}$ of the Hooke tensor. There are four coupled Virieux schemes in three dimensions. On the other hand, one dimensional Lebedev scheme is equivalent to the Virieux scheme.\n",
    "\n",
    "The Lebedev scheme uses a staggered grid, and locates the variables as follows.  Compare with the Virieux schemes which stores only one component at each of these positions. \n",
    "\n",
    "- *position and momentum*. All components are stored at $(i+1/2,j)\\diff x$ and $(i,j+1/2)\\diff x$ in two dimensions. (At $(i+1/2,j,k)\\diff x$, $(i,j+1/2,k)\\diff x$, $(i,j,k+1/2)\\diff x$ and $(i+1/2,j+1/2,k+1/2)\\diff x$ in three dimensions.)\n",
    "- *stress and strain*. All components are stored at $(i,j)\\diff x$ and $(i+1/2,j+1/2) \\diff x$ in two dimensions. (At $(i,j,k)\\diff x$, $(i+1/2,j+1/2,k)\\diff x$, $(i+1/2,j,k+1/2)\\diff x$ and $(i,j+1/2,k+1/2)\\diff x$ in three dimensions.)"
   ]
  },
  {
   "cell_type": "markdown",
   "id": "cec42914-a22b-49e9-9317-89bb01f9e364",
   "metadata": {},
   "source": [
    "### 3.1 Finite differences implementation"
   ]
  },
  {
   "cell_type": "code",
   "execution_count": 13,
   "id": "f49b7ab3-d4f7-44e2-bc08-5a4bc33d7e65",
   "metadata": {
    "editable": true,
    "slideshow": {
     "slide_type": ""
    },
    "tags": [
     "ExportCode"
    ]
   },
   "outputs": [],
   "source": [
    "def eval_Lebedev(qfun,pfun,X,dx,t,dt):\n",
    "    \"\"\"\n",
    "    Evaluate position and momentum at the given position and time, \n",
    "    taking into account spatial and temporal grid shifts\n",
    "    \"\"\"\n",
    "    t2=t+dt/2\n",
    "    vdim=len(X)\n",
    "    if vdim==1:\n",
    "        _,X_1 = shifted_grids(X,dx)\n",
    "        return qfun(t2,X_1),pfun(t,X_1)\n",
    "    if vdim==2:\n",
    "        _,X_10,X_01,_ = shifted_grids(X,dx)\n",
    "        q_10 = qfun(t2,X_10)\n",
    "        q_01 = qfun(t2,X_01)\n",
    "        p_10 = pfun(t ,X_10)\n",
    "        p_01 = pfun(t ,X_01)\n",
    "        return (q_10,q_01),(p_10,p_01) # Geometry is second\n",
    "    if vdim==3:\n",
    "        X_000,X_100,X_010,X_110,X_001,X_101,X_011,X_111 = shifted_grids(X,dx)\n",
    "        q_100 = qfun(t2,X_100)\n",
    "        q_010 = qfun(t2,X_010)\n",
    "        q_001 = qfun(t2,X_001)\n",
    "        q_111 = qfun(t2,X_111)\n",
    "        p_100 = pfun(t ,X_100)\n",
    "        p_010 = pfun(t ,X_010)\n",
    "        p_001 = pfun(t ,X_001)\n",
    "        p_111 = pfun(t ,X_111)\n",
    "        return (q_100,q_010,q_001,q_111), (p_100,p_010,p_001,p_111)"
   ]
  },
  {
   "cell_type": "code",
   "execution_count": 14,
   "id": "30017236-b06f-403a-870e-153de776f3fa",
   "metadata": {
    "editable": true,
    "slideshow": {
     "slide_type": ""
    },
    "tags": [
     "ExportCode"
    ]
   },
   "outputs": [],
   "source": [
    "class Lebedev2:\n",
    "    \"\"\"The two dimensional Lebedev scheme\"\"\"\n",
    "    def __init__(self,ρ,C,stag):\n",
    "        \"\"\"\n",
    "        Inputs : \n",
    "        - ρ : density, everywhere positive. \n",
    "        - C : Hooke tensor, assumed to be symmetric.\n",
    "        - stag : staggered grid difference operators\n",
    "        \"\"\"\n",
    "        self.stag = stag\n",
    "        ar = stag.avg_right\n",
    "        # Variable location on the grid shown after underscore\n",
    "        iρ = 1/ρ \n",
    "        self.iρ_10 = ar(iρ,0) \n",
    "        self.iρ_01 = ar(iρ,1) \n",
    "        self.C_00 = C \n",
    "        self.C_11 = ar(C,axis=(2+0,2+1)) \n",
    "\n",
    "    def step(self,q,p,dt):\n",
    "        \"\"\"\n",
    "        Inputs : \n",
    "        - q,p : position and momentum.\n",
    "        - dt : time step.\n",
    "        \"\"\"\n",
    "        dl,dr = self.stag.diff_left, self.stag.diff_right\n",
    "        C_00,C_11,iρ_10,iρ_01 = self.C_00,self.C_11,self.iρ_10,self.iρ_01\n",
    "         \n",
    "        # Variable location on the grid shown after underscore\n",
    "        (q0_10,q1_10), (q0_01,q1_01) = copy.deepcopy(q)\n",
    "        (p0_10,p1_10), (p0_01,p1_01) = copy.deepcopy(p)\n",
    "\n",
    "        # Compute the strain tensor ϵ = (Dq+Dq^T)/2\n",
    "        ϵ00_00 = dl(q0_10,0) \n",
    "        ϵ11_00 = dl(q1_01,1) \n",
    "        ϵ01_00 = dl(q0_01,1)+dl(q1_10,0) \n",
    "\n",
    "        ϵ00_11 = dr(q0_01,0)\n",
    "        ϵ11_11 = dr(q1_10,1)\n",
    "        ϵ01_11 = dr(q0_10,1) + dr(q1_01,0) # We omit the factor two in ϵ01 in view of Voigt's notation\n",
    "        \n",
    "        # Compute the stress tensor\n",
    "        σ00_00 = C_00[0,0]*ϵ00_00 + C_00[0,1]*ϵ11_00 + C_00[0,2]*ϵ01_00 \n",
    "        σ11_00 = C_00[1,0]*ϵ00_00 + C_00[1,1]*ϵ11_00 + C_00[1,2]*ϵ01_00 \n",
    "        σ01_00 = C_00[2,0]*ϵ00_00 + C_00[2,1]*ϵ11_00 + C_00[2,2]*ϵ01_00\n",
    "\n",
    "        σ00_11 = C_11[0,0]*ϵ00_11 + C_11[0,1]*ϵ11_11 + C_11[0,2]*ϵ01_11 \n",
    "        σ11_11 = C_11[1,0]*ϵ00_11 + C_11[1,1]*ϵ11_11 + C_11[1,2]*ϵ01_11 \n",
    "        σ01_11 = C_11[2,0]*ϵ00_11 + C_11[2,1]*ϵ11_11 + C_11[2,2]*ϵ01_11\n",
    "\n",
    "        # Stress divergence\n",
    "        dp0_10 = dr(σ00_00,0) + dl(σ01_11,1) \n",
    "        dp1_01 = dl(σ01_11,0) + dr(σ11_00,1) \n",
    "\n",
    "        dp0_01 = dl(σ00_11,0) + dr(σ01_00,1) \n",
    "        dp1_10 = dr(σ01_00,0) + dl(σ11_11,1) \n",
    "#        self.tmp = (dp0_10,dp1_01),(σ00_00,σ11_00,σ01_11),(ϵ00_00,ϵ11_00,ϵ01_11)\n",
    "\n",
    "        # Symplectic updates : first p, then q\n",
    "        p0_10 += dt*dp0_10 \n",
    "        p1_10 += dt*dp1_10 \n",
    "        p0_01 += dt*dp0_01 \n",
    "        p1_01 += dt*dp1_01 \n",
    "\n",
    "        q0_10 += dt*p0_10*iρ_10\n",
    "        q1_10 += dt*p1_10*iρ_10\n",
    "        q0_01 += dt*p0_01*iρ_01\n",
    "        q1_01 += dt*p1_01*iρ_01\n",
    "\n",
    "        return ((q0_10,q1_10), (q0_01,q1_01)), ((p0_10,p1_10), (p0_01,p1_01))"
   ]
  },
  {
   "cell_type": "code",
   "execution_count": 15,
   "id": "55d9dcde-d967-4cb8-8969-96c5cbd8e619",
   "metadata": {
    "editable": true,
    "slideshow": {
     "slide_type": ""
    },
    "tags": [
     "ExportCode"
    ]
   },
   "outputs": [],
   "source": [
    "class Lebedev3:\n",
    "    \"\"\"The three dimensional Lebedev scheme\"\"\"\n",
    "    def __init__(self,ρ,C,stag):\n",
    "        self.stag = stag\n",
    "        ar = stag.avg_right\n",
    "        # Variable location on the grid shown after underscore\n",
    "        iρ = 1/ρ \n",
    "        self.iρ_100 = ar(iρ,0) \n",
    "        self.iρ_010 = ar(iρ,1)\n",
    "        self.iρ_001 = ar(iρ,2)\n",
    "        self.iρ_111 = ar(iρ,(0,1,2))\n",
    "        self.C_000 = C \n",
    "        self.C_110 = ar(C,axis=(2+0,2+1)) \n",
    "        self.C_101 = ar(C,axis=(2+0,2+2)) \n",
    "        self.C_011 = ar(C,axis=(2+1,2+2)) \n",
    "\n",
    "    def step(self,q,p,dt):\n",
    "        q_100,q_010,q_001,q_111 = copy.deepcopy(q) \n",
    "        p_100,p_010,p_001,p_111 = copy.deepcopy(p)\n",
    "        dl,dr = self.stag.diff_left, self.stag.diff_right\n",
    "        iρ_100,iρ_010,iρ_001,iρ_111, C_000,C_110,C_101,C_011 = self.iρ_100,self.iρ_010,self.iρ_001,self.iρ_111, self.C_000,self.C_110,self.C_101,self.C_011\n",
    "\n",
    "        # Compute the strain tensor ϵ = (Dq+Dq^T)/2\n",
    "        # Voigt convention : 00,11,22, 12,02,01\n",
    "        ϵ_000 = (dl(q_100[0],0), dl(q_010[1],1), dl(q_001[2],2), dl(q_001[1],2)+dl(q_010[2],1), dl(q_001[0],2)+dl(q_100[2],0), dl(q_010[0],1)+dl(q_100[1],0) )\n",
    "        ϵ_110 = (dr(q_010[0],0), dr(q_100[1],1), dl(q_111[2],2), dl(q_111[1],2)+dr(q_100[2],1), dl(q_111[0],2)+dr(q_010[2],0), dr(q_100[0],1)+dr(q_010[1],0) )\n",
    "        ϵ_101 = (dr(q_001[0],0), dl(q_111[1],1), dr(q_100[2],2), dr(q_100[1],2)+dl(q_111[2],1), dr(q_100[0],2)+dr(q_001[2],0), dl(q_111[0],1)+dr(q_001[1],0) )\n",
    "        ϵ_011 = (dl(q_111[0],0), dr(q_001[1],1), dr(q_010[2],2), dr(q_010[1],2)+dr(q_001[2],1), dr(q_010[0],2)+dl(q_111[2],0), dr(q_001[0],1)+dl(q_111[1],0) )\n",
    "\n",
    "        # Compute the stress tensor, as a matrix-vector product\n",
    "        σ_000 = [sum(C_000[i,j]*ϵ_000[j] for j in range(6)) for i in range(6)]\n",
    "        σ_110 = [sum(C_110[i,j]*ϵ_110[j] for j in range(6)) for i in range(6)]\n",
    "        σ_101 = [sum(C_101[i,j]*ϵ_101[j] for j in range(6)) for i in range(6)]\n",
    "        σ_011 = [sum(C_011[i,j]*ϵ_011[j] for j in range(6)) for i in range(6)]\n",
    "\n",
    "        # Stress divergence  [0,5,4]\n",
    "        # Voigt convention   [5,1,3]\n",
    "        #                    [4,3,2]\n",
    "        dp_100 = (dr(σ_000[0],0) + dl(σ_110[5],1) + dl(σ_101[4],2), \n",
    "                  dr(σ_000[5],0) + dl(σ_110[1],1) + dl(σ_101[3],2), \n",
    "                  dr(σ_000[4],0) + dl(σ_110[3],1) + dl(σ_101[2],2) )\n",
    "        \n",
    "        dp_010 = (dl(σ_110[0],0) + dr(σ_000[5],1) + dl(σ_011[4],2), \n",
    "                  dl(σ_110[5],0) + dr(σ_000[1],1) + dl(σ_011[3],2), \n",
    "                  dl(σ_110[4],0) + dr(σ_000[3],1) + dl(σ_011[2],2) )\n",
    "        \n",
    "        dp_001 = (dl(σ_101[0],0) + dl(σ_011[5],1) + dr(σ_000[4],2), \n",
    "                  dl(σ_101[5],0) + dl(σ_011[1],1) + dr(σ_000[3],2), \n",
    "                  dl(σ_101[4],0) + dl(σ_011[3],1) + dr(σ_000[2],2) )\n",
    "        \n",
    "        dp_111 = (dr(σ_011[0],0) + dr(σ_101[5],1) + dr(σ_110[4],2), \n",
    "                  dr(σ_011[5],0) + dr(σ_101[1],1) + dr(σ_110[3],2), \n",
    "                  dr(σ_011[4],0) + dr(σ_101[3],1) + dr(σ_110[2],2) )\n",
    "\n",
    "        self.tmp = (dp_100,dp_010,dp_001,dp_111), (σ_000,σ_110,σ_101,σ_011), (ϵ_000,ϵ_110,ϵ_101,ϵ_011)\n",
    "        \n",
    "        # Symplectic updates : first p, then q\n",
    "        for i in range(3):\n",
    "            p_100[i] += dt*dp_100[i]\n",
    "            p_010[i] += dt*dp_010[i]\n",
    "            p_001[i] += dt*dp_001[i]\n",
    "            p_111[i] += dt*dp_111[i]\n",
    "\n",
    "        for i in range(3):\n",
    "            q_100[i] += dt*iρ_100*p_100[i]\n",
    "            q_010[i] += dt*iρ_010*p_010[i]\n",
    "            q_001[i] += dt*iρ_001*p_001[i]\n",
    "            q_111[i] += dt*iρ_111*p_111[i]\n",
    "\n",
    "        return (q_100,q_010,q_001,q_111), (p_100,p_010,p_001,p_111)"
   ]
  },
  {
   "cell_type": "markdown",
   "id": "5b849693-0159-4486-ba63-f33f331b11c8",
   "metadata": {},
   "source": [
    "### 3.2 Symplectic implementation\n",
    "\n",
    "We provide a symplectic implementation of the Lebedev scheme, with the same tradeoffs as for the Virieux case."
   ]
  },
  {
   "cell_type": "code",
   "execution_count": 16,
   "id": "c8e03f5e-ee2d-4ddd-838d-5f4e8874f7ea",
   "metadata": {
    "editable": true,
    "slideshow": {
     "slide_type": ""
    },
    "tags": [
     "ExportCode"
    ]
   },
   "outputs": [],
   "source": [
    "def LebedevH2(ρ,C,stag,X):\n",
    "    dl,dr,al,ar = stag.diff_left,stag.diff_right,stag.avg_left,stag.avg_right\n",
    "    s = Lebedev2(ρ,C,stag)\n",
    "    def PotentialEnergy(q):\n",
    "        q_10,q_01 = q\n",
    "        # Compute the strain tensor ϵ = (Dq+Dq^T)/2. Voigt convention : 00,11, 01\n",
    "        ϵ_00 = ad.array((dl(q_10[0],0),dl(q_01[1],1), dl(q_01[0],1)+dl(q_10[1],0)))\n",
    "        ϵ_11 = ad.array((dr(q_01[0],0),dr(q_10[1],1), dr(q_10[0],1)+dr(q_01[1],0)))\n",
    "        return 0.5*sum(lp.dot_VAV(ϵ_,C_,ϵ_) for (ϵ_,C_) in ((ϵ_00,s.C_00),(ϵ_11,s.C_11)))\n",
    "    def KineticEnergy(p):\n",
    "        p_10,p_01 = p\n",
    "        return 0.5*sum(p_**2 * iρ_ for (p_,iρ_) in ((p_10,s.iρ_10),(p_01,s.iρ_01)))\n",
    "    H = QuadraticHamiltonian(PotentialEnergy,KineticEnergy); H.set_spmat(np.zeros_like(X,shape=(2,*X.shape))); return H\n",
    "     \n",
    "def LebedevH3(ρ,C,stag,X):\n",
    "    dl,dr = stag.diff_left,stag.diff_right\n",
    "    s = Lebedev3(ρ,C,stag)\n",
    "    def PotentialEnergy(q):\n",
    "        q_100,q_010,q_001,q_111 = q\n",
    "        # Compute the strain tensor ϵ = (Dq+Dq^T)/2. Voigt convention : 00,11,22, 12,02,01\n",
    "        ϵ_000 = ad.array((dl(q_100[0],0), dl(q_010[1],1), dl(q_001[2],2), dl(q_001[1],2)+dl(q_010[2],1), dl(q_001[0],2)+dl(q_100[2],0), dl(q_010[0],1)+dl(q_100[1],0) ))\n",
    "        ϵ_110 = ad.array((dr(q_010[0],0), dr(q_100[1],1), dl(q_111[2],2), dl(q_111[1],2)+dr(q_100[2],1), dl(q_111[0],2)+dr(q_010[2],0), dr(q_100[0],1)+dr(q_010[1],0) ))\n",
    "        ϵ_101 = ad.array((dr(q_001[0],0), dl(q_111[1],1), dr(q_100[2],2), dr(q_100[1],2)+dl(q_111[2],1), dr(q_100[0],2)+dr(q_001[2],0), dl(q_111[0],1)+dr(q_001[1],0) ))\n",
    "        ϵ_011 = ad.array((dl(q_111[0],0), dr(q_001[1],1), dr(q_010[2],2), dr(q_010[1],2)+dr(q_001[2],1), dr(q_010[0],2)+dl(q_111[2],0), dr(q_001[0],1)+dl(q_111[1],0) ))\n",
    "        return 0.5*sum(lp.dot_VAV(ϵ_,C_,ϵ_) for (ϵ_,C_) in ((ϵ_000,s.C_000),(ϵ_110,s.C_110),(ϵ_101,s.C_101),(ϵ_011,s.C_011)))\n",
    "    def KineticEnergy(p):\n",
    "        p_100,p_010,p_001,p_111 = p\n",
    "        return 0.5*sum(p_**2 * iρ_ for (p_,iρ_) in ((p_100,s.iρ_100),(p_010,s.iρ_010),(p_001,s.iρ_001),(p_111,s.iρ_111)))\n",
    "    H = QuadraticHamiltonian(PotentialEnergy,KineticEnergy); H.set_spmat(np.zeros_like(X,shape=(4,*X.shape))); return H\n",
    "    "
   ]
  },
  {
   "cell_type": "markdown",
   "id": "1f7dcfc7-a916-4f22-84ec-5d250601da4e",
   "metadata": {},
   "source": [
    "Let us check that the symplectic and original implementations yield identical results."
   ]
  },
  {
   "cell_type": "code",
   "execution_count": 17,
   "id": "83693dc0-3f13-4bca-8ece-51316bbda7e8",
   "metadata": {},
   "outputs": [],
   "source": [
    "for vdim,Nx,order_x in [\n",
    "    (2,12,2),(2,12,4),(3,9,2)\n",
    "]:\n",
    "    if vdim!=2: break\n",
    "    np.random.seed(42)\n",
    "    shape = (Nx,)*vdim\n",
    "    X,dx = make_domain(Nx,vdim)\n",
    "    stag = staggered(dx,order_x)\n",
    "    q0 = np.random.rand(2**(vdim-1),vdim,*shape)\n",
    "    p0 = np.random.rand(2**(vdim-1),vdim,*shape)\n",
    "    ρ = 0.5+np.random.rand(*shape)\n",
    "    symdim = int((vdim*(vdim+1))//2)\n",
    "    C = MakeRandomTensor(symdim,shape,relax=0.5) \n",
    "    dt = 0.1\n",
    "    \n",
    "    Lebedev  = (None,None,Lebedev2, Lebedev3 )[vdim]    \n",
    "    LebedevH = (None,None,LebedevH2,LebedevH3)[vdim]  \n",
    "    scheme  = Lebedev( ρ,C,stag)\n",
    "    schemeH = LebedevH(ρ,C,stag,X)\n",
    "    q1,p1   = scheme.step(    q0,p0,dt)\n",
    "    q1H,p1H = schemeH.Euler_p(q0,p0,dt)\n",
    "\n",
    "    assert np.allclose(q1,q1H) \n",
    "    assert np.allclose(p1,p1H) "
   ]
  },
  {
   "cell_type": "code",
   "execution_count": 109,
   "id": "2e6153e4-c750-4c77-bcca-0d3382303cc8",
   "metadata": {
    "editable": true,
    "slideshow": {
     "slide_type": ""
    },
    "tags": [
     "ExportCode"
    ]
   },
   "outputs": [],
   "source": [
    "def LebedevH2_ext(M,C,stag,X,S=None):\n",
    "    dl,dr,al,ar = stag.diff_left,stag.diff_right,stag.avg_left,stag.avg_right\n",
    "    M_10 = ar(M,2+0) \n",
    "    M_01 = ar(M,2+1) \n",
    "    C_00 = C \n",
    "    C_11 = ar(C,axis=(2+0,2+1)) \n",
    "    def PotentialEnergy(q):\n",
    "        q_10,q_01 = q\n",
    "        # Compute the strain tensor ϵ = (Dq+Dq^T)/2. Voigt convention : 00,11, 01\n",
    "        ϵ_00 = ad.array((dl(q_10[0],0),dl(q_01[1],1), dl(q_01[0],1)+dl(q_10[1],0)))\n",
    "        ϵ_11 = ad.array((dr(q_01[0],0),dr(q_10[1],1), dr(q_10[0],1)+dr(q_01[1],0)))\n",
    "        if S is not None: # Additional term arising in topographic changes of variables\n",
    "            S_00 = ad.array((S[0,0],S[1,1],2*S[0,1]))\n",
    "            S_11 = ar(S_00,(2+0,2+1))\n",
    "            q_00 = 0.5*(al(q_10,1+0)+al(q_01,1+1))\n",
    "            q_11 = 0.5*(ar(q_10,1+1)+ar(q_01,1+0))\n",
    "            for ϵ_,S_,q_ in ((ϵ_00,S_00,q_00),(ϵ_11,S_11,q_11)): ϵ_ -= np.sum(S_*q_,axis=1)\n",
    "        return 0.5*sum(lp.dot_VAV(ϵ_,C_,ϵ_) for (ϵ_,C_) in ((ϵ_00,C_00),(ϵ_11,C_11)))\n",
    "    def KineticEnergy(p):\n",
    "        p_10,p_01 = p\n",
    "        return 0.5*(p_10[None,:]*p_10[:,None]*M_10 + p_01[None,:]*p_01[:,None]*M_01) \n",
    "    H = QuadraticHamiltonian(PotentialEnergy,KineticEnergy); H.set_spmat(np.zeros_like(X,shape=(2,*X.shape))); return H"
   ]
  },
  {
   "cell_type": "markdown",
   "id": "21fe5752-0428-46f6-b6e7-858ee25dbe96",
   "metadata": {},
   "source": [
    "This slightly more general variant also works with the coefficients obtained through changes of variables, see the notebook on [high order schemes for the wave equations](HighOrderWaves.ipynb)."
   ]
  },
  {
   "cell_type": "markdown",
   "id": "fb7a1397-c6fc-4c9d-891c-c65d7f7f6996",
   "metadata": {},
   "source": [
    "## 4. Dispersion relations\n",
    "\n",
    "**Continuous setting.**\n",
    "Consider a plane wave \n",
    "\\begin{align*}\n",
    "    q(t,x) &= w \\be(\\<\\kw,x\\> - \\omega t), &\n",
    "    p(t,x) &= v \\be(\\<\\kw,x\\> - \\omega t),\n",
    "\\end{align*}\n",
    "where $\\kw$ is the wavenumber, $\\omega$ is the pulsation, and $\\be(s) := \\exp(\\ri s)$.\n",
    "\n",
    "If this wave obeys the elastic wave equation, with constant coefficients, then one easily checks that \n",
    "\\begin{align*}\n",
    "    -\\ri\\omega\\, v &= C[\\ri\\kw] w, &\n",
    "    -\\ri\\omega\\, w &= v/\\rho,\n",
    "\\end{align*}\n",
    "where $C[\\kw]_{il} := \\sum_{jk} C_{ijkl} \\kw_i \\kw_l$.\n",
    "\n",
    "Note that this relation implies that $w$ is an eigenvector of $C[\\kw]$, more precisely $\\rho \\omega^2 w = C[\\ri\\kw] w$.\n",
    "\n",
    "**Discrete setting.**\n",
    "We first define two helper functions, which correspond to fourier transforms of first order finite difference operators:\n",
    "\\begin{align*}\n",
    "    \\rI_2^h(s) &\n",
    "    := \\frac{\\exp(\\ri s h/2) - \\exp(\\ri s h/2)} {\\ri h} \n",
    "    = \\frac{\\sin(s h/2)}{h/2} \n",
    "    = s - \\frac{ s^3 h^2} {24} +  \\cO(h^4), \\\\\n",
    "    \\rI_4^h(s) &\n",
    "    := \\frac 9 8 \\frac{\\exp(\\ri s h/2) - \\exp(\\ri s h/2)} {\\ri h} -\\frac 1 {24} \\frac{\\exp(3\\ri s h/2) - \\exp(3\\ri s h/2)} {\\ri h} \n",
    "    = \\frac 9 8 \\frac{\\sin(s h/2)}{h/2}  - \\frac 1 {24} \\frac{\\sin(3 s h/2)}{h/2}\n",
    "    = s - \\frac {3 s^5 h^4}{640} + \\cO(h^6).\n",
    "\\end{align*}\n",
    "These expression are second order and fourth order approximations of the identity, respectively. The original ``staggered'' one dimensional finite difference operators are \n",
    "\\begin{align*}\n",
    "    \\frac{u(x+h/2)-u(x-h/2)} h &= u'(x) + \\cO(h^2), \\\\\n",
    "    \\frac 9 8 \\frac{u(x+h/2)-u(x-h/2)} h - \\frac 1 8 \\frac{u(x+3h/2)-u(x-3h/2)} {3h} &= u'(x) + \\cO(h^4).\n",
    "\\end{align*}\n",
    "\n",
    "\n",
    "In view of the finite difference expressions, and of the locations and times where $q$ and $p$ are evaluated, one obtains the discrete dispersion relation\n",
    "\\begin{align*}\n",
    "    -\\ri \\rI_2^{\\diff t} (\\omega)\\, v &= C[\\ri \\rI_{ox}^{\\diff x}\\kw] w, &\n",
    "    -\\ri \\rI_2^{\\diff t}(\\omega)\\, w &= v/\\rho,\n",
    "\\end{align*}\n",
    "where $ox$ denotes the order of the scheme w.r.t the space variable. This relation implies $\\rho \\rI_2^{\\diff t}(\\omega)^2 w = C[\\rI_{ox}^{\\diff x}\\kw] w$.\n",
    "Given a wave number $\\kw$, one can diagonalize the symmetric matrix $C[\\rI_{ox}^{\\diff x}\\kw]$, and thus find the amplitude and pulsations of the corresponding propagation modes."
   ]
  },
  {
   "cell_type": "code",
   "execution_count": 18,
   "id": "f69c4be3-6037-4d5f-9298-3db1703c98d4",
   "metadata": {
    "editable": true,
    "slideshow": {
     "slide_type": ""
    },
    "tags": [
     "ExportCode"
    ]
   },
   "outputs": [],
   "source": [
    "def _dispersion_DiffStaggered(s,h,order=2):\n",
    "    \"\"\"\n",
    "    Approximation of identity, corresponding to the Fourier transform \n",
    "    of first order finite difference operators on staggered grids. Denoted I_order^h in text.\n",
    "    \"\"\"\n",
    "    h2 = h/2; sh2 = s*h/2\n",
    "    if order==2: return np.sin(sh2)/h2\n",
    "    if order==4: return (9/8)*np.sin(sh2)/h2-(1/24)*np.sin(3*sh2)/h2\n",
    "    raise ValueError(\"Unsupported order\")\n",
    "\n",
    "def _dispersion_AvgStaggered(s,h,order=2):\n",
    "    \"\"\"\n",
    "    Fourier transform of the midpoint interpolation operator on staggered grid.\n",
    "    \"\"\"\n",
    "    sh2 = s*h/2\n",
    "    if order==2: return np.cos(sh2)\n",
    "    if order==4: return (9/8)*np.cos(sh2)-(1/8)*np.cos(3*sh2)\n",
    "    raise ValueError(\"Unsupported order\")    \n",
    "\n",
    "def _dispersion_Iinv(s,h):\n",
    "    \"\"\"Inverse of I(s,h,order=2), where I is _dispersion_DiffStaggered\"\"\"\n",
    "    h2=h/2\n",
    "    return np.arcsin(s*h2)/h2\n",
    "\n",
    "def _dispersion_ElasticT2(ρ,Ck,dt):\n",
    "    \"\"\"Dispersion of a second order time discretization of an elastic wave equation\"\"\"\n",
    "    if np.ndim(Ck)==1: Iω2,vq = np.linalg.eigh(Ck/ρ)\n",
    "    else: Iω2,vq = np.linalg.eigh(np.moveaxis(Ck/ρ,(0,1),(-2,-1))); Iω2 = np.moveaxis(Iω2,-1,0); vq = np.moveaxis(vq,(-2,-1),(0,1)) \n",
    "    \n",
    "    Iω = np.sqrt(Iω2)\n",
    "    ω = _dispersion_Iinv(Iω,dt)\n",
    "    vp = -ρ*Iω*vq # Omitting multiplication by i\n",
    "    return ω,vq,vp\n",
    "\n",
    "def dispersion_Virieux(k,ρ,C,dx,dt,order_x=2):\n",
    "    \"\"\"\n",
    "    Dispersion relation for the Virieux and Lebedev schemes (but Virieux expects C02=C12=0)\n",
    "    returns the wavemodes and pulsations corresponding to the wavenumber k.\n",
    "    \"\"\"\n",
    "    Ik = _dispersion_DiffStaggered(k,dx,order_x)\n",
    "    Ck = Hooke(C).contract(Ik)\n",
    "    return _dispersion_ElasticT2(ρ,Ck,dt)\n",
    "\n",
    "def mk_planewave_e(k,ω,vq,vp):\n",
    "    \"\"\"Make an elastic planewave with the specified parameters.\"\"\"\n",
    "    def brdcst(v,x): return fd.as_field(v,x[0].shape,conditional=False)\n",
    "    def expi(t,x): return np.exp(1j*(lp.dot_VV(brdcst(k,x),x) - ω*t)) \n",
    "    def q_exact(t,x): return    expi(t,x) * brdcst(vq,x)\n",
    "    def p_exact(t,x): return 1j*expi(t,x) * brdcst(vp,x)\n",
    "    return q_exact,p_exact"
   ]
  },
  {
   "cell_type": "markdown",
   "id": "3473141d-0fed-4220-8519-882930986d15",
   "metadata": {},
   "source": [
    "Let us cross-check our implementations and these dispersion relations, beginning with two-dimensional schemes."
   ]
  },
  {
   "cell_type": "code",
   "execution_count": 19,
   "id": "c72722c8-0558-4841-a7b9-604aff5e1c14",
   "metadata": {},
   "outputs": [],
   "source": [
    "C_VTI2 = Hooke.mica[0].extract_xz().hooke\n",
    "C_TTI2 = Hooke.mica[0].extract_xz().rotate_by(π/6).hooke\n",
    "C_VTI3 = Hooke.mica[0].hooke\n",
    "C_TTI3 = Hooke.mica[0].rotate_by(π/6,(1,2,3)).hooke\n",
    "for C in (C_VTI2,C_TTI2,C_VTI3,C_TTI3): C/=np.max(C)\n",
    "\n",
    "for ρ, C_VTI, C, k, order_x, Nx, dt, mode in [\n",
    "    (1.4, C_VTI2, C_TTI2, [ 2, 3],    2, 10, 0.01, 0),\n",
    "    (0.9, C_VTI2, C_TTI2, [-1, 1],    4, 10, 0.01, 1),\n",
    "    (1.6, C_VTI3, C_TTI3, [ 2, 1, 3], 2, 10, 0.01, 1),\n",
    "    (1.9, C_VTI3, C_TTI3, [-1, 1, 2], 4, 10, 0.01, 0),\n",
    "]:\n",
    "    vdim = len(k)\n",
    "    k = 2*π*np.array(k)\n",
    "    X, dx = make_domain(Nx,vdim) # The grid points : offset (0,0)\n",
    "    stag = staggered(dx,order_x,'Periodic')\n",
    "\n",
    "    # Time discretization\n",
    "    Nt = 1\n",
    "    T = Nt*dt\n",
    "\n",
    "    # Dispersion relation and exact solution\n",
    "    ω,vq,vp = dispersion_Virieux(k,ρ,C_VTI,dx,dt,order_x)\n",
    "    q_exact,p_exact = mk_planewave_e(k,ω[mode],vq[:,mode],vp[:,mode])\n",
    "\n",
    "    q0,p0 = eval_Virieux(q_exact,p_exact,X,dx,0,dt)\n",
    "    qf,pf = eval_Virieux(q_exact,p_exact,X,dx,T,dt)\n",
    "\n",
    "    def af(q): return fd.as_field(q,shape=X[0].shape)\n",
    "    Virieux = (None,Virieux1,Virieux2,Virieux3)[vdim] # Select adequate scheme\n",
    "    scheme = Virieux(af(ρ),af(C_VTI),stag)\n",
    "    q1,p1 = scheme.step(q0,p0,dt)\n",
    "    assert np.allclose(qf,q1)\n",
    "    assert np.allclose(pf,p1)\n",
    "\n",
    "    # Now testing the Lebedev scheme\n",
    "    if vdim==1: continue\n",
    "    Q0,P0 = eval_Lebedev(q_exact,p_exact,X,dx,0,dt)\n",
    "    Qf,Pf = eval_Lebedev(q_exact,p_exact,X,dx,T,dt)\n",
    "    Lebedev = (None,None,Lebedev2,Lebedev3)[vdim]\n",
    "    Scheme = Lebedev(af(ρ),af(C_VTI),stag)\n",
    "    Q1,P1 = Scheme.step(Q0,P0,dt)\n",
    "    assert np.allclose(Qf,Q1)\n",
    "    assert np.allclose(Pf,P1)\n",
    "\n",
    "    # For a VTI model, the Lebedev scheme incorporates several decoupled Virieux schemes\n",
    "    for i in range(vdim): assert np.allclose(Qf[i][i],qf[i])\n",
    "\n",
    "    # However, the Lebedev scheme also handles general elasticity\n",
    "    ω,vq,vp = dispersion_Virieux(k,ρ,C,dx,dt,order_x)\n",
    "    q_exact,p_exact = mk_planewave_e(k,ω[mode],vq[:,mode],vp[:,mode])\n",
    "    Q0,P0 = eval_Lebedev(q_exact,p_exact,X,dx,0,dt)\n",
    "    Qf,Pf = eval_Lebedev(q_exact,p_exact,X,dx,T,dt)\n",
    "    Scheme = Lebedev(af(ρ),af(C),stag)\n",
    "    Q1,P1 = Scheme.step(Q0,P0,dt)\n",
    "    assert np.allclose(Qf,Q1)\n",
    "    assert np.allclose(Pf,P1)"
   ]
  },
  {
   "cell_type": "markdown",
   "id": "e9ae1d9a-996e-4c51-b0ba-0b419d7e0bca",
   "metadata": {},
   "source": [
    "\n",
    "(Old test code commented.)\n",
    "\n",
    "<!---\n",
    "# Virieux\n",
    "ω=ω[mode]; vq=vq[:,mode]; vp=vp[:,mode]\n",
    "(dp0_10,dp1_01),(σ00_00,σ11_00,σ01_11),(ϵ00_00,ϵ11_00,ϵ01_11) = scheme.tmp\n",
    "\n",
    "def expi(x): return np.exp(1j*(k[0]*x[0]+k[1]*x[1]-ω*dt/2))\n",
    "# This works for any vq, not necessarily an eigenvector\n",
    "assert np.allclose(q0[0]/expi(X_10),vq[0])\n",
    "assert np.allclose(ϵ00_00/expi(X_00),vq[0]*dspi(0))\n",
    "assert np.allclose(ϵ11_00/expi(X_00),vq[1]*dspi(1))\n",
    "assert np.allclose(ϵ01_11/expi(X_11),vq[0]*dspi(1)+vq[1]*dspi(0))\n",
    "assert np.allclose(σ00_00/expi(X_00),C[0,0]*vq[0]*dspi(0) + C[0,1]*vq[1]*dspi(1))\n",
    "assert np.allclose(σ11_00/expi(X_00),C[1,0]*vq[0]*dspi(0) + C[1,1]*vq[1]*dspi(1))\n",
    "assert np.allclose(σ01_11/expi(X_11),C[2,2]*(vq[0]*dspi(1)+vq[1]*dspi(0)))\n",
    "assert np.allclose(dp0_10/expi(X_10),(C[0,0]*vq[0]*dspi(0)+C[0,1]*vq[1]*dspi(1))*dspi(0) + C[2,2]*(vq[0]*dspi(1)+vq[1]*dspi(0))*dspi(1))\n",
    "assert np.allclose(dp1_01/expi(X_01),C[2,2]*(vq[0]*dspi(1)+vq[1]*dspi(0))*dspi(0)+(C[1,0]*vq[0]*dspi(0) + C[1,1]*vq[1]*dspi(1))*dspi(1))\n",
    "Ik = _dispersion_I(k,dx,order_x)\n",
    "Iω = _dispersion_I(ω,dt)\n",
    "Ck = Hooke(C).contract(Ik)\n",
    "assert np.allclose(dp0_10/expi(X_10),-(Ck@vq)[0])\n",
    "assert np.allclose(dp1_01/expi(X_01),-(Ck@vq)[1])\n",
    "# Below, need chosen vq\n",
    "assert np.allclose(Iω*vq,-vp/ρ)\n",
    "assert np.allclose(Iω*vp,-Ck@vq)\n",
    "assert np.allclose(p1,pf)\n",
    "\n",
    "#Iω*vp,Ck@vq, ρ*Iω*vq,vp\n",
    "#assert np.allclose(_dispersion_I(ω,dt)*vp,Ck@vq)\n",
    "#Ck@vq,(C[0,0]*vq[0]*dspi(0) + C[0,1]*vq[1]*dspi(1))*dspi(0) + C[2,2]*(vq[0]*dspi(1)+vq[1]*dspi(0))*dspi(1),C[2,2]*(vq[0]*dspi(1)+vq[1]*dspi(0))*dspi(0)+(C[1,0]*vq[0]*dspi(0) + C[1,1]*vq[1]*dspi(1))*dspi(1)\n",
    "\n",
    "#np.array(q1)-np.array(qf)\n",
    "def expi(x): return np.exp(1j*(k[0]*x[0]+k[1]*x[1]-ω*dt))\n",
    "assert np.allclose((qf[0]-q0[0])/expi(X_10),-1j*vq[0]*Iω*dt)\n",
    "assert np.allclose(pf[0]/expi(X_10),1j*vp[0])\n",
    "assert np.allclose(qf[0]-q0[0], pf[0]*dt/ρ)\n",
    "assert np.allclose(q1[0]-q0[0], pf[0]*dt/ρ)\n",
    "\n",
    "# Lebedev\n",
    "assert np.allclose(Q0[0][0],q0[0])\n",
    "assert np.allclose(Q0[1][1],q0[1])\n",
    "assert np.allclose(P0[0][0],p0[0])\n",
    "assert np.allclose(P0[1][1],p0[1])\n",
    "\n",
    "assert np.allclose(Qf[0][0],qf[0])\n",
    "assert np.allclose(Q1[0][0],q1[0])\n",
    "assert np.allclose(Qf[0][0],Q1[0][0])\n",
    "--->\n",
    "\n",
    "<!---\n",
    "#C = Hooke.from_Lame(0,1,vdim=2).hooke; ρ=1\n",
    "C = Hooke.mica[0].extract_xz().hooke; C/=np.max(C); ρ=1.5\n",
    "k = 2*π*np.array([2,3])\n",
    "order_x = 2\n",
    "\n",
    "# The domain is the periodic unit square\n",
    "Nx = 10\n",
    "bc = 'Periodic'\n",
    "X, dx = make_domain(Nx,2) # The grid points : offset (0,0)\n",
    "stag = staggered(dx,order_x,bc)\n",
    "\n",
    "# Check that _dispersion_I is indeed the Fourier transform of the finite differences operator\n",
    "def expi(x): return np.exp(1j*(k[0]*x[0]+k[1]*x[1]))\n",
    "def dspi(axis): return 1j*_dispersion_I(k[axis],dx,order_x)\n",
    "X_00,X_10,X_01,X_11 = shifted_grids(X,dx)\n",
    "assert np.allclose(stag.diff_left( expi(X_10),0),     expi(X)*dspi(0))\n",
    "assert np.allclose(stag.diff_right(expi(2*X-X_10),0), expi(X)*dspi(0))\n",
    "assert np.allclose(stag.diff_left( expi(X_01),1),     expi(X)*dspi(1))\n",
    "assert np.allclose(stag.diff_right(expi(2*X-X_01),1), expi(X)*dspi(1))\n",
    "\n",
    "# Time step\n",
    "dt = 0.01\n",
    "Nt = 1\n",
    "T = Nt*dt\n",
    "\n",
    "# Dispersion relation and exact solution\n",
    "ω,vq,vp = dispersion_Virieux(k,ρ,C,dx,dt)\n",
    "mode = 0\n",
    "q_exact,p_exact = mk_planewave_e(k,ω[mode],vq[:,mode],vp[:,mode])\n",
    "\n",
    "q0,p0 = eval_Virieux(q_exact,p_exact,X,dx,0,dt)\n",
    "qf,pf = eval_Virieux(q_exact,p_exact,X,dx,T,dt)\n",
    "\n",
    "def af(q): return fd.as_field(q,shape=X[0].shape)\n",
    "scheme = Virieux2(af(ρ),af(C),stag)\n",
    "q1,p1 = scheme.step(q0,p0,dt)\n",
    "assert np.allclose(qf,q1)\n",
    "assert np.allclose(pf,p1)\n",
    "\n",
    "# Now testing the Lebedev scheme\n",
    "Q0,P0 = eval_Lebedev(q_exact,p_exact,X,dx,0,dt)\n",
    "Qf,Pf = eval_Lebedev(q_exact,p_exact,X,dx,T,dt)\n",
    "Scheme = Lebedev2(af(ρ),af(C),stag)\n",
    "Q1,P1 = Scheme.step(Q0,P0,dt)\n",
    "assert np.allclose(Qf,Q1)\n",
    "assert np.allclose(Pf,P1)\n",
    "\n",
    "# For a VTI model, the Lebedev scheme consists of two decoupled Virieux schemes\n",
    "assert np.allclose(Qf[0][0],qf[0])\n",
    "assert np.allclose(Qf[1][1],qf[1])\n",
    "\n",
    "# However, the Lebedev scheme also handles general elasticity\n",
    "C = Hooke.mica[0].extract_xz().rotate_by(π/6).hooke; C/=np.max(C); ρ=1.5\n",
    "ω,vq,vp = dispersion_Virieux(k,ρ,C,dx,dt)\n",
    "mode = 1\n",
    "q_exact,p_exact = mk_planewave_e(k,ω[mode],vq[:,mode],vp[:,mode])\n",
    "Q0,P0 = eval_Lebedev(q_exact,p_exact,X,dx,0,dt)\n",
    "Qf,Pf = eval_Lebedev(q_exact,p_exact,X,dx,T,dt)\n",
    "Scheme = Lebedev2(af(ρ),af(C),stag)\n",
    "Q1,P1 = Scheme.step(Q0,P0,dt)\n",
    "assert np.allclose(Qf,Q1)\n",
    "assert np.allclose(Pf,P1)\n",
    "--->\n",
    "\n",
    "<!---\n",
    "C = Hooke.mica[0].hooke; C/=np.max(C); ρ=1.5\n",
    "k = 2*π*np.array([2,-1,3])\n",
    "order_x = 2\n",
    "\n",
    "# The domain is the periodic unit square\n",
    "Nx = 10\n",
    "bc = 'Periodic'\n",
    "X, dx = make_domain(10,3) # The grid points : offset (0,0)\n",
    "stag = staggered(dx,order_x,bc)\n",
    "\n",
    "# Check that _dispersion_I is indeed the Fourier transform of the finite differences operator\n",
    "#def expi(x): return np.exp(1j*(k[0]*x[0]+k[1]*x[1]))\n",
    "#def dspi(axis): return 1j*_dispersion_I(k[axis],dx,order_x)\n",
    "#X_00,X_10,X_01,X_11 = shifted_grids(X,dx)\n",
    "#assert np.allclose(stag.diff_left( expi(X_10),0),     expi(X)*dspi(0))\n",
    "#assert np.allclose(stag.diff_right(expi(2*X-X_10),0), expi(X)*dspi(0))\n",
    "#assert np.allclose(stag.diff_left( expi(X_01),1),     expi(X)*dspi(1))\n",
    "#assert np.allclose(stag.diff_right(expi(2*X-X_01),1), expi(X)*dspi(1))\n",
    "\n",
    "# Time step\n",
    "dt = 0.01\n",
    "Nt = 1\n",
    "T = Nt*dt\n",
    "\n",
    "# Dispersion relation and exact solution\n",
    "ω,vq,vp = dispersion_Virieux(k,ρ,C,dx,dt)\n",
    "mode = 0\n",
    "q_exact,p_exact = mk_planewave_e(k,ω[mode],vq[:,mode],vp[:,mode])\n",
    "\n",
    "q0,p0 = eval_Virieux(q_exact,p_exact,X,dx,0,dt)\n",
    "qf,pf = eval_Virieux(q_exact,p_exact,X,dx,T,dt)\n",
    "\n",
    "def af(q): return fd.as_field(q,shape=X[0].shape)\n",
    "scheme = Virieux3(af(ρ),af(C),stag)\n",
    "q1,p1 = scheme.step(q0,p0,dt)\n",
    "assert np.allclose(qf,q1)\n",
    "assert np.allclose(pf,p1)\n",
    "\n",
    "# Now testing the Lebedev scheme\n",
    "Q0,P0 = eval_Lebedev(q_exact,p_exact,X,dx,0,dt)\n",
    "Qf,Pf = eval_Lebedev(q_exact,p_exact,X,dx,T,dt)\n",
    "assert np.allclose(Qf[0][0],qf[0])\n",
    "assert np.allclose(Qf[1][1],qf[1])\n",
    "assert np.allclose(Qf[2][2],qf[2])\n",
    "assert np.allclose(Pf[0][0],pf[0])\n",
    "assert np.allclose(Pf[1][1],pf[1])\n",
    "assert np.allclose(Pf[2][2],pf[2])\n",
    "\n",
    "Scheme = Lebedev3(af(ρ),af(C),stag)\n",
    "Q1,P1 = Scheme.step(Q0,P0,dt)\n",
    "# For a VTI model, the Lebedev scheme consists of 2^(d-1) decoupled Virieux schemes\n",
    "(dp0_100,dp1_010,dp2_001),(σ00_000,σ11_000,σ22_000,σ01_110,σ02_101,σ12_011),(ϵ00_000,ϵ11_000,ϵ22_000,ϵ01_110,ϵ02_101,ϵ12_011) = scheme.tmp\n",
    "(dp_100,dp_010,dp_001,dp_111), (σ_000,σ_110,σ_101,σ_011), (ϵ_000,ϵ_110,ϵ_101,ϵ_011) = Scheme.tmp\n",
    "\n",
    "assert np.allclose(ϵ00_000,ϵ_000[0])\n",
    "assert np.allclose(dp0_100,dp_100[0])\n",
    "assert np.allclose(dp1_010,dp_010[1])\n",
    "assert np.allclose(dp2_001,dp_001[2])\n",
    "assert np.allclose(P0[0][0],p0[0])\n",
    "assert np.allclose(Pf[0][0],pf[0])\n",
    "assert np.allclose(Qf[0][0],Q1[0][0])\n",
    "\n",
    "assert np.allclose(Qf,Q1)\n",
    "assert np.allclose(Pf,P1)\n",
    "\n",
    "\n",
    "# However, the Lebedev scheme also handles general elasticity\n",
    "C = Hooke.mica[0].rotate_by(π/6,(1,2,3)).hooke; C/=np.max(C); ρ=1.5\n",
    "ω,vq,vp = dispersion_Virieux(k,ρ,C,dx,dt)\n",
    "mode = 1\n",
    "q_exact,p_exact = mk_planewave_e(k,ω[mode],vq[:,mode],vp[:,mode])\n",
    "Q0,P0 = eval_Lebedev(q_exact,p_exact,X,dx,0,dt)\n",
    "Qf,Pf = eval_Lebedev(q_exact,p_exact,X,dx,T,dt)\n",
    "Scheme = Lebedev3(af(ρ),af(C),stag)\n",
    "Q1,P1 = Scheme.step(Q0,P0,dt)\n",
    "assert np.allclose(Qf,Q1)\n",
    "assert np.allclose(Pf,P1)\n",
    "--->"
   ]
  },
  {
   "cell_type": "markdown",
   "id": "cb98bf71-227a-4c0e-b4c2-efbee224da06",
   "metadata": {},
   "source": [
    "## 5. Numerical dispersion\n",
    "\n"
   ]
  },
  {
   "cell_type": "markdown",
   "id": "0e90cf04-7f93-4467-9137-c9a2960c938a",
   "metadata": {},
   "source": [
    "### 5.1 Isotropic dispersion\n",
    "\n",
    "Recall that an isotropic Hooke tensor is defined in terms of two Lame parameters $\\lambda$ and $\\mu$, and satisfies \n",
    "$$\n",
    "    C(m,m) := \\sum_{ijkl} C_{ijkl} m_{ij} m_{kl} = \\lambda \\Tr(m)^2 + 2 \\mu \\Tr(m^2).\n",
    "$$\n",
    "We defined, for any wave number $\\kw$, a symmetric matrix $C[\\kw]$ as follows\n",
    "$$\n",
    "    C[\\kw]_{il} := \\sum_{jk} \\kw_{j}\\kw_k,\n",
    "$$\n",
    "Noting that $v^\\top C[\\kw] v = C(m,m)$ with $2 m = \\kw v^\\top + v \\kw^\\top$, we obtain the explicit expression is the isotropic case\n",
    "$$\n",
    "    C[\\kw] = \\lambda \\kw \\kw^\\top + \\mu(|\\kw|^2 \\Id + \\kw \\kw^\\top),\n",
    "$$\n",
    "which has eigenvalues $\\mu |\\kw|^2$ and $(\\lambda+2\\mu)|\\kw|^2$, with eigenspaces $\\kw^\\perp$ and $\\kw\\bR$. \n",
    "Using the dispersion relation $\\rho \\omega^2 v = C[k] v$, we obtain the associated wave speeds\n",
    "\\begin{align*}\n",
    "    V_S &= \\sqrt{\\frac \\mu \\rho},& V_P =& \\sqrt{\\frac{\\lambda+2 \\mu} \\rho}.\n",
    "\\end{align*}\n",
    "\n",
    "A measure of quality of an elastic wave scheme is how well it reproduces these wave speeds, in other words the (lack of) dispersion relation in the isotropic setting.\n",
    "\n",
    "**Virieux scheme.**\n",
    "The modified dispersion relation reads\n",
    "$$\n",
    "    \\rho \\rI_2^{\\diff t}(\\omega) v = C[\\rI_{ox}^{\\diff x}(\\kw)] v\n",
    "$$\n",
    "\n",
    "**Selling based scheme**\n",
    "The effect is more complex, and depends on the sign of $\\lambda$, which leads to different Selling decompositions. \n",
    "We begin with the two dimensional and second order case, and do not show all intermediate computations. The other cases are treated similarly.\n",
    "Define \n",
    "$$\n",
    "    E_2^{\\diff x}(v) := \n",
    "    \\begin{pmatrix}\n",
    "    \\rI_2^{\\diff x}(v_0)^2 & \\rI_2^{2\\diff x}(v_0) \\rI_2^{2\\diff x}(v_1) \\\\\n",
    "    \\rI_2^{2\\diff x}(v_0) \\rI_2^{2\\diff x}(v_1) & \\rI_2^{\\diff x}(v_1)^2 \n",
    "    \\end{pmatrix},\n",
    "$$\n",
    "which is an approximation of $v v^\\top$. Note the step $2 \\diff x$ for the off-diagonal coefficients, which are thus less faithful than the diagonal coefficients. The numerical replacement for the dispersion matrix $C[k]$ is obtained as follows : \n",
    "\n",
    "- for $\\lambda \\geq 0$\n",
    "$$\n",
    "    2\\mu \\begin{pmatrix}\\rI_2^{\\diff x}(k_0)^2 & \\\\ & \\rI_2^{\\diff x}(k_1)^2 \\end{pmatrix} + \\mu E^{\\diff x}_2( k_1,k_0) + \\lambda E^{\\diff x}_2(k)\n",
    "$$\n",
    "- for $\\lambda\\leq 0$ (note that $\\lambda \\geq -\\mu$ by assumption)\n",
    "$$\n",
    "2(\\mu+\\lambda) \\begin{pmatrix}\\rI_2^{\\diff x}(k_0)^2 & \\\\ & \\rI_2^{\\diff x}(k_1)^2 \\end{pmatrix} + \\mu E^{\\diff x}_2( k_1,k_0) - \\lambda E^{\\diff x}_2(-k_0,k_1)\n",
    "$$\n",
    "\n",
    "\n",
    "In other words the diagonal coefficients are the same as for the Virieux scheme, but the off-diagonal coefficients are slightly less accurate, corresponding to a twice larger grid step. (The situation is a little bit more complex with anisotropic Hooke tensors.) \n",
    "\n",
    "There appears to be a price to handling general Hooke tensors, which is either a multiplication of the unknowns in the Lebedev case, or slightly degraded off-diagonal coefficients in the dispersion relation in the proposed Selling scheme. Attempts to design a Selling staggered grid scheme for general anisotropy and with the same dispersion as Virieux's in the isotropic case were so far infructuous. \n",
    "However, the numerical dispersion of the proposed scheme is favorable w.r.t the Lebedev if we adjust the number of points per wavelength so as to take into account the additional Lebedev unknowns. "
   ]
  },
  {
   "cell_type": "markdown",
   "id": "1d10b138-caf3-4af5-95d7-247fc3a0c620",
   "metadata": {},
   "source": [
    "In the next cell, we compute the numerical pulsation in terms of a particular wavenumber, for the different numerical schemes."
   ]
  },
  {
   "cell_type": "code",
   "execution_count": 20,
   "id": "11de8336-0887-4c2f-b8e0-ed649ae481ac",
   "metadata": {},
   "outputs": [
    {
     "name": "stdout",
     "output_type": "stream",
     "text": [
      "ω_exact=array([0.91287093, 1.15470054]), points per wavelength : 2*π/(k_norm*dx)=7.024814731040726, CFL : dt/(Vs*dx)=0.9421114395319916\n",
      "ω_Virieux-ω_exact=array([-0.00889369, -0.00191558])\n",
      "ω_Lebedev-ω_exact=array([-0.02981232, -0.02903098])\n",
      "ω_Selling-ω_exact=array([-0.00021163, -0.00900189])\n"
     ]
    }
   ],
   "source": [
    "# Model parameters\n",
    "λ = -0.4 # 1\n",
    "μ = 1.\n",
    "ρ = 1.5\n",
    "k = np.array((0.5,1))\n",
    "\n",
    "# Exact speeds\n",
    "Vs = np.sqrt(μ/ρ); Vp = np.sqrt((λ+2*μ)/ρ)\n",
    "k_norm = np.linalg.norm(k)\n",
    "ω_exact = np.array([Vs,Vp])*k_norm\n",
    "\n",
    "# Discretization parameters\n",
    "dx = 0.8\n",
    "dt = dx/1.3\n",
    "order_x = 2\n",
    "\n",
    "# Computation of the numerical speeds\n",
    "C = Hooke.from_Lame(λ,μ).hooke \n",
    "ω_Virieux,_,_ = dispersion_Virieux(k,ρ,C,dx,dt,order_x=order_x)\n",
    "ω_Lebedev,_,_ = dispersion_Virieux(k,ρ,C,dx*np.sqrt(2),dt,order_x=order_x) # dx*sqrt(2) takes into accout 2x density of unknowns\n",
    "ω_Selling,_,_ = dispersion_e(k,ρ,C,dx,dt,order_x=order_x)\n",
    "\n",
    "\n",
    "print(f\"{ω_exact=}, points per wavelength : {2*π/(k_norm*dx)=}, CFL : {dt/(Vs*dx)=}\")\n",
    "print(f\"{ω_Virieux-ω_exact=}\")\n",
    "print(f\"{ω_Lebedev-ω_exact=}\")\n",
    "print(f\"{ω_Selling-ω_exact=}\")"
   ]
  },
  {
   "cell_type": "markdown",
   "id": "5adf868d-0988-45a8-9c73-9070309c9178",
   "metadata": {},
   "source": [
    "However, the dispersion relation features some axis dependent bias, hence values obtained for a specific wavenumber may not be representative. In the next cell, we compute the relation for all possible directions.\n",
    "\n",
    "**Choice of level set.**\n",
    "Consider a wave propagating at a speed $V = \\omega/\\|k\\|$. If $\\omega=V$ (adimensionized units), then $\\|k\\|=1$, and therefore the number of points per wavelength is $2\\pi/(k\\diff x) = 2 \\pi/\\diff x$  (and the CFL is $\\diff t/(V \\diff x)$)."
   ]
  },
  {
   "cell_type": "code",
   "execution_count": 21,
   "id": "52e7ed6a-fb68-4efe-9afe-1639d9492219",
   "metadata": {
    "editable": true,
    "slideshow": {
     "slide_type": ""
    },
    "tags": []
   },
   "outputs": [
    {
     "name": "stdout",
     "output_type": "stream",
     "text": [
      "Points per wavelength 2*π/dx=5.236, order_x=2, λ/μ=0.4\n",
      "Blue : Lebedev (worst). Green : Virieux (best, but VTI only). Red : Selling.\n"
     ]
    }
   ],
   "source": [
    "# Try changing the following parameters\n",
    "order_x=2\n",
    "dx = 1.2\n",
    "dt = dx/1.8\n",
    "λ = 0.4 # Try any value >=-1\n",
    "\n",
    "# No need to change\n",
    "μ = 1\n",
    "ρ = 1\n",
    "C = Hooke.from_Lame(λ,μ).hooke \n",
    "Vs = np.sqrt(μ/ρ); Vp = np.sqrt((λ+2*μ)/ρ)\n",
    "\n",
    "print(f\"Points per wavelength {2*π/dx=:.3f}, {order_x=}, {λ/μ=}\")\n",
    "print(f\"Blue : Lebedev (worst). Green : Virieux (best, but VTI only). Red : Selling.\")\n",
    "\n",
    "ak = np.linspace(-1.2,1.2)\n",
    "ks = np.array(np.meshgrid(ak,ak,indexing='ij'))\n",
    "def af(x): return fd.as_field(x,ks[0].shape)\n",
    "\n",
    "ω_Virieux,_,_  = dispersion_Virieux(ks,ρ,C,dx,dt,order_x=order_x)\n",
    "# The next line adjusts dx to take into account the points per wavelength w.r.t Lebedev \n",
    "# Multiply dx by 2**(1/2) for 2D, and 2**(2/3) for 3D\n",
    "ω_Lebedev,_,_  = dispersion_Virieux(ks,ρ,C,dx*np.sqrt(2),dt,order_x=order_x)\n",
    "ω_Selling,_,_  = dispersion_e(ks,af(ρ),af(C),dx,dt,order_x=order_x,order_t=2)\n",
    "\n",
    "\n",
    "fig,ax = plt.subplots(1,2,figsize=(12,6))\n",
    "ax[0].set_title(\"Shear wave dispersions\"); ax[0].axis('equal')\n",
    "ax[0].contour(*ks,ω_Lebedev[0],levels=[Vs],colors='blue')\n",
    "ax[0].contour(*ks,ω_Virieux[0],levels=[Vs],colors='green')\n",
    "ax[0].contour(*ks,ω_Selling[0],levels=[Vs],colors='red')\n",
    "ax[0].add_patch(plt.Circle((0,0),1,fill=False))\n",
    "\n",
    "ax[1].set_title(\"Pressure wave dispersions\"); ax[1].axis('equal')\n",
    "ax[1].contour(*ks,ω_Lebedev[1],levels=[Vp],colors='blue')\n",
    "ax[1].contour(*ks,ω_Virieux[1],levels=[Vp],colors='green')\n",
    "ax[1].contour(*ks,ω_Selling[1],levels=[Vp],colors='red')\n",
    "ax[1].add_patch(plt.Circle((0,0),1,fill=False));"
   ]
  },
  {
   "cell_type": "markdown",
   "id": "e049e29b-c9e0-40b0-a131-1533190248f8",
   "metadata": {},
   "source": [
    "### 5.2 VTI and TTI dispersion\n",
    "\n",
    "In the VTI case, for the mica medium, the Virieux and proposed dispersions are almost identical, whereas the Lebedev scheme is again less accurate."
   ]
  },
  {
   "cell_type": "code",
   "execution_count": 22,
   "id": "4b675ad4-1c7d-4e76-b8d6-780a18a8b8e1",
   "metadata": {},
   "outputs": [
    {
     "name": "stdout",
     "output_type": "stream",
     "text": [
      "Points per wavelength 2*π/dx=5.236, order_x=2, λ/μ=0.4\n",
      "Blue : Lebedev (worst). Green : Virieux (best, but VTI only). Red : Selling.\n"
     ]
    }
   ],
   "source": [
    "# Try changing the following parameters\n",
    "order_x=2\n",
    "dx = 1.2\n",
    "dt = dx/1.8\n",
    "C = Hooke.mica[0].extract_xz().hooke\n",
    "\n",
    "# No need to change\n",
    "ρ = 1\n",
    "\n",
    "print(f\"Points per wavelength {2*π/dx=:.3f}, {order_x=}, {λ/μ=}\")\n",
    "print(f\"Blue : Lebedev (worst). Green : Virieux (best, but VTI only). Red : Selling.\")\n",
    "\n",
    "ak = np.linspace(-1.2,1.2)\n",
    "ks = np.array(np.meshgrid(ak,ak,indexing='ij'))\n",
    "def af(x): return fd.as_field(x,ks[0].shape)\n",
    "\n",
    "ω_exact,_ = Hooke(C).waves(ks,ρ)\n",
    "ω_Virieux,_,_  = dispersion_Virieux(ks,ρ,C,dx,dt,order_x=order_x)\n",
    "ω_Lebedev,_,_  = dispersion_Virieux(ks,ρ,C,dx*np.sqrt(2),dt,order_x=order_x)\n",
    "ω_Selling,_,_  = dispersion_e(ks,af(ρ),af(C),dx,dt,order_x=order_x,order_t=2)\n",
    "\n",
    "\n",
    "fig,ax = plt.subplots(1,2,figsize=(12,6))\n",
    "ax[0].set_title(\"Shear wave dispersions\"); ax[0].axis('equal')\n",
    "ω0 = 0.7*ω_exact[0].mean()\n",
    "ax[0].contour(*ks,ω_Lebedev[0],levels=[ω0],colors='blue')\n",
    "ax[0].contour(*ks,ω_Virieux[0],levels=[ω0],colors='green')\n",
    "ax[0].contour(*ks,ω_Selling[0],levels=[ω0],colors='red')\n",
    "ax[0].contour(*ks,ω_exact[0],levels=[ω0],colors='black')\n",
    "\n",
    "ax[1].set_title(\"Pressure wave dispersions\"); ax[1].axis('equal')\n",
    "ω1 = 0.8*ω_exact[1].mean()\n",
    "ax[1].contour(*ks,ω_Lebedev[1],levels=[ω1],colors='blue')\n",
    "ax[1].contour(*ks,ω_Virieux[1],levels=[ω1],colors='green')\n",
    "ax[1].contour(*ks,ω_Selling[1],levels=[ω1],colors='red')\n",
    "ax[1].contour(*ks,ω_exact[1],levels=[ω1],colors='black');"
   ]
  },
  {
   "cell_type": "markdown",
   "id": "aecd4238-476d-4475-8604-f2de8a1e0690",
   "metadata": {},
   "source": [
    "Finally, we consider the TTI case. Note that the Virieux scheme does not apply, but that the `dispersion_Virieux` function does, with the correct result for Lebedev as illustrated above. In this setting find that :\n",
    "- the Lebedev scheme is more accurate for the shear wave.\n",
    "- the proposed Selling scheme is more accurate for the pressure wave."
   ]
  },
  {
   "cell_type": "code",
   "execution_count": 23,
   "id": "a44d1d32-5f9c-42c9-8d8d-92c0b685505a",
   "metadata": {},
   "outputs": [
    {
     "name": "stdout",
     "output_type": "stream",
     "text": [
      "Points per wavelength 2*π/dx=4.189, order_x=4, λ/μ=0.4\n",
      "Blue : Lebedev. Red : Selling.\n"
     ]
    }
   ],
   "source": [
    "# Try changing the following parameters\n",
    "order_x=4\n",
    "dx = 1.5\n",
    "dt = dx/1.8\n",
    "C = Hooke.mica[0].extract_xz().rotate_by(π/8).hooke\n",
    "#C = Hooke.stishovite[0].extract_xz().rotate_by(π/8).hooke\n",
    "C /= np.max(C)\n",
    "\n",
    "# No need to change\n",
    "ρ = 1\n",
    "\n",
    "print(f\"Points per wavelength {2*π/dx=:.3f}, {order_x=}, {λ/μ=}\")\n",
    "print(f\"Blue : Lebedev. Red : Selling.\")\n",
    "\n",
    "ak = np.linspace(-1.2,1.2)\n",
    "ks = np.array(np.meshgrid(ak,ak,indexing='ij'))\n",
    "def af(x): return fd.as_field(x,ks[0].shape)\n",
    "\n",
    "ω_exact,_ = Hooke(C).waves(ks,ρ)\n",
    "ω_Lebedev,_,_  = dispersion_Virieux(ks,ρ,C,dx*np.sqrt(2),dt,order_x=order_x)\n",
    "ω_Selling,_,_  = dispersion_e(ks,af(ρ),af(C),dx,dt,order_x=order_x,order_t=2)\n",
    "#ω_Selling,_,_  = dispersion_e(ks,af(ρ),af(C),dx,dt,order_x=6,order_t=2) # Order 6 does not bring much benefit\n",
    "\n",
    "\n",
    "fig,ax = plt.subplots(1,2,figsize=(12,6))\n",
    "ax[0].set_title(\"Shear wave dispersions\"); ax[0].axis('equal')\n",
    "ω0 = 0.7*ω_exact[0].mean()\n",
    "ax[0].contour(*ks,ω_Lebedev[0],levels=[ω0],colors='blue')\n",
    "ax[0].contour(*ks,ω_Selling[0],levels=[ω0],colors='red')\n",
    "ax[0].contour(*ks,ω_exact[0],levels=[ω0],colors='black')\n",
    "\n",
    "ax[1].set_title(\"Pressure wave dispersions\"); ax[1].axis('equal')\n",
    "ω1 = 0.8*ω_exact[1].mean()\n",
    "ax[1].contour(*ks,ω_Lebedev[1],levels=[ω1],colors='blue')\n",
    "ax[1].contour(*ks,ω_Selling[1],levels=[ω1],colors='red')\n",
    "ax[1].contour(*ks,ω_exact[1],levels=[ω1],colors='black');"
   ]
  },
  {
   "cell_type": "markdown",
   "id": "ba315953-d05b-4c1b-99b4-cecc961171f7",
   "metadata": {},
   "source": [
    "The decompostion of the Hooke tensor of this TTI medium, which is rather strongly anisotropic and in general orientation, involves several non-trivial, anisotropic offsets, which are already 'quite large'. This appears to be required to express the elastic energy in the desired sum of squares form. However, it also means that the effective resolution of the scheme is decreased (as in all 'wide stencil' methods), and therefore the dispersion relation is a bit degraded. "
   ]
  },
  {
   "cell_type": "code",
   "execution_count": 24,
   "id": "8cdd7053-24c7-4901-9b0b-39bd1afedce8",
   "metadata": {},
   "outputs": [
    {
     "data": {
      "text/plain": [
       "(array([0.05112568, 0.01688454, 0.15667604, 0.15667604, 0.36400569, 0.2072774 ]),\n",
       " array([[[ 2, -2,  1,  0,  1, -1],\n",
       "         [ 1, -1,  1,  0,  0,  0]],\n",
       " \n",
       "        [[ 1, -1,  1,  0,  0,  0],\n",
       "         [ 0, -1,  0,  1,  0, -1]]]))"
      ]
     },
     "execution_count": 24,
     "metadata": {},
     "output_type": "execute_result"
    }
   ],
   "source": [
    "Hooke(C).Selling()"
   ]
  },
  {
   "cell_type": "markdown",
   "id": "c2cf184c-7643-4109-ac17-c20a8baf088b",
   "metadata": {},
   "source": [
    "The Hooke tensor of this model, in its rotation invariant Mandel form, has a condition number $\\approx 9$. "
   ]
  },
  {
   "cell_type": "code",
   "execution_count": 25,
   "id": "54718c1f-80e4-4098-8720-cd68dc05e6c8",
   "metadata": {},
   "outputs": [
    {
     "data": {
      "text/plain": [
       "array([0.17356058, 0.37852637, 1.27812355])"
      ]
     },
     "execution_count": 25,
     "metadata": {},
     "output_type": "execute_result"
    }
   ],
   "source": [
    "np.linalg.eigvalsh(Hooke(C).to_Mandel())"
   ]
  },
  {
   "cell_type": "markdown",
   "id": "f4a9be5e-5cc1-485b-b230-5c4ab1a0e696",
   "metadata": {
    "scrolled": true
   },
   "source": [
    "When the medium is less strongly anisotropic, for instance stishovite here, the Selling scheme regains advantage."
   ]
  },
  {
   "cell_type": "code",
   "execution_count": 26,
   "id": "0e7ffef9-350e-4ef3-97d9-b96b101667b8",
   "metadata": {},
   "outputs": [
    {
     "name": "stdout",
     "output_type": "stream",
     "text": [
      "Points per wavelength 2*π/dx=3.142, order_x=4, λ/μ=0.4\n",
      "Blue : Lebedev. Red : Selling.\n"
     ]
    }
   ],
   "source": [
    "# Try changing the following parameters\n",
    "order_x=4\n",
    "dx = 2\n",
    "dt = dx/2\n",
    "C = Hooke.stishovite[0].extract_xz().rotate_by(π/8).hooke\n",
    "C /= np.max(C)\n",
    "\n",
    "# No need to change\n",
    "ρ = 1\n",
    "\n",
    "print(f\"Points per wavelength {2*π/dx=:.3f}, {order_x=}, {λ/μ=}\")\n",
    "print(f\"Blue : Lebedev. Red : Selling.\")\n",
    "\n",
    "ak = np.linspace(-1.2,1.2)\n",
    "ks = np.array(np.meshgrid(ak,ak,indexing='ij'))\n",
    "def af(x): return fd.as_field(x,ks[0].shape)\n",
    "\n",
    "ω_exact,_ = Hooke(C).waves(ks,ρ)\n",
    "ω_Lebedev,_,_  = dispersion_Virieux(ks,ρ,C,dx*np.sqrt(2),dt,order_x=order_x)\n",
    "ω_Selling,_,_  = dispersion_e(ks,af(ρ),af(C),dx,dt,order_x=order_x,order_t=2)\n",
    "#ω_Selling,_,_  = dispersion_e(ks,af(ρ),af(C),dx,dt,order_x=6,order_t=2) # Order 6 does not bring much benefit\n",
    "\n",
    "fig,ax = plt.subplots(1,2,figsize=(12,6))\n",
    "ax[0].set_title(\"Shear wave dispersions\"); ax[0].axis('equal')\n",
    "ω0 = 0.7*ω_exact[0].mean()\n",
    "ax[0].contour(*ks,ω_Lebedev[0],levels=[ω0],colors='blue')\n",
    "ax[0].contour(*ks,ω_Selling[0],levels=[ω0],colors='red')\n",
    "ax[0].contour(*ks,ω_exact[0],levels=[ω0],colors='black')\n",
    "\n",
    "ax[1].set_title(\"Pressure wave dispersions\"); ax[1].axis('equal')\n",
    "ω1 = 0.8*ω_exact[1].mean()\n",
    "ax[1].contour(*ks,ω_Lebedev[1],levels=[ω1],colors='blue')\n",
    "ax[1].contour(*ks,ω_Selling[1],levels=[ω1],colors='red')\n",
    "ax[1].contour(*ks,ω_exact[1],levels=[ω1],colors='black');"
   ]
  },
  {
   "cell_type": "code",
   "execution_count": 27,
   "id": "c9032de1-1b4e-4b10-8711-86a434e66964",
   "metadata": {},
   "outputs": [
    {
     "data": {
      "text/plain": [
       "(array([0.06151716, 0.04518867, 0.19772098, 0.76074813, 0.39544195, 0.1940632 ]),\n",
       " array([[[-1,  1,  0,  0, -1,  1],\n",
       "         [ 1, -1,  1,  0,  0,  0]],\n",
       " \n",
       "        [[ 1, -1,  1,  0,  0,  0],\n",
       "         [ 0,  1,  0, -1,  0,  1]]]))"
      ]
     },
     "execution_count": 27,
     "metadata": {},
     "output_type": "execute_result"
    }
   ],
   "source": [
    "Hooke(C).Selling()"
   ]
  },
  {
   "cell_type": "markdown",
   "id": "c78ba91a-0d84-4210-898a-2ca3777aa2cc",
   "metadata": {},
   "source": [
    "## 6. Correlated Selling scheme\n",
    "\n",
    "For the shear wave in the mica material, the Selling scheme presented above is a bit disappointing in terms of dispersion. In this section and the next one, we explore scheme variants intended to improve on this.\n",
    "\n",
    "The Selling scheme involves sums of squares of finite differences such as \n",
    "$$\n",
    "\t\\sum_{\\sigma\\in \\{-1,1\\}^d} \n",
    "\t\\Big(\\sum_{1\\leq i \\leq d} \\frac{u_i(x+h \\sigma_i e_i)-u_i(x)}{h \\sigma_i}\\Big)^2.\n",
    "$$"
   ]
  },
  {
   "cell_type": "markdown",
   "id": "ce9c0c80-9a3e-4dd3-bd7f-b26da36ab530",
   "metadata": {},
   "source": [
    "### 6.1 Scheme implementation\n",
    "\n",
    "By choosing only a subset of the possible signs, in the above sum, optimize the numerical dispersion. \n",
    "Indeed two derivatives in approximately the same direction approximately amounts a second derivative in that direction, in which case the dispersion is smaller.\n",
    "\n",
    "For instance, if $e_1=e_2$ in dimension $2$, then one can consider the constraints $\\sigma_1=\\sigma_2$. In contrast, if $e_1=-e_2$ the we may consider the constraint $\\sigma_1=-\\sigma_2$. Likewise if $e_1$ and $e_2$ are approximately collinear. "
   ]
  },
  {
   "cell_type": "code",
   "execution_count": 28,
   "id": "af2608fe-5018-4ddc-a337-a3061d43d644",
   "metadata": {
    "editable": true,
    "slideshow": {
     "slide_type": ""
    },
    "tags": [
     "ExportCode"
    ]
   },
   "outputs": [],
   "source": [
    "def SellingCorrelated2H(ρ,C,X,dx,order_x=2,bc='Periodic'):\n",
    "    λ,E = C if isinstance(C,tuple) else Hooke(C).Selling() # Note that E is a (collection of) symmetric matrices\n",
    "    corr = lp.dot_VV(E[0],E[1]) # Correlation between the two offsets (do they point in the same direction)\n",
    "    λ,corr = [fd.as_field(e,X[0].shape) for e in (λ,corr)]\n",
    "    padding = AnisotropicWave.bc_to_padding[bc]\n",
    "    def PotentialEnergy(q):\n",
    "        dq0 = fd.DiffEll(q[0],E[0],dx,order=order_x,padding=padding)\n",
    "        dq1 = fd.DiffEll(q[1],E[1],dx,order=order_x,padding=padding)\n",
    "        sq_pos = np.sum((dq0+dq1      )**2,axis=0) # Best when positive correlation\n",
    "        sq_neg = np.sum((dq0+dq1[::-1])**2,axis=0) # Best when negative correlation\n",
    "        return 0.5 * λ * np.where(corr==0,(sq_pos+sq_neg)/2, # Symmetric version\n",
    "                         np.where(corr>0,  sq_pos,sq_neg  )) # Asymmetric versions\n",
    "    def KineticEnergy(p): return 0.5*p**2/ρ\n",
    "    H = QuadraticHamiltonian(PotentialEnergy,KineticEnergy); H.set_spmat(np.zeros_like(X)); return H"
   ]
  },
  {
   "cell_type": "markdown",
   "id": "b03f20de-17a8-4b36-b565-422f87c26a81",
   "metadata": {},
   "source": [
    "This following slightly generalized variant accepts the coefficients obtained through changes of variables, see the notebook on [high order schemes for the wave equations](HighOrderWaves.ipynb)."
   ]
  },
  {
   "cell_type": "code",
   "execution_count": 112,
   "id": "cbdc0f80-0f8c-493a-a2e0-01d3e3ba33b5",
   "metadata": {
    "editable": true,
    "slideshow": {
     "slide_type": ""
    },
    "tags": [
     "ExportCode"
    ]
   },
   "outputs": [],
   "source": [
    "def SellingCorrelated2H_ext(M,C,X,dx,order_x=2,S=None,bc='Periodic'):\n",
    "    λ,E = C if isinstance(C,tuple) else Hooke(C).Selling() # Note that E is a (collection of) symmetric matrices\n",
    "    corr = lp.dot_VV(E[0],E[1]) # Correlation between the two offsets (do they point in the same direction)\n",
    "    λ,corr = [fd.as_field(e,X[0].shape) for e in (λ,corr)]\n",
    "    padding = AnisotropicWave.bc_to_padding[bc]\n",
    "    if S is None: ES = (0.,0.)\n",
    "    else: ES = np.sum(E[:,:,None,:]*S[:,:,:,None],axis=(0,1))\n",
    "    def PotentialEnergy(q):\n",
    "        dq0 = fd.DiffEll(q[0],E[0],dx,order=order_x,α=ES[0]*q[0],padding=padding)\n",
    "        dq1 = fd.DiffEll(q[1],E[1],dx,order=order_x,α=ES[1]*q[1],padding=padding)\n",
    "        sq_pos = np.sum((dq0+dq1      )**2,axis=0) # Best when positive correlation\n",
    "        sq_neg = np.sum((dq0+dq1[::-1])**2,axis=0) # Best when negative correlation\n",
    "        return 0.5 * λ * np.where(corr==0,(sq_pos+sq_neg)/2, # Symmetric version\n",
    "                         np.where(corr>0,  sq_pos,sq_neg  )) # Asymmetric versions\n",
    "    def KineticEnergy(p): return 0.5*p[None,:]*p[:,None]*M\n",
    "    H = QuadraticHamiltonian(PotentialEnergy,KineticEnergy); H.set_spmat(np.zeros_like(X)); return H"
   ]
  },
  {
   "cell_type": "markdown",
   "id": "4ec96d43-89f8-4a6e-8653-b587912dd638",
   "metadata": {
    "editable": true,
    "slideshow": {
     "slide_type": ""
    },
    "tags": []
   },
   "source": [
    "### 6.2 Dispersion relation\n",
    "\n",
    "We have the following observations regarding dispersion : \n",
    "\n",
    "- There is a substantial benefit for the second order Selling scheme, especially on the numerical dispersion of the shear wave. In some cases, the second order Selling scheme may become as good as or better than the fourth order Selling scheme. Accuracy becomes better than the second order Lebedev scheme.\n",
    "- There appears to be *almost no benefit* for the fourth and sixth order schemes.\n",
    "\n",
    "In summary, this modification appears to be beneficial only when the second order Selling scheme is used with strongly anisotropic media (crystals, at least). Implementation will be done if there is a good use case."
   ]
  },
  {
   "cell_type": "code",
   "execution_count": 29,
   "id": "4d9c36da-679c-47ec-bcc0-e3361a3672d1",
   "metadata": {
    "editable": true,
    "slideshow": {
     "slide_type": ""
    },
    "tags": [
     "ExportCode"
    ]
   },
   "outputs": [],
   "source": [
    "from agd.ExportedCode.Notebooks_Div.HighOrderWaves import _dispersion\n",
    "\n",
    "def sin_eet(e,dx,order_x=2,sign=0):\n",
    "    \"\"\"Approximates of e e^T as dx->0, arises from FFT of scheme.\"\"\"\n",
    "    def ondiag(s): # Fourier transform of finite difference approximation of second derivative, see _γ\n",
    "        if order_x==2: return 4*np.sin(s/2)**2\n",
    "        if order_x==4: return (np.cos(2*s)-16*np.cos(s)+15)/6\n",
    "        if order_x==6: return 49/18-3*np.cos(s)+3/10*np.cos(2*s)-1/45*np.cos(3*s)\n",
    "    def offdiag_sym(s,t): # Fourier transform of symmetrized finite difference approximation of cross derivative\n",
    "        if order_x==2: return np.sin(s)*np.sin(t)\n",
    "        if order_x==4: return (8*np.sin(s)*np.sin(t) + (4*np.sin(s)-np.sin(2*s))*(4*np.sin(t)-np.sin(2*t)))/12\n",
    "        if order_x==6: return (-9*np.sin(2*s)*(13*np.sin(t)-5*np.sin(2*t)+np.sin(3*t))+9*np.sin(s)*(50*np.sin(t)-13*np.sin(2*t)+2*np.sin(3*t))+np.sin(3*s)*(18*np.sin(t)-9*np.sin(2*t)+2*np.sin(3*t)))/180        \n",
    "    def offdiag_asym(s,t): # Fourier transform of non-symmetrized finite difference approximation of cross derivative\n",
    "        if order_x==2: return 1 - np.cos(s) + np.cos(s - t) - np.cos(t)\n",
    "        if order_x==4: return -(1/12)*(-9+12*np.cos(s)-3*np.cos(2*s)+4*np.cos(s-2*t)-20*np.cos(s-t)-np.cos(2*(s-t))+4*np.cos(2*s-t)+12*np.cos(t)-3*np.cos(2*t)+4*np.cos(s+t))\n",
    "        if order_x==6: return (1/180)*(101-153*np.cos(s)+63*np.cos(2*s)-11*np.cos(3*s)+18*np.cos(s-3*t)-9*np.cos(2*s-3*t)-108*np.cos(s-2*t)-9*np.cos(3*s-2*t)+342*np.cos(s-t)+45*np.cos(2*(s-t))+2*np.cos(3*(s-t))-108*np.cos(2*s-t)+18*np.cos(3*s-t)-153*np.cos(t)+63*np.cos(2*t)-11*np.cos(3*t)-108*np.cos(s+t)+9*np.cos(2*s+t)+9*np.cos(s+2*t))\n",
    "    def offdiag(s,t,σ): # Fourier transform of finite difference approximation of cross derivative\n",
    "        return offdiag_sym(s,t)-σ*(offdiag_sym(s,t)-offdiag_asym(s,t))\n",
    "    vdim = len(e)\n",
    "    return np.array([[ondiag(e[i]*dx) if i==j else offdiag(e[i]*dx,e[j]*dx,sign if vdim==2 else sign[3-i-j])\n",
    "             for i in range(vdim)] for j in range(vdim)])/dx**2\n",
    "\n",
    "def corr_signs(σ):\n",
    "    \"\"\"\n",
    "    Input : a set of vdim = 2 or 3 vectors.\n",
    "    Ouput : sums of best correlations σi σj, 0 <= i < j < vdim.\n",
    "    \"\"\"\n",
    "    if len(σ)==2: return np.sign(lp.dot_VV(σ[:,0],σ[:,1])) # Best sign correlation in dimension 2\n",
    "    # See discussion below about best sign correlations in dimension 3\n",
    "    σs = np.array([lp.dot_VV(σ[:,1],σ[:,2]),lp.dot_VV(σ[:,0],σ[:,2]),lp.dot_VV(σ[:,0],σ[:,1])])\n",
    "    ϵ = ((1,1,1),(-1,1,1),(1,-1,1),(-1,-1,1))\n",
    "    ϵs = np.array([(ϵ1*ϵ2,ϵ0*ϵ2,ϵ0*ϵ1) for ϵ0,ϵ1,ϵ2 in ϵ])\n",
    "    ϵs = np.expand_dims(ϵs,axis=tuple(range(-σ.ndim+2,0)))\n",
    "    σϵs = np.sum(σs*ϵs,axis=1)\n",
    "    σϵmax = σϵs==np.max(σϵs,axis=0)\n",
    "    return np.sign(np.sum(ϵs*σϵmax[:,None],axis=0))\n",
    "\n",
    "def sin_contract(C,k,dx,order_x):\n",
    "    \"\"\"Approximates Hooke(C).contract(k) as dx->0, arises from FFT of scheme.\"\"\"\n",
    "    λ,σ = C if isinstance(C,tuple) else Hooke(C).Selling()\n",
    "    σk = lp.dot_AV(σ,k[:,None])\n",
    "    σs = corr_signs(σ)\n",
    "    return np.sum(λ*sin_eet(σk,dx,order_x,σs),axis=2)\n",
    "    \n",
    "def dispersion_SellingCorrelated(k,ρ,C,dx,dt,order_x=2):\n",
    "    \"\"\"Return all discrete propagation modes.\"\"\"\n",
    "    # For now, we assume that M = Id/ρ. Anisotropic M seem doable, but would require taking care\n",
    "    # of the non-commutativity of a number of matrices in the scheme.\n",
    "    from agd.ExportedCode.Notebooks_Div.HighOrderWaves import eig\n",
    "    Ck = sin_contract(C,k,dx,order_x)\n",
    "    return _dispersion_ElasticT2(ρ,Ck,dt)"
   ]
  },
  {
   "cell_type": "markdown",
   "id": "ad0907cc-2ef3-44f6-beda-d298b19a6b03",
   "metadata": {
    "editable": true,
    "slideshow": {
     "slide_type": ""
    },
    "tags": []
   },
   "source": [
    "Let us now cross validate the scheme with the numerical dispersion relation."
   ]
  },
  {
   "cell_type": "code",
   "execution_count": 30,
   "id": "55d27481-b673-4de8-ad6a-e2e1e537239a",
   "metadata": {
    "editable": true,
    "slideshow": {
     "slide_type": ""
    },
    "tags": []
   },
   "outputs": [],
   "source": [
    "C_iso = Hooke.from_Lame(1.,1.).hooke\n",
    "C_VTI2 = Hooke.mica[0].extract_xz().hooke\n",
    "C_TTI2 = Hooke.mica[0].extract_xz().rotate_by(π/6).hooke\n",
    "for C in (C_VTI2,C_TTI2): C/=np.max(C)\n",
    "\n",
    "for ρ, C, k, order_x, Nx, dt, mode in [\n",
    "    (1.2, C_iso,  [ 1, 1], 2, 10, 0.01, 0),\n",
    "    (1.2, C_VTI2, [ 1,-2], 4, 9,  0.03, 1),\n",
    "    (1.4, C_TTI2, [ 2, 3], 2, 12, 0.05, 0),\n",
    "    (0.9, C_TTI2, [-1, 1], 6, 7,  0.02, 1),\n",
    "]:\n",
    "    vdim = len(k)\n",
    "    k = 2*π*np.array(k)\n",
    "    X, dx = make_domain(Nx,vdim) # The grid points : offset (0,0)\n",
    "\n",
    "    # Time discretization\n",
    "    Nt = 1\n",
    "    T = Nt*dt\n",
    "\n",
    "    # Dispersion relation and exact solution\n",
    "    ω,vq,vp = dispersion_SellingCorrelated(k,ρ,C,dx,dt,order_x)\n",
    "    q_exact,p_exact = mk_planewave_e(k,ω[mode],vq[:,mode],vp[:,mode])\n",
    "\n",
    "    q0,p0 = q_exact(  dt/2,X),p_exact(0,X)\n",
    "    qf,pf = q_exact(T+dt/2,X),p_exact(T,X)\n",
    "\n",
    "    SellingCorrH = SellingCorrelated2H(ρ,C,X,dx,order_x)\n",
    "    q1,p1 = SellingCorrH.Euler_p(q0,p0,dt)\n",
    "    assert np.allclose(pf,p1)\n",
    "    assert np.allclose(qf,q1)"
   ]
  },
  {
   "cell_type": "markdown",
   "id": "433ebefe-d1f2-4d14-9787-281bd0f9cb3b",
   "metadata": {
    "editable": true,
    "slideshow": {
     "slide_type": ""
    },
    "tags": []
   },
   "source": [
    "### 6.3 Visualizing dispersion"
   ]
  },
  {
   "cell_type": "code",
   "execution_count": 31,
   "id": "e1230449-cae9-47a2-a4fb-895b79b309e2",
   "metadata": {
    "editable": true,
    "slideshow": {
     "slide_type": ""
    },
    "tags": []
   },
   "outputs": [
    {
     "name": "stdout",
     "output_type": "stream",
     "text": [
      "Points per wavelength 2*π/dx=6.283\n",
      "Blue : Lebedev. Red : Selling. Green : correlated Selling\n"
     ]
    }
   ],
   "source": [
    "# Try changing the following parameters\n",
    "dx = 1.\n",
    "dt = dx/1.8\n",
    "C = Hooke.mica[0].extract_xz().rotate_by(π/6).hooke\n",
    "#C = Hooke.stishovite[0].extract_xz().rotate_by(π/8).hooke\n",
    "C /= np.max(C)\n",
    "\n",
    "# No need to change\n",
    "ρ = 1\n",
    "\n",
    "ak = np.linspace(-1.2,1.2)\n",
    "ks = np.array(np.meshgrid(ak,ak,indexing='ij'))\n",
    "def af(x): return fd.as_field(x,ks[0].shape)\n",
    "\n",
    "ω_exact,_ = Hooke(C).waves(ks,ρ)\n",
    "ω_Lebedev2,_,_  = dispersion_Virieux(ks,ρ,C,dx*np.sqrt(2),dt,order_x=2)\n",
    "ω_Lebedev4,_,_  = dispersion_Virieux(ks,ρ,C,dx*np.sqrt(2),dt,order_x=4)\n",
    "\n",
    "ω_Selling2,_,_  = dispersion_e(ks,af(ρ),af(C),dx,dt,order_x=2,order_t=2)\n",
    "ω_Selling4,_,_  = dispersion_e(ks,af(ρ),af(C),dx,dt,order_x=4,order_t=2)\n",
    "ω_Selling6,_,_  = dispersion_e(ks,af(ρ),af(C),dx,dt,order_x=6,order_t=2)\n",
    "ω_Selling2_corr,_,_  = dispersion_SellingCorrelated(ks,af(ρ),af(C),dx,dt,order_x=2)\n",
    "ω_Selling4_corr,_,_  = dispersion_SellingCorrelated(ks,af(ρ),af(C),dx,dt,order_x=4)\n",
    "ω_Selling6_corr,_,_  = dispersion_SellingCorrelated(ks,af(ρ),af(C),dx,dt,order_x=6)\n",
    "\n",
    "fig,ax = plt.subplots(1,2,figsize=(12,6))\n",
    "ax[0].set_title(\"Shear wave dispersion\"); ax[0].axis('equal')\n",
    "ω0 = 0.7*ω_exact[0].mean()\n",
    "ax[0].contour(*ks,ω_Lebedev2[0],levels=[ω0],colors='blue')\n",
    "ax[0].contour(*ks,ω_Lebedev4[0],levels=[ω0],colors='cyan')\n",
    "ax[0].contour(*ks,ω_Selling2[0],levels=[ω0],colors='red')\n",
    "ax[0].contour(*ks,ω_Selling4[0],levels=[ω0],colors='orange')\n",
    "ax[0].contour(*ks,ω_Selling2_corr[0],levels=[ω0],colors='green')\n",
    "ax[0].contour(*ks,ω_Selling4_corr[0],levels=[ω0],colors='olive')\n",
    "ax[0].contour(*ks,ω_exact[0],levels=[ω0],colors='black')\n",
    "\n",
    "ax[1].set_title(\"Pressure wave dispersion\"); ax[1].axis('equal')\n",
    "ω1 = 0.8*ω_exact[1].mean()\n",
    "ax[1].contour(*ks,ω_Lebedev2[1],levels=[ω1],colors='blue')\n",
    "ax[1].contour(*ks,ω_Lebedev4[1],levels=[ω1],colors='cyan')\n",
    "ax[1].contour(*ks,ω_Selling2[1],levels=[ω1],colors='red')\n",
    "ax[1].contour(*ks,ω_Selling4[1],levels=[ω1],colors='orange')\n",
    "ax[1].contour(*ks,ω_Selling2_corr[1],levels=[ω1],colors='green')\n",
    "ax[1].contour(*ks,ω_Selling4_corr[1],levels=[ω1],colors='olive')\n",
    "ax[1].contour(*ks,ω_exact[1],levels=[ω1],colors='black');\n",
    "\n",
    "print(f\"Points per wavelength {2*π/dx=:.3f}\")\n",
    "print(f\"Blue : Lebedev. Red : Selling. Green : correlated Selling\")"
   ]
  },
  {
   "cell_type": "code",
   "execution_count": 32,
   "id": "1547b0cd-85e2-4416-a381-22e2dc295865",
   "metadata": {
    "editable": true,
    "slideshow": {
     "slide_type": ""
    },
    "tags": []
   },
   "outputs": [
    {
     "data": {
      "text/plain": [
       "(array([0.08383371, 0.00447446, 0.0702737 , 0.16166576, 0.45269118, 0.17790585]),\n",
       " array([[[ 1, -1,  2,  0, -1,  1],\n",
       "         [ 1, -1,  1,  0,  0,  0]],\n",
       " \n",
       "        [[ 1, -1,  1,  0,  0,  0],\n",
       "         [ 0,  1,  0, -1,  0,  1]]]))"
      ]
     },
     "execution_count": 32,
     "metadata": {},
     "output_type": "execute_result"
    }
   ],
   "source": [
    "C = Hooke.mica[0].extract_xz().rotate_by(0.3).hooke; C /= np.max(C)\n",
    "Hooke(C).Selling()"
   ]
  },
  {
   "cell_type": "markdown",
   "id": "ec706607-eef5-4f35-bcfe-f132446d91d3",
   "metadata": {
    "editable": true,
    "slideshow": {
     "slide_type": ""
    },
    "tags": []
   },
   "source": [
    "### 6.4 Three dimensional case\n",
    "\n",
    "In three or more dimensions, correlating the offsets means maximizing \n",
    "$$\n",
    "    \\| \\sum_{1 \\leq i \\leq I} \\sigma_i e_i\\|^2 = \\sum_{1 \\leq i \\leq I} \\|e_i\\|^2 + 2\\sum_{i<j} \\sigma_i \\sigma_j \\<e_i,e_j\\>,\n",
    "$$\n",
    "over all possible sign choices $(\\sigma_i)_{1 \\leq i \\leq I}$, $\\sigma_i = \\pm 1$.\n",
    "This amounts to maximizing a quadratic form over boolean variables. The problem is known to be np-complete in high dimension, but with only three unknowns it does not raise any specific difficulty.\n",
    "\n",
    "For symmetry, we sum over all maximal sign combinations. Some notes : \n",
    "- Heuristically, for 'most' offsets, there should be only one maximal combination. However, in practice, offsets are small, integer valued, and have many zeros. Hence orthogonality is likely. \n",
    "- Regarding the CPU implementation, we make a weighted sum over all combinations, and let the sparse matrix construction do the rest.\n",
    "- The GPU implementation is *todo*.\n",
    "\n",
    "Regarding invariances : \n",
    "- $(\\sigma_0,\\sigma_1,\\sigma_2)\\in \\{-1,1\\}^3$ is equivalent to $(-\\sigma_0,-\\sigma_1,-\\sigma_2)$. Therefore one may assume $\\sigma_2=1$. Alternatively, one may look for a combination among $(+,+,+)$, $(+,+,-)$, $(+,-,+)$, $(-,+,+)$.\n",
    "- blabla"
   ]
  },
  {
   "cell_type": "code",
   "execution_count": 33,
   "id": "592d3bd7-fcc0-4bca-9307-160325d3f11a",
   "metadata": {
    "editable": true,
    "slideshow": {
     "slide_type": ""
    },
    "tags": []
   },
   "outputs": [
    {
     "data": {
      "text/plain": [
       "array([0, 0, 0])"
      ]
     },
     "execution_count": 33,
     "metadata": {},
     "output_type": "execute_result"
    }
   ],
   "source": [
    "σ0 = np.array([[1,0],[0,1],[-1,-1]]).T # Best correlation (++-) -> products (--+)\n",
    "σ1 = np.array([[1,0],[0,0],[-1,-1]]).T # (++-) and (+--) -> (0-0)\n",
    "σ2 = np.array([[1,0],[0,1],[1,-1]]).T  # (+-+) -> (-+-)\n",
    "σ=np.stack((σ0,σ1,σ2),axis=-1)\n",
    "corr_signs(σ) "
   ]
  },
  {
   "cell_type": "code",
   "execution_count": 34,
   "id": "d92868b7-5348-41f5-bb28-a0dd061ef08c",
   "metadata": {
    "editable": true,
    "slideshow": {
     "slide_type": ""
    },
    "tags": [
     "ExportCode"
    ]
   },
   "outputs": [],
   "source": [
    "def SellingCorrelatedH(ρ,C,X,dx,order_x=2,bc='Periodic'):\n",
    "    λ,E = C if isinstance(C,tuple) else Hooke(C).Selling() # Note that E is a (collection of) symmetric matrices\n",
    "    ϵ = corr_signs(E) # Correlation between the two offsets (do they point in the same direction)\n",
    "    λ,ϵ = [fd.as_field(e,X[0].shape) for e in (λ,ϵ)]\n",
    "    ϵ_pos = (ϵ>0)+(ϵ>=0).astype(int); ϵ_neg = (ϵ<0)+(ϵ<=0).astype(int) # Caution : array([True])+array([True]) == array([True])\n",
    "    \n",
    "    padding = AnisotropicWave.bc_to_padding[bc]\n",
    "    def PotentialEnergy(q):\n",
    "        dq = ad.array([fd.DiffEll(qi,Ei,dx,order=order_x,padding=padding) for qi,Ei in zip(q,E)])\n",
    "        if vdim==2: return 0.5 * λ * (dq[0]**2+dq[1]**2 + ϵ_pos*dq[0]*dq[1] + ϵ_neg*dq[0]*dq[1,::-1])\n",
    "        dq_pos = ad.array([dq[1]*dq[2],     dq[0]*dq[2],     dq[0]*dq[1]])\n",
    "        dq_neg = ad.array([dq[1]*dq[2,::-1],dq[0]*dq[2,::-1],dq[0]*dq[1,::-1]])\n",
    "        return 0.5 * λ * (dq**2 + ϵ_pos[:,None]*dq_pos + ϵ_neg[:,None]*dq_neg)\n",
    "    def KineticEnergy(p): return 0.5*p**2/ρ\n",
    "    H = QuadraticHamiltonian(PotentialEnergy,KineticEnergy); H.set_spmat(np.zeros_like(X)); return H"
   ]
  },
  {
   "cell_type": "markdown",
   "id": "5301a4f4-ea09-44ab-85bd-90d5c2232a3b",
   "metadata": {
    "editable": true,
    "slideshow": {
     "slide_type": ""
    },
    "tags": []
   },
   "source": [
    "Let us cross validate with the dispersion relation."
   ]
  },
  {
   "cell_type": "code",
   "execution_count": 35,
   "id": "b6201a2c-8a9d-4b25-be7a-088ee8ae738b",
   "metadata": {
    "editable": true,
    "slideshow": {
     "slide_type": ""
    },
    "tags": []
   },
   "outputs": [],
   "source": [
    "C_iso2 = Hooke.from_Lame(2.,1.).hooke\n",
    "C_VTI2 = Hooke.mica[0].extract_xz().hooke\n",
    "C_TTI2 = Hooke.mica[0].extract_xz().rotate_by(π/6).hooke\n",
    "C_iso3 = Hooke.from_Lame(1.,1.,vdim=3).hooke\n",
    "C_VTI3 = Hooke.mica[0].hooke\n",
    "C_TTI3 = Hooke.mica[0].rotate_by(π/6,(1,2,3)).hooke\n",
    "\n",
    "for C in (C_VTI2,C_TTI2,C_VTI3,C_TTI3): C/=np.max(C)\n",
    "\n",
    "for ρ, C, k, order_x, Nx, dt, mode in [\n",
    "    (1.2, C_iso2, [ 1, 1], 2, 10, 0.01, 0),\n",
    "    (1.2, C_VTI2, [ 1,-2], 4, 9,  0.03, 1),\n",
    "    (1.4, C_TTI2, [ 2, 3], 6, 12, 0.05, 0),\n",
    "    (0.8, C_iso3, [-1, 1, 1], 2, 7,  0.02, 1),\n",
    "    (1.2, C_VTI3, [ 1,-2,-1], 4, 9,  0.03, 1),\n",
    "    (1.4, C_TTI3, [ 2, -1,3], 2, 12, 0.05, 0),\n",
    "]:\n",
    "    vdim = len(k)\n",
    "    k = 2*π*np.array(k)\n",
    "    X, dx = make_domain(Nx,vdim) # The grid points : offset (0,0)\n",
    "\n",
    "    # Time discretization\n",
    "    Nt = 1\n",
    "    T = Nt*dt\n",
    "\n",
    "    # Dispersion relation and exact solution\n",
    "    ω,vq,vp = dispersion_SellingCorrelated(k,ρ,C,dx,dt,order_x)\n",
    "    q_exact,p_exact = mk_planewave_e(k,ω[mode],vq[:,mode],vp[:,mode])\n",
    "\n",
    "    q0,p0 = q_exact(  dt/2,X),p_exact(0,X)\n",
    "    qf,pf = q_exact(T+dt/2,X),p_exact(T,X)\n",
    "\n",
    "    SellingCorrH = SellingCorrelatedH(ρ,C,X,dx,order_x)\n",
    "    q1,p1 = SellingCorrH.Euler_p(q0,p0,dt)\n",
    "    assert np.allclose(pf,p1)\n",
    "    assert np.allclose(qf,q1)"
   ]
  },
  {
   "cell_type": "markdown",
   "id": "c8bde691-c006-4e41-bb76-0e0b6cff5670",
   "metadata": {
    "editable": true,
    "slideshow": {
     "slide_type": ""
    },
    "tags": []
   },
   "source": [
    "## 7. Staggered Selling scheme\n",
    "\n",
    "A key strength of the Virieux scheme is its very efficient evaluation of the term \n",
    "$$\n",
    "    \\partial^1 q^0 + \\partial^0 q^1,\n",
    "$$\n",
    "thanks to the use of a staggered grid.\n",
    "\n",
    "By default, the Selling scheme is not compatible with a staggered grid, because it uses arbitrary matrix offsets. \n",
    "The offsets (converted in symmetric 2x2 matrix form through Voigt notation) compatible with the staggered grid are \n",
    "\\begin{align*}\n",
    "    &\\begin{pmatrix}\n",
    "    \\alpha & 0\\\\\n",
    "    0 & \\beta\n",
    "    \\end{pmatrix}&\n",
    "    &\\begin{pmatrix}\n",
    "    a & c \\\\\n",
    "    c & b\n",
    "    \\end{pmatrix}&\n",
    "\\end{align*}\n",
    "where $\\alpha,\\beta \\in \\bR$ are arbitrary, and $a,b,c \\in \\bZ$ are integers such that $a\\equiv b \\, \\modtwo$ and $a\\not \\equiv c\\,\\modtwo$.\n",
    "\n",
    "Indeed, we have a staggered finite differences scheme for \n",
    "$$\n",
    "    \\<\\nabla q^0,(a,c)\\> + \\<\\nabla q^1,(c,b)\\>,\n",
    "$$\n",
    "which is discretized at the position $(0,0)$ if $c\\equiv 0\\, \\modtwo$, or $(1/2,1/2)$ if $c\\equiv 1\\, \\modtwo$."
   ]
  },
  {
   "cell_type": "markdown",
   "id": "fb2793f3-d24a-454c-aa1a-4e81eb858d03",
   "metadata": {
    "editable": true,
    "slideshow": {
     "slide_type": ""
    },
    "tags": []
   },
   "source": [
    "### 7.1 Staggered Selling decomposition\n",
    "\n",
    "Selling's decomposition is defined as a linear program, with infinitely many unknowns corresponding to all possible offsets. \n",
    "We would like a variant that only uses the above offsets. So far, we cannot do this in full generality, or in a way fast enough for practical uses. But as a first experiment, we can select a few offsets of small norm.\n",
    "We could use a generic linear solver to find some decomposition, but for efficiency and reproducibility we prefer to precompute the problem structure. \n",
    "\n",
    "The objective is to cover the majority of geological materials, as catalogued by Thomsen. In the implementation below, we allow the following offsets in the Hooke tensor decomposition : $(1,0,0),(0,1,0),(0,0,1), (2,0,1),(2,2,1)$. These triplets correspond to $(a,b,c)$ in the previous paragraph, and sign changes $(\\pm a, \\pm b,c)$ as well as interversions $(\\pm b,\\pm a,c)$ of the first two coordinates, are also allowed. \n",
    "The last two are absent from the original Virieux scheme, and allow to cover all Thomsen anisotropies except the biotite crystal.\n",
    "\n",
    "<!---\n",
    "_staggered_decomp_offsets = np.moveaxis([(1,0,0),(0,1,0), # In solver, prepend additional off diagonal to address (α,β,0)\n",
    "    (0,0,1), (2,0,1),(-2,0,1),(0,2,1),(0,-2,1), (2,2,1),(-2,2,1),(2,-2,1),(-2,-2,1)],-1,0) # Works for every Thomsen except biotite crystal                              \n",
    "\n",
    "def staggered_decomp_linprog(m):\n",
    "    \"\"\"A variant of the Selling/Voronoi decomposition, compatible with staggered grids\"\"\"\n",
    "    assert m.ndim==2 # TODO : apply to a family of matrices. Decomposition is done pointwise.\n",
    "#    if m.ndim>2: return np.reshape([staggered_decomp_linprog(am.reshape((3,3,-1)) ....\n",
    "    \n",
    "    # Setup and solve the linear program\n",
    "    flat_sym = flatten_symmetric_matrix\n",
    "    A_eq = flat_sym(lp.outer_self(_staggered_decomp_offsets))\n",
    "    offdiag = np.array([0,1,0,0,0,0])[:,None]\n",
    "    A_eq = np.concatenate((offdiag,A_eq),axis=1)\n",
    "    b_eq = flat_sym(m)\n",
    "    c = -np.ones(A_eq.shape[1])\n",
    "    c[0]=0\n",
    "    bounds = [(None,None),*tuple(((0,None),))*(len(c)-1)]\n",
    "    res = linprog(c,A_eq=A_eq,b_eq=b_eq,bounds=bounds)\n",
    "    if not res.success: return None,None,None,False\n",
    "    coefs_00 = res.x[:3]\n",
    "    coefs_11 = res.x[3:]\n",
    "    offsets_11 = _staggered_decomp_offsets[:,2:]\n",
    "    \n",
    "    # Validate result, and extract decomp. Note that the second criterion is observed but was not enforced.\n",
    "    valid = res.success and coefs_00[1]*coefs_00[2]>=coefs_00[0]**2\n",
    "    arg = np.argsort(coefs_11)\n",
    "    ncoefs_11 = 6-np.sum(coefs_00>0) # 6 non-zero coefficients overall (d.o.f of m) \n",
    "    assert np.allclose(coefs_11[arg[:-ncoefs_11]],0)\n",
    "    coefs_11 = coefs_11[arg[-ncoefs_11:]]\n",
    "    offsets_11 = offsets_11[:,arg[-ncoefs_11:]]\n",
    "    return coefs_00,coefs_11,offsets_11,valid\n",
    "\n",
    "\n",
    "staggered_decomp_test = [Hooke.from_ThomsenElastic(tem) for name,tem in Seismic.Thomsen.ThomsenData.items() if name!='Biotite crystal'] \\\n",
    "    + [Hooke.mica,Hooke.stishovite,Hooke.olivine]\n",
    "staggered_decomp_test = [hk[0].extract_xz().hooke for hk in staggered_decomp_test]\n",
    "\n",
    "nθ = 100; θs = np.linspace(0,π/2,nθ)\n",
    "print(f\"Decomposition of {len(staggered_decomp_test)} materials, over {len(θs)} regular orientations each\")\n",
    "\n",
    "for m in staggered_decomp_test:\n",
    "    m = m/np.max(m) # Normalize coefficients (optional)\n",
    "    for θ in θs:\n",
    "        m_rot = Hooke(m).rotate_by(θ).hooke\n",
    "        (c_00,a_00,b_00),coefs_11,offsets_11,valid = staggered_decomp_linprog(m_rot)\n",
    "        assert valid\n",
    "        rec_00 = np.array([[a_00,c_00,0],[c_00,b_00,0],[0,0,0]])\n",
    "        rec_11 = np.sum(coefs_11*lp.outer_self(offsets_11),axis=2)\n",
    "        assert np.allclose(m_rot,rec_00+rec_11)\n",
    "--->"
   ]
  },
  {
   "cell_type": "code",
   "execution_count": 36,
   "id": "31adf56f-8ad4-4084-b9bd-424abd9d7524",
   "metadata": {
    "editable": true,
    "slideshow": {
     "slide_type": ""
    },
    "tags": [
     "ExportCode"
    ]
   },
   "outputs": [],
   "source": [
    "_precomp_offsets = np.array([[1,0,0,2,0,2],[0,1,0,0,2,2],[0,0,1,1,1,1]])\n",
    "_precomp_inv = np.linalg.inv(flatten_symmetric_matrix(lp.outer_self(_precomp_offsets)))\n",
    "\n",
    "def staggered_decomp_linprog(D,select='Cross'):\n",
    "    \"\"\"\n",
    "    Modified Selling decomposition, for moderate anisotropy (all Thomsen materials execpt biotite crystal).\n",
    "    - select ('Mean','Cross','Short'): selection principle for the decomposition\n",
    "       'Mean' : average of all possible decompositions\n",
    "       'Cross' : minimize the cross derivative coefficient, so as to achieve coef01**2 <= coef[0]*coef[1] when possible\n",
    "       'Short' : minimize the coefficient of the longest offset, so as to improve stencil locality\n",
    "    \"\"\"\n",
    "    # Single vertex, no need to find the best one in Ryskov's polyhedron.\n",
    "    assert D.shape[:2]==(3,3)\n",
    "    def af(x): return fd.as_field(x,D.shape[2:]) #np.expand_dims(x,tuple(range(2-D.ndim,0)))\n",
    "    sdim = D.ndim-2 # number of additional dimensions\n",
    "    D_flat = flatten_symmetric_matrix(D)\n",
    "    signs = np.sign(D_flat[3:5])\n",
    "    signs[signs==0]=1\n",
    "    D_flat[3:5]*=signs\n",
    "    if D_flat.ndim<=2: coefs = _precomp_inv@D_flat # Account for weird @ semantics\n",
    "    else: coefs = np.moveaxis(_precomp_inv@np.moveaxis(D_flat,0,-2),-2,0)\n",
    "    tmin = - np.min(coefs[[2,5]],axis=0)\n",
    "    tmax =   np.min(coefs[[3,4]],axis=0)\n",
    "    # We should have tmin<=tmax, up to machine precision, if the linear program is solvable. \n",
    "    # Possible selection principles for parameter t such that tmin<=t<=tmax : \n",
    "    if select=='Mean': t = (tmin+tmax)/2 # - midpoint, average of possible decompositions\n",
    "    else: # Cross : minimize |coef01|. Short : minimize the last coefficient\n",
    "        if select=='Cross': tmix = np.prod(signs,axis=0)*D[0,1]/4-coefs[-1]\n",
    "        elif select=='Short': tmix = -coefs[-1]\n",
    "        t = np.maximum(tmin,np.minimum(tmax,tmix))\n",
    "    coefs += t*af(np.array([0,0,1,-1,-1,1.]))\n",
    "    offsets = af(_precomp_offsets).copy()\n",
    "    offsets[0:2]*=signs[:,None].astype(int)\n",
    "    # Adjust for the coefficient at (O,1)\n",
    "    coef01 = D[0,1] - np.sum(np.prod(offsets[0:2],axis=0)*coefs,axis=0)\n",
    "    return (coefs[0],coefs[1],coef01),coefs[2:],offsets[:,2:]"
   ]
  },
  {
   "cell_type": "code",
   "execution_count": 37,
   "id": "91457888-3994-4e3b-a43a-4bfe216eb1d8",
   "metadata": {
    "editable": true,
    "slideshow": {
     "slide_type": ""
    },
    "tags": []
   },
   "outputs": [
    {
     "data": {
      "text/plain": [
       "((3, 2), (4, 2), (3, 4, 2))"
      ]
     },
     "execution_count": 37,
     "metadata": {},
     "output_type": "execute_result"
    }
   ],
   "source": [
    "D0 = Hooke.from_Lame(1,1).hooke\n",
    "D1 = Hooke.from_Lame(1,2).hooke\n",
    "D = np.stack((D0,D1),axis=-1)\n",
    "coefs_00,coefs_11,offsets_11 = staggered_decomp_linprog(D)\n",
    "np.array(coefs_00).shape,coefs_11.shape,offsets_11.shape"
   ]
  },
  {
   "cell_type": "markdown",
   "id": "c2438531-6988-4ac2-b4d7-59cf5e60e8ab",
   "metadata": {
    "editable": true,
    "slideshow": {
     "slide_type": ""
    },
    "tags": []
   },
   "source": [
    "Because we use only a few offsets, the above decomposition method only applies to moderate anisotropies. Fortunately, this is enough to handle most geological materials (except the biotite crystal)."
   ]
  },
  {
   "cell_type": "code",
   "execution_count": 38,
   "id": "49d6a331-02dd-4f32-920c-60418a79d4b6",
   "metadata": {
    "editable": true,
    "slideshow": {
     "slide_type": ""
    },
    "tags": []
   },
   "outputs": [
    {
     "name": "stdout",
     "output_type": "stream",
     "text": [
      "Decomposition of 60 materials, over 100 regular orientations each\n"
     ]
    }
   ],
   "source": [
    "staggered_decomp_test = [Hooke.from_ThomsenElastic(tem) for name,tem in Seismic.Thomsen.ThomsenData.items() if name!='Biotite crystal'] \\\n",
    "    + [Hooke.mica,Hooke.stishovite,Hooke.olivine]\n",
    "staggered_decomp_test = [hk[0].extract_xz().hooke for hk in staggered_decomp_test]\n",
    "\n",
    "nθ = 100; θs = np.linspace(0,π/2,nθ)\n",
    "print(f\"Decomposition of {len(staggered_decomp_test)} materials, over {len(θs)} regular orientations each\")\n",
    "\n",
    "for m in staggered_decomp_test:\n",
    "    m = m/np.max(m) # Normalize coefficients (optional)\n",
    "    for θ in θs:\n",
    "        m_rot = Hooke(m).rotate_by(θ).hooke\n",
    "        (a_00,b_00,c_00),coefs_11,offsets_11 = staggered_decomp_linprog(m_rot)\n",
    "        rec_00 = np.array([[a_00,c_00,0],[c_00,b_00,0],[0,0,0]])\n",
    "        rec_11 = np.sum(coefs_11*lp.outer_self(offsets_11),axis=2)\n",
    "        assert np.allclose(m_rot,rec_00+rec_11)"
   ]
  },
  {
   "cell_type": "markdown",
   "id": "a02e96de-7b7d-4c7d-b5d7-feb605d01546",
   "metadata": {},
   "source": [
    "### 7.2 Scheme implementation\n"
   ]
  },
  {
   "cell_type": "code",
   "execution_count": 39,
   "id": "3f87cff3-d755-45ed-a738-7bbfb1571a14",
   "metadata": {
    "editable": true,
    "slideshow": {
     "slide_type": ""
    },
    "tags": [
     "ExportCode"
    ]
   },
   "outputs": [],
   "source": [
    "def SellingStaggered2H(ρ,C,stag,X,S=None):\n",
    "    \"\"\"Hamiltonian of the 2d elastic wave equation, implemented using a staggered variant of Selling's decomposition.\"\"\"\n",
    "    dro,dl,ar = stag.diff_right_offset,stag.diff_left,stag.avg_right\n",
    "    coefs_00,coefs_11,offsets_11 = staggered_decomp_linprog(C)\n",
    "    def af(x): return fd.as_field(x,X[0].shape)\n",
    "    iρ = af(1/ρ)    \n",
    "    iρ_10 = ar(iρ,0)\n",
    "    iρ_01 = ar(iρ,1)\n",
    "    # TODO : higher spatial accuracy by properly locating coefs_11 (average with neighbors)\n",
    "    assert S is None\n",
    "    def PotentialEnergy(q):\n",
    "        q0_10,q1_01 = q\n",
    "        ϵ00_00 = dl(q0_10,0) # These terms handled similarly to Virieux\n",
    "        ϵ11_00 = dl(q1_01,1) # Compute the strain tensor ϵ = (Dq+Dq^T)/2\n",
    "        res = coefs_00[0]*ϵ00_00**2 + coefs_00[1]*ϵ11_00**2 +  2*coefs_00[2]*ϵ00_00*ϵ11_00\n",
    "        for λ_11,offset_11 in zip(coefs_11,np.moveaxis(offsets_11,1,0)):\n",
    "            e0,e1 = (offset_11[0],offset_11[2]),(offset_11[2],offset_11[1])\n",
    "            ϵ_11 = dro(q0_10,1,e0) + dro(q1_01,0,e1)\n",
    "            res += λ_11 * ϵ_11**2\n",
    "        return 0.5*res\n",
    "    def KineticEnergy(p):\n",
    "        p0_10,p1_01 = p\n",
    "        return 0.5*(iρ_10*p0_10**2 + iρ_01*p1_01**2)\n",
    "    H = QuadraticHamiltonian(PotentialEnergy,KineticEnergy); H.set_spmat(np.zeros_like(X)); return H"
   ]
  },
  {
   "cell_type": "markdown",
   "id": "d06070b8-3f4c-407a-afd7-0be0d274f532",
   "metadata": {
    "editable": true,
    "slideshow": {
     "slide_type": ""
    },
    "tags": []
   },
   "source": [
    "### 7.3 Dispersion relation"
   ]
  },
  {
   "cell_type": "code",
   "execution_count": 40,
   "id": "7547bb4f-9048-4067-80be-66221967ddd2",
   "metadata": {
    "editable": true,
    "slideshow": {
     "slide_type": ""
    },
    "tags": [
     "ExportCode"
    ]
   },
   "outputs": [],
   "source": [
    "def dispersion_SellingStaggered2(k,ρ,C,dx,dt,order_x=2,decomp=staggered_decomp_linprog):\n",
    "    \"\"\"\n",
    "    Dispersion relation for the staggered Selling scheme for the 2d elastic wave equation.\n",
    "    Returns. \n",
    "    - ω,vq,vp : pulsation, and amplitude of position and impulsion, of the wavemodes.\n",
    "    \"\"\"\n",
    "    coefs_00,coefs_11,offsets_11 = decomp(C)\n",
    "    def disp_stag(k): return _dispersion_DiffStaggered(k,dx,order_x)\n",
    "    Ik = disp_stag(k)\n",
    "    def af(x): return fd.as_field(x,k[0].shape)\n",
    "    eye = af(np.eye(2))\n",
    "    Ck_00 = coefs_00[0] * Ik[0]**2 * lp.outer_self(eye[0]) + coefs_00[1] * Ik[1]**2 * lp.outer_self(eye[1]) \\\n",
    "     + coefs_00[2]*Ik[0]*Ik[1]*(lp.outer(eye[0],eye[1])+lp.outer(eye[1],eye[0])) \n",
    "    Ck_11 = []\n",
    "    for λ_11,offset_11 in zip(coefs_11,np.moveaxis(offsets_11,1,0)):\n",
    "        e0,e1 = (offset_11[0],offset_11[2]),(offset_11[2],offset_11[1])\n",
    "        e0,e1 = map(af,(e0,e1))\n",
    "        Ik_11 = disp_stag(lp.dot_VV(k,e0)),disp_stag(lp.dot_VV(k,e1))\n",
    "        Ck_11.append( λ_11 * lp.outer_self(Ik_11))\n",
    "    return _dispersion_ElasticT2(ρ,Ck_00+np.sum(Ck_11,axis=0),dt)"
   ]
  },
  {
   "cell_type": "markdown",
   "id": "bcc2a4d1-4634-48f7-91c3-5f06929021ed",
   "metadata": {
    "editable": true,
    "slideshow": {
     "slide_type": ""
    },
    "tags": []
   },
   "source": [
    "The staggered Selling scheme reduces to the Virieux scheme in the VTI setting, and so does its dispersion."
   ]
  },
  {
   "cell_type": "code",
   "execution_count": 41,
   "id": "e9e0e099-1d5a-43f9-9b78-3eba79527e2d",
   "metadata": {
    "editable": true,
    "slideshow": {
     "slide_type": ""
    },
    "tags": []
   },
   "outputs": [],
   "source": [
    "ρ = 1.4\n",
    "C = Hooke.mica[0].extract_xz().hooke\n",
    "#C = Hooke.stishovite[0].extract_xz().hooke\n",
    "#C = Hooke.from_Lame(1,2).hooke; C[0,0]+=1; C[1,1]+=1; C[2,2]+=1\n",
    "k = np.array([1,0])\n",
    "dx = 0.1\n",
    "dt = 0.1\n",
    "order_x=2\n",
    "ωS,vqS,vpS = dispersion_SellingStaggered2(k,ρ,C,dx,dt,order_x)\n",
    "ωV,vqV,vpV = dispersion_Virieux(k,ρ,C,dx,dt,order_x)\n",
    "assert np.allclose(ωS,ωV)\n",
    "assert np.allclose(vqS,vqV)\n",
    "assert np.allclose(vpS,vpV)"
   ]
  },
  {
   "cell_type": "code",
   "execution_count": 42,
   "id": "6a486ba2-dfb7-415a-9f24-ca8c1758b183",
   "metadata": {
    "editable": true,
    "slideshow": {
     "slide_type": ""
    },
    "tags": []
   },
   "outputs": [],
   "source": [
    "C_VTI2 = Hooke.mica[0].extract_xz().hooke\n",
    "C_TTI2 = Hooke.mica[0].extract_xz().rotate_by(π/6).hooke\n",
    "for C in (C_VTI2,C_TTI2): C/=np.max(C)\n",
    "\n",
    "for ρ, C_VTI, C, k, order_x, Nx, dt, mode in [\n",
    "    (1.4, C_VTI2, C_TTI2, [ 2, 3],    2, 10, 0.01, 0),\n",
    "    (0.9, C_VTI2, C_TTI2, [-1, 1],    4, 10, 0.01, 0),\n",
    "]:\n",
    "    vdim = len(k)\n",
    "    k = 2*π*np.array(k)\n",
    "    X, dx = make_domain(Nx,vdim) # The grid points : offset (0,0)\n",
    "    stag = staggered(dx,order_x,'Periodic')\n",
    "\n",
    "    # Time discretization\n",
    "    Nt = 1\n",
    "    T = Nt*dt\n",
    "\n",
    "    # Dispersion relation and exact solution\n",
    "    ω,vq,vp = dispersion_Virieux(k,ρ,C_VTI,dx,dt,order_x)\n",
    "    q_exact,p_exact = mk_planewave_e(k,ω[mode],vq[:,mode],vp[:,mode])\n",
    "\n",
    "    q0,p0 = map(np.array,eval_Virieux(q_exact,p_exact,X,dx,0,dt))\n",
    "    qf,pf = eval_Virieux(q_exact,p_exact,X,dx,T,dt)\n",
    "\n",
    "    def af(q): return fd.as_field(q,shape=X[0].shape)\n",
    "    Virieux = (None,Virieux1,Virieux2,Virieux3)[vdim] # Select adequate scheme\n",
    "    scheme = Virieux(af(ρ),af(C_VTI),stag)\n",
    "    q1,p1 = scheme.step(q0,p0,dt)\n",
    "    assert np.allclose(qf,q1)\n",
    "    assert np.allclose(pf,p1)\n",
    "\n",
    "    # Now testing the staggered Selling scheme\n",
    "    assert vdim==2\n",
    "    # For VTI tensors, it should reproduce the Virieux scheme\n",
    "    SellingStagH = SellingStaggered2H(ρ,C_VTI,stag,X)\n",
    "    Q1,P1 = SellingStagH.Euler_p(q0,p0,dt)\n",
    "    assert np.allclose(q1,Q1)\n",
    "    assert np.allclose(p1,P1)\n",
    "\n",
    "    # However, the Staggered Selling scheme also handles general elasticity\n",
    "    ω,vq,vp = dispersion_SellingStaggered2(k,ρ,C,dx,dt,order_x)\n",
    "    q_exact,p_exact = mk_planewave_e(k,ω[mode],vq[:,mode],vp[:,mode])\n",
    "    Q0,P0 = map(np.array,eval_Virieux(q_exact,p_exact,X,dx,0,dt))\n",
    "    Qf,Pf = eval_Virieux(q_exact,p_exact,X,dx,T,dt)\n",
    "    SellingStagH = SellingStaggered2H(ρ,C,stag,X)\n",
    "    Q1,P1 = SellingStagH.Euler_p(Q0,P0,dt)\n",
    "    assert np.allclose(Qf,Q1)\n",
    "    assert np.allclose(Pf,P1)"
   ]
  },
  {
   "cell_type": "markdown",
   "id": "94e05dde-320c-4624-92a3-641679adb918",
   "metadata": {
    "editable": true,
    "slideshow": {
     "slide_type": ""
    },
    "tags": []
   },
   "source": [
    "### 7.4 Comparing dispersions\n",
    "\n",
    "The staggered Selling scheme clearly improves the dispersion relation w.r.t the original Selling scheme.\n",
    "Wether this beats the Lebedev and/or correlated Selling schemes, on the pressure and/or shear waves, depends on the circumstances. A more systematic study is needed. \n",
    "(E.g. Compute approximate dispersions on all the Thomsen materials, with all the orientations.)\n",
    "\n",
    "The mica shear wave seems to be a worst case scenario for our approach."
   ]
  },
  {
   "cell_type": "code",
   "execution_count": 43,
   "id": "343b4bed-882e-414b-892a-2237f9b09c77",
   "metadata": {
    "editable": true,
    "slideshow": {
     "slide_type": ""
    },
    "tags": []
   },
   "outputs": [
    {
     "name": "stdout",
     "output_type": "stream",
     "text": [
      "Points per wavelength 2*π/dx=6.283, order_x=4, λ/μ=0.4\n",
      "Blue : Lebedev. Red : Selling.\n"
     ]
    }
   ],
   "source": [
    "# Try changing the following parameters\n",
    "dx = 1. #1.5\n",
    "dt = dx/4 # Small time step, we are mostly interested on spatial dispersion\n",
    "θ = π/6\n",
    "C = Hooke.mica[0].extract_xz().rotate_by(θ).hooke # \n",
    "#C = Hooke.stishovite[0].extract_xz().rotate_by(θ).hooke\n",
    "C /= np.max(C)\n",
    "\n",
    "# No need to change\n",
    "ρ = 1\n",
    "\n",
    "print(f\"Points per wavelength {2*π/dx=:.3f}, {order_x=}, {λ/μ=}\")\n",
    "print(f\"Blue : Lebedev. Red : Selling.\")\n",
    "\n",
    "ak = np.linspace(-1.2,1.2)\n",
    "ks = np.array(np.meshgrid(ak,ak,indexing='ij'))\n",
    "def af(x): return fd.as_field(x,ks[0].shape)\n",
    "\n",
    "ω_exact,_ = Hooke(C).waves(ks,ρ)\n",
    "ω_Virieux2,_,_  = dispersion_Virieux(ks,ρ,C,dx,dt,order_x=2)\n",
    "ω_Virieux4,_,_  = dispersion_Virieux(ks,ρ,C,dx,dt,order_x=4)\n",
    "ω_Lebedev2,_,_  = dispersion_Virieux(ks,ρ,C,dx*np.sqrt(2),dt,order_x=2)\n",
    "ω_Lebedev4,_,_  = dispersion_Virieux(ks,ρ,C,dx*np.sqrt(2),dt,order_x=4)\n",
    "\n",
    "ω_Selling2,_,_  = dispersion_e(ks,af(ρ),af(C),dx,dt,order_x=2,order_t=2)\n",
    "ω_Selling4,_,_  = dispersion_e(ks,af(ρ),af(C),dx,dt,order_x=4,order_t=2)\n",
    "ω_Selling2_corr,_,_  = dispersion_SellingCorrelated(ks,af(ρ),af(C),dx,dt,order_x=2)\n",
    "ω_Selling4_corr,_,_  = dispersion_SellingCorrelated(ks,af(ρ),af(C),dx,dt,order_x=4)\n",
    "\n",
    "ω_Selling2_stag,_,_ = dispersion_SellingStaggered2(ks,ρ,C,dx,dt,order_x=2)\n",
    "ω_Selling4_stag,_,_ = dispersion_SellingStaggered2(ks,ρ,C,dx,dt,order_x=4)\n",
    "\n",
    "#ω_Selling,_,_  = dispersion_e(ks,af(ρ),af(C),dx,dt,order_x=6,order_t=2) # Order 6 does not bring much benefit\n",
    "\n",
    "\n",
    "fig,ax = plt.subplots(1,2,figsize=(12,6))\n",
    "ax[0].set_title(\"Shear wave dispersion\"); ax[0].axis('equal')\n",
    "ω0 = 0.7*ω_exact[0].mean()\n",
    "ax[0].contour(*ks,ω_Lebedev2[0],levels=[ω0],colors='blue')\n",
    "ax[0].contour(*ks,ω_Lebedev4[0],levels=[ω0],colors='cyan')\n",
    "\n",
    "#ax[0].contour(*ks,ω_Selling2[0],levels=[ω0],colors='red')\n",
    "#ax[0].contour(*ks,ω_Selling4[0],levels=[ω0],colors='orange')\n",
    "ax[0].contour(*ks,ω_Selling2_corr[0],levels=[ω0],colors='red')\n",
    "ax[0].contour(*ks,ω_Selling4_corr[0],levels=[ω0],colors='orange')\n",
    "\n",
    "ax[0].contour(*ks,ω_Selling2_stag[0],levels=[ω0],colors='green')\n",
    "ax[0].contour(*ks,ω_Selling4_stag[0],levels=[ω0],colors='olive')\n",
    "ax[0].contour(*ks,ω_exact[0],levels=[ω0],colors='black')\n",
    "\n",
    "ax[1].set_title(\"Pressure wave dispersion\"); ax[1].axis('equal')\n",
    "ω1 = 0.8*ω_exact[1].mean()\n",
    "ax[1].contour(*ks,ω_Lebedev2[1],levels=[ω1],colors='blue')\n",
    "ax[1].contour(*ks,ω_Lebedev4[1],levels=[ω1],colors='cyan')\n",
    "\n",
    "#ax[1].contour(*ks,ω_Selling2[1],levels=[ω1],colors='red')\n",
    "#ax[1].contour(*ks,ω_Selling4[1],levels=[ω1],colors='orange')\n",
    "ax[1].contour(*ks,ω_Selling2_corr[1],levels=[ω1],colors='red')\n",
    "ax[1].contour(*ks,ω_Selling4_corr[1],levels=[ω1],colors='orange')\n",
    "\n",
    "ax[1].contour(*ks,ω_Selling2_stag[1],levels=[ω1],colors='green')\n",
    "ax[1].contour(*ks,ω_Selling4_stag[1],levels=[ω1],colors='olive');\n",
    "ax[1].contour(*ks,ω_exact[1],levels=[ω1],colors='black');\n"
   ]
  },
  {
   "cell_type": "markdown",
   "id": "aede5537-354d-4a1b-9260-3779adef2188",
   "metadata": {
    "editable": true,
    "slideshow": {
     "slide_type": ""
    },
    "tags": []
   },
   "source": [
    "### 7.5 Yet another variant\n",
    "\n",
    "The code below implements, again, a linear program that performs a variant of Selling's decomposition with some of the considered offsets. \n",
    "We now include the extended collection of offsets $(\\cos \\theta,\\sin \\theta,0)$ for $\\theta$ multiple of $\\pi/6$, as well as $(0,0,1),(2,0,1),(2,2,1),(1,1,2),(4,0,1)$.\n",
    "These triplets correspond to $(a,b,c)$ in the introduction of this subsection, and sign changes $(\\pm a, \\pm b,c)$, as well as interversions $(\\pm b,\\pm a,c)$ of the first two coordinates, are also allowed. \n",
    "\n",
    "This allows to cover all geological materials catalogued by Thomsen, and gives a bit of room in case some additional distorsion is introduced (e.g a change of coordinates in a method accounting for the topography)\n",
    "\n",
    "<!---\n",
    "Some test code.\n",
    "D0 = Hooke.from_Lame(1,1).hooke\n",
    "D1 = Hooke.from_Lame(1,2).hooke\n",
    "D2 = Hooke.from_Lame(1,3).hooke\n",
    "D3 = Hooke.from_Lame(1,4).hooke\n",
    "D4 = Hooke.from_Lame(2,3).hooke\n",
    "D = np.stack((D0,D1,D2,D3,D4),axis=-1)\n",
    "staggered_decomp_linprogExt(D)\n",
    "--->\n"
   ]
  },
  {
   "cell_type": "code",
   "execution_count": 44,
   "id": "3eab04bc-863b-457e-b44c-6767981e3ac9",
   "metadata": {
    "editable": true,
    "slideshow": {
     "slide_type": ""
    },
    "tags": [
     "ExportCode"
    ]
   },
   "outputs": [],
   "source": [
    "_decomp_extended_precomp_vertices = np.array([[4.23205081,7.46410162,4.23205081,-3.73205081,-5.73205081,1],[1,4/3,3.30940108,-2/3,-7.60683603,2.97606774],[2.36602540,3.15470054,2.36602540,-1.57735027,-5.02072594,1.57735027],[1.5,1.15470054,1.5,-5.77350269e-01,-3,1],[2.17846097e+01,12,1,-2.88923048e+01,-6,9],[7.92820323,4,1,-5.96410162,-2,1],[1,1.92450090e-01,4/3,-9.62250449e-02,-2.66666667,1],[1,-1.28197512e-16,1,-0.5,-2,1],[2.42224319e+01,1.34074773e+01,1,-3.57411251e+01,-6.70373864,1.18149546e+01],[4.23205081,7.46410162,4.23205081,-5.73205081,-3.73205081,1],[4.78985145e+01,2.96201144e+01,2.46834287,-6.61769145e+01,-1.48100572e+01,2.07467429e+01],[7.46410162,1.49282032e+01,7.46410162,-8.21410162,-8.21410162,1],[6.36602540,3.09807621,1,-1.67320508e+01,-6,9],[4/3,1.92450090e-01,1,-2.66666667,-9.62250449e-02,1],[1,-1.28197512e-16,1,-2,-0.5,1],[1,4,7.92820323,-2,-5.96410162,1],[1.5,1.15470054,1.5,-3,-5.77350269e-01,1],[8.34298427,4.23947394,1,-2.16438643e+01,-6.47894789,1.09157915e+01],[3.30940108,4/3,1,-7.60683603,-2/3,2.97606774],[2.36602540,3.15470054,2.36602540,-5.02072594,-1.57735027,1.57735027],[1.07787504e+01,6.90264733,1.72566183,-2.84601481e+01,-1.03539710e+01,1.48052947e+01],[1,-1.28197512e-16,1,-2,-6,9],[1,-1.28197512e-16,1,-2,-2.5,2],[1.75621778e+01,-9.56217783,1,-16,-6,9],[6,2,1,-16,-6,9],[1,7.88675135e-01,2.36602540,-3.57735027,-6.30940108,4.15470054],[1.20291371,4.68609140e-01,1.20291371,-3.34304570,-3.34304570,2.87443656],[2.36602540,7.88675135e-01,1,-6.30940108,-3.57735027,4.15470054],[1,-1.28197512e-16,1,-2.5,-2,2],[4.46410162,2,1,-1.29282032e+01,-6,9],[1,1.34074773e+01,2.42224319e+01,-6.70373864,-3.57411251e+01,1.18149546e+01],[1,4.23947394,8.34298427,-6.47894789,-2.16438643e+01,1.09157915e+01],[1.72566183,6.90264733,1.07787504e+01,-1.03539710e+01,-2.84601481e+01,1.48052947e+01],[2.46834287,2.96201144e+01,4.78985145e+01,-1.48100572e+01,-6.61769145e+01,2.07467429e+01],[1,12,2.17846097e+01,-6,-2.88923048e+01,9],[1,3.09807621,6.36602540,-6,-1.67320508e+01,9],[1,2,4.46410162,-6,-1.29282032e+01,9],[1,-1.28197512e-16,1,-6,-2,9],[1,2,6,-6,-16,9],[1,-9.56217783,1.75621778e+01,-6,-16,9]])\n",
    "_decomp_extended_precomp_offsets = np.array([[0,2,-2,0,0,2,-2,2,-2,1,-1,1,-1,4,-4,0,0,1,8.66025404e-01,0.5,6.12323400e-17,-0.5,-8.66025404e-01],[0,0,0,2,-2,2,2,-2,-2,1,1,-1,-1,0,0,4,-4,0,0.5,8.66025404e-01,1,8.66025404e-01,0.5],[1,1,1,1,1,1,1,1,1,2,2,2,2,1,1,1,1,0,0,0,0,0,0]])\n",
    "_decomp_extended_precomp_active = np.array([[0,6,9,10,21,22],[3,6,9,10,17,22],[3,6,9,10,21,22],[0,3,9,10,21,22],[3,9,11,15,20,21],[0,3,9,11,20,21],[0,3,9,10,17,22],[0,3,9,17,19,21],[7,9,11,15,20,21],[0,7,9,11,21,22],[3,7,9,11,15,21],[0,6,7,9,21,22],[1,3,9,15,20,21],[0,1,9,11,20,21],[0,1,9,17,19,21],[0,1,9,10,17,22],[0,1,9,11,21,22],[1,7,9,15,20,21],[1,7,9,11,20,21],[1,7,9,11,21,22],[1,3,7,9,15,21],[3,5,15,17,19,21],[3,5,9,17,19,21],[3,5,9,15,19,20],[1,3,5,9,15,20],[1,3,5,9,17,22],[1,3,5,9,21,22],[1,3,5,9,20,21],[1,5,9,17,19,21],[1,3,5,15,20,21],[6,9,10,13,17,22],[3,6,9,13,17,22],[1,3,6,9,13,22],[1,6,9,10,13,22],[1,9,10,13,17,22],[1,3,9,13,17,22],[1,3,5,13,17,22],[1,5,13,17,19,21],[1,3,5,9,13,17],[1,5,9,13,17,18]])\n",
    "_decomp_extended_precomp_inv = np.linalg.inv(np.moveaxis(flatten_symmetric_matrix(lp.outer_self(_decomp_extended_precomp_offsets[:,_decomp_extended_precomp_active])),0,1))\n",
    "def staggered_decomp_linprogExt(D):\n",
    "    shape = D.shape[2:]; assert D.shape[:2]==(3,3)\n",
    "    D_flat = flatten_symmetric_matrix(D).reshape(6,-1) # Flatten additional shape\n",
    "    # Find the best vertex (we are minimizing a linear form over a polyhedron)\n",
    "    score = np.array([np.sum(D_flat* (np.array([1,s0*s1,1,s0,s1,1])*_decomp_extended_precomp_vertices)[:,:,None],axis=1) \n",
    "             for (s0,s1) in ((1,1),(1,-1),(-1,1),(-1,-1))])\n",
    "    signs = np.argmin(np.min(score,axis=1),axis=0) \n",
    "    amin = np.argmin(np.take_along_axis(score,signs[None,None],axis=0)[0],axis=0)\n",
    "    signs = np.array(((1,1),(1,-1),(-1,1),(-1,-1)))[signs].T\n",
    "    ones = np.ones_like(signs[0])\n",
    "    # Find the coefficients, by linear solve\n",
    "    D_flat*=np.array([ones,signs[0]*signs[1],ones,signs[0],signs[1],ones])\n",
    "    coefs = lp.dot_AV(np.moveaxis(_decomp_extended_precomp_inv[amin],0,-1),D_flat)\n",
    "    offsets = np.moveaxis(_decomp_extended_precomp_offsets[:,_decomp_extended_precomp_active[amin]],-1,1)\n",
    "    offsets[:2]*=signs[:,None]\n",
    "    # Some post processing of the last offsets, so as to extract coef01, use integer coordinates...\n",
    "    small = np.logical_and(offsets[2]==0,np.linalg.norm(offsets[:2],axis=0)<=1.1) # (cos θ, sin θ, 0) offsets receive special treatment\n",
    "    D_small = np.sum(flatten_symmetric_matrix(lp.outer_self(offsets[:2])*np.where(small,coefs,0)),axis=1)\n",
    "    coefs[small]=0; offsets[:,small]=0\n",
    "    return D_small[[0,2,1]].reshape((3,*shape)),coefs[:-1].reshape((5,*shape)),offsets[:,:-1].astype(int).reshape((3,5,*shape))"
   ]
  },
  {
   "cell_type": "code",
   "execution_count": 45,
   "id": "a8185824-5a60-4f74-aa50-fc80f4581812",
   "metadata": {
    "editable": true,
    "slideshow": {
     "slide_type": ""
    },
    "tags": [
     "ExportCode"
    ]
   },
   "outputs": [],
   "source": [
    "def SellingStaggeredExt2H(ρ,C,stag,X,S=None):\n",
    "    \"\"\"Hamiltonian of the 2d elastic wave equation, implemented using a staggered variant of Selling's decomposition.\"\"\"\n",
    "    dlo,dro,dl,ar = stag.diff_left_offset,stag.diff_right_offset,stag.diff_left,stag.avg_right\n",
    "    coefs_00,coefs,offsets = staggered_decomp_linprogExt(C)\n",
    "    def af(x): return fd.as_field(x,X[0].shape)\n",
    "    iρ = af(1/ρ)    \n",
    "    iρ_10 = ar(iρ,0)\n",
    "    iρ_01 = ar(iρ,1)\n",
    "    assert S is None\n",
    "    def PotentialEnergy(q):\n",
    "        q0_10,q1_01 = q\n",
    "        ϵ00_00 = dl(q0_10,0) # These terms handled similarly to Virieux\n",
    "        ϵ11_00 = dl(q1_01,1) # Compute the strain tensor ϵ = (Dq+Dq^T)/2\n",
    "        res = coefs_00[0]*ϵ00_00**2 + coefs_00[1]*ϵ11_00**2 +  2*coefs_00[2]*ϵ00_00*ϵ11_00\n",
    "        for λ,offset in zip(coefs,np.moveaxis(offsets,-1,0)):\n",
    "            if np.allclose(λ,0): continue\n",
    "            e0,e1 = (offset[0],offset[2]),(offset[2],offset[1])\n",
    "            at_11 = offset[2]%2==1\n",
    "            ϵ = dlo(q0_10,0+at_11,e0,right=at_11) + dlo(q1_01,1-at_11,e1,right=at_11)\n",
    "            # ϵ_00 = dlo(q0_10,0,e0) + dlo(q1_01,1,e1); ϵ_11 = dro(q0_10,1,e0) + dro(q1_01,0,e1); ϵ = np.where(at_11,ϵ_11,ϵ_00)\n",
    "            # TODO : higher spatial accuracy by properly locating λ when at_11 is true (average with neighbors)\n",
    "            res += λ * ϵ**2\n",
    "        return 0.5*res\n",
    "    def KineticEnergy(p):\n",
    "        p0_10,p1_01 = p\n",
    "        return 0.5*(iρ_10*p0_10**2 + iρ_01*p1_01**2)\n",
    "    H = QuadraticHamiltonian(PotentialEnergy,KineticEnergy); H.set_spmat(np.zeros_like(X)); return H"
   ]
  },
  {
   "cell_type": "markdown",
   "id": "67888dae-ca25-42ef-a6ec-4f3d27f6c7e7",
   "metadata": {
    "editable": true,
    "slideshow": {
     "slide_type": ""
    },
    "tags": []
   },
   "source": [
    "We now validate the decomposition on the standard materials."
   ]
  },
  {
   "cell_type": "code",
   "execution_count": 46,
   "id": "5aa543a3-e474-4c85-ac37-3cebdc7d1b68",
   "metadata": {
    "editable": true,
    "slideshow": {
     "slide_type": ""
    },
    "tags": []
   },
   "outputs": [
    {
     "name": "stdout",
     "output_type": "stream",
     "text": [
      "Decomposition of 61 materials, over 100 regular orientations each\n"
     ]
    }
   ],
   "source": [
    "staggered_decomp_test = [Hooke.from_ThomsenElastic(tem) for name,tem in Seismic.Thomsen.ThomsenData.items()] \\\n",
    "    + [Hooke.mica,Hooke.stishovite,Hooke.olivine]\n",
    "staggered_decomp_test = [hk[0].extract_xz().hooke for hk in staggered_decomp_test]\n",
    "\n",
    "nθ = 100; θs = np.linspace(0,π/2,nθ)\n",
    "print(f\"Decomposition of {len(staggered_decomp_test)} materials, over {len(θs)} regular orientations each\")\n",
    "\n",
    "large_offset = {}\n",
    "for i,m in enumerate(staggered_decomp_test):\n",
    "    m = m/np.max(m) # Normalize coefficients (optional)\n",
    "    for θ in θs:\n",
    "        m_rot = Hooke(m).rotate_by(θ).hooke\n",
    "        (a_00,b_00,c_00),coefs,offsets = staggered_decomp_linprogExt(m_rot)\n",
    "        rec_00 = np.array([[a_00,c_00,0],[c_00,b_00,0],[0,0,0]])\n",
    "        rec = np.sum(coefs*lp.outer_self(offsets),axis=2)\n",
    "        assert np.allclose(m_rot,rec_00+rec)\n",
    "        assert np.all(coefs>=-1e-6)\n",
    "        assert np.all(a_00*b_00>=c_00**2)\n",
    "        if np.max(np.sum(offsets**2,axis=0))>9: large_offset[i]=θ"
   ]
  },
  {
   "cell_type": "markdown",
   "id": "14ac3855-7f81-4433-8b70-ab5c3d80fa01",
   "metadata": {
    "editable": true,
    "slideshow": {
     "slide_type": ""
    },
    "tags": []
   },
   "source": [
    "Only the biotite crystal uses the larger offsets $(4,0,1)$, for some specific orientations."
   ]
  },
  {
   "cell_type": "code",
   "execution_count": 47,
   "id": "d49ad8e0-04ab-4bb9-bf12-b1784b273717",
   "metadata": {
    "editable": true,
    "slideshow": {
     "slide_type": ""
    },
    "tags": []
   },
   "outputs": [
    {
     "data": {
      "text/plain": [
       "({47: 1.443863290286218}, 'Biotite crystal')"
      ]
     },
     "execution_count": 47,
     "metadata": {},
     "output_type": "execute_result"
    }
   ],
   "source": [
    "large_offset, list(Seismic.Thomsen.ThomsenData)[47]"
   ]
  },
  {
   "cell_type": "markdown",
   "id": "18624a5a-bc4a-4a4e-b77e-bdc84c0f7f7c",
   "metadata": {
    "editable": true,
    "slideshow": {
     "slide_type": ""
    },
    "tags": []
   },
   "source": [
    "Our custom implementation of the linear program can be validated by comparison with the result of a generic linear program solver."
   ]
  },
  {
   "cell_type": "code",
   "execution_count": 48,
   "id": "3f955462-c896-4385-8142-df6f726fed31",
   "metadata": {
    "editable": true,
    "slideshow": {
     "slide_type": ""
    },
    "tags": [
     "ExportCode"
    ]
   },
   "outputs": [],
   "source": [
    "def _staggered_decomp_linprogExt(m,offsets=_decomp_extended_precomp_offsets,offset_cost=None):\n",
    "    # Setup and solve the linear program\n",
    "    A_eq = flatten_symmetric_matrix(lp.outer_self(offsets))\n",
    "    b_eq = flatten_symmetric_matrix(m)\n",
    "    if offset_cost is None: c = -np.ones(A_eq.shape[1]) # Could try to adjust this objective to minimize distortion\n",
    "    else: c = - np.array(list(map(offset_cost,offsets.T)))\n",
    "    bounds = (0,None)\n",
    "    res = linprog(c,A_eq=A_eq,b_eq=b_eq,bounds=bounds)\n",
    "    #print(c); print(res.fun)\n",
    "    coefs = res.x\n",
    "    small = np.logical_and(offsets[2]==0,np.linalg.norm(offsets[:2],axis=0)<=1.1) # (cos θ,sin θ,0) offsets receive special treatment\n",
    "    D_small = np.sum(flatten_symmetric_matrix(lp.outer_self(offsets[:2])*np.where(small,coefs,0)),axis=1)\n",
    "    coefs[small]=0; offsets = offsets.copy(); offsets[:,small]=0\n",
    "    select = coefs>0\n",
    "    return D_small[[0,2,1]],coefs[select],offsets[:,select].astype(int)"
   ]
  },
  {
   "cell_type": "code",
   "execution_count": 49,
   "id": "99d0fec7-8f39-42d2-9cf8-fcdd4fe9d054",
   "metadata": {
    "editable": true,
    "slideshow": {
     "slide_type": ""
    },
    "tags": []
   },
   "outputs": [
    {
     "data": {
      "text/plain": [
       "((array([0.72628977, 1.        , 0.22119246]),\n",
       "  array([0.24312635]),\n",
       "  array([[0],\n",
       "         [0],\n",
       "         [1]])),\n",
       " ((0.7262897744825456, 1.0, 0.22119246215631758),\n",
       "  array([2.43126352e-01, 0.00000000e+00, 6.93889390e-18, 0.00000000e+00]),\n",
       "  array([[ 0, -2,  0, -2],\n",
       "         [ 0,  0,  2,  2],\n",
       "         [ 1,  1,  1,  1]])))"
      ]
     },
     "execution_count": 49,
     "metadata": {},
     "output_type": "execute_result"
    }
   ],
   "source": [
    "_staggered_decomp_linprogExt(m_rot),staggered_decomp_linprog(m_rot)"
   ]
  },
  {
   "cell_type": "code",
   "execution_count": 50,
   "id": "a3b0942d-3f6f-4a65-84f0-6214931b9d33",
   "metadata": {
    "editable": true,
    "slideshow": {
     "slide_type": ""
    },
    "tags": []
   },
   "outputs": [],
   "source": [
    "C_VTI2 = Hooke.mica[0].extract_xz().hooke\n",
    "C_TTI2 = Hooke.mica[0].extract_xz().rotate_by(π/6).hooke\n",
    "for C in (C_VTI2,C_TTI2): C/=np.max(C)\n",
    "\n",
    "for ρ, C_VTI, C, k, order_x, Nx, dt, mode in [\n",
    "    (1.4, C_VTI2, C_TTI2, [ 2, 3],    2, 10, 0.01, 0),\n",
    "    (0.9, C_VTI2, C_TTI2, [-1, 1],    4, 11, 0.01, 0),\n",
    "]:\n",
    "    vdim = len(k)\n",
    "    k = 2*π*np.array(k)\n",
    "    X, dx = make_domain(Nx,vdim) # The grid points : offset (0,0)\n",
    "    stag = staggered(dx,order_x,'Periodic')\n",
    "\n",
    "    # Time discretization\n",
    "    Nt = 1\n",
    "    T = Nt*dt\n",
    "\n",
    "    # Dispersion relation and exact solution\n",
    "    ω,vq,vp = dispersion_Virieux(k,ρ,C_VTI,dx,dt,order_x)\n",
    "    q_exact,p_exact = mk_planewave_e(k,ω[mode],vq[:,mode],vp[:,mode])\n",
    "\n",
    "    q0,p0 = map(np.array,eval_Virieux(q_exact,p_exact,X,dx,0,dt))\n",
    "    qf,pf = eval_Virieux(q_exact,p_exact,X,dx,T,dt)\n",
    "\n",
    "    def af(q): return fd.as_field(q,shape=X[0].shape)\n",
    "    Virieux = (None,Virieux1,Virieux2,Virieux3)[vdim] # Select adequate scheme\n",
    "    scheme = Virieux(af(ρ),af(C_VTI),stag)\n",
    "    q1,p1 = scheme.step(q0,p0,dt)\n",
    "    assert np.allclose(qf,q1)\n",
    "    assert np.allclose(pf,p1)\n",
    "\n",
    "    # Now testing the staggered Selling scheme\n",
    "    assert vdim==2\n",
    "    # For VTI tensors, it should reproduce the Virieux scheme\n",
    "    SellingStagH = SellingStaggeredExt2H(ρ,C_VTI,stag,X)\n",
    "    Q1,P1 = SellingStagH.Euler_p(q0,p0,dt)\n",
    "    assert np.allclose(q1,Q1)\n",
    "    assert np.allclose(p1,P1)\n",
    "\n",
    "    # However, the Staggered Selling scheme also handles general elasticity\n",
    "    ω,vq,vp = dispersion_SellingStaggered2(k,ρ,C,dx,dt,order_x,decomp=staggered_decomp_linprogExt)\n",
    "    q_exact,p_exact = mk_planewave_e(k,ω[mode],vq[:,mode],vp[:,mode])\n",
    "    Q0,P0 = map(np.array,eval_Virieux(q_exact,p_exact,X,dx,0,dt))\n",
    "    Qf,Pf = eval_Virieux(q_exact,p_exact,X,dx,T,dt)\n",
    "    SellingStagH = SellingStaggeredExt2H(ρ,C,stag,X)\n",
    "    Q1,P1 = SellingStagH.Euler_p(Q0,P0,dt)\n",
    "    assert np.allclose(Qf,Q1)\n",
    "    assert np.allclose(Pf,P1)"
   ]
  },
  {
   "cell_type": "markdown",
   "id": "565dbdb7-de6c-49f8-ab7c-8e251a736738",
   "metadata": {
    "editable": true,
    "slideshow": {
     "slide_type": ""
    },
    "tags": []
   },
   "source": [
    "Compared to the previous staggered selling decomposition, this one appears empirically to :\n",
    "- degrade the shear wave dispersion\n",
    "- improve the pressure wave dispersion\n",
    "\n",
    "This is a bit unfortunate, since the pressure wave was mostly fine already, and the approach was lacking for the shear wave. \n",
    "\n",
    "In applications, the pulsation is usually fixed. Since the pressure wave is faster, it has a longer wavelength. Therefore the bottleneck in terms of dispersion is really the shear wave."
   ]
  },
  {
   "cell_type": "code",
   "execution_count": 51,
   "id": "c746c669-950b-4f38-90cd-8210731fd90d",
   "metadata": {
    "editable": true,
    "slideshow": {
     "slide_type": ""
    },
    "tags": []
   },
   "outputs": [
    {
     "name": "stdout",
     "output_type": "stream",
     "text": [
      "Points per wavelength 2*π/dx=6.283, order_x=4, λ/μ=0.4\n",
      "Blue : Selling stag extended. Red : Selling correlated. Green : Selling stag\n"
     ]
    }
   ],
   "source": [
    "# Try changing the following parameters\n",
    "dx = 1. #1.5\n",
    "dt = dx/4 # Small time step, we are mostly interested on spatial dispersion\n",
    "θ = 0.7 #π/6\n",
    "C = Hooke.mica[0].extract_xz().rotate_by(θ).hooke \n",
    "#C = Hooke.stishovite[0].extract_xz().rotate_by(θ).hooke\n",
    "C /= np.max(C)\n",
    "\n",
    "# No need to change\n",
    "ρ = 1\n",
    "\n",
    "print(f\"Points per wavelength {2*π/dx=:.3f}, {order_x=}, {λ/μ=}\")\n",
    "print(f\"Blue : Selling stag extended. Red : Selling correlated. Green : Selling stag\")\n",
    "\n",
    "ak = np.linspace(-1.2,1.2)\n",
    "ks = np.array(np.meshgrid(ak,ak,indexing='ij'))\n",
    "def af(x): return fd.as_field(x,ks[0].shape)\n",
    "\n",
    "ω_exact,_ = Hooke(C).waves(ks,ρ)\n",
    "#ω_Virieux2,_,_  = dispersion_Virieux(ks,ρ,C,dx,dt,order_x=2)\n",
    "#ω_Virieux4,_,_  = dispersion_Virieux(ks,ρ,C,dx,dt,order_x=4)\n",
    "ω_Lebedev2,_,_  = dispersion_Virieux(ks,ρ,C,dx*np.sqrt(2),dt,order_x=2)\n",
    "ω_Lebedev4,_,_  = dispersion_Virieux(ks,ρ,C,dx*np.sqrt(2),dt,order_x=4)\n",
    "\n",
    "#ω_Selling2,_,_  = dispersion_e(ks,af(ρ),af(C),dx,dt,order_x=2,order_t=2)\n",
    "#ω_Selling4,_,_  = dispersion_e(ks,af(ρ),af(C),dx,dt,order_x=4,order_t=2)\n",
    "ω_Selling2_corr,_,_  = dispersion_SellingCorrelated(ks,af(ρ),af(C),dx,dt,order_x=2)\n",
    "ω_Selling4_corr,_,_  = dispersion_SellingCorrelated(ks,af(ρ),af(C),dx,dt,order_x=4)\n",
    "\n",
    "ω_Selling2_stag,_,_ = dispersion_SellingStaggered2(ks,ρ,C,dx,dt,order_x=2)\n",
    "ω_Selling4_stag,_,_ = dispersion_SellingStaggered2(ks,ρ,C,dx,dt,order_x=4)\n",
    "\n",
    "ω_Selling2_stagExt,_,_ = dispersion_SellingStaggered2(ks,ρ,C,dx,dt,order_x=2,decomp=staggered_decomp_linprogExt)\n",
    "ω_Selling4_stagExt,_,_ = dispersion_SellingStaggered2(ks,ρ,C,dx,dt,order_x=4,decomp=staggered_decomp_linprogExt)\n",
    "\n",
    "#ω_Selling,_,_  = dispersion_e(ks,af(ρ),af(C),dx,dt,order_x=6,order_t=2) # Order 6 does not bring much benefit\n",
    "\n",
    "\n",
    "fig,ax = plt.subplots(1,2,figsize=(12,6))\n",
    "ax[0].set_title(\"Shear wave dispersion\"); ax[0].axis('equal')\n",
    "ω0 = 0.7*ω_exact[0].mean()\n",
    "#ax[0].contour(*ks,ω_Lebedev2[0],levels=[ω0],colors='blue')\n",
    "#ax[0].contour(*ks,ω_Lebedev4[0],levels=[ω0],colors='cyan')\n",
    "ax[0].contour(*ks,ω_Selling2_stagExt[0],levels=[ω0],colors='blue')\n",
    "ax[0].contour(*ks,ω_Selling4_stagExt[0],levels=[ω0],colors='cyan')\n",
    "\n",
    "#ax[0].contour(*ks,ω_Selling2[0],levels=[ω0],colors='red')\n",
    "#ax[0].contour(*ks,ω_Selling4[0],levels=[ω0],colors='orange')\n",
    "ax[0].contour(*ks,ω_Selling2_corr[0],levels=[ω0],colors='red')\n",
    "ax[0].contour(*ks,ω_Selling4_corr[0],levels=[ω0],colors='orange')\n",
    "\n",
    "ax[0].contour(*ks,ω_Selling2_stag[0],levels=[ω0],colors='green')\n",
    "ax[0].contour(*ks,ω_Selling4_stag[0],levels=[ω0],colors='olive')\n",
    "ax[0].contour(*ks,ω_exact[0],levels=[ω0],colors='black')\n",
    "\n",
    "ax[1].set_title(\"Pressure wave dispersion\"); ax[1].axis('equal')\n",
    "ω1 = 0.8*ω_exact[1].mean()\n",
    "#ax[1].contour(*ks,ω_Lebedev2[1],levels=[ω1],colors='blue')\n",
    "#ax[1].contour(*ks,ω_Lebedev4[1],levels=[ω1],colors='cyan')\n",
    "ax[1].contour(*ks,ω_Selling2_stagExt[1],levels=[ω1],colors='blue')\n",
    "ax[1].contour(*ks,ω_Selling4_stagExt[1],levels=[ω1],colors='cyan')\n",
    "\n",
    "#ax[1].contour(*ks,ω_Selling2[1],levels=[ω1],colors='red')\n",
    "#ax[1].contour(*ks,ω_Selling4[1],levels=[ω1],colors='orange')\n",
    "ax[1].contour(*ks,ω_Selling2_corr[1],levels=[ω1],colors='red')\n",
    "ax[1].contour(*ks,ω_Selling4_corr[1],levels=[ω1],colors='orange')\n",
    "\n",
    "ax[1].contour(*ks,ω_Selling2_stag[1],levels=[ω1],colors='green')\n",
    "ax[1].contour(*ks,ω_Selling4_stag[1],levels=[ω1],colors='olive');\n",
    "ax[1].contour(*ks,ω_exact[1],levels=[ω1],colors='black');\n"
   ]
  },
  {
   "cell_type": "markdown",
   "id": "18af7792-6a8c-4c76-b1ce-a71d6a03aaa4",
   "metadata": {
    "editable": true,
    "slideshow": {
     "slide_type": ""
    },
    "tags": []
   },
   "source": [
    "The extended staggered Selling decomposition considered here appears to favor the offset \n",
    "$$\n",
    "    \\begin{pmatrix}\n",
    "        1 & 2 \\\\\n",
    "        2 & 1\n",
    "    \\end{pmatrix},\n",
    "$$\n",
    "whereone the previous one favored \n",
    "$$\n",
    "    \\begin{pmatrix}\n",
    "        2 & 1 \\\\\n",
    "        1 & 2\n",
    "    \\end{pmatrix}.\n",
    "$$\n",
    "The larger off-diagonal terms of the former lead to stronger cross-derivatives terms, which may explain the degradation of dispersion (despite the use of a staggered grid). \n",
    "We could adjust for this behavior by introducing weights in the linear program objective functional, so as to discourage the use of matrix offsets with large off-diagonal components. This does not work so well though, in practice, apparently.\n",
    "\n",
    "Another empirical observation is that, curiously, the extended staggered Selling decomposition often does not use the offset \n",
    "$$\n",
    "    \\begin{pmatrix}\n",
    "        0 & 1 \\\\\n",
    "        1 & 0\n",
    "    \\end{pmatrix},\n",
    "$$\n",
    "despite its smallness."
   ]
  },
  {
   "cell_type": "code",
   "execution_count": 52,
   "id": "715284c1-5486-4a46-b468-88d96851507f",
   "metadata": {
    "editable": true,
    "slideshow": {
     "slide_type": ""
    },
    "tags": []
   },
   "outputs": [
    {
     "data": {
      "text/plain": [
       "(((0.17492306746144626, 0.23156171797975833, 0.05029956505001132),\n",
       "  array([0.3522868 , 0.07276302, 0.        , 0.13350621]),\n",
       "  array([[0, 2, 0, 2],\n",
       "         [0, 0, 2, 2],\n",
       "         [1, 1, 1, 1]])),\n",
       " (array([0.52720986, 0.58384852, 0.40258636]),\n",
       "  array([0.07276302, 0.01607728, 0.11742893, 0.        , 0.        ]),\n",
       "  array([[2, 2, 1, 0, 0],\n",
       "         [0, 2, 1, 0, 0],\n",
       "         [1, 1, 2, 0, 0]])))"
      ]
     },
     "execution_count": 52,
     "metadata": {},
     "output_type": "execute_result"
    }
   ],
   "source": [
    "staggered_decomp_linprog(C),staggered_decomp_linprogExt(C),"
   ]
  },
  {
   "cell_type": "code",
   "execution_count": 53,
   "id": "e021cded-2215-4440-a260-66414e3952e1",
   "metadata": {
    "editable": true,
    "slideshow": {
     "slide_type": ""
    },
    "tags": []
   },
   "outputs": [
    {
     "data": {
      "text/plain": [
       "(array([0.52720986, 0.58384852, 0.40258636]),\n",
       " array([0.07276302, 0.01607728, 0.11742893]),\n",
       " array([[2, 2, 1],\n",
       "        [0, 2, 1],\n",
       "        [1, 1, 2]]))"
      ]
     },
     "execution_count": 53,
     "metadata": {},
     "output_type": "execute_result"
    }
   ],
   "source": [
    "def offset_cost(offset): \n",
    "    return 1/(1+2*offset[2]**2)\n",
    "#    return float(tuple(offset.astype(int)) in [(0,0,1),(2,0,1),(0,2,1),(2,2,1)])\n",
    "#    return 0.+(offset[2]==1) \n",
    "ϕs = np.linspace(0,π,120)\n",
    "myoffsets = np.concatenate((_decomp_extended_precomp_offsets[:,:-6], [np.cos(ϕs),np.sin(ϕs),0*ϕs]),axis=1)\n",
    "def mydecomp(C): return _staggered_decomp_linprogExt(C,offsets=myoffsets,offset_cost=offset_cost)\n",
    "\n",
    "mydecomp(C)"
   ]
  },
  {
   "cell_type": "code",
   "execution_count": 54,
   "id": "63644fc2-ca16-4e74-9d28-ea7623462f7d",
   "metadata": {
    "editable": true,
    "slideshow": {
     "slide_type": ""
    },
    "tags": []
   },
   "outputs": [
    {
     "name": "stdout",
     "output_type": "stream",
     "text": [
      "Points per wavelength 2*π/dx=5.236, order_x=4, λ/μ=0.4\n",
      "Blue : Selling stag extended. Red : Selling correlated. Green : Selling stag\n"
     ]
    }
   ],
   "source": [
    "# Try changing the following parameters\n",
    "dx = 1.2 #1.5\n",
    "dt = dx/4 # Small time step, we are mostly interested on spatial dispersion\n",
    "θ = 0.4 #π/6\n",
    "C = Hooke.mica[0].extract_xz().rotate_by(θ).hooke \n",
    "#C = Hooke.stishovite[0].extract_xz().rotate_by(θ).hooke\n",
    "C /= np.max(C)\n",
    "\n",
    "# No need to change\n",
    "ρ = 1\n",
    "\n",
    "print(f\"Points per wavelength {2*π/dx=:.3f}, {order_x=}, {λ/μ=}\")\n",
    "print(f\"Blue : Selling stag extended. Red : Selling correlated. Green : Selling stag\")\n",
    "\n",
    "ak = np.linspace(-1.2,1.2)\n",
    "ks = np.array(np.meshgrid(ak,ak,indexing='ij'))\n",
    "def af(x): return fd.as_field(x,ks[0].shape)\n",
    "\n",
    "ω_exact,_ = Hooke(C).waves(ks,ρ)\n",
    "#ω_Virieux2,_,_  = dispersion_Virieux(ks,ρ,C,dx,dt,order_x=2)\n",
    "#ω_Virieux4,_,_  = dispersion_Virieux(ks,ρ,C,dx,dt,order_x=4)\n",
    "ω_Lebedev2,_,_  = dispersion_Virieux(ks,ρ,C,dx*np.sqrt(2),dt,order_x=2)\n",
    "ω_Lebedev4,_,_  = dispersion_Virieux(ks,ρ,C,dx*np.sqrt(2),dt,order_x=4)\n",
    "\n",
    "#ω_Selling2,_,_  = dispersion_e(ks,af(ρ),af(C),dx,dt,order_x=2,order_t=2)\n",
    "#ω_Selling4,_,_  = dispersion_e(ks,af(ρ),af(C),dx,dt,order_x=4,order_t=2)\n",
    "ω_Selling2_corr,_,_  = dispersion_SellingCorrelated(ks,af(ρ),af(C),dx,dt,order_x=2)\n",
    "ω_Selling4_corr,_,_  = dispersion_SellingCorrelated(ks,af(ρ),af(C),dx,dt,order_x=4)\n",
    "\n",
    "ω_Selling2_stag,_,_ = dispersion_SellingStaggered2(ks,ρ,C,dx,dt,order_x=2)\n",
    "ω_Selling4_stag,_,_ = dispersion_SellingStaggered2(ks,ρ,C,dx,dt,order_x=4)\n",
    "\n",
    "ω_Selling2_stagExt,_,_ = dispersion_SellingStaggered2(ks,ρ,C,dx,dt,order_x=2,decomp=staggered_decomp_linprogExt)\n",
    "ω_Selling4_stagExt,_,_ = dispersion_SellingStaggered2(ks,ρ,C,dx,dt,order_x=4,decomp=staggered_decomp_linprogExt)\n",
    "\n",
    "ω_Selling2_mystagExt,_,_ = dispersion_SellingStaggered2(ks,ρ,C,dx,dt,order_x=2,decomp=mydecomp)\n",
    "ω_Selling4_mystagExt,_,_ = dispersion_SellingStaggered2(ks,ρ,C,dx,dt,order_x=4,decomp=mydecomp)\n",
    "\n",
    "#ω_Selling,_,_  = dispersion_e(ks,af(ρ),af(C),dx,dt,order_x=6,order_t=2) # Order 6 does not bring much benefit\n",
    "\n",
    "\n",
    "fig,ax = plt.subplots(1,2,figsize=(12,6))\n",
    "ax[0].set_title(\"Shear wave dispersion\"); ax[0].axis('equal')\n",
    "ω0 = 0.7*ω_exact[0].mean()\n",
    "#ax[0].contour(*ks,ω_Lebedev2[0],levels=[ω0],colors='blue')\n",
    "#ax[0].contour(*ks,ω_Lebedev4[0],levels=[ω0],colors='cyan')\n",
    "ax[0].contour(*ks,ω_Selling2_stagExt[0],levels=[ω0],colors='blue')\n",
    "ax[0].contour(*ks,ω_Selling4_stagExt[0],levels=[ω0],colors='cyan')\n",
    "\n",
    "#ax[0].contour(*ks,ω_Selling2[0],levels=[ω0],colors='red')\n",
    "#ax[0].contour(*ks,ω_Selling4[0],levels=[ω0],colors='orange')\n",
    "#ax[0].contour(*ks,ω_Selling2_corr[0],levels=[ω0],colors='red')\n",
    "#ax[0].contour(*ks,ω_Selling4_corr[0],levels=[ω0],colors='orange')\n",
    "ax[0].contour(*ks,ω_Selling2_mystagExt[0],levels=[ω0],colors='red')\n",
    "ax[0].contour(*ks,ω_Selling4_mystagExt[0],levels=[ω0],colors='orange')\n",
    "\n",
    "ax[0].contour(*ks,ω_Selling2_stag[0],levels=[ω0],colors='green')\n",
    "ax[0].contour(*ks,ω_Selling4_stag[0],levels=[ω0],colors='olive')\n",
    "ax[0].contour(*ks,ω_exact[0],levels=[ω0],colors='black')\n",
    "\n",
    "ax[1].set_title(\"Pressure wave dispersion\"); ax[1].axis('equal')\n",
    "ω1 = 0.8*ω_exact[1].mean()\n",
    "#ax[1].contour(*ks,ω_Lebedev2[1],levels=[ω1],colors='blue')\n",
    "#ax[1].contour(*ks,ω_Lebedev4[1],levels=[ω1],colors='cyan')\n",
    "ax[1].contour(*ks,ω_Selling2_stagExt[1],levels=[ω1],colors='blue')\n",
    "ax[1].contour(*ks,ω_Selling4_stagExt[1],levels=[ω1],colors='cyan')\n",
    "\n",
    "#ax[1].contour(*ks,ω_Selling2[1],levels=[ω1],colors='red')\n",
    "#ax[1].contour(*ks,ω_Selling4[1],levels=[ω1],colors='orange')\n",
    "#ax[1].contour(*ks,ω_Selling2_corr[1],levels=[ω1],colors='red')\n",
    "#ax[1].contour(*ks,ω_Selling4_corr[1],levels=[ω1],colors='orange')\n",
    "ax[1].contour(*ks,ω_Selling2_mystagExt[1],levels=[ω1],colors='red')\n",
    "ax[1].contour(*ks,ω_Selling4_mystagExt[1],levels=[ω1],colors='orange')\n",
    "\n",
    "ax[1].contour(*ks,ω_Selling2_stag[1],levels=[ω1],colors='green')\n",
    "ax[1].contour(*ks,ω_Selling4_stag[1],levels=[ω1],colors='olive');\n",
    "ax[1].contour(*ks,ω_exact[1],levels=[ω1],colors='black');"
   ]
  },
  {
   "cell_type": "markdown",
   "id": "1a869919-2fa2-4661-abed-a9df02a48350",
   "metadata": {
    "editable": true,
    "slideshow": {
     "slide_type": ""
    },
    "tags": []
   },
   "source": [
    "## 8. Energy conservation\n",
    "\n",
    "*This section is an (unconvincing) draft. Evaluating the Selling energy on the Lebedev scheme solution is somewhat unfair. Some other way to illustrate the issue of grid decoupling ?*\n",
    "\n",
    "The proposed Selling scheme conserves a perturbed energy. As a result, the true system energy is conserved up to a multiplicative constant (which is close to one and if the CFL is satisfied strictly).\n",
    "\n",
    "The Virieux and Lebedev schemes can also be regarded as (Euler) symplectic schemes, based on a suitable potential energy. \n",
    "- The Virieux energy is rather simple and natural, and one can prove that it controls the isotropic energy\n",
    "$$\n",
    "\\| \\partial^0q^0\\|^2 + \\|\\partial^1 q^1\\|^2+ \\|\\partial^1 q^0+\\partial^0 q^1\\|^2.\n",
    "$$\n",
    "As a result, one can obtain e.g discrete Korn estimates.\n",
    "- The Lebedev energy couples the subgrids in a way that makes it difficult to prove local estimates like the above, or simply the scheme convergence.\n",
    "\n",
    "In the following (admittedly unphysical) example where the Hooke tensors are chosen at random, the we observe that : \n",
    "\n",
    "- The (Selling) energy of the Lebedev solution oscillates rather widly. \n",
    "- (**This point is unclear after all**) For non-VTI hooke tensors, the Lebedev energy usually overestimates the true energy. In contrast it appears to oscillate centered on the true energy in the VTI case (In that case, Lebedev reduces to two independent Virieux schemes, which are symplectic for reasonnable energy).\n",
    "- Oscillations are larger for the 4th order variant of the Lebedev scheme."
   ]
  },
  {
   "cell_type": "code",
   "execution_count": 55,
   "id": "aed8ff71-d10e-47fd-93e9-140f4709c66d",
   "metadata": {},
   "outputs": [],
   "source": [
    "Nt = 2000\n",
    "Nx = 10\n",
    "vdim = 2\n",
    "order_x = 2\n",
    "bc = 'Periodic'\n",
    "cfl = 0.7\n",
    "plt.figure(figsize=[12,6])\n",
    "\n",
    "np.random.seed(42)\n",
    "X, dx = make_domain(Nx,vdim) # The grid points : offset (0,0)\n",
    "stag = staggered(dx,order_x,bc)\n",
    "\n",
    "C = MakeRandomTensor(3,(Nx,Nx),0.5); C/=np.max(C,axis=(0,1)) # Random Hooke elasticity tensors\n",
    "ρ = np.random.rand(Nx,Nx)+0.5\n",
    "\n",
    "q0_Lebedev = np.random.rand(2,2,Nx,Nx)\n",
    "p0_Lebedev = np.random.rand(2,2,Nx,Nx)\n",
    "\n",
    "q0_Selling = np.array((q0_Lebedev[0,0],q0_Lebedev[1,1]))\n",
    "p0_Selling = np.array((p0_Lebedev[0,0],p0_Lebedev[1,1]))\n",
    "\n",
    "q_Lebedev,p_Lebedev,q_Selling,p_Selling = copy.deepcopy((q0_Lebedev,p0_Lebedev,q0_Selling,p0_Selling))\n",
    "\n",
    "for VTI in (False,True):\n",
    "    if VTI: C[0,2]=C[1,2]=C[2,0]=C[2,1]=0\n",
    "\n",
    "    scheme_Lebedev = Lebedev2(ρ,C,stag).step\n",
    "    scheme_Virieux = Virieux2(ρ,C,stag).step\n",
    "    WaveH = AnisotropicWave.ElasticHamiltonian_Sparse(ρ[None,None],C,dx,order_x,bc=bc)\n",
    "    scheme_Selling = WaveH.Verlet_p\n",
    "\n",
    "    energy_Selling  = lambda q,p : WaveH.H(q,p)\n",
    "    energy_Selling2 = lambda q,p : WaveH.H_p(q,p,dt,order=2)\n",
    "    energy_Lebedev  = lambda q,p : 0.5*(WaveH.H(np.array((q[0][0],q[1][1])),np.array((p[0][0],p[1][1]))) \\\n",
    "                                  + WaveH.H(np.array((q[0][1],q[1][0])),np.array((p[0][1],p[1][0]))))\n",
    "\n",
    "    hist_Selling  = []\n",
    "    hist_Selling2 = []\n",
    "    hist_Lebedev  = []\n",
    "\n",
    "    dt = cfl*WaveH.dt_max()\n",
    "    for i in range(Nt):\n",
    "        q_Lebedev,p_Lebedev = scheme_Lebedev(q_Lebedev,p_Lebedev,dt)    \n",
    "        q_Selling,p_Selling = scheme_Selling(q_Selling,p_Selling,dt)\n",
    "\n",
    "        hist_Lebedev.append(energy_Lebedev(q_Lebedev,p_Lebedev))\n",
    "        hist_Selling.append(energy_Selling(q_Selling,p_Selling))\n",
    "        hist_Selling2.append(energy_Selling2(q_Selling,p_Selling))\n",
    "\n",
    "    plt.subplot(1,2,1+VTI)\n",
    "    plt.title(f\"Numerical energy (non-)conservation. {order_x=}, {VTI=}\")\n",
    "    plt.plot(hist_Selling,label=\"Selling energy\")\n",
    "    plt.plot(hist_Selling2,label=\"Selling invariant energy\")\n",
    "    plt.plot(hist_Lebedev,label=\"Lebedev energy\")\n",
    "    plt.legend();"
   ]
  },
  {
   "cell_type": "markdown",
   "id": "9ad05118-7eda-4d29-9d64-407daf351ee6",
   "metadata": {},
   "source": [
    "## 9. Grid decoupling in the Lebedev scheme\n",
    "\n",
    "Let us verify that the Lebedev scheme features two independent subgrids in the case of VTI tensors, each of them equivalent to a Virieux scheme."
   ]
  },
  {
   "cell_type": "code",
   "execution_count": 56,
   "id": "d3918661-6709-4552-a3aa-c4054a6ed0e6",
   "metadata": {},
   "outputs": [],
   "source": [
    "# Choose the problem parameters\n",
    "np.random.seed(42)\n",
    "q0_Lebedev = np.random.rand(2,2,Nx,Nx)\n",
    "p0_Lebedev = np.random.rand(2,2,Nx,Nx)\n",
    "\n",
    "def af(q): return fd.as_field(q,shape=X[0].shape)\n",
    "#ρ = af(1)\n",
    "ρ = np.random.rand(Nx,Nx)+0.5\n",
    "\n",
    "# We need C to have a VTI structure\n",
    "#C = af(Hooke.from_Lame(1,1).hooke)\n",
    "C = MakeRandomTensor(3,(Nx,Nx),0.5); C/=np.max(C,axis=(0,1)); C[0,2]=C[1,2]=C[2,0]=C[2,1]=0 # Random VTI elasticity tensors\n",
    "\n",
    "# The Virieux unknowns are extracted from the Lebedev unknowns in a specific staggered manner\n",
    "def extract_a(q): return (q[0][0],q[1][1])\n",
    "q0_Virieux_a = extract_a(q0_Lebedev)\n",
    "p0_Virieux_a = extract_a(p0_Lebedev)\n",
    "def extract_b(q): return np.roll(q[1][0],-1,axis=0),np.roll(q[0][1],-1,axis=1)\n",
    "q0_Virieux_b = extract_b(q0_Lebedev)\n",
    "p0_Virieux_b = extract_b(p0_Lebedev)\n",
    "\n",
    "scheme_Lebedev = Lebedev2(ρ,C,stag)\n",
    "scheme_Virieux_a = Virieux2(ρ,C,stag)\n",
    "\n",
    "# We must carefully shift coefficients of the second Virieux scheme\n",
    "scheme_Virieux_b = copy.copy(scheme_Virieux_a)\n",
    "scheme_Virieux_b.iρ_10 = np.roll(scheme_Virieux_a.iρ_01,-1,axis=0)\n",
    "scheme_Virieux_b.iρ_01 = np.roll(scheme_Virieux_a.iρ_10,-1,axis=1)\n",
    "scheme_Virieux_b.C00_00 = scheme_Lebedev.C_11[0,0]\n",
    "scheme_Virieux_b.C01_00 = scheme_Lebedev.C_11[0,1]\n",
    "scheme_Virieux_b.C11_00 = scheme_Lebedev.C_11[1,1]\n",
    "scheme_Virieux_b.C22_11 = np.roll(scheme_Lebedev.C_00[2,2],(-1,-1),axis=(0,1))\n",
    "\n",
    "q1_Lebedev,p1_Lebedev = scheme_Lebedev.step(q0_Lebedev,p0_Lebedev,dt)\n",
    "q1_Virieux_a,p1_Virieux_a = scheme_Virieux_a.step(q0_Virieux_a,p0_Virieux_a,dt)\n",
    "q1_Virieux_b,p1_Virieux_b = scheme_Virieux_b.step(q0_Virieux_b,p0_Virieux_b,dt)\n",
    "assert np.allclose(q1_Virieux_a,extract_a(q1_Lebedev))\n",
    "assert np.allclose(q1_Virieux_b,extract_b(q1_Lebedev))"
   ]
  },
  {
   "cell_type": "markdown",
   "id": "8516ac8a-5a51-4abc-941b-abc713ed94fc",
   "metadata": {},
   "source": [
    "## 10. Acoustic scheme\n",
    "\n",
    "We introduced a numerical scheme for the acoustic wave equation, based on Selling's decomposition, in a [previous notebook](HighOrderWaves).\n",
    "Let us compare it to a standard non-monotone approach."
   ]
  },
  {
   "cell_type": "markdown",
   "id": "cdc740cc-c5e2-4bd2-9a47-6dc7be294c0b",
   "metadata": {},
   "source": [
    "### 10.1 Centered scheme\n",
    "\n",
    "We implement a basic scheme for the hamiltonian of the acoustic wave equation, using standard finite differences along the coordinate axes.\n",
    "Note that we need to use centered finite differences for the off diagonal terms : a staggered grid would not be usable here, since there is only one field component."
   ]
  },
  {
   "cell_type": "code",
   "execution_count": 57,
   "id": "067a5de7-819d-43c0-a4b1-2249e9dcdf94",
   "metadata": {
    "editable": true,
    "slideshow": {
     "slide_type": ""
    },
    "tags": [
     "ExportCode"
    ]
   },
   "outputs": [],
   "source": [
    "def AcousticCenteredH(ρ,D,X,dx,order_x=2,bc='Periodic'):\n",
    "    padding = {'Periodic':None,'Dirichlet':0}[bc]\n",
    "    vdim = len(D)\n",
    "    def PotentialEnergy(q): # q is stored at grid points\n",
    "        e = np.eye(vdim).astype(int)\n",
    "        dq = fd.DiffCentered(q,e,dx,order_x,padding=padding) # Centered finite differences, periodic b.c\n",
    "        dq2 = np.sum(fd.DiffEll(q,e,dx,order_x,padding=padding)**2,axis=0) # Upwind and downwind finite differences, squared and summed.\n",
    "        diag = sum(D[i,i]*dq2[i] for i in range(vdim)) # Sum of squares for the diagonal\n",
    "        offdiag = sum(2*D[i,j]*dq[i]*dq[j] for i in range(vdim) for j in range(i)) if vdim>=2 else 0\n",
    "        return 0.5*(diag+offdiag)\n",
    "    def KineticEnergy(p):\n",
    "        return 0.5*p**2/ρ\n",
    "    H = QuadraticHamiltonian(PotentialEnergy,KineticEnergy); H.set_spmat(np.zeros_like(X[0])); return H"
   ]
  },
  {
   "cell_type": "markdown",
   "id": "56d2db55-80fa-4185-abc6-af0ab1afdab9",
   "metadata": {},
   "source": [
    "### 10.2 Criss-cross scheme\n",
    "\n",
    "The criss cross-scheme is the closest to a staggered grid scheme in the acoustic setting. \n",
    "The second order variant can be reformulated in terms of diagonal finite differences, hence the name.\n",
    "\n",
    "In comparison with the centered scheme the criss-cross scheme \n",
    "- worse for axis-aligned derivatives, corresponding to diagonal terms in the matrix $D$.\n",
    "- better for cross derivatives, corresponding to off diagonal terms in the matrix $D$.\n",
    "\n",
    "In addition, and similarly to the Lebedev scheme, the criss-cross scheme suffers from grid decoupling when the matrix D is isotropic (or when the anisotropy is along the diagonals)."
   ]
  },
  {
   "cell_type": "code",
   "execution_count": 58,
   "id": "5bd80e19-2ef1-43e5-b042-e1350166bb89",
   "metadata": {
    "editable": true,
    "slideshow": {
     "slide_type": ""
    },
    "tags": [
     "ExportCode"
    ]
   },
   "outputs": [],
   "source": [
    "def AcousticCrissCrossH(ρ,D,X,dx,stag):\n",
    "    dl,dr,al,ar = stag.diff_left,stag.diff_right,stag.avg_left,stag.avg_right\n",
    "    vdim = len(D)\n",
    "    iρ_1d = ar(1/ρ,tuple(range(vdim))) # 1d means At position 1, 11, or 111, in dimension d = 1, 2 or 3\n",
    "    def PotentialEnergy(q_1d): \n",
    "        # Compute a centered gradient using centered averages and differences\n",
    "        dq_0d = ad.array([al(dl(q_1d,i),tuple(range(i))+tuple(range(i+1,vdim))) for i in range(vdim)])\n",
    "        return 0.5 * lp.dot_VAV(dq_0d,D,dq_0d)\n",
    "    def KineticEnergy(p_1d):\n",
    "        return 0.5 * p_1d**2 * iρ_1d\n",
    "    H = QuadraticHamiltonian(PotentialEnergy,KineticEnergy); H.set_spmat(np.zeros_like(X[0])); return H"
   ]
  },
  {
   "cell_type": "markdown",
   "id": "0e650d51-aeda-4334-a5ca-00e84e72187e",
   "metadata": {},
   "source": [
    "### 10.3 Dispersion\n",
    "\n",
    "We compute the numerical dispersion of the previous scheme, and use it to cross validate the implementation.\n",
    "Recall that the dispersion relation in the continuous setting reads \n",
    "\\begin{align*}\n",
    "    -\\ri \\omega w &= v/\\rho &\n",
    "    -\\ri \\omega v &= \\<\\kw,D \\kw\\> w.\n",
    "\\end{align*}\n",
    "where $q = w \\be(\\<\\kw,x\\>-\\omega t)$ and $p = v \\be(\\<\\kw,x\\>-\\omega t)$, for some scalars $v,w$, pulsation $\\omega$, and wavenumber $\\kw$.\n",
    "Recall that $\\be(s) := \\exp(\\ri s)$ denotes the complex exponential, and that the acoustic wave equation reads $\\dot q=p/\\rho$, and $\\dot p = \\mathrm{div}(D \\nabla q)$."
   ]
  },
  {
   "cell_type": "code",
   "execution_count": 59,
   "id": "4587a4d6-1842-4061-ae95-1199bc45a8a0",
   "metadata": {
    "editable": true,
    "slideshow": {
     "slide_type": ""
    },
    "tags": [
     "ExportCode"
    ]
   },
   "outputs": [],
   "source": [
    "def _dispersion_DiffCentered(s,h,order_x):\n",
    "    \"\"\"Fourier transforme of the centered finite difference approximation of first derivative.\"\"\"\n",
    "    sh = s*h\n",
    "    if order_x==2: return np.sin(sh)/h\n",
    "    if order_x==4: return ((4/3)*np.sin(sh)-(1/6)*np.sin(2*sh))/h\n",
    "    if order_x==6: return ((3/2)*np.sin(sh)-(3/10)*np.sin(2*sh)+(1/30)*np.sin(3*sh))/h\n",
    "\n",
    "def _dispersion_Diff2(s,h,order_x): \n",
    "    \"\"\"Fourier transform of finite difference approximation of second derivative.\"\"\"\n",
    "    sh = s*h\n",
    "    if order_x==2: return 4*np.sin(sh/2)**2/h**2\n",
    "    if order_x==4: return (np.cos(2*sh)-16*np.cos(sh)+15)/(6*h**2)\n",
    "    if order_x==6: return (49/18-3*np.cos(sh)+3/10*np.cos(2*sh)-1/45*np.cos(3*sh))/h**2\n",
    "\n",
    "def _dispersion_AcousticT2(ρ,Iω2,dt):\n",
    "    \"\"\"Helper implementing the dispersion for a second order accurate discretization in time of a scalar equation\"\"\"\n",
    "    Iω = np.sqrt(Iω2)\n",
    "    ω = _dispersion_Iinv(Iω,dt)\n",
    "    vq = 1. # Amplitude of position q\n",
    "    vp = -Iω*ρ*vq # Amplitude of impulsion p\n",
    "    return ω,vq,vp\n",
    "\n",
    "def dispersion_AcousticCentered(k,ρ,D,dx,dt,order_x=2):\n",
    "    \"\"\"Dispersion relation for the centered non-monotone finite differences approximation of the acoustic wave equation.\"\"\"\n",
    "    dk  = _dispersion_DiffCentered(k,dx,order_x)\n",
    "    dk2 = _dispersion_Diff2(k,dx,order_x)\n",
    "    vdim=len(k)\n",
    "    diag = sum(D[i,i]*dk2[i] for i in range(vdim)) \n",
    "    offdiag = sum(2*D[i,j]*dk[i]*dk[j] for i in range(vdim) for j in range(i))\n",
    "    Iω2 = (diag+offdiag)/ρ\n",
    "    return _dispersion_AcousticT2(ρ,Iω2,dt)\n",
    "\n",
    "def dispersion_AcousticCrissCross(k,ρ,D,dx,dt,order_x=2):\n",
    "    \"\"\"Dispersion relation for the criss-cross non-monotone finite differences approximation of the acoustic wave equation.\"\"\"\n",
    "    vdim = len(k)\n",
    "    dk = np.array([np.prod([_dispersion_DiffStaggered(k[j],dx,order_x) if i==j else _dispersion_AvgStaggered(k[j],dx,order_x)\n",
    "                        for j in range(vdim)],axis=0) for i in range(vdim)])\n",
    "    Iω2 = lp.dot_VAV(dk,D/ρ,dk)\n",
    "    return _dispersion_AcousticT2(ρ,Iω2,dt)"
   ]
  },
  {
   "cell_type": "markdown",
   "id": "3285c8ef-546c-4343-84ff-99b03706befd",
   "metadata": {},
   "source": [
    "Let us numerically validate the dispersion relation of this scheme.\n",
    "\n",
    "<!---\n",
    "# Domain\n",
    "Nx = 10\n",
    "vdim = 2\n",
    "X,dx = make_domain(Nx,vdim)\n",
    "order_x = 2\n",
    "\n",
    "# Model parameters\n",
    "k = 2*π*np.array((2,1))\n",
    "ρ = 1.5\n",
    "D = Riemann.from_diagonal((1,4**2)).rotate_by(np.pi/6).m\n",
    "#k = 2*π*np.array([1]); D=np.array([[1]])\n",
    "#D = np.eye(2)\n",
    "#D = np.array([[1,0.1],[0.1,1]])\n",
    "\n",
    "# Generate solution and Hamiltonian\n",
    "ω,vq,vp = dispersion_Acoustic(k,ρ,D,dx,dt,order_x)\n",
    "q_exact,p_exact = mk_planewave_e(k,ω,vq,vp)\n",
    "WaveH = AcousticH(ρ,D,X,dx,order_x)\n",
    "\n",
    "# Time discretization\n",
    "dt = 0.1 \n",
    "Nt = 1\n",
    "T = Nt*dt\n",
    "\n",
    "# Run solver\n",
    "q0 = q_exact(dt/2,X); p0 = p_exact(0,X)\n",
    "qf = q_exact(T+dt/2,X); pf = p_exact(T,X)\n",
    "\n",
    "q1,p1 = WaveH.Euler_p(q0,p0,dt)\n",
    "\n",
    "assert np.allclose(q1,qf)\n",
    "\n",
    "\n",
    "ρ = 1\n",
    "D = np.eye(2)\n",
    "#D = np.array([[0,1.],[1.,0]])\n",
    "k = 2*π*np.array([1,1])\n",
    "q0 = np.exp(1j*(k[0]*X[0]+k[1]*X[1]))\n",
    "WaveH = AcousticH(ρ,D,X,dx,order_x)\n",
    "ratio_ = WaveH._DqH(q0)/q0\n",
    "ratio = np.real(ratio_[0,0])\n",
    "assert np.allclose(ratio_,ratio)\n",
    "ratio #,_dispersion_DiffCentered(\n",
    "--->\n",
    "\n",
    "<!---\n",
    "k0 = [1]\n",
    "Nx = 10\n",
    "order_x = 2\n",
    "D = np.array([[1.2]])\n",
    "ρ = 1.\n",
    "k = 2*π*np.array(k0) # Wavenumber must be an integer multiple of 2π for periodicity\n",
    "dt=0.1\n",
    "vdim = len(k)\n",
    "X,dx = make_domain(Nx,vdim)\n",
    "Nt = 1\n",
    "T = Nt*dt\n",
    "print(f\"{vdim=}, {order_x=}. \",end=\"\")\n",
    "\n",
    "ω,vq,vp = dispersion_AcousticCrissCross(k,ρ,D,dx,dt,order_x)\n",
    "q_exact,p_exact = mk_planewave_e(k,ω,vq,vp)\n",
    "def af(x): return fd.as_field(x,X[0].shape)\n",
    "stag = staggered(dx,order_x,'Periodic')\n",
    "WaveH = AcousticCrissCrossH(af(ρ),af(D),X,dx,stag)\n",
    "X_1d = X+dx/2\n",
    "q0 = q_exact(dt/2,  X_1d); p0 = p_exact(0,X_1d)\n",
    "qf = q_exact(T+dt/2,X_1d); pf = p_exact(T,X_1d)\n",
    "q1,p1 = WaveH.Euler_p(q0,p0,dt)\n",
    "assert np.allclose(q1,qf)\n",
    "assert np.allclose(p1,pf)\n",
    "\n",
    "WaveH._DqH(q0)/q0, _dispersion_DiffStaggered(k[0],dx,order_x)**2\n",
    "--->"
   ]
  },
  {
   "cell_type": "code",
   "execution_count": 60,
   "id": "f7c21dec-0e93-4823-b5fc-917ad6fd5158",
   "metadata": {},
   "outputs": [
    {
     "name": "stdout",
     "output_type": "stream",
     "text": [
      "vdim=1, order_x=2. Centered passed. Criss-cross passed.\n",
      "vdim=1, order_x=6. Centered passed. \n",
      "vdim=2, order_x=2. Centered passed. Criss-cross passed.\n",
      "vdim=2, order_x=4. Centered passed. Criss-cross passed.\n",
      "vdim=2, order_x=6. Centered passed. \n",
      "vdim=3, order_x=2. Centered passed. Criss-cross passed.\n"
     ]
    }
   ],
   "source": [
    "D1 = np.array([[1.2]])\n",
    "D2 = Riemann.from_diagonal((1,4**2)).rotate_by(np.pi/6).m\n",
    "#D2 = np.eye(2)\n",
    "D3 = Riemann.from_diagonal((0.6,0.8,1.3)).rotate_by(np.pi/8,(1,2,3)).m\n",
    "\n",
    "for Nx,order_x,k0,ρ,dt,D in [\n",
    "    (13,2,(1,),0.8,0.1,D1),\n",
    "    (13,6,(1,),0.8,0.1,D1),\n",
    "    (12,2,(1,2),1.5,0.05,D2),\n",
    "    (9,4,(1,-2),1.,0.03,D2),\n",
    "    (7,6,(1,1),2.,0.03,D2),\n",
    "    (10,2,(1,2,3),2.,0.02,D3),\n",
    "]:\n",
    "    # Domain parameters\n",
    "    k = 2*π*np.array(k0) # Wavenumber must be an integer multiple of 2π for periodicity\n",
    "    vdim = len(k)\n",
    "    X,dx = make_domain(Nx,vdim)\n",
    "    Nt = 1\n",
    "    T = Nt*dt\n",
    "    print(f\"{vdim=}, {order_x=}. \",end=\"\")\n",
    "\n",
    "    # ----- Centered scheme -----\n",
    "    # Generate solution and Hamiltonian\n",
    "    ω,vq,vp = dispersion_AcousticCentered(k,ρ,D,dx,dt,order_x)\n",
    "    q_exact,p_exact = mk_planewave_e(k,ω,vq,vp)\n",
    "    WaveH = AcousticCenteredH(ρ,D,X,dx,order_x)\n",
    "\n",
    "    # Run propagation and check results\n",
    "    q0 = q_exact(dt/2,X); p0 = p_exact(0,X)\n",
    "    qf = q_exact(T+dt/2,X); pf = p_exact(T,X)\n",
    "    q1,p1 = WaveH.Euler_p(q0,p0,dt)\n",
    "    assert np.allclose(q1,qf)\n",
    "    assert np.allclose(p1,pf)\n",
    "    print(\"Centered passed. \",end=\"\")\n",
    "\n",
    "    if order_x>4: print(); continue\n",
    "    # ----- Criss-cross scheme -----\n",
    "    ω,vq,vp = dispersion_AcousticCrissCross(k,ρ,D,dx,dt,order_x)\n",
    "    q_exact,p_exact = mk_planewave_e(k,ω,vq,vp)\n",
    "    def af(x): return fd.as_field(x,X[0].shape,conditional=False)\n",
    "    stag = staggered(dx,order_x,'Periodic')\n",
    "    WaveH = AcousticCrissCrossH(af(ρ),af(D),X,dx,stag)\n",
    "\n",
    "    # Run propagation and check results\n",
    "    X_1d = X+dx/2\n",
    "    q0 = q_exact(dt/2,  X_1d); p0 = p_exact(0,X_1d)\n",
    "    qf = q_exact(T+dt/2,X_1d); pf = p_exact(T,X_1d)\n",
    "    q1,p1 = WaveH.Euler_p(q0,p0,dt)\n",
    "    assert np.allclose(q1,qf)\n",
    "    assert np.allclose(p1,pf)\n",
    "    print(\"Criss-cross passed.\")"
   ]
  },
  {
   "cell_type": "markdown",
   "id": "61e0dbb5-2b9a-42f4-ab93-a1ffac3834d9",
   "metadata": {},
   "source": [
    "We now compare the dispersion of this standard scheme, with the Selling based scheme introduced in [another notebook](HighOrderWaves.ipynb).\n",
    "Note that the Selling based scheme is originally intended to provide improved stability, since it is a monotone scheme. \n",
    "\n",
    "However, it turns out that it strongly improves dispersion too. One of the key reasons seems to be that it does not rely on cross derivatives. In the example below, the fourth order Selling scheme will apparently do with 2 points per wavelength for anisotropy in a \"generic orientation\", and three points per wavelength for axis-aligned anisotropy (which strangely turns out to be *less* favourable than some more random orientation)."
   ]
  },
  {
   "cell_type": "code",
   "execution_count": 61,
   "id": "de300788-e81d-4971-901c-844f8506a4d4",
   "metadata": {
    "editable": true,
    "slideshow": {
     "slide_type": ""
    },
    "tags": []
   },
   "outputs": [
    {
     "name": "stdout",
     "output_type": "stream",
     "text": [
      "Number of points per wavelength 3.141592653589793\n"
     ]
    }
   ],
   "source": [
    "θ = 0.5 #π/8\n",
    "κ = 3\n",
    "D = Riemann.from_diagonal((1,κ**2)).rotate_by(θ).m; D/=np.max(D)\n",
    "dx = 2\n",
    "dt = 0.1\n",
    "ak = np.linspace(-1.2,1.2)\n",
    "ks = np.array(np.meshgrid(ak,ak,indexing='ij'))\n",
    "ρ = 1\n",
    "ω_exact = np.sqrt(lp.dot_VAV(ks,D[:,:,None,None]/ρ,ks))\n",
    "ω_centered2,_,_ = dispersion_AcousticCentered(ks,ρ,D,dx,dt,2)\n",
    "ω_centered4,_,_ = dispersion_AcousticCentered(ks,ρ,D,dx,dt,4)\n",
    "ω_centered6,_,_ = dispersion_AcousticCentered(ks,ρ,D,dx,dt,6)\n",
    "def af(x):return fd.as_field(x,ks.shape[1:])\n",
    "ω_crisscross2,_,_ = dispersion_AcousticCrissCross(ks,af(ρ),af(D),dx,dt,2)\n",
    "ω_crisscross4,_,_ = dispersion_AcousticCrissCross(ks,af(ρ),af(D),dx,dt,4)\n",
    "\n",
    "ω_selling2,_ = dispersion_a(ks,af(ρ),af(D),dx,dt,2)\n",
    "ω_selling4,_ = dispersion_a(ks,af(ρ),af(D),dx,dt,4)\n",
    "\n",
    "ωmin,ωmax = np.sqrt(np.linalg.eigvalsh(D/ρ)) # Smallest and largest pulsation when |k|=1\n",
    "ωref = ωmin\n",
    "plt.contour(*ks,ω_exact,levels=[ωref],colors='black')\n",
    "plt.contour(*ks,ω_centered2,levels=[ωref],colors='blue')\n",
    "plt.contour(*ks,ω_centered4,levels=[ωref],colors='cyan')\n",
    "plt.contour(*ks,ω_crisscross2,levels=[ωref],colors='green')\n",
    "plt.contour(*ks,ω_crisscross4,levels=[ωref],colors='olive')\n",
    "plt.contour(*ks,ω_selling2,levels=[ωref],colors='red')\n",
    "plt.contour(*ks,ω_selling4,levels=[ωref],colors='orange')\n",
    "\n",
    "plt.axis('equal'); \n",
    "\n",
    "print(f\"Number of points per wavelength {2*π/dx}\")"
   ]
  },
  {
   "cell_type": "markdown",
   "id": "71413900-d3b1-4d48-87b0-6eb84abd2575",
   "metadata": {},
   "source": [
    "## 11. Image and animation exports\n",
    "\n",
    "We reproduce some of the previous figures, with nice parameters, and animations."
   ]
  },
  {
   "cell_type": "code",
   "execution_count": 62,
   "id": "cb05cafd-f284-4324-9ef9-d0865f7e66c2",
   "metadata": {},
   "outputs": [],
   "source": [
    "if savefig.dirName is None: \n",
    "    raise ad.DeliberateNotebookError(\"Main notebook ends here.\")"
   ]
  },
  {
   "cell_type": "code",
   "execution_count": 87,
   "id": "ab9c4072-79da-4f35-a055-0e3ac74738a0",
   "metadata": {},
   "outputs": [],
   "source": [
    "def to_filename(str): \n",
    "    for key,val in (', ','-'),(' ','-'),('κ','kappa'): str = str.replace(key,val)\n",
    "    return str"
   ]
  },
  {
   "cell_type": "markdown",
   "id": "d2d63747-de6b-49ea-a82b-6b6285c10ba1",
   "metadata": {},
   "source": [
    "### 11.1 Acoustic"
   ]
  },
  {
   "cell_type": "code",
   "execution_count": 97,
   "id": "1e78bf6d-9820-4a05-98c7-ed15c1c84849",
   "metadata": {},
   "outputs": [],
   "source": [
    "def frame_acoustic(κ,θ,dx,order_x,ks,title):\n",
    "    plt.clf()\n",
    "    D = Riemann.from_diagonal((κ**-2,1)).rotate_by(θ).m\n",
    "    def af(x):return fd.as_field(x,ks.shape[1:])\n",
    "    ωref = κ**-1; dt = 0.01\n",
    "    ω_exact = np.sqrt(lp.dot_VAV(ks,D[:,:,None,None]/ρ,ks))\n",
    "    ω_centered,_,_ = dispersion_AcousticCentered(ks,ρ,D,dx,dt,order_x)\n",
    "    ω_crisscross,_,_ = dispersion_AcousticCrissCross(ks,af(ρ),af(D),dx,dt,order_x)\n",
    "    ω_selling,_ = dispersion_a(ks,af(ρ),af(D),dx,dt,order_x)\n",
    "    plt.contour(*ks,ω_exact,levels=[ωref],colors='black')\n",
    "    plt.contour(*ks,ω_centered,levels=[ωref],colors='blue')\n",
    "    plt.contour(*ks,ω_crisscross,levels=[ωref],colors='green')\n",
    "    plt.contour(*ks,ω_selling,levels=[ωref],colors='red')\n",
    "    plt.title(title)\n",
    "    plt.legend(loc='lower right',handles=[Patch(color=color,label=label) for color,label in \n",
    "                    (('black','exact'),('blue','centered'),('green','crisscross'),('red','selling'))])\n",
    "def mk_ks(kmax): \n",
    "    ak = np.linspace(-kmax,kmax)\n",
    "    return np.array(np.meshgrid(ak,ak,indexing='ij'))"
   ]
  },
  {
   "cell_type": "code",
   "execution_count": 98,
   "id": "f7197a0d-48ac-46c5-8401-c2cf07d1bc7d",
   "metadata": {},
   "outputs": [],
   "source": [
    "fig = plt.figure(figsize=[6,6]); plt.axis('equal')\n",
    "ppw = 4; κ=3; θ=π/6; order_x=2; kmax = 1.2 # parameters\n",
    "dx = 2*π/ppw; ks = mk_ks(kmax); title = f\"Acoustic dispersions, {κ=}, {order_x=}, {ppw=}\"\n",
    "frame_acoustic(κ,θ,dx,order_x,ks,title)\n",
    "savefig(fig,to_filename(title))"
   ]
  },
  {
   "cell_type": "code",
   "execution_count": 99,
   "id": "764c4010-cebc-4490-8ec4-7d3591abd6ad",
   "metadata": {},
   "outputs": [],
   "source": [
    "fig = plt.figure(figsize=[6,6]); plt.axis('equal')\n",
    "ppw = 4; κ=3; θ=π/6; order_x=4; kmax = 1.2 # parameters\n",
    "dx = 2*π/ppw; ks = mk_ks(kmax); title = f\"Acoustic dispersions, {κ=}, {order_x=}, {ppw=}\"\n",
    "frame_acoustic(κ,θ,dx,order_x,ks,title)\n",
    "savefig(fig,to_filename(title))"
   ]
  },
  {
   "cell_type": "code",
   "execution_count": 107,
   "id": "ebd62dae-fccd-4134-96c4-764110fc3684",
   "metadata": {},
   "outputs": [],
   "source": [
    "fig = plt.figure(figsize=[6,6]); plt.axis('equal')\n",
    "ppw = 4; κ=3; θs=np.linspace(0,π/2,30); order_x=2; kmax = 1.4 # parameters\n",
    "dx = 2*π/ppw; ks = mk_ks(kmax); title = f\"Acoustic dispersions, {κ=}, {order_x=}, {ppw=}\"\n",
    "anim = animation.FuncAnimation(fig, lambda i:frame_acoustic(κ,θs[i],dx,order_x,ks,title), frames=len(θs), repeat=False)\n",
    "anim.save(savefig.dirName+to_filename(title)+'.mp4'); anim "
   ]
  },
  {
   "cell_type": "code",
   "execution_count": 108,
   "id": "93822301-a602-4a2e-a9d8-e661c164dfac",
   "metadata": {},
   "outputs": [],
   "source": [
    "fig = plt.figure(figsize=[6,6]); plt.axis('equal')\n",
    "ppw = 4; κ=3; θs=np.linspace(0,π/2,30); order_x=4; kmax = 1.2 # parameters\n",
    "dx = 2*π/ppw; ks = mk_ks(kmax); title = f\"Acoustic dispersions, {κ=}, {order_x=}, {ppw=}\"\n",
    "anim = animation.FuncAnimation(fig, lambda i:frame_acoustic(κ,θs[i],dx,order_x,ks,title), frames=len(θs), repeat=False)\n",
    "anim.save(savefig.dirName+to_filename(title)+'.mp4'); anim"
   ]
  },
  {
   "cell_type": "markdown",
   "id": "527792ac-97d8-495e-ba8d-9f239e3acf6e",
   "metadata": {},
   "source": [
    "### 11.2 Elastic"
   ]
  },
  {
   "cell_type": "code",
   "execution_count": 102,
   "id": "68d21aa2-abe5-46c9-b9f5-3ab929194418",
   "metadata": {},
   "outputs": [],
   "source": [
    "def frame_elastic(C,θ,dx,order_x,ks,title,mode,ωref):\n",
    "    plt.clf()\n",
    "    C = Hooke(C).rotate_by(θ).hooke    \n",
    "    def af(x):return fd.as_field(x,ks.shape[1:])\n",
    "    ω_exact,_ = Hooke(C).waves(ks,ρ)\n",
    "    ω_Lebedev,_,_  = dispersion_Virieux(ks,ρ,C,dx*np.sqrt(2),dt,order_x=order_x)\n",
    "    ω_Selling_corr,_,_  = dispersion_SellingCorrelated(ks,af(ρ),af(C),dx,dt,order_x=order_x)\n",
    "#    ω_Selling_stag,_,_ = dispersion_SellingStaggered2(ks,ρ,C,dx,dt,order_x=order_x)\n",
    "    plt.contour(*ks,ω_exact[mode],levels=[ωref],colors='black')\n",
    "    plt.contour(*ks,ω_Lebedev[mode],levels=[ωref],colors='blue')\n",
    "    plt.contour(*ks,ω_Selling_corr[mode],levels=[ωref],colors='red')\n",
    "#    plt.contour(*ks,ω_Selling_stag[mode],levels=[ωref],colors='green')\n",
    "    plt.title(title)\n",
    "    plt.legend(loc='lower right',handles=[Patch(color=color,label=label) for color,label in \n",
    "                    (('black','exact'),('blue','Lebedev'),('red','Selling_corr'))]) #,('green','Selling_stag'))])\n",
    "\n",
    "def ωmin_k1(C,ρ,mode):\n",
    "    \"\"\"Minimal pulsation of given mode for a wave number with unit norm\"\"\"\n",
    "    θs = np.linspace(0,π)\n",
    "    ks = np.cos(θs),np.sin(θs)\n",
    "    ω,_ = Hooke(C).waves(ks,ρ)\n",
    "    return np.min(ω[mode])"
   ]
  },
  {
   "cell_type": "code",
   "execution_count": 103,
   "id": "b2abf94c-9557-4836-bdb4-3d0c5f9c60d9",
   "metadata": {},
   "outputs": [],
   "source": [
    "ppw = 4; θ = π/7; order_x=2; kmax = 1.2; mode=1\n",
    "C_name = \"Stishovite\"; C = Hooke.stishovite[0].extract_xz().hooke; dt=1e-3 # parameters\n",
    "dx = 2*π/ppw; ks = mk_ks(kmax); ωref = ωmin_k1(C,ρ,mode); \n",
    "title = f\"{C_name} {['shear','pressure'][mode]} dispersions, {order_x=}, {ppw=}\"\n",
    "fig = plt.figure(figsize=[6,6]); plt.axis('equal')\n",
    "frame_elastic(C,θ,dx,order_x,ks,title,mode,ωref)"
   ]
  },
  {
   "cell_type": "code",
   "execution_count": 104,
   "id": "f14ed178-96e6-4d20-9a1f-d5d1de3da96c",
   "metadata": {},
   "outputs": [],
   "source": [
    "stishovite = Hooke.stishovite[0].extract_xz().hooke\n",
    "mica = Hooke.mica[0].extract_xz().hooke\n",
    "for (ppw,order_x,mode,C_name,C,kmax) in [\n",
    "    (4,2,0,'Stishovite',stishovite,1.4),\n",
    "    (4,2,1,'Stishovite',stishovite,1.4),\n",
    "    (4,4,0,'Stishovite',stishovite,1.2),\n",
    "    (4,4,1,'Stishovite',stishovite,1.2),\n",
    "    (5,2,0,'Mica',mica,1.4),\n",
    "    (5,2,1,'Mica',mica,1.4),\n",
    "    (4,4,0,'Mica',mica,1.2),\n",
    "    (4,4,1,'Mica',mica,1.2),\n",
    "]:\n",
    "    θ = 0.4; dt=1e-3; C = Hooke(C).rotate_by(θ).hooke #0.5\n",
    "    dx = 2*π/ppw; ks = mk_ks(kmax); ωref = ωmin_k1(C,ρ,mode); \n",
    "    title = f\"{C_name} {['shear','pressure'][mode]} dispersions, {order_x=}, {ppw=}\"\n",
    "    fig = plt.figure(figsize=[6,6]); plt.axis('equal')\n",
    "    frame_elastic(C,θ,dx,order_x,ks,title,mode,ωref)\n",
    "    savefig(fig,to_filename(title)+\".png\")\n",
    "    plt.close(fig)"
   ]
  },
  {
   "cell_type": "code",
   "execution_count": 106,
   "id": "44fa28c0-458d-4c11-8dce-d81d46337acc",
   "metadata": {},
   "outputs": [],
   "source": [
    "for (ppw,order_x,mode,C_name,C,kmax) in [\n",
    "    (5,2,0,'Stishovite',stishovite,1.2),\n",
    "    (5,2,1,'Stishovite',stishovite,1.4),\n",
    "    (4,4,0,'Stishovite',stishovite,1.2),\n",
    "    (4,4,1,'Stishovite',stishovite,1.2),\n",
    "    (6,2,0,'Mica',mica,1.4),\n",
    "    (5,2,1,'Mica',mica,1.4),\n",
    "    (5,4,0,'Mica',mica,1.3),\n",
    "    (4,4,1,'Mica',mica,1.2),\n",
    "]:\n",
    "    θs=np.linspace(0,π/2,30); dt=1e-3; #C = Hooke(C).rotate_by(θ).hooke #0.5\n",
    "    dx = 2*π/ppw; ks = mk_ks(kmax); ωref = ωmin_k1(C,ρ,mode); \n",
    "    title = f\"{C_name} {['shear','pressure'][mode]} dispersions, {order_x=}, {ppw=}\"\n",
    "    fig = plt.figure(figsize=[6,6]); plt.axis('equal')\n",
    "    anim = animation.FuncAnimation(fig, lambda i:frame_elastic(C,θs[i],dx,order_x,ks,title,mode,ωref), frames=len(θs), repeat=False)\n",
    "    anim.save(savefig.dirName+to_filename(title)+'.mp4')"
   ]
  },
  {
   "cell_type": "code",
   "execution_count": null,
   "id": "64796eb7-f5e4-4c9a-a1c6-aa54b65f42b8",
   "metadata": {},
   "outputs": [],
   "source": []
  }
 ],
 "metadata": {
  "kernelspec": {
   "display_name": "Python 3 (ipykernel)",
   "language": "python",
   "name": "python3"
  },
  "language_info": {
   "codemirror_mode": {
    "name": "ipython",
    "version": 3
   },
   "file_extension": ".py",
   "mimetype": "text/x-python",
   "name": "python",
   "nbconvert_exporter": "python",
   "pygments_lexer": "ipython3",
   "version": "3.10.8"
  }
 },
 "nbformat": 4,
 "nbformat_minor": 5
}

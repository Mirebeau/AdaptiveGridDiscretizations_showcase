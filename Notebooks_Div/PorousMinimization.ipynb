{
 "cells": [
  {
   "cell_type": "markdown",
   "id": "4e54cf86",
   "metadata": {},
   "source": [
    "# Adaptive PDE discretizations on Cartesian grids\n",
    "## Volume : Divergence form PDEs\n",
    "## Part : Primal-Dual optimization\n",
    "## Chapter : Porous medium diffusion via energy minimization\n",
    "\n",
    "$\n",
    "\\newcommand\\vp{\\varphi}\n",
    "\\newcommand\\bR{\\mathbb{R}}\n",
    "\\newcommand\\bT{\\mathbb{T}}\n",
    "\\newcommand\\bZ{\\mathbb{Z}}\n",
    "\\newcommand\\prox{\\mathrm{prox}}\n",
    "$"
   ]
  },
  {
   "cell_type": "markdown",
   "id": "8c60c5e2",
   "metadata": {},
   "source": [
    "A variationnal formulation of diffusion in a porous medium was presented by Y. Brenier in the MOKA10 days, Fontainebleau, 2024. This notebook contains a proof of concept implementation of this approach.\n",
    "\n",
    "The quadratic model of porous medium diffusion reads \n",
    "\\begin{align*}\n",
    "    \\partial_t u &= \\Delta (u^2/2), &\n",
    "    u(t=0) = u_0.\n",
    "\\end{align*}\n",
    "Y. Brenier considers the minimization of the quadratic norm over all weak solutions of this time dependent PDE. After an integration by parts and an $\\inf$-$\\sup$ interversion, he arrives at the following formulation\n",
    "\\begin{align*}\n",
    "    &\\inf_{\\vp} \\int_{[0,T] \\times \\Omega} \\frac{(\\partial_t \\vp)^2}{2(1-\\Delta\\vp)} + \\int_\\Omega u_0 \\vp(t=0), &\n",
    "    \\vp(t=T) & = 0,\n",
    "\\end{align*}\n",
    "with the constraint $\\Delta \\vp \\leq 1$ implicitly enforced. \n",
    "The minimizer $\\vp$ is related to the solution of porous medium diffusion by the relation\n",
    "\\begin{equation*}\n",
    "    (1-\\Delta \\vp) u = \\partial_t \\vp.\n",
    "\\end{equation*}\n",
    "Denoting $m := \\partial_t \\vp$ and $\\rho := 1-\\Delta\\vp$, the above optimization problem can also be written as\n",
    "\\begin{align*}\n",
    "    &\\inf_{\\rho,m} \\int_{[0,T] \\times \\Omega}\n",
    "    \\frac{m^2}{2\\rho} - u_0 m, &\n",
    "    \\partial_t \\rho + \\Delta m &= 0,& \n",
    "    \\rho(1) &= 1.\n",
    "\\end{align*}\n",
    "\n",
    "**A global variational problem in time.**\n",
    "Time dependent porous medium equation is rephrased, in the formulation above, into a global optimization problem over time and space, which may appear more numerically costly to address. The underlying motivations are that (i) optimization problem solutions come with additional guarantees, (ii) explicit time discretizations would not be usable due to the restrictive time stepping conditions, and (iii) implicit time discretizations also have a high numerical cost.\n",
    "\n",
    "**Temporal rescaling.**\n",
    "If $u$ is a solution to the quadratic model of porous medium diffusion problem over $[0,T]$, then $U(s) := \\lambda u(\\lambda s)$ also is a solution, over the time interval $[0,T/\\lambda]$, such as the following : \n",
    "\n",
    "**Possible extensions.**\n",
    "The implementation presented below is only a proof of concept, which leaves open many questions and has numerous natural extensions. \n",
    "- Other porous medium models non-linearity models, with the simplest one being $\\partial_t u = \\Delta (u^p/p)$.\n",
    "- Anisotropic porous diffusion.\n",
    "- Boundary conditions. (We are presently using periodic boundary conditions on the torus.)\n",
    "- Alternative optimization strategies. (We are presently using a Newton method, and a Chambolle-Pock primal-dual method.)\n",
    "- Higher order schemes. (We currently use a second order scheme in space and time.)"
   ]
  },
  {
   "cell_type": "markdown",
   "id": "65e58ca1-2ba4-4e89-9853-bc536e6d8154",
   "metadata": {},
   "source": [
    "[**Summary**](Summary.ipynb) of volume Divergence form PDEs, this series of notebooks.\n",
    "\n",
    "[**Main summary**](../Summary.ipynb) of the Adaptive Grid Discretizations \n",
    "\tbook of notebooks, including the other volumes.\n",
    "\n",
    "# Table of contents\n",
    "  * [1. Exact solution](#1.-Exact-solution)\n",
    "  * [2. Newton solver in the variable $\\vp$.](#2.-Newton-solver-in-the-variable-$\\vp$.)\n",
    "    * [2.1 One dimensional experiment](#2.1-One-dimensional-experiment)\n",
    "    * [2.2 Two dimensional experiment](#2.2-Two-dimensional-experiment)\n",
    "  * [3. Chambolle Pock primal-dual algorithm in the variables $\\rho$, $m$](#3.-Chambolle-Pock-primal-dual-algorithm-in-the-variables-$\\rho$,-$m$)\n",
    "    * [3.1 Orthogonal projection on the linear constraint](#3.1-Orthogonal-projection-on-the-linear-constraint)\n",
    "    * [3.2 Proximal operator of the perspective function](#3.2-Proximal-operator-of-the-perspective-function)\n",
    "    * [3.3 Chambolle-Pock primal-dual optimization](#3.3-Chambolle-Pock-primal-dual-optimization)\n",
    "    * [3.4 Two dimensions](#3.4-Two-dimensions)\n",
    "  * [4. Running on the GPU](#4.-Running-on-the-GPU)\n",
    "    * [4.1 Kernel for the perspective function](#4.1-Kernel-for-the-perspective-function)\n",
    "    * [4.2 Reproducibility](#4.2-Reproducibility)\n",
    "    * [4.3 Larger test case](#4.3-Larger-test-case)\n",
    "\n",
    "\n",
    "\n",
    "**Acknowledgement.** Some of the experiments presented in these notebooks are part of \n",
    "ongoing research with Ludovic Métivier and Da Chen.\n",
    "\n",
    "Copyright Jean-Marie Mirebeau, Centre Borelli, ENS Paris-Saclay, CNRS, University Paris-Saclay"
   ]
  },
  {
   "cell_type": "markdown",
   "id": "5bf11117",
   "metadata": {},
   "source": [
    "## 0. Importing the required libraries"
   ]
  },
  {
   "cell_type": "code",
   "execution_count": 1,
   "id": "91055157",
   "metadata": {
    "execution": {
     "iopub.execute_input": "2024-06-12T21:24:49.043856Z",
     "iopub.status.busy": "2024-06-12T21:24:49.043451Z",
     "iopub.status.idle": "2024-06-12T21:24:49.054803Z",
     "shell.execute_reply": "2024-06-12T21:24:49.054335Z"
    }
   },
   "outputs": [],
   "source": [
    "import sys; sys.path.insert(0,\"..\") # Allow import of agd from parent directory (useless if pip package is installed)\n",
    "#from Miscellaneous import TocTools; print(TocTools.displayTOC('PorousMinimization','Div'))"
   ]
  },
  {
   "cell_type": "code",
   "execution_count": 2,
   "id": "354a78ad",
   "metadata": {
    "execution": {
     "iopub.execute_input": "2024-06-12T21:24:49.057639Z",
     "iopub.status.busy": "2024-06-12T21:24:49.057440Z",
     "iopub.status.idle": "2024-06-12T21:24:49.367993Z",
     "shell.execute_reply": "2024-06-12T21:24:49.367641Z"
    }
   },
   "outputs": [],
   "source": [
    "from agd import AutomaticDifferentiation as ad\n",
    "from agd import FiniteDifferences as fd\n",
    "from agd.ODE import proximal\n",
    "norminf = ad.Optimization.norm_infinity"
   ]
  },
  {
   "cell_type": "code",
   "execution_count": 3,
   "id": "163ad694",
   "metadata": {
    "execution": {
     "iopub.execute_input": "2024-06-12T21:24:49.369709Z",
     "iopub.status.busy": "2024-06-12T21:24:49.369573Z",
     "iopub.status.idle": "2024-06-12T21:24:49.640082Z",
     "shell.execute_reply": "2024-06-12T21:24:49.639758Z"
    }
   },
   "outputs": [],
   "source": [
    "import numpy as np\n",
    "from matplotlib import pyplot as plt\n",
    "from scipy.sparse.linalg import lsqr as sparse_lsqr\n",
    "from numpy import fft\n",
    "π = np.pi\n",
    "np.set_printoptions(linewidth=2000)"
   ]
  },
  {
   "cell_type": "markdown",
   "id": "6d688d48-df37-410c-b36a-0e8e0041a2af",
   "metadata": {},
   "source": [
    "### 0.1 Additional configuration\n",
    "\n",
    "<!---\n",
    "def asarray(l):\n",
    "    if isinstance(l[0],np.ndarray): return np.asarray(l)\n",
    "    import cupy\n",
    "    return cupy.asarray(l)\n",
    "--->"
   ]
  },
  {
   "cell_type": "code",
   "execution_count": 4,
   "id": "d1d8f09a-cd26-4a0a-bfb2-893d35fef2d0",
   "metadata": {
    "execution": {
     "iopub.execute_input": "2024-06-12T21:24:49.641863Z",
     "iopub.status.busy": "2024-06-12T21:24:49.641718Z",
     "iopub.status.idle": "2024-06-12T21:24:49.643828Z",
     "shell.execute_reply": "2024-06-12T21:24:49.643575Z"
    }
   },
   "outputs": [],
   "source": [
    "try: \n",
    "    import cupy as cp\n",
    "    from cupy import get_array_module\n",
    "except ImportError: \n",
    "    cp = None\n",
    "    get_array_module = lambda _:np"
   ]
  },
  {
   "cell_type": "markdown",
   "id": "204d347d",
   "metadata": {},
   "source": [
    "## 1. Exact solution\n",
    "\n",
    "The quadratic model of porous medium diffusion, in a homogeneous medium and without boundary, admits an exact explicit solution due to Barenblatt, see [wikipedia](https://en.wikipedia.org/wiki/Porous_medium_equation)."
   ]
  },
  {
   "cell_type": "code",
   "execution_count": 5,
   "id": "36b79c6f",
   "metadata": {
    "execution": {
     "iopub.execute_input": "2024-06-12T21:24:49.645130Z",
     "iopub.status.busy": "2024-06-12T21:24:49.645041Z",
     "iopub.status.idle": "2024-06-12T21:24:49.647312Z",
     "shell.execute_reply": "2024-06-12T21:24:49.647077Z"
    }
   },
   "outputs": [],
   "source": [
    "def Barenblatt(t,x,m=2):\n",
    "    d = len(x) # space dimension\n",
    "    β = 1/(d*(m-1)+2)\n",
    "    α = β*d\n",
    "    γ = β*(m-1)/(2*m)\n",
    "    x2 = np.sum(x**2,axis=0)\n",
    "    # The prefactor 2 corresponds to our normalization Δ(u^2/2)\n",
    "    return 2* t**(-α) * np.maximum(0,1-γ * t**(-2*β) * x2)**(1/(m-1))"
   ]
  },
  {
   "cell_type": "markdown",
   "id": "ee5410ba",
   "metadata": {},
   "source": [
    "This solution has compact support at any given time, has a radial symmetry, and is self similar up to rescaling."
   ]
  },
  {
   "cell_type": "code",
   "execution_count": 6,
   "id": "1b67bcb5",
   "metadata": {
    "execution": {
     "iopub.execute_input": "2024-06-12T21:24:49.648659Z",
     "iopub.status.busy": "2024-06-12T21:24:49.648558Z",
     "iopub.status.idle": "2024-06-12T21:24:49.727687Z",
     "shell.execute_reply": "2024-06-12T21:24:49.727422Z"
    }
   },
   "outputs": [
    {
     "data": {
      "image/png": "[encoded data removed]",
      "text/plain": [
       "<Figure size 640x480 with 1 Axes>"
      ]
     },
     "metadata": {},
     "output_type": "display_data"
    }
   ],
   "source": [
    "nX = 100\n",
    "aX,dx = np.linspace(0,1,nX,retstep=True,endpoint=False)\n",
    "aX += dx/2 # Discretization points at the cell centers\n",
    "X = aX[None] # Add one axis to indicate dimension 1\n",
    "\n",
    "plt.title(\"The one-dimensional Barenblatt solution\")\n",
    "for t in (1e-4,1e-3): \n",
    "    plt.plot(aX,Barenblatt(t,X-0.5),label=f\"{t=}\")\n",
    "plt.legend();"
   ]
  },
  {
   "cell_type": "code",
   "execution_count": 7,
   "id": "61db7992",
   "metadata": {
    "execution": {
     "iopub.execute_input": "2024-06-12T21:24:49.729227Z",
     "iopub.status.busy": "2024-06-12T21:24:49.729117Z",
     "iopub.status.idle": "2024-06-12T21:24:49.852140Z",
     "shell.execute_reply": "2024-06-12T21:24:49.851824Z"
    }
   },
   "outputs": [
    {
     "data": {
      "image/png": "[encoded data removed]",
      "text/plain": [
       "<Figure size 640x480 with 2 Axes>"
      ]
     },
     "metadata": {},
     "output_type": "display_data"
    }
   ],
   "source": [
    "nX = 50\n",
    "aX,dx = np.linspace(0,1,nX,retstep=True,endpoint=False)\n",
    "aX += dx/2 # Discretization points at the cell centers\n",
    "X = np.array(np.meshgrid(aX,aX,indexing='ij'))\n",
    "\n",
    "plt.title(\"The two-dimensional Barenblatt profile\")\n",
    "t=1e-4\n",
    "plt.contourf(*X, Barenblatt(t,X-0.5),levels=20)\n",
    "plt.axis('equal'); plt.colorbar();"
   ]
  },
  {
   "cell_type": "markdown",
   "id": "4fea1f43",
   "metadata": {},
   "source": [
    "## 2. Newton solver in the variable $\\vp$.\n",
    "\n",
    "We choose the domain $\\Omega := \\bT^d$, for simplicity, where $\\bT := \\bR/\\bZ$. \n",
    "\n",
    "The solution $\\vp$ is stored at times $0,dt,\\cdots,T-dt$, where $dt = T/n_t$. \n"
   ]
  },
  {
   "cell_type": "code",
   "execution_count": 8,
   "id": "b83a9068",
   "metadata": {
    "execution": {
     "iopub.execute_input": "2024-06-12T21:24:49.853788Z",
     "iopub.status.busy": "2024-06-12T21:24:49.853684Z",
     "iopub.status.idle": "2024-06-12T21:24:49.859853Z",
     "shell.execute_reply": "2024-06-12T21:24:49.859603Z"
    }
   },
   "outputs": [],
   "source": [
    "def Dt_Δ(ϕ,dx,dt):\n",
    "    \"\"\"\n",
    "    Returns approximations of dϕ/dt and Δϕ, computed using upwind and centered finite differences respectively.\n",
    "    The approximations are second order consistent with the values of these functions at time \n",
    "    (k+0.5)dt and k dt respectively, where k is the time step index.\n",
    "    \"\"\"\n",
    "    e = np.eye(ϕ.ndim).astype(int)\n",
    "    et = e[:,0]; ex = e[:,1:] # Time axis is the first one, space axes are the other ones\n",
    "    Dtϕ = fd.DiffUpwind(ϕ,et,dt,padding=0) # Null boundary condition at the final time\n",
    "    Dxxϕ = fd.Diff2(ϕ,ex,dx,padding=None) # Periodic space boundary conditions\n",
    "    Δϕ = Dxxϕ.sum(axis=0)\n",
    "    return Dtϕ,Δϕ\n",
    "    \n",
    "\n",
    "def iΔ_from_Δ(Δϕ,Δϕpos=0.5):\n",
    "    \"\"\"\n",
    "    Returns an approximation of 1/(1-Δϕ), and max(Δϕ).\n",
    "    The approximation is second order consistent with the value at (k + Δϕpos)*dt,\n",
    "    where k is the time step index. If Δϕpos = 0.5, then this matches with the time derivative.\n",
    "    \"\"\"\n",
    "    Δmax = np.max(ad.remove_ad(Δϕ)) if Δϕpos<1 else np.max(ad.remove_ad(Δϕ)[:-1],initial=0)\n",
    "    \n",
    "    iΔϕ0 = 1/(1-Δϕ)\n",
    "    iΔϕ1 = np.roll(iΔϕ0,-1,axis=0).copy()\n",
    "    iΔϕ1[-1] = 1\n",
    "    iΔϕ = iΔϕ0*(1-Δϕpos)+iΔϕ1*Δϕpos\n",
    "    \n",
    "    return iΔϕ,Δmax\n",
    "\n",
    "def u_from_ϕ(ϕ,dx,dt):\n",
    "    \"\"\"Expresses the solution u of the porous diffusion, in terms of ϕ of the optimization\"\"\"\n",
    "    Dtϕ,Δϕ = Dt_Δ(ϕ,dx,dt)\n",
    "    iΔϕ,_ = iΔ_from_Δ(Δϕ)\n",
    "    return Dtϕ * iΔϕ\n",
    "\n",
    "def Energy_ϕ(ϕ,u0,dx,dt,*args):\n",
    "    \"\"\"Energy of the variational formulation of the quadratic porous medium equation, in the variable ϕ\"\"\"\n",
    "    ϕ = ϕ.reshape((-1,*u0.shape))\n",
    "    Dtϕ,Δϕ = Dt_Δ(ϕ,dx,dt)\n",
    "    iΔϕ, Δmax = iΔ_from_Δ(Δϕ,*args)\n",
    "    if Δmax>=1: return np.inf # \n",
    "    \n",
    "    interior = Dtϕ**2 * iΔϕ / 2\n",
    "    boundary = u0*ϕ[0]\n",
    "    ad.simplify_ad(interior) # Optional. Sometimes speeds up the sparse matrix assembly\n",
    "    return dt*np.sum(interior)+np.sum(boundary)"
   ]
  },
  {
   "cell_type": "markdown",
   "id": "6eba8a53",
   "metadata": {},
   "source": [
    "### 2.1 One dimensional experiment"
   ]
  },
  {
   "cell_type": "code",
   "execution_count": 9,
   "id": "245db6e9",
   "metadata": {
    "execution": {
     "iopub.execute_input": "2024-06-12T21:24:49.861218Z",
     "iopub.status.busy": "2024-06-12T21:24:49.861138Z",
     "iopub.status.idle": "2024-06-12T21:24:49.863269Z",
     "shell.execute_reply": "2024-06-12T21:24:49.863030Z"
    }
   },
   "outputs": [],
   "source": [
    "nX = 200; nT = 20\n",
    "#nX = 5; nT=1\n",
    "aX,dx = np.linspace(0,1,nX,retstep=True,endpoint=False)\n",
    "aX+=dx/2\n",
    "X = aX[None]\n",
    "\n",
    "Ti = 1e-4\n",
    "u0 = Barenblatt(Ti,X-0.5)\n",
    "Tf = 1e-3; T = Tf-Ti\n",
    "dt = T/nT"
   ]
  },
  {
   "cell_type": "code",
   "execution_count": 10,
   "id": "d60b3adf",
   "metadata": {
    "execution": {
     "iopub.execute_input": "2024-06-12T21:24:49.864613Z",
     "iopub.status.busy": "2024-06-12T21:24:49.864532Z",
     "iopub.status.idle": "2024-06-12T21:24:51.170848Z",
     "shell.execute_reply": "2024-06-12T21:24:51.170580Z"
    }
   },
   "outputs": [
    {
     "name": "stdout",
     "output_type": "stream",
     "text": [
      "Initialization, objective 0.0\n",
      "Iteration 1, Newton step 0.5, objective -11.014643689455571.\n",
      "Iteration 2, Newton step 0.00048828125, objective -11.110182691945269.\n",
      "Iteration 3, Newton step 0.0009765625, objective -11.218007929030293.\n",
      "Iteration 4, Newton step 0.001953125, objective -11.363863425933838.\n",
      "Iteration 5, Newton step 0.001953125, objective -11.461428493399639.\n",
      "Iteration 6, Newton step 0.00390625, objective -11.60837239697181.\n",
      "Iteration 8, Newton step 0.00390625, objective -11.806837053698871.\n"
     ]
    },
    {
     "name": "stdout",
     "output_type": "stream",
     "text": [
      "Iteration 10, Newton step 0.0078125, objective -12.080206936545691.\n",
      "Iteration 12, Newton step 0.0078125, objective -12.28405620492728.\n",
      "Iteration 14, Newton step 0.015625, objective -12.606074516712697.\n",
      "Iteration 16, Newton step 0.015625, objective -12.864709234496981.\n"
     ]
    },
    {
     "name": "stdout",
     "output_type": "stream",
     "text": [
      "Iteration 20, Newton step 0.03125, objective -13.653436544203693.\n",
      "Iteration 24, Newton step 0.03125, objective -14.22546529802684.\n"
     ]
    },
    {
     "name": "stdout",
     "output_type": "stream",
     "text": [
      "Iteration 28, Newton step 0.0625, objective -15.066475000836272.\n",
      "Iteration 32, Newton step 0.125, objective -15.99256119550941.\n"
     ]
    },
    {
     "name": "stdout",
     "output_type": "stream",
     "text": [
      "Iteration 36, Newton step 0.25, objective -16.695868608666558.\n",
      "Iteration 40, Newton step 0.25, objective -17.218510773069276.\n"
     ]
    },
    {
     "name": "stdout",
     "output_type": "stream",
     "text": [
      "Iteration 44, Newton step 1.0, objective -17.38319910123505.\n",
      "Iteration 48, Newton step 1.0, objective -17.387508880563427.\n",
      "Convergence criterion satisfied, terminating.\n",
      "Iteration 52, Newton step 1.0, objective -17.38750896717683.\n",
      "CPU times: user 1.21 s, sys: 86.8 ms, total: 1.3 s\n",
      "Wall time: 1.3 s\n"
     ]
    }
   ],
   "source": [
    "%%time\n",
    "# Solve the optimization problem in ϕ\n",
    "ϕ0 = np.zeros((nT,nX))\n",
    "ϕ = ad.Optimization.newton_minimize(Energy_ϕ,ϕ0.reshape(-1),(u0,dx,dt),step_min=1e-8,maxiter=60)\n",
    "ϕ = ϕ.reshape(ϕ0.shape)\n",
    "\n",
    "# Reconstruct the solution u\n",
    "u = u_from_ϕ(ϕ,dx,dt)"
   ]
  },
  {
   "cell_type": "markdown",
   "id": "15de9535",
   "metadata": {},
   "source": [
    "The exact and numerical solution agree quite well. \n",
    "The numerical solution has global support, unlike the exact one, but the corresponding values are infinitesimal."
   ]
  },
  {
   "cell_type": "code",
   "execution_count": 11,
   "id": "8bcb2f62",
   "metadata": {
    "execution": {
     "iopub.execute_input": "2024-06-12T21:24:51.172460Z",
     "iopub.status.busy": "2024-06-12T21:24:51.172374Z",
     "iopub.status.idle": "2024-06-12T21:24:51.244355Z",
     "shell.execute_reply": "2024-06-12T21:24:51.244076Z"
    }
   },
   "outputs": [
    {
     "data": {
      "image/png": "[encoded data removed]",
      "text/plain": [
       "<Figure size 640x480 with 1 Axes>"
      ]
     },
     "metadata": {},
     "output_type": "display_data"
    }
   ],
   "source": [
    "iT=0\n",
    "t = Ti+(iT+0.5)*dt # Remember to shift by half a time step.\n",
    "plt.title(f\"Exact profile, and numerical approximation, at time {t=:.5f}\")\n",
    "plt.plot(aX,u[iT],label=\"num\")\n",
    "plt.plot(aX,Barenblatt(t,X-0.5),label=\"exact\")\n",
    "plt.legend();"
   ]
  },
  {
   "cell_type": "code",
   "execution_count": 12,
   "id": "9653ea30",
   "metadata": {
    "execution": {
     "iopub.execute_input": "2024-06-12T21:24:51.245937Z",
     "iopub.status.busy": "2024-06-12T21:24:51.245831Z",
     "iopub.status.idle": "2024-06-12T21:24:51.317604Z",
     "shell.execute_reply": "2024-06-12T21:24:51.317328Z"
    }
   },
   "outputs": [
    {
     "data": {
      "image/png": "[encoded data removed]",
      "text/plain": [
       "<Figure size 640x480 with 1 Axes>"
      ]
     },
     "metadata": {},
     "output_type": "display_data"
    }
   ],
   "source": [
    "iT=nT-1\n",
    "t = Ti+(iT+0.5)*dt\n",
    "plt.title(f\"Exact profile, and numerical approximation, at time {t=:.5f}\")\n",
    "plt.plot(aX,u[iT],label=\"num\")\n",
    "plt.plot(aX,Barenblatt(Ti+(iT+0.5)*dt,X-0.5),label=\"exact\")\n",
    "plt.legend();"
   ]
  },
  {
   "cell_type": "markdown",
   "id": "5bb0f523",
   "metadata": {},
   "source": [
    "### 2.2 Two dimensional experiment"
   ]
  },
  {
   "cell_type": "code",
   "execution_count": 13,
   "id": "ee9fc06c",
   "metadata": {
    "execution": {
     "iopub.execute_input": "2024-06-12T21:24:51.319171Z",
     "iopub.status.busy": "2024-06-12T21:24:51.319067Z",
     "iopub.status.idle": "2024-06-12T21:24:51.321385Z",
     "shell.execute_reply": "2024-06-12T21:24:51.321159Z"
    }
   },
   "outputs": [],
   "source": [
    "nX = 35; nT = 6\n",
    "#nX = 50; nT = 10 # bit longish\n",
    "aX,dx = np.linspace(0,1,nX,retstep=True,endpoint=False)\n",
    "aX+=dx/2\n",
    "X = np.array(np.meshgrid(aX,aX,indexing='ij'))\n",
    "\n",
    "Ti = 2e-5\n",
    "u0 = Barenblatt(Ti,X-0.5)\n",
    "Tf = 2e-4; T = Tf-Ti\n",
    "dt = T/nT"
   ]
  },
  {
   "cell_type": "code",
   "execution_count": 14,
   "id": "3509c906",
   "metadata": {
    "execution": {
     "iopub.execute_input": "2024-06-12T21:24:51.322759Z",
     "iopub.status.busy": "2024-06-12T21:24:51.322665Z",
     "iopub.status.idle": "2024-06-12T21:25:12.185479Z",
     "shell.execute_reply": "2024-06-12T21:25:12.185162Z"
    }
   },
   "outputs": [
    {
     "name": "stdout",
     "output_type": "stream",
     "text": [
      "Initialization, objective 0.0\n",
      "Iteration 1, Newton step 0.25, objective -375.00252143382437.\n"
     ]
    },
    {
     "name": "stdout",
     "output_type": "stream",
     "text": [
      "Iteration 2, Newton step 0.015625, objective -390.29833868581727.\n"
     ]
    },
    {
     "name": "stdout",
     "output_type": "stream",
     "text": [
      "Iteration 3, Newton step 0.03125, objective -411.08550984013954.\n"
     ]
    },
    {
     "name": "stdout",
     "output_type": "stream",
     "text": [
      "Iteration 4, Newton step 0.0625, objective -445.2442065697418.\n"
     ]
    },
    {
     "name": "stdout",
     "output_type": "stream",
     "text": [
      "Iteration 5, Newton step 0.125, objective -501.35118125756804.\n"
     ]
    },
    {
     "name": "stdout",
     "output_type": "stream",
     "text": [
      "Iteration 6, Newton step 0.125, objective -545.710499092698.\n"
     ]
    },
    {
     "name": "stdout",
     "output_type": "stream",
     "text": [
      "Iteration 8, Newton step 0.25, objective -639.5673191194612.\n"
     ]
    },
    {
     "name": "stdout",
     "output_type": "stream",
     "text": [
      "Iteration 10, Newton step 0.25, objective -732.8048550574883.\n"
     ]
    },
    {
     "name": "stdout",
     "output_type": "stream",
     "text": [
      "Iteration 12, Newton step 1.0, objective -781.871964813331.\n"
     ]
    },
    {
     "name": "stdout",
     "output_type": "stream",
     "text": [
      "Iteration 14, Newton step 1.0, objective -788.6039250223354.\n"
     ]
    },
    {
     "name": "stdout",
     "output_type": "stream",
     "text": [
      "Iteration 16, Newton step 1.0, objective -788.6379423429379.\n"
     ]
    },
    {
     "name": "stdout",
     "output_type": "stream",
     "text": [
      "Convergence criterion satisfied, terminating.\n",
      "Iteration 20, Newton step 1.0, objective -788.6380038064068.\n",
      "CPU times: user 15.3 s, sys: 18.2 s, total: 33.5 s\n",
      "Wall time: 20.9 s\n"
     ]
    }
   ],
   "source": [
    "%%time\n",
    "# Solve the optimization problem in ϕ\n",
    "ϕ0 = np.zeros((nT,*u0.shape))\n",
    "ϕ = ad.Optimization.newton_minimize(Energy_ϕ,ϕ0.reshape(-1),(u0,dx,dt),step_min=1e-8)\n",
    "ϕ = ϕ.reshape(ϕ0.shape)\n",
    "\n",
    "# Reconstruct the solution u\n",
    "u = u_from_ϕ(ϕ,dx,dt)"
   ]
  },
  {
   "cell_type": "code",
   "execution_count": 15,
   "id": "093b9a0c",
   "metadata": {
    "execution": {
     "iopub.execute_input": "2024-06-12T21:25:12.187369Z",
     "iopub.status.busy": "2024-06-12T21:25:12.187224Z",
     "iopub.status.idle": "2024-06-12T21:25:12.356235Z",
     "shell.execute_reply": "2024-06-12T21:25:12.355946Z"
    }
   },
   "outputs": [
    {
     "data": {
      "image/png": "[encoded data removed]",
      "text/plain": [
       "<Figure size 1200x500 with 4 Axes>"
      ]
     },
     "metadata": {},
     "output_type": "display_data"
    }
   ],
   "source": [
    "iT=nT-1\n",
    "t = Ti+(iT+0.5)*dt\n",
    "plt.figure(figsize=[12,5])\n",
    "plt.subplot(1,2,1); plt.title(\"Numerical solution\")\n",
    "plt.contourf(*X,u[iT])\n",
    "plt.axis('equal'); plt.colorbar();\n",
    "plt.subplot(1,2,2); plt.title(\"Exact solution\")\n",
    "plt.contourf(*X,Barenblatt(t,X-0.5))\n",
    "plt.axis('equal'); plt.colorbar();"
   ]
  },
  {
   "cell_type": "markdown",
   "id": "8986452d",
   "metadata": {},
   "source": [
    "## 3. Chambolle Pock primal-dual algorithm in the variables $\\rho$, $m$\n",
    "\n",
    "The objective is to solve :\n",
    "\\begin{align*}\n",
    "    &\\inf_{\\rho,m} \\int_{[0,T] \\times \\Omega}\n",
    "    \\frac{m^2}{2\\rho} - u_0 m, &\n",
    "    \\partial_t \\rho + \\Delta m &= 0,& \n",
    "    \\rho(T) &= 1.\n",
    "\\end{align*}\n",
    "\n",
    "The unknowns of this formulation are related to the previous one by \n",
    "\\begin{align*}\n",
    "    m &= \\partial_t \\vp, &\n",
    "    \\rho &= 1 - \\Delta \\vp.\n",
    "\\end{align*}\n",
    "\n",
    "\n",
    "**Numerical implementation** \n",
    "Consistently with the previous formulation, the variable $m$ is stored at the times $dt/2,3dt/2,...$, and the variable $\\rho$ at the times $0,dt,2dt,...$.\n",
    "\n",
    "In order to ease the implementation, we extend $\\rho$ by symmetry, and $m$ by anti-symmetry, in the *time variable*, so as to make them $2T$ periodic. This has the following advantages : \n",
    "- Simpler implementation of Fourier transforms, in time (and space).\n",
    "- Simpler implementation of the proximal operator of the perspective function, thanks to decoupling. \n",
    "\n",
    "The discretization presented in this section is *exactly equivalent* to the previous one. However, we shall use different numerical solvers. "
   ]
  },
  {
   "cell_type": "code",
   "execution_count": 16,
   "id": "8de137a8",
   "metadata": {
    "execution": {
     "iopub.execute_input": "2024-06-12T21:25:12.357898Z",
     "iopub.status.busy": "2024-06-12T21:25:12.357789Z",
     "iopub.status.idle": "2024-06-12T21:25:12.361006Z",
     "shell.execute_reply": "2024-06-12T21:25:12.360745Z"
    }
   },
   "outputs": [],
   "source": [
    "def ρm_from_ϕ(ϕ,dx,dt):\n",
    "    \"\"\"Construct ρ and m from ϕ, including the periodic extension.\"\"\"\n",
    "    Dtϕ,Δϕ = Dt_Δ(ϕ,dx,dt) # Finite difference scheme\n",
    "    xp = get_array_module(ϕ)\n",
    "    m = xp.concatenate([Dtϕ,-Dtϕ[::-1]],axis=0) # Anti-symmetric extension\n",
    "    ρ = xp.concatenate([1-Δϕ,np.ones_like(ϕ[:1]),1-Δϕ[1:][::-1]],axis=0) # Symmetric extension\n",
    "    return ρ,m\n",
    "\n",
    "def Energy_ρm(ρ,m,u0):\n",
    "    \"\"\"int m^2/(2ρ) - u0m. Assumes the constraints are satisfied.\"\"\"\n",
    "    nT=len(m)//2\n",
    "    return np.sum(m**2/(2*ρ))-np.sum(u0*(-m[nT:]+m[:nT]))\n",
    "\n",
    "def u_from_ρm(ρ,m):\n",
    "    \"\"\"Reconstruct the solution u from ρ and m\"\"\"\n",
    "    nT=len(ρ)//2\n",
    "    iρ = 1/ρ+1/np.roll(ρ,-1,axis=0)\n",
    "    return (m[:nT]-m[nT:][::-1])*(iρ[:nT]+iρ[nT:][::-1])/8"
   ]
  },
  {
   "cell_type": "code",
   "execution_count": 17,
   "id": "9780b20b",
   "metadata": {
    "execution": {
     "iopub.execute_input": "2024-06-12T21:25:12.362384Z",
     "iopub.status.busy": "2024-06-12T21:25:12.362304Z",
     "iopub.status.idle": "2024-06-12T21:25:12.371343Z",
     "shell.execute_reply": "2024-06-12T21:25:12.371057Z"
    }
   },
   "outputs": [],
   "source": [
    "ρ,m = ρm_from_ϕ(ϕ,dx,dt) # Check that the energy is correctly reproduced\n",
    "assert np.allclose(Energy_φ(ϕ,u0,dx,dt),(dt/2)*Energy_ρm(ρ,m,u0))\n",
    "assert np.allclose(u_from_ρm(ρ,m),u_from_ϕ(ϕ,dx,dt))"
   ]
  },
  {
   "cell_type": "markdown",
   "id": "67ed34fa",
   "metadata": {},
   "source": [
    "### 3.1 Orthogonal projection on the linear constraint \n",
    "\n",
    "The unknowns obey the linear constraints\n",
    "\\begin{align*}\n",
    "    \\partial_t \\rho + \\Delta m &= 0,& \n",
    "    \\rho(t) &= \\rho(2T-t), &\n",
    "    m(t) &= -m(2T-t).\n",
    "\\end{align*}\n",
    "In order to implement the primal dual method, we need to orthogonally project onto the set of unknowns obeying these constraints. Note that the constraint $\\rho(t) = \\rho(2T-t)$ is redundant with the others, hence it can be removed."
   ]
  },
  {
   "cell_type": "code",
   "execution_count": 18,
   "id": "cf83968d",
   "metadata": {
    "execution": {
     "iopub.execute_input": "2024-06-12T21:25:12.372802Z",
     "iopub.status.busy": "2024-06-12T21:25:12.372714Z",
     "iopub.status.idle": "2024-06-12T21:25:12.375315Z",
     "shell.execute_reply": "2024-06-12T21:25:12.375075Z"
    }
   },
   "outputs": [],
   "source": [
    "def cstr_ρm(ρ,m,dx,dt):\n",
    "    \"\"\"The residues of the linear constraints Dtρ + Δm = 0 and  m(t) = -m(2T-t)\"\"\"\n",
    "    e = np.eye(ρ.ndim).astype(int)\n",
    "    et = e[:,0]; ex = e[:,1:] # Time axis is the first one, space axes are the other ones\n",
    "    Dtρ = fd.DiffUpwind(ρ,et,dt,padding=None) # Now using *periodic* time boundary conditions\n",
    "    Dxxm = fd.Diff2(m,ex,dx,padding=None) # Periodic space boundary conditions\n",
    "    Δm = Dxxm.sum(axis=0)\n",
    "    nT = len(m)//2\n",
    "    return dt*(Dtρ+Δm), m[:nT]+m[nT:][::-1] # dt introduced for normalization"
   ]
  },
  {
   "cell_type": "markdown",
   "id": "f9685b6f",
   "metadata": {},
   "source": [
    "The variables derived from the numerical solution of the previous formulation obey the constraints."
   ]
  },
  {
   "cell_type": "code",
   "execution_count": 19,
   "id": "b95ac921",
   "metadata": {
    "execution": {
     "iopub.execute_input": "2024-06-12T21:25:12.376634Z",
     "iopub.status.busy": "2024-06-12T21:25:12.376550Z",
     "iopub.status.idle": "2024-06-12T21:25:12.382057Z",
     "shell.execute_reply": "2024-06-12T21:25:12.381799Z"
    }
   },
   "outputs": [],
   "source": [
    "cstr_cont,cstr_sym = cstr_ρm(ρ,m,dx,dt)\n",
    "assert np.allclose(cstr_cont,0)\n",
    "assert np.allclose(cstr_sym,0)"
   ]
  },
  {
   "cell_type": "markdown",
   "id": "8d158c93",
   "metadata": {},
   "source": [
    "In order to check our results, we first use a linear solver to compute the projection.\n",
    "This is much less efficient than a Fourier transform, but it is also less tricky to implement, and completely independent."
   ]
  },
  {
   "cell_type": "code",
   "execution_count": 20,
   "id": "8f05709a",
   "metadata": {
    "execution": {
     "iopub.execute_input": "2024-06-12T21:25:12.383566Z",
     "iopub.status.busy": "2024-06-12T21:25:12.383485Z",
     "iopub.status.idle": "2024-06-12T21:25:12.385972Z",
     "shell.execute_reply": "2024-06-12T21:25:12.385754Z"
    }
   },
   "outputs": [],
   "source": [
    "def make_proj_ρm(ρ,m,dx,dt):\n",
    "    ρ_ad,m_ad = ad.Sparse.register((ρ,m))\n",
    "    cstr_ad = cstr_ρm(ρ_ad,m_ad,dx,dt)\n",
    "    A = np.concatenate(cstr_ad,axis=0).tangent_operator()\n",
    "    def proj(ρ,m):\n",
    "        y0 = np.concatenate((ρ,m),axis=0)\n",
    "        sol = sparse_lsqr(A,-A*y0.reshape(-1))\n",
    "        y = sol[0].reshape(y0.shape) + y0\n",
    "        return y[:len(y)//2],y[len(y)//2:]\n",
    "    return proj"
   ]
  },
  {
   "cell_type": "code",
   "execution_count": 21,
   "id": "61a7063c",
   "metadata": {
    "execution": {
     "iopub.execute_input": "2024-06-12T21:25:12.387321Z",
     "iopub.status.busy": "2024-06-12T21:25:12.387244Z",
     "iopub.status.idle": "2024-06-12T21:25:12.422873Z",
     "shell.execute_reply": "2024-06-12T21:25:12.422595Z"
    }
   },
   "outputs": [
    {
     "name": "stdout",
     "output_type": "stream",
     "text": [
      "Initial error. Continuity equation : 1.0691671350433674, Symmetry 0.9925016477866847\n",
      "After projection. Continuity equation : 1.0186062044757023e-05, Symmetry 3.3352185788149136e-06\n"
     ]
    }
   ],
   "source": [
    "np.random.seed(42)\n",
    "ρ_rnd,m_rnd = [np.random.rand(*e.shape)-0.5 for e in (ρ,m)]\n",
    "proj = make_proj_ρm(ρ,m,dx,dt)\n",
    "ρ_proj,m_proj = proj(ρ_rnd,m_rnd)\n",
    "\n",
    "# Note : we may need to scale the constraints for better results\n",
    "cstr_cont,cstr_sym = cstr_ρm(ρ_rnd,m_rnd,dx,dt)\n",
    "print(f\"Initial error. Continuity equation : {norminf(cstr_cont)}, Symmetry {norminf(cstr_sym)}\")\n",
    "cstr_cont,cstr_sym = cstr_ρm(ρ_proj,m_proj,dx,dt)\n",
    "print(f\"After projection. Continuity equation : {norminf(cstr_cont)}, Symmetry {norminf(cstr_sym)}\")"
   ]
  },
  {
   "cell_type": "markdown",
   "id": "0fba0413",
   "metadata": {},
   "source": [
    "Now the Fourier implementation of the projection."
   ]
  },
  {
   "cell_type": "code",
   "execution_count": 22,
   "id": "427c688b",
   "metadata": {
    "execution": {
     "iopub.execute_input": "2024-06-12T21:25:12.424495Z",
     "iopub.status.busy": "2024-06-12T21:25:12.424398Z",
     "iopub.status.idle": "2024-06-12T21:25:12.429228Z",
     "shell.execute_reply": "2024-06-12T21:25:12.428995Z"
    }
   },
   "outputs": [],
   "source": [
    "def Fourier_proj_ρm(ρ,m,dx,dt,verb=1):\n",
    "    # Built the coordinate axes in Fourier space, ranging from 0 to 1.\n",
    "    ξ = [np.arange(n,like=ρ,dtype=ρ.dtype).reshape( (1,)*i + (-1,) + (1,)*(ρ.ndim-1-i) )/n for (i,n) in enumerate(ρ.shape)]\n",
    "    ξT = ξ[0]\n",
    "    ξX = ξ[1:]\n",
    "    \n",
    "    nT = len(ρ)//2\n",
    "    Ftρ = fft.fft(ρ,axis=0) # Fourier wrt time variable\n",
    "    Ftm = fft.fft(m,axis=0)*np.exp(-1j*ξT*π) # Take half period time shift into account\n",
    "    if verb>0: print(\"Should be zero if ρ is already symmetric : \", norminf(Ftρ.imag)) \n",
    "    if verb>0: print(\"Should be zero if m is already anti-symmetric : \",norminf(Ftm.real))\n",
    "    \n",
    "    Ftρ = Ftρ.real # Project onto symmetric functions \n",
    "    Ftm = Ftm.imag # * 1j # Project onto antisymmetric functions, omitting 1j\n",
    "\n",
    "    space_axes = tuple(range(1,m.ndim)) # Fourier w.r.t space variable\n",
    "    Fρ = fft.fftn(Ftρ,axes=space_axes)\n",
    "    Fm = fft.fftn(Ftm,axes=space_axes)\n",
    "\n",
    "    # Fourier transforms of the finite difference operators\n",
    "    FDt = 2*np.sin(π*ξT)/dt # * 1j # Time finite difference, omitting 1j\n",
    "    FDxx = [2*(np.cos(2*π*ξ)-1) / dx**2 for ξ in ξX]\n",
    "    FΔ = sum(FDxx)\n",
    "    Fsum = FDt*Fρ + FΔ*Fm\n",
    "    if verb>0: print(\"Should be zero if Dtρ+Δm = 0 is already satisfied : \",norminf(Fsum)) # \n",
    "    F2 = FDt**2+FΔ**2\n",
    "    F2[(0,)*ρ.ndim]=1\n",
    "    Fsum/=F2\n",
    "    \n",
    "    Fρ -= Fsum*FDt\n",
    "    Fm -= Fsum*FΔ\n",
    "    \n",
    "    ρ_new = fft.ifftn(Fρ)\n",
    "    m_new = fft.ifftn(Fm * 1j * np.exp(1j*ξT*π) )\n",
    "    if verb>0: print(\"Should be zero if ρ and m already satisfy the constraints :\",norminf(ρ_new-ρ),\",\",norminf(m_new-m))\n",
    "    if verb>0: print(\"Should be zero for real variables :\",norminf(ρ_new.imag),\",\",norminf(m_new.imag))\n",
    "    \n",
    "    return ρ_new.real,m_new.real"
   ]
  },
  {
   "cell_type": "code",
   "execution_count": 23,
   "id": "afc8477e",
   "metadata": {
    "execution": {
     "iopub.execute_input": "2024-06-12T21:25:12.430587Z",
     "iopub.status.busy": "2024-06-12T21:25:12.430510Z",
     "iopub.status.idle": "2024-06-12T21:25:12.435523Z",
     "shell.execute_reply": "2024-06-12T21:25:12.435270Z"
    }
   },
   "outputs": [
    {
     "name": "stdout",
     "output_type": "stream",
     "text": [
      "Should be zero if ρ is already symmetric :  1.239037099348071e-16\n",
      "Should be zero if m is already anti-symmetric :  3.3171476277570265e-13\n",
      "Should be zero if Dtρ+Δm = 0 is already satisfied :  9.961454485732623e-08\n",
      "Should be zero if ρ and m already satisfy the constraints : 2.0208800159030324e-14 , 1.7078530854198776e-13\n",
      "Should be zero for real variables : 1.1086054133898862e-14 , 9.046559891949336e-14\n"
     ]
    }
   ],
   "source": [
    "Fourier_proj_ρm(ρ,m,dx,dt);"
   ]
  },
  {
   "cell_type": "code",
   "execution_count": 24,
   "id": "8fc1ece8",
   "metadata": {
    "execution": {
     "iopub.execute_input": "2024-06-12T21:25:12.436904Z",
     "iopub.status.busy": "2024-06-12T21:25:12.436820Z",
     "iopub.status.idle": "2024-06-12T21:25:12.441230Z",
     "shell.execute_reply": "2024-06-12T21:25:12.440997Z"
    }
   },
   "outputs": [
    {
     "name": "stdout",
     "output_type": "stream",
     "text": [
      "Should be zero if ρ is already symmetric :  2.496353763931597\n",
      "Should be zero if m is already anti-symmetric :  3.465175535843146\n",
      "Should be zero if Dtρ+Δm = 0 is already satisfied :  5707186.727367198\n",
      "Should be zero if ρ and m already satisfy the constraints : 0.7169262069159161 , 0.5649541436927441\n",
      "Should be zero for real variables : 1.0820433571681338e-16 , 2.375204410083769e-16\n"
     ]
    }
   ],
   "source": [
    "ρ_Fproj,m_Fproj = Fourier_proj_ρm(ρ_rnd,m_rnd,dx,dt);"
   ]
  },
  {
   "cell_type": "markdown",
   "id": "db4ef3b3",
   "metadata": {},
   "source": [
    "We get a few percent difference for the projections, possibly because the least squares approach is not very accurate (involves a $10^{-6}$ tolerance), and we use a rather small time step dt."
   ]
  },
  {
   "cell_type": "code",
   "execution_count": 25,
   "id": "08207bf2",
   "metadata": {
    "execution": {
     "iopub.execute_input": "2024-06-12T21:25:12.442670Z",
     "iopub.status.busy": "2024-06-12T21:25:12.442590Z",
     "iopub.status.idle": "2024-06-12T21:25:12.444713Z",
     "shell.execute_reply": "2024-06-12T21:25:12.444470Z"
    }
   },
   "outputs": [
    {
     "name": "stdout",
     "output_type": "stream",
     "text": [
      "Relative max difference of projections  4.252656594050717e-05 1.2532202519532199e-05\n"
     ]
    }
   ],
   "source": [
    "print(\"Relative max difference of projections \",norminf(ρ_Fproj - ρ_proj)/norminf(ρ_proj), norminf(m_Fproj-m_proj)/norminf(m_proj))"
   ]
  },
  {
   "cell_type": "code",
   "execution_count": 26,
   "id": "ec3d9628",
   "metadata": {
    "execution": {
     "iopub.execute_input": "2024-06-12T21:25:12.446037Z",
     "iopub.status.busy": "2024-06-12T21:25:12.445959Z",
     "iopub.status.idle": "2024-06-12T21:25:12.451010Z",
     "shell.execute_reply": "2024-06-12T21:25:12.450780Z"
    }
   },
   "outputs": [
    {
     "name": "stdout",
     "output_type": "stream",
     "text": [
      "After projection. Continuity equation : 1.77351466845721e-16, Symmetry 3.3306690738754696e-16\n"
     ]
    }
   ],
   "source": [
    "cstr_cont,cstr_sym = cstr_ρm(ρ_Fproj,m_Fproj,dx,dt)\n",
    "print(f\"After projection. Continuity equation : {norminf(cstr_cont)}, Symmetry {norminf(cstr_sym)}\")"
   ]
  },
  {
   "cell_type": "code",
   "execution_count": 27,
   "id": "ab4371e6",
   "metadata": {
    "execution": {
     "iopub.execute_input": "2024-06-12T21:25:12.452375Z",
     "iopub.status.busy": "2024-06-12T21:25:12.452301Z",
     "iopub.status.idle": "2024-06-12T21:25:12.454415Z",
     "shell.execute_reply": "2024-06-12T21:25:12.454157Z"
    }
   },
   "outputs": [
    {
     "name": "stdout",
     "output_type": "stream",
     "text": [
      "Checking orthogonality of projection : 1.2290168882600483e-13\n"
     ]
    }
   ],
   "source": [
    "print(\"Checking orthogonality of projection :\", np.sum(ρ_Fproj * (ρ_rnd-ρ_Fproj) ) + np.sum(m_Fproj * (m_rnd-m_Fproj) ))"
   ]
  },
  {
   "cell_type": "markdown",
   "id": "0c278d32",
   "metadata": {},
   "source": [
    "### 3.2 Proximal operator of the perspective function\n",
    "\n",
    "\n",
    "The perspective function is defined as \n",
    "$$\n",
    "    g(\\eta,y) := \\frac{\\|y\\|^2}{2 \\eta}\n",
    "$$\n",
    "According to Example 3.8 in the reference below, one has \n",
    "\\begin{align*}\n",
    "    \\prox_{\\tau g}(\\eta,y) &= (0,0), &\n",
    "    \\text{if } \\tau \\eta+\\|y\\|^2/2 &\\leq 0,\n",
    "\\end{align*}\n",
    "and otherwise\n",
    "\\begin{align*}\n",
    "    \\prox_{\\tau g}(\\eta,y) &= \\Big(\\eta+\\frac{\\tau s^2} 2, \\big(1-\\frac{\\tau s}{\\|y\\|}\\big) y\\Big), &\n",
    "    \\text{where } 0 &= P(s):=\\tau s^3 + 2(\\eta+\\tau) s-2\\|y\\|.\n",
    "\\end{align*}\n",
    "The discriminant of $P$ is negative for all $\\tau>0$, $\\eta\\geq 0$ and $(\\eta,y)\\neq (0,0)$, hence it has a single real root. Since $P(0)\\leq 0$, this root is non-negative. Since $P''(0)=0$, the polynomial $P$ is convex over $[0,\\infty[$. A Newton method initialized above the root will converge without damping.\n",
    "\n",
    "Combettes, P. L. & Müller, C. L. Perspective functions: Proximal calculus and applications in high-dimensional statistics. Journal of Mathematical Analysis and Applications 457, 1283–1306 (2018).\n",
    "\n",
    "<!---\n",
    "η=xtest[0]; y=xtest[1:]; Ny=np.linalg.norm(y,axis=0)\n",
    "to_origin = τ*η+Ny**2/2<=0\n",
    "xtest2 = xtest[:,~to_origin]\n",
    "xtest3 = xtest2[:,3496]\n",
    "print(xtest2.shape)\n",
    "prox_perspective(1,xtest,200)\n",
    "--->"
   ]
  },
  {
   "cell_type": "code",
   "execution_count": 28,
   "id": "901000e0",
   "metadata": {
    "execution": {
     "iopub.execute_input": "2024-06-12T21:25:12.455834Z",
     "iopub.status.busy": "2024-06-12T21:25:12.455754Z",
     "iopub.status.idle": "2024-06-12T21:25:12.459649Z",
     "shell.execute_reply": "2024-06-12T21:25:12.459416Z"
    }
   },
   "outputs": [],
   "source": [
    "def perspective(x):\n",
    "    η = x[0]; y = x[1:]; Ny2 = np.sum(y**2,axis=0)\n",
    "    return np.where(η<=0,np.where(Ny2==0,0,np.inf),Ny2/(2*η))\n",
    "\n",
    "def prox_perspective(τ,x,niter=12,verb=1,cupy_kernel=True):\n",
    "    xp = get_array_module(x)\n",
    "    if xp is not np and cupy_kernel: return prox_perspective_cupy(τ,x,niter) # GPU kernel\n",
    "    η = x[0]; y = x[1:]\n",
    "    Ny=np.linalg.norm(y,axis=0)\n",
    "    to_origin = τ*η+Ny**2/2<=0 # Wether prox is attained at the origin\n",
    "    s = np.maximum( (2*Ny/τ)**(1/3), np.maximum(0,-2*(η+τ)/τ)**(1/2) ) # Over estimate the root\n",
    "    for i in range(niter): # Fixed number of Newton iterations, without damping\n",
    "        s -= (τ*s**3 + 2*(η+τ)*s - 2*Ny)/(3*τ*s**2+2*(η+τ)) \n",
    "    sol = xp.concatenate(((η+τ*s**2/2)[None],np.where(Ny==0,0,1-τ*s/Ny)*y),axis=0)\n",
    "    residue = np.where(to_origin,0,τ*s**3 + 2*(η+τ)*s - 2*Ny)\n",
    "    if verb>=0 and norminf(residue)>1e-4:\n",
    "        print(\"Should be zero if Newton perspective converged :\",norminf(residue),\"at\",np.argmax(np.abs(residue))) \n",
    "    return np.where(to_origin,np.zeros_like(x),sol)"
   ]
  },
  {
   "cell_type": "markdown",
   "id": "5b280639",
   "metadata": {},
   "source": [
    "Let us check this implementation using automatic differentiation"
   ]
  },
  {
   "cell_type": "code",
   "execution_count": 29,
   "id": "8d980fb9",
   "metadata": {
    "execution": {
     "iopub.execute_input": "2024-06-12T21:25:12.461062Z",
     "iopub.status.busy": "2024-06-12T21:25:12.460974Z",
     "iopub.status.idle": "2024-06-12T21:25:12.465373Z",
     "shell.execute_reply": "2024-06-12T21:25:12.465138Z"
    }
   },
   "outputs": [
    {
     "name": "stdout",
     "output_type": "stream",
     "text": [
      "Should be zero : 2.098321516541546e-14\n"
     ]
    },
    {
     "name": "stderr",
     "output_type": "stream",
     "text": [
      "/Users/jean-mariemirebeau/Dropbox/Programmes/GithubM1/AdaptiveGridDiscretizations/agd/AutomaticDifferentiation/Dense.py:75: RuntimeWarning: invalid value encountered in divide\n",
      "  return self.new(self.value/other.value,\n",
      "/Users/jean-mariemirebeau/Dropbox/Programmes/GithubM1/AdaptiveGridDiscretizations/agd/AutomaticDifferentiation/Dense.py:76: RuntimeWarning: divide by zero encountered in divide\n",
      "  _add_coef(_add_dim(1/other.value)*self.coef,\n",
      "/Users/jean-mariemirebeau/Dropbox/Programmes/GithubM1/AdaptiveGridDiscretizations/agd/AutomaticDifferentiation/Dense.py:76: RuntimeWarning: invalid value encountered in multiply\n",
      "  _add_coef(_add_dim(1/other.value)*self.coef,\n",
      "/Users/jean-mariemirebeau/Dropbox/Programmes/GithubM1/AdaptiveGridDiscretizations/agd/AutomaticDifferentiation/Dense.py:77: RuntimeWarning: invalid value encountered in divide\n",
      "  _add_dim(-self.value/other.value**2)*other.coef))\n"
     ]
    }
   ],
   "source": [
    "np.random.seed(42)\n",
    "x0 = np.random.rand(2,1000)-0.5\n",
    "τ = 0.5\n",
    "x = prox_perspective(τ,x0)\n",
    "x_ad = ad.Dense.identity(constant=x,shape_free=(2,))\n",
    "δx = perspective(x_ad).gradient()\n",
    "pos = x[0]>0\n",
    "print(\"Should be zero :\", norminf((x-x0+τ*δx)[:,pos]))"
   ]
  },
  {
   "cell_type": "markdown",
   "id": "26cdcbae",
   "metadata": {},
   "source": [
    "We now need to implement the proximal operator of the function\n",
    "\\begin{align*}\n",
    "&\\int_{[0,T] \\times \\Omega}\n",
    "    \\frac{m^2}{2\\rho} - u_0 m, &\n",
    "    \\text{subject to the constraint }\\rho(T)&=1.\n",
    "\\end{align*}"
   ]
  },
  {
   "cell_type": "code",
   "execution_count": 30,
   "id": "7a620e26",
   "metadata": {
    "execution": {
     "iopub.execute_input": "2024-06-12T21:25:12.466757Z",
     "iopub.status.busy": "2024-06-12T21:25:12.466679Z",
     "iopub.status.idle": "2024-06-12T21:25:12.469283Z",
     "shell.execute_reply": "2024-06-12T21:25:12.469048Z"
    }
   },
   "outputs": [],
   "source": [
    "def prox_obj(τ,ρ0,m0,u0):\n",
    "    \"\"\"Proximal operator of the objective function m^2/(2ρ)-u0 m, with constraint ρ(T)=1.\"\"\"\n",
    "    nT = len(ρ0)//2\n",
    "    ϵ = np.zeros_like(u0,shape=(2*nT,*(1,)*(ρ0.ndim-1)))\n",
    "    ϵ[:nT] = 1; ϵ[nT:] = -1 # Signs corresponding to the anti-symmetric extension of m\n",
    "    xp = get_array_module(u0)\n",
    "    x0 = xp.asarray([ρ0,m0+τ*ϵ*u0]) \n",
    "    x = prox_perspective(τ,x0)\n",
    "    ρ = x[0]; m = x[1]\n",
    "    ρ[nT] = 1 # Enforce the constraint, and use explicit prox for the quadratic objective\n",
    "    m[nT] = (m0[nT]-τ*u0)/(1+τ) # Caution : anti-symmetric extension of m\n",
    "    return ρ,m"
   ]
  },
  {
   "cell_type": "markdown",
   "id": "1ce4d75a",
   "metadata": {},
   "source": [
    "### 3.3 Chambolle-Pock primal-dual optimization\n",
    "\n",
    "We implement a very basic primal-dual optimization method, with a fixed number of iterations, without checking the duality gap, and without the various accelerations that have been proposed in the literature.\n",
    "\n",
    "**Parameter setting and normalization.**\n",
    "Proximal methods are inhomogeneous, which means that they do not respect the scaling invariances of the problem.\n",
    "For this reason, problem normalization and parameter setting are non-trivial. "
   ]
  },
  {
   "cell_type": "code",
   "execution_count": 31,
   "id": "e40dd265",
   "metadata": {
    "execution": {
     "iopub.execute_input": "2024-06-12T21:25:12.470699Z",
     "iopub.status.busy": "2024-06-12T21:25:12.470617Z",
     "iopub.status.idle": "2024-06-12T21:25:12.474399Z",
     "shell.execute_reply": "2024-06-12T21:25:12.474168Z"
    }
   },
   "outputs": [],
   "source": [
    "def init_CP(u0,nT):\n",
    "    ρ = np.ones_like(u0,shape=(2*nT,*u0.shape))\n",
    "    m = np.concatenate([(u0,)*nT,(-u0,)*nT],axis=0)\n",
    "    return ρ,m\n",
    "\n",
    "def run_CP(u0,dx,dt,nT,τ_f=1,verb=0,maxiter=1000):\n",
    "    # Normalization of the initial condition\n",
    "    Nu0 = np.sqrt(np.sum(u0**2)/u0.dtype.type(u0.size)) # Averaged L2 norm of u0\n",
    "    u0 = u0/Nu0\n",
    "    dt = dt*Nu0\n",
    "    \n",
    "    # Initialization\n",
    "    xp=get_array_module(u0)\n",
    "    ρ = np.ones_like(u0,shape=(2*nT,*u0.shape))\n",
    "    m = xp.asarray([*(u0,)*nT,*(-u0,)*nT])\n",
    "    x = xp.asarray([ρ,m]) # x contains the pair of variables ρ,m\n",
    "    y = np.zeros_like(x) # Dual variable\n",
    "    tx = x.copy()\n",
    "\n",
    "    # Proximal operators and time steps\n",
    "    def prox_f(x,τ): return xp.asarray(prox_obj(τ,x[0],x[1],u0))\n",
    "    def prox_g(x,τ=1): return xp.asarray(Fourier_proj_ρm(x[0],x[1],dx,dt,verb=0))\n",
    "    def prox_gs(y,τ=1): return y-prox_g(y) # Projection onto orthogonal space\n",
    "    τ_gs = 1/τ_f # One needs τ_f τ_gs |K|^2 <1, but the coupling operator is the identity\n",
    "\n",
    "    for i in range(maxiter): # Primal-dual optimization loop\n",
    "        y = prox_gs(y+τ_gs*tx,τ_gs)\n",
    "        xold=x\n",
    "        x = prox_f(x-τ_f*y,τ_f)\n",
    "        tx = 2*x-xold        \n",
    "    return x[0],x[1]*Nu0 # Put back the normalization"
   ]
  },
  {
   "cell_type": "code",
   "execution_count": 32,
   "id": "bca10bd6",
   "metadata": {
    "execution": {
     "iopub.execute_input": "2024-06-12T21:25:12.475756Z",
     "iopub.status.busy": "2024-06-12T21:25:12.475680Z",
     "iopub.status.idle": "2024-06-12T21:25:13.848816Z",
     "shell.execute_reply": "2024-06-12T21:25:13.848560Z"
    }
   },
   "outputs": [
    {
     "name": "stdout",
     "output_type": "stream",
     "text": [
      "Initialization, objective 0.0\n",
      "Iteration 1, Newton step 0.5, objective -11.014643689455571.\n",
      "Iteration 2, Newton step 0.00048828125, objective -11.110182691945269.\n",
      "Iteration 3, Newton step 0.0009765625, objective -11.218007929030293.\n",
      "Iteration 4, Newton step 0.001953125, objective -11.363863425933838.\n",
      "Iteration 5, Newton step 0.001953125, objective -11.461428493399639.\n"
     ]
    },
    {
     "name": "stdout",
     "output_type": "stream",
     "text": [
      "Iteration 6, Newton step 0.00390625, objective -11.60837239697181.\n"
     ]
    },
    {
     "name": "stdout",
     "output_type": "stream",
     "text": [
      "Iteration 8, Newton step 0.00390625, objective -11.806837053698871.\n"
     ]
    },
    {
     "name": "stdout",
     "output_type": "stream",
     "text": [
      "Iteration 10, Newton step 0.0078125, objective -12.080206936545691.\n",
      "Iteration 12, Newton step 0.0078125, objective -12.28405620492728.\n",
      "Iteration 14, Newton step 0.015625, objective -12.606074516712697.\n"
     ]
    },
    {
     "name": "stdout",
     "output_type": "stream",
     "text": [
      "Iteration 16, Newton step 0.015625, objective -12.864709234496981.\n"
     ]
    },
    {
     "name": "stdout",
     "output_type": "stream",
     "text": [
      "Iteration 20, Newton step 0.03125, objective -13.653436544203693.\n"
     ]
    },
    {
     "name": "stdout",
     "output_type": "stream",
     "text": [
      "Iteration 24, Newton step 0.03125, objective -14.22546529802684.\n"
     ]
    },
    {
     "name": "stdout",
     "output_type": "stream",
     "text": [
      "Iteration 28, Newton step 0.0625, objective -15.066475000836272.\n"
     ]
    },
    {
     "name": "stdout",
     "output_type": "stream",
     "text": [
      "Iteration 32, Newton step 0.125, objective -15.99256119550941.\n"
     ]
    },
    {
     "name": "stdout",
     "output_type": "stream",
     "text": [
      "Iteration 36, Newton step 0.25, objective -16.695868608666558.\n"
     ]
    },
    {
     "name": "stdout",
     "output_type": "stream",
     "text": [
      "Iteration 40, Newton step 0.25, objective -17.218510773069276.\n"
     ]
    },
    {
     "name": "stdout",
     "output_type": "stream",
     "text": [
      "Iteration 44, Newton step 1.0, objective -17.38319910123505.\n"
     ]
    },
    {
     "name": "stdout",
     "output_type": "stream",
     "text": [
      "Iteration 48, Newton step 1.0, objective -17.387508880563427.\n"
     ]
    },
    {
     "name": "stdout",
     "output_type": "stream",
     "text": [
      "Convergence criterion satisfied, terminating.\n",
      "Iteration 52, Newton step 1.0, objective -17.38750896717683.\n"
     ]
    }
   ],
   "source": [
    "nX = 200; nT = 20\n",
    "#nX = 100; nT = 10\n",
    "#nX = 5; nT=2\n",
    "aX,dx = np.linspace(0,1,nX,retstep=True,endpoint=False)\n",
    "aX+=dx/2\n",
    "X = aX[None]\n",
    "\n",
    "Ti = 1e-4; Tf = 1e-3; T = Tf-Ti; u0 = Barenblatt(Ti,X-0.5)\n",
    "#u0*=T; T = 1\n",
    "#u0 = np.ones_like(X[0])\n",
    "#np.random.seed(42); u0 = np.random.rand(*X[0].shape)\n",
    "#u0 = np.zeros_like(X[0]); u0[nX//2]=0.2\n",
    "dt = T/nT\n",
    "\n",
    "# Compute the Newton solution\n",
    "ϕ0 = np.zeros((nT,nX))\n",
    "ϕN = ad.Optimization.newton_minimize(Energy_ϕ,ϕ0.reshape(-1),(u0,dx,dt),step_min=1e-8,maxiter=60)\n",
    "ϕN = ϕN.reshape(ϕ0.shape)\n",
    "ρN,mN = ρm_from_ϕ(ϕN,dx,dt)"
   ]
  },
  {
   "cell_type": "code",
   "execution_count": 33,
   "id": "cb825883",
   "metadata": {
    "execution": {
     "iopub.execute_input": "2024-06-12T21:25:13.850342Z",
     "iopub.status.busy": "2024-06-12T21:25:13.850242Z",
     "iopub.status.idle": "2024-06-12T21:25:17.603943Z",
     "shell.execute_reply": "2024-06-12T21:25:17.603670Z"
    }
   },
   "outputs": [
    {
     "name": "stdout",
     "output_type": "stream",
     "text": [
      "ρ relative error 0.1835773656374541\n",
      "m relative error 0.006314748587102064\n",
      "CPU times: user 3.52 s, sys: 230 ms, total: 3.75 s\n",
      "Wall time: 3.75 s\n"
     ]
    }
   ],
   "source": [
    "%%time\n",
    "ρCP,mCP = run_CP(u0,dx,dt,nT,τ_f=1,maxiter=2000)\n",
    "print(\"ρ relative error\",norminf(ρCP-ρN)/norminf(ρN))\n",
    "print(\"m relative error\",norminf(mCP-mN)/norminf(mN))"
   ]
  },
  {
   "cell_type": "code",
   "execution_count": 34,
   "id": "994ef83a",
   "metadata": {
    "execution": {
     "iopub.execute_input": "2024-06-12T21:25:17.605427Z",
     "iopub.status.busy": "2024-06-12T21:25:17.605345Z",
     "iopub.status.idle": "2024-06-12T21:25:17.678621Z",
     "shell.execute_reply": "2024-06-12T21:25:17.678323Z"
    }
   },
   "outputs": [
    {
     "data": {
      "image/png": "[encoded data removed]",
      "text/plain": [
       "<Figure size 640x480 with 1 Axes>"
      ]
     },
     "metadata": {},
     "output_type": "display_data"
    }
   ],
   "source": [
    "uN = u_from_ρm(ρN,mN); uCP = u_from_ρm(ρCP,mCP)\n",
    "\n",
    "iT = nT-1 # Choose from 0 (initial condition) to  nT-1 (final time)\n",
    "plt.title(\"Numerical solutions of the Porous-medium equation\")\n",
    "plt.plot(aX,uN[iT],label=\"Newton\")\n",
    "plt.plot(aX,uCP[iT],label=\"Chambolle-Pock\")\n",
    "plt.legend();"
   ]
  },
  {
   "cell_type": "code",
   "execution_count": 35,
   "id": "b250f258",
   "metadata": {
    "execution": {
     "iopub.execute_input": "2024-06-12T21:25:17.680219Z",
     "iopub.status.busy": "2024-06-12T21:25:17.680116Z",
     "iopub.status.idle": "2024-06-12T21:25:17.752112Z",
     "shell.execute_reply": "2024-06-12T21:25:17.751827Z"
    }
   },
   "outputs": [
    {
     "data": {
      "image/png": "[encoded data removed]",
      "text/plain": [
       "<Figure size 640x480 with 1 Axes>"
      ]
     },
     "metadata": {},
     "output_type": "display_data"
    }
   ],
   "source": [
    "iT = 0 # Choose from 0 (initial condition) to  nT-1 (final time)\n",
    "plt.title(\"Numerical solutions of the Porous-medium equation\")\n",
    "plt.plot(aX,uN[iT],label=\"Newton\")\n",
    "plt.plot(aX,uCP[iT],label=\"Chambolle-Pock\")\n",
    "plt.legend();"
   ]
  },
  {
   "cell_type": "markdown",
   "id": "38f0d7fa",
   "metadata": {},
   "source": [
    "### 3.4 Two dimensions"
   ]
  },
  {
   "cell_type": "code",
   "execution_count": 36,
   "id": "86f11098",
   "metadata": {
    "execution": {
     "iopub.execute_input": "2024-06-12T21:25:17.753659Z",
     "iopub.status.busy": "2024-06-12T21:25:17.753550Z",
     "iopub.status.idle": "2024-06-12T21:25:17.755983Z",
     "shell.execute_reply": "2024-06-12T21:25:17.755733Z"
    }
   },
   "outputs": [],
   "source": [
    "nX = 35; nT = 6\n",
    "#nX = 50; nT = 10 # bit longish\n",
    "aX,dx = np.linspace(0,1,nX,retstep=True,endpoint=False)\n",
    "aX+=dx/2\n",
    "X = np.array(np.meshgrid(aX,aX,indexing='ij'))\n",
    "\n",
    "Ti = 2e-5\n",
    "u0 = Barenblatt(Ti,X-0.5)\n",
    "Tf = 2e-4; T = Tf-Ti\n",
    "dt = T/nT\n",
    "Δϕpos = 0.5"
   ]
  },
  {
   "cell_type": "code",
   "execution_count": 37,
   "id": "2fdc82a6",
   "metadata": {
    "execution": {
     "iopub.execute_input": "2024-06-12T21:25:17.757361Z",
     "iopub.status.busy": "2024-06-12T21:25:17.757261Z",
     "iopub.status.idle": "2024-06-12T21:25:39.074765Z",
     "shell.execute_reply": "2024-06-12T21:25:39.074460Z"
    }
   },
   "outputs": [
    {
     "name": "stdout",
     "output_type": "stream",
     "text": [
      "Initialization, objective 0.0\n",
      "Iteration 1, Newton step 0.25, objective -375.00252143382437.\n"
     ]
    },
    {
     "name": "stdout",
     "output_type": "stream",
     "text": [
      "Iteration 2, Newton step 0.015625, objective -390.29833868581727.\n"
     ]
    },
    {
     "name": "stdout",
     "output_type": "stream",
     "text": [
      "Iteration 3, Newton step 0.03125, objective -411.08550984013954.\n"
     ]
    },
    {
     "name": "stdout",
     "output_type": "stream",
     "text": [
      "Iteration 4, Newton step 0.0625, objective -445.2442065697418.\n"
     ]
    },
    {
     "name": "stdout",
     "output_type": "stream",
     "text": [
      "Iteration 5, Newton step 0.125, objective -501.35118125756804.\n"
     ]
    },
    {
     "name": "stdout",
     "output_type": "stream",
     "text": [
      "Iteration 6, Newton step 0.125, objective -545.710499092698.\n"
     ]
    },
    {
     "name": "stdout",
     "output_type": "stream",
     "text": [
      "Iteration 8, Newton step 0.25, objective -639.5673191194612.\n"
     ]
    },
    {
     "name": "stdout",
     "output_type": "stream",
     "text": [
      "Iteration 10, Newton step 0.25, objective -732.8048550574883.\n"
     ]
    },
    {
     "name": "stdout",
     "output_type": "stream",
     "text": [
      "Iteration 12, Newton step 1.0, objective -781.871964813331.\n"
     ]
    },
    {
     "name": "stdout",
     "output_type": "stream",
     "text": [
      "Iteration 14, Newton step 1.0, objective -788.6039250223354.\n"
     ]
    },
    {
     "name": "stdout",
     "output_type": "stream",
     "text": [
      "Iteration 16, Newton step 1.0, objective -788.6379423429379.\n"
     ]
    },
    {
     "name": "stdout",
     "output_type": "stream",
     "text": [
      "Convergence criterion satisfied, terminating.\n",
      "Iteration 20, Newton step 1.0, objective -788.6380038064068.\n",
      "CPU times: user 15.5 s, sys: 19.2 s, total: 34.7 s\n",
      "Wall time: 21.3 s\n"
     ]
    }
   ],
   "source": [
    "%%time\n",
    "# Solve the optimization problem in ϕ\n",
    "ϕ0 = np.zeros((nT,*u0.shape))\n",
    "ϕN = ad.Optimization.newton_minimize(Energy_ϕ,ϕ0.reshape(-1),(u0,dx,dt,Δϕpos),step_min=1e-8)\n",
    "ϕN = ϕN.reshape(ϕ0.shape)\n",
    "ρN,mN = ρm_from_ϕ(ϕN,dx,dt)"
   ]
  },
  {
   "cell_type": "code",
   "execution_count": 38,
   "id": "29a0da47",
   "metadata": {
    "execution": {
     "iopub.execute_input": "2024-06-12T21:25:39.076304Z",
     "iopub.status.busy": "2024-06-12T21:25:39.076214Z",
     "iopub.status.idle": "2024-06-12T21:25:42.945472Z",
     "shell.execute_reply": "2024-06-12T21:25:42.945177Z"
    }
   },
   "outputs": [
    {
     "name": "stdout",
     "output_type": "stream",
     "text": [
      "ρ relative error 0.11072803949360746\n",
      "m relative error 0.003971979741385771\n",
      "CPU times: user 3.4 s, sys: 443 ms, total: 3.84 s\n",
      "Wall time: 3.87 s\n"
     ]
    }
   ],
   "source": [
    "%%time\n",
    "ρCP,mCP = run_CP(u0,dx,dt,nT,τ_f=1,maxiter=1000)\n",
    "print(\"ρ relative error\",norminf(ρCP-ρN)/norminf(ρN))\n",
    "print(\"m relative error\",norminf(mCP-mN)/norminf(mN))"
   ]
  },
  {
   "cell_type": "code",
   "execution_count": 39,
   "id": "0b9683f8",
   "metadata": {
    "execution": {
     "iopub.execute_input": "2024-06-12T21:25:42.947110Z",
     "iopub.status.busy": "2024-06-12T21:25:42.947002Z",
     "iopub.status.idle": "2024-06-12T21:25:43.116298Z",
     "shell.execute_reply": "2024-06-12T21:25:43.116000Z"
    }
   },
   "outputs": [
    {
     "data": {
      "image/png": "[encoded data removed]",
      "text/plain": [
       "<Figure size 1200x500 with 4 Axes>"
      ]
     },
     "metadata": {},
     "output_type": "display_data"
    }
   ],
   "source": [
    "uN = u_from_ρm(ρN,mN); uCP = u_from_ρm(ρCP,mCP)\n",
    "\n",
    "iT=nT-1 # Choose from 0 (initial) to nT-1 (final)\n",
    "plt.figure(figsize=[12,5])\n",
    "plt.subplot(1,2,1); plt.title(\"Newton solution\")\n",
    "plt.contourf(*X,uN[iT])\n",
    "plt.axis('equal'); plt.colorbar();\n",
    "plt.subplot(1,2,2); plt.title(\"Chambolle-Pock solution\")\n",
    "plt.contourf(*X,uCP[iT])\n",
    "plt.axis('equal'); plt.colorbar();"
   ]
  },
  {
   "cell_type": "code",
   "execution_count": 40,
   "id": "67608648",
   "metadata": {
    "execution": {
     "iopub.execute_input": "2024-06-12T21:25:43.117963Z",
     "iopub.status.busy": "2024-06-12T21:25:43.117845Z",
     "iopub.status.idle": "2024-06-12T21:25:43.281735Z",
     "shell.execute_reply": "2024-06-12T21:25:43.281411Z"
    }
   },
   "outputs": [
    {
     "data": {
      "image/png": "[encoded data removed]",
      "text/plain": [
       "<Figure size 1200x500 with 4 Axes>"
      ]
     },
     "metadata": {},
     "output_type": "display_data"
    }
   ],
   "source": [
    "iT=4\n",
    "plt.figure(figsize=[12,5])\n",
    "plt.subplot(1,2,1); plt.title(\"Newton solution\")\n",
    "plt.contourf(*X,uN[iT])\n",
    "plt.axis('equal'); plt.colorbar();\n",
    "plt.subplot(1,2,2); plt.title(\"Chambolle-Pock solution\")\n",
    "plt.contourf(*X,uCP[iT])\n",
    "plt.axis('equal'); plt.colorbar();"
   ]
  },
  {
   "cell_type": "markdown",
   "id": "9561d876",
   "metadata": {},
   "source": [
    "The Chambolle-Pock solution is rather close to the Newton solution, but it does have some negative values."
   ]
  },
  {
   "cell_type": "code",
   "execution_count": 41,
   "id": "ee8fc0a2",
   "metadata": {
    "execution": {
     "iopub.execute_input": "2024-06-12T21:25:43.283362Z",
     "iopub.status.busy": "2024-06-12T21:25:43.283250Z",
     "iopub.status.idle": "2024-06-12T21:25:43.285534Z",
     "shell.execute_reply": "2024-06-12T21:25:43.285294Z"
    }
   },
   "outputs": [
    {
     "data": {
      "text/plain": [
       "(-1.175494350818561e-38, -0.3992967467353444)"
      ]
     },
     "execution_count": 41,
     "metadata": {},
     "output_type": "execute_result"
    }
   ],
   "source": [
    "np.min(uN),np.min(uCP)"
   ]
  },
  {
   "cell_type": "markdown",
   "id": "728ada20",
   "metadata": {},
   "source": [
    "The Chambolle-Pock solution is closer to Newton than to the exact solution, because they solve the same discretized problem, and even though the primal-dual method was early stopped."
   ]
  },
  {
   "cell_type": "code",
   "execution_count": 42,
   "id": "c2912c4c",
   "metadata": {
    "execution": {
     "iopub.execute_input": "2024-06-12T21:25:43.287031Z",
     "iopub.status.busy": "2024-06-12T21:25:43.286932Z",
     "iopub.status.idle": "2024-06-12T21:25:43.289602Z",
     "shell.execute_reply": "2024-06-12T21:25:43.289386Z"
    }
   },
   "outputs": [
    {
     "data": {
      "text/plain": [
       "(2.851154688066989, 3.2066905137182222, 0.4463030142136035)"
      ]
     },
     "execution_count": 42,
     "metadata": {},
     "output_type": "execute_result"
    }
   ],
   "source": [
    "iT=nT-1 # Choose from 0 (initial) to nT-1 (final)\n",
    "\n",
    "t = Ti+(iT+0.5)*dt\n",
    "uExact = Barenblatt(t,X-0.5)\n",
    "norminf(uN[iT]-uExact),norminf(uCP[iT]-uExact),norminf(uN-uCP)"
   ]
  },
  {
   "cell_type": "markdown",
   "id": "40e65b1b-455a-4561-b8f8-95ae2dc852e7",
   "metadata": {},
   "source": [
    "## 4. Running on the GPU\n",
    "\n",
    "We use the cupy, which allows to numpy code to the GPU, and to define custom kernels when needed."
   ]
  },
  {
   "cell_type": "code",
   "execution_count": 43,
   "id": "9de0cb12-c20f-403a-a202-314dec1887fd",
   "metadata": {
    "execution": {
     "iopub.execute_input": "2024-06-12T21:25:43.290989Z",
     "iopub.status.busy": "2024-06-12T21:25:43.290886Z",
     "iopub.status.idle": "2024-06-12T21:25:43.400990Z",
     "shell.execute_reply": "2024-06-12T21:25:43.400540Z"
    }
   },
   "outputs": [
    {
     "ename": "DeliberateNotebookError",
     "evalue": "Cupy needed for this notebook",
     "output_type": "error",
     "traceback": [
      "\u001b[0;31m---------------------------------------------------------------------------\u001b[0m",
      "\u001b[0;31mDeliberateNotebookError\u001b[0m                   Traceback (most recent call last)",
      "Cell \u001b[0;32mIn[43], line 1\u001b[0m\n\u001b[0;32m----> 1\u001b[0m \u001b[38;5;28;01mif\u001b[39;00m cp \u001b[38;5;129;01mis\u001b[39;00m \u001b[38;5;28;01mNone\u001b[39;00m: \u001b[38;5;28;01mraise\u001b[39;00m ad\u001b[38;5;241m.\u001b[39mDeliberateNotebookError(\u001b[38;5;124m\"\u001b[39m\u001b[38;5;124mCupy needed for this notebook\u001b[39m\u001b[38;5;124m\"\u001b[39m)\n",
      "\u001b[0;31mDeliberateNotebookError\u001b[0m: Cupy needed for this notebook"
     ]
    }
   ],
   "source": [
    "if cp is None: raise ad.DeliberateNotebookError(\"Cupy needed for this notebook\")"
   ]
  },
  {
   "cell_type": "markdown",
   "id": "53aa01b9-4f27-4d99-86ea-1cb4541273a4",
   "metadata": {},
   "source": [
    "The two main ingredients of the primal dual method are the (i) projection onto the constraint, and (ii) the proximal operator of the perspective function. Step (i) relies mainly on the fast fourier transform, for which optimized cuda routines are available, which are automatically called."
   ]
  },
  {
   "cell_type": "code",
   "execution_count": 44,
   "id": "89958094-fb71-446f-9970-5e30b98e60ea",
   "metadata": {},
   "outputs": [],
   "source": [
    "ρ_gpu,m_gpu = Fourier_proj_ρm(cp.array(ρ_rnd,dtype=np.float32),cp.array(m_rnd,dtype=np.float32),dx,dt,verb=0)\n",
    "ρ_cpu,m_cpu = Fourier_proj_ρm(ρ_rnd,m_rnd,dx,dt,verb=0)\n",
    "assert np.allclose(ρ_cpu,ρ_gpu,atol=1e-6)\n",
    "assert np.allclose(m_cpu,m_gpu,atol=1e-6)"
   ]
  },
  {
   "cell_type": "markdown",
   "id": "497237cf-5f50-489b-8a3e-6096ed532ad7",
   "metadata": {},
   "source": [
    "### 4.1 Kernel for the perspective function\n",
    "\n",
    "Memory transfers usually bottleneck (insufficiently optimized) GPU code. \n",
    "For best efficiency, a custom gpu kernel should be done a lot of operations are done componentwise.\n",
    "In the best of worlds, the `@cp.fuse` tag would be enough to create the kernel, but in practice a short C reimplementation is usually needed.\n",
    "Some further profiling and kernel fusing of the routines would be needed in a serious implementation."
   ]
  },
  {
   "cell_type": "code",
   "execution_count": 14,
   "id": "0ff70c52-7173-470d-b55a-a5061491e766",
   "metadata": {},
   "outputs": [],
   "source": [
    "prox_perspective_kernel = cp.RawKernel(r'''\n",
    "extern \"C\" __global__\n",
    "void kernel(float tau, const float * eta_in, float * y_in, \n",
    "float * eta_out, float * y_out, unsigned int size, unsigned int niter){\n",
    "const unsigned int tid = blockDim.x * blockIdx.x + threadIdx.x;\n",
    "if(tid>=size){return;}\n",
    "const float eta = eta_in[tid], y = y_in[tid];\n",
    "if(tau*eta+y*y/2<=0){eta_out[tid]=0; y_out[tid]=0; return;} // to_origin\n",
    "const float et2 = 2*(eta+tau), Ny = abs(y);\n",
    "float s = max( pow(2*Ny/tau,float(1./3)), sqrt(max(float(0),-et2/tau)) ); \n",
    "for(int i=0; i<niter; ++i){ // Using a fixed number of iterations\n",
    "    const float s2=s*s, s3=s*s2;\n",
    "    s -= (tau*s3 + et2*s - 2*Ny) / (3*tau*s2+et2);\n",
    "}\n",
    "eta_out[tid] = eta+tau*s*s/2;\n",
    "y_out[tid] = y==0 ? 0 : (1-tau*s/Ny)*y;\n",
    "}''',\"kernel\")\n",
    "\n",
    "def prox_perspective_cupy(τ,x_in,niter=12):\n",
    "    assert x_in.flags['C_CONTIGUOUS'] # Never forget these two lines ! Will save hours of debugging.\n",
    "    assert x_in.dtype==np.float32 \n",
    "    \n",
    "    x_out = np.empty_like(x_in)\n",
    "    size = x_in[0].size\n",
    "    blocksize = 1024\n",
    "    gridsize = np.ceil(size/blocksize).astype(int)\n",
    "    prox_perspective_kernel((gridsize,),(blocksize,),(np.float32(τ),x_in[0],x_in[1],x_out[0],x_out[1],size,niter))\n",
    "    return x_out"
   ]
  },
  {
   "cell_type": "markdown",
   "id": "cebc6539-23a4-47c3-b083-d741e0050bcf",
   "metadata": {},
   "source": [
    "Let us check that the cupy kernel agrees with the original implementation."
   ]
  },
  {
   "cell_type": "code",
   "execution_count": 46,
   "id": "12528e32-95b8-4d20-b2db-85c06ef3ab03",
   "metadata": {},
   "outputs": [],
   "source": [
    "np.random.seed(42)\n",
    "x0 = np.random.rand(2,1000)-0.5\n",
    "x0 = cp.array(x0,dtype=np.float32)\n",
    "τ = 0.5\n",
    "assert np.allclose(prox_perspective_cupy(τ,x0), prox_perspective(τ,x0.get()),atol=1e-6)"
   ]
  },
  {
   "cell_type": "code",
   "execution_count": 47,
   "id": "7b70f26f-dcb6-47ec-89ea-5b53d306a1cd",
   "metadata": {},
   "outputs": [],
   "source": [
    "np.random.seed(42)\n",
    "x0 = np.random.rand(2,10**7)-0.5\n",
    "x0 = cp.array(x0,dtype=np.float32)"
   ]
  },
  {
   "cell_type": "markdown",
   "id": "b471b76d-d047-45f1-bb60-d321c72b0f55",
   "metadata": {},
   "source": [
    "And that a substantial speedup is achieved."
   ]
  },
  {
   "cell_type": "code",
   "execution_count": 48,
   "id": "4ccff7dc-d178-411d-8609-ba167d16daca",
   "metadata": {},
   "outputs": [
    {
     "name": "stdout",
     "output_type": "stream",
     "text": [
      "CPU times: total: 0 ns\n",
      "Wall time: 0 ns\n"
     ]
    },
    {
     "data": {
      "text/plain": [
       "array([[ 0.03402805,  0.45450523,  0.2876059 , ...,  0.48728737,  0.        ,  0.        ],\n",
       "       [ 0.02717886, -0.05596824,  0.13564752, ..., -0.22645545,  0.        ,  0.        ]], dtype=float32)"
      ]
     },
     "execution_count": 48,
     "metadata": {},
     "output_type": "execute_result"
    }
   ],
   "source": [
    "%%time\n",
    "prox_perspective_cupy(τ,x0)"
   ]
  },
  {
   "cell_type": "code",
   "execution_count": 49,
   "id": "432045e1-c7cb-4570-b2c5-5c49eed8e6e8",
   "metadata": {},
   "outputs": [
    {
     "name": "stdout",
     "output_type": "stream",
     "text": [
      "CPU times: total: 78.1 ms\n",
      "Wall time: 101 ms\n"
     ]
    },
    {
     "data": {
      "text/plain": [
       "array([[ 0.03402805,  0.45450523,  0.2876059 , ...,  0.48728737,  0.        ,  0.        ],\n",
       "       [ 0.02717886, -0.05596824,  0.13564752, ..., -0.22645545,  0.        ,  0.        ]], dtype=float32)"
      ]
     },
     "execution_count": 49,
     "metadata": {},
     "output_type": "execute_result"
    }
   ],
   "source": [
    "%%time\n",
    "prox_perspective(τ,x0,cupy_kernel=False)"
   ]
  },
  {
   "cell_type": "markdown",
   "id": "56ddd173-6963-465b-8884-4b46e9437185",
   "metadata": {},
   "source": [
    "### 4.2 Reproducibility"
   ]
  },
  {
   "cell_type": "code",
   "execution_count": 61,
   "id": "3418d72c-6fa6-45b7-9614-8b4c11f669aa",
   "metadata": {},
   "outputs": [],
   "source": [
    "nX = 5; nT = 3\n",
    "aX,dx = np.linspace(0,1,nX,retstep=True,endpoint=False)\n",
    "aX+=dx/2\n",
    "X = np.array(np.meshgrid(aX,aX,indexing='ij'))\n",
    "#X=aX[None]\n",
    "\n",
    "Ti = 2e-5\n",
    "u0 = Barenblatt(Ti,X-0.5)\n",
    "Tf = 2e-4; T = Tf-Ti\n",
    "dt = T/nT"
   ]
  },
  {
   "cell_type": "code",
   "execution_count": 62,
   "id": "03075139-ac44-4c01-98c4-e19bae10a610",
   "metadata": {},
   "outputs": [],
   "source": [
    "ρ_gpu,m_gpu = run_CP(cp.asarray(u0,dtype=np.float32),dx,dt,nT,τ_f=1.,maxiter=2)\n",
    "ρ_cpu,m_cpu = run_CP(u0,dx,dt,nT,τ_f=1.,maxiter=2)\n",
    "assert np.allclose(ρ_cpu,ρ_gpu,atol=1e-5)\n",
    "assert np.allclose(m_cpu,m_gpu,atol=1e-4)"
   ]
  },
  {
   "cell_type": "markdown",
   "id": "5a62c971-fb46-480f-8eb5-0dee5c95344d",
   "metadata": {},
   "source": [
    "### 4.3 Larger test case"
   ]
  },
  {
   "cell_type": "code",
   "execution_count": 15,
   "id": "a169aea8-6088-4d3c-ac58-f5c61e04e826",
   "metadata": {},
   "outputs": [],
   "source": [
    "nX = 512; nT = 8 \n",
    "aX,dx = np.linspace(0,1,nX,retstep=True,endpoint=False)\n",
    "aX += dx/2\n",
    "X = np.array(np.meshgrid(aX,aX,indexing='ij'))\n",
    "\n",
    "Ti = 2e-5\n",
    "u0 = Barenblatt(Ti,X-0.5)\n",
    "Tf = 2e-4; T = Tf-Ti\n",
    "dt = T/nT"
   ]
  },
  {
   "cell_type": "code",
   "execution_count": 18,
   "id": "f9ca77e5-e9ce-42de-8875-1a8f9c5103f9",
   "metadata": {},
   "outputs": [
    {
     "name": "stdout",
     "output_type": "stream",
     "text": [
      "CPU times: total: 15.6 ms\n",
      "Wall time: 14.8 s\n"
     ]
    }
   ],
   "source": [
    "%%time\n",
    "ρ,m = run_CP(cp.asarray(u0,dtype=np.float32),dx,dt,nT,τ_f=1.,maxiter=500)"
   ]
  },
  {
   "cell_type": "code",
   "execution_count": 19,
   "id": "5fd91382-49fa-4e4d-b19e-1d337a0ffdd5",
   "metadata": {},
   "outputs": [],
   "source": [
    "u = u_from_ρm(ρ,m)\n",
    "iT = nT-1\n",
    "plt.contourf(*X,u[iT].get())\n",
    "plt.axis('equal');"
   ]
  },
  {
   "cell_type": "code",
   "execution_count": null,
   "id": "dab36aeb-0e2f-4616-8e01-b553f79672b6",
   "metadata": {},
   "outputs": [],
   "source": []
  }
 ],
 "metadata": {
  "kernelspec": {
   "display_name": "Python 3 (ipykernel)",
   "language": "python",
   "name": "python3"
  },
  "language_info": {
   "codemirror_mode": {
    "name": "ipython",
    "version": 3
   },
   "file_extension": ".py",
   "mimetype": "text/x-python",
   "name": "python",
   "nbconvert_exporter": "python",
   "pygments_lexer": "ipython3",
   "version": "3.10.8"
  }
 },
 "nbformat": 4,
 "nbformat_minor": 5
}

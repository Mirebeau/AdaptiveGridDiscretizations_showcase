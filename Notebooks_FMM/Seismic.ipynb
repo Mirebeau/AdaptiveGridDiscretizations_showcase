{
 "cells": [
  {
   "cell_type": "markdown",
   "metadata": {},
   "source": [
    "# The HFM library - A fast marching solver with adaptive stencils\n",
    "\n",
    "## Part : Seismology and crystallography\n",
    "## Chapter : Metrics defined by a Hooke tensor"
   ]
  },
  {
   "cell_type": "markdown",
   "metadata": {},
   "source": [
    "In this notebook, we demonstrate anisotropic fast marching with a class of metrics arising in seismic travel time tomography. They characterize the first arrival time of seismic P-waves (compressive waves), in the high frequency asymptotic. The seismic models are implemented in dimension $d \\in \\{2,3\\}$. <!---  (the two dimensional instance being mostly for testing purposes)-->\n",
    "\n",
    "The eikonal equation arising from the high-frequency asymptotic of seismic waves reads\n",
    "$$\n",
    "    \\det(m_x(\\nabla u) - \\rho(x)\\mathrm{Id}) = 0,\n",
    "$$\n",
    "where for each co-vector $p$ one defines\n",
    "$$\n",
    "    m_x(p)_{ij} = \\sum_{k,l} c_{ijkl}(x) p_k p_l.\n",
    "$$\n",
    "We denoted by $c(x) = (c_{ijkl}(x))$, where $i,j,k,l \\in \\{1,\\cdots,d\\}$ the Hooke tensor, which describes the elastic properties of the geological medium. The user must take care to only provide elliptic (or positive) Hooke tensors. This assumption, satisfied in physical contexts, ensures that $m=m_x(p)$ is positive definite as soon as $p\\neq 0$. \n",
    "\n",
    "The `Seismic.Hooke` class is constructed from the ratio $c/\\rho$ of the hooke tensor, given in Voigt notation, divided by the medium density $\\rho$.\n",
    "<!---We use the following conventions, which may be relaxed in the future:---> <!-- This should be in the c++ code --> \n",
    "<!---* No normalization of the coefficients by $\\sqrt 2$, which is often found in the literature.--->\n",
    "<!---* The provided tensor should be $c/\\rho$, accounting for the density of the medium.---> <!-- The medium density $\\rho$ is positive. -->\n",
    "<!---* The same grid scale is used on each axis.--->\n",
    "\n",
    "**Accuracy.**\n",
    "Our implementation of the fast marching method for seismic metrics is designed to achieve high accuracy, up to third order, in smooth test cases. However this capability is not demonstrated in the present notebook, but in [C1 Achieving high accuracy](http://nbviewer.jupyter.org/urls/rawgithub.com/Mirebeau/HFM_Python_Notebooks/master/Aa_HighAccuracy.ipynb)\n",
    "\n",
    "**Work in progress.**\n",
    "The experiments presented in this notebook are part of the internship of François Desquilbet [link](https://www.see.asso.fr/en/distinction/24512_prix-jeunes-national-andre-blanc-lapierre-2018-trophee-ile-france).\n",
    "Tutors : J.-M. Mirebeau (CNRS, U. PSud, U. PSaclay), L. Métivier (CNRS, LJK, ISTerre, Univ Grenoble, France) [link](https://www-ljk.imag.fr/membres/Ludovic.Metivier/)\n",
    "\n",
    "**References** \n",
    "The main techniques used are presented in the following publication.\n",
    "\n",
    "Mirebeau, J.-M. (2014). Efficient fast marching with Finsler metrics. Numerische Mathematik, 126(3), 515–557. [link](https://hal.archives-ouvertes.fr/hal-00736431)"
   ]
  },
  {
   "cell_type": "markdown",
   "metadata": {},
   "source": [
    "[**Summary**](Summary.ipynb) of volume Fast Marching Methods, this series of notebooks.\n",
    "\n",
    "[**Main summary**](../Summary.ipynb) of the Adaptive Grid Discretizations \n",
    "\tbook of notebooks, including the other volumes.\n",
    "\n",
    "# Table of contents\n",
    "  * [1. A constant medium, with tilted and anelliptic anisotropy](#1.-A-constant-medium,-with-tilted-and-anelliptic-anisotropy)\n",
    "    * [1.1 Mandel notation](#1.1-Mandel-notation)\n",
    "  * [2. Varying medium](#2.-Varying-medium)\n",
    "    * [2.1 Position dependent tilt orientation.](#2.1-Position-dependent-tilt-orientation.)\n",
    "  * [3. Taking into account the topography](#3.-Taking-into-account-the-topography)\n",
    "  * [4. Testing reproduction](#4.-Testing-reproduction)\n",
    "    * [4.1 Case of a constant metric](#4.1-Case-of-a-constant-metric)\n",
    "    * [4.2 Case with topography](#4.2-Case-with-topography)\n",
    "  * [5. Three dimensional example](#5.-Three-dimensional-example)\n",
    "    * [5.1 Case of a constant metric](#5.1-Case-of-a-constant-metric)\n",
    "    * [5.2 Position dependent metric](#5.2-Position-dependent-metric)\n",
    "    * [5.3 Topography](#5.3-Topography)\n",
    "\n",
    "\n",
    "\n",
    "This Python&reg; notebook is intended as documentation and testing for the [HamiltonFastMarching (HFM) library](https://github.com/mirebeau/HamiltonFastMarching), which also has interfaces to the Matlab&reg; and Mathematica&reg; languages. \n",
    "More information on the HFM library in the manuscript:\n",
    "* Jean-Marie Mirebeau, Jorg Portegies, \"Hamiltonian Fast Marching: A numerical solver for anisotropic and non-holonomic eikonal PDEs\", 2019 [(link)](https://hal.archives-ouvertes.fr/hal-01778322)\n",
    "\n",
    "Copyright Jean-Marie Mirebeau, University Paris-Sud, CNRS, University Paris-Saclay"
   ]
  },
  {
   "cell_type": "markdown",
   "metadata": {},
   "source": [
    "## 0. Importing the required libraries"
   ]
  },
  {
   "cell_type": "code",
   "execution_count": 1,
   "metadata": {
    "execution": {
     "iopub.execute_input": "2021-12-09T21:48:17.666502Z",
     "iopub.status.busy": "2021-12-09T21:48:17.665931Z",
     "iopub.status.idle": "2021-12-09T21:48:17.673303Z",
     "shell.execute_reply": "2021-12-09T21:48:17.673738Z"
    }
   },
   "outputs": [],
   "source": [
    "import sys; sys.path.insert(0,\"..\") # Allow import of agd from parent directory (useless if conda package installed)\n",
    "#from Miscellaneous import TocTools; print(TocTools.displayTOC('Seismic','FMM'))"
   ]
  },
  {
   "cell_type": "code",
   "execution_count": 2,
   "metadata": {
    "execution": {
     "iopub.execute_input": "2021-12-09T21:48:17.678422Z",
     "iopub.status.busy": "2021-12-09T21:48:17.677879Z",
     "iopub.status.idle": "2021-12-09T21:48:18.732089Z",
     "shell.execute_reply": "2021-12-09T21:48:18.731601Z"
    }
   },
   "outputs": [],
   "source": [
    "from agd import Eikonal\n",
    "from agd import LinearParallel as lp\n",
    "from agd import FiniteDifferences as fd\n",
    "from agd.Metrics.Seismic import Hooke\n",
    "from agd import AutomaticDifferentiation as ad\n",
    "from agd.Plotting import savefig, quiver; #savefig.dirName = 'Images/Seismic'\n",
    "norm_infinity = ad.Optimization.norm_infinity\n",
    "reduced_models=False"
   ]
  },
  {
   "cell_type": "code",
   "execution_count": 3,
   "metadata": {
    "execution": {
     "iopub.execute_input": "2021-12-09T21:48:18.737851Z",
     "iopub.status.busy": "2021-12-09T21:48:18.737183Z",
     "iopub.status.idle": "2021-12-09T21:48:18.739592Z",
     "shell.execute_reply": "2021-12-09T21:48:18.739144Z"
    }
   },
   "outputs": [],
   "source": [
    "import numpy as np\n",
    "import scipy.linalg\n",
    "from copy import copy\n",
    "%matplotlib inline\n",
    "import matplotlib.pyplot as plt"
   ]
  },
  {
   "cell_type": "code",
   "execution_count": 4,
   "metadata": {
    "execution": {
     "iopub.execute_input": "2021-12-09T21:48:18.743658Z",
     "iopub.status.busy": "2021-12-09T21:48:18.743119Z",
     "iopub.status.idle": "2021-12-09T21:48:18.745153Z",
     "shell.execute_reply": "2021-12-09T21:48:18.745666Z"
    }
   },
   "outputs": [],
   "source": [
    "def reload_packages():\n",
    "    from Miscellaneous.rreload import rreload\n",
    "    global HFMUtils,lp,Hooke,ad\n",
    "    HFMUtils,lp,Hooke,ad = rreload([HFMUtils,lp,Hooke,ad],rootdir='..')"
   ]
  },
  {
   "cell_type": "markdown",
   "metadata": {},
   "source": [
    "### 0.1 Additional configuration\n",
    "\n",
    "**Requires the HFM library**\n",
    "This notebook is CPU only, requires the HFM library, and in particular it *cannot be run on Google Colab*. Indeed, the generalized fast marching method based on a Hooke tensor is not implemented on the GPU. See this [closely related notebook](TTI.ipynb) for GPU compatible experiments, involving the simpler *Tilted Transversally Isotropic* (TTI) models.\n",
    "\n",
    "<!---\n",
    "Uncomment the following line to use the TTI models rather than the full seismic models defined by a Hooke tensor.\n",
    "**Reduced model.s**\n",
    "Some simplifications of the above eikonal equations are often considered in the literature, see the `Seismic.Reduced` class.\n",
    "--->"
   ]
  },
  {
   "cell_type": "code",
   "execution_count": 5,
   "metadata": {
    "execution": {
     "iopub.execute_input": "2021-12-09T21:48:18.749183Z",
     "iopub.status.busy": "2021-12-09T21:48:18.748670Z",
     "iopub.status.idle": "2021-12-09T21:48:18.751089Z",
     "shell.execute_reply": "2021-12-09T21:48:18.750649Z"
    }
   },
   "outputs": [],
   "source": [
    "#raise ad.DeliberateNotebookError(\"Hooke tensor based eikonal equations not implemented on the CPU\")"
   ]
  },
  {
   "cell_type": "markdown",
   "metadata": {},
   "source": [
    "## 1. A constant medium, with tilted and anelliptic anisotropy\n",
    "\n",
    "The Hooke tensors and densities of a a small number of geophysical media are provided. \n",
    "Here we construct three tensors corresponding to the slice, tilted, of uniform media.\n",
    "\n",
    "We will use the hooke tensors for the following materials."
   ]
  },
  {
   "cell_type": "code",
   "execution_count": 6,
   "metadata": {
    "execution": {
     "iopub.execute_input": "2021-12-09T21:48:18.754801Z",
     "iopub.status.busy": "2021-12-09T21:48:18.754272Z",
     "iopub.status.idle": "2021-12-09T21:48:18.756699Z",
     "shell.execute_reply": "2021-12-09T21:48:18.757126Z"
    }
   },
   "outputs": [],
   "source": [
    "mica,stishovite,olivine = Hooke.mica[0],Hooke.olivine[0],Hooke.stishovite[0]"
   ]
  },
  {
   "cell_type": "code",
   "execution_count": 7,
   "metadata": {
    "execution": {
     "iopub.execute_input": "2021-12-09T21:48:18.761973Z",
     "iopub.status.busy": "2021-12-09T21:48:18.761459Z",
     "iopub.status.idle": "2021-12-09T21:48:18.764760Z",
     "shell.execute_reply": "2021-12-09T21:48:18.765183Z"
    }
   },
   "outputs": [
    {
     "name": "stdout",
     "output_type": "stream",
     "text": [
      "[[178.   14.5   0. ]\n",
      " [ 14.5  54.9   0. ]\n",
      " [  0.    0.   12.2]]\n",
      "[[323.7  71.6   0. ]\n",
      " [ 71.6 235.1   0. ]\n",
      " [  0.    0.   78.7]]\n",
      "[[453 203   0]\n",
      " [203 776   0]\n",
      " [  0   0 252]]\n"
     ]
    }
   ],
   "source": [
    "print(mica.extract_xz().hooke) \n",
    "print(stishovite.extract_xz().hooke)\n",
    "print(olivine.extract_xz().hooke)"
   ]
  },
  {
   "cell_type": "code",
   "execution_count": 8,
   "metadata": {
    "execution": {
     "iopub.execute_input": "2021-12-09T21:48:18.770919Z",
     "iopub.status.busy": "2021-12-09T21:48:18.770390Z",
     "iopub.status.idle": "2021-12-09T21:48:18.772347Z",
     "shell.execute_reply": "2021-12-09T21:48:18.772811Z"
    }
   },
   "outputs": [],
   "source": [
    "metric_mica = mica.extract_xz().rotate_by(np.pi/6)\n",
    "metric_stishovite = stishovite.extract_xz().rotate_by(-np.pi/8)\n",
    "metric_olivine = olivine.extract_xz().rotate_by(np.pi/12)"
   ]
  },
  {
   "cell_type": "code",
   "execution_count": 9,
   "metadata": {
    "execution": {
     "iopub.execute_input": "2021-12-09T21:48:18.777767Z",
     "iopub.status.busy": "2021-12-09T21:48:18.774647Z",
     "iopub.status.idle": "2021-12-09T21:48:18.781131Z",
     "shell.execute_reply": "2021-12-09T21:48:18.780685Z"
    }
   },
   "outputs": [],
   "source": [
    "hfmIn_Constant = Eikonal.dictIn({\n",
    "    'model': 'Seismic2',\n",
    "    'exportValues':1,\n",
    "    'seed':[0.,0.],\n",
    "    'metric':metric_mica,\n",
    "    'stencilGeometry':'Square', # Non-adaptive 8-point square stencil\n",
    "    'exportGeodesicFlow':1,\n",
    "})\n",
    "hfmIn_Constant.SetRect(sides=[[-1,1],[-1,1]],dimx=201) # Define the domain\n",
    "X = hfmIn_Constant.Grid() # Horizontal and vertical axis\n",
    "hfmIn_Constant.SetUniformTips((6,6))"
   ]
  },
  {
   "cell_type": "code",
   "execution_count": 10,
   "metadata": {
    "execution": {
     "iopub.execute_input": "2021-12-09T21:48:18.784568Z",
     "iopub.status.busy": "2021-12-09T21:48:18.784055Z",
     "iopub.status.idle": "2021-12-09T21:48:19.034313Z",
     "shell.execute_reply": "2021-12-09T21:48:19.033829Z"
    }
   },
   "outputs": [
    {
     "name": "stdout",
     "output_type": "stream",
     "text": [
      "Field verbosity defaults to 1\n",
      "Field cosAngleMin defaults to 0.5\n",
      "Field order defaults to 1\n",
      "Field seedRadius defaults to 0\n",
      "Fast marching solver completed in 0.144766 s.\n",
      "Field geodesicSolver defaults to Discrete\n",
      "Field geodesicStep defaults to 0.25\n",
      "Field geodesicWeightThreshold defaults to 0.001\n",
      "Field geodesicVolumeBound defaults to 8.45\n"
     ]
    }
   ],
   "source": [
    "hfmOut = hfmIn_Constant.Run()"
   ]
  },
  {
   "cell_type": "code",
   "execution_count": 11,
   "metadata": {
    "execution": {
     "iopub.execute_input": "2021-12-09T21:48:19.042030Z",
     "iopub.status.busy": "2021-12-09T21:48:19.041409Z",
     "iopub.status.idle": "2021-12-09T21:48:19.044253Z",
     "shell.execute_reply": "2021-12-09T21:48:19.044709Z"
    }
   },
   "outputs": [
    {
     "data": {
      "text/plain": [
       "(0.144766, 0.000146)"
      ]
     },
     "execution_count": 11,
     "metadata": {},
     "output_type": "execute_result"
    }
   ],
   "source": [
    "hfmOut['FMCPUTime'], hfmOut['StencilCPUTime']"
   ]
  },
  {
   "cell_type": "code",
   "execution_count": 12,
   "metadata": {
    "execution": {
     "iopub.execute_input": "2021-12-09T21:48:19.057568Z",
     "iopub.status.busy": "2021-12-09T21:48:19.057025Z",
     "iopub.status.idle": "2021-12-09T21:48:19.221857Z",
     "shell.execute_reply": "2021-12-09T21:48:19.221229Z"
    }
   },
   "outputs": [
    {
     "data": {
      "image/png": "[encoded data removed]",
      "text/plain": [
       "<Figure size 288x288 with 1 Axes>"
      ]
     },
     "metadata": {
      "needs_background": "light"
     },
     "output_type": "display_data"
    }
   ],
   "source": [
    "fig = plt.figure(figsize=[4,4]); plt.title('Minimal distance, Seismic metric (constant)'); plt.axis('equal')\n",
    "plt.contourf(*X,hfmOut['values']);"
   ]
  },
  {
   "cell_type": "code",
   "execution_count": 13,
   "metadata": {
    "execution": {
     "iopub.execute_input": "2021-12-09T21:48:19.282702Z",
     "iopub.status.busy": "2021-12-09T21:48:19.228964Z",
     "iopub.status.idle": "2021-12-09T21:48:19.467320Z",
     "shell.execute_reply": "2021-12-09T21:48:19.467841Z"
    }
   },
   "outputs": [
    {
     "data": {
      "image/png": "[encoded data removed]",
      "text/plain": [
       "<Figure size 288x288 with 1 Axes>"
      ]
     },
     "metadata": {
      "needs_background": "light"
     },
     "output_type": "display_data"
    }
   ],
   "source": [
    "# The geodesics are straight lines, since the metric is constant\n",
    "fig = plt.figure(figsize=[4,4]); plt.title('Minimal geodesics, Seismic metric (constant)'); plt.axis('equal'); \n",
    "for geo in hfmOut['geodesics']:  plt.plot(*geo) "
   ]
  },
  {
   "cell_type": "markdown",
   "metadata": {},
   "source": [
    "The geodesic flow is normalized w.r.t the metric."
   ]
  },
  {
   "cell_type": "code",
   "execution_count": 14,
   "metadata": {
    "execution": {
     "iopub.execute_input": "2021-12-09T21:48:19.490831Z",
     "iopub.status.busy": "2021-12-09T21:48:19.474766Z",
     "iopub.status.idle": "2021-12-09T21:48:19.634946Z",
     "shell.execute_reply": "2021-12-09T21:48:19.635630Z"
    }
   },
   "outputs": [
    {
     "data": {
      "image/png": "[encoded data removed]",
      "text/plain": [
       "<Figure size 432x288 with 1 Axes>"
      ]
     },
     "metadata": {
      "needs_background": "light"
     },
     "output_type": "display_data"
    }
   ],
   "source": [
    "plt.title(\"Geodesic flow\"); plt.axis('equal')\n",
    "quiver(*X,*hfmOut['flow'],subsampling=(20,20));"
   ]
  },
  {
   "cell_type": "code",
   "execution_count": 15,
   "metadata": {
    "execution": {
     "iopub.execute_input": "2021-12-09T21:48:19.641729Z",
     "iopub.status.busy": "2021-12-09T21:48:19.640929Z",
     "iopub.status.idle": "2021-12-09T21:48:20.722462Z",
     "shell.execute_reply": "2021-12-09T21:48:20.722897Z"
    }
   },
   "outputs": [
    {
     "name": "stdout",
     "output_type": "stream",
     "text": [
      "flow at the seed point : [0. 0.].\n"
     ]
    }
   ],
   "source": [
    "flowNorms = hfmIn_Constant['metric'].norm(hfmOut['flow'])\n",
    "print(f\"flow at the seed point : {hfmOut['flow'][:,100,100]}.\")\n",
    "assert (np.abs(flowNorms - 1.)>1e-12).sum() == 1"
   ]
  },
  {
   "cell_type": "code",
   "execution_count": 16,
   "metadata": {
    "execution": {
     "iopub.execute_input": "2021-12-09T21:48:20.728642Z",
     "iopub.status.busy": "2021-12-09T21:48:20.728103Z",
     "iopub.status.idle": "2021-12-09T21:48:21.733618Z",
     "shell.execute_reply": "2021-12-09T21:48:21.734141Z"
    }
   },
   "outputs": [
    {
     "data": {
      "image/png": "[encoded data removed]",
      "text/plain": [
       "<Figure size 288x288 with 1 Axes>"
      ]
     },
     "metadata": {
      "needs_background": "light"
     },
     "output_type": "display_data"
    },
    {
     "data": {
      "image/png": "[encoded data removed]",
      "text/plain": [
       "<Figure size 288x288 with 1 Axes>"
      ]
     },
     "metadata": {
      "needs_background": "light"
     },
     "output_type": "display_data"
    },
    {
     "data": {
      "image/png": "[encoded data removed]",
      "text/plain": [
       "<Figure size 288x288 with 1 Axes>"
      ]
     },
     "metadata": {
      "needs_background": "light"
     },
     "output_type": "display_data"
    }
   ],
   "source": [
    "hfmIn_Constant['verbosity']=0\n",
    "hfmIn_Constant.pop('exportGeodesicFlow',None)\n",
    "for name,metric in zip(['Mica','Stishovite','Olivine'],[metric_mica,metric_stishovite,metric_olivine]):\n",
    "    hfmIn_Constant['metric'] = metric\n",
    "    hfmOut = hfmIn_Constant.Run()\n",
    "    \n",
    "    fig = plt.figure(figsize=[4,4]); plt.title(\"Constant tilted \" + name + \" medium\"); plt.axis('equal')\n",
    "    plt.contourf(*X,hfmOut['values']);\n",
    "    \n",
    "    savefig(fig,\"Distance_Constant\"+name+\".png\")"
   ]
  },
  {
   "cell_type": "markdown",
   "metadata": {},
   "source": [
    "### 1.1 Mandel notation\n",
    "\n",
    "Mandel notation is a variant of the Voigt notation, introducing normalizing factors of magnitude $\\sqrt 2$ and $2$."
   ]
  },
  {
   "cell_type": "code",
   "execution_count": 17,
   "metadata": {
    "execution": {
     "iopub.execute_input": "2021-12-09T21:48:21.739591Z",
     "iopub.status.busy": "2021-12-09T21:48:21.738155Z",
     "iopub.status.idle": "2021-12-09T21:48:21.742823Z",
     "shell.execute_reply": "2021-12-09T21:48:21.743355Z"
    }
   },
   "outputs": [
    {
     "data": {
      "text/plain": [
       "array([[1.        , 1.        , 1.41421356],\n",
       "       [1.        , 1.        , 1.41421356],\n",
       "       [1.41421356, 1.41421356, 2.        ]])"
      ]
     },
     "execution_count": 17,
     "metadata": {},
     "output_type": "execute_result"
    }
   ],
   "source": [
    "metric_mica._Mandel_factors(2) # In dimension two"
   ]
  },
  {
   "cell_type": "code",
   "execution_count": 18,
   "metadata": {
    "execution": {
     "iopub.execute_input": "2021-12-09T21:48:21.747237Z",
     "iopub.status.busy": "2021-12-09T21:48:21.746659Z",
     "iopub.status.idle": "2021-12-09T21:48:21.751740Z",
     "shell.execute_reply": "2021-12-09T21:48:21.752247Z"
    }
   },
   "outputs": [
    {
     "data": {
      "text/plain": [
       "array([[1.        , 1.        , 1.        , 1.41421356, 1.41421356,\n",
       "        1.41421356],\n",
       "       [1.        , 1.        , 1.        , 1.41421356, 1.41421356,\n",
       "        1.41421356],\n",
       "       [1.        , 1.        , 1.        , 1.41421356, 1.41421356,\n",
       "        1.41421356],\n",
       "       [1.41421356, 1.41421356, 1.41421356, 2.        , 2.        ,\n",
       "        2.        ],\n",
       "       [1.41421356, 1.41421356, 1.41421356, 2.        , 2.        ,\n",
       "        2.        ],\n",
       "       [1.41421356, 1.41421356, 1.41421356, 2.        , 2.        ,\n",
       "        2.        ]])"
      ]
     },
     "execution_count": 18,
     "metadata": {},
     "output_type": "execute_result"
    }
   ],
   "source": [
    "metric_mica._Mandel_factors(3) # In dimension three"
   ]
  },
  {
   "cell_type": "markdown",
   "metadata": {},
   "source": [
    "The eigenvalues of the hooke tensor given in Mandel notation make physical sense, and are invariant upon rotations."
   ]
  },
  {
   "cell_type": "code",
   "execution_count": 19,
   "metadata": {
    "execution": {
     "iopub.execute_input": "2021-12-09T21:48:21.758568Z",
     "iopub.status.busy": "2021-12-09T21:48:21.757332Z",
     "iopub.status.idle": "2021-12-09T21:48:21.760948Z",
     "shell.execute_reply": "2021-12-09T21:48:21.761465Z"
    }
   },
   "outputs": [],
   "source": [
    "metric = metric_mica.rotate_by(0.5)\n",
    "eigvals0 = np.linalg.eigvals(metric.to_Mandel())\n",
    "eigvals1 = np.linalg.eigvals(metric_mica.to_Mandel())\n",
    "assert norm_infinity(np.sort(eigvals0) - np.sort(eigvals1)) < 1e-12"
   ]
  },
  {
   "cell_type": "markdown",
   "metadata": {},
   "source": [
    "Define a hooke tensor can be defined from the Mandel notation."
   ]
  },
  {
   "cell_type": "code",
   "execution_count": 20,
   "metadata": {
    "execution": {
     "iopub.execute_input": "2021-12-09T21:48:21.766720Z",
     "iopub.status.busy": "2021-12-09T21:48:21.765991Z",
     "iopub.status.idle": "2021-12-09T21:48:21.768184Z",
     "shell.execute_reply": "2021-12-09T21:48:21.768687Z"
    }
   },
   "outputs": [],
   "source": [
    "metric2 = Hooke.from_Mandel(metric.to_Mandel())\n",
    "assert norm_infinity(metric2.hooke - metric.hooke) < 1e-14"
   ]
  },
  {
   "cell_type": "markdown",
   "metadata": {},
   "source": [
    "## 2. Varying medium"
   ]
  },
  {
   "cell_type": "markdown",
   "metadata": {},
   "source": [
    "### 2.1 Position dependent tilt orientation."
   ]
  },
  {
   "cell_type": "code",
   "execution_count": 21,
   "metadata": {
    "execution": {
     "iopub.execute_input": "2021-12-09T21:48:21.775066Z",
     "iopub.status.busy": "2021-12-09T21:48:21.774435Z",
     "iopub.status.idle": "2021-12-09T21:48:21.778043Z",
     "shell.execute_reply": "2021-12-09T21:48:21.777479Z"
    }
   },
   "outputs": [],
   "source": [
    "hfmIn_Varying = Eikonal.dictIn({\n",
    "    'model':'Seismic2',\n",
    "    'exportValues':1,\n",
    "    'seed':[0.,0.],\n",
    "})\n",
    "\n",
    "# Define the domain, get the coordinate grid\n",
    "hfmIn_Varying.SetRect(sides=[[-2,2],[-1,1]],dimx=201)\n",
    "hfmIn_Varying.SetUniformTips((6,6))\n",
    "X = hfmIn_Varying.Grid()"
   ]
  },
  {
   "cell_type": "code",
   "execution_count": 22,
   "metadata": {
    "execution": {
     "iopub.execute_input": "2021-12-09T21:48:21.782594Z",
     "iopub.status.busy": "2021-12-09T21:48:21.781937Z",
     "iopub.status.idle": "2021-12-09T21:48:21.795196Z",
     "shell.execute_reply": "2021-12-09T21:48:21.794634Z"
    }
   },
   "outputs": [],
   "source": [
    "# Make small oscillations in the tilting angle\n",
    "tiltAngle = (np.pi/6.)*np.sin(np.pi*X[0]+1)\n",
    "metric_var = mica.extract_xz().rotate_by(tiltAngle)"
   ]
  },
  {
   "cell_type": "code",
   "execution_count": 23,
   "metadata": {
    "execution": {
     "iopub.execute_input": "2021-12-09T21:48:21.799133Z",
     "iopub.status.busy": "2021-12-09T21:48:21.798517Z",
     "iopub.status.idle": "2021-12-09T21:48:21.800888Z",
     "shell.execute_reply": "2021-12-09T21:48:21.801473Z"
    }
   },
   "outputs": [],
   "source": [
    "#fig = plt.figure(figsize=[6,3]); plt.title(\"Varying medium orientation\"); plt.axis('equal')\n",
    "#plt.streamplot(*X,np.cos(tiltAngle),np.sin(tiltAngle))\n",
    "#savefig(fig,\"Medium_MicaVaryingTilt.png\")"
   ]
  },
  {
   "cell_type": "code",
   "execution_count": 24,
   "metadata": {
    "execution": {
     "iopub.execute_input": "2021-12-09T21:48:21.805558Z",
     "iopub.status.busy": "2021-12-09T21:48:21.804930Z",
     "iopub.status.idle": "2021-12-09T21:48:21.807346Z",
     "shell.execute_reply": "2021-12-09T21:48:21.807853Z"
    }
   },
   "outputs": [],
   "source": [
    "hfmIn_Varying['metric']=metric_var"
   ]
  },
  {
   "cell_type": "code",
   "execution_count": 25,
   "metadata": {
    "execution": {
     "iopub.execute_input": "2021-12-09T21:48:21.811839Z",
     "iopub.status.busy": "2021-12-09T21:48:21.811223Z",
     "iopub.status.idle": "2021-12-09T21:48:22.088586Z",
     "shell.execute_reply": "2021-12-09T21:48:22.089059Z"
    }
   },
   "outputs": [
    {
     "name": "stdout",
     "output_type": "stream",
     "text": [
      "Field verbosity defaults to 1\n",
      "Field cosAngleMin defaults to 0.5\n",
      "Field order defaults to 1\n",
      "Field seedRadius defaults to 0\n",
      "Fast marching solver completed in 0.103823 s.\n",
      "Field geodesicSolver defaults to Discrete\n",
      "Field geodesicStep defaults to 0.25\n",
      "Field geodesicWeightThreshold defaults to 0.001\n",
      "Field geodesicVolumeBound defaults to 8.45\n"
     ]
    }
   ],
   "source": [
    "hfmOut = hfmIn_Varying.Run()"
   ]
  },
  {
   "cell_type": "code",
   "execution_count": 26,
   "metadata": {
    "execution": {
     "iopub.execute_input": "2021-12-09T21:48:22.106151Z",
     "iopub.status.busy": "2021-12-09T21:48:22.096261Z",
     "iopub.status.idle": "2021-12-09T21:48:22.252501Z",
     "shell.execute_reply": "2021-12-09T21:48:22.252978Z"
    }
   },
   "outputs": [
    {
     "data": {
      "image/png": "[encoded data removed]",
      "text/plain": [
       "<Figure size 432x216 with 1 Axes>"
      ]
     },
     "metadata": {
      "needs_background": "light"
     },
     "output_type": "display_data"
    }
   ],
   "source": [
    "fig = plt.figure(figsize=[6,3]); plt.title('Minimal distance, Mica medium with varying tilt'); plt.axis('equal')\n",
    "plt.contourf(*X,hfmOut['values']);\n",
    "savefig(fig,\"Distance_MicaVaryingTilt.png\")"
   ]
  },
  {
   "cell_type": "code",
   "execution_count": 27,
   "metadata": {
    "execution": {
     "iopub.execute_input": "2021-12-09T21:48:22.281377Z",
     "iopub.status.busy": "2021-12-09T21:48:22.257131Z",
     "iopub.status.idle": "2021-12-09T21:48:22.467653Z",
     "shell.execute_reply": "2021-12-09T21:48:22.468239Z"
    }
   },
   "outputs": [
    {
     "data": {
      "image/png": "[encoded data removed]",
      "text/plain": [
       "<Figure size 432x216 with 1 Axes>"
      ]
     },
     "metadata": {
      "needs_background": "light"
     },
     "output_type": "display_data"
    }
   ],
   "source": [
    "fig = plt.figure(figsize=[6,3]); plt.title('Minimal geodesics, Mica medium with varying tilt'); plt.axis('equal'); \n",
    "for geo in hfmOut['geodesics']:  plt.plot(*geo) "
   ]
  },
  {
   "cell_type": "markdown",
   "metadata": {},
   "source": [
    "TODO : a piecewise constant medium.\n",
    "\n",
    "<!---\n",
    "### 2.2 Piecewise constant medium\n",
    "\n",
    "#hookeVar2 = np.broadcast_to(hooke1.reshape((3,3,1,1)),hookeVar1.shape).copy()\n",
    "#hookeVar2[:,:,X>(Z+0.3)] =hooke2 \n",
    "--->"
   ]
  },
  {
   "cell_type": "markdown",
   "metadata": {},
   "source": [
    "## 3. Taking into account the topography\n",
    "\n",
    "The arrival time of seismic waves is, usually, measured at ground level. In order to compute this quantity accurately, a good discretization of the surface topography may be required. \n",
    "\n",
    "However, the HFM software can only use rectangular domains (possibly with periodic boundary conditions). A change of variables toward the actual domain is this required, which jacobian matrix locally distorts the metric. Note that Hooke tensors do not define an class of metrics invariant under linear tranformations, as opposed to e.g. Riemannian, Rander, or asymmetric quadratic metrics, hence the jacobian matrix must be specified separately.\n",
    "\n",
    "<!---\n",
    "We limit our attention to changes of variables referred to as *topographic transformations*, taking the form\n",
    "$$\n",
    "    (x,z) \\mapsto (x,z+h(x,z))\n",
    "$$\n",
    "and whose jacobian matrix is therefore\n",
    "$$\n",
    "    \\begin{pmatrix}\n",
    "        1 & 0 \\\\\n",
    "        \\partial_x h & 1+ \\partial_z h\n",
    "%        \\frac{\\partial h(x,y)}{\\partial x} & 1+ \\frac{\\partial h(x,y)}{\\partial y}\n",
    "    \\end{pmatrix}\n",
    "$$\n",
    "--->\n",
    "\n",
    "Chosen physical domain is the image of the rectangle $[-1,1]\\times [0,1]$ by the smooth mapping $(x,z) \\mapsto h(x,z)$ defined below."
   ]
  },
  {
   "cell_type": "code",
   "execution_count": 28,
   "metadata": {
    "execution": {
     "iopub.execute_input": "2021-12-09T21:48:22.473828Z",
     "iopub.status.busy": "2021-12-09T21:48:22.473123Z",
     "iopub.status.idle": "2021-12-09T21:48:22.475738Z",
     "shell.execute_reply": "2021-12-09T21:48:22.476291Z"
    }
   },
   "outputs": [],
   "source": [
    "def h(x,z,alpha=0.5): return ad.array([x, z + alpha*z*np.sin(np.pi*x)])"
   ]
  },
  {
   "cell_type": "markdown",
   "metadata": {},
   "source": [
    "We take into account the surface topography, while leaving invariant the other axes."
   ]
  },
  {
   "cell_type": "code",
   "execution_count": 29,
   "metadata": {
    "execution": {
     "iopub.execute_input": "2021-12-09T21:48:22.485713Z",
     "iopub.status.busy": "2021-12-09T21:48:22.485078Z",
     "iopub.status.idle": "2021-12-09T21:48:22.670764Z",
     "shell.execute_reply": "2021-12-09T21:48:22.671287Z"
    }
   },
   "outputs": [
    {
     "data": {
      "image/png": "[encoded data removed]",
      "text/plain": [
       "<Figure size 432x288 with 1 Axes>"
      ]
     },
     "metadata": {
      "needs_background": "light"
     },
     "output_type": "display_data"
    }
   ],
   "source": [
    "X = np.linspace(-1,1,20)\n",
    "Z = np.linspace(0,1,5)\n",
    "for z in Z: plt.plot(*h(X,z)) \n",
    "for x in X: plt.plot(*h(x+0.*Z,Z))"
   ]
  },
  {
   "cell_type": "code",
   "execution_count": 30,
   "metadata": {
    "execution": {
     "iopub.execute_input": "2021-12-09T21:48:22.678763Z",
     "iopub.status.busy": "2021-12-09T21:48:22.678088Z",
     "iopub.status.idle": "2021-12-09T21:48:22.681698Z",
     "shell.execute_reply": "2021-12-09T21:48:22.681156Z"
    }
   },
   "outputs": [],
   "source": [
    "hfmIn_Topo = Eikonal.dictIn({\n",
    "    'model':'SeismicTopographic2',\n",
    "    'exportValues':1,\n",
    "    'seed':[0.,0.5],\n",
    "})\n",
    "\n",
    "# Define the domain\n",
    "hfmIn_Topo.SetRect(sides=[[-1,1],[0,1]],dimx=101)\n",
    "hfmIn_Topo.SetUniformTips((6,6))\n",
    "\n",
    "X0 = hfmIn_Topo.Grid() # Grid coordinates (horizontal and vertical)\n",
    "X = h(*X0) # Physical coordinates"
   ]
  },
  {
   "cell_type": "markdown",
   "metadata": {},
   "source": [
    "We use automatic differentiation to compute the jacobian matrix of the change of variables."
   ]
  },
  {
   "cell_type": "code",
   "execution_count": 31,
   "metadata": {
    "execution": {
     "iopub.execute_input": "2021-12-09T21:48:22.686897Z",
     "iopub.status.busy": "2021-12-09T21:48:22.686240Z",
     "iopub.status.idle": "2021-12-09T21:48:22.690885Z",
     "shell.execute_reply": "2021-12-09T21:48:22.691406Z"
    }
   },
   "outputs": [],
   "source": [
    "X0_ad = ad.Dense.identity(constant=X0,shape_free=(2,))\n",
    "Jac = np.moveaxis(h(*X0_ad).gradient(),0,1)"
   ]
  },
  {
   "cell_type": "code",
   "execution_count": 32,
   "metadata": {
    "execution": {
     "iopub.execute_input": "2021-12-09T21:48:22.696478Z",
     "iopub.status.busy": "2021-12-09T21:48:22.695667Z",
     "iopub.status.idle": "2021-12-09T21:48:22.699475Z",
     "shell.execute_reply": "2021-12-09T21:48:22.698947Z"
    }
   },
   "outputs": [],
   "source": [
    "metric_topo = mica.extract_xz().rotate_by(-np.pi/6)\n",
    "metric_topo = metric_topo.inv_transform(Jac) "
   ]
  },
  {
   "cell_type": "markdown",
   "metadata": {},
   "source": [
    "Rotations are handled by modifying the hooke tensor, but general linear transformations are stored separately."
   ]
  },
  {
   "cell_type": "code",
   "execution_count": 33,
   "metadata": {
    "execution": {
     "iopub.execute_input": "2021-12-09T21:48:22.703708Z",
     "iopub.status.busy": "2021-12-09T21:48:22.703077Z",
     "iopub.status.idle": "2021-12-09T21:48:22.706480Z",
     "shell.execute_reply": "2021-12-09T21:48:22.707197Z"
    }
   },
   "outputs": [
    {
     "name": "stdout",
     "output_type": "stream",
     "text": [
      "Required model : SeismicTopographic2. Stored Jacobian shape : (2, 2, 101, 50).\n"
     ]
    }
   ],
   "source": [
    "print(f\"Required model : {metric_topo.model_HFM()}.\",\n",
    "      f\"Stored Jacobian shape : {metric_topo.inverse_transformation.shape}.\")"
   ]
  },
  {
   "cell_type": "code",
   "execution_count": 34,
   "metadata": {
    "execution": {
     "iopub.execute_input": "2021-12-09T21:48:22.711329Z",
     "iopub.status.busy": "2021-12-09T21:48:22.710664Z",
     "iopub.status.idle": "2021-12-09T21:48:22.713549Z",
     "shell.execute_reply": "2021-12-09T21:48:22.712957Z"
    }
   },
   "outputs": [],
   "source": [
    "hfmIn_Topo['metric'] = metric_topo #.to_HFM() #HookeTopo_to_HFM(hooke,h_grad(X0,Z0))"
   ]
  },
  {
   "cell_type": "code",
   "execution_count": 35,
   "metadata": {
    "execution": {
     "iopub.execute_input": "2021-12-09T21:48:22.717497Z",
     "iopub.status.busy": "2021-12-09T21:48:22.716894Z",
     "iopub.status.idle": "2021-12-09T21:48:22.815708Z",
     "shell.execute_reply": "2021-12-09T21:48:22.816173Z"
    }
   },
   "outputs": [
    {
     "name": "stdout",
     "output_type": "stream",
     "text": [
      "Field verbosity defaults to 1\n",
      "Field cosAngleMin defaults to 0.5\n",
      "Field order defaults to 1\n",
      "Field seedRadius defaults to 0\n",
      "Fast marching solver completed in 0.025148 s.\n",
      "Field geodesicSolver defaults to Discrete\n",
      "Field geodesicStep defaults to 0.25\n",
      "Field geodesicWeightThreshold defaults to 0.001\n",
      "Field geodesicVolumeBound defaults to 8.45\n"
     ]
    }
   ],
   "source": [
    "hfmOut = hfmIn_Topo.Run()"
   ]
  },
  {
   "cell_type": "code",
   "execution_count": 36,
   "metadata": {
    "execution": {
     "iopub.execute_input": "2021-12-09T21:48:22.838733Z",
     "iopub.status.busy": "2021-12-09T21:48:22.829100Z",
     "iopub.status.idle": "2021-12-09T21:48:22.956192Z",
     "shell.execute_reply": "2021-12-09T21:48:22.956682Z"
    }
   },
   "outputs": [
    {
     "data": {
      "image/png": "[encoded data removed]",
      "text/plain": [
       "<Figure size 288x288 with 1 Axes>"
      ]
     },
     "metadata": {
      "needs_background": "light"
     },
     "output_type": "display_data"
    }
   ],
   "source": [
    "fig = plt.figure(figsize=[4,4]); plt.title('Minimal distance, Seismic metric (constant) with topography'); plt.axis('equal')\n",
    "plt.contourf(*X,hfmOut['values']);"
   ]
  },
  {
   "cell_type": "markdown",
   "metadata": {},
   "source": [
    "The geodesics are straight lines, except for those which would cross the surface."
   ]
  },
  {
   "cell_type": "code",
   "execution_count": 37,
   "metadata": {
    "execution": {
     "iopub.execute_input": "2021-12-09T21:48:22.989590Z",
     "iopub.status.busy": "2021-12-09T21:48:22.971665Z",
     "iopub.status.idle": "2021-12-09T21:48:23.150914Z",
     "shell.execute_reply": "2021-12-09T21:48:23.151428Z"
    }
   },
   "outputs": [
    {
     "data": {
      "image/png": "[encoded data removed]",
      "text/plain": [
       "<Figure size 288x288 with 1 Axes>"
      ]
     },
     "metadata": {
      "needs_background": "light"
     },
     "output_type": "display_data"
    }
   ],
   "source": [
    "fig = plt.figure(figsize=[4,4]);  plt.axis('equal'); \n",
    "plt.title('Minimal geodesics, Seismic metric (constant) with topography');\n",
    "for geo in hfmOut['geodesics']:  \n",
    "    plt.plot(*h(*geo)) "
   ]
  },
  {
   "cell_type": "markdown",
   "metadata": {},
   "source": [
    "Note that the computation involved a distorted metric, on a distorted domain."
   ]
  },
  {
   "cell_type": "code",
   "execution_count": 38,
   "metadata": {
    "execution": {
     "iopub.execute_input": "2021-12-09T21:48:23.175617Z",
     "iopub.status.busy": "2021-12-09T21:48:23.157302Z",
     "iopub.status.idle": "2021-12-09T21:48:23.323884Z",
     "shell.execute_reply": "2021-12-09T21:48:23.324440Z"
    }
   },
   "outputs": [
    {
     "data": {
      "image/png": "[encoded data removed]",
      "text/plain": [
       "<Figure size 432x288 with 1 Axes>"
      ]
     },
     "metadata": {
      "needs_background": "light"
     },
     "output_type": "display_data"
    }
   ],
   "source": [
    "plt.title('Minimal distance, Seismic metric (constant) with topography, deformed grid'); plt.axis('equal')\n",
    "plt.contourf(*X0,hfmOut['values']);"
   ]
  },
  {
   "cell_type": "code",
   "execution_count": 39,
   "metadata": {
    "execution": {
     "iopub.execute_input": "2021-12-09T21:48:23.369584Z",
     "iopub.status.busy": "2021-12-09T21:48:23.330924Z",
     "iopub.status.idle": "2021-12-09T21:48:23.533580Z",
     "shell.execute_reply": "2021-12-09T21:48:23.534136Z"
    }
   },
   "outputs": [
    {
     "data": {
      "image/png": "[encoded data removed]",
      "text/plain": [
       "<Figure size 432x288 with 1 Axes>"
      ]
     },
     "metadata": {
      "needs_background": "light"
     },
     "output_type": "display_data"
    }
   ],
   "source": [
    "plt.title('Minimal geodesics, Seismic metric (constant) with topography'); plt.axis('equal'); \n",
    "for geo in hfmOut['geodesics']:  plt.plot(*geo) "
   ]
  },
  {
   "cell_type": "markdown",
   "metadata": {},
   "source": [
    "## 4. Testing reproduction\n",
    "\n",
    "In this section, we check the soundness of the proposed discretization by comparing the numerical solution with the exact solution, when it is known."
   ]
  },
  {
   "cell_type": "markdown",
   "metadata": {},
   "source": [
    "### 4.1 Case of a constant metric\n",
    "\n",
    "If the metric is constant and if source factorization is used over all the domain, then the exact solution is recovered, up to floating point accuracy."
   ]
  },
  {
   "cell_type": "code",
   "execution_count": 40,
   "metadata": {
    "execution": {
     "iopub.execute_input": "2021-12-09T21:48:23.541011Z",
     "iopub.status.busy": "2021-12-09T21:48:23.540324Z",
     "iopub.status.idle": "2021-12-09T21:48:23.542939Z",
     "shell.execute_reply": "2021-12-09T21:48:23.543481Z"
    }
   },
   "outputs": [],
   "source": [
    "n=101\n",
    "hfmIn_Constant.SetRect(sides=[[-1,1],[-1,1]],dimx=n)\n",
    "hfmIn_Constant.update({\n",
    "    'factoringRadius':-1, # factorization is used over all the domain \n",
    "    'verbosity':1,\n",
    "})\n",
    "X = hfmIn_Constant.Grid()"
   ]
  },
  {
   "cell_type": "code",
   "execution_count": 41,
   "metadata": {
    "execution": {
     "iopub.execute_input": "2021-12-09T21:48:23.547937Z",
     "iopub.status.busy": "2021-12-09T21:48:23.547225Z",
     "iopub.status.idle": "2021-12-09T21:48:23.816827Z",
     "shell.execute_reply": "2021-12-09T21:48:23.817290Z"
    }
   },
   "outputs": [],
   "source": [
    "exactSolution = hfmIn_Constant['metric'].norm(X)"
   ]
  },
  {
   "cell_type": "code",
   "execution_count": 42,
   "metadata": {
    "execution": {
     "iopub.execute_input": "2021-12-09T21:48:23.821099Z",
     "iopub.status.busy": "2021-12-09T21:48:23.820552Z",
     "iopub.status.idle": "2021-12-09T21:48:23.890623Z",
     "shell.execute_reply": "2021-12-09T21:48:23.891176Z"
    }
   },
   "outputs": [
    {
     "name": "stdout",
     "output_type": "stream",
     "text": [
      "Field cosAngleMin defaults to 0.5\n",
      "Field order defaults to 1\n",
      "Field seedRadius defaults to 2\n",
      "Field factoringPointChoice defaults to Seed\n",
      "Field exportFactoring defaults to 0\n",
      "Fast marching solver completed in 0.039256 s.\n",
      "Field geodesicSolver defaults to Discrete\n",
      "Field geodesicStep defaults to 0.25\n",
      "Field geodesicWeightThreshold defaults to 0.001\n",
      "Field geodesicVolumeBound defaults to 8.45\n"
     ]
    }
   ],
   "source": [
    "hfmOut = hfmIn_Constant.Run()"
   ]
  },
  {
   "cell_type": "markdown",
   "metadata": {},
   "source": [
    "Exact and numerical solution match up to machine arithmetic precision."
   ]
  },
  {
   "cell_type": "code",
   "execution_count": 43,
   "metadata": {
    "execution": {
     "iopub.execute_input": "2021-12-09T21:48:23.895838Z",
     "iopub.status.busy": "2021-12-09T21:48:23.895306Z",
     "iopub.status.idle": "2021-12-09T21:48:23.897913Z",
     "shell.execute_reply": "2021-12-09T21:48:23.898349Z"
    }
   },
   "outputs": [],
   "source": [
    "assert np.allclose(exactSolution,hfmOut['values'])"
   ]
  },
  {
   "cell_type": "markdown",
   "metadata": {},
   "source": [
    "The fast marching algorithm, used under the hood, requires the numerical scheme to be causal, and therefore the stencils to be sufficiently refined. If this condition is not met, then a systematic error will occur.\n",
    "For that purpose, the field *stencilGeometry* should be set to:\n",
    "* 'None' (default), to produce adaptive stencils automatically obeying the causality property. (With some computational overhead.)\n",
    "* 'Square', or 'SpikySquare', which are fine enough for the anisotropies encountered in seismology.\n",
    "\n",
    "In the following example, we purposedly use an under-refined stencil, to illustrate inconsistencies in the lack of causality."
   ]
  },
  {
   "cell_type": "code",
   "execution_count": 44,
   "metadata": {
    "execution": {
     "iopub.execute_input": "2021-12-09T21:48:23.901903Z",
     "iopub.status.busy": "2021-12-09T21:48:23.901378Z",
     "iopub.status.idle": "2021-12-09T21:48:23.903697Z",
     "shell.execute_reply": "2021-12-09T21:48:23.904170Z"
    }
   },
   "outputs": [],
   "source": [
    "hfmIn_Constant['stencilGeometry']='Diamond' # This stencil is causal only for isotropic metrics"
   ]
  },
  {
   "cell_type": "code",
   "execution_count": 45,
   "metadata": {
    "execution": {
     "iopub.execute_input": "2021-12-09T21:48:23.907684Z",
     "iopub.status.busy": "2021-12-09T21:48:23.907136Z",
     "iopub.status.idle": "2021-12-09T21:48:23.967486Z",
     "shell.execute_reply": "2021-12-09T21:48:23.967980Z"
    }
   },
   "outputs": [
    {
     "name": "stdout",
     "output_type": "stream",
     "text": [
      "Field cosAngleMin defaults to 0.5\n",
      "Field order defaults to 1\n",
      "Field seedRadius defaults to 2\n",
      "Field factoringPointChoice defaults to Seed\n",
      "Field exportFactoring defaults to 0\n",
      "Fast marching solver completed in 0.019214 s.\n",
      "Field geodesicSolver defaults to Discrete\n",
      "Field geodesicStep defaults to 0.25\n",
      "Field geodesicWeightThreshold defaults to 0.001\n",
      "Field geodesicVolumeBound defaults to 8.45\n"
     ]
    }
   ],
   "source": [
    "hfmOut = hfmIn_Constant.Run()"
   ]
  },
  {
   "cell_type": "code",
   "execution_count": 46,
   "metadata": {
    "execution": {
     "iopub.execute_input": "2021-12-09T21:48:24.063234Z",
     "iopub.status.busy": "2021-12-09T21:48:24.062702Z",
     "iopub.status.idle": "2021-12-09T21:48:24.201812Z",
     "shell.execute_reply": "2021-12-09T21:48:24.202292Z"
    }
   },
   "outputs": [
    {
     "data": {
      "image/png": "[encoded data removed]",
      "text/plain": [
       "<Figure size 432x288 with 1 Axes>"
      ]
     },
     "metadata": {
      "needs_background": "light"
     },
     "output_type": "display_data"
    }
   ],
   "source": [
    "plt.title(\"Seismic traveltimes. Under-refined stencil causes systematic error\"); plt.axis('equal')\n",
    "plt.contourf(*X,hfmOut['values']);"
   ]
  },
  {
   "cell_type": "code",
   "execution_count": 47,
   "metadata": {
    "execution": {
     "iopub.execute_input": "2021-12-09T21:48:24.206530Z",
     "iopub.status.busy": "2021-12-09T21:48:24.205901Z",
     "iopub.status.idle": "2021-12-09T21:48:24.210308Z",
     "shell.execute_reply": "2021-12-09T21:48:24.210793Z"
    }
   },
   "outputs": [
    {
     "data": {
      "text/plain": [
       "0.0009596592201516416"
      ]
     },
     "execution_count": 47,
     "metadata": {},
     "output_type": "execute_result"
    }
   ],
   "source": [
    "np.max(np.abs(exactSolution-hfmOut['values']))"
   ]
  },
  {
   "cell_type": "code",
   "execution_count": 48,
   "metadata": {
    "execution": {
     "iopub.execute_input": "2021-12-09T21:48:24.215223Z",
     "iopub.status.busy": "2021-12-09T21:48:24.214618Z",
     "iopub.status.idle": "2021-12-09T21:48:24.216903Z",
     "shell.execute_reply": "2021-12-09T21:48:24.217424Z"
    }
   },
   "outputs": [],
   "source": [
    "hfmIn_Constant['stencilGeometry']='None' # Use automatically generated adaptive stencils (default)"
   ]
  },
  {
   "cell_type": "markdown",
   "metadata": {},
   "source": [
    "### 4.2 Case with topography\n",
    "\n",
    "In the instance involving ground topography, the discretization grid is distorted. Therefore the numerical metric is non-constant, and we cannot expect the numerical method to exactly reproduce the arrival times. \n",
    "We compute the exact arrival times as above, by requiring the factor used in the constant case."
   ]
  },
  {
   "cell_type": "code",
   "execution_count": 49,
   "metadata": {
    "execution": {
     "iopub.execute_input": "2021-12-09T21:48:24.223234Z",
     "iopub.status.busy": "2021-12-09T21:48:24.222537Z",
     "iopub.status.idle": "2021-12-09T21:48:24.382020Z",
     "shell.execute_reply": "2021-12-09T21:48:24.382463Z"
    }
   },
   "outputs": [],
   "source": [
    "X0 = hfmIn_Topo.Grid() # Rectangular coordinates\n",
    "X = h(*X0) # Physical coordinates\n",
    "hooke = Hooke(hfmIn_Topo['metric'].hooke[:,:,0,0]) # Hooke tensor only, omits the change of vars\n",
    "seed = hfmIn_Topo['seed']\n",
    "exact = hooke.norm(X - fd.as_field(seed,X.shape[1:]))"
   ]
  },
  {
   "cell_type": "markdown",
   "metadata": {},
   "source": [
    "We introduce source factorization so as to reduce the numerical error of the numerical method. "
   ]
  },
  {
   "cell_type": "code",
   "execution_count": 50,
   "metadata": {
    "execution": {
     "iopub.execute_input": "2021-12-09T21:48:24.386100Z",
     "iopub.status.busy": "2021-12-09T21:48:24.385590Z",
     "iopub.status.idle": "2021-12-09T21:48:24.387729Z",
     "shell.execute_reply": "2021-12-09T21:48:24.388197Z"
    }
   },
   "outputs": [],
   "source": [
    "hfmIn_Topo['factoringRadius']=-1 # factorization is used over all the domain "
   ]
  },
  {
   "cell_type": "code",
   "execution_count": 51,
   "metadata": {
    "execution": {
     "iopub.execute_input": "2021-12-09T21:48:24.391522Z",
     "iopub.status.busy": "2021-12-09T21:48:24.391012Z",
     "iopub.status.idle": "2021-12-09T21:48:24.477156Z",
     "shell.execute_reply": "2021-12-09T21:48:24.477687Z"
    }
   },
   "outputs": [
    {
     "name": "stdout",
     "output_type": "stream",
     "text": [
      "Field verbosity defaults to 1\n",
      "Field cosAngleMin defaults to 0.5\n",
      "Field order defaults to 1\n",
      "Field seedRadius defaults to 2\n",
      "Field factoringPointChoice defaults to Seed\n",
      "Field exportFactoring defaults to 0\n",
      "Fast marching solver completed in 0.026461 s.\n",
      "Field geodesicSolver defaults to Discrete\n",
      "Field geodesicStep defaults to 0.25\n",
      "Field geodesicWeightThreshold defaults to 0.001\n",
      "Field geodesicVolumeBound defaults to 8.45\n"
     ]
    }
   ],
   "source": [
    "hfmOut = hfmIn_Topo.Run()"
   ]
  },
  {
   "cell_type": "code",
   "execution_count": 52,
   "metadata": {
    "execution": {
     "iopub.execute_input": "2021-12-09T21:48:24.482104Z",
     "iopub.status.busy": "2021-12-09T21:48:24.481573Z",
     "iopub.status.idle": "2021-12-09T21:48:24.483910Z",
     "shell.execute_reply": "2021-12-09T21:48:24.484341Z"
    }
   },
   "outputs": [],
   "source": [
    "error = exact-hfmOut['values']"
   ]
  },
  {
   "cell_type": "markdown",
   "metadata": {},
   "source": [
    "Actually, our 'exact' solution is only exact outside the shadow zone, in the upper left part of the domain, which is not connected to the seed by a straight line in the domain."
   ]
  },
  {
   "cell_type": "code",
   "execution_count": 53,
   "metadata": {
    "execution": {
     "iopub.execute_input": "2021-12-09T21:48:24.508570Z",
     "iopub.status.busy": "2021-12-09T21:48:24.506909Z",
     "iopub.status.idle": "2021-12-09T21:48:24.772983Z",
     "shell.execute_reply": "2021-12-09T21:48:24.773451Z"
    }
   },
   "outputs": [
    {
     "data": {
      "image/png": "[encoded data removed]",
      "text/plain": [
       "<Figure size 432x288 with 2 Axes>"
      ]
     },
     "metadata": {
      "needs_background": "light"
     },
     "output_type": "display_data"
    }
   ],
   "source": [
    "plt.contourf(*X,error)\n",
    "plt.colorbar()\n",
    "plt.scatter(*hfmIn_Topo['seed']);"
   ]
  },
  {
   "cell_type": "code",
   "execution_count": 54,
   "metadata": {
    "execution": {
     "iopub.execute_input": "2021-12-09T21:48:24.778164Z",
     "iopub.status.busy": "2021-12-09T21:48:24.777622Z",
     "iopub.status.idle": "2021-12-09T21:48:24.781318Z",
     "shell.execute_reply": "2021-12-09T21:48:24.781768Z"
    }
   },
   "outputs": [
    {
     "name": "stdout",
     "output_type": "stream",
     "text": [
      "Numerical error outside shadow region :  0.010099956307889055\n",
      "Time difference inside shadow region :  0.034512658642058686\n"
     ]
    }
   ],
   "source": [
    "shadowRegion = np.logical_and(X[0]<=-0.4, X[1]>=0.4)\n",
    "print(\"Numerical error outside shadow region : \", np.max(np.abs(error * (1-shadowRegion))))\n",
    "print(\"Time difference inside shadow region : \", np.max(np.abs(error*shadowRegion)))"
   ]
  },
  {
   "cell_type": "code",
   "execution_count": 55,
   "metadata": {
    "execution": {
     "iopub.execute_input": "2021-12-09T21:48:24.801021Z",
     "iopub.status.busy": "2021-12-09T21:48:24.800488Z",
     "iopub.status.idle": "2021-12-09T21:48:24.929237Z",
     "shell.execute_reply": "2021-12-09T21:48:24.929858Z"
    }
   },
   "outputs": [
    {
     "data": {
      "image/png": "[encoded data removed]",
      "text/plain": [
       "<Figure size 432x288 with 1 Axes>"
      ]
     },
     "metadata": {
      "needs_background": "light"
     },
     "output_type": "display_data"
    }
   ],
   "source": [
    "plt.contourf(*X,shadowRegion);"
   ]
  },
  {
   "cell_type": "markdown",
   "metadata": {},
   "source": [
    "## 5. Three dimensional example\n",
    "\n",
    "We illustrate the computation of three dimensional seismic wave traveltimes."
   ]
  },
  {
   "cell_type": "markdown",
   "metadata": {},
   "source": [
    "### 5.1 Case of a constant metric\n",
    "\n",
    "The geological medium is defined as tilted mica."
   ]
  },
  {
   "cell_type": "code",
   "execution_count": 56,
   "metadata": {
    "execution": {
     "iopub.execute_input": "2021-12-09T21:48:24.938093Z",
     "iopub.status.busy": "2021-12-09T21:48:24.936022Z",
     "iopub.status.idle": "2021-12-09T21:48:24.940784Z",
     "shell.execute_reply": "2021-12-09T21:48:24.941371Z"
    }
   },
   "outputs": [],
   "source": [
    "# Define a rotation matrix by its angle and axis\n",
    "rotation_params = np.pi/3.,(2.,1.,3.)\n",
    "hooke3D_1 = mica.rotate_by(*rotation_params)\n",
    "hooke3D_2 = olivine.rotate_by(*rotation_params)"
   ]
  },
  {
   "cell_type": "code",
   "execution_count": 57,
   "metadata": {
    "execution": {
     "iopub.execute_input": "2021-12-09T21:48:24.949363Z",
     "iopub.status.busy": "2021-12-09T21:48:24.948676Z",
     "iopub.status.idle": "2021-12-09T21:48:24.951487Z",
     "shell.execute_reply": "2021-12-09T21:48:24.952055Z"
    }
   },
   "outputs": [],
   "source": [
    "hfmIn3D_Constant = Eikonal.dictIn({\n",
    "    'model':'Seismic3',    \n",
    "    'metric':hooke3D_1,\n",
    "    'seeds':[[0.,0.,0.]],\n",
    "    'factoringRadius':8,\n",
    "\n",
    "    'exportValues':1,\n",
    "    'exportGeodesicFlow':1\n",
    "})\n",
    "\n",
    "# Define the domain\n",
    "n=21; nHalf = n//2\n",
    "hfmIn3D_Constant.SetRect(sides=[[-1,1],[-1,1],[-1,1]],dimx=n)\n",
    "X,Y,Z = hfmIn3D_Constant.Grid()"
   ]
  },
  {
   "cell_type": "markdown",
   "metadata": {},
   "source": [
    "At the time of writing, the *Seismic3* model does not support an adaptive stencil construction, automatically enforcing the causality property. The *stencil geometry* must therefore be explicitly defined, chosen among the following possibilities:\n",
    "* **CutCube** uses $18$ neighbors. Causal for moderately anisotropic models, such as olivine or stishovite.\n",
    "* **Cube** uses $26$ neighbors. Intermediate refinement.\n",
    "* **SpikyCube** uses $50$ neighbors. Causal for the mica medium, which is one of the most strongly anisotropic encountered in seismology.\n",
    "\n",
    "The numerical cost of the fast marching method is directly impacted by the numeber of neighbors used."
   ]
  },
  {
   "cell_type": "code",
   "execution_count": 58,
   "metadata": {
    "execution": {
     "iopub.execute_input": "2021-12-09T21:48:24.956657Z",
     "iopub.status.busy": "2021-12-09T21:48:24.955979Z",
     "iopub.status.idle": "2021-12-09T21:48:24.959061Z",
     "shell.execute_reply": "2021-12-09T21:48:24.959666Z"
    }
   },
   "outputs": [],
   "source": [
    "hfmIn3D_Constant['stencilGeometry']='SpikyCube' # Largest stencil, suitable for mica (strong anisotropy)"
   ]
  },
  {
   "cell_type": "code",
   "execution_count": 59,
   "metadata": {
    "execution": {
     "iopub.execute_input": "2021-12-09T21:48:24.964110Z",
     "iopub.status.busy": "2021-12-09T21:48:24.963450Z",
     "iopub.status.idle": "2021-12-09T21:48:26.219889Z",
     "shell.execute_reply": "2021-12-09T21:48:26.220336Z"
    }
   },
   "outputs": [
    {
     "name": "stdout",
     "output_type": "stream",
     "text": [
      "Field verbosity defaults to 1\n",
      "Field checkAcuteness defaults to 0\n",
      "Field order defaults to 1\n",
      "Field seedRadius defaults to 2\n",
      "Field factoringPointChoice defaults to Seed\n",
      "Field exportFactoring defaults to 0\n",
      "Fast marching solver completed in 1.14845 s.\n"
     ]
    }
   ],
   "source": [
    "hfmOut = hfmIn3D_Constant.Run()"
   ]
  },
  {
   "cell_type": "code",
   "execution_count": 60,
   "metadata": {
    "execution": {
     "iopub.execute_input": "2021-12-09T21:48:26.247945Z",
     "iopub.status.busy": "2021-12-09T21:48:26.236702Z",
     "iopub.status.idle": "2021-12-09T21:48:26.369227Z",
     "shell.execute_reply": "2021-12-09T21:48:26.369824Z"
    }
   },
   "outputs": [
    {
     "data": {
      "image/png": "[encoded data removed]",
      "text/plain": [
       "<Figure size 432x288 with 1 Axes>"
      ]
     },
     "metadata": {
      "needs_background": "light"
     },
     "output_type": "display_data"
    }
   ],
   "source": [
    "plt.axis('equal'); plt.title('Slice of arrival times for the mica model')\n",
    "plt.contourf(Y[nHalf],Z[nHalf],hfmOut['values'][nHalf]);"
   ]
  },
  {
   "cell_type": "code",
   "execution_count": 61,
   "metadata": {
    "execution": {
     "iopub.execute_input": "2021-12-09T21:48:26.375248Z",
     "iopub.status.busy": "2021-12-09T21:48:26.374557Z",
     "iopub.status.idle": "2021-12-09T21:48:27.823098Z",
     "shell.execute_reply": "2021-12-09T21:48:27.823580Z"
    }
   },
   "outputs": [],
   "source": [
    "sx,sy,sz = hfmIn3D_Constant['seed']\n",
    "exact = hfmIn3D_Constant['metric'].norm((X-sx,Y-sy,Z-sz))"
   ]
  },
  {
   "cell_type": "code",
   "execution_count": 62,
   "metadata": {
    "execution": {
     "iopub.execute_input": "2021-12-09T21:48:27.828107Z",
     "iopub.status.busy": "2021-12-09T21:48:27.827541Z",
     "iopub.status.idle": "2021-12-09T21:48:27.830068Z",
     "shell.execute_reply": "2021-12-09T21:48:27.830572Z"
    }
   },
   "outputs": [],
   "source": [
    "error = hfmOut['values']-exact\n",
    "factoringRegion = np.sqrt(X**2+Y**2+Z**2) < hfmIn3D_Constant['factoringRadius']*hfmIn3D_Constant['gridScale']"
   ]
  },
  {
   "cell_type": "markdown",
   "metadata": {},
   "source": [
    "Because the metric is constant, the arrival times are exact in the factoring region."
   ]
  },
  {
   "cell_type": "code",
   "execution_count": 63,
   "metadata": {
    "execution": {
     "iopub.execute_input": "2021-12-09T21:48:27.834425Z",
     "iopub.status.busy": "2021-12-09T21:48:27.833875Z",
     "iopub.status.idle": "2021-12-09T21:48:27.836425Z",
     "shell.execute_reply": "2021-12-09T21:48:27.836886Z"
    }
   },
   "outputs": [],
   "source": [
    "assert norm_infinity(error * factoringRegion) < 1e-16"
   ]
  },
  {
   "cell_type": "markdown",
   "metadata": {},
   "source": [
    "A small error is omitted elsewhere, which may be improved using a higher order scheme."
   ]
  },
  {
   "cell_type": "code",
   "execution_count": 64,
   "metadata": {
    "execution": {
     "iopub.execute_input": "2021-12-09T21:48:27.840825Z",
     "iopub.status.busy": "2021-12-09T21:48:27.840070Z",
     "iopub.status.idle": "2021-12-09T21:48:27.843231Z",
     "shell.execute_reply": "2021-12-09T21:48:27.843713Z"
    }
   },
   "outputs": [
    {
     "name": "stdout",
     "output_type": "stream",
     "text": [
      "Global error :  0.0013982669216928284\n"
     ]
    }
   ],
   "source": [
    "print(\"Global error : \", norm_infinity(error))"
   ]
  },
  {
   "cell_type": "markdown",
   "metadata": {},
   "source": [
    "Again the geodesic flow is normalized w.r.t. the metric, except at the center point and its immediate neighbors, which are used as seed points."
   ]
  },
  {
   "cell_type": "code",
   "execution_count": 65,
   "metadata": {
    "execution": {
     "iopub.execute_input": "2021-12-09T21:48:27.848366Z",
     "iopub.status.busy": "2021-12-09T21:48:27.847707Z",
     "iopub.status.idle": "2021-12-09T21:48:29.335536Z",
     "shell.execute_reply": "2021-12-09T21:48:29.336016Z"
    }
   },
   "outputs": [
    {
     "name": "stdout",
     "output_type": "stream",
     "text": [
      "Flow norm at a seed point : 0.0\n"
     ]
    }
   ],
   "source": [
    "flowNorms = hfmIn3D_Constant['metric'].norm(hfmOut['flow'])\n",
    "print(f\"Flow norm at a seed point : {flowNorms[nHalf,nHalf,nHalf]}\")\n",
    "assert np.sum(np.abs(flowNorms-1.)>1e-8) <= 3**3"
   ]
  },
  {
   "cell_type": "code",
   "execution_count": 66,
   "metadata": {
    "execution": {
     "iopub.execute_input": "2021-12-09T21:48:29.339771Z",
     "iopub.status.busy": "2021-12-09T21:48:29.339252Z",
     "iopub.status.idle": "2021-12-09T21:48:29.341742Z",
     "shell.execute_reply": "2021-12-09T21:48:29.342277Z"
    }
   },
   "outputs": [],
   "source": [
    "assert (np.abs(flowNorms-1.)>=1e-12 ).sum() <= 27 "
   ]
  },
  {
   "cell_type": "markdown",
   "metadata": {},
   "source": [
    "The less anisotropic olivine model can accomodate less refined stencils, and enjoy faster computation times."
   ]
  },
  {
   "cell_type": "code",
   "execution_count": 67,
   "metadata": {
    "execution": {
     "iopub.execute_input": "2021-12-09T21:48:29.346412Z",
     "iopub.status.busy": "2021-12-09T21:48:29.345728Z",
     "iopub.status.idle": "2021-12-09T21:48:29.348270Z",
     "shell.execute_reply": "2021-12-09T21:48:29.347767Z"
    }
   },
   "outputs": [],
   "source": [
    "hfmIn3D_Constant.update({\n",
    "    'metric':hooke3D_2,\n",
    "    'stencilGeometry':'CutCube',\n",
    "})"
   ]
  },
  {
   "cell_type": "code",
   "execution_count": 68,
   "metadata": {
    "execution": {
     "iopub.execute_input": "2021-12-09T21:48:29.352038Z",
     "iopub.status.busy": "2021-12-09T21:48:29.351454Z",
     "iopub.status.idle": "2021-12-09T21:48:29.961153Z",
     "shell.execute_reply": "2021-12-09T21:48:29.961623Z"
    }
   },
   "outputs": [
    {
     "name": "stdout",
     "output_type": "stream",
     "text": [
      "Field verbosity defaults to 1\n",
      "Field checkAcuteness defaults to 0\n",
      "Field order defaults to 1\n",
      "Field seedRadius defaults to 2\n",
      "Field factoringPointChoice defaults to Seed\n",
      "Field exportFactoring defaults to 0\n",
      "Fast marching solver completed in 0.501082 s.\n"
     ]
    }
   ],
   "source": [
    "hfmOut = hfmIn3D_Constant.Run()"
   ]
  },
  {
   "cell_type": "code",
   "execution_count": 69,
   "metadata": {
    "execution": {
     "iopub.execute_input": "2021-12-09T21:48:29.966058Z",
     "iopub.status.busy": "2021-12-09T21:48:29.965545Z",
     "iopub.status.idle": "2021-12-09T21:48:29.967935Z",
     "shell.execute_reply": "2021-12-09T21:48:29.968359Z"
    }
   },
   "outputs": [
    {
     "name": "stdout",
     "output_type": "stream",
     "text": [
      "0.501082\n"
     ]
    }
   ],
   "source": [
    "print(hfmOut['FMCPUTime'])"
   ]
  },
  {
   "cell_type": "code",
   "execution_count": 70,
   "metadata": {
    "execution": {
     "iopub.execute_input": "2021-12-09T21:48:29.982218Z",
     "iopub.status.busy": "2021-12-09T21:48:29.981696Z",
     "iopub.status.idle": "2021-12-09T21:48:30.115576Z",
     "shell.execute_reply": "2021-12-09T21:48:30.114865Z"
    }
   },
   "outputs": [
    {
     "data": {
      "image/png": "[encoded data removed]",
      "text/plain": [
       "<Figure size 432x288 with 1 Axes>"
      ]
     },
     "metadata": {
      "needs_background": "light"
     },
     "output_type": "display_data"
    }
   ],
   "source": [
    "plt.axis('equal'); plt.title('Slice of arrival times for the olivine model')\n",
    "plt.contourf(Y[nHalf,:,:],Z[nHalf,:,:],hfmOut['values'][nHalf,:,:]);"
   ]
  },
  {
   "cell_type": "code",
   "execution_count": 71,
   "metadata": {
    "execution": {
     "iopub.execute_input": "2021-12-09T21:48:30.121242Z",
     "iopub.status.busy": "2021-12-09T21:48:30.120544Z",
     "iopub.status.idle": "2021-12-09T21:48:31.553813Z",
     "shell.execute_reply": "2021-12-09T21:48:31.554322Z"
    }
   },
   "outputs": [
    {
     "name": "stdout",
     "output_type": "stream",
     "text": [
      "Global error :  0.00044082555156935155\n"
     ]
    }
   ],
   "source": [
    "exact = hfmIn3D_Constant['metric'].norm((X-sx,Y-sy,Z-sz))\n",
    "error = hfmOut['values']-exact\n",
    "\n",
    "assert norm_infinity(error * factoringRegion) < 1e-14\n",
    "print(\"Global error : \", norm_infinity(error))"
   ]
  },
  {
   "cell_type": "markdown",
   "metadata": {},
   "source": [
    "Similarly to the two dimensional case, using insufficiently refined stencils breaks the numerical method consistency, and yields inconsistent results."
   ]
  },
  {
   "cell_type": "code",
   "execution_count": 72,
   "metadata": {
    "execution": {
     "iopub.execute_input": "2021-12-09T21:48:31.558724Z",
     "iopub.status.busy": "2021-12-09T21:48:31.558128Z",
     "iopub.status.idle": "2021-12-09T21:48:31.560747Z",
     "shell.execute_reply": "2021-12-09T21:48:31.561253Z"
    }
   },
   "outputs": [],
   "source": [
    "hfmIn3D_Constant.update({\n",
    "    'metric':hooke3D_1,\n",
    "    'stencilGeometry':'CutCube', # Also fails with 'Cube'\n",
    "})"
   ]
  },
  {
   "cell_type": "code",
   "execution_count": 73,
   "metadata": {
    "execution": {
     "iopub.execute_input": "2021-12-09T21:48:31.565310Z",
     "iopub.status.busy": "2021-12-09T21:48:31.564569Z",
     "iopub.status.idle": "2021-12-09T21:48:32.153192Z",
     "shell.execute_reply": "2021-12-09T21:48:32.153626Z"
    }
   },
   "outputs": [
    {
     "name": "stdout",
     "output_type": "stream",
     "text": [
      "Field verbosity defaults to 1\n",
      "Field checkAcuteness defaults to 0\n",
      "Field order defaults to 1\n",
      "Field seedRadius defaults to 2\n",
      "Field factoringPointChoice defaults to Seed\n",
      "Field exportFactoring defaults to 0\n",
      "Fast marching solver completed in 0.48426 s.\n"
     ]
    }
   ],
   "source": [
    "hfmOut = hfmIn3D_Constant.Run()"
   ]
  },
  {
   "cell_type": "code",
   "execution_count": 74,
   "metadata": {
    "execution": {
     "iopub.execute_input": "2021-12-09T21:48:32.158980Z",
     "iopub.status.busy": "2021-12-09T21:48:32.158457Z",
     "iopub.status.idle": "2021-12-09T21:48:33.590350Z",
     "shell.execute_reply": "2021-12-09T21:48:33.590800Z"
    }
   },
   "outputs": [
    {
     "name": "stdout",
     "output_type": "stream",
     "text": [
      "Error in factoring region (non-zero due to insufficient refinement):  0.0005878288075511079\n",
      "Global error :  0.0033546075602274156\n"
     ]
    }
   ],
   "source": [
    "exact = hfmIn3D_Constant['metric'].norm((X-sx,Y-sy,Z-sz))\n",
    "error = hfmOut['values']-exact\n",
    "print(\"Error in factoring region (non-zero due to insufficient refinement): \",norm_infinity(error * factoringRegion))\n",
    "print(\"Global error : \", norm_infinity(error))"
   ]
  },
  {
   "cell_type": "markdown",
   "metadata": {},
   "source": [
    "### 5.2 Position dependent metric"
   ]
  },
  {
   "cell_type": "code",
   "execution_count": 75,
   "metadata": {
    "execution": {
     "iopub.execute_input": "2021-12-09T21:48:33.596226Z",
     "iopub.status.busy": "2021-12-09T21:48:33.595702Z",
     "iopub.status.idle": "2021-12-09T21:48:33.598104Z",
     "shell.execute_reply": "2021-12-09T21:48:33.598558Z"
    }
   },
   "outputs": [],
   "source": [
    "hfmIn3D_Varying = Eikonal.dictIn({\n",
    "    'model':'Seismic3', \n",
    "    'exportValues':1,\n",
    "    'seed':[0.,0.,0.5],\n",
    "    'factoringRadius':7,\n",
    "    'stencilGeometry':'SpikyCube',\n",
    "    'order':2\n",
    "})\n",
    "\n",
    "# Define the domain\n",
    "n=30; \n",
    "hfmIn3D_Varying.SetRect(sides=[[-1,1],[-1,1],[0,1]],dimx=n)"
   ]
  },
  {
   "cell_type": "code",
   "execution_count": 76,
   "metadata": {
    "execution": {
     "iopub.execute_input": "2021-12-09T21:48:33.602762Z",
     "iopub.status.busy": "2021-12-09T21:48:33.602191Z",
     "iopub.status.idle": "2021-12-09T21:48:33.604623Z",
     "shell.execute_reply": "2021-12-09T21:48:33.605103Z"
    }
   },
   "outputs": [],
   "source": [
    "X,Y,Z = hfmIn3D_Varying.Grid()"
   ]
  },
  {
   "cell_type": "code",
   "execution_count": 77,
   "metadata": {
    "execution": {
     "iopub.execute_input": "2021-12-09T21:48:33.610320Z",
     "iopub.status.busy": "2021-12-09T21:48:33.609723Z",
     "iopub.status.idle": "2021-12-09T21:48:33.622898Z",
     "shell.execute_reply": "2021-12-09T21:48:33.622358Z"
    }
   },
   "outputs": [],
   "source": [
    "rotation1 = lp.rotation( (np.pi/6)*np.sin(2*np.pi*(X+0.4)), (1,0,0))\n",
    "rotation2 = lp.rotation( (np.pi/6)*np.sin(2*np.pi*(Y-0.7)), (0,1,0))\n",
    "rotation = lp.dot_AA(rotation1,rotation2)"
   ]
  },
  {
   "cell_type": "code",
   "execution_count": 78,
   "metadata": {
    "execution": {
     "iopub.execute_input": "2021-12-09T21:48:33.627106Z",
     "iopub.status.busy": "2021-12-09T21:48:33.626373Z",
     "iopub.status.idle": "2021-12-09T21:48:33.670076Z",
     "shell.execute_reply": "2021-12-09T21:48:33.669468Z"
    }
   },
   "outputs": [],
   "source": [
    "hooke3D_3 = mica.rotate(rotation)"
   ]
  },
  {
   "cell_type": "code",
   "execution_count": 79,
   "metadata": {
    "execution": {
     "iopub.execute_input": "2021-12-09T21:48:33.674806Z",
     "iopub.status.busy": "2021-12-09T21:48:33.674066Z",
     "iopub.status.idle": "2021-12-09T21:48:33.676871Z",
     "shell.execute_reply": "2021-12-09T21:48:33.677447Z"
    }
   },
   "outputs": [],
   "source": [
    "hfmIn3D_Varying['metric'] = hooke3D_3"
   ]
  },
  {
   "cell_type": "code",
   "execution_count": 80,
   "metadata": {
    "execution": {
     "iopub.execute_input": "2021-12-09T21:48:33.681845Z",
     "iopub.status.busy": "2021-12-09T21:48:33.681126Z",
     "iopub.status.idle": "2021-12-09T21:48:35.533690Z",
     "shell.execute_reply": "2021-12-09T21:48:35.534297Z"
    }
   },
   "outputs": [
    {
     "name": "stdout",
     "output_type": "stream",
     "text": [
      "Field verbosity defaults to 1\n",
      "Field checkAcuteness defaults to 0\n",
      "Field seedRadius defaults to 2\n",
      "Field factoringPointChoice defaults to Seed\n",
      "Field exportFactoring defaults to 0\n",
      "Fast marching solver completed in 1.76344 s.\n"
     ]
    }
   ],
   "source": [
    "hfmOut = hfmIn3D_Varying.Run()"
   ]
  },
  {
   "cell_type": "code",
   "execution_count": 81,
   "metadata": {
    "execution": {
     "iopub.execute_input": "2021-12-09T21:48:35.545154Z",
     "iopub.status.busy": "2021-12-09T21:48:35.544616Z",
     "iopub.status.idle": "2021-12-09T21:48:35.680915Z",
     "shell.execute_reply": "2021-12-09T21:48:35.680410Z"
    }
   },
   "outputs": [
    {
     "data": {
      "image/png": "[encoded data removed]",
      "text/plain": [
       "<Figure size 432x288 with 1 Axes>"
      ]
     },
     "metadata": {
      "needs_background": "light"
     },
     "output_type": "display_data"
    }
   ],
   "source": [
    "nHalf=n//2\n",
    "plt.axis('equal'); plt.title('Slice of arrival times for a position dependent mica model')\n",
    "plt.contourf(Y[nHalf,:,:],Z[nHalf,:,:],hfmOut['values'][nHalf,:,:]);"
   ]
  },
  {
   "cell_type": "markdown",
   "metadata": {},
   "source": [
    "### 5.3 Topography\n",
    "\n",
    "$$\n",
    "    (x,y,z) \\mapsto (x,y,z+h(x,y,z))\n",
    "$$"
   ]
  },
  {
   "cell_type": "code",
   "execution_count": 82,
   "metadata": {
    "execution": {
     "iopub.execute_input": "2021-12-09T21:48:35.685993Z",
     "iopub.status.busy": "2021-12-09T21:48:35.685387Z",
     "iopub.status.idle": "2021-12-09T21:48:35.687632Z",
     "shell.execute_reply": "2021-12-09T21:48:35.688108Z"
    }
   },
   "outputs": [],
   "source": [
    "def h(x,y,z,alpha=0.3):\n",
    "    return ad.array([x,y,z + alpha*z*np.sin(np.pi*x)*np.cos(np.pi*y)])"
   ]
  },
  {
   "cell_type": "code",
   "execution_count": 83,
   "metadata": {
    "execution": {
     "iopub.execute_input": "2021-12-09T21:48:35.694985Z",
     "iopub.status.busy": "2021-12-09T21:48:35.694378Z",
     "iopub.status.idle": "2021-12-09T21:48:35.698832Z",
     "shell.execute_reply": "2021-12-09T21:48:35.699311Z"
    }
   },
   "outputs": [],
   "source": [
    "hfmIn3D_Topo = Eikonal.dictIn({\n",
    "    'order':2,\n",
    "    'model':'SeismicTopographic3',\n",
    "    'exportValues':1,\n",
    "    'seed':[0.,0.,0.5],\n",
    "    'stencilGeometry':'Cube'\n",
    "})\n",
    "\n",
    "# Define the domain\n",
    "n=40\n",
    "hfmIn3D_Topo.SetRect(sides=[[-1,1],[-1,1],[0,1]],dimx=n)\n",
    "\n",
    "X0,Y0,Z0 = hfmIn3D_Topo.Grid() # Rectangular coordinates\n",
    "X,Y,Z = h(X0,Y0,Z0) # Physical coordinates"
   ]
  },
  {
   "cell_type": "code",
   "execution_count": 84,
   "metadata": {
    "execution": {
     "iopub.execute_input": "2021-12-09T21:48:35.704421Z",
     "iopub.status.busy": "2021-12-09T21:48:35.703832Z",
     "iopub.status.idle": "2021-12-09T21:48:35.718190Z",
     "shell.execute_reply": "2021-12-09T21:48:35.718684Z"
    }
   },
   "outputs": [],
   "source": [
    "X_ad,Y_ad,Z_ad = ad.Dense.register(inputs=(X,Y,Z), shape_bound=X.shape)\n",
    "Jac = np.moveaxis(h(X_ad,Y_ad,Z_ad).gradient(),0,1)"
   ]
  },
  {
   "cell_type": "code",
   "execution_count": 85,
   "metadata": {
    "execution": {
     "iopub.execute_input": "2021-12-09T21:48:35.723123Z",
     "iopub.status.busy": "2021-12-09T21:48:35.722542Z",
     "iopub.status.idle": "2021-12-09T21:48:35.726718Z",
     "shell.execute_reply": "2021-12-09T21:48:35.726190Z"
    }
   },
   "outputs": [],
   "source": [
    "metric = stishovite.rotate_by(np.pi/6,(1,2,3))\n",
    "metric = metric.inv_transform(Jac)\n",
    "hfmIn3D_Topo['metric'] = metric"
   ]
  },
  {
   "cell_type": "code",
   "execution_count": 86,
   "metadata": {
    "execution": {
     "iopub.execute_input": "2021-12-09T21:48:35.731009Z",
     "iopub.status.busy": "2021-12-09T21:48:35.730396Z",
     "iopub.status.idle": "2021-12-09T21:48:35.733982Z",
     "shell.execute_reply": "2021-12-09T21:48:35.734484Z"
    }
   },
   "outputs": [
    {
     "data": {
      "text/plain": [
       "(6, 6, 40, 40, 20)"
      ]
     },
     "execution_count": 86,
     "metadata": {},
     "output_type": "execute_result"
    }
   ],
   "source": [
    "metric.hooke.shape"
   ]
  },
  {
   "cell_type": "code",
   "execution_count": 87,
   "metadata": {
    "execution": {
     "iopub.execute_input": "2021-12-09T21:48:35.738574Z",
     "iopub.status.busy": "2021-12-09T21:48:35.737911Z",
     "iopub.status.idle": "2021-12-09T21:48:38.323381Z",
     "shell.execute_reply": "2021-12-09T21:48:38.323917Z"
    }
   },
   "outputs": [
    {
     "name": "stdout",
     "output_type": "stream",
     "text": [
      "Field verbosity defaults to 1\n",
      "Field checkAcuteness defaults to 0\n",
      "Field seedRadius defaults to 0\n",
      "Fast marching solver completed in 2.33896 s.\n"
     ]
    }
   ],
   "source": [
    "hfmOut = hfmIn3D_Topo.Run()"
   ]
  },
  {
   "cell_type": "code",
   "execution_count": 88,
   "metadata": {
    "execution": {
     "iopub.execute_input": "2021-12-09T21:48:38.341159Z",
     "iopub.status.busy": "2021-12-09T21:48:38.340596Z",
     "iopub.status.idle": "2021-12-09T21:48:38.469149Z",
     "shell.execute_reply": "2021-12-09T21:48:38.469607Z"
    }
   },
   "outputs": [
    {
     "data": {
      "image/png": "[encoded data removed]",
      "text/plain": [
       "<Figure size 432x288 with 1 Axes>"
      ]
     },
     "metadata": {
      "needs_background": "light"
     },
     "output_type": "display_data"
    }
   ],
   "source": [
    "nHalf=n//2\n",
    "plt.axis('equal'); plt.title('Slice of arrival times for a 3D model with topography')\n",
    "plt.contourf(X[:,nHalf,:],Z[:,nHalf,:],hfmOut['values'][:,nHalf,:]);"
   ]
  },
  {
   "cell_type": "code",
   "execution_count": null,
   "metadata": {},
   "outputs": [],
   "source": []
  }
 ],
 "metadata": {
  "celltoolbar": "Format de la Cellule Texte Brut",
  "kernelspec": {
   "display_name": "Python 3",
   "language": "python",
   "name": "python3"
  },
  "language_info": {
   "codemirror_mode": {
    "name": "ipython",
    "version": 3
   },
   "file_extension": ".py",
   "mimetype": "text/x-python",
   "name": "python",
   "nbconvert_exporter": "python",
   "pygments_lexer": "ipython3",
   "version": "3.9.7"
  }
 },
 "nbformat": 4,
 "nbformat_minor": 2
}

{
 "cells": [
  {
   "cell_type": "markdown",
   "id": "75e875d3",
   "metadata": {},
   "source": [
    "# The HFM library - A fast marching solver with adaptive stencils\n",
    "\n",
    "## Part : Motion planning\n",
    "## Chapter : Minimal paths with curvature penalization and obstacles (Interactive)"
   ]
  },
  {
   "cell_type": "markdown",
   "id": "35d60038",
   "metadata": {},
   "source": [
    "In this notebook, we illustrate curvature penalized paths, within domains with obstacles, in an interactive fashion."
   ]
  },
  {
   "cell_type": "markdown",
   "id": "e879b1a9",
   "metadata": {},
   "source": [
    "[**Summary**](Summary.ipynb) of volume Fast Marching Methods, this series of notebooks.\n",
    "\n",
    "[**Main summary**](../Summary.ipynb) of the Adaptive Grid Discretizations \n",
    "\tbook of notebooks, including the other volumes.\n",
    "\n",
    "# Table of contents\n",
    "  * [1. Demo](#1.-Demo)\n",
    "    * [1.1 Choice of a vehicle model](#1.1-Choice-of-a-vehicle-model)\n",
    "    * [1.2 Obstacles](#1.2-Obstacles)\n",
    "    * [1.3 Seeds and tips](#1.3-Seeds-and-tips)\n",
    "    * [1.4 Running the eikonal solver](#1.4-Running-the-eikonal-solver)\n",
    "\n",
    "\n",
    "\n",
    "This Python&reg; notebook is intended as documentation and testing for the [HamiltonFastMarching (HFM) library](https://github.com/mirebeau/HamiltonFastMarching), which also has interfaces to the Matlab&reg; and Mathematica&reg; languages. \n",
    "More information on the HFM library in the manuscript:\n",
    "* Jean-Marie Mirebeau, Jorg Portegies, \"Hamiltonian Fast Marching: A numerical solver for anisotropic and non-holonomic eikonal PDEs\", 2019 [(link)](https://hal.archives-ouvertes.fr/hal-01778322)\n",
    "\n",
    "Copyright Jean-Marie Mirebeau, University Paris-Sud, CNRS, University Paris-Saclay"
   ]
  },
  {
   "cell_type": "markdown",
   "id": "fd5262bb",
   "metadata": {},
   "source": [
    "## 0. Importing the required libraries."
   ]
  },
  {
   "cell_type": "code",
   "execution_count": 1,
   "id": "be66731c",
   "metadata": {
    "execution": {
     "iopub.execute_input": "2024-04-30T08:57:24.411671Z",
     "iopub.status.busy": "2024-04-30T08:57:24.411216Z",
     "iopub.status.idle": "2024-04-30T08:57:24.425458Z",
     "shell.execute_reply": "2024-04-30T08:57:24.424683Z"
    }
   },
   "outputs": [],
   "source": [
    "import sys; sys.path.insert(0,\"..\")\n",
    "#from Miscellaneous import TocTools; print(TocTools.displayTOC('Interactive_CurvatureObstacles','FMM'))"
   ]
  },
  {
   "cell_type": "code",
   "execution_count": 2,
   "id": "75d0ae05",
   "metadata": {
    "execution": {
     "iopub.execute_input": "2024-04-30T08:57:24.429187Z",
     "iopub.status.busy": "2024-04-30T08:57:24.428862Z",
     "iopub.status.idle": "2024-04-30T08:57:24.684714Z",
     "shell.execute_reply": "2024-04-30T08:57:24.684309Z"
    }
   },
   "outputs": [],
   "source": [
    "from agd import AutomaticDifferentiation as ad\n",
    "from agd import Eikonal\n",
    "from agd.Plotting import imshow_ij,arr2fig,fig2arr,pick_lines,pick_points,input_default\n",
    "from agd.Plotting import savefig; savefig.dirName = \"Figures/CurvatureObstacles\""
   ]
  },
  {
   "cell_type": "code",
   "execution_count": 3,
   "id": "f28025e1",
   "metadata": {
    "execution": {
     "iopub.execute_input": "2024-04-30T08:57:24.686385Z",
     "iopub.status.busy": "2024-04-30T08:57:24.686266Z",
     "iopub.status.idle": "2024-04-30T08:57:24.687975Z",
     "shell.execute_reply": "2024-04-30T08:57:24.687738Z"
    }
   },
   "outputs": [],
   "source": [
    "import numpy as np; xp=np\n",
    "from matplotlib import pyplot as plt"
   ]
  },
  {
   "cell_type": "code",
   "execution_count": 4,
   "id": "0d8607e7",
   "metadata": {
    "execution": {
     "iopub.execute_input": "2024-04-30T08:57:24.689335Z",
     "iopub.status.busy": "2024-04-30T08:57:24.689251Z",
     "iopub.status.idle": "2024-04-30T08:57:24.691003Z",
     "shell.execute_reply": "2024-04-30T08:57:24.690789Z"
    }
   },
   "outputs": [],
   "source": [
    "def reload_packages():\n",
    "    from Miscellaneous.rreload import rreload\n",
    "    global pick_lines\n",
    "    pick_lines, = rreload([pick_lines],rootdir=\"../../AdaptiveGridDiscretizations\")"
   ]
  },
  {
   "cell_type": "markdown",
   "id": "95189cb3",
   "metadata": {},
   "source": [
    "### 0.1 Additional configuration\n",
    "\n",
    "Uncomment the following line for interactive user input. Default values are always provided. \n",
    "\n",
    "**Interactive input is UNAVAILABLE on Google Colab,** since it requires the `tk` matplotlib frontend, which is not supported on this platform. "
   ]
  },
  {
   "cell_type": "code",
   "execution_count": 5,
   "id": "eccbc1ca",
   "metadata": {
    "execution": {
     "iopub.execute_input": "2024-04-30T08:57:24.692347Z",
     "iopub.status.busy": "2024-04-30T08:57:24.692263Z",
     "iopub.status.idle": "2024-04-30T08:57:24.693858Z",
     "shell.execute_reply": "2024-04-30T08:57:24.693633Z"
    }
   },
   "outputs": [],
   "source": [
    "interactive=False"
   ]
  },
  {
   "cell_type": "markdown",
   "id": "66ed0bb5",
   "metadata": {},
   "source": [
    "Wether to use GPU acceleration."
   ]
  },
  {
   "cell_type": "code",
   "execution_count": 6,
   "id": "16737fcd",
   "metadata": {
    "execution": {
     "iopub.execute_input": "2024-04-30T08:57:24.695218Z",
     "iopub.status.busy": "2024-04-30T08:57:24.695135Z",
     "iopub.status.idle": "2024-04-30T08:57:24.696718Z",
     "shell.execute_reply": "2024-04-30T08:57:24.696481Z"
    },
    "tags": [
     "GPU_config"
    ]
   },
   "outputs": [],
   "source": [
    "#xp,Eikonal,plt,arr2fig,imshow_ij = [ad.cupy_friendly(e) for e in (xp,Eikonal,plt,arr2fig,imshow_ij)]"
   ]
  },
  {
   "cell_type": "code",
   "execution_count": 7,
   "id": "d2f58414",
   "metadata": {
    "execution": {
     "iopub.execute_input": "2024-04-30T08:57:24.697974Z",
     "iopub.status.busy": "2024-04-30T08:57:24.697893Z",
     "iopub.status.idle": "2024-04-30T08:57:24.699456Z",
     "shell.execute_reply": "2024-04-30T08:57:24.699248Z"
    }
   },
   "outputs": [],
   "source": [
    "dimx = 200 if xp is np else 400 # Domain dimension"
   ]
  },
  {
   "cell_type": "markdown",
   "id": "aefc82fe",
   "metadata": {},
   "source": [
    "## 1. Demo"
   ]
  },
  {
   "cell_type": "markdown",
   "id": "82608022",
   "metadata": {},
   "source": [
    "### 1.1 Choice of a vehicle model\n",
    "\n",
    "Four classical non-holonomic vehicle models models are presented, corresponding to increasingly steep penaliaztion functions $\\mathcal C(\\kappa)$ of the rescaled curvature $\\kappa = \\xi |\\theta'|$, which $\\xi$ is a parameter which can be regarded as a typical radius of curvature of the trajectory. See the notebook on [curvature penalization](Curvature.ipynb) for more discussion. \n",
    "\n",
    "Model|Reeds-Shepp|Euler elastica|Dubins\n",
    "-:|-|-|:-\n",
    "$\\mathcal C(\\kappa)$|$\\sqrt{1+\\kappa^2}$|$1+\\kappa^2$|$1+\\chi_{|\\kappa|\\leq 1}$\n",
    "\n",
    "The characteristic function notation $\\chi_P$ stands for $0$ where $P$ holds, and $+\\infty$ otherwise. \n",
    "\n",
    "**Interaction.** Choose a vehicle model."
   ]
  },
  {
   "cell_type": "code",
   "execution_count": 8,
   "id": "2b8699cd",
   "metadata": {
    "execution": {
     "iopub.execute_input": "2024-04-30T08:57:24.700863Z",
     "iopub.status.busy": "2024-04-30T08:57:24.700768Z",
     "iopub.status.idle": "2024-04-30T08:57:24.702854Z",
     "shell.execute_reply": "2024-04-30T08:57:24.702619Z"
    }
   },
   "outputs": [],
   "source": [
    "models = {\n",
    "    0:('ReedsShepp2',0.7),\n",
    "    1:('ReedsSheppForward2',0.7),\n",
    "    2:('Elastica2',0.3),\n",
    "    3:('Dubins2',0.3)\n",
    "}\n",
    "\n",
    "#Choose model among the previous list.\n",
    "imodel = 2 \n",
    "if interactive: imodel = int(input_default(\"Choose a vehicle model\",str(imodel)))\n",
    "    \n",
    "model,xi = models[imodel]\n",
    "if interactive: xi = float(input_default(\"Choose a typical curvature radius\",str(xi)))"
   ]
  },
  {
   "cell_type": "code",
   "execution_count": 9,
   "id": "27b341a5",
   "metadata": {
    "execution": {
     "iopub.execute_input": "2024-04-30T08:57:24.704200Z",
     "iopub.status.busy": "2024-04-30T08:57:24.704102Z",
     "iopub.status.idle": "2024-04-30T08:57:24.705980Z",
     "shell.execute_reply": "2024-04-30T08:57:24.705756Z"
    }
   },
   "outputs": [],
   "source": [
    "hfmIn = Eikonal.dictIn({\n",
    "    'model':model,\n",
    "    'xi':xi,\n",
    "    'cost':1,\n",
    "})\n",
    "hfmIn.SetRect([[0,2],[0,1]],dimx=dimx) # Domain is [0,2]x[0,1]\n",
    "hfmIn.nTheta = 64"
   ]
  },
  {
   "cell_type": "code",
   "execution_count": 10,
   "id": "408b4ba3",
   "metadata": {
    "execution": {
     "iopub.execute_input": "2024-04-30T08:57:24.707261Z",
     "iopub.status.busy": "2024-04-30T08:57:24.707166Z",
     "iopub.status.idle": "2024-04-30T08:57:24.708782Z",
     "shell.execute_reply": "2024-04-30T08:57:24.708567Z"
    }
   },
   "outputs": [],
   "source": [
    "emptydomain = xp.zeros(hfmIn.shape[:2]).astype(np.int8)"
   ]
  },
  {
   "cell_type": "markdown",
   "id": "255282ad",
   "metadata": {},
   "source": [
    "### 1.2 Obstacles\n",
    "\n",
    "The Eikonal solvers provided in the `agd` and `hfm` libraries expect the obstacles to be defined as boolean maps. Within this demo, these obstacles are rasterised from user provided scribbles. \n",
    "\n",
    "Note that the minimal paths are computed within the position-orientation domain $\\Omega\\times S^1$, where $\\Omega\\subset R^2$ is the physical domain. The obstacles considered in this notebook are of physical type, i.e. of the form $A \\times S^1$, whereas obstacles of angular type are considered in [convex region segmentation](Interactive_ConvexRegionSegmentation.ipynb), i.e. of the form $\\Omega \\times \\{\\theta_*\\}$. Other applications, such as the sofa moving problem, may involve fully generic obstacles defined as an abitrary subset of $\\Omega \\times S^1$. \n",
    "\n",
    "**Interaction.** Define some physical obstacles, as a collection of broken lines (type enter after each), which are then rasterized."
   ]
  },
  {
   "cell_type": "code",
   "execution_count": 11,
   "id": "150a0e51",
   "metadata": {
    "execution": {
     "iopub.execute_input": "2024-04-30T08:57:24.710103Z",
     "iopub.status.busy": "2024-04-30T08:57:24.710025Z",
     "iopub.status.idle": "2024-04-30T08:57:24.712662Z",
     "shell.execute_reply": "2024-04-30T08:57:24.712434Z"
    }
   },
   "outputs": [],
   "source": [
    "lines = [[[29, 79, 114], [47, 69, 45]], [[88, 119, 171, 162], [32, 17, 20, 73]]]\n",
    "lines = [np.array(line)*dimx/200 for line in lines]\n",
    "if interactive:\n",
    "    %matplotlib tk \n",
    "    imshow_ij(emptydomain,cmap='Greys')\n",
    "    newlines = pick_lines()\n",
    "    if len(newlines): lines=newlines\n",
    "#[np.round(line).astype(int).tolist() for line in lines]"
   ]
  },
  {
   "cell_type": "code",
   "execution_count": 12,
   "id": "6e714631",
   "metadata": {
    "execution": {
     "iopub.execute_input": "2024-04-30T08:57:24.713983Z",
     "iopub.status.busy": "2024-04-30T08:57:24.713905Z",
     "iopub.status.idle": "2024-04-30T08:57:24.761889Z",
     "shell.execute_reply": "2024-04-30T08:57:24.761587Z"
    }
   },
   "outputs": [
    {
     "data": {
      "image/png": "[encoded data removed]",
      "text/plain": [
       "<Figure size 640x480 with 1 Axes>"
      ]
     },
     "metadata": {},
     "output_type": "display_data"
    }
   ],
   "source": [
    "%matplotlib inline\n",
    "fig = arr2fig(emptydomain,cmap='Greys');\n",
    "for line in lines: plt.plot(*line,color='black',aa=False,linewidth=1)\n",
    "obstacles = fig2arr(fig,emptydomain.shape)\n",
    "obstacles = xp.array(obstacles[:,:,0]<1)\n",
    "#fig.savefig(savefig.dirName+\"/Obstacles.png\",dpi = obstacles.shape[0]/fig.get_size_inches()[0])\n",
    "plt.close()\n",
    "\n",
    "fig = plt.figure(); plt.axis('equal'); plt.axis('off')\n",
    "imshow_ij(obstacles,cmap='Greys');"
   ]
  },
  {
   "cell_type": "markdown",
   "id": "5b657965",
   "metadata": {},
   "source": [
    "### 1.3 Seeds and tips\n",
    "\n",
    "We compute globally optimal shortest paths from a set of *seed* points, to a set of *tips*.\n",
    "These points below to the position-orientation space $\\Omega\\times S^1$, hence they feature both an physical coordinate $x$ and an angular coordinate $\\theta$.\n",
    "\n",
    "**Interaction.** Define one or several seed points, presented as arrows (point and direction)."
   ]
  },
  {
   "cell_type": "code",
   "execution_count": 13,
   "id": "577c6742",
   "metadata": {
    "execution": {
     "iopub.execute_input": "2024-04-30T08:57:24.763452Z",
     "iopub.status.busy": "2024-04-30T08:57:24.763339Z",
     "iopub.status.idle": "2024-04-30T08:57:24.766157Z",
     "shell.execute_reply": "2024-04-30T08:57:24.765914Z"
    }
   },
   "outputs": [],
   "source": [
    "seeds = np.array([[[53, 64], [23, 47]], [[174, 182], [84, 52]]])*dimx/200\n",
    "if interactive:\n",
    "    %matplotlib tk\n",
    "    imshow_ij(obstacles,cmap='Greys')\n",
    "    newseeds = pick_lines(broken=False,arrow=True)\n",
    "    if len(newseeds): seeds=newseeds\n",
    "seeds=xp.array(seeds)\n",
    "#np.round(seeds).astype(int).tolist()"
   ]
  },
  {
   "cell_type": "markdown",
   "id": "f0227682",
   "metadata": {},
   "source": [
    "**Interaction.** Define one or several tip points, presented as arrows (point and direction)."
   ]
  },
  {
   "cell_type": "code",
   "execution_count": 14,
   "id": "b2dddac1",
   "metadata": {
    "execution": {
     "iopub.execute_input": "2024-04-30T08:57:24.767570Z",
     "iopub.status.busy": "2024-04-30T08:57:24.767461Z",
     "iopub.status.idle": "2024-04-30T08:57:24.770760Z",
     "shell.execute_reply": "2024-04-30T08:57:24.770530Z"
    }
   },
   "outputs": [],
   "source": [
    "tips = np.array([[[35, 17], [83, 62]], [[174, 187], [12, 28]], [[119, 127], [71, 54]], \n",
    "              [[73, 97], [14, 14]], [[41, 29], [17, 20]], [[71, 89], [87, 87]]])*dimx/200\n",
    "if interactive:\n",
    "    %matplotlib tk\n",
    "    imshow_ij(obstacles,cmap='Greys')\n",
    "    for seed in seeds: plt.arrow(*seed[:,0],*(seed[:,1]-seed[:,0]),color='blue',head_width=3)\n",
    "    newtips = pick_lines(broken=False,arrow=True)\n",
    "    if len(newtips): tips=newtips\n",
    "tips = xp.array(tips)\n",
    "#np.round(tips).astype(int).tolist()"
   ]
  },
  {
   "cell_type": "markdown",
   "id": "c2863054",
   "metadata": {},
   "source": [
    "Obstacles shown black, seeds shown blue, tips shown red. "
   ]
  },
  {
   "cell_type": "code",
   "execution_count": 15,
   "id": "5ba1fff9",
   "metadata": {
    "execution": {
     "iopub.execute_input": "2024-04-30T08:57:24.772070Z",
     "iopub.status.busy": "2024-04-30T08:57:24.771988Z",
     "iopub.status.idle": "2024-04-30T08:57:24.806939Z",
     "shell.execute_reply": "2024-04-30T08:57:24.806654Z"
    }
   },
   "outputs": [
    {
     "data": {
      "image/png": "[encoded data removed]",
      "text/plain": [
       "<Figure size 640x480 with 1 Axes>"
      ]
     },
     "metadata": {},
     "output_type": "display_data"
    }
   ],
   "source": [
    "%matplotlib inline\n",
    "fig = plt.figure(); plt.axis('equal'); plt.axis('off')\n",
    "imshow_ij(obstacles,cmap='Greys')\n",
    "for seed in seeds: plt.arrow(*seed[:,0],*(seed[:,1]-seed[:,0]),color='blue',head_width=3)\n",
    "for tip in tips:   plt.arrow(*tip[:,0], *(tip[:,1]-tip[:,0]),  color='red', head_width=3)\n",
    "#savefig(fig,\"Input.png\")"
   ]
  },
  {
   "cell_type": "code",
   "execution_count": 16,
   "id": "b48333d8",
   "metadata": {
    "execution": {
     "iopub.execute_input": "2024-04-30T08:57:24.808436Z",
     "iopub.status.busy": "2024-04-30T08:57:24.808349Z",
     "iopub.status.idle": "2024-04-30T08:57:24.810817Z",
     "shell.execute_reply": "2024-04-30T08:57:24.810601Z"
    }
   },
   "outputs": [],
   "source": [
    "def indexpair2lifted(hfmIn,index0,index1):\n",
    "    \"\"\"\n",
    "    Input : a pair of image multi-indices. \n",
    "    Output : a lifted point.\n",
    "    (Also works for several, convention : geometry last)\n",
    "    \"\"\"\n",
    "    p0,p1 = [hfmIn.PointFromIndex(np.append(index,0*index[...,:1],axis=-1) )[...,:2] \n",
    "             for index in (index0,index1)]\n",
    "    v = p1-p0\n",
    "    θ = np.arctan2(v[...,1],v[...,0])\n",
    "    return np.append(p0,θ[...,None],axis=-1)"
   ]
  },
  {
   "cell_type": "markdown",
   "id": "51bc15bf",
   "metadata": {},
   "source": [
    "### 1.4 Running the eikonal solver"
   ]
  },
  {
   "cell_type": "code",
   "execution_count": 17,
   "id": "3df3a405",
   "metadata": {
    "execution": {
     "iopub.execute_input": "2024-04-30T08:57:24.812225Z",
     "iopub.status.busy": "2024-04-30T08:57:24.812125Z",
     "iopub.status.idle": "2024-04-30T08:57:24.814379Z",
     "shell.execute_reply": "2024-04-30T08:57:24.814113Z"
    }
   },
   "outputs": [],
   "source": [
    "hfmIn.update({\n",
    "    'seeds':indexpair2lifted(hfmIn,*np.transpose(seeds,[2,0,1])),\n",
    "    'tips': indexpair2lifted(hfmIn,*np.transpose(tips, [2,0,1])),\n",
    "    'walls':obstacles,\n",
    "})\n",
    "hfmIn['stopWhenAllAccepted']=hfmIn['tips']"
   ]
  },
  {
   "cell_type": "code",
   "execution_count": 18,
   "id": "b81d75e6",
   "metadata": {
    "execution": {
     "iopub.execute_input": "2024-04-30T08:57:24.815723Z",
     "iopub.status.busy": "2024-04-30T08:57:24.815622Z",
     "iopub.status.idle": "2024-04-30T08:57:27.654972Z",
     "shell.execute_reply": "2024-04-30T08:57:27.654677Z"
    }
   },
   "outputs": [
    {
     "name": "stdout",
     "output_type": "stream",
     "text": [
      "Field verbosity defaults to 1\n",
      "Field eps defaults to 0.1\n",
      "Field order defaults to 1\n",
      "Field seedRadius defaults to 0\n",
      "Fast marching solver completed in 2.76097 s.\n",
      "Field geodesicSolver defaults to Discrete\n",
      "Field geodesicStep defaults to 0.25\n",
      "Field geodesicWeightThreshold defaults to 0.001\n",
      "Field geodesicVolumeBound defaults to 10.985\n"
     ]
    }
   ],
   "source": [
    "hfmOut = hfmIn.Run()"
   ]
  },
  {
   "cell_type": "code",
   "execution_count": 19,
   "id": "5c92e755",
   "metadata": {
    "execution": {
     "iopub.execute_input": "2024-04-30T08:57:27.656574Z",
     "iopub.status.busy": "2024-04-30T08:57:27.656469Z",
     "iopub.status.idle": "2024-04-30T08:57:27.658702Z",
     "shell.execute_reply": "2024-04-30T08:57:27.658472Z"
    }
   },
   "outputs": [],
   "source": [
    "X = np.meshgrid(*hfmIn.Axes()[:2],indexing='ij')"
   ]
  },
  {
   "cell_type": "code",
   "execution_count": 20,
   "id": "ddc757b7",
   "metadata": {
    "execution": {
     "iopub.execute_input": "2024-04-30T08:57:27.660110Z",
     "iopub.status.busy": "2024-04-30T08:57:27.660022Z",
     "iopub.status.idle": "2024-04-30T08:57:27.691174Z",
     "shell.execute_reply": "2024-04-30T08:57:27.690880Z"
    }
   },
   "outputs": [
    {
     "data": {
      "image/png": "[encoded data removed]",
      "text/plain": [
       "<Figure size 640x480 with 1 Axes>"
      ]
     },
     "metadata": {},
     "output_type": "display_data"
    }
   ],
   "source": [
    "fig = plt.figure()\n",
    "plt.contourf(*X,obstacles,cmap='Greys')\n",
    "plt.axis('equal'); plt.axis('off')\n",
    "for geo in hfmOut['geodesics']: plt.plot(*geo[:2])\n",
    "#savefig(fig,\"Output.png\")"
   ]
  },
  {
   "cell_type": "code",
   "execution_count": null,
   "id": "497ada8b",
   "metadata": {},
   "outputs": [],
   "source": []
  }
 ],
 "metadata": {
  "celltoolbar": "Format de la Cellule Texte Brut",
  "kernelspec": {
   "display_name": "Python 3 (ipykernel)",
   "language": "python",
   "name": "python3"
  },
  "language_info": {
   "codemirror_mode": {
    "name": "ipython",
    "version": 3
   },
   "file_extension": ".py",
   "mimetype": "text/x-python",
   "name": "python",
   "nbconvert_exporter": "python",
   "pygments_lexer": "ipython3",
   "version": "3.10.8"
  },
  "varInspector": {
   "cols": {
    "lenName": 16,
    "lenType": 16,
    "lenVar": 40
   },
   "kernels_config": {
    "python": {
     "delete_cmd_postfix": "",
     "delete_cmd_prefix": "del ",
     "library": "var_list.py",
     "varRefreshCmd": "print(var_dic_list())"
    },
    "r": {
     "delete_cmd_postfix": ") ",
     "delete_cmd_prefix": "rm(",
     "library": "var_list.r",
     "varRefreshCmd": "cat(var_dic_list()) "
    }
   },
   "types_to_exclude": [
    "module",
    "function",
    "builtin_function_or_method",
    "instance",
    "_Feature"
   ],
   "window_display": false
  }
 },
 "nbformat": 4,
 "nbformat_minor": 5
}

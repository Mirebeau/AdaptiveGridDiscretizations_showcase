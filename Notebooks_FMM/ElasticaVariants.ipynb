{
 "cells": [
  {
   "cell_type": "markdown",
   "id": "cc05a225",
   "metadata": {},
   "source": [
    "# The HFM library - A fast marching solver with adaptive stencils\n",
    "\n",
    "## Part : Custom optimal control models, discrete states\n",
    "## Chapter : Elastica variants\n",
    "\n",
    "$\n",
    "\\newcommand\\bbone{\\mathbb 1}\\newcommand\\bn{\\mathbb n}\\newcommand\\sm{\\setminus}\n",
    "\\newcommand\\<{\\langle}\\newcommand\\>{\\rangle}\n",
    "\\newcommand\\vp{\\varphi}\n",
    "\\newcommand\\diff{\\mathrm d}\n",
    "\\DeclareMathOperator\\Id{Id}\\DeclareMathOperator\\len{len}\n",
    "\\newcommand\\kF{\\mathfrak F}\n",
    "\\newcommand\\cC{\\mathcal C}\\newcommand\\cL{\\mathcal L}\\newcommand\\cF{\\mathcal F}\\newcommand\\cH{\\mathcal H}\n",
    "\\newcommand\\bB{\\mathbb B}\\newcommand\\bM{\\mathbb M}\\newcommand\\bQ{\\mathbb Q}\\newcommand\\bR{\\mathbb R}\\newcommand\\bS{\\mathbb S}\\newcommand\\bZ{\\mathbb Z}\n",
    "$"
   ]
  },
  {
   "cell_type": "markdown",
   "id": "74dba754",
   "metadata": {},
   "source": [
    "In this notebook, we show how to customize the Euler Elastica model, as follows : \n",
    "- *Two independent implementations of the model*, using different representations of the Hamiltonian (max form, sum form).\n",
    "- *Variants with bounded curvarture*\n",
    "- *A variant with a second state, where the vehicle rotates in place*\n",
    "- *A variant which penalizes curvature variation*, rather than curvature.\n",
    "\n",
    "This notebook also shows how to deeply customize the numerical scheme and models, which we hope will lead to the development of more even alternative models by the users. \n",
    "\n",
    "**Reminder on geodesic models and curvature penalization.**\n",
    "Geodesic models look for a path $\\gamma : [0,1] \\to \\bM$ minimizing the quantity\n",
    "$$\n",
    "\\len_\\cF^c(\\gamma) := \\int_0^1 c(\\gamma(t)) \\cF(\\gamma(t),\\gamma'(t)) \\diff t,\n",
    "$$\n",
    "with fixed endpoints $\\gamma(0),\\gamma(1)\\in\\bM$, and where $c : \\bM \\to ]0,\\infty]$ is a cost function.\n",
    "\n",
    "In basic two-dimensional curvature penalized models, we assume that the manifold is $\\bM := \\bR^2 \\times \\bS^1$, and the metric takes the form \n",
    "$$\n",
    "\\cF(p,\\dot p) := \n",
    "\\begin{cases}\n",
    "\\cC(\\dot \\theta/|\\dot x|) |\\dot x| & \\text{if } \\dot x \\propto \\bn(\\theta),\\\\\n",
    "+\\infty & \\text{else},\n",
    "\\end{cases}\n",
    "$$\n",
    "for any $p=(x,\\theta)\\in \\bM$ and any $\\dot p = (\\dot x,\\dot \\theta) \\in \\bR^2 \\times \\bR$ such that $|\\dot x|\\neq 0$. We denoted $\\bn=(\\cos \\theta,\\sin\\theta)$.\n",
    "Indeed, the manifold $\\bM$ of interest is parallelizable, and the tangent space at each point can be canonically identified with $T_0\\bM = \\bR^2 \\times \\bR$.\n",
    "\n",
    "If the curve has unit planar velocity $|\\dot x|=1$, and obeys the non-holonomic constraint $\\dot x \\propto \\bn(\\theta)$, which means here that $\\dot x$ is positively proportionnal to $\\bn(\\theta)$, then \n",
    "$$\n",
    "\\len\\cF^c(\\gamma) = \\int_0^1 c(\\gamma(t)) \\cC(\\dot \\theta(t)) \\diff t,\n",
    "$$\n",
    "is the integral of the product of a cost $c(\\gamma(t))$ depending on the position, and a cost $\\cC(\\dot \\theta(t))$depending on the curvature.\n",
    "\n",
    "\n",
    "In this notebook, we focus on the Euler Elastica model, corresponding to the curvature dependent cost \n",
    "$$\n",
    "\\cC(\\kappa) = 1+\\kappa^2.\n",
    "$$\n",
    "An implementation of this model is provided in the agd library. Nevertheless, we show in this notebook how to re-implement in in two different ways, and to modify it."
   ]
  },
  {
   "cell_type": "markdown",
   "id": "ed27fc73",
   "metadata": {},
   "source": [
    "[**Summary**](Summary.ipynb) of volume Fast Marching Methods, this series of notebooks.\n",
    "\n",
    "[**Main summary**](../Summary.ipynb) of the Adaptive Grid Discretizations \n",
    "\tbook of notebooks, including the other volumes.\n",
    "\n",
    "# Table of contents\n",
    "  * [1. Re-implementing the Euler elastica model](#1.-Re-implementing-the-Euler-elastica-model)\n",
    "    * [1.1 Max form](#1.1-Max-form)\n",
    "    * [1.2 Sum form](#1.2-Sum-form)\n",
    "    * [1.3 Running the eikonal solver](#1.3-Running-the-eikonal-solver)\n",
    "  * [2. Bounded curvature](#2.-Bounded-curvature)\n",
    "    * [2.1 Max form](#2.1-Max-form)\n",
    "    * [2.2 Sum form](#2.2-Sum-form)\n",
    "    * [2.3 Running the eikonal solver](#2.3-Running-the-eikonal-solver)\n",
    "  * [3. Introducing states](#3.-Introducing-states)\n",
    "    * [3.1 Local direction changes](#3.1-Local-direction-changes)\n",
    "    * [3.2 Reproducing the max form](#3.2-Reproducing-the-max-form)\n",
    "  * [4. Penalization of curvature variation](#4.-Penalization-of-curvature-variation)\n",
    "    * [4.1 Generating the controls](#4.1-Generating-the-controls)\n",
    "    * [4.2 Running the eikonal solver](#4.2-Running-the-eikonal-solver)\n",
    "\n",
    "\n",
    "\n",
    "This Python&reg; notebook is intended as documentation and testing for the [HamiltonFastMarching (HFM) library](https://github.com/mirebeau/HamiltonFastMarching), which also has interfaces to the Matlab&reg; and Mathematica&reg; languages. \n",
    "More information on the HFM library in the manuscript:\n",
    "* Jean-Marie Mirebeau, Jorg Portegies, \"Hamiltonian Fast Marching: A numerical solver for anisotropic and non-holonomic eikonal PDEs\", 2019 [(link)](https://hal.archives-ouvertes.fr/hal-01778322)\n",
    "\n",
    "Copyright Jean-Marie Mirebeau, University Paris-Sud, CNRS, University Paris-Saclay"
   ]
  },
  {
   "cell_type": "markdown",
   "id": "45cf9b76",
   "metadata": {},
   "source": [
    "## 0. Importing the required libraries"
   ]
  },
  {
   "cell_type": "code",
   "execution_count": 1,
   "id": "0bd58cff",
   "metadata": {
    "execution": {
     "iopub.execute_input": "2024-02-08T19:33:38.009501Z",
     "iopub.status.busy": "2024-02-08T19:33:38.009133Z",
     "iopub.status.idle": "2024-02-08T19:33:38.018029Z",
     "shell.execute_reply": "2024-02-08T19:33:38.017423Z"
    }
   },
   "outputs": [],
   "source": [
    "import sys; sys.path.insert(0,\"..\") # Allow import of agd from parent directory (useless if conda package installed)\n",
    "#from Miscellaneous import TocTools; print(TocTools.displayTOC('ElasticaVariants','FMM'))"
   ]
  },
  {
   "cell_type": "code",
   "execution_count": 2,
   "id": "a95d7b10",
   "metadata": {
    "execution": {
     "iopub.execute_input": "2024-02-08T19:33:38.021642Z",
     "iopub.status.busy": "2024-02-08T19:33:38.021338Z",
     "iopub.status.idle": "2024-02-08T19:33:38.326312Z",
     "shell.execute_reply": "2024-02-08T19:33:38.326033Z"
    },
    "tags": [
     "ExportCode"
    ]
   },
   "outputs": [],
   "source": [
    "from agd import Eikonal \n",
    "from agd import AutomaticDifferentiation as ad\n",
    "from agd import Plotting\n",
    "from agd import FiniteDifferences as fd\n",
    "from agd.ExportedCode.Notebooks_FMM.DubinsState import control_source"
   ]
  },
  {
   "cell_type": "code",
   "execution_count": 3,
   "id": "ed2ccd30",
   "metadata": {
    "execution": {
     "iopub.execute_input": "2024-02-08T19:33:38.328017Z",
     "iopub.status.busy": "2024-02-08T19:33:38.327897Z",
     "iopub.status.idle": "2024-02-08T19:33:38.329641Z",
     "shell.execute_reply": "2024-02-08T19:33:38.329443Z"
    },
    "tags": [
     "ExportCode"
    ]
   },
   "outputs": [],
   "source": [
    "import numpy as np\n",
    "from matplotlib import pyplot as plt\n",
    "π=np.pi"
   ]
  },
  {
   "cell_type": "markdown",
   "id": "0bab4c1c",
   "metadata": {},
   "source": [
    "## 0.1 Additional configuration\n",
    "\n",
    "**Running and viewing the notebook**\n",
    "* *Static viewing.* If you are looking at this notebook using nbviewer, but see an error in the following cell, then [try this link instead](https://nbviewer.org/urls/www.dropbox.com/scl/fi/qk36i1efwxx5rif6n1bha/ElasticaVariants.ipynb/%3Frlkey%3Djskb6dnb0b103vtddjpom3e2f%26dl%3D1).\n",
    "* *Running.* A cuda enabled GPU is needed to run this notebook. If you do not have one, try [running it on Google Colab](https://drive.google.com/open?id=1-ceaexLEVcaJFpS1fXoo4WQQBMhdvXAv&usp=drive_fs).\n",
    "\n",
    "<!---\n",
    "def reload_packages():\n",
    "    from Miscellaneous.rreload import rreload\n",
    "    global Eikonal\n",
    "    Eikonal, = rreload([Eikonal],rootdir=sys.path[0])\n",
    "    Eikonal.dictIn.default_mode = 'gpu_transfer'\n",
    "--->"
   ]
  },
  {
   "cell_type": "code",
   "execution_count": 4,
   "id": "85c0595f",
   "metadata": {
    "execution": {
     "iopub.execute_input": "2024-02-08T19:33:38.330886Z",
     "iopub.status.busy": "2024-02-08T19:33:38.330811Z",
     "iopub.status.idle": "2024-02-08T19:33:38.439917Z",
     "shell.execute_reply": "2024-02-08T19:33:38.439459Z"
    }
   },
   "outputs": [
    {
     "ename": "DeliberateNotebookError",
     "evalue": "A cuda enabled gpu is required for this notebook",
     "output_type": "error",
     "traceback": [
      "\u001b[0;31m---------------------------------------------------------------------------\u001b[0m",
      "\u001b[0;31mModuleNotFoundError\u001b[0m                       Traceback (most recent call last)",
      "Cell \u001b[0;32mIn[4], line 2\u001b[0m\n\u001b[1;32m      1\u001b[0m Eikonal\u001b[38;5;241m.\u001b[39mdictIn\u001b[38;5;241m.\u001b[39mdefault_mode \u001b[38;5;241m=\u001b[39m \u001b[38;5;124m'\u001b[39m\u001b[38;5;124mgpu_transfer\u001b[39m\u001b[38;5;124m'\u001b[39m\n\u001b[0;32m----> 2\u001b[0m \u001b[38;5;28;01mtry\u001b[39;00m: \u001b[38;5;28;01mimport\u001b[39;00m \u001b[38;5;21;01mcupy\u001b[39;00m\n\u001b[1;32m      3\u001b[0m \u001b[38;5;28;01mexcept\u001b[39;00m \u001b[38;5;167;01mModuleNotFoundError\u001b[39;00m: \u001b[38;5;28;01mraise\u001b[39;00m ad\u001b[38;5;241m.\u001b[39mDeliberateNotebookError(\u001b[38;5;124m\"\u001b[39m\u001b[38;5;124mA cuda enabled gpu is required for this notebook\u001b[39m\u001b[38;5;124m\"\u001b[39m)\n",
      "\u001b[0;31mModuleNotFoundError\u001b[0m: No module named 'cupy'",
      "\nDuring handling of the above exception, another exception occurred:\n",
      "\u001b[0;31mDeliberateNotebookError\u001b[0m                   Traceback (most recent call last)",
      "Cell \u001b[0;32mIn[4], line 3\u001b[0m\n\u001b[1;32m      1\u001b[0m Eikonal\u001b[38;5;241m.\u001b[39mdictIn\u001b[38;5;241m.\u001b[39mdefault_mode \u001b[38;5;241m=\u001b[39m \u001b[38;5;124m'\u001b[39m\u001b[38;5;124mgpu_transfer\u001b[39m\u001b[38;5;124m'\u001b[39m\n\u001b[1;32m      2\u001b[0m \u001b[38;5;28;01mtry\u001b[39;00m: \u001b[38;5;28;01mimport\u001b[39;00m \u001b[38;5;21;01mcupy\u001b[39;00m\n\u001b[0;32m----> 3\u001b[0m \u001b[38;5;28;01mexcept\u001b[39;00m \u001b[38;5;167;01mModuleNotFoundError\u001b[39;00m: \u001b[38;5;28;01mraise\u001b[39;00m ad\u001b[38;5;241m.\u001b[39mDeliberateNotebookError(\u001b[38;5;124m\"\u001b[39m\u001b[38;5;124mA cuda enabled gpu is required for this notebook\u001b[39m\u001b[38;5;124m\"\u001b[39m)\n",
      "\u001b[0;31mDeliberateNotebookError\u001b[0m: A cuda enabled gpu is required for this notebook"
     ]
    }
   ],
   "source": [
    "Eikonal.dictIn.default_mode = 'gpu_transfer'\n",
    "try: import cupy\n",
    "except ModuleNotFoundError: raise ad.DeliberateNotebookError(\"A cuda enabled gpu is required for this notebook\")"
   ]
  },
  {
   "cell_type": "markdown",
   "id": "b5d32d7c",
   "metadata": {},
   "source": [
    "## 1. Re-implementing the Euler elastica model\n",
    "\n",
    "Our numerical implementation geodesic models relies on the HFM (Hamiltonian Fast Marching) principles, which requires approximating the Hamiltonian of the system as a max-of-sums-of-squares of finite differences, see below.\n",
    "\n",
    "Recall that the *dual metric* $\\cF^*$ and the *Hamiltonian* $\\cH$ are defined in terms of the metric $\\cF$ of a geodesic model as\n",
    "\\begin{align*}\n",
    "\\cF^*(p,\\hat p) &= \\sup\\{\\<\\hat p, \\dot p\\>\\mid \\cF(p,\\dot p) \\leq 1\\},&\n",
    "\\cH(p,\\hat p) &= \\tfrac 1 2 \\cF^*(p,\\hat p),\n",
    "\\end{align*}\n",
    "for any point $p\\in \\bM$ and any co-vector $\\hat p\\in \\bR^2\\times \\bR$. The (generalized, anisotropic) eikonal PDE, which is at the foundation of our shortest path solver, characterizes the arrival times $u$, of a front originating e.g. from part of the boundary of a domain $\\Omega$, as the viscosity solution of $\\cF^*(p, \\nabla u(p))=1$, or equivalently \n",
    "$$\n",
    "\\cH(p,\\nabla u(p))=\\frac 1 2,\n",
    "$$\n",
    "for all $p \\in \\Omega$,\n",
    "with suitable boundary conditions on $\\partial \\Omega$.\n",
    "\n",
    "In the special case of the Elastical model, we find based on the description in the introduction that  \n",
    "\\begin{align*}\n",
    "\\cF(p,\\dot p) & = \\begin{cases}\n",
    "|\\dot x|+\\dot \\theta^2/|\\dot x| & \\text{if } x \\propto \\bn(\\theta),\\\\\n",
    "+\\infty & \\text{else}.\n",
    "\\end{cases} &\n",
    "\\cF^*(p,\\hat p) &= \\tfrac 1 2 \\Big(\\hat x + \\sqrt{\\hat x^2+\\hat \\theta^2}\\Big).\n",
    "\\end{align*}"
   ]
  },
  {
   "cell_type": "markdown",
   "id": "ae147e1c",
   "metadata": {},
   "source": [
    "### 1.1 Max form\n",
    "\n",
    "This numerical approach to eikonal PDE discretization requires a representation or an approximation of the Hamiltonian of the model under the form\n",
    "$$\n",
    "\\cH_{\\max}(p,\\hat p) = \n",
    "\\tfrac 1 2 \\max_{1\\leq i \\leq I} \\<\\hat p,\\omega_i(p)\\>_+^2,\n",
    "$$\n",
    "where $(\\omega_i)_{1\\leq i \\leq I}$ are vector fields over the domain $\\bM$. Define the control set \n",
    "$$\n",
    "\\bB(p) := \\{\\dot p \\mid \\cF(p,\\dot p)\\leq 1\\}.\n",
    "$$\n",
    "In view of the description of the dual-metric, it is natural to choose the vectors $(\\omega_i(p))_{1\\leq i\\leq p}$ as a collection of (non-zero) extreme points of $\\bB(p)$. \n",
    "\n",
    "In the special case of the Euler Elastica model, one can check based on the above expression of $\\cF$ that \n",
    "$$\n",
    "\\bB(p) = \\{(\\dot s \\bn(\\theta),\\dot \\theta)\\mid (\\dot s-\\tfrac 1 2)^2+\\dot \\theta^2 \\leq \\tfrac 1 4\\}.\n",
    "$$\n",
    "In other words, $\\bB$ is a flat disk of radius $1/2$ and centered at $(\\bn(\\theta)/2,0)$, contained within the plane $\\bR (\\bn(\\theta),0) + \\bR(0,1)$."
   ]
  },
  {
   "cell_type": "code",
   "execution_count": 6,
   "id": "ff4ca4a5",
   "metadata": {
    "code_folding": [],
    "tags": [
     "ExportCode"
    ]
   },
   "outputs": [],
   "source": [
    "def elastica_control(ϕ): \n",
    "    \"\"\"\n",
    "    Control for the elastica model (two dimensional projection).\n",
    "    Boundary point of the disk of radius 1/2 and center (1/2,0).\n",
    "    \"\"\"\n",
    "    return np.cos(ϕ)*np.array((np.cos(ϕ),np.sin(ϕ)))\n",
    "\n",
    "def elastica_controls(I,ϕmin=-π/2,ϕmax=π/2,pad=False):\n",
    "    \"\"\"\n",
    "    Controls for the elastica model, regularly sampled.\n",
    "    - I : number of controls\n",
    "    - ϕmin, ϕmax : smallest and largest control\n",
    "    - pad : add a zero control.\n",
    "    \"\"\"\n",
    "    if ϕmin==-π/2: ϕmin = -π/2+π/I\n",
    "    if ϕmax== π/2: ϕmax =  π/2-π/I\n",
    "    ϕ=np.linspace(ϕmin,ϕmax,I)\n",
    "    if pad: ϕ = np.pad(ϕ,(1,1),constant_values=π/2)\n",
    "    return elastica_control(ϕ)"
   ]
  },
  {
   "cell_type": "markdown",
   "id": "6054143f",
   "metadata": {},
   "source": [
    "Note that \"zero\" controls are useless for the numerical scheme, and the irrelevant from the theoretical standpoint, but they sometimes help with the visualisation. Here is the approximation of the disk of controls that we obtain."
   ]
  },
  {
   "cell_type": "code",
   "execution_count": 7,
   "id": "a3bd0a74",
   "metadata": {},
   "outputs": [],
   "source": [
    "I=9\n",
    "plt.title(f\"Approximation of the control set of the Elastica, using {I=} controls\")\n",
    "plt.plot( *elastica_controls(I,pad=True) )\n",
    "plt.scatter(0,0)\n",
    "plt.axis('equal');"
   ]
  },
  {
   "cell_type": "markdown",
   "id": "89684f41",
   "metadata": {},
   "source": [
    "In some applications, one wants to vary the strength of the curvature penalization, or introduce some bias. This can be achieved by introducing parameters in the curvature cost function, defining \n",
    "$$\n",
    "\\tilde \\cC(\\dot \\theta) := \\cC(\\xi (\\dot \\theta-\\kappa)),\n",
    "$$\n",
    "where $\\xi$ is a reference turning radius, and $\\kappa$ is a reference curvature.\n",
    "The metric and control set are modified accordingly\n",
    "\\begin{align*}\n",
    "\\tilde \\cF(p,\\dot p) = \\dot s \\tilde \\cC(\\dot \\theta/\\dot s) = \\dot s \\cC(\\xi (\\dot \\theta-\\kappa \\dot s) / \\dot s) = \\cF(p, (\\dot s\\bn(\\theta),\\xi (\\dot \\theta-\\kappa \\dot s))) = \\cF(p,A \\dot p),\n",
    "\\end{align*}\n",
    "where $p=(x,\\theta)$ and $\\dot p = (\\dot s \\bn(\\theta),\\dot \\theta)$ with $\\dot s > 0$ (if $\\dot x$ is nonzero and not of the form $\\dot s \\bn(\\theta)$, then the quantities are infinite). \n",
    "\n",
    "The matrix $A$ above, in the basis $(\\bn(\\theta),0),(\\bn(\\theta)^\\perp,0),(0,1)$ of the tangent space $\\bR^2 \\times \\bR$, has the following expression\n",
    "$$\n",
    "A = \\begin{pmatrix}\n",
    "1 \\\\\n",
    "& 1 \\\\\n",
    "-\\xi\\kappa & & \\xi\n",
    "\\end{pmatrix}\n",
    "$$\n",
    "\n",
    "In terms of control set, we have by composition \n",
    "$$\n",
    "\\tilde \\bB(p) = A^{-1} \\bB(p) = \\{(\\dot s \\bn(\\theta),\\dot \\theta/\\xi +\\kappa \\dot s)\\mid (\\dot s-\\tfrac 1 2)^2+\\dot \\theta^2=\\tfrac 1 4\\}.\n",
    "$$"
   ]
  },
  {
   "cell_type": "code",
   "execution_count": 8,
   "id": "81e75c9f",
   "metadata": {
    "tags": [
     "ExportCode"
    ]
   },
   "outputs": [],
   "source": [
    "def with_prior(c,ξ=1,κ=0):\n",
    "    \"\"\"\n",
    "    Adjusts the control vectors to account for the following priors : \n",
    "    - ξ the typical turning radius, \n",
    "    - κ the reference curvature.\n",
    "    \"\"\"\n",
    "    ds,dθ = c\n",
    "    return np.array((ds,(dθ/ξ+κ*ds)))"
   ]
  },
  {
   "cell_type": "code",
   "execution_count": 9,
   "id": "d1b41e55",
   "metadata": {},
   "outputs": [],
   "source": [
    "I=10;ξ=2;κ=0.5\n",
    "plt.title(f\"Approximation of the control set of elastica with prior {ξ=} and {κ=}\")\n",
    "plt.plot( *with_prior(elastica_controls(I,pad=True),ξ,κ) )\n",
    "plt.scatter(0,0)\n",
    "plt.axis('equal');"
   ]
  },
  {
   "cell_type": "markdown",
   "id": "49d979a8",
   "metadata": {},
   "source": [
    "Finally, we map the controls into the plane $\\bR(\\bn(\\theta),0)\\oplus\\bR(0,1) \\subset \\bR^2\\times \\bR$. "
   ]
  },
  {
   "cell_type": "code",
   "execution_count": 10,
   "id": "c85c9d2e",
   "metadata": {
    "tags": [
     "ExportCode"
    ]
   },
   "outputs": [],
   "source": [
    "def embed(c,θ):\n",
    "    \"\"\"\n",
    "    Embed a two dimensional control (α,β) in R^2xR as (α n(θ),β)\n",
    "    where n(θ) = (cos θ, sin θ)\n",
    "    \"\"\"\n",
    "    ds,dθ = c\n",
    "    return np.array((ds*np.cos(θ),ds*np.sin(θ),dθ*np.ones_like(θ)))"
   ]
  },
  {
   "cell_type": "markdown",
   "id": "4613c428",
   "metadata": {},
   "source": [
    "### 1.2 Sum form\n",
    "\n",
    "This numerical approach to eikonal PDE discretization requires a representation or an approximation of the Hamiltonian in the form\n",
    "$$\n",
    "\\cH(p,\\hat p) = \\frac 1 2 \\sum_{1\\leq i\\leq I} \\<\\hat p,\\omega_i(x)\\>_+^2.\n",
    "$$\n",
    "The Hamiltonian of the Euler-Elastica model happens to admits an integral representation\n",
    "$$\n",
    "\\cH(p,\\hat p) = \\frac 3 8 \\int_{-\\pi/2}^{\\pi/2} \\< \\hat p, \\bn(\\theta,\\phi)\\>_+^2 \\cos(\\phi) \\diff \\phi,\n",
    "$$\n",
    "where $\\bn(\\theta,\\phi) = (\\cos\\theta \\cos \\phi,\\sin\\theta\\cos\\phi,\\sin\\phi)$.\n",
    "We can approximate this integral with a finite sum using the approximation\n",
    "$$\n",
    "    \\int_{-\\pi/2}^{\\pi/2} f(\\phi) \\cos \\phi \\,  \\diff \\phi = \\sum_{0 \\leq k < K} w_k f(\\phi_k) \n",
    "$$\n",
    "where $\\phi_k = (k+1/2) \\pi/K - \\pi/2$.\n",
    "The optimal weights $w_k$, in terms of consistency order and over the full interval $[-\\pi/2,\\pi/2]$, are known as the Fejer weights."
   ]
  },
  {
   "cell_type": "code",
   "execution_count": 11,
   "id": "b8bc6c9c",
   "metadata": {
    "tags": [
     "ExportCode"
    ]
   },
   "outputs": [],
   "source": [
    "fejer_weights_ = [\n",
    "    [],[2.],[1.,1.],[0.444444, 1.11111, 0.444444],[0.264298, 0.735702, 0.735702, 0.264298],\n",
    "    [0.167781, 0.525552, 0.613333, 0.525552, 0.167781],[.118661, 0.377778, 0.503561, 0.503561, 0.377778, 0.118661],\n",
    "    [.0867162, 0.287831, 0.398242, 0.454422, 0.398242, 0.287831, 0.0867162],\n",
    "    [.0669829, 0.222988, 0.324153, 0.385877, 0.385877, 0.324153, 0.222988, 0.0669829],\n",
    "    [.0527366, 0.179189, 0.264037, 0.330845, 0.346384, 0.330845, 0.264037, 0.179189, 0.0527366]\n",
    "]\n",
    "def fejer_weights(I):\n",
    "    \"\"\"\n",
    "    Returns the Fejer weights, for computing a cosine weighted integral.\n",
    "    If I>=10, returns an approximation based on the midpoint rule.\n",
    "    \"\"\"\n",
    "    if I<len(fejer_weights_): return fejer_weights_[I]\n",
    "    x=np.linspace(0,π,I,endpoint=False)\n",
    "    return np.cos(x)-np.cos(x+π/I)"
   ]
  },
  {
   "cell_type": "code",
   "execution_count": 12,
   "id": "332d8b35",
   "metadata": {
    "tags": [
     "ExportCode"
    ]
   },
   "outputs": [],
   "source": [
    "def elastica_terms(I,ϕmin=-π/2,ϕmax=π/2):\n",
    "    midpoints = Eikonal.CenteredLinspace(ϕmin,ϕmax,I)\n",
    "    weights = np.array(fejer_weights(I))\n",
    "    return np.array((np.cos(midpoints),np.sin(midpoints)))*np.sqrt((3/4)*weights)"
   ]
  },
  {
   "cell_type": "code",
   "execution_count": 13,
   "id": "3a1bcb0d",
   "metadata": {},
   "outputs": [
    {
     "data": {
      "text/plain": [
       "array([[ 0.10961863,  0.50792095,  0.67823281,  0.50792095,  0.10961863],\n",
       "       [-0.33737146, -0.36902617,  0.        ,  0.36902617,  0.33737146]])"
      ]
     },
     "execution_count": 13,
     "metadata": {},
     "output_type": "execute_result"
    }
   ],
   "source": [
    "elastica_terms(5)"
   ]
  },
  {
   "cell_type": "markdown",
   "id": "8ebd0138",
   "metadata": {},
   "source": [
    "In order to check this implementation of the Hamiltonian, we recall the identity\n",
    "$$\n",
    "    \\cF(p, \\nabla_{\\hat p}\\cF^*(p,\\hat p)) = 1.\n",
    "$$\n",
    "Hence, by differentiating $\\cF^*(p,\\cdot) = \\sqrt{2 \\cH(p,\\cdot)}$, we should recover the boundary of the control set $\\bB(p)$."
   ]
  },
  {
   "cell_type": "code",
   "execution_count": 14,
   "id": "ff5e31a4",
   "metadata": {},
   "outputs": [],
   "source": [
    "def Fstar(dp,w):\n",
    "    \"\"\"Dual metric F^*(dp) = sqrt{sum_i <dp,w_i>_+^2}, from the integral representation by (w_i)_{1<=i<=I}\"\"\"\n",
    "    return np.sqrt(np.sum(np.maximum(0,np.sum(w*dp,axis=0))**2,axis=0))\n",
    "\n",
    "def ball(w,n=500):\n",
    "    \"\"\"\n",
    "    Compute the boundary of the control set, when the Hamiltonian is described as \n",
    "    sum_i <p,w_i>_+^2\n",
    "    \"\"\"\n",
    "    ϵ=1e-3; ϕ = np.linspace(-π+ϵ,π-ϵ,n) \n",
    "    dp = np.array((np.cos(ϕ),np.sin(ϕ)))\n",
    "    dp_ad = ad.Dense.identity(constant=dp,shape_free=(2,))\n",
    "    \n",
    "    Fstar_ad = Fstar(dp_ad[:,None,:],w[:,:,None])\n",
    "    vecs = Fstar_ad.gradient() \n",
    "    vecs[np.isnan(vecs)]=0 # NaN when differentiating sqrt(0).\n",
    "    return vecs #np.pad(vecs,((1,1),(0,0)),constant=0)"
   ]
  },
  {
   "cell_type": "markdown",
   "id": "7d2a062a",
   "metadata": {},
   "source": [
    "Two observations :\n",
    "- The difference between the Fejer weights and the midpoint weights is minimal.\n",
    "- The shape is much closer to being circular (which is the correct elastica model) than with the max representation."
   ]
  },
  {
   "cell_type": "code",
   "execution_count": 15,
   "id": "4dd184e7",
   "metadata": {},
   "outputs": [
    {
     "name": "stderr",
     "output_type": "stream",
     "text": [
      "C:\\Users\\jmmir\\Documents\\GitHub\\AdaptiveGridDiscretizations\\Notebooks_FMM\\../../AdaptiveGridDiscretizations\\agd\\AutomaticDifferentiation\\Base.py:24: RuntimeWarning: divide by zero encountered in power\n",
      "  def pow(x,n):\treturn (x**n,n*x**(n-1))\n",
      "C:\\Users\\jmmir\\Documents\\GitHub\\AdaptiveGridDiscretizations\\Notebooks_FMM\\../../AdaptiveGridDiscretizations\\agd\\AutomaticDifferentiation\\Dense.py:94: RuntimeWarning: invalid value encountered in multiply\n",
      "  return self.new(a,_add_dim(b)*self.coef)\n"
     ]
    }
   ],
   "source": [
    "I=7\n",
    "plt.title(f\"Unit ball of the approximate elastica model with {I=} controls\")\n",
    "plt.plot(*ball(elastica_terms(I)))\n",
    "plt.scatter(0,0); plt.axis('equal');"
   ]
  },
  {
   "cell_type": "markdown",
   "id": "50db13b6",
   "metadata": {},
   "source": [
    "In the following variant of the elastica model, we only allow turning left, so as to delineate convex shapes. "
   ]
  },
  {
   "cell_type": "code",
   "execution_count": 16,
   "id": "bd53913e",
   "metadata": {},
   "outputs": [],
   "source": [
    "plt.title(\"Unit ball for the convex elastica model\")\n",
    "plt.plot(*ball(np.abs(elastica_terms(I=100))))\n",
    "plt.scatter(0,0)\n",
    "plt.axis('equal');"
   ]
  },
  {
   "cell_type": "markdown",
   "id": "72395380",
   "metadata": {},
   "source": [
    "In the next variant, we modify the typical turning radius and reference curvature."
   ]
  },
  {
   "cell_type": "code",
   "execution_count": 17,
   "id": "c54873bd",
   "metadata": {
    "scrolled": false
   },
   "outputs": [],
   "source": [
    "ξ=2;κ=0.5\n",
    "plt.title(f\"Control set of elastica with prior {ξ=} and {κ=}\")\n",
    "plt.plot(*ball(with_prior(elastica_terms(I=7),ξ,κ)));\n",
    "plt.scatter(0,0); plt.axis('equal');"
   ]
  },
  {
   "cell_type": "markdown",
   "id": "1b69b09f",
   "metadata": {},
   "source": [
    "### 1.3 Running the eikonal solver\n",
    "\n",
    "First, we choose a domain, within which to compute geodesics. This domain is three dimensional, with two space dimensions and one angular dimension."
   ]
  },
  {
   "cell_type": "code",
   "execution_count": 18,
   "id": "0bc4038b",
   "metadata": {},
   "outputs": [],
   "source": [
    "# A two dimensional array representing the walls\n",
    "walls = np.array(0==Plotting.imread('Notebooks_FMM/TestImages/PompidouCrop.png').T,dtype=bool)\n",
    "# Number of orientations\n",
    "Nθ = 64"
   ]
  },
  {
   "cell_type": "markdown",
   "id": "f9204d1e",
   "metadata": {},
   "source": [
    "We then setup the eikonal solver. For reference, we first run the default implementation of the Euler elastica model, already present in the AGD library."
   ]
  },
  {
   "cell_type": "code",
   "execution_count": 19,
   "id": "5c28df92",
   "metadata": {},
   "outputs": [],
   "source": [
    "elasticaIn = Eikonal.dictIn({\n",
    "    'model':'Elastica2',\n",
    "    'speed':1,\n",
    "    'xi':1, # Typical turning radius\n",
    "    'kappa':0, # (Optional) Asymmetric curvature prior\n",
    "    'seed':(1,5,1.),\n",
    "    'tips':[[13,15,0],[19,14,0],[12,12,0],[17,5,0],[7,2,-3],[3,13,-1.5]],\n",
    "    'dims':(*walls.shape, Nθ),\n",
    "    'walls':walls,\n",
    "    'gridScale':0.1,\n",
    "    'origin':(0,0),\n",
    "    'exportValues':True\n",
    "})"
   ]
  },
  {
   "cell_type": "code",
   "execution_count": 20,
   "id": "061540aa",
   "metadata": {},
   "outputs": [],
   "source": [
    "aX0,aX1,Θ = elasticaIn.Axes()\n",
    "X = np.meshgrid(aX0,aX1,indexing='ij')"
   ]
  },
  {
   "cell_type": "markdown",
   "id": "120f872b",
   "metadata": {},
   "source": [
    "The physical domain, seed (start of front propagation) and tips (start of geodesic backtracking process)."
   ]
  },
  {
   "cell_type": "code",
   "execution_count": 21,
   "id": "989ca8b9",
   "metadata": {},
   "outputs": [],
   "source": [
    "plt.contourf(*X,walls,cmap='Greys')\n",
    "plt.scatter(*elasticaIn['seed'][:2])\n",
    "plt.scatter(*elasticaIn['tips'].T[:2]);"
   ]
  },
  {
   "cell_type": "code",
   "execution_count": 22,
   "id": "c0ab6399",
   "metadata": {},
   "outputs": [
    {
     "name": "stdout",
     "output_type": "stream",
     "text": [
      "Setting the kernel traits.\n",
      "Preparing the domain data (shape,metric,...)\n",
      "Preparing the problem rhs (cost, seeds,...)\n",
      "Preparing the GPU kernel\n",
      "Running the eikonal GPU kernel\n",
      "GPU kernel eikonal ran for 0.34816884994506836 seconds, and 373 iterations.\n",
      "Post-Processing\n"
     ]
    }
   ],
   "source": [
    "elasticaOut = elasticaIn.Run()"
   ]
  },
  {
   "cell_type": "code",
   "execution_count": 23,
   "id": "4c394c6a",
   "metadata": {},
   "outputs": [],
   "source": [
    "plt.title(\"Elastica original implementation (sum form)\")\n",
    "plt.contourf(*X,walls,cmap='Greys'); plt.axis('equal')\n",
    "plt.scatter(*elasticaIn['seed'][:2])\n",
    "plt.scatter(*elasticaIn['tips'].T[:2]);\n",
    "for geo in elasticaOut['geodesics']: plt.plot(*geo[:2])"
   ]
  },
  {
   "cell_type": "markdown",
   "id": "fcb6d196",
   "metadata": {},
   "source": [
    "We reproduce these results using the model `DubinsState4` which features three physical dimensions and one additional dimension for states. The latter is not used here. We start with the sum form implementation of the Hamiltonian, which should be identical to the reference implementation."
   ]
  },
  {
   "cell_type": "code",
   "execution_count": 24,
   "id": "ecce9b03",
   "metadata": {},
   "outputs": [],
   "source": [
    "sumIn = Eikonal.dictIn({\n",
    "    'model':'Custom3',\n",
    "    'speed':1,\n",
    "    'seed':elasticaIn['seed'],\n",
    "    'tips':elasticaIn['tips'],\n",
    "    'dims':elasticaIn['dims'],\n",
    "    'origin':(0,0, -np.pi/Nθ),\n",
    "    'gridScales':elasticaIn.gridScales,\n",
    "    'periodic':[False,False,True], # Domain = R^2 x S^1\n",
    "    'traits':{'controls_max_macro':False},\n",
    "    'exportValues':True,\n",
    "})\n",
    "sumIn['walls'] = np.broadcast_to(walls[:,:,np.newaxis],sumIn.shape)"
   ]
  },
  {
   "cell_type": "code",
   "execution_count": 25,
   "id": "8dcd11cc",
   "metadata": {},
   "outputs": [],
   "source": [
    "controls = with_prior(elastica_terms(5),ξ=elasticaIn['xi'],κ=elasticaIn['kappa'])\n",
    "sumIn['controls']=np.moveaxis(embed(controls,Θ[:,None]),-1,0)"
   ]
  },
  {
   "cell_type": "markdown",
   "id": "a232ae94",
   "metadata": {},
   "source": [
    "Always check the controls shape, which must be : \n",
    "$$\n",
    "    \\text{number of controls} \\times \\text{physical space dimension} \\times \\text{last domain dimensions}.\n",
    "$$\n",
    "\n",
    "Here the domain has dimensions $N_x \\times N_y\\times N_\\theta$. Only the last domain dimension is used in this example, namely $N_\\theta$, since the control vectors do not depend on the physical coordinates $x$ and $y$."
   ]
  },
  {
   "cell_type": "code",
   "execution_count": 26,
   "id": "79488ece",
   "metadata": {},
   "outputs": [
    {
     "data": {
      "text/plain": [
       "(5, 3, 64)"
      ]
     },
     "execution_count": 26,
     "metadata": {},
     "output_type": "execute_result"
    }
   ],
   "source": [
    "sumIn['controls'].shape"
   ]
  },
  {
   "cell_type": "code",
   "execution_count": 27,
   "id": "2b5db936",
   "metadata": {},
   "outputs": [
    {
     "name": "stdout",
     "output_type": "stream",
     "text": [
      "Setting the kernel traits.\n",
      "Preparing the domain data (shape,metric,...)\n",
      "Preparing the problem rhs (cost, seeds,...)\n",
      "Preparing the GPU kernel\n",
      "Running the eikonal GPU kernel\n",
      "GPU kernel eikonal ran for 0.6741752624511719 seconds, and 303 iterations.\n",
      "Post-Processing\n"
     ]
    }
   ],
   "source": [
    "sumOut = sumIn.Run()"
   ]
  },
  {
   "cell_type": "code",
   "execution_count": 28,
   "id": "4fa8c8f3",
   "metadata": {},
   "outputs": [],
   "source": [
    "plt.title(\"Elastica reimplementation using sum form\")\n",
    "plt.contourf(*X,walls,cmap='Greys'); plt.axis('equal')\n",
    "plt.scatter(*sumIn['seed'][:2])\n",
    "plt.scatter(*sumIn['tips'].T[:2]);\n",
    "for geo in sumOut['geodesics']: plt.plot(*geo[:2])"
   ]
  },
  {
   "cell_type": "markdown",
   "id": "a973faf2",
   "metadata": {},
   "source": [
    "As discussed above, the AGD eikonal solver uses the sum representation of the Elastica Hamiltonian to compute shortest paths.\n",
    "As a result, the numerical solution obtained is identical, up to machine precision, up to a slight difference : \n",
    "the multiplicative factor $\\sqrt{3/4}$ is omitted in the AGD library. "
   ]
  },
  {
   "cell_type": "code",
   "execution_count": 29,
   "id": "4a38c079",
   "metadata": {},
   "outputs": [
    {
     "name": "stderr",
     "output_type": "stream",
     "text": [
      "C:\\Users\\jmmir\\AppData\\Local\\Temp\\ipykernel_112532\\2148432906.py:1: RuntimeWarning: invalid value encountered in subtract\n",
      "  assert np.nanmax(np.abs(np.sqrt(3/4)*sumOut['values']-elasticaOut['values'])) < 2e-4\n"
     ]
    }
   ],
   "source": [
    "assert np.nanmax(np.abs(np.sqrt(3/4)*sumOut['values']-elasticaOut['values'])) < 2e-4"
   ]
  },
  {
   "cell_type": "markdown",
   "id": "0607cbdf",
   "metadata": {},
   "source": [
    "We now turn to the max implementation of the elastica model."
   ]
  },
  {
   "cell_type": "code",
   "execution_count": 30,
   "id": "cdade594",
   "metadata": {},
   "outputs": [
    {
     "data": {
      "text/plain": [
       "{'controls_max_macro': False}"
      ]
     },
     "execution_count": 30,
     "metadata": {},
     "output_type": "execute_result"
    }
   ],
   "source": [
    "maxIn = sumIn.copy()\n",
    "maxIn.pop('traits') # 'controls_max_macro':True is the default."
   ]
  },
  {
   "cell_type": "markdown",
   "id": "78bdfca9",
   "metadata": {},
   "source": [
    "Define the max controls, as described above, and check the shape."
   ]
  },
  {
   "cell_type": "code",
   "execution_count": 31,
   "id": "0b932ec5",
   "metadata": {},
   "outputs": [],
   "source": [
    "controls = with_prior(elastica_controls(9),ξ=elasticaIn['xi'],κ=elasticaIn['kappa'])\n",
    "maxIn['controls']=np.moveaxis(embed(controls,Θ[:,None]),-1,0)"
   ]
  },
  {
   "cell_type": "code",
   "execution_count": 32,
   "id": "922eda96",
   "metadata": {},
   "outputs": [
    {
     "data": {
      "text/plain": [
       "(9, 3, 64)"
      ]
     },
     "execution_count": 32,
     "metadata": {},
     "output_type": "execute_result"
    }
   ],
   "source": [
    "maxIn['controls'].shape"
   ]
  },
  {
   "cell_type": "code",
   "execution_count": 33,
   "id": "4690a06f",
   "metadata": {},
   "outputs": [
    {
     "name": "stdout",
     "output_type": "stream",
     "text": [
      "Setting the kernel traits.\n",
      "Preparing the domain data (shape,metric,...)\n",
      "Preparing the problem rhs (cost, seeds,...)\n",
      "Preparing the GPU kernel\n",
      "Running the eikonal GPU kernel\n",
      "GPU kernel eikonal ran for 0.5393521785736084 seconds, and 237 iterations.\n",
      "Post-Processing\n"
     ]
    }
   ],
   "source": [
    "maxOut = maxIn.Run()"
   ]
  },
  {
   "cell_type": "markdown",
   "id": "f0f71178",
   "metadata": {},
   "source": [
    "The numerical results are reasonnable but we can see that the max form, in comparison with the sum form, requires a larger number of controls to achieve the same smoothness of paths (9 instead of 5) here. \n",
    "\n",
    "In fact, the paths obtained with the max form should be, from the theoretical standpoint, piecewise linear (with usually as many orientations as available controls)."
   ]
  },
  {
   "cell_type": "code",
   "execution_count": 34,
   "id": "7e8a60c0",
   "metadata": {},
   "outputs": [],
   "source": [
    "plt.title(\"Elastica reimplementation using max form\")\n",
    "plt.contourf(*X,walls,cmap='Greys'); plt.axis('equal')\n",
    "plt.scatter(*sumIn['seed'][:2])\n",
    "plt.scatter(*sumIn['tips'].T[:2]);\n",
    "for geo in maxOut['geodesics']: plt.plot(*geo[:2])"
   ]
  },
  {
   "cell_type": "markdown",
   "id": "421aadb7",
   "metadata": {},
   "source": [
    "The agreement between the two numerical schemes is reasonnable, given that the problem is rather degenerate and has a discontinuous solution.\n",
    "\n",
    "<!---\n",
    "meanval = np.mean(elasticaOut['values'][np.isfinite(elasticaOut['values'])])\n",
    "close = elasticaOut['values']<meanval \n",
    "error = np.where(close, np.sqrt(3/4)*np.squeeze(maxOut['values'],-1)-elasticaOut['values'],np.nan)\n",
    "np.nanmean(np.abs(error))\n",
    "--->"
   ]
  },
  {
   "cell_type": "code",
   "execution_count": 35,
   "id": "c3e15fbb",
   "metadata": {},
   "outputs": [
    {
     "name": "stderr",
     "output_type": "stream",
     "text": [
      "C:\\Users\\jmmir\\AppData\\Local\\Temp\\ipykernel_112532\\218061358.py:1: RuntimeWarning: invalid value encountered in subtract\n",
      "  np.nanmean(np.abs(np.sqrt(3/4)*maxOut['values']-elasticaOut['values']))\n"
     ]
    },
    {
     "data": {
      "text/plain": [
       "1.6037367195886267"
      ]
     },
     "execution_count": 35,
     "metadata": {},
     "output_type": "execute_result"
    }
   ],
   "source": [
    "np.nanmean(np.abs(np.sqrt(3/4)*maxOut['values']-elasticaOut['values']))"
   ]
  },
  {
   "cell_type": "code",
   "execution_count": 36,
   "id": "cf733629",
   "metadata": {},
   "outputs": [
    {
     "data": {
      "text/plain": [
       "19.009001994973488"
      ]
     },
     "execution_count": 36,
     "metadata": {},
     "output_type": "execute_result"
    }
   ],
   "source": [
    "np.mean(elasticaOut['values'][np.isfinite(elasticaOut['values'])])"
   ]
  },
  {
   "cell_type": "markdown",
   "id": "ec94584f",
   "metadata": {},
   "source": [
    "## 2. Bounded curvature\n",
    "\n",
    "In some applications, one would like to bound the curvature of the path, above and below.\n",
    "In other words to enforce:\n",
    "$$\n",
    "\\frac {\\dot \\theta}{\\dot s} \\in ]\\kappa_{\\min},\\kappa_{\\max}[=]\\tan\\phi_{\\min},\\tan \\phi_{\\max}[,\n",
    "$$\n",
    "for some constants $-\\infty\\leq \\kappa_{\\min} \\leq \\kappa_{\\max} \\leq \\infty$, equivalently $-\\pi/2 \\leq \\phi_{\\min} \\leq \\phi_{\\max} \\leq \\pi/2$.\n",
    "\n",
    "There are many ways to modify the model to achieve this behavior. \n",
    "We discuss in this section two natural approaches, based on the variants of the max-form and sum-form discussed above.\n",
    "\n",
    "Note that, up to modifying the parameters $\\xi$ and $\\kappa$, we can assumme $\\kappa_{\\min}=\\kappa_{\\max}=1$.\n"
   ]
  },
  {
   "cell_type": "markdown",
   "id": "dcdd5f0d",
   "metadata": {},
   "source": [
    "### 2.1 Max form\n",
    "\n",
    "One possible approach to achieve bounded curvature is to define the model through the modified metric\n",
    "$$\n",
    "    \\tilde \\cF(p, (\\dot s \\bn(\\theta), \\dot \\theta)) = \n",
    "    \\begin{cases}\n",
    "        \\dot s + \\frac {\\dot \\theta^2} {\\dot s} & \\text{if } \\kappa_{\\min} \\leq \\dot \\theta/\\dot s \\leq \\kappa_{\\max},\\\\\n",
    "        +\\infty &\\text{else},\n",
    "    \\end{cases}\n",
    "$$\n",
    "where $p=(x,\\theta)$, $\\dot s>0$, $\\dot \\theta\\in \\bR$. The metric is still defined as $+\\infty$ for planar velocities $\\dot x$ which are not positively proportionnal with $\\bn(\\theta)$.\n",
    "\n",
    "Equivalently, in terms of control set \n",
    "$$\n",
    "    \\tilde \\bB(p) = \\{ (\\dot s \\bn(\\theta), \\dot \\theta) \\mid (\\dot s-\\tfrac 1 2)^2 + \\dot \\theta^2\\leq \\tfrac 1 4,\\  \n",
    "    \\kappa_{\\min} \\leq \\dot \\theta/\\dot s \\leq \\kappa_{\\max}\\}.\n",
    "$$\n",
    "In order to implement this model, it is sufficient to choose a collection of extreme points of $\\tilde \\bB(p)$, whose convex hull approximates the whole set. This is illustrated below."
   ]
  },
  {
   "cell_type": "code",
   "execution_count": 37,
   "id": "58dadd8f",
   "metadata": {},
   "outputs": [],
   "source": [
    "ϕmin=-π/4;ϕmax=π/4\n",
    "plt.title(f\"Control set of elastica max, {ϕmin=:.3f} and {ϕmax=:.3f}\")\n",
    "I=12; plt.plot(*elastica_controls(I,ϕmin,ϕmax,pad=True),label=f\"{I=}\")\n",
    "I=5; plt.plot(*elastica_controls(I,ϕmin,ϕmax,pad=True),label=f\"{I=}\")\n",
    "plt.legend()\n",
    "plt.scatter(0,0); plt.axis('equal');"
   ]
  },
  {
   "cell_type": "markdown",
   "id": "bd59d038",
   "metadata": {},
   "source": [
    "One negative aspect of this model is that the control set is not smooth. \n",
    "Therefore, the model will often behave very similarly to the Dubins model : on large portions of the optimal trajectory, the curvature may be constant and equal to $\\kappa_{\\min}$ or $\\kappa_{\\max}$. "
   ]
  },
  {
   "cell_type": "markdown",
   "id": "36742f4f",
   "metadata": {},
   "source": [
    "### 2.2 Sum form\n",
    "\n",
    "Starting from the integral form of the Hamiltonian, a natural approach to bound the angles is to consider the variant\n",
    "$$\n",
    "\\cH(p,\\dot p) = \\int_{\\phi_{\\min}}^{\\phi_{\\max}} \\<\\dot p, \\bn(\\theta,\\phi)\\>_+^2 w(\\phi) \\diff \\phi,\n",
    "$$\n",
    "where $p = (x,\\theta)$. \n",
    "\n",
    "One possible choice for the integral weight is\n",
    "$$\n",
    "w(\\phi) = \\frac 1 {\\phi_\\delta} \\cos\\big(\\frac{\\phi-\\phi_{m}}{\\phi_\\delta}\\big),\n",
    "$$\n",
    "where $\\phi_m = (\\phi_{\\max}+\\phi_{\\min})/2$ and $\\phi_\\delta = (\\phi_{\\max}-\\phi_{\\min})/\\pi$, which corresponds to a reparametrization of the cosine weight from the interval $[-\\pi/2,\\pi/2]$ to $[\\phi_{\\min},\\phi_{\\max}]$. \n",
    "With this choice, we can still use the Fejer weights for the discretization.\n",
    "\n",
    "If one follows this approach, then the Hamiltonian remains smooth, as well as the control set.\n",
    "The implementation requires discretizing the above integral, which we do using the midpoint rule."
   ]
  },
  {
   "cell_type": "code",
   "execution_count": 38,
   "id": "843fd75f",
   "metadata": {
    "scrolled": false
   },
   "outputs": [],
   "source": [
    "ϕmin=-π/4;ϕmax=π/4\n",
    "plt.title(f\"Control set of elastica sum, {ϕmin=:.3f} and {ϕmax=:.3f}\")\n",
    "I=9; plt.plot(*ball(elastica_terms(I,ϕmin,ϕmax)),label=f\"{I=}\");\n",
    "I=5; plt.plot(*ball(elastica_terms(I,ϕmin,ϕmax)),label=f\"{I=}\");\n",
    "plt.legend(); plt.scatter(0,0); plt.axis('equal');"
   ]
  },
  {
   "cell_type": "markdown",
   "id": "fe7d90a4",
   "metadata": {},
   "source": [
    "Before running the models, let us compare their control sets.\n",
    "We see that the sum form variant with bounded curvature is rather close to the original model with doubled $\\xi$. "
   ]
  },
  {
   "cell_type": "code",
   "execution_count": 39,
   "id": "1e354a4b",
   "metadata": {},
   "outputs": [],
   "source": [
    "ϕmin=-π/4;ϕmax=π/4;ξlarge=2\n",
    "plt.title(f\"Control set of elastica variants\")\n",
    "I=20; plt.plot(*ball(elastica_terms(I,ϕmin,ϕmax)),label=f\"Sum variant with bounded curvature\");\n",
    "I=40; plt.plot(*with_prior(1.15*elastica_controls(I,pad=True),ξ=ξlarge),label=f\"Original with {ξlarge=}\");\n",
    "I=20; plt.plot(*elastica_controls(I,ϕmin,ϕmax,pad=True),label=f\"Max variant with bouded curvature\");\n",
    "plt.legend(); plt.scatter(0,0); plt.axis('equal');"
   ]
  },
  {
   "cell_type": "markdown",
   "id": "3b1b4cc2",
   "metadata": {},
   "source": [
    "### 2.3 Running the eikonal solver"
   ]
  },
  {
   "cell_type": "code",
   "execution_count": 40,
   "id": "fcb1cc02",
   "metadata": {},
   "outputs": [],
   "source": [
    "sumBdIn = sumIn.copy()\n",
    "controls = with_prior(elastica_terms(5,ϕmin,ϕmax),ξ=elasticaIn['xi'],κ=elasticaIn['kappa'])\n",
    "sumBdIn['controls']=np.moveaxis(embed(controls,Θ[:,None]),-1,0)"
   ]
  },
  {
   "cell_type": "code",
   "execution_count": 41,
   "id": "b808b273",
   "metadata": {},
   "outputs": [
    {
     "name": "stdout",
     "output_type": "stream",
     "text": [
      "Setting the kernel traits.\n",
      "Preparing the domain data (shape,metric,...)\n",
      "Preparing the problem rhs (cost, seeds,...)\n",
      "Preparing the GPU kernel\n",
      "Running the eikonal GPU kernel\n",
      "GPU kernel eikonal ran for 0.28753662109375 seconds, and 278 iterations.\n",
      "Post-Processing\n"
     ]
    }
   ],
   "source": [
    "sumBdOut = sumBdIn.Run()"
   ]
  },
  {
   "cell_type": "markdown",
   "id": "262ab260",
   "metadata": {},
   "source": [
    "As expected, takes wider turns. It still has smooth trajectories, and the the model prevents the turning radius from ever going below $1$."
   ]
  },
  {
   "cell_type": "code",
   "execution_count": 42,
   "id": "76224cc3",
   "metadata": {},
   "outputs": [],
   "source": [
    "plt.title(\"Bounded elastica, sum form\")\n",
    "plt.contourf(*X,walls,cmap='Greys'); plt.axis('equal')\n",
    "plt.scatter(*sumIn['seed'][:2])\n",
    "plt.scatter(*sumIn['tips'].T[:2]);\n",
    "for geo in sumBdOut['geodesics']: plt.plot(*geo[:2])"
   ]
  },
  {
   "cell_type": "markdown",
   "id": "9afc4371",
   "metadata": {},
   "source": [
    "As discussed above with the control sets, we can expect rather similar curves by doubling $\\xi$ on the original model.\n",
    "Nevertheless, this offers no guarantee on the curvature radius lower bound, and we indeed see in some places smaller radius of cuvature. "
   ]
  },
  {
   "cell_type": "code",
   "execution_count": 43,
   "id": "93d78f59",
   "metadata": {},
   "outputs": [
    {
     "name": "stdout",
     "output_type": "stream",
     "text": [
      "Setting the kernel traits.\n",
      "Preparing the domain data (shape,metric,...)\n",
      "Preparing the problem rhs (cost, seeds,...)\n",
      "Preparing the GPU kernel\n",
      "Running the eikonal GPU kernel\n",
      "GPU kernel eikonal ran for 0.2705385684967041 seconds, and 340 iterations.\n",
      "Post-Processing\n"
     ]
    }
   ],
   "source": [
    "ξlarge = 2;\n",
    "elasticaOut2 = elasticaIn.Run({\"xi\":ξlarge})"
   ]
  },
  {
   "cell_type": "code",
   "execution_count": 44,
   "id": "46c78752",
   "metadata": {},
   "outputs": [],
   "source": [
    "plt.title(f\"Comparison with elastica with larger turning radius {ξlarge=} (dashed)\")\n",
    "plt.contourf(*X,walls,cmap='Greys'); plt.axis('equal')\n",
    "plt.scatter(*sumIn['seed'][:2])\n",
    "plt.scatter(*sumIn['tips'].T[:2]);\n",
    "for geo in sumBdOut['geodesics']: plt.plot(*geo[:2])\n",
    "for geo in elasticaOut2['geodesics']: plt.plot(*geo[:2],'--')"
   ]
  },
  {
   "cell_type": "code",
   "execution_count": 45,
   "id": "2f894975",
   "metadata": {},
   "outputs": [],
   "source": [
    "maxBdIn = maxIn.copy()\n",
    "controls = with_prior(elastica_controls(9,ϕmin,ϕmax),ξ=elasticaIn['xi'],κ=elasticaIn['kappa'])\n",
    "maxBdIn['controls']=np.moveaxis(embed(controls,Θ[:,None]),-1,0)"
   ]
  },
  {
   "cell_type": "code",
   "execution_count": 46,
   "id": "8ee79ac5",
   "metadata": {},
   "outputs": [
    {
     "name": "stdout",
     "output_type": "stream",
     "text": [
      "Setting the kernel traits.\n",
      "Preparing the domain data (shape,metric,...)\n",
      "Preparing the problem rhs (cost, seeds,...)\n",
      "Preparing the GPU kernel\n",
      "Running the eikonal GPU kernel\n",
      "GPU kernel eikonal ran for 0.23302221298217773 seconds, and 238 iterations.\n",
      "Post-Processing\n"
     ]
    }
   ],
   "source": [
    "maxBdOut = maxBdIn.Run()"
   ]
  },
  {
   "cell_type": "markdown",
   "id": "d531edd5",
   "metadata": {},
   "source": [
    "This time, we compare the results with the original elastica model, without altering $\\xi$.\n",
    "The original trajectories whose turning radius was everywhere $\\geq 1$ remain identical, which is expected.\n",
    "The original trajectories which involved a small turning radius, at some point, are modified adequately."
   ]
  },
  {
   "cell_type": "code",
   "execution_count": 47,
   "id": "8bcf15dd",
   "metadata": {},
   "outputs": [],
   "source": [
    "plt.title(\"Elastica with bounded curvature, max form\")\n",
    "plt.contourf(*X,walls,cmap='Greys'); plt.axis('equal')\n",
    "plt.scatter(*sumIn['seed'][:2])\n",
    "plt.scatter(*sumIn['tips'].T[:2]);\n",
    "for geo in maxBdOut['geodesics']: plt.plot(*geo[:2])\n",
    "for geo in elasticaOut['geodesics']: plt.plot(*geo[:2],'--')"
   ]
  },
  {
   "cell_type": "markdown",
   "id": "38bdc3a6",
   "metadata": {},
   "source": [
    "## 3. Introducing states\n",
    "\n",
    "A vehicle may switch to different behavior modes depending on the environnement. \n",
    "We can reproduce this behavior in the model by introducing different states."
   ]
  },
  {
   "cell_type": "markdown",
   "id": "b7751499",
   "metadata": {},
   "source": [
    "### 3.1 Local direction changes\n",
    "\n",
    "We consider a curvature penalized model which has two states:\n",
    "- (Bounded curvature) This state requires the vehicle to move forward at all times, at positive speed. It can be implemented as an elastica model, a variant with e.g. bounded curvature, or a Dubins model.\n",
    "- (In place rotation) This state allows the vehicle to perform in place rotations. It can be implemented as a Reeds-Shepp model, a variant such as the one with non-negative physical speed, or a model which only allows in place rotations.\n",
    "\n",
    "The model can switch from one state to the other, which incurs a transition cost penalty. This may be done at places where a very localized maneuver is required. For instance at vessel bifurcations in the setting of retina vessel segmentation.\n",
    "\n",
    "In practice we choose a bounded elastica model, and a model which only allows in place rotations."
   ]
  },
  {
   "cell_type": "code",
   "execution_count": 48,
   "id": "14ec0ae8",
   "metadata": {
    "tags": [
     "ExportCode"
    ]
   },
   "outputs": [],
   "source": [
    "def in_place_rotation_controls(): return np.array(((0,0,1),(0,0,-1)))\n",
    "state_transition_base_cost = np.array(((0,1),(1,0))) # discrete cost of jumping from one state to another"
   ]
  },
  {
   "cell_type": "code",
   "execution_count": 49,
   "id": "4c41c92d",
   "metadata": {},
   "outputs": [],
   "source": [
    "# Elastica model with bounded curvature, max form\n",
    "I=9; controls0 = with_prior(elastica_controls(I,ϕmin,ϕmax),ξ=elasticaIn['xi'])\n",
    "controls0 = np.moveaxis(embed(controls0,Θ[:,None]),-1,0)\n",
    "\n",
    "# In place rotation only\n",
    "controls1 = in_place_rotation_controls()\n",
    "controls1 = np.pad(controls1,((0,I-2),(0,0))) # Add some null controls (to match the other number)\n",
    "controls1 = controls1[:,:,np.newaxis]+0.*Θ # No dependency w.r.t. Θ\n",
    "\n",
    "# Combined controls\n",
    "controls = np.stack([controls0,controls1],axis=-1)"
   ]
  },
  {
   "cell_type": "markdown",
   "id": "f334e9c6",
   "metadata": {},
   "source": [
    "Checking the shape of the controls : (Number of controls) x (physical dimension) x (last domain dimensions : $\\Theta$ and states)"
   ]
  },
  {
   "cell_type": "code",
   "execution_count": 50,
   "id": "071d17e2",
   "metadata": {},
   "outputs": [
    {
     "data": {
      "text/plain": [
       "(9, 3, 64, 2)"
      ]
     },
     "execution_count": 50,
     "metadata": {},
     "output_type": "execute_result"
    }
   ],
   "source": [
    "controls.shape"
   ]
  },
  {
   "cell_type": "code",
   "execution_count": 51,
   "id": "7c784d42",
   "metadata": {},
   "outputs": [],
   "source": [
    "nstates = controls.shape[-1]\n",
    "stateIn = Eikonal.dictIn({\n",
    "    'model':'DubinsState4',\n",
    "    'speed':1,\n",
    "    'seed':(*elasticaIn['seed'],0),\n",
    "    'tips':[(*tip,0) for tip in elasticaIn['tips']],\n",
    "    'dims':(*elasticaIn['dims'],nstates),\n",
    "    'origin':(0,0, -np.pi/Nθ,-0.5),\n",
    "    'gridScales':(*elasticaIn.gridScales,1),\n",
    "    'periodic':[False,False,True,False], # Domain = R^2 x S^1 x States\n",
    "    'exportValues':True,\n",
    "    'exportActiveNeighs':True,\n",
    "})\n",
    "stateIn['walls'] = np.broadcast_to(walls[:,:,np.newaxis,np.newaxis],stateIn.shape)\n",
    "stateIn['controls'] = controls"
   ]
  },
  {
   "cell_type": "markdown",
   "id": "faf77688",
   "metadata": {},
   "source": [
    "For reproducibility, we first put a high transition cost. In that case, the in-place-rotation mode will not be used."
   ]
  },
  {
   "cell_type": "code",
   "execution_count": 52,
   "id": "1bad0a07",
   "metadata": {},
   "outputs": [
    {
     "name": "stdout",
     "output_type": "stream",
     "text": [
      "Setting the kernel traits.\n",
      "Preparing the domain data (shape,metric,...)\n",
      "Preparing the problem rhs (cost, seeds,...)\n",
      "Preparing the GPU kernel\n",
      "Running the eikonal GPU kernel\n",
      "GPU kernel eikonal ran for 0.4411008358001709 seconds, and 309 iterations.\n",
      "Post-Processing\n"
     ]
    }
   ],
   "source": [
    "stateOut=stateIn.Run({'state_transition_costs':100*state_transition_base_cost})"
   ]
  },
  {
   "cell_type": "code",
   "execution_count": 53,
   "id": "b7bd765d",
   "metadata": {},
   "outputs": [],
   "source": [
    "valid = stateOut['values'][...,0]<100 # Points attained without in-place rotation in the path\n",
    "assert np.allclose(stateOut['values'][...,0][valid],maxBdOut['values'][valid]) # Identical path cost"
   ]
  },
  {
   "cell_type": "code",
   "execution_count": 54,
   "id": "cb83819e",
   "metadata": {},
   "outputs": [
    {
     "name": "stdout",
     "output_type": "stream",
     "text": [
      "Setting the kernel traits.\n",
      "Preparing the domain data (shape,metric,...)\n",
      "Preparing the problem rhs (cost, seeds,...)\n",
      "Preparing the GPU kernel\n",
      "Running the eikonal GPU kernel\n",
      "GPU kernel eikonal ran for 0.4246509075164795 seconds, and 309 iterations.\n",
      "Post-Processing\n",
      "Setting the kernel traits.\n",
      "Preparing the domain data (shape,metric,...)\n",
      "Preparing the problem rhs (cost, seeds,...)\n",
      "Preparing the GPU kernel\n",
      "Running the eikonal GPU kernel\n",
      "GPU kernel eikonal ran for 0.4100492000579834 seconds, and 313 iterations.\n",
      "Post-Processing\n",
      "Setting the kernel traits.\n",
      "Preparing the domain data (shape,metric,...)\n",
      "Preparing the problem rhs (cost, seeds,...)\n",
      "Preparing the GPU kernel\n",
      "Running the eikonal GPU kernel\n",
      "GPU kernel eikonal ran for 0.41104888916015625 seconds, and 322 iterations.\n",
      "Post-Processing\n"
     ]
    }
   ],
   "source": [
    "state_costs=[3,1,0.3] \n",
    "stateOuts=[stateIn.Run({'state_transition_costs':s*state_transition_base_cost}) for s in state_costs]"
   ]
  },
  {
   "cell_type": "markdown",
   "id": "6f9b03d5",
   "metadata": {},
   "source": [
    "As we vary the state transition cost, we can see the following behavior:\n",
    "- (High transition cost) We recover the geodesics of the original model (elastica with bounded curvature, max implementation)\n",
    "- (Medium transition cost) We often see a transition to the inplace rotation mode at the end of the curve, so as to facilitate the final maneuver.\n",
    "- (Low transition cost) The path may transition to the inplace rotation when it has to go around a wall."
   ]
  },
  {
   "cell_type": "code",
   "execution_count": 55,
   "id": "f32b131b",
   "metadata": {},
   "outputs": [
    {
     "name": "stdout",
     "output_type": "stream",
     "text": [
      "linestyle='-' with state transition cost 3\n",
      "linestyle='--' with state transition cost 1\n",
      "linestyle=':' with state transition cost 0.3\n"
     ]
    }
   ],
   "source": [
    "plt.title(\"Elastica with in place rotation state\")\n",
    "plt.contourf(*X,walls,cmap='Greys'); plt.axis('equal')\n",
    "plt.scatter(*sumIn['seed'][:2])\n",
    "plt.scatter(*sumIn['tips'].T[:2])\n",
    "for (s,linestyle,hfmOut) in zip(state_costs,['-','--',':'],stateOuts):\n",
    "    print(f\"{linestyle=} with state transition cost {s}\")\n",
    "    for geo in hfmOut['geodesics']: plt.plot(*geo[:2],linestyle)"
   ]
  },
  {
   "cell_type": "markdown",
   "id": "78494592",
   "metadata": {},
   "source": [
    "*Possible issues with backtracking.* In this example, when the *state transition cost is very low*, below $<0.05$, the geodesic backtracking often fails around *wall corners*. Namely, the geodesic enters the walls and stops there.\n",
    "\n",
    "<!---\n",
    "stateLowOut=stateIn.Run({'state_transition_costs':0.01*state_transition_base_cost})\n",
    "print(stateLowOut['geodesic_stopping_criteria'])\n",
    "\n",
    "plt.title(\"Elastica with bounded curvature, max form\")\n",
    "plt.contourf(*X,walls,cmap='Greys')\n",
    "plt.scatter(*sumIn['seed'][:2])\n",
    "plt.scatter(*sumIn['tips'].T[:2])\n",
    "for geo in stateLowOut['geodesics']: plt.plot(*geo[:2])\n",
    "--->"
   ]
  },
  {
   "cell_type": "markdown",
   "id": "6500d9e1",
   "metadata": {},
   "source": [
    "The `active_source` data obtained below indicates the places where jumping to the other state is favorable.\n",
    "\n",
    "Jumping is performed when it is advantageous to perform an inplace rotation before the backtracking with the bounded curvature elastica model.\n",
    "We observe that:\n",
    "- With *low* transition costs, jumps to the in-place rotation state are common, as soon as the current orientation $\\theta$ is not toward the seed.\n",
    "- With *high* transition costs, jumps to the in-place rotation state are limited to places where a complex, or maybe unfeasible, maneuver would be needed for the bounded curvature model.\n",
    "\n",
    "<!---\n",
    "iθ = 10; θ = Θ[iθ];\n",
    "plt.title(f\"Places where jumping to in place rotation is favorable, {θ=:.2f}\")\n",
    "plt.contourf(*X,walls,cmap='Greys')\n",
    "plt.contourf(*X,active_source[:,:,iθ,0]);\n",
    "plt.scatter(*sumIn['seed'][:2])\n",
    "plt.arrow(8,12,-np.cos(θ),-np.sin(θ),head_width=1); # Negative sign accounts for backtracking orientation\n",
    "--->"
   ]
  },
  {
   "cell_type": "code",
   "execution_count": 56,
   "id": "1915ca41",
   "metadata": {},
   "outputs": [
    {
     "name": "stderr",
     "output_type": "stream",
     "text": [
      "C:\\Users\\jmmir\\Documents\\GitHub\\AdaptiveGridDiscretizations\\Notebooks_FMM\\../../AdaptiveGridDiscretizations\\agd\\ExportedCode\\Notebooks_FMM\\DubinsState.py:28: RuntimeWarning: divide by zero encountered in log2\n",
      "  source = np.log2(active).round().astype(int) # source of the jump\n"
     ]
    }
   ],
   "source": [
    "_,active_source_high=control_source(stateOut['activeNeighs'],len(controls))\n",
    "_,active_source_low=control_source(stateOuts[-1]['activeNeighs'],len(controls))"
   ]
  },
  {
   "cell_type": "code",
   "execution_count": 57,
   "id": "06030385",
   "metadata": {},
   "outputs": [
    {
     "name": "stdout",
     "output_type": "stream",
     "text": [
      "Places where jumping to in place rotation is favorable, θ=0.98\n"
     ]
    }
   ],
   "source": [
    "iθ = 10; θ = Θ[iθ];\n",
    "print(f\"Places where jumping to in place rotation is favorable, {θ=:.2f}\")\n",
    "plt.figure(figsize=(12,5))\n",
    "for i,(caption,active_source_data) in enumerate([('low',active_source_low),('high',active_source_high)]):\n",
    "    plt.subplot(1,2,i+1)\n",
    "    plt.title(f\"{caption} transition cost\")\n",
    "    plt.contourf(*X,walls,cmap='Greys'); plt.axis('equal')\n",
    "    plt.contourf(*X,active_source_data[:,:,iθ,0]);\n",
    "    plt.scatter(*sumIn['seed'][:2])\n",
    "    plt.arrow(8,12,-np.cos(θ),-np.sin(θ),head_width=1); # Negative sign accounts for backtracking orientation"
   ]
  },
  {
   "cell_type": "markdown",
   "id": "2914e4c5",
   "metadata": {},
   "source": [
    "### 3.2 Reproducing the max form\n",
    "\n",
    "In this experiment, we do not aim to generalize the model, but only to validate the implementation.\n",
    "\n",
    "We introduce several states, with *very small transition costs* between them, and a single control vector for each of them. \n",
    "This model should reproduce the max form of the implementation of the Euler-Elastica model. "
   ]
  },
  {
   "cell_type": "code",
   "execution_count": 58,
   "id": "ddf87bcf",
   "metadata": {},
   "outputs": [],
   "source": [
    "I=7; nstates = I # For technical reasons, we are limited to 7 different states\n",
    "controls = with_prior(elastica_controls(I),ξ=elasticaIn['xi'])\n",
    "controls = embed(controls,Θ[:,None])[np.newaxis]"
   ]
  },
  {
   "cell_type": "code",
   "execution_count": 59,
   "id": "4acded5a",
   "metadata": {},
   "outputs": [
    {
     "data": {
      "text/plain": [
       "(1, 3, 64, 7)"
      ]
     },
     "execution_count": 59,
     "metadata": {},
     "output_type": "execute_result"
    }
   ],
   "source": [
    "controls.shape"
   ]
  },
  {
   "cell_type": "markdown",
   "id": "2a29052a",
   "metadata": {},
   "source": [
    "In this implementation, we have $I$ distinct states, each of which has only one control, hence only the possibility of going forward in the corresponding direction. "
   ]
  },
  {
   "cell_type": "code",
   "execution_count": 60,
   "id": "c73f437a",
   "metadata": {},
   "outputs": [],
   "source": [
    "maxStateIn = stateIn.copy()\n",
    "maxStateIn.update({\n",
    "    'dims':(*elasticaIn.shape,nstates),\n",
    "    'controls' : controls,\n",
    "    'state_transition_costs':1e-10*np.ones((nstates,nstates)),\n",
    "    'exportFlowState':True, # For validation\n",
    "})\n",
    "maxStateIn['walls']=np.broadcast_to(walls[:,:,np.newaxis,np.newaxis],maxStateIn.shape)"
   ]
  },
  {
   "cell_type": "code",
   "execution_count": 61,
   "id": "c4e56584",
   "metadata": {},
   "outputs": [
    {
     "name": "stdout",
     "output_type": "stream",
     "text": [
      "Setting the kernel traits.\n",
      "Preparing the domain data (shape,metric,...)\n",
      "Preparing the problem rhs (cost, seeds,...)\n",
      "Preparing the GPU kernel\n",
      "Running the eikonal GPU kernel\n",
      "GPU kernel eikonal ran for 0.6741137504577637 seconds, and 348 iterations.\n",
      "Post-Processing\n"
     ]
    }
   ],
   "source": [
    "maxStateOut = maxStateIn.Run()"
   ]
  },
  {
   "cell_type": "markdown",
   "id": "db9dde35",
   "metadata": {},
   "source": [
    "Since we put an infinitesimal transition cost between states, then this amuonts to the max implementation of the elastica model."
   ]
  },
  {
   "cell_type": "code",
   "execution_count": 62,
   "id": "bd78da45",
   "metadata": {},
   "outputs": [],
   "source": [
    "maxRefIn = maxIn.copy()\n",
    "controls = with_prior(elastica_controls(I),ξ=elasticaIn['xi'])\n",
    "maxRefIn['controls']=np.moveaxis(embed(controls,Θ[:,None]),-1,0)"
   ]
  },
  {
   "cell_type": "code",
   "execution_count": 63,
   "id": "1833a8cb",
   "metadata": {},
   "outputs": [
    {
     "name": "stdout",
     "output_type": "stream",
     "text": [
      "Setting the kernel traits.\n",
      "Preparing the domain data (shape,metric,...)\n",
      "Preparing the problem rhs (cost, seeds,...)\n",
      "Preparing the GPU kernel\n",
      "Running the eikonal GPU kernel\n",
      "GPU kernel eikonal ran for 0.5410819053649902 seconds, and 236 iterations.\n",
      "Post-Processing\n"
     ]
    }
   ],
   "source": [
    "maxRefOut = maxRefIn.Run()"
   ]
  },
  {
   "cell_type": "code",
   "execution_count": 64,
   "id": "6b58cfbe",
   "metadata": {},
   "outputs": [],
   "source": [
    "assert np.allclose(maxRefOut['values'][...,np.newaxis],maxStateOut['values'])"
   ]
  },
  {
   "cell_type": "markdown",
   "id": "274f061b",
   "metadata": {},
   "source": [
    "Geodesic backtracking may unstable, due to floating point roundoff errors among other things, if the state transition cost is excessively low. We thus consider a slightly larger transition cost.\n",
    "\n",
    "In comparison with the standard implementation, we see slightly angular trajectories, with segments which are straight or have constant curvature. This is an artifact, due to the small but positive state transition cost. (Each state corresponds to a constant turning radius.)\n",
    "\n",
    "\n",
    "<!---\n",
    "walls = np.array(0==Plotting.imread('Notebooks_FMM/TestImages/PompidouCrop.png').T,dtype=bool)\n",
    "\n",
    "Nθ = 64; Θ=np.linspace(0,2*π,Nθ,endpoint=False)\n",
    "seed=(1,5,1.)\n",
    "tips=[[13,15,0],[19,14,0],[12,12,0],[17,5,0],[7,2,-3],[3,13,-1.5]]\n",
    "\n",
    "I=7; # For technical reasons, we are limited to 7 different states\n",
    "controls = with_prior(elastica_controls(I),ξ=1)\n",
    "controls = embed(controls,Θ[:,None])[np.newaxis]\n",
    "\n",
    "nstates = controls.shape[-1]\n",
    "stateIn = Eikonal.dictIn({\n",
    "    'model':'DubinsState4',\n",
    "    'state_transition_costs':0.001*np.ones((nstates,nstates)),\n",
    "    'speed':1,\n",
    "    'seed':(*seed,0),\n",
    "    'tips':[(*tip,0) for tip in tips],\n",
    "    'dims':(*walls.shape,Nθ,nstates),\n",
    "    'origin':(0,0, -π/Nθ,-0.5),\n",
    "    'gridScales':(0.1,0.1,2*π/Nθ,1),\n",
    "    'periodic':[False,False,True,False], # Domain = R^2 x S^1 x States\n",
    "    'exportValues':True,\n",
    "    'exportActiveNeighs':True,\n",
    "    'exportFlowState':True,\n",
    "#    'exportGeodesicFlow':True,\n",
    "#    'geodesic_mixed_state':True,\n",
    "#    'geodesic_Stationnary_delay':192,\n",
    "#    'geodesic_max_length':2,\n",
    "    'controls':controls,\n",
    "    'walls':maxStateIn['walls'],\n",
    "#    'geodesic_Stationnary_delay':\n",
    "})\n",
    "stateOut = stateIn.Run()\n",
    "--->"
   ]
  },
  {
   "cell_type": "code",
   "execution_count": 65,
   "id": "c17d5d68",
   "metadata": {},
   "outputs": [
    {
     "name": "stdout",
     "output_type": "stream",
     "text": [
      "Setting the kernel traits.\n",
      "Preparing the domain data (shape,metric,...)\n",
      "Preparing the problem rhs (cost, seeds,...)\n",
      "Preparing the GPU kernel\n",
      "Running the eikonal GPU kernel\n",
      "GPU kernel eikonal ran for 0.46856093406677246 seconds, and 327 iterations.\n",
      "Post-Processing\n"
     ]
    }
   ],
   "source": [
    "maxStateOut = maxStateIn.Run({'state_transition_costs':0.1*np.ones((nstates,nstates))})"
   ]
  },
  {
   "cell_type": "code",
   "execution_count": 66,
   "id": "8f68c4ee",
   "metadata": {},
   "outputs": [],
   "source": [
    "plt.title(\"Elastica with bounded curvature, max form\")\n",
    "plt.contourf(*X,walls,cmap='Greys'); plt.axis('equal')\n",
    "plt.scatter(*sumIn['seed'][:2])\n",
    "plt.scatter(*sumIn['tips'].T[:2])\n",
    "for i,tip in enumerate(sumIn['tips']): plt.text(*tip[:2],f\"{i}\")\n",
    "for geo in maxStateOut['geodesics']: plt.plot(*geo[:2])"
   ]
  },
  {
   "cell_type": "markdown",
   "id": "7a3da788",
   "metadata": {},
   "source": [
    "The last coordinate represents the state, which in this model corresponds to the the turning radius. We can see how the state varies along the trajectory."
   ]
  },
  {
   "cell_type": "code",
   "execution_count": 67,
   "id": "459391da",
   "metadata": {},
   "outputs": [],
   "source": [
    "igeo=2;\n",
    "plt.title(f\"State of geodesic from tip {igeo} along the trajectory\")\n",
    "geo = maxStateOut['geodesics'][igeo]\n",
    "plt.plot(geo[-1]);"
   ]
  },
  {
   "cell_type": "markdown",
   "id": "38d3089d",
   "metadata": {},
   "source": [
    "The above discrete values are only a summary of the data. In the backtracking procedure, we actually use a mixed state, with a non-negative weight for each possibility. Such a mixed state appears to be unavoidable in order to have a reliable backtracking. "
   ]
  },
  {
   "cell_type": "code",
   "execution_count": 68,
   "id": "71876ac3",
   "metadata": {},
   "outputs": [],
   "source": [
    "plt.title(f\"Full mixed state for geodesic from tip {igeo} along trajectory\")\n",
    "geo_state = maxStateOut['geodesic_states'][2] # Full state data for geodesic number 2\n",
    "for i,state_weight in enumerate(geo_state): plt.plot(state_weight,label=i)\n",
    "plt.legend();"
   ]
  },
  {
   "cell_type": "code",
   "execution_count": 69,
   "id": "6691d380",
   "metadata": {},
   "outputs": [],
   "source": [
    "assert np.allclose(geo_state.sum(axis=0),1) # State weights sum to one\n",
    "assert np.all(geo_state>=0) # State weights are non-negative"
   ]
  },
  {
   "cell_type": "markdown",
   "id": "27ff3468",
   "metadata": {},
   "source": [
    "Along the backtracking, the mixed state evolution in the `nstates`-dimensional probability simplex is dictated a vector field `flow_state` computed similarly to the geodesic flow."
   ]
  },
  {
   "cell_type": "code",
   "execution_count": 70,
   "id": "b750dafa",
   "metadata": {},
   "outputs": [],
   "source": [
    "flow_state = maxStateOut['flow_state']\n",
    "# Coordinates sum to zero, because total state proba = 1 is constant\n",
    "assert np.allclose(np.sum(flow_state,axis=0),0,atol=1e-4) "
   ]
  },
  {
   "cell_type": "markdown",
   "id": "00a2498b",
   "metadata": {},
   "source": [
    "## 4. Penalization of curvature variation"
   ]
  },
  {
   "cell_type": "markdown",
   "id": "d093e913",
   "metadata": {},
   "source": [
    "We consider a four dimensional variant of the elastica model, posed on \n",
    "$$\n",
    "    \\bR^2_x \\times \\bS^1_\\theta \\times \\bR_\\kappa,\n",
    "$$\n",
    "whose metric reads\n",
    "$$\n",
    "    \\cF_{x,\\theta,\\kappa}(\\dot x, \\dot \\theta, \\dot \\kappa) = \\dot s + \\frac{\\dot \\kappa^2} {\\dot s}, \\qquad \\text{ if } (\\dot x,\\dot \\theta) = \\dot s (\\bn(\\theta),\\kappa), \n",
    "$$\n",
    "for some $\\dot s>0$. The metric equals $+\\infty$ elsewhere, except at zero.\n",
    "\n",
    "Consider a curve $\\gamma$ with finite energy for this metric. Then the horizontal velocity $\\dot x$ is non-vanishing, and we can therefore reparametrize it so that $|\\dot x|=1$, with total planar Euclidean length $L$. The curve energy is thus : \n",
    "$$\n",
    "\\int_0^L \\cF_{\\gamma(t)}(\\gamma'(t))\\diff t = \\int_0^L (1+\\dot \\kappa^2) \\diff t\n",
    "$$\n",
    "\n",
    "The Hamiltonian admits an integral representation, which can be deduced from the representation of the original model, namely\n",
    "$$\n",
    "    \\cH_p(\\hat p) = \\int_{-\\pi/2}^{\\pi/2} \\<n_\\kappa(\\theta,\\phi),\\hat p\\>_+^2 \\cos \\phi \\diff \\phi\n",
    "$$\n",
    "where $p=({x,\\theta,\\kappa})$, $\\hat p = (\\hat x,\\hat \\theta,\\hat \\kappa)$, and $\\bn_\\kappa(\\theta,\\phi) = (\\cos \\theta \\cos \\phi, \\sin \\theta \\cos \\phi, \\kappa\\cos \\phi, \\sin \\phi)$.\n",
    "\n",
    "**Disclaimer** This model is highly experimental.\n",
    "This is a high order model, solved with a low order numerical method, which in addition uses wide stencils. As a result non-holonomic constraints seem to be often violated by the numerical method. \n",
    "\n",
    "In other words, there is a substantial amount of numerical diffusion, which results in trajectories violating the relation\n",
    "$$\n",
    "    (\\dot x,\\dot \\theta) \\propto (\\bn(\\theta), \\kappa)\n",
    "$$\n",
    "\n",
    "In addition, the geodesic backtracking EDO solver often has issues, because the solution of the eikonal equation has strong singularities, in particular at the seed and near walls."
   ]
  },
  {
   "cell_type": "markdown",
   "id": "f15cd6b3",
   "metadata": {},
   "source": [
    "### 4.1 Generating the controls"
   ]
  },
  {
   "cell_type": "markdown",
   "id": "ee1e1ded",
   "metadata": {},
   "source": [
    "In order to limit the computational cost, we use only few terms for the intergral discretization."
   ]
  },
  {
   "cell_type": "code",
   "execution_count": 71,
   "id": "947923bc",
   "metadata": {
    "tags": [
     "ExportCode"
    ]
   },
   "outputs": [],
   "source": [
    "def embed4(c,θ,κ):\n",
    "    \"\"\"\n",
    "    Embed a two dimensional control (α,β) in R^2 x R x R as (α n(θ),α κ, β)\n",
    "    where n(θ) = (cos θ, sin θ)\n",
    "    \"\"\"\n",
    "    ds,dθ = c\n",
    "    uθ,uκ = np.ones_like(θ),np.ones_like(κ)\n",
    "    return np.array((ds*np.cos(θ)*uκ,ds*np.sin(θ)*uκ,ds*uθ*κ,dθ*uθ*uκ))"
   ]
  },
  {
   "cell_type": "markdown",
   "id": "eb418a60",
   "metadata": {},
   "source": [
    "As before, we can introduce some prior information in the metric, using the `with_prior` function.\n",
    "However, it acts on the derivative of the curvature this time, rather than the curvature itself. \n",
    "\n",
    "More precisely, the model becomes:\n",
    "$$\n",
    "\\int_0^L (1+(\\xi(\\dot \\kappa-\\kappa_0))^2) \\diff t.\n",
    "$$\n",
    "Thus $\\kappa_0$ is a reference curvature derivative (instead of a reference curvature previously), and $1/\\xi$ is the typical magnitude of the curvature derivative (instead of the typical magnitude of curvature). "
   ]
  },
  {
   "cell_type": "markdown",
   "id": "59989b1a",
   "metadata": {},
   "source": [
    "### 4.2 Running the eikonal solver\n",
    "\n",
    "The model considered in this section is four dimensional. In order to have a reasonable computational cost, we use a coarse discretization of the last dimension.\n",
    "\n",
    "Note that, since we use a finite set of values to discretize the curvature, it is bounded by construction."
   ]
  },
  {
   "cell_type": "code",
   "execution_count": 72,
   "id": "eceec170",
   "metadata": {},
   "outputs": [],
   "source": [
    "κmin = -1; κmax = 1; nκ = 9\n",
    "aK,dκ = np.linspace(κmin,κmax,nκ,retstep=True)"
   ]
  },
  {
   "cell_type": "code",
   "execution_count": 73,
   "id": "571cb94f",
   "metadata": {},
   "outputs": [
    {
     "data": {
      "text/plain": [
       "(array([-1.  , -0.75, -0.5 , -0.25,  0.  ,  0.25,  0.5 ,  0.75,  1.  ]), 0.25)"
      ]
     },
     "execution_count": 73,
     "metadata": {},
     "output_type": "execute_result"
    }
   ],
   "source": [
    "aK,dκ"
   ]
  },
  {
   "cell_type": "code",
   "execution_count": 74,
   "id": "3fb0f040",
   "metadata": {},
   "outputs": [],
   "source": [
    "curvIn = Eikonal.dictIn({\n",
    "    'model':'Custom4',\n",
    "    'speed':1,\n",
    "    'seed':(*elasticaIn['seed'],0),\n",
    "    'tips':[(*tip,0) for tip in elasticaIn['tips']],\n",
    "    'dims':(*elasticaIn['dims'],nκ),\n",
    "    'origin':(0,0, -np.pi/Nθ,κmin-dκ/2),\n",
    "    'gridScales':(*elasticaIn.gridScales,dκ),\n",
    "    'periodic':[False,False,True,False], # Domain = R^2 x S^1 x R\n",
    "    'exportValues':True,\n",
    "})\n",
    "curvIn['walls'] = np.broadcast_to(walls[:,:,np.newaxis,np.newaxis],curvIn.shape)"
   ]
  },
  {
   "cell_type": "code",
   "execution_count": 75,
   "id": "77d4b857",
   "metadata": {},
   "outputs": [],
   "source": [
    "assert np.allclose(curvIn.Axes()[-1],aK) # Last axis correctly set"
   ]
  },
  {
   "cell_type": "code",
   "execution_count": 76,
   "id": "af7682ff",
   "metadata": {},
   "outputs": [],
   "source": [
    "I=5\n",
    "controls = with_prior(elastica_terms(I),ξ=2)\n",
    "curvIn['controls'] = np.moveaxis(embed4(controls,Θ[:,np.newaxis,np.newaxis],aK[np.newaxis,:,np.newaxis]),-1,0)"
   ]
  },
  {
   "cell_type": "markdown",
   "id": "b30e45f4",
   "metadata": {},
   "source": [
    "Always check the controls shape, which must be : \n",
    "$$\n",
    "    \\text{number of controls} \\times \\text{physical space dimension} \\times \\text{last domain dimensions}.\n",
    "$$\n",
    "\n",
    "Here the domain has dimensions $N_x \\times N_y\\times N_\\theta \\times N_\\kappa$. Only the last two domain dimensions are used in this example, namely $N_\\theta\\times N_\\kappa$, since the control vectors do not depend on the physical coordinates $x$ and $y$."
   ]
  },
  {
   "cell_type": "code",
   "execution_count": 77,
   "id": "19b7279c",
   "metadata": {},
   "outputs": [
    {
     "data": {
      "text/plain": [
       "(5, 4, 64, 9)"
      ]
     },
     "execution_count": 77,
     "metadata": {},
     "output_type": "execute_result"
    }
   ],
   "source": [
    "curvIn['controls'].shape"
   ]
  },
  {
   "cell_type": "code",
   "execution_count": 78,
   "id": "1bed9c48",
   "metadata": {},
   "outputs": [
    {
     "name": "stdout",
     "output_type": "stream",
     "text": [
      "Setting the kernel traits.\n",
      "Preparing the domain data (shape,metric,...)\n",
      "Preparing the problem rhs (cost, seeds,...)\n",
      "Preparing the GPU kernel\n",
      "Running the eikonal GPU kernel\n",
      "GPU kernel eikonal ran for 4.072147607803345 seconds, and 297 iterations.\n",
      "Post-Processing\n"
     ]
    }
   ],
   "source": [
    "curvOut = curvIn.Run()"
   ]
  },
  {
   "cell_type": "code",
   "execution_count": 79,
   "id": "4faa9e11",
   "metadata": {},
   "outputs": [],
   "source": [
    "plt.title(\"Curvature variation penalization\")\n",
    "plt.contourf(*X,walls,cmap='Greys'); plt.axis('equal')\n",
    "plt.scatter(*sumIn['seed'][:2])\n",
    "plt.scatter(*sumIn['tips'].T[:2]);\n",
    "for geo in curvOut['geodesics']: plt.plot(*geo[:2])"
   ]
  },
  {
   "cell_type": "markdown",
   "id": "f046d636",
   "metadata": {},
   "source": [
    "Some qualitative properties of the above numerical results are coherent with the model:\n",
    "- (Spiral sections) There are long curve sections where the curvature monotonically increases.\n",
    "- (Straight segments) There are long (almost) straight sections. Indeed, the straight line is very stable, since deviating from it requires first modifying the curvature."
   ]
  },
  {
   "cell_type": "code",
   "execution_count": 80,
   "id": "531cd852",
   "metadata": {},
   "outputs": [],
   "source": [
    "plt.title('Orientation θ as a function of arclength')\n",
    "for geo in curvOut['geodesics']:\n",
    "    arclen = np.cumsum(np.linalg.norm(geo[:2,1:]-geo[:2,:-1],axis=0))\n",
    "    plt.plot(arclen,geo[2,1:])"
   ]
  },
  {
   "cell_type": "code",
   "execution_count": 81,
   "id": "d9f6ad8f",
   "metadata": {},
   "outputs": [],
   "source": [
    "plt.title('Curvature κ as a function of arclength')\n",
    "for geo in curvOut['geodesics']:\n",
    "    arclen = np.cumsum(np.linalg.norm(geo[:2,1:]-geo[:2,:-1],axis=0))\n",
    "    plt.plot(arclen,geo[3,1:])"
   ]
  },
  {
   "cell_type": "code",
   "execution_count": null,
   "id": "0921b613",
   "metadata": {},
   "outputs": [],
   "source": []
  }
 ],
 "metadata": {
  "celltoolbar": "Raw Cell Format",
  "kernelspec": {
   "display_name": "Python 3 (ipykernel)",
   "language": "python",
   "name": "python3"
  },
  "language_info": {
   "codemirror_mode": {
    "name": "ipython",
    "version": 3
   },
   "file_extension": ".py",
   "mimetype": "text/x-python",
   "name": "python",
   "nbconvert_exporter": "python",
   "pygments_lexer": "ipython3",
   "version": "3.12.1"
  },
  "varInspector": {
   "cols": {
    "lenName": 16,
    "lenType": 16,
    "lenVar": 40
   },
   "kernels_config": {
    "python": {
     "delete_cmd_postfix": "",
     "delete_cmd_prefix": "del ",
     "library": "var_list.py",
     "varRefreshCmd": "print(var_dic_list())"
    },
    "r": {
     "delete_cmd_postfix": ") ",
     "delete_cmd_prefix": "rm(",
     "library": "var_list.r",
     "varRefreshCmd": "cat(var_dic_list()) "
    }
   },
   "types_to_exclude": [
    "module",
    "function",
    "builtin_function_or_method",
    "instance",
    "_Feature"
   ],
   "window_display": false
  }
 },
 "nbformat": 4,
 "nbformat_minor": 5
}

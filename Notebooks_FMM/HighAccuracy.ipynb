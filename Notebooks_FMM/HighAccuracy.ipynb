{
 "cells": [
  {
   "cell_type": "markdown",
   "metadata": {},
   "source": [
    "# The HFM library - A fast marching solver with adaptive stencils \n",
    "\n",
    "## Part : Algorithmic enhancements to the fast marching method\n",
    "## Chapter : Achieving high accuracy\n",
    "\n",
    "The present notebook is devoted to achieving high accuracy with the fast marching method. Let us recall that the standard discretization of the eikonal equation, for a problem with a point source, achieves the accuracy\n",
    "$$\n",
    "    \\mathcal O(h \\ln(h) ),\n",
    "$$\n",
    "where $h>0$ is the discretization grid scale. This is enough for a number of problems, but insufficient for other applications. \n",
    "\n",
    "\n",
    "In order to reduce this error, we use a combination of the three following approaches:\n",
    "* *Second and third order finite differences* (**order** key). Numerical solvers of eikonal equations typically rely on first order upwind finite differences. Higher order finite differences can however be used at the 'recompute' stage, provided they are complemented with cautious fallback strategies, in view of their instability.\n",
    "* *Equation factoring at the source(s)* (**factoringMethod** key). The solution of the eikonal equation has a non-differentiable singularity at the source point, which yields inaccurate finite differences in its neighborhood. Equation factoring methods correct for these systematic errors, by relying on an analytical expression of the singularity.\n",
    "* *Spreading seed information* (**seedRadius** key). By default the seed position is rounded to the closest grid point, producing a systematic $\\mathcal O(h)$ error, unless the provided seed falls exactly on a seed point. The seedRadius option replaces the given off-grid seed point with a small set of on-grid seed points equipped analytic estimates of the solution.\n",
    "\n",
    "\n",
    "Some possible additional difficulties may however cause the above techniques to be inoperant. For instance:\n",
    "* *Discontinuities in the metric*. Non-smooth data yields non-smooth solutions, which are not amenable to high order methods.\n",
    "* *Obstacles in the domain* Secondary sources, created by the obstacles, are currently not handled by the equation factoring method. In addition, the fact that these sources are located on the domain boundary creates numerical difficulities.\n",
    "* *Non holonomic models (curvature penalization)* The solutions to these models have a severe singularity at the source, which generally does not have an analytic expression. In addition, our implementation involves a relaxation, with parameter $\\epsilon>0$, which is another source of error.\n"
   ]
  },
  {
   "cell_type": "markdown",
   "metadata": {},
   "source": [
    "[**Summary**](Summary.ipynb) of volume Fast Marching Methods, this series of notebooks.\n",
    "\n",
    "[**Main summary**](../Summary.ipynb) of the Adaptive Grid Discretizations \n",
    "\tbook of notebooks, including the other volumes.\n",
    "\n",
    "# Table of contents\n",
    "  * [1. Poincare model of the hyperbolic plane](#1.-Poincare-model-of-the-hyperbolic-plane)\n",
    "    * [1.1 The seedRadius key](#1.1-The-seedRadius-key)\n",
    "    * [1.2 (Static) Equation factoring](#1.2-(Static)-Equation-factoring)\n",
    "    * [1.3 Second order scheme](#1.3-Second-order-scheme)\n",
    "    * [1.4 Third order scheme, and semi-Lagrangian numerical methods](#1.4-Third-order-scheme,-and-semi-Lagrangian-numerical-methods)\n",
    "  * [2. A Riemannian metric](#2.-A-Riemannian-metric)\n",
    "    * [2.1 Trying the various numerical scheme enhancements](#2.1-Trying-the-various-numerical-scheme-enhancements)\n",
    "  * [3. A Rander metric](#3.-A-Rander-metric)\n",
    "  * [4. Metric arising from seismology.](#4.-Metric-arising-from-seismology.)\n",
    "  * [5. Additional discussion](#5.-Additional-discussion)\n",
    "\n",
    "\n",
    "\n",
    "This Python&reg; notebook is intended as documentation and testing for the [HamiltonFastMarching (HFM) library](https://github.com/mirebeau/HamiltonFastMarching), which also has interfaces to the Matlab&reg; and Mathematica&reg; languages. \n",
    "More information on the HFM library in the manuscript:\n",
    "* Jean-Marie Mirebeau, Jorg Portegies, \"Hamiltonian Fast Marching: A numerical solver for anisotropic and non-holonomic eikonal PDEs\", 2019 [(link)](https://hal.archives-ouvertes.fr/hal-01778322)\n",
    "\n",
    "Copyright Jean-Marie Mirebeau, University Paris-Sud, CNRS, University Paris-Saclay"
   ]
  },
  {
   "cell_type": "markdown",
   "metadata": {},
   "source": [
    "## 0. Importing the required libraries"
   ]
  },
  {
   "cell_type": "code",
   "execution_count": 1,
   "metadata": {},
   "outputs": [],
   "source": [
    "import sys; sys.path.insert(0,\"..\") # Allow import of agd from parent directory (useless if conda package installed)\n",
    "#from Miscellaneous import TocTools; print(TocTools.displayTOC('HighAccuracy','FMM'))"
   ]
  },
  {
   "cell_type": "code",
   "execution_count": 2,
   "metadata": {
    "tags": [
     "ExportCode"
    ]
   },
   "outputs": [],
   "source": [
    "from agd import Eikonal\n",
    "from agd import Metrics\n",
    "from agd.Metrics.Seismic import Hooke\n",
    "from agd import FiniteDifferences as fd\n",
    "from agd import LinearParallel as lp\n",
    "from agd import AutomaticDifferentiation as ad\n",
    "from agd.Plotting import savefig; #savefig.dirName = 'Figures/HighAccuracy'"
   ]
  },
  {
   "cell_type": "code",
   "execution_count": 3,
   "metadata": {
    "tags": [
     "ExportCode"
    ]
   },
   "outputs": [],
   "source": [
    "import numpy as np\n",
    "import matplotlib.pyplot as plt"
   ]
  },
  {
   "cell_type": "code",
   "execution_count": 4,
   "metadata": {},
   "outputs": [],
   "source": [
    "def LInfNorm(a): return np.max(np.abs(a))\n",
    "def L1Norm(a):   return np.sum(np.abs(a))/a.size"
   ]
  },
  {
   "cell_type": "code",
   "execution_count": 5,
   "metadata": {},
   "outputs": [],
   "source": [
    "def ReloadPackages():\n",
    "    from Miscellaneous.rreload import rreload\n",
    "    global Eikonal,Metrics,Hooke,ad\n",
    "    [Eikonal,Metrics,Hooke,ad] = rreload([Eikonal,Metrics,Hooke,ad],rootdir='..')"
   ]
  },
  {
   "cell_type": "markdown",
   "metadata": {},
   "source": [
    "## 1. Poincare model of the hyperbolic plane\n",
    "\n",
    "The hyperbolic plane model is determined by the following (isotropic) metric\n",
    "$$\n",
    "    F_p(v) := \\frac {\\|v\\|} {p_y},\n",
    "$$\n",
    "where $p = (p_x,p_y)$ belongs to the half plane $p_x \\in \\mathbb R$, $p_y > 0$. The distance between two points has the analytic expression\n",
    "$$\n",
    "    d(p,q) = \\ln \\frac{ |p - \\overline q| + | p - q| }{|p - \\overline q| - | p - q| },\n",
    "$$\n",
    "where $q = (q_x,q_y)$ and $\\overline q = (q_x,-q_y)$. \n",
    "\n",
    "In the following example, we restrict our computations to the sub-domain $[-0.5,0.5] \\times [1,2] \\subset \\mathbb R \\times \\mathbb R^{++}$."
   ]
  },
  {
   "cell_type": "code",
   "execution_count": 6,
   "metadata": {
    "tags": [
     "ExportCode"
    ]
   },
   "outputs": [],
   "source": [
    "def PoincareCost(q):\n",
    "    \"\"\"\n",
    "    Cost function defining the Poincare half plane model of the hyperbolic plane.\n",
    "    \"\"\"\n",
    "    return 1/q[1]\n",
    "\n",
    "def PoincareDistance(p,q):\n",
    "    \"\"\"\n",
    "    Distance between two points of the half plane model of the hyperbolic plane.\n",
    "    \"\"\"\n",
    "    a = p[0]-q[0]\n",
    "    b = p[1]-q[1]\n",
    "    c = p[1]+q[1]\n",
    "    d = np.sqrt(a**2+b**2)\n",
    "    e = np.sqrt(a**2+c**2)\n",
    "    return np.log((e+d)/(e-d))"
   ]
  },
  {
   "cell_type": "code",
   "execution_count": 7,
   "metadata": {},
   "outputs": [],
   "source": [
    "dimx=100\n",
    "hfmIn = Eikonal.dictIn({\n",
    "    'model':'Isotropic2',\n",
    "    'seed': [0.,1.5],\n",
    "    'exportValues':1.,\n",
    "})\n",
    "hfmIn.SetRect(sides=[[-0.5,0.5],[1,2]],dimx=dimx,sampleBoundary=True)\n",
    "hfmIn.SetUniformTips((6,6))\n",
    "    \n",
    "X,Y = hfmIn.Grid()\n",
    "hfmIn['cost'] = PoincareCost((X,Y))"
   ]
  },
  {
   "cell_type": "code",
   "execution_count": 8,
   "metadata": {},
   "outputs": [
    {
     "name": "stdout",
     "output_type": "stream",
     "text": [
      "Field verbosity defaults to 1\n",
      "Field order defaults to 1\n",
      "Field seedRadius defaults to 0\n",
      "Fast marching solver completed in 0.002485 s.\n",
      "Field geodesicSolver defaults to Discrete\n",
      "Field geodesicStep defaults to 0.25\n",
      "Field geodesicWeightThreshold defaults to 0.001\n",
      "Field geodesicVolumeBound defaults to 8.45\n"
     ]
    }
   ],
   "source": [
    "hfmOut = hfmIn.Run()"
   ]
  },
  {
   "cell_type": "code",
   "execution_count": 9,
   "metadata": {},
   "outputs": [
    {
     "data": {
      "image/png": "[encoded data removed]",
      "text/plain": [
       "<Figure size 288x288 with 1 Axes>"
      ]
     },
     "metadata": {
      "needs_background": "light"
     },
     "output_type": "display_data"
    }
   ],
   "source": [
    "plt.figure(figsize=[4,4]); plt.title('Distance map, Poincare hyperbolic plane'); plt.axis('equal'); \n",
    "plt.contourf(X,Y,hfmOut['values']);"
   ]
  },
  {
   "cell_type": "code",
   "execution_count": 10,
   "metadata": {},
   "outputs": [
    {
     "data": {
      "image/png": "[encoded data removed]",
      "text/plain": [
       "<Figure size 288x288 with 1 Axes>"
      ]
     },
     "metadata": {
      "needs_background": "light"
     },
     "output_type": "display_data"
    }
   ],
   "source": [
    "fig = plt.figure(figsize=[4,4]); plt.title('Minimal geodesics, Poincare hyperbolic plane'); plt.axis('equal'); \n",
    "for geo in hfmOut['geodesics']:  plt.plot(*geo) "
   ]
  },
  {
   "cell_type": "markdown",
   "metadata": {},
   "source": [
    "Next we compare the numerical results with the analytic expression of the distance."
   ]
  },
  {
   "cell_type": "code",
   "execution_count": 11,
   "metadata": {},
   "outputs": [],
   "source": [
    "ExactSolution = PoincareDistance(hfmIn['seed'],(X,Y))"
   ]
  },
  {
   "cell_type": "code",
   "execution_count": 12,
   "metadata": {},
   "outputs": [
    {
     "name": "stdout",
     "output_type": "stream",
     "text": [
      "Max error :  0.014974751023088206\n",
      "Average error :  0.0055575705831370096\n"
     ]
    }
   ],
   "source": [
    "print(\"Max error : \",     LInfNorm(ExactSolution - hfmOut['values']) )\n",
    "print(\"Average error : \", L1Norm(ExactSolution  - hfmOut['values']) )"
   ]
  },
  {
   "cell_type": "code",
   "execution_count": 13,
   "metadata": {},
   "outputs": [
    {
     "data": {
      "image/png": "[encoded data removed]",
      "text/plain": [
       "<Figure size 432x288 with 2 Axes>"
      ]
     },
     "metadata": {
      "needs_background": "light"
     },
     "output_type": "display_data"
    }
   ],
   "source": [
    "plt.title(\"Numerical error, isotropic, basic scheme\")\n",
    "plt.contourf(X,Y,ExactSolution - hfmOut['values'])\n",
    "plt.colorbar();"
   ]
  },
  {
   "cell_type": "markdown",
   "metadata": {},
   "source": [
    "### 1.1 The seedRadius key\n",
    "\n",
    "In the above experiment with the Poincare model, as in most typical uses of the fast marching method we suspect, the seed point falls off the discretization grid. This results in a $\\mathcal O(h)$ error, which can be corrected with the option **seedRadius**, with the following effects.\n",
    "\n",
    "* **seedRadius** $= 0$ (default).  The seed is rounded to the nearest grid point, producing the largest error. This is however the only available option with e.g. non-holonomic models, for which no analytic approximation of the solution is available. In addition, this default can be required for some use cases involving automatic differentiation [link](http://nbviewer.jupyter.org/urls/rawgithub.com/Mirebeau/HFM_Python_Notebooks/master/A2_Sensitivity.ipynb)\n",
    "\n",
    "* **seedRadius** $=r>0$. All the grid points $q$ within radius $r$, *measured in pixels*, of the provided seed $p_*$ are initialized with the seed values \n",
    "$$\n",
    "    %v(q) := \n",
    "    u(p_*) + \\frac 1 2 (F_{p_*}(q-p_*) + F_q(q-p_*)).\n",
    "$$\n",
    "\n",
    "* **seedRadius** $=r<0$. All the grid points $q$ within radius $|r|$ of the provided seeds are set as seeds, with the above value, as well as the points which can be reached in one step using the numerical scheme stencil.\n",
    "\n",
    "<!---\n",
    "\n",
    "* **spreadSeeds = 0**. The corners $q$ of the grid cell (square or cube) containing the provided seed point $p_*$ are used as seeds, with the seed values \n",
    "\n",
    "\n",
    "* **spreadSeeds = 1**. A few additional grid points are used as seeds, corresponding to one step of the fast marching scheme.\n",
    "\n",
    "In the Poincare half plane instance, an error reduction by $20\\%$ (resp $35\\%$) is obtained by choosing $\\mathbf {spreadSeeds}=0$ (resp. $\\mathbf {spreadSeeds}=1$) instead of the default.\n",
    "--->\n",
    "\n",
    "A typical value, in two dimensions, is seedRadius $=1.5$."
   ]
  },
  {
   "cell_type": "code",
   "execution_count": 14,
   "metadata": {},
   "outputs": [],
   "source": [
    "hfmIn['seedRadius'] = 1.5"
   ]
  },
  {
   "cell_type": "code",
   "execution_count": 15,
   "metadata": {},
   "outputs": [
    {
     "name": "stdout",
     "output_type": "stream",
     "text": [
      "Field verbosity defaults to 1\n",
      "Field order defaults to 1\n",
      "Fast marching solver completed in 0.002397 s.\n",
      "Field geodesicSolver defaults to Discrete\n",
      "Field geodesicStep defaults to 0.25\n",
      "Field geodesicWeightThreshold defaults to 0.001\n",
      "Field geodesicVolumeBound defaults to 8.45\n"
     ]
    }
   ],
   "source": [
    "hfmOut = hfmIn.Run()"
   ]
  },
  {
   "cell_type": "code",
   "execution_count": 16,
   "metadata": {},
   "outputs": [
    {
     "name": "stdout",
     "output_type": "stream",
     "text": [
      "Max error :  0.01024015982151194\n",
      "Average error :  0.005398508223713214\n",
      "spreadedSeeds [[ 0.00505051  1.50505051]\n",
      " [-0.00505051  1.49494949]\n",
      " [-0.00505051  1.50505051]\n",
      " [ 0.00505051  1.49494949]]\n"
     ]
    }
   ],
   "source": [
    "print(\"Max error : \",     LInfNorm(ExactSolution - hfmOut['values']) )\n",
    "print(\"Average error : \", L1Norm(ExactSolution - hfmOut['values']) )\n",
    "\n",
    "# The four grid points enclosing the provided seed are used\n",
    "print(\"spreadedSeeds\", hfmOut['spreadedSeeds'])"
   ]
  },
  {
   "cell_type": "code",
   "execution_count": 17,
   "metadata": {},
   "outputs": [],
   "source": [
    "hfmIn['seedRadius'] = -1.5"
   ]
  },
  {
   "cell_type": "code",
   "execution_count": 18,
   "metadata": {},
   "outputs": [
    {
     "name": "stdout",
     "output_type": "stream",
     "text": [
      "Field verbosity defaults to 1\n",
      "Field order defaults to 1\n",
      "Fast marching solver completed in 0.002553 s.\n",
      "Field geodesicSolver defaults to Discrete\n",
      "Field geodesicStep defaults to 0.25\n",
      "Field geodesicWeightThreshold defaults to 0.001\n",
      "Field geodesicVolumeBound defaults to 8.45\n"
     ]
    }
   ],
   "source": [
    "hfmOut = hfmIn.Run()"
   ]
  },
  {
   "cell_type": "code",
   "execution_count": 19,
   "metadata": {},
   "outputs": [
    {
     "name": "stdout",
     "output_type": "stream",
     "text": [
      "Max error :  0.009375865003666828\n",
      "Average error :  0.004553988978738238\n",
      "spreadedSeeds :  [[ 0.00505051  1.50505051]\n",
      " [-0.00505051  1.49494949]\n",
      " [-0.00505051  1.50505051]\n",
      " [ 0.00505051  1.49494949]\n",
      " [-0.01515152  1.49494949]\n",
      " [-0.00505051  1.48484848]\n",
      " [-0.01515152  1.50505051]\n",
      " [-0.00505051  1.51515152]\n",
      " [ 0.00505051  1.48484848]\n",
      " [ 0.01515152  1.49494949]\n",
      " [ 0.00505051  1.51515152]\n",
      " [ 0.01515152  1.50505051]]\n",
      "spreadedSeedValues :  [0.00475367 0.00476971 0.00475367 0.00476971 0.01066539 0.01070172\n",
      " 0.01062953 0.01059416 0.01070172 0.01066539 0.01059416 0.01062953]\n"
     ]
    }
   ],
   "source": [
    "print(\"Max error : \",LInfNorm(ExactSolution - hfmOut['values']) )\n",
    "print(\"Average error : \", L1Norm(ExactSolution - hfmOut['values']) )\n",
    "\n",
    "# Twelve grid points are used, around the provided seed\n",
    "print(\"spreadedSeeds : \", hfmOut['spreadedSeeds'])\n",
    "print(\"spreadedSeedValues : \", hfmOut['spreadedSeedValues'])"
   ]
  },
  {
   "cell_type": "code",
   "execution_count": 20,
   "metadata": {},
   "outputs": [
    {
     "data": {
      "image/png": "[encoded data removed]",
      "text/plain": [
       "<Figure size 432x288 with 1 Axes>"
      ]
     },
     "metadata": {
      "needs_background": "light"
     },
     "output_type": "display_data"
    }
   ],
   "source": [
    "plt.axis('equal')\n",
    "plt.scatter(*hfmOut['spreadedSeeds'].T);"
   ]
  },
  {
   "cell_type": "code",
   "execution_count": 21,
   "metadata": {},
   "outputs": [
    {
     "data": {
      "image/png": "[encoded data removed]",
      "text/plain": [
       "<Figure size 432x288 with 1 Axes>"
      ]
     },
     "metadata": {
      "needs_background": "light"
     },
     "output_type": "display_data"
    }
   ],
   "source": [
    "plt.title(\"Numerical error, isotropic, spreaded seeds\")\n",
    "plt.contourf(X,Y,ExactSolution - hfmOut['values']);"
   ]
  },
  {
   "cell_type": "markdown",
   "metadata": {},
   "source": [
    "### 1.2 (Static) Equation factoring\n",
    "\n",
    "A substantial part of the numerical error of fast marching solvers is due to the singularity of the solution at the point source, the seed here denoted $p_*$, which makes the finite differences inaccurate. In order to correct for this error, factoring methods substract an analytical expression of the singularity from the numerical solution in the process of evaluating finite differences.\n",
    "\n",
    "The parameters enabling this modification of the numerical scheme are the following:\n",
    "* **factoringRadius** (in pixels, default is 10) Radius of the region, around the seeds, where to use equation factoring. \n",
    "Use a very large value, or a negative value, to implement factorization over the whole domain (this has a memory and computational cost).\n",
    "* **factoringPointChoice** ('Seed', 'Both'). Dictates the analytic expression of the solution used in equation factoring. \n",
    "    - 'Seed' (Default, equivalently 'Key') has the cheapest numerical cost, and uses the approximant\n",
    "    $$\n",
    "        u(q) \\approx \n",
    "        %u(p_*) + \n",
    "        F_{p_*}(q-p_*).\n",
    "    $$\n",
    "    - 'Both' is more accurate than the previous approximant. However, the difference is only visible when combined with high order schemes.\n",
    "    In addition it is more computationally expensive in certain cases, mostly due to implementation details (Python instead of c++ code).\n",
    "    $$\n",
    "        u(q) \\approx \n",
    "        %u(p_*) + \n",
    "        \\frac 1 2 (F_{p_*}(q-p_*) + F_q (q-p_*) ).\n",
    "    $$\n",
    "\n",
    "<!---\n",
    "* **factoringMethod** ('Static', 'None') Use 'Static' factoring to account for point source singularities. Default is 'None'.\n",
    "\n",
    "Factoring is often not performed in the entire domain, since it has a numerical cost, and it looses relevance once analytic expression isn't anymore a good approximation of the solution.\n",
    "--->\n",
    "\n",
    "<!---\n",
    "    - 'Current' uses the approximant \n",
    "    $$\n",
    "        u(q) \\approx \n",
    "        %u(p_*) + \n",
    "        F_q (q-p_*).\n",
    "    $$\n",
    "    This is not really an advised option, since it is slightly more expensive than 'Key' and not more accurate.\n",
    "\n",
    "--->"
   ]
  },
  {
   "cell_type": "code",
   "execution_count": 22,
   "metadata": {},
   "outputs": [],
   "source": [
    "hfmIn.update({\n",
    "    'factoringRadius':dimx*0.2, \n",
    "    'factoringPointChoice':'Seed'\n",
    "})"
   ]
  },
  {
   "cell_type": "code",
   "execution_count": 23,
   "metadata": {},
   "outputs": [
    {
     "name": "stdout",
     "output_type": "stream",
     "text": [
      "Field verbosity defaults to 1\n",
      "Field order defaults to 1\n",
      "Field exportFactoring defaults to 0\n",
      "Fast marching solver completed in 0.002656 s.\n",
      "Field geodesicSolver defaults to Discrete\n",
      "Field geodesicStep defaults to 0.25\n",
      "Field geodesicWeightThreshold defaults to 0.001\n",
      "Field geodesicVolumeBound defaults to 8.45\n"
     ]
    }
   ],
   "source": [
    "hfmOut = hfmIn.Run()"
   ]
  },
  {
   "cell_type": "code",
   "execution_count": 24,
   "metadata": {},
   "outputs": [
    {
     "name": "stdout",
     "output_type": "stream",
     "text": [
      "Max error :  0.004124959564815067\n",
      "Average error :  0.0010588203740673834\n"
     ]
    }
   ],
   "source": [
    "print(\"Max error : \",     LInfNorm(ExactSolution - hfmOut['values']) )\n",
    "print(\"Average error : \", L1Norm(  ExactSolution - hfmOut['values']) )"
   ]
  },
  {
   "cell_type": "markdown",
   "metadata": {},
   "source": [
    "Numerical error is considerably reduced in the factoring region, around the seed. The singularity is not anymore a source of error.\n",
    "However, without a higher order scheme the overal error is not (much) reduced, since it is dominated by the regions far from the origin."
   ]
  },
  {
   "cell_type": "code",
   "execution_count": 25,
   "metadata": {},
   "outputs": [
    {
     "data": {
      "image/png": "[encoded data removed]",
      "text/plain": [
       "<Figure size 432x288 with 1 Axes>"
      ]
     },
     "metadata": {
      "needs_background": "light"
     },
     "output_type": "display_data"
    }
   ],
   "source": [
    "plt.axis('equal')\n",
    "plt.contourf(X,Y,hfmOut['values']-ExactSolution);"
   ]
  },
  {
   "cell_type": "markdown",
   "metadata": {},
   "source": [
    "### 1.3 Second order scheme\n",
    "\n",
    "The second order scheme is intended to reduce numerical error far from the solution singularity. It is complementary to the factorisation, discussed in the previous paragraph, which is devoted to the neighborhood of the source."
   ]
  },
  {
   "cell_type": "code",
   "execution_count": 26,
   "metadata": {},
   "outputs": [],
   "source": [
    "hfmIn['order']=2"
   ]
  },
  {
   "cell_type": "code",
   "execution_count": 27,
   "metadata": {},
   "outputs": [
    {
     "name": "stdout",
     "output_type": "stream",
     "text": [
      "Field verbosity defaults to 1\n",
      "Field exportFactoring defaults to 0\n",
      "Fast marching solver completed in 0.003293 s.\n",
      "Field geodesicSolver defaults to Discrete\n",
      "Field geodesicStep defaults to 0.25\n",
      "Field geodesicWeightThreshold defaults to 0.001\n",
      "Field geodesicVolumeBound defaults to 8.45\n"
     ]
    }
   ],
   "source": [
    "hfmOut = hfmIn.Run()"
   ]
  },
  {
   "cell_type": "markdown",
   "metadata": {},
   "source": [
    "The overall numerical error is strongly reduced, by a factor 20 to 40 in this instance, in respectively $L^\\infty$ or $L^1$ norm."
   ]
  },
  {
   "cell_type": "code",
   "execution_count": 28,
   "metadata": {},
   "outputs": [
    {
     "name": "stdout",
     "output_type": "stream",
     "text": [
      "Max error :  0.00031159216527243405\n",
      "Average error :  7.41626202343413e-05\n"
     ]
    }
   ],
   "source": [
    "print(\"Max error : \",     LInfNorm(ExactSolution - hfmOut['values']) )\n",
    "print(\"Average error : \", L1Norm(  ExactSolution - hfmOut['values']) )"
   ]
  },
  {
   "cell_type": "markdown",
   "metadata": {},
   "source": [
    "The second order scheme is much less efficient when it is not combined with equation factoring. "
   ]
  },
  {
   "cell_type": "code",
   "execution_count": 29,
   "metadata": {},
   "outputs": [],
   "source": [
    "hfmIn2 = hfmIn.copy()\n",
    "hfmIn2.pop('factoringRadius',None);"
   ]
  },
  {
   "cell_type": "code",
   "execution_count": 30,
   "metadata": {},
   "outputs": [
    {
     "name": "stdout",
     "output_type": "stream",
     "text": [
      "Field verbosity defaults to 1\n",
      "Fast marching solver completed in 0.003237 s.\n",
      "Field geodesicSolver defaults to Discrete\n",
      "Field geodesicStep defaults to 0.25\n",
      "Field geodesicWeightThreshold defaults to 0.001\n",
      "Field geodesicVolumeBound defaults to 8.45\n",
      "***** Warning ! *****\n",
      "Unused fields from user: factoringPointChoice \n",
      "********************\n"
     ]
    }
   ],
   "source": [
    "hfmOut = hfmIn2.Run()"
   ]
  },
  {
   "cell_type": "code",
   "execution_count": 31,
   "metadata": {},
   "outputs": [
    {
     "name": "stdout",
     "output_type": "stream",
     "text": [
      "Max error :  0.0022531467146763573\n",
      "Average error :  0.0009527399338253569\n"
     ]
    }
   ],
   "source": [
    "print(\"Max error : \",     LInfNorm(ExactSolution - hfmOut['values']) )\n",
    "print(\"Average error : \", L1Norm(  ExactSolution - hfmOut['values']) )"
   ]
  },
  {
   "cell_type": "markdown",
   "metadata": {},
   "source": [
    "### 1.4 Third order scheme, and semi-Lagrangian numerical methods\n",
    "\n",
    "The second order scheme is expected, combined with point source factorisation, is expected to be accurate enough for most applications. However, as an experimental feature, a third order scheme is implemented as well.\n",
    "\n",
    "**Strict causality** According to our numerical experiments, third order accuracy is however only achieved with a *strictly causal* scheme. This is an issue, since the Eulerian implementation of the eikonal equation is only *weakly causal*.\n",
    "\n",
    "\n",
    "**Semi-Lagrangian schemes** \n",
    "These schemes are based on a discretization of Bellman's optimality principle, and by an adequate choice of discretization stencil, do obey a strict causality property. \n",
    "We emulate an isotropic metric as a special case of a Rander metric, which is implemented using a strictly causal semi-Lagrangian scheme in the HFM-Library. See the relevant notebook [A III, Rander metrics](http://nbviewer.jupyter.org/urls/rawgithub.com/Mirebeau/HFM_Python_Notebooks/master/A6_Rande.ipynb) for details on this model.\n",
    "\n",
    "\n",
    "**Accuracy of semi-Lagrangian schemes, second order**\n",
    "Already with the second order scheme, the better angular resolution of the semi-Lagrangian scheme yields a substantial error reduction. Numerical error is cut by a factor 4 or 2, in the $L^\\infty$ or $L^1$ norm respectively. Note however than the semi-Lagrangian scheme is more costly numerically."
   ]
  },
  {
   "cell_type": "code",
   "execution_count": 32,
   "metadata": {},
   "outputs": [],
   "source": [
    "Zero = np.zeros(X.shape)\n",
    "hfmIn.update({\n",
    "    'model':'Rander2',\n",
    "    'metric':Metrics.Isotropic(PoincareCost((X,Y)) ) # Will be cast to a Rander metric\n",
    "})\n",
    "hfmIn.pop('cost',None);"
   ]
  },
  {
   "cell_type": "code",
   "execution_count": 33,
   "metadata": {},
   "outputs": [
    {
     "name": "stdout",
     "output_type": "stream",
     "text": [
      "Field verbosity defaults to 1\n",
      "Field cosAngleMin defaults to 0.5\n",
      "Field refineStencilAtWallBoundary defaults to 0\n",
      "Field exportFactoring defaults to 0\n",
      "Fast marching solver completed in 0.009657 s.\n",
      "Field geodesicSolver defaults to Discrete\n",
      "Field geodesicStep defaults to 0.25\n",
      "Field geodesicWeightThreshold defaults to 0.001\n",
      "Field geodesicVolumeBound defaults to 8.45\n"
     ]
    }
   ],
   "source": [
    "hfmOut = hfmIn.Run()"
   ]
  },
  {
   "cell_type": "code",
   "execution_count": 34,
   "metadata": {},
   "outputs": [
    {
     "name": "stdout",
     "output_type": "stream",
     "text": [
      "Max error :  9.257219017949625e-05\n",
      "Average error :  2.2529463482949794e-05\n"
     ]
    }
   ],
   "source": [
    "print(\"Max error : \",     LInfNorm(ExactSolution - hfmOut['values']) )\n",
    "print(\"Average error : \", L1Norm(  ExactSolution - hfmOut['values']) )"
   ]
  },
  {
   "cell_type": "markdown",
   "metadata": {},
   "source": [
    "A further error reduction is achieved by selecting the more accurate factorisation. Error is cut by a factor 2 approximately.\n",
    "\n",
    "<!---\n",
    "hfmIn2 = hfmIn.copy()\n",
    "\n",
    "from agd import FiniteDifferences as fd\n",
    "def exact_fact(x): return PoincareDistance(hfmIn['seed'],x)\n",
    "def both_analytic_fact(x):\n",
    "    seed = fd.as_field(hfmIn['seed'],x.shape[1:])\n",
    "    return ad.Optimization.norm(x-seed,axis=0) * (1/seed[1] + 1/x[1]) /2\n",
    "\n",
    "def both_interp_fact(x):\n",
    "    metric = hfmIn2['metric']\n",
    "    seed = hfmIn2['seed']\n",
    "    metric.set_interpolation(hfmIn2.Grid(),order=3)\n",
    "    diff = lambda x : x-fd.as_field(seed,x.shape[1:],depth=1)\n",
    "    return 0.5*(metric.at(seed).norm(diff(x)) + metric.at(x).norm(diff(x)))\n",
    "\n",
    "\n",
    "hfmIn2.SetFactor(value = both_interp_fact);\n",
    "hfmIn2['order']=3\n",
    "--->"
   ]
  },
  {
   "cell_type": "code",
   "execution_count": 35,
   "metadata": {},
   "outputs": [],
   "source": [
    "hfmIn['factoringPointChoice'] = 'Both'"
   ]
  },
  {
   "cell_type": "code",
   "execution_count": 36,
   "metadata": {},
   "outputs": [
    {
     "name": "stdout",
     "output_type": "stream",
     "text": [
      "Field verbosity defaults to 1\n",
      "Field cosAngleMin defaults to 0.5\n",
      "Field refineStencilAtWallBoundary defaults to 0\n",
      "Fast marching solver completed in 0.009658 s.\n",
      "Field geodesicSolver defaults to Discrete\n",
      "Field geodesicStep defaults to 0.25\n",
      "Field geodesicWeightThreshold defaults to 0.001\n",
      "Field geodesicVolumeBound defaults to 8.45\n"
     ]
    }
   ],
   "source": [
    "hfmOut = hfmIn.Run()"
   ]
  },
  {
   "cell_type": "code",
   "execution_count": 37,
   "metadata": {},
   "outputs": [
    {
     "name": "stdout",
     "output_type": "stream",
     "text": [
      "Max error :  4.8466692704585146e-05\n",
      "Average error :  1.3824067363141873e-05\n"
     ]
    }
   ],
   "source": [
    "print(\"Max error : \",     LInfNorm(ExactSolution - hfmOut['values']) )\n",
    "print(\"Average error : \", L1Norm(  ExactSolution - hfmOut['values']) )"
   ]
  },
  {
   "cell_type": "markdown",
   "metadata": {},
   "source": [
    "Finally, the smallest error is obtained with the third order scheme. Error is cut by a additional factor 7 approximately."
   ]
  },
  {
   "cell_type": "code",
   "execution_count": 38,
   "metadata": {},
   "outputs": [],
   "source": [
    "hfmIn['order']=3"
   ]
  },
  {
   "cell_type": "code",
   "execution_count": 39,
   "metadata": {},
   "outputs": [
    {
     "name": "stdout",
     "output_type": "stream",
     "text": [
      "Field verbosity defaults to 1\n",
      "Field cosAngleMin defaults to 0.5\n",
      "Field refineStencilAtWallBoundary defaults to 0\n",
      "Fast marching solver completed in 0.010278 s.\n",
      "Field geodesicSolver defaults to Discrete\n",
      "Field geodesicStep defaults to 0.25\n",
      "Field geodesicWeightThreshold defaults to 0.001\n",
      "Field geodesicVolumeBound defaults to 8.45\n"
     ]
    }
   ],
   "source": [
    "hfmOut = hfmIn.Run()"
   ]
  },
  {
   "cell_type": "code",
   "execution_count": 40,
   "metadata": {},
   "outputs": [
    {
     "name": "stdout",
     "output_type": "stream",
     "text": [
      "Max error :  5.825290542715855e-06\n",
      "Average error :  1.7760256167372104e-06\n"
     ]
    }
   ],
   "source": [
    "print(\"Max error : \",     LInfNorm(ExactSolution - hfmOut['values']) )\n",
    "print(\"Average error : \", L1Norm(  ExactSolution - hfmOut['values']) )"
   ]
  },
  {
   "cell_type": "markdown",
   "metadata": {},
   "source": [
    "Overall, in favorable cases, numerical error can be reduced by three orders of magnitude with the adequate  enhancements to the scheme."
   ]
  },
  {
   "cell_type": "code",
   "execution_count": 41,
   "metadata": {},
   "outputs": [
    {
     "name": "stdout",
     "output_type": "stream",
     "text": [
      "LInf ratio :  1427.9803376604182\n",
      "L1 ratio :  1693.768096987516\n"
     ]
    }
   ],
   "source": [
    "print(\"LInf ratio : \", 0.014974751023088206/1.0486664716702343e-05)\n",
    "print(\"L1 ratio : \", 0.0055575705831370096/3.2811874264378546e-06)"
   ]
  },
  {
   "cell_type": "markdown",
   "metadata": {},
   "source": [
    "## 2. A Riemannian metric\n",
    "\n",
    "In this section, we demonstrate high order accuracy for Riemannian anisotropic fast marching. For that purpose we introduce a synthetic Riemannian metric which is the image by a diffeomorphism of an usual norm, so that an exact expression of the distance map is known. \n",
    "\n",
    "More precisely, consider the diffeomorphism defined at each point $p = (x,y)$ by \n",
    "$$\n",
    "    f(x,y) := (x,y+ \\sin(\\pi x) /2)\n",
    "$$\n",
    "and the matrix $M$ of diagonal entries $(0.5^2,1)$. We let \n",
    "$$\n",
    "    \\mathcal M(p) := (Jf(p))^T \\cdot M \\cdot Jf(p),\n",
    "$$\n",
    "where $Jf(p)$ is the Jacobian matrix of $f$ at $p$. The distance between $p,q$ is thus \n",
    "$$\n",
    "    d_{\\mathcal M}(p,q) = \\|f(p) - f(q)\\|_M.\n",
    "$$\n"
   ]
  },
  {
   "cell_type": "code",
   "execution_count": 42,
   "metadata": {
    "tags": [
     "ExportCode"
    ]
   },
   "outputs": [],
   "source": [
    "diagCoef = (0.5**2,1) # Diagonal coefficients of M\n",
    "\n",
    "def diff(x,y,α=0.5): return ad.array([x,y+α*np.sin(np.pi*x)]) # Diffeomorphism f\n",
    "\n",
    "def RiemannMetric(diag,diff,x,y): \n",
    "    X_ad = ad.Dense.identity(constant=(x,y),shape_free=(2,))\n",
    "    Jac = np.moveaxis(diff(*X_ad).gradient(),0,1)\n",
    "    return Metrics.Riemann.from_diagonal(diag).inv_transform(Jac)\n",
    "\n",
    "def RiemannExact(diag,diff,x,y):\n",
    "    a,b = diag\n",
    "    fx,fy = diff(x,y)\n",
    "    return np.sqrt(a*fx**2+b*fy**2)"
   ]
  },
  {
   "cell_type": "markdown",
   "metadata": {},
   "source": [
    "The metric is rather strongly anisotropic, with ratio of larger than $7$ of the fastest to the smallest speed, at a given point, depending on the direction."
   ]
  },
  {
   "cell_type": "code",
   "execution_count": 43,
   "metadata": {},
   "outputs": [
    {
     "data": {
      "text/plain": [
       "7.297774117194738"
      ]
     },
     "execution_count": 43,
     "metadata": {},
     "output_type": "execute_result"
    }
   ],
   "source": [
    "RiemannMetric(diagCoef,diff,0,0).anisotropy()"
   ]
  },
  {
   "cell_type": "code",
   "execution_count": 44,
   "metadata": {},
   "outputs": [],
   "source": [
    "dimx=200\n",
    "hfmIn = Eikonal.dictIn({\n",
    "    'model':'Riemann2',\n",
    "    'seed': [0.,0.],\n",
    "    'exportValues':1.,\n",
    "    'geodesicSolver':'Discrete'\n",
    "})\n",
    "hfmIn.SetRect(sides=[[-1,1],[-0.5,0.5]],dimx=dimx)\n",
    "hfmIn.SetUniformTips((6,6))\n",
    "\n",
    "X,Y = hfmIn.Grid()"
   ]
  },
  {
   "cell_type": "code",
   "execution_count": 45,
   "metadata": {},
   "outputs": [],
   "source": [
    "hfmIn['metric'] = RiemannMetric(diagCoef,diff,X,Y)"
   ]
  },
  {
   "cell_type": "code",
   "execution_count": 46,
   "metadata": {},
   "outputs": [
    {
     "name": "stdout",
     "output_type": "stream",
     "text": [
      "Field verbosity defaults to 1\n"
     ]
    },
    {
     "name": "stdout",
     "output_type": "stream",
     "text": [
      "Field order defaults to 1\n",
      "Field seedRadius defaults to 0\n",
      "Fast marching solver completed in 0.009792 s.\n",
      "Field geodesicStep defaults to 0.25\n",
      "Field geodesicWeightThreshold defaults to 0.001\n",
      "Field geodesicVolumeBound defaults to 8.45\n"
     ]
    }
   ],
   "source": [
    "hfmOut = hfmIn.Run()"
   ]
  },
  {
   "cell_type": "code",
   "execution_count": 47,
   "metadata": {},
   "outputs": [
    {
     "data": {
      "image/png": "[encoded data removed]",
      "text/plain": [
       "<Figure size 432x288 with 1 Axes>"
      ]
     },
     "metadata": {
      "needs_background": "light"
     },
     "output_type": "display_data"
    }
   ],
   "source": [
    "plt.title('Distance map, Synthetic Riemannian example'); plt.axis('equal')\n",
    "plt.contourf(X,Y,hfmOut['values']);"
   ]
  },
  {
   "cell_type": "code",
   "execution_count": 48,
   "metadata": {},
   "outputs": [
    {
     "data": {
      "image/png": "[encoded data removed]",
      "text/plain": [
       "<Figure size 288x288 with 1 Axes>"
      ]
     },
     "metadata": {
      "needs_background": "light"
     },
     "output_type": "display_data"
    }
   ],
   "source": [
    "fig = plt.figure(figsize=[4,4]); plt.title('Minimal geodesics, Synthetic Riemannian example'); plt.axis('equal'); \n",
    "for geo in hfmOut['geodesics']:  plt.plot(*geo) "
   ]
  },
  {
   "cell_type": "markdown",
   "metadata": {},
   "source": [
    "The exact solution is, by design, explicit."
   ]
  },
  {
   "cell_type": "code",
   "execution_count": 49,
   "metadata": {},
   "outputs": [],
   "source": [
    "ExactSolution = RiemannExact(diagCoef,diff,X,Y)"
   ]
  },
  {
   "cell_type": "markdown",
   "metadata": {},
   "source": [
    "There are some shadow zones in the domain : the geodesics reaching these points, according to the exact model, should have gone outside the rectangle. Clearly, the numerical solution cannot agree with the exact solution on these points, which are thus removed from the error computation."
   ]
  },
  {
   "cell_type": "code",
   "execution_count": 50,
   "metadata": {},
   "outputs": [
    {
     "data": {
      "image/png": "[encoded data removed]",
      "text/plain": [
       "<Figure size 432x288 with 1 Axes>"
      ]
     },
     "metadata": {
      "needs_background": "light"
     },
     "output_type": "display_data"
    }
   ],
   "source": [
    "shadow = np.abs(X-Y)>=1\n",
    "plt.axis('equal')\n",
    "plt.contourf(X,Y,shadow);"
   ]
  },
  {
   "cell_type": "code",
   "execution_count": 51,
   "metadata": {},
   "outputs": [
    {
     "name": "stdout",
     "output_type": "stream",
     "text": [
      "Max error :  0.02908883254421535\n",
      "Average error :  0.009789067979843967\n"
     ]
    }
   ],
   "source": [
    "error = ExactSolution - hfmOut['values']; error[shadow]=0.\n",
    "print(\"Max error : \",     LInfNorm(error) )\n",
    "print(\"Average error : \", L1Norm(  error) )"
   ]
  },
  {
   "cell_type": "markdown",
   "metadata": {},
   "source": [
    "### 2.1 Trying the various numerical scheme enhancements\n",
    "\n",
    "Spreading the seed information on the four adjacent pixels already cuts the error in half."
   ]
  },
  {
   "cell_type": "code",
   "execution_count": 52,
   "metadata": {},
   "outputs": [
    {
     "name": "stdout",
     "output_type": "stream",
     "text": [
      "Field verbosity defaults to 1\n",
      "Field order defaults to 1\n",
      "Fast marching solver completed in 0.010724 s.\n",
      "Field geodesicStep defaults to 0.25\n",
      "Field geodesicWeightThreshold defaults to 0.001\n",
      "Field geodesicVolumeBound defaults to 8.45\n",
      "Max error :  0.01687222010081446\n",
      "Average error :  0.005061895743398188\n"
     ]
    }
   ],
   "source": [
    "hfmIn['seedRadius']=1.5\n",
    "hfmOut = hfmIn.Run()\n",
    "\n",
    "error = ExactSolution - hfmOut['values']; error[shadow]=0.\n",
    "print(\"Max error : \",LInfNorm(error) )\n",
    "print(\"Average error : \", L1Norm(error) )"
   ]
  },
  {
   "cell_type": "markdown",
   "metadata": {},
   "source": [
    "Curiously, spreading the seed information a little further does not help, at all.\n",
    "Note that the grid points used depend on the discretization stencil, which is here anisotropic.\n",
    "\n",
    "**TODO**: inquire into this."
   ]
  },
  {
   "cell_type": "code",
   "execution_count": 53,
   "metadata": {},
   "outputs": [
    {
     "name": "stdout",
     "output_type": "stream",
     "text": [
      "Field verbosity defaults to 1\n",
      "Field order defaults to 1\n",
      "Fast marching solver completed in 0.010506 s.\n",
      "Field geodesicStep defaults to 0.25\n",
      "Field geodesicWeightThreshold defaults to 0.001\n",
      "Field geodesicVolumeBound defaults to 8.45\n",
      "Max error :  0.017551131842353573\n",
      "Average error :  0.004929746282214543\n"
     ]
    }
   ],
   "source": [
    "hfmIn['seedRadius']=-1.5\n",
    "hfmOut = hfmIn.Run()\n",
    "\n",
    "error = ExactSolution - hfmOut['values']; error[shadow]=0.\n",
    "print(\"Max error : \",LInfNorm(error) )\n",
    "print(\"Average error : \", L1Norm(error) )"
   ]
  },
  {
   "cell_type": "code",
   "execution_count": 54,
   "metadata": {},
   "outputs": [
    {
     "data": {
      "image/png": "[encoded data removed]",
      "text/plain": [
       "<Figure size 432x288 with 1 Axes>"
      ]
     },
     "metadata": {
      "needs_background": "light"
     },
     "output_type": "display_data"
    }
   ],
   "source": [
    "plt.axis('equal')\n",
    "plt.scatter(*hfmOut['spreadedSeeds'].T);"
   ]
  },
  {
   "cell_type": "markdown",
   "metadata": {},
   "source": [
    "Enabling equation factoring only helps, around the center.\n",
    "Because the metric varies quickly, this technique does seem to add to the error in certain regions."
   ]
  },
  {
   "cell_type": "code",
   "execution_count": 55,
   "metadata": {},
   "outputs": [
    {
     "name": "stdout",
     "output_type": "stream",
     "text": [
      "Field verbosity defaults to 1\n",
      "Field order defaults to 1\n",
      "Field factoringPointChoice defaults to Seed\n",
      "Field exportFactoring defaults to 0\n",
      "Fast marching solver completed in 0.011815 s.\n",
      "Field geodesicStep defaults to 0.25\n",
      "Field geodesicWeightThreshold defaults to 0.001\n",
      "Field geodesicVolumeBound defaults to 8.45\n",
      "Max error :  0.021587997803615977\n",
      "Average error :  0.006178899901994556\n"
     ]
    }
   ],
   "source": [
    "hfmIn['factoringRadius']=30\n",
    "hfmOut = hfmIn.Run()\n",
    "\n",
    "error = ExactSolution - hfmOut['values']; error[shadow]=0.\n",
    "print(\"Max error : \",LInfNorm(error) )\n",
    "print(\"Average error : \", L1Norm(error) )"
   ]
  },
  {
   "cell_type": "code",
   "execution_count": 56,
   "metadata": {},
   "outputs": [
    {
     "data": {
      "image/png": "[encoded data removed]",
      "text/plain": [
       "<Figure size 432x288 with 1 Axes>"
      ]
     },
     "metadata": {
      "needs_background": "light"
     },
     "output_type": "display_data"
    }
   ],
   "source": [
    "plt.contourf(X,Y,np.abs(error));"
   ]
  },
  {
   "cell_type": "markdown",
   "metadata": {},
   "source": [
    "The second order scheme has a huge impact on accuracy. Errors are cut by a factor 10 to 40, in $L^\\infty$ and $L^1$ respectively."
   ]
  },
  {
   "cell_type": "code",
   "execution_count": 57,
   "metadata": {},
   "outputs": [
    {
     "name": "stdout",
     "output_type": "stream",
     "text": [
      "Field verbosity defaults to 1\n",
      "Field factoringPointChoice defaults to Seed\n",
      "Field exportFactoring defaults to 0\n",
      "Fast marching solver completed in 0.012436 s.\n",
      "Field geodesicStep defaults to 0.25\n",
      "Field geodesicWeightThreshold defaults to 0.001\n",
      "Field geodesicVolumeBound defaults to 8.45\n",
      "Max error :  0.0016242966864593589\n",
      "Average error :  0.00012257060869058333\n"
     ]
    }
   ],
   "source": [
    "hfmIn['order']=2\n",
    "hfmOut = hfmIn.Run()\n",
    "\n",
    "error = ExactSolution - hfmOut['values']; error[shadow]=0.\n",
    "print(\"Max error : \",LInfNorm(error) )\n",
    "print(\"Average error : \", L1Norm(error) )"
   ]
  },
  {
   "cell_type": "markdown",
   "metadata": {},
   "source": [
    "The semi-Lagrangian scheme does help, particularly in the max norm."
   ]
  },
  {
   "cell_type": "code",
   "execution_count": 58,
   "metadata": {},
   "outputs": [
    {
     "name": "stdout",
     "output_type": "stream",
     "text": [
      "Field verbosity defaults to 1\n",
      "Field cosAngleMin defaults to 0.5\n",
      "Field refineStencilAtWallBoundary defaults to 0\n",
      "Field factoringPointChoice defaults to Seed\n",
      "Field exportFactoring defaults to 0\n",
      "Fast marching solver completed in 0.026929 s.\n",
      "Field geodesicStep defaults to 0.25\n",
      "Field geodesicWeightThreshold defaults to 0.001\n",
      "Field geodesicVolumeBound defaults to 8.45\n",
      "Max error :  0.0003200442475776999\n",
      "Average error :  8.939994309356508e-05\n"
     ]
    }
   ],
   "source": [
    "hfmIn['model']='Rander2'\n",
    "hfmOut = hfmIn.Run()\n",
    "\n",
    "error = ExactSolution - hfmOut['values']; error[shadow]=0.\n",
    "print(\"Max error : \",     LInfNorm(error) )\n",
    "print(\"Average error : \", L1Norm(  error) )"
   ]
  },
  {
   "cell_type": "markdown",
   "metadata": {},
   "source": [
    "The last two arrows for accuracy enhancement, namely accurate factorisation and the third order scheme, help only a little. The $L^1$ error is cut by a factor two or three, while the $L^\\infty$ error actually increases a bit. This is due, we believe, to the strong anisotropy and the relatively modest resolution used. \n",
    "\n",
    "(Recall that stencils are larger in strongly anisotropic instances, which reduces the effective resolution in comparison with the isotropic test case.)"
   ]
  },
  {
   "cell_type": "code",
   "execution_count": 59,
   "metadata": {},
   "outputs": [
    {
     "name": "stdout",
     "output_type": "stream",
     "text": [
      "Field verbosity defaults to 1\n",
      "Field cosAngleMin defaults to 0.5\n",
      "Field refineStencilAtWallBoundary defaults to 0\n",
      "Fast marching solver completed in 0.02729 s.\n",
      "Field geodesicStep defaults to 0.25\n",
      "Field geodesicWeightThreshold defaults to 0.001\n",
      "Field geodesicVolumeBound defaults to 8.45\n",
      "Max error :  0.0006308191190576018\n",
      "Average error :  0.00012637159500778635\n"
     ]
    }
   ],
   "source": [
    "hfmIn['factoringPointChoice']='Both'\n",
    "hfmOut = hfmIn.Run()\n",
    "\n",
    "error = ExactSolution - hfmOut['values']; error[shadow]=0.\n",
    "print(\"Max error : \",LInfNorm(error) )\n",
    "print(\"Average error : \", L1Norm(error) )"
   ]
  },
  {
   "cell_type": "code",
   "execution_count": 60,
   "metadata": {},
   "outputs": [
    {
     "name": "stdout",
     "output_type": "stream",
     "text": [
      "Field verbosity defaults to 1\n",
      "Field cosAngleMin defaults to 0.5\n",
      "Field refineStencilAtWallBoundary defaults to 0\n",
      "Fast marching solver completed in 0.027145 s.\n",
      "Field geodesicStep defaults to 0.25\n",
      "Field geodesicWeightThreshold defaults to 0.001\n",
      "Field geodesicVolumeBound defaults to 8.45\n",
      "Max error :  0.00040367256991502565\n",
      "Average error :  2.8803119686151257e-05\n"
     ]
    }
   ],
   "source": [
    "hfmIn['order']=3\n",
    "\n",
    "hfmOut = hfmIn.Run()\n",
    "error = ExactSolution - hfmOut['values']; error[shadow]=0.\n",
    "print(\"Max error : \",LInfNorm(error) )\n",
    "print(\"Average error : \", L1Norm(error) )"
   ]
  },
  {
   "cell_type": "code",
   "execution_count": 61,
   "metadata": {},
   "outputs": [
    {
     "name": "stdout",
     "output_type": "stream",
     "text": [
      "LInf ratio :  65.34422741805933\n",
      "L1 ratio :  284.8207243556209\n"
     ]
    }
   ],
   "source": [
    "print(\"LInf ratio : \", 0.02908883254421535/0.0004451630035827159)\n",
    "print(\"L1 ratio : \", 0.009789067979843967/3.436922647391891e-05)"
   ]
  },
  {
   "cell_type": "markdown",
   "metadata": {},
   "source": [
    "## 3. A Rander metric\n",
    "\n",
    "A Rander metric is, we recall, the sum of a Riemannian metric and a linear asymmetric perturbation. \n",
    "$$\n",
    "    F_p(v) := \\sqrt{v \\cdot \\mathcal M(p) \\cdot v} + <\\omega(p), v>.\n",
    "$$\n",
    "The perturbation is subject to a smallness condition: for each point $p$\n",
    "$$\n",
    "    \\omega(p) \\cdot \\mathcal M(p)^{-1} \\cdot \\omega(p) < 1.\n",
    "$$\n",
    "In the special case where $\\omega$ is a gradient field, the Riemannian distance and the Rander distance obey a simple relation:\n",
    "$$\n",
    "    d_F(p,q) = d_{\\mathcal M}(p,q) + v(q)-v(p),\n",
    "$$\n",
    "if $\\omega = \\nabla v$.\n",
    "We rely on this identity to build a synthetic test case with an explicit solution.\n",
    "\n",
    "Let $\\mathcal M\\equiv M$ be constant, and $\\omega = \\nabla v$, with\n",
    "$$\n",
    "\\begin{aligned}\n",
    "    M &= \\begin{pmatrix} 1.25 & 0.5 \\\\ 0.5 & 2 \\end{pmatrix}, &\n",
    "    v(x,y) &= \\gamma \\sin(\\pi x) \\sin(\\pi y) / \\pi,\n",
    "\\end{aligned}\n",
    "$$\n",
    "and $\\gamma = 0.8$. Since the smallest eigenvalue of $M$ is one, the smallness condition is satisfied if $|\\gamma|<1$.\n"
   ]
  },
  {
   "cell_type": "code",
   "execution_count": 62,
   "metadata": {
    "tags": [
     "ExportCode"
    ]
   },
   "outputs": [],
   "source": [
    "M=((1.25,0.5),(0.5,2.))\n",
    "\n",
    "def v(x,y,γ): return γ*np.sin(np.pi*x)*np.sin(np.pi*y)/np.pi\n",
    "\n",
    "def RanderMetric(x,y,γ=0.8):\n",
    "    X_ad = ad.Dense.identity(constant=(x,y),shape_free=(2,))\n",
    "    omega = v(*X_ad,γ).gradient()\n",
    "    return Metrics.Rander(M,omega)\n",
    "\n",
    "def RanderSolution(x,y,γ=0.8):\n",
    "    return Metrics.Riemann(M).norm((x,y)) + v(x,y,γ)"
   ]
  },
  {
   "cell_type": "code",
   "execution_count": 63,
   "metadata": {},
   "outputs": [],
   "source": [
    "dimx=200\n",
    "hfmIn = Eikonal.dictIn({\n",
    "    'model':'Rander2',\n",
    "    'seed':[0.,0.],\n",
    "    'exportValues':1.,\n",
    "})\n",
    "hfmIn.SetRect(sides=[[-2,2],[-2,2]],dimx=dimx)\n",
    "hfmIn.SetUniformTips((6,6))\n",
    "\n",
    "X,Y = hfmIn.Grid()\n",
    "hfmIn['metric']=RanderMetric(X,Y)"
   ]
  },
  {
   "cell_type": "code",
   "execution_count": 64,
   "metadata": {},
   "outputs": [
    {
     "data": {
      "text/plain": [
       "10.679739555817132"
      ]
     },
     "execution_count": 64,
     "metadata": {},
     "output_type": "execute_result"
    }
   ],
   "source": [
    "np.max(hfmIn['metric'].anisotropy_bound()) # Only an upper bound"
   ]
  },
  {
   "cell_type": "code",
   "execution_count": 65,
   "metadata": {},
   "outputs": [
    {
     "name": "stdout",
     "output_type": "stream",
     "text": [
      "Field verbosity defaults to 1\n",
      "Field cosAngleMin defaults to 0.5\n",
      "Field refineStencilAtWallBoundary defaults to 0\n",
      "Field order defaults to 1\n",
      "Field seedRadius defaults to 0\n",
      "Fast marching solver completed in 0.051106 s.\n",
      "Field geodesicSolver defaults to Discrete\n",
      "Field geodesicStep defaults to 0.25\n",
      "Field geodesicWeightThreshold defaults to 0.001\n",
      "Field geodesicVolumeBound defaults to 8.45\n"
     ]
    }
   ],
   "source": [
    "hfmOut = hfmIn.Run()"
   ]
  },
  {
   "cell_type": "code",
   "execution_count": 66,
   "metadata": {},
   "outputs": [
    {
     "data": {
      "image/png": "[encoded data removed]",
      "text/plain": [
       "<Figure size 432x288 with 1 Axes>"
      ]
     },
     "metadata": {
      "needs_background": "light"
     },
     "output_type": "display_data"
    }
   ],
   "source": [
    "plt.title('Distance map, Synthetic Rander example'); plt.axis('equal')\n",
    "plt.contourf(X,Y,hfmOut['values']);"
   ]
  },
  {
   "cell_type": "markdown",
   "metadata": {},
   "source": [
    "Because of the particular structure of the metric, the geodesics are straight lines towards the seed point."
   ]
  },
  {
   "cell_type": "code",
   "execution_count": 67,
   "metadata": {},
   "outputs": [
    {
     "data": {
      "image/png": "[encoded data removed]",
      "text/plain": [
       "<Figure size 288x288 with 1 Axes>"
      ]
     },
     "metadata": {
      "needs_background": "light"
     },
     "output_type": "display_data"
    }
   ],
   "source": [
    "fig = plt.figure(figsize=[4,4]); plt.title('Minimal geodesics, Synthetic Rander example'); plt.axis('equal'); \n",
    "for geo in hfmOut['geodesics']:  plt.plot(*geo) "
   ]
  },
  {
   "cell_type": "code",
   "execution_count": 68,
   "metadata": {},
   "outputs": [],
   "source": [
    "ExactSolution = RanderSolution(X,Y)\n",
    "shadow = X>=1.9"
   ]
  },
  {
   "cell_type": "code",
   "execution_count": 69,
   "metadata": {},
   "outputs": [
    {
     "name": "stdout",
     "output_type": "stream",
     "text": [
      "Max error :  0.03476786943748733\n",
      "Average error :  0.015537521580026198\n"
     ]
    }
   ],
   "source": [
    "print(\"Max error : \",LInfNorm(ExactSolution - hfmOut['values']) )\n",
    "print(\"Average error : \", L1Norm(ExactSolution - hfmOut['values']) )"
   ]
  },
  {
   "cell_type": "markdown",
   "metadata": {},
   "source": [
    "**Trying the various enhancements.**\n",
    "The *seedRadius* option has a significant impact, by eliminating a systematic $\\mathcal O(h)$ error due to the seed approximation by a grid point. Factorisation is not much useful alone, since it acts only locally around the seed. However it enables higher order finite differences, which considerably reduce error."
   ]
  },
  {
   "cell_type": "code",
   "execution_count": 70,
   "metadata": {},
   "outputs": [
    {
     "name": "stdout",
     "output_type": "stream",
     "text": [
      "Field verbosity defaults to 1\n",
      "Field cosAngleMin defaults to 0.5\n",
      "Field refineStencilAtWallBoundary defaults to 0\n",
      "Field order defaults to 1\n",
      "Fast marching solver completed in 0.051116 s.\n",
      "Field geodesicSolver defaults to Discrete\n",
      "Field geodesicStep defaults to 0.25\n",
      "Field geodesicWeightThreshold defaults to 0.001\n",
      "Field geodesicVolumeBound defaults to 8.45\n",
      "Max error :  0.018624543507695712\n",
      "Average error :  0.006593869473546114\n"
     ]
    }
   ],
   "source": [
    "hfmIn['seedRadius']=1.5\n",
    "\n",
    "hfmOut = hfmIn.Run()\n",
    "print(\"Max error : \",LInfNorm(ExactSolution - hfmOut['values']) )\n",
    "print(\"Average error : \", L1Norm(ExactSolution - hfmOut['values']) )"
   ]
  },
  {
   "cell_type": "code",
   "execution_count": 71,
   "metadata": {},
   "outputs": [
    {
     "name": "stdout",
     "output_type": "stream",
     "text": [
      "Field verbosity defaults to 1\n",
      "Field cosAngleMin defaults to 0.5\n",
      "Field refineStencilAtWallBoundary defaults to 0\n",
      "Field order defaults to 1\n",
      "Field factoringPointChoice defaults to Seed\n",
      "Field exportFactoring defaults to 0\n",
      "Fast marching solver completed in 0.049869 s.\n",
      "Field geodesicSolver defaults to Discrete\n",
      "Field geodesicStep defaults to 0.25\n",
      "Field geodesicWeightThreshold defaults to 0.001\n",
      "Field geodesicVolumeBound defaults to 8.45\n",
      "Max error :  0.014195527091016569\n",
      "Average error :  0.005109244237188322\n"
     ]
    }
   ],
   "source": [
    "hfmIn['factoringRadius']=20\n",
    "\n",
    "hfmOut = hfmIn.Run()\n",
    "print(\"Max error : \",LInfNorm(ExactSolution - hfmOut['values']) )\n",
    "print(\"Average error : \", L1Norm(ExactSolution - hfmOut['values']) )"
   ]
  },
  {
   "cell_type": "code",
   "execution_count": 72,
   "metadata": {},
   "outputs": [
    {
     "name": "stdout",
     "output_type": "stream",
     "text": [
      "Field verbosity defaults to 1\n",
      "Field cosAngleMin defaults to 0.5\n",
      "Field refineStencilAtWallBoundary defaults to 0\n",
      "Field factoringPointChoice defaults to Seed\n",
      "Field exportFactoring defaults to 0\n",
      "Fast marching solver completed in 0.060228 s.\n",
      "Field geodesicSolver defaults to Discrete\n",
      "Field geodesicStep defaults to 0.25\n",
      "Field geodesicWeightThreshold defaults to 0.001\n",
      "Field geodesicVolumeBound defaults to 8.45\n",
      "Max error :  0.007552076286743592\n",
      "Average error :  0.0008782499863001231\n"
     ]
    }
   ],
   "source": [
    "hfmIn['order']=2\n",
    "\n",
    "hfmOut = hfmIn.Run()\n",
    "print(\"Max error : \",LInfNorm(ExactSolution - hfmOut['values']) )\n",
    "print(\"Average error : \", L1Norm(ExactSolution - hfmOut['values']) )"
   ]
  },
  {
   "cell_type": "code",
   "execution_count": 73,
   "metadata": {},
   "outputs": [
    {
     "name": "stdout",
     "output_type": "stream",
     "text": [
      "Field verbosity defaults to 1\n",
      "Field cosAngleMin defaults to 0.5\n",
      "Field refineStencilAtWallBoundary defaults to 0\n",
      "Fast marching solver completed in 0.057213 s.\n",
      "Field geodesicSolver defaults to Discrete\n",
      "Field geodesicStep defaults to 0.25\n",
      "Field geodesicWeightThreshold defaults to 0.001\n",
      "Field geodesicVolumeBound defaults to 8.45\n",
      "Max error :  0.0065116227920483105\n",
      "Average error :  0.000807641468774751\n"
     ]
    }
   ],
   "source": [
    "hfmIn['factoringPointChoice']='Both'\n",
    "\n",
    "hfmOut = hfmIn.Run()\n",
    "print(\"Max error : \",LInfNorm(ExactSolution - hfmOut['values']) )\n",
    "print(\"Average error : \", L1Norm(ExactSolution - hfmOut['values']) )"
   ]
  },
  {
   "cell_type": "code",
   "execution_count": 74,
   "metadata": {},
   "outputs": [
    {
     "name": "stdout",
     "output_type": "stream",
     "text": [
      "Field verbosity defaults to 1\n",
      "Field cosAngleMin defaults to 0.5\n",
      "Field refineStencilAtWallBoundary defaults to 0\n",
      "Fast marching solver completed in 0.055272 s.\n",
      "Field geodesicSolver defaults to Discrete\n",
      "Field geodesicStep defaults to 0.25\n",
      "Field geodesicWeightThreshold defaults to 0.001\n",
      "Field geodesicVolumeBound defaults to 8.45\n",
      "Max error :  0.005701237453601404\n",
      "Average error :  0.00015955694935521666\n"
     ]
    }
   ],
   "source": [
    "hfmIn['order']=3\n",
    "\n",
    "hfmOut = hfmIn.Run()\n",
    "print(\"Max error : \",LInfNorm(ExactSolution - hfmOut['values']) )\n",
    "print(\"Average error : \", L1Norm(ExactSolution - hfmOut['values']) )"
   ]
  },
  {
   "cell_type": "code",
   "execution_count": 75,
   "metadata": {},
   "outputs": [
    {
     "name": "stdout",
     "output_type": "stream",
     "text": [
      "LInf ratio :  5.0599873584494794\n",
      "L1 ratio :  98.50713275088283\n"
     ]
    }
   ],
   "source": [
    "print(\"LInf ratio : \", 0.03476786943726218/0.006871137608516875)\n",
    "print(\"L1 ratio : \", 0.015537521580015985/0.00015772991402875582)"
   ]
  },
  {
   "cell_type": "code",
   "execution_count": 76,
   "metadata": {},
   "outputs": [
    {
     "data": {
      "image/png": "[encoded data removed]",
      "text/plain": [
       "<Figure size 432x288 with 1 Axes>"
      ]
     },
     "metadata": {
      "needs_background": "light"
     },
     "output_type": "display_data"
    }
   ],
   "source": [
    "plt.contourf(X,Y,ExactSolution - hfmOut['values']);"
   ]
  },
  {
   "cell_type": "markdown",
   "metadata": {},
   "source": [
    "## 4. Metric arising from seismology.\n",
    "\n",
    "The metrics considered in this section are defined in terms of a Hooke tensor, representing the elastic properties of the ambient geological medium. Such metrics can be rotated and multiplied by a scalar. However they are not affine invariant, in contrast with e.g. Riemannian, Rander, or asymmetric quadratic metrics considered above. (Affine change of coordinates can be applied nevertheless, but this changes the structure of the metric, see below.)\n",
    "\n",
    "We use a conformal change of coordinates to produce an analytic example with a known solution. \n",
    "\n",
    "**Note on computation time.**\n",
    "In the experiments presented below, it appears that producing the source factorization on the whole domain is approximately $12$ times longer than running the fast marching algorithm. This makes no sense from the complexity standpoint, and it is only because the fast marching is written in C++, whereas the source factorization is written in Python, with a costly abstraction layer related with automatic differentiation.\n",
    "\n",
    "We avoid this issue by using source factorization only on a small subdomain of the whole domain."
   ]
  },
  {
   "cell_type": "code",
   "execution_count": 77,
   "metadata": {
    "tags": [
     "ExportCode"
    ]
   },
   "outputs": [],
   "source": [
    "def ConformalMap(x):\n",
    "    \"\"\"\n",
    "    Implements the mapping x -> (1/2) * x^2, where x is seen as a complex variable.\n",
    "    \"\"\"\n",
    "    return ad.array([0.5*(x[0]**2-x[1]**2), x[0]*x[1]])\n",
    "\n",
    "def ConformalApply(norm,f,x,decomp=True):\n",
    "    \"\"\"\n",
    "    Applies a conformal change of coordinates to a norm.\n",
    "    decomp : decompose the Jacobian into a scaling and rotation.\n",
    "    \"\"\"\n",
    "    x_ad = ad.Dense.identity(constant=x,shape_free=(2,))\n",
    "    Jac = np.moveaxis(f(x_ad).gradient(),0,1)\n",
    "    if not decomp: return norm.inv_transform(Jac)\n",
    "    \n",
    "    # Assuming Jac is a homothety-rotation\n",
    "    α = np.power(lp.det(Jac), 1/norm.vdim)\n",
    "    R = Jac/α\n",
    "    return norm.with_cost(α).rotate(lp.transpose(R))\n",
    "    \n",
    "\n",
    "def MappedNormValues(norm,f,x,seed):\n",
    "    seed = fd.as_field(seed,x.shape[1:])\n",
    "    return norm.norm(f(x)-f(seed))"
   ]
  },
  {
   "cell_type": "code",
   "execution_count": 78,
   "metadata": {},
   "outputs": [],
   "source": [
    "hfmIn = Eikonal.dictIn({\n",
    "    'model':'Seismic2',\n",
    "    'seeds':np.array([[2.,0.]]),\n",
    "    'exportValues':1.,\n",
    "})\n",
    "\n",
    "# Set the coordinate system\n",
    "hfmIn.SetRect([[1,3],[-1,1]],dimx=200)\n",
    "X = hfmIn.Grid()\n",
    "\n",
    "# Set the metric\n",
    "norm = Hooke.mica[0].extract_xz().rotate_by(0.5)\n",
    "hfmIn['metric'] = ConformalApply(norm, ConformalMap, X)\n",
    "\n",
    "ExactSolution = MappedNormValues(norm,ConformalMap,X,hfmIn['seed'])"
   ]
  },
  {
   "cell_type": "markdown",
   "metadata": {},
   "source": [
    "If one ignores the conformal structure of the change of variables, then it cannot be directly applied to the Hooke tensor. As a result,  the structure of the metric changes a bit, becoming the `SeismicTopographic2` model, defined as the composition of a `Seismic2` norm and of an affine map. "
   ]
  },
  {
   "cell_type": "code",
   "execution_count": 79,
   "metadata": {},
   "outputs": [
    {
     "data": {
      "text/plain": [
       "'SeismicTopographic2'"
      ]
     },
     "execution_count": 79,
     "metadata": {},
     "output_type": "execute_result"
    }
   ],
   "source": [
    "ConformalApply(norm, ConformalMap, X, decomp=False).model_HFM() # Ignore the conformal structure of the mapping"
   ]
  },
  {
   "cell_type": "markdown",
   "metadata": {},
   "source": [
    "The following experiments illustrate that the accuracy of the eikonal solver remarkably increases as are introduced, successively: source factorization, second order scheme, accurate source factorization, third order scheme."
   ]
  },
  {
   "cell_type": "code",
   "execution_count": 80,
   "metadata": {},
   "outputs": [
    {
     "name": "stdout",
     "output_type": "stream",
     "text": [
      "Field verbosity defaults to 1\n",
      "Field cosAngleMin defaults to 0.5\n",
      "Field order defaults to 1\n",
      "Field seedRadius defaults to 0\n",
      "Fast marching solver completed in 0.21792 s.\n",
      "Max error :  0.0027199166797670093\n",
      "Average error :  0.0006722545988148448\n",
      "CPU times: user 163 ms, sys: 20.4 ms, total: 183 ms\n",
      "Wall time: 509 ms\n"
     ]
    }
   ],
   "source": [
    "%%time\n",
    "hfmOut = hfmIn.Run()\n",
    "\n",
    "error = hfmOut['values'] - ExactSolution\n",
    "print(\"Max error : \",     LInfNorm(error) )\n",
    "print(\"Average error : \", L1Norm(  error) )"
   ]
  },
  {
   "cell_type": "code",
   "execution_count": 81,
   "metadata": {},
   "outputs": [
    {
     "data": {
      "image/png": "[encoded data removed]",
      "text/plain": [
       "<Figure size 432x288 with 2 Axes>"
      ]
     },
     "metadata": {
      "needs_background": "light"
     },
     "output_type": "display_data"
    }
   ],
   "source": [
    "plt.title(\"Level sets of a conformally transformed Hooke norm\")\n",
    "plt.contourf(*X,hfmOut['values']) \n",
    "plt.colorbar();"
   ]
  },
  {
   "cell_type": "code",
   "execution_count": 82,
   "metadata": {},
   "outputs": [
    {
     "name": "stdout",
     "output_type": "stream",
     "text": [
      "Field verbosity defaults to 1\n",
      "Field cosAngleMin defaults to 0.5\n",
      "Field order defaults to 1\n",
      "Field seedRadius defaults to 2\n",
      "Field factoringPointChoice defaults to Seed\n",
      "Field exportFactoring defaults to 0\n",
      "Fast marching solver completed in 0.233192 s.\n",
      "Max error :  0.0013257151435809855\n",
      "Average error :  0.0004357188696826151\n",
      "CPU times: user 6.92 ms, sys: 8.88 ms, total: 15.8 ms\n",
      "Wall time: 510 ms\n"
     ]
    }
   ],
   "source": [
    "%%time\n",
    "hfmIn['factoringRadius']=20 # Source factorization is only on a small subdomain\n",
    "hfmOut = hfmIn.Run()\n",
    "\n",
    "error = hfmOut['values'] - ExactSolution\n",
    "print(\"Max error : \",     LInfNorm(error) )\n",
    "print(\"Average error : \", L1Norm(  error) )"
   ]
  },
  {
   "cell_type": "code",
   "execution_count": 83,
   "metadata": {},
   "outputs": [
    {
     "name": "stdout",
     "output_type": "stream",
     "text": [
      "Field verbosity defaults to 1\n",
      "Field cosAngleMin defaults to 0.5\n",
      "Field seedRadius defaults to 2\n",
      "Field factoringPointChoice defaults to Seed\n",
      "Field exportFactoring defaults to 0\n",
      "Fast marching solver completed in 0.275546 s.\n",
      "Max error :  5.859369152477756e-05\n",
      "Average error :  1.5824607552193606e-05\n",
      "CPU times: user 6.68 ms, sys: 8.28 ms, total: 15 ms\n",
      "Wall time: 550 ms\n"
     ]
    }
   ],
   "source": [
    "%%time\n",
    "hfmIn['order']=2\n",
    "hfmOut = hfmIn.Run()\n",
    "\n",
    "error = hfmOut['values'] - ExactSolution\n",
    "print(\"Max error : \",     LInfNorm(error) )\n",
    "print(\"Average error : \", L1Norm(  error) )"
   ]
  },
  {
   "cell_type": "code",
   "execution_count": 84,
   "metadata": {},
   "outputs": [
    {
     "name": "stdout",
     "output_type": "stream",
     "text": [
      "Field verbosity defaults to 1\n",
      "Field cosAngleMin defaults to 0.5\n",
      "Field seedRadius defaults to 2\n",
      "Fast marching solver completed in 0.286416 s.\n",
      "Max error :  3.8313346658214176e-05\n",
      "Average error :  5.963835815658736e-06\n",
      "CPU times: user 569 ms, sys: 38 ms, total: 607 ms\n",
      "Wall time: 783 ms\n"
     ]
    }
   ],
   "source": [
    "%%time\n",
    "hfmIn['factoringPointChoice']='Both'\n",
    "hfmOut = hfmIn.Run()\n",
    "\n",
    "error = hfmOut['values'] - ExactSolution\n",
    "print(\"Max error : \",     LInfNorm(error) )\n",
    "print(\"Average error : \", L1Norm(  error) )"
   ]
  },
  {
   "cell_type": "code",
   "execution_count": 85,
   "metadata": {},
   "outputs": [
    {
     "name": "stdout",
     "output_type": "stream",
     "text": [
      "Field verbosity defaults to 1\n",
      "Field cosAngleMin defaults to 0.5\n",
      "Field seedRadius defaults to 2\n",
      "Fast marching solver completed in 0.296115 s.\n",
      "Max error :  6.020494908276497e-06\n",
      "Average error :  9.039280673235941e-07\n",
      "CPU times: user 542 ms, sys: 28.1 ms, total: 570 ms\n",
      "Wall time: 756 ms\n"
     ]
    }
   ],
   "source": [
    "%%time\n",
    "hfmIn['order']=3\n",
    "hfmOut = hfmIn.Run()\n",
    "\n",
    "error = hfmOut['values'] - ExactSolution\n",
    "print(\"Max error : \",     LInfNorm(error) )\n",
    "print(\"Average error : \", L1Norm(  error) )"
   ]
  },
  {
   "cell_type": "markdown",
   "metadata": {},
   "source": [
    "As mentioned in the introduction of this section, using source factorization over the whole domain has a significant cost, due to the slow Python-based computation of the factor. Nevertheless this could be easily fixed, at least in principle, and it further improves the accuracy a bit, in the average at least."
   ]
  },
  {
   "cell_type": "code",
   "execution_count": 86,
   "metadata": {},
   "outputs": [
    {
     "name": "stdout",
     "output_type": "stream",
     "text": [
      "Field verbosity defaults to 1\n",
      "Field cosAngleMin defaults to 0.5\n",
      "Field seedRadius defaults to 2\n",
      "Fast marching solver completed in 0.33511 s.\n",
      "Max error :  7.158982098687261e-06\n",
      "Average error :  4.733269393667884e-07\n",
      "CPU times: user 5.11 s, sys: 391 ms, total: 5.5 s\n",
      "Wall time: 3.73 s\n"
     ]
    }
   ],
   "source": [
    "%%time\n",
    "hfmIn['factoringRadius']=-1 # Source factorization over the whole domain\n",
    "hfmOut = hfmIn.Run()\n",
    "\n",
    "error = hfmOut['values'] - ExactSolution\n",
    "print(\"Max error : \",     LInfNorm(error) )\n",
    "print(\"Average error : \", L1Norm(  error) )"
   ]
  },
  {
   "cell_type": "markdown",
   "metadata": {},
   "source": [
    "## 5. Additional discussion\n",
    "\n",
    "Solving an eikonal equation to high accuracy (second or third order) is a non-trivial matter, and the following points must be considered:\n",
    "* (Smoothness of the data) \n",
    "If the problem data is not smooth, either the metric or the cost function, then high order accuracy usually cannot be achieved.\n",
    "* (Smoothness of the solution) \n",
    "Even if the problem data is smooth, the solution may not be, thus again preventing high order accuracy. For instance asymmetric quadratic metrics (`AsymQuad` models) yield solutions at most once differentiable. Non-holonomic metrics yield solutions with complex non-smooth singularities, that cannot be factored (no simple closed form expression).\n",
    "* (Semi-Lagrangian or Eulerian scheme) \n",
    "Semi-Lagrangian schemes, with a suitable choice of stencil, are *strictly causal*, implying that sufficiently small perturbations such as source factorization preserve the causality of the scheme. Eulerian schemes are not, and as a result are more limited in terms of achievable accuracy.\n",
    "In particular the seedRadius must be sufficiently large, and third order accuracy is usually not achievable.\n",
    "* (Single pass or iterative solver) High order schemes are not monotone, and as a result lack some stability properties. \n",
    "There is a standard way of handling this issue with the single pass fast marching method (only use the high order scheme in the post-processing step, before the node is accepted), but it does raise more significant problems with iterative solvers. As a result the GPU eikonal solver is limited to first order accuracy.\n"
   ]
  },
  {
   "cell_type": "code",
   "execution_count": null,
   "metadata": {},
   "outputs": [],
   "source": []
  }
 ],
 "metadata": {
  "celltoolbar": "Format de la Cellule Texte Brut",
  "kernelspec": {
   "display_name": "Python 3",
   "language": "python",
   "name": "python3"
  },
  "language_info": {
   "codemirror_mode": {
    "name": "ipython",
    "version": 3
   },
   "file_extension": ".py",
   "mimetype": "text/x-python",
   "name": "python",
   "nbconvert_exporter": "python",
   "pygments_lexer": "ipython3",
   "version": "3.7.6"
  }
 },
 "nbformat": 4,
 "nbformat_minor": 2
}

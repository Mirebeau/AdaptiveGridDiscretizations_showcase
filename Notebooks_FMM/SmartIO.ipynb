{
 "cells": [
  {
   "cell_type": "markdown",
   "metadata": {},
   "source": [
    "# The HFM library - A fast marching solver with adaptive stencils\n",
    "\n",
    "## Part : Algorithmic enhancements to the fast marching method\n",
    "## Chapter : Input and output"
   ]
  },
  {
   "cell_type": "markdown",
   "metadata": {},
   "source": [
    "This notebook illustrates the distinction between 'raw' and 'smart' input to the HFM library, and how to save the those for debugging purposes.\n",
    "\n",
    "*Update.* 'raw' input is now deprecated, and 'smart' input becomes default. This notebook is only left for non-regression tests."
   ]
  },
  {
   "cell_type": "markdown",
   "metadata": {},
   "source": [
    "[**Summary**](Summary.ipynb) of volume Fast Marching Methods, this series of notebooks.\n",
    "\n",
    "[**Main summary**](../Summary.ipynb) of the Adaptive Grid Discretizations \n",
    "\tbook of notebooks, including the other volumes.\n",
    "\n",
    "# Table of contents\n",
    "  * [1. Input and output](#1.-Input-and-output)\n",
    "    * [1.1 Raw data](#1.1-Raw-data)\n",
    "    * [1.2 Smart data (Pre- and post-processed)](#1.2-Smart-data-(Pre--and-post-processed))\n",
    "  * [2. Saving data](#2.-Saving-data)\n",
    "    * [2.1 Exporting raw data](#2.1-Exporting-raw-data)\n",
    "    * [2.2 Importing raw data](#2.2-Importing-raw-data)\n",
    "    * [2.3 Turning smart input into raw input](#2.3-Turning-smart-input-into-raw-input)\n",
    "  * [3. Input dictionary](#3.-Input-dictionary)\n",
    "  * [4. Caching data](#4.-Caching-data)\n",
    "\n",
    "\n",
    "\n",
    "This Python&reg; notebook is intended as documentation and testing for the [HamiltonFastMarching (HFM) library](https://github.com/mirebeau/HamiltonFastMarching), which also has interfaces to the Matlab&reg; and Mathematica&reg; languages. \n",
    "More information on the HFM library in the manuscript:\n",
    "* Jean-Marie Mirebeau, Jorg Portegies, \"Hamiltonian Fast Marching: A numerical solver for anisotropic and non-holonomic eikonal PDEs\", 2019 [(link)](https://hal.archives-ouvertes.fr/hal-01778322)\n",
    "\n",
    "Copyright Jean-Marie Mirebeau, University Paris-Sud, CNRS, University Paris-Saclay"
   ]
  },
  {
   "cell_type": "markdown",
   "metadata": {},
   "source": [
    "## 0. Importing the required libraries"
   ]
  },
  {
   "cell_type": "code",
   "execution_count": 1,
   "metadata": {
    "execution": {
     "iopub.execute_input": "2021-12-09T21:54:55.104027Z",
     "iopub.status.busy": "2021-12-09T21:54:55.103347Z",
     "iopub.status.idle": "2021-12-09T21:54:55.110761Z",
     "shell.execute_reply": "2021-12-09T21:54:55.111336Z"
    }
   },
   "outputs": [],
   "source": [
    "import sys; sys.path.insert(0,\"..\") # Allow import of agd from parent directory (useless if conda package installed)\n",
    "#from Miscellaneous import TocTools; print(TocTools.displayTOC('SmartIO','FMM'))"
   ]
  },
  {
   "cell_type": "code",
   "execution_count": 2,
   "metadata": {
    "execution": {
     "iopub.execute_input": "2021-12-09T21:54:55.115358Z",
     "iopub.status.busy": "2021-12-09T21:54:55.114677Z",
     "iopub.status.idle": "2021-12-09T21:54:55.278967Z",
     "shell.execute_reply": "2021-12-09T21:54:55.279467Z"
    }
   },
   "outputs": [],
   "source": [
    "from agd import Eikonal\n",
    "from agd import Metrics"
   ]
  },
  {
   "cell_type": "code",
   "execution_count": 3,
   "metadata": {
    "execution": {
     "iopub.execute_input": "2021-12-09T21:54:55.283941Z",
     "iopub.status.busy": "2021-12-09T21:54:55.283378Z",
     "iopub.status.idle": "2021-12-09T21:54:56.203543Z",
     "shell.execute_reply": "2021-12-09T21:54:56.203991Z"
    }
   },
   "outputs": [],
   "source": [
    "# We will also need some standard python libraries.\n",
    "import numpy as np\n",
    "%matplotlib inline\n",
    "import matplotlib.pyplot as plt\n",
    "import os"
   ]
  },
  {
   "cell_type": "markdown",
   "metadata": {},
   "source": [
    "## 1. Input and output\n",
    "\n",
    "The following example is taken from the notebook on the Fisher-Rao distance [link](FisherRao.ipynb)"
   ]
  },
  {
   "cell_type": "code",
   "execution_count": 4,
   "metadata": {
    "execution": {
     "iopub.execute_input": "2021-12-09T21:54:56.210484Z",
     "iopub.status.busy": "2021-12-09T21:54:56.209662Z",
     "iopub.status.idle": "2021-12-09T21:54:56.212456Z",
     "shell.execute_reply": "2021-12-09T21:54:56.212924Z"
    }
   },
   "outputs": [],
   "source": [
    "hfmIn = Eikonal.dictIn({'mode':'cpu_raw'})\n",
    "hfmIn['model'] = 'Riemann2' # Adequate model for two dimensional Riemannian metrics.\n",
    "\n",
    "# Create the parameter space\n",
    "n=100\n",
    "hfmIn.SetRect(sides=[[-2,2],[0,1]],dimx=4*n)\n",
    "mu,sig = hfmIn.Grid()\n",
    "\n",
    "hfmIn['seed'] = [0,0.3] # A single seed\n",
    "hfmIn.SetUniformTips((4,3))\n",
    "\n",
    "hfmIn['exportValues'] = 1\n",
    "hfmIn['order'] = 2"
   ]
  },
  {
   "cell_type": "code",
   "execution_count": 5,
   "metadata": {
    "execution": {
     "iopub.execute_input": "2021-12-09T21:54:56.216381Z",
     "iopub.status.busy": "2021-12-09T21:54:56.215875Z",
     "iopub.status.idle": "2021-12-09T21:54:56.217817Z",
     "shell.execute_reply": "2021-12-09T21:54:56.218273Z"
    }
   },
   "outputs": [],
   "source": [
    "tips = hfmIn['tips']"
   ]
  },
  {
   "cell_type": "markdown",
   "metadata": {},
   "source": [
    "### 1.1 Raw data\n",
    "\n",
    "The HamiltonFastMarching (HFM) library only expects and returns data in the following basic formats: \n",
    "- numpy arrays with elements of type *float64*\n",
    "- strings\n",
    "\n",
    "Furthermore, the dimensions of the arrays corresponding to physical space are expected to be the last ones. This convention is opposite to the one taken in the agd library, where the physical dimensions come first. For that reason it is not always convenient to input and output data in raw format"
   ]
  },
  {
   "cell_type": "code",
   "execution_count": 6,
   "metadata": {
    "execution": {
     "iopub.execute_input": "2021-12-09T21:54:56.221974Z",
     "iopub.status.busy": "2021-12-09T21:54:56.221460Z",
     "iopub.status.idle": "2021-12-09T21:54:56.225235Z",
     "shell.execute_reply": "2021-12-09T21:54:56.224667Z"
    }
   },
   "outputs": [],
   "source": [
    "hfmIn['metric'] = np.stack( (1./sig**2, 0.*sig, 2./sig**2), 2)"
   ]
  },
  {
   "cell_type": "code",
   "execution_count": 7,
   "metadata": {
    "execution": {
     "iopub.execute_input": "2021-12-09T21:54:56.228766Z",
     "iopub.status.busy": "2021-12-09T21:54:56.228258Z",
     "iopub.status.idle": "2021-12-09T21:54:56.307402Z",
     "shell.execute_reply": "2021-12-09T21:54:56.307886Z"
    }
   },
   "outputs": [
    {
     "name": "stdout",
     "output_type": "stream",
     "text": [
      "Field verbosity defaults to 1\n",
      "Field seedRadius defaults to 0\n",
      "Fast marching solver completed in 0.018194 s.\n",
      "Field geodesicSolver defaults to Discrete\n",
      "Field geodesicStep defaults to 0.25\n",
      "Field geodesicWeightThreshold defaults to 0.001\n",
      "Field geodesicVolumeBound defaults to 8.45\n"
     ]
    }
   ],
   "source": [
    "hfmOut = hfmIn.Run()"
   ]
  },
  {
   "cell_type": "markdown",
   "metadata": {},
   "source": [
    "The geodesics are also returned in a raw format, with their points concatenated, and their lengths returned as a separate variable. A helper function is provided to pack them more appropriately."
   ]
  },
  {
   "cell_type": "code",
   "execution_count": 8,
   "metadata": {
    "execution": {
     "iopub.execute_input": "2021-12-09T21:54:56.315716Z",
     "iopub.status.busy": "2021-12-09T21:54:56.315184Z",
     "iopub.status.idle": "2021-12-09T21:54:56.317922Z",
     "shell.execute_reply": "2021-12-09T21:54:56.318383Z"
    }
   },
   "outputs": [
    {
     "data": {
      "text/plain": [
       "array([[-1.5       ,  0.16666667],\n",
       "       [-1.4982569 ,  0.17088473],\n",
       "       [-1.49623159,  0.17570491],\n",
       "       ...,\n",
       "       [ 0.01030596,  0.31783145],\n",
       "       [ 0.00803683,  0.31255899],\n",
       "       [ 0.005     ,  0.305     ]])"
      ]
     },
     "execution_count": 8,
     "metadata": {},
     "output_type": "execute_result"
    }
   ],
   "source": [
    "hfmOut['geodesicPoints']"
   ]
  },
  {
   "cell_type": "code",
   "execution_count": 9,
   "metadata": {
    "execution": {
     "iopub.execute_input": "2021-12-09T21:54:56.322558Z",
     "iopub.status.busy": "2021-12-09T21:54:56.322036Z",
     "iopub.status.idle": "2021-12-09T21:54:56.324696Z",
     "shell.execute_reply": "2021-12-09T21:54:56.325130Z"
    }
   },
   "outputs": [
    {
     "data": {
      "text/plain": [
       "array([587., 543., 534., 158., 161., 238., 153., 159., 238., 585., 542.,\n",
       "       532.])"
      ]
     },
     "execution_count": 9,
     "metadata": {},
     "output_type": "execute_result"
    }
   ],
   "source": [
    "hfmOut['geodesicLengths']"
   ]
  },
  {
   "cell_type": "code",
   "execution_count": 10,
   "metadata": {
    "execution": {
     "iopub.execute_input": "2021-12-09T21:54:56.328350Z",
     "iopub.status.busy": "2021-12-09T21:54:56.327844Z",
     "iopub.status.idle": "2021-12-09T21:54:56.330239Z",
     "shell.execute_reply": "2021-12-09T21:54:56.330806Z"
    }
   },
   "outputs": [],
   "source": [
    "geodesics = Eikonal.run_detail.GetGeodesics(hfmOut)"
   ]
  },
  {
   "cell_type": "code",
   "execution_count": 11,
   "metadata": {
    "execution": {
     "iopub.execute_input": "2021-12-09T21:54:56.344294Z",
     "iopub.status.busy": "2021-12-09T21:54:56.343689Z",
     "iopub.status.idle": "2021-12-09T21:54:56.608718Z",
     "shell.execute_reply": "2021-12-09T21:54:56.609286Z"
    }
   },
   "outputs": [
    {
     "data": {
      "image/png": "[encoded data removed]",
      "text/plain": [
       "<Figure size 432x216 with 1 Axes>"
      ]
     },
     "metadata": {
      "needs_background": "light"
     },
     "output_type": "display_data"
    }
   ],
   "source": [
    "fig = plt.figure(figsize=[6,3]); plt.title('Fisher-Rao distance and minimal geodesics'); plt.axis('equal'); \n",
    "plt.contourf(mu,sig,hfmOut['values'],cmap='Greys',levels=np.linspace(0,3,7));  # Display the value function. \n",
    "\n",
    "for geo in geodesics:  plt.plot(*geo)"
   ]
  },
  {
   "cell_type": "markdown",
   "metadata": {},
   "source": [
    "### 1.2 Smart data (Pre- and post-processed)\n",
    "\n",
    "For convenience, an optional pre- and post-processing of the communication with the HFM library is proposed. \n",
    "This is referred to as a smart run."
   ]
  },
  {
   "cell_type": "code",
   "execution_count": 12,
   "metadata": {
    "execution": {
     "iopub.execute_input": "2021-12-09T21:54:56.614988Z",
     "iopub.status.busy": "2021-12-09T21:54:56.614268Z",
     "iopub.status.idle": "2021-12-09T21:54:56.619555Z",
     "shell.execute_reply": "2021-12-09T21:54:56.620092Z"
    }
   },
   "outputs": [],
   "source": [
    "hfmInS = Eikonal.dictIn({**hfmIn,'mode':'cpu'})\n",
    "riemann = Metrics.Riemann.from_diagonal([1./sig**2,2./sig**2])\n",
    "hfmInS['metric'] = riemann"
   ]
  },
  {
   "cell_type": "code",
   "execution_count": 13,
   "metadata": {
    "execution": {
     "iopub.execute_input": "2021-12-09T21:54:56.624350Z",
     "iopub.status.busy": "2021-12-09T21:54:56.623710Z",
     "iopub.status.idle": "2021-12-09T21:54:56.708102Z",
     "shell.execute_reply": "2021-12-09T21:54:56.708637Z"
    }
   },
   "outputs": [
    {
     "name": "stdout",
     "output_type": "stream",
     "text": [
      "Field verbosity defaults to 1\n",
      "Field seedRadius defaults to 0\n",
      "Fast marching solver completed in 0.018723 s.\n",
      "Field geodesicSolver defaults to Discrete\n",
      "Field geodesicStep defaults to 0.25\n",
      "Field geodesicWeightThreshold defaults to 0.001\n",
      "Field geodesicVolumeBound defaults to 8.45\n"
     ]
    }
   ],
   "source": [
    "hfmOutS = hfmInS.Run()"
   ]
  },
  {
   "cell_type": "markdown",
   "metadata": {},
   "source": [
    "The geodesics are returned as a list of arrays, with appropriate shape."
   ]
  },
  {
   "cell_type": "code",
   "execution_count": 14,
   "metadata": {
    "execution": {
     "iopub.execute_input": "2021-12-09T21:54:56.732989Z",
     "iopub.status.busy": "2021-12-09T21:54:56.719676Z",
     "iopub.status.idle": "2021-12-09T21:54:56.906382Z",
     "shell.execute_reply": "2021-12-09T21:54:56.906888Z"
    }
   },
   "outputs": [
    {
     "data": {
      "image/png": "[encoded data removed]",
      "text/plain": [
       "<Figure size 432x216 with 1 Axes>"
      ]
     },
     "metadata": {
      "needs_background": "light"
     },
     "output_type": "display_data"
    }
   ],
   "source": [
    "fig = plt.figure(figsize=[6,3]); plt.title('Fisher-Rao distance and minimal geodesics'); plt.axis('equal'); \n",
    "plt.contourf(mu,sig,hfmOutS['values'],cmap='Greys',levels=np.linspace(0,3,7));  # Display the value function. \n",
    "\n",
    "for geo in hfmOutS['geodesics']:  plt.plot(*geo)"
   ]
  },
  {
   "cell_type": "markdown",
   "metadata": {},
   "source": [
    "## 2. Saving data\n",
    "\n",
    "One can save in a file the data fed to HFMUtils library, in a format that can be directly read by the FileHFM library. This is particularly useful for debugging the C++ library.\n",
    "\n",
    "\n",
    "The following functions export and import raw data."
   ]
  },
  {
   "cell_type": "code",
   "execution_count": 15,
   "metadata": {
    "execution": {
     "iopub.execute_input": "2021-12-09T21:54:56.911135Z",
     "iopub.status.busy": "2021-12-09T21:54:56.910558Z",
     "iopub.status.idle": "2021-12-09T21:54:56.912834Z",
     "shell.execute_reply": "2021-12-09T21:54:56.913314Z"
    }
   },
   "outputs": [],
   "source": [
    "from agd.Eikonal.FileIO import RawToFiles,FilesToRaw"
   ]
  },
  {
   "cell_type": "markdown",
   "metadata": {},
   "source": [
    "### 2.1 Exporting raw data"
   ]
  },
  {
   "cell_type": "code",
   "execution_count": 16,
   "metadata": {
    "execution": {
     "iopub.execute_input": "2021-12-09T21:54:56.917915Z",
     "iopub.status.busy": "2021-12-09T21:54:56.917283Z",
     "iopub.status.idle": "2021-12-09T21:54:56.920006Z",
     "shell.execute_reply": "2021-12-09T21:54:56.920503Z"
    }
   },
   "outputs": [
    {
     "name": "stdout",
     "output_type": "stream",
     "text": [
      "Help on function RawToFiles in module agd.Eikonal.FileIO:\n",
      "\n",
      "RawToFiles(params, prefix='input')\n",
      "    Exports a dictionary to a pair of files, whose name begins with 'prefix'.\n",
      "    The dictionnary elements must by strings, scalars, and numpy arrays.\n",
      "    The resulting files are readable by the HFM library.\n",
      "\n"
     ]
    }
   ],
   "source": [
    "help(RawToFiles)"
   ]
  },
  {
   "cell_type": "code",
   "execution_count": 17,
   "metadata": {
    "execution": {
     "iopub.execute_input": "2021-12-09T21:54:56.925116Z",
     "iopub.status.busy": "2021-12-09T21:54:56.924318Z",
     "iopub.status.idle": "2021-12-09T21:54:56.926651Z",
     "shell.execute_reply": "2021-12-09T21:54:56.927328Z"
    }
   },
   "outputs": [],
   "source": [
    "dataDir = \"InPreparation/SmartIO\"\n",
    "if os.path.isfile('Notebooks_FMM/SmartIO.ipynb'): dataDir = os.path.join('Notebooks_FMM',dataDir)"
   ]
  },
  {
   "cell_type": "code",
   "execution_count": 18,
   "metadata": {
    "execution": {
     "iopub.execute_input": "2021-12-09T21:54:56.932356Z",
     "iopub.status.busy": "2021-12-09T21:54:56.931662Z",
     "iopub.status.idle": "2021-12-09T21:54:56.941017Z",
     "shell.execute_reply": "2021-12-09T21:54:56.941576Z"
    }
   },
   "outputs": [],
   "source": [
    "RawToFiles(hfmIn,os.path.join(dataDir,\"myinput\"))\n",
    "RawToFiles(hfmOut,os.path.join(dataDir,\"myoutput\"))"
   ]
  },
  {
   "cell_type": "code",
   "execution_count": 19,
   "metadata": {
    "execution": {
     "iopub.execute_input": "2021-12-09T21:54:56.947445Z",
     "iopub.status.busy": "2021-12-09T21:54:56.946248Z",
     "iopub.status.idle": "2021-12-09T21:54:56.953165Z",
     "shell.execute_reply": "2021-12-09T21:54:56.952581Z"
    }
   },
   "outputs": [
    {
     "data": {
      "text/plain": [
       "['myoutput_Format.txt',\n",
       " 'myoutput_Data.dat',\n",
       " 'myinput_Data.dat',\n",
       " 'myinput_Format.txt']"
      ]
     },
     "execution_count": 19,
     "metadata": {},
     "output_type": "execute_result"
    }
   ],
   "source": [
    "os.listdir(dataDir)"
   ]
  },
  {
   "cell_type": "markdown",
   "metadata": {},
   "source": [
    "### 2.2 Importing raw data"
   ]
  },
  {
   "cell_type": "code",
   "execution_count": 20,
   "metadata": {
    "execution": {
     "iopub.execute_input": "2021-12-09T21:54:56.958088Z",
     "iopub.status.busy": "2021-12-09T21:54:56.957326Z",
     "iopub.status.idle": "2021-12-09T21:54:56.960705Z",
     "shell.execute_reply": "2021-12-09T21:54:56.961259Z"
    }
   },
   "outputs": [
    {
     "name": "stdout",
     "output_type": "stream",
     "text": [
      "Help on function FilesToRaw in module agd.Eikonal.FileIO:\n",
      "\n",
      "FilesToRaw(prefix='output')\n",
      "    Imports a pair of files, whose name begins with 'prefix', into a dictionary.\n",
      "    These files may be produced by the HFM library.\n",
      "\n"
     ]
    }
   ],
   "source": [
    "help(FilesToRaw)"
   ]
  },
  {
   "cell_type": "code",
   "execution_count": 21,
   "metadata": {
    "execution": {
     "iopub.execute_input": "2021-12-09T21:54:56.969127Z",
     "iopub.status.busy": "2021-12-09T21:54:56.968476Z",
     "iopub.status.idle": "2021-12-09T21:54:56.971226Z",
     "shell.execute_reply": "2021-12-09T21:54:56.970681Z"
    }
   },
   "outputs": [],
   "source": [
    "def npdict_equal(dict0,dict1):\n",
    "    \"\"\"Tests if two dictionnaries, containing numpy arrays, are equal.\n",
    "    CPU time reports are ignored, as well as log.\"\"\"\n",
    "    if dict0.keys()!=dict1.keys(): return False,\"keys\"\n",
    "\n",
    "    for key in dict0:\n",
    "        if isinstance(dict0[key],np.ndarray):\n",
    "            if not np.array_equiv(dict0[key],dict1[key]): return False,key\n",
    "        elif key.endswith(\"CPUTime\") or key=='log':\n",
    "            pass\n",
    "        else:\n",
    "            if not dict0[key]==dict1[key]: return False,key\n",
    "    return True"
   ]
  },
  {
   "cell_type": "code",
   "execution_count": 22,
   "metadata": {
    "execution": {
     "iopub.execute_input": "2021-12-09T21:54:56.976317Z",
     "iopub.status.busy": "2021-12-09T21:54:56.975668Z",
     "iopub.status.idle": "2021-12-09T21:54:56.981682Z",
     "shell.execute_reply": "2021-12-09T21:54:56.981125Z"
    }
   },
   "outputs": [],
   "source": [
    "assert npdict_equal(hfmIn,FilesToRaw(os.path.join(dataDir,\"myinput\")))\n",
    "assert npdict_equal(hfmOut,FilesToRaw(os.path.join(dataDir,\"myoutput\")))"
   ]
  },
  {
   "cell_type": "markdown",
   "metadata": {},
   "source": [
    "### 2.3 Turning smart input into raw input"
   ]
  },
  {
   "cell_type": "markdown",
   "metadata": {},
   "source": [
    "The input fields to a smart run often involve types which cannot be exported with the `FileIO` library. In addition, the resulting files cannot be read by the HFM binary executables. However, a smart run can be early aborted to either:\n",
    "- return the raw input\n",
    "- return the raw output\n",
    "\n",
    "The resulting raw data can be saved as in the previous subsection, and processed by the HFM executables."
   ]
  },
  {
   "cell_type": "code",
   "execution_count": 23,
   "metadata": {
    "execution": {
     "iopub.execute_input": "2021-12-09T21:54:56.988154Z",
     "iopub.status.busy": "2021-12-09T21:54:56.987268Z",
     "iopub.status.idle": "2021-12-09T21:54:57.081845Z",
     "shell.execute_reply": "2021-12-09T21:54:57.082352Z"
    }
   },
   "outputs": [
    {
     "name": "stdout",
     "output_type": "stream",
     "text": [
      "Field verbosity defaults to 1\n",
      "Field seedRadius defaults to 0\n",
      "Fast marching solver completed in 0.022761 s.\n",
      "Field geodesicSolver defaults to Discrete\n",
      "Field geodesicStep defaults to 0.25\n",
      "Field geodesicWeightThreshold defaults to 0.001\n",
      "Field geodesicVolumeBound defaults to 8.45\n"
     ]
    }
   ],
   "source": [
    "hfmInR = hfmInS.Run(returns='in_raw')\n",
    "hfmOutR = hfmInS.Run(returns='out_raw')"
   ]
  },
  {
   "cell_type": "code",
   "execution_count": 24,
   "metadata": {
    "execution": {
     "iopub.execute_input": "2021-12-09T21:54:57.087193Z",
     "iopub.status.busy": "2021-12-09T21:54:57.086634Z",
     "iopub.status.idle": "2021-12-09T21:54:57.088917Z",
     "shell.execute_reply": "2021-12-09T21:54:57.089403Z"
    }
   },
   "outputs": [],
   "source": [
    "assert(npdict_equal(hfmInR,hfmIn))\n",
    "assert(npdict_equal(hfmOutR,hfmOut))"
   ]
  },
  {
   "cell_type": "markdown",
   "metadata": {},
   "source": [
    "## 3. Input dictionary\n",
    "\n",
    "We use as input a dictionary like structure, with a few additional functions."
   ]
  },
  {
   "cell_type": "code",
   "execution_count": 25,
   "metadata": {
    "execution": {
     "iopub.execute_input": "2021-12-09T21:54:57.093107Z",
     "iopub.status.busy": "2021-12-09T21:54:57.092566Z",
     "iopub.status.idle": "2021-12-09T21:54:57.094799Z",
     "shell.execute_reply": "2021-12-09T21:54:57.095248Z"
    }
   },
   "outputs": [],
   "source": [
    "hfmIn = Eikonal.dictIn()"
   ]
  },
  {
   "cell_type": "markdown",
   "metadata": {},
   "source": [
    "The `dictIn` class holds an instance of a python dictionary."
   ]
  },
  {
   "cell_type": "code",
   "execution_count": 26,
   "metadata": {
    "execution": {
     "iopub.execute_input": "2021-12-09T21:54:57.099814Z",
     "iopub.status.busy": "2021-12-09T21:54:57.099260Z",
     "iopub.status.idle": "2021-12-09T21:54:57.102208Z",
     "shell.execute_reply": "2021-12-09T21:54:57.102662Z"
    }
   },
   "outputs": [
    {
     "data": {
      "text/plain": [
       "True"
      ]
     },
     "execution_count": 26,
     "metadata": {},
     "output_type": "execute_result"
    }
   ],
   "source": [
    "isinstance(hfmIn.store,dict)"
   ]
  },
  {
   "cell_type": "code",
   "execution_count": 27,
   "metadata": {
    "execution": {
     "iopub.execute_input": "2021-12-09T21:54:57.106828Z",
     "iopub.status.busy": "2021-12-09T21:54:57.106289Z",
     "iopub.status.idle": "2021-12-09T21:54:57.108374Z",
     "shell.execute_reply": "2021-12-09T21:54:57.108816Z"
    }
   },
   "outputs": [],
   "source": [
    "hfmIn['model'] = 'Riemann2'\n",
    "hfmIn['seed'] = [0,0.3]\n",
    "hfmIn['exportValues'] = True"
   ]
  },
  {
   "cell_type": "markdown",
   "metadata": {},
   "source": [
    "The single `seed`, is converted to a list of `seeds`, and the corresponding value is cast to a numpy array."
   ]
  },
  {
   "cell_type": "code",
   "execution_count": 28,
   "metadata": {
    "execution": {
     "iopub.execute_input": "2021-12-09T21:54:57.113413Z",
     "iopub.status.busy": "2021-12-09T21:54:57.112724Z",
     "iopub.status.idle": "2021-12-09T21:54:57.115703Z",
     "shell.execute_reply": "2021-12-09T21:54:57.116185Z"
    }
   },
   "outputs": [
    {
     "data": {
      "text/plain": [
       "dictIn({'arrayOrdering': 'RowMajor', 'model': 'Riemann2', 'seeds': array([[0. , 0.3]]), 'exportValues': True})"
      ]
     },
     "execution_count": 28,
     "metadata": {},
     "output_type": "execute_result"
    }
   ],
   "source": [
    "hfmIn"
   ]
  },
  {
   "cell_type": "markdown",
   "metadata": {},
   "source": [
    "Some of the commonly used functions of the module HFMUtils are provided as members methods."
   ]
  },
  {
   "cell_type": "code",
   "execution_count": 29,
   "metadata": {
    "execution": {
     "iopub.execute_input": "2021-12-09T21:54:57.121288Z",
     "iopub.status.busy": "2021-12-09T21:54:57.120775Z",
     "iopub.status.idle": "2021-12-09T21:54:57.123664Z",
     "shell.execute_reply": "2021-12-09T21:54:57.123232Z"
    }
   },
   "outputs": [],
   "source": [
    "n=100\n",
    "hfmIn.SetRect(sides=[[-2,2],[0,1]],dimx=4*n) # Equivalent : hfmIn.update(HFMUtils.Rect(...))\n",
    "mu,sig = hfmIn.Grid() # Equivalent : HFMUtils.GetGrid(hfmIn)"
   ]
  },
  {
   "cell_type": "code",
   "execution_count": 30,
   "metadata": {
    "execution": {
     "iopub.execute_input": "2021-12-09T21:54:57.127394Z",
     "iopub.status.busy": "2021-12-09T21:54:57.126871Z",
     "iopub.status.idle": "2021-12-09T21:54:57.130812Z",
     "shell.execute_reply": "2021-12-09T21:54:57.131244Z"
    }
   },
   "outputs": [],
   "source": [
    "hfmIn['metric'] = Metrics.Riemann.from_diagonal([1./sig**2,2./sig**2])"
   ]
  },
  {
   "cell_type": "code",
   "execution_count": 31,
   "metadata": {
    "execution": {
     "iopub.execute_input": "2021-12-09T21:54:57.134364Z",
     "iopub.status.busy": "2021-12-09T21:54:57.133246Z",
     "iopub.status.idle": "2021-12-09T21:54:57.205360Z",
     "shell.execute_reply": "2021-12-09T21:54:57.205802Z"
    }
   },
   "outputs": [
    {
     "name": "stdout",
     "output_type": "stream",
     "text": [
      "Field verbosity defaults to 1\n",
      "Field order defaults to 1\n",
      "Field seedRadius defaults to 0\n",
      "Fast marching solver completed in 0.01478 s.\n"
     ]
    }
   ],
   "source": [
    "hfmOut = hfmIn.Run() # Equivalent : HFMUtils.Run(hfmIn,smart=true)"
   ]
  },
  {
   "cell_type": "markdown",
   "metadata": {},
   "source": [
    "## 4. Caching data\n",
    "\n",
    "It is often adequate to run several times the HFM library on data that produces the same `values`. \n",
    "Indeed the solution to the discretized eikonal equation does not depend on:\n",
    "- the tips from which the geodesics are backtracked.\n",
    "- the variation or sensitivity fields related with automatic differentiation.\n",
    "\n",
    "In order to save computation time, it is possible in the the subsequent runs to avoid recomputing the solution, by caching appropriate data: the solution, and some stencil information. \n",
    "\n",
    "Note: the HFM library will always rely the cached data, and will not check wether the solution should change - a.k.a if the seeds, cost function or metric, seeds, order, factorization method, etc have changed between runs."
   ]
  },
  {
   "cell_type": "code",
   "execution_count": 32,
   "metadata": {
    "execution": {
     "iopub.execute_input": "2021-12-09T21:54:57.210371Z",
     "iopub.status.busy": "2021-12-09T21:54:57.209857Z",
     "iopub.status.idle": "2021-12-09T21:54:57.273135Z",
     "shell.execute_reply": "2021-12-09T21:54:57.273803Z"
    }
   },
   "outputs": [
    {
     "name": "stdout",
     "output_type": "stream",
     "text": [
      "Requesting cacheable data\n",
      "Field verbosity defaults to 1\n",
      "Field order defaults to 1\n",
      "Field seedRadius defaults to 0\n",
      "Fast marching solver completed in 0.012768 s.\n",
      "Filling cache data\n"
     ]
    }
   ],
   "source": [
    "cache = Eikonal.Cache()\n",
    "hfmOut = hfmIn.Run(cache=cache)"
   ]
  },
  {
   "cell_type": "markdown",
   "metadata": {},
   "source": [
    "Some basic output data of the HFM algorithm is saved."
   ]
  },
  {
   "cell_type": "code",
   "execution_count": 33,
   "metadata": {
    "execution": {
     "iopub.execute_input": "2021-12-09T21:54:57.279511Z",
     "iopub.status.busy": "2021-12-09T21:54:57.278888Z",
     "iopub.status.idle": "2021-12-09T21:54:57.282007Z",
     "shell.execute_reply": "2021-12-09T21:54:57.282467Z"
    }
   },
   "outputs": [
    {
     "data": {
      "text/plain": [
       "dict_keys(['values', 'activeNeighs'])"
      ]
     },
     "execution_count": 33,
     "metadata": {},
     "output_type": "execute_result"
    }
   ],
   "source": [
    "cache.contents.keys()"
   ]
  },
  {
   "cell_type": "markdown",
   "metadata": {},
   "source": [
    "We forgot to ask for the geodesics. Lets get them now."
   ]
  },
  {
   "cell_type": "code",
   "execution_count": 34,
   "metadata": {
    "execution": {
     "iopub.execute_input": "2021-12-09T21:54:57.286693Z",
     "iopub.status.busy": "2021-12-09T21:54:57.286157Z",
     "iopub.status.idle": "2021-12-09T21:54:57.357123Z",
     "shell.execute_reply": "2021-12-09T21:54:57.356546Z"
    }
   },
   "outputs": [
    {
     "name": "stdout",
     "output_type": "stream",
     "text": [
      "Providing cached data\n",
      "Field verbosity defaults to 1\n",
      "Field order defaults to 1\n",
      "Field seedRadius defaults to 0\n",
      "Bypassing fast marching solver based on cached data.\n",
      "Field geodesicStep defaults to 0.25\n",
      "Field geodesicCausalityTolerance defaults to 4\n",
      "Field geodesicTargetTolerance defaults to 6\n"
     ]
    }
   ],
   "source": [
    "hfmIn['tips']=tips\n",
    "hfmIn['geodesicSolver']='ODE'\n",
    "hfmOut = hfmIn.Run(cache=cache)"
   ]
  },
  {
   "cell_type": "code",
   "execution_count": 35,
   "metadata": {
    "execution": {
     "iopub.execute_input": "2021-12-09T21:54:57.380484Z",
     "iopub.status.busy": "2021-12-09T21:54:57.368005Z",
     "iopub.status.idle": "2021-12-09T21:54:57.564408Z",
     "shell.execute_reply": "2021-12-09T21:54:57.563904Z"
    }
   },
   "outputs": [
    {
     "data": {
      "image/png": "[encoded data removed]",
      "text/plain": [
       "<Figure size 432x216 with 1 Axes>"
      ]
     },
     "metadata": {
      "needs_background": "light"
     },
     "output_type": "display_data"
    }
   ],
   "source": [
    "fig = plt.figure(figsize=[6,3]); plt.title('Fisher-Rao distance and minimal geodesics'); plt.axis('equal'); \n",
    "plt.contourf(mu,sig,hfmOut['values'],cmap='Greys',levels=np.linspace(0,3,7));  # Display the value function. \n",
    "for geo in hfmOut['geodesics']:  plt.plot(*geo)"
   ]
  },
  {
   "cell_type": "code",
   "execution_count": null,
   "metadata": {},
   "outputs": [],
   "source": []
  }
 ],
 "metadata": {
  "kernelspec": {
   "display_name": "Python 3",
   "language": "python",
   "name": "python3"
  },
  "language_info": {
   "codemirror_mode": {
    "name": "ipython",
    "version": 3
   },
   "file_extension": ".py",
   "mimetype": "text/x-python",
   "name": "python",
   "nbconvert_exporter": "python",
   "pygments_lexer": "ipython3",
   "version": "3.9.7"
  }
 },
 "nbformat": 4,
 "nbformat_minor": 2
}

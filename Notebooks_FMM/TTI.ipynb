{
 "cells": [
  {
   "cell_type": "markdown",
   "metadata": {},
   "source": [
    "# The HFM library - A fast marching solver with adaptive stencils\n",
    "\n",
    "## Part : Seismology and crystallography\n",
    "## Chapter : Tilted transversally isotropic metrics"
   ]
  },
  {
   "cell_type": "markdown",
   "metadata": {},
   "source": [
    "In this notebook, we demonstrate anisotropic fast marching with a class of metrics arising in seismic traveltime tomography. \n",
    "The intended use cases are fairly similar to [metrics defined by a Hooke tensor](Seismic.ipynb), which illustrates a closely related model. Under the hood, however, we use a completely different implementation.\n",
    "\n",
    "**Tilted transversally isotropic models.**\n",
    "We consider eikonal equations of the following form \n",
    "$$\n",
    "    l(X^2+Y^2,Z^2) + q(X^2+Y^2,Z^2) = 1\n",
    "$$\n",
    "where $l$ is a linear form, and $q$ a quadratic form, and where \n",
    "$$\n",
    "    (X,Y,Z) = A \\nabla u\n",
    "$$\n",
    "for some linear transformation $A$. In dimension two, simply ignore the $Y$ coordinate.\n",
    "\n",
    "Some algebraic conditions are required on $l$ and $q$ for this equation to make sense. On the other hand, the linear map $A$ is arbitrary.\n",
    "In the special case where $q=0$, one recovers a Riemannian eikonal equation.\n",
    "\n",
    "The numerical scheme is based on rewriting this equation as an extremum of a family of Riemannian eikonal equations, in the form\n",
    "$$\n",
    "    \\max_{t \\in [0,1]} \\|\\nabla u\\|_{D(t)} = 1, \n",
    "$$\n",
    "where $D(t)$ depends on the parameters $l$,$q$ and $A$, in addition to $t$. From this point, one can rely on the Eulerian discretization of [Riemannian eikonal equations](Riemannian.ipynb)."
   ]
  },
  {
   "cell_type": "markdown",
   "metadata": {},
   "source": [
    "[**Summary**](Summary.ipynb) of volume Fast Marching Methods, this series of notebooks.\n",
    "\n",
    "[**Main summary**](../Summary.ipynb) of the Adaptive Grid Discretizations \n",
    "\tbook of notebooks, including the other volumes.\n",
    "\n",
    "# Table of contents\n",
    "  * [1. Two dimensions](#1.-Two-dimensions)\n",
    "    * [1.1 Induced norm](#1.1-Induced-norm)\n",
    "    * [1.2 Fast marching method](#1.2-Fast-marching-method)\n",
    "    * [1.3 Construction from Thomsen parameters, and comparison with a Hooke tensor norm](#1.3-Construction-from-Thomsen-parameters,-and-comparison-with-a-Hooke-tensor-norm)\n",
    "    * [1.4 Taking into account the topography](#1.4-Taking-into-account-the-topography)\n",
    "  * [2 Three dimensions](#2-Three-dimensions)\n",
    "    * [2.1 Constant metric](#2.1-Constant-metric)\n",
    "    * [2.2 Varying metric](#2.2-Varying-metric)\n",
    "  * [3 Building a model from an array of Thomsen parameters](#3-Building-a-model-from-an-array-of-Thomsen-parameters)\n",
    "    * [3.1 Hexagonal materials and Thomsen's parameter $\\delta$](#3.1-Hexagonal-materials-and-Thomsen's-parameter-$\\delta$)\n",
    "    * [3.2 A numerical example, with the TTI eikonal solver](#3.2-A-numerical-example,-with-the-TTI-eikonal-solver)\n",
    "    * [3.3 Using the Hooke eikonal solver](#3.3-Using-the-Hooke-eikonal-solver)\n",
    "\n",
    "\n",
    "\n",
    "This Python&reg; notebook is intended as documentation and testing for the [HamiltonFastMarching (HFM) library](https://github.com/mirebeau/HamiltonFastMarching), which also has interfaces to the Matlab&reg; and Mathematica&reg; languages. \n",
    "More information on the HFM library in the manuscript:\n",
    "* Jean-Marie Mirebeau, Jorg Portegies, \"Hamiltonian Fast Marching: A numerical solver for anisotropic and non-holonomic eikonal PDEs\", 2019 [(link)](https://hal.archives-ouvertes.fr/hal-01778322)\n",
    "\n",
    "Copyright Jean-Marie Mirebeau, University Paris-Sud, CNRS, University Paris-Saclay"
   ]
  },
  {
   "cell_type": "markdown",
   "metadata": {},
   "source": [
    "## 0. Importing the required libraries"
   ]
  },
  {
   "cell_type": "code",
   "execution_count": 1,
   "metadata": {
    "execution": {
     "iopub.execute_input": "2021-12-09T21:54:00.309140Z",
     "iopub.status.busy": "2021-12-09T21:54:00.308562Z",
     "iopub.status.idle": "2021-12-09T21:54:00.312347Z",
     "shell.execute_reply": "2021-12-09T21:54:00.311836Z"
    }
   },
   "outputs": [],
   "source": [
    "import sys; sys.path.insert(0,\"..\") # Allow import of agd from parent directory (useless if conda package installed)\n",
    "#from Miscellaneous import TocTools; print(TocTools.displayTOC('TTI','FMM'))"
   ]
  },
  {
   "cell_type": "code",
   "execution_count": 2,
   "metadata": {
    "execution": {
     "iopub.execute_input": "2021-12-09T21:54:00.316675Z",
     "iopub.status.busy": "2021-12-09T21:54:00.316152Z",
     "iopub.status.idle": "2021-12-09T21:54:01.415847Z",
     "shell.execute_reply": "2021-12-09T21:54:01.416295Z"
    }
   },
   "outputs": [],
   "source": [
    "from agd import Eikonal\n",
    "from agd import LinearParallel as lp\n",
    "from agd.Metrics import Seismic \n",
    "from agd import AutomaticDifferentiation as ad\n",
    "from agd.Plotting import savefig; #savefig.dirName = 'Images/TTI'\n",
    "norm_infinity = ad.Optimization.norm_infinity\n",
    "mica = Seismic.TTI.mica[0]"
   ]
  },
  {
   "cell_type": "code",
   "execution_count": 3,
   "metadata": {
    "execution": {
     "iopub.execute_input": "2021-12-09T21:54:01.421343Z",
     "iopub.status.busy": "2021-12-09T21:54:01.420776Z",
     "iopub.status.idle": "2021-12-09T21:54:01.422651Z",
     "shell.execute_reply": "2021-12-09T21:54:01.423070Z"
    }
   },
   "outputs": [],
   "source": [
    "import numpy as np; xp=np\n",
    "#import scipy.linalg\n",
    "#from copy import copy\n",
    "%matplotlib inline\n",
    "import matplotlib.pyplot as plt"
   ]
  },
  {
   "cell_type": "code",
   "execution_count": 4,
   "metadata": {
    "execution": {
     "iopub.execute_input": "2021-12-09T21:54:01.427313Z",
     "iopub.status.busy": "2021-12-09T21:54:01.426808Z",
     "iopub.status.idle": "2021-12-09T21:54:01.428713Z",
     "shell.execute_reply": "2021-12-09T21:54:01.429129Z"
    }
   },
   "outputs": [],
   "source": [
    "def ReloadPackages():\n",
    "    from Miscellaneous.rreload import rreload\n",
    "    global Eikonal,ad,lp,Seismic\n",
    "    Eikonal,ad,lp,Seismic = rreload([Eikonal,ad,lp,Seismic],rootdir=\"../..\")"
   ]
  },
  {
   "cell_type": "markdown",
   "metadata": {},
   "source": [
    "### 0.1 Optional configuration"
   ]
  },
  {
   "cell_type": "code",
   "execution_count": 5,
   "metadata": {
    "execution": {
     "iopub.execute_input": "2021-12-09T21:54:01.432531Z",
     "iopub.status.busy": "2021-12-09T21:54:01.432003Z",
     "iopub.status.idle": "2021-12-09T21:54:01.434532Z",
     "shell.execute_reply": "2021-12-09T21:54:01.434092Z"
    },
    "tags": [
     "EikonalGPU_config"
    ]
   },
   "outputs": [],
   "source": [
    "#xp,plt,Eikonal,mica = map(ad.cupy_friendly,(xp,plt,Eikonal,mica))"
   ]
  },
  {
   "cell_type": "markdown",
   "metadata": {},
   "source": [
    "## 1. Two dimensions"
   ]
  },
  {
   "cell_type": "markdown",
   "metadata": {},
   "source": [
    "### 1.1 Induced norm"
   ]
  },
  {
   "cell_type": "code",
   "execution_count": 6,
   "metadata": {
    "execution": {
     "iopub.execute_input": "2021-12-09T21:54:01.440424Z",
     "iopub.status.busy": "2021-12-09T21:54:01.439914Z",
     "iopub.status.idle": "2021-12-09T21:54:01.441971Z",
     "shell.execute_reply": "2021-12-09T21:54:01.442427Z"
    }
   },
   "outputs": [],
   "source": [
    "n=50\n",
    "hfmIn = Eikonal.dictIn({\n",
    "    'model':'TTI2',\n",
    "    'exportValues':1,\n",
    "    'seed':[0.,0.],\n",
    "    'factoringRadius':-1, # Source factorization over the whole domain\n",
    "    'order':2\n",
    "})\n",
    "w=1\n",
    "hfmIn.SetRect(sides=[[-w,w],[-w,w]],dimx=2*n+1,sampleBoundary=True) # Define the domain\n",
    "X = hfmIn.Grid() # Horizontal and vertical axis"
   ]
  },
  {
   "cell_type": "markdown",
   "metadata": {},
   "source": [
    "The metric constructor takes as input the linear form $l$, and the quadratic form $q$, presented as a symmetric matrix (not necessarily positive definite)."
   ]
  },
  {
   "cell_type": "code",
   "execution_count": 7,
   "metadata": {
    "execution": {
     "iopub.execute_input": "2021-12-09T21:54:01.446939Z",
     "iopub.status.busy": "2021-12-09T21:54:01.446431Z",
     "iopub.status.idle": "2021-12-09T21:54:01.448554Z",
     "shell.execute_reply": "2021-12-09T21:54:01.449009Z"
    }
   },
   "outputs": [],
   "source": [
    "metric = Seismic.TTI([1.,2.],[[0.,0.2],[0.2,0.]],vdim=2).rotate_by(0.5)\n",
    "hfmIn['metric'] = metric"
   ]
  },
  {
   "cell_type": "code",
   "execution_count": 8,
   "metadata": {
    "execution": {
     "iopub.execute_input": "2021-12-09T21:54:01.459451Z",
     "iopub.status.busy": "2021-12-09T21:54:01.458920Z",
     "iopub.status.idle": "2021-12-09T21:54:01.806008Z",
     "shell.execute_reply": "2021-12-09T21:54:01.806862Z"
    }
   },
   "outputs": [
    {
     "data": {
      "image/png": "[encoded data removed]",
      "text/plain": [
       "<Figure size 432x288 with 1 Axes>"
      ]
     },
     "metadata": {
      "needs_background": "light"
     },
     "output_type": "display_data"
    }
   ],
   "source": [
    "plt.title(\"Level sets of a non-elliptical norm\"); plt.axis('equal')\n",
    "plt.contour(*X,metric.norm(X));"
   ]
  },
  {
   "cell_type": "markdown",
   "metadata": {},
   "source": [
    "As described in the introduction, the dual unit ball of a TTI norm is defined by a quartic equation.\n",
    "We rely on a sequential quadratic programming approach to solve this equation, and check below that it is satisfied in the end."
   ]
  },
  {
   "cell_type": "code",
   "execution_count": 9,
   "metadata": {
    "execution": {
     "iopub.execute_input": "2021-12-09T21:54:01.821713Z",
     "iopub.status.busy": "2021-12-09T21:54:01.819788Z",
     "iopub.status.idle": "2021-12-09T21:54:01.824960Z",
     "shell.execute_reply": "2021-12-09T21:54:01.825510Z"
    }
   },
   "outputs": [
    {
     "name": "stdout",
     "output_type": "stream",
     "text": [
      "v=[0. 1.], grad=[0.24019447 0.76738101], lvl=-2.220446049250313e-16\n"
     ]
    }
   ],
   "source": [
    "v=xp.array((0.,1.))\n",
    "grad = metric.gradient(v)\n",
    "a=lp.transpose(lp.inverse(metric.inverse_transformation))\n",
    "lvl = metric._dual_level(lp.dot_AV(a,grad))\n",
    "print(f\"v={v}, grad={grad}, lvl={lvl}\")\n",
    "assert np.abs(lvl)<1e-6"
   ]
  },
  {
   "cell_type": "markdown",
   "metadata": {},
   "source": [
    "### 1.2 Fast marching method"
   ]
  },
  {
   "cell_type": "code",
   "execution_count": 10,
   "metadata": {
    "execution": {
     "iopub.execute_input": "2021-12-09T21:54:01.830060Z",
     "iopub.status.busy": "2021-12-09T21:54:01.829401Z",
     "iopub.status.idle": "2021-12-09T21:54:01.904274Z",
     "shell.execute_reply": "2021-12-09T21:54:01.904753Z"
    }
   },
   "outputs": [
    {
     "name": "stdout",
     "output_type": "stream",
     "text": [
      "Field verbosity defaults to 1\n",
      "Field seedRadius defaults to 2\n",
      "Field factoringPointChoice defaults to Seed\n",
      "Field exportFactoring defaults to 0\n",
      "Fast marching solver completed in 0.036386 s.\n"
     ]
    }
   ],
   "source": [
    "hfmOut = hfmIn.Run()"
   ]
  },
  {
   "cell_type": "code",
   "execution_count": 11,
   "metadata": {
    "execution": {
     "iopub.execute_input": "2021-12-09T21:54:01.958481Z",
     "iopub.status.busy": "2021-12-09T21:54:01.957254Z",
     "iopub.status.idle": "2021-12-09T21:54:02.128161Z",
     "shell.execute_reply": "2021-12-09T21:54:02.128663Z"
    }
   },
   "outputs": [
    {
     "data": {
      "image/png": "[encoded data removed]",
      "text/plain": [
       "<Figure size 432x288 with 1 Axes>"
      ]
     },
     "metadata": {
      "needs_background": "light"
     },
     "output_type": "display_data"
    }
   ],
   "source": [
    "plt.axis('equal')\n",
    "plt.contourf(*X,hfmOut['values']);"
   ]
  },
  {
   "cell_type": "code",
   "execution_count": 12,
   "metadata": {
    "execution": {
     "iopub.execute_input": "2021-12-09T21:54:02.133159Z",
     "iopub.status.busy": "2021-12-09T21:54:02.132549Z",
     "iopub.status.idle": "2021-12-09T21:54:02.287623Z",
     "shell.execute_reply": "2021-12-09T21:54:02.288120Z"
    }
   },
   "outputs": [],
   "source": [
    "assert norm_infinity(hfmOut['values']-metric.norm(X)) < 0.01"
   ]
  },
  {
   "cell_type": "code",
   "execution_count": 13,
   "metadata": {
    "execution": {
     "iopub.execute_input": "2021-12-09T21:54:02.291887Z",
     "iopub.status.busy": "2021-12-09T21:54:02.291211Z",
     "iopub.status.idle": "2021-12-09T21:54:02.293595Z",
     "shell.execute_reply": "2021-12-09T21:54:02.294076Z"
    }
   },
   "outputs": [],
   "source": [
    "#plt.axis('equal')\n",
    "#plt.scatter(*hfmOut['spreadedSeeds'].T)\n",
    "#plt.scatter(0,0)"
   ]
  },
  {
   "cell_type": "markdown",
   "metadata": {},
   "source": [
    "### 1.3 Construction from Thomsen parameters, and comparison with a Hooke tensor norm\n",
    "\n",
    "Some examples of elastic materials, transversally isotropic, are reproduced from (Thomsen, 1986). \n",
    "The can be handled by TTI norms, as well as by the more general norms defined by a full Hooke tensor."
   ]
  },
  {
   "cell_type": "code",
   "execution_count": 14,
   "metadata": {
    "execution": {
     "iopub.execute_input": "2021-12-09T21:54:02.298854Z",
     "iopub.status.busy": "2021-12-09T21:54:02.298120Z",
     "iopub.status.idle": "2021-12-09T21:54:02.301630Z",
     "shell.execute_reply": "2021-12-09T21:54:02.301127Z"
    }
   },
   "outputs": [
    {
     "data": {
      "text/plain": [
       "odict_keys(['Taylor sandstone', 'Mesaverde (4903) mudshale', 'Mesaverde (4912) immature sandstone', 'Mesaverde (4946) immature sandstone', 'Mesaverde (5469.5) silty sandstone', 'Mesaverde (5481.3) immature sandstone', 'Mesaverde (5501) clayshale', 'Mesaverde (5555.5) immature sandstone', 'Mesaverde (5566.3) laminated siltstone', 'Mesaverde (5837.5) immature sandstone', 'Mesaverde (5858.6) clayshale', 'Mesaverde (6423.6) calcareous sandstone', 'Mesaverde (6455.1) immature sandstone', 'Mesaverde (6542.6) immature sandstone', 'Mesaverde (6563.7) mudshale', 'Mesaverde (7888.4) sandstone', 'Mesaverde (7939.5) mudshale', 'Mesaverde shale (350)', 'Mesaverde sandstone (1582)', 'Mesaverde shale (1599)', 'Mesaverde sandstone (1958)', 'Mesaverde shale (1968)', 'Mesaverde sandstone (3512)', 'Mesaverde shale (3511)', 'Mesaverde sandstone (3805)', 'Mesaverde shale (3883)', 'Dog Creek shale', 'Wills Point shale - 1', 'Wills Point shale - 2', 'Cotton Valley shale', 'Pierre shale - 1', 'Pierre shale - 2', 'Pierre shale - 3', 'shale (5000) - 1', 'shale (5000) - 2', 'Oil Shale', 'Green River shale - 1', 'Green River shale - 2', 'Berea sandstone - 1', 'Berea sandstone - 2', 'Green River shale - 3', 'Lance sandstone', 'Ft. Union siltstone', 'Timber Mtn tuff', 'Muscovite crystal', 'Quartz crystal (hexag. approx.)', 'Calcite crystal (hexag. approx.)', 'Biotite crystal', 'Apatite crystal', 'Ice I crystal', 'Aluminium-lucite composite', 'Sandstone-shale', 'SS-anisotropic shale', 'Limestone-shale', 'LS-anisotropic shale', 'Anisotropic shale', 'Gas sand-water sand', 'Gypsum-weathered material'])"
      ]
     },
     "execution_count": 14,
     "metadata": {},
     "output_type": "execute_result"
    }
   ],
   "source": [
    "th = Seismic.Thomsen\n",
    "th.ThomsenData.keys()"
   ]
  },
  {
   "cell_type": "code",
   "execution_count": 15,
   "metadata": {
    "execution": {
     "iopub.execute_input": "2021-12-09T21:54:02.305505Z",
     "iopub.status.busy": "2021-12-09T21:54:02.304949Z",
     "iopub.status.idle": "2021-12-09T21:54:02.307157Z",
     "shell.execute_reply": "2021-12-09T21:54:02.307640Z"
    }
   },
   "outputs": [],
   "source": [
    "# Set the center point to exactly (0,0), otherwise hooke norm yields NaN with float32\n",
    "if Eikonal.dictIn.default_mode=='gpu': X[:,n,n]=0"
   ]
  },
  {
   "cell_type": "code",
   "execution_count": 16,
   "metadata": {
    "execution": {
     "iopub.execute_input": "2021-12-09T21:54:02.314203Z",
     "iopub.status.busy": "2021-12-09T21:54:02.312652Z",
     "iopub.status.idle": "2021-12-09T21:54:03.202153Z",
     "shell.execute_reply": "2021-12-09T21:54:03.202667Z"
    }
   },
   "outputs": [
    {
     "data": {
      "image/png": "[encoded data removed]",
      "text/plain": [
       "<Figure size 432x288 with 1 Axes>"
      ]
     },
     "metadata": {
      "needs_background": "light"
     },
     "output_type": "display_data"
    }
   ],
   "source": [
    "value = th.ThomsenData['Muscovite crystal']\n",
    "tti   = Seismic.TTI.from_Thomsen(value)[0].extract_xz().rotate_by(0.3)\n",
    "hooke = Seismic.Hooke.from_Thomsen(value)[0].extract_xz().rotate_by(0.3)\n",
    "\n",
    "assert np.allclose(tti.norm(X),hooke.norm(X))\n",
    "plt.title(\"Unit ball for a Thomsen norm\");  plt.axis('equal')\n",
    "plt.contourf(*X,hooke.norm(X));"
   ]
  },
  {
   "cell_type": "markdown",
   "metadata": {},
   "source": [
    "The TTI norm and Hooke tensor norm defined from these models coincide up to machine precision."
   ]
  },
  {
   "cell_type": "code",
   "execution_count": 17,
   "metadata": {
    "execution": {
     "iopub.execute_input": "2021-12-09T21:54:03.209931Z",
     "iopub.status.busy": "2021-12-09T21:54:03.209235Z",
     "iopub.status.idle": "2021-12-09T21:54:04.470618Z",
     "shell.execute_reply": "2021-12-09T21:54:04.471161Z"
    }
   },
   "outputs": [],
   "source": [
    "tested = list(th.ThomsenData.items())[:3]\n",
    "for key,value in tested:\n",
    "    value = xp.asarray(value)\n",
    "    tti   = Seismic.TTI.from_Thomsen(value)[0].extract_xz()\n",
    "    hooke = Seismic.Hooke.from_Thomsen(value)[0].extract_xz()\n",
    "    \n",
    "    assert np.allclose(tti.norm(X),hooke.norm(X),atol=1e-5) # atol for float32"
   ]
  },
  {
   "cell_type": "markdown",
   "metadata": {},
   "source": [
    "### 1.4 Taking into account the topography\n",
    "\n",
    "We reproduce a numerical experiment presented in the notebook [Seismic.ipynb], where the metric is constant, but the domain is a diffeomorphically mapped rectangle."
   ]
  },
  {
   "cell_type": "code",
   "execution_count": 18,
   "metadata": {
    "execution": {
     "iopub.execute_input": "2021-12-09T21:54:04.476006Z",
     "iopub.status.busy": "2021-12-09T21:54:04.475412Z",
     "iopub.status.idle": "2021-12-09T21:54:04.477903Z",
     "shell.execute_reply": "2021-12-09T21:54:04.477401Z"
    }
   },
   "outputs": [],
   "source": [
    "def h(x,z,alpha=0.5): return ad.array([x, z + alpha*z*np.sin(np.pi*x)])"
   ]
  },
  {
   "cell_type": "code",
   "execution_count": 19,
   "metadata": {
    "execution": {
     "iopub.execute_input": "2021-12-09T21:54:04.541423Z",
     "iopub.status.busy": "2021-12-09T21:54:04.484207Z",
     "iopub.status.idle": "2021-12-09T21:54:04.677838Z",
     "shell.execute_reply": "2021-12-09T21:54:04.678372Z"
    }
   },
   "outputs": [
    {
     "data": {
      "image/png": "[encoded data removed]",
      "text/plain": [
       "<Figure size 432x288 with 1 Axes>"
      ]
     },
     "metadata": {
      "needs_background": "light"
     },
     "output_type": "display_data"
    }
   ],
   "source": [
    "X = np.linspace(-1,1,20)\n",
    "Z = np.linspace(0,1,5)\n",
    "for z in Z: plt.plot(*h(X,z)) \n",
    "for x in X: plt.plot(*h(x+0.*Z,Z))"
   ]
  },
  {
   "cell_type": "code",
   "execution_count": 20,
   "metadata": {
    "execution": {
     "iopub.execute_input": "2021-12-09T21:54:04.685831Z",
     "iopub.status.busy": "2021-12-09T21:54:04.684987Z",
     "iopub.status.idle": "2021-12-09T21:54:04.688367Z",
     "shell.execute_reply": "2021-12-09T21:54:04.688897Z"
    }
   },
   "outputs": [],
   "source": [
    "hfmIn = Eikonal.dictIn({\n",
    "    'model':'TTI2',\n",
    "    'exportValues':1,\n",
    "    'seed':[0.,0.5],\n",
    "})\n",
    "\n",
    "# Define the domain\n",
    "hfmIn.SetRect(sides=[[-1,1],[0,1]],dimx=101)\n",
    "hfmIn.SetUniformTips((6,6))\n",
    "\n",
    "X0 = hfmIn.Grid() # Grid coordinates (horizontal and vertical)\n",
    "X = h(*X0) # Physical coordinates"
   ]
  },
  {
   "cell_type": "markdown",
   "metadata": {},
   "source": [
    "By default, for the GPU eikonal solver, the TTI norm is obtained as the envelope of $7$ Riemannian norms. This turns out to be insufficient for the strongly anisotropic crystal chosen here. We change below this value to $15$, in order to have better behaved geodesics. (The CPU eikonal solver uses a different formulation, and has no such restriction.)"
   ]
  },
  {
   "cell_type": "code",
   "execution_count": 21,
   "metadata": {
    "execution": {
     "iopub.execute_input": "2021-12-09T21:54:04.693451Z",
     "iopub.status.busy": "2021-12-09T21:54:04.692815Z",
     "iopub.status.idle": "2021-12-09T21:54:04.695201Z",
     "shell.execute_reply": "2021-12-09T21:54:04.695748Z"
    }
   },
   "outputs": [],
   "source": [
    "if hfmIn.mode=='gpu':hfmIn['traits']={'nmix_macro':15}"
   ]
  },
  {
   "cell_type": "code",
   "execution_count": 22,
   "metadata": {
    "execution": {
     "iopub.execute_input": "2021-12-09T21:54:04.700953Z",
     "iopub.status.busy": "2021-12-09T21:54:04.700307Z",
     "iopub.status.idle": "2021-12-09T21:54:04.704163Z",
     "shell.execute_reply": "2021-12-09T21:54:04.704712Z"
    }
   },
   "outputs": [],
   "source": [
    "X0_ad = ad.Dense.identity(constant=X0,shape_free=(2,))\n",
    "Jac = h(*X0_ad).gradient().swapaxes(0,1)"
   ]
  },
  {
   "cell_type": "code",
   "execution_count": 23,
   "metadata": {
    "execution": {
     "iopub.execute_input": "2021-12-09T21:54:04.709997Z",
     "iopub.status.busy": "2021-12-09T21:54:04.709343Z",
     "iopub.status.idle": "2021-12-09T21:54:04.712954Z",
     "shell.execute_reply": "2021-12-09T21:54:04.712360Z"
    }
   },
   "outputs": [],
   "source": [
    "hfmIn['metric'] = mica.extract_xz().rotate_by(-np.pi/6).inv_transform(Jac) "
   ]
  },
  {
   "cell_type": "code",
   "execution_count": 24,
   "metadata": {
    "execution": {
     "iopub.execute_input": "2021-12-09T21:54:04.717242Z",
     "iopub.status.busy": "2021-12-09T21:54:04.716577Z",
     "iopub.status.idle": "2021-12-09T21:54:04.811421Z",
     "shell.execute_reply": "2021-12-09T21:54:04.811897Z"
    }
   },
   "outputs": [
    {
     "name": "stdout",
     "output_type": "stream",
     "text": [
      "Field verbosity defaults to 1\n",
      "Field order defaults to 1\n",
      "Field seedRadius defaults to 0\n",
      "Fast marching solver completed in 0.055014 s.\n",
      "Field geodesicSolver defaults to Discrete\n",
      "Field geodesicStep defaults to 0.25\n",
      "Field geodesicWeightThreshold defaults to 0.001\n",
      "Field geodesicVolumeBound defaults to 8.45\n"
     ]
    }
   ],
   "source": [
    "hfmOut = hfmIn.Run()"
   ]
  },
  {
   "cell_type": "code",
   "execution_count": 25,
   "metadata": {
    "execution": {
     "iopub.execute_input": "2021-12-09T21:54:04.837213Z",
     "iopub.status.busy": "2021-12-09T21:54:04.817741Z",
     "iopub.status.idle": "2021-12-09T21:54:04.984105Z",
     "shell.execute_reply": "2021-12-09T21:54:04.983512Z"
    }
   },
   "outputs": [
    {
     "data": {
      "image/png": "[encoded data removed]",
      "text/plain": [
       "<Figure size 432x288 with 1 Axes>"
      ]
     },
     "metadata": {
      "needs_background": "light"
     },
     "output_type": "display_data"
    }
   ],
   "source": [
    "fig = plt.figure(figsize=[6,4]); plt.axis('equal');\n",
    "plt.title('Minimal distance, Seismic metric (constant) with topography'); \n",
    "plt.contourf(*X,hfmOut['values']);"
   ]
  },
  {
   "cell_type": "markdown",
   "metadata": {},
   "source": [
    "The geodesics are expected to be straight lines, except for the ones tangent to the topography."
   ]
  },
  {
   "cell_type": "code",
   "execution_count": 26,
   "metadata": {
    "execution": {
     "iopub.execute_input": "2021-12-09T21:54:05.010338Z",
     "iopub.status.busy": "2021-12-09T21:54:04.996448Z",
     "iopub.status.idle": "2021-12-09T21:54:05.225982Z",
     "shell.execute_reply": "2021-12-09T21:54:05.226565Z"
    }
   },
   "outputs": [
    {
     "data": {
      "image/png": "[encoded data removed]",
      "text/plain": [
       "<Figure size 360x288 with 1 Axes>"
      ]
     },
     "metadata": {
      "needs_background": "light"
     },
     "output_type": "display_data"
    }
   ],
   "source": [
    "fig = plt.figure(figsize=[5,4]);  plt.axis('equal'); \n",
    "plt.title('Minimal geodesics, Seismic metric (constant) with topography');\n",
    "for geo in hfmOut['geodesics']:  plt.plot(*h(*geo)) "
   ]
  },
  {
   "cell_type": "markdown",
   "metadata": {},
   "source": [
    "Note that the computation involved a rather strongly anisotropic and non-constant metric, on a rectangle."
   ]
  },
  {
   "cell_type": "code",
   "execution_count": 27,
   "metadata": {
    "execution": {
     "iopub.execute_input": "2021-12-09T21:54:05.278187Z",
     "iopub.status.busy": "2021-12-09T21:54:05.260066Z",
     "iopub.status.idle": "2021-12-09T21:54:05.403972Z",
     "shell.execute_reply": "2021-12-09T21:54:05.404513Z"
    }
   },
   "outputs": [
    {
     "data": {
      "image/png": "[encoded data removed]",
      "text/plain": [
       "<Figure size 432x288 with 1 Axes>"
      ]
     },
     "metadata": {
      "needs_background": "light"
     },
     "output_type": "display_data"
    }
   ],
   "source": [
    "plt.title('Minimal distance, Seismic metric (constant) with topography, deformed grid'); plt.axis('equal')\n",
    "plt.contourf(*X0,hfmOut['values']);"
   ]
  },
  {
   "cell_type": "markdown",
   "metadata": {},
   "source": [
    "## 2 Three dimensions"
   ]
  },
  {
   "cell_type": "markdown",
   "metadata": {},
   "source": [
    "### 2.1 Constant metric"
   ]
  },
  {
   "cell_type": "code",
   "execution_count": 28,
   "metadata": {
    "execution": {
     "iopub.execute_input": "2021-12-09T21:54:05.413502Z",
     "iopub.status.busy": "2021-12-09T21:54:05.412843Z",
     "iopub.status.idle": "2021-12-09T21:54:05.416734Z",
     "shell.execute_reply": "2021-12-09T21:54:05.417280Z"
    }
   },
   "outputs": [],
   "source": [
    "hfmIn_Constant = Eikonal.dictIn({\n",
    "    'model':'TTI3',\n",
    "    'arrayOrdering':'RowMajor',\n",
    "    'exportValues':1,\n",
    "    'seeds':[[0.,0.,0.]],\n",
    "    'factoringRadius':20,\n",
    "    'seedRadius':2,\n",
    "#    'order':2\n",
    "#    'exportGeodesicFlow':1,\n",
    "})\n",
    "\n",
    "hfmIn_Constant.SetRect(sides=[[-1,1],[-1,1],[-1,1] ],dimx=31,sampleBoundary=True) # Define the domain\n",
    "X = hfmIn_Constant.Grid() \n",
    "\n",
    "metric = Seismic.TTI([1.,1],[[0.5,0.1],[0.1,-0.2]],vdim=3).rotate_by(0.5,axis=(1,2,3))\n",
    "hfmIn_Constant['metric'] = metric"
   ]
  },
  {
   "cell_type": "code",
   "execution_count": 29,
   "metadata": {
    "execution": {
     "iopub.execute_input": "2021-12-09T21:54:05.421748Z",
     "iopub.status.busy": "2021-12-09T21:54:05.421104Z",
     "iopub.status.idle": "2021-12-09T21:54:05.961663Z",
     "shell.execute_reply": "2021-12-09T21:54:05.962096Z"
    }
   },
   "outputs": [
    {
     "name": "stdout",
     "output_type": "stream",
     "text": [
      "Field verbosity defaults to 1\n",
      "Field order defaults to 1\n",
      "Field factoringPointChoice defaults to Seed\n",
      "Field exportFactoring defaults to 0\n",
      "Fast marching solver completed in 0.445018 s.\n"
     ]
    }
   ],
   "source": [
    "hfmOut = hfmIn_Constant.Run()"
   ]
  },
  {
   "cell_type": "code",
   "execution_count": 30,
   "metadata": {
    "execution": {
     "iopub.execute_input": "2021-12-09T21:54:05.973730Z",
     "iopub.status.busy": "2021-12-09T21:54:05.969072Z",
     "iopub.status.idle": "2021-12-09T21:54:06.101118Z",
     "shell.execute_reply": "2021-12-09T21:54:06.101721Z"
    }
   },
   "outputs": [
    {
     "data": {
      "image/png": "[encoded data removed]",
      "text/plain": [
       "<Figure size 432x288 with 1 Axes>"
      ]
     },
     "metadata": {
      "needs_background": "light"
     },
     "output_type": "display_data"
    }
   ],
   "source": [
    "plt.axis('equal')\n",
    "plt.contourf(hfmOut['values'][:,5,:]);"
   ]
  },
  {
   "cell_type": "markdown",
   "metadata": {},
   "source": [
    "The largest difference between the exact value and the fast marching result is in the corners, because several of the stencil points may be outside the domain."
   ]
  },
  {
   "cell_type": "code",
   "execution_count": 31,
   "metadata": {
    "execution": {
     "iopub.execute_input": "2021-12-09T21:54:06.128523Z",
     "iopub.status.busy": "2021-12-09T21:54:06.110821Z",
     "iopub.status.idle": "2021-12-09T21:54:07.019609Z",
     "shell.execute_reply": "2021-12-09T21:54:07.020166Z"
    }
   },
   "outputs": [
    {
     "data": {
      "image/png": "[encoded data removed]",
      "text/plain": [
       "<Figure size 432x288 with 1 Axes>"
      ]
     },
     "metadata": {
      "needs_background": "light"
     },
     "output_type": "display_data"
    }
   ],
   "source": [
    "plt.axis('equal')\n",
    "plt.contourf(hfmOut['values'][:,5,:]-metric.norm(X)[:,5,:]);"
   ]
  },
  {
   "cell_type": "code",
   "execution_count": 32,
   "metadata": {
    "execution": {
     "iopub.execute_input": "2021-12-09T21:54:07.025287Z",
     "iopub.status.busy": "2021-12-09T21:54:07.024588Z",
     "iopub.status.idle": "2021-12-09T21:54:07.775970Z",
     "shell.execute_reply": "2021-12-09T21:54:07.775433Z"
    }
   },
   "outputs": [],
   "source": [
    "assert norm_infinity(hfmOut['values'] - metric.norm(X)) < 2e-2"
   ]
  },
  {
   "cell_type": "markdown",
   "metadata": {},
   "source": [
    "### 2.2 Varying metric"
   ]
  },
  {
   "cell_type": "code",
   "execution_count": 33,
   "metadata": {
    "execution": {
     "iopub.execute_input": "2021-12-09T21:54:07.782443Z",
     "iopub.status.busy": "2021-12-09T21:54:07.781774Z",
     "iopub.status.idle": "2021-12-09T21:54:07.784238Z",
     "shell.execute_reply": "2021-12-09T21:54:07.784753Z"
    }
   },
   "outputs": [],
   "source": [
    "hfmIn = Eikonal.dictIn({\n",
    "    'model':'TTI3', \n",
    "    'exportValues':1,\n",
    "    'seed':[0.,0.,0.5],\n",
    "    'factoringRadius':7,\n",
    "    'order':2\n",
    "})\n",
    "\n",
    "# Define the domain\n",
    "n=30; \n",
    "hfmIn.SetRect(sides=[[-1,1],[-1,1],[0,1]],dimx=n)"
   ]
  },
  {
   "cell_type": "code",
   "execution_count": 34,
   "metadata": {
    "execution": {
     "iopub.execute_input": "2021-12-09T21:54:07.789250Z",
     "iopub.status.busy": "2021-12-09T21:54:07.788615Z",
     "iopub.status.idle": "2021-12-09T21:54:07.792019Z",
     "shell.execute_reply": "2021-12-09T21:54:07.791474Z"
    }
   },
   "outputs": [],
   "source": [
    "X,Y,Z = hfmIn.Grid()"
   ]
  },
  {
   "cell_type": "code",
   "execution_count": 35,
   "metadata": {
    "execution": {
     "iopub.execute_input": "2021-12-09T21:54:07.798025Z",
     "iopub.status.busy": "2021-12-09T21:54:07.797357Z",
     "iopub.status.idle": "2021-12-09T21:54:07.842184Z",
     "shell.execute_reply": "2021-12-09T21:54:07.842726Z"
    }
   },
   "outputs": [],
   "source": [
    "rotation1 = lp.rotation( (np.pi/6)*np.sin(2*np.pi*(X+0.4)), (1,0,0))\n",
    "rotation2 = lp.rotation( (np.pi/6)*np.sin(2*np.pi*(Y-0.7)), (0,1,0))\n",
    "rotation = lp.dot_AA(rotation1,rotation2)\n",
    "\n",
    "hfmIn['metric'] = mica.rotate(rotation)"
   ]
  },
  {
   "cell_type": "code",
   "execution_count": 36,
   "metadata": {
    "execution": {
     "iopub.execute_input": "2021-12-09T21:54:07.847384Z",
     "iopub.status.busy": "2021-12-09T21:54:07.846734Z",
     "iopub.status.idle": "2021-12-09T21:54:07.848975Z",
     "shell.execute_reply": "2021-12-09T21:54:07.849553Z"
    }
   },
   "outputs": [],
   "source": [
    "if hfmIn.mode=='gpu':hfmIn['traits']={'nmix_macro':10}"
   ]
  },
  {
   "cell_type": "code",
   "execution_count": 37,
   "metadata": {
    "execution": {
     "iopub.execute_input": "2021-12-09T21:54:07.853599Z",
     "iopub.status.busy": "2021-12-09T21:54:07.852899Z",
     "iopub.status.idle": "2021-12-09T21:54:08.891230Z",
     "shell.execute_reply": "2021-12-09T21:54:08.891680Z"
    }
   },
   "outputs": [
    {
     "name": "stdout",
     "output_type": "stream",
     "text": [
      "Field verbosity defaults to 1\n",
      "Field seedRadius defaults to 2\n",
      "Field factoringPointChoice defaults to Seed\n",
      "Field exportFactoring defaults to 0\n",
      "Fast marching solver completed in 0.912811 s.\n"
     ]
    }
   ],
   "source": [
    "hfmOut = hfmIn.Run()"
   ]
  },
  {
   "cell_type": "code",
   "execution_count": 38,
   "metadata": {
    "execution": {
     "iopub.execute_input": "2021-12-09T21:54:08.900198Z",
     "iopub.status.busy": "2021-12-09T21:54:08.896650Z",
     "iopub.status.idle": "2021-12-09T21:54:09.048971Z",
     "shell.execute_reply": "2021-12-09T21:54:09.049486Z"
    }
   },
   "outputs": [
    {
     "data": {
      "image/png": "[encoded data removed]",
      "text/plain": [
       "<Figure size 432x288 with 1 Axes>"
      ]
     },
     "metadata": {
      "needs_background": "light"
     },
     "output_type": "display_data"
    }
   ],
   "source": [
    "nHalf=n//2\n",
    "plt.axis('equal'); plt.title('Slice of arrival times for a position dependent mica model')\n",
    "plt.contourf(Y[nHalf,:,:],Z[nHalf,:,:],hfmOut['values'][nHalf,:,:]);"
   ]
  },
  {
   "cell_type": "markdown",
   "metadata": {},
   "source": [
    "## 3 Building a model from an array of Thomsen parameters\n",
    "\n",
    "We discuss in slightly more detail the manipulation of Thomsen parameters, see \"Weak elastic anisotropy\" (Thomsen, 1986).\n",
    "\n",
    "In Thomsen's notation, an elastic material is specified via six parameters: \n",
    "$$\n",
    "    (V_p,V_s,\\epsilon,\\eta,\\delta,\\gamma,\\rho).\n",
    "$$\n",
    "- $V_p$ and $V_s$ are measured in m/s, and related to the velocity of pressure and shear waves.\n",
    "- $\\epsilon,\\eta,\\delta,\\gamma$ are dimensionless parameters, specifiying the shape of the anisotropy.\n",
    "- $\\rho$ measured in g/cm^3, is the material density."
   ]
  },
  {
   "cell_type": "code",
   "execution_count": 39,
   "metadata": {
    "execution": {
     "iopub.execute_input": "2021-12-09T21:54:09.054674Z",
     "iopub.status.busy": "2021-12-09T21:54:09.053881Z",
     "iopub.status.idle": "2021-12-09T21:54:09.057265Z",
     "shell.execute_reply": "2021-12-09T21:54:09.057811Z"
    }
   },
   "outputs": [
    {
     "data": {
      "text/plain": [
       "ThomsenElasticMaterial(Vp=4420, Vs=2091, ε=1.12, η=-1.23, δ=-0.235, γ=2.28, ρ=2.79)"
      ]
     },
     "execution_count": 39,
     "metadata": {},
     "output_type": "execute_result"
    }
   ],
   "source": [
    "tem = th.ThomsenData['Muscovite crystal']\n",
    "tem"
   ]
  },
  {
   "cell_type": "markdown",
   "metadata": {},
   "source": [
    "**Note on the fieldname $\\epsilon$.**\n",
    "At the time of writing, the `namedtuple` fields must be normalized unicode characters.\n",
    "This is why the 'ε' is used instead of 'ϵ' as a fieldname in `ThomsenElasticMaterial`.\n",
    "See https://stackoverflow.com/a/30505623/12508258 for more discussion."
   ]
  },
  {
   "cell_type": "code",
   "execution_count": 40,
   "metadata": {
    "execution": {
     "iopub.execute_input": "2021-12-09T21:54:09.062122Z",
     "iopub.status.busy": "2021-12-09T21:54:09.061520Z",
     "iopub.status.idle": "2021-12-09T21:54:09.063894Z",
     "shell.execute_reply": "2021-12-09T21:54:09.064416Z"
    }
   },
   "outputs": [],
   "source": [
    "import unicodedata; assert 'ε' == unicodedata.normalize('NFKC','ϵ')"
   ]
  },
  {
   "cell_type": "markdown",
   "metadata": {},
   "source": [
    "### 3.1 Hexagonal materials and Thomsen's parameter $\\delta$ \n",
    "\n",
    "Thomsen parameters can be converted into the (reduced) Hooke tensor coefficients of a material with hexagonal symmetry.\n",
    "This step is done implicitly when producing `Seismic.TTI` or `Seismic.Hooke` objects which can be handled by the eikonal solvers."
   ]
  },
  {
   "cell_type": "code",
   "execution_count": 41,
   "metadata": {
    "execution": {
     "iopub.execute_input": "2021-12-09T21:54:09.069537Z",
     "iopub.status.busy": "2021-12-09T21:54:09.068654Z",
     "iopub.status.idle": "2021-12-09T21:54:09.072909Z",
     "shell.execute_reply": "2021-12-09T21:54:09.072325Z"
    }
   },
   "outputs": [
    {
     "name": "stdout",
     "output_type": "stream",
     "text": [
      "Hooke tensor coefficients : HexagonalMaterial(c11=63297936.00000001, c12=14678171.280000009, c13=6828108.80578232, c33=19536400, c44=4372281)\n",
      "Density : 2.79\n"
     ]
    }
   ],
   "source": [
    "hexa,ρ = th.HexagonalFromTEM(tem)\n",
    "print(\"Hooke tensor coefficients :\", hexa)\n",
    "print(\"Density :\",ρ)"
   ]
  },
  {
   "cell_type": "markdown",
   "metadata": {},
   "source": [
    "Recall that the *reduced* Hooke tensor is measured in $m^2/s^2$, and already incorporates the speed modulation due to density. Some coefficients have particularly simple expressions."
   ]
  },
  {
   "cell_type": "code",
   "execution_count": 42,
   "metadata": {
    "execution": {
     "iopub.execute_input": "2021-12-09T21:54:09.077879Z",
     "iopub.status.busy": "2021-12-09T21:54:09.077238Z",
     "iopub.status.idle": "2021-12-09T21:54:09.079765Z",
     "shell.execute_reply": "2021-12-09T21:54:09.080340Z"
    }
   },
   "outputs": [],
   "source": [
    "assert np.allclose(hexa.c33,tem.Vp**2)\n",
    "assert np.allclose(hexa.c44,tem.Vs**2)"
   ]
  },
  {
   "cell_type": "markdown",
   "metadata": {},
   "source": [
    "The parameter $\\delta$ is ignored in this conversion."
   ]
  },
  {
   "cell_type": "code",
   "execution_count": 43,
   "metadata": {
    "execution": {
     "iopub.execute_input": "2021-12-09T21:54:09.085399Z",
     "iopub.status.busy": "2021-12-09T21:54:09.084744Z",
     "iopub.status.idle": "2021-12-09T21:54:09.087449Z",
     "shell.execute_reply": "2021-12-09T21:54:09.087998Z"
    }
   },
   "outputs": [],
   "source": [
    "tem_δnan = th.ThomsenElasticMaterial(tem.Vp, tem.Vs, tem.ε, tem.η, np.nan, tem.γ, tem.ρ)\n",
    "assert th.HexagonalFromTEM(tem_δnan) == th.HexagonalFromTEM(tem)"
   ]
  },
  {
   "cell_type": "markdown",
   "metadata": {},
   "source": [
    "\n",
    "Indeed, Thomsen parameters are *not* independent, and the parameter $\\delta$ is defined as \n",
    "$$\n",
    "    2 \\delta = \\epsilon + \\frac \\eta {1-V_s^2/V_p^2}.\n",
    "$$\n",
    "The `get_δ` function implements this formula."
   ]
  },
  {
   "cell_type": "code",
   "execution_count": 44,
   "metadata": {
    "execution": {
     "iopub.execute_input": "2021-12-09T21:54:09.093128Z",
     "iopub.status.busy": "2021-12-09T21:54:09.092437Z",
     "iopub.status.idle": "2021-12-09T21:54:09.097250Z",
     "shell.execute_reply": "2021-12-09T21:54:09.096626Z"
    }
   },
   "outputs": [
    {
     "name": "stdout",
     "output_type": "stream",
     "text": [
      "Thomsen original data : δ = -0.235\n",
      "Reconstructed : δ = -0.23232337862819452\n"
     ]
    }
   ],
   "source": [
    "print(\"Thomsen original data : δ =\",tem[4])\n",
    "print(\"Reconstructed : δ =\", th.get_δ(*tem[:4]))"
   ]
  },
  {
   "cell_type": "markdown",
   "metadata": {},
   "source": [
    "Unfortunately Thomsen's own published data seems inconsistent in this regard. *Or maybe I missed something ?*"
   ]
  },
  {
   "cell_type": "code",
   "execution_count": 45,
   "metadata": {
    "execution": {
     "iopub.execute_input": "2021-12-09T21:54:09.105260Z",
     "iopub.status.busy": "2021-12-09T21:54:09.104476Z",
     "iopub.status.idle": "2021-12-09T21:54:09.110131Z",
     "shell.execute_reply": "2021-12-09T21:54:09.110704Z"
    }
   },
   "outputs": [
    {
     "name": "stdout",
     "output_type": "stream",
     "text": [
      "Consistent published and reconstructed δ : 34 cases\n",
      "Factor two omitted : 11 cases\n",
      "Unexplained : {'Mesaverde (5837.5) immature sandstone': 1.6391370492618653, 'Mesaverde shale (1599)': 2.198347682314651, 'Mesaverde shale (1968)': 1.8155430928298144, 'Mesaverde shale (3511)': -0.0, 'Lance sandstone': 0.5510408013430982, 'Ft. Union siltstone': 1.3518799584691759, 'Timber Mtn tuff': -3.639828155038852, 'Sandstone-shale': 1.5040028850050553, 'SS-anisotropic shale': 1.6876274645369542, 'Limestone-shale': -0.0, 'LS-anisotropic shale': -0.0, 'Anisotropic shale': 1.2866379663485796, 'Gas sand-water sand': 1.8832132129622101}\n"
     ]
    }
   ],
   "source": [
    "consistent,factor_two,weird = {},{},{}\n",
    "for name,tem in th.ThomsenData.items():\n",
    "    δ_ratio = tem.δ/ th.get_δ(*tem[:4]) # Published data / Reconstructed data\n",
    "    if abs(δ_ratio-1)<0.1:   consistent[name] = δ_ratio\n",
    "    elif abs(δ_ratio-2)<0.1: factor_two[name] = δ_ratio\n",
    "    else:                    weird[name] = δ_ratio\n",
    "        \n",
    "print(\"Consistent published and reconstructed δ :\",len(consistent),\"cases\")\n",
    "print(\"Factor two omitted :\",len(factor_two),\"cases\")\n",
    "print(\"Unexplained :\",weird)"
   ]
  },
  {
   "cell_type": "markdown",
   "metadata": {},
   "source": [
    "### 3.2 A numerical example, with the TTI eikonal solver\n",
    "\n",
    "We compute traveltimes in a two dimensional test case, that is made of two different materials."
   ]
  },
  {
   "cell_type": "code",
   "execution_count": 46,
   "metadata": {
    "execution": {
     "iopub.execute_input": "2021-12-09T21:54:09.119043Z",
     "iopub.status.busy": "2021-12-09T21:54:09.118282Z",
     "iopub.status.idle": "2021-12-09T21:54:09.120650Z",
     "shell.execute_reply": "2021-12-09T21:54:09.121224Z"
    }
   },
   "outputs": [],
   "source": [
    "n=50\n",
    "hfmIn = Eikonal.dictIn({\n",
    "    'model':'TTI2',\n",
    "    'exportValues':1,\n",
    "    'seed':[0.2,0.2],\n",
    "    'factoringRadius':-1, \n",
    "    'order':1\n",
    "})\n",
    "hfmIn.SetRect(sides=[[0,2],[0,1]],dimx=2*n,sampleBoundary=True) # Define the domain\n",
    "hfmIn.SetUniformTips([4,2])\n",
    "X,Z = hfmIn.Grid() # Horizontal and vertical axis"
   ]
  },
  {
   "cell_type": "markdown",
   "metadata": {},
   "source": [
    "In some use cases, the material may be specified as \n",
    "- an array of thomsen parameters\n",
    "- an array of angles specifying the tilt. (In three dimensions, an additional axis must be specified, or alternatively the full rotation matrix.)\n",
    "\n",
    "For illustration, we consider a piecewise constant material.\n",
    "\n",
    "**Note on the scheme order.**\n",
    "High order accuracy can only be achieved with smooth data. In the case of a piecewise constant material, using the second order scheme may do more harm than good, depending on the case."
   ]
  },
  {
   "cell_type": "code",
   "execution_count": 47,
   "metadata": {
    "execution": {
     "iopub.execute_input": "2021-12-09T21:54:09.125719Z",
     "iopub.status.busy": "2021-12-09T21:54:09.125055Z",
     "iopub.status.idle": "2021-12-09T21:54:09.127708Z",
     "shell.execute_reply": "2021-12-09T21:54:09.128260Z"
    }
   },
   "outputs": [],
   "source": [
    "top = Z >= 1.2-X/2"
   ]
  },
  {
   "cell_type": "code",
   "execution_count": 48,
   "metadata": {
    "execution": {
     "iopub.execute_input": "2021-12-09T21:54:09.152089Z",
     "iopub.status.busy": "2021-12-09T21:54:09.131857Z",
     "iopub.status.idle": "2021-12-09T21:54:09.276017Z",
     "shell.execute_reply": "2021-12-09T21:54:09.276587Z"
    }
   },
   "outputs": [
    {
     "data": {
      "image/png": "[encoded data removed]",
      "text/plain": [
       "<Figure size 432x288 with 1 Axes>"
      ]
     },
     "metadata": {
      "needs_background": "light"
     },
     "output_type": "display_data"
    }
   ],
   "source": [
    "plt.contourf(X,Z,top);"
   ]
  },
  {
   "cell_type": "code",
   "execution_count": 49,
   "metadata": {
    "execution": {
     "iopub.execute_input": "2021-12-09T21:54:09.282993Z",
     "iopub.status.busy": "2021-12-09T21:54:09.282342Z",
     "iopub.status.idle": "2021-12-09T21:54:09.284726Z",
     "shell.execute_reply": "2021-12-09T21:54:09.285293Z"
    }
   },
   "outputs": [],
   "source": [
    "θ = xp.where(top,np.pi/6,-np.pi/4)\n",
    "def broadcast(tem): return xp.array(tem)[:,None,None]\n",
    "tem = np.where(top, broadcast(th.ThomsenData['Ice I crystal']), broadcast(th.ThomsenData['Muscovite crystal']) )"
   ]
  },
  {
   "cell_type": "code",
   "execution_count": 50,
   "metadata": {
    "execution": {
     "iopub.execute_input": "2021-12-09T21:54:09.290059Z",
     "iopub.status.busy": "2021-12-09T21:54:09.289400Z",
     "iopub.status.idle": "2021-12-09T21:54:09.302055Z",
     "shell.execute_reply": "2021-12-09T21:54:09.302616Z"
    }
   },
   "outputs": [],
   "source": [
    "# Produce the TTI geometry and density from the material data.\n",
    "vti,ρ = Seismic.TTI.from_Thomsen(tem) \n",
    "# Slice in two dimensions, and rotate by chosen tilt.\n",
    "hfmIn['metric'] = vti.extract_xz().rotate_by(θ)"
   ]
  },
  {
   "cell_type": "code",
   "execution_count": 51,
   "metadata": {
    "execution": {
     "iopub.execute_input": "2021-12-09T21:54:09.308041Z",
     "iopub.status.busy": "2021-12-09T21:54:09.307340Z",
     "iopub.status.idle": "2021-12-09T21:54:09.310280Z",
     "shell.execute_reply": "2021-12-09T21:54:09.309581Z"
    }
   },
   "outputs": [],
   "source": [
    "if hfmIn.mode=='gpu':hfmIn['traits']={'nmix_macro':15}"
   ]
  },
  {
   "cell_type": "code",
   "execution_count": 52,
   "metadata": {
    "execution": {
     "iopub.execute_input": "2021-12-09T21:54:09.314811Z",
     "iopub.status.busy": "2021-12-09T21:54:09.314116Z",
     "iopub.status.idle": "2021-12-09T21:54:09.379994Z",
     "shell.execute_reply": "2021-12-09T21:54:09.380523Z"
    }
   },
   "outputs": [
    {
     "name": "stdout",
     "output_type": "stream",
     "text": [
      "Field verbosity defaults to 1\n",
      "Field seedRadius defaults to 2\n",
      "Field factoringPointChoice defaults to Seed\n",
      "Field exportFactoring defaults to 0\n",
      "Fast marching solver completed in 0.029231 s.\n",
      "Field geodesicSolver defaults to Discrete\n",
      "Field geodesicStep defaults to 0.25\n",
      "Field geodesicWeightThreshold defaults to 0.001\n",
      "Field geodesicVolumeBound defaults to 8.45\n"
     ]
    }
   ],
   "source": [
    "hfmOut = hfmIn.Run()"
   ]
  },
  {
   "cell_type": "code",
   "execution_count": 53,
   "metadata": {
    "execution": {
     "iopub.execute_input": "2021-12-09T21:54:09.390920Z",
     "iopub.status.busy": "2021-12-09T21:54:09.385516Z",
     "iopub.status.idle": "2021-12-09T21:54:09.556118Z",
     "shell.execute_reply": "2021-12-09T21:54:09.556666Z"
    }
   },
   "outputs": [
    {
     "data": {
      "image/png": "[encoded data removed]",
      "text/plain": [
       "<Figure size 432x288 with 1 Axes>"
      ]
     },
     "metadata": {
      "needs_background": "light"
     },
     "output_type": "display_data"
    }
   ],
   "source": [
    "plt.contourf(X,Z,hfmOut['values']);\n",
    "for geo in hfmOut['geodesics']: plt.plot(*geo)"
   ]
  },
  {
   "cell_type": "markdown",
   "metadata": {},
   "source": [
    "### 3.3 Using the Hooke eikonal solver\n",
    "\n",
    "Similar results can be obtained using the eikonal solver based on Hooke tensors."
   ]
  },
  {
   "cell_type": "code",
   "execution_count": 54,
   "metadata": {
    "execution": {
     "iopub.execute_input": "2021-12-09T21:54:09.561491Z",
     "iopub.status.busy": "2021-12-09T21:54:09.560844Z",
     "iopub.status.idle": "2021-12-09T21:54:09.563278Z",
     "shell.execute_reply": "2021-12-09T21:54:09.563814Z"
    }
   },
   "outputs": [],
   "source": [
    "if xp is not np: raise ad.DeliberateNotebookError(\"Hooke eikonal solver is not implemented on the gpu\")"
   ]
  },
  {
   "cell_type": "code",
   "execution_count": 55,
   "metadata": {
    "execution": {
     "iopub.execute_input": "2021-12-09T21:54:09.568813Z",
     "iopub.status.busy": "2021-12-09T21:54:09.568170Z",
     "iopub.status.idle": "2021-12-09T21:54:09.577298Z",
     "shell.execute_reply": "2021-12-09T21:54:09.576744Z"
    }
   },
   "outputs": [],
   "source": [
    "hfmIn['model']='Seismic2'\n",
    "# Produce the TTI geometry and density from the material data.\n",
    "vti,ρ = Seismic.Hooke.from_Thomsen(tem) \n",
    "# Slice in two dimensions, and rotate by chosen tilt.\n",
    "hfmIn['metric'] = vti.extract_xz().rotate_by(θ)"
   ]
  },
  {
   "cell_type": "code",
   "execution_count": 56,
   "metadata": {
    "execution": {
     "iopub.execute_input": "2021-12-09T21:54:09.581708Z",
     "iopub.status.busy": "2021-12-09T21:54:09.581044Z",
     "iopub.status.idle": "2021-12-09T21:54:09.661142Z",
     "shell.execute_reply": "2021-12-09T21:54:09.661655Z"
    }
   },
   "outputs": [
    {
     "name": "stdout",
     "output_type": "stream",
     "text": [
      "Field verbosity defaults to 1\n",
      "Field cosAngleMin defaults to 0.5\n",
      "Field seedRadius defaults to 2\n",
      "Field factoringPointChoice defaults to Seed\n",
      "Field exportFactoring defaults to 0\n",
      "Fast marching solver completed in 0.025531 s.\n",
      "Field geodesicSolver defaults to Discrete\n",
      "Field geodesicStep defaults to 0.25\n",
      "Field geodesicWeightThreshold defaults to 0.001\n",
      "Field geodesicVolumeBound defaults to 8.45\n"
     ]
    }
   ],
   "source": [
    "hfmOut = hfmIn.Run()"
   ]
  },
  {
   "cell_type": "code",
   "execution_count": 57,
   "metadata": {
    "execution": {
     "iopub.execute_input": "2021-12-09T21:54:09.749836Z",
     "iopub.status.busy": "2021-12-09T21:54:09.673384Z",
     "iopub.status.idle": "2021-12-09T21:54:09.885291Z",
     "shell.execute_reply": "2021-12-09T21:54:09.885952Z"
    }
   },
   "outputs": [
    {
     "data": {
      "image/png": "[encoded data removed]",
      "text/plain": [
       "<Figure size 432x288 with 1 Axes>"
      ]
     },
     "metadata": {
      "needs_background": "light"
     },
     "output_type": "display_data"
    }
   ],
   "source": [
    "plt.contourf(X,Z,hfmOut['values']);\n",
    "for geo in hfmOut['geodesics']: plt.plot(*geo)"
   ]
  }
 ],
 "metadata": {
  "celltoolbar": "Format de la Cellule Texte Brut",
  "kernelspec": {
   "display_name": "Python 3",
   "language": "python",
   "name": "python3"
  },
  "language_info": {
   "codemirror_mode": {
    "name": "ipython",
    "version": 3
   },
   "file_extension": ".py",
   "mimetype": "text/x-python",
   "name": "python",
   "nbconvert_exporter": "python",
   "pygments_lexer": "ipython3",
   "version": "3.9.7"
  }
 },
 "nbformat": 4,
 "nbformat_minor": 2
}

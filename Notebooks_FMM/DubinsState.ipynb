{
 "cells": [
  {
   "cell_type": "markdown",
   "id": "21f9af25",
   "metadata": {},
   "source": [
    "# The HFM library - A fast marching solver with adaptive stencils\n",
    "\n",
    "## Part : Custom optimal control models, discrete states\n",
    "## Chapter : Dubins car with a state and additional controls\n",
    "\n",
    "$\n",
    "\\def\\bR{\\mathbb{R}}\n",
    "\\def\\bS{\\mathbb{S}}\n",
    "$"
   ]
  },
  {
   "cell_type": "markdown",
   "id": "5aa70b58",
   "metadata": {},
   "source": [
    "In this notebook, we implement optimal control models featuring a state. One of the target applications is a Dubins car which has additional motion controls, including the ability to move sideways to some amount and in reverse gear. This model must change state to use them, which incurs a fixed positive cost.\n",
    "\n",
    "**Model description.** \n",
    "The configuration space is $\\Omega \\times \\bS$, where $\\Omega\\subset \\bR^d$ is an open domain, and $\\bS :=\\{0,\\cdots,S-1\\}$ with $S$ the number of distinct states.\n",
    "At a configuration $(x,s) \\in \\Omega \\times \\bS$, the possibilities are : \n",
    "* *Continuous evolution in the physical space*  \n",
    "$$\n",
    "    \\dot x = \\omega_{ks}(x),\n",
    "$$\n",
    "where $\\omega_{ks} : \\Omega \\to \\bR^d$ is a given vector field, depending on an integer $0\\leq k < K$ which can be chosen arbitrarily, and on the current state $0\\leq s < S$. \n",
    "* *Change of state*\n",
    "$$\n",
    "    (x,s) \\mapsto (x,s')\n",
    "$$\n",
    "which requires some time $T(s,s')$, given by state transition cost matrix. \n",
    "\n",
    "**Input format.**\n",
    "* *Physical controls :* if $\\Omega$ is discretized on a grid of shape $(n_1,..,n_d)$, then the control fields $(\\omega_{ks}(x))$ must be given as an array of shape\n",
    "$$\n",
    "    (K,d,n_{r+1},\\cdots,n_d,S),\n",
    "$$\n",
    "where $0\\leq r \\leq d$ is arbitrary. If $r\\neq 0$, then the control fields are automatically broadcasted $\\omega_{ks}(x) = \\omega_{ks}(x_{r+1},\\cdots,x_d)$.\n",
    "* *State transitions :* given as a matrix of shape $S\\times S$ with zeros on the diagonal.\n",
    "\n",
    "\n",
    "**Limitations of the proposed implementation.**\n",
    "* The number of states is limited to respectively $\\#(S)=2, 4, 7$, when the physical dimension equals $d=1,2,3$ respectively. \n",
    "* The number $K$ of controls is independent of the state $s\\in S$. Please add zero controls $\\omega_s^k\\equiv 0$ if this does not fit your model.\n",
    "* The state transition cost $T(s,s')$ is independent of the current position $x$.\n",
    "* Only the GPU eikonal solver implements this model."
   ]
  },
  {
   "cell_type": "markdown",
   "id": "0f56049e",
   "metadata": {},
   "source": [
    "[**Summary**](Summary.ipynb) of volume Fast Marching Methods, this series of notebooks.\n",
    "\n",
    "[**Main summary**](../Summary.ipynb) of the Adaptive Grid Discretizations \n",
    "\tbook of notebooks, including the other volumes.\n",
    "\n",
    "# Table of contents\n",
    "  * [1. One dimensional models](#1.-One-dimensional-models)\n",
    "    * [1.1 Single state, constant control](#1.1-Single-state,-constant-control)\n",
    "    * [1.2 Single state, variable control](#1.2-Single-state,-variable-control)\n",
    "    * [1.3 Two states, single control](#1.3-Two-states,-single-control)\n",
    "    * [1.4 Two states, two controls per state.](#1.4-Two-states,-two-controls-per-state.)\n",
    "  * [2. The Dubins model](#2.-The-Dubins-model)\n",
    "    * [2.1 Reproducing the standard Dubins car](#2.1-Reproducing-the-standard-Dubins-car)\n",
    "    * [2.2 A Dubins car with a reverse gear, and a fast forward gear](#2.2-A-Dubins-car-with-a-reverse-gear,-and-a-fast-forward-gear)\n",
    "    * [2.3 A Dubins car with sideways motions](#2.3-A-Dubins-car-with-sideways-motions)\n",
    "    * [2.4 Illustration with walls](#2.4-Illustration-with-walls)\n",
    "  * [3. Staying away from the walls](#3.-Staying-away-from-the-walls)\n",
    "    * [3.1 Computing the obstacles and their distance](#3.1-Computing-the-obstacles-and-their-distance)\n",
    "    * [3.2 Running the eikonal solver](#3.2-Running-the-eikonal-solver)\n",
    "    * [3.3 Yet another model](#3.3-Yet-another-model)\n",
    "\n",
    "\n",
    "\n",
    "This Python&reg; notebook is intended as documentation and testing for the [HamiltonFastMarching (HFM) library](https://github.com/mirebeau/HamiltonFastMarching), which also has interfaces to the Matlab&reg; and Mathematica&reg; languages. \n",
    "More information on the HFM library in the manuscript:\n",
    "* Jean-Marie Mirebeau, Jorg Portegies, \"Hamiltonian Fast Marching: A numerical solver for anisotropic and non-holonomic eikonal PDEs\", 2019 [(link)](https://hal.archives-ouvertes.fr/hal-01778322)\n",
    "\n",
    "Copyright Jean-Marie Mirebeau, University Paris-Sud, CNRS, University Paris-Saclay"
   ]
  },
  {
   "cell_type": "markdown",
   "id": "2a3db581",
   "metadata": {},
   "source": [
    "# 0. Importing the required libraries"
   ]
  },
  {
   "cell_type": "code",
   "execution_count": 1,
   "id": "343dcdba",
   "metadata": {
    "execution": {
     "iopub.execute_input": "2024-02-08T19:31:02.471994Z",
     "iopub.status.busy": "2024-02-08T19:31:02.471627Z",
     "iopub.status.idle": "2024-02-08T19:31:02.476761Z",
     "shell.execute_reply": "2024-02-08T19:31:02.476292Z"
    }
   },
   "outputs": [],
   "source": [
    "import sys; sys.path.insert(0,\"..\") # Allow import of agd from parent directory (useless if agd package installed)"
   ]
  },
  {
   "cell_type": "code",
   "execution_count": 2,
   "id": "f4f7d62c",
   "metadata": {
    "execution": {
     "iopub.execute_input": "2024-02-08T19:31:02.479357Z",
     "iopub.status.busy": "2024-02-08T19:31:02.479130Z",
     "iopub.status.idle": "2024-02-08T19:31:02.769725Z",
     "shell.execute_reply": "2024-02-08T19:31:02.769430Z"
    }
   },
   "outputs": [],
   "source": [
    "from agd import Eikonal \n",
    "from agd import AutomaticDifferentiation as ad\n",
    "from agd import Plotting"
   ]
  },
  {
   "cell_type": "code",
   "execution_count": 3,
   "id": "1828dbc1",
   "metadata": {
    "execution": {
     "iopub.execute_input": "2024-02-08T19:31:02.771355Z",
     "iopub.status.busy": "2024-02-08T19:31:02.771243Z",
     "iopub.status.idle": "2024-02-08T19:31:02.772966Z",
     "shell.execute_reply": "2024-02-08T19:31:02.772766Z"
    },
    "tags": [
     "ExportCode"
    ]
   },
   "outputs": [],
   "source": [
    "import numpy as np; xp = np\n",
    "from matplotlib import pyplot as plt"
   ]
  },
  {
   "cell_type": "markdown",
   "id": "6d625f49",
   "metadata": {},
   "source": [
    "### 0.1 Additional configuration\n",
    "\n",
    "**Running and viewing the notebook**\n",
    "* *Static viewing.* If you are looking at this notebook using nbviewer, but see an error in the following cell, then [try this link instead](https://nbviewer.org/urls/dl.dropbox.com/s/qbkt9hdhrnrpwtr/DubinsState.ipynb).\n",
    "* *Running.* A cuda enabled GPU is needed to run this notebook. If you do not have one, try [running it on Google Colab](https://drive.google.com/file/d/1-bxfUthYYId6ZC6NXDatNDC6vc6mACKs/view?usp=sharing)."
   ]
  },
  {
   "cell_type": "code",
   "execution_count": 4,
   "id": "4014b6c8",
   "metadata": {
    "execution": {
     "iopub.execute_input": "2024-02-08T19:31:02.774336Z",
     "iopub.status.busy": "2024-02-08T19:31:02.774247Z",
     "iopub.status.idle": "2024-02-08T19:31:02.881850Z",
     "shell.execute_reply": "2024-02-08T19:31:02.881468Z"
    }
   },
   "outputs": [
    {
     "ename": "DeliberateNotebookError",
     "evalue": "A cuda enabled gpu is required for this notebook",
     "output_type": "error",
     "traceback": [
      "\u001b[0;31m---------------------------------------------------------------------------\u001b[0m",
      "\u001b[0;31mModuleNotFoundError\u001b[0m                       Traceback (most recent call last)",
      "Cell \u001b[0;32mIn[4], line 1\u001b[0m\n\u001b[0;32m----> 1\u001b[0m \u001b[38;5;28;01mtry\u001b[39;00m: \u001b[38;5;28;01mimport\u001b[39;00m \u001b[38;5;21;01mcupy\u001b[39;00m\n\u001b[1;32m      2\u001b[0m \u001b[38;5;28;01mexcept\u001b[39;00m \u001b[38;5;167;01mModuleNotFoundError\u001b[39;00m: \u001b[38;5;28;01mraise\u001b[39;00m ad\u001b[38;5;241m.\u001b[39mDeliberateNotebookError(\u001b[38;5;124m\"\u001b[39m\u001b[38;5;124mA cuda enabled gpu is required for this notebook\u001b[39m\u001b[38;5;124m\"\u001b[39m)\n",
      "\u001b[0;31mModuleNotFoundError\u001b[0m: No module named 'cupy'",
      "\nDuring handling of the above exception, another exception occurred:\n",
      "\u001b[0;31mDeliberateNotebookError\u001b[0m                   Traceback (most recent call last)",
      "Cell \u001b[0;32mIn[4], line 2\u001b[0m\n\u001b[1;32m      1\u001b[0m \u001b[38;5;28;01mtry\u001b[39;00m: \u001b[38;5;28;01mimport\u001b[39;00m \u001b[38;5;21;01mcupy\u001b[39;00m\n\u001b[0;32m----> 2\u001b[0m \u001b[38;5;28;01mexcept\u001b[39;00m \u001b[38;5;167;01mModuleNotFoundError\u001b[39;00m: \u001b[38;5;28;01mraise\u001b[39;00m ad\u001b[38;5;241m.\u001b[39mDeliberateNotebookError(\u001b[38;5;124m\"\u001b[39m\u001b[38;5;124mA cuda enabled gpu is required for this notebook\u001b[39m\u001b[38;5;124m\"\u001b[39m)\n",
      "\u001b[0;31mDeliberateNotebookError\u001b[0m: A cuda enabled gpu is required for this notebook"
     ]
    }
   ],
   "source": [
    "try: import cupy\n",
    "except ModuleNotFoundError: raise ad.DeliberateNotebookError(\"A cuda enabled gpu is required for this notebook\")"
   ]
  },
  {
   "cell_type": "code",
   "execution_count": 5,
   "id": "bfe8352b",
   "metadata": {},
   "outputs": [
    {
     "name": "stdout",
     "output_type": "stream",
     "text": [
      "Replacing numpy with cupy, set to output 32bit ints and floats by default.\n",
      "Using cp.asarray(*,dtype=np.float32) as the default caster in ad.array.\n",
      "Returning a copy of module matplotlib.pyplot whose functions accept cupy arrays as input.\n",
      "Setting dictIn.default_mode = 'gpu' in module agd.Eikonal .\n"
     ]
    }
   ],
   "source": [
    "xp,plt,Eikonal = map(ad.cupy_friendly,(xp,plt,Eikonal))"
   ]
  },
  {
   "cell_type": "markdown",
   "id": "bba81ae9",
   "metadata": {},
   "source": [
    "### 0.2 Utility function"
   ]
  },
  {
   "cell_type": "code",
   "execution_count": 6,
   "id": "04c86852",
   "metadata": {
    "tags": [
     "ExportCode"
    ]
   },
   "outputs": [],
   "source": [
    "def control_source(activeNeighs,ncontrols,control_default=np.nan,source_default=np.nan):\n",
    "    \"\"\"\n",
    "    Returns the optimal control, or the source of the optimal jump, at each point reached \n",
    "    by the front.\n",
    "    Input : \n",
    "     - activeNeighs : produced by the eikonal solver, with option 'exportActiveNeighs':True\n",
    "     - ncontrols : number of controls of the model (needed in case of several states)\n",
    "     - control default : when no control is used (jump to another state, or stationnary point)\n",
    "     - jump default : when no jump is done (following a control vector, or stationnary point)\n",
    "    Output : \n",
    "     - control : the index of the control used\n",
    "     - source (only if several states) : the index of the source state of the jump\n",
    "    \"\"\"\n",
    "    nstates = activeNeighs.shape[-1]\n",
    "    ndim = activeNeighs.ndim\n",
    "    decompdim = (ndim*(ndim-1))//2\n",
    "    active = activeNeighs%(2**decompdim)\n",
    "    stationnary = (active==0) # No control used. Seeds and non reachable points (e.g. inside walls)\n",
    "    control = np.where(stationnary,control_default,activeNeighs//(2**decompdim)) \n",
    "    assert np.all(control[~stationnary]<ncontrols+(nstates>1))\n",
    "    if nstates==1: return control # Model with a single state\n",
    "    jump = (~stationnary) & (control==ncontrols) # Points where the optimal option is to jump to a different state\n",
    "    source = np.log2(active).round().astype(int) # source of the jump\n",
    "    source = np.where(jump,source + (source>=xp.arange(nstates)), source_default)\n",
    "    return np.where(control==ncontrols,control_default,control),source"
   ]
  },
  {
   "cell_type": "markdown",
   "id": "967ffdbd",
   "metadata": {},
   "source": [
    "## 1. One dimensional models\n",
    "\n",
    "In order to introduce the DubinsState model, we first illustrate it in one physical space dimension $d=1$."
   ]
  },
  {
   "cell_type": "markdown",
   "id": "af0c79b0",
   "metadata": {},
   "source": [
    "### 1.1 Single state, constant control\n",
    "\n",
    "The problem is here posed on the domain $\\Omega \\times S$, where $\\Omega = ]a,b[$ and $S = \\{0\\}$.\n",
    "The front propagation starts from the seed $x_0\\in \\Omega$. \n",
    "\n",
    "<!---\n",
    ", and a geodesic is backtracked from $x_1\\in \\Omega$.\n",
    "\n",
    "'exportGeodesicFlow':True, # Save the upwind gradient of the solution to the eikonal equation\n",
    "\n",
    "Save which neighbors of the finite difference stencil are active\n",
    "\n",
    "The geodesic flow, which is the negative gradient of the solution to the eikonal equation, allows us infer the optimal control used at each point. The shape is \n",
    "$$\n",
    "    (d+1,n_1,\\cdots,n_d,r).\n",
    "$$\n",
    "\n",
    "flow = hfmOut['flow']\n",
    "print(f\"{flow.shape=}\")\n",
    "\n",
    "The last component is nonzero only when there is a state transition.\n",
    "\n",
    "assert np.allclose(flow[-1],0)\n",
    "\n",
    "The $d$ first components should (approximately) match one of the control vectors of the current state, namely the optimal one for the present configuration. (Here $d=1$)\n",
    "\n",
    "plt.title(\"Geodesic flow\")\n",
    "plt.plot(X,flow[0]);\n",
    "--->\n"
   ]
  },
  {
   "cell_type": "code",
   "execution_count": 7,
   "id": "575e8360",
   "metadata": {},
   "outputs": [],
   "source": [
    "a,b,x0 = 0,1,0.4 # Endpoints of Ω, propagation seed\n",
    "Nx = 100 # Number of discretization points in Ω\n",
    "\n",
    "hfmIn = Eikonal.dictIn({\n",
    "    # The 2 refers to 1 physical dimension plus 1 dimension for the states.\n",
    "    'model':'DubinsState2', \n",
    "    'speed':1, # Please leave as is\n",
    "    'seed':(x0,0), # Start at position x0, with state 0\n",
    "    'tips':[(0.8,0),(0.1,0)], # Backtrack geodesic from these points. Note state 0.\n",
    "    'dims':(Nx,1), # Nx discretization points for the physical domain, one for the state\n",
    "    'origin':(a,-0.5), # Origin of the domain Ω, please leave as is the second component.\n",
    "    'gridScales':((b-a)/Nx,1), # Gridscale within Ω, please leave as is the second component.\n",
    "\n",
    "     # State transitions are irrelevant for a single state, but this input is expected nevertheless.\n",
    "    'state_transition_costs':[[0]],\n",
    "    \n",
    "    'exportValues':True, # Save the solution to the eikonal equation\n",
    "    'exportActiveNeighs':True, # Data used to get the optimal control and jump target\n",
    "    })"
   ]
  },
  {
   "cell_type": "code",
   "execution_count": 8,
   "id": "5fb1d239",
   "metadata": {},
   "outputs": [
    {
     "name": "stdout",
     "output_type": "stream",
     "text": [
      "Set of states : S=array([0.], dtype=float32)\n"
     ]
    }
   ],
   "source": [
    "X,S = hfmIn.Axes()\n",
    "print(f\"Set of states : {S=}\")"
   ]
  },
  {
   "cell_type": "markdown",
   "id": "fff89346",
   "metadata": {},
   "source": [
    "We consider a vehicle with a single state, and two controls which do not depend on the current point."
   ]
  },
  {
   "cell_type": "code",
   "execution_count": 9,
   "id": "53b5ef3f",
   "metadata": {},
   "outputs": [],
   "source": [
    "ω00 = (2,) # Move at speed two to the right\n",
    "ω10 = (-1,) # Move at speed one to the left"
   ]
  },
  {
   "cell_type": "markdown",
   "id": "70bfa58d",
   "metadata": {},
   "source": [
    "Recall that the controls must be provided as an array of shape $(K,d,n_{r+1},\\cdots,n_d,S)$.\n",
    "In this specific case \n",
    "* $K=2$ (two controls)\n",
    "* $d=1$ (one space dimension) \n",
    "* $r=d$ (the controls are independent of the physical position), \n",
    "* $S=1$ (a single state)"
   ]
  },
  {
   "cell_type": "code",
   "execution_count": 10,
   "id": "97d94fe8",
   "metadata": {},
   "outputs": [
    {
     "name": "stdout",
     "output_type": "stream",
     "text": [
      "hfmIn['controls'].shape=(2, 1, 1)\n"
     ]
    }
   ],
   "source": [
    "hfmIn['controls'] = xp.asarray((ω00,ω10),dtype=np.float32)[...,np.newaxis] \n",
    "print(f\"{hfmIn['controls'].shape=}\")"
   ]
  },
  {
   "cell_type": "code",
   "execution_count": 11,
   "id": "48c863d7",
   "metadata": {},
   "outputs": [
    {
     "name": "stdout",
     "output_type": "stream",
     "text": [
      "Setting the kernel traits.\n",
      "Preparing the domain data (shape,metric,...)\n",
      "Preparing the problem rhs (cost, seeds,...)\n",
      "Preparing the GPU kernel\n",
      "Running the eikonal GPU kernel\n",
      "GPU kernel eikonal ran for 0.010996580123901367 seconds, and 6 iterations.\n",
      "Post-Processing\n"
     ]
    }
   ],
   "source": [
    "hfmOut = hfmIn.Run()"
   ]
  },
  {
   "cell_type": "markdown",
   "id": "59fb7dc9",
   "metadata": {},
   "source": [
    "As expected, the vehicle travels twice faster to the right than to the left."
   ]
  },
  {
   "cell_type": "code",
   "execution_count": 12,
   "id": "43a0dc1f",
   "metadata": {},
   "outputs": [],
   "source": [
    "plt.title(\"Travel time\")\n",
    "plt.plot(X,hfmOut['values'])\n",
    "plt.axis('equal');"
   ]
  },
  {
   "cell_type": "markdown",
   "id": "fa63fd73",
   "metadata": {},
   "source": [
    "We show below the index $k$ of the optimal control $\\omega_{k0}$, at each point in the domain. Recall that that the vehicle states from the seed, and follows the controls:\n",
    "* $k=-1$: default value at the seed.\n",
    "* $k=0$: $\\omega_{00}$ moves to the right,\n",
    "* $k=1$: $\\omega_{10}$ moves to the left."
   ]
  },
  {
   "cell_type": "code",
   "execution_count": 13,
   "id": "9ecb5989",
   "metadata": {},
   "outputs": [],
   "source": [
    "plt.title(\"Index of the optimal control ωk0\")\n",
    "optimal_control = control_source(hfmOut['activeNeighs'],len(hfmIn['controls']))\n",
    "plt.plot(X,optimal_control.squeeze(-1));"
   ]
  },
  {
   "cell_type": "markdown",
   "id": "7725eda0",
   "metadata": {},
   "source": [
    "The two backtracked geodesics go straight to the seed."
   ]
  },
  {
   "cell_type": "code",
   "execution_count": 14,
   "id": "1a3063e3",
   "metadata": {},
   "outputs": [],
   "source": [
    "plt.title('geodesics')\n",
    "plt.xlabel('X coordinate')\n",
    "plt.ylabel('State')\n",
    "plt.scatter(*hfmIn['seed'],color='red')\n",
    "plt.scatter(*hfmIn['tips'].T,color='blue')\n",
    "for geo in hfmOut['geodesics']: plt.plot(*geo)"
   ]
  },
  {
   "cell_type": "markdown",
   "id": "1351f6f0",
   "metadata": {},
   "source": [
    "### 1.2 Single state, variable control\n",
    "\n",
    "We consider a control which depends on the current position $x$.\n",
    "\n",
    "<!---\n",
    "plt.title(\"Geodesic flow\")\n",
    "plt.plot(X,hfmOut['flow'][0],label=\"flow\")\n",
    "plt.legend();\n",
    "\n",
    "plt.title('Available controls')\n",
    "plt.plot(X,ω00,label=\"ω00\")\n",
    "plt.plot(X,ω10,label=\"ω10\")\n",
    "plt.plot(X,ω20,label=\"ω20\")\n",
    "plt.legend();\n",
    "--->"
   ]
  },
  {
   "cell_type": "code",
   "execution_count": 15,
   "id": "ccd26991",
   "metadata": {},
   "outputs": [],
   "source": [
    "one = np.ones_like(X)\n",
    "ω00 =  2*one # Move at speed two to the right\n",
    "ω10 = -1*one # Move at speed one to the left\n",
    "ω20 =  4*(X-0.5) # A control depending on the position X"
   ]
  },
  {
   "cell_type": "markdown",
   "id": "4130b6f4",
   "metadata": {},
   "source": [
    "We stack the controls, respecting the format $(K,d,n_{r+1},\\cdots,n_d,S)$, here with $K=3$, $d=1$, $r=0$, $S=0$."
   ]
  },
  {
   "cell_type": "code",
   "execution_count": 16,
   "id": "d5f1cd17",
   "metadata": {},
   "outputs": [
    {
     "name": "stdout",
     "output_type": "stream",
     "text": [
      "hfmIn['controls'].shape=(3, 1, 100, 1)\n"
     ]
    }
   ],
   "source": [
    "hfmIn['controls'] = xp.asarray((ω00,ω10,ω20))[:,np.newaxis,:,np.newaxis] \n",
    "print(f\"{hfmIn['controls'].shape=}\")"
   ]
  },
  {
   "cell_type": "code",
   "execution_count": 17,
   "id": "8c77c27a",
   "metadata": {},
   "outputs": [
    {
     "name": "stdout",
     "output_type": "stream",
     "text": [
      "Setting the kernel traits.\n",
      "Preparing the domain data (shape,metric,...)\n",
      "Preparing the problem rhs (cost, seeds,...)\n",
      "Preparing the GPU kernel\n",
      "Running the eikonal GPU kernel\n",
      "GPU kernel eikonal ran for 0.003994464874267578 seconds, and 6 iterations.\n",
      "Post-Processing\n"
     ]
    }
   ],
   "source": [
    "hfmOut = hfmIn.Run()"
   ]
  },
  {
   "cell_type": "code",
   "execution_count": 18,
   "id": "03387f9f",
   "metadata": {},
   "outputs": [],
   "source": [
    "plt.title(\"Travel time\")\n",
    "plt.plot(X,hfmOut['values'])\n",
    "plt.axis('equal');"
   ]
  },
  {
   "cell_type": "markdown",
   "id": "8413d32b",
   "metadata": {},
   "source": [
    "Again, we can see which control is used on which part of the domain."
   ]
  },
  {
   "cell_type": "code",
   "execution_count": 19,
   "id": "33ef51ca",
   "metadata": {},
   "outputs": [],
   "source": [
    "plt.title(\"Index k of the optimal control ωk0\")\n",
    "optimal_control = control_source(hfmOut['activeNeighs'],len(hfmIn['controls']))\n",
    "plt.plot(X,optimal_control.squeeze(-1));"
   ]
  },
  {
   "cell_type": "markdown",
   "id": "d6b45154",
   "metadata": {},
   "source": [
    "The geodesics are straight lines to the origin, as before."
   ]
  },
  {
   "cell_type": "code",
   "execution_count": 20,
   "id": "0148ddc5",
   "metadata": {},
   "outputs": [],
   "source": [
    "plt.title('geodesics')\n",
    "plt.xlabel('X coordinate')\n",
    "plt.ylabel('State')\n",
    "plt.scatter(*hfmIn['seed'],color='red')\n",
    "plt.scatter(*hfmIn['tips'].T,color='blue')\n",
    "for geo in hfmOut['geodesics']: plt.plot(*geo)"
   ]
  },
  {
   "cell_type": "markdown",
   "id": "5b0f86c3",
   "metadata": {},
   "source": [
    "### 1.3 Two states, single control\n",
    "\n",
    "We consider a vehicle which can move forward and backward. However, switching between these two modes of operation has a cost."
   ]
  },
  {
   "cell_type": "code",
   "execution_count": 21,
   "id": "16fe8020",
   "metadata": {},
   "outputs": [],
   "source": [
    "a,b,x0 = 0,1,0.4 # Endpoints of Ω, seed point\n",
    "Nx = 100 # Number of discretization points in Ω\n",
    "cost_0to1, cost_1to0 = 1,2\n",
    "\n",
    "hfmIn = Eikonal.dictIn({\n",
    "    # The 2 refers to 1 physical dimension plus 1 dimension for the states.\n",
    "    'model':'DubinsState2', \n",
    "    'speed':1, # Please leave as is\n",
    "    'seed':(x0,0), # Start at position x0, with state 0\n",
    "    'tips':[(0.8,0),(0.7,1),(0.1,1),(0.2,0)], # Geodesic tips, with various coordinates and states\n",
    "    'dims':(Nx,2), # Nx discretization points for the physical domain, TWO for the state\n",
    "    'origin':(a,-0.5), # Origin of the domain Ω, please leave as is the second component.\n",
    "    'gridScales':((b-a)/Nx,1), # Gridscale within Ω, please leave as is the second component.\n",
    "\n",
    "     # State transitions are irrelevant for a single state, but this input is expected nevertheless.\n",
    "    'state_transition_costs':[[0,cost_1to0],[cost_0to1,0]],\n",
    "    \n",
    "    'exportValues':True, # Save the solution to the eikonal equation\n",
    "    'exportActiveNeighs':True, # Data used to get the optimal control and jump target\n",
    "    \n",
    "#    'geodesic_mixed_state':True,\n",
    "    })"
   ]
  },
  {
   "cell_type": "code",
   "execution_count": 22,
   "id": "f821932f",
   "metadata": {},
   "outputs": [
    {
     "name": "stdout",
     "output_type": "stream",
     "text": [
      "Set of states : S=array([0., 1.], dtype=float32)\n"
     ]
    }
   ],
   "source": [
    "X,S = hfmIn.Axes()\n",
    "print(f\"Set of states : {S=}\")"
   ]
  },
  {
   "cell_type": "markdown",
   "id": "aa8357d3",
   "metadata": {},
   "source": [
    "We have $K=1$ (each state has a single control), and $S=2$ (two states are available). The states are referred to as the forward (0) and backward (1) states, for obvious reasons."
   ]
  },
  {
   "cell_type": "code",
   "execution_count": 23,
   "id": "e7fdf38b",
   "metadata": {},
   "outputs": [],
   "source": [
    "ω00 = (2,) # Move at speed two to the right\n",
    "ω01 = (-1,) # Move at speed one to the left"
   ]
  },
  {
   "cell_type": "code",
   "execution_count": 24,
   "id": "d90efc79",
   "metadata": {},
   "outputs": [],
   "source": [
    "hfmIn['controls'] = xp.asarray(np.stack((ω00,ω01),axis=-1)[np.newaxis],dtype=np.float32)"
   ]
  },
  {
   "cell_type": "code",
   "execution_count": 25,
   "id": "8ded8c55",
   "metadata": {},
   "outputs": [
    {
     "name": "stdout",
     "output_type": "stream",
     "text": [
      "Setting the kernel traits.\n",
      "Preparing the domain data (shape,metric,...)\n",
      "Preparing the problem rhs (cost, seeds,...)\n",
      "Preparing the GPU kernel\n",
      "Running the eikonal GPU kernel\n",
      "GPU kernel eikonal ran for 0.0019991397857666016 seconds, and 6 iterations.\n",
      "Post-Processing\n"
     ]
    }
   ],
   "source": [
    "hfmOut = hfmIn.Run()"
   ]
  },
  {
   "cell_type": "markdown",
   "id": "ee20d002",
   "metadata": {},
   "source": [
    "Now the value function also depends on the arrival state. Recall that we start in the forward state (0). We can distinguish four cases.\n",
    "* Reach $x>x_0$, with final forward state (0). Just use the available forward control. Total time $(x-x_0)/2$.\n",
    "* Reach $x>x_0$, with final backward state (1). Use the forward control, then switch to backward. Total time $1+(x-x_0)/2$.\n",
    "* Reach $x<x_0$, with final backward state (1). Switch to backward, then use backward control. Total time $1+(x_0-x)$.\n",
    "* Reach $x<x_0$, with final forward state (0). Switch to backward, then use backward control, then switch to forward. Total time $3+(x_0-x)$."
   ]
  },
  {
   "cell_type": "code",
   "execution_count": 26,
   "id": "ba629e7e",
   "metadata": {},
   "outputs": [],
   "source": [
    "plt.title(\"Arrival time, depending on final position and state.\")\n",
    "plt.plot(X,hfmOut['values'],label=[\"Forward (state 0)\",\"Backward (state 1)\"])\n",
    "plt.legend();"
   ]
  },
  {
   "cell_type": "markdown",
   "id": "95b26de7",
   "metadata": {},
   "source": [
    "Note that there is only one control, for each state. Therefore, the index of the optimal control is either $k=0$ (the only available control), or $k=$NaN (no control used at this point, where a jump takes place).\n",
    "\n",
    "Likewise the source of the optimal jump is always $1$ (resp. $0$) in state $0$ (resp. state $1$), except when the optimal action is not to jump, in which case the value NaN is returned. "
   ]
  },
  {
   "cell_type": "code",
   "execution_count": 27,
   "id": "f0cbcbd7",
   "metadata": {},
   "outputs": [],
   "source": [
    "optimal_control,jump_source = control_source(hfmOut['activeNeighs'],len(hfmIn['controls']))"
   ]
  },
  {
   "cell_type": "code",
   "execution_count": 28,
   "id": "f138a054",
   "metadata": {
    "scrolled": false
   },
   "outputs": [],
   "source": [
    "fig,(ax0,ax1) = plt.subplots(ncols=2,figsize=[10,4])\n",
    "ax0.set_title(\"Index k of the optimal control ωk0\")\n",
    "ax0.plot(X.get(),optimal_control.get(),label=[\"Forward (state 0)\",\"Backward (state 1)\"])\n",
    "ax0.legend()\n",
    "ax1.set_title(\"Source of the optimal jump\")\n",
    "ax1.plot(X.get(),jump_source.get(),label=[\"Forward (state 0)\",\"Backward (state 1)\"])\n",
    "ax1.legend();"
   ]
  },
  {
   "cell_type": "markdown",
   "id": "5edd1e75",
   "metadata": {},
   "source": [
    "The geodesics feature jumps to the correct state. Recall that the vehicle starts at the red seed point, and that state $0$ features a forward control (to the right), and state $1$ a backward control (to the left)."
   ]
  },
  {
   "cell_type": "code",
   "execution_count": 29,
   "id": "8ed49fad",
   "metadata": {},
   "outputs": [],
   "source": [
    "plt.title('geodesics')\n",
    "plt.xlabel('X coordinate')\n",
    "plt.ylabel('State')\n",
    "plt.scatter(*hfmIn['seed'],color='red')\n",
    "plt.scatter(*hfmIn['tips'].T,color='blue')\n",
    "for geo in hfmOut['geodesics']: plt.plot(*geo)"
   ]
  },
  {
   "cell_type": "markdown",
   "id": "d9a685fd",
   "metadata": {},
   "source": [
    "### 1.4 Two states, two controls per state.\n",
    "\n",
    "We now assume that the vehicle has a slow mode, where it can go forward and backward, and a fast mode where it can only go forward. Since the number of controls cannot depend on the state, we need to add a dummy control."
   ]
  },
  {
   "cell_type": "code",
   "execution_count": 30,
   "id": "d980a4d8",
   "metadata": {},
   "outputs": [],
   "source": [
    "ω00 = ( 1,) #Slow mode, forward control\n",
    "ω10 = (-1,) # Slow mode, reverse control\n",
    "ω01 = ( 2,) # Fast mode, forward control\n",
    "ω11 = ( 0,) # Dummy control. You cannot go fast in reverse gear.\n",
    "hfmIn['controls'] = xp.asarray(np.stack(((ω00,ω10),(ω01,ω11)),axis=-1),dtype=np.float32)"
   ]
  },
  {
   "cell_type": "code",
   "execution_count": 31,
   "id": "40d44aca",
   "metadata": {},
   "outputs": [],
   "source": [
    "#Alternatively, controls depending on the position X\n",
    "#one = np.ones_like(X)\n",
    "#ω00 = one; ω10 = -one; ω01 = 2*one; ω11 = 0*one \n",
    "#hfmIn['controls'] = np.stack(ad.asarray(((ω00,ω10),(ω01,ω11))),axis=-1)[:,np.newaxis]"
   ]
  },
  {
   "cell_type": "code",
   "execution_count": 32,
   "id": "b33274aa",
   "metadata": {},
   "outputs": [
    {
     "data": {
      "text/plain": [
       "(2, 1, 2)"
      ]
     },
     "execution_count": 32,
     "metadata": {},
     "output_type": "execute_result"
    }
   ],
   "source": [
    "hfmIn['controls'].shape"
   ]
  },
  {
   "cell_type": "code",
   "execution_count": 33,
   "id": "66828d8e",
   "metadata": {},
   "outputs": [],
   "source": [
    "cost_0to1, cost_1to0 = 0.1,0.05\n",
    "hfmIn['state_transition_costs']=[[0,cost_1to0],[cost_0to1,0]]\n",
    "hfmIn['tips'] = [(0.6,0),(0.8,0),(0.7,1),(0.1,1),(0.2,0)]"
   ]
  },
  {
   "cell_type": "code",
   "execution_count": 34,
   "id": "b5bad4ad",
   "metadata": {},
   "outputs": [
    {
     "name": "stdout",
     "output_type": "stream",
     "text": [
      "Setting the kernel traits.\n",
      "Preparing the domain data (shape,metric,...)\n",
      "Preparing the problem rhs (cost, seeds,...)\n",
      "Preparing the GPU kernel\n",
      "Running the eikonal GPU kernel\n",
      "GPU kernel eikonal ran for 0.0025093555450439453 seconds, and 6 iterations.\n",
      "Post-Processing\n"
     ]
    }
   ],
   "source": [
    "hfmOut = hfmIn.Run()"
   ]
  },
  {
   "cell_type": "markdown",
   "id": "bed7c6c4",
   "metadata": {},
   "source": [
    "Consider the case where one wants to $x>x_0$, starting and arriving in slow mode. If $x$ is close to $x_0$, then the best option is to move slowly. If $x$ is sufficiently large, then the best option is to switch to the fast mode, move quickly, and then switch again to the slow mode on arrival, as illustrate below.\n",
    "\n",
    "More precisely, denoting $\\delta := x-x_0$, then double state switching approach becomes more efficient when $\\delta > 1/10+1/20+\\delta/2$, in other words $\\delta = 3/10$, which is confirmed by the experiment below."
   ]
  },
  {
   "cell_type": "code",
   "execution_count": 35,
   "id": "439415aa",
   "metadata": {},
   "outputs": [],
   "source": [
    "plt.title(\"Arrival time, depending on final position and state.\")\n",
    "plt.plot(X,hfmOut['values'][:,0],label=\"Slow mode (state 0)\")\n",
    "plt.plot(X,hfmOut['values'][:,1],label=\"Fast mode (state 1)\")\n",
    "plt.legend();"
   ]
  },
  {
   "cell_type": "markdown",
   "id": "de1ed9ad",
   "metadata": {},
   "source": [
    "The vehicle starts in slow mode ($state = 0$). When the objective is to go forward, with a target point in slow mode $state=0$, there are two possible strategies : either remain in slow mode (best when target is close), or travel in fast mode, which costs two state transitions (best when target is far)."
   ]
  },
  {
   "cell_type": "code",
   "execution_count": 36,
   "id": "4d866854",
   "metadata": {},
   "outputs": [],
   "source": [
    "plt.title('geodesics')\n",
    "plt.xlabel('X coordinate')\n",
    "plt.ylabel('State')\n",
    "plt.scatter(*hfmIn['seed'],color='red')\n",
    "plt.scatter(*hfmIn['tips'].T,color='blue')\n",
    "for geo in hfmOut['geodesics']: plt.plot(*geo)"
   ]
  },
  {
   "cell_type": "markdown",
   "id": "60cc9f73",
   "metadata": {},
   "source": [
    "## 2. The Dubins model"
   ]
  },
  {
   "cell_type": "markdown",
   "id": "2e119cec",
   "metadata": {},
   "source": [
    "### 2.1 Reproducing the standard Dubins car\n",
    "\n",
    "The configuration space of the standard Dubins car is $\\bR^2 \\times \\bS^1$. In particular, we need to impose periodic boundary conditions on the thrid axis. The standard Dubins car also has a single state."
   ]
  },
  {
   "cell_type": "code",
   "execution_count": 37,
   "id": "441a71a7",
   "metadata": {},
   "outputs": [],
   "source": [
    "# Reproducing the Dubins2 model\n",
    "Wx = 1.5 # The physical domain is the square [-Wx,Wx]^2\n",
    "Nx = 201 # Number of discretization points along each physical space axis\n",
    "Nθ = 64 # Number of discretization points in the angular domain\n",
    "ξ = 0.3 # Turning radius\n",
    "tips = [(np.cos(t),np.sin(t),0) for t in np.linspace(0,2*np.pi,21,endpoint=False)[::2]]\n",
    "\n",
    "hfmIn = Eikonal.dictIn({\n",
    "    'model':'DubinsState4',\n",
    "    'speed':1,\n",
    "    'seed':(0,0,0,0),\n",
    "    'tips':[(*tip,0) for tip in tips],\n",
    "    'dims':(Nx,Nx, Nθ,1),\n",
    "    'origin':(-Wx,-Wx, -np.pi/Nθ,-0.5),\n",
    "    'gridScales':(2*Wx/Nx,2*Wx/Nx, 2*np.pi/Nθ,1),\n",
    "    'periodic':[False,False,True,False], # Domain = R^2 x S^1 x A\n",
    "    'exportActiveNeighs':True,\n",
    "    })"
   ]
  },
  {
   "cell_type": "markdown",
   "id": "ce984c40",
   "metadata": {},
   "source": [
    "The Dubins car has a single state, and two two controls : one to move forward and turn left, and one to move forward and turn right. "
   ]
  },
  {
   "cell_type": "code",
   "execution_count": 38,
   "id": "5e500426",
   "metadata": {},
   "outputs": [],
   "source": [
    "def DubinsControls(θ,ξ):\n",
    "    \"\"\"The controls and (vanishing) state transition costs of the Dubins car\"\"\"\n",
    "    return xp.array([\n",
    "    (np.cos(Θ),np.sin(Θ), np.ones_like(Θ)/ξ), # Move forward and turn left\n",
    "    (np.cos(Θ),np.sin(Θ),-np.ones_like(Θ)/ξ), # Move forward and turn right\n",
    "    ])[...,np.newaxis]"
   ]
  },
  {
   "cell_type": "code",
   "execution_count": 39,
   "id": "be95d670",
   "metadata": {},
   "outputs": [],
   "source": [
    "_,_,Θ,_ = hfmIn.Axes() \n",
    "# _,_,Θ,_ = hfmIn.Grid()[...,0] # Alternatively : controls depending on all the coordinates\n",
    "hfmIn['controls'] = DubinsControls(Θ,ξ)\n",
    "hfmIn['state_transition_costs'] = [[0]]\n",
    "hfmIn['dims']=(Nx,Nx, Nθ,1)"
   ]
  },
  {
   "cell_type": "code",
   "execution_count": 40,
   "id": "951db0e0",
   "metadata": {},
   "outputs": [
    {
     "data": {
      "text/plain": [
       "(2, 3, 64, 1)"
      ]
     },
     "execution_count": 40,
     "metadata": {},
     "output_type": "execute_result"
    }
   ],
   "source": [
    "hfmIn['controls'].shape"
   ]
  },
  {
   "cell_type": "code",
   "execution_count": 41,
   "id": "fe56c6d4",
   "metadata": {},
   "outputs": [
    {
     "name": "stdout",
     "output_type": "stream",
     "text": [
      "Setting the kernel traits.\n",
      "Preparing the domain data (shape,metric,...)\n",
      "Preparing the problem rhs (cost, seeds,...)\n",
      "Preparing the GPU kernel\n",
      "Running the eikonal GPU kernel\n",
      "GPU kernel eikonal ran for 0.1160285472869873 seconds, and 172 iterations.\n",
      "Post-Processing\n"
     ]
    }
   ],
   "source": [
    "hfmOut = hfmIn.Run()"
   ]
  },
  {
   "cell_type": "code",
   "execution_count": 42,
   "id": "a477e33f",
   "metadata": {},
   "outputs": [],
   "source": [
    "for geo in hfmOut['geodesics']:  plt.plot(geo[0],geo[1]) \n",
    "plt.axis('equal');"
   ]
  },
  {
   "cell_type": "markdown",
   "id": "e81201fe",
   "metadata": {},
   "source": [
    "Let us compare with the original implementation of the Dubins car. "
   ]
  },
  {
   "cell_type": "code",
   "execution_count": 43,
   "id": "067daf42",
   "metadata": {},
   "outputs": [],
   "source": [
    "DubinsIn = Eikonal.dictIn({\n",
    "    'model':'Dubins2',\n",
    "    'speed':1,\n",
    "    'seed':(0,0,0),\n",
    "    'tips':tips,\n",
    "    'xi':ξ,\n",
    "    })\n",
    "DubinsIn.SetRect(sides=[[-Wx,Wx],[-Wx,Wx]],dimx=Nx) # Physical domain\n",
    "DubinsIn.nTheta = Nθ"
   ]
  },
  {
   "cell_type": "code",
   "execution_count": 44,
   "id": "5685d2ea",
   "metadata": {},
   "outputs": [
    {
     "name": "stdout",
     "output_type": "stream",
     "text": [
      "Setting the kernel traits.\n",
      "Preparing the domain data (shape,metric,...)\n",
      "Preparing the problem rhs (cost, seeds,...)\n",
      "Preparing the GPU kernel\n",
      "Running the eikonal GPU kernel\n",
      "GPU kernel eikonal ran for 0.12152624130249023 seconds, and 114 iterations.\n",
      "Post-Processing\n"
     ]
    }
   ],
   "source": [
    "DubinsOut = DubinsIn.Run()"
   ]
  },
  {
   "cell_type": "code",
   "execution_count": 45,
   "id": "f4a4b284",
   "metadata": {},
   "outputs": [],
   "source": [
    "for geo in DubinsOut['geodesics']:  plt.plot(geo[0],geo[1]) \n",
    "plt.axis('equal');"
   ]
  },
  {
   "cell_type": "markdown",
   "id": "abf620f7",
   "metadata": {},
   "source": [
    "We show below the optimal control used by the Dubins car along its trajectories, at the point obtained by rounding coordinates.\n",
    "This illustrates the fact that one control is used to turn right, and another to turn left.\n",
    "\n",
    "Straight segments are archieved by alternating left and right turns quickly. (This can be seen as quickly alternating colors on some trajectories, although not all.) "
   ]
  },
  {
   "cell_type": "code",
   "execution_count": 46,
   "id": "6b6df48f",
   "metadata": {},
   "outputs": [],
   "source": [
    "optimal_control = control_source(hfmOut['activeNeighs'],len(hfmIn['controls']))"
   ]
  },
  {
   "cell_type": "code",
   "execution_count": 47,
   "id": "6c3ebd8e",
   "metadata": {},
   "outputs": [],
   "source": [
    "plt.axis('equal')\n",
    "for geo in hfmOut['geodesics']:\n",
    "    geo = geo[:,::20]\n",
    "    igeo,_ = hfmIn.IndexFromPoint(geo.T)\n",
    "    cgeo = optimal_control[igeo[:,0],igeo[:,1],igeo[:,2],igeo[:,3]]\n",
    "    plt.scatter(geo[0],geo[1],c=cgeo, vmin=0,vmax=1)"
   ]
  },
  {
   "cell_type": "markdown",
   "id": "7a9a06e9",
   "metadata": {},
   "source": [
    "### 2.2 A Dubins car with a reverse gear, and a fast forward gear\n",
    "\n",
    "The Dubins car can only move forward, but this constraint is more sensible for a plane, than for a car. Here we extend the Dubins car with a reverse gear, and also add the possibility to move forward fast.\n",
    "\n",
    "*However*, changing from forward to reverse gear should have a positive cost. Otherwise, the car would have the possibility to rotate in place by quickly alternating controls, for instance : turn right forward / turn left backward. \n",
    "The resulting model would behave rather similarly to the *Reeds-Shepp model*, which is appropriate for e.g. a wheelchair and is also implemented in the agd library. Here we want to avoid this behavior."
   ]
  },
  {
   "cell_type": "code",
   "execution_count": 48,
   "id": "617ff56f",
   "metadata": {},
   "outputs": [],
   "source": [
    "def DubinsReversibleControls(Θ,ξ,rev_ratio=0.5):\n",
    "    controls0 = xp.array([ # Forward gear mode\n",
    "        (np.cos(Θ),np.sin(Θ), np.ones_like(Θ)/ξ), # Move forward and turn left\n",
    "        (np.cos(Θ),np.sin(Θ),-np.ones_like(Θ)/ξ), # Move forward and turn right\n",
    "        (2*np.cos(Θ),2*np.sin(Θ),np.zeros_like(Θ)), # Move forward, quickly\n",
    "    ])\n",
    "    controls1 = -rev_ratio*controls0 # Reverse gear mode, which is slower\n",
    "    return np.stack((controls0,controls1),axis=-1)"
   ]
  },
  {
   "cell_type": "code",
   "execution_count": 49,
   "id": "f08ad838",
   "metadata": {},
   "outputs": [],
   "source": [
    "hfmIn['dims']=(Nx,Nx,Nθ,2)\n",
    "hfmIn['state_transition_costs'] = [[0,0.1],[0.1,0]] #Cost of changing from forward to reverse gear\n",
    "hfmIn['controls'] = DubinsReversibleControls(Θ,ξ,rev_ratio=0.35)"
   ]
  },
  {
   "cell_type": "code",
   "execution_count": 50,
   "id": "06155a28",
   "metadata": {},
   "outputs": [
    {
     "name": "stdout",
     "output_type": "stream",
     "text": [
      "Setting the kernel traits.\n",
      "Preparing the domain data (shape,metric,...)\n",
      "Preparing the problem rhs (cost, seeds,...)\n",
      "Preparing the GPU kernel\n",
      "Running the eikonal GPU kernel\n",
      "GPU kernel eikonal ran for 0.31653618812561035 seconds, and 185 iterations.\n",
      "Post-Processing\n"
     ]
    }
   ],
   "source": [
    "hfmOut = hfmIn.Run()"
   ]
  },
  {
   "cell_type": "code",
   "execution_count": 51,
   "id": "69fa683c",
   "metadata": {},
   "outputs": [],
   "source": [
    "plt.title('Optimal trajectories, Dubins with reverse and fast forward')\n",
    "plt.axis('equal')\n",
    "for geo in hfmOut['geodesics']:  plt.plot(geo[0],geo[1]) "
   ]
  },
  {
   "cell_type": "code",
   "execution_count": 52,
   "id": "251bf550",
   "metadata": {},
   "outputs": [],
   "source": [
    "plt.title('State : forward or reverse gear')\n",
    "plt.axis('equal')\n",
    "for geo in hfmOut['geodesics']:  \n",
    "    geo = geo[:,::20]\n",
    "    plt.scatter(geo[0],geo[1],c=geo[3]) "
   ]
  },
  {
   "cell_type": "code",
   "execution_count": 53,
   "id": "e2c58ab9",
   "metadata": {},
   "outputs": [],
   "source": [
    "optimal_control,jump_source = control_source(hfmOut['activeNeighs'],len(hfmIn['controls']))\n",
    "\n",
    "plt.title(\"Optimal control : turn right, turn left, and go straight\")\n",
    "plt.axis('equal')\n",
    "for geo in hfmOut['geodesics']:\n",
    "    geo = geo[:,::20]\n",
    "    igeo,_ = hfmIn.IndexFromPoint(geo.T)\n",
    "    cgeo = optimal_control[igeo[:,0],igeo[:,1],igeo[:,2],igeo[:,3]]\n",
    "    plt.scatter(geo[0],geo[1],c=cgeo,vmin=0,vmax=2)"
   ]
  },
  {
   "cell_type": "markdown",
   "id": "cbfb5faf",
   "metadata": {},
   "source": [
    "### 2.3 A Dubins car with sideways motions\n",
    "\n",
    "This demo is inspired by discussions with Julien Pascal, Benoit Thuilot and Paul Chechin, on the control of vehicles with two steering trains.\n",
    "\n",
    "Denote by $\\psi$ the angle of the front steering train, by $\\psi$ the angle of the back steering train, by $V$ the physical speed of the vehicle, and by $\\xi$ its length. Then in the configuration space $(x,\\theta) \\in \\Omega \\times \\bS^1$ the vehicle has velocity:\n",
    "$$\n",
    "    V (\\cos(\\theta+\\psi),\\sin(\\theta+\\psi), (\\tan\\phi-\\tan\\psi)/\\xi).\n",
    "$$\n",
    "We denoted by $x$ the center of the back steering train, and by $\\theta$ the orientation of the vehicle.\n",
    "\n",
    "The following steering train configurations can be considered:\n",
    "* $\\phi = \\psi$, the vehicle moves sideways, parallel to itself.\n",
    "* $\\phi = -\\psi$, the vehicle makes a sharp turn, with the back steering train 'drifting'.\n",
    "* $\\phi$ arbitrary, $\\psi = 0$, conventional Dubins car.\n",
    "\n"
   ]
  },
  {
   "cell_type": "code",
   "execution_count": 54,
   "id": "628b8f1a",
   "metadata": {},
   "outputs": [],
   "source": [
    "def DubinsSidewaysControls(θ,ξ,ϕ_max=np.pi/6,ψ_max=np.pi/6,rev_ratio=0.5):\n",
    "    zero,one = np.zeros_like(Θ),np.ones_like(Θ)\n",
    "    controls0 = xp.array([ # Fast forward, using a single steering train, \n",
    "        (np.cos(Θ),np.sin(Θ), np.tan(ϕ_max)/ξ*one), # Move forward and turn left\n",
    "        (np.cos(Θ),np.sin(Θ),-np.tan(ϕ_max)/ξ*one), # Move forward and turn right\n",
    "        (2*np.cos(Θ),2*np.sin(Θ),zero), # Move forward, quickly\n",
    "        (zero,zero,zero), # Dummy control, to have the same number for each state\n",
    "    ])\n",
    "    controls1 = 0.5*xp.array([ # Slow forward, using the two steering trains\n",
    "        (np.cos(Θ+ψ_max),np.sin(Θ+ψ_max),( np.tan(ϕ_max)-np.tan(ψ_max))/ξ*one), # sideways left\n",
    "        (np.cos(Θ-ψ_max),np.sin(Θ-ψ_max),(-np.tan(ϕ_max)+np.tan(ψ_max))/ξ*one), # sideways right\n",
    "        (np.cos(Θ-ψ_max),np.sin(Θ-ψ_max),( np.tan(ϕ_max)+np.tan(ψ_max))/ξ*one), # sharp turn left\n",
    "        (np.cos(Θ+ψ_max),np.sin(Θ+ψ_max),(-np.tan(ϕ_max)-np.tan(ψ_max))/ξ*one), # sharp turn right\n",
    "    ])\n",
    "    controls2 = -rev_ratio*controls1 # Very slow reverse, using the two steering trains\n",
    "    return np.stack((controls0,controls1,controls2),axis=-1)"
   ]
  },
  {
   "cell_type": "code",
   "execution_count": 55,
   "id": "850758d8",
   "metadata": {},
   "outputs": [],
   "source": [
    "hfmIn['dims']=(Nx,Nx,Nθ,3)\n",
    "hfmIn['state_transition_costs'] = 0.1*np.array([[0,1,1],[1,0,1],[1,1,0]])\n",
    "hfmIn['controls'] = DubinsSidewaysControls(Θ,ξ)"
   ]
  },
  {
   "cell_type": "code",
   "execution_count": 56,
   "id": "091ed14b",
   "metadata": {},
   "outputs": [
    {
     "name": "stdout",
     "output_type": "stream",
     "text": [
      "Setting the kernel traits.\n",
      "Preparing the domain data (shape,metric,...)\n",
      "Preparing the problem rhs (cost, seeds,...)\n",
      "Preparing the GPU kernel\n",
      "Running the eikonal GPU kernel\n",
      "GPU kernel eikonal ran for 0.4380364418029785 seconds, and 185 iterations.\n",
      "Post-Processing\n"
     ]
    }
   ],
   "source": [
    "hfmOut = hfmIn.Run()"
   ]
  },
  {
   "cell_type": "code",
   "execution_count": 57,
   "id": "e01295df",
   "metadata": {},
   "outputs": [],
   "source": [
    "plt.title('Optimal trajectories, Dubins with reverse and fast forward')\n",
    "for geo in hfmOut['geodesics']:  plt.plot(geo[0],geo[1]) \n",
    "plt.axis('equal'); plt.scatter(0,0,color='red');"
   ]
  },
  {
   "cell_type": "code",
   "execution_count": 58,
   "id": "2437969a",
   "metadata": {},
   "outputs": [],
   "source": [
    "plt.title('State : fast forward, sideways forward, sideways reverse')\n",
    "for geo in hfmOut['geodesics']: #[hfmOut['geodesics'][i] for i in [2,3]]:  \n",
    "    geo = geo[:,::20]\n",
    "    plt.scatter(geo[0],geo[1],c=geo[3],vmax=2)\n",
    "plt.axis('equal'); plt.scatter(0,0,color='red');"
   ]
  },
  {
   "cell_type": "markdown",
   "id": "0a1f8098",
   "metadata": {},
   "source": [
    "### 2.4 Illustration with walls"
   ]
  },
  {
   "cell_type": "code",
   "execution_count": 59,
   "id": "3a4e3ef3",
   "metadata": {
    "code_folding": []
   },
   "outputs": [],
   "source": [
    "walls = xp.array(0==Plotting.imread('Notebooks_FMM/TestImages/PompidouCrop.png').T,dtype=bool)\n",
    "hfmIn = Eikonal.dictIn({\n",
    "    'model':'DubinsState4',\n",
    "    'speed':1,\n",
    "    'seed':(1,5,1.,0),\n",
    "    'tips':[(*tip,0) for tip in [[13,15,0],[19,14,0],[12,12,0],[17,5,0],[7,2,-3],[3,13,-1.5]]],\n",
    "    'dims':(*walls.shape, Nθ,1),\n",
    "    'origin':(0,0, -np.pi/Nθ,-0.5),\n",
    "    'gridScales':(0.1,0.1, 2*np.pi/Nθ,1),\n",
    "    'periodic':[False,False,True,False], # Domain = R^2 x S^1 x A\n",
    "    'exportActiveNeighs':True,\n",
    "})"
   ]
  },
  {
   "cell_type": "code",
   "execution_count": 60,
   "id": "68b61dfe",
   "metadata": {},
   "outputs": [],
   "source": [
    "aX0,aX1,Θ,_ = hfmIn.Axes()\n",
    "X = xp.meshgrid(aX0,aX1,indexing='ij')"
   ]
  },
  {
   "cell_type": "code",
   "execution_count": 61,
   "id": "baed0ed2",
   "metadata": {},
   "outputs": [],
   "source": [
    "ξ=2\n",
    "hfmIn['controls'] = DubinsControls(Θ,ξ)\n",
    "hfmIn['state_transition_costs'] = [[0]]\n",
    "hfmIn['dims']=(*walls.shape, Nθ,1)\n",
    "hfmIn['walls'] = np.broadcast_to(walls[:,:,np.newaxis,np.newaxis],hfmIn.shape)"
   ]
  },
  {
   "cell_type": "code",
   "execution_count": 62,
   "id": "cfb7be93",
   "metadata": {},
   "outputs": [
    {
     "name": "stdout",
     "output_type": "stream",
     "text": [
      "Setting the kernel traits.\n",
      "Preparing the domain data (shape,metric,...)\n",
      "Preparing the problem rhs (cost, seeds,...)\n",
      "Preparing the GPU kernel\n",
      "Running the eikonal GPU kernel\n",
      "GPU kernel eikonal ran for 0.15151071548461914 seconds, and 307 iterations.\n",
      "Post-Processing\n"
     ]
    }
   ],
   "source": [
    "hfmOut = hfmIn.Run()"
   ]
  },
  {
   "cell_type": "code",
   "execution_count": 63,
   "id": "a62a5657",
   "metadata": {},
   "outputs": [],
   "source": [
    "plt.title('Optimal trajectories, Dubins')\n",
    "plt.contourf(*X,walls,cmap='Greys'); plt.axis('equal')\n",
    "for geo in hfmOut['geodesics']:  plt.plot(geo[0],geo[1]) "
   ]
  },
  {
   "cell_type": "code",
   "execution_count": 64,
   "id": "1b3dd753",
   "metadata": {},
   "outputs": [],
   "source": [
    "ξ=2\n",
    "hfmIn['controls'] = DubinsReversibleControls(Θ,ξ)\n",
    "hfmIn['state_transition_costs'] = 0.1*xp.array([[0,1],[1,0]])\n",
    "hfmIn['dims']=(*walls.shape, Nθ,2)\n",
    "hfmIn['walls'] = np.broadcast_to(walls[:,:,np.newaxis,np.newaxis],hfmIn.shape)"
   ]
  },
  {
   "cell_type": "code",
   "execution_count": 65,
   "id": "dd4bf7d8",
   "metadata": {},
   "outputs": [
    {
     "name": "stdout",
     "output_type": "stream",
     "text": [
      "Setting the kernel traits.\n",
      "Preparing the domain data (shape,metric,...)\n",
      "Preparing the problem rhs (cost, seeds,...)\n",
      "Preparing the GPU kernel\n",
      "Running the eikonal GPU kernel\n",
      "GPU kernel eikonal ran for 0.28253841400146484 seconds, and 317 iterations.\n",
      "Post-Processing\n"
     ]
    }
   ],
   "source": [
    "hfmOut = hfmIn.Run()"
   ]
  },
  {
   "cell_type": "code",
   "execution_count": 66,
   "id": "ac39daee",
   "metadata": {},
   "outputs": [],
   "source": [
    "plt.title('Optimal trajectories, Dubins reversible')\n",
    "plt.contourf(*X,walls,cmap='Greys'); plt.axis('equal')\n",
    "for geo in hfmOut['geodesics']: \n",
    "    geo = geo[:,::20]\n",
    "    plt.scatter(geo[0],geo[1],c=geo[3],vmax=1)"
   ]
  },
  {
   "cell_type": "code",
   "execution_count": 67,
   "id": "7a913ff4",
   "metadata": {},
   "outputs": [],
   "source": [
    "ξ=2\n",
    "hfmIn['controls'] = DubinsSidewaysControls(Θ,ξ,rev_ratio=0.7)\n",
    "hfmIn['state_transition_costs'] = 0.1*xp.array([[0,1,1],[1,0,1],[1,1,0]])\n",
    "hfmIn['dims']=(*walls.shape, Nθ,3)\n",
    "hfmIn['walls'] = np.broadcast_to(walls[:,:,np.newaxis,np.newaxis],hfmIn.shape)"
   ]
  },
  {
   "cell_type": "code",
   "execution_count": 68,
   "id": "9aa1fb3a",
   "metadata": {},
   "outputs": [
    {
     "name": "stdout",
     "output_type": "stream",
     "text": [
      "Setting the kernel traits.\n",
      "Preparing the domain data (shape,metric,...)\n",
      "Preparing the problem rhs (cost, seeds,...)\n",
      "Preparing the GPU kernel\n",
      "Running the eikonal GPU kernel\n",
      "GPU kernel eikonal ran for 0.3214280605316162 seconds, and 289 iterations.\n",
      "Post-Processing\n"
     ]
    }
   ],
   "source": [
    "hfmOut = hfmIn.Run()"
   ]
  },
  {
   "cell_type": "code",
   "execution_count": 69,
   "id": "d14cadf4",
   "metadata": {},
   "outputs": [],
   "source": [
    "plt.title('Optimal trajectories, Dubins reversible')\n",
    "plt.contourf(*X,walls,cmap='Greys'); plt.axis('equal')\n",
    "for geo in hfmOut['geodesics']: \n",
    "    geo = geo[:,::20]\n",
    "    plt.scatter(geo[0],geo[1],c=geo[3],vmax=2)"
   ]
  },
  {
   "cell_type": "markdown",
   "id": "3d636f19",
   "metadata": {},
   "source": [
    "## 3. Staying away from the walls\n",
    "\n",
    "In this section, we show how to favor paths which remain sufficiently far away from the walls, using the \"fast marching squared\" approach. First let us set the domain dimensions."
   ]
  },
  {
   "cell_type": "markdown",
   "id": "1813db17",
   "metadata": {},
   "source": [
    "### 3.1 Computing the obstacles and their distance "
   ]
  },
  {
   "cell_type": "code",
   "execution_count": 70,
   "id": "b35ba21b",
   "metadata": {},
   "outputs": [],
   "source": [
    "Nx = 200 # Number of points along the x-axis\n",
    "Nθ = 64 # Number of points along the angular dimension\n",
    "Θ = np.linspace(0,2*np.pi,Nθ,endpoint=False)"
   ]
  },
  {
   "cell_type": "markdown",
   "id": "9ff26dc3",
   "metadata": {},
   "source": [
    "Our next step is to import the domain walls. Note that we upscale the image in order to match the dimension `Nx`.\n",
    "The algorithm still works with e.g. `Nx = 100`, which does not make any upsampling, but the trajectories can be less accurate.\n",
    "\n",
    "<!--Since the image size is quite small, and since the eikonal solver uses wide stencils, we increase a bit the resolution in order to get more accurate trajectories. (This step is optional, and the results remain ok without it here.)-->"
   ]
  },
  {
   "cell_type": "code",
   "execution_count": 71,
   "id": "e050a017",
   "metadata": {},
   "outputs": [],
   "source": [
    "from scipy import ndimage"
   ]
  },
  {
   "cell_type": "code",
   "execution_count": 72,
   "id": "c6758c5a",
   "metadata": {},
   "outputs": [
    {
     "name": "stdout",
     "output_type": "stream",
     "text": [
      "Original image dimensions : (100, 100)\n",
      "Upsampled image dimensions : (200, 200)\n"
     ]
    }
   ],
   "source": [
    "walls = Plotting.imread(\"Notebooks_FMM/TestImages/benoit_world_zoom.png\")\n",
    "walls = walls[:,:,0]==0\n",
    "print(f\"Original image dimensions : {walls.shape}\")\n",
    "\n",
    "dx = walls.shape[0]/Nx # Distance between consecutive pixels, in original coordinates\n",
    "walls = ndimage.zoom(walls.astype(float),1/dx,order=1)>0.5\n",
    "print(f\"Upsampled image dimensions : {walls.shape}\")\n",
    "\n",
    "# Create a coordinate system, based on the original image dimensions\n",
    "X = np.meshgrid(np.arange(walls.shape[0])*dx,np.arange(walls.shape[1])*dx,indexing='ij')"
   ]
  },
  {
   "cell_type": "markdown",
   "id": "54c16423",
   "metadata": {},
   "source": [
    "We want to favor trajectories such that the vehicle remains far from the walls, when that does not increase length too much. In addition, the vehicle should of course not intersect the walls.\n",
    "\n",
    "Following the \"fast marching squared\" approach, we use the distance to the walls as the speed function."
   ]
  },
  {
   "cell_type": "code",
   "execution_count": 73,
   "id": "ef4e65f7",
   "metadata": {},
   "outputs": [],
   "source": [
    "walls_dist = ndimage.distance_transform_edt(np.logical_not(walls),sampling=dx)"
   ]
  },
  {
   "cell_type": "code",
   "execution_count": 74,
   "id": "5683478d",
   "metadata": {},
   "outputs": [],
   "source": [
    "plt.figure(figsize=(12,5)); \n",
    "plt.subplot(1,2,1); plt.axis('equal'); plt.title(\"Walls\")\n",
    "plt.contourf(*X,walls,colors=['white','black'],levels=1);\n",
    "plt.subplot(1,2,2); plt.axis('equal'); plt.title(\"Distance to the walls\"); \n",
    "plt.contourf(*X,walls_dist);"
   ]
  },
  {
   "cell_type": "markdown",
   "id": "c52cdcb3",
   "metadata": {},
   "source": [
    "However we do not model our vehicle as a point. Instead, we approximate it with the union of two balls, whose centers are aligned with the direction of motion. \n",
    "Note that the code below can easily adapted to account for any shape which is approximated with the union of a finite number of balls."
   ]
  },
  {
   "cell_type": "code",
   "execution_count": 75,
   "id": "5c758bf4",
   "metadata": {},
   "outputs": [],
   "source": [
    "def unitvec(θ): return np.array([np.cos(θ),np.sin(θ)])\n",
    "vehicle_length = 5 # Distance between the two ball centers. \n",
    "vehicle_radius = 5 # Radius of the balls. (total_length = vehicle_length+2*vehicle_radius)\n",
    "walls3 = [ndimage.shift(walls_dist,-vehicle_length*unitvec(θ)/dx,order=1) for θ in Θ]\n",
    "walls3 = [np.logical_or(walls_dist<vehicle_radius,w<vehicle_radius) for w in walls3]\n",
    "walls3 = np.stack(walls3,axis=-1)"
   ]
  },
  {
   "cell_type": "markdown",
   "id": "06a3e337",
   "metadata": {},
   "source": [
    "The three dimensional boolean array `walls3` indicates if the vehicle intersects the walls:\n",
    "- for any position $(x,y)$ of the control point, which is located at the center of the rear ball.\n",
    "- for any orientation $\\theta$ of the vehicle, which determines the positition of the front ball.\n",
    "\n",
    "We next compute the distance from these pseudo-walls, which will be used to favor trajectories remaining in a safe zone."
   ]
  },
  {
   "cell_type": "code",
   "execution_count": 76,
   "id": "109284fd",
   "metadata": {},
   "outputs": [],
   "source": [
    "walls3_dist = ndimage.distance_transform_edt(np.logical_not(walls3),(dx,dx,1e10)) # Distance along spatial dims only"
   ]
  },
  {
   "cell_type": "code",
   "execution_count": 77,
   "id": "5620cae6",
   "metadata": {},
   "outputs": [],
   "source": [
    "def show_vehicle(x,y,θ,**kwargs):\n",
    "    \"\"\"Shows an arrow from the center of the \"\"\"\n",
    "    c,s = vehicle_length*unitvec(θ)\n",
    "    plt.scatter(x,y,28*vehicle_radius**2,color='lightblue')\n",
    "    plt.scatter(x+c,y+s,28*vehicle_radius**2,color='lightblue')\n",
    "    plt.arrow(x,y,c,s,width=0.5,length_includes_head=True,**kwargs)"
   ]
  },
  {
   "cell_type": "code",
   "execution_count": 78,
   "id": "3e1ff490",
   "metadata": {},
   "outputs": [],
   "source": [
    "iθ = 10; θ = Θ[iθ] # Orientation of the vehicle\n",
    "vehicle_pos = [50,23]\n",
    "\n",
    "plt.figure(figsize=(12,5))\n",
    "plt.subplot(1,2,1); plt.axis('equal')\n",
    "plt.title(\"Vehicle (lightblue, red control point), accessible zone (white)\") \n",
    "plt.contourf(*X,walls.astype(int)+walls3[:,:,iθ],colors=['white','gray','black'],levels=2); plt.axis('equal');\n",
    "show_vehicle(*vehicle_pos,θ)\n",
    "\n",
    "plt.subplot(1,2,2); plt.axis('equal')\n",
    "plt.title(\"Distance from boundary of accessible zone\")\n",
    "plt.contourf(*X,walls3_dist[:,:,iθ]);"
   ]
  },
  {
   "cell_type": "markdown",
   "id": "2555e40f",
   "metadata": {},
   "source": [
    "Note that the vehicle cannot enter the room on the right unless it is well aligned with the door."
   ]
  },
  {
   "cell_type": "code",
   "execution_count": 79,
   "id": "1cbf9079",
   "metadata": {},
   "outputs": [],
   "source": [
    "plt.figure(figsize=(12,5))\n",
    "for i,iθ in enumerate([16,35]):\n",
    "    θ=Θ[iθ]; plt.subplot(1,2,i+1); plt.axis('equal')\n",
    "    plt.contourf(*X,walls.astype(int)+walls3[:,:,iθ],colors=['white','gray','black'],levels=2); plt.axis('equal');\n",
    "    show_vehicle(*vehicle_pos,θ)\n",
    "    plt.title(f\"Vehicle orientation angle : {θ:.2f}\")"
   ]
  },
  {
   "cell_type": "markdown",
   "id": "e9d35724",
   "metadata": {},
   "source": [
    "*Note on the `s` argument of the scatter plotting function* : \n",
    "This argument is used to adjust the area of the displayed disk, but the underlying unit (points^2) is rather unclear. For this reason, the constant 28 was adjusted by hand, and may be system dependent.\n",
    "If `vehicle_length==vehicle_radius`, then radius of the displayed disks should be equal to the distance between their centers."
   ]
  },
  {
   "cell_type": "markdown",
   "id": "ecba0459",
   "metadata": {},
   "source": [
    "### 3.2 Running the eikonal solver\n",
    "\n",
    "We prepare the fast marching algorithm, with the correct gridscales and endpoints. The controls will be specified later."
   ]
  },
  {
   "cell_type": "code",
   "execution_count": 80,
   "id": "40656d77",
   "metadata": {},
   "outputs": [],
   "source": [
    "hfmIn=None\n",
    "hfmOut=None"
   ]
  },
  {
   "cell_type": "code",
   "execution_count": 81,
   "id": "547fb67b",
   "metadata": {},
   "outputs": [],
   "source": [
    "hfmIn0 = Eikonal.dictIn({\n",
    "    'model':'DubinsState4',\n",
    "    'seed':[30,70,np.pi/2,0], # Compute the paths from a single seed point ...\n",
    "    'tips':[[5,20,np.pi,0],[80,80,np.pi,0]], # ... to two tips points.\n",
    "    'origin':(0,0, 0,-0.5),\n",
    "    'gridScales':(dx,dx, 2*np.pi/Nθ,1),\n",
    "    'periodic':[False,False,True,False], # Domain = R^2 x S^1 x A\n",
    "    'exportActiveNeighs':True,\n",
    "})"
   ]
  },
  {
   "cell_type": "markdown",
   "id": "40544064",
   "metadata": {},
   "source": [
    "Recall that we are computing trajectories from the seed to the tips, numbered 0 and 1."
   ]
  },
  {
   "cell_type": "code",
   "execution_count": 82,
   "id": "4bf90f0f",
   "metadata": {},
   "outputs": [],
   "source": [
    "plt.title(\"Vehicle position. Initial (blue, seed), Final (red, tip).\")\n",
    "plt.contourf(*X,walls,cmap='Greys')\n",
    "show_vehicle(*hfmIn0['seed'][:3].get(),color='blue')\n",
    "for i,tip in enumerate(hfmIn0['tips']): show_vehicle(*tip[:3].get(),color='red'); plt.text(*tip[:2],i)\n",
    "plt.axis('equal');"
   ]
  },
  {
   "cell_type": "markdown",
   "id": "a5b6028a",
   "metadata": {},
   "source": [
    "Depending on the test case, two additional arguments may be needed to tune the geodesic ODE backtracking solver:\n",
    "\n",
    "* 'geodesic_Stationnary_delay'. There is a test in the backtracking solver ensuring that it is continually making progress toward the goal. Specifically, the path must move by at least one grid point in 'geodesic_Stationnary_delay' steps, otherwise the path is tagged as 'Stationnary', see the 'geodesic_stopping_criteria' output variable, and the solver aborts.  However, it turns out that the vehicle must do rather complex manoeuvers in some instances of this test case, while remaining almost in place, and we need to increase this value.\n",
    "\n",
    "* 'geodesic_targetTolerance'. The backtracking solver stops when the path reaches the seed point. This parameter increases the tolerance. This is often needed when using the Dubins model with an (excessively) large turning radius."
   ]
  },
  {
   "cell_type": "code",
   "execution_count": 83,
   "id": "e064256e",
   "metadata": {},
   "outputs": [],
   "source": [
    "def run_controls(hfmIn,controls,fm2=1.,state_transition_costs=5,verbosity=0,**kwargs):\n",
    "    \"\"\"\n",
    "    Run the eikonal solver with the specified controls and display the results.\n",
    "    - fm2 : penalize paths which come close to the walls, following the fast-marching square method.\n",
    "    \"\"\"\n",
    "    hfmIn['controls'] = controls\n",
    "    nstates = hfmIn['controls'].shape[-1]\n",
    "    hfmIn['state_transition_costs'] = state_transition_costs*np.ones((nstates,nstates))\n",
    "    hfmIn['dims']=(Nx,Nx, Nθ,nstates)\n",
    "\n",
    "    # The chosen speed function which proportional to the distance to the walls.\n",
    "    # Important note : the speed function must not vanish\n",
    "    hfmIn['speed'] = np.broadcast_to(1+fm2*xp.array(walls3_dist)[:,:,:,np.newaxis],hfmIn.shape)\n",
    "    hfmIn['walls'] = np.broadcast_to(xp.array(walls3[:,:,:,np.newaxis]),hfmIn.shape)\n",
    "    hfmIn.update(verbosity=verbosity,**kwargs)\n",
    "    \n",
    "    hfmOut=hfmIn.Run()\n",
    "    \n",
    "    plt.axis('equal')\n",
    "    plt.contourf(*X,walls.astype(int)+(walls_dist<vehicle_radius),colors=['white','gray','black'],levels=2)\n",
    "    show_vehicle(*hfmIn0['seed'][:3].get(),color='blue')\n",
    "    for i,tip in enumerate(hfmIn0['tips']): show_vehicle(*tip[:3].get(),color='red'); plt.text(*tip[:2],i)\n",
    "    for i,geo in enumerate(hfmOut['geodesics']):\n",
    "        plt.plot(geo[0],geo[1],label=f\"rear {i}\")\n",
    "        plt.plot(geo[0]+vehicle_length*np.cos(geo[2]),geo[1]+vehicle_length*np.sin(geo[2]),linestyle=':',label=f\"front {i}\")\n",
    "    plt.legend()\n",
    "    return hfmIn,hfmOut"
   ]
  },
  {
   "cell_type": "markdown",
   "id": "05f286d1",
   "metadata": {},
   "source": [
    "**Dubins model, with penalization of the distance to the walls.** We have the following observations : \n",
    "* the paths toward the two tips are almost undistinguishable until they leave the room containing the seed.\n",
    "* the motion of the rear train (continuous line) is smoother than the motion of the front train (dotted line). Indeed, the directional wheels are on the front train, and the optimal control selection (which is the orientation of the front wheels) is typically piecewise smooth. \n",
    "* the path starts with a complex 8-shaped maneuver, used to reverse the orientation while remaining close to the center. Note our implementation penalizes the distance from the whole vehicle to the walls.\n",
    "\n",
    "**Dubins model, without penalization.** The paths often go very close to the walls, does not go through the *middle* of the door to enter the room anymore, and the 8-shaped final maneuver disappears."
   ]
  },
  {
   "cell_type": "code",
   "execution_count": 84,
   "id": "5c13fd4b",
   "metadata": {},
   "outputs": [],
   "source": [
    "ξ = 5 # Typical turning radius\n",
    "plt.figure(figsize=(12,5))\n",
    "plt.subplot(1,2,1); plt.title(\"Penalization of the distance to the walls\")\n",
    "run_controls(hfmIn0.copy(),DubinsControls(Θ,ξ),verbosity=0);\n",
    "plt.subplot(1,2,2); plt.title(\"No penalization\")\n",
    "run_controls(hfmIn0.copy(),DubinsControls(Θ,ξ),fm2=0,verbosity=0);"
   ]
  },
  {
   "cell_type": "markdown",
   "id": "6c219409",
   "metadata": {},
   "source": [
    "**Dubins model, large turning radius.**\n",
    "The combination of an (excessively) large turning radius, in a small room, with a penalization of the distance to the walls, causes numerical difficulties : \n",
    "* The turning radius constraint seems to be somewhat violated\n",
    "* The path does not start from the seed, but from a nearby point. (We had to set some tolerance for the target of the geodesic backtracking, which is the seed since backtracking goes in reverse).\n",
    "\n",
    "The trajectory appears to be better without penalization of the distance to the walls, since the vehicle does not hesitate to take more room for the initial manoeuver. "
   ]
  },
  {
   "cell_type": "code",
   "execution_count": 85,
   "id": "52c42ac9",
   "metadata": {},
   "outputs": [],
   "source": [
    "ξ = 10 # Typical turning radius\n",
    "plt.figure(figsize=(12,5))\n",
    "plt.subplot(1,2,1); plt.title(\"Penalization of the distance to the walls\")\n",
    "run_controls(hfmIn0.copy(),DubinsControls(Θ,ξ),geodesic_targetTolerance=10);\n",
    "plt.subplot(1,2,2); plt.title(\"No penalization\")\n",
    "run_controls(hfmIn0.copy(),DubinsControls(Θ,ξ),fm2=0);"
   ]
  },
  {
   "cell_type": "markdown",
   "id": "b3ba2857",
   "metadata": {},
   "source": [
    "**Dubins model, with various reverse gear speeds**, and large turning radius\n",
    "\n",
    "As seen in the last experiment, it is very hard to maneuver inside the initial room, due to lack of space. The vehicle thus exists this room in reverse gear. \n",
    "\n",
    "If the reverse gear is as slow, the vehicle manoeuvers into forward gear as soon as possible. If the reverse gear is as fast as the forward gear, then the vehicle postpones this manoeuver until it is nearby tip 1, which leads to a (very slightly) shorter path overall."
   ]
  },
  {
   "cell_type": "code",
   "execution_count": 86,
   "id": "4d6b27cc",
   "metadata": {},
   "outputs": [],
   "source": [
    "ξ = 10 # Typical turning radius\n",
    "plt.figure(figsize=(12,5))\n",
    "plt.subplot(1,2,1); plt.title(\"Slow reverse gear\")\n",
    "run_controls(hfmIn0.copy(),DubinsReversibleControls(Θ,ξ));\n",
    "plt.subplot(1,2,2); plt.title(\"Fast reverse gear\")\n",
    "run_controls(hfmIn0.copy(),DubinsReversibleControls(Θ,ξ,rev_ratio=1));"
   ]
  },
  {
   "cell_type": "markdown",
   "id": "3277b2c6",
   "metadata": {},
   "source": [
    "**Dubins model, with various costs of  forward-reverse gear transition**\n",
    "\n",
    "If the change of gear is sufficiently cheap, then the vehicle performs an additional maneuver nearby tip 1 (forward-reverse-forward), so as to adjust its parking position and remain far from the walls. "
   ]
  },
  {
   "cell_type": "code",
   "execution_count": 87,
   "id": "d0961686",
   "metadata": {},
   "outputs": [],
   "source": [
    "ξ = 10 # Typical turning radius\n",
    "plt.figure(figsize=(12,5))\n",
    "plt.subplot(1,2,1); plt.title(\"High cost of changing gear\")\n",
    "run_controls(hfmIn0.copy(),DubinsReversibleControls(Θ,ξ,rev_ratio=0.5));\n",
    "plt.subplot(1,2,2); plt.title(\"Low cost of changing gear\")\n",
    "run_controls(hfmIn0.copy(),DubinsReversibleControls(Θ,ξ,rev_ratio=0.5),state_transition_costs=1);"
   ]
  },
  {
   "cell_type": "markdown",
   "id": "7eb1a2b7",
   "metadata": {},
   "source": [
    "**Dubins car with sideways motions.**\n",
    "This vehicle will perform complex motions, using all available states (including sideways and reverse) so to remain far from the walls. "
   ]
  },
  {
   "cell_type": "code",
   "execution_count": 88,
   "id": "69497b4f",
   "metadata": {},
   "outputs": [],
   "source": [
    "ξ = 10 # Typical turning radius\n",
    "plt.figure(figsize=(12,5))\n",
    "plt.subplot(1,2,1); plt.title(\"Slow reverse gear\")\n",
    "run_controls(hfmIn0.copy(),DubinsSidewaysControls(Θ,ξ));\n",
    "plt.subplot(1,2,2); plt.title(\"Fast reverse gear\")\n",
    "run_controls(hfmIn0.copy(),DubinsSidewaysControls(Θ,ξ,rev_ratio=1));"
   ]
  },
  {
   "cell_type": "markdown",
   "id": "f6d07eca",
   "metadata": {},
   "source": [
    "**Dubins car with sideways motions.**\n",
    "The trajectory is simplified if one penalizes less strongly the distance to the walls, or if the transition between the states costs more."
   ]
  },
  {
   "cell_type": "code",
   "execution_count": 89,
   "id": "5f585deb",
   "metadata": {},
   "outputs": [],
   "source": [
    "ξ = 10 # Typical turning radius\n",
    "plt.figure(figsize=(12,5))\n",
    "plt.subplot(1,2,1); plt.title(\"No penalization of the distance to the walls\")\n",
    "run_controls(hfmIn0.copy(),DubinsSidewaysControls(Θ,ξ),fm2=0);\n",
    "plt.subplot(1,2,2); plt.title(\"High transition cost\")\n",
    "run_controls(hfmIn0.copy(),DubinsSidewaysControls(Θ,ξ),state_transition_costs=100);"
   ]
  },
  {
   "cell_type": "markdown",
   "id": "ee29d41a",
   "metadata": {},
   "source": [
    "### 3.3 Yet another model\n",
    "\n",
    "The following model, proposed by collaborators, has six different states. Three are devoted to forward motion (straight, sideways, turning), and three to reverse motion symmetrically but with half speed. It is reasonnable to expect that changing from forward to reverse motion is more costly than changing between forward motion modes, hence we introduce an adequate state transition cost matrix.\n",
    "\n",
    "<!---\n",
    "from Miscellaneous.rreload import rreload\n",
    "def reload_packages():\n",
    "    global Eikonal\n",
    "    Eikonal, = rreload((Eikonal,),rootdir=\"../..\")\n",
    "    Eikonal = ad.cupy_friendly(Eikonal)\n",
    "--->"
   ]
  },
  {
   "cell_type": "code",
   "execution_count": 90,
   "id": "811fd20d",
   "metadata": {},
   "outputs": [],
   "source": [
    "def DubinsSixControls(θ,ξ,ϕ_max=0.6375,ψ_max=0.6375,rev_ratio=0.5):\n",
    "    \"\"\"\n",
    "    Controls trying to take advantage of the number of states available\n",
    "    \"\"\"\n",
    "    zero,one = np.zeros_like(Θ),np.ones_like(Θ)\n",
    "    ligne_droite_av = xp.array([\n",
    "        (2*np.cos(Θ),2*np.sin(Θ),zero),\n",
    "        (zero,zero,zero),\n",
    "    ])\n",
    "    crabe_av = xp.array([\n",
    "        (np.cos(Θ+ψ_max),np.sin(Θ+ψ_max),( np.tan(ϕ_max)-np.tan(ψ_max))/ξ*one), # sideways left\n",
    "        (np.cos(Θ-ψ_max),np.sin(Θ-ψ_max),(-np.tan(ϕ_max)+np.tan(ψ_max))/ξ*one), # sideways right\n",
    "    ])\n",
    "    turn_av = xp.array([\n",
    "        (np.cos(Θ-ψ_max),np.sin(Θ-ψ_max),( np.tan(ϕ_max)+np.tan(ψ_max))/ξ*one), # sharp turn left\n",
    "        (np.cos(Θ+ψ_max),np.sin(Θ+ψ_max),(-np.tan(ϕ_max)-np.tan(ψ_max))/ξ*one), # sharp turn right\n",
    "    ])\n",
    "    ligne_droite_ar = -rev_ratio*ligne_droite_av\n",
    "    crabe_ar = -rev_ratio*crabe_av\n",
    "    turn_ar = -rev_ratio*turn_av\n",
    "    return np.stack((ligne_droite_av,crabe_av,turn_av,ligne_droite_ar,crabe_ar,turn_ar),axis=-1)\n",
    "\n",
    "r=3 # Cost of changing from forward motion to backward motion.\n",
    "state_transition_costs = 5*np.array([\n",
    "    [0,1,1,r,r,r],\n",
    "    [1,0,1,r,r,r],\n",
    "    [1,1,0,r,r,r],\n",
    "    [r,r,r,0,1,1],\n",
    "    [r,r,r,1,0,1],\n",
    "    [r,r,r,1,1,0] ]);"
   ]
  },
  {
   "cell_type": "code",
   "execution_count": 91,
   "id": "120a19eb",
   "metadata": {},
   "outputs": [],
   "source": [
    "ξ = 10 # Typical turning radius\n",
    "plt.figure(figsize=(12,5)) \n",
    "plt.subplot(1,2,1); plt.title(\"No penalization of the distance to the walls\")\n",
    "hfmIn = hfmIn0.copy(); hfmIn['tip']=hfmIn['tips'][0]\n",
    "_,hfmOut1=run_controls(hfmIn0.copy(),DubinsSixControls(Θ,ξ),fm2=0,state_transition_costs=state_transition_costs);\n",
    "plt.subplot(1,2,2); plt.title(\"Penalization of the distance to the walls\")\n",
    "hfmIn = hfmIn0.copy(); hfmIn['tip']=hfmIn['tips'][1]\n",
    "hfmIn2,hfmOut2=run_controls(hfmIn0.copy(),DubinsSixControls(Θ,ξ),state_transition_costs=state_transition_costs);"
   ]
  },
  {
   "cell_type": "code",
   "execution_count": null,
   "id": "3d36c3e7",
   "metadata": {},
   "outputs": [],
   "source": []
  }
 ],
 "metadata": {
  "celltoolbar": "Raw Cell Format",
  "kernelspec": {
   "display_name": "Python 3 (ipykernel)",
   "language": "python",
   "name": "python3"
  },
  "language_info": {
   "codemirror_mode": {
    "name": "ipython",
    "version": 3
   },
   "file_extension": ".py",
   "mimetype": "text/x-python",
   "name": "python",
   "nbconvert_exporter": "python",
   "pygments_lexer": "ipython3",
   "version": "3.12.1"
  },
  "varInspector": {
   "cols": {
    "lenName": 16,
    "lenType": 16,
    "lenVar": 40
   },
   "kernels_config": {
    "python": {
     "delete_cmd_postfix": "",
     "delete_cmd_prefix": "del ",
     "library": "var_list.py",
     "varRefreshCmd": "print(var_dic_list())"
    },
    "r": {
     "delete_cmd_postfix": ") ",
     "delete_cmd_prefix": "rm(",
     "library": "var_list.r",
     "varRefreshCmd": "cat(var_dic_list()) "
    }
   },
   "types_to_exclude": [
    "module",
    "function",
    "builtin_function_or_method",
    "instance",
    "_Feature"
   ],
   "window_display": false
  }
 },
 "nbformat": 4,
 "nbformat_minor": 5
}

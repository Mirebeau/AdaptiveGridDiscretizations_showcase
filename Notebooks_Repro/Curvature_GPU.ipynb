{
 "cells": [
  {
   "cell_type": "markdown",
   "metadata": {},
   "source": [
    "# Adaptive PDE discretizations on Cartesian grids\n",
    "## Volume : Reproducible research\n",
    "## Part : Eikonal CPU/GPU solvers comparison\n",
    "## Chapter : Curvature penalized models"
   ]
  },
  {
   "cell_type": "markdown",
   "metadata": {},
   "source": [
    "In this notebook, we solve non-holonomic eikonal equations on the CPU and GPU, related to curvature penalized models.\n",
    "Our purpose is to establish that the schemes produce consistent results."
   ]
  },
  {
   "cell_type": "markdown",
   "metadata": {},
   "source": [
    "[**Summary**](Summary.ipynb) of volume Reproducible research, this series of notebooks.\n",
    "\n",
    "[**Main summary**](../Summary.ipynb) of the Adaptive Grid Discretizations \n",
    "\tbook of notebooks, including the other volumes.\n",
    "\n",
    "# Table of contents\n",
    "  * [1. Constant cost](#1.-Constant-cost)\n",
    "    * [1.1 Elastica](#1.1-Elastica)\n",
    "    * [1.2 Reeds-Shepp](#1.2-Reeds-Shepp)\n",
    "    * [1.3 ReedsShepp forward](#1.3-ReedsShepp-forward)\n",
    "    * [1.4 Dubins](#1.4-Dubins)\n",
    "\n",
    "\n",
    "\n",
    "**Acknowledgement.** Some of the experiments presented in these notebooks are part of \n",
    "ongoing research with Ludovic Métivier and Da Chen.\n",
    "\n",
    "Copyright Jean-Marie Mirebeau, Centre Borelli, ENS Paris-Saclay, CNRS, University Paris-Saclay"
   ]
  },
  {
   "cell_type": "markdown",
   "metadata": {},
   "source": [
    "## 0. Importing the required libraries"
   ]
  },
  {
   "cell_type": "code",
   "execution_count": 1,
   "metadata": {
    "execution": {
     "iopub.execute_input": "2024-02-08T19:27:13.953406Z",
     "iopub.status.busy": "2024-02-08T19:27:13.952899Z",
     "iopub.status.idle": "2024-02-08T19:27:13.957637Z",
     "shell.execute_reply": "2024-02-08T19:27:13.957175Z"
    }
   },
   "outputs": [],
   "source": [
    "import sys; sys.path.insert(0,\"..\")\n",
    "#from Miscellaneous import TocTools; print(TocTools.displayTOC('Curvature_GPU','Repro'))"
   ]
  },
  {
   "cell_type": "code",
   "execution_count": 2,
   "metadata": {
    "execution": {
     "iopub.execute_input": "2024-02-08T19:27:13.960399Z",
     "iopub.status.busy": "2024-02-08T19:27:13.960205Z",
     "iopub.status.idle": "2024-02-08T19:27:14.112491Z",
     "shell.execute_reply": "2024-02-08T19:27:14.112052Z"
    }
   },
   "outputs": [
    {
     "ename": "DeliberateNotebookError",
     "evalue": "Cupy module required",
     "output_type": "error",
     "traceback": [
      "\u001b[0;31m---------------------------------------------------------------------------\u001b[0m",
      "\u001b[0;31mDeliberateNotebookError\u001b[0m                   Traceback (most recent call last)",
      "Cell \u001b[0;32mIn[2], line 2\u001b[0m\n\u001b[1;32m      1\u001b[0m \u001b[38;5;28;01mfrom\u001b[39;00m \u001b[38;5;21;01magd\u001b[39;00m \u001b[38;5;28;01mimport\u001b[39;00m AutomaticDifferentiation \u001b[38;5;28;01mas\u001b[39;00m ad\n\u001b[0;32m----> 2\u001b[0m \u001b[38;5;28;01mif\u001b[39;00m ad\u001b[38;5;241m.\u001b[39mcupy_generic\u001b[38;5;241m.\u001b[39mcp \u001b[38;5;129;01mis\u001b[39;00m \u001b[38;5;28;01mNone\u001b[39;00m: \u001b[38;5;28;01mraise\u001b[39;00m ad\u001b[38;5;241m.\u001b[39mDeliberateNotebookError(\u001b[38;5;124m'\u001b[39m\u001b[38;5;124mCupy module required\u001b[39m\u001b[38;5;124m'\u001b[39m)\n\u001b[1;32m      3\u001b[0m \u001b[38;5;28;01mfrom\u001b[39;00m \u001b[38;5;21;01magd\u001b[39;00m \u001b[38;5;28;01mimport\u001b[39;00m Eikonal\n\u001b[1;32m      4\u001b[0m \u001b[38;5;28;01mfrom\u001b[39;00m \u001b[38;5;21;01magd\u001b[39;00m \u001b[38;5;28;01mimport\u001b[39;00m Metrics\n",
      "\u001b[0;31mDeliberateNotebookError\u001b[0m: Cupy module required"
     ]
    }
   ],
   "source": [
    "from agd import AutomaticDifferentiation as ad\n",
    "if ad.cupy_generic.cp is None: raise ad.DeliberateNotebookError('Cupy module required')\n",
    "from agd import Eikonal\n",
    "from agd import Metrics\n",
    "from agd import FiniteDifferences as fd\n",
    "from agd import LinearParallel as lp\n",
    "from agd.Plotting import savefig; #savefig.dirName = 'Figures/Curvature_GPU'; savefig.dpi=150\n",
    "import agd.AutomaticDifferentiation.cupy_generic as cugen\n",
    "\n",
    "norm_infinity = ad.Optimization.norm_infinity\n",
    "from agd.ExportedCode.Notebooks_Repro.Isotropic_GPU import RunCompare"
   ]
  },
  {
   "cell_type": "code",
   "execution_count": 3,
   "metadata": {},
   "outputs": [],
   "source": [
    "import cupy as cp\n",
    "import numpy as np\n",
    "import itertools\n",
    "from matplotlib import pyplot as plt\n",
    "np.set_printoptions(edgeitems=30, linewidth=100000, formatter=dict(float=lambda x: \"%5.3g\" % x))"
   ]
  },
  {
   "cell_type": "code",
   "execution_count": 4,
   "metadata": {},
   "outputs": [],
   "source": [
    "def ReloadPackages():\n",
    "    from Miscellaneous.rreload import rreload\n",
    "    global Eikonal,ad,cugen,RunGPU,RunSmart,Metrics\n",
    "    Eikonal,ad,cugen,Metrics = rreload([EIkonal,ad,cugen,Metrics],\"../..\")    \n",
    "    Eikonal.dictIn.default_mode = 'gpu'"
   ]
  },
  {
   "cell_type": "code",
   "execution_count": 5,
   "metadata": {},
   "outputs": [],
   "source": [
    "cp = ad.functional.decorate_module_functions(cp,cugen.set_output_dtype32) # Use float32 and int32 types in place of float64 and int64\n",
    "plt = ad.functional.decorate_module_functions(plt,cugen.cupy_get_args)\n",
    "Eikonal.dictIn.default_mode = 'gpu'"
   ]
  },
  {
   "cell_type": "markdown",
   "metadata": {},
   "source": [
    "### 0.1 Additional configuration"
   ]
  },
  {
   "cell_type": "code",
   "execution_count": 17,
   "metadata": {},
   "outputs": [],
   "source": [
    "large_instances = False"
   ]
  },
  {
   "cell_type": "code",
   "execution_count": 18,
   "metadata": {},
   "outputs": [],
   "source": [
    "random_tips_seed = 42 # None : use four orientations. Integer : use random orientations. "
   ]
  },
  {
   "cell_type": "markdown",
   "metadata": {},
   "source": [
    "## 1. Constant cost"
   ]
  },
  {
   "cell_type": "markdown",
   "metadata": {},
   "source": [
    "### 1.1 Elastica\n",
    "The Euler elastica model is my favorite for the beauty of the curves it creates. However, it is also the hardest to accelerate on the GPU, due to the very wide stencils used."
   ]
  },
  {
   "cell_type": "code",
   "execution_count": 19,
   "metadata": {},
   "outputs": [],
   "source": [
    "n = 300 if large_instances else 100 \n",
    "nTheta = 96 if large_instances else 64\n",
    "hfmIn = Eikonal.dictIn({\n",
    "    'model':'Elastica2',\n",
    "    'seeds':cp.array([[0.,0.,np.pi]]),\n",
    "    'exportValues':1,\n",
    "    'cost':1,\n",
    "    'xi':0.4,\n",
    "    'count_updates':True,\n",
    "#    'solver':'fast_iterative_method','fim_front_width':5,#'traits':{'niter_i':4},\n",
    "})\n",
    "hfmIn.SetRect([[-1,1],[-1,1]],dimx=n+1,sampleBoundary=True)\n",
    "hfmIn.nTheta=nTheta"
   ]
  },
  {
   "cell_type": "code",
   "execution_count": 20,
   "metadata": {},
   "outputs": [],
   "source": [
    "if random_tips_seed is None: \n",
    "    hfmIn.SetUniformTips((4,4,4))\n",
    "else: \n",
    "    hfmIn.SetUniformTips((4,4,1))\n",
    "    np.random.seed(random_tips_seed)\n",
    "    hfmIn['tips'][:,2] = 2.*np.pi*cp.asarray(np.random.rand(len(hfmIn['tips'])))"
   ]
  },
  {
   "cell_type": "code",
   "execution_count": 10,
   "metadata": {},
   "outputs": [],
   "source": [
    "#gpuOut = hfmIn.Run()"
   ]
  },
  {
   "cell_type": "code",
   "execution_count": 11,
   "metadata": {},
   "outputs": [
    {
     "name": "stdout",
     "output_type": "stream",
     "text": [
      "Setting the kernel traits.\n",
      "Preparing the domain data (shape,metric,...)\n",
      "Preparing the problem rhs (cost, seeds,...)\n",
      "Preparing the GPU kernel\n",
      "Running the eikonal GPU kernel\n",
      "GPU kernel eikonal ran for 0.26314544677734375 seconds, and 164 iterations.\n",
      "Post-Processing\n",
      "--- gpu done, turning to cpu ---\n",
      "Field verbosity defaults to 1\n",
      "Field eps defaults to 0.1\n",
      "Field order defaults to 1\n",
      "Field seedRadius defaults to 0\n",
      "Fast marching solver completed in 2.191 s.\n",
      "Field geodesicSolver defaults to Discrete\n",
      "Field geodesicStep defaults to 0.25\n",
      "Field geodesicWeightThreshold defaults to 0.001\n",
      "Field geodesicVolumeBound defaults to 10.985\n",
      "Ended Geodesic Discrete Solver\n",
      "***** Warning ! *****\n",
      "Unused fields from user: count_updates \n",
      "********************\n",
      "Solver time (s). GPU : 0.26314544677734375, CPU : 2.1929999999999996. Device acceleration : 8.333794207184482\n",
      "Max |gpuValues-cpuValues| :  1.505280520444825\n"
     ]
    }
   ],
   "source": [
    "gpuOut,cpuOut = RunCompare(hfmIn,check=0.02,check_ratio=0.01)"
   ]
  },
  {
   "cell_type": "code",
   "execution_count": 12,
   "metadata": {},
   "outputs": [],
   "source": [
    "assert all(stop in ('AtSeed','PastSeed') for stop in gpuOut['geodesic_stopping_criteria'])"
   ]
  },
  {
   "cell_type": "code",
   "execution_count": 13,
   "metadata": {},
   "outputs": [],
   "source": [
    "#np.sum(np.abs(gpuOut['values'].get()-cpuOut['values'])>0.02)/gpuOut['values'].size"
   ]
  },
  {
   "cell_type": "markdown",
   "metadata": {},
   "source": [
    "The mean number of updates of any block."
   ]
  },
  {
   "cell_type": "code",
   "execution_count": 14,
   "metadata": {},
   "outputs": [
    {
     "data": {
      "text/plain": [
       "array( 19.6)"
      ]
     },
     "execution_count": 14,
     "metadata": {},
     "output_type": "execute_result"
    }
   ],
   "source": [
    "np.mean(gpuOut['stats']['eikonal']['nupdate_o'])"
   ]
  },
  {
   "cell_type": "code",
   "execution_count": 15,
   "metadata": {},
   "outputs": [],
   "source": [
    "def show():\n",
    "    \"\"\"Displays the geodesics, and their tips, as stored in hfmIn, gpuOut\"\"\"\n",
    "    fig = plt.figure(figsize=[15,15])\n",
    "    \n",
    "    # Show projections of geodesics and their tips\n",
    "    for geo in gpuOut['geodesics']: plt.plot(geo[0],geo[1]) \n",
    "    plt.scatter(*hfmIn['tips'].T[:2],color='black')\n",
    "    \n",
    "\n",
    "    # No axes labels, equal scales\n",
    "    plt.axis('equal')\n",
    "    ax = plt.gca()\n",
    "    ax.axes.xaxis.set_visible(False)\n",
    "    ax.axes.yaxis.set_visible(False)\n",
    "    \n",
    "    return fig"
   ]
  },
  {
   "cell_type": "code",
   "execution_count": 16,
   "metadata": {},
   "outputs": [],
   "source": [
    "fig = show()\n",
    "savefig(fig,'Elastica.png')"
   ]
  },
  {
   "cell_type": "markdown",
   "metadata": {},
   "source": [
    "### 1.2 Reeds-Shepp"
   ]
  },
  {
   "cell_type": "code",
   "execution_count": 19,
   "metadata": {},
   "outputs": [],
   "source": [
    "hfmIn['model']='ReedsShepp2'"
   ]
  },
  {
   "cell_type": "code",
   "execution_count": 20,
   "metadata": {},
   "outputs": [
    {
     "name": "stdout",
     "output_type": "stream",
     "text": [
      "Setting the kernel traits.\n",
      "Preparing the domain data (shape,metric,...)\n",
      "Preparing the problem rhs (cost, seeds,...)\n",
      "Preparing the GPU kernel\n",
      "Running the eikonal GPU kernel\n",
      "GPU kernel eikonal ran for 0.3999302387237549 seconds, and 94 iterations.\n",
      "Post-Processing\n"
     ]
    }
   ],
   "source": [
    "#gpuOut = hfmIn.Run()"
   ]
  },
  {
   "cell_type": "code",
   "execution_count": 143,
   "metadata": {},
   "outputs": [
    {
     "name": "stdout",
     "output_type": "stream",
     "text": [
      "Setting the kernel traits.\n",
      "Preparing the domain data (shape,metric,...)\n",
      "Preparing the problem rhs (cost, seeds,...)\n",
      "Preparing the GPU kernel\n",
      "Running the eikonal GPU kernel\n",
      "GPU kernel eikonal ran for 0.4109005928039551 seconds, and 94 iterations.\n",
      "Post-Processing\n",
      "--- gpu done, turning to cpu ---\n",
      "Field verbosity defaults to 1\n",
      "Field eps defaults to 0.1\n",
      "Field projective defaults to 0\n",
      "Field order defaults to 1\n",
      "Field seedRadius defaults to 0\n",
      "Fast marching solver completed in 14.801 s.\n",
      "Field geodesicSolver defaults to Discrete\n",
      "Field geodesicStep defaults to 0.25\n",
      "Field geodesicWeightThreshold defaults to 0.001\n",
      "Field geodesicVolumeBound defaults to 10.985\n",
      "Ended Geodesic Discrete Solver\n",
      "***** Warning ! *****\n",
      "Unused fields from user: count_updates \n",
      "********************\n",
      "Solver time (s). GPU : 0.4109005928039551, CPU : 14.827. Device acceleration : 36.08415334429589\n",
      "Max |gpuValues-cpuValues| :  0.003224447084680282\n"
     ]
    }
   ],
   "source": [
    "gpuOut,cpuOut = RunCompare(hfmIn,check=0.002,check_ratio=0.04) "
   ]
  },
  {
   "cell_type": "code",
   "execution_count": 161,
   "metadata": {},
   "outputs": [],
   "source": [
    "assert all(stop=='AtSeed' for stop in gpuOut['geodesic_stopping_criteria'])"
   ]
  },
  {
   "cell_type": "markdown",
   "metadata": {},
   "source": [
    "The number of updates per block"
   ]
  },
  {
   "cell_type": "code",
   "execution_count": 162,
   "metadata": {},
   "outputs": [
    {
     "data": {
      "text/plain": [
       "array( 12.8)"
      ]
     },
     "execution_count": 162,
     "metadata": {},
     "output_type": "execute_result"
    }
   ],
   "source": [
    "np.mean(gpuOut['stats']['eikonal']['nupdate_o'])"
   ]
  },
  {
   "cell_type": "code",
   "execution_count": 22,
   "metadata": {},
   "outputs": [],
   "source": [
    "fig=show()\n",
    "savefig(fig,\"ReedsShepp.png\")"
   ]
  },
  {
   "cell_type": "markdown",
   "metadata": {},
   "source": [
    "### 1.3 ReedsShepp forward"
   ]
  },
  {
   "cell_type": "code",
   "execution_count": 21,
   "metadata": {},
   "outputs": [],
   "source": [
    "hfmIn['model']='ReedsSheppForward2'"
   ]
  },
  {
   "cell_type": "code",
   "execution_count": 22,
   "metadata": {},
   "outputs": [
    {
     "name": "stdout",
     "output_type": "stream",
     "text": [
      "Setting the kernel traits.\n",
      "Preparing the domain data (shape,metric,...)\n",
      "Preparing the problem rhs (cost, seeds,...)\n",
      "Preparing the GPU kernel\n",
      "Running the eikonal GPU kernel\n",
      "GPU kernel eikonal ran for 0.2182471752166748 seconds, and 127 iterations.\n",
      "Post-Processing\n"
     ]
    }
   ],
   "source": [
    "gpuOut = hfmIn.Run()"
   ]
  },
  {
   "cell_type": "code",
   "execution_count": 23,
   "metadata": {},
   "outputs": [
    {
     "name": "stdout",
     "output_type": "stream",
     "text": [
      "Setting the kernel traits.\n",
      "Preparing the domain data (shape,metric,...)\n",
      "Preparing the problem rhs (cost, seeds,...)\n",
      "Preparing the GPU kernel\n",
      "Running the eikonal GPU kernel\n",
      "GPU kernel eikonal ran for 0.03127288818359375 seconds, and 58 iterations.\n",
      "Post-Processing\n",
      "--- gpu done, turning to cpu ---\n",
      "Field verbosity defaults to 1\n",
      "Field eps defaults to 0.1\n",
      "Field order defaults to 1\n",
      "Field seedRadius defaults to 0\n",
      "Fast marching solver completed in 0.276 s.\n",
      "Field geodesicSolver defaults to Discrete\n",
      "Field geodesicStep defaults to 0.25\n",
      "Field geodesicWeightThreshold defaults to 0.001\n",
      "Field geodesicVolumeBound defaults to 10.985\n",
      "Ended Geodesic Discrete Solver\n",
      "***** Warning ! *****\n",
      "Unused fields from user: count_updates \n",
      "********************\n",
      "Solver time (s). GPU : 0.03127288818359375, CPU : 0.278. Device acceleration : 8.889489143693584\n",
      "Max |gpuValues-cpuValues| :  0.21157774249867334\n"
     ]
    }
   ],
   "source": [
    "gpuOut,cpuOut = RunCompare(hfmIn,check=0.005,check_ratio=0.004) "
   ]
  },
  {
   "cell_type": "code",
   "execution_count": 23,
   "metadata": {},
   "outputs": [
    {
     "data": {
      "text/plain": [
       "array( 7.17)"
      ]
     },
     "execution_count": 23,
     "metadata": {},
     "output_type": "execute_result"
    }
   ],
   "source": [
    "np.mean(gpuOut['stats']['eikonal']['nupdate_o'])"
   ]
  },
  {
   "cell_type": "code",
   "execution_count": 24,
   "metadata": {},
   "outputs": [],
   "source": [
    "# Stationnary deserves investigation...\n",
    "assert all(stop in ('AtSeed','PastSeed','Stationnary') for stop in gpuOut['geodesic_stopping_criteria'])"
   ]
  },
  {
   "cell_type": "code",
   "execution_count": 27,
   "metadata": {},
   "outputs": [],
   "source": [
    "fig=show()\n",
    "tips = hfmIn['tips'].T\n",
    "plt.quiver(*tips[:2],-np.cos(tips[2]),-np.sin(tips[2]))\n",
    "plt.quiver(0.,0.,1.,0.);\n",
    "savefig(fig,\"ReedsSheppForward.png\")"
   ]
  },
  {
   "cell_type": "markdown",
   "metadata": {},
   "source": [
    "### 1.4 Dubins"
   ]
  },
  {
   "cell_type": "code",
   "execution_count": 24,
   "metadata": {},
   "outputs": [],
   "source": [
    "hfmIn['model']='Dubins2'\n",
    "hfmIn['geodesic_targetTolerance']=15 # Increased to avoid one target miss"
   ]
  },
  {
   "cell_type": "code",
   "execution_count": 25,
   "metadata": {},
   "outputs": [
    {
     "name": "stdout",
     "output_type": "stream",
     "text": [
      "Setting the kernel traits.\n",
      "Preparing the domain data (shape,metric,...)\n",
      "Preparing the problem rhs (cost, seeds,...)\n",
      "Preparing the GPU kernel\n",
      "Running the eikonal GPU kernel\n",
      "GPU kernel eikonal ran for 0.478748083114624 seconds, and 205 iterations.\n",
      "Post-Processing\n"
     ]
    }
   ],
   "source": [
    "gpuOut = hfmIn.Run()"
   ]
  },
  {
   "cell_type": "code",
   "execution_count": 27,
   "metadata": {},
   "outputs": [
    {
     "name": "stdout",
     "output_type": "stream",
     "text": [
      "Setting the kernel traits.\n",
      "Preparing the domain data (shape,metric,...)\n",
      "Preparing the problem rhs (cost, seeds,...)\n",
      "Preparing the GPU kernel\n",
      "Running the eikonal GPU kernel\n",
      "GPU kernel eikonal ran for 0.0690608024597168 seconds, and 101 iterations.\n",
      "Post-Processing\n",
      "--- gpu done, turning to cpu ---\n",
      "Field verbosity defaults to 1\n",
      "Field eps defaults to 0.1\n",
      "Field order defaults to 1\n",
      "Field seedRadius defaults to 0\n",
      "Fast marching solver completed in 1.221 s.\n",
      "Field geodesicSolver defaults to Discrete\n",
      "Field geodesicStep defaults to 0.25\n",
      "Field geodesicWeightThreshold defaults to 0.001\n",
      "Field geodesicVolumeBound defaults to 10.985\n",
      "Ended Geodesic Discrete Solver\n",
      "***** Warning ! *****\n",
      "Unused fields from user: count_updates \n",
      "********************\n",
      "Solver time (s). GPU : 0.0690608024597168, CPU : 1.223. Device acceleration : 17.709032568994207\n",
      "Max |gpuValues-cpuValues| :  0.0531112294427909\n"
     ]
    }
   ],
   "source": [
    "gpuOut,cpuOut = RunCompare(hfmIn,check=0.005,check_ratio=0.02) #check=0.005,check_ratio=0.004) "
   ]
  },
  {
   "cell_type": "markdown",
   "metadata": {},
   "source": [
    "Some points of the domain are not reached by the front propagation, due to the non-locally controllable nature of the model.\n",
    "No geodesic can be extracted from these points, and the stopping criterion is set to 'InWall'."
   ]
  },
  {
   "cell_type": "code",
   "execution_count": 28,
   "metadata": {},
   "outputs": [],
   "source": [
    "assert all(stop in ('AtSeed','PastSeed','InWall') for stop in gpuOut['geodesic_stopping_criteria'])"
   ]
  },
  {
   "cell_type": "code",
   "execution_count": 26,
   "metadata": {},
   "outputs": [],
   "source": [
    "fig=show()\n",
    "savefig(fig,\"Dubins.png\")"
   ]
  },
  {
   "cell_type": "code",
   "execution_count": null,
   "metadata": {},
   "outputs": [],
   "source": []
  }
 ],
 "metadata": {
  "kernelspec": {
   "display_name": "Python 3 (ipykernel)",
   "language": "python",
   "name": "python3"
  },
  "language_info": {
   "codemirror_mode": {
    "name": "ipython",
    "version": 3
   },
   "file_extension": ".py",
   "mimetype": "text/x-python",
   "name": "python",
   "nbconvert_exporter": "python",
   "pygments_lexer": "ipython3",
   "version": "3.12.1"
  },
  "varInspector": {
   "cols": {
    "lenName": 16,
    "lenType": 16,
    "lenVar": 40
   },
   "kernels_config": {
    "python": {
     "delete_cmd_postfix": "",
     "delete_cmd_prefix": "del ",
     "library": "var_list.py",
     "varRefreshCmd": "print(var_dic_list())"
    },
    "r": {
     "delete_cmd_postfix": ") ",
     "delete_cmd_prefix": "rm(",
     "library": "var_list.r",
     "varRefreshCmd": "cat(var_dic_list()) "
    }
   },
   "types_to_exclude": [
    "module",
    "function",
    "builtin_function_or_method",
    "instance",
    "_Feature"
   ],
   "window_display": false
  }
 },
 "nbformat": 4,
 "nbformat_minor": 4
}

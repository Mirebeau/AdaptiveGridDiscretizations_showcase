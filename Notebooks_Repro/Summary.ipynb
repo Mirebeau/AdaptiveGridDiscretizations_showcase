{
 "cells": [
  {
   "cell_type": "markdown",
   "metadata": {},
   "source": [
    "# Adaptive grid discretizations\n",
    "## A set of tools for discretizing anisotropic PDEs on cartesian grids\n",
    "# Volume : Reproducible research"
   ]
  },
  {
   "cell_type": "markdown",
   "metadata": {},
   "source": [
    "The notebooks presented in this volume have two main goals:\n",
    "* Validating the convergence rates of numerical methods, by e.g. comparison with analytical solutions at several discretizatins. Reproducing the corresponding data and figures found in some publications. These results are provided in the spirit of reproducible research, and they may be regarded as companion material for the corresponding papers.\n",
    "* Validating numerical solvers by comparison with alternative approaches. In particular, comparing the GPU eikonal solver with the CPU eikonal solver, in terms of accuracy and computation time. For sufficiently large instance sizes, and depending on the particular application, accelerations by a factor $20 \\times$ to $200 \\times$ can be obtained on suitable GPUs, which may open up new applications involving e.g. realtime interaction. \n",
    "\n",
    "The notebooks presented in this volume should not be considered as standalone material. We refer to the the other volumes for notebooks which are:\n",
    "* Pedagogical and mathematically introduced. Here the mathematical notions are to be found in the companion paper. \n",
    "* Has reasonable computation times, intended for interactivity and tampering with the parameters. \n",
    "\n",
    "**System requirements.** \n",
    "The *cupy* package is required for the GPU enabled notebooks, as well as a cuda capable GPU."
   ]
  },
  {
   "cell_type": "markdown",
   "metadata": {},
   "source": [
    "**Github repository** to run and modify the examples on your computer.\n",
    "[AdaptiveGridDiscretizations](https://github.com/Mirebeau/AdaptiveGridDiscretizations)\n",
    "\n",
    "\n",
    "# Table of contents\n",
    "[**Main summary**](../Summary.ipynb), including the other volumes of this work. \n",
    "### A. Convergence rates\n",
    "\n",
    " * I. [Pucci and Monge-Ampere equations](PucciMongeAmpere.ipynb)\n",
    "  1. Synthetic solutions and domain\n",
    "  2. Problem data\n",
    "  3. Pucci equation\n",
    "  4. Monge-Ampere\n",
    "\n",
    "\n",
    " * II. [Eikonal equations](EikonalRate.ipynb)\n",
    "  1. Test configuration\n",
    "  2. Isotropic metrics\n",
    "  3. Riemannian metrics\n",
    "  4. Rander metrics\n",
    "  5. Metrics defined by a Hooke tensor\n",
    "\n",
    "\n",
    "### B. Eikonal CPU/GPU solvers comparison\n",
    "\n",
    " * I. [Isotropic metrics](Isotropic_GPU.ipynb)\n",
    "  1. Three dimensions\n",
    "  2. Two dimensions\n",
    "  3. GPU specific options\n",
    "\n",
    "\n",
    " * II. [Riemannian metrics](Riemann_GPU.ipynb)\n",
    "  1. Two dimensions\n",
    "  2. Three dimensions\n",
    "\n",
    "\n",
    " * III. [Randers metrics](Rander_GPU.ipynb)\n",
    "  1. Two dimensions\n",
    "  2. Three dimensions\n",
    "\n",
    "\n",
    " * IV. [Curvature penalized models](Curvature_GPU.ipynb)\n",
    "  1. Constant cost\n",
    "\n",
    "\n",
    " * V. [Flow and geodesics](Flow_GPU.ipynb)\n",
    "  1. Constant metrics\n",
    "  2. Variable metrics\n",
    "  3. Online recomputation of the geodesic flow\n",
    "\n",
    "\n",
    " * VI. [Curvature penalized models](Seismic_GPU.ipynb)\n",
    "  1. Two dimensions\n",
    "  2. Three dimensions\n",
    "\n",
    "\n",
    " * VII. [Walls and obstacles](Walls_GPU.ipynb)\n",
    "  1. Isotropic metrics\n",
    "  2. Curvature penalized metrics\n",
    "  3. Centre Pompidou\n",
    "\n",
    "\n",
    " * VIII. [Forward and reverse differentiation](EikonalAD_GPU.ipynb)\n",
    "  1. Forward differentiation\n",
    "  2. Reverse differentiation"
   ]
  },
  {
   "cell_type": "code",
   "execution_count": 1,
   "metadata": {
    "execution": {
     "iopub.execute_input": "2023-03-23T16:55:03.489476Z",
     "iopub.status.busy": "2023-03-23T16:55:03.489362Z",
     "iopub.status.idle": "2023-03-23T16:55:03.492095Z",
     "shell.execute_reply": "2023-03-23T16:55:03.491843Z"
    }
   },
   "outputs": [],
   "source": [
    "#import sys; sys.path.append(\"..\") # Allow imports from parent directory\n",
    "#from Miscellaneous import TocTools; print(TocTools.displayTOCs('Repro'))"
   ]
  }
 ],
 "metadata": {
  "kernelspec": {
   "display_name": "Python 3",
   "language": "python",
   "name": "python3"
  },
  "language_info": {
   "codemirror_mode": {
    "name": "ipython",
    "version": 3
   },
   "file_extension": ".py",
   "mimetype": "text/x-python",
   "name": "python",
   "nbconvert_exporter": "python",
   "pygments_lexer": "ipython3",
   "version": "3.9.13"
  }
 },
 "nbformat": 4,
 "nbformat_minor": 2
}

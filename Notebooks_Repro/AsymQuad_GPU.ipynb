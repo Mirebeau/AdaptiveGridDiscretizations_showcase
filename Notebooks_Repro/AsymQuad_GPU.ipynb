{
 "cells": [
  {
   "cell_type": "markdown",
   "metadata": {},
   "source": [
    "# Adaptive PDE discretizations on Cartesian grids\n",
    "## Volume : Reproducible research\n",
    "## Part : Eikonal CPU/GPU solvers comparison\n",
    "## Chapter : Asymmetric-Quadratic metrics"
   ]
  },
  {
   "cell_type": "markdown",
   "metadata": {},
   "source": [
    "In this notebook, we solve Asymmetric-Quadratic eikonal equations on the CPU and the GPU, and check that they produce consistent results.\n",
    "\n",
    "*Note on the numerical schemes*: The numerical schemes solved by the CPU and the GPU in the Asymmetric-Quadratic case are entirely different. The CPU version uses a causal semi-Lagrangian scheme, in two dimensions, and a causal Eulerian scheme in three dimensions, which is only approximately consistent. The GPU version uses a non-causal (yet monotone) Eulerian scheme, in any dimension."
   ]
  },
  {
   "cell_type": "markdown",
   "metadata": {},
   "source": [
    "[**Summary**](Summary.ipynb) of volume Reproducible research, this series of notebooks.\n",
    "\n",
    "[**Main summary**](../Summary.ipynb) of the Adaptive Grid Discretizations \n",
    "\tbook of notebooks, including the other volumes.\n",
    "\n",
    "# Table of contents\n",
    "  * [1. Two dimensions](#1.-Two-dimensions)\n",
    "  * [2. Three dimensions](#2.-Three-dimensions)\n",
    "\n",
    "\n",
    "\n",
    "**Acknowledgement.** Some of the experiments presented in these notebooks are part of \n",
    "ongoing research with Ludovic Métivier and Da Chen.\n",
    "\n",
    "Copyright Jean-Marie Mirebeau, Centre Borelli, ENS Paris-Saclay, CNRS, University Paris-Saclay"
   ]
  },
  {
   "cell_type": "markdown",
   "metadata": {},
   "source": [
    "## 0. Importing the required libraries"
   ]
  },
  {
   "cell_type": "code",
   "execution_count": 1,
   "metadata": {
    "execution": {
     "iopub.execute_input": "2023-01-27T15:55:31.688876Z",
     "iopub.status.busy": "2023-01-27T15:55:31.688459Z",
     "iopub.status.idle": "2023-01-27T15:55:31.697227Z",
     "shell.execute_reply": "2023-01-27T15:55:31.696797Z"
    }
   },
   "outputs": [],
   "source": [
    "import sys; sys.path.insert(0,\"..\")\n",
    "#from Miscellaneous import TocTools; print(TocTools.displayTOC('AsymQuad_GPU','Repro'))"
   ]
  },
  {
   "cell_type": "code",
   "execution_count": 2,
   "metadata": {
    "execution": {
     "iopub.execute_input": "2023-01-27T15:55:31.699614Z",
     "iopub.status.busy": "2023-01-27T15:55:31.699409Z",
     "iopub.status.idle": "2023-01-27T15:55:31.832551Z",
     "shell.execute_reply": "2023-01-27T15:55:31.832086Z"
    }
   },
   "outputs": [
    {
     "ename": "DeliberateNotebookError",
     "evalue": "Cupy module required",
     "output_type": "error",
     "traceback": [
      "\u001b[0;31m---------------------------------------------------------------------------\u001b[0m",
      "\u001b[0;31mDeliberateNotebookError\u001b[0m                   Traceback (most recent call last)",
      "Cell \u001b[0;32mIn[2], line 2\u001b[0m\n\u001b[1;32m      1\u001b[0m \u001b[38;5;28;01mfrom\u001b[39;00m \u001b[38;5;21;01magd\u001b[39;00m \u001b[38;5;28;01mimport\u001b[39;00m AutomaticDifferentiation \u001b[38;5;28;01mas\u001b[39;00m ad\n\u001b[0;32m----> 2\u001b[0m \u001b[38;5;28;01mif\u001b[39;00m ad\u001b[38;5;241m.\u001b[39mcupy_generic\u001b[38;5;241m.\u001b[39mcp \u001b[38;5;129;01mis\u001b[39;00m \u001b[38;5;28;01mNone\u001b[39;00m: \u001b[38;5;28;01mraise\u001b[39;00m ad\u001b[38;5;241m.\u001b[39mDeliberateNotebookError(\u001b[38;5;124m'\u001b[39m\u001b[38;5;124mCupy module required\u001b[39m\u001b[38;5;124m'\u001b[39m)\n\u001b[1;32m      3\u001b[0m \u001b[38;5;28;01mfrom\u001b[39;00m \u001b[38;5;21;01magd\u001b[39;00m \u001b[38;5;28;01mimport\u001b[39;00m Eikonal\n\u001b[1;32m      4\u001b[0m \u001b[38;5;28;01mfrom\u001b[39;00m \u001b[38;5;21;01magd\u001b[39;00m \u001b[38;5;28;01mimport\u001b[39;00m Metrics\n",
      "\u001b[0;31mDeliberateNotebookError\u001b[0m: Cupy module required"
     ]
    }
   ],
   "source": [
    "from agd import AutomaticDifferentiation as ad\n",
    "if ad.cupy_generic.cp is None: raise ad.DeliberateNotebookError('Cupy module required')\n",
    "from agd import Eikonal\n",
    "from agd import Metrics\n",
    "from agd import FiniteDifferences as fd\n",
    "from agd import LinearParallel as lp\n",
    "import agd.AutomaticDifferentiation.cupy_generic as cugen"
   ]
  },
  {
   "cell_type": "code",
   "execution_count": 3,
   "metadata": {},
   "outputs": [],
   "source": [
    "import cupy as cp\n",
    "import numpy as np\n",
    "import itertools\n",
    "from matplotlib import pyplot as plt\n",
    "np.set_printoptions(edgeitems=30, linewidth=100000, formatter=dict(float=lambda x: \"%5.3g\" % x))"
   ]
  },
  {
   "cell_type": "code",
   "execution_count": 4,
   "metadata": {},
   "outputs": [],
   "source": [
    "from agd.ExportedCode.Notebooks_Repro.Isotropic_GPU import RunCompare"
   ]
  },
  {
   "cell_type": "code",
   "execution_count": 5,
   "metadata": {},
   "outputs": [],
   "source": [
    "cp = ad.functional.decorate_module_functions(cp,cugen.set_output_dtype32)\n",
    "plt = ad.functional.decorate_module_functions(plt,cugen.cupy_get_args)\n",
    "Eikonal.dictIn.default_mode = 'gpu'"
   ]
  },
  {
   "cell_type": "code",
   "execution_count": 6,
   "metadata": {},
   "outputs": [],
   "source": [
    "def ReloadPackages():\n",
    "    from Miscellaneous.rreload import rreload\n",
    "    global Eikonal,ad,cugen,RunSmart,Metrics\n",
    "    Eikonal,ad,cugen,Metrics = rreload([Eikonal,ad,cugen,Metrics],\"../..\")    \n",
    "    Eikonal.dictIn.default_mode = 'gpu'"
   ]
  },
  {
   "cell_type": "markdown",
   "metadata": {},
   "source": [
    "### 0.1 Additional configuration"
   ]
  },
  {
   "cell_type": "code",
   "execution_count": 7,
   "metadata": {},
   "outputs": [],
   "source": [
    "large_instances = False # True favors the GPU code (CPU times may become a big long.)\n",
    "strong_anisotropy = True # True favors the CPU code "
   ]
  },
  {
   "cell_type": "markdown",
   "metadata": {},
   "source": [
    "## 1. Two dimensions"
   ]
  },
  {
   "cell_type": "code",
   "execution_count": 8,
   "metadata": {},
   "outputs": [],
   "source": [
    "n=2000 if large_instances else 200\n",
    "asym = 4. if strong_anisotropy else 1.\n",
    "hfmIn = Eikonal.dictIn({\n",
    "    'model':'AsymmetricQuadratic2',\n",
    "    'seed':[0.,0.],\n",
    "    'exportValues':1,\n",
    "    'factoringRadius':20,\n",
    "    'count_updates':True,\n",
    "#    'fim_front_width':6,'traits':{'niter_i':10}\n",
    "})\n",
    "hfmIn.SetRect([[-1,1],[-1,1]],dimx=n+1,sampleBoundary=True)\n",
    "hfmIn.SetUniformTips((6,6))\n",
    "hfmIn['metric'] = Metrics.AsymQuad(cp.eye(2),cp.array([asym,0.]) ).rotate_by(cp.array(0.5))\n",
    "X = hfmIn.Grid()"
   ]
  },
  {
   "cell_type": "markdown",
   "metadata": {},
   "source": [
    " The CPU and gpu code produce identical similar results, despite the very distinct implementations."
   ]
  },
  {
   "cell_type": "code",
   "execution_count": 9,
   "metadata": {},
   "outputs": [
    {
     "name": "stdout",
     "output_type": "stream",
     "text": [
      "Setting the kernel traits.\n",
      "Preparing the domain data (shape,metric,...)\n",
      "Preparing the problem rhs (cost, seeds,...)\n",
      "Preparing the GPU kernel\n",
      "Running the eikonal GPU kernel\n",
      "GPU kernel eikonal ran for 0.26004719734191895 seconds, and 99 iterations.\n",
      "Post-Processing\n",
      "--- gpu done, turning to cpu ---\n",
      "Field verbosity defaults to 1\n",
      "Field cosAngleMin defaults to 0.5\n",
      "Field refineStencilAtWallBoundary defaults to 0\n",
      "Field order defaults to 1\n",
      "Field seedRadius defaults to 2\n",
      "Fast marching solver completed in 0.046 s.\n",
      "Field geodesicSolver defaults to Discrete\n",
      "Field geodesicStep defaults to 0.25\n",
      "Field geodesicWeightThreshold defaults to 0.001\n",
      "Field geodesicVolumeBound defaults to 8.45\n",
      "Ended Geodesic Discrete Solver\n",
      "***** Warning ! *****\n",
      "Unused fields from user: count_updates \n",
      "********************\n",
      "Solver time (s). GPU : 0.26004719734191895, CPU : 0.092. Device acceleration : 0.3537819324352696\n",
      "Max |gpuValues-cpuValues| :  0.011850670197332214\n"
     ]
    }
   ],
   "source": [
    "gpuOut,cpuOut = RunCompare(hfmIn,check=0.015)"
   ]
  },
  {
   "cell_type": "code",
   "execution_count": 10,
   "metadata": {},
   "outputs": [
    {
     "data": {
      "image/png": "[encoded data removed]",
      "text/plain": [
       "<Figure size 432x288 with 1 Axes>"
      ]
     },
     "metadata": {
      "needs_background": "light"
     },
     "output_type": "display_data"
    }
   ],
   "source": [
    "plt.title('Level lines of a constant asymmetric quadratic metric'); plt.axis('equal')\n",
    "plt.contour(*X,gpuOut['values']);"
   ]
  },
  {
   "cell_type": "markdown",
   "metadata": {},
   "source": [
    "The geodesics are straight lines, as expected for a constant metric."
   ]
  },
  {
   "cell_type": "code",
   "execution_count": 11,
   "metadata": {},
   "outputs": [
    {
     "data": {
      "image/png": "[encoded data removed]",
      "text/plain": [
       "<Figure size 432x288 with 1 Axes>"
      ]
     },
     "metadata": {
      "needs_background": "light"
     },
     "output_type": "display_data"
    }
   ],
   "source": [
    "plt.axis('equal')\n",
    "for geo in gpuOut['geodesics']: plt.plot(*geo)"
   ]
  },
  {
   "cell_type": "markdown",
   "metadata": {},
   "source": [
    "The GPU acceleration depends on the strength of the anisotropy, on the instance size, and on the dimension.\n",
    "\n",
    "**Number of update per block.**\n",
    "Using the basic AGSI scheme yields large number of updates per block, often in excess of $300$. This is presumably due to the non-causality of the scheme. A custom variant of the fast iterative method allows to significantly reduce this computation time."
   ]
  },
  {
   "cell_type": "code",
   "execution_count": 12,
   "metadata": {},
   "outputs": [
    {
     "data": {
      "text/plain": [
       "(16.89644970414201, 36)"
      ]
     },
     "execution_count": 12,
     "metadata": {},
     "output_type": "execute_result"
    }
   ],
   "source": [
    "nupdate = gpuOut['stats']['eikonal']['nupdate_o'].get()\n",
    "np.mean(nupdate),np.max(nupdate)"
   ]
  },
  {
   "cell_type": "markdown",
   "metadata": {},
   "source": [
    "The number of updates is increasing almost linearly in all directions, from the seed point. This is a strong hint that a mechanism for bounding the front width is needed."
   ]
  },
  {
   "cell_type": "code",
   "execution_count": 13,
   "metadata": {},
   "outputs": [
    {
     "data": {
      "image/png": "[encoded data removed]",
      "text/plain": [
       "<Figure size 432x288 with 2 Axes>"
      ]
     },
     "metadata": {
      "needs_background": "light"
     },
     "output_type": "display_data"
    }
   ],
   "source": [
    "plt.contourf(gpuOut['stats']['eikonal']['nupdate_o'])\n",
    "plt.axis('equal'); plt.colorbar();"
   ]
  },
  {
   "cell_type": "markdown",
   "metadata": {},
   "source": [
    "## 2. Three dimensions"
   ]
  },
  {
   "cell_type": "code",
   "execution_count": 14,
   "metadata": {},
   "outputs": [],
   "source": [
    "n=200 if large_instances else 50\n",
    "asym = 4. if strong_anisotropy else 1.\n",
    "hfmIn = Eikonal.dictIn({\n",
    "    'model':'AsymmetricQuadratic3',\n",
    "    'seed':[0.,0.,0.],\n",
    "    'exportValues':1,\n",
    "#    'factoringRadius':20, # 3D cpu version does not support factoring\n",
    "    'count_updates':True,\n",
    "    'fim_front_width':5,'traits':{'niter_i':4}, # Improves GPU times a bit\n",
    "#    'bound_active_blocks':True,\n",
    "})\n",
    "hfmIn.SetRect([[-1,1],[-1,1],[-1,1]],dimx=n+1,sampleBoundary=True)\n",
    "hfmIn.SetUniformTips((6,6,6))\n",
    "hfmIn['metric'] = Metrics.AsymQuad(cp.eye(3),cp.array([asym,0.,0.]) ).rotate_by(cp.array(0.5),cp.array([1.,2.,3.]) )\n",
    "X = hfmIn.Grid()"
   ]
  },
  {
   "cell_type": "code",
   "execution_count": 15,
   "metadata": {},
   "outputs": [
    {
     "name": "stdout",
     "output_type": "stream",
     "text": [
      "Setting the kernel traits.\n",
      "Preparing the domain data (shape,metric,...)\n",
      "Preparing the problem rhs (cost, seeds,...)\n",
      "Preparing the GPU kernel\n",
      "Running the eikonal GPU kernel\n",
      "GPU kernel eikonal ran for 0.06084585189819336 seconds, and 82 iterations.\n",
      "Post-Processing\n",
      "--- gpu done, turning to cpu ---\n",
      "Field verbosity defaults to 1\n",
      "Field eps defaults to 0.3\n",
      "Field order defaults to 1\n",
      "Field seedRadius defaults to 0\n",
      "Fast marching solver completed in 0.359 s.\n",
      "Field geodesicSolver defaults to Discrete\n",
      "Field geodesicStep defaults to 0.25\n",
      "Field geodesicWeightThreshold defaults to 0.001\n",
      "Field geodesicVolumeBound defaults to 10.985\n",
      "Ended Geodesic Discrete Solver\n",
      "***** Warning ! *****\n",
      "Unused fields from user: count_updates fim_front_width \n",
      "********************\n",
      "Solver time (s). GPU : 0.06084585189819336, CPU : 0.6910000000000001. Device acceleration : 11.356567102654328\n",
      "Max |gpuValues-cpuValues| :  0.1010283741464284\n"
     ]
    }
   ],
   "source": [
    "gpuOut,cpuOut = RunCompare(hfmIn,check=0.15)"
   ]
  },
  {
   "cell_type": "markdown",
   "metadata": {},
   "source": [
    "Again, the number of GPU updates is higher than we would like it to be. The situation is not a bad as in two dimensions, nevertheless, because the domain is less wide."
   ]
  },
  {
   "cell_type": "code",
   "execution_count": 16,
   "metadata": {},
   "outputs": [
    {
     "data": {
      "text/plain": [
       "(17.548020027309967, 38)"
      ]
     },
     "execution_count": 16,
     "metadata": {},
     "output_type": "execute_result"
    }
   ],
   "source": [
    "nupdate = gpuOut['stats']['eikonal']['nupdate_o'].get()\n",
    "np.mean(nupdate),np.max(nupdate)"
   ]
  },
  {
   "cell_type": "markdown",
   "metadata": {},
   "source": [
    "The GPU solver can handle source factorization, which substantially reduces error."
   ]
  },
  {
   "cell_type": "code",
   "execution_count": 17,
   "metadata": {},
   "outputs": [
    {
     "name": "stdout",
     "output_type": "stream",
     "text": [
      "Setting the kernel traits.\n",
      "Preparing the domain data (shape,metric,...)\n",
      "Preparing the problem rhs (cost, seeds,...)\n",
      "Preparing the GPU kernel\n",
      "Running the eikonal GPU kernel\n",
      "GPU kernel eikonal ran for 0.06180834770202637 seconds, and 82 iterations.\n",
      "Post-Processing\n"
     ]
    }
   ],
   "source": [
    "hfmIn['factoringRadius']=20\n",
    "gpuOut2 = hfmIn.Run()"
   ]
  },
  {
   "cell_type": "code",
   "execution_count": 18,
   "metadata": {},
   "outputs": [
    {
     "name": "stdout",
     "output_type": "stream",
     "text": [
      "Error without factorization :  0.098416954\n",
      "Error with factorization :  0.006475558\n"
     ]
    }
   ],
   "source": [
    "exact = hfmIn['metric'].norm(X)\n",
    "print('Error without factorization : ',np.mean(np.abs(gpuOut['values']-exact)) )\n",
    "print('Error with factorization : ',np.mean(np.abs(gpuOut2['values']-exact)) )"
   ]
  },
  {
   "cell_type": "code",
   "execution_count": null,
   "metadata": {},
   "outputs": [],
   "source": []
  }
 ],
 "metadata": {
  "kernelspec": {
   "display_name": "Python 3 (ipykernel)",
   "language": "python",
   "name": "python3"
  },
  "language_info": {
   "codemirror_mode": {
    "name": "ipython",
    "version": 3
   },
   "file_extension": ".py",
   "mimetype": "text/x-python",
   "name": "python",
   "nbconvert_exporter": "python",
   "pygments_lexer": "ipython3",
   "version": "3.10.8"
  },
  "varInspector": {
   "cols": {
    "lenName": 16,
    "lenType": 16,
    "lenVar": 40
   },
   "kernels_config": {
    "python": {
     "delete_cmd_postfix": "",
     "delete_cmd_prefix": "del ",
     "library": "var_list.py",
     "varRefreshCmd": "print(var_dic_list())"
    },
    "r": {
     "delete_cmd_postfix": ") ",
     "delete_cmd_prefix": "rm(",
     "library": "var_list.r",
     "varRefreshCmd": "cat(var_dic_list()) "
    }
   },
   "types_to_exclude": [
    "module",
    "function",
    "builtin_function_or_method",
    "instance",
    "_Feature"
   ],
   "window_display": false
  }
 },
 "nbformat": 4,
 "nbformat_minor": 4
}

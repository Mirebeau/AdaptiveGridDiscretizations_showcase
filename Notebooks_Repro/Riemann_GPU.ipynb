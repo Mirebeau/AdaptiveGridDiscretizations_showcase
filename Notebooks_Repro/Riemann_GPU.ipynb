{
 "cells": [
  {
   "cell_type": "markdown",
   "metadata": {},
   "source": [
    "# Adaptive PDE discretizations on Cartesian grids\n",
    "## Volume : Reproducible research\n",
    "## Part : Eikonal CPU/GPU solvers comparison\n",
    "## Chapter : Riemannian metrics"
   ]
  },
  {
   "cell_type": "markdown",
   "metadata": {},
   "source": [
    "In this notebook, we solve Riemannian eikonal equations on the CPU and the GPU, and check that they produce consistent results.\n",
    "\n",
    "**GPU performance** GPUs are massively parallel machines, which efficiently exploit cache locality. Hence they are at their advantage with :\n",
    "* Large problem instances, which are embarassingly parallel\n",
    "* Moderate anisotropy, so that the numerical scheme stncils are not too wide"
   ]
  },
  {
   "cell_type": "markdown",
   "metadata": {},
   "source": [
    "[**Summary**](Summary.ipynb) of volume Reproducible research, this series of notebooks.\n",
    "\n",
    "[**Main summary**](../Summary.ipynb) of the Adaptive Grid Discretizations \n",
    "\tbook of notebooks, including the other volumes.\n",
    "\n",
    "# Table of contents\n",
    "  * [1. Two dimensions](#1.-Two-dimensions)\n",
    "    * [1.1 Isotropic metric](#1.1-Isotropic-metric)\n",
    "    * [1.2 Smooth anisotropic metric](#1.2-Smooth-anisotropic-metric)\n",
    "  * [2. Three dimensions](#2.-Three-dimensions)\n",
    "    * [2.1 Smooth anisotropic metric](#2.1-Smooth-anisotropic-metric)\n",
    "\n",
    "\n",
    "\n",
    "**Acknowledgement.** Some of the experiments presented in these notebooks are part of \n",
    "ongoing research with Ludovic Métivier and Da Chen.\n",
    "\n",
    "Copyright Jean-Marie Mirebeau, Centre Borelli, ENS Paris-Saclay, CNRS, University Paris-Saclay"
   ]
  },
  {
   "cell_type": "markdown",
   "metadata": {},
   "source": [
    "## 0. Importing the required libraries"
   ]
  },
  {
   "cell_type": "code",
   "execution_count": 1,
   "metadata": {
    "execution": {
     "iopub.execute_input": "2023-01-27T16:03:58.461179Z",
     "iopub.status.busy": "2023-01-27T16:03:58.460675Z",
     "iopub.status.idle": "2023-01-27T16:03:58.469940Z",
     "shell.execute_reply": "2023-01-27T16:03:58.469453Z"
    }
   },
   "outputs": [],
   "source": [
    "import sys; sys.path.insert(0,\"..\")\n",
    "#from Miscellaneous import TocTools; print(TocTools.displayTOC('Riemann_GPU','Repro'))"
   ]
  },
  {
   "cell_type": "code",
   "execution_count": 2,
   "metadata": {
    "execution": {
     "iopub.execute_input": "2023-01-27T16:03:58.472962Z",
     "iopub.status.busy": "2023-01-27T16:03:58.472728Z",
     "iopub.status.idle": "2023-01-27T16:03:58.607841Z",
     "shell.execute_reply": "2023-01-27T16:03:58.607354Z"
    }
   },
   "outputs": [
    {
     "ename": "DeliberateNotebookError",
     "evalue": "Cupy module required",
     "output_type": "error",
     "traceback": [
      "\u001b[0;31m---------------------------------------------------------------------------\u001b[0m",
      "\u001b[0;31mDeliberateNotebookError\u001b[0m                   Traceback (most recent call last)",
      "Cell \u001b[0;32mIn[2], line 2\u001b[0m\n\u001b[1;32m      1\u001b[0m \u001b[38;5;28;01mfrom\u001b[39;00m \u001b[38;5;21;01magd\u001b[39;00m \u001b[38;5;28;01mimport\u001b[39;00m AutomaticDifferentiation \u001b[38;5;28;01mas\u001b[39;00m ad\n\u001b[0;32m----> 2\u001b[0m \u001b[38;5;28;01mif\u001b[39;00m ad\u001b[38;5;241m.\u001b[39mcupy_generic\u001b[38;5;241m.\u001b[39mcp \u001b[38;5;129;01mis\u001b[39;00m \u001b[38;5;28;01mNone\u001b[39;00m: \u001b[38;5;28;01mraise\u001b[39;00m ad\u001b[38;5;241m.\u001b[39mDeliberateNotebookError(\u001b[38;5;124m'\u001b[39m\u001b[38;5;124mCupy module required\u001b[39m\u001b[38;5;124m'\u001b[39m)\n\u001b[1;32m      3\u001b[0m \u001b[38;5;28;01mfrom\u001b[39;00m \u001b[38;5;21;01magd\u001b[39;00m \u001b[38;5;28;01mimport\u001b[39;00m Eikonal\n\u001b[1;32m      4\u001b[0m \u001b[38;5;28;01mfrom\u001b[39;00m \u001b[38;5;21;01magd\u001b[39;00m \u001b[38;5;28;01mimport\u001b[39;00m Metrics\n",
      "\u001b[0;31mDeliberateNotebookError\u001b[0m: Cupy module required"
     ]
    }
   ],
   "source": [
    "from agd import AutomaticDifferentiation as ad\n",
    "if ad.cupy_generic.cp is None: raise ad.DeliberateNotebookError('Cupy module required')\n",
    "from agd import Eikonal\n",
    "from agd import Metrics\n",
    "from agd import FiniteDifferences as fd\n",
    "from agd import LinearParallel as lp\n",
    "import agd.AutomaticDifferentiation.cupy_generic as cugen\n",
    "\n",
    "from agd.ExportedCode.Notebooks_Repro.Isotropic_GPU import RunCompare\n",
    "Eikonal.dictIn.default_mode = 'gpu'"
   ]
  },
  {
   "cell_type": "code",
   "execution_count": 3,
   "metadata": {},
   "outputs": [],
   "source": [
    "import cupy as cp\n",
    "import numpy as np\n",
    "import itertools\n",
    "from matplotlib import pyplot as plt\n",
    "np.set_printoptions(edgeitems=30, linewidth=100000, formatter=dict(float=lambda x: \"%5.3g\" % x))"
   ]
  },
  {
   "cell_type": "code",
   "execution_count": 4,
   "metadata": {},
   "outputs": [],
   "source": [
    "def ReloadPackages():\n",
    "    from Miscellaneous.rreload import rreload\n",
    "    global Eikonal,ad,cugen,RunGPU,RunSmart,Metrics\n",
    "    Eikonal,ad,cugen,Metrics = rreload([Eikonal,ad,cugen,Metrics],\"../..\")    \n",
    "    Eikonal.dictIn.default_mode = 'gpu'"
   ]
  },
  {
   "cell_type": "code",
   "execution_count": 5,
   "metadata": {},
   "outputs": [],
   "source": [
    "cp = ad.functional.decorate_module_functions(cp,cugen.set_output_dtype32) # Use float32 and int32 types in place of float64 and int64\n",
    "plt = ad.functional.decorate_module_functions(plt,cugen.cupy_get_args)"
   ]
  },
  {
   "cell_type": "markdown",
   "metadata": {},
   "source": [
    "### 0.1 Additional configuration"
   ]
  },
  {
   "cell_type": "code",
   "execution_count": 6,
   "metadata": {},
   "outputs": [],
   "source": [
    "large_instances = False # True favors the GPU code (CPU times may become a big long.)\n",
    "strong_anisotropy = True # True favors the CPU code \n",
    "anisotropy_bound = 10. if strong_anisotropy else 4. # Ratio between the fastest and the smallest velocity at any given point"
   ]
  },
  {
   "cell_type": "code",
   "execution_count": 7,
   "metadata": {},
   "outputs": [],
   "source": [
    "def surface_metric(x,z,mu):\n",
    "    ndim,shape = x.ndim-1,x.shape[1:]\n",
    "    x_ad = ad.Dense.identity(constant=x,shape_free=(ndim,))\n",
    "    tensors = lp.outer_self( z(x_ad).gradient() ) + mu**-2 * fd.as_field(cp.eye(ndim),shape)\n",
    "    return Metrics.Riemann(tensors)"
   ]
  },
  {
   "cell_type": "markdown",
   "metadata": {},
   "source": [
    "## 1. Two dimensions"
   ]
  },
  {
   "cell_type": "markdown",
   "metadata": {},
   "source": [
    "### 1.1 Isotropic metric"
   ]
  },
  {
   "cell_type": "code",
   "execution_count": 8,
   "metadata": {},
   "outputs": [],
   "source": [
    "n=4000 if large_instances else 1000\n",
    "hfmIn = Eikonal.dictIn({\n",
    "    'model':'Riemann2',\n",
    "    'metric':Metrics.Riemann.from_cast(Metrics.Isotropic(cp.array(1.),vdim=2)),\n",
    "    'seed':[0.5,0.5],\n",
    "    'exportValues':1,\n",
    "#    'bound_active_blocks':True,\n",
    "    'traits':{\n",
    "        'niter_i':24,'shape_i':(12,12), # Best\n",
    "    }\n",
    "})\n",
    "hfmIn.SetRect([[0,1],[0,1]],dimx=n+1,sampleBoundary=True)"
   ]
  },
  {
   "cell_type": "code",
   "execution_count": 9,
   "metadata": {},
   "outputs": [
    {
     "name": "stdout",
     "output_type": "stream",
     "text": [
      "Setting the kernel traits.\n",
      "Preparing the domain data (shape,metric,...)\n",
      "Preparing the problem rhs (cost, seeds,...)\n",
      "Preparing the GPU kernel\n",
      "Running the eikonal GPU kernel\n",
      "GPU kernel eikonal ran for 0.06245279312133789 seconds, and 115 iterations.\n",
      "Post-Processing\n",
      "--- gpu done, turning to cpu ---\n",
      "Field verbosity defaults to 1\n",
      "Field order defaults to 1\n",
      "Field seedRadius defaults to 0\n",
      "Fast marching solver completed in 0.403 s.\n",
      "Solver time (s). GPU : 0.06245279312133789, CPU : 0.765. Device acceleration : 12.249251983233187\n",
      "Max |gpuValues-cpuValues| :  2.91457399725914e-06\n"
     ]
    }
   ],
   "source": [
    "_,cpuOut = RunCompare(hfmIn,check=1e-5)"
   ]
  },
  {
   "cell_type": "code",
   "execution_count": 10,
   "metadata": {},
   "outputs": [],
   "source": [
    "n=200; hfmInS = hfmIn.copy() # Define a small instance for bit-consistency validation\n",
    "hfmInS.SetRect([[0,1],[0,1]],dimx=n+1,sampleBoundary=True)\n",
    "X = hfmInS.Grid()\n",
    "cost = np.prod(np.sin(2*np.pi*X),axis=0)+1.1\n",
    "hfmInS.update({\n",
    "    'metric': Metrics.Riemann.from_cast(Metrics.Isotropic(cost,vdim=2)), # Isotropic but non-constant metric\n",
    "    'verbosity':0,\n",
    "})"
   ]
  },
  {
   "cell_type": "code",
   "execution_count": 11,
   "metadata": {},
   "outputs": [
    {
     "name": "stdout",
     "output_type": "stream",
     "text": [
      "Solver time (s). GPU : 0.015653610229492188, CPU : 0.028. Device acceleration : 1.7887247471670527\n",
      "Max |gpuValues-cpuValues| :  1.3399500079502857e-06\n",
      "\n",
      " --- Variant {'multiprecision': True} ---\n",
      "Solver time (s). GPU : 0.015623807907104492, CPU : 0.027. Device acceleration : 1.7281318459965513\n",
      "Max |gpuValues-cpuValues| :  4.0380158106145814e-08\n",
      "\n",
      " --- Variant {'seedRadius': 2.0} ---\n",
      "Solver time (s). GPU : 0.0067501068115234375, CPU : 0.027. Device acceleration : 3.9999367052839783\n",
      "Max |gpuValues-cpuValues| :  1.2327583520654883e-06\n",
      "\n",
      " --- Variant {'seedRadius': 2.0, 'multiprecision': True} ---\n",
      "Solver time (s). GPU : 0.02435159683227539, CPU : 0.027. Device acceleration : 1.1087568583680902\n",
      "Max |gpuValues-cpuValues| :  5.4531370752286534e-08\n"
     ]
    }
   ],
   "source": [
    "RunCompare(hfmInS,variants='basic')"
   ]
  },
  {
   "cell_type": "code",
   "execution_count": 12,
   "metadata": {},
   "outputs": [
    {
     "name": "stdout",
     "output_type": "stream",
     "text": [
      "Solver time (s). GPU : 0.0169827938079834, CPU : 0.028. Device acceleration : 1.6487275483988713\n",
      "Max |gpuValues-cpuValues| :  1.3399500079502857e-06\n",
      "\n",
      " --- Variant {'multiprecision': True} ---\n",
      "Solver time (s). GPU : 0.014957427978515625, CPU : 0.03. Device acceleration : 2.005692425401683\n",
      "Max |gpuValues-cpuValues| :  4.0380158106145814e-08\n",
      "\n",
      " --- Variant {'seedRadius': 2.0} ---\n",
      "Solver time (s). GPU : 0.01495981216430664, CPU : 0.034. Device acceleration : 2.2727558091352438\n",
      "Max |gpuValues-cpuValues| :  1.2327583520654883e-06\n",
      "\n",
      " --- Variant {'seedRadius': 2.0, 'multiprecision': True} ---\n",
      "Solver time (s). GPU : 0.0020475387573242188, CPU : 0.028. Device acceleration : 13.67495482068002\n",
      "Max |gpuValues-cpuValues| :  5.4531370752286534e-08\n",
      "\n",
      " --- Variant {'factoringRadius': 10.0, 'factoringPointChoice': 'Key'} ---\n",
      "Solver time (s). GPU : 0.01496124267578125, CPU : 0.028999999999999998. Device acceleration : 1.938341662417134\n",
      "Max |gpuValues-cpuValues| :  0.0009697226141481136\n",
      "\n",
      " --- Variant {'factoringRadius': 10.0, 'factoringPointChoice': 'Key', 'multiprecision': True} ---\n",
      "Solver time (s). GPU : 0.015956878662109375, CPU : 0.03. Device acceleration : 1.88006693760459\n",
      "Max |gpuValues-cpuValues| :  0.0009697300647287105\n"
     ]
    }
   ],
   "source": [
    "RunCompare(hfmInS,variants='ext',check=0.004)"
   ]
  },
  {
   "cell_type": "markdown",
   "metadata": {},
   "source": [
    "### 1.2 Smooth anisotropic metric"
   ]
  },
  {
   "cell_type": "code",
   "execution_count": 13,
   "metadata": {},
   "outputs": [],
   "source": [
    "n=3000 if large_instances else 1000\n",
    "hfmIn = Eikonal.dictIn({\n",
    "    'model':'Riemann2',\n",
    "    'seed':[0.,0.],\n",
    "    'exportValues':1,\n",
    "#    'traits':{'niter_i':8,'shape_i':(8,8),},'fim_front_width':4, \n",
    "})\n",
    "hfmIn.SetRect([[-np.pi,np.pi],[-np.pi,np.pi]],dimx=n+1,sampleBoundary=True)"
   ]
  },
  {
   "cell_type": "code",
   "execution_count": 14,
   "metadata": {},
   "outputs": [],
   "source": [
    "def height(x): \n",
    "    r = fd.as_field(lp.rotation(cp.asarray(np.pi)/3),x.shape[1:])\n",
    "    y = 2*lp.dot_AV(r,x)\n",
    "    return np.sin(y[0])*np.sin(y[1]) "
   ]
  },
  {
   "cell_type": "code",
   "execution_count": 15,
   "metadata": {},
   "outputs": [],
   "source": [
    "hfmIn['metric'] = surface_metric(hfmIn.Grid(),height,mu=anisotropy_bound)"
   ]
  },
  {
   "cell_type": "code",
   "execution_count": 16,
   "metadata": {},
   "outputs": [
    {
     "name": "stdout",
     "output_type": "stream",
     "text": [
      "Setting the kernel traits.\n",
      "Preparing the domain data (shape,metric,...)\n",
      "Preparing the problem rhs (cost, seeds,...)\n",
      "Preparing the GPU kernel\n",
      "Running the eikonal GPU kernel\n",
      "GPU kernel eikonal ran for 0.16755127906799316 seconds, and 374 iterations.\n",
      "Post-Processing\n",
      "--- gpu done, turning to cpu ---\n",
      "Field verbosity defaults to 1\n",
      "Field order defaults to 1\n",
      "Field seedRadius defaults to 0\n",
      "Fast marching solver completed in 1.076 s.\n",
      "Solver time (s). GPU : 0.16755127906799316, CPU : 1.7630000000000001. Device acceleration : 10.522151843941256\n",
      "Max |gpuValues-cpuValues| :  2.1309004127223474e-05\n"
     ]
    }
   ],
   "source": [
    "gpuOut,cpuOut = RunCompare(hfmIn,check=False)"
   ]
  },
  {
   "cell_type": "code",
   "execution_count": 17,
   "metadata": {},
   "outputs": [
    {
     "data": {
      "image/png": "[encoded data removed]",
      "text/plain": [
       "<Figure size 432x288 with 1 Axes>"
      ]
     },
     "metadata": {
      "needs_background": "light"
     },
     "output_type": "display_data"
    }
   ],
   "source": [
    "plt.contourf(*hfmIn.Grid(),gpuOut['values']) \n",
    "plt.axis('equal');"
   ]
  },
  {
   "cell_type": "code",
   "execution_count": 18,
   "metadata": {},
   "outputs": [],
   "source": [
    "n=200; hfmInS = hfmIn.copy() # Define a small instance for bit-consistency validation\n",
    "hfmInS.SetRect([[-np.pi,np.pi],[-np.pi,np.pi]],dimx=n+1,sampleBoundary=True)\n",
    "hfmInS.update({\n",
    "    'metric' : surface_metric(hfmInS.Grid(),height,mu=anisotropy_bound), \n",
    "    'verbosity':0,\n",
    "})"
   ]
  },
  {
   "cell_type": "code",
   "execution_count": 19,
   "metadata": {},
   "outputs": [
    {
     "name": "stdout",
     "output_type": "stream",
     "text": [
      "Solver time (s). GPU : 0.029919147491455078, CPU : 0.059. Device acceleration : 1.9719813212208144\n",
      "Max |gpuValues-cpuValues| :  1.3411698919219006e-06\n",
      "\n",
      " --- Variant {'multiprecision': True} ---\n",
      "Solver time (s). GPU : 0.028894901275634766, CPU : 0.06. Device acceleration : 2.076490915391851\n",
      "Max |gpuValues-cpuValues| :  2.941561464686604e-07\n",
      "\n",
      " --- Variant {'seedRadius': 2.0} ---\n",
      "Solver time (s). GPU : 0.024925708770751953, CPU : 0.06. Device acceleration : 2.407153214852792\n",
      "Max |gpuValues-cpuValues| :  0.0005127510391062778\n",
      "\n",
      " --- Variant {'seedRadius': 2.0, 'multiprecision': True} ---\n",
      "Solver time (s). GPU : 0.028939008712768555, CPU : 0.059. Device acceleration : 2.0387705945839065\n",
      "Max |gpuValues-cpuValues| :  0.0005127510391062778\n"
     ]
    }
   ],
   "source": [
    "RunCompare(hfmInS,variants='basic',check=0.0008)"
   ]
  },
  {
   "cell_type": "markdown",
   "metadata": {},
   "source": [
    "Source factorization is implemented differently, and not applied on the same domain (square vs disk), between the CPU and GPU implementations. Hence the results differ somewhat more : there is no bit-consistency.\n",
    "\n",
    "<!---\n",
    "Due to the different switching criteria of the second order scheme, we do not have bit consistency in that case. The results are nevertheless quite close. Note also that we do not deactivate the `decreasing` trait here, contrary to the isotropic case, because the scheme often does not converge without it.\n",
    "\n",
    "**Bottom line.** Second order accuracy for anisotropic metrics on the GPU is very experimental, and not much reliable, at this stage. Further investigation is needed on the matter.\n",
    "--->"
   ]
  },
  {
   "cell_type": "code",
   "execution_count": 20,
   "metadata": {},
   "outputs": [
    {
     "name": "stdout",
     "output_type": "stream",
     "text": [
      "Solver time (s). GPU : 0.02690577507019043, CPU : 0.057999999999999996. Device acceleration : 2.155671035258881\n",
      "Max |gpuValues-cpuValues| :  1.3411698919219006e-06\n",
      "\n",
      " --- Variant {'multiprecision': True} ---\n",
      "Solver time (s). GPU : 0.013707399368286133, CPU : 0.062. Device acceleration : 4.523104517071643\n",
      "Max |gpuValues-cpuValues| :  2.941561464686604e-07\n",
      "\n",
      " --- Variant {'seedRadius': 2.0} ---\n",
      "Solver time (s). GPU : 0.026917695999145508, CPU : 0.056. Device acceleration : 2.0804157979114444\n",
      "Max |gpuValues-cpuValues| :  0.0005127510391062778\n",
      "\n",
      " --- Variant {'seedRadius': 2.0, 'multiprecision': True} ---\n",
      "Solver time (s). GPU : 0.02691173553466797, CPU : 0.057. Device acceleration : 2.118035082745668\n",
      "Max |gpuValues-cpuValues| :  0.0005127510391062778\n",
      "\n",
      " --- Variant {'factoringRadius': 10.0, 'factoringPointChoice': 'Key'} ---\n",
      "Solver time (s). GPU : 0.0312347412109375, CPU : 0.056. Device acceleration : 1.792875427454812\n",
      "Max |gpuValues-cpuValues| :  0.005569850065682891\n",
      "\n",
      " --- Variant {'factoringRadius': 10.0, 'factoringPointChoice': 'Key', 'multiprecision': True} ---\n",
      "Solver time (s). GPU : 0.031236886978149414, CPU : 0.056. Device acceleration : 1.7927522687895465\n",
      "Max |gpuValues-cpuValues| :  0.005569850065682891\n"
     ]
    }
   ],
   "source": [
    "RunCompare(hfmInS,variants='ext',check=0.008)"
   ]
  },
  {
   "cell_type": "markdown",
   "metadata": {},
   "source": [
    "Second order accuracy for anisotropic metrics on the GPU is only experimental, and not reliable, at this stage. Further investigation is needed on the matter.\n",
    "Even obtaining the scheme convergence is hard, and requires setting some other parameters carefully and conservatively.\n",
    "\n",
    "<!---\n",
    "hfmInS.update({\n",
    "    'order2_threshold':0.03,\n",
    "    'verbosity':1,\n",
    "    'traits':{'decreasing_macro':0,'order2_threshold_weighted_macro':1},\n",
    "    'metric' : surface_metric(hfmInS.Grid(),height),\n",
    "    'multiprecision':False,\n",
    "    'tol':1e-6\n",
    "})\n",
    "--->"
   ]
  },
  {
   "cell_type": "code",
   "execution_count": 21,
   "metadata": {},
   "outputs": [],
   "source": [
    "hfmInS.update({\n",
    "    'tol':1e-6, # Tolerance for the convergence of the fixed point solver\n",
    "    'order2_threshold':0.03, # Use first order scheme if second order difference is too large\n",
    "    'traits':{'decreasing_macro':0}, # Do not enforce monotonicity\n",
    "})"
   ]
  },
  {
   "cell_type": "code",
   "execution_count": 22,
   "metadata": {},
   "outputs": [
    {
     "name": "stdout",
     "output_type": "stream",
     "text": [
      "Solver time (s). GPU : 0.03123784065246582, CPU : 0.056. Device acceleration : 1.7926975370360476\n",
      "Max |gpuValues-cpuValues| :  1.2219606023711194e-06\n",
      "\n",
      " --- Variant {'multiprecision': True} ---\n",
      "Solver time (s). GPU : 0.026927947998046875, CPU : 0.059. Device acceleration : 2.191032157529395\n",
      "Max |gpuValues-cpuValues| :  1.0598938896544396e-06\n",
      "\n",
      " --- Variant {'seedRadius': 2.0} ---\n",
      "Solver time (s). GPU : 0.0249330997467041, CPU : 0.059. Device acceleration : 2.3663323292884666\n",
      "Max |gpuValues-cpuValues| :  0.0005127510391062778\n",
      "\n",
      " --- Variant {'seedRadius': 2.0, 'multiprecision': True} ---\n",
      "Solver time (s). GPU : 0.023737192153930664, CPU : 0.057999999999999996. Device acceleration : 2.4434229467361717\n",
      "Max |gpuValues-cpuValues| :  0.0005127510391062778\n",
      "\n",
      " --- Variant {'factoringRadius': 10.0, 'factoringPointChoice': 'Key'} ---\n",
      "Solver time (s). GPU : 0.031237125396728516, CPU : 0.055999999999999994. Device acceleration : 1.7927385855378648\n",
      "Max |gpuValues-cpuValues| :  0.005569850065682891\n",
      "\n",
      " --- Variant {'factoringRadius': 10.0, 'factoringPointChoice': 'Key', 'multiprecision': True} ---\n",
      "Solver time (s). GPU : 0.020074129104614258, CPU : 0.059. Device acceleration : 2.9391063339548915\n",
      "Max |gpuValues-cpuValues| :  0.005569850065682891\n",
      "\n",
      " --- Variant {'order': 2} ---\n",
      "Solver time (s). GPU : 0.031211137771606445, CPU : 0.069. Device acceleration : 2.210749268575881\n",
      "Max |gpuValues-cpuValues| :  0.25088174608297154\n",
      "\n",
      " --- Variant {'order': 2, 'multiprecision': True} ---\n",
      "Solver time (s). GPU : 0.03126096725463867, CPU : 0.068. Device acceleration : 2.1752365960432587\n",
      "Max |gpuValues-cpuValues| :  0.2508818652922611\n",
      "\n",
      " --- Variant {'order': 2, 'seedRadius': 2.0} ---\n",
      "Solver time (s). GPU : 0.03369641304016113, CPU : 0.073. Device acceleration : 2.166402694345977\n",
      "Max |gpuValues-cpuValues| :  0.2760226910596707\n",
      "\n",
      " --- Variant {'order': 2, 'seedRadius': 2.0, 'multiprecision': True} ---\n",
      "Solver time (s). GPU : 0.029198646545410156, CPU : 0.077. Device acceleration : 2.6371085344743115\n",
      "Max |gpuValues-cpuValues| :  0.2760227506643155\n",
      "\n",
      " --- Variant {'order': 2, 'factoringRadius': 10.0, 'factoringPointChoice': 'Key'} ---\n",
      "Solver time (s). GPU : 0.031243324279785156, CPU : 0.06999999999999999. Device acceleration : 2.240478617868807\n",
      "Max |gpuValues-cpuValues| :  0.2528689547387055\n",
      "\n",
      " --- Variant {'order': 2, 'factoringRadius': 10.0, 'factoringPointChoice': 'Key', 'multiprecision': True} ---\n",
      "Solver time (s). GPU : 0.04686403274536133, CPU : 0.069. Device acceleration : 1.4723444816393811\n",
      "Max |gpuValues-cpuValues| :  0.2528689547387055\n"
     ]
    }
   ],
   "source": [
    "RunCompare(hfmInS,variants='ext2',check=0.3)"
   ]
  },
  {
   "cell_type": "code",
   "execution_count": 23,
   "metadata": {},
   "outputs": [],
   "source": [
    "# TODO : discontinuous metric"
   ]
  },
  {
   "cell_type": "markdown",
   "metadata": {},
   "source": [
    "## 2. Three dimensions"
   ]
  },
  {
   "cell_type": "markdown",
   "metadata": {},
   "source": [
    "### 2.1 Smooth anisotropic metric\n",
    "\n",
    "We generalize the two dimensional test case, although it does not much make geometrical sense anymore: we are computing geodesics in a three dimensional volume viewed as an hypersurface embedded in four dimensional Euclidean space."
   ]
  },
  {
   "cell_type": "code",
   "execution_count": 24,
   "metadata": {},
   "outputs": [],
   "source": [
    "n=200 if large_instances else 100\n",
    "hfmIn = Eikonal.dictIn({\n",
    "    'model':'Riemann3',\n",
    "    'seed':[0.,0.,0.],\n",
    "    'exportValues':1,\n",
    "#    'traits':{'niter_i':4},'fim_front_width':6,\n",
    "})\n",
    "hfmIn.SetRect([[-np.pi,np.pi],[-np.pi,np.pi],[-np.pi,np.pi]],dimx=n+1,sampleBoundary=True)"
   ]
  },
  {
   "cell_type": "code",
   "execution_count": 25,
   "metadata": {},
   "outputs": [],
   "source": [
    "def height3(x): \n",
    "    r = fd.as_field(lp.rotation(cp.asarray(np.pi)/3,cp.asarray((1.,2,3))),x.shape[1:])\n",
    "    y = 2*lp.dot_AV(r,x)\n",
    "#    y=x\n",
    "    return np.sin(y[0])*np.sin(y[1])*np.sin(y[2])"
   ]
  },
  {
   "cell_type": "code",
   "execution_count": 26,
   "metadata": {},
   "outputs": [],
   "source": [
    "hfmIn['metric'] = surface_metric(hfmIn.Grid(),height3,mu=anisotropy_bound)"
   ]
  },
  {
   "cell_type": "code",
   "execution_count": 27,
   "metadata": {},
   "outputs": [
    {
     "name": "stdout",
     "output_type": "stream",
     "text": [
      "Setting the kernel traits.\n",
      "Preparing the domain data (shape,metric,...)\n",
      "Preparing the problem rhs (cost, seeds,...)\n",
      "Preparing the GPU kernel\n",
      "Running the eikonal GPU kernel\n",
      "GPU kernel eikonal ran for 0.10934591293334961 seconds, and 93 iterations.\n",
      "Post-Processing\n",
      "--- gpu done, turning to cpu ---\n",
      "Field verbosity defaults to 1\n",
      "Field order defaults to 1\n",
      "Field seedRadius defaults to 0\n",
      "Fast marching solver completed in 3.985 s.\n",
      "Solver time (s). GPU : 0.10934591293334961, CPU : 6.093999999999999. Device acceleration : 55.731392573534215\n",
      "Max |gpuValues-cpuValues| :  2.340651752863465e-06\n"
     ]
    }
   ],
   "source": [
    "gpuOut,cpuOut = RunCompare(hfmIn,check=1e-4)"
   ]
  },
  {
   "cell_type": "code",
   "execution_count": 28,
   "metadata": {},
   "outputs": [],
   "source": [
    "n=50; hfmInS = hfmIn.copy() # Define a small instance for bit-consistency validation\n",
    "hfmInS.SetRect([[-np.pi,np.pi],[-np.pi,np.pi],[-np.pi,np.pi]],dimx=n+1,sampleBoundary=True)\n",
    "hfmInS.update({\n",
    "    'metric' : surface_metric(hfmInS.Grid(),height3,mu=anisotropy_bound), \n",
    "    'verbosity':0,\n",
    "})"
   ]
  },
  {
   "cell_type": "code",
   "execution_count": 29,
   "metadata": {},
   "outputs": [
    {
     "name": "stdout",
     "output_type": "stream",
     "text": [
      "Solver time (s). GPU : 0.028921842575073242, CPU : 0.5760000000000001. Device acceleration : 19.915743559728625\n",
      "Max |gpuValues-cpuValues| :  2.6433073914700067e-06\n",
      "\n",
      " --- Variant {'multiprecision': True} ---\n",
      "Solver time (s). GPU : 0.03124237060546875, CPU : 0.5740000000000001. Device acceleration : 18.372485470085472\n",
      "Max |gpuValues-cpuValues| :  2.6433073914700067e-06\n",
      "\n",
      " --- Variant {'seedRadius': 2.0} ---\n",
      "Solver time (s). GPU : 0.015651702880859375, CPU : 0.585. Device acceleration : 37.37612478674141\n",
      "Max |gpuValues-cpuValues| :  0.00485777620687023\n",
      "\n",
      " --- Variant {'seedRadius': 2.0, 'multiprecision': True} ---\n",
      "Solver time (s). GPU : 0.031202077865600586, CPU : 0.6779999999999999. Device acceleration : 21.729322095804264\n",
      "Max |gpuValues-cpuValues| :  0.004857772481579932\n",
      "\n",
      " --- Variant {'factoringRadius': 10.0, 'factoringPointChoice': 'Key'} ---\n",
      "Solver time (s). GPU : 0.03288555145263672, CPU : 0.612. Device acceleration : 18.609996578023953\n",
      "Max |gpuValues-cpuValues| :  0.012437661630053672\n",
      "\n",
      " --- Variant {'factoringRadius': 10.0, 'factoringPointChoice': 'Key', 'multiprecision': True} ---\n",
      "Solver time (s). GPU : 0.04682660102844238, CPU : 0.595. Device acceleration : 12.706452890710521\n",
      "Max |gpuValues-cpuValues| :  0.012437661630053672\n"
     ]
    }
   ],
   "source": [
    "RunCompare(hfmInS,variants='ext',check=0.02)"
   ]
  },
  {
   "cell_type": "markdown",
   "metadata": {},
   "source": [
    "Again, the GPU implementation of the second order scheme is purely experimental at this stage, and should not be relied upon.\n",
    "\n",
    "<!---\n",
    "Due to the different switching criteria of the second order scheme, we do not have bit consistency in that case. The results are nevertheless quite close.\n",
    "--->"
   ]
  },
  {
   "cell_type": "code",
   "execution_count": 30,
   "metadata": {},
   "outputs": [
    {
     "name": "stdout",
     "output_type": "stream",
     "text": [
      "Solver time (s). GPU : 0.028961181640625, CPU : 0.575. Device acceleration : 19.854162276080082\n",
      "Max |gpuValues-cpuValues| :  2.6433073914700067e-06\n",
      "\n",
      " --- Variant {'multiprecision': True} ---\n",
      "Solver time (s). GPU : 0.031241893768310547, CPU : 0.5880000000000001. Device acceleration : 18.820882125795574\n",
      "Max |gpuValues-cpuValues| :  2.6433073914700067e-06\n",
      "\n",
      " --- Variant {'seedRadius': 2.0} ---\n",
      "Solver time (s). GPU : 0.031227827072143555, CPU : 0.5780000000000001. Device acceleration : 18.509132853358174\n",
      "Max |gpuValues-cpuValues| :  0.00485777620687023\n",
      "\n",
      " --- Variant {'seedRadius': 2.0, 'multiprecision': True} ---\n",
      "Solver time (s). GPU : 0.03123617172241211, CPU : 0.677. Device acceleration : 21.673590669699422\n",
      "Max |gpuValues-cpuValues| :  0.004857772481579932\n",
      "\n",
      " --- Variant {'factoringRadius': 10.0, 'factoringPointChoice': 'Key'} ---\n",
      "Solver time (s). GPU : 0.03091716766357422, CPU : 0.651. Device acceleration : 21.056262562077794\n",
      "Max |gpuValues-cpuValues| :  0.012437661630053672\n",
      "\n",
      " --- Variant {'factoringRadius': 10.0, 'factoringPointChoice': 'Key', 'multiprecision': True} ---\n",
      "Solver time (s). GPU : 0.033618927001953125, CPU : 0.609. Device acceleration : 18.114795869737886\n",
      "Max |gpuValues-cpuValues| :  0.012437661630053672\n",
      "\n",
      " --- Variant {'order': 2} ---\n",
      "Solver time (s). GPU : 0.039893150329589844, CPU : 0.736. Device acceleration : 18.44928249384428\n",
      "Max |gpuValues-cpuValues| :  0.0540854884528576\n",
      "\n",
      " --- Variant {'order': 2, 'multiprecision': True} ---\n",
      "Solver time (s). GPU : 0.04689478874206543, CPU : 0.735. Device acceleration : 15.673383327147658\n",
      "Max |gpuValues-cpuValues| :  0.05408519042963372\n",
      "\n",
      " --- Variant {'order': 2, 'seedRadius': 2.0} ---\n",
      "Solver time (s). GPU : 0.04686427116394043, CPU : 0.743. Device acceleration : 15.854295426911474\n",
      "Max |gpuValues-cpuValues| :  0.05430626964712171\n",
      "\n",
      " --- Variant {'order': 2, 'seedRadius': 2.0, 'multiprecision': True} ---\n",
      "Solver time (s). GPU : 0.0468294620513916, CPU : 0.881. Device acceleration : 18.812942993732722\n",
      "Max |gpuValues-cpuValues| :  0.05468368625783948\n",
      "\n",
      " --- Variant {'order': 2, 'factoringRadius': 10.0, 'factoringPointChoice': 'Key'} ---\n",
      "Solver time (s). GPU : 0.040923357009887695, CPU : 0.743. Device acceleration : 18.15589077456378\n",
      "Max |gpuValues-cpuValues| :  0.045271456591338355\n",
      "\n",
      " --- Variant {'order': 2, 'factoringRadius': 10.0, 'factoringPointChoice': 'Key', 'multiprecision': True} ---\n",
      "Solver time (s). GPU : 0.04686927795410156, CPU : 0.796. Device acceleration : 16.98340650307248\n",
      "Max |gpuValues-cpuValues| :  0.045271456591338355\n"
     ]
    }
   ],
   "source": [
    "RunCompare(hfmInS,variants='ext2',check=0.1)"
   ]
  },
  {
   "cell_type": "code",
   "execution_count": null,
   "metadata": {},
   "outputs": [],
   "source": []
  }
 ],
 "metadata": {
  "kernelspec": {
   "display_name": "Python 3 (ipykernel)",
   "language": "python",
   "name": "python3"
  },
  "language_info": {
   "codemirror_mode": {
    "name": "ipython",
    "version": 3
   },
   "file_extension": ".py",
   "mimetype": "text/x-python",
   "name": "python",
   "nbconvert_exporter": "python",
   "pygments_lexer": "ipython3",
   "version": "3.10.8"
  },
  "varInspector": {
   "cols": {
    "lenName": 16,
    "lenType": 16,
    "lenVar": 40
   },
   "kernels_config": {
    "python": {
     "delete_cmd_postfix": "",
     "delete_cmd_prefix": "del ",
     "library": "var_list.py",
     "varRefreshCmd": "print(var_dic_list())"
    },
    "r": {
     "delete_cmd_postfix": ") ",
     "delete_cmd_prefix": "rm(",
     "library": "var_list.r",
     "varRefreshCmd": "cat(var_dic_list()) "
    }
   },
   "types_to_exclude": [
    "module",
    "function",
    "builtin_function_or_method",
    "instance",
    "_Feature"
   ],
   "window_display": false
  }
 },
 "nbformat": 4,
 "nbformat_minor": 4
}

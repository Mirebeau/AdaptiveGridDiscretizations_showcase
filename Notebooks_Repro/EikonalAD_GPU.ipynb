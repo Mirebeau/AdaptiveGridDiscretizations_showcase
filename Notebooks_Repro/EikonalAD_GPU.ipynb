{
 "cells": [
  {
   "cell_type": "markdown",
   "metadata": {},
   "source": [
    "# Adaptive PDE discretizations on Cartesian grids\n",
    "## Volume : Reproducible research\n",
    "## Part : Eikonal CPU/GPU solvers comparison\n",
    "## Chapter : Forward and reverse differentiation"
   ]
  },
  {
   "cell_type": "markdown",
   "metadata": {},
   "source": [
    "We compute the geodesic flow and minimal geodesics, on the CPU and GPU, checking for consistency."
   ]
  },
  {
   "cell_type": "markdown",
   "metadata": {},
   "source": [
    "[**Summary**](Summary.ipynb) of volume Reproducible research, this series of notebooks.\n",
    "\n",
    "[**Main summary**](../Summary.ipynb) of the Adaptive Grid Discretizations \n",
    "\tbook of notebooks, including the other volumes.\n",
    "\n",
    "# Table of contents\n",
    "  * [1. Forward differentiation](#1.-Forward-differentiation)\n",
    "    * [1.1 Isotropic model](#1.1-Isotropic-model)\n",
    "    * [1.2 Anisotropic model](#1.2-Anisotropic-model)\n",
    "    * [1.3 Curvature penalized model](#1.3-Curvature-penalized-model)\n",
    "  * [2. Reverse differentiation](#2.-Reverse-differentiation)\n",
    "\n",
    "\n",
    "\n",
    "**Acknowledgement.** Some of the experiments presented in these notebooks are part of \n",
    "ongoing research with Ludovic Métivier and Da Chen.\n",
    "\n",
    "Copyright Jean-Marie Mirebeau, Centre Borelli, ENS Paris-Saclay, CNRS, University Paris-Saclay"
   ]
  },
  {
   "cell_type": "markdown",
   "metadata": {},
   "source": [
    "## 0. Importing the required libraries"
   ]
  },
  {
   "cell_type": "code",
   "execution_count": 1,
   "metadata": {
    "execution": {
     "iopub.execute_input": "2024-02-23T18:41:38.424376Z",
     "iopub.status.busy": "2024-02-23T18:41:38.422798Z",
     "iopub.status.idle": "2024-02-23T18:41:38.433291Z",
     "shell.execute_reply": "2024-02-23T18:41:38.432494Z"
    }
   },
   "outputs": [],
   "source": [
    "import sys; sys.path.insert(0,\"..\")\n",
    "#from Miscellaneous import TocTools; print(TocTools.displayTOC('EikonalAD_GPU','Repro'))"
   ]
  },
  {
   "cell_type": "code",
   "execution_count": 2,
   "metadata": {
    "execution": {
     "iopub.execute_input": "2024-02-23T18:41:38.437656Z",
     "iopub.status.busy": "2024-02-23T18:41:38.437171Z",
     "iopub.status.idle": "2024-02-23T18:41:38.603464Z",
     "shell.execute_reply": "2024-02-23T18:41:38.603039Z"
    }
   },
   "outputs": [
    {
     "ename": "DeliberateNotebookError",
     "evalue": "Cupy module required",
     "output_type": "error",
     "traceback": [
      "\u001b[0;31m---------------------------------------------------------------------------\u001b[0m",
      "\u001b[0;31mDeliberateNotebookError\u001b[0m                   Traceback (most recent call last)",
      "Cell \u001b[0;32mIn[2], line 2\u001b[0m\n\u001b[1;32m      1\u001b[0m \u001b[38;5;28;01mfrom\u001b[39;00m \u001b[38;5;21;01magd\u001b[39;00m \u001b[38;5;28;01mimport\u001b[39;00m AutomaticDifferentiation \u001b[38;5;28;01mas\u001b[39;00m ad\n\u001b[0;32m----> 2\u001b[0m \u001b[38;5;28;01mif\u001b[39;00m ad\u001b[38;5;241m.\u001b[39mcupy_generic\u001b[38;5;241m.\u001b[39mcp \u001b[38;5;129;01mis\u001b[39;00m \u001b[38;5;28;01mNone\u001b[39;00m: \u001b[38;5;28;01mraise\u001b[39;00m ad\u001b[38;5;241m.\u001b[39mDeliberateNotebookError(\u001b[38;5;124m'\u001b[39m\u001b[38;5;124mCupy module required\u001b[39m\u001b[38;5;124m'\u001b[39m)\n\u001b[1;32m      3\u001b[0m \u001b[38;5;28;01mfrom\u001b[39;00m \u001b[38;5;21;01magd\u001b[39;00m \u001b[38;5;28;01mimport\u001b[39;00m Eikonal\n\u001b[1;32m      4\u001b[0m \u001b[38;5;28;01mfrom\u001b[39;00m \u001b[38;5;21;01magd\u001b[39;00m \u001b[38;5;28;01mimport\u001b[39;00m Metrics\n",
      "\u001b[0;31mDeliberateNotebookError\u001b[0m: Cupy module required"
     ]
    }
   ],
   "source": [
    "from agd import AutomaticDifferentiation as ad\n",
    "if ad.cupy_generic.cp is None: raise ad.DeliberateNotebookError('Cupy module required')\n",
    "from agd import Eikonal\n",
    "from agd import Metrics\n",
    "from agd import FiniteDifferences as fd\n",
    "import agd.AutomaticDifferentiation.cupy_generic as cugen\n",
    "norm_infinity = ad.Optimization.norm_infinity\n",
    "Eikonal.dictIn.default_mode = 'gpu'"
   ]
  },
  {
   "cell_type": "code",
   "execution_count": 3,
   "metadata": {},
   "outputs": [],
   "source": [
    "import cupy as cp\n",
    "import numpy as np\n",
    "import itertools\n",
    "from matplotlib import pyplot as plt\n",
    "np.set_printoptions(edgeitems=30, linewidth=100000, formatter=dict(float=lambda x: \"%5.3g\" % x))"
   ]
  },
  {
   "cell_type": "code",
   "execution_count": 4,
   "metadata": {},
   "outputs": [],
   "source": [
    "def ReloadPackages():\n",
    "    from Miscellaneous.rreload import rreload\n",
    "    global HFMUtils,ad,cugen,RunGPU\n",
    "    HFMUtils,ad,cugen,RunGPU = rreload([HFMUtils,ad,cugen,RunGPU],\"../..\")    "
   ]
  },
  {
   "cell_type": "code",
   "execution_count": 5,
   "metadata": {},
   "outputs": [],
   "source": [
    "cp = ad.functional.decorate_module_functions(cp,cugen.set_output_dtype32) # Use float32 and int32 types in place of float64 and int64\n",
    "plt = ad.functional.decorate_module_functions(plt,cugen.cupy_get_args)"
   ]
  },
  {
   "cell_type": "markdown",
   "metadata": {},
   "source": [
    "## 1. Forward differentiation"
   ]
  },
  {
   "cell_type": "markdown",
   "metadata": {},
   "source": [
    "### 1.1 Isotropic model"
   ]
  },
  {
   "cell_type": "code",
   "execution_count": 6,
   "metadata": {},
   "outputs": [],
   "source": [
    "n=50\n",
    "delta = ad.Dense.identity(constant=cp.zeros(2))\n",
    "hfmIn = Eikonal.dictIn({\n",
    "    'model':'Isotropic2',\n",
    "    'seeds':[[0.,0.],[0.8,0.7],[0.,0.2]],\n",
    "    'seedValues':ad.array([0.*delta[0], 0.2*(1.+delta[1]), 0.*delta[0]]),\n",
    "    'exportValues':1,\n",
    "    'traits':{\n",
    "        'shape_i':(8,8),'niter_i':16,\n",
    "    }\n",
    "    \n",
    "})\n",
    "hfmIn.SetRect([[-1,1],[-1,1]],dimx=n+1,sampleBoundary=True)\n",
    "X=hfmIn.Grid()"
   ]
  },
  {
   "cell_type": "code",
   "execution_count": 7,
   "metadata": {},
   "outputs": [],
   "source": [
    "costValue = (1.+(X[1]<-0.3)).astype(hfmIn.float_t) # (float32 + bool) -> float64 -> float32\n",
    "costVariation = 1.+delta[0]*(X[0]>0.) + delta[1]*(X[0]<=0) # Relative variation\n",
    "hfmIn['cost'] = costValue*costVariation"
   ]
  },
  {
   "cell_type": "code",
   "execution_count": 8,
   "metadata": {},
   "outputs": [
    {
     "name": "stdout",
     "output_type": "stream",
     "text": [
      "Setting the kernel traits.\n",
      "Preparing the domain data (shape,metric,...)\n",
      "Preparing the problem rhs (cost, seeds,...)\n",
      "Preparing the GPU kernel\n",
      "Running the eikonal GPU kernel\n",
      "GPU kernel eikonal ran for 0.007972955703735352 seconds, and 8 iterations.\n",
      "Post-Processing\n"
     ]
    }
   ],
   "source": [
    "hfmOut = hfmIn.Run()"
   ]
  },
  {
   "cell_type": "markdown",
   "metadata": {},
   "source": [
    "The first cost perturbation influences only the right part of the domain."
   ]
  },
  {
   "cell_type": "code",
   "execution_count": 9,
   "metadata": {},
   "outputs": [],
   "source": [
    "plt.axis('equal')\n",
    "plt.contour(*X,hfmOut['values'].gradient(0));"
   ]
  },
  {
   "cell_type": "markdown",
   "metadata": {},
   "source": [
    "The second perturbation influences the left part of the domain, as well as the rightmost seed value."
   ]
  },
  {
   "cell_type": "code",
   "execution_count": 10,
   "metadata": {},
   "outputs": [],
   "source": [
    "plt.axis('equal')\n",
    "plt.contour(*X,hfmOut['values'].gradient(1));"
   ]
  },
  {
   "cell_type": "markdown",
   "metadata": {},
   "source": [
    "By construction, the sum of these specific perturbations equals the value function."
   ]
  },
  {
   "cell_type": "code",
   "execution_count": 11,
   "metadata": {},
   "outputs": [],
   "source": [
    "assert norm_infinity(hfmOut['values'].value - hfmOut['values'].gradient().sum(axis=0)) < 1e-6"
   ]
  },
  {
   "cell_type": "code",
   "execution_count": 12,
   "metadata": {},
   "outputs": [],
   "source": [
    "plt.axis('equal')\n",
    "plt.contour(*X,hfmOut['values'].gradient().sum(axis=0));"
   ]
  },
  {
   "cell_type": "markdown",
   "metadata": {},
   "source": [
    "We also test consistency with the CPU code."
   ]
  },
  {
   "cell_type": "code",
   "execution_count": 13,
   "metadata": {},
   "outputs": [],
   "source": [
    "hfmIn['mode'] = 'cpu_transfer'"
   ]
  },
  {
   "cell_type": "code",
   "execution_count": 14,
   "metadata": {},
   "outputs": [
    {
     "name": "stdout",
     "output_type": "stream",
     "text": [
      "Field verbosity defaults to 1\n",
      "Field order defaults to 1\n",
      "Field seedRadius defaults to 0\n",
      "Fast marching solver completed in 0.001 s.\n"
     ]
    }
   ],
   "source": [
    "hfmOut_cpu = hfmIn.Run()"
   ]
  },
  {
   "cell_type": "code",
   "execution_count": 15,
   "metadata": {},
   "outputs": [],
   "source": [
    "assert norm_infinity(hfmOut_cpu['values'].gradient() - hfmOut['values'].gradient().get()) < 1e-5"
   ]
  },
  {
   "cell_type": "markdown",
   "metadata": {},
   "source": [
    "### 1.2 Anisotropic model"
   ]
  },
  {
   "cell_type": "code",
   "execution_count": 16,
   "metadata": {},
   "outputs": [],
   "source": [
    "hfmIn = Eikonal.dictIn({\n",
    "    'model':'Riemann2',\n",
    "    'exportValues':True,\n",
    "    'seed':(0,0),\n",
    "})\n"
   ]
  },
  {
   "cell_type": "markdown",
   "metadata": {},
   "source": [
    "### 1.3 Curvature penalized model"
   ]
  },
  {
   "cell_type": "code",
   "execution_count": 17,
   "metadata": {},
   "outputs": [],
   "source": [
    "hfmIn = Eikonal.dictIn({\n",
    "    'model':'Dubins2',\n",
    "    'exportValues':True,\n",
    "    'seed':[0,0,0],\n",
    "    'xi':1.,\n",
    "#    'precompute_scheme':False,\n",
    "    'solver':'AGSI',\n",
    "})\n",
    "hfmIn.SetRect([[-1,1],[-1,1]],dimx=101)\n",
    "hfmIn.nTheta = 96\n",
    "X = hfmIn.Grid()"
   ]
  },
  {
   "cell_type": "code",
   "execution_count": 18,
   "metadata": {},
   "outputs": [],
   "source": [
    "costValue = (1.+(X[1]<-0.3)).astype(hfmIn.float_t) # (float32 + bool) -> float64 -> float32\n",
    "costVariation = 1.+delta[0]*(X[0]>0.) + delta[1]*(X[0]<=0) # Relative variation\n",
    "hfmIn['cost'] = costValue*costVariation"
   ]
  },
  {
   "cell_type": "code",
   "execution_count": 19,
   "metadata": {},
   "outputs": [],
   "source": [
    "hfmIn['mode'] = 'gpu' #'cpu_transfer'"
   ]
  },
  {
   "cell_type": "code",
   "execution_count": 20,
   "metadata": {},
   "outputs": [
    {
     "name": "stdout",
     "output_type": "stream",
     "text": [
      "Setting the kernel traits.\n",
      "Preparing the domain data (shape,metric,...)\n",
      "Preparing the problem rhs (cost, seeds,...)\n",
      "Preparing the GPU kernel\n",
      "Running the eikonal GPU kernel\n",
      "GPU kernel eikonal ran for 0.1081855297088623 seconds, and 188 iterations.\n",
      "Post-Processing\n"
     ]
    }
   ],
   "source": [
    "hfmOut = hfmIn.Run()"
   ]
  },
  {
   "cell_type": "code",
   "execution_count": 21,
   "metadata": {},
   "outputs": [],
   "source": [
    "val = hfmOut['values']\n",
    "diff = np.abs(np.where(np.isfinite(val), val.value - val.gradient().sum(axis=0), 0))"
   ]
  },
  {
   "cell_type": "code",
   "execution_count": 25,
   "metadata": {},
   "outputs": [],
   "source": [
    "assert np.sum(diff>1e-4) / diff.size < 3e-3\n",
    "assert np.max(diff/(1+val.value)) < 2e-2"
   ]
  },
  {
   "cell_type": "markdown",
   "metadata": {},
   "source": [
    "## 2. Reverse differentiation"
   ]
  },
  {
   "cell_type": "code",
   "execution_count": 26,
   "metadata": {},
   "outputs": [],
   "source": [
    "n=50\n",
    "delta = ad.Dense.identity(constant=cp.zeros(2))\n",
    "hfmIn = Eikonal.dictIn({\n",
    "    'model':'Isotropic2',\n",
    "    'seeds':[[0.,0.],[0.,0.5]],\n",
    "#    'seeds':cp.array([[0.,0.],[0.8,0.7],[0.,0.2]]),\n",
    "#    'seedValues':ad.array([0.*delta[0],0.2*(1.+delta[0]),0.*delta[0]]),\n",
    "    'exportValues':1,\n",
    "    'traits':{\n",
    "        'shape_i':(8,8),'niter_i':16,\n",
    "    },\n",
    "    'cost':1.,\n",
    "})\n",
    "hfmIn.SetRect([[0,1],[0,1]],dimx=n+1,sampleBoundary=True)\n",
    "X=hfmIn.Grid()"
   ]
  },
  {
   "cell_type": "code",
   "execution_count": 27,
   "metadata": {},
   "outputs": [],
   "source": [
    "sensShape= (*hfmIn.shape,1)\n",
    "sens = cp.zeros(sensShape)\n",
    "sens[-1,-1] = 1.\n",
    "hfmIn['sensitivity'] = sens"
   ]
  },
  {
   "cell_type": "code",
   "execution_count": 28,
   "metadata": {},
   "outputs": [
    {
     "name": "stdout",
     "output_type": "stream",
     "text": [
      "Setting the kernel traits.\n",
      "Preparing the domain data (shape,metric,...)\n",
      "Preparing the problem rhs (cost, seeds,...)\n",
      "Preparing the GPU kernel\n",
      "Running the eikonal GPU kernel\n",
      "GPU kernel eikonal ran for 0.003987550735473633 seconds, and 11 iterations.\n",
      "Post-Processing\n"
     ]
    }
   ],
   "source": [
    "hfmOut = hfmIn.Run()"
   ]
  },
  {
   "cell_type": "code",
   "execution_count": 29,
   "metadata": {},
   "outputs": [],
   "source": [
    "plt.axis('equal')\n",
    "plt.contour(*X,hfmOut['values']);"
   ]
  },
  {
   "cell_type": "code",
   "execution_count": 30,
   "metadata": {},
   "outputs": [],
   "source": [
    "plt.axis('equal')\n",
    "#cSens = hfmOut['costSensitivity'][0]; cSens[0,0]=0\n",
    "plt.contour(*X,hfmOut['costSensitivity'][...,0]); plt.colorbar();"
   ]
  },
  {
   "cell_type": "markdown",
   "metadata": {},
   "source": [
    "The tested point is only sensitive to the second seed value."
   ]
  },
  {
   "cell_type": "code",
   "execution_count": 31,
   "metadata": {},
   "outputs": [
    {
     "data": {
      "text/plain": [
       "array([[    0],\n",
       "       [    1]], dtype=float32)"
      ]
     },
     "execution_count": 31,
     "metadata": {},
     "output_type": "execute_result"
    }
   ],
   "source": [
    "hfmOut['seedValueSensitivity']"
   ]
  },
  {
   "cell_type": "code",
   "execution_count": 32,
   "metadata": {},
   "outputs": [],
   "source": [
    "assert norm_infinity(hfmOut['seedValueSensitivity'] - cp.array([[0],[1]]))<1e-6"
   ]
  },
  {
   "cell_type": "code",
   "execution_count": null,
   "metadata": {},
   "outputs": [],
   "source": []
  }
 ],
 "metadata": {
  "celltoolbar": "Format de la Cellule Texte Brut",
  "kernelspec": {
   "display_name": "Python 3 (ipykernel)",
   "language": "python",
   "name": "python3"
  },
  "language_info": {
   "codemirror_mode": {
    "name": "ipython",
    "version": 3
   },
   "file_extension": ".py",
   "mimetype": "text/x-python",
   "name": "python",
   "nbconvert_exporter": "python",
   "pygments_lexer": "ipython3",
   "version": "3.12.1"
  },
  "varInspector": {
   "cols": {
    "lenName": 16,
    "lenType": 16,
    "lenVar": 40
   },
   "kernels_config": {
    "python": {
     "delete_cmd_postfix": "",
     "delete_cmd_prefix": "del ",
     "library": "var_list.py",
     "varRefreshCmd": "print(var_dic_list())"
    },
    "r": {
     "delete_cmd_postfix": ") ",
     "delete_cmd_prefix": "rm(",
     "library": "var_list.r",
     "varRefreshCmd": "cat(var_dic_list()) "
    }
   },
   "types_to_exclude": [
    "module",
    "function",
    "builtin_function_or_method",
    "instance",
    "_Feature"
   ],
   "window_display": false
  }
 },
 "nbformat": 4,
 "nbformat_minor": 4
}

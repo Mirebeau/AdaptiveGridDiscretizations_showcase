{
 "cells": [
  {
   "cell_type": "markdown",
   "metadata": {},
   "source": [
    "# Adaptive PDE discretizations on Cartesian grids\n",
    "## Volume : Reproducible research\n",
    "## Part : Eikonal CPU/GPU solvers comparison\n",
    "## Chapter : Flow and geodesics"
   ]
  },
  {
   "cell_type": "markdown",
   "metadata": {},
   "source": [
    "We compute the geodesic flow and minimal geodesics, on the CPU and GPU, checking for consistency.\n",
    "\n",
    "**GPU extraction of geodesics ?**\n",
    "Solving a low dimensional ODE is a sequential process, and it may seem silly to do it on the GPU.\n",
    "We make this choice because Python is too slow for that purpose, and CPU C++ code is hard to distribute (needs to be compiled), whereas GPU code is fast and compiled just-in-time. In principle, the code will compute a large number of geodesics in parallel on the GPU if needed."
   ]
  },
  {
   "cell_type": "markdown",
   "metadata": {},
   "source": [
    "[**Summary**](Summary.ipynb) of volume Reproducible research, this series of notebooks.\n",
    "\n",
    "[**Main summary**](../Summary.ipynb) of the Adaptive Grid Discretizations \n",
    "\tbook of notebooks, including the other volumes.\n",
    "\n",
    "# Table of contents\n",
    "  * [1. Constant metrics](#1.-Constant-metrics)\n",
    "    * [1.1 Isotropic metrics](#1.1-Isotropic-metrics)\n",
    "    * [1.2 Riemannian metrics](#1.2-Riemannian-metrics)\n",
    "    * [1.3 Rander metrics](#1.3-Rander-metrics)\n",
    "  * [2. Variable metrics](#2.-Variable-metrics)\n",
    "    * [2.1 Isotropic](#2.1-Isotropic)\n",
    "    * [2.2 Riemannian](#2.2-Riemannian)\n",
    "    * [2.3 Rander](#2.3-Rander)\n",
    "  * [3. Online recomputation of the geodesic flow](#3.-Online-recomputation-of-the-geodesic-flow)\n",
    "\n",
    "\n",
    "\n",
    "**Acknowledgement.** Some of the experiments presented in these notebooks are part of \n",
    "ongoing research with Ludovic Métivier and Da Chen.\n",
    "\n",
    "Copyright Jean-Marie Mirebeau, Centre Borelli, ENS Paris-Saclay, CNRS, University Paris-Saclay"
   ]
  },
  {
   "cell_type": "markdown",
   "metadata": {},
   "source": [
    "## 0. Importing the required libraries"
   ]
  },
  {
   "cell_type": "code",
   "execution_count": 1,
   "metadata": {
    "execution": {
     "iopub.execute_input": "2024-02-08T19:27:11.157342Z",
     "iopub.status.busy": "2024-02-08T19:27:11.156827Z",
     "iopub.status.idle": "2024-02-08T19:27:11.162654Z",
     "shell.execute_reply": "2024-02-08T19:27:11.162164Z"
    }
   },
   "outputs": [],
   "source": [
    "import sys; sys.path.insert(0,\"..\")\n",
    "#from Miscellaneous import TocTools; print(TocTools.displayTOC('Flow_GPU','Repro'))"
   ]
  },
  {
   "cell_type": "code",
   "execution_count": 2,
   "metadata": {
    "execution": {
     "iopub.execute_input": "2024-02-08T19:27:11.165433Z",
     "iopub.status.busy": "2024-02-08T19:27:11.165186Z",
     "iopub.status.idle": "2024-02-08T19:27:11.320435Z",
     "shell.execute_reply": "2024-02-08T19:27:11.319984Z"
    }
   },
   "outputs": [
    {
     "ename": "DeliberateNotebookError",
     "evalue": "Cupy module required",
     "output_type": "error",
     "traceback": [
      "\u001b[0;31m---------------------------------------------------------------------------\u001b[0m",
      "\u001b[0;31mDeliberateNotebookError\u001b[0m                   Traceback (most recent call last)",
      "Cell \u001b[0;32mIn[2], line 2\u001b[0m\n\u001b[1;32m      1\u001b[0m \u001b[38;5;28;01mfrom\u001b[39;00m \u001b[38;5;21;01magd\u001b[39;00m \u001b[38;5;28;01mimport\u001b[39;00m AutomaticDifferentiation \u001b[38;5;28;01mas\u001b[39;00m ad\n\u001b[0;32m----> 2\u001b[0m \u001b[38;5;28;01mif\u001b[39;00m ad\u001b[38;5;241m.\u001b[39mcupy_generic\u001b[38;5;241m.\u001b[39mcp \u001b[38;5;129;01mis\u001b[39;00m \u001b[38;5;28;01mNone\u001b[39;00m: \u001b[38;5;28;01mraise\u001b[39;00m ad\u001b[38;5;241m.\u001b[39mDeliberateNotebookError(\u001b[38;5;124m'\u001b[39m\u001b[38;5;124mCupy module required\u001b[39m\u001b[38;5;124m'\u001b[39m)\n\u001b[1;32m      3\u001b[0m \u001b[38;5;28;01mfrom\u001b[39;00m \u001b[38;5;21;01magd\u001b[39;00m \u001b[38;5;28;01mimport\u001b[39;00m Eikonal\n\u001b[1;32m      4\u001b[0m \u001b[38;5;28;01mfrom\u001b[39;00m \u001b[38;5;21;01magd\u001b[39;00m \u001b[38;5;28;01mimport\u001b[39;00m Metrics\n",
      "\u001b[0;31mDeliberateNotebookError\u001b[0m: Cupy module required"
     ]
    }
   ],
   "source": [
    "from agd import AutomaticDifferentiation as ad\n",
    "if ad.cupy_generic.cp is None: raise ad.DeliberateNotebookError('Cupy module required')\n",
    "from agd import Eikonal\n",
    "from agd import Metrics\n",
    "from agd import FiniteDifferences as fd\n",
    "from agd import LinearParallel as lp\n",
    "from agd.Plotting import quiver\n",
    "import agd.AutomaticDifferentiation.cupy_generic as cugen\n",
    "norm_infinity = ad.Optimization.norm_infinity\n",
    "Eikonal.dictIn.default_mode = 'gpu'\n",
    "\n",
    "from agd.ExportedCode.Notebooks_Repro.Isotropic_GPU import RunCompare\n",
    "from agd.ExportedCode.Notebooks_NonDiv.LinearMonotoneSchemes2D import streamplot_ij"
   ]
  },
  {
   "cell_type": "code",
   "execution_count": 3,
   "metadata": {},
   "outputs": [],
   "source": [
    "import cupy as cp\n",
    "import numpy as np\n",
    "import itertools\n",
    "from matplotlib import pyplot as plt\n",
    "np.set_printoptions(edgeitems=30, linewidth=100000, formatter=dict(float=lambda x: \"%5.3g\" % x))"
   ]
  },
  {
   "cell_type": "code",
   "execution_count": 4,
   "metadata": {},
   "outputs": [],
   "source": [
    "cp = ad.functional.decorate_module_functions(cp,cugen.set_output_dtype32) # Use float32 and int32 types in place of float64 and int64\n",
    "plt = ad.functional.decorate_module_functions(plt,cugen.cupy_get_args)\n",
    "quiver = cugen.cupy_get_args(quiver)"
   ]
  },
  {
   "cell_type": "code",
   "execution_count": 5,
   "metadata": {},
   "outputs": [],
   "source": [
    "def ReloadPackages():\n",
    "    from Miscellaneous.rreload import rreload\n",
    "    global Eikonal,ad,cugen,RunGPU\n",
    "    Eikonal,ad,cugen = rreload([Eikonal,ad,cugen],\"../..\")\n",
    "    Eikonal.dictIn.default_mode = 'gpu'"
   ]
  },
  {
   "cell_type": "markdown",
   "metadata": {},
   "source": [
    "## 1. Constant metrics\n",
    "\n",
    "When the metric is constant, the geodesic flow is directed toward the seed point, and the geodesic are straight lines."
   ]
  },
  {
   "cell_type": "markdown",
   "metadata": {},
   "source": [
    "### 1.1 Isotropic metrics"
   ]
  },
  {
   "cell_type": "code",
   "execution_count": 6,
   "metadata": {},
   "outputs": [],
   "source": [
    "n=201\n",
    "hfmIn = Eikonal.dictIn({\n",
    "    'model':'Isotropic2',\n",
    "    'seed':[0.,0.],\n",
    "    'exportValues':True,\n",
    "    'cost':1.,\n",
    "    'exportGeodesicFlow':True,\n",
    "})\n",
    "hfmIn.SetRect([[-1,1],[-1,1]],dimx=n+1,sampleBoundary=True)\n",
    "X = hfmIn.Grid()\n",
    "hfmIn.SetUniformTips((4,4))"
   ]
  },
  {
   "cell_type": "code",
   "execution_count": 7,
   "metadata": {
    "scrolled": true
   },
   "outputs": [
    {
     "name": "stdout",
     "output_type": "stream",
     "text": [
      "Setting the kernel traits.\n",
      "Preparing the domain data (shape,metric,...)\n",
      "Preparing the problem rhs (cost, seeds,...)\n",
      "Preparing the GPU kernel\n",
      "Running the eikonal GPU kernel\n",
      "GPU kernel eikonal ran for 0.0 seconds, and 10 iterations.\n",
      "Post-Processing\n"
     ]
    }
   ],
   "source": [
    "gpuOut = hfmIn.Run()"
   ]
  },
  {
   "cell_type": "code",
   "execution_count": 8,
   "metadata": {},
   "outputs": [],
   "source": [
    "assert all(stop == 'AtSeed' for stop in gpuOut['geodesic_stopping_criteria'])\n",
    "assert max([len(geo.T) for geo in gpuOut['geodesics']])<=450"
   ]
  },
  {
   "cell_type": "code",
   "execution_count": 9,
   "metadata": {},
   "outputs": [],
   "source": [
    "plt.title('distance'); plt.axis('equal')\n",
    "plt.contour(*X,gpuOut['values']);"
   ]
  },
  {
   "cell_type": "code",
   "execution_count": 10,
   "metadata": {},
   "outputs": [],
   "source": [
    "plt.title(\"Geodesic flow\"); plt.axis('equal')\n",
    "quiver(*X,*gpuOut['flow'],subsampling=(20,20));"
   ]
  },
  {
   "cell_type": "code",
   "execution_count": 11,
   "metadata": {},
   "outputs": [],
   "source": [
    "plt.axis('equal')\n",
    "for geo in gpuOut['geodesics']: plt.plot(*geo);"
   ]
  },
  {
   "cell_type": "markdown",
   "metadata": {},
   "source": [
    "### 1.2 Riemannian metrics"
   ]
  },
  {
   "cell_type": "code",
   "execution_count": 12,
   "metadata": {},
   "outputs": [],
   "source": [
    "n=199\n",
    "hfmIn = Eikonal.dictIn({\n",
    "    'model':'Riemann2',\n",
    "    'seed':[0.,0.],\n",
    "    'exportValues':1,\n",
    "    'metric':Metrics.Riemann(cp.array([[1.,1.],[1.,2.]])),\n",
    "    'exportGeodesicFlow':1,\n",
    "})\n",
    "hfmIn.SetRect([[-1,1],[-1,1]],dimx=n+1,sampleBoundary=True)\n",
    "X = hfmIn.Grid()\n",
    "hfmIn.SetUniformTips((4,4))"
   ]
  },
  {
   "cell_type": "code",
   "execution_count": 13,
   "metadata": {},
   "outputs": [
    {
     "name": "stdout",
     "output_type": "stream",
     "text": [
      "Setting the kernel traits.\n",
      "Preparing the domain data (shape,metric,...)\n",
      "Preparing the problem rhs (cost, seeds,...)\n",
      "Preparing the GPU kernel\n",
      "Running the eikonal GPU kernel\n",
      "GPU kernel eikonal ran for 0.031209468841552734 seconds, and 95 iterations.\n",
      "Post-Processing\n"
     ]
    }
   ],
   "source": [
    "gpuOut = hfmIn.Run()"
   ]
  },
  {
   "cell_type": "code",
   "execution_count": 14,
   "metadata": {},
   "outputs": [],
   "source": [
    "assert all(stop == 'AtSeed' for stop in gpuOut['geodesic_stopping_criteria'])\n",
    "assert max([len(geo.T) for geo in gpuOut['geodesics']])<=450"
   ]
  },
  {
   "cell_type": "code",
   "execution_count": 15,
   "metadata": {},
   "outputs": [],
   "source": [
    "plt.title('distance'); plt.axis('equal')\n",
    "plt.contour(*X,gpuOut['values']);"
   ]
  },
  {
   "cell_type": "code",
   "execution_count": 16,
   "metadata": {},
   "outputs": [],
   "source": [
    "plt.title(\"Geodesic flow\"); plt.axis('equal')\n",
    "quiver(*X,*gpuOut['flow'],subsampling=(20,20));"
   ]
  },
  {
   "cell_type": "code",
   "execution_count": 17,
   "metadata": {},
   "outputs": [],
   "source": [
    "plt.axis('equal')\n",
    "for geo in gpuOut['geodesics']: plt.plot(*geo);"
   ]
  },
  {
   "cell_type": "markdown",
   "metadata": {},
   "source": [
    "### 1.3 Rander metrics"
   ]
  },
  {
   "cell_type": "code",
   "execution_count": 18,
   "metadata": {},
   "outputs": [],
   "source": [
    "n=201\n",
    "hfmIn = Eikonal.dictIn({\n",
    "    'model':'Rander2', 'metric':Metrics.Rander(cp.eye(2),cp.array([0.,0.5])),\n",
    "    'seed':[0.,0.],\n",
    "    'exportValues':1,\n",
    "    'exportGeodesicFlow':1,\n",
    "#    'geodesic_online_flow':True,\n",
    "\n",
    "})\n",
    "hfmIn.SetRect([[-1,1],[-1,1]],dimx=n+1,sampleBoundary=True)\n",
    "X = hfmIn.Grid()\n",
    "hfmIn.SetUniformTips((4,4))"
   ]
  },
  {
   "cell_type": "code",
   "execution_count": 19,
   "metadata": {},
   "outputs": [
    {
     "name": "stdout",
     "output_type": "stream",
     "text": [
      "Setting the kernel traits.\n",
      "Preparing the domain data (shape,metric,...)\n",
      "Preparing the problem rhs (cost, seeds,...)\n",
      "Preparing the GPU kernel\n",
      "Running the eikonal GPU kernel\n",
      "GPU kernel eikonal ran for 0.01495981216430664 seconds, and 39 iterations.\n",
      "Post-Processing\n"
     ]
    }
   ],
   "source": [
    "gpuOut = hfmIn.Run()"
   ]
  },
  {
   "cell_type": "code",
   "execution_count": 20,
   "metadata": {},
   "outputs": [],
   "source": [
    "assert all(stop == 'AtSeed' for stop in gpuOut['geodesic_stopping_criteria'])\n",
    "assert max([len(geo.T) for geo in gpuOut['geodesics']])<=450"
   ]
  },
  {
   "cell_type": "code",
   "execution_count": 21,
   "metadata": {},
   "outputs": [],
   "source": [
    "plt.title('distance'); plt.axis('equal')\n",
    "plt.contour(*X,gpuOut['values']);"
   ]
  },
  {
   "cell_type": "code",
   "execution_count": 22,
   "metadata": {},
   "outputs": [],
   "source": [
    "plt.title(\"Geodesic flow\"); plt.axis('equal')\n",
    "quiver(*X,*gpuOut['flow'],subsampling=(20,20));"
   ]
  },
  {
   "cell_type": "code",
   "execution_count": 23,
   "metadata": {},
   "outputs": [],
   "source": [
    "flow=gpuOut['flow'].copy(); flow/=ad.Optimization.norm(flow,axis=0) \n",
    "quiver(*X,*flow,subsampling=(20,20));"
   ]
  },
  {
   "cell_type": "code",
   "execution_count": 24,
   "metadata": {},
   "outputs": [],
   "source": [
    "plt.axis('equal')\n",
    "for geo in gpuOut['geodesics']: plt.plot(*geo);"
   ]
  },
  {
   "cell_type": "markdown",
   "metadata": {},
   "source": [
    "## 2. Variable metrics\n",
    "\n",
    "We reproduce a few classical test cases from the other notebooks."
   ]
  },
  {
   "cell_type": "markdown",
   "metadata": {},
   "source": [
    "### 2.1 Isotropic"
   ]
  },
  {
   "cell_type": "code",
   "execution_count": 25,
   "metadata": {},
   "outputs": [],
   "source": [
    "n=200; \n",
    "hfmIn=Eikonal.dictIn({\n",
    "    'model':'Isotropic2',\n",
    "    'exportValues':1,\n",
    "    'seed':[0.,0.],\n",
    "    'verbosity':0,\n",
    "    'exportGeodesicFlow':1,\n",
    "    'geodesic_hlen':20,    \n",
    "})\n",
    "hfmIn.SetRect([[-1,1],[-1,1]],dimx=n+1,sampleBoundary=True)\n",
    "X = hfmIn.Grid()\n",
    "hfmIn.update({\n",
    "    'cost':np.prod(np.sin(2*np.pi*X),axis=0) +1.1, # Non-constant cost\n",
    "    'tips':hfmIn.Grid(dims=(5,4)).reshape(2,-1).T\n",
    "})"
   ]
  },
  {
   "cell_type": "code",
   "execution_count": 26,
   "metadata": {},
   "outputs": [],
   "source": [
    "gpuOut = hfmIn.Run()"
   ]
  },
  {
   "cell_type": "code",
   "execution_count": 27,
   "metadata": {},
   "outputs": [],
   "source": [
    "assert all(stop == 'AtSeed' for stop in gpuOut['geodesic_stopping_criteria'])\n",
    "assert max([len(geo.T) for geo in gpuOut['geodesics']])<=600"
   ]
  },
  {
   "cell_type": "code",
   "execution_count": 28,
   "metadata": {},
   "outputs": [],
   "source": [
    "plt.title('distance'); plt.axis('equal')\n",
    "plt.contour(*X,gpuOut['values']);"
   ]
  },
  {
   "cell_type": "code",
   "execution_count": 29,
   "metadata": {},
   "outputs": [],
   "source": [
    "plt.title(\"Geodesic flow\"); plt.axis('equal')\n",
    "quiver(*X,*gpuOut['flow'],subsampling=(20,20));"
   ]
  },
  {
   "cell_type": "code",
   "execution_count": 30,
   "metadata": {},
   "outputs": [],
   "source": [
    "plt.axis('equal')\n",
    "for geo in gpuOut['geodesics']: plt.plot(*geo);"
   ]
  },
  {
   "cell_type": "markdown",
   "metadata": {},
   "source": [
    "### 2.2 Riemannian"
   ]
  },
  {
   "cell_type": "code",
   "execution_count": 31,
   "metadata": {},
   "outputs": [],
   "source": [
    "n=200\n",
    "hfmIn = Eikonal.dictIn({\n",
    "    'model':'Riemann2',\n",
    "    'seed':[0.,0.],\n",
    "    'exportValues':1,\n",
    "    'exportGeodesicFlow':1,\n",
    "    'multiprecision':True,\n",
    "    'traits':{\n",
    "        'niter_i':16,'shape_i':(8,8), # Best\n",
    "    },\n",
    "})\n",
    "hfmIn.SetRect([[-np.pi,np.pi],[-np.pi,np.pi]],dimx=n+1,sampleBoundary=True)\n",
    "X = hfmIn.Grid()\n",
    "\n",
    "rot = fd.as_field(lp.rotation(cp.array(np.pi/6)),X.shape[1:])\n",
    "def height(x): x=lp.dot_AV(rot,x); return np.sin(x[0])*np.sin(x[1])\n",
    "def surface_metric(x,z,mu=10.):\n",
    "    ndim,shape = x.ndim-1,x.shape[1:]\n",
    "    x_ad = ad.Dense.identity(constant=x,shape_free=(ndim,))\n",
    "    tensors = lp.outer_self( z(x_ad).gradient() ) + mu**-2 * fd.as_field(cp.eye(ndim),shape)\n",
    "    return Metrics.Riemann(tensors)\n",
    "\n",
    "hfmIn['metric'] = surface_metric(X,height,mu=10)\n",
    "hfmIn['tips']=hfmIn.Grid(dims=(5,4)).reshape(2,-1).T"
   ]
  },
  {
   "cell_type": "code",
   "execution_count": 32,
   "metadata": {},
   "outputs": [
    {
     "name": "stdout",
     "output_type": "stream",
     "text": [
      "Setting the kernel traits.\n",
      "Preparing the domain data (shape,metric,...)\n",
      "Preparing the problem rhs (cost, seeds,...)\n",
      "Preparing the GPU kernel\n",
      "Running the eikonal GPU kernel\n",
      "GPU kernel eikonal ran for 0.039893388748168945 seconds, and 107 iterations.\n",
      "Post-Processing\n"
     ]
    }
   ],
   "source": [
    "gpuOut = hfmIn.Run()"
   ]
  },
  {
   "cell_type": "code",
   "execution_count": 33,
   "metadata": {},
   "outputs": [],
   "source": [
    "assert all(stop in ('AtSeed','PastSeed') for stop in gpuOut['geodesic_stopping_criteria'])\n",
    "assert max([len(geo.T) for geo in gpuOut['geodesics']])<=550"
   ]
  },
  {
   "cell_type": "code",
   "execution_count": 34,
   "metadata": {},
   "outputs": [],
   "source": [
    "plt.title('distance'); plt.axis('equal')\n",
    "plt.contour(*X,gpuOut['values']);"
   ]
  },
  {
   "cell_type": "code",
   "execution_count": 35,
   "metadata": {},
   "outputs": [],
   "source": [
    "plt.figure(figsize=(8,8)); plt.axis('equal')\n",
    "for geo in gpuOut['geodesics']: plt.plot(*geo);"
   ]
  },
  {
   "cell_type": "markdown",
   "metadata": {},
   "source": [
    "The geodesics display a rather surprising angle. However, it is reproduced by the cpu variant, with the ODE solver, and by the python streamplot command. (The cpu discrete geodesic solver does not show this behavior, but it possibly over-smoothes the result.)\n",
    "\n",
    "<!---\n",
    ", which is not visible in the cpu variant. However the values and flow coincide with good precision, and a streamplot reproduces the gpu geodesics behavior. This divergence may be explained by the already strong anisotropy, and rather wide stencils used.\n",
    "--->\n",
    "\n",
    "<!---\n",
    "plt.figure(figsize=(16,16)); plt.axis('equal')\n",
    "for geo in gpuOut['geodesics']: plt.plot(*geo);\n",
    "flow=cpuOut['flow']; flow = flow/ad.Optimization.norm(flow,axis=0)\n",
    "s=2; plt.quiver(*X[:,::s,::s],*flow[:,::s,::s]);\n",
    "--->"
   ]
  },
  {
   "cell_type": "code",
   "execution_count": 36,
   "metadata": {},
   "outputs": [
    {
     "name": "stdout",
     "output_type": "stream",
     "text": [
      "Field verbosity defaults to 1\n",
      "Field order defaults to 1\n",
      "Field seedRadius defaults to 0\n",
      "Fast marching solver completed in 0.027 s.\n",
      "Field geodesicStep defaults to 0.25\n",
      "Field geodesicCausalityTolerance defaults to 4\n",
      "Field geodesicTargetTolerance defaults to 6\n",
      "***** Warning ! *****\n",
      "Unused fields from user: multiprecision \n",
      "********************\n"
     ]
    }
   ],
   "source": [
    "cpuOut = hfmIn.Run(join={'mode':'cpu_transfer','geodesicSolver':'ODE'})"
   ]
  },
  {
   "cell_type": "code",
   "execution_count": 37,
   "metadata": {},
   "outputs": [
    {
     "data": {
      "text/plain": [
       "dict_keys(['FMCPUTime', 'GeodesicCPUTime', 'MaxStencilWidth', 'StencilCPUTime', 'defaulted', 'flow', 'geodesics', 'nAccepted', 'unusedFromCompute', 'unusedFromUser', 'values', 'visitedUnset', 'retcode'])"
      ]
     },
     "execution_count": 37,
     "metadata": {},
     "output_type": "execute_result"
    }
   ],
   "source": [
    "cpuOut.keys()"
   ]
  },
  {
   "cell_type": "code",
   "execution_count": 38,
   "metadata": {},
   "outputs": [
    {
     "data": {
      "text/plain": [
       "9.308352832970712e-08"
      ]
     },
     "execution_count": 38,
     "metadata": {},
     "output_type": "execute_result"
    }
   ],
   "source": [
    "norm_infinity(cpuOut['values']-gpuOut['values'].get())"
   ]
  },
  {
   "cell_type": "code",
   "execution_count": 39,
   "metadata": {},
   "outputs": [
    {
     "data": {
      "text/plain": [
       "9.279224005709352e-05"
      ]
     },
     "execution_count": 39,
     "metadata": {},
     "output_type": "execute_result"
    }
   ],
   "source": [
    "norm_infinity(cpuOut['flow']-gpuOut['flow'].get())"
   ]
  },
  {
   "cell_type": "code",
   "execution_count": 40,
   "metadata": {},
   "outputs": [],
   "source": [
    "plt.figure(figsize=(8,8)); plt.axis('equal')\n",
    "for geo in cpuOut['geodesics']: plt.plot(*geo);"
   ]
  },
  {
   "cell_type": "code",
   "execution_count": 79,
   "metadata": {},
   "outputs": [],
   "source": [
    "XX = np.array(np.meshgrid(np.linspace(-np.pi,np.pi,201),np.linspace(-np.pi,np.pi,201),indexing='ij'))\n",
    "assert norm_infinity(X.get()-XX)<1e-6"
   ]
  },
  {
   "cell_type": "code",
   "execution_count": 80,
   "metadata": {},
   "outputs": [],
   "source": [
    "plt.figure(figsize=(16,16)); plt.axis('equal')\n",
    "streamplot_ij(*XX,*cpuOut['flow'],density=3); #X.get() fails np.allclose test because float32"
   ]
  },
  {
   "cell_type": "markdown",
   "metadata": {},
   "source": [
    "### 2.3 Rander"
   ]
  },
  {
   "cell_type": "code",
   "execution_count": 81,
   "metadata": {},
   "outputs": [],
   "source": [
    "n=200\n",
    "hfmIn = Eikonal.dictIn({\n",
    "    'model':'Rander2',\n",
    "    'seed':[0.,0.],\n",
    "    'exportValues':1,\n",
    "})\n",
    "hfmIn.SetRect([[-2.*np.pi,2.*np.pi],[-2.*np.pi,2.*np.pi]],dimx=n+1)\n",
    "X = hfmIn.Grid()\n",
    "\n",
    "def Drift(x):\n",
    "    mult = 0.9*np.sin(x[0])*np.sin(x[1]) / np.linalg.norm(x,axis=0)\n",
    "    mult[np.isnan(mult)]=0.\n",
    "    return mult*x\n",
    "\n",
    "hfmIn['metric']=Metrics.Rander.from_Zermelo(cp.eye(2),Drift(X))\n",
    "hfmIn['tips']=hfmIn.Grid(dims=(5,4)).reshape(2,-1).T"
   ]
  },
  {
   "cell_type": "code",
   "execution_count": 82,
   "metadata": {},
   "outputs": [
    {
     "name": "stdout",
     "output_type": "stream",
     "text": [
      "Setting the kernel traits.\n",
      "Preparing the domain data (shape,metric,...)\n",
      "Preparing the problem rhs (cost, seeds,...)\n",
      "Preparing the GPU kernel\n",
      "Running the eikonal GPU kernel\n",
      "GPU kernel eikonal ran for 0.015622138977050781 seconds, and 49 iterations.\n",
      "Post-Processing\n"
     ]
    }
   ],
   "source": [
    "gpuOut = hfmIn.Run()"
   ]
  },
  {
   "cell_type": "code",
   "execution_count": 83,
   "metadata": {},
   "outputs": [],
   "source": [
    "assert all(stop in ('AtSeed','VanishingFlow') for stop in gpuOut['geodesic_stopping_criteria'])\n",
    "assert max([len(geo.T) for geo in gpuOut['geodesics']])<=600"
   ]
  },
  {
   "cell_type": "code",
   "execution_count": 84,
   "metadata": {},
   "outputs": [],
   "source": [
    "plt.title('distance'); plt.axis('equal')\n",
    "plt.contour(*X,gpuOut['values']);"
   ]
  },
  {
   "cell_type": "code",
   "execution_count": 85,
   "metadata": {},
   "outputs": [],
   "source": [
    "plt.axis('equal')\n",
    "for geo in gpuOut['geodesics']: plt.plot(*geo);"
   ]
  },
  {
   "cell_type": "markdown",
   "metadata": {},
   "source": [
    "## 3. Online recomputation of the geodesic flow\n",
    "\n",
    "Geodesics are obtained as the integral curves of the geodesic flow, which is derived from the solution.\n",
    "When extracting geodesics, one may either precompute the geodesic flow on the whole domain, or recompute it on the fly where it is needed. The second option is more memory efficient, and is enabled with the `geodesic_online_flow` option."
   ]
  },
  {
   "cell_type": "code",
   "execution_count": 86,
   "metadata": {},
   "outputs": [
    {
     "name": "stdout",
     "output_type": "stream",
     "text": [
      "Setting the kernel traits.\n",
      "Preparing the domain data (shape,metric,...)\n",
      "Preparing the problem rhs (cost, seeds,...)\n",
      "Preparing the GPU kernel\n",
      "Running the eikonal GPU kernel\n",
      "GPU kernel eikonal ran for 0.016943693161010742 seconds, and 49 iterations.\n",
      "Post-Processing\n"
     ]
    }
   ],
   "source": [
    "#hfmIn['geodesic_online_flow']=True\n",
    "gpuOut = hfmIn.Run()"
   ]
  },
  {
   "cell_type": "code",
   "execution_count": 87,
   "metadata": {},
   "outputs": [],
   "source": [
    "assert all(stop in ('AtSeed','VanishingFlow') for stop in gpuOut['geodesic_stopping_criteria'])\n",
    "assert max([len(geo.T) for geo in gpuOut['geodesics']])<=600"
   ]
  },
  {
   "cell_type": "code",
   "execution_count": 88,
   "metadata": {},
   "outputs": [],
   "source": [
    "plt.axis('equal')\n",
    "for geo in gpuOut['geodesics']: plt.plot(*geo);"
   ]
  },
  {
   "cell_type": "code",
   "execution_count": 89,
   "metadata": {},
   "outputs": [],
   "source": [
    "n=201\n",
    "hfmIn = Eikonal.dictIn({\n",
    "    'model':'Isotropic2',\n",
    "    'seed':[0.,0.],\n",
    "    'cost':1.,\n",
    "#    'geodesic_online_flow':True,\n",
    "})\n",
    "hfmIn.SetRect([[-1,1],[-1,1]],dimx=n+1,sampleBoundary=True)\n",
    "X = hfmIn.Grid()\n",
    "hfmIn.SetUniformTips((4,4))"
   ]
  },
  {
   "cell_type": "code",
   "execution_count": 90,
   "metadata": {},
   "outputs": [
    {
     "name": "stdout",
     "output_type": "stream",
     "text": [
      "Setting the kernel traits.\n",
      "Preparing the domain data (shape,metric,...)\n",
      "Preparing the problem rhs (cost, seeds,...)\n",
      "Preparing the GPU kernel\n",
      "Running the eikonal GPU kernel\n",
      "GPU kernel eikonal ran for 0.00598454475402832 seconds, and 10 iterations.\n",
      "Post-Processing\n"
     ]
    }
   ],
   "source": [
    "gpuOut = hfmIn.Run()"
   ]
  },
  {
   "cell_type": "code",
   "execution_count": 91,
   "metadata": {},
   "outputs": [],
   "source": [
    "assert all(stop == 'AtSeed' for stop in gpuOut['geodesic_stopping_criteria'])\n",
    "assert max([len(geo.T) for geo in gpuOut['geodesics']])<=450"
   ]
  },
  {
   "cell_type": "code",
   "execution_count": 92,
   "metadata": {},
   "outputs": [],
   "source": [
    "plt.axis('equal')\n",
    "for geo in gpuOut['geodesics']: plt.plot(*geo);"
   ]
  },
  {
   "cell_type": "code",
   "execution_count": null,
   "metadata": {},
   "outputs": [],
   "source": []
  }
 ],
 "metadata": {
  "celltoolbar": "Format de la Cellule Texte Brut",
  "kernelspec": {
   "display_name": "Python 3 (ipykernel)",
   "language": "python",
   "name": "python3"
  },
  "language_info": {
   "codemirror_mode": {
    "name": "ipython",
    "version": 3
   },
   "file_extension": ".py",
   "mimetype": "text/x-python",
   "name": "python",
   "nbconvert_exporter": "python",
   "pygments_lexer": "ipython3",
   "version": "3.12.1"
  },
  "varInspector": {
   "cols": {
    "lenName": 16,
    "lenType": 16,
    "lenVar": 40
   },
   "kernels_config": {
    "python": {
     "delete_cmd_postfix": "",
     "delete_cmd_prefix": "del ",
     "library": "var_list.py",
     "varRefreshCmd": "print(var_dic_list())"
    },
    "r": {
     "delete_cmd_postfix": ") ",
     "delete_cmd_prefix": "rm(",
     "library": "var_list.r",
     "varRefreshCmd": "cat(var_dic_list()) "
    }
   },
   "types_to_exclude": [
    "module",
    "function",
    "builtin_function_or_method",
    "instance",
    "_Feature"
   ],
   "window_display": false
  }
 },
 "nbformat": 4,
 "nbformat_minor": 4
}

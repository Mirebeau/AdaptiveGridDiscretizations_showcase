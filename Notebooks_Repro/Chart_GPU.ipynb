{
 "cells": [
  {
   "cell_type": "markdown",
   "metadata": {},
   "source": [
    "# Adaptive PDE discretizations on Cartesian grids\n",
    "## Volume : Reproducible research\n",
    "## Part : Eikonal CPU/GPU solvers comparison\n",
    "## Chapter : Manifolds defined by local charts"
   ]
  },
  {
   "cell_type": "markdown",
   "metadata": {},
   "source": [
    "We solve eikonal PDEs on manifolds defined by local charts. In particular the projective plane, and the klein bottle.\n",
    "\n",
    "This functionality is so far only implemented in the GPU eikonal solver. It is used in the context of the rolling ball models, which involve PDEs on the group $\\mathrm{SO}_3$, parametrized by three dimensional projective space $\\mathrm{P}_3$."
   ]
  },
  {
   "cell_type": "markdown",
   "metadata": {},
   "source": [
    "[**Summary**](Summary.ipynb) of volume Reproducible research, this series of notebooks.\n",
    "\n",
    "[**Main summary**](../Summary.ipynb) of the Adaptive Grid Discretizations \n",
    "\tbook of notebooks, including the other volumes.\n",
    "\n",
    "# Table of contents\n",
    "  * [1. Projective plane](#1.-Projective-plane)\n",
    "    * [1.1 Manifold description](#1.1-Manifold-description)\n",
    "    * [1.2 Running the HFM library](#1.2-Running-the-HFM-library)\n",
    "    * [1.3 Comparison with exact solutions.](#1.3-Comparison-with-exact-solutions.)\n",
    "    * [1.4 Variants in the computation](#1.4-Variants-in-the-computation)\n",
    "    * [1.5 Glue along a narrow band](#1.5-Glue-along-a-narrow-band)\n",
    "    * [1.6 Built-in construction of a projective space](#1.6-Built-in-construction-of-a-projective-space)\n",
    "  * [2. The sphere](#2.-The-sphere)\n",
    "    * [2.1 Manifold description](#2.1-Manifold-description)\n",
    "    * [2.2 Solving the eikonal equation](#2.2-Solving-the-eikonal-equation)\n",
    "    * [2.3 Comparison with the exact solution](#2.3-Comparison-with-the-exact-solution)\n",
    "    * [2.4 Built-in construction](#2.4-Built-in-construction)\n",
    "  * [3. Circular band](#3.-Circular-band)\n",
    "  * [4. The Moëbius strip](#4.-The-Moëbius-strip)\n",
    "\n",
    "\n",
    "\n",
    "**Acknowledgement.** Some of the experiments presented in these notebooks are part of \n",
    "ongoing research with Ludovic Métivier and Da Chen.\n",
    "\n",
    "Copyright Jean-Marie Mirebeau, Centre Borelli, ENS Paris-Saclay, CNRS, University Paris-Saclay"
   ]
  },
  {
   "cell_type": "markdown",
   "metadata": {},
   "source": [
    "## 0. Importing the required libraries"
   ]
  },
  {
   "cell_type": "code",
   "execution_count": 1,
   "metadata": {
    "execution": {
     "iopub.execute_input": "2024-02-08T19:15:54.900632Z",
     "iopub.status.busy": "2024-02-08T19:15:54.900263Z",
     "iopub.status.idle": "2024-02-08T19:15:54.905787Z",
     "shell.execute_reply": "2024-02-08T19:15:54.905320Z"
    }
   },
   "outputs": [],
   "source": [
    "import sys; sys.path.insert(0,\"..\")\n",
    "#from Miscellaneous import TocTools; print(TocTools.displayTOC('Chart_GPU','Repro'))"
   ]
  },
  {
   "cell_type": "code",
   "execution_count": 2,
   "metadata": {
    "execution": {
     "iopub.execute_input": "2024-02-08T19:15:54.908322Z",
     "iopub.status.busy": "2024-02-08T19:15:54.908089Z",
     "iopub.status.idle": "2024-02-08T19:15:55.101696Z",
     "shell.execute_reply": "2024-02-08T19:15:55.101357Z"
    }
   },
   "outputs": [],
   "source": [
    "from agd import Eikonal\n",
    "from agd import AutomaticDifferentiation as ad\n",
    "from agd import FiniteDifferences as fd\n",
    "from agd import Metrics\n",
    "from agd import LinearParallel as lp\n",
    "from agd import Sphere as sp\n",
    "norm = ad.Optimization.norm"
   ]
  },
  {
   "cell_type": "code",
   "execution_count": 3,
   "metadata": {
    "execution": {
     "iopub.execute_input": "2024-02-08T19:15:55.103356Z",
     "iopub.status.busy": "2024-02-08T19:15:55.103220Z",
     "iopub.status.idle": "2024-02-08T19:15:55.328707Z",
     "shell.execute_reply": "2024-02-08T19:15:55.328451Z"
    }
   },
   "outputs": [],
   "source": [
    "import numpy as np; xp=np; allclose = np.allclose\n",
    "from matplotlib import pyplot as plt\n",
    "np.set_printoptions(edgeitems=30, linewidth=100000, formatter=dict(float=lambda x: \"%5.3g\" % x))"
   ]
  },
  {
   "cell_type": "code",
   "execution_count": 4,
   "metadata": {
    "execution": {
     "iopub.execute_input": "2024-02-08T19:15:55.330317Z",
     "iopub.status.busy": "2024-02-08T19:15:55.330195Z",
     "iopub.status.idle": "2024-02-08T19:15:55.332157Z",
     "shell.execute_reply": "2024-02-08T19:15:55.331947Z"
    }
   },
   "outputs": [],
   "source": [
    "def ReloadPackages():\n",
    "    from Miscellaneous.rreload import rreload\n",
    "    global Eikonal\n",
    "    Eikonal, = rreload([Eikonal],\"../..\")\n",
    "    Eikonal.dictIn.default_mode = 'gpu'"
   ]
  },
  {
   "cell_type": "markdown",
   "metadata": {},
   "source": [
    "### 0.1 Additional configuration\n",
    "\n",
    "The GPU accelerated eikonal solver is mandatory for this notebook."
   ]
  },
  {
   "cell_type": "code",
   "execution_count": 5,
   "metadata": {
    "execution": {
     "iopub.execute_input": "2024-02-08T19:15:55.334076Z",
     "iopub.status.busy": "2024-02-08T19:15:55.333977Z",
     "iopub.status.idle": "2024-02-08T19:15:55.437898Z",
     "shell.execute_reply": "2024-02-08T19:15:55.437509Z"
    }
   },
   "outputs": [
    {
     "ename": "DeliberateNotebookError",
     "evalue": "cupy module not found",
     "output_type": "error",
     "traceback": [
      "\u001b[0;31m---------------------------------------------------------------------------\u001b[0m",
      "\u001b[0;31mDeliberateNotebookError\u001b[0m                   Traceback (most recent call last)",
      "Cell \u001b[0;32mIn[5], line 1\u001b[0m\n\u001b[0;32m----> 1\u001b[0m \u001b[38;5;28;01mif\u001b[39;00m ad\u001b[38;5;241m.\u001b[39mcupy_generic\u001b[38;5;241m.\u001b[39mcp \u001b[38;5;129;01mis\u001b[39;00m \u001b[38;5;28;01mNone\u001b[39;00m: \u001b[38;5;28;01mraise\u001b[39;00m ad\u001b[38;5;241m.\u001b[39mDeliberateNotebookError(\u001b[38;5;124m\"\u001b[39m\u001b[38;5;124mcupy module not found\u001b[39m\u001b[38;5;124m\"\u001b[39m)\n",
      "\u001b[0;31mDeliberateNotebookError\u001b[0m: cupy module not found"
     ]
    }
   ],
   "source": [
    "if ad.cupy_generic.cp is None: raise ad.DeliberateNotebookError(\"cupy module not found\")"
   ]
  },
  {
   "cell_type": "code",
   "execution_count": 6,
   "metadata": {},
   "outputs": [
    {
     "name": "stdout",
     "output_type": "stream",
     "text": [
      "Replacing numpy with cupy, set to output 32bit ints and floats by default.\n",
      "Using cp.asarray(*,dtype=np.float32) as the default caster in ad.array.\n",
      "Setting dictIn.default_mode = 'gpu' in module agd.Eikonal .\n",
      "Returning a copy of module matplotlib.pyplot whose functions accept cupy arrays as input.\n",
      "Setting float32 compatible default values atol=rtol=1e-5 in np.allclose\n"
     ]
    }
   ],
   "source": [
    "xp,Eikonal,plt,allclose = [ad.cupy_friendly(e) for e in (xp,Eikonal,plt,allclose)]"
   ]
  },
  {
   "cell_type": "markdown",
   "metadata": {},
   "source": [
    "## 1. Projective plane\n",
    "\n"
   ]
  },
  {
   "cell_type": "markdown",
   "metadata": {},
   "source": [
    "### 1.1 Manifold description\n",
    "\n",
    "The projective plane is defined as the unit sphere, in which pairs of opposite points are identified.\n",
    "The `sphere_from_plane` map parametrizes the northern hemisphere from the equatorial disk, by projection from the south pole."
   ]
  },
  {
   "cell_type": "code",
   "execution_count": 7,
   "metadata": {},
   "outputs": [],
   "source": [
    "def chart_mapping(x): \n",
    "    \"\"\"\n",
    "    Glue map for the projective plane, as parameterized from the equator.\n",
    "    (Maps a point to the other point with which it identifies.)\n",
    "    \"\"\"    \n",
    "    return sp.plane_from_sphere( - sp.sphere_from_plane(x))"
   ]
  },
  {
   "cell_type": "markdown",
   "metadata": {},
   "source": [
    "The equatorial projection is conformal to the isotropic metric on the plane, with an explicit cost function."
   ]
  },
  {
   "cell_type": "code",
   "execution_count": 8,
   "metadata": {},
   "outputs": [],
   "source": [
    "def metric(x):\n",
    "    \"\"\"\n",
    "    Pulls back the Euclidean metric on the sphere onto the plane.\n",
    "    \"\"\"\n",
    "    x_ad = ad.Dense.identity(constant=x,shape_free=(len(x),))\n",
    "    Jac = np.moveaxis(sphere_from_plane(x_ad).gradient(),0,1)\n",
    "    return lp.dot_AA(lp.transpose(Jac),Jac)\n",
    "\n",
    "def cost(x):\n",
    "    \"\"\"\n",
    "    Cost function associated with the conformal metric of the stereographic projection.\n",
    "    \"\"\"\n",
    "    return np.sqrt(metric(x)[0,0]) # Alternatively, use the explicit expression 2/(1+ |x|^2)"
   ]
  },
  {
   "cell_type": "code",
   "execution_count": 9,
   "metadata": {},
   "outputs": [],
   "source": [
    "def cost(x):\n",
    "    \"\"\"\n",
    "    Isotropic cost function for the projective plane, as parametrized from the equator.\n",
    "    \"\"\"\n",
    "    return 2/(1.+lp.dot_VV(x,x))"
   ]
  },
  {
   "cell_type": "markdown",
   "metadata": {},
   "source": [
    "### 1.2 Running the HFM library\n",
    "\n",
    "We use a square, strictly containing the equatorial unit ball, as parametrization domain."
   ]
  },
  {
   "cell_type": "code",
   "execution_count": 10,
   "metadata": {},
   "outputs": [],
   "source": [
    "n = 201\n",
    "hfmIn = Eikonal.dictIn({\n",
    "    'model':'Isotropic2',\n",
    "    'seed':[0.5,0.7],\n",
    "    'exportValues':True,\n",
    "    'factoringRadius':10,\n",
    "})\n",
    "\n",
    "r=1.1\n",
    "hfmIn.SetRect([[-r,r],[-r,r]],dimx=n)\n",
    "X = hfmIn.Grid()\n",
    "\n",
    "hfmIn['cost']=cost(X)\n",
    "hfmIn.SetUniformTips((4,4))"
   ]
  },
  {
   "cell_type": "markdown",
   "metadata": {},
   "source": [
    "Next we need to describe the local charts."
   ]
  },
  {
   "cell_type": "code",
   "execution_count": 11,
   "metadata": {},
   "outputs": [],
   "source": [
    "hfmIn['chart_mapping'] = chart_mapping(X) # mapping to opposite point\n",
    "hfmIn['chart_jump'] = norm(X,axis=0) > (1+r)/2 # When geodesics should jump\n",
    "#hfmIn['chart_nitermax'] = 1"
   ]
  },
  {
   "cell_type": "code",
   "execution_count": 12,
   "metadata": {},
   "outputs": [
    {
     "name": "stdout",
     "output_type": "stream",
     "text": [
      "Setting the kernel traits.\n",
      "Preparing the domain data (shape,metric,...)\n",
      "Preparing the problem rhs (cost, seeds,...)\n",
      "Preparing the GPU kernel\n",
      "Running the eikonal GPU kernel\n",
      "GPU kernel eikonal ran for 0.03091716766357422 seconds, and 74 iterations.\n",
      "Post-Processing\n"
     ]
    }
   ],
   "source": [
    "hfmOut = hfmIn.Run()"
   ]
  },
  {
   "cell_type": "markdown",
   "metadata": {},
   "source": [
    "The computed distance values are minimal at the seed, and at the opposite point. "
   ]
  },
  {
   "cell_type": "code",
   "execution_count": 13,
   "metadata": {},
   "outputs": [],
   "source": [
    "plt.title(\"Distance values in the projective plane\")\n",
    "plt.contourf(*X,hfmOut['values'])\n",
    "plt.axis('equal'); plt.colorbar();"
   ]
  },
  {
   "cell_type": "markdown",
   "metadata": {},
   "source": [
    "The geodesics jump to according to the local chart as prescribed."
   ]
  },
  {
   "cell_type": "code",
   "execution_count": 14,
   "metadata": {},
   "outputs": [],
   "source": [
    "plt.title(\"Geodesics in the projective plane\")\n",
    "plt.axis('equal')\n",
    "plt.contourf(*X,hfmIn['chart_jump'])\n",
    "for geo in hfmOut['geodesics']: plt.plot(*geo)"
   ]
  },
  {
   "cell_type": "markdown",
   "metadata": {},
   "source": [
    "### 1.3 Comparison with exact solutions.\n",
    "\n",
    "The geodesics and geodesic distances on the sphere are known, and correspond to paths along the great circles.\n",
    "The situation is similar on the projective plane, except closed geodesics are only half circles."
   ]
  },
  {
   "cell_type": "code",
   "execution_count": 15,
   "metadata": {},
   "outputs": [],
   "source": [
    "def spherical_distance(p,q):\n",
    "    \"\"\"Distance on the sphere, betweeen two points of the sphere\"\"\"\n",
    "    p,q = fd.common_field((p,q),depths=(1,1))\n",
    "    return 2*np.arcsin(norm(p-q,axis=0)/2)"
   ]
  },
  {
   "cell_type": "code",
   "execution_count": 16,
   "metadata": {},
   "outputs": [],
   "source": [
    "seed_S = sp.sphere_from_plane(hfmIn['seed'])\n",
    "X_S = sp.sphere_from_plane(X)\n",
    "exact = np.minimum(spherical_distance(seed_S,X_S),spherical_distance(-seed_S,X_S))"
   ]
  },
  {
   "cell_type": "code",
   "execution_count": 17,
   "metadata": {},
   "outputs": [],
   "source": [
    "plt.title('Exact distance values')\n",
    "plt.contourf(*X,exact)\n",
    "plt.colorbar(); plt.axis('equal');"
   ]
  },
  {
   "cell_type": "markdown",
   "metadata": {},
   "source": [
    "The values are quite close. The biggest discrepancy is in the center of the domain, where the metric is stronger. In particular, it is unrelated with the chart mapping."
   ]
  },
  {
   "cell_type": "code",
   "execution_count": 18,
   "metadata": {},
   "outputs": [],
   "source": [
    "assert norm(exact-hfmOut['values'],ord=np.inf) < 0.02"
   ]
  },
  {
   "cell_type": "code",
   "execution_count": 19,
   "metadata": {},
   "outputs": [],
   "source": [
    "plt.contourf(*X,exact-hfmOut['values'])\n",
    "plt.colorbar(); plt.axis('equal');"
   ]
  },
  {
   "cell_type": "markdown",
   "metadata": {},
   "source": [
    "### 1.4 Variants in the computation\n",
    "\n",
    "Multi-precision is supported. This option improves accuracy in some very large test cases."
   ]
  },
  {
   "cell_type": "code",
   "execution_count": 20,
   "metadata": {},
   "outputs": [
    {
     "name": "stdout",
     "output_type": "stream",
     "text": [
      "Setting the kernel traits.\n",
      "Preparing the domain data (shape,metric,...)\n",
      "Preparing the problem rhs (cost, seeds,...)\n",
      "Preparing the GPU kernel\n",
      "Running the eikonal GPU kernel\n",
      "GPU kernel eikonal ran for 0.024010419845581055 seconds, and 68 iterations.\n",
      "Post-Processing\n"
     ]
    }
   ],
   "source": [
    "hfmIn['multiprecision']=True\n",
    "hfmOut = hfmIn.Run()"
   ]
  },
  {
   "cell_type": "code",
   "execution_count": 21,
   "metadata": {},
   "outputs": [],
   "source": [
    "assert norm(exact-hfmOut['values'],ord=np.inf) < 0.02\n",
    "hfmIn.pop('multiprecision',None);"
   ]
  },
  {
   "cell_type": "markdown",
   "metadata": {},
   "source": [
    "### 1.5 Glue along a narrow band\n",
    "\n",
    "One may want to apply the boundary conditions only in a narrow band."
   ]
  },
  {
   "cell_type": "code",
   "execution_count": 22,
   "metadata": {},
   "outputs": [
    {
     "name": "stdout",
     "output_type": "stream",
     "text": [
      "Setting the kernel traits.\n",
      "Preparing the domain data (shape,metric,...)\n",
      "Preparing the problem rhs (cost, seeds,...)\n",
      "Preparing the GPU kernel\n",
      "Running the eikonal GPU kernel\n",
      "GPU kernel eikonal ran for 0.023935317993164062 seconds, and 78 iterations.\n",
      "Post-Processing\n"
     ]
    }
   ],
   "source": [
    "radius = norm(X,axis=0)\n",
    "narrow_band = np.logical_and(0.9<=radius,radius<=1.1)\n",
    "hfmIn['chart_mapping'] = np.where(narrow_band,chart_mapping(X),np.nan)\n",
    "hfmOut = hfmIn.Run()"
   ]
  },
  {
   "cell_type": "markdown",
   "metadata": {},
   "source": [
    "Numerical error remains untouched within the fundamental domain, although larger errors are produced elsewhere."
   ]
  },
  {
   "cell_type": "code",
   "execution_count": 23,
   "metadata": {},
   "outputs": [
    {
     "data": {
      "text/plain": [
       "array(0.119, dtype=float32)"
      ]
     },
     "execution_count": 23,
     "metadata": {},
     "output_type": "execute_result"
    }
   ],
   "source": [
    "assert norm(np.where(norm(X,axis=0)<1,hfmOut['values']-exact,0),ord=np.inf) < 0.02 # Same error in fundamental domain\n",
    "norm(hfmOut['values']-exact,ord=np.inf) # Larger error outside"
   ]
  },
  {
   "cell_type": "markdown",
   "metadata": {},
   "source": [
    "### 1.6 Built-in construction of a projective space\n",
    "\n",
    "Projective spaces are fairly common manifolds, hence the construction presented above is built-in the agd library for convenience."
   ]
  },
  {
   "cell_type": "code",
   "execution_count": 24,
   "metadata": {},
   "outputs": [],
   "source": [
    "hfmIn = Eikonal.dictIn({\n",
    "    'model':'Isotropic2',\n",
    "    'seed':[0.5,0.7],\n",
    "    'exportValues':True,\n",
    "    'factoringRadius':10,\n",
    "})"
   ]
  },
  {
   "cell_type": "code",
   "execution_count": 25,
   "metadata": {},
   "outputs": [],
   "source": [
    "transformations = hfmIn.SetSphere(n,separation=False)"
   ]
  },
  {
   "cell_type": "code",
   "execution_count": 26,
   "metadata": {},
   "outputs": [],
   "source": [
    "X = hfmIn.Grid()\n",
    "hfmIn['cost'] = 2./(1+lp.dot_VV(X,X)) # Conformal isotropic cost\n",
    "hfmIn.SetUniformTips((4,4))"
   ]
  },
  {
   "cell_type": "code",
   "execution_count": 27,
   "metadata": {},
   "outputs": [
    {
     "name": "stdout",
     "output_type": "stream",
     "text": [
      "Setting the kernel traits.\n",
      "Preparing the domain data (shape,metric,...)\n",
      "Preparing the problem rhs (cost, seeds,...)\n",
      "Preparing the GPU kernel\n",
      "Running the eikonal GPU kernel\n",
      "GPU kernel eikonal ran for 0.02396702766418457 seconds, and 74 iterations.\n",
      "Post-Processing\n"
     ]
    }
   ],
   "source": [
    "hfmOut = hfmIn.Run()"
   ]
  },
  {
   "cell_type": "code",
   "execution_count": 28,
   "metadata": {},
   "outputs": [],
   "source": [
    "assert norm(exact-hfmOut['values'],ord=np.inf) < 0.02 # Same solution is computed"
   ]
  },
  {
   "cell_type": "markdown",
   "metadata": {},
   "source": [
    "The `SetSphere` method returns the projection functions from the equatorial plane to the sphere and conversely."
   ]
  },
  {
   "cell_type": "code",
   "execution_count": 29,
   "metadata": {},
   "outputs": [
    {
     "data": {
      "text/plain": [
       "{'from_sphere': <function agd.Eikonal.DictIn_detail.proj_fromsphere(q)>,\n",
       " 'to_sphere': <function agd.Eikonal.DictIn_detail.proj_tosphere(x)>}"
      ]
     },
     "execution_count": 29,
     "metadata": {},
     "output_type": "execute_result"
    }
   ],
   "source": [
    "transformations"
   ]
  },
  {
   "cell_type": "markdown",
   "metadata": {},
   "source": [
    "In these mapped coordinates, geodesics are arcs of circles on the sphere, with occasional jumps from a point to the opposite one."
   ]
  },
  {
   "cell_type": "code",
   "execution_count": 30,
   "metadata": {},
   "outputs": [],
   "source": [
    "plt.axes(projection='3d')\n",
    "for geo in hfmOut['geodesics']: \n",
    "    geo = transformations['to_sphere'](geo)\n",
    "    plt.plot(*geo)"
   ]
  },
  {
   "cell_type": "markdown",
   "metadata": {},
   "source": [
    "## 2. The sphere\n",
    "\n"
   ]
  },
  {
   "cell_type": "markdown",
   "metadata": {},
   "source": [
    "### 2.1 Manifold description\n",
    "\n",
    "The sphere can be described using two local charts"
   ]
  },
  {
   "cell_type": "code",
   "execution_count": 36,
   "metadata": {},
   "outputs": [],
   "source": [
    "def chart_mapping(x):\n",
    "    x=x.copy()\n",
    "    s = np.sign(x[0])\n",
    "    x[0] -= s*r\n",
    "    y = sp.plane_from_sphere(-sp.sphere_from_plane(x))\n",
    "    y[:,np.abs(y[0])>r]=np.nan\n",
    "    y[0] -= s*r\n",
    "    return y\n",
    "\n",
    "def cost(x):\n",
    "    x=x.copy()\n",
    "    s = np.sign(x[0])\n",
    "    x[0] -= s*r\n",
    "    return 2/(1+lp.dot_VV(x,x))"
   ]
  },
  {
   "cell_type": "markdown",
   "metadata": {},
   "source": [
    "### 2.2 Solving the eikonal equation"
   ]
  },
  {
   "cell_type": "code",
   "execution_count": 37,
   "metadata": {},
   "outputs": [],
   "source": [
    "r=1.1\n",
    "\n",
    "hfmIn = Eikonal.dictIn({\n",
    "    'model':'Isotropic2',\n",
    "    'seed':[0.5-r,0.7],\n",
    "    'exportValues':True,\n",
    "    'factoringRadius':10,\n",
    "})\n",
    "\n",
    "hfmIn.SetRect([[-2*r,2*r],[-r,r]],dimx=401) # Twice larger domain along x axis\n",
    "\n",
    "X = hfmIn.Grid()\n",
    "hfmIn.SetUniformTips((8,4))"
   ]
  },
  {
   "cell_type": "code",
   "execution_count": 38,
   "metadata": {},
   "outputs": [],
   "source": [
    "hfmIn['cost']=cost(X)\n",
    "hfmIn['chart_jump'] = cost(X)<0.95\n",
    "hfmIn['chart_nitermax']=10"
   ]
  },
  {
   "cell_type": "markdown",
   "metadata": {},
   "source": [
    "**Important : set `chart_mapping` to `NaN` in the `walls` location.** Otherwise, some solution values will be pasted in the walls location, according to the `chart_mapping`. Then, they may be pasted elsewhere in a subsequent call, corrupting the solution values."
   ]
  },
  {
   "cell_type": "code",
   "execution_count": 39,
   "metadata": {},
   "outputs": [],
   "source": [
    "hfmIn['walls']=np.abs(X[0])<0.02 # Separation between the two charts\n",
    "hfmIn['chart_mapping'] = np.where(hfmIn['walls'],np.nan,chart_mapping(X)) # mapping to opposite point"
   ]
  },
  {
   "cell_type": "code",
   "execution_count": 40,
   "metadata": {},
   "outputs": [
    {
     "name": "stdout",
     "output_type": "stream",
     "text": [
      "Setting the kernel traits.\n",
      "Preparing the domain data (shape,metric,...)\n",
      "Preparing the problem rhs (cost, seeds,...)\n",
      "Preparing the GPU kernel\n",
      "Running the eikonal GPU kernel\n",
      "GPU kernel eikonal ran for 0.043752193450927734 seconds, and 132 iterations.\n",
      "Post-Processing\n"
     ]
    }
   ],
   "source": [
    "hfmOut = hfmIn.Run()"
   ]
  },
  {
   "cell_type": "code",
   "execution_count": 41,
   "metadata": {},
   "outputs": [],
   "source": [
    "plt.figure(figsize=(16,7))\n",
    "plt.title('Solution values, with the two seed points')\n",
    "plt.contourf(*X,hfmOut['values'])\n",
    "plt.axis('equal'); \n",
    "plt.colorbar();\n",
    "plt.scatter(*hfmIn['seed'])\n",
    "plt.scatter(*chart_mapping(hfmIn['seed']));"
   ]
  },
  {
   "cell_type": "code",
   "execution_count": 42,
   "metadata": {},
   "outputs": [],
   "source": [
    "plt.axis('equal')\n",
    "for geo in hfmOut['geodesics']: plt.plot(*geo)"
   ]
  },
  {
   "cell_type": "markdown",
   "metadata": {},
   "source": [
    "### 2.3 Comparison with the exact solution"
   ]
  },
  {
   "cell_type": "code",
   "execution_count": 44,
   "metadata": {},
   "outputs": [],
   "source": [
    "def to_sphere(x):\n",
    "    x=x.copy()\n",
    "    s=np.sign(x[0])\n",
    "    x[0]-=r*s\n",
    "    return sp.sphere_from_plane(x)*s\n",
    "    \n",
    "exact = spherical_distance(to_sphere(X),to_sphere(hfmIn['seed']))"
   ]
  },
  {
   "cell_type": "code",
   "execution_count": 45,
   "metadata": {},
   "outputs": [],
   "source": [
    "error = np.where(hfmIn['walls'],0.,hfmOut['values']-exact)\n",
    "assert norm(error,ord=np.inf) < 0.03 # Errors are quite small"
   ]
  },
  {
   "cell_type": "markdown",
   "metadata": {},
   "source": [
    "### 2.4 Built-in construction\n",
    "\n",
    "Spheres are common manifolds in applications, hence the agd library provides a built-in construction."
   ]
  },
  {
   "cell_type": "code",
   "execution_count": 67,
   "metadata": {},
   "outputs": [],
   "source": [
    "hfmIn0 = hfmIn; XGrid0 = X"
   ]
  },
  {
   "cell_type": "code",
   "execution_count": 68,
   "metadata": {},
   "outputs": [],
   "source": [
    "hfmIn = Eikonal.dictIn({\n",
    "    'model':'Isotropic2',\n",
    "    'seed':[0.5-r,0.7],\n",
    "    'exportValues':True,\n",
    "    'factoringRadius':10,\n",
    "})\n",
    "\n",
    "transformations = hfmIn.SetSphere(n) #,separation=1)\n",
    "hfmIn.SetUniformTips((8,4))"
   ]
  },
  {
   "cell_type": "code",
   "execution_count": 69,
   "metadata": {},
   "outputs": [],
   "source": [
    "XGrid = hfmIn.Grid()\n",
    "X,chart = transformations['from_grid'](XGrid) \n",
    "hfmIn['cost'] = 2./(1.+lp.dot_VV(X,X))\n",
    "hfmIn['walls'] = np.isnan(hfmIn['cost'])"
   ]
  },
  {
   "cell_type": "code",
   "execution_count": 70,
   "metadata": {},
   "outputs": [
    {
     "name": "stdout",
     "output_type": "stream",
     "text": [
      "Setting the kernel traits.\n",
      "Preparing the domain data (shape,metric,...)\n",
      "Preparing the problem rhs (cost, seeds,...)\n",
      "Preparing the GPU kernel\n",
      "Running the eikonal GPU kernel\n",
      "GPU kernel eikonal ran for 0.03792905807495117 seconds, and 105 iterations.\n",
      "Post-Processing\n"
     ]
    }
   ],
   "source": [
    "hfmOut = hfmIn.Run()"
   ]
  },
  {
   "cell_type": "code",
   "execution_count": 71,
   "metadata": {},
   "outputs": [],
   "source": [
    "plt.axis('equal')\n",
    "for geo in hfmOut['geodesics']: plt.plot(*geo)"
   ]
  },
  {
   "cell_type": "code",
   "execution_count": 72,
   "metadata": {},
   "outputs": [],
   "source": [
    "plt.contourf(*XGrid,hfmOut['values'])\n",
    "plt.axis('equal');"
   ]
  },
  {
   "cell_type": "code",
   "execution_count": 73,
   "metadata": {},
   "outputs": [],
   "source": [
    "plt.figure(figsize=(9,8))\n",
    "plt.axes(projection='3d')\n",
    "for geo in hfmOut['geodesics']: \n",
    "    geo = transformations['to_sphere'](*transformations['from_grid'](geo))\n",
    "    plt.plot(*geo)"
   ]
  },
  {
   "cell_type": "markdown",
   "metadata": {},
   "source": [
    "## 3. Circular band\n",
    "\n",
    "We implement periodicity along one axis. The point is to illustrate that `chart_mapping` can be broadcasted over the first coordinates, which is helpful in the case of spherical or projective bundles over a domain, such as $R^3 \\times S^2$ or $R^2 \\times P^3$ which are often considered in other notebooks. Broadcasting avoids storing an unnecessary large ` chart_mapping`.\n",
    "\n",
    "**The `periodic` field**. Periodicity along the second axis may also be achieved in a simpler and more computationally efficient fashion, by introducing `'periodic':[False,True]` in `hfmIn`."
   ]
  },
  {
   "cell_type": "code",
   "execution_count": 53,
   "metadata": {},
   "outputs": [],
   "source": [
    "r=1.1\n",
    "hfmIn = Eikonal.dictIn({\n",
    "    'model':'Isotropic2',\n",
    "    'seed':[0.5,0.3],\n",
    "    'exportValues':True,\n",
    "    'cost':1,\n",
    "    'factoringRadius':10,\n",
    "})\n",
    "hfmIn.SetRect([[-1,1],[-r,r]],dimx=100)\n",
    "hfmIn.SetUniformTips((4,4))\n",
    "_,aY = hfmIn.Axes()\n",
    "hfmIn['chart_mapping'] = np.expand_dims(np.where(aY>0,aY-2,aY+2),axis=0) # periodicity along y axis\n",
    "hfmIn['chart_jump'] = np.abs(aY)> (1+r)/2\n",
    "\n",
    "X = hfmIn.Grid()"
   ]
  },
  {
   "cell_type": "code",
   "execution_count": 54,
   "metadata": {},
   "outputs": [
    {
     "name": "stdout",
     "output_type": "stream",
     "text": [
      "Setting the kernel traits.\n",
      "Preparing the domain data (shape,metric,...)\n",
      "Preparing the problem rhs (cost, seeds,...)\n",
      "Preparing the GPU kernel\n",
      "Running the eikonal GPU kernel\n",
      "GPU kernel eikonal ran for 0.0069811344146728516 seconds, and 19 iterations.\n",
      "Post-Processing\n"
     ]
    }
   ],
   "source": [
    "hfmOut = hfmIn.Run()"
   ]
  },
  {
   "cell_type": "code",
   "execution_count": 55,
   "metadata": {},
   "outputs": [],
   "source": [
    "plt.contourf(*X,hfmOut['values'])\n",
    "plt.axis('equal'); plt.colorbar();"
   ]
  },
  {
   "cell_type": "code",
   "execution_count": 56,
   "metadata": {},
   "outputs": [],
   "source": [
    "def euclidean_distance(p,q): \n",
    "    p,q = fd.common_field((p,q),depths=(1,1))\n",
    "    return norm(p-q,axis=0)\n",
    "\n",
    "exact = np.minimum( euclidean_distance(X,hfmIn['seed']), euclidean_distance(X,hfmIn['seed'] - xp.array([0,2])) )"
   ]
  },
  {
   "cell_type": "code",
   "execution_count": 57,
   "metadata": {},
   "outputs": [],
   "source": [
    "assert norm(exact-hfmOut['values'],ord=np.inf) < 0.02"
   ]
  },
  {
   "cell_type": "markdown",
   "metadata": {},
   "source": [
    "## 4. The Moëbius strip"
   ]
  },
  {
   "cell_type": "code",
   "execution_count": 58,
   "metadata": {},
   "outputs": [],
   "source": [
    "r=1.1\n",
    "hfmIn = Eikonal.dictIn({\n",
    "    'model':'Isotropic2',\n",
    "    'seed':[0.5,0.3],\n",
    "    'exportValues':True,\n",
    "    'cost':1,\n",
    "    'factoringRadius':10,\n",
    "})\n",
    "hfmIn.SetRect([[-1,1],[-r,r]],dimx=100)\n",
    "hfmIn.SetUniformTips((4,4))\n",
    "_,aY = hfmIn.Axes()\n",
    "hfmIn['chart_jump'] = np.abs(aY)> (1+r)/2\n",
    "\n",
    "X = hfmIn.Grid()"
   ]
  },
  {
   "cell_type": "code",
   "execution_count": 59,
   "metadata": {},
   "outputs": [],
   "source": [
    "def chart_mapping(x):\n",
    "    s = np.sign(x[1])\n",
    "    return [-x[0],x[1]-2*s]\n",
    "\n",
    "hfmIn['chart_mapping'] = chart_mapping(X)"
   ]
  },
  {
   "cell_type": "code",
   "execution_count": 60,
   "metadata": {},
   "outputs": [
    {
     "name": "stdout",
     "output_type": "stream",
     "text": [
      "Setting the kernel traits.\n",
      "Preparing the domain data (shape,metric,...)\n",
      "Preparing the problem rhs (cost, seeds,...)\n",
      "Preparing the GPU kernel\n",
      "Running the eikonal GPU kernel\n",
      "GPU kernel eikonal ran for 0.0059854984283447266 seconds, and 19 iterations.\n",
      "Post-Processing\n"
     ]
    }
   ],
   "source": [
    "hfmOut = hfmIn.Run()"
   ]
  },
  {
   "cell_type": "code",
   "execution_count": 61,
   "metadata": {},
   "outputs": [],
   "source": [
    "plt.contourf(*X,hfmOut['values'])\n",
    "plt.axis('equal');"
   ]
  },
  {
   "cell_type": "code",
   "execution_count": null,
   "metadata": {},
   "outputs": [],
   "source": []
  }
 ],
 "metadata": {
  "kernelspec": {
   "display_name": "Python 3 (ipykernel)",
   "language": "python",
   "name": "python3"
  },
  "language_info": {
   "codemirror_mode": {
    "name": "ipython",
    "version": 3
   },
   "file_extension": ".py",
   "mimetype": "text/x-python",
   "name": "python",
   "nbconvert_exporter": "python",
   "pygments_lexer": "ipython3",
   "version": "3.12.1"
  },
  "varInspector": {
   "cols": {
    "lenName": 16,
    "lenType": 16,
    "lenVar": 40
   },
   "kernels_config": {
    "python": {
     "delete_cmd_postfix": "",
     "delete_cmd_prefix": "del ",
     "library": "var_list.py",
     "varRefreshCmd": "print(var_dic_list())"
    },
    "r": {
     "delete_cmd_postfix": ") ",
     "delete_cmd_prefix": "rm(",
     "library": "var_list.r",
     "varRefreshCmd": "cat(var_dic_list()) "
    }
   },
   "types_to_exclude": [
    "module",
    "function",
    "builtin_function_or_method",
    "instance",
    "_Feature"
   ],
   "window_display": false
  }
 },
 "nbformat": 4,
 "nbformat_minor": 4
}

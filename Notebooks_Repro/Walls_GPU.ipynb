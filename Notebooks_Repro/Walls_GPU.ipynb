{
 "cells": [
  {
   "cell_type": "markdown",
   "metadata": {},
   "source": [
    "# Adaptive PDE discretizations on Cartesian grids\n",
    "## Volume : Reproducible research\n",
    "## Part : Eikonal CPU/GPU solvers comparison\n",
    "## Chapter : Walls and obstacles"
   ]
  },
  {
   "cell_type": "markdown",
   "metadata": {},
   "source": [
    "We compute minimal paths in domains featuring obstacles, and check that the CPU and GPU codes provide consistent results."
   ]
  },
  {
   "cell_type": "markdown",
   "metadata": {},
   "source": [
    "[**Summary**](Summary.ipynb) of volume Reproducible research, this series of notebooks.\n",
    "\n",
    "[**Main summary**](../Summary.ipynb) of the Adaptive Grid Discretizations \n",
    "\tbook of notebooks, including the other volumes.\n",
    "\n",
    "# Table of contents\n",
    "  * [1. Isotropic metrics](#1.-Isotropic-metrics)\n",
    "  * [2. Curvature penalized metrics](#2.-Curvature-penalized-metrics)\n",
    "  * [3. Centre Pompidou](#3.-Centre-Pompidou)\n",
    "\n",
    "\n",
    "\n",
    "**Acknowledgement.** Some of the experiments presented in these notebooks are part of \n",
    "ongoing research with Ludovic Métivier and Da Chen.\n",
    "\n",
    "Copyright Jean-Marie Mirebeau, Centre Borelli, ENS Paris-Saclay, CNRS, University Paris-Saclay"
   ]
  },
  {
   "cell_type": "markdown",
   "metadata": {},
   "source": [
    "## 0. Importing the required libraries"
   ]
  },
  {
   "cell_type": "code",
   "execution_count": 1,
   "metadata": {
    "execution": {
     "iopub.execute_input": "2024-02-23T18:41:39.285696Z",
     "iopub.status.busy": "2024-02-23T18:41:39.285107Z",
     "iopub.status.idle": "2024-02-23T18:41:39.293777Z",
     "shell.execute_reply": "2024-02-23T18:41:39.293053Z"
    }
   },
   "outputs": [],
   "source": [
    "import sys; sys.path.insert(0,\"..\")\n",
    "#from Miscellaneous import TocTools; print(TocTools.displayTOC('Walls_GPU','Repro'))"
   ]
  },
  {
   "cell_type": "code",
   "execution_count": 2,
   "metadata": {
    "execution": {
     "iopub.execute_input": "2024-02-23T18:41:39.297608Z",
     "iopub.status.busy": "2024-02-23T18:41:39.297271Z",
     "iopub.status.idle": "2024-02-23T18:41:39.465077Z",
     "shell.execute_reply": "2024-02-23T18:41:39.464649Z"
    }
   },
   "outputs": [
    {
     "ename": "DeliberateNotebookError",
     "evalue": "Cupy module required",
     "output_type": "error",
     "traceback": [
      "\u001b[0;31m---------------------------------------------------------------------------\u001b[0m",
      "\u001b[0;31mDeliberateNotebookError\u001b[0m                   Traceback (most recent call last)",
      "Cell \u001b[0;32mIn[2], line 2\u001b[0m\n\u001b[1;32m      1\u001b[0m \u001b[38;5;28;01mfrom\u001b[39;00m \u001b[38;5;21;01magd\u001b[39;00m \u001b[38;5;28;01mimport\u001b[39;00m AutomaticDifferentiation \u001b[38;5;28;01mas\u001b[39;00m ad\n\u001b[0;32m----> 2\u001b[0m \u001b[38;5;28;01mif\u001b[39;00m ad\u001b[38;5;241m.\u001b[39mcupy_generic\u001b[38;5;241m.\u001b[39mcp \u001b[38;5;129;01mis\u001b[39;00m \u001b[38;5;28;01mNone\u001b[39;00m: \u001b[38;5;28;01mraise\u001b[39;00m ad\u001b[38;5;241m.\u001b[39mDeliberateNotebookError(\u001b[38;5;124m'\u001b[39m\u001b[38;5;124mCupy module required\u001b[39m\u001b[38;5;124m'\u001b[39m)\n\u001b[1;32m      3\u001b[0m \u001b[38;5;28;01mfrom\u001b[39;00m \u001b[38;5;21;01magd\u001b[39;00m \u001b[38;5;28;01mimport\u001b[39;00m Eikonal\n\u001b[1;32m      4\u001b[0m \u001b[38;5;28;01mfrom\u001b[39;00m \u001b[38;5;21;01magd\u001b[39;00m \u001b[38;5;28;01mimport\u001b[39;00m Metrics\n",
      "\u001b[0;31mDeliberateNotebookError\u001b[0m: Cupy module required"
     ]
    }
   ],
   "source": [
    "from agd import AutomaticDifferentiation as ad\n",
    "if ad.cupy_generic.cp is None: raise ad.DeliberateNotebookError('Cupy module required')\n",
    "from agd import Eikonal\n",
    "from agd import Metrics\n",
    "from agd import FiniteDifferences as fd\n",
    "from agd import LinearParallel as lp\n",
    "from agd.Plotting import savefig,imread; #savefig.dirName = 'Figures/Walls_GPU'; savefig.dpi=150\n",
    "import agd.AutomaticDifferentiation.cupy_generic as cugen\n",
    "norm_infinity = ad.Optimization.norm_infinity\n",
    "\n",
    "from agd.ExportedCode.Notebooks_Repro.Isotropic_GPU import RunCompare"
   ]
  },
  {
   "cell_type": "code",
   "execution_count": 3,
   "metadata": {},
   "outputs": [],
   "source": [
    "import cupy as cp\n",
    "import numpy as np\n",
    "import itertools\n",
    "from matplotlib import pyplot as plt\n",
    "import matplotlib\n",
    "np.set_printoptions(edgeitems=30, linewidth=100000, formatter=dict(float=lambda x: \"%5.3g\" % x))"
   ]
  },
  {
   "cell_type": "code",
   "execution_count": 4,
   "metadata": {},
   "outputs": [],
   "source": [
    "cp = ad.functional.decorate_module_functions(cp,cugen.set_output_dtype32) # Use float32 and int32 types in place of float64 and int64\n",
    "plt = ad.functional.decorate_module_functions(plt,cugen.cupy_get_args)\n",
    "Eikonal.dictIn.default_mode = 'gpu'"
   ]
  },
  {
   "cell_type": "markdown",
   "metadata": {},
   "source": [
    "### 0.1 Additional configuration\n",
    "\n",
    "Run large problem instances (computation time may become a bit longer)."
   ]
  },
  {
   "cell_type": "code",
   "execution_count": 5,
   "metadata": {},
   "outputs": [],
   "source": [
    "large_instances=False"
   ]
  },
  {
   "cell_type": "markdown",
   "metadata": {},
   "source": [
    "## 1. Isotropic metrics"
   ]
  },
  {
   "cell_type": "code",
   "execution_count": 6,
   "metadata": {},
   "outputs": [],
   "source": [
    "n=201\n",
    "hfmIn = Eikonal.dictIn({\n",
    "    'model':'Isotropic2',\n",
    "    'seed':[0,0],\n",
    "    'exportValues':1,\n",
    "    'cost':1,\n",
    "})\n",
    "hfmIn.SetRect([[-1,1],[0,1]],dimx=n+1,sampleBoundary=True)\n",
    "hfmIn['tips']=hfmIn.Grid(dims=(4,4)).reshape(2,-1).T"
   ]
  },
  {
   "cell_type": "code",
   "execution_count": 7,
   "metadata": {},
   "outputs": [],
   "source": [
    "X = hfmIn.Grid()\n",
    "walls = np.logical_and(X[0]==X[0,int(2*n/3)],X[1]<=2./3.)\n",
    "hfmIn['walls']=walls"
   ]
  },
  {
   "cell_type": "code",
   "execution_count": 8,
   "metadata": {},
   "outputs": [
    {
     "name": "stdout",
     "output_type": "stream",
     "text": [
      "Setting the kernel traits.\n",
      "Preparing the domain data (shape,metric,...)\n",
      "Preparing the problem rhs (cost, seeds,...)\n",
      "Preparing the GPU kernel\n",
      "Running the eikonal GPU kernel\n",
      "GPU kernel eikonal ran for 0.0 seconds, and 16 iterations.\n",
      "Post-Processing\n"
     ]
    }
   ],
   "source": [
    "hfmOut = hfmIn.Run()"
   ]
  },
  {
   "cell_type": "code",
   "execution_count": 9,
   "metadata": {},
   "outputs": [
    {
     "data": {
      "text/plain": [
       "<matplotlib.contour.QuadContourSet at 0x1d395d53970>"
      ]
     },
     "execution_count": 9,
     "metadata": {},
     "output_type": "execute_result"
    }
   ],
   "source": [
    "plt.axis('equal')\n",
    "plt.contour(*X,hfmOut['values'])"
   ]
  },
  {
   "cell_type": "code",
   "execution_count": 10,
   "metadata": {},
   "outputs": [],
   "source": [
    "plt.contourf(*X,walls,cmap='Greys')\n",
    "for geo in hfmOut['geodesics']: plt.plot(*geo)"
   ]
  },
  {
   "cell_type": "code",
   "execution_count": 11,
   "metadata": {},
   "outputs": [],
   "source": [
    "assert all(stop=='AtSeed' for stop in hfmOut['geodesic_stopping_criteria'])"
   ]
  },
  {
   "cell_type": "markdown",
   "metadata": {},
   "source": [
    "## 2. Curvature penalized metrics"
   ]
  },
  {
   "cell_type": "code",
   "execution_count": 12,
   "metadata": {},
   "outputs": [],
   "source": [
    "n = 300 if large_instances else 100 \n",
    "nTheta = 96 if large_instances else 64\n",
    "hfmIn = Eikonal.dictIn({\n",
    "    'model':'Elastica2',\n",
    "    'seed':[0.,0.,np.pi],\n",
    "    'exportValues':1,\n",
    "    'cost':1,\n",
    "    'xi':0.4,\n",
    "#    'count_updates':True,\n",
    "#    'bound_active_blocks':True,\n",
    "})\n",
    "hfmIn.SetRect([[-1,1],[0,1]],dimx=n+1,sampleBoundary=True)\n",
    "hfmIn.nTheta = nTheta\n",
    "hfmIn.SetUniformTips((4,4,4))"
   ]
  },
  {
   "cell_type": "code",
   "execution_count": 13,
   "metadata": {},
   "outputs": [],
   "source": [
    "X = hfmIn.Grid()\n",
    "walls = np.logical_and(X[0]==X[0,int(2*n/3)],X[1]<=2./3.)\n",
    "hfmIn['walls']=walls"
   ]
  },
  {
   "cell_type": "code",
   "execution_count": 14,
   "metadata": {},
   "outputs": [
    {
     "name": "stdout",
     "output_type": "stream",
     "text": [
      "Setting the kernel traits.\n",
      "Preparing the domain data (shape,metric,...)\n",
      "Preparing the problem rhs (cost, seeds,...)\n",
      "Preparing the GPU kernel\n",
      "Running the eikonal GPU kernel\n",
      "GPU kernel eikonal ran for 0.10487675666809082 seconds, and 168 iterations.\n",
      "Post-Processing\n"
     ]
    }
   ],
   "source": [
    "hfmOut = hfmIn.Run()"
   ]
  },
  {
   "cell_type": "code",
   "execution_count": 15,
   "metadata": {},
   "outputs": [],
   "source": [
    "plt.figure(figsize=(15,9)) \n",
    "plt.contourf(*X[:2,:,:,0],walls[:,:,0],cmap='Greys')\n",
    "for geo in hfmOut['geodesics']: plt.plot(*geo[:2])"
   ]
  },
  {
   "cell_type": "markdown",
   "metadata": {},
   "source": [
    "All the geodesics end at the seed, except one whose tip is very close to the wall, with an initial orientation headed straight into it. Its stopping criterion is 'InWall'."
   ]
  },
  {
   "cell_type": "code",
   "execution_count": 16,
   "metadata": {},
   "outputs": [],
   "source": [
    "assert all(stop in ('AtSeed','InWall','PastSeed') for stop in hfmOut['geodesic_stopping_criteria'])"
   ]
  },
  {
   "cell_type": "markdown",
   "metadata": {},
   "source": [
    "## 3. Centre Pompidou\n",
    "\n",
    "<!--- # Non resized image\n",
    "seeds = np.array([[80,170],[80,290]])\n",
    "seeds[:,0]-=65; seeds[:,1]-=68\n",
    "\n",
    "tips = np.array([\n",
    "        [369.4, 252.2, 285., 418.6, 479.8, 687.2, 745.8, 740.4, 593.8, 558.6,\n",
    "        599.2, 497.2, 495.8, 427.2, 339., 264.6, 242.4, 354.6, 191.6, \n",
    "        178.8, 105.8, 124., 127., 419.2],[482.5, 354.5, 478., 488., 487.5, \n",
    "        478., 502.5, 300., 225.5, 378., 475.5, 81., 127.5, 128., 111., 108.,\n",
    "        176.5, 290.5, 110., 252.5, 428.5, 494., 353., 421.]]).T\n",
    "tips[:,0]-=65; tips[:,1]-=68\n",
    "--->\n",
    "\n",
    "<!--- # Non oriented tips\n",
    "#    'seeds':[[ 15, 102,0],[ 15, 222,0]],\n",
    "\n",
    "    'tips_Unoriented':[\n",
    "        [  304,   414],[  187,   286],[  220,   410],[  354,   420],[  415,   420],\n",
    "        [  622,   410],[  681,   434],[  675,   232],[  529,   158],[  494,   310],\n",
    "        [  534,   408],[  432,    13],[  431,  59.5],[  362,    60],[  274,    43],\n",
    "        [  200,    40],[  177,   108],[  290,   222],[  127,    42],[  114,   184],\n",
    "        [ 40.8,   360],[   59,   426],[   62,   285],[  354,   353]],\n",
    "\n",
    "--->\n",
    "\n",
    "<!--- Display tip number\n",
    "hfmIn['model'] = 'Dubins2'\n",
    "hfmIn['xi']=50\n",
    "hfmOut = hfmIn.Run()\n",
    "val = hfmOut['values']\n",
    "hfmOut['values'] = np.minimum(val,900)\n",
    "fig = show()\n",
    "for i,tip in enumerate(hfmIn['tips_Unoriented']):\n",
    "    plt.text(*tip,i)\n",
    "    plt.scatter(*tip)\n",
    "--->"
   ]
  },
  {
   "cell_type": "code",
   "execution_count": 9,
   "metadata": {},
   "outputs": [],
   "source": [
    "# https://www.netclipart.com/isee/wTowwJ_black-white-cartoon-drawings-how-to-draw-a/\n",
    "im = imread(\"/Notebooks_FMM/TestImages/centre_pompidou_800x546.png\")\n",
    "im = im[68:515,65:770]\n",
    "walls = np.logical_not(np.logical_and(np.logical_and(im[:,:,0]==0,im[:,:,1]==0),im[:,:,2]==1))\n",
    "walls = cp.asarray(walls.T)"
   ]
  },
  {
   "cell_type": "code",
   "execution_count": 10,
   "metadata": {},
   "outputs": [],
   "source": [
    "plt.figure(figsize=(15,10))\n",
    "plt.title(\"A map of centre Pompidou in Paris\")\n",
    "plt.imshow(im[68:515,65:770]);"
   ]
  },
  {
   "cell_type": "code",
   "execution_count": 93,
   "metadata": {},
   "outputs": [],
   "source": [
    "pi=np.pi\n",
    "hfmIn = Eikonal.dictIn({\n",
    "    'model':'ReedsShepp2',\n",
    "    'xi':60, #Typical radius of curvature, here in pixels\n",
    "    'walls':walls,\n",
    "    'dims':walls.shape,\n",
    "    'origin':(0,0),\n",
    "    'gridScale':1,\n",
    "    'seeds_Unoriented':[[ 15, 102],[ 15, 222]],\n",
    "    'tips':[\n",
    "        [304,414,pi/2],[187,286,0],[220,410,0],[354,420,pi/2],[415,420,0],\n",
    "        [622,410,pi/2],[681,434,pi/2],[675,232,-3*pi/4],[529,158,-pi/2],[494,310,0],\n",
    "        [534,408,pi],[432, 13,pi],[431, 59,0],[362, 60,pi/2],[274, 43,pi],\n",
    "        [200, 40,-pi/2],[177,108,pi],[290,222,-pi/2],[127, 42,-pi/2],[114,184,pi/2],\n",
    "        [41, 360,pi],[ 59,426,pi],[ 62,285,pi],[354,353,0.]],\n",
    "    'exportValues':True,                   \n",
    "})\n",
    "hfmIn.nTheta=60"
   ]
  },
  {
   "cell_type": "code",
   "execution_count": 94,
   "metadata": {},
   "outputs": [],
   "source": [
    "aX0,aX1,_ = hfmIn.Axes()\n",
    "X = np.meshgrid(aX0,aX1,indexing='ij')"
   ]
  },
  {
   "cell_type": "code",
   "execution_count": 95,
   "metadata": {},
   "outputs": [
    {
     "name": "stdout",
     "output_type": "stream",
     "text": [
      "Setting the kernel traits.\n",
      "Preparing the domain data (shape,metric,...)\n",
      "Preparing the problem rhs (cost, seeds,...)\n",
      "Preparing the GPU kernel\n",
      "Running the eikonal GPU kernel\n",
      "GPU kernel eikonal ran for 1.0282509326934814 seconds, and 245 iterations.\n",
      "Post-Processing\n"
     ]
    }
   ],
   "source": [
    "hfmOut = hfmIn.Run()"
   ]
  },
  {
   "cell_type": "code",
   "execution_count": 100,
   "metadata": {},
   "outputs": [],
   "source": [
    "def show():\n",
    "    \"\"\"Displays the geodesics, and their tips, as stored in hfmIn, gpuOut\"\"\"\n",
    "    fig = plt.figure(figsize=[17,12])\n",
    "    \n",
    "    # Show projections of geodesics and their tips\n",
    "    for geo in hfmOut['geodesics']: plt.plot(*geo[:2]) #_Unoriented\n",
    "    \n",
    "    vals = np.where(walls,np.inf,np.min(hfmOut['values'],axis=2))\n",
    "    plt.contourf(*X,vals,cmap='Greys',levels=20)\n",
    "    plt.axis('equal')\n",
    "    \n",
    "    # No axes labels, equal scales\n",
    "    plt.axis('equal')\n",
    "    ax = plt.gca()\n",
    "    ax.axes.xaxis.set_visible(False)\n",
    "    ax.axes.yaxis.set_visible(False)\n",
    "    ax.set_facecolor('black')\n",
    "    \n",
    "    return fig"
   ]
  },
  {
   "cell_type": "code",
   "execution_count": 101,
   "metadata": {},
   "outputs": [],
   "source": [
    "fig=show()\n",
    "savefig(fig,'ReedsShepp.png')"
   ]
  },
  {
   "cell_type": "code",
   "execution_count": 102,
   "metadata": {},
   "outputs": [
    {
     "name": "stdout",
     "output_type": "stream",
     "text": [
      "Setting the kernel traits.\n",
      "Preparing the domain data (shape,metric,...)\n",
      "Preparing the problem rhs (cost, seeds,...)\n",
      "Preparing the GPU kernel\n",
      "Running the eikonal GPU kernel\n",
      "GPU kernel eikonal ran for 0.43384313583374023 seconds, and 348 iterations.\n",
      "Post-Processing\n"
     ]
    }
   ],
   "source": [
    "hfmIn['model'] = 'ReedsSheppForward2'\n",
    "hfmOut = hfmIn.Run()"
   ]
  },
  {
   "cell_type": "code",
   "execution_count": 103,
   "metadata": {},
   "outputs": [],
   "source": [
    "fig = show()\n",
    "savefig(fig,'ReedsSheppForward.png')"
   ]
  },
  {
   "cell_type": "code",
   "execution_count": 104,
   "metadata": {},
   "outputs": [
    {
     "name": "stdout",
     "output_type": "stream",
     "text": [
      "Setting the kernel traits.\n",
      "Preparing the domain data (shape,metric,...)\n",
      "Preparing the problem rhs (cost, seeds,...)\n",
      "Preparing the GPU kernel\n",
      "Running the eikonal GPU kernel\n",
      "GPU kernel eikonal ran for 2.817537546157837 seconds, and 696 iterations.\n",
      "Post-Processing\n"
     ]
    }
   ],
   "source": [
    "hfmIn['model'] = 'Elastica2'\n",
    "hfmOut = hfmIn.Run()"
   ]
  },
  {
   "cell_type": "code",
   "execution_count": 105,
   "metadata": {},
   "outputs": [],
   "source": [
    "fig = show()\n",
    "savefig(fig,'Elastica.png')"
   ]
  },
  {
   "cell_type": "code",
   "execution_count": 106,
   "metadata": {},
   "outputs": [
    {
     "name": "stdout",
     "output_type": "stream",
     "text": [
      "Setting the kernel traits.\n",
      "Preparing the domain data (shape,metric,...)\n",
      "Preparing the problem rhs (cost, seeds,...)\n",
      "Preparing the GPU kernel\n",
      "Running the eikonal GPU kernel\n",
      "GPU kernel eikonal ran for 1.1379880905151367 seconds, and 346 iterations.\n",
      "Post-Processing\n"
     ]
    }
   ],
   "source": [
    "hfmIn['model'] = 'Dubins2'\n",
    "hfmIn['xi']=50\n",
    "hfmOut = hfmIn.Run()\n",
    "val = hfmOut['values']"
   ]
  },
  {
   "cell_type": "code",
   "execution_count": 107,
   "metadata": {},
   "outputs": [],
   "source": [
    "hfmOut['values'] = np.minimum(val,900)\n",
    "fig = show()\n",
    "savefig(fig,'Dubins.png')"
   ]
  },
  {
   "cell_type": "code",
   "execution_count": null,
   "metadata": {},
   "outputs": [],
   "source": []
  }
 ],
 "metadata": {
  "kernelspec": {
   "display_name": "Python 3 (ipykernel)",
   "language": "python",
   "name": "python3"
  },
  "language_info": {
   "codemirror_mode": {
    "name": "ipython",
    "version": 3
   },
   "file_extension": ".py",
   "mimetype": "text/x-python",
   "name": "python",
   "nbconvert_exporter": "python",
   "pygments_lexer": "ipython3",
   "version": "3.12.1"
  },
  "varInspector": {
   "cols": {
    "lenName": 16,
    "lenType": 16,
    "lenVar": 40
   },
   "kernels_config": {
    "python": {
     "delete_cmd_postfix": "",
     "delete_cmd_prefix": "del ",
     "library": "var_list.py",
     "varRefreshCmd": "print(var_dic_list())"
    },
    "r": {
     "delete_cmd_postfix": ") ",
     "delete_cmd_prefix": "rm(",
     "library": "var_list.r",
     "varRefreshCmd": "cat(var_dic_list()) "
    }
   },
   "types_to_exclude": [
    "module",
    "function",
    "builtin_function_or_method",
    "instance",
    "_Feature"
   ],
   "window_display": false
  }
 },
 "nbformat": 4,
 "nbformat_minor": 4
}

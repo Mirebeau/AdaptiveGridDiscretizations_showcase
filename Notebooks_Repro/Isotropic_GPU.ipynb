{
 "cells": [
  {
   "cell_type": "markdown",
   "metadata": {},
   "source": [
    "# Adaptive PDE discretizations on cartesian grids \n",
    "## Volume : Reproducible research\n",
    "## Part : Eikonal CPU/GPU solvers comparison\n",
    "## Chapter : Isotropic metrics"
   ]
  },
  {
   "cell_type": "markdown",
   "metadata": {},
   "source": [
    "In this notebook, we solve isotropic eikonal equations on the CPU and the GPU, and check that they produce consistent results.\n",
    "\n",
    "We obtain substantial accelerations on sufficiently large instances, a few million points, by a factor up to $100$. Note that smaller test cases yield less acceleration, due to the difficulty to extract parallelism.\n",
    "\n",
    "**bit-consistency.** By design, the CPU and GPU codes produce the same values, up to machine precision, which is approximately $10^{-8}$ for floating point types, in a variety on situations. \n",
    "This is due to the fact that the two implementations, although widely different, solve the same discretized problem. We try to ensure this behavior and check it as much as possible, as it is a strong indicator of the validity of the implementations. We refer to it as bit-consistency, aknowledging that it is a bit abusive, since the algorithm outputs, while extremely close, are still far from a bit-for-bit match.\n",
    "\n",
    "**GPU/CPU speedup.**  General purpose graphical processors are massively parallel machines, which greatly outperform CPUs on embarassingly parallel tasks. The acceleration due to GPUs is therefore most impressive on large test cases."
   ]
  },
  {
   "cell_type": "markdown",
   "metadata": {},
   "source": [
    "[**Summary**](Summary.ipynb) of volume Reproducible research, this series of notebooks.\n",
    "\n",
    "[**Main summary**](../Summary.ipynb) of the Adaptive Grid Discretizations \n",
    "\tbook of notebooks, including the other volumes.\n",
    "\n",
    "# Table of contents\n",
    "  * [1. Three dimensions](#1.-Three-dimensions)\n",
    "  * [2. Two dimensions](#2.-Two-dimensions)\n",
    "  * [3. GPU specific options](#3.-GPU-specific-options)\n",
    "    * [3.1 Multiprecision and convergence tolerance](#3.1-Multiprecision-and-convergence-tolerance)\n",
    "    * [3.2 Block shape and inner iterations](#3.2-Block-shape-and-inner-iterations)\n",
    "    * [3.3 Periodicity](#3.3-Periodicity)\n",
    "    * [3.4 Help and parameter defaults](#3.4-Help-and-parameter-defaults)\n",
    "\n",
    "\n",
    "\n",
    "**Acknowledgement.** The experiments presented in these notebooks are part of ongoing research, \n",
    "some of it with PhD student Guillaume Bonnet, in co-direction with Frederic Bonnans.\n",
    "\n",
    "Copyright Jean-Marie Mirebeau, University Paris-Sud, CNRS, University Paris-Saclay"
   ]
  },
  {
   "cell_type": "markdown",
   "metadata": {},
   "source": [
    "## 0. Importing the required libraries"
   ]
  },
  {
   "cell_type": "code",
   "execution_count": 1,
   "metadata": {},
   "outputs": [],
   "source": [
    "import sys; sys.path.insert(0,\"..\")\n",
    "#from Miscellaneous import TocTools; print(TocTools.displayTOC('Isotropic_GPU','Repro'))"
   ]
  },
  {
   "cell_type": "code",
   "execution_count": 2,
   "metadata": {
    "tags": [
     "ExportCode"
    ]
   },
   "outputs": [
    {
     "ename": "DeliberateNotebookError",
     "evalue": "Cupy module required",
     "output_type": "error",
     "traceback": [
      "\u001b[0;31m---------------------------------------------------------------------------\u001b[0m",
      "\u001b[0;31mDeliberateNotebookError\u001b[0m                   Traceback (most recent call last)",
      "\u001b[0;32m<ipython-input-2-cba8d2e4ae99>\u001b[0m in \u001b[0;36m<module>\u001b[0;34m\u001b[0m\n\u001b[1;32m      1\u001b[0m \u001b[0;32mfrom\u001b[0m \u001b[0magd\u001b[0m \u001b[0;32mimport\u001b[0m \u001b[0mAutomaticDifferentiation\u001b[0m \u001b[0;32mas\u001b[0m \u001b[0mad\u001b[0m\u001b[0;34m\u001b[0m\u001b[0;34m\u001b[0m\u001b[0m\n\u001b[0;32m----> 2\u001b[0;31m \u001b[0;32mif\u001b[0m \u001b[0mad\u001b[0m\u001b[0;34m.\u001b[0m\u001b[0mcupy_generic\u001b[0m\u001b[0;34m.\u001b[0m\u001b[0mcp\u001b[0m \u001b[0;32mis\u001b[0m \u001b[0;32mNone\u001b[0m\u001b[0;34m:\u001b[0m \u001b[0;32mraise\u001b[0m \u001b[0mad\u001b[0m\u001b[0;34m.\u001b[0m\u001b[0mDeliberateNotebookError\u001b[0m\u001b[0;34m(\u001b[0m\u001b[0;34m'Cupy module required'\u001b[0m\u001b[0;34m)\u001b[0m\u001b[0;34m\u001b[0m\u001b[0;34m\u001b[0m\u001b[0m\n\u001b[0m\u001b[1;32m      3\u001b[0m \u001b[0;32mfrom\u001b[0m \u001b[0magd\u001b[0m \u001b[0;32mimport\u001b[0m \u001b[0mEikonal\u001b[0m\u001b[0;34m\u001b[0m\u001b[0;34m\u001b[0m\u001b[0m\n\u001b[1;32m      4\u001b[0m \u001b[0;32mfrom\u001b[0m \u001b[0magd\u001b[0m \u001b[0;32mimport\u001b[0m \u001b[0mLinearParallel\u001b[0m \u001b[0;32mas\u001b[0m \u001b[0mlp\u001b[0m\u001b[0;34m\u001b[0m\u001b[0;34m\u001b[0m\u001b[0m\n\u001b[1;32m      5\u001b[0m \u001b[0;32mfrom\u001b[0m \u001b[0magd\u001b[0m \u001b[0;32mimport\u001b[0m \u001b[0mFiniteDifferences\u001b[0m \u001b[0;32mas\u001b[0m \u001b[0mfd\u001b[0m\u001b[0;34m\u001b[0m\u001b[0;34m\u001b[0m\u001b[0m\n",
      "\u001b[0;31mDeliberateNotebookError\u001b[0m: Cupy module required"
     ]
    }
   ],
   "source": [
    "from agd import AutomaticDifferentiation as ad\n",
    "if ad.cupy_generic.cp is None: raise ad.DeliberateNotebookError('Cupy module required')\n",
    "from agd import Eikonal\n",
    "from agd import LinearParallel as lp\n",
    "from agd import FiniteDifferences as fd\n",
    "import agd.AutomaticDifferentiation.cupy_generic as cugen\n",
    "norm_infinity = ad.Optimization.norm_infinity\n",
    "Eikonal.dictIn.default_mode = 'gpu'"
   ]
  },
  {
   "cell_type": "code",
   "execution_count": 3,
   "metadata": {
    "tags": [
     "ExportCode"
    ]
   },
   "outputs": [],
   "source": [
    "import cupy as cp\n",
    "import numpy as np\n",
    "import itertools\n",
    "from matplotlib import pyplot as plt\n",
    "np.set_printoptions(edgeitems=30, linewidth=100000, formatter=dict(float=lambda x: \"%5.3g\" % x))"
   ]
  },
  {
   "cell_type": "code",
   "execution_count": 4,
   "metadata": {},
   "outputs": [],
   "source": [
    "def ReloadPackages():\n",
    "    from Miscellaneous.rreload import rreload\n",
    "    global Eikonal,ad,cugen\n",
    "    Eikonal,ad,cugen = rreload([Eikonal,ad,cugen],\"..\")\n",
    "    Eikonal.dictIn.default_mode = 'gpu'"
   ]
  },
  {
   "cell_type": "markdown",
   "metadata": {},
   "source": [
    "### 0.1 Additional configuration"
   ]
  },
  {
   "cell_type": "code",
   "execution_count": 5,
   "metadata": {},
   "outputs": [],
   "source": [
    "large_instances = True # Set to True to show off GPU acceleration (CPU times may become a big long.)"
   ]
  },
  {
   "cell_type": "markdown",
   "metadata": {},
   "source": [
    "### 0.2 Decorations for gpu usage\n",
    "\n",
    "Dealing with GPU data induces minor inconveniences:\n",
    "- GPU arrays are not implicitly convertible to CPU arrays, and this is a good thing since memory transfers from GPU memory to CPU memory, and conversely, are not cheap. The `get` method must be applied to a cupy array to retrieve a numpy array.\n",
    "- GPU computing is much more efficient with 32 bit data types, integer and floating point, than with their 64bit counterparts. However a number of numpy and cupy basic functions default to 64bit output, which will be inconsistent with the rest of computations.\n",
    "\n",
    "We provide decorators to perform these memory transfers and data type conversions automatically. They are only applied to specific modules and functions, below, to avoid excessive implicit operations. "
   ]
  },
  {
   "cell_type": "code",
   "execution_count": 6,
   "metadata": {
    "tags": [
     "ExportCode"
    ]
   },
   "outputs": [],
   "source": [
    "cp = ad.functional.decorate_module_functions(cp,cugen.set_output_dtype32) # Use float32 and int32 types in place of float64 and int64\n",
    "plt = ad.functional.decorate_module_functions(plt,cugen.cupy_get_args)"
   ]
  },
  {
   "cell_type": "code",
   "execution_count": 7,
   "metadata": {},
   "outputs": [
    {
     "data": {
      "image/png": "[encoded data removed]",
      "text/plain": [
       "<Figure size 432x288 with 1 Axes>"
      ]
     },
     "metadata": {
      "needs_background": "light"
     },
     "output_type": "display_data"
    }
   ],
   "source": [
    "X = cp.linspace(0,np.pi) # 64 bit output is converted to 32 bit by decorator\n",
    "plt.plot(X,np.sin(X));   # GPU array is transfered to CPU memory."
   ]
  },
  {
   "cell_type": "markdown",
   "metadata": {},
   "source": [
    "Note that, by default, these decorators do not apply to the system module, but only to a shallow copy."
   ]
  },
  {
   "cell_type": "code",
   "execution_count": 8,
   "metadata": {},
   "outputs": [
    {
     "data": {
      "text/plain": [
       "dtype('float64')"
      ]
     },
     "execution_count": 8,
     "metadata": {},
     "output_type": "execute_result"
    }
   ],
   "source": [
    "sys.modules['cupy'].linspace(0,np.pi).dtype"
   ]
  },
  {
   "cell_type": "markdown",
   "metadata": {},
   "source": [
    "### 0.3 Comparing CPU and GPU results"
   ]
  },
  {
   "cell_type": "code",
   "execution_count": 9,
   "metadata": {
    "tags": [
     "ExportCode"
    ]
   },
   "outputs": [],
   "source": [
    "variants_basic = (\n",
    "    [{},{\"seedRadius\":2.}], # Spread seed information ?\n",
    "    [{},{'multiprecision':True}] # Reduce floating point roundoff errors\n",
    ")\n",
    "\n",
    "variants_ext = (\n",
    "    [{},{\"seedRadius\":2.},{\"factoringRadius\":10.,'factoringPointChoice':'Key'}], # source factorization ?\n",
    "    [{},{'multiprecision':True}] # Reduce floating point roundoff errors\n",
    ")\n",
    "\n",
    "variants_ext2 = (\n",
    "    [{},{'order':2}], # second order scheme ?\n",
    "    [{},{\"seedRadius\":2.},{\"factoringRadius\":10.,'factoringPointChoice':'Key'}], # source factorization ?\n",
    "    [{},{'multiprecision':True}] # Reduce floating point roundoff errors\n",
    ")\n"
   ]
  },
  {
   "cell_type": "code",
   "execution_count": 10,
   "metadata": {
    "tags": [
     "ExportCode"
    ]
   },
   "outputs": [],
   "source": [
    "def RunCompare(gpuIn,check=True,check_ratio=0,variants=None,**kwargs):\n",
    "    # Dispatch the common variants if requested\n",
    "    if isinstance(variants,str): variants = {'basic':variants_basic,'ext':variants_ext,'ext2':variants_ext2}[variants]\n",
    "    if variants:\n",
    "        for variant in variants[0]:\n",
    "            RunCompare(gpuIn,check=check,check_ratio=check_ratio,variants=variants[1:],**kwargs,**variant)\n",
    "        return\n",
    "\n",
    "    if kwargs: print(\"\\n\",f\"--- Variant {kwargs} ---\")\n",
    "\n",
    "    # Run the CPU and GPU solvers\n",
    "    gpuIn = gpuIn.copy(); gpuIn.update(kwargs)\n",
    "    gpuOut = gpuIn.Run()\n",
    "    if gpuIn.get('verbosity',1):  print(f\"--- gpu done, turning to cpu ---\")\n",
    "    cpuOut = gpuIn.Run(join={'mode':'cpu_transfer'})\n",
    "    \n",
    "    # Print performance info\n",
    "    fmTime = cpuOut['FMCPUTime']; stencilTime = cpuOut['StencilCPUTime']; \n",
    "    cpuTime = fmTime+stencilTime; gpuTime = gpuOut['solverGPUTime'];\n",
    "    print(f\"Solver time (s). GPU : {gpuTime}, CPU : {cpuTime}. Device acceleration : {cpuTime/gpuTime}\")\n",
    "    \n",
    "    # Check consistency \n",
    "    cpuVals = cpuOut['values'].copy(); gpuVals = gpuOut['values'].get()\n",
    "    # Inf is a legitimate value in the presence of e.g. obstacles\n",
    "    commonInfs = np.logical_and(np.isinf(cpuVals),np.isinf(gpuVals)) \n",
    "    cpuVals[commonInfs]=0; gpuVals[commonInfs]=0\n",
    "    print(\"Max |gpuValues-cpuValues| : \", norm_infinity(gpuVals-cpuVals))\n",
    "    \n",
    "    if check is True: assert np.allclose(gpuVals,cpuVals,atol=1e-5,rtol=1e-4)\n",
    "    elif check is False: pass\n",
    "    else: assert np.sum(np.abs(gpuVals-cpuVals)>check)<=check_ratio*gpuVals.size\n",
    "\n",
    "    return gpuOut,cpuOut"
   ]
  },
  {
   "cell_type": "markdown",
   "metadata": {},
   "source": [
    "## 1. Three dimensions\n",
    "\n",
    "GPU acceleration shines particularly well in three dimensions, where we get accelerations by a factor $100$ on large instances."
   ]
  },
  {
   "cell_type": "markdown",
   "metadata": {},
   "source": [
    "### 1.1 Constant metric"
   ]
  },
  {
   "cell_type": "code",
   "execution_count": 11,
   "metadata": {},
   "outputs": [],
   "source": [
    "n = 200 if large_instances else 100\n",
    "hfmIn = Eikonal.dictIn({\n",
    "    'model':'Isotropic3',\n",
    "    'seed':[0.,0.5,1.],\n",
    "    'exportValues':1,\n",
    "    'cost':1.,\n",
    "})\n",
    "hfmIn.SetRect([[0,1],[0,1],[0,1]],dimx=n+1,sampleBoundary=True)"
   ]
  },
  {
   "cell_type": "code",
   "execution_count": 12,
   "metadata": {},
   "outputs": [
    {
     "name": "stdout",
     "output_type": "stream",
     "text": [
      "Setting the kernel traits.\n",
      "Preparing the domain data (shape,metric,...)\n",
      "Preparing the problem rhs (cost, seeds,...)\n",
      "Preparing the GPU kernel\n",
      "Running the eikonal GPU kernel\n",
      "GPU kernel eikonal ran for 0.15620803833007812 seconds, and 177 iterations.\n",
      "Post-Processing\n",
      "--- gpu done, turning to cpu ---\n",
      "Field verbosity defaults to 1\n",
      "Field order defaults to 1\n",
      "Field seedRadius defaults to 0\n",
      "Fast marching solver completed in 6.297 s.\n",
      "Solver time (s). GPU : 0.15620803833007812, CPU : 6.3229999999999995. Device acceleration : 40.47807057559403\n",
      "Max |gpuValues-cpuValues| :  7.525086402893066e-07\n"
     ]
    }
   ],
   "source": [
    "RunCompare(hfmIn);"
   ]
  },
  {
   "cell_type": "markdown",
   "metadata": {},
   "source": [
    "### 1.2 Scheme variants\n",
    "\n",
    "We check bit-consistency for a few variants of the scheme."
   ]
  },
  {
   "cell_type": "code",
   "execution_count": 13,
   "metadata": {},
   "outputs": [],
   "source": [
    "n=50; hfmInS = hfmIn.copy() # Define the a smaller instance\n",
    "hfmInS.SetRect([[0,1],[0,1],[0,1]],dimx=n+1,sampleBoundary=True)\n",
    "X = hfmInS.Grid()\n",
    "hfmInS.update({\n",
    "    'seed':[0,0,0],\n",
    "    'cost': np.prod(np.sin(2*np.pi*X),axis=0) + 1.1, # Non-constant cost\n",
    "    'verbosity':0,\n",
    "})"
   ]
  },
  {
   "cell_type": "code",
   "execution_count": 14,
   "metadata": {},
   "outputs": [
    {
     "name": "stdout",
     "output_type": "stream",
     "text": [
      "Solver time (s). GPU : 0.02162003517150879, CPU : 0.065. Device acceleration : 3.006470594722158\n",
      "Max |gpuValues-cpuValues| :  6.863284829350391e-07\n",
      "\n",
      " --- Variant {'multiprecision': True} ---\n",
      "Solver time (s). GPU : 0.022937536239624023, CPU : 0.066. Device acceleration : 2.8773796501294084\n",
      "Max |gpuValues-cpuValues| :  9.15195275119629e-08\n",
      "\n",
      " --- Variant {'seedRadius': 2.0} ---\n",
      "Solver time (s). GPU : 0.020945072174072266, CPU : 0.068. Device acceleration : 3.2465870461013093\n",
      "Max |gpuValues-cpuValues| :  7.071241174827492e-07\n",
      "\n",
      " --- Variant {'seedRadius': 2.0, 'multiprecision': True} ---\n",
      "Solver time (s). GPU : 0.021939992904663086, CPU : 0.066. Device acceleration : 3.0082051660997795\n",
      "Max |gpuValues-cpuValues| :  9.278738799523012e-08\n"
     ]
    }
   ],
   "source": [
    "RunCompare(hfmInS,variants='basic');"
   ]
  },
  {
   "cell_type": "markdown",
   "metadata": {},
   "source": [
    "The second order scheme implementation, and the source factorization, have some slight differences between the GPU and CPU implementation, hence *one cannot expect bit-consistency in general*. "
   ]
  },
  {
   "cell_type": "code",
   "execution_count": 15,
   "metadata": {},
   "outputs": [
    {
     "name": "stdout",
     "output_type": "stream",
     "text": [
      "Solver time (s). GPU : 0.021941423416137695, CPU : 0.065. Device acceleration : 2.9624331460735203\n",
      "Max |gpuValues-cpuValues| :  6.863284829350391e-07\n",
      "\n",
      " --- Variant {'multiprecision': True} ---\n",
      "Solver time (s). GPU : 0.023935556411743164, CPU : 0.065. Device acceleration : 2.7156251929915434\n",
      "Max |gpuValues-cpuValues| :  9.15195275119629e-08\n",
      "\n",
      " --- Variant {'seedRadius': 2.0} ---\n",
      "Solver time (s). GPU : 0.021940946578979492, CPU : 0.066. Device acceleration : 3.0080744129440276\n",
      "Max |gpuValues-cpuValues| :  7.071241174827492e-07\n",
      "\n",
      " --- Variant {'seedRadius': 2.0, 'multiprecision': True} ---\n",
      "Solver time (s). GPU : 0.021941184997558594, CPU : 0.066. Device acceleration : 3.0080417264310864\n",
      "Max |gpuValues-cpuValues| :  9.278738799523012e-08\n",
      "\n",
      " --- Variant {'factoringRadius': 10.0, 'factoringPointChoice': 'Key'} ---\n"
     ]
    },
    {
     "name": "stderr",
     "output_type": "stream",
     "text": [
      "..\\agd\\AutomaticDifferentiation\\Base.py:24: RuntimeWarning: divide by zero encountered in power\n",
      "  def pow(x,n):\treturn (x**n,n*x**(n-1))\n",
      "..\\agd\\AutomaticDifferentiation\\Dense.py:95: RuntimeWarning: invalid value encountered in multiply\n",
      "  return self.new(a,_add_dim(b)*self.coef)\n"
     ]
    },
    {
     "name": "stdout",
     "output_type": "stream",
     "text": [
      "Solver time (s). GPU : 0.020943403244018555, CPU : 0.065. Device acceleration : 3.10360256366472\n",
      "Max |gpuValues-cpuValues| :  0.007725296621633626\n",
      "\n",
      " --- Variant {'factoringRadius': 10.0, 'factoringPointChoice': 'Key', 'multiprecision': True} ---\n",
      "Solver time (s). GPU : 0.022899150848388672, CPU : 0.066. Device acceleration : 2.882202944422464\n",
      "Max |gpuValues-cpuValues| :  0.007725266819311238\n",
      "\n",
      " --- Variant {'order': 2} ---\n",
      "Solver time (s). GPU : 0.031914472579956055, CPU : 0.095. Device acceleration : 2.9767059368439925\n",
      "Max |gpuValues-cpuValues| :  0.00820210289993728\n",
      "\n",
      " --- Variant {'order': 2, 'multiprecision': True} ---\n",
      "Solver time (s). GPU : 0.02988576889038086, CPU : 0.097. Device acceleration : 3.2456919664938173\n",
      "Max |gpuValues-cpuValues| :  0.00820210289993728\n",
      "\n",
      " --- Variant {'order': 2, 'seedRadius': 2.0} ---\n",
      "Solver time (s). GPU : 0.030884981155395508, CPU : 0.097. Device acceleration : 3.1406850958383834\n",
      "Max |gpuValues-cpuValues| :  0.011129541346007632\n",
      "\n",
      " --- Variant {'order': 2, 'seedRadius': 2.0, 'multiprecision': True} ---\n",
      "Solver time (s). GPU : 0.030916929244995117, CPU : 0.094. Device acceleration : 3.0404054443801813\n",
      "Max |gpuValues-cpuValues| :  0.011129541346007632\n",
      "\n",
      " --- Variant {'order': 2, 'factoringRadius': 10.0, 'factoringPointChoice': 'Key'} ---\n",
      "Solver time (s). GPU : 0.030916452407836914, CPU : 0.09. Device acceleration : 2.91107138725872\n",
      "Max |gpuValues-cpuValues| :  0.006977702283783582\n",
      "\n",
      " --- Variant {'order': 2, 'factoringRadius': 10.0, 'factoringPointChoice': 'Key', 'multiprecision': True} ---\n",
      "Solver time (s). GPU : 0.03124237060546875, CPU : 0.087. Device acceleration : 2.784679853479853\n",
      "Max |gpuValues-cpuValues| :  0.0069775830744940315\n"
     ]
    }
   ],
   "source": [
    "RunCompare(hfmInS,variants='ext2',check=0.03);"
   ]
  },
  {
   "cell_type": "markdown",
   "metadata": {},
   "source": [
    "### 1.3 Variable metric"
   ]
  },
  {
   "cell_type": "code",
   "execution_count": 16,
   "metadata": {},
   "outputs": [],
   "source": [
    "def cost(x,eps=0.1):\n",
    "    r = fd.as_field(lp.rotation(cp.array(np.pi/3),axis=cp.array((1,2,3.))),x.shape[1:],depth=2)\n",
    "    y = lp.dot_AV(r,x)\n",
    "    c,s = np.cos(y)**2,np.sin(y)**2\n",
    "    return eps**2 + c[0]*s[1]*s[2] + s[0]*c[1]*s[2] + s[0]*s[1]*c[2]"
   ]
  },
  {
   "cell_type": "code",
   "execution_count": 17,
   "metadata": {},
   "outputs": [],
   "source": [
    "n=300 if large_instances else 100\n",
    "hfmIn = Eikonal.dictIn({\n",
    "    'model':'Isotropic3',\n",
    "    'seed':(0,0,0),\n",
    "#    'traits':{'niter_i':8},'fim_front_width':4,\n",
    "})\n",
    "hfmIn.SetRect([[-2*np.pi,2*np.pi],[-2*np.pi,2*np.pi],[-2*np.pi,2*np.pi]],dimx=n+1)\n",
    "X = hfmIn.Grid()\n",
    "hfmIn['cost'] = cost(X,eps=0.05)"
   ]
  },
  {
   "cell_type": "code",
   "execution_count": 18,
   "metadata": {},
   "outputs": [
    {
     "name": "stdout",
     "output_type": "stream",
     "text": [
      "Setting the kernel traits.\n",
      "Preparing the domain data (shape,metric,...)\n",
      "Preparing the problem rhs (cost, seeds,...)\n",
      "Preparing the GPU kernel\n",
      "Running the eikonal GPU kernel\n",
      "GPU kernel eikonal ran for 0.7679600715637207 seconds, and 226 iterations.\n",
      "Post-Processing\n"
     ]
    }
   ],
   "source": [
    "hfmOut = hfmIn.Run()"
   ]
  },
  {
   "cell_type": "markdown",
   "metadata": {},
   "source": [
    "## 2. Two dimensions\n",
    "\n",
    "In two dimensions, it is usually more difficult to extract parallism than in three dimensions.\n",
    "Indeed, the front propagated in the computations is expected to have approximately\n",
    "$$\n",
    "    N^{\\frac{d-1} d}\n",
    "$$\n",
    "points in dimension $d$, where $N$ denotes the total number of points in the domain. \n",
    "The front in a two dimensional computation thus has $N^{\\frac 1 2}$ points which is much fewer than $N^{\\frac 2 3}$ in three dimensions, when $N$ is large. In addition the number of points $N$ is also often fewer in two dimensional problems."
   ]
  },
  {
   "cell_type": "code",
   "execution_count": 19,
   "metadata": {},
   "outputs": [],
   "source": [
    "n=4000 if large_instances else 1000\n",
    "hfmIn = Eikonal.dictIn({\n",
    "    'model':'Isotropic2',\n",
    "    'seed':[0.,0.5],\n",
    "    'exportValues':1,\n",
    "    'cost':1.,\n",
    "})\n",
    "hfmIn.SetRect([[0,1],[0,1]],dimx=n+1,sampleBoundary=True)"
   ]
  },
  {
   "cell_type": "code",
   "execution_count": 20,
   "metadata": {},
   "outputs": [
    {
     "name": "stdout",
     "output_type": "stream",
     "text": [
      "Setting the kernel traits.\n",
      "Preparing the domain data (shape,metric,...)\n",
      "Preparing the problem rhs (cost, seeds,...)\n",
      "Preparing the GPU kernel\n",
      "Running the eikonal GPU kernel\n",
      "GPU kernel eikonal ran for 0.24227356910705566 seconds, and 251 iterations.\n",
      "Post-Processing\n",
      "--- gpu done, turning to cpu ---\n",
      "Field verbosity defaults to 1\n",
      "Field order defaults to 1\n",
      "Field seedRadius defaults to 0\n",
      "Fast marching solver completed in 5.316 s.\n",
      "Solver time (s). GPU : 0.24227356910705566, CPU : 5.364. Device acceleration : 22.14026077945696\n",
      "Max |gpuValues-cpuValues| :  7.011341259088866e-05\n"
     ]
    }
   ],
   "source": [
    "gpuOut,cpuOut = RunCompare(hfmIn,check=1e-4)"
   ]
  },
  {
   "cell_type": "markdown",
   "metadata": {},
   "source": [
    "Another annoyance is that the numerical error, close to $10^{-4}$ in the large instance, is not as good as could be expected, around $10^{-7}$ for single precision floating point types. \n",
    "A quick fix, explained in more detail below and which does have a computational cost, is to run the computation using multiprecision."
   ]
  },
  {
   "cell_type": "code",
   "execution_count": 21,
   "metadata": {},
   "outputs": [
    {
     "name": "stdout",
     "output_type": "stream",
     "text": [
      "Setting the kernel traits.\n",
      "Preparing the domain data (shape,metric,...)\n",
      "Preparing the problem rhs (cost, seeds,...)\n",
      "Preparing the GPU kernel\n",
      "Running the eikonal GPU kernel\n",
      "GPU kernel eikonal ran for 0.40174365043640137 seconds, and 251 iterations.\n",
      "Post-Processing\n",
      "Max |gpuValues-cpuValues| :  7.819931724384332e-08\n"
     ]
    }
   ],
   "source": [
    "gpuOut = hfmIn.Run(join={'multiprecision':True}) # join with another dict\n",
    "print(\"Max |gpuValues-cpuValues| : \", norm_infinity(gpuOut['values'].get()-cpuOut['values']))"
   ]
  },
  {
   "cell_type": "code",
   "execution_count": 22,
   "metadata": {},
   "outputs": [],
   "source": [
    "n=50; hfmInS = hfmIn.copy() # Define a small instance for bit-consistency validation\n",
    "hfmInS.SetRect([[0,1],[0,1]],dimx=n+1,sampleBoundary=True)\n",
    "X = hfmInS.Grid()\n",
    "hfmInS.update({\n",
    "    'cost':np.prod(np.sin(2*np.pi*X),axis=0) +1.1, # Non-constant cost\n",
    "    'verbosity':0,\n",
    "})"
   ]
  },
  {
   "cell_type": "code",
   "execution_count": 23,
   "metadata": {},
   "outputs": [
    {
     "name": "stdout",
     "output_type": "stream",
     "text": [
      "Solver time (s). GPU : 0.00299072265625, CPU : 0.001. Device acceleration : 0.3343673469387755\n",
      "Max |gpuValues-cpuValues| :  2.744794124209804e-07\n",
      "\n",
      " --- Variant {'multiprecision': True} ---\n",
      "Solver time (s). GPU : 0.003023862838745117, CPU : 0.001. Device acceleration : 0.3307028305605929\n",
      "Max |gpuValues-cpuValues| :  8.610952284549e-08\n",
      "\n",
      " --- Variant {'seedRadius': 2.0} ---\n",
      "Solver time (s). GPU : 0.0019617080688476562, CPU : 0.0. Device acceleration : 0.0\n",
      "Max |gpuValues-cpuValues| :  3.261127631271066e-07\n",
      "\n",
      " --- Variant {'seedRadius': 2.0, 'multiprecision': True} ---\n",
      "Solver time (s). GPU : 0.015620708465576172, CPU : 0.0. Device acceleration : 0.0\n",
      "Max |gpuValues-cpuValues| :  9.196985217840847e-08\n"
     ]
    }
   ],
   "source": [
    "RunCompare(hfmInS,variants='basic')"
   ]
  },
  {
   "cell_type": "markdown",
   "metadata": {},
   "source": [
    "Again, bit consistency is not expected with the second order scheme.\n",
    "\n",
    "<!---\n",
    ", but not excluded either.\n",
    "Note that the second order scheme is non-monotone, hence the solution values need not decrease as the iterations proceed. \n",
    "In order to be consistent with the CPU implementation, and validate this test, we set the trait `decreasing_macro` to $0$.\n",
    "--->"
   ]
  },
  {
   "cell_type": "code",
   "execution_count": 24,
   "metadata": {},
   "outputs": [
    {
     "name": "stdout",
     "output_type": "stream",
     "text": [
      "Solver time (s). GPU : 0.003621816635131836, CPU : 0.001. Device acceleration : 0.2761045355802778\n",
      "Max |gpuValues-cpuValues| :  2.744794124209804e-07\n",
      "\n",
      " --- Variant {'multiprecision': True} ---\n",
      "Solver time (s). GPU : 0.0030355453491210938, CPU : 0.0. Device acceleration : 0.0\n",
      "Max |gpuValues-cpuValues| :  8.610952284549e-08\n",
      "\n",
      " --- Variant {'seedRadius': 2.0} ---\n",
      "Solver time (s). GPU : 0.002960205078125, CPU : 0.001. Device acceleration : 0.3378144329896907\n",
      "Max |gpuValues-cpuValues| :  3.261127631271066e-07\n",
      "\n",
      " --- Variant {'seedRadius': 2.0, 'multiprecision': True} ---\n",
      "Solver time (s). GPU : 0.0, CPU : 0.0. Device acceleration : nan\n",
      "Max |gpuValues-cpuValues| :  9.196985217840847e-08\n",
      "\n",
      " --- Variant {'factoringRadius': 10.0, 'factoringPointChoice': 'Key'} ---\n",
      "Solver time (s). GPU : 0.0, CPU : 0.001. Device acceleration : inf\n",
      "Max |gpuValues-cpuValues| :  0.0033232242635053144\n",
      "\n",
      " --- Variant {'factoringRadius': 10.0, 'factoringPointChoice': 'Key', 'multiprecision': True} ---\n",
      "Solver time (s). GPU : 0.0, CPU : 0.0. Device acceleration : nan\n",
      "Max |gpuValues-cpuValues| :  0.0033232242635053144\n",
      "\n",
      " --- Variant {'order': 2} ---\n"
     ]
    },
    {
     "name": "stderr",
     "output_type": "stream",
     "text": [
      "<ipython-input-10-eef1738a2fdf>:20: RuntimeWarning: invalid value encountered in double_scalars\n",
      "  print(f\"Solver time (s). GPU : {gpuTime}, CPU : {cpuTime}. Device acceleration : {cpuTime/gpuTime}\")\n",
      "<ipython-input-10-eef1738a2fdf>:20: RuntimeWarning: divide by zero encountered in double_scalars\n",
      "  print(f\"Solver time (s). GPU : {gpuTime}, CPU : {cpuTime}. Device acceleration : {cpuTime/gpuTime}\")\n"
     ]
    },
    {
     "name": "stdout",
     "output_type": "stream",
     "text": [
      "Solver time (s). GPU : 0.0, CPU : 0.001. Device acceleration : inf\n",
      "Max |gpuValues-cpuValues| :  0.002891281617866337\n",
      "\n",
      " --- Variant {'order': 2, 'multiprecision': True} ---\n",
      "Solver time (s). GPU : 0.004957914352416992, CPU : 0.001. Device acceleration : 0.2016977157970666\n",
      "Max |gpuValues-cpuValues| :  0.00289020873426038\n",
      "\n",
      " --- Variant {'order': 2, 'seedRadius': 2.0} ---\n",
      "Solver time (s). GPU : 0.015654325485229492, CPU : 0.001. Device acceleration : 0.06388010782984815\n",
      "Max |gpuValues-cpuValues| :  0.012899741741463189\n",
      "\n",
      " --- Variant {'order': 2, 'seedRadius': 2.0, 'multiprecision': True} ---\n",
      "Solver time (s). GPU : 0.0, CPU : 0.001. Device acceleration : inf\n",
      "Max |gpuValues-cpuValues| :  0.012899831148430352\n",
      "\n",
      " --- Variant {'order': 2, 'factoringRadius': 10.0, 'factoringPointChoice': 'Key'} ---\n",
      "Solver time (s). GPU : 0.0, CPU : 0.001. Device acceleration : inf\n",
      "Max |gpuValues-cpuValues| :  0.007805930036696607\n",
      "\n",
      " --- Variant {'order': 2, 'factoringRadius': 10.0, 'factoringPointChoice': 'Key', 'multiprecision': True} ---\n",
      "Solver time (s). GPU : 0.0, CPU : 0.0. Device acceleration : nan\n",
      "Max |gpuValues-cpuValues| :  0.007805930036696607\n"
     ]
    }
   ],
   "source": [
    "RunCompare(hfmInS,variants='ext2',check=0.02)"
   ]
  },
  {
   "cell_type": "markdown",
   "metadata": {},
   "source": [
    "### 1.3 Variable metric"
   ]
  },
  {
   "cell_type": "code",
   "execution_count": 25,
   "metadata": {},
   "outputs": [],
   "source": [
    "def cost(x,eps=0.1):\n",
    "    r = fd.as_field(lp.rotation(cp.array(np.pi/3)),x.shape[1:],depth=2)\n",
    "    y = lp.dot_AV(r,x)\n",
    "    return eps**2 + np.sin(y[0])**2 * np.cos(y[1])**2 + np.cos(y[0])**2 * np.sin(y[1])**2 "
   ]
  },
  {
   "cell_type": "code",
   "execution_count": 26,
   "metadata": {},
   "outputs": [],
   "source": [
    "n=2000 if large_instances else 200\n",
    "hfmIn = Eikonal.dictIn({\n",
    "    'model':'Isotropic2',\n",
    "    'seed':(0,0),\n",
    "    'exportValues':True,\n",
    "#    'traits':{'shape_i':(24,24),'niter_i':48},\n",
    "})\n",
    "hfmIn.SetRect([[-2*np.pi,2*np.pi],[-2*np.pi,2*np.pi]],dimx=n+1)\n",
    "X = hfmIn.Grid()\n",
    "hfmIn['cost'] = cost(X,eps=0.05)"
   ]
  },
  {
   "cell_type": "code",
   "execution_count": 27,
   "metadata": {},
   "outputs": [
    {
     "name": "stdout",
     "output_type": "stream",
     "text": [
      "Setting the kernel traits.\n",
      "Preparing the domain data (shape,metric,...)\n",
      "Preparing the problem rhs (cost, seeds,...)\n",
      "Preparing the GPU kernel\n",
      "Running the eikonal GPU kernel\n",
      "GPU kernel eikonal ran for 0.24659323692321777 seconds, and 98 iterations.\n",
      "Post-Processing\n"
     ]
    }
   ],
   "source": [
    "hfmOut = hfmIn.Run()"
   ]
  },
  {
   "cell_type": "code",
   "execution_count": 28,
   "metadata": {},
   "outputs": [
    {
     "data": {
      "image/png": "[encoded data removed]",
      "text/plain": [
       "<Figure size 432x288 with 1 Axes>"
      ]
     },
     "metadata": {
      "needs_background": "light"
     },
     "output_type": "display_data"
    }
   ],
   "source": [
    "plt.contourf(*X,hfmOut['values'])\n",
    "plt.axis('equal');"
   ]
  },
  {
   "cell_type": "code",
   "execution_count": null,
   "metadata": {},
   "outputs": [],
   "source": []
  },
  {
   "cell_type": "markdown",
   "metadata": {},
   "source": [
    "## 3. GPU specific options\n",
    "\n",
    "The RunGPU method of the HFM has a number of parameters, usually set to reasonnable defaults. We discuss a few of them below."
   ]
  },
  {
   "cell_type": "markdown",
   "metadata": {},
   "source": [
    "### 3.1 Multiprecision and convergence tolerance\n",
    "\n",
    "**Multiprecision.** In this mode, the solution values are represented as pairs \n",
    "$$\n",
    "    u(x) = u_q(x) \\delta + u_r(x),\n",
    "$$\n",
    "where $u_q(x) \\in Z$ is an integer, $\\delta>0$ is a fixed scale, and $u_r(x) \\in [-\\delta/2,\\delta/2[$.\n",
    "\n",
    "The parameter $\\delta$ is set automatically as the largest power of two (usually a negative power) bounded by $h/10$, where $h$ is the grid scale. The choice of a power of two avoids roundoff errors.\n",
    "\n",
    "<!---\n",
    "Eventually, the result is converted to floating point format. A slightly better accuracy can be obtained by using a double type in this last step.\n",
    "gpuOut = RunGPU({**hfmIn,'values_float64':True})\n",
    "print(\"Max |gpuValues-cpuValues| : \", norm_infinity(gpuOut['values'].get()-cpuOut['values']))\n",
    "--->\n",
    "\n",
    "**Convergence tolerance.** This parameter sets the tolerance for the convergence of the fixed point solver.\n",
    "When setting the convergence tolerance, it is important to keep in mind the *resolution* of the chosen floating point type."
   ]
  },
  {
   "cell_type": "code",
   "execution_count": 29,
   "metadata": {},
   "outputs": [
    {
     "data": {
      "text/plain": [
       "finfo(resolution=1e-06, min=-3.4028235e+38, max=3.4028235e+38, dtype=float32)"
      ]
     },
     "execution_count": 29,
     "metadata": {},
     "output_type": "execute_result"
    }
   ],
   "source": [
    "np.finfo(np.float32)"
   ]
  },
  {
   "cell_type": "code",
   "execution_count": 30,
   "metadata": {},
   "outputs": [
    {
     "data": {
      "text/plain": [
       "finfo(resolution=1e-15, min=-1.7976931348623157e+308, max=1.7976931348623157e+308, dtype=float64)"
      ]
     },
     "execution_count": 30,
     "metadata": {},
     "output_type": "execute_result"
    }
   ],
   "source": [
    "np.finfo(np.float64)"
   ]
  },
  {
   "cell_type": "markdown",
   "metadata": {},
   "source": [
    "A typical value for tolerance, in *multi-precision* mode is \n",
    "$$\n",
    "    tol=res*h*M,\n",
    "$$\n",
    "where $h$ is the grid scale, $res$ is the resolution of the floating point type, and $M$ is the magnitude of cost function in the case of an isotropic metric, or a related quantity in the anisotropic case.\n",
    "\n",
    "Without multiprecision, the above tolerance value should be multiplied by the grid scale.\n",
    "\n",
    "Caveats:\n",
    "- Choosing an excessively small tolerance, may increase the number of iterations of the solver (especially in multi-precision mode according to our experiments). In fact, the solver may not converge at all.\n",
    "- Choosing a excessively large tolerance may reduce accuracy."
   ]
  },
  {
   "cell_type": "markdown",
   "metadata": {},
   "source": [
    "### 3.2 Block shape and inner iterations"
   ]
  },
  {
   "cell_type": "markdown",
   "metadata": {},
   "source": [
    "The GPU implementation of the fast marching method works by grouping together blocks of grid points, which are updated simultaneously a prescribed number of times. The shape of these blocks ` shape_i`  and number of iterations `niter_i` can be modified, which may affect performance. They are collected in the `traits` input parameter, together with a number of compile time constants and typedefs for the GPU kernel."
   ]
  },
  {
   "cell_type": "code",
   "execution_count": 31,
   "metadata": {},
   "outputs": [
    {
     "data": {
      "text/plain": [
       "{'Scalar': numpy.float32,\n",
       " 'Int': numpy.int32,\n",
       " 'OffsetT': numpy.int32,\n",
       " 'pruning_macro': False,\n",
       " 'geom_first_macro': True,\n",
       " 'shape_i': (24, 24),\n",
       " 'niter_i': 48,\n",
       " 'multiprecision_macro': True,\n",
       " 'strict_iter_o_macro': True,\n",
       " 'strict_iter_i_macro': True,\n",
       " 'ndim_macro': 2,\n",
       " 'geom_indep_macro': 2,\n",
       " 'import_scheme_macro': False,\n",
       " 'local_i_macro': True,\n",
       " 'periodic_macro': False,\n",
       " 'isotropic_macro': True,\n",
       " 'walls_macro': False}"
      ]
     },
     "execution_count": 31,
     "metadata": {},
     "output_type": "execute_result"
    }
   ],
   "source": [
    "gpuOut['keys']['default']['traits']"
   ]
  },
  {
   "cell_type": "markdown",
   "metadata": {},
   "source": [
    "### 3.3 Periodicity\n",
    "\n",
    "Standard periodic boundary conditions may be applied to one or several some axes."
   ]
  },
  {
   "cell_type": "code",
   "execution_count": 32,
   "metadata": {},
   "outputs": [],
   "source": [
    "n=48\n",
    "hfmIn = Eikonal.dictIn({\n",
    "    'model':'Isotropic2',\n",
    "    'seed':[0.2,0.4],\n",
    "    'exportValues':1,\n",
    "    'cost':1.,\n",
    "    'verbosity':1,\n",
    "    'periodic':(False,True) # Periodic along second axis\n",
    "})\n",
    "hfmIn.SetRect([[0,1],[0,1]],dimx=n+1,sampleBoundary=False)"
   ]
  },
  {
   "cell_type": "code",
   "execution_count": 33,
   "metadata": {},
   "outputs": [
    {
     "name": "stdout",
     "output_type": "stream",
     "text": [
      "Setting the kernel traits.\n",
      "Preparing the domain data (shape,metric,...)\n",
      "Preparing the problem rhs (cost, seeds,...)\n",
      "Preparing the GPU kernel\n",
      "Running the eikonal GPU kernel\n",
      "GPU kernel eikonal ran for 0.002956867218017578 seconds, and 6 iterations.\n",
      "Post-Processing\n"
     ]
    }
   ],
   "source": [
    "gpuOut = hfmIn.Run()"
   ]
  },
  {
   "cell_type": "code",
   "execution_count": 34,
   "metadata": {},
   "outputs": [
    {
     "data": {
      "image/png": "[encoded data removed]",
      "text/plain": [
       "<Figure size 432x288 with 1 Axes>"
      ]
     },
     "metadata": {
      "needs_background": "light"
     },
     "output_type": "display_data"
    }
   ],
   "source": [
    "X = hfmIn.Grid()\n",
    "plt.title('Periodic solution'); plt.axis('equal')\n",
    "plt.contour(*X,gpuOut['values']); "
   ]
  },
  {
   "cell_type": "markdown",
   "metadata": {},
   "source": [
    "### 3.4 Help and parameter defaults"
   ]
  },
  {
   "cell_type": "markdown",
   "metadata": {},
   "source": [
    "The HFM algorithm sets a number of parameters to (hopefull relevant) default values. \n",
    "Setting a verbosity equal or larger than two will display some of the associated values."
   ]
  },
  {
   "cell_type": "code",
   "execution_count": 35,
   "metadata": {},
   "outputs": [],
   "source": [
    "n=200\n",
    "hfmIn = Eikonal.dictIn({\n",
    "    'model':'Isotropic2',\n",
    "    'seed':[0.,0.5],\n",
    "    'exportValues':1,\n",
    "    'cost':1.,\n",
    "    'verbosity':2\n",
    "})\n",
    "hfmIn.SetRect([[0,1],[0,1]],dimx=n+1,sampleBoundary=True)"
   ]
  },
  {
   "cell_type": "code",
   "execution_count": 36,
   "metadata": {
    "scrolled": false
   },
   "outputs": [
    {
     "name": "stdout",
     "output_type": "stream",
     "text": [
      "key clear_hfmIn defaults to False\n",
      "Setting the kernel traits.\n",
      "key traits defaults to {'Scalar': <class 'numpy.float32'>, 'Int': <class 'numpy.int32'>, 'OffsetT': <class 'numpy.int32'>, 'pruning_macro': False, 'geom_first_macro': True, 'shape_i': (24, 24), 'niter_i': 48}\n",
      "key values_float64 defaults to False\n",
      "key multiprecision defaults to False\n",
      "key factoringRadius defaults to 0\n",
      "key order defaults to 1\n",
      "key bound_active_blocks defaults to False\n",
      "key solver defaults to AGSI\n",
      "Preparing the domain data (shape,metric,...)\n",
      "key periodic defaults to (False, False)\n",
      "key exportGeodesicFlow defaults to False\n",
      "key tips defaults to None\n",
      "key costVariation defaults to None\n",
      "see out['keys']['default'][tol] for default\n",
      "key atol defaults to 2.4999984e-08\n",
      "key rtol defaults to 4.9999999873762135e-06\n",
      "key walls defaults to None\n",
      "Preparing the problem rhs (cost, seeds,...)\n",
      "key values defaults to None\n",
      "key seedValues defaults to [    0]\n",
      "key seedValueVariation defaults to None\n",
      "key seedRadius defaults to 0.0\n",
      "Preparing the GPU kernel\n",
      "key count_updates defaults to False\n",
      "key cuoptions defaults to ()\n",
      "key nitermax_o defaults to 2000\n",
      "key raiseOnNonConvergence defaults to True\n",
      "Running the eikonal GPU kernel\n",
      "GPU kernel eikonal ran for 0.006957292556762695 seconds, and 14 iterations.\n",
      "Post-Processing\n",
      "key extractValues defaults to False\n",
      "key retself defaults to False\n"
     ]
    }
   ],
   "source": [
    "gpuOut = hfmIn.Run()"
   ]
  },
  {
   "cell_type": "markdown",
   "metadata": {},
   "source": [
    "The default values of the keys and values are provided in the output."
   ]
  },
  {
   "cell_type": "code",
   "execution_count": 37,
   "metadata": {},
   "outputs": [
    {
     "data": {
      "text/plain": [
       "OrderedDict([('verbosity', 1),\n",
       "             ('clear_hfmIn', False),\n",
       "             ('model', '_None'),\n",
       "             ('traits',\n",
       "              {'Scalar': numpy.float32,\n",
       "               'Int': numpy.int32,\n",
       "               'OffsetT': numpy.int32,\n",
       "               'pruning_macro': False,\n",
       "               'geom_first_macro': True,\n",
       "               'shape_i': (24, 24),\n",
       "               'niter_i': 48,\n",
       "               'multiprecision_macro': False,\n",
       "               'ndim_macro': 2,\n",
       "               'geom_indep_macro': 2,\n",
       "               'import_scheme_macro': False,\n",
       "               'local_i_macro': True,\n",
       "               'periodic_macro': False,\n",
       "               'isotropic_macro': True,\n",
       "               'walls_macro': False}),\n",
       "             ('values_float64', False),\n",
       "             ('multiprecision', False),\n",
       "             ('factoringRadius', 0),\n",
       "             ('order', 1),\n",
       "             ('bound_active_blocks', False),\n",
       "             ('solver', 'AGSI'),\n",
       "             ('periodic', (False, False)),\n",
       "             ('gridScale', '_None'),\n",
       "             ('exportGeodesicFlow', False),\n",
       "             ('tips', None),\n",
       "             ('cost', None),\n",
       "             ('costVariation', None),\n",
       "             ('tol', 2.4999984e-08),\n",
       "             ('atol', array(2.5e-08, dtype=float32)),\n",
       "             ('rtol', 4.9999999873762135e-06),\n",
       "             ('walls', None),\n",
       "             ('values', None),\n",
       "             ('seeds', None),\n",
       "             ('seedValues', array([    0], dtype=float32)),\n",
       "             ('seedValueVariation', None),\n",
       "             ('seedRadius', 0.0),\n",
       "             ('count_updates', False),\n",
       "             ('cuoptions', ()),\n",
       "             ('nitermax_o', 2000),\n",
       "             ('raiseOnNonConvergence', True),\n",
       "             ('exportValues', False),\n",
       "             ('extractValues', False),\n",
       "             ('retself', False)])"
      ]
     },
     "execution_count": 37,
     "metadata": {},
     "output_type": "execute_result"
    }
   ],
   "source": [
    "gpuOut['keys']['default']"
   ]
  },
  {
   "cell_type": "markdown",
   "metadata": {},
   "source": [
    "A succint help on the role of each key can be displayed."
   ]
  },
  {
   "cell_type": "code",
   "execution_count": 38,
   "metadata": {},
   "outputs": [
    {
     "data": {
      "text/plain": [
       "OrderedDict([('verbosity', 'Choose the amount of detail displayed on the run'),\n",
       "             ('clear_hfmIn', 'Delete hfmIn member fields. (May save memory.)'),\n",
       "             ('model', 'Minimal path model to be solved.'),\n",
       "             ('traits', 'Optional trait parameters for the eikonal kernel.'),\n",
       "             ('values_float64', 'Export values using the float64 data type'),\n",
       "             ('multiprecision',\n",
       "              'Use multiprecision arithmetic, to improve accuracy'),\n",
       "             ('factoringRadius',\n",
       "              'Use source factorization, to improve accuracy'),\n",
       "             ('order', 'Use second order scheme to improve accuracy'),\n",
       "             ('bound_active_blocks',\n",
       "              'Limit the number of active blocks in the front. Admissible values : (False,True, or positive integer)'),\n",
       "             ('solver',\n",
       "              'Choice of fixed point solver (AGSI, global_iteration)'),\n",
       "             ('periodic', 'Apply periodic boundary conditions on some axes'),\n",
       "             ('gridScale', 'Scale of the computational grid'),\n",
       "             ('exportGeodesicFlow',\n",
       "              'Export the upwind geodesic flow (direction of the geodesics)'),\n",
       "             ('tips', 'Tips from which to compute the minimal geodesics'),\n",
       "             ('cost', 'cost = 1/speed (scales the metric, accepts AD)'),\n",
       "             ('costVariation', 'First order variation of the cost function'),\n",
       "             ('tol',\n",
       "              'Convergence tolerance for the fixed point solver (determines atol, rtol)'),\n",
       "             ('atol',\n",
       "              'Absolute convergence tolerance for the fixed point solver'),\n",
       "             ('rtol',\n",
       "              'Relative convergence tolerance for the fixed point solver'),\n",
       "             ('walls', 'Obstacles in the domain'),\n",
       "             ('values', 'Initial values for the eikonal solver'),\n",
       "             ('seeds', 'Points from where the front propagation starts'),\n",
       "             ('seedValues', 'Initial value for the front propagation'),\n",
       "             ('seedValueVariation',\n",
       "              'First order variation of the seed values'),\n",
       "             ('seedRadius',\n",
       "              'Spread the seeds over a radius given in pixels, so as to improve accuracy.'),\n",
       "             ('count_updates',\n",
       "              'Count the number of times each block is updated'),\n",
       "             ('cuoptions',\n",
       "              'Options passed via cupy.RawKernel to the cuda compiler'),\n",
       "             ('nitermax_o', 'Maximum number of iterations of the solver'),\n",
       "             ('raiseOnNonConvergence',\n",
       "              'Raise an exception if a solver fails to converge'),\n",
       "             ('exportValues', 'Return the solution numerical values'),\n",
       "             ('extractValues',\n",
       "              'Return the solution numerical values separately from other data'),\n",
       "             ('retself', 'Return the class instance that did the work')])"
      ]
     },
     "execution_count": 38,
     "metadata": {},
     "output_type": "execute_result"
    }
   ],
   "source": [
    "gpuOut['keys']['help']"
   ]
  },
  {
   "cell_type": "code",
   "execution_count": null,
   "metadata": {},
   "outputs": [],
   "source": []
  }
 ],
 "metadata": {
  "celltoolbar": "Format de la Cellule Texte Brut",
  "kernelspec": {
   "display_name": "Python 3",
   "language": "python",
   "name": "python3"
  },
  "language_info": {
   "codemirror_mode": {
    "name": "ipython",
    "version": 3
   },
   "file_extension": ".py",
   "mimetype": "text/x-python",
   "name": "python",
   "nbconvert_exporter": "python",
   "pygments_lexer": "ipython3",
   "version": "3.8.6"
  }
 },
 "nbformat": 4,
 "nbformat_minor": 4
}

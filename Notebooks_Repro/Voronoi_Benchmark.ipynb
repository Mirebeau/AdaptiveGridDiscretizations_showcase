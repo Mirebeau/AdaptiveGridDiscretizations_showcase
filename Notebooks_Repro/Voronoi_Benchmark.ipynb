{
 "cells": [
  {
   "cell_type": "markdown",
   "id": "099fd7a5",
   "metadata": {},
   "source": [
    "# Adaptive PDE discretizations on Cartesian grids\n",
    "## Volume : Reproducible research\n",
    "## Part : Eikonal CPU/GPU solvers comparison\n",
    "## Chapter : Voronoi's decomposition benchmark"
   ]
  },
  {
   "cell_type": "markdown",
   "id": "4c76a4c2",
   "metadata": {},
   "source": [
    "This file uses the agd library to decompose (a large number of) symmetric positive definite matrices in dimension up to 6, drawn randomly. It illustrates the fact that this decomposition is fast enough for e.g. applications in PDE discretizations, where such a matrix has to be decomposed at each discretization point.\n",
    "\n",
    "Please have a look at the following notebooks for more information on Voronoi's decomposition : [dimension 2 and 3](https://nbviewer.org/github/Mirebeau/AdaptiveGridDiscretizations_showcase/blob/master/Notebooks_Algo/TensorSelling.ipynb), [dimension 4 and 5](https://nbviewer.org/github/Mirebeau/AdaptiveGridDiscretizations_showcase/blob/master/Notebooks_Algo/TensorVoronoi.ipynb), \n",
    "[dimension 6](https://nbviewer.org/github/Mirebeau/AdaptiveGridDiscretizations_showcase/blob/master/Notebooks_Algo/TensorVoronoi6.ipynb)."
   ]
  },
  {
   "cell_type": "markdown",
   "id": "2f47f02e",
   "metadata": {},
   "source": [
    "[**Summary**](Summary.ipynb) of volume Reproducible research, this series of notebooks.\n",
    "\n",
    "[**Main summary**](../Summary.ipynb) of the Adaptive Grid Discretizations \n",
    "\tbook of notebooks, including the other volumes.\n",
    "\n",
    "# Table of contents\n",
    "  * [1. Timing Voronoi's decomposition](#1.-Timing-Voronoi's-decomposition)\n",
    "    * [1.1 Setting up the test](#1.1-Setting-up-the-test)\n",
    "    * [1.2 Benchmarking](#1.2-Benchmarking)\n",
    "  * [2. Differentiating Voronoi's decomposition](#2.-Differentiating-Voronoi's-decomposition)\n",
    "\n",
    "\n",
    "\n",
    "**Acknowledgement.** Some of the experiments presented in these notebooks are part of \n",
    "ongoing research with Ludovic Métivier and Da Chen.\n",
    "\n",
    "Copyright Jean-Marie Mirebeau, Centre Borelli, ENS Paris-Saclay, CNRS, University Paris-Saclay"
   ]
  },
  {
   "cell_type": "markdown",
   "id": "367225de",
   "metadata": {},
   "source": [
    "## 0. Importing the required libraries"
   ]
  },
  {
   "cell_type": "code",
   "execution_count": 2,
   "id": "1055af8e",
   "metadata": {},
   "outputs": [],
   "source": [
    "import sys; sys.path.insert(0,\"..\")\n",
    "#from Miscellaneous import TocTools; print(TocTools.displayTOC('Voronoi_Benchmark','Repro'))"
   ]
  },
  {
   "cell_type": "code",
   "execution_count": 3,
   "id": "b26162aa",
   "metadata": {},
   "outputs": [],
   "source": [
    "from agd import LinearParallel as lp\n",
    "from agd import AutomaticDifferentiation as ad\n",
    "from agd.Eikonal import VoronoiDecomposition"
   ]
  },
  {
   "cell_type": "code",
   "execution_count": 4,
   "id": "1c1975fc",
   "metadata": {},
   "outputs": [],
   "source": [
    "import numpy as np; allclose = np.allclose\n",
    "import time"
   ]
  },
  {
   "cell_type": "markdown",
   "id": "dbb5202d",
   "metadata": {},
   "source": [
    "### 0.1 Additional configuration\n",
    "\n",
    "Uncomment this line to run on the GPU."
   ]
  },
  {
   "cell_type": "code",
   "execution_count": 5,
   "id": "57b936e0",
   "metadata": {
    "tags": [
     "EikonalGPU_config"
    ]
   },
   "outputs": [],
   "source": [
    "#VoronoiDecomposition.default_mode = 'gpu_transfer'"
   ]
  },
  {
   "cell_type": "markdown",
   "id": "1fdcdd43",
   "metadata": {},
   "source": [
    "Choose the datasize for the benchmark."
   ]
  },
  {
   "cell_type": "code",
   "execution_count": 6,
   "id": "b6c0c8d4",
   "metadata": {},
   "outputs": [],
   "source": [
    "nbench = 50000 if VoronoiDecomposition.default_mode == 'gpu_transfer' else 5000\n",
    "#nbench = 500000 # Larger instance used in the paper"
   ]
  },
  {
   "cell_type": "markdown",
   "id": "45da4763",
   "metadata": {},
   "source": [
    "Set up the tolerance for validation. Note that GPUs use 32bit floats, and CPUs use 64bit floats, by default."
   ]
  },
  {
   "cell_type": "code",
   "execution_count": 34,
   "id": "46146575",
   "metadata": {},
   "outputs": [],
   "source": [
    "atol_ref = 1e-4 if VoronoiDecomposition.default_mode == 'gpu_transfer' else 1e-12"
   ]
  },
  {
   "cell_type": "markdown",
   "id": "140dc718",
   "metadata": {},
   "source": [
    "## 1. Timing Voronoi's decomposition"
   ]
  },
  {
   "cell_type": "markdown",
   "id": "b760f02f",
   "metadata": {},
   "source": [
    "### 1.1 Setting up the test"
   ]
  },
  {
   "cell_type": "code",
   "execution_count": 7,
   "id": "6af8ab4e",
   "metadata": {},
   "outputs": [],
   "source": [
    "def MakeRandomTensor(dim, shape=tuple(), relax=0.05):\n",
    "    A = np.random.standard_normal( (dim,dim) + shape )\n",
    "    D = lp.dot_AA(lp.transpose(A),A)\n",
    "    identity = np.eye(dim).reshape((dim,dim)+(1,)*len(shape))\n",
    "    return D+lp.trace(D)*relax*identity"
   ]
  },
  {
   "cell_type": "code",
   "execution_count": 31,
   "id": "a35e45e2",
   "metadata": {},
   "outputs": [],
   "source": [
    "def Reconstruct(coefs,offsets):\n",
    "     return (coefs*lp.outer_self(offsets)).sum(2)\n",
    "def LInfNorm(a):\n",
    "    return np.max(np.abs(a))"
   ]
  },
  {
   "cell_type": "code",
   "execution_count": 9,
   "id": "44bc3d8e",
   "metadata": {},
   "outputs": [
    {
     "data": {
      "text/plain": [
       "array([13.76854937, 10.3988981 ,  7.96726883,  1.60586544,  4.28139694,\n",
       "        3.09867544])"
      ]
     },
     "execution_count": 9,
     "metadata": {},
     "output_type": "execute_result"
    }
   ],
   "source": [
    "np.random.seed(42) # Reproducibility\n",
    "D = MakeRandomTensor(6)\n",
    "np.linalg.eigvals(D)"
   ]
  },
  {
   "cell_type": "code",
   "execution_count": 10,
   "id": "ed8f636f",
   "metadata": {},
   "outputs": [],
   "source": [
    "coefs,offsets = VoronoiDecomposition(D,retry64_tol=0.)"
   ]
  },
  {
   "cell_type": "code",
   "execution_count": 11,
   "id": "dc68b89f",
   "metadata": {},
   "outputs": [
    {
     "name": "stdout",
     "output_type": "stream",
     "text": [
      "Coefficients :  [0.06272357 0.08321161 0.09108027 0.17300802 0.25543099 0.33765603\n",
      " 0.37974797 0.43206798 0.57262901 0.60285459 0.90199881 1.01424559\n",
      " 1.02162947 1.14710001 1.20004529 1.32672471 1.71589609 1.77768024\n",
      " 2.17099232 2.50835894 6.57177511]\n",
      "Offsets : \n",
      " [[ 1  1  1  1  0  1  1  1  0  1  1  0  1  0  0  0  0  1  0  0  0]\n",
      " [ 1  1  0  0  1  0 -1  0  1  0  0  1  1  0  0  1  0  0  0  0  1]\n",
      " [ 0  0 -1 -1  1 -1 -1 -1  0  0  1  1 -1  1  1  0  1  0  0  0  0]\n",
      " [ 1  0  0  0  0  1  1  1  0  0  1  0  0  0  1  0  0  0  0  1  0]\n",
      " [ 0  0  0 -1  1 -1 -1 -1  0  0  0  1  0  0  0  1  0  0  0  0  0]\n",
      " [ 0  0  1  0 -1  1  1  0 -1  1  0  0  0 -1  0  0  0  0  1  0  0]]\n"
     ]
    }
   ],
   "source": [
    "print(\"Coefficients : \", coefs)\n",
    "print(\"Offsets : \\n\", offsets.astype(int))"
   ]
  },
  {
   "cell_type": "code",
   "execution_count": 12,
   "id": "0216bc80",
   "metadata": {},
   "outputs": [
    {
     "name": "stdout",
     "output_type": "stream",
     "text": [
      "Minimal coefficient :  0.06272357357326566\n",
      "Reconstruction error :  5.329070518200751e-15\n"
     ]
    }
   ],
   "source": [
    "print(\"Minimal coefficient : \", np.min(coefs))\n",
    "print(\"Reconstruction error : \", LInfNorm(D-Reconstruct(coefs,offsets)))\n",
    "assert np.allclose(D,Reconstruct(coefs,offsets))"
   ]
  },
  {
   "cell_type": "markdown",
   "id": "46271240",
   "metadata": {},
   "source": [
    "### 1.2 Benchmarking"
   ]
  },
  {
   "cell_type": "code",
   "execution_count": 13,
   "id": "3cc03724",
   "metadata": {},
   "outputs": [],
   "source": [
    "def decomp_time(n,dim,relax=0.01,atol=atol_ref):\n",
    "    np.random.seed(42) #Reproducibility\n",
    "    D = MakeRandomTensor(dim,(n,),relax)\n",
    "    start = time.time()\n",
    "    coefs,offsets = VoronoiDecomposition(D)\n",
    "    print(f\"Decomposition of {n} matrices completed in {time.time()-start} seconds\")\n",
    "    error = np.abs(D-Reconstruct(coefs,offsets))\n",
    "    print(\"Tensor shape: \",D.shape,\", max reconstruction error : \",np.max(error))\n",
    "    assert np.allclose(D,Reconstruct(coefs,offsets),atol=atol)\n",
    "    return D,coefs,offsets,error"
   ]
  },
  {
   "cell_type": "code",
   "execution_count": 14,
   "id": "669c6beb",
   "metadata": {},
   "outputs": [
    {
     "name": "stdout",
     "output_type": "stream",
     "text": [
      "Decomposition of 5000 matrices completed in 3.78794002532959 seconds\n",
      "Tensor shape:  (6, 6, 5000) , max reconstruction error :  4.298783551348606e-13\n",
      "Decomposition of 5000 matrices completed in 3.765984058380127 seconds\n",
      "Tensor shape:  (6, 6, 5000) , max reconstruction error :  4.298783551348606e-13\n",
      "Decomposition of 5000 matrices completed in 3.7661609649658203 seconds\n",
      "Tensor shape:  (6, 6, 5000) , max reconstruction error :  4.298783551348606e-13\n"
     ]
    }
   ],
   "source": [
    "for i in range(3): decomp_time(nbench,6,atol=10*atol_ref)"
   ]
  },
  {
   "cell_type": "code",
   "execution_count": 15,
   "id": "e975a7ac",
   "metadata": {},
   "outputs": [
    {
     "name": "stdout",
     "output_type": "stream",
     "text": [
      "Decomposition of 5000 matrices completed in 0.07711315155029297 seconds\n",
      "Tensor shape:  (5, 5, 5000) , max reconstruction error :  4.440892098500626e-14\n",
      "Decomposition of 5000 matrices completed in 0.07378816604614258 seconds\n",
      "Tensor shape:  (5, 5, 5000) , max reconstruction error :  4.440892098500626e-14\n",
      "Decomposition of 5000 matrices completed in 0.07311081886291504 seconds\n",
      "Tensor shape:  (5, 5, 5000) , max reconstruction error :  4.440892098500626e-14\n"
     ]
    }
   ],
   "source": [
    "for i in range(3): decomp_time(nbench,5);"
   ]
  },
  {
   "cell_type": "code",
   "execution_count": 16,
   "id": "744c87a3",
   "metadata": {},
   "outputs": [
    {
     "name": "stdout",
     "output_type": "stream",
     "text": [
      "Decomposition of 5000 matrices completed in 0.022496938705444336 seconds\n",
      "Tensor shape:  (4, 4, 5000) , max reconstruction error :  3.019806626980426e-14\n",
      "Decomposition of 5000 matrices completed in 0.020658254623413086 seconds\n",
      "Tensor shape:  (4, 4, 5000) , max reconstruction error :  3.019806626980426e-14\n",
      "Decomposition of 5000 matrices completed in 0.02255105972290039 seconds\n",
      "Tensor shape:  (4, 4, 5000) , max reconstruction error :  3.019806626980426e-14\n"
     ]
    }
   ],
   "source": [
    "for i in range(3): decomp_time(nbench,4);"
   ]
  },
  {
   "cell_type": "code",
   "execution_count": 17,
   "id": "9795510d",
   "metadata": {},
   "outputs": [
    {
     "name": "stdout",
     "output_type": "stream",
     "text": [
      "Decomposition of 5000 matrices completed in 0.011503934860229492 seconds\n",
      "Tensor shape:  (3, 3, 5000) , max reconstruction error :  1.7763568394002505e-14\n",
      "Decomposition of 5000 matrices completed in 0.011178016662597656 seconds\n",
      "Tensor shape:  (3, 3, 5000) , max reconstruction error :  1.7763568394002505e-14\n",
      "Decomposition of 5000 matrices completed in 0.010544061660766602 seconds\n",
      "Tensor shape:  (3, 3, 5000) , max reconstruction error :  1.7763568394002505e-14\n"
     ]
    }
   ],
   "source": [
    "for i in range(3): decomp_time(nbench,3);"
   ]
  },
  {
   "cell_type": "code",
   "execution_count": 18,
   "id": "9cd25d07",
   "metadata": {},
   "outputs": [
    {
     "name": "stdout",
     "output_type": "stream",
     "text": [
      "Decomposition of 5000 matrices completed in 0.007354259490966797 seconds\n",
      "Tensor shape:  (2, 2, 5000) , max reconstruction error :  3.552713678800501e-15\n",
      "Decomposition of 5000 matrices completed in 0.007915973663330078 seconds\n",
      "Tensor shape:  (2, 2, 5000) , max reconstruction error :  3.552713678800501e-15\n",
      "Decomposition of 5000 matrices completed in 0.007377147674560547 seconds\n",
      "Tensor shape:  (2, 2, 5000) , max reconstruction error :  3.552713678800501e-15\n"
     ]
    }
   ],
   "source": [
    "for i in range(3): decomp_time(nbench,2);"
   ]
  },
  {
   "cell_type": "markdown",
   "id": "ffa50c24",
   "metadata": {},
   "source": [
    "## 2. Differentiating Voronoi's decomposition\n",
    "\n",
    "Voronoi's decomposition is piecewise linear, hence its derivative is piecewise constant, thus discontinuous.\n",
    "Nevertheless, the `VoronoiDecomposition` method supports automatic differentiation. At discontinuities, it will provide the derivative on some arbitrary size.\n",
    "\n",
    "Alternative differentiable decompositions, limited either to dimension $d=2$, or to matrices with a sufficiently small condition number, are presented in the [notebook on Selling's decomposition](../Notebooks_Algo/TensorSelling.ipynb)."
   ]
  },
  {
   "cell_type": "code",
   "execution_count": 43,
   "id": "944dc8fc",
   "metadata": {},
   "outputs": [],
   "source": [
    "np.random.seed(42)\n",
    "shape = (10,)\n",
    "size_ad = 3\n",
    "\n",
    "# Dimension 4 is special does not support AD yet.\n",
    "for dim in (2,3,5,6):\n",
    "    # Generate random positive definite matrices\n",
    "    D_value = MakeRandomTensor(dim,shape,0.01)\n",
    "    # Generate random symbolic perturbations\n",
    "    D_coef = np.random.rand(dim,dim,*shape,size_ad)\n",
    "    D_coef += np.moveaxis(D_coef,0,1) # Symmetrize\n",
    "    D = ad.Dense.denseAD(D_value,D_coef)\n",
    "    \n",
    "    # Decomposition takes into account the symbolic perturbation\n",
    "    λ,e = VoronoiDecomposition(D)\n",
    "    D_rec = Reconstruct(λ,e)\n",
    "    \n",
    "    # The reconstruction is exact, up to machine precision, \n",
    "    # for both the coefficients and their derivatives\n",
    "    assert np.allclose(D.value,D_rec.value,atol=atol_ref)\n",
    "    assert np.allclose(D.coef,D_rec.coef,atol=atol_ref)"
   ]
  }
 ],
 "metadata": {
  "celltoolbar": "Format de la Cellule Texte Brut",
  "kernelspec": {
   "display_name": "Python 3 (ipykernel)",
   "language": "python",
   "name": "python3"
  },
  "language_info": {
   "codemirror_mode": {
    "name": "ipython",
    "version": 3
   },
   "file_extension": ".py",
   "mimetype": "text/x-python",
   "name": "python",
   "nbconvert_exporter": "python",
   "pygments_lexer": "ipython3",
   "version": "3.9.13"
  },
  "varInspector": {
   "cols": {
    "lenName": 16,
    "lenType": 16,
    "lenVar": 40
   },
   "kernels_config": {
    "python": {
     "delete_cmd_postfix": "",
     "delete_cmd_prefix": "del ",
     "library": "var_list.py",
     "varRefreshCmd": "print(var_dic_list())"
    },
    "r": {
     "delete_cmd_postfix": ") ",
     "delete_cmd_prefix": "rm(",
     "library": "var_list.r",
     "varRefreshCmd": "cat(var_dic_list()) "
    }
   },
   "types_to_exclude": [
    "module",
    "function",
    "builtin_function_or_method",
    "instance",
    "_Feature"
   ],
   "window_display": false
  }
 },
 "nbformat": 4,
 "nbformat_minor": 5
}

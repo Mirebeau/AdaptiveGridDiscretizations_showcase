{
 "cells": [
  {
   "cell_type": "markdown",
   "id": "099fd7a5",
   "metadata": {},
   "source": [
    "# Adaptive PDE discretizations on Cartesian grids\n",
    "## Volume : Reproducible research\n",
    "## Part : Eikonal CPU/GPU solvers comparison\n",
    "## Chapter : Voronoi's decomposition benchmark"
   ]
  },
  {
   "cell_type": "markdown",
   "id": "4c76a4c2",
   "metadata": {},
   "source": [
    "This file uses the agd library to decompose (a large number of) symmetric positive definite matrices in dimension up to 6, drawn randomly. It illustrates the fact that this decomposition is fast enough for e.g. applications in PDE discretizations, where such a matrix has to be decomposed at each discretization point.\n",
    "\n",
    "Please have a look at the following notebooks for more information on Voronoi's decomposition : [dimension 2 and 3](https://nbviewer.org/github/Mirebeau/AdaptiveGridDiscretizations_showcase/blob/master/Notebooks_Algo/TensorSelling.ipynb), [dimension 4 and 5](https://nbviewer.org/github/Mirebeau/AdaptiveGridDiscretizations_showcase/blob/master/Notebooks_Algo/TensorVoronoi.ipynb), \n",
    "[dimension 6](https://nbviewer.org/github/Mirebeau/AdaptiveGridDiscretizations_showcase/blob/master/Notebooks_Algo/TensorVoronoi6.ipynb)."
   ]
  },
  {
   "cell_type": "markdown",
   "id": "2f47f02e",
   "metadata": {},
   "source": [
    "[**Summary**](Summary.ipynb) of volume Reproducible research, this series of notebooks.\n",
    "\n",
    "[**Main summary**](../Summary.ipynb) of the Adaptive Grid Discretizations \n",
    "\tbook of notebooks, including the other volumes.\n",
    "\n",
    "# Table of contents\n",
    "  * [1. Timing Voronoi's decomposition](#1.-Timing-Voronoi's-decomposition)\n",
    "    * [1.1 Setting up the test](#1.1-Setting-up-the-test)\n",
    "    * [1.2 Benchmarking](#1.2-Benchmarking)\n",
    "  * [2. Differentiating Voronoi's decomposition](#2.-Differentiating-Voronoi's-decomposition)\n",
    "\n",
    "\n",
    "\n",
    "**Acknowledgement.** Some of the experiments presented in these notebooks are part of \n",
    "ongoing research with Ludovic Métivier and Da Chen.\n",
    "\n",
    "Copyright Jean-Marie Mirebeau, Centre Borelli, ENS Paris-Saclay, CNRS, University Paris-Saclay"
   ]
  },
  {
   "cell_type": "markdown",
   "id": "367225de",
   "metadata": {},
   "source": [
    "## 0. Importing the required libraries"
   ]
  },
  {
   "cell_type": "code",
   "execution_count": 1,
   "id": "1055af8e",
   "metadata": {
    "execution": {
     "iopub.execute_input": "2024-02-23T18:41:25.869342Z",
     "iopub.status.busy": "2024-02-23T18:41:25.868850Z",
     "iopub.status.idle": "2024-02-23T18:41:25.877124Z",
     "shell.execute_reply": "2024-02-23T18:41:25.876443Z"
    }
   },
   "outputs": [],
   "source": [
    "import sys; sys.path.insert(0,\"..\")\n",
    "#from Miscellaneous import TocTools; print(TocTools.displayTOC('Voronoi_Benchmark','Repro'))"
   ]
  },
  {
   "cell_type": "code",
   "execution_count": 2,
   "id": "b26162aa",
   "metadata": {
    "execution": {
     "iopub.execute_input": "2024-02-23T18:41:25.881055Z",
     "iopub.status.busy": "2024-02-23T18:41:25.880729Z",
     "iopub.status.idle": "2024-02-23T18:41:26.038890Z",
     "shell.execute_reply": "2024-02-23T18:41:26.038507Z"
    }
   },
   "outputs": [],
   "source": [
    "from agd import LinearParallel as lp\n",
    "from agd import AutomaticDifferentiation as ad\n",
    "from agd.Eikonal import VoronoiDecomposition"
   ]
  },
  {
   "cell_type": "code",
   "execution_count": 3,
   "id": "1c1975fc",
   "metadata": {
    "execution": {
     "iopub.execute_input": "2024-02-23T18:41:26.040685Z",
     "iopub.status.busy": "2024-02-23T18:41:26.040428Z",
     "iopub.status.idle": "2024-02-23T18:41:26.042369Z",
     "shell.execute_reply": "2024-02-23T18:41:26.042134Z"
    }
   },
   "outputs": [],
   "source": [
    "import numpy as np; allclose = np.allclose\n",
    "import time"
   ]
  },
  {
   "cell_type": "markdown",
   "id": "dbb5202d",
   "metadata": {},
   "source": [
    "### 0.1 Additional configuration\n",
    "\n",
    "Uncomment this line to run on the GPU."
   ]
  },
  {
   "cell_type": "code",
   "execution_count": 4,
   "id": "57b936e0",
   "metadata": {
    "execution": {
     "iopub.execute_input": "2024-02-23T18:41:26.043658Z",
     "iopub.status.busy": "2024-02-23T18:41:26.043558Z",
     "iopub.status.idle": "2024-02-23T18:41:26.045146Z",
     "shell.execute_reply": "2024-02-23T18:41:26.044964Z"
    },
    "tags": [
     "EikonalGPU_config"
    ]
   },
   "outputs": [],
   "source": [
    "#VoronoiDecomposition.default_mode = 'gpu_transfer'"
   ]
  },
  {
   "cell_type": "markdown",
   "id": "1fdcdd43",
   "metadata": {},
   "source": [
    "Choose the datasize for the benchmark."
   ]
  },
  {
   "cell_type": "code",
   "execution_count": 5,
   "id": "b6c0c8d4",
   "metadata": {
    "execution": {
     "iopub.execute_input": "2024-02-23T18:41:26.046293Z",
     "iopub.status.busy": "2024-02-23T18:41:26.046200Z",
     "iopub.status.idle": "2024-02-23T18:41:26.047866Z",
     "shell.execute_reply": "2024-02-23T18:41:26.047680Z"
    }
   },
   "outputs": [],
   "source": [
    "nbench = 50000 if VoronoiDecomposition.default_mode == 'gpu_transfer' else 5000\n",
    "#nbench = 500000 # Larger instance used in the paper"
   ]
  },
  {
   "cell_type": "markdown",
   "id": "45da4763",
   "metadata": {},
   "source": [
    "Set up the tolerance for validation. Note that GPUs use 32bit floats, and CPUs use 64bit floats, by default."
   ]
  },
  {
   "cell_type": "code",
   "execution_count": 6,
   "id": "46146575",
   "metadata": {
    "execution": {
     "iopub.execute_input": "2024-02-23T18:41:26.049069Z",
     "iopub.status.busy": "2024-02-23T18:41:26.048983Z",
     "iopub.status.idle": "2024-02-23T18:41:26.050322Z",
     "shell.execute_reply": "2024-02-23T18:41:26.050118Z"
    }
   },
   "outputs": [],
   "source": [
    "atol_ref = 1e-4 if VoronoiDecomposition.default_mode == 'gpu_transfer' else 1e-12"
   ]
  },
  {
   "cell_type": "markdown",
   "id": "140dc718",
   "metadata": {},
   "source": [
    "## 1. Timing Voronoi's decomposition"
   ]
  },
  {
   "cell_type": "markdown",
   "id": "b760f02f",
   "metadata": {},
   "source": [
    "### 1.1 Setting up the test"
   ]
  },
  {
   "cell_type": "code",
   "execution_count": 7,
   "id": "6af8ab4e",
   "metadata": {
    "execution": {
     "iopub.execute_input": "2024-02-23T18:41:26.051528Z",
     "iopub.status.busy": "2024-02-23T18:41:26.051445Z",
     "iopub.status.idle": "2024-02-23T18:41:26.053466Z",
     "shell.execute_reply": "2024-02-23T18:41:26.053243Z"
    }
   },
   "outputs": [],
   "source": [
    "def MakeRandomTensor(dim, shape=tuple(), relax=0.05):\n",
    "    A = np.random.standard_normal( (dim,dim) + shape )\n",
    "    D = lp.dot_AA(lp.transpose(A),A)\n",
    "    identity = np.eye(dim).reshape((dim,dim)+(1,)*len(shape))\n",
    "    return D+lp.trace(D)*relax*identity"
   ]
  },
  {
   "cell_type": "code",
   "execution_count": 8,
   "id": "a35e45e2",
   "metadata": {
    "execution": {
     "iopub.execute_input": "2024-02-23T18:41:26.054636Z",
     "iopub.status.busy": "2024-02-23T18:41:26.054558Z",
     "iopub.status.idle": "2024-02-23T18:41:26.056339Z",
     "shell.execute_reply": "2024-02-23T18:41:26.056136Z"
    }
   },
   "outputs": [],
   "source": [
    "def Reconstruct(coefs,offsets):\n",
    "     return (coefs*lp.outer_self(offsets)).sum(2)\n",
    "def LInfNorm(a):\n",
    "    return np.max(np.abs(a))"
   ]
  },
  {
   "cell_type": "code",
   "execution_count": 9,
   "id": "44bc3d8e",
   "metadata": {
    "execution": {
     "iopub.execute_input": "2024-02-23T18:41:26.057474Z",
     "iopub.status.busy": "2024-02-23T18:41:26.057400Z",
     "iopub.status.idle": "2024-02-23T18:41:26.062225Z",
     "shell.execute_reply": "2024-02-23T18:41:26.062007Z"
    }
   },
   "outputs": [
    {
     "data": {
      "text/plain": [
       "array([13.76854937, 10.3988981 ,  7.96726883,  1.60586544,  4.28139694,\n",
       "        3.09867544])"
      ]
     },
     "execution_count": 9,
     "metadata": {},
     "output_type": "execute_result"
    }
   ],
   "source": [
    "np.random.seed(42) # Reproducibility\n",
    "D = MakeRandomTensor(6)\n",
    "np.linalg.eigvals(D)"
   ]
  },
  {
   "cell_type": "code",
   "execution_count": 10,
   "id": "ed8f636f",
   "metadata": {
    "execution": {
     "iopub.execute_input": "2024-02-23T18:41:26.063345Z",
     "iopub.status.busy": "2024-02-23T18:41:26.063259Z",
     "iopub.status.idle": "2024-02-23T18:41:26.135990Z",
     "shell.execute_reply": "2024-02-23T18:41:26.135462Z"
    }
   },
   "outputs": [],
   "source": [
    "coefs,offsets = VoronoiDecomposition(D,retry64_tol=0.)"
   ]
  },
  {
   "cell_type": "code",
   "execution_count": 11,
   "id": "dc68b89f",
   "metadata": {
    "execution": {
     "iopub.execute_input": "2024-02-23T18:41:26.137848Z",
     "iopub.status.busy": "2024-02-23T18:41:26.137716Z",
     "iopub.status.idle": "2024-02-23T18:41:26.140507Z",
     "shell.execute_reply": "2024-02-23T18:41:26.140231Z"
    }
   },
   "outputs": [
    {
     "name": "stdout",
     "output_type": "stream",
     "text": [
      "Coefficients :  [0.06272357 0.08321161 0.09108027 0.17300802 0.25543099 0.33765603\n",
      " 0.37974797 0.43206798 0.57262901 0.60285459 0.90199881 1.01424559\n",
      " 1.02162947 1.14710001 1.20004529 1.32672471 1.71589609 1.77768024\n",
      " 2.17099232 2.50835894 6.57177511]\n",
      "Offsets : \n",
      " [[ 1  1  1  1  0  1  1  1  0  1  1  0  1  0  0  0  0  1  0  0  0]\n",
      " [ 1  1  0  0  1  0 -1  0  1  0  0  1  1  0  0  1  0  0  0  0  1]\n",
      " [ 0  0 -1 -1  1 -1 -1 -1  0  0  1  1 -1  1  1  0  1  0  0  0  0]\n",
      " [ 1  0  0  0  0  1  1  1  0  0  1  0  0  0  1  0  0  0  0  1  0]\n",
      " [ 0  0  0 -1  1 -1 -1 -1  0  0  0  1  0  0  0  1  0  0  0  0  0]\n",
      " [ 0  0  1  0 -1  1  1  0 -1  1  0  0  0 -1  0  0  0  0  1  0  0]]\n"
     ]
    }
   ],
   "source": [
    "print(\"Coefficients : \", coefs)\n",
    "print(\"Offsets : \\n\", offsets.astype(int))"
   ]
  },
  {
   "cell_type": "code",
   "execution_count": 12,
   "id": "0216bc80",
   "metadata": {
    "execution": {
     "iopub.execute_input": "2024-02-23T18:41:26.141961Z",
     "iopub.status.busy": "2024-02-23T18:41:26.141833Z",
     "iopub.status.idle": "2024-02-23T18:41:26.144362Z",
     "shell.execute_reply": "2024-02-23T18:41:26.144054Z"
    }
   },
   "outputs": [
    {
     "name": "stdout",
     "output_type": "stream",
     "text": [
      "Minimal coefficient :  0.06272357357326566\n",
      "Reconstruction error :  5.329070518200751e-15\n"
     ]
    }
   ],
   "source": [
    "print(\"Minimal coefficient : \", np.min(coefs))\n",
    "print(\"Reconstruction error : \", LInfNorm(D-Reconstruct(coefs,offsets)))\n",
    "assert np.allclose(D,Reconstruct(coefs,offsets))"
   ]
  },
  {
   "cell_type": "markdown",
   "id": "46271240",
   "metadata": {},
   "source": [
    "### 1.2 Benchmarking"
   ]
  },
  {
   "cell_type": "code",
   "execution_count": 13,
   "id": "3cc03724",
   "metadata": {
    "execution": {
     "iopub.execute_input": "2024-02-23T18:41:26.145768Z",
     "iopub.status.busy": "2024-02-23T18:41:26.145670Z",
     "iopub.status.idle": "2024-02-23T18:41:26.147975Z",
     "shell.execute_reply": "2024-02-23T18:41:26.147737Z"
    }
   },
   "outputs": [],
   "source": [
    "def decomp_time(n,dim,relax=0.01,atol=atol_ref):\n",
    "    np.random.seed(42) #Reproducibility\n",
    "    D = MakeRandomTensor(dim,(n,),relax)\n",
    "    start = time.time()\n",
    "    coefs,offsets = VoronoiDecomposition(D)\n",
    "    print(f\"Decomposition of {n} matrices completed in {time.time()-start} seconds\")\n",
    "    error = np.abs(D-Reconstruct(coefs,offsets))\n",
    "    print(\"Tensor shape: \",D.shape,\", max reconstruction error : \",np.max(error))\n",
    "    assert np.allclose(D,Reconstruct(coefs,offsets),atol=atol)\n",
    "    return D,coefs,offsets,error"
   ]
  },
  {
   "cell_type": "code",
   "execution_count": 14,
   "id": "669c6beb",
   "metadata": {
    "execution": {
     "iopub.execute_input": "2024-02-23T18:41:26.149338Z",
     "iopub.status.busy": "2024-02-23T18:41:26.149237Z",
     "iopub.status.idle": "2024-02-23T18:41:37.282356Z",
     "shell.execute_reply": "2024-02-23T18:41:37.281979Z"
    }
   },
   "outputs": [
    {
     "name": "stdout",
     "output_type": "stream",
     "text": [
      "Decomposition of 5000 matrices completed in 3.672877788543701 seconds\n",
      "Tensor shape:  (6, 6, 5000) , max reconstruction error :  4.298783551348606e-13\n"
     ]
    },
    {
     "name": "stdout",
     "output_type": "stream",
     "text": [
      "Decomposition of 5000 matrices completed in 3.670053720474243 seconds\n",
      "Tensor shape:  (6, 6, 5000) , max reconstruction error :  4.298783551348606e-13\n"
     ]
    },
    {
     "name": "stdout",
     "output_type": "stream",
     "text": [
      "Decomposition of 5000 matrices completed in 3.668221950531006 seconds\n",
      "Tensor shape:  (6, 6, 5000) , max reconstruction error :  4.298783551348606e-13\n"
     ]
    }
   ],
   "source": [
    "for i in range(3): decomp_time(nbench,6,atol=10*atol_ref)"
   ]
  },
  {
   "cell_type": "code",
   "execution_count": 15,
   "id": "e975a7ac",
   "metadata": {
    "execution": {
     "iopub.execute_input": "2024-02-23T18:41:37.283881Z",
     "iopub.status.busy": "2024-02-23T18:41:37.283766Z",
     "iopub.status.idle": "2024-02-23T18:41:37.579153Z",
     "shell.execute_reply": "2024-02-23T18:41:37.578856Z"
    }
   },
   "outputs": [
    {
     "name": "stdout",
     "output_type": "stream",
     "text": [
      "Decomposition of 5000 matrices completed in 0.07325482368469238 seconds\n",
      "Tensor shape:  (5, 5, 5000) , max reconstruction error :  4.440892098500626e-14\n"
     ]
    },
    {
     "name": "stdout",
     "output_type": "stream",
     "text": [
      "Decomposition of 5000 matrices completed in 0.0727837085723877 seconds\n",
      "Tensor shape:  (5, 5, 5000) , max reconstruction error :  4.440892098500626e-14\n",
      "Decomposition of 5000 matrices completed in 0.07288813591003418 seconds\n"
     ]
    },
    {
     "name": "stdout",
     "output_type": "stream",
     "text": [
      "Tensor shape:  (5, 5, 5000) , max reconstruction error :  4.440892098500626e-14\n"
     ]
    }
   ],
   "source": [
    "for i in range(3): decomp_time(nbench,5);"
   ]
  },
  {
   "cell_type": "code",
   "execution_count": 16,
   "id": "744c87a3",
   "metadata": {
    "execution": {
     "iopub.execute_input": "2024-02-23T18:41:37.580651Z",
     "iopub.status.busy": "2024-02-23T18:41:37.580557Z",
     "iopub.status.idle": "2024-02-23T18:41:37.684444Z",
     "shell.execute_reply": "2024-02-23T18:41:37.684142Z"
    }
   },
   "outputs": [
    {
     "name": "stdout",
     "output_type": "stream",
     "text": [
      "Decomposition of 5000 matrices completed in 0.019916772842407227 seconds\n",
      "Tensor shape:  (4, 4, 5000) , max reconstruction error :  3.019806626980426e-14\n",
      "Decomposition of 5000 matrices completed in 0.019826889038085938 seconds\n",
      "Tensor shape:  (4, 4, 5000) , max reconstruction error :  3.019806626980426e-14\n"
     ]
    },
    {
     "name": "stdout",
     "output_type": "stream",
     "text": [
      "Decomposition of 5000 matrices completed in 0.019794940948486328 seconds\n",
      "Tensor shape:  (4, 4, 5000) , max reconstruction error :  3.019806626980426e-14\n"
     ]
    }
   ],
   "source": [
    "for i in range(3): decomp_time(nbench,4);"
   ]
  },
  {
   "cell_type": "code",
   "execution_count": 17,
   "id": "9795510d",
   "metadata": {
    "execution": {
     "iopub.execute_input": "2024-02-23T18:41:37.685949Z",
     "iopub.status.busy": "2024-02-23T18:41:37.685857Z",
     "iopub.status.idle": "2024-02-23T18:41:37.738105Z",
     "shell.execute_reply": "2024-02-23T18:41:37.737817Z"
    }
   },
   "outputs": [
    {
     "name": "stdout",
     "output_type": "stream",
     "text": [
      "Decomposition of 5000 matrices completed in 0.011134862899780273 seconds\n",
      "Tensor shape:  (3, 3, 5000) , max reconstruction error :  1.7763568394002505e-14\n",
      "Decomposition of 5000 matrices completed in 0.010249853134155273 seconds\n",
      "Tensor shape:  (3, 3, 5000) , max reconstruction error :  1.7763568394002505e-14\n",
      "Decomposition of 5000 matrices completed in 0.010000944137573242 seconds\n",
      "Tensor shape:  (3, 3, 5000) , max reconstruction error :  1.7763568394002505e-14\n"
     ]
    }
   ],
   "source": [
    "for i in range(3): decomp_time(nbench,3);"
   ]
  },
  {
   "cell_type": "code",
   "execution_count": 18,
   "id": "9cd25d07",
   "metadata": {
    "execution": {
     "iopub.execute_input": "2024-02-23T18:41:37.739544Z",
     "iopub.status.busy": "2024-02-23T18:41:37.739438Z",
     "iopub.status.idle": "2024-02-23T18:41:37.768101Z",
     "shell.execute_reply": "2024-02-23T18:41:37.767806Z"
    }
   },
   "outputs": [
    {
     "name": "stdout",
     "output_type": "stream",
     "text": [
      "Decomposition of 5000 matrices completed in 0.006719827651977539 seconds\n",
      "Tensor shape:  (2, 2, 5000) , max reconstruction error :  3.552713678800501e-15\n",
      "Decomposition of 5000 matrices completed in 0.006222963333129883 seconds\n",
      "Tensor shape:  (2, 2, 5000) , max reconstruction error :  3.552713678800501e-15\n",
      "Decomposition of 5000 matrices completed in 0.006119251251220703 seconds\n",
      "Tensor shape:  (2, 2, 5000) , max reconstruction error :  3.552713678800501e-15\n"
     ]
    }
   ],
   "source": [
    "for i in range(3): decomp_time(nbench,2);"
   ]
  },
  {
   "cell_type": "markdown",
   "id": "ffa50c24",
   "metadata": {},
   "source": [
    "## 2. Differentiating Voronoi's decomposition\n",
    "\n",
    "Voronoi's decomposition is piecewise linear, hence its derivative is piecewise constant, thus discontinuous.\n",
    "Nevertheless, the `VoronoiDecomposition` method supports automatic differentiation. At discontinuities, it will provide the derivative on some arbitrary size.\n",
    "\n",
    "Alternative differentiable decompositions, limited either to dimension $d=2$, or to matrices with a sufficiently small condition number, are presented in the [notebook on Selling's decomposition](../Notebooks_Algo/TensorSelling.ipynb)."
   ]
  },
  {
   "cell_type": "code",
   "execution_count": 19,
   "id": "944dc8fc",
   "metadata": {
    "execution": {
     "iopub.execute_input": "2024-02-23T18:41:37.769476Z",
     "iopub.status.busy": "2024-02-23T18:41:37.769371Z",
     "iopub.status.idle": "2024-02-23T18:41:37.801028Z",
     "shell.execute_reply": "2024-02-23T18:41:37.800666Z"
    }
   },
   "outputs": [],
   "source": [
    "np.random.seed(42)\n",
    "shape = (10,)\n",
    "size_ad = 3\n",
    "\n",
    "# Dimension 4 is special does not support AD yet.\n",
    "for dim in (2,3,5,6):\n",
    "    # Generate random positive definite matrices\n",
    "    D_value = MakeRandomTensor(dim,shape,0.01)\n",
    "    # Generate random symbolic perturbations\n",
    "    D_coef = np.random.rand(dim,dim,*shape,size_ad)\n",
    "    D_coef += np.moveaxis(D_coef,0,1) # Symmetrize\n",
    "    D = ad.Dense.denseAD(D_value,D_coef)\n",
    "    \n",
    "    # Decomposition takes into account the symbolic perturbation\n",
    "    λ,e = VoronoiDecomposition(D)\n",
    "    D_rec = Reconstruct(λ,e)\n",
    "    \n",
    "    # The reconstruction is exact, up to machine precision, \n",
    "    # for both the coefficients and their derivatives\n",
    "    assert np.allclose(D.value,D_rec.value,atol=atol_ref)\n",
    "    assert np.allclose(D.coef,D_rec.coef,atol=atol_ref)"
   ]
  }
 ],
 "metadata": {
  "celltoolbar": "Format de la Cellule Texte Brut",
  "kernelspec": {
   "display_name": "Python 3 (ipykernel)",
   "language": "python",
   "name": "python3"
  },
  "language_info": {
   "codemirror_mode": {
    "name": "ipython",
    "version": 3
   },
   "file_extension": ".py",
   "mimetype": "text/x-python",
   "name": "python",
   "nbconvert_exporter": "python",
   "pygments_lexer": "ipython3",
   "version": "3.12.1"
  },
  "varInspector": {
   "cols": {
    "lenName": 16,
    "lenType": 16,
    "lenVar": 40
   },
   "kernels_config": {
    "python": {
     "delete_cmd_postfix": "",
     "delete_cmd_prefix": "del ",
     "library": "var_list.py",
     "varRefreshCmd": "print(var_dic_list())"
    },
    "r": {
     "delete_cmd_postfix": ") ",
     "delete_cmd_prefix": "rm(",
     "library": "var_list.r",
     "varRefreshCmd": "cat(var_dic_list()) "
    }
   },
   "types_to_exclude": [
    "module",
    "function",
    "builtin_function_or_method",
    "instance",
    "_Feature"
   ],
   "window_display": false
  }
 },
 "nbformat": 4,
 "nbformat_minor": 5
}

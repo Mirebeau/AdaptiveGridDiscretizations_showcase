{
 "cells": [
  {
   "cell_type": "markdown",
   "id": "099fd7a5",
   "metadata": {},
   "source": [
    "# Adaptive PDE discretizations on Cartesian grids\n",
    "## Volume : Reproducible research\n",
    "## Part : Eikonal CPU/GPU solvers comparison\n",
    "## Chapter : Voronoi's decomposition benchmark"
   ]
  },
  {
   "cell_type": "markdown",
   "id": "4c76a4c2",
   "metadata": {},
   "source": [
    "This file uses the agd library to decompose (a large number of) symmetric positive definite matrices in dimension up to 6, drawn randomly. It illustrates the fact that this decomposition is fast enough for e.g. applications in PDE discretizations, where such a matrix has to be decomposed at each discretization point.\n",
    "\n",
    "Please have a look at the following notebooks for more information on Voronoi's decomposition : [dimension 2 and 3](https://nbviewer.org/github/Mirebeau/AdaptiveGridDiscretizations_showcase/blob/master/Notebooks_Algo/TensorSelling.ipynb), [dimension 4 and 5](https://nbviewer.org/github/Mirebeau/AdaptiveGridDiscretizations_showcase/blob/master/Notebooks_Algo/TensorVoronoi.ipynb), \n",
    "[dimension 6](https://nbviewer.org/github/Mirebeau/AdaptiveGridDiscretizations_showcase/blob/master/Notebooks_Algo/TensorVoronoi6.ipynb)."
   ]
  },
  {
   "cell_type": "markdown",
   "id": "2f47f02e",
   "metadata": {},
   "source": [
    "[**Summary**](Summary.ipynb) of volume Reproducible research, this series of notebooks.\n",
    "\n",
    "[**Main summary**](../Summary.ipynb) of the Adaptive Grid Discretizations \n",
    "\tbook of notebooks, including the other volumes.\n",
    "\n",
    "# Table of contents\n",
    "  * [1. Voronoi's decomposition](#1.-Voronoi's-decomposition)\n",
    "    * [1.1 Setting up the test](#1.1-Setting-up-the-test)\n",
    "    * [1.2 Benchmarking](#1.2-Benchmarking)\n",
    "\n",
    "\n",
    "\n",
    "**Acknowledgement.** Some of the experiments presented in these notebooks are part of \n",
    "ongoing research with Ludovic Métivier and Da Chen.\n",
    "\n",
    "Copyright Jean-Marie Mirebeau, Centre Borelli, ENS Paris-Saclay, CNRS, University Paris-Saclay"
   ]
  },
  {
   "cell_type": "markdown",
   "id": "367225de",
   "metadata": {},
   "source": [
    "## 0. Importing the required libraries"
   ]
  },
  {
   "cell_type": "code",
   "execution_count": 1,
   "id": "1055af8e",
   "metadata": {
    "execution": {
     "iopub.execute_input": "2023-12-08T14:56:09.349427Z",
     "iopub.status.busy": "2023-12-08T14:56:09.349052Z",
     "iopub.status.idle": "2023-12-08T14:56:09.357404Z",
     "shell.execute_reply": "2023-12-08T14:56:09.356908Z"
    }
   },
   "outputs": [],
   "source": [
    "import sys; sys.path.insert(0,\"..\")\n",
    "#from Miscellaneous import TocTools; print(TocTools.displayTOC('Voronoi_Benchmark','Repro'))"
   ]
  },
  {
   "cell_type": "code",
   "execution_count": 2,
   "id": "b26162aa",
   "metadata": {
    "execution": {
     "iopub.execute_input": "2023-12-08T14:56:09.360399Z",
     "iopub.status.busy": "2023-12-08T14:56:09.360027Z",
     "iopub.status.idle": "2023-12-08T14:56:09.477420Z",
     "shell.execute_reply": "2023-12-08T14:56:09.477065Z"
    }
   },
   "outputs": [],
   "source": [
    "from agd import LinearParallel as lp\n",
    "from agd import AutomaticDifferentiation as ad\n",
    "from agd.Eikonal import VoronoiDecomposition"
   ]
  },
  {
   "cell_type": "code",
   "execution_count": 3,
   "id": "1c1975fc",
   "metadata": {
    "execution": {
     "iopub.execute_input": "2023-12-08T14:56:09.479396Z",
     "iopub.status.busy": "2023-12-08T14:56:09.479255Z",
     "iopub.status.idle": "2023-12-08T14:56:09.480988Z",
     "shell.execute_reply": "2023-12-08T14:56:09.480751Z"
    }
   },
   "outputs": [],
   "source": [
    "import numpy as np; allclose = np.allclose\n",
    "import time"
   ]
  },
  {
   "cell_type": "markdown",
   "id": "dbb5202d",
   "metadata": {},
   "source": [
    "### 0.1 Additional configuration\n",
    "\n",
    "Uncomment this line to run on the GPU."
   ]
  },
  {
   "cell_type": "code",
   "execution_count": 4,
   "id": "57b936e0",
   "metadata": {
    "execution": {
     "iopub.execute_input": "2023-12-08T14:56:09.482554Z",
     "iopub.status.busy": "2023-12-08T14:56:09.482444Z",
     "iopub.status.idle": "2023-12-08T14:56:09.484210Z",
     "shell.execute_reply": "2023-12-08T14:56:09.483956Z"
    }
   },
   "outputs": [],
   "source": [
    "#VoronoiDecomposition.default_mode = 'gpu_transfer'"
   ]
  },
  {
   "cell_type": "markdown",
   "id": "1fdcdd43",
   "metadata": {},
   "source": [
    "Choose the datasize for the benchmark."
   ]
  },
  {
   "cell_type": "code",
   "execution_count": 5,
   "id": "b6c0c8d4",
   "metadata": {
    "execution": {
     "iopub.execute_input": "2023-12-08T14:56:09.485714Z",
     "iopub.status.busy": "2023-12-08T14:56:09.485606Z",
     "iopub.status.idle": "2023-12-08T14:56:09.487182Z",
     "shell.execute_reply": "2023-12-08T14:56:09.486959Z"
    }
   },
   "outputs": [],
   "source": [
    "nbench = 50000 if VoronoiDecomposition.default_mode == 'gpu_transfer' else 5000\n",
    "#nbench = 500000 # Larger instance used in the paper"
   ]
  },
  {
   "cell_type": "markdown",
   "id": "140dc718",
   "metadata": {},
   "source": [
    "## 1. Voronoi's decomposition"
   ]
  },
  {
   "cell_type": "markdown",
   "id": "b760f02f",
   "metadata": {},
   "source": [
    "### 1.1 Setting up the test"
   ]
  },
  {
   "cell_type": "code",
   "execution_count": 6,
   "id": "6af8ab4e",
   "metadata": {
    "execution": {
     "iopub.execute_input": "2023-12-08T14:56:09.488874Z",
     "iopub.status.busy": "2023-12-08T14:56:09.488770Z",
     "iopub.status.idle": "2023-12-08T14:56:09.491043Z",
     "shell.execute_reply": "2023-12-08T14:56:09.490753Z"
    }
   },
   "outputs": [],
   "source": [
    "def MakeRandomTensor(dim, shape=tuple(), relax=0.05):\n",
    "    A = np.random.standard_normal( (dim,dim) + shape )\n",
    "    D = lp.dot_AA(lp.transpose(A),A)\n",
    "    identity = np.eye(dim).reshape((dim,dim)+(1,)*len(shape))\n",
    "    return D+lp.trace(D)*relax*identity"
   ]
  },
  {
   "cell_type": "code",
   "execution_count": 7,
   "id": "a35e45e2",
   "metadata": {
    "execution": {
     "iopub.execute_input": "2023-12-08T14:56:09.492668Z",
     "iopub.status.busy": "2023-12-08T14:56:09.492565Z",
     "iopub.status.idle": "2023-12-08T14:56:09.494463Z",
     "shell.execute_reply": "2023-12-08T14:56:09.494220Z"
    }
   },
   "outputs": [],
   "source": [
    "def Reconstruct(coefs,offsets):\n",
    "     return lp.mult(coefs,lp.outer_self(offsets)).sum(2)\n",
    "def LInfNorm(a):\n",
    "    return np.max(np.abs(a))"
   ]
  },
  {
   "cell_type": "code",
   "execution_count": 8,
   "id": "44bc3d8e",
   "metadata": {
    "execution": {
     "iopub.execute_input": "2023-12-08T14:56:09.495872Z",
     "iopub.status.busy": "2023-12-08T14:56:09.495771Z",
     "iopub.status.idle": "2023-12-08T14:56:09.500630Z",
     "shell.execute_reply": "2023-12-08T14:56:09.500359Z"
    }
   },
   "outputs": [
    {
     "data": {
      "text/plain": [
       "array([13.76854937, 10.3988981 ,  7.96726883,  1.60586544,  4.28139694,\n",
       "        3.09867544])"
      ]
     },
     "execution_count": 8,
     "metadata": {},
     "output_type": "execute_result"
    }
   ],
   "source": [
    "np.random.seed(42) # Reproducibility\n",
    "D = MakeRandomTensor(6)\n",
    "np.linalg.eigvals(D)"
   ]
  },
  {
   "cell_type": "code",
   "execution_count": 9,
   "id": "ed8f636f",
   "metadata": {
    "execution": {
     "iopub.execute_input": "2023-12-08T14:56:09.502308Z",
     "iopub.status.busy": "2023-12-08T14:56:09.502192Z",
     "iopub.status.idle": "2023-12-08T14:56:09.552130Z",
     "shell.execute_reply": "2023-12-08T14:56:09.551657Z"
    }
   },
   "outputs": [],
   "source": [
    "coefs,offsets = VoronoiDecomposition(D,retry64_tol=0.)"
   ]
  },
  {
   "cell_type": "code",
   "execution_count": 10,
   "id": "dc68b89f",
   "metadata": {
    "execution": {
     "iopub.execute_input": "2023-12-08T14:56:09.554235Z",
     "iopub.status.busy": "2023-12-08T14:56:09.554114Z",
     "iopub.status.idle": "2023-12-08T14:56:09.557255Z",
     "shell.execute_reply": "2023-12-08T14:56:09.556945Z"
    }
   },
   "outputs": [
    {
     "name": "stdout",
     "output_type": "stream",
     "text": [
      "Coefficients :  [0.06272357 0.08321161 0.09108027 0.17300802 0.25543099 0.33765603\n",
      " 0.37974797 0.43206798 0.57262901 0.60285459 0.90199881 1.01424559\n",
      " 1.02162947 1.14710001 1.20004529 1.32672471 1.71589609 1.77768024\n",
      " 2.17099232 2.50835894 6.57177511]\n",
      "Offsets : \n",
      " [[ 1  1  1  1  0  1  1  1  0  1  1  0  1  0  0  0  0  1  0  0  0]\n",
      " [ 1  1  0  0  1  0 -1  0  1  0  0  1  1  0  0  1  0  0  0  0  1]\n",
      " [ 0  0 -1 -1  1 -1 -1 -1  0  0  1  1 -1  1  1  0  1  0  0  0  0]\n",
      " [ 1  0  0  0  0  1  1  1  0  0  1  0  0  0  1  0  0  0  0  1  0]\n",
      " [ 0  0  0 -1  1 -1 -1 -1  0  0  0  1  0  0  0  1  0  0  0  0  0]\n",
      " [ 0  0  1  0 -1  1  1  0 -1  1  0  0  0 -1  0  0  0  0  1  0  0]]\n"
     ]
    }
   ],
   "source": [
    "print(\"Coefficients : \", coefs)\n",
    "print(\"Offsets : \\n\", offsets.astype(int))"
   ]
  },
  {
   "cell_type": "code",
   "execution_count": 11,
   "id": "0216bc80",
   "metadata": {
    "execution": {
     "iopub.execute_input": "2023-12-08T14:56:09.558832Z",
     "iopub.status.busy": "2023-12-08T14:56:09.558732Z",
     "iopub.status.idle": "2023-12-08T14:56:09.560993Z",
     "shell.execute_reply": "2023-12-08T14:56:09.560713Z"
    }
   },
   "outputs": [
    {
     "name": "stdout",
     "output_type": "stream",
     "text": [
      "Minimal coefficient :  0.06272357357326566\n",
      "Reconstruction error :  5.329070518200751e-15\n"
     ]
    }
   ],
   "source": [
    "print(\"Minimal coefficient : \", np.min(coefs))\n",
    "print(\"Reconstruction error : \", LInfNorm(D-Reconstruct(coefs,offsets)))\n",
    "assert np.allclose(D,Reconstruct(coefs,offsets))"
   ]
  },
  {
   "cell_type": "markdown",
   "id": "46271240",
   "metadata": {},
   "source": [
    "### 1.2 Benchmarking"
   ]
  },
  {
   "cell_type": "code",
   "execution_count": 12,
   "id": "3cc03724",
   "metadata": {
    "execution": {
     "iopub.execute_input": "2023-12-08T14:56:09.562862Z",
     "iopub.status.busy": "2023-12-08T14:56:09.562748Z",
     "iopub.status.idle": "2023-12-08T14:56:09.565435Z",
     "shell.execute_reply": "2023-12-08T14:56:09.565144Z"
    }
   },
   "outputs": [],
   "source": [
    "def decomp_time(n,dim,relax=0.01,atol=1e-4):\n",
    "    np.random.seed(42) #Reproducibility\n",
    "    D = MakeRandomTensor(dim,(n,),relax)\n",
    "    start = time.time()\n",
    "    coefs,offsets = VoronoiDecomposition(D)\n",
    "#    print(coefs.reshape(-1)[0])\n",
    "    print(f\"Decomposition of {n} matrices completed in {time.time()-start} seconds\")\n",
    "    error = np.abs(D-Reconstruct(coefs,offsets))\n",
    "    print(\"Tensor shape: \",D.shape,\", max reconstruction error : \",np.max(error))\n",
    "    assert np.allclose(D,Reconstruct(coefs,offsets),atol=atol)\n",
    "    return D,coefs,offsets,error"
   ]
  },
  {
   "cell_type": "code",
   "execution_count": 13,
   "id": "669c6beb",
   "metadata": {
    "execution": {
     "iopub.execute_input": "2023-12-08T14:56:09.567119Z",
     "iopub.status.busy": "2023-12-08T14:56:09.567033Z",
     "iopub.status.idle": "2023-12-08T14:56:21.039548Z",
     "shell.execute_reply": "2023-12-08T14:56:21.039171Z"
    }
   },
   "outputs": [
    {
     "name": "stdout",
     "output_type": "stream",
     "text": [
      "Decomposition of 5000 matrices completed in 3.789393186569214 seconds\n",
      "Tensor shape:  (6, 6, 5000) , max reconstruction error :  4.298783551348606e-13\n"
     ]
    },
    {
     "name": "stdout",
     "output_type": "stream",
     "text": [
      "Decomposition of 5000 matrices completed in 3.781599998474121 seconds\n",
      "Tensor shape:  (6, 6, 5000) , max reconstruction error :  4.298783551348606e-13\n"
     ]
    },
    {
     "name": "stdout",
     "output_type": "stream",
     "text": [
      "Decomposition of 5000 matrices completed in 3.779866933822632 seconds\n",
      "Tensor shape:  (6, 6, 5000) , max reconstruction error :  4.298783551348606e-13\n"
     ]
    }
   ],
   "source": [
    "for i in range(3): decomp_time(nbench,6,atol=1e-3)"
   ]
  },
  {
   "cell_type": "code",
   "execution_count": 14,
   "id": "e975a7ac",
   "metadata": {
    "execution": {
     "iopub.execute_input": "2023-12-08T14:56:21.041306Z",
     "iopub.status.busy": "2023-12-08T14:56:21.041176Z",
     "iopub.status.idle": "2023-12-08T14:56:21.337961Z",
     "shell.execute_reply": "2023-12-08T14:56:21.337603Z"
    }
   },
   "outputs": [
    {
     "name": "stdout",
     "output_type": "stream",
     "text": [
      "Decomposition of 5000 matrices completed in 0.0732889175415039 seconds\n",
      "Tensor shape:  (5, 5, 5000) , max reconstruction error :  4.440892098500626e-14\n"
     ]
    },
    {
     "name": "stdout",
     "output_type": "stream",
     "text": [
      "Decomposition of 5000 matrices completed in 0.07373213768005371 seconds\n",
      "Tensor shape:  (5, 5, 5000) , max reconstruction error :  4.440892098500626e-14\n",
      "Decomposition of 5000 matrices completed in 0.07318806648254395 seconds\n"
     ]
    },
    {
     "name": "stdout",
     "output_type": "stream",
     "text": [
      "Tensor shape:  (5, 5, 5000) , max reconstruction error :  4.440892098500626e-14\n"
     ]
    }
   ],
   "source": [
    "for i in range(3): decomp_time(nbench,5);"
   ]
  },
  {
   "cell_type": "code",
   "execution_count": 15,
   "id": "744c87a3",
   "metadata": {
    "execution": {
     "iopub.execute_input": "2023-12-08T14:56:21.339697Z",
     "iopub.status.busy": "2023-12-08T14:56:21.339576Z",
     "iopub.status.idle": "2023-12-08T14:56:21.441467Z",
     "shell.execute_reply": "2023-12-08T14:56:21.441126Z"
    }
   },
   "outputs": [
    {
     "name": "stdout",
     "output_type": "stream",
     "text": [
      "Decomposition of 5000 matrices completed in 0.020168304443359375 seconds\n",
      "Tensor shape:  (4, 4, 5000) , max reconstruction error :  3.019806626980426e-14\n",
      "Decomposition of 5000 matrices completed in 0.019492149353027344 seconds\n",
      "Tensor shape:  (4, 4, 5000) , max reconstruction error :  3.019806626980426e-14\n"
     ]
    },
    {
     "name": "stdout",
     "output_type": "stream",
     "text": [
      "Decomposition of 5000 matrices completed in 0.01927018165588379 seconds\n",
      "Tensor shape:  (4, 4, 5000) , max reconstruction error :  3.019806626980426e-14\n"
     ]
    }
   ],
   "source": [
    "for i in range(3): decomp_time(nbench,4);"
   ]
  },
  {
   "cell_type": "code",
   "execution_count": 16,
   "id": "9795510d",
   "metadata": {
    "execution": {
     "iopub.execute_input": "2023-12-08T14:56:21.443224Z",
     "iopub.status.busy": "2023-12-08T14:56:21.443107Z",
     "iopub.status.idle": "2023-12-08T14:56:21.492973Z",
     "shell.execute_reply": "2023-12-08T14:56:21.492600Z"
    }
   },
   "outputs": [
    {
     "name": "stdout",
     "output_type": "stream",
     "text": [
      "Decomposition of 5000 matrices completed in 0.010003805160522461 seconds\n",
      "Tensor shape:  (3, 3, 5000) , max reconstruction error :  1.7763568394002505e-14\n",
      "Decomposition of 5000 matrices completed in 0.009601116180419922 seconds\n",
      "Tensor shape:  (3, 3, 5000) , max reconstruction error :  1.7763568394002505e-14\n",
      "Decomposition of 5000 matrices completed in 0.009795665740966797 seconds\n",
      "Tensor shape:  (3, 3, 5000) , max reconstruction error :  1.7763568394002505e-14\n"
     ]
    }
   ],
   "source": [
    "for i in range(3): decomp_time(nbench,3);"
   ]
  },
  {
   "cell_type": "code",
   "execution_count": 17,
   "id": "9cd25d07",
   "metadata": {
    "execution": {
     "iopub.execute_input": "2023-12-08T14:56:21.494706Z",
     "iopub.status.busy": "2023-12-08T14:56:21.494583Z",
     "iopub.status.idle": "2023-12-08T14:56:21.522912Z",
     "shell.execute_reply": "2023-12-08T14:56:21.522570Z"
    }
   },
   "outputs": [
    {
     "name": "stdout",
     "output_type": "stream",
     "text": [
      "Decomposition of 5000 matrices completed in 0.0066070556640625 seconds\n",
      "Tensor shape:  (2, 2, 5000) , max reconstruction error :  3.552713678800501e-15\n",
      "Decomposition of 5000 matrices completed in 0.0058939456939697266 seconds\n",
      "Tensor shape:  (2, 2, 5000) , max reconstruction error :  3.552713678800501e-15\n",
      "Decomposition of 5000 matrices completed in 0.00586700439453125 seconds\n",
      "Tensor shape:  (2, 2, 5000) , max reconstruction error :  3.552713678800501e-15\n"
     ]
    }
   ],
   "source": [
    "for i in range(3): decomp_time(nbench,2);"
   ]
  },
  {
   "cell_type": "code",
   "execution_count": null,
   "id": "065e2c4c",
   "metadata": {},
   "outputs": [],
   "source": []
  }
 ],
 "metadata": {
  "kernelspec": {
   "display_name": "Python 3 (ipykernel)",
   "language": "python",
   "name": "python3"
  },
  "language_info": {
   "codemirror_mode": {
    "name": "ipython",
    "version": 3
   },
   "file_extension": ".py",
   "mimetype": "text/x-python",
   "name": "python",
   "nbconvert_exporter": "python",
   "pygments_lexer": "ipython3",
   "version": "3.9.13"
  },
  "varInspector": {
   "cols": {
    "lenName": 16,
    "lenType": 16,
    "lenVar": 40
   },
   "kernels_config": {
    "python": {
     "delete_cmd_postfix": "",
     "delete_cmd_prefix": "del ",
     "library": "var_list.py",
     "varRefreshCmd": "print(var_dic_list())"
    },
    "r": {
     "delete_cmd_postfix": ") ",
     "delete_cmd_prefix": "rm(",
     "library": "var_list.r",
     "varRefreshCmd": "cat(var_dic_list()) "
    }
   },
   "types_to_exclude": [
    "module",
    "function",
    "builtin_function_or_method",
    "instance",
    "_Feature"
   ],
   "window_display": false
  }
 },
 "nbformat": 4,
 "nbformat_minor": 5
}

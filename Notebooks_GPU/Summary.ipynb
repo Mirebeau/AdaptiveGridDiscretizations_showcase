{
 "cells": [
  {
   "cell_type": "markdown",
   "metadata": {},
   "source": [
    "# Adaptive PDE discretizations on cartesian grids \n",
    "## A set of tools for discretizing anisotropic PDEs on cartesian grids\n",
    "# Volume : GPU accelerated methods"
   ]
  },
  {
   "cell_type": "markdown",
   "metadata": {},
   "source": [
    "This volume presents some GPU implementations of the adaptive finite differences schemes introduced in the other notebooks.\n",
    "For sufficiently large instance sizes, and depending on the particular application, accelerations by a factor $40 \\times$ to $250 \\times$ can be obtained, which may open up new applications involving e.g. realtime interaction. \n",
    "\n",
    "\n",
    "**System requirements.** \n",
    "The *cupy* package is required, as well as a cuda capable gpu."
   ]
  },
  {
   "cell_type": "markdown",
   "metadata": {},
   "source": [
    "**Github repository** to run and modify the examples on your computer.\n",
    "[AdaptiveGridDiscretizations](https://github.com/Mirebeau/AdaptiveGridDiscretizations)\n",
    "\n",
    "\n",
    "# Table of contents\n",
    "[**Main summary**](../Summary.ipynb), including the other volumes of this work. \n",
    "### A. Eikonal equations, acceleration and reproducibility\n",
    "\n",
    " * I. [Isotropic metrics](Isotropic_Repro.ipynb)\n",
    "  1. Three dimensions\n",
    "  2. Two dimensions\n",
    "  3. GPU specific options\n",
    "\n",
    "\n",
    " * II. [Riemannian metrics](Riemann_Repro.ipynb)\n",
    "  1. Two dimensions\n",
    "  2. Three dimensions\n",
    "\n",
    "\n",
    " * III. [Rander metrics](Rander_Repro.ipynb)\n",
    "  1. Two dimensions\n",
    "  2. Three dimensions\n",
    "\n",
    "\n",
    "### B. Reproducibility\n",
    "\n",
    " * I. [Curvature penalized models](Curvature_Repro.ipynb)\n",
    "  1. Constant cost\n",
    "\n",
    "\n",
    "### C. Eikonal equations, acceleration and reproducibility\n",
    "\n",
    " * I. [Flow and geodesics](Flow_Repro.ipynb)\n",
    "  1. Constant metrics\n",
    "  2. Variable metrics"
   ]
  },
  {
   "cell_type": "code",
   "execution_count": 1,
   "metadata": {},
   "outputs": [
    {
     "name": "stdout",
     "output_type": "stream",
     "text": [
      "**Github repository** to run and modify the examples on your computer.\n",
      "[AdaptiveGridDiscretizations](https://github.com/Mirebeau/AdaptiveGridDiscretizations)\n",
      "\n",
      "\n",
      "# Table of contents\n",
      "[**Main summary**](../Summary.ipynb), including the other volumes of this work. \n",
      "### A. Eikonal equations, acceleration and reproducibility\n",
      "\n",
      " * I. [Isotropic metrics](Isotropic_Repro.ipynb)\n",
      "  1. Three dimensions\n",
      "  2. Two dimensions\n",
      "  3. GPU specific options\n",
      "\n",
      "\n",
      " * II. [Riemannian metrics](Riemann_Repro.ipynb)\n",
      "  1. Two dimensions\n",
      "  2. Three dimensions\n",
      "\n",
      "\n",
      " * III. [Rander metrics](Rander_Repro.ipynb)\n",
      "  1. Two dimensions\n",
      "  2. Three dimensions\n",
      "\n",
      "\n",
      "### B. Reproducibility\n",
      "\n",
      " * I. [Curvature penalized models](Curvature_Repro.ipynb)\n",
      "  1. Constant cost\n",
      "\n",
      "\n",
      "### C. Eikonal equations, acceleration and reproducibility\n",
      "\n",
      " * I. [Flow and geodesics](Flow_Repro.ipynb)\n",
      "  1. Constant metrics\n",
      "  2. Variable metrics\n",
      "\n",
      "\n"
     ]
    }
   ],
   "source": [
    "import sys; sys.path.append(\"..\") # Allow imports from parent directory\n",
    "from Miscellaneous import TocTools; print(TocTools.displayTOCs('GPU'))"
   ]
  },
  {
   "cell_type": "code",
   "execution_count": null,
   "metadata": {},
   "outputs": [],
   "source": []
  }
 ],
 "metadata": {
  "kernelspec": {
   "display_name": "Python 3",
   "language": "python",
   "name": "python3"
  },
  "language_info": {
   "codemirror_mode": {
    "name": "ipython",
    "version": 3
   },
   "file_extension": ".py",
   "mimetype": "text/x-python",
   "name": "python",
   "nbconvert_exporter": "python",
   "pygments_lexer": "ipython3",
   "version": "3.7.6"
  }
 },
 "nbformat": 4,
 "nbformat_minor": 4
}

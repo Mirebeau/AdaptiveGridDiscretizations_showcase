{
 "cells": [
  {
   "cell_type": "markdown",
   "metadata": {},
   "source": [
    "# Adaptive PDE discretizations on cartesian grids \n",
    "## Volume : Algorithmic tools\n",
    "## Part : Automatic differentiation\n",
    "## Chapter : Known bugs and incompatibilities"
   ]
  },
  {
   "cell_type": "markdown",
   "metadata": {},
   "source": [
    "The techniques of automatic differentiation technique play an essential role in the notebooks presented in this repository. "
   ]
  },
  {
   "cell_type": "markdown",
   "metadata": {},
   "source": [
    "[**Summary**](Summary.ipynb) of volume Algorithmic tools, this series of notebooks.\n",
    "\n",
    "[**Main summary**](../Summary.ipynb) of the Adaptive Grid Discretizations \n",
    "\tbook of notebooks, including the other volumes.\n",
    "\n",
    "# Table of contents\n",
    "  * [1 Matrix multiplication and inversion](#1-Matrix-multiplication-and-inversion)\n",
    "  * [2. In place modifications and aliasing](#2.-In-place-modifications-and-aliasing)\n",
    "    * [2.1 Aliasing of the AD information](#2.1-Aliasing-of-the-AD-information)\n",
    "    * [2.2 Non writeable AD information](#2.2-Non-writeable-AD-information)\n",
    "\n",
    "\n",
    "\n",
    "**Acknowledgement.** The experiments presented in these notebooks are part of ongoing research, \n",
    "some of it with PhD student Guillaume Bonnet, in co-direction with Frederic Bonnans.\n",
    "\n",
    "Copyright Jean-Marie Mirebeau, University Paris-Sud, CNRS, University Paris-Saclay"
   ]
  },
  {
   "cell_type": "markdown",
   "metadata": {},
   "source": [
    "## 0. Importing the required libraries"
   ]
  },
  {
   "cell_type": "code",
   "execution_count": 1,
   "metadata": {},
   "outputs": [],
   "source": [
    "import sys; sys.path.insert(0,\"..\") # Allow importing agd from parent directory\n",
    "#from Miscellaneous import TocTools; TocTools.displayTOC('ADBugs','Algo')"
   ]
  },
  {
   "cell_type": "code",
   "execution_count": 2,
   "metadata": {},
   "outputs": [],
   "source": [
    "import numpy as np\n",
    "import scipy.sparse.linalg"
   ]
  },
  {
   "cell_type": "code",
   "execution_count": 3,
   "metadata": {},
   "outputs": [],
   "source": [
    "import agd.AutomaticDifferentiation as ad"
   ]
  },
  {
   "cell_type": "code",
   "execution_count": 4,
   "metadata": {},
   "outputs": [],
   "source": [
    "def reload_packages():\n",
    "    from Miscellaneous.rreload import rreload\n",
    "    global ad\n",
    "    ad, = rreload([ad],rootdir='..',verbose=True)"
   ]
  },
  {
   "cell_type": "markdown",
   "metadata": {},
   "source": [
    "## 1 Matrix multiplication and inversion"
   ]
  },
  {
   "cell_type": "markdown",
   "metadata": {},
   "source": [
    "Please use the `ad.apply_linear_mapping` and `ad.apply_linear_inverse` functions in combination with `np.dot`, or scipy solve functions."
   ]
  },
  {
   "cell_type": "code",
   "execution_count": 5,
   "metadata": {},
   "outputs": [],
   "source": [
    "v = ad.Dense.denseAD( np.random.standard_normal((4,)),np.random.standard_normal((4,4)))\n",
    "m0 = np.random.standard_normal((4,4))\n",
    "m1 = scipy.sparse.coo_matrix( ([1.,2.,3.,4.,5.],([0,2,1,2,3],[0,1,2,2,3]))).tocsr()"
   ]
  },
  {
   "cell_type": "code",
   "execution_count": 6,
   "metadata": {},
   "outputs": [],
   "source": [
    "# Fails\n",
    "#print(\"np.dot looses AD:\",np.dot(m0,v))\n",
    "#print(\"scipy '*' looses AD:\",m1*v) "
   ]
  },
  {
   "cell_type": "code",
   "execution_count": 7,
   "metadata": {},
   "outputs": [
    {
     "name": "stdout",
     "output_type": "stream",
     "text": [
      "np.dot with AD:\n",
      " denseAD([ 0.80246891  1.69893282  1.46335514 -1.09392041],\n",
      "[[ 0.66392602  0.16839517  0.8634821  -0.86710004]\n",
      " [-1.78256704 -0.67587474 -1.52560751  1.80373523]\n",
      " [ 1.81489916  0.84103727  1.78608666 -0.97523305]\n",
      " [-2.40182937 -1.37732754 -1.24372969 -0.11802528]])\n",
      "scipy '*' with AD:\n",
      " denseAD([-1.1715395   1.31812472  5.66509977  2.69055847],\n",
      "[[ 0.25464457  0.35268732 -0.47942179  0.8184109 ]\n",
      " [-5.20978826 -0.61760671  2.69935297  3.67764458]\n",
      " [-6.93573437 -0.54378026  3.78596973  6.28494768]\n",
      " [11.70900019  6.51365884  7.58378878 -1.54519266]])\n"
     ]
    }
   ],
   "source": [
    "print(\"np.dot with AD:\\n\",ad.apply_linear_mapping(m0,v))\n",
    "print(\"scipy '*' with AD:\\n\",ad.apply_linear_mapping(m1,v))"
   ]
  },
  {
   "cell_type": "code",
   "execution_count": 8,
   "metadata": {},
   "outputs": [
    {
     "name": "stdout",
     "output_type": "stream",
     "text": [
      "scipy solve with AD :\n",
      " denseAD([-1.1715395  -1.08284593  0.65126669  0.10762234],\n",
      "[[ 0.25464457  0.35268732 -0.47942179  0.8184109 ]\n",
      " [-0.87184804 -0.19616624  0.38761469  0.15246691]\n",
      " [ 0.001775    0.04661589  0.03113874  0.23023693]\n",
      " [ 0.46836001  0.26054635  0.30335155 -0.06180771]])\n"
     ]
    }
   ],
   "source": [
    "print(\"scipy solve with AD :\\n\",ad.apply_linear_inverse(scipy.sparse.linalg.spsolve,m1,v))"
   ]
  },
  {
   "cell_type": "markdown",
   "metadata": {},
   "source": [
    "## 2. In place modifications and aliasing\n",
    "\n",
    "The AD information often consists of very large arrays. In order to save time and memory, this information is not systematically copied and/or stored fully. It can take the form of a broadcasted array, or of an alias to another array. In that case a copy is necessary to enable modifications."
   ]
  },
  {
   "cell_type": "markdown",
   "metadata": {},
   "source": [
    "### 2.1 Aliasing of the AD information\n",
    "\n",
    "When an operation leaves the AD information untouched, an alias is used. This can lead to bugs if in place modifications are used afterward."
   ]
  },
  {
   "cell_type": "code",
   "execution_count": 9,
   "metadata": {},
   "outputs": [],
   "source": [
    "x=ad.Dense.identity(constant=np.array([1.,2.]))\n",
    "y=x+1 # Only affects the value, not the AD information"
   ]
  },
  {
   "cell_type": "code",
   "execution_count": 10,
   "metadata": {},
   "outputs": [
    {
     "name": "stdout",
     "output_type": "stream",
     "text": [
      "Values are distinct : False\n",
      "AD information is shared : True\n"
     ]
    }
   ],
   "source": [
    "print(\"Values are distinct :\", x.value is y.value)\n",
    "print(\"AD information is shared :\", y.coef is x.coef)"
   ]
  },
  {
   "cell_type": "markdown",
   "metadata": {},
   "source": [
    "A modification of the aliased variable will impact the original one."
   ]
  },
  {
   "cell_type": "code",
   "execution_count": 11,
   "metadata": {},
   "outputs": [
    {
     "name": "stdout",
     "output_type": "stream",
     "text": [
      "denseAD(1.0,[1. 0.])\n",
      "Caution ! Shared AD information is affected : denseAD(1.0,[2. 0.])\n"
     ]
    }
   ],
   "source": [
    "print(x[0])\n",
    "y[0]*=2\n",
    "print(\"Caution ! Shared AD information is affected :\", x[0])"
   ]
  },
  {
   "cell_type": "markdown",
   "metadata": {},
   "source": [
    "Avoid this effect by making a copy."
   ]
  },
  {
   "cell_type": "code",
   "execution_count": 12,
   "metadata": {},
   "outputs": [
    {
     "name": "stdout",
     "output_type": "stream",
     "text": [
      "AD information is distinct : False\n"
     ]
    }
   ],
   "source": [
    "x=ad.Dense.identity(constant=np.array([1.,2.]))\n",
    "y=(x+1).copy()\n",
    "print(\"AD information is distinct :\", y.coef is x.coef)"
   ]
  },
  {
   "cell_type": "markdown",
   "metadata": {},
   "source": [
    "Note that a similar effect arises with the `-` binary operator, but not with `*`or `/`. That is because the latter modify the AD information, which therefore must be copied anyway."
   ]
  },
  {
   "cell_type": "code",
   "execution_count": 13,
   "metadata": {},
   "outputs": [
    {
     "name": "stdout",
     "output_type": "stream",
     "text": [
      "AD information is shared : True\n",
      "AD information is distinct : False\n",
      "AD information is distinct : False\n"
     ]
    }
   ],
   "source": [
    "x=ad.Dense.identity(constant=np.array([1.,2.]))\n",
    "print(\"AD information is shared :\", (x-1).coef is x.coef)\n",
    "print(\"AD information is distinct :\", (x*2).coef is x.coef)\n",
    "print(\"AD information is distinct :\", (x/2).coef is x.coef)"
   ]
  },
  {
   "cell_type": "markdown",
   "metadata": {},
   "source": [
    "### 2.2 Non writeable AD information\n",
    "\n",
    "When creating an dense AD variable, the coefficients may be non writeable (e.g. broadcasted) arrays."
   ]
  },
  {
   "cell_type": "code",
   "execution_count": 14,
   "metadata": {},
   "outputs": [],
   "source": [
    "x=ad.Dense.identity(constant=np.array([[1.,2.],[3.,4.]]),shape_bound=(2,))"
   ]
  },
  {
   "cell_type": "code",
   "execution_count": 15,
   "metadata": {},
   "outputs": [
    {
     "data": {
      "text/plain": [
       "False"
      ]
     },
     "execution_count": 15,
     "metadata": {},
     "output_type": "execute_result"
    }
   ],
   "source": [
    "x.coef.flags.writeable"
   ]
  },
  {
   "cell_type": "code",
   "execution_count": 16,
   "metadata": {},
   "outputs": [],
   "source": [
    "# x+=1 # Fails because non-writeable"
   ]
  },
  {
   "cell_type": "markdown",
   "metadata": {},
   "source": [
    "Make a copy to solve the issue."
   ]
  },
  {
   "cell_type": "code",
   "execution_count": 17,
   "metadata": {},
   "outputs": [],
   "source": [
    "y=x.copy()"
   ]
  },
  {
   "cell_type": "code",
   "execution_count": 18,
   "metadata": {},
   "outputs": [
    {
     "data": {
      "text/plain": [
       "True"
      ]
     },
     "execution_count": 18,
     "metadata": {},
     "output_type": "execute_result"
    }
   ],
   "source": [
    "y.coef.flags.writeable"
   ]
  },
  {
   "cell_type": "code",
   "execution_count": 19,
   "metadata": {},
   "outputs": [],
   "source": [
    "y+=1"
   ]
  },
  {
   "cell_type": "code",
   "execution_count": null,
   "metadata": {},
   "outputs": [],
   "source": []
  }
 ],
 "metadata": {
  "kernelspec": {
   "display_name": "Python 3",
   "language": "python",
   "name": "python3"
  },
  "language_info": {
   "codemirror_mode": {
    "name": "ipython",
    "version": 3
   },
   "file_extension": ".py",
   "mimetype": "text/x-python",
   "name": "python",
   "nbconvert_exporter": "python",
   "pygments_lexer": "ipython3",
   "version": "3.7.6"
  }
 },
 "nbformat": 4,
 "nbformat_minor": 2
}

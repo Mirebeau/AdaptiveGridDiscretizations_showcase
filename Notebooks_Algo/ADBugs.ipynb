{
 "cells": [
  {
   "cell_type": "markdown",
   "metadata": {},
   "source": [
    "# Adaptive PDE discretizations on cartesian grids \n",
    "## Volume : Algorithmic tools\n",
    "## Part : Automatic differentiation\n",
    "## Chapter : Known bugs and incompatibilities"
   ]
  },
  {
   "cell_type": "markdown",
   "metadata": {},
   "source": [
    "The techniques of automatic differentiation technique play an essential role in the notebooks presented in this repository. "
   ]
  },
  {
   "cell_type": "markdown",
   "metadata": {},
   "source": [
    "[**Summary**](Summary.ipynb) of volume Algorithmic tools, this series of notebooks.\n",
    "\n",
    "[**Main summary**](../Summary.ipynb) of the Adaptive Grid Discretizations \n",
    "\tbook of notebooks, including the other volumes.\n",
    "\n",
    "# Table of contents\n",
    "  * [1 Matrix multiplication and inversion](#1-Matrix-multiplication-and-inversion)\n",
    "  * [2. In place modifications and aliasing](#2.-In-place-modifications-and-aliasing)\n",
    "    * [2.1 Aliasing of the AD information](#2.1-Aliasing-of-the-AD-information)\n",
    "    * [2.2 Non writeable AD information](#2.2-Non-writeable-AD-information)\n",
    "  * [3. CPU/GPU generic programming](#3.-CPU/GPU-generic-programming)\n",
    "\n",
    "\n",
    "\n",
    "**Acknowledgement.** The experiments presented in these notebooks are part of ongoing research, \n",
    "some of it with PhD student Guillaume Bonnet, in co-direction with Frederic Bonnans.\n",
    "\n",
    "Copyright Jean-Marie Mirebeau, University Paris-Sud, CNRS, University Paris-Saclay"
   ]
  },
  {
   "cell_type": "markdown",
   "metadata": {},
   "source": [
    "## 0. Importing the required libraries"
   ]
  },
  {
   "cell_type": "code",
   "execution_count": 1,
   "metadata": {},
   "outputs": [],
   "source": [
    "import sys; sys.path.insert(0,\"..\") # Allow importing agd from parent directory\n",
    "#from Miscellaneous import TocTools; TocTools.displayTOC('ADBugs','Algo')"
   ]
  },
  {
   "cell_type": "code",
   "execution_count": 2,
   "metadata": {},
   "outputs": [],
   "source": [
    "import numpy as np\n",
    "import scipy.sparse.linalg\n",
    "from matplotlib import pyplot as plt"
   ]
  },
  {
   "cell_type": "code",
   "execution_count": 3,
   "metadata": {},
   "outputs": [],
   "source": [
    "import agd.AutomaticDifferentiation as ad"
   ]
  },
  {
   "cell_type": "code",
   "execution_count": 4,
   "metadata": {},
   "outputs": [],
   "source": [
    "def reload_packages():\n",
    "    from Miscellaneous.rreload import rreload\n",
    "    global ad\n",
    "    ad, = rreload([ad],rootdir='..',verbose=True)"
   ]
  },
  {
   "cell_type": "markdown",
   "metadata": {},
   "source": [
    "## 1 Matrix multiplication and inversion"
   ]
  },
  {
   "cell_type": "markdown",
   "metadata": {},
   "source": [
    "Please use the `ad.apply_linear_mapping` and `ad.apply_linear_inverse` functions in combination with `np.dot`, or scipy solve functions."
   ]
  },
  {
   "cell_type": "code",
   "execution_count": 5,
   "metadata": {},
   "outputs": [],
   "source": [
    "v = ad.Dense.denseAD( np.random.standard_normal((4,)),np.random.standard_normal((4,4)))\n",
    "m0 = np.random.standard_normal((4,4))\n",
    "m1 = scipy.sparse.coo_matrix( ([1.,2.,3.,4.,5.],([0,2,1,2,3],[0,1,2,2,3]))).tocsr()"
   ]
  },
  {
   "cell_type": "code",
   "execution_count": 6,
   "metadata": {},
   "outputs": [],
   "source": [
    "# Fails\n",
    "#print(\"np.dot looses AD:\",np.dot(m0,v))\n",
    "#print(\"scipy '*' looses AD:\",m1*v) "
   ]
  },
  {
   "cell_type": "code",
   "execution_count": 7,
   "metadata": {},
   "outputs": [
    {
     "name": "stdout",
     "output_type": "stream",
     "text": [
      "np.dot with AD:\n",
      " denseAD([ 1.75517179 -1.69629535 -0.51405702 -2.4679181 ],\n",
      "[[-0.99814527 -2.56818975 -0.49318764  1.22457235]\n",
      " [-1.4015223   1.58409978  0.07744961 -1.3644251 ]\n",
      " [-1.69064348  0.88884647 -0.81304779 -1.13829961]\n",
      " [-1.23754601  1.08858405  0.641416   -1.09759751]])\n",
      "scipy '*' with AD:\n",
      " denseAD([-0.20030751 -2.21465588 -5.50238097  5.40827971],\n",
      "[[ 0.23072388  1.18182741 -0.5646482  -0.74529293]\n",
      " [ 6.12594207  3.10121378  6.27002047  1.4959306 ]\n",
      " [ 4.70837682  6.14603459  7.5202877  -0.49226696]\n",
      " [-4.87556635 -0.63022697 -6.91560923 -1.81057886]])\n"
     ]
    }
   ],
   "source": [
    "print(\"np.dot with AD:\\n\",ad.apply_linear_mapping(m0,v))\n",
    "print(\"scipy '*' with AD:\\n\",ad.apply_linear_mapping(m1,v))"
   ]
  },
  {
   "cell_type": "code",
   "execution_count": 8,
   "metadata": {},
   "outputs": [
    {
     "name": "stdout",
     "output_type": "stream",
     "text": [
      "scipy solve with AD :\n",
      " denseAD([-0.20030751  0.48072618 -0.42491774  0.21633119],\n",
      "[[ 0.23072388  1.18182741 -0.5646482  -0.74529293]\n",
      " [ 2.17417232 -0.153492    1.32491661  1.0782688 ]\n",
      " [-0.57659099  0.33518048 -0.1399566  -0.41447352]\n",
      " [-0.19502265 -0.02520908 -0.27662437 -0.07242315]])\n"
     ]
    }
   ],
   "source": [
    "print(\"scipy solve with AD :\\n\",ad.apply_linear_inverse(scipy.sparse.linalg.spsolve,m1,v))"
   ]
  },
  {
   "cell_type": "markdown",
   "metadata": {},
   "source": [
    "## 2. In place modifications and aliasing\n",
    "\n",
    "The AD information often consists of very large arrays. In order to save time and memory, this information is not systematically copied and/or stored fully. It can take the form of a broadcasted array, or of an alias to another array. In that case a copy is necessary to enable modifications."
   ]
  },
  {
   "cell_type": "markdown",
   "metadata": {},
   "source": [
    "### 2.1 Aliasing of the AD information\n",
    "\n",
    "When an operation leaves the AD information untouched, an alias is used. This can lead to bugs if in place modifications are used afterward."
   ]
  },
  {
   "cell_type": "code",
   "execution_count": 9,
   "metadata": {},
   "outputs": [],
   "source": [
    "x=ad.Dense.identity(constant=np.array([1.,2.]))\n",
    "y=x+1 # Only affects the value, not the AD information"
   ]
  },
  {
   "cell_type": "code",
   "execution_count": 10,
   "metadata": {},
   "outputs": [
    {
     "name": "stdout",
     "output_type": "stream",
     "text": [
      "Values are distinct : False\n",
      "AD information is shared : True\n"
     ]
    }
   ],
   "source": [
    "print(\"Values are distinct :\", x.value is y.value)\n",
    "print(\"AD information is shared :\", y.coef is x.coef)"
   ]
  },
  {
   "cell_type": "markdown",
   "metadata": {},
   "source": [
    "A modification of the aliased variable will impact the original one."
   ]
  },
  {
   "cell_type": "code",
   "execution_count": 11,
   "metadata": {},
   "outputs": [
    {
     "name": "stdout",
     "output_type": "stream",
     "text": [
      "denseAD(1.0,[1. 0.])\n",
      "Caution ! Shared AD information is affected : denseAD(1.0,[2. 0.])\n"
     ]
    }
   ],
   "source": [
    "print(x[0])\n",
    "y[0]*=2\n",
    "print(\"Caution ! Shared AD information is affected :\", x[0])"
   ]
  },
  {
   "cell_type": "markdown",
   "metadata": {},
   "source": [
    "Avoid this effect by making a copy."
   ]
  },
  {
   "cell_type": "code",
   "execution_count": 12,
   "metadata": {},
   "outputs": [
    {
     "name": "stdout",
     "output_type": "stream",
     "text": [
      "AD information is distinct : False\n"
     ]
    }
   ],
   "source": [
    "x=ad.Dense.identity(constant=np.array([1.,2.]))\n",
    "y=(x+1).copy()\n",
    "print(\"AD information is distinct :\", y.coef is x.coef)"
   ]
  },
  {
   "cell_type": "markdown",
   "metadata": {},
   "source": [
    "Note that a similar effect arises with the `-` binary operator, but not with `*`or `/`. That is because the latter modify the AD information, which therefore must be copied anyway."
   ]
  },
  {
   "cell_type": "code",
   "execution_count": 13,
   "metadata": {},
   "outputs": [
    {
     "name": "stdout",
     "output_type": "stream",
     "text": [
      "AD information is shared : True\n",
      "AD information is distinct : False\n",
      "AD information is distinct : False\n"
     ]
    }
   ],
   "source": [
    "x=ad.Dense.identity(constant=np.array([1.,2.]))\n",
    "print(\"AD information is shared :\", (x-1).coef is x.coef)\n",
    "print(\"AD information is distinct :\", (x*2).coef is x.coef)\n",
    "print(\"AD information is distinct :\", (x/2).coef is x.coef)"
   ]
  },
  {
   "cell_type": "markdown",
   "metadata": {},
   "source": [
    "### 2.2 Non writeable AD information\n",
    "\n",
    "When creating an dense AD variable, the coefficients may be non writeable (e.g. broadcasted) arrays."
   ]
  },
  {
   "cell_type": "code",
   "execution_count": 14,
   "metadata": {},
   "outputs": [],
   "source": [
    "x=ad.Dense.identity(constant=np.array([[1.,2.],[3.,4.]]),shape_bound=(2,))"
   ]
  },
  {
   "cell_type": "code",
   "execution_count": 15,
   "metadata": {},
   "outputs": [
    {
     "data": {
      "text/plain": [
       "False"
      ]
     },
     "execution_count": 15,
     "metadata": {},
     "output_type": "execute_result"
    }
   ],
   "source": [
    "x.coef.flags.writeable"
   ]
  },
  {
   "cell_type": "code",
   "execution_count": 16,
   "metadata": {},
   "outputs": [],
   "source": [
    "# x+=1 # Fails because non-writeable"
   ]
  },
  {
   "cell_type": "markdown",
   "metadata": {},
   "source": [
    "Make a copy to solve the issue."
   ]
  },
  {
   "cell_type": "code",
   "execution_count": 17,
   "metadata": {},
   "outputs": [],
   "source": [
    "y=x.copy()"
   ]
  },
  {
   "cell_type": "code",
   "execution_count": 18,
   "metadata": {},
   "outputs": [
    {
     "data": {
      "text/plain": [
       "True"
      ]
     },
     "execution_count": 18,
     "metadata": {},
     "output_type": "execute_result"
    }
   ],
   "source": [
    "y.coef.flags.writeable"
   ]
  },
  {
   "cell_type": "code",
   "execution_count": 19,
   "metadata": {},
   "outputs": [],
   "source": [
    "y+=1"
   ]
  },
  {
   "cell_type": "markdown",
   "metadata": {},
   "source": [
    "## 3. CPU/GPU generic programming\n",
    "\n",
    "The agd library allows CPU/GPU generic programming to some extent. Here are the guidelines to make this approach work.\n",
    "\n",
    "*Make a copy of the numpy array module*"
   ]
  },
  {
   "cell_type": "code",
   "execution_count": 20,
   "metadata": {},
   "outputs": [],
   "source": [
    "xp = np "
   ]
  },
  {
   "cell_type": "markdown",
   "metadata": {},
   "source": [
    "*Activate GPU acceleration.*\n",
    "If uncommented, the following line will replace the module xp with np, and modify its other arguments in a custom manner intended for easy interaction."
   ]
  },
  {
   "cell_type": "code",
   "execution_count": 21,
   "metadata": {
    "tags": [
     "GPU_config"
    ]
   },
   "outputs": [],
   "source": [
    "#xp,plt = map(ad.cupy_friendly,[xp,plt])"
   ]
  },
  {
   "cell_type": "markdown",
   "metadata": {},
   "source": [
    "*Create basic arrays using `xp`.* Basic arrays are arrays of zeros, of ones, arange, linspace, etc"
   ]
  },
  {
   "cell_type": "code",
   "execution_count": 22,
   "metadata": {},
   "outputs": [],
   "source": [
    "x = xp.linspace(0,2*np.pi)"
   ]
  },
  {
   "cell_type": "markdown",
   "metadata": {},
   "source": [
    "*Use numpy's overloading mechanisms.* These mechanisms will dispatch the function calls to cupy, or to the AutomaticDifferentiation module of the agd library, depending on the data type (array from numpy, cupy, or ad)."
   ]
  },
  {
   "cell_type": "code",
   "execution_count": 23,
   "metadata": {},
   "outputs": [],
   "source": [
    "y = np.sin(x)"
   ]
  },
  {
   "cell_type": "markdown",
   "metadata": {},
   "source": [
    "*Use `ad.asarray` and `ad.array`.* Stacking arrays using np.array will not work for AD or cupy arrays."
   ]
  },
  {
   "cell_type": "code",
   "execution_count": 24,
   "metadata": {},
   "outputs": [],
   "source": [
    "xy = ad.array([x,y])"
   ]
  },
  {
   "cell_type": "markdown",
   "metadata": {},
   "source": [
    "*Use functions that accept both numpy and cupy arrays.* Or modify them for that purpose, as we did for the member functions of the pyplot module using the `ad.cupy_friendly` function."
   ]
  },
  {
   "cell_type": "code",
   "execution_count": 25,
   "metadata": {},
   "outputs": [
    {
     "data": {
      "image/png": "[encoded data removed]",
      "text/plain": [
       "<Figure size 432x288 with 1 Axes>"
      ]
     },
     "metadata": {
      "needs_background": "light"
     },
     "output_type": "display_data"
    }
   ],
   "source": [
    "plt.plot(*xy);"
   ]
  },
  {
   "cell_type": "markdown",
   "metadata": {},
   "source": [
    "*If needed, convert cupy array's to numpy arrays.* Using the `get` member function of the `cupy.ndarray` class, or using `ad.cupy_generic.cupy_get` (which leaves non-cupy variables unchanged)."
   ]
  },
  {
   "cell_type": "code",
   "execution_count": 26,
   "metadata": {},
   "outputs": [
    {
     "data": {
      "text/plain": [
       "numpy.ndarray"
      ]
     },
     "execution_count": 26,
     "metadata": {},
     "output_type": "execute_result"
    }
   ],
   "source": [
    "type(ad.cupy_generic.cupy_get(y))"
   ]
  },
  {
   "cell_type": "code",
   "execution_count": null,
   "metadata": {},
   "outputs": [],
   "source": []
  }
 ],
 "metadata": {
  "celltoolbar": "Format de la Cellule Texte Brut",
  "kernelspec": {
   "display_name": "Python 3",
   "language": "python",
   "name": "python3"
  },
  "language_info": {
   "codemirror_mode": {
    "name": "ipython",
    "version": 3
   },
   "file_extension": ".py",
   "mimetype": "text/x-python",
   "name": "python",
   "nbconvert_exporter": "python",
   "pygments_lexer": "ipython3",
   "version": "3.7.6"
  }
 },
 "nbformat": 4,
 "nbformat_minor": 2
}

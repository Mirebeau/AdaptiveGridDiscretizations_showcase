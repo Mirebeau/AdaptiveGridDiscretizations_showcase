{
 "cells": [
  {
   "cell_type": "markdown",
   "metadata": {},
   "source": [
    "# Adaptive PDE discretizations on Cartesian grids\n",
    "## Volume : Algorithmic tools\n",
    "## Part : Automatic differentiation\n",
    "## Chapter : Known bugs and incompatibilities"
   ]
  },
  {
   "cell_type": "markdown",
   "metadata": {},
   "source": [
    "The techniques of automatic differentiation technique play an essential role in the notebooks presented in this repository. "
   ]
  },
  {
   "cell_type": "markdown",
   "metadata": {},
   "source": [
    "[**Summary**](Summary.ipynb) of volume Algorithmic tools, this series of notebooks.\n",
    "\n",
    "[**Main summary**](../Summary.ipynb) of the Adaptive Grid Discretizations \n",
    "\tbook of notebooks, including the other volumes.\n",
    "\n",
    "# Table of contents\n",
    "  * [1 Matrix multiplication and inversion](#1-Matrix-multiplication-and-inversion)\n",
    "  * [2. In place modifications and aliasing](#2.-In-place-modifications-and-aliasing)\n",
    "    * [2.1 Aliasing of the AD information](#2.1-Aliasing-of-the-AD-information)\n",
    "    * [2.2 Non writeable AD information](#2.2-Non-writeable-AD-information)\n",
    "  * [3. CPU/GPU generic programming](#3.-CPU/GPU-generic-programming)\n",
    "\n",
    "\n",
    "\n",
    "**Acknowledgement.** Some of the experiments presented in these notebooks are part of \n",
    "ongoing research with Ludovic Métivier and Da Chen.\n",
    "\n",
    "Copyright Jean-Marie Mirebeau, Centre Borelli, ENS Paris-Saclay, CNRS, University Paris-Saclay"
   ]
  },
  {
   "cell_type": "markdown",
   "metadata": {},
   "source": [
    "## 0. Importing the required libraries"
   ]
  },
  {
   "cell_type": "code",
   "execution_count": 1,
   "metadata": {
    "execution": {
     "iopub.execute_input": "2024-04-30T08:46:36.182340Z",
     "iopub.status.busy": "2024-04-30T08:46:36.182051Z",
     "iopub.status.idle": "2024-04-30T08:46:36.190784Z",
     "shell.execute_reply": "2024-04-30T08:46:36.190361Z"
    }
   },
   "outputs": [],
   "source": [
    "import sys; sys.path.insert(0,\"..\") # Allow importing agd from parent directory\n",
    "#from Miscellaneous import TocTools; TocTools.displayTOC('ADBugs','Algo')"
   ]
  },
  {
   "cell_type": "code",
   "execution_count": 2,
   "metadata": {
    "execution": {
     "iopub.execute_input": "2024-04-30T08:46:36.193434Z",
     "iopub.status.busy": "2024-04-30T08:46:36.193218Z",
     "iopub.status.idle": "2024-04-30T08:46:36.458728Z",
     "shell.execute_reply": "2024-04-30T08:46:36.458308Z"
    }
   },
   "outputs": [],
   "source": [
    "import numpy as np\n",
    "import scipy.sparse.linalg\n",
    "from matplotlib import pyplot as plt"
   ]
  },
  {
   "cell_type": "code",
   "execution_count": 3,
   "metadata": {
    "execution": {
     "iopub.execute_input": "2024-04-30T08:46:36.460542Z",
     "iopub.status.busy": "2024-04-30T08:46:36.460390Z",
     "iopub.status.idle": "2024-04-30T08:46:36.464876Z",
     "shell.execute_reply": "2024-04-30T08:46:36.464573Z"
    }
   },
   "outputs": [],
   "source": [
    "import agd.AutomaticDifferentiation as ad"
   ]
  },
  {
   "cell_type": "code",
   "execution_count": 4,
   "metadata": {
    "execution": {
     "iopub.execute_input": "2024-04-30T08:46:36.466315Z",
     "iopub.status.busy": "2024-04-30T08:46:36.466231Z",
     "iopub.status.idle": "2024-04-30T08:46:36.468015Z",
     "shell.execute_reply": "2024-04-30T08:46:36.467783Z"
    }
   },
   "outputs": [],
   "source": [
    "def reload_packages():\n",
    "    from Miscellaneous.rreload import rreload\n",
    "    global ad\n",
    "    ad, = rreload([ad],rootdir='..',verbose=True)"
   ]
  },
  {
   "cell_type": "markdown",
   "metadata": {},
   "source": [
    "## 1 Matrix multiplication and inversion"
   ]
  },
  {
   "cell_type": "markdown",
   "metadata": {},
   "source": [
    "Please use the `ad.apply_linear_mapping` and `ad.apply_linear_inverse` functions in combination with `np.dot`, or scipy solve functions."
   ]
  },
  {
   "cell_type": "code",
   "execution_count": 5,
   "metadata": {
    "execution": {
     "iopub.execute_input": "2024-04-30T08:46:36.469414Z",
     "iopub.status.busy": "2024-04-30T08:46:36.469335Z",
     "iopub.status.idle": "2024-04-30T08:46:36.471577Z",
     "shell.execute_reply": "2024-04-30T08:46:36.471352Z"
    }
   },
   "outputs": [],
   "source": [
    "v = ad.Dense.denseAD( np.random.standard_normal((4,)),np.random.standard_normal((4,4)))\n",
    "m0 = np.random.standard_normal((4,4))\n",
    "m1 = scipy.sparse.coo_matrix( ([1.,2.,3.,4.,5.],([0,2,1,2,3],[0,1,2,2,3]))).tocsr()"
   ]
  },
  {
   "cell_type": "code",
   "execution_count": 6,
   "metadata": {
    "execution": {
     "iopub.execute_input": "2024-04-30T08:46:36.472888Z",
     "iopub.status.busy": "2024-04-30T08:46:36.472806Z",
     "iopub.status.idle": "2024-04-30T08:46:36.474387Z",
     "shell.execute_reply": "2024-04-30T08:46:36.474144Z"
    }
   },
   "outputs": [],
   "source": [
    "# Fails\n",
    "#print(\"np.dot looses AD:\",np.dot(m0,v))\n",
    "#print(\"scipy '*' looses AD:\",m1*v) "
   ]
  },
  {
   "cell_type": "code",
   "execution_count": 7,
   "metadata": {
    "execution": {
     "iopub.execute_input": "2024-04-30T08:46:36.475749Z",
     "iopub.status.busy": "2024-04-30T08:46:36.475668Z",
     "iopub.status.idle": "2024-04-30T08:46:36.478026Z",
     "shell.execute_reply": "2024-04-30T08:46:36.477752Z"
    }
   },
   "outputs": [
    {
     "name": "stdout",
     "output_type": "stream",
     "text": [
      "np.dot with AD:\n",
      " denseAD([-3.04188743 -1.81059366 -4.60168428 -0.402255  ],\n",
      "[[-2.18883126 -1.92773839  3.22406318  3.43328336]\n",
      " [-1.16890347 -0.462756    1.82295919  2.66970312]\n",
      " [-2.75635892 -3.19868113  1.28256549  3.17149694]\n",
      " [-0.1224066   0.03960797 -0.308438    0.39619431]])\n",
      "scipy '*' with AD:\n",
      " denseAD([ 0.7291558   5.45572649  9.19406824 -2.45149384],\n",
      "[[ 0.60006067  0.66252011  0.93092156 -0.2395021 ]\n",
      " [ 2.49177526  5.05030758 -0.55925942 -0.93759285]\n",
      " [ 5.41915601  7.88410999 -3.17199694 -4.56263608]\n",
      " [-3.14881496 -5.70942489 -0.69430255 -1.26786441]])\n"
     ]
    }
   ],
   "source": [
    "print(\"np.dot with AD:\\n\",ad.apply_linear_mapping(m0,v))\n",
    "print(\"scipy '*' with AD:\\n\",ad.apply_linear_mapping(m1,v))"
   ]
  },
  {
   "cell_type": "code",
   "execution_count": 8,
   "metadata": {
    "execution": {
     "iopub.execute_input": "2024-04-30T08:46:36.479385Z",
     "iopub.status.busy": "2024-04-30T08:46:36.479301Z",
     "iopub.status.idle": "2024-04-30T08:46:36.481425Z",
     "shell.execute_reply": "2024-04-30T08:46:36.481192Z"
    }
   },
   "outputs": [
    {
     "name": "stdout",
     "output_type": "stream",
     "text": [
      "scipy solve with AD :\n",
      " denseAD([ 0.7291558   0.26936566  0.31996104 -0.09805975],\n",
      "[[ 0.60006067  0.66252011  0.93092156 -0.2395021 ]\n",
      " [-0.28363379  0.45826241  0.71556267  0.94790528]\n",
      " [ 0.34946483  0.19172776 -0.40438629 -0.55208538]\n",
      " [-0.1259526  -0.228377   -0.0277721  -0.05071458]])\n"
     ]
    }
   ],
   "source": [
    "print(\"scipy solve with AD :\\n\",ad.apply_linear_inverse(scipy.sparse.linalg.spsolve,m1,v))"
   ]
  },
  {
   "cell_type": "markdown",
   "metadata": {},
   "source": [
    "## 2. In place modifications and aliasing\n",
    "\n",
    "The AD information often consists of very large arrays. In order to save time and memory, this information is not systematically copied and/or stored fully. It can take the form of a broadcasted array, or of an alias to another array. In that case a copy is necessary to enable modifications."
   ]
  },
  {
   "cell_type": "markdown",
   "metadata": {},
   "source": [
    "### 2.1 Aliasing of the AD information\n",
    "\n",
    "When an operation leaves the AD information untouched, an alias is used. This can lead to bugs if in place modifications are used afterward."
   ]
  },
  {
   "cell_type": "code",
   "execution_count": 9,
   "metadata": {
    "execution": {
     "iopub.execute_input": "2024-04-30T08:46:36.482798Z",
     "iopub.status.busy": "2024-04-30T08:46:36.482717Z",
     "iopub.status.idle": "2024-04-30T08:46:36.484337Z",
     "shell.execute_reply": "2024-04-30T08:46:36.484107Z"
    }
   },
   "outputs": [],
   "source": [
    "x=ad.Dense.identity(constant=np.array([1.,2.]))\n",
    "y=x+1 # Only affects the value, not the AD information"
   ]
  },
  {
   "cell_type": "code",
   "execution_count": 10,
   "metadata": {
    "execution": {
     "iopub.execute_input": "2024-04-30T08:46:36.485590Z",
     "iopub.status.busy": "2024-04-30T08:46:36.485512Z",
     "iopub.status.idle": "2024-04-30T08:46:36.487207Z",
     "shell.execute_reply": "2024-04-30T08:46:36.486981Z"
    }
   },
   "outputs": [
    {
     "name": "stdout",
     "output_type": "stream",
     "text": [
      "Values are distinct : False\n",
      "AD information is shared : True\n"
     ]
    }
   ],
   "source": [
    "print(\"Values are distinct :\", x.value is y.value)\n",
    "print(\"AD information is shared :\", y.coef is x.coef)"
   ]
  },
  {
   "cell_type": "markdown",
   "metadata": {},
   "source": [
    "A modification of the aliased variable will impact the original one."
   ]
  },
  {
   "cell_type": "code",
   "execution_count": 11,
   "metadata": {
    "execution": {
     "iopub.execute_input": "2024-04-30T08:46:36.488573Z",
     "iopub.status.busy": "2024-04-30T08:46:36.488478Z",
     "iopub.status.idle": "2024-04-30T08:46:36.490467Z",
     "shell.execute_reply": "2024-04-30T08:46:36.490206Z"
    }
   },
   "outputs": [
    {
     "name": "stdout",
     "output_type": "stream",
     "text": [
      "denseAD(1.0,[1. 0.])\n",
      "Caution ! Shared AD information is affected : denseAD(1.0,[2. 0.])\n"
     ]
    }
   ],
   "source": [
    "print(x[0])\n",
    "y[0]*=2\n",
    "print(\"Caution ! Shared AD information is affected :\", x[0])"
   ]
  },
  {
   "cell_type": "markdown",
   "metadata": {},
   "source": [
    "Avoid this effect by making a copy."
   ]
  },
  {
   "cell_type": "code",
   "execution_count": 12,
   "metadata": {
    "execution": {
     "iopub.execute_input": "2024-04-30T08:46:36.491861Z",
     "iopub.status.busy": "2024-04-30T08:46:36.491761Z",
     "iopub.status.idle": "2024-04-30T08:46:36.493678Z",
     "shell.execute_reply": "2024-04-30T08:46:36.493459Z"
    }
   },
   "outputs": [
    {
     "name": "stdout",
     "output_type": "stream",
     "text": [
      "AD information is distinct : False\n"
     ]
    }
   ],
   "source": [
    "x=ad.Dense.identity(constant=np.array([1.,2.]))\n",
    "y=(x+1).copy()\n",
    "print(\"AD information is distinct :\", y.coef is x.coef)"
   ]
  },
  {
   "cell_type": "markdown",
   "metadata": {},
   "source": [
    "Note that a similar effect arises with the `-` binary operator, but not with `*`or `/`. That is because the latter modify the AD information, which therefore must be copied anyway."
   ]
  },
  {
   "cell_type": "code",
   "execution_count": 13,
   "metadata": {
    "execution": {
     "iopub.execute_input": "2024-04-30T08:46:36.495201Z",
     "iopub.status.busy": "2024-04-30T08:46:36.495101Z",
     "iopub.status.idle": "2024-04-30T08:46:36.497174Z",
     "shell.execute_reply": "2024-04-30T08:46:36.496946Z"
    }
   },
   "outputs": [
    {
     "name": "stdout",
     "output_type": "stream",
     "text": [
      "AD information is shared : True\n",
      "AD information is distinct : False\n",
      "AD information is distinct : False\n"
     ]
    }
   ],
   "source": [
    "x=ad.Dense.identity(constant=np.array([1.,2.]))\n",
    "print(\"AD information is shared :\", (x-1).coef is x.coef)\n",
    "print(\"AD information is distinct :\", (x*2).coef is x.coef)\n",
    "print(\"AD information is distinct :\", (x/2).coef is x.coef)"
   ]
  },
  {
   "cell_type": "markdown",
   "metadata": {},
   "source": [
    "### 2.2 Non writeable AD information\n",
    "\n",
    "When creating an dense AD variable, the coefficients may be non writeable (e.g. broadcasted) arrays."
   ]
  },
  {
   "cell_type": "code",
   "execution_count": 14,
   "metadata": {
    "execution": {
     "iopub.execute_input": "2024-04-30T08:46:36.498500Z",
     "iopub.status.busy": "2024-04-30T08:46:36.498402Z",
     "iopub.status.idle": "2024-04-30T08:46:36.500226Z",
     "shell.execute_reply": "2024-04-30T08:46:36.500019Z"
    }
   },
   "outputs": [],
   "source": [
    "x=ad.Dense.identity(constant=np.array([[1.,2.],[3.,4.]]),shape_bound=(2,))"
   ]
  },
  {
   "cell_type": "code",
   "execution_count": 15,
   "metadata": {
    "execution": {
     "iopub.execute_input": "2024-04-30T08:46:36.501541Z",
     "iopub.status.busy": "2024-04-30T08:46:36.501438Z",
     "iopub.status.idle": "2024-04-30T08:46:36.504376Z",
     "shell.execute_reply": "2024-04-30T08:46:36.504113Z"
    }
   },
   "outputs": [
    {
     "data": {
      "text/plain": [
       "False"
      ]
     },
     "execution_count": 15,
     "metadata": {},
     "output_type": "execute_result"
    }
   ],
   "source": [
    "x.coef.flags.writeable"
   ]
  },
  {
   "cell_type": "code",
   "execution_count": 16,
   "metadata": {
    "execution": {
     "iopub.execute_input": "2024-04-30T08:46:36.505750Z",
     "iopub.status.busy": "2024-04-30T08:46:36.505656Z",
     "iopub.status.idle": "2024-04-30T08:46:36.507180Z",
     "shell.execute_reply": "2024-04-30T08:46:36.506921Z"
    }
   },
   "outputs": [],
   "source": [
    "# x+=1 # Fails because non-writeable"
   ]
  },
  {
   "cell_type": "markdown",
   "metadata": {},
   "source": [
    "Make a copy to solve the issue."
   ]
  },
  {
   "cell_type": "code",
   "execution_count": 17,
   "metadata": {
    "execution": {
     "iopub.execute_input": "2024-04-30T08:46:36.508566Z",
     "iopub.status.busy": "2024-04-30T08:46:36.508483Z",
     "iopub.status.idle": "2024-04-30T08:46:36.510098Z",
     "shell.execute_reply": "2024-04-30T08:46:36.509877Z"
    }
   },
   "outputs": [],
   "source": [
    "y=x.copy()"
   ]
  },
  {
   "cell_type": "code",
   "execution_count": 18,
   "metadata": {
    "execution": {
     "iopub.execute_input": "2024-04-30T08:46:36.511379Z",
     "iopub.status.busy": "2024-04-30T08:46:36.511299Z",
     "iopub.status.idle": "2024-04-30T08:46:36.513249Z",
     "shell.execute_reply": "2024-04-30T08:46:36.513010Z"
    }
   },
   "outputs": [
    {
     "data": {
      "text/plain": [
       "True"
      ]
     },
     "execution_count": 18,
     "metadata": {},
     "output_type": "execute_result"
    }
   ],
   "source": [
    "y.coef.flags.writeable"
   ]
  },
  {
   "cell_type": "code",
   "execution_count": 19,
   "metadata": {
    "execution": {
     "iopub.execute_input": "2024-04-30T08:46:36.514568Z",
     "iopub.status.busy": "2024-04-30T08:46:36.514488Z",
     "iopub.status.idle": "2024-04-30T08:46:36.516018Z",
     "shell.execute_reply": "2024-04-30T08:46:36.515793Z"
    }
   },
   "outputs": [],
   "source": [
    "y+=1"
   ]
  },
  {
   "cell_type": "markdown",
   "metadata": {},
   "source": [
    "## 3. CPU/GPU generic programming\n",
    "\n",
    "The agd library allows CPU/GPU generic programming to some extent. Here are the guidelines to make this approach work.\n",
    "\n",
    "*Make a copy of the numpy array module*"
   ]
  },
  {
   "cell_type": "code",
   "execution_count": 20,
   "metadata": {
    "execution": {
     "iopub.execute_input": "2024-04-30T08:46:36.517324Z",
     "iopub.status.busy": "2024-04-30T08:46:36.517245Z",
     "iopub.status.idle": "2024-04-30T08:46:36.518907Z",
     "shell.execute_reply": "2024-04-30T08:46:36.518597Z"
    }
   },
   "outputs": [],
   "source": [
    "xp = np "
   ]
  },
  {
   "cell_type": "markdown",
   "metadata": {},
   "source": [
    "*Activate GPU acceleration.*\n",
    "If uncommented, the following line will replace the module xp with np, and modify its other arguments in a custom manner intended for easy interaction."
   ]
  },
  {
   "cell_type": "code",
   "execution_count": 21,
   "metadata": {
    "execution": {
     "iopub.execute_input": "2024-04-30T08:46:36.520245Z",
     "iopub.status.busy": "2024-04-30T08:46:36.520168Z",
     "iopub.status.idle": "2024-04-30T08:46:36.521646Z",
     "shell.execute_reply": "2024-04-30T08:46:36.521422Z"
    },
    "tags": [
     "GPU_config"
    ]
   },
   "outputs": [],
   "source": [
    "#xp,plt = map(ad.cupy_friendly,[xp,plt])"
   ]
  },
  {
   "cell_type": "markdown",
   "metadata": {},
   "source": [
    "*Create basic arrays using `xp`.* Basic arrays are arrays of zeros, of ones, arange, linspace, etc"
   ]
  },
  {
   "cell_type": "code",
   "execution_count": 22,
   "metadata": {
    "execution": {
     "iopub.execute_input": "2024-04-30T08:46:36.522941Z",
     "iopub.status.busy": "2024-04-30T08:46:36.522843Z",
     "iopub.status.idle": "2024-04-30T08:46:36.524465Z",
     "shell.execute_reply": "2024-04-30T08:46:36.524247Z"
    }
   },
   "outputs": [],
   "source": [
    "x = xp.linspace(0,2*np.pi)"
   ]
  },
  {
   "cell_type": "markdown",
   "metadata": {},
   "source": [
    "*Use numpy's overloading mechanisms.* These mechanisms will dispatch the function calls to cupy, or to the AutomaticDifferentiation module of the agd library, depending on the data type (array from numpy, cupy, or ad)."
   ]
  },
  {
   "cell_type": "code",
   "execution_count": 23,
   "metadata": {
    "execution": {
     "iopub.execute_input": "2024-04-30T08:46:36.525814Z",
     "iopub.status.busy": "2024-04-30T08:46:36.525730Z",
     "iopub.status.idle": "2024-04-30T08:46:36.527323Z",
     "shell.execute_reply": "2024-04-30T08:46:36.527105Z"
    }
   },
   "outputs": [],
   "source": [
    "y = np.sin(x)"
   ]
  },
  {
   "cell_type": "markdown",
   "metadata": {},
   "source": [
    "*Use `ad.asarray` and `ad.array`.* Stacking arrays using np.array will not work for AD or cupy arrays."
   ]
  },
  {
   "cell_type": "code",
   "execution_count": 24,
   "metadata": {
    "execution": {
     "iopub.execute_input": "2024-04-30T08:46:36.528630Z",
     "iopub.status.busy": "2024-04-30T08:46:36.528556Z",
     "iopub.status.idle": "2024-04-30T08:46:36.530162Z",
     "shell.execute_reply": "2024-04-30T08:46:36.529945Z"
    }
   },
   "outputs": [],
   "source": [
    "xy = ad.array([x,y])"
   ]
  },
  {
   "cell_type": "markdown",
   "metadata": {},
   "source": [
    "*Use functions that accept both numpy and cupy arrays.* Or modify them for that purpose, as we did for the member functions of the pyplot module using the `ad.cupy_friendly` function."
   ]
  },
  {
   "cell_type": "code",
   "execution_count": 25,
   "metadata": {
    "execution": {
     "iopub.execute_input": "2024-04-30T08:46:36.531509Z",
     "iopub.status.busy": "2024-04-30T08:46:36.531436Z",
     "iopub.status.idle": "2024-04-30T08:46:36.593579Z",
     "shell.execute_reply": "2024-04-30T08:46:36.593308Z"
    }
   },
   "outputs": [
    {
     "data": {
      "image/png": "[encoded data removed]",
      "text/plain": [
       "<Figure size 640x480 with 1 Axes>"
      ]
     },
     "metadata": {},
     "output_type": "display_data"
    }
   ],
   "source": [
    "plt.plot(*xy);"
   ]
  },
  {
   "cell_type": "markdown",
   "metadata": {},
   "source": [
    "*If needed, convert cupy array's to numpy arrays.* Using the `get` member function of the `cupy.ndarray` class, or using `ad.cupy_generic.cupy_get` (which leaves non-cupy variables unchanged)."
   ]
  },
  {
   "cell_type": "code",
   "execution_count": 26,
   "metadata": {
    "execution": {
     "iopub.execute_input": "2024-04-30T08:46:36.595141Z",
     "iopub.status.busy": "2024-04-30T08:46:36.595035Z",
     "iopub.status.idle": "2024-04-30T08:46:36.597328Z",
     "shell.execute_reply": "2024-04-30T08:46:36.597059Z"
    }
   },
   "outputs": [
    {
     "data": {
      "text/plain": [
       "numpy.ndarray"
      ]
     },
     "execution_count": 26,
     "metadata": {},
     "output_type": "execute_result"
    }
   ],
   "source": [
    "type(ad.cupy_generic.cupy_get(y))"
   ]
  },
  {
   "cell_type": "code",
   "execution_count": null,
   "metadata": {},
   "outputs": [],
   "source": []
  }
 ],
 "metadata": {
  "celltoolbar": "Format de la Cellule Texte Brut",
  "kernelspec": {
   "display_name": "Python 3 (ipykernel)",
   "language": "python",
   "name": "python3"
  },
  "language_info": {
   "codemirror_mode": {
    "name": "ipython",
    "version": 3
   },
   "file_extension": ".py",
   "mimetype": "text/x-python",
   "name": "python",
   "nbconvert_exporter": "python",
   "pygments_lexer": "ipython3",
   "version": "3.10.8"
  },
  "varInspector": {
   "cols": {
    "lenName": 16,
    "lenType": 16,
    "lenVar": 40
   },
   "kernels_config": {
    "python": {
     "delete_cmd_postfix": "",
     "delete_cmd_prefix": "del ",
     "library": "var_list.py",
     "varRefreshCmd": "print(var_dic_list())"
    },
    "r": {
     "delete_cmd_postfix": ") ",
     "delete_cmd_prefix": "rm(",
     "library": "var_list.r",
     "varRefreshCmd": "cat(var_dic_list()) "
    }
   },
   "types_to_exclude": [
    "module",
    "function",
    "builtin_function_or_method",
    "instance",
    "_Feature"
   ],
   "window_display": false
  }
 },
 "nbformat": 4,
 "nbformat_minor": 2
}

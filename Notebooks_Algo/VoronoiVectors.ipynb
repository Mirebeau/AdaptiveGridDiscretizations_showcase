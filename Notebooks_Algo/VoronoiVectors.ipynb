{
 "cells": [
  {
   "cell_type": "markdown",
   "metadata": {},
   "source": [
    "# Adaptive PDE discretizations on cartesian grids\n",
    "## Volume : Algorithmic tools\n",
    "## Part : Generalized acuteness\n",
    "## Chapter : Riemannian norms and the Voronoi vectors"
   ]
  },
  {
   "cell_type": "markdown",
   "metadata": {},
   "source": [
    "This notebook illustrates a construction of acute stencils applicable to two and three dimensional Riemannian metrics. It allows to compute Riemannian distance maps, by solving the corresponding eikonal equations, efficiently in a single pass over the discretization set, using the Fast-Marching method, a Dijkstra-like algorithm. The present notebook is only illustrative, as this algorithms are more efficiently implemented in C++, due to its serial nature.\n",
    "\n",
    "The stencil construction presented in this notebook is based on the following mathematical tools:\n",
    "* Voronoi vectors. Those vectors $e\\in Z^d \\setminus \\{0\\}$ whose Voronoi cell intersects the Voronoi cell of the origin. \n",
    "* The notion of acute angle associated with a scalar product.\n",
    "\n",
    "Here the scalar product and norm on $R^d$ are associated with a $d\\times d$ symmetric positive definite matrix $M$, and defined as follows:\n",
    "$$\n",
    "    <u,v>_M := <u,Mv> \\qquad \\|u\\|_M := \\sqrt{<u,M u>}\n",
    "$$\n",
    "\n",
    "**Comparison with the Stern-Brocot based stencils.**\n",
    "Another stencil construction is presented in the notebook [SternBrocot](SternBrocot.ipynb). This one distinguishes itself on the following points:\n",
    "* It only applies to *Riemannian* metric. In constrast, the other construction extends to *Finslerian* metrics.\n",
    "* It applies in dimension $3$. In constrast, the other construction is limited to dimension two.\n",
    "\n",
    "**Academic publication.** The contents of this notebooks are related with the following publication:\n",
    "* Mirebeau, J.-M. (2014). Anisotropic Fast-Marching on cartesian grids using Lattice Basis Reduction. SIAM Journal on Numerical Analysis, 52(4), 1573–1599."
   ]
  },
  {
   "cell_type": "markdown",
   "metadata": {},
   "source": [
    "[**Summary**](Summary.ipynb) of volume Algorithmic tools, this series of notebooks.\n",
    "\n",
    "[**Main summary**](../Summary.ipynb) of the Adaptive Grid Discretizations \n",
    "\tbook of notebooks, including the other volumes.\n",
    "\n",
    "# Table of contents\n",
    "  * [1. Stencil and acuteness](#1.-Stencil-and-acuteness)\n",
    "    * [1.1 Two dimensional stencils](#1.1-Two-dimensional-stencils)\n",
    "    * [1.2 Three dimensional stencils](#1.2-Three-dimensional-stencils)\n",
    "  * [2. Two dimensional construction](#2.-Two-dimensional-construction)\n",
    "  * [3. Three dimensional construction](#3.-Three-dimensional-construction)\n",
    "\n",
    "\n",
    "\n",
    "**Acknowledgement.** The experiments presented in these notebooks are part of ongoing research, \n",
    "some of it with PhD student Guillaume Bonnet, in co-direction with Frederic Bonnans, \n",
    "and PhD student François Desquilbet, in co-direction with Ludovic Métivier.\n",
    "\n",
    "Copyright Jean-Marie Mirebeau, Centre Borelli, ENS Paris-Saclay, CNRS, University Paris-Saclay"
   ]
  },
  {
   "cell_type": "markdown",
   "metadata": {},
   "source": [
    "## 0. Importing the required libraries"
   ]
  },
  {
   "cell_type": "code",
   "execution_count": 1,
   "metadata": {
    "execution": {
     "iopub.execute_input": "2021-12-09T21:26:37.421127Z",
     "iopub.status.busy": "2021-12-09T21:26:37.420494Z",
     "iopub.status.idle": "2021-12-09T21:26:37.424064Z",
     "shell.execute_reply": "2021-12-09T21:26:37.424496Z"
    }
   },
   "outputs": [],
   "source": [
    "import sys; sys.path.insert(0,\"..\") # Allow import of agd from parent directory (useless if conda package installed)\n",
    "#from Miscellaneous import TocTools; print(TocTools.displayTOC('VoronoiVectors','Algo'))"
   ]
  },
  {
   "cell_type": "code",
   "execution_count": 2,
   "metadata": {
    "execution": {
     "iopub.execute_input": "2021-12-09T21:26:37.428207Z",
     "iopub.status.busy": "2021-12-09T21:26:37.427689Z",
     "iopub.status.idle": "2021-12-09T21:26:37.581778Z",
     "shell.execute_reply": "2021-12-09T21:26:37.581306Z"
    }
   },
   "outputs": [],
   "source": [
    "from agd.Metrics import Riemann\n",
    "from agd import Selling\n",
    "from agd import LinearParallel as lp\n",
    "from agd import FiniteDifferences as fd"
   ]
  },
  {
   "cell_type": "code",
   "execution_count": 3,
   "metadata": {
    "execution": {
     "iopub.execute_input": "2021-12-09T21:26:37.585561Z",
     "iopub.status.busy": "2021-12-09T21:26:37.584862Z",
     "iopub.status.idle": "2021-12-09T21:26:38.490377Z",
     "shell.execute_reply": "2021-12-09T21:26:38.490824Z"
    }
   },
   "outputs": [],
   "source": [
    "import numpy as np\n",
    "from matplotlib import pyplot as plt\n",
    "import itertools"
   ]
  },
  {
   "cell_type": "markdown",
   "metadata": {},
   "source": [
    "## 1. Stencil and acuteness\n",
    "\n",
    "In the context of semi-Lagrangian discretizations of eikonal equations, a stencil at a discretization point $x$ is defined as a polygonal surface enclosing $x$, whose vertices are also discretization points.\n",
    "\n",
    "We specialize to cartesian grids discretizations, and assume w.l.o.g. that the discretization point considered is the origin. Up to rescaling, the polygonal surface vertices should therefore lie on $Z^d$.\n",
    "With these conventions the stencil is said *acute*, w.r.t. the scalar product associated to a matrix $M$, iff for any vertices $u,v$ of a common facet of the polygonal surface one has \n",
    "$$\n",
    "    <u,M v> \\, \\geq 0.\n",
    "$$"
   ]
  },
  {
   "cell_type": "code",
   "execution_count": 4,
   "metadata": {
    "execution": {
     "iopub.execute_input": "2021-12-09T21:26:38.495271Z",
     "iopub.status.busy": "2021-12-09T21:26:38.494738Z",
     "iopub.status.idle": "2021-12-09T21:26:38.496892Z",
     "shell.execute_reply": "2021-12-09T21:26:38.497367Z"
    }
   },
   "outputs": [],
   "source": [
    "direction2 = [np.cos(np.pi/6),np.sin(np.pi/6)] # Arbitrary non-zero vector\n",
    "direction3 = [1.5,4.2,10.7] # Arbitrary non-zero vector"
   ]
  },
  {
   "cell_type": "code",
   "execution_count": 5,
   "metadata": {
    "execution": {
     "iopub.execute_input": "2021-12-09T21:26:38.501510Z",
     "iopub.status.busy": "2021-12-09T21:26:38.500973Z",
     "iopub.status.idle": "2021-12-09T21:26:38.503269Z",
     "shell.execute_reply": "2021-12-09T21:26:38.503796Z"
    }
   },
   "outputs": [],
   "source": [
    "aX0 = np.linspace(-1,1); aX1=aX0\n",
    "X = np.array(np.meshgrid(aX0,aX1,indexing='ij')) # Coordinate system"
   ]
  },
  {
   "cell_type": "markdown",
   "metadata": {},
   "source": [
    "### 1.1 Two dimensional stencils\n",
    "\n",
    "We represent two dimensional stencils as a list of vectors. The $4$-element diamond stencil, and $8$-element square stencil are most classical."
   ]
  },
  {
   "cell_type": "code",
   "execution_count": 6,
   "metadata": {
    "execution": {
     "iopub.execute_input": "2021-12-09T21:26:38.508163Z",
     "iopub.status.busy": "2021-12-09T21:26:38.507525Z",
     "iopub.status.idle": "2021-12-09T21:26:38.509536Z",
     "shell.execute_reply": "2021-12-09T21:26:38.509962Z"
    }
   },
   "outputs": [],
   "source": [
    "e0,e1=np.eye(2)\n",
    "diamond2 = [e0,e1,-e0,-e1,e0]\n",
    "box2 = [e0,e0+e1,e1,e1-e0,-e0,-e0-e1,-e1,-e1+e0,e0]"
   ]
  },
  {
   "cell_type": "code",
   "execution_count": 7,
   "metadata": {
    "execution": {
     "iopub.execute_input": "2021-12-09T21:26:38.514050Z",
     "iopub.status.busy": "2021-12-09T21:26:38.513540Z",
     "iopub.status.idle": "2021-12-09T21:26:38.515665Z",
     "shell.execute_reply": "2021-12-09T21:26:38.516093Z"
    }
   },
   "outputs": [],
   "source": [
    "def PlotStencil2(stencil):\n",
    "    plt.plot(*np.array(stencil).T)\n",
    "    plt.scatter(*np.array(stencil).T)\n",
    "    plt.scatter(0,0,color='black')"
   ]
  },
  {
   "cell_type": "code",
   "execution_count": 8,
   "metadata": {
    "execution": {
     "iopub.execute_input": "2021-12-09T21:26:38.527184Z",
     "iopub.status.busy": "2021-12-09T21:26:38.520104Z",
     "iopub.status.idle": "2021-12-09T21:26:38.841120Z",
     "shell.execute_reply": "2021-12-09T21:26:38.841561Z"
    }
   },
   "outputs": [
    {
     "data": {
      "image/png": "[encoded data removed]",
      "text/plain": [
       "<Figure size 864x288 with 2 Axes>"
      ]
     },
     "metadata": {
      "needs_background": "light"
     },
     "output_type": "display_data"
    }
   ],
   "source": [
    "plt.figure(figsize=[12,4])\n",
    "plt.subplot(1,2,1)\n",
    "plt.title(\"Diamond stencil\"); plt.axis('equal')\n",
    "PlotStencil2(diamond2)\n",
    "plt.subplot(1,2,2)\n",
    "plt.title(\"Square stencil\"); plt.axis('equal')\n",
    "PlotStencil2(box2)"
   ]
  },
  {
   "cell_type": "markdown",
   "metadata": {},
   "source": [
    "We can compute th minimum scalar product between consecutive elements of a stencil."
   ]
  },
  {
   "cell_type": "code",
   "execution_count": 9,
   "metadata": {
    "execution": {
     "iopub.execute_input": "2021-12-09T21:26:38.846486Z",
     "iopub.status.busy": "2021-12-09T21:26:38.845897Z",
     "iopub.status.idle": "2021-12-09T21:26:38.848244Z",
     "shell.execute_reply": "2021-12-09T21:26:38.847796Z"
    }
   },
   "outputs": [],
   "source": [
    "def MinStencilScal2(stencil,m):\n",
    "    s = np.array(stencil[:-1]).T\n",
    "    m=np.expand_dims(m,axis=2)\n",
    "    return lp.dot_VAV(s,m,np.roll(s,axis=1,shift=1)).min()"
   ]
  },
  {
   "cell_type": "markdown",
   "metadata": {},
   "source": [
    "Both the diamond and the box stencil are *acute*, a.k.a. the minimal scalar product is non-negative."
   ]
  },
  {
   "cell_type": "code",
   "execution_count": 10,
   "metadata": {
    "execution": {
     "iopub.execute_input": "2021-12-09T21:26:38.853575Z",
     "iopub.status.busy": "2021-12-09T21:26:38.852889Z",
     "iopub.status.idle": "2021-12-09T21:26:38.856153Z",
     "shell.execute_reply": "2021-12-09T21:26:38.855717Z"
    }
   },
   "outputs": [
    {
     "data": {
      "text/plain": [
       "(0.0, 1.0)"
      ]
     },
     "execution_count": 10,
     "metadata": {},
     "output_type": "execute_result"
    }
   ],
   "source": [
    "MinStencilScal2(diamond2,np.eye(2)), MinStencilScal2(box2,np.eye(2))"
   ]
  },
  {
   "cell_type": "markdown",
   "metadata": {},
   "source": [
    "However, as soon as some non-diagonal anisotropy is introduced, the diamond stencil looses acuteness.\n",
    "The matrix corresponding to a needle-like Riemannian norm has two eigenspaces: the line spanned by the given direction, and the orthogonal space. The corresponding two eigenvalues are prescribed as parameters."
   ]
  },
  {
   "cell_type": "code",
   "execution_count": 11,
   "metadata": {
    "execution": {
     "iopub.execute_input": "2021-12-09T21:26:38.860202Z",
     "iopub.status.busy": "2021-12-09T21:26:38.859683Z",
     "iopub.status.idle": "2021-12-09T21:26:38.861652Z",
     "shell.execute_reply": "2021-12-09T21:26:38.862118Z"
    }
   },
   "outputs": [],
   "source": [
    "riemann2_2 = Riemann.needle(direction2,1,2)"
   ]
  },
  {
   "cell_type": "code",
   "execution_count": 12,
   "metadata": {
    "execution": {
     "iopub.execute_input": "2021-12-09T21:26:38.866191Z",
     "iopub.status.busy": "2021-12-09T21:26:38.865168Z",
     "iopub.status.idle": "2021-12-09T21:26:38.869406Z",
     "shell.execute_reply": "2021-12-09T21:26:38.868893Z"
    }
   },
   "outputs": [
    {
     "data": {
      "text/plain": [
       "(-1.299038105676658, 0.45096189432334155)"
      ]
     },
     "execution_count": 12,
     "metadata": {},
     "output_type": "execute_result"
    }
   ],
   "source": [
    "MinStencilScal2(diamond2,riemann2_2.m), MinStencilScal2(box2,riemann2_2.m)"
   ]
  },
  {
   "cell_type": "markdown",
   "metadata": {},
   "source": [
    "The box stencil looses acuteness when anisotropy becomes more pronounced."
   ]
  },
  {
   "cell_type": "code",
   "execution_count": 13,
   "metadata": {
    "execution": {
     "iopub.execute_input": "2021-12-09T21:26:38.872732Z",
     "iopub.status.busy": "2021-12-09T21:26:38.872220Z",
     "iopub.status.idle": "2021-12-09T21:26:38.875099Z",
     "shell.execute_reply": "2021-12-09T21:26:38.874657Z"
    }
   },
   "outputs": [],
   "source": [
    "riemann2_3 = Riemann.needle(direction2,1,3)"
   ]
  },
  {
   "cell_type": "code",
   "execution_count": 14,
   "metadata": {
    "execution": {
     "iopub.execute_input": "2021-12-09T21:26:38.879101Z",
     "iopub.status.busy": "2021-12-09T21:26:38.877867Z",
     "iopub.status.idle": "2021-12-09T21:26:38.882272Z",
     "shell.execute_reply": "2021-12-09T21:26:38.881747Z"
    }
   },
   "outputs": [
    {
     "data": {
      "text/plain": [
       "(-3.4641016151377544, -0.4641016151377553)"
      ]
     },
     "execution_count": 14,
     "metadata": {},
     "output_type": "execute_result"
    }
   ],
   "source": [
    "MinStencilScal2(diamond2,riemann2_3.m), MinStencilScal2(box2,riemann2_3.m)"
   ]
  },
  {
   "cell_type": "code",
   "execution_count": 15,
   "metadata": {
    "execution": {
     "iopub.execute_input": "2021-12-09T21:26:38.942671Z",
     "iopub.status.busy": "2021-12-09T21:26:38.887483Z",
     "iopub.status.idle": "2021-12-09T21:26:39.194469Z",
     "shell.execute_reply": "2021-12-09T21:26:39.195042Z"
    }
   },
   "outputs": [
    {
     "data": {
      "image/png": "[encoded data removed]",
      "text/plain": [
       "<Figure size 864x288 with 2 Axes>"
      ]
     },
     "metadata": {
      "needs_background": "light"
     },
     "output_type": "display_data"
    }
   ],
   "source": [
    "plt.figure(figsize=[12,4])\n",
    "plt.subplot(1,2,1)\n",
    "plt.title(\"Box stencil is acute\"); plt.axis('equal')\n",
    "plt.contourf(*X,riemann2_2.norm(X),levels=[0.,1.]); plt.scatter(0,0,color='black'); \n",
    "plt.subplot(1,2,2)\n",
    "plt.title(\"Box stencil is not acute\"); plt.axis('equal')\n",
    "plt.contourf(*X,riemann2_3.norm(X),levels=[0.,1.]); plt.scatter(0,0,color='black'); "
   ]
  },
  {
   "cell_type": "markdown",
   "metadata": {},
   "source": [
    "### 1.2 Three dimensional stencils\n",
    "\n",
    "We describe a three dimensional stencil as a set of triangles. The diamond and box stencils admit obvious generalizations, with 8 and 48 triangules respectively."
   ]
  },
  {
   "cell_type": "code",
   "execution_count": 16,
   "metadata": {
    "execution": {
     "iopub.execute_input": "2021-12-09T21:26:39.202634Z",
     "iopub.status.busy": "2021-12-09T21:26:39.202117Z",
     "iopub.status.idle": "2021-12-09T21:26:39.204068Z",
     "shell.execute_reply": "2021-12-09T21:26:39.204497Z"
    }
   },
   "outputs": [],
   "source": [
    "e0,e1,e2 = np.eye(3)\n",
    "diamond3 = [[e0*s0,e1*s1,e2*s2] for s0,s1,s2 in itertools.product([-1,1],repeat=3)]\n",
    "box3 = [ [u*su, u*su+v*sv, u*su+v*sv+w*sw] \n",
    "        for u,v,w in itertools.permutations([e0,e1,e2]) \n",
    "        for su,sv,sw in itertools.product([-1,1],repeat=3)]"
   ]
  },
  {
   "cell_type": "code",
   "execution_count": 17,
   "metadata": {
    "execution": {
     "iopub.execute_input": "2021-12-09T21:26:39.208573Z",
     "iopub.status.busy": "2021-12-09T21:26:39.207993Z",
     "iopub.status.idle": "2021-12-09T21:26:39.210736Z",
     "shell.execute_reply": "2021-12-09T21:26:39.211163Z"
    }
   },
   "outputs": [
    {
     "data": {
      "text/plain": [
       "(8, 48)"
      ]
     },
     "execution_count": 17,
     "metadata": {},
     "output_type": "execute_result"
    }
   ],
   "source": [
    "len(diamond3),len(box3)"
   ]
  },
  {
   "cell_type": "code",
   "execution_count": 18,
   "metadata": {
    "execution": {
     "iopub.execute_input": "2021-12-09T21:26:39.215635Z",
     "iopub.status.busy": "2021-12-09T21:26:39.215111Z",
     "iopub.status.idle": "2021-12-09T21:26:39.217135Z",
     "shell.execute_reply": "2021-12-09T21:26:39.217609Z"
    }
   },
   "outputs": [],
   "source": [
    "def MinStencilScal3(stencil,m):\n",
    "    def MinFacet(u,v,w):\n",
    "        return min(lp.dot_VAV(u,m,v),lp.dot_VAV(v,m,w),lp.dot_VAV(w,m,u))\n",
    "    return min(MinFacet(*s) for s in stencil)"
   ]
  },
  {
   "cell_type": "markdown",
   "metadata": {},
   "source": [
    "Again, the diamond and box stencils are acute for the isotropic metric."
   ]
  },
  {
   "cell_type": "code",
   "execution_count": 19,
   "metadata": {
    "execution": {
     "iopub.execute_input": "2021-12-09T21:26:39.226367Z",
     "iopub.status.busy": "2021-12-09T21:26:39.225817Z",
     "iopub.status.idle": "2021-12-09T21:26:39.228508Z",
     "shell.execute_reply": "2021-12-09T21:26:39.229017Z"
    }
   },
   "outputs": [
    {
     "data": {
      "text/plain": [
       "(0.0, 1.0)"
      ]
     },
     "execution_count": 19,
     "metadata": {},
     "output_type": "execute_result"
    }
   ],
   "source": [
    "MinStencilScal3(diamond3,np.eye(3)),MinStencilScal3(box3,np.eye(3))"
   ]
  },
  {
   "cell_type": "markdown",
   "metadata": {},
   "source": [
    "Acuteness of the diamond stencil is immediately lost for non-diagonal anisotropies."
   ]
  },
  {
   "cell_type": "code",
   "execution_count": 20,
   "metadata": {
    "execution": {
     "iopub.execute_input": "2021-12-09T21:26:39.232862Z",
     "iopub.status.busy": "2021-12-09T21:26:39.232351Z",
     "iopub.status.idle": "2021-12-09T21:26:39.234298Z",
     "shell.execute_reply": "2021-12-09T21:26:39.234754Z"
    }
   },
   "outputs": [],
   "source": [
    "riemann3_2 = Riemann.needle(direction3,1,2)"
   ]
  },
  {
   "cell_type": "code",
   "execution_count": 21,
   "metadata": {
    "execution": {
     "iopub.execute_input": "2021-12-09T21:26:39.243086Z",
     "iopub.status.busy": "2021-12-09T21:26:39.242565Z",
     "iopub.status.idle": "2021-12-09T21:26:39.245925Z",
     "shell.execute_reply": "2021-12-09T21:26:39.245322Z"
    }
   },
   "outputs": [
    {
     "data": {
      "text/plain": [
       "(-1.0032742967703527, 0.08245274594433738)"
      ]
     },
     "execution_count": 21,
     "metadata": {},
     "output_type": "execute_result"
    }
   ],
   "source": [
    "MinStencilScal3(diamond3,riemann3_2.m),MinStencilScal3(box3,riemann3_2.m)"
   ]
  },
  {
   "cell_type": "markdown",
   "metadata": {},
   "source": [
    "Acuteness for the box stencil only holds for very moderate anisotropies."
   ]
  },
  {
   "cell_type": "code",
   "execution_count": 22,
   "metadata": {
    "execution": {
     "iopub.execute_input": "2021-12-09T21:26:39.249714Z",
     "iopub.status.busy": "2021-12-09T21:26:39.249204Z",
     "iopub.status.idle": "2021-12-09T21:26:39.251198Z",
     "shell.execute_reply": "2021-12-09T21:26:39.251625Z"
    }
   },
   "outputs": [],
   "source": [
    "riemann3_3 = Riemann.needle(direction3,1,3)"
   ]
  },
  {
   "cell_type": "code",
   "execution_count": 23,
   "metadata": {
    "execution": {
     "iopub.execute_input": "2021-12-09T21:26:39.260210Z",
     "iopub.status.busy": "2021-12-09T21:26:39.259619Z",
     "iopub.status.idle": "2021-12-09T21:26:39.262450Z",
     "shell.execute_reply": "2021-12-09T21:26:39.262880Z"
    }
   },
   "outputs": [
    {
     "data": {
      "text/plain": [
       "(-2.6753981247209406, -1.446792677481767)"
      ]
     },
     "execution_count": 23,
     "metadata": {},
     "output_type": "execute_result"
    }
   ],
   "source": [
    "MinStencilScal3(diamond3,riemann3_3.m),MinStencilScal3(box3,riemann3_3.m)"
   ]
  },
  {
   "cell_type": "markdown",
   "metadata": {},
   "source": [
    "## 2. Two dimensional construction\n",
    "\n",
    "We propose a stencil construction based on the preliminary computation of an $M$-obtuse superbase, see notebook [Selling](TensorSelling.ipynb).\n",
    "It can be shown that, for generic $M$, the stencil consists of the Voronoi vectors of $Z^2$ for the distance $\\|\\cdot\\|_M$, see the main introduction. \n",
    "\n",
    "The stencil is guaranteed to be acute, and to hold no more than $6$ distinct vertices, for any positive definite matrix $M$. This is independent of the condition number of $M$."
   ]
  },
  {
   "cell_type": "code",
   "execution_count": 24,
   "metadata": {
    "execution": {
     "iopub.execute_input": "2021-12-09T21:26:39.267014Z",
     "iopub.status.busy": "2021-12-09T21:26:39.266487Z",
     "iopub.status.idle": "2021-12-09T21:26:39.268411Z",
     "shell.execute_reply": "2021-12-09T21:26:39.268909Z"
    }
   },
   "outputs": [],
   "source": [
    "def MakeStencil2(m):\n",
    "    e0,e1,e2 = Selling.ObtuseSuperbase(m).T\n",
    "    return [e0,-e2,e1,-e0,e2,-e1,e0]"
   ]
  },
  {
   "cell_type": "code",
   "execution_count": 25,
   "metadata": {
    "execution": {
     "iopub.execute_input": "2021-12-09T21:26:39.272354Z",
     "iopub.status.busy": "2021-12-09T21:26:39.271843Z",
     "iopub.status.idle": "2021-12-09T21:26:39.274096Z",
     "shell.execute_reply": "2021-12-09T21:26:39.274523Z"
    }
   },
   "outputs": [],
   "source": [
    "riemann2_5 = Riemann.needle(direction2,1,5)"
   ]
  },
  {
   "cell_type": "code",
   "execution_count": 26,
   "metadata": {
    "execution": {
     "iopub.execute_input": "2021-12-09T21:26:39.294611Z",
     "iopub.status.busy": "2021-12-09T21:26:39.281716Z",
     "iopub.status.idle": "2021-12-09T21:26:39.424949Z",
     "shell.execute_reply": "2021-12-09T21:26:39.425455Z"
    }
   },
   "outputs": [
    {
     "data": {
      "image/png": "[encoded data removed]",
      "text/plain": [
       "<Figure size 432x288 with 1 Axes>"
      ]
     },
     "metadata": {
      "needs_background": "light"
     },
     "output_type": "display_data"
    }
   ],
   "source": [
    "plt.title(\"Unit ball for a norm of Riemannian type\"); plt.axis('equal')\n",
    "plt.contourf(*X,riemann2_5.norm(X),levels=[0.,1.]); plt.scatter(0,0,color='black'); "
   ]
  },
  {
   "cell_type": "code",
   "execution_count": 27,
   "metadata": {
    "execution": {
     "iopub.execute_input": "2021-12-09T21:26:39.478385Z",
     "iopub.status.busy": "2021-12-09T21:26:39.447615Z",
     "iopub.status.idle": "2021-12-09T21:26:39.600154Z",
     "shell.execute_reply": "2021-12-09T21:26:39.600716Z"
    }
   },
   "outputs": [
    {
     "data": {
      "image/png": "[encoded data removed]",
      "text/plain": [
       "<Figure size 432x288 with 1 Axes>"
      ]
     },
     "metadata": {
      "needs_background": "light"
     },
     "output_type": "display_data"
    }
   ],
   "source": [
    "plt.title(\"Stencil for a norm of Riemannian type\"); plt.axis('equal')\n",
    "PlotStencil2(MakeStencil2(riemann2_5.m)) "
   ]
  },
  {
   "cell_type": "code",
   "execution_count": 28,
   "metadata": {
    "execution": {
     "iopub.execute_input": "2021-12-09T21:26:39.606286Z",
     "iopub.status.busy": "2021-12-09T21:26:39.605659Z",
     "iopub.status.idle": "2021-12-09T21:26:39.609291Z",
     "shell.execute_reply": "2021-12-09T21:26:39.609782Z"
    }
   },
   "outputs": [
    {
     "data": {
      "text/plain": [
       "1.8230854637602008"
      ]
     },
     "execution_count": 28,
     "metadata": {},
     "output_type": "execute_result"
    }
   ],
   "source": [
    "MinStencilScal2(MakeStencil2(riemann2_5.m),riemann2_5.m)"
   ]
  },
  {
   "cell_type": "markdown",
   "metadata": {},
   "source": [
    "## 3. Three dimensional construction\n",
    "\n",
    "We propose a stencil construction based on the preliminary computation of an $M$-obtuse superbase, see notebook [Selling](TensorSelling.ipynb).\n",
    "It can be shown that, for generic $M$, the stencil consists of the Voronoi vectors of $Z^3$ for the distance $\\|\\cdot\\|_M$, see the main introduction. \n",
    "\n",
    "The stencil is guaranteed to be acute, and to hold precisely than $14$ distinct vertices and $24$ facets, for any positive definite matrix $M$. This is independent of the condition number of $M$."
   ]
  },
  {
   "cell_type": "code",
   "execution_count": 29,
   "metadata": {
    "execution": {
     "iopub.execute_input": "2021-12-09T21:26:39.614714Z",
     "iopub.status.busy": "2021-12-09T21:26:39.614121Z",
     "iopub.status.idle": "2021-12-09T21:26:39.616378Z",
     "shell.execute_reply": "2021-12-09T21:26:39.616861Z"
    }
   },
   "outputs": [],
   "source": [
    "def MakeStencil3(m):\n",
    "    e0,e1,e2,e3 = Selling.ObtuseSuperbase(m).T\n",
    "    return [(u,u+v,u+v+w) for u,v,w in itertools.permutations([e0,e1,e2,e3],3)]"
   ]
  },
  {
   "cell_type": "code",
   "execution_count": 30,
   "metadata": {
    "execution": {
     "iopub.execute_input": "2021-12-09T21:26:39.621669Z",
     "iopub.status.busy": "2021-12-09T21:26:39.620774Z",
     "iopub.status.idle": "2021-12-09T21:26:39.623495Z",
     "shell.execute_reply": "2021-12-09T21:26:39.622990Z"
    }
   },
   "outputs": [],
   "source": [
    "riemann3_5 = Riemann.needle(direction3,1,5)"
   ]
  },
  {
   "cell_type": "code",
   "execution_count": 31,
   "metadata": {
    "execution": {
     "iopub.execute_input": "2021-12-09T21:26:39.631387Z",
     "iopub.status.busy": "2021-12-09T21:26:39.630649Z",
     "iopub.status.idle": "2021-12-09T21:26:39.633712Z",
     "shell.execute_reply": "2021-12-09T21:26:39.634178Z"
    }
   },
   "outputs": [
    {
     "data": {
      "text/plain": [
       "1.078434290817091"
      ]
     },
     "execution_count": 31,
     "metadata": {},
     "output_type": "execute_result"
    }
   ],
   "source": [
    "MinStencilScal3(MakeStencil3(riemann3_5.m),riemann3_5.m)"
   ]
  },
  {
   "cell_type": "code",
   "execution_count": 32,
   "metadata": {
    "execution": {
     "iopub.execute_input": "2021-12-09T21:26:39.651524Z",
     "iopub.status.busy": "2021-12-09T21:26:39.637381Z",
     "iopub.status.idle": "2021-12-09T21:26:39.655475Z",
     "shell.execute_reply": "2021-12-09T21:26:39.654995Z"
    }
   },
   "outputs": [
    {
     "data": {
      "text/plain": [
       "[(array([ 0., -1., -2.]), array([-1., -1., -3.]), array([ 0.,  0., -1.])),\n",
       " (array([ 0., -1., -2.]), array([-1., -1., -3.]), array([-1., -1., -2.])),\n",
       " (array([ 0., -1., -2.]), array([1., 0., 0.]), array([ 0.,  0., -1.])),\n",
       " (array([ 0., -1., -2.]), array([1., 0., 0.]), array([1., 0., 1.])),\n",
       " (array([ 0., -1., -2.]), array([ 0., -1., -1.]), array([-1., -1., -2.])),\n",
       " (array([ 0., -1., -2.]), array([ 0., -1., -1.]), array([1., 0., 1.])),\n",
       " (array([-1.,  0., -1.]), array([-1., -1., -3.]), array([ 0.,  0., -1.])),\n",
       " (array([-1.,  0., -1.]), array([-1., -1., -3.]), array([-1., -1., -2.])),\n",
       " (array([-1.,  0., -1.]), array([0., 1., 1.]), array([ 0.,  0., -1.])),\n",
       " (array([-1.,  0., -1.]), array([0., 1., 1.]), array([0., 1., 2.])),\n",
       " (array([-1.,  0., -1.]), array([-1.,  0.,  0.]), array([-1., -1., -2.])),\n",
       " (array([-1.,  0., -1.]), array([-1.,  0.,  0.]), array([0., 1., 2.])),\n",
       " (array([1., 1., 2.]), array([1., 0., 0.]), array([ 0.,  0., -1.])),\n",
       " (array([1., 1., 2.]), array([1., 0., 0.]), array([1., 0., 1.])),\n",
       " (array([1., 1., 2.]), array([0., 1., 1.]), array([ 0.,  0., -1.])),\n",
       " (array([1., 1., 2.]), array([0., 1., 1.]), array([0., 1., 2.])),\n",
       " (array([1., 1., 2.]), array([1., 1., 3.]), array([1., 0., 1.])),\n",
       " (array([1., 1., 2.]), array([1., 1., 3.]), array([0., 1., 2.])),\n",
       " (array([0., 0., 1.]), array([ 0., -1., -1.]), array([-1., -1., -2.])),\n",
       " (array([0., 0., 1.]), array([ 0., -1., -1.]), array([1., 0., 1.])),\n",
       " (array([0., 0., 1.]), array([-1.,  0.,  0.]), array([-1., -1., -2.])),\n",
       " (array([0., 0., 1.]), array([-1.,  0.,  0.]), array([0., 1., 2.])),\n",
       " (array([0., 0., 1.]), array([1., 1., 3.]), array([1., 0., 1.])),\n",
       " (array([0., 0., 1.]), array([1., 1., 3.]), array([0., 1., 2.]))]"
      ]
     },
     "execution_count": 32,
     "metadata": {},
     "output_type": "execute_result"
    }
   ],
   "source": [
    "MakeStencil3(riemann3_5.m)"
   ]
  }
 ],
 "metadata": {
  "kernelspec": {
   "display_name": "Python 3",
   "language": "python",
   "name": "python3"
  },
  "language_info": {
   "codemirror_mode": {
    "name": "ipython",
    "version": 3
   },
   "file_extension": ".py",
   "mimetype": "text/x-python",
   "name": "python",
   "nbconvert_exporter": "python",
   "pygments_lexer": "ipython3",
   "version": "3.9.7"
  }
 },
 "nbformat": 4,
 "nbformat_minor": 2
}

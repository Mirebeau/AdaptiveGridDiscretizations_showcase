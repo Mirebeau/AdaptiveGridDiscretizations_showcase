{
 "cells": [
  {
   "cell_type": "markdown",
   "metadata": {},
   "source": [
    "# Adaptive PDE discretizations on Cartesian grids\n",
    "## Volume : Algorithmic tools\n",
    "## Part : Generalized acuteness\n",
    "## Chapter : Riemannian norms and the Voronoi vectors"
   ]
  },
  {
   "cell_type": "markdown",
   "metadata": {},
   "source": [
    "This notebook illustrates a construction of acute stencils applicable to two and three dimensional Riemannian metrics. It allows to compute Riemannian distance maps, by solving the corresponding eikonal equations, efficiently in a single pass over the discretization set, using the Fast-Marching method, a Dijkstra-like algorithm. The present notebook is only illustrative, as this algorithms are more efficiently implemented in C++, due to its serial nature.\n",
    "\n",
    "The stencil construction presented in this notebook is based on the following mathematical tools:\n",
    "* Voronoi vectors. Those vectors $e\\in Z^d \\setminus \\{0\\}$ whose Voronoi cell intersects the Voronoi cell of the origin. \n",
    "* The notion of acute angle associated with a scalar product.\n",
    "\n",
    "Here the scalar product and norm on $R^d$ are associated with a $d\\times d$ symmetric positive definite matrix $M$, and defined as follows:\n",
    "$$\n",
    "    <u,v>_M := <u,Mv> \\qquad \\|u\\|_M := \\sqrt{<u,M u>}\n",
    "$$\n",
    "\n",
    "**Comparison with the Stern-Brocot based stencils.**\n",
    "Another stencil construction is presented in the notebook [SternBrocot](SternBrocot.ipynb). This one distinguishes itself on the following points:\n",
    "* It only applies to *Riemannian* metric. In constrast, the other construction extends to *Finslerian* metrics.\n",
    "* It applies in dimension $3$. In constrast, the other construction is limited to dimension two.\n",
    "\n",
    "**Academic publication.** The contents of this notebooks are related with the following publication:\n",
    "* Mirebeau, J.-M. (2014). Anisotropic Fast-Marching on cartesian grids using Lattice Basis Reduction. SIAM Journal on Numerical Analysis, 52(4), 1573–1599."
   ]
  },
  {
   "cell_type": "markdown",
   "metadata": {},
   "source": [
    "[**Summary**](Summary.ipynb) of volume Algorithmic tools, this series of notebooks.\n",
    "\n",
    "[**Main summary**](../Summary.ipynb) of the Adaptive Grid Discretizations \n",
    "\tbook of notebooks, including the other volumes.\n",
    "\n",
    "# Table of contents\n",
    "  * [1. Stencil and acuteness](#1.-Stencil-and-acuteness)\n",
    "    * [1.1 Two dimensional stencils](#1.1-Two-dimensional-stencils)\n",
    "    * [1.2 Three dimensional stencils](#1.2-Three-dimensional-stencils)\n",
    "  * [2. Two dimensional construction](#2.-Two-dimensional-construction)\n",
    "  * [3. Three dimensional construction](#3.-Three-dimensional-construction)\n",
    "\n",
    "\n",
    "\n",
    "**Acknowledgement.** Some of the experiments presented in these notebooks are part of \n",
    "ongoing research with Ludovic Métivier and Da Chen.\n",
    "\n",
    "Copyright Jean-Marie Mirebeau, Centre Borelli, ENS Paris-Saclay, CNRS, University Paris-Saclay"
   ]
  },
  {
   "cell_type": "markdown",
   "metadata": {},
   "source": [
    "## 0. Importing the required libraries"
   ]
  },
  {
   "cell_type": "code",
   "execution_count": 1,
   "metadata": {
    "execution": {
     "iopub.execute_input": "2024-02-23T18:41:49.620557Z",
     "iopub.status.busy": "2024-02-23T18:41:49.620093Z",
     "iopub.status.idle": "2024-02-23T18:41:49.629507Z",
     "shell.execute_reply": "2024-02-23T18:41:49.628801Z"
    }
   },
   "outputs": [],
   "source": [
    "import sys; sys.path.insert(0,\"..\") # Allow import of agd from parent directory (useless if conda package installed)\n",
    "#from Miscellaneous import TocTools; print(TocTools.displayTOC('VoronoiVectors','Algo'))"
   ]
  },
  {
   "cell_type": "code",
   "execution_count": 2,
   "metadata": {
    "execution": {
     "iopub.execute_input": "2024-02-23T18:41:49.632909Z",
     "iopub.status.busy": "2024-02-23T18:41:49.632621Z",
     "iopub.status.idle": "2024-02-23T18:41:49.751772Z",
     "shell.execute_reply": "2024-02-23T18:41:49.751418Z"
    }
   },
   "outputs": [],
   "source": [
    "from agd.Metrics import Riemann\n",
    "from agd import Selling\n",
    "from agd import LinearParallel as lp\n",
    "from agd import FiniteDifferences as fd"
   ]
  },
  {
   "cell_type": "code",
   "execution_count": 3,
   "metadata": {
    "execution": {
     "iopub.execute_input": "2024-02-23T18:41:49.753542Z",
     "iopub.status.busy": "2024-02-23T18:41:49.753375Z",
     "iopub.status.idle": "2024-02-23T18:41:49.956341Z",
     "shell.execute_reply": "2024-02-23T18:41:49.956051Z"
    }
   },
   "outputs": [],
   "source": [
    "import numpy as np\n",
    "from matplotlib import pyplot as plt\n",
    "import itertools"
   ]
  },
  {
   "cell_type": "markdown",
   "metadata": {},
   "source": [
    "## 1. Stencil and acuteness\n",
    "\n",
    "In the context of semi-Lagrangian discretizations of eikonal equations, a stencil at a discretization point $x$ is defined as a polygonal surface enclosing $x$, whose vertices are also discretization points.\n",
    "\n",
    "We specialize to cartesian grids discretizations, and assume w.l.o.g. that the discretization point considered is the origin. Up to rescaling, the polygonal surface vertices should therefore lie on $Z^d$.\n",
    "With these conventions the stencil is said *acute*, w.r.t. the scalar product associated to a matrix $M$, iff for any vertices $u,v$ of a common facet of the polygonal surface one has \n",
    "$$\n",
    "    <u,M v> \\, \\geq 0.\n",
    "$$"
   ]
  },
  {
   "cell_type": "code",
   "execution_count": 4,
   "metadata": {
    "execution": {
     "iopub.execute_input": "2024-02-23T18:41:49.957880Z",
     "iopub.status.busy": "2024-02-23T18:41:49.957749Z",
     "iopub.status.idle": "2024-02-23T18:41:49.959766Z",
     "shell.execute_reply": "2024-02-23T18:41:49.959521Z"
    }
   },
   "outputs": [],
   "source": [
    "direction2 = [np.cos(np.pi/6),np.sin(np.pi/6)] # Arbitrary non-zero vector\n",
    "direction3 = [1.5,4.2,10.7] # Arbitrary non-zero vector"
   ]
  },
  {
   "cell_type": "code",
   "execution_count": 5,
   "metadata": {
    "execution": {
     "iopub.execute_input": "2024-02-23T18:41:49.960914Z",
     "iopub.status.busy": "2024-02-23T18:41:49.960836Z",
     "iopub.status.idle": "2024-02-23T18:41:49.962438Z",
     "shell.execute_reply": "2024-02-23T18:41:49.962235Z"
    }
   },
   "outputs": [],
   "source": [
    "aX0 = np.linspace(-1,1); aX1=aX0\n",
    "X = np.array(np.meshgrid(aX0,aX1,indexing='ij')) # Coordinate system"
   ]
  },
  {
   "cell_type": "markdown",
   "metadata": {},
   "source": [
    "### 1.1 Two dimensional stencils\n",
    "\n",
    "We represent two dimensional stencils as a list of vectors. The $4$-element diamond stencil, and $8$-element square stencil are most classical."
   ]
  },
  {
   "cell_type": "code",
   "execution_count": 6,
   "metadata": {
    "execution": {
     "iopub.execute_input": "2024-02-23T18:41:49.963667Z",
     "iopub.status.busy": "2024-02-23T18:41:49.963577Z",
     "iopub.status.idle": "2024-02-23T18:41:49.965533Z",
     "shell.execute_reply": "2024-02-23T18:41:49.965291Z"
    }
   },
   "outputs": [],
   "source": [
    "e0,e1=np.eye(2)\n",
    "diamond2 = [e0,e1,-e0,-e1,e0]\n",
    "box2 = [e0,e0+e1,e1,e1-e0,-e0,-e0-e1,-e1,-e1+e0,e0]"
   ]
  },
  {
   "cell_type": "code",
   "execution_count": 7,
   "metadata": {
    "execution": {
     "iopub.execute_input": "2024-02-23T18:41:49.966690Z",
     "iopub.status.busy": "2024-02-23T18:41:49.966611Z",
     "iopub.status.idle": "2024-02-23T18:41:49.968405Z",
     "shell.execute_reply": "2024-02-23T18:41:49.968194Z"
    }
   },
   "outputs": [],
   "source": [
    "def PlotStencil2(stencil):\n",
    "    plt.plot(*np.array(stencil).T)\n",
    "    plt.scatter(*np.array(stencil).T)\n",
    "    plt.scatter(0,0,color='black')"
   ]
  },
  {
   "cell_type": "code",
   "execution_count": 8,
   "metadata": {
    "execution": {
     "iopub.execute_input": "2024-02-23T18:41:49.969519Z",
     "iopub.status.busy": "2024-02-23T18:41:49.969448Z",
     "iopub.status.idle": "2024-02-23T18:41:50.102510Z",
     "shell.execute_reply": "2024-02-23T18:41:50.102285Z"
    }
   },
   "outputs": [
    {
     "data": {
      "image/png": "[encoded data removed]",
      "text/plain": [
       "<Figure size 1200x400 with 2 Axes>"
      ]
     },
     "metadata": {},
     "output_type": "display_data"
    }
   ],
   "source": [
    "plt.figure(figsize=[12,4])\n",
    "plt.subplot(1,2,1)\n",
    "plt.title(\"Diamond stencil\"); plt.axis('equal')\n",
    "PlotStencil2(diamond2)\n",
    "plt.subplot(1,2,2)\n",
    "plt.title(\"Square stencil\"); plt.axis('equal')\n",
    "PlotStencil2(box2)"
   ]
  },
  {
   "cell_type": "markdown",
   "metadata": {},
   "source": [
    "We can compute th minimum scalar product between consecutive elements of a stencil."
   ]
  },
  {
   "cell_type": "code",
   "execution_count": 9,
   "metadata": {
    "execution": {
     "iopub.execute_input": "2024-02-23T18:41:50.103879Z",
     "iopub.status.busy": "2024-02-23T18:41:50.103793Z",
     "iopub.status.idle": "2024-02-23T18:41:50.105833Z",
     "shell.execute_reply": "2024-02-23T18:41:50.105617Z"
    }
   },
   "outputs": [],
   "source": [
    "def MinStencilScal2(stencil,m):\n",
    "    s = np.array(stencil[:-1]).T\n",
    "    m=np.expand_dims(m,axis=2)\n",
    "    return lp.dot_VAV(s,m,np.roll(s,axis=1,shift=1)).min()"
   ]
  },
  {
   "cell_type": "markdown",
   "metadata": {},
   "source": [
    "Both the diamond and the box stencil are *acute*, a.k.a. the minimal scalar product is non-negative."
   ]
  },
  {
   "cell_type": "code",
   "execution_count": 10,
   "metadata": {
    "execution": {
     "iopub.execute_input": "2024-02-23T18:41:50.107065Z",
     "iopub.status.busy": "2024-02-23T18:41:50.106989Z",
     "iopub.status.idle": "2024-02-23T18:41:50.109297Z",
     "shell.execute_reply": "2024-02-23T18:41:50.109059Z"
    }
   },
   "outputs": [
    {
     "data": {
      "text/plain": [
       "(0.0, 1.0)"
      ]
     },
     "execution_count": 10,
     "metadata": {},
     "output_type": "execute_result"
    }
   ],
   "source": [
    "MinStencilScal2(diamond2,np.eye(2)), MinStencilScal2(box2,np.eye(2))"
   ]
  },
  {
   "cell_type": "markdown",
   "metadata": {},
   "source": [
    "However, as soon as some non-diagonal anisotropy is introduced, the diamond stencil looses acuteness.\n",
    "The matrix corresponding to a needle-like Riemannian norm has two eigenspaces: the line spanned by the given direction, and the orthogonal space. The corresponding two eigenvalues are prescribed as parameters."
   ]
  },
  {
   "cell_type": "code",
   "execution_count": 11,
   "metadata": {
    "execution": {
     "iopub.execute_input": "2024-02-23T18:41:50.110581Z",
     "iopub.status.busy": "2024-02-23T18:41:50.110504Z",
     "iopub.status.idle": "2024-02-23T18:41:50.112388Z",
     "shell.execute_reply": "2024-02-23T18:41:50.112198Z"
    }
   },
   "outputs": [],
   "source": [
    "riemann2_2 = Riemann.needle(direction2,1,2)"
   ]
  },
  {
   "cell_type": "code",
   "execution_count": 12,
   "metadata": {
    "execution": {
     "iopub.execute_input": "2024-02-23T18:41:50.113623Z",
     "iopub.status.busy": "2024-02-23T18:41:50.113546Z",
     "iopub.status.idle": "2024-02-23T18:41:50.115689Z",
     "shell.execute_reply": "2024-02-23T18:41:50.115478Z"
    }
   },
   "outputs": [
    {
     "data": {
      "text/plain": [
       "(-1.299038105676658, 0.45096189432334155)"
      ]
     },
     "execution_count": 12,
     "metadata": {},
     "output_type": "execute_result"
    }
   ],
   "source": [
    "MinStencilScal2(diamond2,riemann2_2.m), MinStencilScal2(box2,riemann2_2.m)"
   ]
  },
  {
   "cell_type": "markdown",
   "metadata": {},
   "source": [
    "The box stencil looses acuteness when anisotropy becomes more pronounced."
   ]
  },
  {
   "cell_type": "code",
   "execution_count": 13,
   "metadata": {
    "execution": {
     "iopub.execute_input": "2024-02-23T18:41:50.116960Z",
     "iopub.status.busy": "2024-02-23T18:41:50.116881Z",
     "iopub.status.idle": "2024-02-23T18:41:50.118352Z",
     "shell.execute_reply": "2024-02-23T18:41:50.118148Z"
    }
   },
   "outputs": [],
   "source": [
    "riemann2_3 = Riemann.needle(direction2,1,3)"
   ]
  },
  {
   "cell_type": "code",
   "execution_count": 14,
   "metadata": {
    "execution": {
     "iopub.execute_input": "2024-02-23T18:41:50.119485Z",
     "iopub.status.busy": "2024-02-23T18:41:50.119413Z",
     "iopub.status.idle": "2024-02-23T18:41:50.121526Z",
     "shell.execute_reply": "2024-02-23T18:41:50.121342Z"
    }
   },
   "outputs": [
    {
     "data": {
      "text/plain": [
       "(-3.4641016151377544, -0.4641016151377553)"
      ]
     },
     "execution_count": 14,
     "metadata": {},
     "output_type": "execute_result"
    }
   ],
   "source": [
    "MinStencilScal2(diamond2,riemann2_3.m), MinStencilScal2(box2,riemann2_3.m)"
   ]
  },
  {
   "cell_type": "code",
   "execution_count": 15,
   "metadata": {
    "execution": {
     "iopub.execute_input": "2024-02-23T18:41:50.122742Z",
     "iopub.status.busy": "2024-02-23T18:41:50.122663Z",
     "iopub.status.idle": "2024-02-23T18:41:50.238189Z",
     "shell.execute_reply": "2024-02-23T18:41:50.237961Z"
    }
   },
   "outputs": [
    {
     "data": {
      "image/png": "[encoded data removed]",
      "text/plain": [
       "<Figure size 1200x400 with 2 Axes>"
      ]
     },
     "metadata": {},
     "output_type": "display_data"
    }
   ],
   "source": [
    "plt.figure(figsize=[12,4])\n",
    "plt.subplot(1,2,1)\n",
    "plt.title(\"Box stencil is acute\"); plt.axis('equal')\n",
    "plt.contourf(*X,riemann2_2.norm(X),levels=[0.,1.]); plt.scatter(0,0,color='black'); \n",
    "plt.subplot(1,2,2)\n",
    "plt.title(\"Box stencil is not acute\"); plt.axis('equal')\n",
    "plt.contourf(*X,riemann2_3.norm(X),levels=[0.,1.]); plt.scatter(0,0,color='black'); "
   ]
  },
  {
   "cell_type": "markdown",
   "metadata": {},
   "source": [
    "### 1.2 Three dimensional stencils\n",
    "\n",
    "We describe a three dimensional stencil as a set of triangles. The diamond and box stencils admit obvious generalizations, with 8 and 48 triangules respectively."
   ]
  },
  {
   "cell_type": "code",
   "execution_count": 16,
   "metadata": {
    "execution": {
     "iopub.execute_input": "2024-02-23T18:41:50.239601Z",
     "iopub.status.busy": "2024-02-23T18:41:50.239514Z",
     "iopub.status.idle": "2024-02-23T18:41:50.242080Z",
     "shell.execute_reply": "2024-02-23T18:41:50.241876Z"
    }
   },
   "outputs": [],
   "source": [
    "e0,e1,e2 = np.eye(3)\n",
    "diamond3 = [[e0*s0,e1*s1,e2*s2] for s0,s1,s2 in itertools.product([-1,1],repeat=3)]\n",
    "box3 = [ [u*su, u*su+v*sv, u*su+v*sv+w*sw] \n",
    "        for u,v,w in itertools.permutations([e0,e1,e2]) \n",
    "        for su,sv,sw in itertools.product([-1,1],repeat=3)]"
   ]
  },
  {
   "cell_type": "code",
   "execution_count": 17,
   "metadata": {
    "execution": {
     "iopub.execute_input": "2024-02-23T18:41:50.243370Z",
     "iopub.status.busy": "2024-02-23T18:41:50.243277Z",
     "iopub.status.idle": "2024-02-23T18:41:50.245228Z",
     "shell.execute_reply": "2024-02-23T18:41:50.245042Z"
    }
   },
   "outputs": [
    {
     "data": {
      "text/plain": [
       "(8, 48)"
      ]
     },
     "execution_count": 17,
     "metadata": {},
     "output_type": "execute_result"
    }
   ],
   "source": [
    "len(diamond3),len(box3)"
   ]
  },
  {
   "cell_type": "code",
   "execution_count": 18,
   "metadata": {
    "execution": {
     "iopub.execute_input": "2024-02-23T18:41:50.246473Z",
     "iopub.status.busy": "2024-02-23T18:41:50.246384Z",
     "iopub.status.idle": "2024-02-23T18:41:50.248276Z",
     "shell.execute_reply": "2024-02-23T18:41:50.248067Z"
    }
   },
   "outputs": [],
   "source": [
    "def MinStencilScal3(stencil,m):\n",
    "    def MinFacet(u,v,w):\n",
    "        return min(lp.dot_VAV(u,m,v),lp.dot_VAV(v,m,w),lp.dot_VAV(w,m,u))\n",
    "    return min(MinFacet(*s) for s in stencil)"
   ]
  },
  {
   "cell_type": "markdown",
   "metadata": {},
   "source": [
    "Again, the diamond and box stencils are acute for the isotropic metric."
   ]
  },
  {
   "cell_type": "code",
   "execution_count": 19,
   "metadata": {
    "execution": {
     "iopub.execute_input": "2024-02-23T18:41:50.249541Z",
     "iopub.status.busy": "2024-02-23T18:41:50.249446Z",
     "iopub.status.idle": "2024-02-23T18:41:50.252324Z",
     "shell.execute_reply": "2024-02-23T18:41:50.252126Z"
    }
   },
   "outputs": [
    {
     "data": {
      "text/plain": [
       "(0.0, 1.0)"
      ]
     },
     "execution_count": 19,
     "metadata": {},
     "output_type": "execute_result"
    }
   ],
   "source": [
    "MinStencilScal3(diamond3,np.eye(3)),MinStencilScal3(box3,np.eye(3))"
   ]
  },
  {
   "cell_type": "markdown",
   "metadata": {},
   "source": [
    "Acuteness of the diamond stencil is immediately lost for non-diagonal anisotropies."
   ]
  },
  {
   "cell_type": "code",
   "execution_count": 20,
   "metadata": {
    "execution": {
     "iopub.execute_input": "2024-02-23T18:41:50.253545Z",
     "iopub.status.busy": "2024-02-23T18:41:50.253458Z",
     "iopub.status.idle": "2024-02-23T18:41:50.255175Z",
     "shell.execute_reply": "2024-02-23T18:41:50.254971Z"
    }
   },
   "outputs": [],
   "source": [
    "riemann3_2 = Riemann.needle(direction3,1,2)"
   ]
  },
  {
   "cell_type": "code",
   "execution_count": 21,
   "metadata": {
    "execution": {
     "iopub.execute_input": "2024-02-23T18:41:50.256290Z",
     "iopub.status.busy": "2024-02-23T18:41:50.256219Z",
     "iopub.status.idle": "2024-02-23T18:41:50.259047Z",
     "shell.execute_reply": "2024-02-23T18:41:50.258850Z"
    }
   },
   "outputs": [
    {
     "data": {
      "text/plain": [
       "(-1.0032742967703527, 0.08245274594433738)"
      ]
     },
     "execution_count": 21,
     "metadata": {},
     "output_type": "execute_result"
    }
   ],
   "source": [
    "MinStencilScal3(diamond3,riemann3_2.m),MinStencilScal3(box3,riemann3_2.m)"
   ]
  },
  {
   "cell_type": "markdown",
   "metadata": {},
   "source": [
    "Acuteness for the box stencil only holds for very moderate anisotropies."
   ]
  },
  {
   "cell_type": "code",
   "execution_count": 22,
   "metadata": {
    "execution": {
     "iopub.execute_input": "2024-02-23T18:41:50.260217Z",
     "iopub.status.busy": "2024-02-23T18:41:50.260142Z",
     "iopub.status.idle": "2024-02-23T18:41:50.261853Z",
     "shell.execute_reply": "2024-02-23T18:41:50.261645Z"
    }
   },
   "outputs": [],
   "source": [
    "riemann3_3 = Riemann.needle(direction3,1,3)"
   ]
  },
  {
   "cell_type": "code",
   "execution_count": 23,
   "metadata": {
    "execution": {
     "iopub.execute_input": "2024-02-23T18:41:50.262982Z",
     "iopub.status.busy": "2024-02-23T18:41:50.262910Z",
     "iopub.status.idle": "2024-02-23T18:41:50.265709Z",
     "shell.execute_reply": "2024-02-23T18:41:50.265520Z"
    }
   },
   "outputs": [
    {
     "data": {
      "text/plain": [
       "(-2.6753981247209406, -1.446792677481767)"
      ]
     },
     "execution_count": 23,
     "metadata": {},
     "output_type": "execute_result"
    }
   ],
   "source": [
    "MinStencilScal3(diamond3,riemann3_3.m),MinStencilScal3(box3,riemann3_3.m)"
   ]
  },
  {
   "cell_type": "markdown",
   "metadata": {},
   "source": [
    "## 2. Two dimensional construction\n",
    "\n",
    "We propose a stencil construction based on the preliminary computation of an $M$-obtuse superbase, see notebook [Selling](TensorSelling.ipynb).\n",
    "It can be shown that, for generic $M$, the stencil consists of the Voronoi vectors of $Z^2$ for the distance $\\|\\cdot\\|_M$, see the main introduction. \n",
    "\n",
    "The stencil is guaranteed to be acute, and to hold no more than $6$ distinct vertices, for any positive definite matrix $M$. This is independent of the condition number of $M$."
   ]
  },
  {
   "cell_type": "code",
   "execution_count": 24,
   "metadata": {
    "execution": {
     "iopub.execute_input": "2024-02-23T18:41:50.266933Z",
     "iopub.status.busy": "2024-02-23T18:41:50.266858Z",
     "iopub.status.idle": "2024-02-23T18:41:50.268604Z",
     "shell.execute_reply": "2024-02-23T18:41:50.268394Z"
    }
   },
   "outputs": [],
   "source": [
    "def MakeStencil2(m):\n",
    "    e0,e1,e2 = Selling.ObtuseSuperbase(m).T\n",
    "    return [e0,-e2,e1,-e0,e2,-e1,e0]"
   ]
  },
  {
   "cell_type": "code",
   "execution_count": 25,
   "metadata": {
    "execution": {
     "iopub.execute_input": "2024-02-23T18:41:50.269740Z",
     "iopub.status.busy": "2024-02-23T18:41:50.269669Z",
     "iopub.status.idle": "2024-02-23T18:41:50.271418Z",
     "shell.execute_reply": "2024-02-23T18:41:50.271212Z"
    }
   },
   "outputs": [],
   "source": [
    "riemann2_5 = Riemann.needle(direction2,1,5)"
   ]
  },
  {
   "cell_type": "code",
   "execution_count": 26,
   "metadata": {
    "execution": {
     "iopub.execute_input": "2024-02-23T18:41:50.272549Z",
     "iopub.status.busy": "2024-02-23T18:41:50.272478Z",
     "iopub.status.idle": "2024-02-23T18:41:50.332093Z",
     "shell.execute_reply": "2024-02-23T18:41:50.331872Z"
    }
   },
   "outputs": [
    {
     "data": {
      "image/png": "[encoded data removed]",
      "text/plain": [
       "<Figure size 640x480 with 1 Axes>"
      ]
     },
     "metadata": {},
     "output_type": "display_data"
    }
   ],
   "source": [
    "plt.title(\"Unit ball for a norm of Riemannian type\"); plt.axis('equal')\n",
    "plt.contourf(*X,riemann2_5.norm(X),levels=[0.,1.]); plt.scatter(0,0,color='black'); "
   ]
  },
  {
   "cell_type": "code",
   "execution_count": 27,
   "metadata": {
    "execution": {
     "iopub.execute_input": "2024-02-23T18:41:50.333372Z",
     "iopub.status.busy": "2024-02-23T18:41:50.333287Z",
     "iopub.status.idle": "2024-02-23T18:41:50.397845Z",
     "shell.execute_reply": "2024-02-23T18:41:50.397600Z"
    }
   },
   "outputs": [
    {
     "data": {
      "image/png": "[encoded data removed]",
      "text/plain": [
       "<Figure size 640x480 with 1 Axes>"
      ]
     },
     "metadata": {},
     "output_type": "display_data"
    }
   ],
   "source": [
    "plt.title(\"Stencil for a norm of Riemannian type\"); plt.axis('equal')\n",
    "PlotStencil2(MakeStencil2(riemann2_5.m)) "
   ]
  },
  {
   "cell_type": "code",
   "execution_count": 28,
   "metadata": {
    "execution": {
     "iopub.execute_input": "2024-02-23T18:41:50.399136Z",
     "iopub.status.busy": "2024-02-23T18:41:50.399063Z",
     "iopub.status.idle": "2024-02-23T18:41:50.401298Z",
     "shell.execute_reply": "2024-02-23T18:41:50.401103Z"
    }
   },
   "outputs": [
    {
     "data": {
      "text/plain": [
       "1.8230854637602008"
      ]
     },
     "execution_count": 28,
     "metadata": {},
     "output_type": "execute_result"
    }
   ],
   "source": [
    "MinStencilScal2(MakeStencil2(riemann2_5.m),riemann2_5.m)"
   ]
  },
  {
   "cell_type": "markdown",
   "metadata": {},
   "source": [
    "## 3. Three dimensional construction\n",
    "\n",
    "We propose a stencil construction based on the preliminary computation of an $M$-obtuse superbase, see notebook [Selling](TensorSelling.ipynb).\n",
    "It can be shown that, for generic $M$, the stencil consists of the Voronoi vectors of $Z^3$ for the distance $\\|\\cdot\\|_M$, see the main introduction. \n",
    "\n",
    "The stencil is guaranteed to be acute, and to hold precisely than $14$ distinct vertices and $24$ facets, for any positive definite matrix $M$. This is independent of the condition number of $M$."
   ]
  },
  {
   "cell_type": "code",
   "execution_count": 29,
   "metadata": {
    "execution": {
     "iopub.execute_input": "2024-02-23T18:41:50.402582Z",
     "iopub.status.busy": "2024-02-23T18:41:50.402503Z",
     "iopub.status.idle": "2024-02-23T18:41:50.404416Z",
     "shell.execute_reply": "2024-02-23T18:41:50.404225Z"
    }
   },
   "outputs": [],
   "source": [
    "def MakeStencil3(m):\n",
    "    e0,e1,e2,e3 = Selling.ObtuseSuperbase(m).T\n",
    "    return [(u,u+v,u+v+w) for u,v,w in itertools.permutations([e0,e1,e2,e3],3)]"
   ]
  },
  {
   "cell_type": "code",
   "execution_count": 30,
   "metadata": {
    "execution": {
     "iopub.execute_input": "2024-02-23T18:41:50.405609Z",
     "iopub.status.busy": "2024-02-23T18:41:50.405530Z",
     "iopub.status.idle": "2024-02-23T18:41:50.407005Z",
     "shell.execute_reply": "2024-02-23T18:41:50.406756Z"
    }
   },
   "outputs": [],
   "source": [
    "riemann3_5 = Riemann.needle(direction3,1,5)"
   ]
  },
  {
   "cell_type": "code",
   "execution_count": 31,
   "metadata": {
    "execution": {
     "iopub.execute_input": "2024-02-23T18:41:50.408169Z",
     "iopub.status.busy": "2024-02-23T18:41:50.408096Z",
     "iopub.status.idle": "2024-02-23T18:41:50.410805Z",
     "shell.execute_reply": "2024-02-23T18:41:50.410609Z"
    }
   },
   "outputs": [
    {
     "data": {
      "text/plain": [
       "1.078434290817091"
      ]
     },
     "execution_count": 31,
     "metadata": {},
     "output_type": "execute_result"
    }
   ],
   "source": [
    "MinStencilScal3(MakeStencil3(riemann3_5.m),riemann3_5.m)"
   ]
  },
  {
   "cell_type": "code",
   "execution_count": 32,
   "metadata": {
    "execution": {
     "iopub.execute_input": "2024-02-23T18:41:50.412033Z",
     "iopub.status.busy": "2024-02-23T18:41:50.411956Z",
     "iopub.status.idle": "2024-02-23T18:41:50.416458Z",
     "shell.execute_reply": "2024-02-23T18:41:50.416256Z"
    }
   },
   "outputs": [
    {
     "data": {
      "text/plain": [
       "[(array([ 0., -1., -2.]), array([-1., -1., -3.]), array([ 0.,  0., -1.])),\n",
       " (array([ 0., -1., -2.]), array([-1., -1., -3.]), array([-1., -1., -2.])),\n",
       " (array([ 0., -1., -2.]), array([1., 0., 0.]), array([ 0.,  0., -1.])),\n",
       " (array([ 0., -1., -2.]), array([1., 0., 0.]), array([1., 0., 1.])),\n",
       " (array([ 0., -1., -2.]), array([ 0., -1., -1.]), array([-1., -1., -2.])),\n",
       " (array([ 0., -1., -2.]), array([ 0., -1., -1.]), array([1., 0., 1.])),\n",
       " (array([-1.,  0., -1.]), array([-1., -1., -3.]), array([ 0.,  0., -1.])),\n",
       " (array([-1.,  0., -1.]), array([-1., -1., -3.]), array([-1., -1., -2.])),\n",
       " (array([-1.,  0., -1.]), array([0., 1., 1.]), array([ 0.,  0., -1.])),\n",
       " (array([-1.,  0., -1.]), array([0., 1., 1.]), array([0., 1., 2.])),\n",
       " (array([-1.,  0., -1.]), array([-1.,  0.,  0.]), array([-1., -1., -2.])),\n",
       " (array([-1.,  0., -1.]), array([-1.,  0.,  0.]), array([0., 1., 2.])),\n",
       " (array([1., 1., 2.]), array([1., 0., 0.]), array([ 0.,  0., -1.])),\n",
       " (array([1., 1., 2.]), array([1., 0., 0.]), array([1., 0., 1.])),\n",
       " (array([1., 1., 2.]), array([0., 1., 1.]), array([ 0.,  0., -1.])),\n",
       " (array([1., 1., 2.]), array([0., 1., 1.]), array([0., 1., 2.])),\n",
       " (array([1., 1., 2.]), array([1., 1., 3.]), array([1., 0., 1.])),\n",
       " (array([1., 1., 2.]), array([1., 1., 3.]), array([0., 1., 2.])),\n",
       " (array([0., 0., 1.]), array([ 0., -1., -1.]), array([-1., -1., -2.])),\n",
       " (array([0., 0., 1.]), array([ 0., -1., -1.]), array([1., 0., 1.])),\n",
       " (array([0., 0., 1.]), array([-1.,  0.,  0.]), array([-1., -1., -2.])),\n",
       " (array([0., 0., 1.]), array([-1.,  0.,  0.]), array([0., 1., 2.])),\n",
       " (array([0., 0., 1.]), array([1., 1., 3.]), array([1., 0., 1.])),\n",
       " (array([0., 0., 1.]), array([1., 1., 3.]), array([0., 1., 2.]))]"
      ]
     },
     "execution_count": 32,
     "metadata": {},
     "output_type": "execute_result"
    }
   ],
   "source": [
    "MakeStencil3(riemann3_5.m)"
   ]
  }
 ],
 "metadata": {
  "kernelspec": {
   "display_name": "Python 3 (ipykernel)",
   "language": "python",
   "name": "python3"
  },
  "language_info": {
   "codemirror_mode": {
    "name": "ipython",
    "version": 3
   },
   "file_extension": ".py",
   "mimetype": "text/x-python",
   "name": "python",
   "nbconvert_exporter": "python",
   "pygments_lexer": "ipython3",
   "version": "3.12.1"
  },
  "varInspector": {
   "cols": {
    "lenName": 16,
    "lenType": 16,
    "lenVar": 40
   },
   "kernels_config": {
    "python": {
     "delete_cmd_postfix": "",
     "delete_cmd_prefix": "del ",
     "library": "var_list.py",
     "varRefreshCmd": "print(var_dic_list())"
    },
    "r": {
     "delete_cmd_postfix": ") ",
     "delete_cmd_prefix": "rm(",
     "library": "var_list.r",
     "varRefreshCmd": "cat(var_dic_list()) "
    }
   },
   "types_to_exclude": [
    "module",
    "function",
    "builtin_function_or_method",
    "instance",
    "_Feature"
   ],
   "window_display": false
  }
 },
 "nbformat": 4,
 "nbformat_minor": 2
}

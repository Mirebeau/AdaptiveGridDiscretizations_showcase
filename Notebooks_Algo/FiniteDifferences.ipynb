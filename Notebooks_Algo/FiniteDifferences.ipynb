{
 "cells": [
  {
   "cell_type": "markdown",
   "metadata": {},
   "source": [
    "# Adaptive PDE discretizations on cartesian grids\n",
    "## Volume : Algorithmic tools\n",
    "## Part : Domain representation\n",
    "## Chapter : Finite differences, interpolation"
   ]
  },
  {
   "cell_type": "markdown",
   "metadata": {},
   "source": [
    "This notebook presents the basic types of finite differences and interpolation methods that can be considered on a cartesian grid. The tools are presented in two dimensions, but apply in arbitrary dimension. They also apply in the context of:\n",
    "* non-square domains, [example](SubsetRd.ipynb)\n",
    "* point dependent offsets, [example](../Notebooks_NonDiv/LinearMonotoneSchemes2D.ipynb)\n",
    "* vector valued functions."
   ]
  },
  {
   "cell_type": "markdown",
   "metadata": {},
   "source": [
    "[**Summary**](Summary.ipynb) of volume Algorithmic tools, this series of notebooks.\n",
    "\n",
    "[**Main summary**](../Summary.ipynb) of the Adaptive Grid Discretizations \n",
    "\tbook of notebooks, including the other volumes.\n",
    "\n",
    "# Table of contents\n",
    "  * [1. Degenerate elliptic finite differences](#1.-Degenerate-elliptic-finite-differences)\n",
    "    * [1.1 Testing data](#1.1-Testing-data)\n",
    "    * [1.2 Upwind finite difference](#1.2-Upwind-finite-difference)\n",
    "    * [1.3 Second order finite difference](#1.3-Second-order-finite-difference)\n",
    "  * [2. Non degenerate elliptic finite differences](#2.-Non-degenerate-elliptic-finite-differences)\n",
    "    * [2.1 Centered finite difference](#2.1-Centered-finite-difference)\n",
    "    * [2.2 High order upwind finite differences](#2.2-High-order-upwind-finite-differences)\n",
    "  * [3. Composite finite differences](#3.-Composite-finite-differences)\n",
    "    * [3.1 Gradient](#3.1-Gradient)\n",
    "    * [3.2 Hessian](#3.2-Hessian)\n",
    "  * [4. Interpolation](#4.-Interpolation)\n",
    "    * [4.1 Linear splines](#4.1-Linear-splines)\n",
    "    * [4.2 Quadratic splines](#4.2-Quadratic-splines)\n",
    "    * [4.3 Cubic splines](#4.3-Cubic-splines)\n",
    "    * [4.4 Vector data](#4.4-Vector-data)\n",
    "\n",
    "\n",
    "\n",
    "**Acknowledgement.** The experiments presented in these notebooks are part of ongoing research, \n",
    "some of it with PhD student Guillaume Bonnet, in co-direction with Frederic Bonnans.\n",
    "\n",
    "Copyright Jean-Marie Mirebeau, University Paris-Sud, CNRS, University Paris-Saclay"
   ]
  },
  {
   "cell_type": "markdown",
   "metadata": {},
   "source": [
    "## 0. Import the required libraries"
   ]
  },
  {
   "cell_type": "code",
   "execution_count": 1,
   "metadata": {},
   "outputs": [],
   "source": [
    "import sys; sys.path.insert(0,\"..\") # Allow imports from parent directory\n",
    "#from Miscellaneous import TocTools; print(TocTools.displayTOC('FiniteDifferences','Algo'))"
   ]
  },
  {
   "cell_type": "code",
   "execution_count": 2,
   "metadata": {},
   "outputs": [],
   "source": [
    "from agd import FiniteDifferences as fd\n",
    "from agd import AutomaticDifferentiation as ad\n",
    "from agd import Interpolation\n",
    "from agd import LinearParallel as lp"
   ]
  },
  {
   "cell_type": "code",
   "execution_count": 3,
   "metadata": {},
   "outputs": [],
   "source": [
    "import numpy as np"
   ]
  },
  {
   "cell_type": "code",
   "execution_count": 4,
   "metadata": {},
   "outputs": [],
   "source": [
    "def reload_packages():\n",
    "    from Miscellaneous.rreload import rreload\n",
    "    global ad,fd,Interpolation,lp\n",
    "    ad,fd,Interpolation,lp = rreload([ad,fd,Interpolation,lp],rootdir=\"../..\")"
   ]
  },
  {
   "cell_type": "markdown",
   "metadata": {},
   "source": [
    "## 1. Degenerate elliptic finite differences\n",
    "\n",
    "The finite difference presented in this section are a typical ingredient of monotone numerical schemes, see the corresponding [volume](../../Notebooks_NonDiv/Summary.ipynb). "
   ]
  },
  {
   "cell_type": "markdown",
   "metadata": {},
   "source": [
    "### 1.1 Testing data\n",
    "\n",
    "In order to test the finite difference and interpolation methods, we need some polynomial functions."
   ]
  },
  {
   "cell_type": "code",
   "execution_count": 5,
   "metadata": {},
   "outputs": [],
   "source": [
    "def u1(X): return X[0]+2*X[1]\n",
    "def u2(X): return X[0]**2+2*(2*X[0]*X[1])+3*X[1]**2\n",
    "def u3(X): return X[0]**3+X[0]*X[1]**2\n",
    "\n",
    "def u123(X): return ad.array( (u1(X),u2(X),u3(X)) )"
   ]
  },
  {
   "cell_type": "markdown",
   "metadata": {},
   "source": [
    "We also need to choose a direction, with *integer coordinates*, for the finite differences."
   ]
  },
  {
   "cell_type": "code",
   "execution_count": 6,
   "metadata": {},
   "outputs": [],
   "source": [
    "e = (1,2)"
   ]
  },
  {
   "cell_type": "markdown",
   "metadata": {},
   "source": [
    "Let us also define a domain, here a square."
   ]
  },
  {
   "cell_type": "code",
   "execution_count": 7,
   "metadata": {},
   "outputs": [],
   "source": [
    "aX,h = np.linspace(-1,1,retstep=True)\n",
    "X=np.array(np.meshgrid(aX,aX,indexing='ij'))\n",
    "shape = X.shape[1:]\n",
    "\n",
    "def close(u,v,k):\n",
    "    \"\"\"Wether u and v are close in the domain minus k boundary layers.\"\"\"\n",
    "    interior = np.full(shape,False)\n",
    "    interior[k:-k,k:-k]=True\n",
    "    return np.allclose(u[...,interior],v[...,interior])"
   ]
  },
  {
   "cell_type": "markdown",
   "metadata": {},
   "source": [
    "The following variables are used for validation, by comparison with automatic differentiation."
   ]
  },
  {
   "cell_type": "code",
   "execution_count": 8,
   "metadata": {},
   "outputs": [],
   "source": [
    "X_ad = ad.Dense.identity(constant=X,shape_free=(2,))\n",
    "X_ad2 = ad.Dense2.identity(constant=X,shape_free=(2,))\n",
    "\n",
    "du1  = u1(X_ad).gradient()\n",
    "du2  = u2(X_ad).gradient()\n",
    "ddu2 = u2(X_ad2).hessian()\n",
    "du3  = u3(X_ad).gradient()\n",
    "ddu3 = u3(X_ad2).hessian()\n",
    "\n",
    "_e = fd.as_field(e,shape)\n",
    "du1_e  = lp.dot_VV(du1,_e)\n",
    "du2_e  = lp.dot_VV(du2,_e)\n",
    "ddu2_e = lp.dot_VAV(_e,ddu2,_e)\n",
    "du3_e  = lp.dot_VV(du3,_e)"
   ]
  },
  {
   "cell_type": "markdown",
   "metadata": {},
   "source": [
    "### 1.2 Upwind finite difference\n",
    "$$\n",
    "    \\frac{u(x+he)-u(x)} h = <\\nabla u(x),e> + O(h).\n",
    "$$"
   ]
  },
  {
   "cell_type": "code",
   "execution_count": 9,
   "metadata": {},
   "outputs": [],
   "source": [
    "Du1_e = fd.DiffUpwind(u1(X),e,h)\n",
    "assert close(Du1_e,du1_e,2)"
   ]
  },
  {
   "cell_type": "markdown",
   "metadata": {},
   "source": [
    "### 1.3 Second order finite difference\n",
    "$$\n",
    "    \\frac{u(x+he)-2u(x)+u(x-he)}{h^2} = <e,\\nabla^2 u(x),e> + O(h^2).\n",
    "$$"
   ]
  },
  {
   "cell_type": "code",
   "execution_count": 10,
   "metadata": {},
   "outputs": [],
   "source": [
    "DDu2_e = fd.Diff2(u2(X),e,h)\n",
    "assert close(DDu2_e,ddu2_e,2)"
   ]
  },
  {
   "cell_type": "markdown",
   "metadata": {},
   "source": [
    "## 2. Non degenerate elliptic finite differences\n",
    "\n",
    "The following finite differences are not degenerate elliptic. They may nevertheless be encountered in degenerate elliptic schemes, if their lack of ellipticity is suitably compensated, of within a filtered scheme."
   ]
  },
  {
   "cell_type": "markdown",
   "metadata": {},
   "source": [
    "### 2.1 Centered finite difference\n",
    "$$\n",
    "    \\frac{u(x+h e)-u(x-h e)} {2 h} = <\\nabla u(x),e> + O(h^2). \n",
    "$$"
   ]
  },
  {
   "cell_type": "code",
   "execution_count": 11,
   "metadata": {},
   "outputs": [],
   "source": [
    "Du2_e = fd.DiffCentered(u2(X),e,h)\n",
    "assert close(Du2_e,du2_e,2)"
   ]
  },
  {
   "cell_type": "markdown",
   "metadata": {},
   "source": [
    "### 2.2 High order upwind finite differences\n",
    "$$\n",
    "    \\frac{-u(x+2he)+4u(x+he)-3u(x)}{2h} = <\\nabla u(x),e> + O(h^2)\n",
    "$$"
   ]
  },
  {
   "cell_type": "code",
   "execution_count": 12,
   "metadata": {},
   "outputs": [],
   "source": [
    "Du2_e = fd.DiffUpwind2(u2(X),e,h)\n",
    "assert close(Du2_e,du2_e,4)"
   ]
  },
  {
   "cell_type": "markdown",
   "metadata": {},
   "source": [
    "$$\n",
    "    \\frac{2 u(x+3he)-9 u(x+2he)+18 u(x+he)-11 u(x)}{6h} = <\\nabla u(x),e> + O(h^3)\n",
    "$$"
   ]
  },
  {
   "cell_type": "code",
   "execution_count": 13,
   "metadata": {},
   "outputs": [],
   "source": [
    "Du3_e = fd.DiffUpwind3(u3(X),e,h)\n",
    "assert close(Du3_e,du3_e,6)"
   ]
  },
  {
   "cell_type": "markdown",
   "metadata": {},
   "source": [
    "## 3. Composite finite differences\n",
    "The following finite differences can be used to estimate numerically the derivatives of a function, but they are rarely adequate for building numerical schemes. We denote by $e_i$ the $i$-th element of the canonical basis."
   ]
  },
  {
   "cell_type": "markdown",
   "metadata": {},
   "source": [
    "### 3.1 Gradient\n",
    "$$\n",
    "    \\frac{u(x+h e_i)-u(x-he_i)}{2h} = \\frac {\\partial u} {\\partial x_i} + O(h^2), \\qquad 0 \\leq i < d.\n",
    "$$"
   ]
  },
  {
   "cell_type": "code",
   "execution_count": 14,
   "metadata": {},
   "outputs": [],
   "source": [
    "Du2 = fd.DiffGradient(u2(X),gridScale=h)\n",
    "assert close(Du2,du2,2)"
   ]
  },
  {
   "cell_type": "code",
   "execution_count": 15,
   "metadata": {},
   "outputs": [
    {
     "data": {
      "text/plain": [
       "(2, 50, 50)"
      ]
     },
     "execution_count": 15,
     "metadata": {},
     "output_type": "execute_result"
    }
   ],
   "source": [
    "Du2.shape"
   ]
  },
  {
   "cell_type": "markdown",
   "metadata": {},
   "source": [
    "### 3.2 Hessian\n",
    "$$\n",
    "    \\frac{u(x+h e_i)-2u(x)+u(x-he_i)}{h^2} = \\frac {\\partial^2 u} {\\partial^2 x_i} + O(h^2),\n",
    "$$\n",
    "for all $0\\leq i < d$, and \n",
    "$$\n",
    "    \\frac{u(x+h e_i+h e_j)+u(x-he_i-h e_j)-u(x+h e_i -h e_j) - u(x-h e_i+he_j)}{4h^2} = \\frac {\\partial^2 u} {\\partial x_i \\partial x_j} + O(h^2), \n",
    "$$\n",
    "for all distinct $i,j$."
   ]
  },
  {
   "cell_type": "code",
   "execution_count": 16,
   "metadata": {},
   "outputs": [],
   "source": [
    "DDu2 = fd.DiffHessian(u2(X),gridScale=h)\n",
    "assert close(DDu2,ddu2,2)"
   ]
  },
  {
   "cell_type": "code",
   "execution_count": 17,
   "metadata": {},
   "outputs": [
    {
     "data": {
      "text/plain": [
       "(2, 2, 50, 50)"
      ]
     },
     "execution_count": 17,
     "metadata": {},
     "output_type": "execute_result"
    }
   ],
   "source": [
    "DDu2.shape"
   ]
  },
  {
   "cell_type": "markdown",
   "metadata": {},
   "source": [
    "## 4. Interpolation\n",
    "\n",
    "Let us define a finer grid."
   ]
  },
  {
   "cell_type": "code",
   "execution_count": 18,
   "metadata": {},
   "outputs": [],
   "source": [
    "aX_ = np.linspace(-1,1,80)\n",
    "X_=np.array(np.meshgrid(aX_,aX_,indexing='ij'))"
   ]
  },
  {
   "cell_type": "code",
   "execution_count": 19,
   "metadata": {},
   "outputs": [],
   "source": [
    "Interp = Interpolation.UniformGridInterpolation"
   ]
  },
  {
   "cell_type": "markdown",
   "metadata": {},
   "source": [
    "### 4.1 Linear splines\n",
    "\n",
    "(Piecewise) Linear splines are continuous, and reproduce linear functions.\n",
    "They are second order consistent\n",
    "$$\n",
    "    U_1^h(x) = u(x)+O(h^2).\n",
    "$$"
   ]
  },
  {
   "cell_type": "code",
   "execution_count": 20,
   "metadata": {},
   "outputs": [],
   "source": [
    "U1 = Interp(X,u1(X),order=1)\n",
    "assert np.allclose(U1(X_),u1(X_))"
   ]
  },
  {
   "cell_type": "markdown",
   "metadata": {},
   "source": [
    "The spline can be differentiated, and yields the a first order consistent estimation of the gradient, *except possibly at boundary points*.\n",
    "$$\n",
    "    \\nabla U_1^h(x) = \\nabla u(x) + O(h)\n",
    "$$"
   ]
  },
  {
   "cell_type": "code",
   "execution_count": 21,
   "metadata": {},
   "outputs": [],
   "source": [
    "dU1 = U1(X_ad).gradient()\n",
    "assert close(dU1,du1,1)"
   ]
  },
  {
   "cell_type": "markdown",
   "metadata": {},
   "source": [
    "### 4.2 Quadratic splines\n",
    "\n",
    "Quadratic splines are continuously differentiable, and reproduce quadratic functions.\n",
    "We use a not-a-knot boundary condition : in one dimension, the second derivative is continuous accross the second node from the left.\n",
    "$$\n",
    "    U_2^h(x) = u(x)+O(h^3).\n",
    "$$"
   ]
  },
  {
   "cell_type": "code",
   "execution_count": 22,
   "metadata": {},
   "outputs": [],
   "source": [
    "U2 = Interp(X,u2(X),order=2)\n",
    "assert np.allclose(U2(X_),u2(X_))"
   ]
  },
  {
   "cell_type": "markdown",
   "metadata": {},
   "source": [
    "The spline can be differentiated, one time or two times, and yields a second order consistent estimate of the gradient, and a first order consistent estimate of the hessian, *except possibly at boundary points*.\n",
    "$$\n",
    "    \\nabla U_2^h(x) = \\nabla u(x) + O(h^2),\n",
    "$$\n",
    "$$\n",
    "    \\nabla^2 U_2^h(x) = \\nabla^2 u(x) + O(h).\n",
    "$$"
   ]
  },
  {
   "cell_type": "code",
   "execution_count": 23,
   "metadata": {},
   "outputs": [],
   "source": [
    "dU2 = U2(X_ad).gradient()\n",
    "assert close(dU2,du2,1)"
   ]
  },
  {
   "cell_type": "code",
   "execution_count": 24,
   "metadata": {},
   "outputs": [],
   "source": [
    "ddU2 = U2(X_ad2).hessian()\n",
    "assert close(ddU2,ddu2,1)"
   ]
  },
  {
   "cell_type": "markdown",
   "metadata": {},
   "source": [
    "### 4.3 Cubic splines\n",
    "\n",
    "Cubic splines are twice continuously differentiable, and reproduce cubic functions.\n",
    "We use a not-a-knot boundary condition : in one dimension, the third derivative is continuous accross the second node from the left, and likewise from the right.\n",
    "$$\n",
    "    U_3^h(x) = u(x)+O(h^4).\n",
    "$$"
   ]
  },
  {
   "cell_type": "code",
   "execution_count": 25,
   "metadata": {},
   "outputs": [],
   "source": [
    "U3 = Interp(X,u3(X),order=3)\n",
    "assert np.allclose(U3(X_),u3(X_))"
   ]
  },
  {
   "cell_type": "markdown",
   "metadata": {},
   "source": [
    "The spline can be differentiated two times, and yields consistent estimates of the gradient and hessian, *except possibly at boundary points*.\n",
    "$$\n",
    "    \\nabla U_3^h(x) = \\nabla u(x) + O(h^3),\n",
    "$$\n",
    "$$\n",
    "    \\nabla^2 U_3^h(x) = \\nabla^2 u(x) + O(h^2).\n",
    "$$"
   ]
  },
  {
   "cell_type": "code",
   "execution_count": 26,
   "metadata": {},
   "outputs": [],
   "source": [
    "dU3 = U3(X_ad).gradient()\n",
    "assert close(dU3,du3,1)"
   ]
  },
  {
   "cell_type": "code",
   "execution_count": 27,
   "metadata": {},
   "outputs": [],
   "source": [
    "ddU3 = U3(X_ad2).hessian()\n",
    "assert close(ddU3,ddu3,1)"
   ]
  },
  {
   "cell_type": "markdown",
   "metadata": {},
   "source": [
    "### 4.4 Vector data"
   ]
  },
  {
   "cell_type": "code",
   "execution_count": 28,
   "metadata": {},
   "outputs": [],
   "source": [
    "U123 = Interp(X,u123(X),order=3)\n",
    "assert np.allclose(U123(X_),u123(X_))"
   ]
  },
  {
   "cell_type": "code",
   "execution_count": null,
   "metadata": {},
   "outputs": [],
   "source": []
  }
 ],
 "metadata": {
  "kernelspec": {
   "display_name": "Python 3",
   "language": "python",
   "name": "python3"
  },
  "language_info": {
   "codemirror_mode": {
    "name": "ipython",
    "version": 3
   },
   "file_extension": ".py",
   "mimetype": "text/x-python",
   "name": "python",
   "nbconvert_exporter": "python",
   "pygments_lexer": "ipython3",
   "version": "3.7.6"
  }
 },
 "nbformat": 4,
 "nbformat_minor": 2
}

{
 "cells": [
  {
   "cell_type": "markdown",
   "metadata": {},
   "source": [
    "# Adaptive PDE discretizations on Cartesian grids\n",
    "## Volume : Algorithmic tools\n",
    "## Part : Convex functions and convex bodies\n",
    "## Chapter : Minkowski and Meissner's problems\n",
    "\n",
    "We illustrate the optimization of functionals defined over the set of convex bodies, through the numerical solution of the Reulaux, Meissner, and Minkowski problems, in dimension two and three. These geometric problems are described in more detail in the first section."
   ]
  },
  {
   "cell_type": "markdown",
   "metadata": {},
   "source": [
    "[**Summary**](Summary.ipynb) of volume Algorithmic tools, this series of notebooks.\n",
    "\n",
    "[**Main summary**](../Summary.ipynb) of the Adaptive Grid Discretizations \n",
    "\tbook of notebooks, including the other volumes.\n",
    "\n",
    "# Table of contents\n",
    "  * [1. Introduction](#1.-Introduction)\n",
    "    * [1.1 Parametrization of convex bodies](#1.1-Parametrization-of-convex-bodies)\n",
    "    * [1.2 Minkowski's problem](#1.2-Minkowski's-problem)\n",
    "    * [1.3 Reulaux and Meissner's bodies of constant width](#1.3-Reulaux-and-Meissner's-bodies-of-constant-width)\n",
    "    * [1.4 Constructing a r.h.s. for the Minkowski problem](#1.4-Constructing-a-r.h.s.-for-the-Minkowski-problem)\n",
    "  * [2. Two dimensional convex bodies](#2.-Two-dimensional-convex-bodies)\n",
    "    * [2.1 Explicit skeleton and area](#2.1-Explicit-skeleton-and-area)\n",
    "    * [2.2 Validations](#2.2-Validations)\n",
    "    * [2.3 Minkowski's problem](#2.3-Minkowski's-problem)\n",
    "    * [2.4 The Reulaux triangle](#2.4-The-Reulaux-triangle)\n",
    "  * [3. Geometry of three dimensional convex bodies](#3.-Geometry-of-three-dimensional-convex-bodies)\n",
    "    * [3.1 Facet measures of the dual polytope](#3.1-Facet-measures-of-the-dual-polytope)\n",
    "    * [3.2 Measure of the full polytope](#3.2-Measure-of-the-full-polytope)\n",
    "    * [3.3 Validation on the cube and tetrahedron.](#3.3-Validation-on-the-cube-and-tetrahedron.)\n",
    "    * [3.4 Sampling the sphere](#3.4-Sampling-the-sphere)\n",
    "    * [3.5 Display of convex bodies](#3.5-Display-of-convex-bodies)\n",
    "  * [4. Optimization over three dimensional convex bodies](#4.-Optimization-over-three-dimensional-convex-bodies)\n",
    "    * [4.1 Minkowski's problem](#4.1-Minkowski's-problem)\n",
    "    * [4.2 Meissner's body](#4.2-Meissner's-body)\n",
    "\n",
    "\n",
    "\n",
    "**Acknowledgement.** Some of the experiments presented in these notebooks are part of \n",
    "ongoing research with Ludovic Métivier and Da Chen.\n",
    "\n",
    "Copyright Jean-Marie Mirebeau, Centre Borelli, ENS Paris-Saclay, CNRS, University Paris-Saclay"
   ]
  },
  {
   "cell_type": "markdown",
   "metadata": {},
   "source": [
    "## 0. Importing the required libraries"
   ]
  },
  {
   "cell_type": "code",
   "execution_count": 1,
   "metadata": {
    "execution": {
     "iopub.execute_input": "2024-02-23T18:41:54.592416Z",
     "iopub.status.busy": "2024-02-23T18:41:54.591608Z",
     "iopub.status.idle": "2024-02-23T18:41:54.601351Z",
     "shell.execute_reply": "2024-02-23T18:41:54.600358Z"
    }
   },
   "outputs": [],
   "source": [
    "import sys; sys.path.insert(0,\"..\") # Allow import of agd from parent directory (useless if conda package installed)\n",
    "#from Miscellaneous import TocTools; print(TocTools.displayTOC('Meissner','Algo'))"
   ]
  },
  {
   "cell_type": "code",
   "execution_count": 2,
   "metadata": {
    "execution": {
     "iopub.execute_input": "2024-02-23T18:41:54.606041Z",
     "iopub.status.busy": "2024-02-23T18:41:54.605652Z",
     "iopub.status.idle": "2024-02-23T18:41:54.855884Z",
     "shell.execute_reply": "2024-02-23T18:41:54.855576Z"
    },
    "tags": [
     "ExportCode"
    ]
   },
   "outputs": [],
   "source": [
    "from agd import LinearParallel as lp\n",
    "from agd import AutomaticDifferentiation as ad\n",
    "from agd import Plotting\n",
    "norm_infinity = ad.Optimization.norm_infinity"
   ]
  },
  {
   "cell_type": "code",
   "execution_count": 3,
   "metadata": {
    "execution": {
     "iopub.execute_input": "2024-02-23T18:41:54.857462Z",
     "iopub.status.busy": "2024-02-23T18:41:54.857353Z",
     "iopub.status.idle": "2024-02-23T18:41:55.502901Z",
     "shell.execute_reply": "2024-02-23T18:41:55.502464Z"
    },
    "tags": [
     "ExportCode"
    ]
   },
   "outputs": [],
   "source": [
    "import numpy as np\n",
    "from matplotlib import pyplot as plt\n",
    "import scipy\n",
    "import scipy.optimize as sciopt"
   ]
  },
  {
   "cell_type": "code",
   "execution_count": 4,
   "metadata": {
    "execution": {
     "iopub.execute_input": "2024-02-23T18:41:55.504687Z",
     "iopub.status.busy": "2024-02-23T18:41:55.504488Z",
     "iopub.status.idle": "2024-02-23T18:41:55.507147Z",
     "shell.execute_reply": "2024-02-23T18:41:55.506451Z"
    }
   },
   "outputs": [],
   "source": [
    "def reload_packages():\n",
    "                from Miscellaneous.rreload import rreload\n",
    "                global Plotting\n",
    "                Plotting, = rreload([Plotting],rootdir=\"..\")"
   ]
  },
  {
   "cell_type": "markdown",
   "metadata": {},
   "source": [
    "### 0.1 Interface with `scipy.optimize`\n",
    "\n",
    "This notebook presents some constrained, non-linear, non-convex, optimization problems, which are numerically addressed using the `scipy.optimize.minimize` method (with the `trust-constr` option).\n",
    "\n",
    "For that purpose, the value, gradient, and hessian of the optimized function and of the constraints are required. We use sparse automatic differentiation to evaluate these quantities at a reasonable cost, and with minimal additional code. The following functions act as an interface between the sparse AD tools and the `scipy.optimize` package.\n",
    "\n",
    "**Linear constraints, quadratic objective functions.**\n",
    "Sometimes, the algebraic structure of the optimized function and/or of the constraint is simple enough, i.e. a sparse polynomial of degree $\\leq 2$, that it can be entirely stored in an `ad` variable. The following code turns such `ad` variables into `scipy.optimize` constraints and objective functions, featuring their value, jacobian, and possibly hessian."
   ]
  },
  {
   "cell_type": "code",
   "execution_count": 5,
   "metadata": {
    "execution": {
     "iopub.execute_input": "2024-02-23T18:41:55.510315Z",
     "iopub.status.busy": "2024-02-23T18:41:55.509814Z",
     "iopub.status.idle": "2024-02-23T18:41:55.514914Z",
     "shell.execute_reply": "2024-02-23T18:41:55.514478Z"
    },
    "tags": [
     "ExportCode"
    ]
   },
   "outputs": [],
   "source": [
    "def LinearConstraint_AD(f):\n",
    "    \"\"\"\n",
    "    Takes a linear constraint f>=0, \n",
    "    encoded as an ad.Sparse variable, \n",
    "    and turns it into a scipy compatible constraint.\n",
    "    \"\"\"\n",
    "    return sciopt.LinearConstraint(f.tangent_operator(), lb = -f.value, ub=np.inf)\n",
    "\n",
    "def QuadraticObjective_AD(f):\n",
    "    \"\"\"\n",
    "    Takes a quadratic objective function, \n",
    "    encoded as an ad.Sparse2 variable,\n",
    "    and returns fun, jac and hessian methods.\n",
    "    \"\"\"\n",
    "    val0 = f.value\n",
    "    grad0 = f.to_first().to_dense().gradient()\n",
    "    n = len(grad0)\n",
    "    hess0 = f.hessian_operator(shape=(n,n))\n",
    "    def fun(x):  return val0+np.dot(grad0,x)+np.dot(x,hess0*x)/2\n",
    "    def grad(x): return grad0+hess0*x\n",
    "    def hess(x): return hess0\n",
    "    return {'fun':fun,'jac':grad,'hess':hess}"
   ]
  },
  {
   "cell_type": "markdown",
   "metadata": {},
   "source": [
    "**General non-linear constraints and objective functions.**\n",
    "We use sparse automatic differentiation to evaluate the gradient and hessian of general non-linear constraints and functions. For numerical efficiency reasons, the constraints considered in this notebook are presented in a somewhat peculiar form: using *indices* $(i_k(x))_{0\\leq k < K}$ and *weights*  $(g_k(x))_{0 \\leq k < K}$, where $i_k(x) \\in \\{1,\\cdots,I\\}$ and $g_k(x) \\in R$. \n",
    "\n",
    "The implied constraints\n",
    "$$\n",
    "    f_i(x) \\geq 0\n",
    "$$\n",
    "for all $0 \\leq i < I$, are defined as \n",
    "$$\n",
    "    f_i(x) := \\sum_{0 \\leq k < K} 1_{i=i_k(x)} \\ g_k(x).\n",
    "$$\n",
    "In other words, the $i$-th constraint is the `np.bincount` of the *indices* $(i_k(x))_{0\\leq k < K}$, using the *weights*  $(g_k(x))_{0 \\leq k < K}$. "
   ]
  },
  {
   "cell_type": "code",
   "execution_count": 6,
   "metadata": {
    "execution": {
     "iopub.execute_input": "2024-02-23T18:41:55.517578Z",
     "iopub.status.busy": "2024-02-23T18:41:55.517197Z",
     "iopub.status.idle": "2024-02-23T18:41:55.523656Z",
     "shell.execute_reply": "2024-02-23T18:41:55.523197Z"
    },
    "tags": [
     "ExportCode"
    ]
   },
   "outputs": [],
   "source": [
    "def NonlinearObjective(f,fargs):\n",
    "    \"\"\"Returns methods computing the value, gradient and hessian \n",
    "    of a given objective function f\"\"\"\n",
    "    def fun(x):\n",
    "        return f(x,*fargs)\n",
    "    def grad(x): \n",
    "        return f(ad.Sparse.identity(constant=x),*fargs).to_dense().gradient()\n",
    "    def hess(x): \n",
    "        return f(ad.Sparse2.identity(constant=x),*fargs).hessian_operator()\n",
    "    return {'fun':fun,'jac':grad,'hess':hess}\n",
    "\n",
    "def NonlinearConstraint(f,fargs):\n",
    "    \"\"\"\n",
    "    Represents the constraint : np.bincount(indices,weights) >= 0,\n",
    "    where (indices, weights) = f(x,*fargs)\n",
    "    (Indices may be repeated, and the associated values must be summed.)\n",
    "    \"\"\"\n",
    "    def fun(x):\n",
    "        ind,wei = f(x,*fargs); \n",
    "        return np.bincount(ind,wei)\n",
    "    def grad(x): \n",
    "        ind,wei = f(ad.Sparse.identity(constant=x),*fargs)\n",
    "        triplets = (wei.coef.reshape(-1),(ind.repeat(wei.size_ad),wei.index.reshape(-1)))\n",
    "        return scipy.sparse.coo_matrix(triplets).tocsr()\n",
    "    def hess(x,v): # v is a set of weights, provided by the optimizer\n",
    "        ind,wei = f(ad.Sparse2.identity(constant=x),*fargs)\n",
    "        return np.sum(v[ind]*wei).hessian_operator()\n",
    "    return sciopt.NonlinearConstraint(fun,0.,np.inf,jac=grad,hess=hess,keep_feasible=True)"
   ]
  },
  {
   "cell_type": "markdown",
   "metadata": {},
   "source": [
    "### 0.2 Utility functions\n",
    "\n",
    "The following functions turn AD objects into `scipy.optimize` objective and constraint."
   ]
  },
  {
   "cell_type": "code",
   "execution_count": 7,
   "metadata": {
    "execution": {
     "iopub.execute_input": "2024-02-23T18:41:55.525857Z",
     "iopub.status.busy": "2024-02-23T18:41:55.525660Z",
     "iopub.status.idle": "2024-02-23T18:41:55.528430Z",
     "shell.execute_reply": "2024-02-23T18:41:55.528027Z"
    }
   },
   "outputs": [],
   "source": [
    "def allclose_ad2(a,b,**kwargs): \n",
    "    return np.all([np.allclose(ai,bi,**kwargs) \n",
    "                   for ai,bi in zip(a.as_tuple(),b.as_tuple())])"
   ]
  },
  {
   "cell_type": "markdown",
   "metadata": {},
   "source": [
    "### 0.3 Additional configuration\n",
    "\n",
    "Visualize 3D interactive graphics with plotly."
   ]
  },
  {
   "cell_type": "code",
   "execution_count": 8,
   "metadata": {
    "execution": {
     "iopub.execute_input": "2024-02-23T18:41:55.530608Z",
     "iopub.status.busy": "2024-02-23T18:41:55.530417Z",
     "iopub.status.idle": "2024-02-23T18:41:55.532550Z",
     "shell.execute_reply": "2024-02-23T18:41:55.532144Z"
    }
   },
   "outputs": [],
   "source": [
    "use_plotly = False\n",
    "if use_plotly: import plotly.graph_objects as go"
   ]
  },
  {
   "cell_type": "markdown",
   "metadata": {},
   "source": [
    "## 1. Introduction\n",
    "\n",
    "In this preliminary section, we introduce the addressed problems along with the notations and relevant material, both in dimension two and three."
   ]
  },
  {
   "cell_type": "markdown",
   "metadata": {},
   "source": [
    "### 1.1 Parametrization of convex bodies\n",
    "\n",
    "Consider $X \\subset S^d$ a finite set of $d$-dimensional vectors of unit norm, and let $u : X \\to R$. \n",
    "Define the convex set\n",
    "$$\n",
    "    K(u) = \\{v \\in R^d; \\forall x \\in X, <v,x> \\leq u(x)\\},\n",
    "$$\n",
    "and denote by $K_x$ the facet associated to the direction $x\\in X$\n",
    "$$\n",
    "    K_x(u) := \\{v\\in K; <v,x> = u(x)\\}.\n",
    "$$\n",
    "\n",
    "**Relation with the subgradient.**\n",
    "Let $u : X \\to R$, and let $U$ denote the positively $1$-homogeneous extension of $u$, defined by\n",
    "$$\n",
    "    U(\\lambda x) = \\lambda u(x)\n",
    "$$\n",
    "for all $x \\in X$, and all $\\lambda \\geq 0$. (Conventionally, $U=\\infty$ elsewhere.)\n",
    "\n",
    "Then the sets of interests are subgradients of $U$, as can easily be checked:\n",
    "$$\n",
    "    K(u) = \\partial_0 U, \\quad K_x(u) = \\partial_x U,\n",
    "$$\n",
    "for all $x \\in X$.\n",
    "\n",
    "From this one obtains that $K(u+\\tilde u) \\supset K(u)+K(\\tilde u)$ and $K_x(u+\\tilde u) \\supset K_x(u)+K_x(\\tilde u)$ for any $u,\\tilde u:X \\to R$ and any $x \\in X$.\n",
    "Recall that the Minkowski sum of two sets is defined as $A+B = \\{a+b; a\\in A, b\\in B\\}$.\n",
    "\n",
    "**Measure.** \n",
    "Denote by $|A|_n$ the $n$-dimensional Lebesgue measure of a set $A$. \n",
    "From the Brunn-Minkowski inequality, and the inclusions previously established using the subgradient interpretation, we obtain that following quantities are concave w.r.t $u : X \\to R$\n",
    "$$\n",
    "    |K(u)|_d^\\frac 1 d, \\quad |K_x(u)|_{d-1}^\\frac 1 {d-1}.\n",
    "$$\n",
    "\n",
    "**Barrier function.**\n",
    "We are interesting in optimizing over convex bodies of the form $K(u)$, whose facet measures $|K_x(u)|_{d-1}$ are positive for all $x \\in X$. For that purpose, the `BodyBarrier` function computes\n",
    "$$\n",
    "        S(u) = - \\sum_{x \\in X} \\rho(x) \\ln |K_x|_{d-1},\n",
    "$$\n",
    "where $\\rho : X \\to ]0,\\infty[$ is a positive collection of weights.\n",
    "\n",
    "The barrier function $S(u)$ is convex x.r.t $u:X \\to R$, in view of the concavity of the facet measure (power $1/(d-1)$) established in the previous paragraph.\n",
    "\n",
    "\n",
    "**Facet measures are derivatives of total measure.**\n",
    "The derivative of the total volume of $K(u)$, with respect to the hyperplane separation distance $u(x)$, is the facet area $|K_x|$. More precisely\n",
    "$$\n",
    "    \\frac {\\partial |K(u)|_d}{\\partial u(x)} = \\frac{|K_x(u)|_{d-1}}{\\|x\\|}.\n",
    "$$\n",
    "Note that the formula slightly simplifies under our assumption $\\|x\\|=1$ that vectors are unit.\n",
    "\n",
    "**Invariances.**\n",
    "One has the scaling and translation properties\n",
    "$$\n",
    "    K(\\lambda u) = \\lambda K(u), \\quad K(u+<z,\\cdot>) = K(u)+z,\n",
    "$$\n",
    "for any $u: X \\to R$, $\\lambda \\geq 0$, and $z \\in R^d$.\n",
    "The facets $K_x$, $x\\in X$, obey similar relations obviously.\n",
    "\n",
    "From this we deduce the homogeneity and invariance relations\n",
    "$$\n",
    "    |K(\\lambda u+<z,\\cdot>)|_d = \\lambda^d |K(u)|_d, \\quad |K_x(\\lambda u+<z,\\cdot>)|_{d-1} = \\lambda^{d-1} |K_x(u)|_{d-1},\n",
    "$$\n",
    "and likewise for the barrier function $S(u)$.\n",
    "\n",
    "**Case of non-unit vectors.**\n",
    "If $\\tilde X \\subset R^d \\setminus \\{0\\}$ contains non-unit vectors, and $\\tilde u : \\tilde X \\to R$, then consider \n",
    "$X = \\{x/\\|x\\|; x \\in \\tilde X\\}$ and $u(x/\\|x\\|) := \\tilde u(x)/\\|x\\|$ which defines the same convex body."
   ]
  },
  {
   "cell_type": "markdown",
   "metadata": {},
   "source": [
    "### 1.2 Minkowski's problem\n",
    "\n",
    "Minkowski's problem asks for a convex body $K$ whose normals are distributed according to a given measure $\\mu$ on $S^d$, which must be non-negative and have a vanishing first moment :\n",
    "$$\n",
    "    \\int_{S^d} x\\, d\\mu(x) = 0\n",
    "$$\n",
    "\n",
    "**Discretization.**\n",
    "Consider a finite sampling $X \\subset S^d$, and denote by $\\mu : X \\to ]0,\\infty[$ a discrete approximation of the original measure, now subject to the compatibility condition\n",
    "$$\n",
    "    \\sum_{x \\in X} \\mu(x) x = 0\n",
    "$$\n",
    "\n",
    "Consider the convex functional of $u : X \\to R$ defined as \n",
    "$$\n",
    "    f(u) = -\\ln |K(u)|_d + \\sum_{x \\in X} \\mu(x) u(x).\n",
    "$$\n",
    "Then $f$ is convex, as established above. Furthermore any minimizer satisfies \n",
    "$$\n",
    "    {-} \\frac{|K_x(u)|_{d-1}}{|K(u)|_d} + \\mu(x) = 0,\n",
    "$$\n",
    "in view of the expression of the partial derivatives of the volume $|K(u)|_d$. \n",
    "\n",
    "By homogeneity, $\\tilde u := u/|K(u)|_d$ solves the discrete variant of Minkowski's problem, \n",
    "namely $|K_x(\\tilde u)|_{d-1} = \\mu(x)$ for all $x \\in X$.\n",
    "\n",
    "Note that the discretized Minkowski problem is a special case of the general problem, when $\\mu$ is a discrete measure, hence general results apply and in particular there exists a solution.\n",
    "\n",
    "**Invariance and normalization.**\n",
    "By construction one has the invariance relation \n",
    "$$\n",
    "f(u+<z,\\cdot>) = f(u),\n",
    "$$\n",
    "for any $z \\in R^d$.\n",
    "\n",
    "In order to break this invariance, one can select e.g. the solution whose first order moment\n",
    "$$\n",
    "    \\sum_{x\\in X} u(x) \\nu(x) x = 0\n",
    "$$\n",
    "vanishes, where $\\nu : X \\to [0,\\infty[$ is some discrete measure such that $\\sum_{x \\in X} \\nu(x) x x^\\top \\succ 0$.\n",
    "\n",
    "Note that our numerical implementation requires that $u$ remains positive. While there exists such a solution, it is not obvious how to choose $\\nu$ above so as to select it.\n",
    "\n",
    "**Absence of constraints.**\n",
    "By construction the minimizer of the above unconstrained optimization problem $|K_x(u)|_{d-1} = \\mu(x) |K(u)|_d$.\n",
    "Since the measure $\\mu$ is pointwise positive, and the total volume is positive, we obtain that the facet areas of the minimizer are positive. Therefore it is useless to introduce an additional independent constraint ensuring the  positivity of the facet areas."
   ]
  },
  {
   "cell_type": "markdown",
   "metadata": {},
   "source": [
    "### 1.3 Reulaux and Meissner's bodies of constant width\n",
    "\n",
    "The Reulaux triangle is defined as (resp. Meissner's tetrahedra are conjectured to be) the convex body of constant width $1$ in all directions which minimize the total volume, in dimension $d=2$ (resp. $d=3$). In other words, it solves\n",
    "$$\n",
    "    \\min_K |K|_d,\n",
    "$$\n",
    "over the set of convex bodies in $R^d$, subject to the constraint for each element $x \\in S^d$ of the unit sphere\n",
    "$$\n",
    "    \\max_{v\\in K} <v,x> - \\min_{v \\in K} <v,x> = l.\n",
    "$$\n",
    "\n",
    "The Reulaux triangle, which is not a triangle strictly speaking, is unique up to translations and rotations, and can be characterized as the intersection of three disks of unit radius at the vertices of an equilateral triangle of unit edge length.\n",
    "\n",
    "There are two Meissner tetrahedra, up to translations and rotations. They are not tetrahedra strictly speaking, but nevetheless have a similar shape, with three sharp edges and three smooth edges.\n",
    "\n",
    "**Convexity considerations.**\n",
    "The Reulaux and Meisnner problems can be rephrased as the minimization of the concave functional\n",
    "$$\n",
    "    \\min_{u:S^{d-1} \\to R} |K(u)|_d,\n",
    "$$\n",
    "where $S^{d-1} := \\{x \\in R^d; \\|x\\|=1\\}$ denotes the unit sphere. \n",
    "The problem is subject to the following linear constraints: for all $x \\in S^{d-1}$\n",
    "$$\n",
    "    u(x) + u(-x) = 1.\n",
    "$$\n",
    "Note that a concave functional may have several *minimizers*, displaying a symmetry breaking phenomenon, as evidenced here. In contrast, the shape of constant width $1$ which maximizes volume is the sphere."
   ]
  },
  {
   "cell_type": "markdown",
   "metadata": {},
   "source": [
    "### 1.4 Constructing a r.h.s. for the Minkowski problem"
   ]
  },
  {
   "cell_type": "markdown",
   "metadata": {},
   "source": [
    "The r.h.s. of the Minkowski problem must be a *positive measure, supported on the sphere, with vanishing first order moments*. \n",
    "The following function (implemented without any guarantee) takes a positive measure, and returns a positive measure with vanishing first order moments, hopefully close to it."
   ]
  },
  {
   "cell_type": "code",
   "execution_count": 9,
   "metadata": {
    "execution": {
     "iopub.execute_input": "2024-02-23T18:41:55.534731Z",
     "iopub.status.busy": "2024-02-23T18:41:55.534563Z",
     "iopub.status.idle": "2024-02-23T18:41:55.538280Z",
     "shell.execute_reply": "2024-02-23T18:41:55.537960Z"
    }
   },
   "outputs": [],
   "source": [
    "def normalize_moment(μ0,X):\n",
    "    \"\"\"\n",
    "    Returns a measure usually close to μ but with zero first order moment. \n",
    "    \"\"\"\n",
    "    # Compute non-negative v such that sum_X v(x) x = 0\n",
    "    z = lp.solve_AV(lp.dot_AA(X,X.T),X.sum(axis=1)) # 0 = sum_X (1+<z,x>)x\n",
    "    v = 1-lp.dot_VV(z[:,None],X)\n",
    "    assert np.all(v>=0) # No guarantee...\n",
    "    \n",
    "    # Compute non-negative weights p1,...,pd, m1,...,md\n",
    "    p = v*(X >  0)\n",
    "    m = v*(X <= 0)\n",
    "    \n",
    "    # Compute the correction\n",
    "    a = lp.solve_AV(lp.dot_AA(X,p.T), (μ0*X).sum(axis=1))\n",
    "    μ = μ0.copy()\n",
    "    for i in range(len(X)):\n",
    "        μ += np.abs(a[i])*(m[i] if a[i]>0 else p[i])\n",
    "\n",
    "    return μ"
   ]
  },
  {
   "cell_type": "code",
   "execution_count": 10,
   "metadata": {
    "execution": {
     "iopub.execute_input": "2024-02-23T18:41:55.539939Z",
     "iopub.status.busy": "2024-02-23T18:41:55.539827Z",
     "iopub.status.idle": "2024-02-23T18:41:55.543478Z",
     "shell.execute_reply": "2024-02-23T18:41:55.543153Z"
    }
   },
   "outputs": [],
   "source": [
    "np.random.seed(42)\n",
    "nθ=10\n",
    "\n",
    "# Use strictly increasing but somewhat random angles\n",
    "θ = np.sort(np.pi*np.random.rand(nθ))+np.linspace(0,np.pi,nθ,endpoint=False)\n",
    "X = np.array([np.cos(θ),np.sin(θ)]) # Unit vectors\n",
    "μ0 = np.random.rand(nθ)\n",
    "\n",
    "μ = normalize_moment(μ0,X)\n",
    "assert np.allclose((μ*X).sum(axis=1),0)\n",
    "assert np.all(μ>=0)"
   ]
  },
  {
   "cell_type": "markdown",
   "metadata": {},
   "source": [
    "## 2. Two dimensional convex bodies\n",
    "\n",
    "\n",
    "Two dimensional convex bodies $K(u)$ are simple, much simpler than three dimensional ones, because the skeleton of their boundary is independent of the width function $u:X \\to R$, and can be obtained by sorting the points of $X$ in circular trigonometric order. This property holds assuming that all the facets $K_x(u)$, $x\\in X$, have positive length. "
   ]
  },
  {
   "cell_type": "markdown",
   "metadata": {},
   "source": [
    "### 2.1 Explicit skeleton and area\n",
    "\n",
    "Assume that $X \\subset S^1$ is finite, where $S^1 = \\{x \\in R^d; \\|x\\|=1\\}$ denotes unit circle. Denote by  $x_1,\\cdots,x_N$ the elements of $X$, in counter-clockwise order. \n",
    "Then for $u : X \\to R$, subject to assumptions specified later,\n",
    "$$\n",
    "    K(u) = \\{v \\in R^2; \\forall x \\in X, <v,x> \\leq u(x)\\},\n",
    "$$\n",
    "is a polygon whose vertices $v_1,\\cdots,v_N$ are obtained by solving\n",
    "$$\n",
    "    <v_i,x_i> = u(x_i) \\text{ and } <v_i,x_{i+1}> = u(x_{i+1}).\n",
    "$$\n",
    "The edges of this polygon are $K_{x_i}(u) = [v_{i-1},v_i]$. This relation holds so long as all have positive measure.\n",
    "\n",
    "Note also that the edges of $K(u)$ are $K_{x_1}(u),\\cdots,K_{x_N}(u)$ in counter-clokwise order. In particular the facet intersection $K_x(u)\\cap K_y(u)$ is non-empty iff $x,y\\in X$ are adjacent in counter-clockwise order.\n",
    "\n",
    "In the following functions, we compute the vertices of $K(u)$, and the measure $|K(u)|$ and of $|K_x(u)|$ for all $x \\in X\n",
    "."
   ]
  },
  {
   "cell_type": "code",
   "execution_count": 11,
   "metadata": {
    "execution": {
     "iopub.execute_input": "2024-02-23T18:41:55.545341Z",
     "iopub.status.busy": "2024-02-23T18:41:55.545194Z",
     "iopub.status.idle": "2024-02-23T18:41:55.547502Z",
     "shell.execute_reply": "2024-02-23T18:41:55.547206Z"
    }
   },
   "outputs": [],
   "source": [
    "def DualVertices(u,X): \n",
    "    r\"\"\"\n",
    "    Returns the vertices of the convex body \n",
    "    defined by the intersection of half spaces\n",
    "    $\\{v; \\forall x \\in X, <v,x>\\leq u(x)\\}$.\n",
    "    \n",
    "    Assumptions : X ordered counter-clockwise, no empty facet.\n",
    "    \"\"\"\n",
    "    return lp.solve_AV([X,np.roll(X,-1,axis=1)],[u,np.roll(u,-1)])"
   ]
  },
  {
   "cell_type": "code",
   "execution_count": 12,
   "metadata": {
    "execution": {
     "iopub.execute_input": "2024-02-23T18:41:55.549122Z",
     "iopub.status.busy": "2024-02-23T18:41:55.548989Z",
     "iopub.status.idle": "2024-02-23T18:41:55.550992Z",
     "shell.execute_reply": "2024-02-23T18:41:55.550677Z"
    }
   },
   "outputs": [],
   "source": [
    "def FullMeasure(u,X):\n",
    "    V = DualVertices(u,X)\n",
    "    #Returns the area of the star-shaped body of vertices V.\n",
    "    return lp.det([np.roll(V,1,axis=1), V]).sum()/2"
   ]
  },
  {
   "cell_type": "code",
   "execution_count": 13,
   "metadata": {
    "execution": {
     "iopub.execute_input": "2024-02-23T18:41:55.552648Z",
     "iopub.status.busy": "2024-02-23T18:41:55.552527Z",
     "iopub.status.idle": "2024-02-23T18:41:55.554651Z",
     "shell.execute_reply": "2024-02-23T18:41:55.554388Z"
    }
   },
   "outputs": [],
   "source": [
    "def FacetMeasures(u,X):\n",
    "    V = DualVertices(u,X)\n",
    "    iX = X/lp.dot_VV(X,X) # x/|x|^2\n",
    "    # Returns the edge length, known to be orthogonal to X\n",
    "    return lp.det([np.roll(V,1,axis=1)-V,iX])"
   ]
  },
  {
   "cell_type": "markdown",
   "metadata": {},
   "source": [
    "Note that, in dimension $d=2$, these functions are polynomial w.r.t. the height function $u$. More precisely:\n",
    "- `DualVertices(u,X)` is linear homogeneous w.r.t. $u$.\n",
    "- `FullMeasure(u,X)` is quadratic homogeneous w.r.t. $u$.\n",
    "- `FacetMeasures(u,X)`, the facet areas, is linear homogeneous w.r.t. $u$.\n",
    "\n",
    "In applications, it will often be useful to have an explicit expression of the quadratic form involved.\n",
    "\n",
    "Note that `FacetMeasures` is nothing else than the gradient of `FullMeasure(u,X)` w.r.t. $u$."
   ]
  },
  {
   "cell_type": "code",
   "execution_count": 14,
   "metadata": {
    "execution": {
     "iopub.execute_input": "2024-02-23T18:41:55.556191Z",
     "iopub.status.busy": "2024-02-23T18:41:55.556070Z",
     "iopub.status.idle": "2024-02-23T18:41:55.558079Z",
     "shell.execute_reply": "2024-02-23T18:41:55.557808Z"
    }
   },
   "outputs": [],
   "source": [
    "def FullMeasure_hess(X):\n",
    "    \"\"\"\n",
    "    Returns a sparse matrix A such that \n",
    "    |K(u)| = <u, A u> /2 \n",
    "    and thus\n",
    "    [ |K_{x_1}(u)|, ..., |K_{x_n}(u)| ] = A u.\n",
    "    \"\"\"\n",
    "    u_ad = ad.Sparse2.identity(shape = X.shape[1:])\n",
    "    meas_ad = FullMeasure(u_ad,X)\n",
    "    return meas_ad.hessian_operator()"
   ]
  },
  {
   "cell_type": "markdown",
   "metadata": {},
   "source": [
    "In dimension $d=3$, these properties are lost, and the problem is more complex since the dual vertices change connectivity as the height $u$ varies. The skeleton of $K(u)$ can only be determined by calling a convex hull algorithm, whereas the volume $|K(u)|$ is *piecewise* cubic w.r.t $u$. "
   ]
  },
  {
   "cell_type": "code",
   "execution_count": 15,
   "metadata": {
    "execution": {
     "iopub.execute_input": "2024-02-23T18:41:55.559598Z",
     "iopub.status.busy": "2024-02-23T18:41:55.559476Z",
     "iopub.status.idle": "2024-02-23T18:41:55.562067Z",
     "shell.execute_reply": "2024-02-23T18:41:55.561810Z"
    }
   },
   "outputs": [],
   "source": [
    "np.random.seed(42)\n",
    "nθ=10\n",
    "\n",
    "# Use strictly increasing but somewhat random angles\n",
    "θ = np.sort(np.pi*np.random.rand(nθ))+np.linspace(0,np.pi,nθ,endpoint=False)\n",
    "X = np.array([np.cos(θ),np.sin(θ)]) # Unit vectors\n",
    "\n",
    "# Choose u close to 1, so that all facets are non-empty\n",
    "u = np.ones_like(θ)+0.2*np.random.rand(nθ)"
   ]
  },
  {
   "cell_type": "markdown",
   "metadata": {},
   "source": [
    "### 2.2 Validations\n",
    "\n",
    "We check basic mathematical consistency properties."
   ]
  },
  {
   "cell_type": "code",
   "execution_count": 16,
   "metadata": {
    "execution": {
     "iopub.execute_input": "2024-02-23T18:41:55.563494Z",
     "iopub.status.busy": "2024-02-23T18:41:55.563386Z",
     "iopub.status.idle": "2024-02-23T18:41:55.565742Z",
     "shell.execute_reply": "2024-02-23T18:41:55.565493Z"
    }
   },
   "outputs": [],
   "source": [
    "np.random.seed(42)\n",
    "nθ=10\n",
    "\n",
    "# Use strictly increasing but somewhat random angles\n",
    "θ = np.sort(np.pi*np.random.rand(nθ))+np.linspace(0,np.pi,nθ,endpoint=False)\n",
    "X = np.array([np.cos(θ),np.sin(θ)]) # Unit vectors\n",
    "\n",
    "# Choose u close to 1, so that all facets are non-empty\n",
    "u = np.ones_like(θ)+0.2*np.random.rand(nθ)"
   ]
  },
  {
   "cell_type": "markdown",
   "metadata": {},
   "source": [
    "**The primal convex body.** \n",
    "Given $u : X \\to ]0,\\infty[$, define the *primal* convex body $\\hat K(u)$ as the convex convex hull \n",
    "$$\n",
    "    \\hat K(u) = \\mathrm{Conv}\\{x/u(x); x \\in X\\}.\n",
    "$$\n",
    "\n",
    "Then $K(u)$ can be obtained as the *dual* convex body as follows\n",
    "$$\n",
    "    K(u) = \\{v \\in R^d; \\forall w \\in \\hat K(u), <v,w>\\leq 1\\}.\n",
    "$$\n",
    "\n",
    "The next cell illustrates these two objects."
   ]
  },
  {
   "cell_type": "code",
   "execution_count": 17,
   "metadata": {
    "execution": {
     "iopub.execute_input": "2024-02-23T18:41:55.567088Z",
     "iopub.status.busy": "2024-02-23T18:41:55.566986Z",
     "iopub.status.idle": "2024-02-23T18:41:55.737704Z",
     "shell.execute_reply": "2024-02-23T18:41:55.737448Z"
    }
   },
   "outputs": [
    {
     "data": {
      "image/png": "[encoded data removed]",
      "text/plain": [
       "<Figure size 900x400 with 2 Axes>"
      ]
     },
     "metadata": {},
     "output_type": "display_data"
    }
   ],
   "source": [
    "plt.figure(figsize=[9,4])\n",
    "\n",
    "plt.subplot(1,2,1)\n",
    "plt.title(r\"Primal body $\\hat K$\"); V = X/u; \n",
    "plt.scatter(*V); plt.fill(*V,fill=False)\n",
    "plt.scatter(0,0); plt.axis('equal')\n",
    "\n",
    "plt.subplot(1,2,2)\n",
    "plt.title(r\"Dual body $K$\"); V = DualVertices(u,X)\n",
    "plt.scatter(*V); plt.fill(*V,fill=False)\n",
    "plt.scatter(0,0); plt.axis('equal');"
   ]
  },
  {
   "cell_type": "markdown",
   "metadata": {},
   "source": [
    "The edge lengths of the dual convex body, ordered trigonometrically."
   ]
  },
  {
   "cell_type": "code",
   "execution_count": 18,
   "metadata": {
    "execution": {
     "iopub.execute_input": "2024-02-23T18:41:55.739122Z",
     "iopub.status.busy": "2024-02-23T18:41:55.739025Z",
     "iopub.status.idle": "2024-02-23T18:41:55.743398Z",
     "shell.execute_reply": "2024-02-23T18:41:55.743172Z"
    }
   },
   "outputs": [
    {
     "data": {
      "text/plain": [
       "array([1.07701377, 0.15785642, 0.76418518, 1.29202076, 0.75492272,\n",
       "       0.55663253, 0.64297539, 0.49982868, 0.7190144 , 0.63519102])"
      ]
     },
     "execution_count": 18,
     "metadata": {},
     "output_type": "execute_result"
    }
   ],
   "source": [
    "FullMeasure_hess(X)*u"
   ]
  },
  {
   "cell_type": "markdown",
   "metadata": {},
   "source": [
    "**Invariance to translations**\n",
    "\n",
    "The area of a polytope, and of its facets, is invariant under translations. \n",
    "As a result, the corresponding quadratic form has a two dimensional kernel, corresponding to translations along the horizontal and vertical axes. The kernel elements take the form \n",
    "$$\n",
    "    u(x) = <x,v>\n",
    "$$\n",
    "for some fixed vector $v \\in R^2$, the translation vector of the polytope. The smallest eigenvalues of the volume quadratic form are obtained as follows."
   ]
  },
  {
   "cell_type": "code",
   "execution_count": 19,
   "metadata": {
    "execution": {
     "iopub.execute_input": "2024-02-23T18:41:55.744676Z",
     "iopub.status.busy": "2024-02-23T18:41:55.744598Z",
     "iopub.status.idle": "2024-02-23T18:41:55.750358Z",
     "shell.execute_reply": "2024-02-23T18:41:55.750168Z"
    }
   },
   "outputs": [
    {
     "data": {
      "text/plain": [
       "(array([-1.21342438e-15, -1.29339741e-17]),\n",
       " array([[ 0.12897715, -0.41084996],\n",
       "        [ 0.35579572, -0.21866903],\n",
       "        [ 0.42340306, -0.08426321],\n",
       "        [ 0.35619567,  0.33182285],\n",
       "        [-0.0467668 ,  0.4404503 ],\n",
       "        [-0.18586886,  0.38042377],\n",
       "        [-0.39585204,  0.15056427],\n",
       "        [-0.44725421, -0.02408933],\n",
       "        [-0.36328678, -0.32348888],\n",
       "        [-0.15868826, -0.44672789]]))"
      ]
     },
     "execution_count": 19,
     "metadata": {},
     "output_type": "execute_result"
    }
   ],
   "source": [
    "scipy.sparse.linalg.eigsh(FullMeasure_hess(X),2,which='SM')"
   ]
  },
  {
   "cell_type": "markdown",
   "metadata": {},
   "source": [
    "We can check directly that the coordinates of the point $X$ belong to the kernel."
   ]
  },
  {
   "cell_type": "code",
   "execution_count": 20,
   "metadata": {
    "execution": {
     "iopub.execute_input": "2024-02-23T18:41:55.751585Z",
     "iopub.status.busy": "2024-02-23T18:41:55.751506Z",
     "iopub.status.idle": "2024-02-23T18:41:55.754623Z",
     "shell.execute_reply": "2024-02-23T18:41:55.754390Z"
    }
   },
   "outputs": [],
   "source": [
    "assert np.allclose(FullMeasure_hess(X)*X.T,0)"
   ]
  },
  {
   "cell_type": "markdown",
   "metadata": {},
   "source": [
    "**Consistency between the full measure and the facet measures**"
   ]
  },
  {
   "cell_type": "code",
   "execution_count": 21,
   "metadata": {
    "execution": {
     "iopub.execute_input": "2024-02-23T18:41:55.755867Z",
     "iopub.status.busy": "2024-02-23T18:41:55.755791Z",
     "iopub.status.idle": "2024-02-23T18:41:55.758454Z",
     "shell.execute_reply": "2024-02-23T18:41:55.758236Z"
    }
   },
   "outputs": [],
   "source": [
    "assert np.allclose(FacetMeasures(u,X),FullMeasure_hess(X)*u)"
   ]
  },
  {
   "cell_type": "markdown",
   "metadata": {},
   "source": [
    "### 2.3 Minkowski's problem\n",
    "\n",
    "The Minkowski problem, of constructing a convex body with a given distribution of facet normals, can be reformulated as the minimization of the following convex functional\n",
    "$$\n",
    "    f(u) = -\\ln |K(u)|_d + \\sum_{x \\in X} \\mu(x) u(x) + \n",
    "    \\| \\sum_{x\\in X} u(x) \\nu(x) x \\|^2.\n",
    "$$\n",
    "The last term was introduced only to eliminate translation invariance. It vanishes at the minimizer."
   ]
  },
  {
   "cell_type": "code",
   "execution_count": 22,
   "metadata": {
    "execution": {
     "iopub.execute_input": "2024-02-23T18:41:55.759684Z",
     "iopub.status.busy": "2024-02-23T18:41:55.759609Z",
     "iopub.status.idle": "2024-02-23T18:41:55.761869Z",
     "shell.execute_reply": "2024-02-23T18:41:55.761660Z"
    }
   },
   "outputs": [],
   "source": [
    "def Minkowski(u,μ,ν,X):\n",
    "    if np.any(ad.remove_ad(u)<=0): return np.nan # Require a positive u\n",
    "    m = (u*ν*X).sum(axis=1) # Additional term for eliminating translations\n",
    "    return -np.log(FullMeasure(u,X)) + (u*μ).sum() + (m**2).sum()"
   ]
  },
  {
   "cell_type": "markdown",
   "metadata": {},
   "source": [
    "Note that a somewhat more efficient implementation could be obtained by replacing `Measure(DualVertices(u,X))` with \n",
    "$$\n",
    "    \\frac 1 2 <u,H u>\n",
    "$$\n",
    "where $H=$`FullMeasure_hess(X)` is precomputed. However, this may raise some compatibility issues with the automatic differentiation used within the Newton solver, and in any case the computation cost is very low for such one dimensional problems."
   ]
  },
  {
   "cell_type": "code",
   "execution_count": 23,
   "metadata": {
    "execution": {
     "iopub.execute_input": "2024-02-23T18:41:55.763123Z",
     "iopub.status.busy": "2024-02-23T18:41:55.763050Z",
     "iopub.status.idle": "2024-02-23T18:41:55.765192Z",
     "shell.execute_reply": "2024-02-23T18:41:55.764981Z"
    }
   },
   "outputs": [],
   "source": [
    "nUnk = 20\n",
    "\n",
    "θ = np.linspace(0,2*np.pi,2*nUnk,endpoint=False)\n",
    "X = np.array([np.cos(θ),np.sin(θ)])\n",
    "\n",
    "Xsize = X.shape[1]\n",
    "ν = np.ones(Xsize)\n",
    "u0 = np.ones(Xsize) # Initial guess"
   ]
  },
  {
   "cell_type": "code",
   "execution_count": 24,
   "metadata": {
    "execution": {
     "iopub.execute_input": "2024-02-23T18:41:55.766393Z",
     "iopub.status.busy": "2024-02-23T18:41:55.766310Z",
     "iopub.status.idle": "2024-02-23T18:41:55.823368Z",
     "shell.execute_reply": "2024-02-23T18:41:55.823090Z"
    }
   },
   "outputs": [
    {
     "name": "stdout",
     "output_type": "stream",
     "text": [
      "Initialization, objective 42.60761704266221\n",
      "Iteration 1, Newton step 0.0625, objective 15.777013746064972.\n",
      "Iteration 2, Newton step 0.125, objective 10.822435392725485.\n",
      "Iteration 3, Newton step 0.25, objective 8.209201799032432.\n",
      "Iteration 4, Newton step 0.5, objective 7.240910995517211.\n",
      "Iteration 5, Newton step 1.0, objective 7.0226296312883.\n",
      "Iteration 6, Newton step 1.0, objective 7.008855742374957.\n",
      "Iteration 8, Newton step 1.0, objective 7.00862407510096.\n",
      "Iteration 10, Newton step 1.0, objective 7.008624075100958.\n",
      "Convergence criterion satisfied, terminating.\n",
      "Iteration 11, Newton step 1.0, objective 7.008624075100958.\n"
     ]
    }
   ],
   "source": [
    "np.random.seed(42)\n",
    "μ = np.random.rand(Xsize)\n",
    "μ[ np.array([5,12,17])]+=4 # Add a few big facets\n",
    "μ = normalize_moment(μ,X)\n",
    "u = ad.Optimization.newton_minimize(Minkowski,u0,(μ,ν,X)) "
   ]
  },
  {
   "cell_type": "code",
   "execution_count": 25,
   "metadata": {
    "execution": {
     "iopub.execute_input": "2024-02-23T18:41:55.824591Z",
     "iopub.status.busy": "2024-02-23T18:41:55.824514Z",
     "iopub.status.idle": "2024-02-23T18:41:55.929866Z",
     "shell.execute_reply": "2024-02-23T18:41:55.929642Z"
    }
   },
   "outputs": [
    {
     "data": {
      "image/png": "[encoded data removed]",
      "text/plain": [
       "<Figure size 900x400 with 2 Axes>"
      ]
     },
     "metadata": {},
     "output_type": "display_data"
    }
   ],
   "source": [
    "plt.figure(figsize=[9,4])\n",
    "\n",
    "plt.subplot(1,2,1)\n",
    "plt.title(r\"Primal body $\\hat K$\"); V = X/u; \n",
    "plt.scatter(*V); plt.fill(*V,fill=False)\n",
    "plt.scatter(0,0); plt.axis('equal')\n",
    "\n",
    "plt.subplot(1,2,2)\n",
    "plt.title(r\"Dual body $K$\"); V = DualVertices(u,X)\n",
    "plt.scatter(*V); plt.fill(*V,fill=False)\n",
    "plt.scatter(0,0); plt.axis('equal');"
   ]
  },
  {
   "cell_type": "markdown",
   "metadata": {},
   "source": [
    "The obtained function $u$ is normalized as desired with a null moment."
   ]
  },
  {
   "cell_type": "code",
   "execution_count": 26,
   "metadata": {
    "execution": {
     "iopub.execute_input": "2024-02-23T18:41:55.931237Z",
     "iopub.status.busy": "2024-02-23T18:41:55.931135Z",
     "iopub.status.idle": "2024-02-23T18:41:55.932838Z",
     "shell.execute_reply": "2024-02-23T18:41:55.932632Z"
    }
   },
   "outputs": [],
   "source": [
    "assert np.allclose(0,(u*ν*X).sum(axis=1))"
   ]
  },
  {
   "cell_type": "markdown",
   "metadata": {},
   "source": [
    "And Minkowski's problem is solved, by the renormalized function $\\tilde u := u/|K(u)|_d$, in other words $|K_x(\\tilde u)|_{1} = \\mu(u)$."
   ]
  },
  {
   "cell_type": "code",
   "execution_count": 27,
   "metadata": {
    "execution": {
     "iopub.execute_input": "2024-02-23T18:41:55.934136Z",
     "iopub.status.busy": "2024-02-23T18:41:55.934055Z",
     "iopub.status.idle": "2024-02-23T18:41:55.937254Z",
     "shell.execute_reply": "2024-02-23T18:41:55.937044Z"
    }
   },
   "outputs": [],
   "source": [
    "tu = u/FullMeasure(u,X)\n",
    "facet_measures = FullMeasure_hess(X) * tu\n",
    "assert np.allclose(μ,facet_measures)"
   ]
  },
  {
   "cell_type": "markdown",
   "metadata": {},
   "source": [
    "**Comment : Remove because too trivial for agd ?**\n",
    "\n",
    "<!---\n",
    "We test below the validity of the second order taylor expansion of the volume implemented above in `K_measure_taylor2`, using some arbitrary (but valid) points $X$ and values $u$.\n",
    "--->\n",
    "\n",
    "<!---\n",
    "diff = K_measure_taylor2(u,X) - Measure(DualVertices(ad.Sparse2.identity(constant=u),X))\n",
    "ad.simplify_ad(diff)\n",
    "assert np.all([np.allclose(e,0) for e in (diff.value,diff.coef1,diff.coef2)])\n",
    "--->\n",
    "\n",
    "<!---\n",
    "np.random.seed(42); nθ=10\n",
    "θ = np.sort(np.pi*np.random.rand(nθ))+np.linspace(0,np.pi,nθ,endpoint=False)\n",
    "X = np.array([np.cos(θ),np.sin(θ)]) # Unit vectors\n",
    "u = np.ones_like(θ)+0.2*np.random.rand(nθ)\n",
    "\n",
    "diff = K_measure_taylor2(u,X) - Measure(DualVertices(ad.Sparse2.identity(constant=u),X))\n",
    "ad.simplify_ad(diff)\n",
    "assert np.all([np.allclose(e,0) for e in (diff.value,diff.coef1,diff.coef2)])\n",
    "--->"
   ]
  },
  {
   "cell_type": "markdown",
   "metadata": {},
   "source": [
    "### 2.4 The Reulaux triangle\n",
    "\n",
    "The [Reulaux triangle](https://en.wikipedia.org/wiki/Reuleaux_triangle) is obtained as the intersection of three unit disks centered at the vertices of an equilateral of unit edge length. Thus it is the central region in the following plot."
   ]
  },
  {
   "cell_type": "code",
   "execution_count": 28,
   "metadata": {
    "execution": {
     "iopub.execute_input": "2024-02-23T18:41:55.938555Z",
     "iopub.status.busy": "2024-02-23T18:41:55.938481Z",
     "iopub.status.idle": "2024-02-23T18:41:56.013080Z",
     "shell.execute_reply": "2024-02-23T18:41:56.012847Z"
    }
   },
   "outputs": [
    {
     "data": {
      "image/png": "[encoded data removed]",
      "text/plain": [
       "<Figure size 640x480 with 1 Axes>"
      ]
     },
     "metadata": {},
     "output_type": "display_data"
    }
   ],
   "source": [
    "plt.title(\"The Reulaux triangle is the intersection of the three disks\")\n",
    "ax = plt.gca()\n",
    "for θ in [0,2*np.pi/3,4*np.pi/3]:\n",
    "    # Vertices of an equilateral triangle of unit edge length\n",
    "    x = np.array([np.cos(θ),np.sin(θ)])/(2*np.sin(np.pi/3))\n",
    "    ax.add_patch(plt.Circle(x, 1,fill=False))\n",
    "    plt.scatter(*x)\n",
    "plt.axis('equal');"
   ]
  },
  {
   "cell_type": "markdown",
   "metadata": {},
   "source": [
    "Let us check that a numerical minimization of the volume, subject to a constraint of constant width, yields the Reulaux triangle. More precisely, we solve\n",
    "$$\n",
    "    \\min_u |K(u)|_2\n",
    "$$\n",
    "where $u : X \\to [0,1]$ is subject to $u(x)+u(-x) = 1$ for all $x \\in X$, and to the additional constraint that \n",
    "$$\n",
    "    |K_x(u)|_1 > 0,\n",
    "$$\n",
    "for all $x \\in X$, in other words the edge lengths are positive.\n",
    "\n",
    "<!---\n",
    "Because of the chosen solver calling conventions, the second constraint is reformulated as follows, with $N$ the number of elements of $X$\n",
    "$$\n",
    "    {-} \\Big(\\prod_{x \\in X} |K_x(u)|_1\\Big)^{\\frac 1 N} < 0.\n",
    "$$\n",
    "--->\n"
   ]
  },
  {
   "cell_type": "code",
   "execution_count": 29,
   "metadata": {
    "execution": {
     "iopub.execute_input": "2024-02-23T18:41:56.014478Z",
     "iopub.status.busy": "2024-02-23T18:41:56.014393Z",
     "iopub.status.idle": "2024-02-23T18:41:56.016256Z",
     "shell.execute_reply": "2024-02-23T18:41:56.016042Z"
    }
   },
   "outputs": [],
   "source": [
    "# Choose the number of unknowns for the optimization problem. \n",
    "nUnk = 50 \n",
    "\n",
    "θ = np.linspace(0,2*np.pi,2*nUnk,endpoint=False)\n",
    "X = np.array([np.cos(θ),np.sin(θ)])\n",
    "\n",
    "# The same unknown is used for u(x) and u(-x),\n",
    "# i.e. u = np.concatenate([u_half,1-u_half]) \n",
    "u_half_guess = 0.5+0.05*np.cos(np.linspace(0,3*np.pi,nUnk,endpoint=False))"
   ]
  },
  {
   "cell_type": "code",
   "execution_count": 30,
   "metadata": {
    "execution": {
     "iopub.execute_input": "2024-02-23T18:41:56.017499Z",
     "iopub.status.busy": "2024-02-23T18:41:56.017421Z",
     "iopub.status.idle": "2024-02-23T18:41:56.019170Z",
     "shell.execute_reply": "2024-02-23T18:41:56.018972Z"
    }
   },
   "outputs": [],
   "source": [
    "def volume_objective(u_half,X):\n",
    "    r\"\"\"\n",
    "    Returns the measure $|K(u)|_d$ of the convex body,\n",
    "    where u concatenates u_half and 1-u_half.\n",
    "    \"\"\"\n",
    "    u = np.concatenate([u_half,1-u_half]) \n",
    "    return FullMeasure(u,X)\n",
    "\n",
    "def convexity_constraint(u_half,X):\n",
    "    r\"\"\"\n",
    "    Returns the facet areas $|K_x(u)|_{d-1}$, $x\\in X$, \n",
    "    of the convex body, where u concatenates u_half and 1-u_half.\n",
    "    \"\"\"\n",
    "    u = np.concatenate([u_half,1-u_half])\n",
    "    return FacetMeasures(u,X)"
   ]
  },
  {
   "cell_type": "markdown",
   "metadata": {},
   "source": [
    "Since `volume_objective` is quadratic, and `convexity_constraint` is linear, we can fully encode them in sparse AD variables, which in turn are converted to `scipy.optimize` format."
   ]
  },
  {
   "cell_type": "code",
   "execution_count": 31,
   "metadata": {
    "execution": {
     "iopub.execute_input": "2024-02-23T18:41:56.020435Z",
     "iopub.status.busy": "2024-02-23T18:41:56.020356Z",
     "iopub.status.idle": "2024-02-23T18:41:56.051968Z",
     "shell.execute_reply": "2024-02-23T18:41:56.051740Z"
    }
   },
   "outputs": [],
   "source": [
    "u0 = np.zeros_like(u_half_guess)\n",
    "u_ad  = ad.Sparse.identity(constant=u0)\n",
    "u_ad2 = ad.Sparse2.identity(constant=u0)\n",
    "\n",
    "sol = sciopt.minimize(x0=u_half_guess,method='trust-constr',\n",
    "    **QuadraticObjective_AD(volume_objective(u_ad2,X)),\n",
    "    constraints = [LinearConstraint_AD(convexity_constraint(u_ad,X))],\n",
    "    bounds = sciopt.Bounds(0.,1)\n",
    "                     )"
   ]
  },
  {
   "cell_type": "markdown",
   "metadata": {},
   "source": [
    "The dual body, on the right, approximates the Reulaux triangle as desired."
   ]
  },
  {
   "cell_type": "code",
   "execution_count": 32,
   "metadata": {
    "execution": {
     "iopub.execute_input": "2024-02-23T18:41:56.053274Z",
     "iopub.status.busy": "2024-02-23T18:41:56.053198Z",
     "iopub.status.idle": "2024-02-23T18:41:56.152432Z",
     "shell.execute_reply": "2024-02-23T18:41:56.152200Z"
    }
   },
   "outputs": [
    {
     "data": {
      "image/png": "[encoded data removed]",
      "text/plain": [
       "<Figure size 900x400 with 2 Axes>"
      ]
     },
     "metadata": {},
     "output_type": "display_data"
    }
   ],
   "source": [
    "u_half_opt = sol.x\n",
    "\n",
    "u=np.concatenate([u_half_opt,1-u_half_opt])\n",
    "plt.figure(figsize=[9,4])\n",
    "\n",
    "plt.subplot(1,2,1)\n",
    "plt.title(r\"Primal body $\\hat K$\"); V = X/u; \n",
    "plt.scatter(*V); plt.fill(*V,fill=False); plt.axis('equal')\n",
    "\n",
    "plt.subplot(1,2,2)\n",
    "plt.title(r\"Dual body $K$\"); V = DualVertices(u,X)\n",
    "plt.scatter(*V); plt.fill(*V,fill=False); plt.axis('equal');"
   ]
  },
  {
   "cell_type": "markdown",
   "metadata": {},
   "source": [
    "## 3. Geometry of three dimensional convex bodies\n",
    "\n",
    "We compute the area of the facets of a polytope, from which we deduce the volume of the full polytope using Euler's formula identity for homogeneous functions. We then check these routines on various polygonal shapes, and finally we construct a regular sampling of the two dimensional unit sphere, which define the facet normal vectors in the next section."
   ]
  },
  {
   "cell_type": "markdown",
   "metadata": {},
   "source": [
    "### 3.1 Facet measures of the dual polytope\n",
    "\n",
    "We use a convex hull algorithm to compute the primal convex body $\\mathrm{Hull}\\{x/u(x); x \\in X\\}$, under the form of a triangulated surface.\n",
    "Each triangle corresponds to a vertex of the dual polytope. Two triangles sharing an edge correspond to two connected vertices of the dual polytope. From this point, we can compute the area of the facets of the dual polytope.\n",
    "\n",
    "**Possible alternative implementation :** Using `scipy.spatial.HalfspaceIntersection` may be more natural, and marginally simpler.\n",
    "\n",
    "<!---\n",
    "from scipy.spatial import HalfspaceIntersection\n",
    "halfspaces = np.concatenate([X,-u[None]]).T\n",
    "hs = HalfspaceIntersection(halfspaces, np.zeros(3))\n",
    "--->"
   ]
  },
  {
   "cell_type": "code",
   "execution_count": 33,
   "metadata": {
    "execution": {
     "iopub.execute_input": "2024-02-23T18:41:56.153832Z",
     "iopub.status.busy": "2024-02-23T18:41:56.153730Z",
     "iopub.status.idle": "2024-02-23T18:41:56.157209Z",
     "shell.execute_reply": "2024-02-23T18:41:56.156964Z"
    }
   },
   "outputs": [],
   "source": [
    "def FacetMeasures(u,X):\n",
    "    \"\"\"\n",
    "    Compute the measures of the facets of a three dimensional polytope.\n",
    "    (Compatible with automatic differentiation)\n",
    "    \n",
    "    Output : facet indices, facet measures. \n",
    "    If an index appears several times, then the measures must be summed.\n",
    "    \"\"\"\n",
    "    \n",
    "    # Use a convex hull routine to triangulate the primal convex body\n",
    "    primal_vertices = ad.remove_ad(X)/ad.remove_ad(u) # x/u(x)\n",
    "    primal_body = scipy.spatial.ConvexHull(primal_vertices.T) \n",
    "\n",
    "    Xsize = X.shape[1]\n",
    "    if primal_body.vertices.size!=Xsize:  # Then primal_body.vertices == np.arange(Xsize)\n",
    "        raise ValueError(\"Non-convex primal body ! See\",set(range(Xsize))-set(primal_body.vertices))\n",
    "\n",
    "    # Use counter-clockwise orientation for all triangles\n",
    "    S = primal_body.simplices.T\n",
    "    N = primal_body.neighbors.T\n",
    "    cw = np.sign(lp.det(X[:,S]))==-1 \n",
    "    S[1,cw],S[2,cw] = S[2,cw],S[1,cw] \n",
    "    N[1,cw],N[2,cw] = N[2,cw],N[1,cw] \n",
    "\n",
    "    SX = X[:,S]\n",
    "    Sg = lp.solve_AV(lp.transpose(SX), u[S]) # The vertices of the dual convex body\n",
    "    SX2 = (SX**2).sum(axis=0)\n",
    "\n",
    "    # Choose a reference simplex for each vertex, hence a reference point for each dual facet\n",
    "    XS = np.full(u.shape,-1,S.dtype)\n",
    "    XS[S] = np.arange(S.shape[1],dtype=S.dtype)[None]\n",
    "    Xg = ad.remove_ad(Sg)[:,XS]\n",
    "\n",
    "    Ng = Sg[:,N] # Gradient of the neighbor cells\n",
    "    Srg = Xg[:,S] # Reference gradient associated to each vertex of the simplex\n",
    "\n",
    "    # The triangle area, divided by two because each edge is counted twice.\n",
    "    Sm = lp.det([SX, Sg[:,None]-Srg, np.roll(Ng,-1,axis=1)-Srg])/(2*SX2)\n",
    "\n",
    "    return S.reshape(-1), ad.simplify_ad(Sm.reshape(-1))"
   ]
  },
  {
   "cell_type": "markdown",
   "metadata": {},
   "source": [
    "### 3.2 Measure of the full polytope\n",
    "\n",
    "Using Euler's identity for $d$-homogeneous functions\n",
    "$$\n",
    "    d |K(u)|_d = \\sum_{x \\in X} u(x) |K_x(u)|_{d-1},\n",
    "$$\n",
    "we obtain the measure of the full dual convex body."
   ]
  },
  {
   "cell_type": "code",
   "execution_count": 34,
   "metadata": {
    "execution": {
     "iopub.execute_input": "2024-02-23T18:41:56.158443Z",
     "iopub.status.busy": "2024-02-23T18:41:56.158367Z",
     "iopub.status.idle": "2024-02-23T18:41:56.160063Z",
     "shell.execute_reply": "2024-02-23T18:41:56.159863Z"
    }
   },
   "outputs": [],
   "source": [
    "def FullMeasure(u,X):\n",
    "    facets,measures = FacetMeasures(u,X)\n",
    "    return np.sum(u[facets]*measures)/len(X)"
   ]
  },
  {
   "cell_type": "markdown",
   "metadata": {},
   "source": [
    "The above expression of the full measure is differentiable, and allows to recover the first and second derivatives of $|K(u)|$ w.r.t. $u$ in terms of the same derivatives of $|K_x(u)|_{x\\in X}$.\n",
    "\n",
    "However, noticing that $|K_x(u)|_{x\\in X}$ is already the gradient of $|K(u)|$, one can be more efficient, and obtain e.g. the second order derivatives of $|K(u)|$ in terms of the first order derivatives of $|K_x(u)|_{x \\in X}$, as discussed below and implemented in the next function.\n",
    "\n",
    "**Second order Taylor expansion of the volume**\n",
    "\n",
    "Differentiating the relation between the total volume, and the facet areas, we obtain the relation\n",
    "$$\n",
    "    \\frac{\\partial^2 |K(u)|_d}{\\partial u(x) \\partial u(y)} = \\frac 1 {\\|x\\|} \\frac{\\partial K_x(u)}{\\partial u(y)}.\n",
    "$$\n",
    "\n",
    "In other words, a first order differentiation of the facet areas, yields a second order differenation of the total volume. The following function takes advantage of this identity to implement a second order Taylor expansion of the volume.\n",
    "\n",
    "This will be mainly useful in three dimensions, where the implementation of the volume functional is non-trivial due to topology changes. Note that the newton minimization method used to solve Minkowski's problem implicitly uses second order automatic differentiation.\n",
    "\n",
    "<!---\n",
    "The Newton method used above implicitly on the second order sparse automatic differentiation differentiation of the volume functional $K(u)$.\n",
    "\n",
    "On the other hand, the `BodyBarrier` computes the facets areas, which are the first order derivatives of the volume functional. Therefore, a first order differentiation of BodyBarrier\n",
    "\n",
    "A similar effect can therefore be achieved using first order differentiation of BodyBarrier, as illustrated below.\n",
    "\n",
    "This is useful in three dimensions, where the implementation of the volume functional is non-trivial due to topology changes. It also allows us to access the third order derivatives of the volume functional. Those are not very useful in two dimensions, since $K(u)$ is a piecewise quadratic function of $u$, but make sense in three dimensions so as e.g. to exploit the fact that the barrier $S(u)$ is convex within an optimization method.\n",
    "--->"
   ]
  },
  {
   "cell_type": "code",
   "execution_count": 35,
   "metadata": {
    "execution": {
     "iopub.execute_input": "2024-02-23T18:41:56.161303Z",
     "iopub.status.busy": "2024-02-23T18:41:56.161228Z",
     "iopub.status.idle": "2024-02-23T18:41:56.163093Z",
     "shell.execute_reply": "2024-02-23T18:41:56.162897Z"
    }
   },
   "outputs": [],
   "source": [
    "def FullMeasure_ad2(u,X):\n",
    "    \"\"\"\n",
    "    Second order Taylor expansion of $|K(u)|_d$.\n",
    "    \"\"\"\n",
    "    # Compute the facet measures $|K_x(u)|_{d-1}$, $x \\in X$, and their derivatives.\n",
    "    u_ad = ad.Sparse.identity(constant=u)\n",
    "    facets,measures = FacetMeasures(u_ad,X)\n",
    "    \n",
    "    # Reconstruct the volume of K, using Euler's identity for homogeneous functions.\n",
    "    value = (u[facets]*measures.value).sum()/len(X) \n",
    "    \n",
    "    # Gather first and second order derivatives of the volume\n",
    "    coef1 = measures.value\n",
    "    index = facets\n",
    "    coef2 = measures.coef.reshape(-1)\n",
    "    index_row = facets.repeat(measures.size_ad)\n",
    "    index_col = measures.index.reshape(-1)\n",
    "    \n",
    "    return ad.Sparse2.spAD2(value,coef1,index,coef2,index_row,index_col)"
   ]
  },
  {
   "cell_type": "markdown",
   "metadata": {},
   "source": [
    "### 3.3 Validation on the cube and tetrahedron.\n",
    "\n",
    "The cube, with vertices $(\\pm 1,\\pm 1,\\pm 1)$, and the octahedron, with vertices $(\\pm 1,0,0), (0,\\pm 1,0),(0,0,\\pm 1)$ are dual polytopes."
   ]
  },
  {
   "cell_type": "code",
   "execution_count": 36,
   "metadata": {
    "execution": {
     "iopub.execute_input": "2024-02-23T18:41:56.164306Z",
     "iopub.status.busy": "2024-02-23T18:41:56.164231Z",
     "iopub.status.idle": "2024-02-23T18:41:56.166280Z",
     "shell.execute_reply": "2024-02-23T18:41:56.166078Z"
    }
   },
   "outputs": [],
   "source": [
    "octa_points = np.array([[1,0,0],[0,1,0],[0,0,1],[-1,0,0],[0,-1,0],[0,0,-1.]]).T\n",
    "cube_points = np.array([[1,1,1],[1,1,-1],[1,-1,1],[1,-1,-1],[-1,1,1],[-1,1,-1],[-1,-1,1],[-1,-1,-1.]]).T"
   ]
  },
  {
   "cell_type": "markdown",
   "metadata": {},
   "source": [
    "Let us compute the volume of the dual polytope to the octaherdon, also known as the cube, with a second order Taylor expansion using the previously implemented function."
   ]
  },
  {
   "cell_type": "code",
   "execution_count": 37,
   "metadata": {
    "execution": {
     "iopub.execute_input": "2024-02-23T18:41:56.167517Z",
     "iopub.status.busy": "2024-02-23T18:41:56.167447Z",
     "iopub.status.idle": "2024-02-23T18:41:56.172284Z",
     "shell.execute_reply": "2024-02-23T18:41:56.172074Z"
    }
   },
   "outputs": [
    {
     "data": {
      "text/plain": [
       "denseAD2(array(8.),array([4., 4., 4., 4., 4., 4.]),\n",
       "array([[0., 2., 2., 0., 2., 2.],\n",
       "       [2., 0., 2., 2., 0., 2.],\n",
       "       [2., 2., 0., 2., 2., 0.],\n",
       "       [0., 2., 2., 0., 2., 2.],\n",
       "       [2., 0., 2., 2., 0., 2.],\n",
       "       [2., 2., 0., 2., 2., 0.]]))"
      ]
     },
     "execution_count": 37,
     "metadata": {},
     "output_type": "execute_result"
    }
   ],
   "source": [
    "u = np.ones(6)\n",
    "cube_vol = FullMeasure_ad2(u,octa_points).to_dense()\n",
    "cube_vol"
   ]
  },
  {
   "cell_type": "code",
   "execution_count": 38,
   "metadata": {
    "execution": {
     "iopub.execute_input": "2024-02-23T18:41:56.173484Z",
     "iopub.status.busy": "2024-02-23T18:41:56.173409Z",
     "iopub.status.idle": "2024-02-23T18:41:56.176297Z",
     "shell.execute_reply": "2024-02-23T18:41:56.176104Z"
    }
   },
   "outputs": [],
   "source": [
    "u_ad = ad.Dense2.identity(constant=u)\n",
    "assert allclose_ad2(cube_vol,FullMeasure(u_ad,octa_points))"
   ]
  },
  {
   "cell_type": "markdown",
   "metadata": {},
   "source": [
    "A cube whose edge lengths are perturbed is of course a (three dimensional) rectangle, whose volume is explicit."
   ]
  },
  {
   "cell_type": "code",
   "execution_count": 39,
   "metadata": {
    "execution": {
     "iopub.execute_input": "2024-02-23T18:41:56.177599Z",
     "iopub.status.busy": "2024-02-23T18:41:56.177520Z",
     "iopub.status.idle": "2024-02-23T18:41:56.179542Z",
     "shell.execute_reply": "2024-02-23T18:41:56.179323Z"
    }
   },
   "outputs": [],
   "source": [
    "def rect_vol(u): return (u[0]+u[3])*(u[1]+u[4])*(u[2]+u[5])\n",
    "assert allclose_ad2(cube_vol,rect_vol(u_ad))"
   ]
  },
  {
   "cell_type": "markdown",
   "metadata": {},
   "source": [
    "The volume of the octahedron is $|K|_3 = 4/3$, and the area of its facets is $|K_x|_2 = \\sqrt 3/2$. As a result the first order derivative of the volume is $|K_x|_2/\\|x\\| = 1/2$, since $\\|x\\|=\\sqrt 3$ for all cube vertices. Let us check these identities."
   ]
  },
  {
   "cell_type": "code",
   "execution_count": 40,
   "metadata": {
    "execution": {
     "iopub.execute_input": "2024-02-23T18:41:56.180757Z",
     "iopub.status.busy": "2024-02-23T18:41:56.180686Z",
     "iopub.status.idle": "2024-02-23T18:41:56.186200Z",
     "shell.execute_reply": "2024-02-23T18:41:56.185992Z"
    }
   },
   "outputs": [
    {
     "data": {
      "text/plain": [
       "denseAD(array(1.33333333),array([0.5, 0.5, 0.5, 0.5, 0.5, 0.5, 0.5, 0.5]))"
      ]
     },
     "execution_count": 40,
     "metadata": {},
     "output_type": "execute_result"
    }
   ],
   "source": [
    "octa_vol =  FullMeasure_ad2(np.ones(8),cube_points).to_dense()\n",
    "assert np.allclose(octa_vol.value, 4/3) # Check the volume |K|\n",
    "assert np.allclose(octa_vol.gradient(), 1/2) # Check the partial derivatives K_x\n",
    "octa_vol.to_first()"
   ]
  },
  {
   "cell_type": "markdown",
   "metadata": {},
   "source": [
    "### 3.4 Sampling the sphere\n",
    "\n",
    "We sample the sphere using a regularly refined icosahedron mesh, projected onto it.\n",
    "A method closely related to `geodesate` exists in the Mathematica(R) software."
   ]
  },
  {
   "cell_type": "code",
   "execution_count": 41,
   "metadata": {
    "execution": {
     "iopub.execute_input": "2024-02-23T18:41:56.187451Z",
     "iopub.status.busy": "2024-02-23T18:41:56.187373Z",
     "iopub.status.idle": "2024-02-23T18:41:56.190247Z",
     "shell.execute_reply": "2024-02-23T18:41:56.190039Z"
    },
    "tags": [
     "ExportCode"
    ]
   },
   "outputs": [],
   "source": [
    "def geodesate(points,triangles,n,nosym=False,tol=1e-6):\n",
    "    \"\"\"\n",
    "    Generate a point set on a sphere, by projecting a regularly refined triangulation.\n",
    "    (This implementation is stupid and inefficient, but will be enough for here.)\n",
    "    Input : \n",
    "    - points, triangles : a triangulation of the sphere.\n",
    "    - nosym : keep only a single representative among opposite points\n",
    "    Output : the points of a refined triangulation.\n",
    "    \"\"\"\n",
    "    out = np.zeros((3,1))\n",
    "    def norm2(p): return (p**2).sum(axis=0)\n",
    "    for i,j,k in triangles:\n",
    "        pi,pj,pk = points[i],points[j],points[k]\n",
    "        for u in range(n+1):\n",
    "            for v in range(n+1-u):\n",
    "                p = (u*pi+v*pj+(n-u-v)*pk)/n\n",
    "                p /= np.sqrt(norm2(p))\n",
    "                p = p[:,None]\n",
    "                dist2 = np.min( norm2(out-p) )\n",
    "                if nosym: dist2 = min(dist2, np.min( norm2(out+p) ) )\n",
    "                if dist2<tol: continue \n",
    "                out = np.concatenate((out,p),axis=1)\n",
    "    if nosym: out *= np.where(out[2]>=0,1,-1)\n",
    "    return out[:,1:]"
   ]
  },
  {
   "cell_type": "code",
   "execution_count": 42,
   "metadata": {
    "execution": {
     "iopub.execute_input": "2024-02-23T18:41:56.191444Z",
     "iopub.status.busy": "2024-02-23T18:41:56.191369Z",
     "iopub.status.idle": "2024-02-23T18:41:56.194056Z",
     "shell.execute_reply": "2024-02-23T18:41:56.193863Z"
    },
    "tags": [
     "ExportCode"
    ]
   },
   "outputs": [],
   "source": [
    "ico_points = np.array([[0., 0., -0.9510565162951536], [0., 0., 0.9510565162951536], [-0.85065080835204, 0., -0.42532540417601994], \n",
    "  [0.85065080835204, 0., 0.42532540417601994], [0.6881909602355868, -0.5, -0.42532540417601994], \n",
    "  [0.6881909602355868, 0.5, -0.42532540417601994], [-0.6881909602355868, -0.5, 0.42532540417601994], \n",
    "  [-0.6881909602355868, 0.5, 0.42532540417601994], [-0.2628655560595668, -0.8090169943749475, -0.42532540417601994], \n",
    "  [-0.2628655560595668, 0.8090169943749475, -0.42532540417601994], [0.2628655560595668, -0.8090169943749475, 0.42532540417601994], \n",
    "  [0.2628655560595668, 0.8090169943749475, 0.42532540417601994]])\n",
    "ico_triangles = np.array([[2, 12, 8], [2, 8, 7], [2, 7, 11], [2, 11, 4], [2, 4, 12], [5, 9, 1], [6, 5, 1], [10, 6, 1], [3, 10, 1], [9, 3, 1], \n",
    "   [12, 10, 8], [8, 3, 7], [7, 9, 11], [11, 5, 4], [4, 6, 12], [5, 11, 9], [6, 4, 5], [10, 12, 6], [3, 8, 10], [9, 7, 3]])-1"
   ]
  },
  {
   "cell_type": "code",
   "execution_count": 43,
   "metadata": {
    "execution": {
     "iopub.execute_input": "2024-02-23T18:41:56.195250Z",
     "iopub.status.busy": "2024-02-23T18:41:56.195173Z",
     "iopub.status.idle": "2024-02-23T18:41:56.196961Z",
     "shell.execute_reply": "2024-02-23T18:41:56.196766Z"
    },
    "tags": [
     "ExportCode"
    ]
   },
   "outputs": [],
   "source": [
    "def sphere_sampling(n,nosym=False):\n",
    "    \"\"\"A rather regular sapling of the sphere, obtained by refining an icosahedron mesh.\"\"\"\n",
    "    return geodesate(ico_points,ico_triangles,n,nosym)"
   ]
  },
  {
   "cell_type": "markdown",
   "metadata": {},
   "source": [
    "Our samplings of the sphere and half sphere."
   ]
  },
  {
   "cell_type": "code",
   "execution_count": 44,
   "metadata": {
    "execution": {
     "iopub.execute_input": "2024-02-23T18:41:56.198263Z",
     "iopub.status.busy": "2024-02-23T18:41:56.198192Z",
     "iopub.status.idle": "2024-02-23T18:41:56.303937Z",
     "shell.execute_reply": "2024-02-23T18:41:56.303707Z"
    }
   },
   "outputs": [
    {
     "data": {
      "image/png": "[encoded data removed]",
      "text/plain": [
       "<Figure size 1000x400 with 2 Axes>"
      ]
     },
     "metadata": {},
     "output_type": "display_data"
    }
   ],
   "source": [
    "fig = plt.figure(figsize=[10,4])\n",
    "fig.add_subplot(121,projection='3d').scatter(*sphere_sampling(5));\n",
    "fig.add_subplot(122,projection='3d').scatter(*sphere_sampling(5,nosym=True));"
   ]
  },
  {
   "cell_type": "markdown",
   "metadata": {},
   "source": [
    "Consistency check : The facets of the dual polytope to the icosahedron, the dodecahedron, all have the same area."
   ]
  },
  {
   "cell_type": "code",
   "execution_count": 45,
   "metadata": {
    "execution": {
     "iopub.execute_input": "2024-02-23T18:41:56.305235Z",
     "iopub.status.busy": "2024-02-23T18:41:56.305135Z",
     "iopub.status.idle": "2024-02-23T18:41:56.307429Z",
     "shell.execute_reply": "2024-02-23T18:41:56.307221Z"
    }
   },
   "outputs": [],
   "source": [
    "facets,measures = FacetMeasures(np.ones(12),ico_points.T)\n",
    "dodecahedron_facet_areas = np.bincount(facets,weights=measures)\n",
    "assert np.allclose(dodecahedron_facet_areas, dodecahedron_facet_areas[0])"
   ]
  },
  {
   "cell_type": "markdown",
   "metadata": {},
   "source": [
    "**Volume validation by comparison of the two implementations**\n",
    "\n",
    "<!---\n",
    "### 3.3 Validation by hessian symmetry\n",
    "\n",
    "A consistency test for our implementation `K_measure_taylor2` of the second order Taylor expansion of the volume $|K(u)|_3$, is to check that the hessian part is symmetric.\n",
    "\n",
    "meas_sym = ad.Sparse2.spAD2(meas.value,meas.coef1,meas.index,\n",
    "                            meas.coef2,meas.index_col,meas.index_row) #reverse row and col\n",
    "\n",
    "diff = ad.simplify_ad(meas-meas_sym)\n",
    "assert np.all([np.allclose(e,0) for e in (diff.value,diff.coef1,diff.coef2)])\n",
    "--->"
   ]
  },
  {
   "cell_type": "code",
   "execution_count": 46,
   "metadata": {
    "execution": {
     "iopub.execute_input": "2024-02-23T18:41:56.308733Z",
     "iopub.status.busy": "2024-02-23T18:41:56.308640Z",
     "iopub.status.idle": "2024-02-23T18:41:56.366302Z",
     "shell.execute_reply": "2024-02-23T18:41:56.365922Z"
    }
   },
   "outputs": [],
   "source": [
    "X=sphere_sampling(2)\n",
    "Xsize = X.shape[1]\n",
    "\n",
    "# All facets are non-empty if u is close enough to 1\n",
    "np.random.seed(42)\n",
    "u = 1+0.1*np.random.rand(Xsize)\n",
    "\n",
    "# Second order Taylor expansions of the volume\n",
    "u_ad = ad.Dense2.identity(constant=u)\n",
    "assert allclose_ad2(FullMeasure(u_ad,X), FullMeasure_ad2(u,X).to_dense())"
   ]
  },
  {
   "cell_type": "markdown",
   "metadata": {},
   "source": [
    "### 3.5 Display of convex bodies\n",
    "\n",
    "**Using plotly (R)**\n",
    "The plotly library can be used to display triangulated surfaces and wireframes, hence also the primal and dual convex bodies which are of interest in this notebook. This requires a little bit of preprocessing, implemented in the `agd.Plotting.plotly_primal_dual_bodies`, whose code is closely related to the `FacetMeasures` function.\n",
    "\n",
    "\n",
    "**Using Mathematica (R)**\n",
    "The Mathematica(R) software can also be used to display three dimensional convex bodies, and the dual bodies, thanks to the following code snippet.\n",
    "\n",
    "```\n",
    "Needs[\"TetGenLink`\"];\n",
    "ShowPrimalDualBody[X_] := \n",
    " Module[{primalPts, surface, dualPts, dualSurface},\n",
    "  {primalPts, surface} = TetGenConvexHull[X];\n",
    "  dualPts = Inverse[{#1, #2, #3}].{1, 1, 1} & @@@ (primalPts[[#]] & /@ surface);\n",
    "  {dualPts, dualSurface} = TetGenConvexHull[dualPts];\n",
    "  \n",
    "  Graphics3D[{EdgeForm[None], GraphicsComplex[#1, Polygon[#2]]}, \n",
    "     Boxed -> False] & @@@ {{primalPts, surface}, {dualPts, dualSurface}}\n",
    "  ]\n",
    "```\n",
    "\n",
    "Arrays are exported to the `Mathematica` format using the following method."
   ]
  },
  {
   "cell_type": "code",
   "execution_count": 47,
   "metadata": {
    "execution": {
     "iopub.execute_input": "2024-02-23T18:41:56.367861Z",
     "iopub.status.busy": "2024-02-23T18:41:56.367783Z",
     "iopub.status.idle": "2024-02-23T18:41:56.369652Z",
     "shell.execute_reply": "2024-02-23T18:41:56.369453Z"
    },
    "tags": [
     "ExportCode"
    ]
   },
   "outputs": [],
   "source": [
    "def to_mathematica(Z): return str(Z.T.tolist()).replace(\"[\",\"{\").replace(\"]\",\"}\")"
   ]
  },
  {
   "cell_type": "markdown",
   "metadata": {},
   "source": [
    "## 4. Optimization over three dimensional convex bodies\n",
    "\n",
    "We present discretizations of Minkowski's and Meissner's problems, which are optimization problems posed over the set of three dimensional convex bodies. The presentation closely follows the two dimensional case. A Newton method is used to numerically minimize Minkowski's (convex) functional, and a more generic routine for Meissner's (non-convex) one."
   ]
  },
  {
   "cell_type": "markdown",
   "metadata": {},
   "source": [
    "### 4.1 Minkowski's problem\n",
    "\n",
    "Let us implement the minimized functional:\n",
    "$$\n",
    "    f(u) = -\\ln |K(u)|_d + \\sum_{x \\in X} \\mu(x) u(x) + \n",
    "    \\| \\sum_{x\\in X} u(x) \\nu(x) x \\|^2.\n",
    "$$"
   ]
  },
  {
   "cell_type": "code",
   "execution_count": 48,
   "metadata": {
    "execution": {
     "iopub.execute_input": "2024-02-23T18:41:56.370969Z",
     "iopub.status.busy": "2024-02-23T18:41:56.370898Z",
     "iopub.status.idle": "2024-02-23T18:41:56.372953Z",
     "shell.execute_reply": "2024-02-23T18:41:56.372748Z"
    }
   },
   "outputs": [],
   "source": [
    "def Minkowski3(u,μ,ν,X):\n",
    "    try: meas = FullMeasure(u,X)\n",
    "    except ValueError: return np.nan\n",
    "    \n",
    "    m = np.sum(u*ν*X,axis=1)\n",
    "    return -np.log(meas)+ np.sum(u*μ) + np.sum(m**2)"
   ]
  },
  {
   "cell_type": "code",
   "execution_count": 49,
   "metadata": {
    "execution": {
     "iopub.execute_input": "2024-02-23T18:41:56.374162Z",
     "iopub.status.busy": "2024-02-23T18:41:56.374085Z",
     "iopub.status.idle": "2024-02-23T18:41:56.379631Z",
     "shell.execute_reply": "2024-02-23T18:41:56.379412Z"
    }
   },
   "outputs": [],
   "source": [
    "X=sphere_sampling(2)\n",
    "Xsize = X.shape[1]\n",
    "\n",
    "# Generate a rhs for Minkowski's problem\n",
    "np.random.seed(42)\n",
    "μ = np.random.rand(Xsize) # Random facet areas\n",
    "μ[np.random.randint(len(μ),size=3)] += 6 # Add a few big facets\n",
    "μ = np.maximum(μ,0.01) # Avoid excessively small facets\n",
    "μ = normalize_moment(μ,X)\n",
    "\n",
    "ν = np.ones(Xsize)\n",
    "u0 = np.ones(Xsize)"
   ]
  },
  {
   "cell_type": "code",
   "execution_count": 50,
   "metadata": {
    "execution": {
     "iopub.execute_input": "2024-02-23T18:41:56.380808Z",
     "iopub.status.busy": "2024-02-23T18:41:56.380733Z",
     "iopub.status.idle": "2024-02-23T18:41:57.306122Z",
     "shell.execute_reply": "2024-02-23T18:41:57.305863Z"
    }
   },
   "outputs": [
    {
     "name": "stdout",
     "output_type": "stream",
     "text": [
      "Initialization, objective 49.74163077605771\n",
      "Iteration 1, Newton step 0.03125, objective 35.371591230312916.\n",
      "Iteration 2, Newton step 0.0625, objective 23.81170183594524.\n"
     ]
    },
    {
     "name": "stdout",
     "output_type": "stream",
     "text": [
      "Iteration 3, Newton step 0.125, objective 15.690010081307584.\n",
      "Iteration 4, Newton step 0.25, objective 11.608839312954025.\n",
      "Iteration 5, Newton step 0.5, objective 10.15086969600167.\n"
     ]
    },
    {
     "name": "stdout",
     "output_type": "stream",
     "text": [
      "Iteration 6, Newton step 1.0, objective 9.823492927986397.\n",
      "Iteration 8, Newton step 1.0, objective 9.802483829645457.\n"
     ]
    },
    {
     "name": "stdout",
     "output_type": "stream",
     "text": [
      "Iteration 10, Newton step 1.0, objective 9.802483750734988.\n",
      "Convergence criterion satisfied, terminating.\n",
      "Iteration 12, Newton step 1.0, objective 9.80248375073499.\n",
      "CPU times: user 749 ms, sys: 173 ms, total: 922 ms\n",
      "Wall time: 923 ms\n"
     ]
    }
   ],
   "source": [
    "%%time\n",
    "u = ad.Optimization.newton_minimize(Minkowski3,u0,(μ,ν,X))"
   ]
  },
  {
   "cell_type": "markdown",
   "metadata": {},
   "source": [
    "Let us check the solution."
   ]
  },
  {
   "cell_type": "code",
   "execution_count": 51,
   "metadata": {
    "execution": {
     "iopub.execute_input": "2024-02-23T18:41:57.307563Z",
     "iopub.status.busy": "2024-02-23T18:41:57.307477Z",
     "iopub.status.idle": "2024-02-23T18:41:57.310266Z",
     "shell.execute_reply": "2024-02-23T18:41:57.310022Z"
    }
   },
   "outputs": [],
   "source": [
    "facets,measures = FacetMeasures(u,X)\n",
    "measures = np.bincount(facets,weights=measures)\n",
    "volume = np.dot(u,measures)/3 # Reconstructed using Euler's identity\n",
    "\n",
    "assert np.allclose(measures,μ*volume) # Minkowski problem is solved"
   ]
  },
  {
   "cell_type": "markdown",
   "metadata": {},
   "source": [
    "The Newton solver computation time is dominated by the differentiation of the volume functional. \n",
    "An easy way to improve it is to rely on the `FullMeasure_ad2` variant.\n"
   ]
  },
  {
   "cell_type": "code",
   "execution_count": 52,
   "metadata": {
    "execution": {
     "iopub.execute_input": "2024-02-23T18:41:57.311624Z",
     "iopub.status.busy": "2024-02-23T18:41:57.311528Z",
     "iopub.status.idle": "2024-02-23T18:41:57.313847Z",
     "shell.execute_reply": "2024-02-23T18:41:57.313639Z"
    }
   },
   "outputs": [],
   "source": [
    "def Minkowski3_ad(u,μ,ν,X):\n",
    "    try: meas_ad = FullMeasure_ad2(u,X)\n",
    "    except ValueError: return np.nan # If a facet is empty\n",
    "    \n",
    "    u_ad = ad.Sparse2.identity(constant=u)\n",
    "    m_ad = (u_ad*ν*X).sum(axis=1)\n",
    "    return -np.log(meas_ad) + (u_ad*μ).sum()+(m_ad**2).sum()"
   ]
  },
  {
   "cell_type": "code",
   "execution_count": 53,
   "metadata": {
    "execution": {
     "iopub.execute_input": "2024-02-23T18:41:57.315069Z",
     "iopub.status.busy": "2024-02-23T18:41:57.314976Z",
     "iopub.status.idle": "2024-02-23T18:41:57.380762Z",
     "shell.execute_reply": "2024-02-23T18:41:57.380510Z"
    }
   },
   "outputs": [
    {
     "name": "stdout",
     "output_type": "stream",
     "text": [
      "Initialization, objective 49.74163077605771\n",
      "Iteration 1, Newton step 0.03125, objective 35.37159123031173.\n",
      "Iteration 2, Newton step 0.0625, objective 23.81170183594491.\n",
      "Iteration 3, Newton step 0.125, objective 15.6900100813076.\n",
      "Iteration 4, Newton step 0.25, objective 11.608839312954004.\n",
      "Iteration 5, Newton step 0.5, objective 10.15086969600167.\n",
      "Iteration 6, Newton step 1.0, objective 9.823492927986397.\n"
     ]
    },
    {
     "name": "stdout",
     "output_type": "stream",
     "text": [
      "Iteration 8, Newton step 1.0, objective 9.802483829645457.\n",
      "Iteration 10, Newton step 1.0, objective 9.802483750734988.\n",
      "Convergence criterion satisfied, terminating.\n",
      "Iteration 12, Newton step 1.0, objective 9.80248375073499.\n",
      "CPU times: user 59.6 ms, sys: 4.49 ms, total: 64.1 ms\n",
      "Wall time: 63.8 ms\n"
     ]
    }
   ],
   "source": [
    "%%time\n",
    "u_faster = ad.Optimization.newton_minimize(Minkowski3,u0,(μ,ν,X),\n",
    "        f_value_gradient_direction = Minkowski3_ad) # AD routine provided"
   ]
  },
  {
   "cell_type": "code",
   "execution_count": 54,
   "metadata": {
    "execution": {
     "iopub.execute_input": "2024-02-23T18:41:57.382060Z",
     "iopub.status.busy": "2024-02-23T18:41:57.381977Z",
     "iopub.status.idle": "2024-02-23T18:41:57.383844Z",
     "shell.execute_reply": "2024-02-23T18:41:57.383626Z"
    }
   },
   "outputs": [],
   "source": [
    "assert np.allclose(u,u_faster)"
   ]
  },
  {
   "cell_type": "code",
   "execution_count": 55,
   "metadata": {
    "execution": {
     "iopub.execute_input": "2024-02-23T18:41:57.385082Z",
     "iopub.status.busy": "2024-02-23T18:41:57.385005Z",
     "iopub.status.idle": "2024-02-23T18:41:57.421431Z",
     "shell.execute_reply": "2024-02-23T18:41:57.421113Z"
    }
   },
   "outputs": [],
   "source": [
    "reload_packages()"
   ]
  },
  {
   "cell_type": "code",
   "execution_count": 56,
   "metadata": {
    "execution": {
     "iopub.execute_input": "2024-02-23T18:41:57.422990Z",
     "iopub.status.busy": "2024-02-23T18:41:57.422906Z",
     "iopub.status.idle": "2024-02-23T18:41:57.439826Z",
     "shell.execute_reply": "2024-02-23T18:41:57.439598Z"
    }
   },
   "outputs": [],
   "source": [
    "primal_data,dual_data = Plotting.plotly_primal_dual_bodies(X/u)\n",
    "#with open('convex_body.txt','w') as f: f.write(to_mathematica(X/u))"
   ]
  },
  {
   "cell_type": "markdown",
   "metadata": {},
   "source": [
    "The soluton to Minkowski's problem is the *dual convex body* shown below.\n",
    "Note that it has a few big facets, since a few large values were introduced in the measure $\\mu$.\n",
    "![Dual body](Illustrations/Meissner/Minkowski_dual.png)\n",
    "\n",
    "\n",
    "The *primal convex body* has a few pointy vertices, in place of the large facets.\n",
    "![Primal body](Illustrations/Meissner/Minkowski_primal.png)"
   ]
  },
  {
   "cell_type": "code",
   "execution_count": 57,
   "metadata": {
    "execution": {
     "iopub.execute_input": "2024-02-23T18:41:57.441185Z",
     "iopub.status.busy": "2024-02-23T18:41:57.441089Z",
     "iopub.status.idle": "2024-02-23T18:41:57.442811Z",
     "shell.execute_reply": "2024-02-23T18:41:57.442604Z"
    }
   },
   "outputs": [],
   "source": [
    "if use_plotly: go.Figure(data=dual_data) # Uncomment for a live plotly view of the dual body"
   ]
  },
  {
   "cell_type": "code",
   "execution_count": 58,
   "metadata": {
    "execution": {
     "iopub.execute_input": "2024-02-23T18:41:57.444057Z",
     "iopub.status.busy": "2024-02-23T18:41:57.443962Z",
     "iopub.status.idle": "2024-02-23T18:41:57.445632Z",
     "shell.execute_reply": "2024-02-23T18:41:57.445384Z"
    }
   },
   "outputs": [],
   "source": [
    "if use_plotly: go.Figure(data=primal_data) # Uncomment for a live plotly view of the primal body"
   ]
  },
  {
   "cell_type": "markdown",
   "metadata": {},
   "source": [
    "### 4.2 Meissner's body\n",
    "\n",
    "We numerically address Meissner's problem, of finding the convex body of minimal volume and with a given width. The implementation is closely related to the Relaux problem, described above."
   ]
  },
  {
   "cell_type": "code",
   "execution_count": 59,
   "metadata": {
    "execution": {
     "iopub.execute_input": "2024-02-23T18:41:57.446890Z",
     "iopub.status.busy": "2024-02-23T18:41:57.446805Z",
     "iopub.status.idle": "2024-02-23T18:41:57.453455Z",
     "shell.execute_reply": "2024-02-23T18:41:57.453241Z"
    }
   },
   "outputs": [],
   "source": [
    "# Choose the sphere sampling\n",
    "X=sphere_sampling(4,nosym=True)\n",
    "nUnk = X.shape[1]\n",
    "X = np.concatenate([X,-X],axis=1)\n",
    "u_guess = 0.5 +0.003*np.cos(np.linspace(0,3*np.pi,nUnk,endpoint=False))"
   ]
  },
  {
   "cell_type": "code",
   "execution_count": 60,
   "metadata": {
    "execution": {
     "iopub.execute_input": "2024-02-23T18:41:57.454699Z",
     "iopub.status.busy": "2024-02-23T18:41:57.454624Z",
     "iopub.status.idle": "2024-02-23T18:41:57.456841Z",
     "shell.execute_reply": "2024-02-23T18:41:57.456646Z"
    }
   },
   "outputs": [],
   "source": [
    "def volume_objective(u_,X):\n",
    "    r\"\"\"\n",
    "    Returns the measure $|K(u)|_d$ of the convex body,\n",
    "    where u concatenates u_ and 1-u_.\n",
    "    \"\"\"\n",
    "    u = np.concatenate([u_,1.-u_])\n",
    "    try: facets,measures = FacetMeasures(u,X)\n",
    "    except ValueError: return np.inf\n",
    "    \n",
    "    return np.sum(u[facets]*measures)/3.\n",
    "\n",
    "def convexity_constraint(u_,X):\n",
    "    u = np.concatenate([u_,1.-u_])\n",
    "    try: return FacetMeasures(u,X)\n",
    "    except ValueError: return np.arange(len(u)),np.full(len(u),-1.)"
   ]
  },
  {
   "cell_type": "markdown",
   "metadata": {},
   "source": [
    "The addressed problem consists in the minimization of a concave problem, subject to convex constraints.\n",
    "\n",
    "Commented : nlopt variant.\n",
    "\n",
    "<!---\n",
    "#import nlopt # !pip install nlopt\n",
    "\n",
    "# Choose the sphere sampling\n",
    "X=sphere_sampling(2,nosym=True)\n",
    "nUnk = X.shape[1]\n",
    "X = np.concatenate([X,-X],axis=1)\n",
    "\n",
    "# The same unknown is used for u(x) and u(-x),\n",
    "# i.e. u = np.concatenate([u_half,1-u_half]) \n",
    "u_half_guess = 0.5 +0.0*np.cos(np.linspace(0,3*np.pi,nUnk,endpoint=False))\n",
    "\n",
    "def objective(u_half,grad):\n",
    "    r\"\"\"\n",
    "    Returns the measure $|K(u)|_d$ of the convex body,\n",
    "    where u concatenates u_half and 1-u_half.\n",
    "    \"\"\"\n",
    "    u = np.concatenate([u_half,1-u_half])\n",
    "    try: facets,measures = ConvexEntropy.BodyBarrier(u,X,\"FacetMeasures\")\n",
    "    except ValueError: return np.inf\n",
    "    measures = np.bincount(facets,weights=measures)\n",
    "    \n",
    "    if grad.size>0: grad[:] = measures[:nUnk]-measures[nUnk:]\n",
    "    resval = (u*measures).sum()/3 # Volume reconstructed using Euler's identity\n",
    "    print(\"Objective\",resval)\n",
    "    return resval\n",
    "    \n",
    "def constraint(u_half,grad):\n",
    "    r\"\"\"\n",
    "    Returns minus the geometric mean of the facet areas $|K_x(u)|_{d-1}$, $x\\in X$, \n",
    "    of the convex body, where u concatenates u_half and 1-u_half.\n",
    "    \"\"\"\n",
    "    if grad.size>0: \n",
    "        u_half = ad.Sparse.identity(constant=u_half)\n",
    "\n",
    "    u = np.concatenate([u_half,1-u_half]) \n",
    "    res = -np.exp(-ConvexEntropy.BodyBarrier(u,X)/len(u))\n",
    "    \n",
    "    if grad.size>0: \n",
    "        grad[:] = res.to_dense().coef\n",
    "    \n",
    "    resval = float(ad.remove_ad(res))\n",
    "    return np.inf if np.isnan(resval) else resval \n",
    "\n",
    "\n",
    "# Choose the algorithm \n",
    "# L : Local\n",
    "# D : uses Derivatives\n",
    "# SLSQP : Sequential Least Squares Quadratic Programming\n",
    "opt = nlopt.opt(\"LD_SLSQP\",nUnk)\n",
    "opt.set_maxeval(100)\n",
    "\n",
    "# 0 <= u(x) <= 1\n",
    "opt.set_lower_bounds(0)\n",
    "opt.set_upper_bounds(1)\n",
    "\n",
    "opt.set_min_objective(objective)\n",
    "opt.add_inequality_constraint(constraint)\n",
    "--->"
   ]
  },
  {
   "cell_type": "code",
   "execution_count": 61,
   "metadata": {
    "execution": {
     "iopub.execute_input": "2024-02-23T18:41:57.458123Z",
     "iopub.status.busy": "2024-02-23T18:41:57.458047Z",
     "iopub.status.idle": "2024-02-23T18:42:02.790340Z",
     "shell.execute_reply": "2024-02-23T18:42:02.790086Z"
    }
   },
   "outputs": [
    {
     "name": "stdout",
     "output_type": "stream",
     "text": [
      "The maximum number of function evaluations is exceeded.\n",
      "Number of iterations: 150, function evaluations: 182, CG iterations: 168, optimality: 2.38e-08, constraint violation: 0.00e+00, execution time:  5.3 s.\n",
      "CPU times: user 4.88 s, sys: 447 ms, total: 5.32 s\n",
      "Wall time: 5.33 s\n"
     ]
    }
   ],
   "source": [
    "%%time\n",
    "sol = sciopt.minimize(x0=u_guess,method='trust-constr',\n",
    "    **NonlinearObjective(volume_objective,(X,)),\n",
    "    constraints = [NonlinearConstraint(convexity_constraint,(X,))],\n",
    "    bounds = sciopt.Bounds(0.,1),options={'verbose':1,'maxiter':150,'gtol':1e-9})"
   ]
  },
  {
   "cell_type": "code",
   "execution_count": 62,
   "metadata": {
    "execution": {
     "iopub.execute_input": "2024-02-23T18:42:02.791723Z",
     "iopub.status.busy": "2024-02-23T18:42:02.791648Z",
     "iopub.status.idle": "2024-02-23T18:42:02.794484Z",
     "shell.execute_reply": "2024-02-23T18:42:02.794275Z"
    }
   },
   "outputs": [],
   "source": [
    "u=np.concatenate([sol.x,1-sol.x])\n",
    "primal_data,dual_data = Plotting.plotly_primal_dual_bodies(X/u)\n",
    "#with open('convex_body.txt','w') as f: f.write(to_mathematica(X/u))"
   ]
  },
  {
   "cell_type": "markdown",
   "metadata": {},
   "source": [
    "The conjecture is that there are two optimal shapes (up to rotations and translations), which are tetrahedra like objects, with three sharp edges and three rounded edges. The global shape is indeed retrieved with our numerical solver; a finer tuning of the optimizer may allow to better distinguish the two edge classes.\n",
    "\n",
    "![Dual body](Illustrations/Meissner/Meissner_dual.png)"
   ]
  },
  {
   "cell_type": "code",
   "execution_count": 63,
   "metadata": {
    "execution": {
     "iopub.execute_input": "2024-02-23T18:42:02.795688Z",
     "iopub.status.busy": "2024-02-23T18:42:02.795604Z",
     "iopub.status.idle": "2024-02-23T18:42:02.797352Z",
     "shell.execute_reply": "2024-02-23T18:42:02.797135Z"
    }
   },
   "outputs": [],
   "source": [
    "if use_plotly: go.Figure(data=dual_data)"
   ]
  },
  {
   "cell_type": "code",
   "execution_count": null,
   "metadata": {},
   "outputs": [],
   "source": []
  }
 ],
 "metadata": {
  "celltoolbar": "Format de la Cellule Texte Brut",
  "kernelspec": {
   "display_name": "Python 3 (ipykernel)",
   "language": "python",
   "name": "python3"
  },
  "language_info": {
   "codemirror_mode": {
    "name": "ipython",
    "version": 3
   },
   "file_extension": ".py",
   "mimetype": "text/x-python",
   "name": "python",
   "nbconvert_exporter": "python",
   "pygments_lexer": "ipython3",
   "version": "3.12.1"
  },
  "varInspector": {
   "cols": {
    "lenName": 16,
    "lenType": 16,
    "lenVar": 40
   },
   "kernels_config": {
    "python": {
     "delete_cmd_postfix": "",
     "delete_cmd_prefix": "del ",
     "library": "var_list.py",
     "varRefreshCmd": "print(var_dic_list())"
    },
    "r": {
     "delete_cmd_postfix": ") ",
     "delete_cmd_prefix": "rm(",
     "library": "var_list.r",
     "varRefreshCmd": "cat(var_dic_list()) "
    }
   },
   "types_to_exclude": [
    "module",
    "function",
    "builtin_function_or_method",
    "instance",
    "_Feature"
   ],
   "window_display": false
  }
 },
 "nbformat": 4,
 "nbformat_minor": 4
}

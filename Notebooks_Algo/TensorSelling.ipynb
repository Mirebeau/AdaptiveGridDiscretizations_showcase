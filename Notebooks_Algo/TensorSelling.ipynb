{
 "cells": [
  {
   "cell_type": "markdown",
   "metadata": {},
   "source": [
    "# Adaptive PDE discretizations on cartesian grids\n",
    "## Volume : Algorithmic tools\n",
    "## Part : Tensor decomposition techniques\n",
    "## Chapter : Selling's algorithm, in dimension 2 and 3\n",
    "\n",
    "This notebook presents some tensor decomposition techniques that are at the foundation of our anisotropic PDE discretizations on cartesian grids. The general objective is to write a given symmetric positive definite matrix $D$ under the form\n",
    "$$\n",
    "    D = \\sum_{0 \\leq i < I} \\lambda_i e_i e_i^T. \n",
    "$$\n",
    "From this point, various numerical schemes can be designed, for both first order and second order, and both linear and non-linear PDEs.\n",
    "\n",
    "The techniques used for constructing the above decomposition are non-trivial, and are related to classical yet subtle tools of discrete geometry. This notebook is meant to illustrate some of their properties.\n",
    "\n",
    "This notebook is limited to dimensions $d\\in \\{2,3\\}$. Tensor decomposition in dimension $d \\in \\{4,5\\}$ requires another set of techniques (and in practice the call to a c++ library), which are discussed in [II Tensor decomposition, dimensions 4 and 5](http://nbviewer.jupyter.org/urls/rawgithub.com/Mirebeau/AdaptiveGridDiscretizations/master/Notebooks/TensorVoronoi.ipynb)\n",
    "\n",
    "**References**\n",
    "\n",
    "The tensor decomposition presented in this notebook is a central ingredient of the following paper:\n",
    "\n",
    "Fehrenbach, J., & Mirebeau, J.-M. (2014). Sparse non-negative stencils for anisotropic diffusion. Journal of Mathematical Imaging and Vision, 49(1), 123–147. http://doi.org/http://dx.doi.org/10.1007/s10851-013-0446-3\n"
   ]
  },
  {
   "cell_type": "markdown",
   "metadata": {},
   "source": [
    "[**Summary**](Summary.ipynb) of volume Algorithmic tools, this series of notebooks.\n",
    "\n",
    "[**Main summary**](../Summary.ipynb) of the Adaptive Grid Discretizations \n",
    "\tbook of notebooks, including the other volumes.\n",
    "\n",
    "# Table of contents\n",
    "  * [1. Decomposing a tensor, or a tensor field](#1.-Decomposing-a-tensor,-or-a-tensor-field)\n",
    "    * [1.1 Case of a $2\\times 2$ matrix](#1.1-Case-of-a-$2\\times-2$-matrix)\n",
    "    * [1.2 Case of a $3 \\times 3$ matrix.](#1.2-Case-of-a-$3-\\times-3$-matrix.)\n",
    "    * [1.3 Case of (extremely) strong anisotropy](#1.3-Case-of-(extremely)-strong-anisotropy)\n",
    "    * [1.4 Decomposition a field of symmetric tensors](#1.4-Decomposition-a-field-of-symmetric-tensors)\n",
    "  * [2. Under the hood : obtuse superbases](#2.-Under-the-hood-:-obtuse-superbases)\n",
    "    * [2.1 Two dimensions](#2.1-Two-dimensions)\n",
    "    * [2.2 Three dimensions](#2.2-Three-dimensions)\n",
    "  * [3. Properties of the decomposition](#3.-Properties-of-the-decomposition)\n",
    "    * [3.1 Offsets smallness](#3.1-Offsets-smallness)\n",
    "    * [3.2 Stability](#3.2-Stability)\n",
    "    * [3.3 Spanning property (no chessboard artifacts)](#3.3-Spanning-property-(no-chessboard-artifacts))\n",
    "    * [3.4 Piecewise linearity](#3.4-Piecewise-linearity)\n",
    "  * [4. Smooth decomposition](#4.-Smooth-decomposition)\n",
    "    * [4.1 Construction](#4.1-Construction)\n",
    "    * [4.2 Display of coefficients](#4.2-Display-of-coefficients)\n",
    "\n",
    "\n",
    "\n",
    "**Acknowledgement.** The experiments presented in these notebooks are part of ongoing research, \n",
    "some of it with PhD student Guillaume Bonnet, in co-direction with Frederic Bonnans, \n",
    "and PhD student François Desquilbet, in co-direction with Ludovic Métivier.\n",
    "\n",
    "Copyright Jean-Marie Mirebeau, Centre Borelli, ENS Paris-Saclay, CNRS, University Paris-Saclay"
   ]
  },
  {
   "cell_type": "markdown",
   "metadata": {},
   "source": [
    "## 0. Importing the required libraries"
   ]
  },
  {
   "cell_type": "code",
   "execution_count": 1,
   "metadata": {
    "execution": {
     "iopub.execute_input": "2021-12-09T21:26:48.961618Z",
     "iopub.status.busy": "2021-12-09T21:26:48.961084Z",
     "iopub.status.idle": "2021-12-09T21:26:48.968103Z",
     "shell.execute_reply": "2021-12-09T21:26:48.968554Z"
    }
   },
   "outputs": [],
   "source": [
    "import sys; sys.path.insert(0,\"..\") # Allow import of agd from parent directory (useless if conda package installed)\n",
    "#from Miscellaneous import TocTools; print(TocTools.displayTOC('TensorSelling','Algo'))"
   ]
  },
  {
   "cell_type": "code",
   "execution_count": 2,
   "metadata": {
    "execution": {
     "iopub.execute_input": "2021-12-09T21:26:48.972987Z",
     "iopub.status.busy": "2021-12-09T21:26:48.972432Z",
     "iopub.status.idle": "2021-12-09T21:26:49.987847Z",
     "shell.execute_reply": "2021-12-09T21:26:49.988421Z"
    },
    "tags": [
     "ExportCode"
    ]
   },
   "outputs": [],
   "source": [
    "from agd import LinearParallel as lp\n",
    "from agd import FiniteDifferences as fd\n",
    "from agd import Selling\n",
    "from agd.Plotting import savefig; #savefig.dirName = 'Figures/TensorSelling'\n",
    "from agd import AutomaticDifferentiation as ad"
   ]
  },
  {
   "cell_type": "markdown",
   "metadata": {},
   "source": [
    "The library imported as **lp** is a set of routines meant to facilitate the manipulation of *numerous small vectors and matrices* simultaneously. It is based on numpy and implements  only a small number of linear algebra tools."
   ]
  },
  {
   "cell_type": "code",
   "execution_count": 3,
   "metadata": {
    "execution": {
     "iopub.execute_input": "2021-12-09T21:26:49.993108Z",
     "iopub.status.busy": "2021-12-09T21:26:49.992597Z",
     "iopub.status.idle": "2021-12-09T21:26:49.995292Z",
     "shell.execute_reply": "2021-12-09T21:26:49.994853Z"
    },
    "tags": [
     "ExportCode"
    ]
   },
   "outputs": [],
   "source": [
    "import numpy as np; xp = np; allclose = np.allclose\n",
    "import matplotlib.pyplot as plt"
   ]
  },
  {
   "cell_type": "markdown",
   "metadata": {},
   "source": [
    "### 0.1 Additional configuration\n",
    "\n",
    "Uncomment the following line to run the notebook on the GPU. (This only for compatibility testing, since no intensive computation is involved.)"
   ]
  },
  {
   "cell_type": "code",
   "execution_count": 4,
   "metadata": {
    "execution": {
     "iopub.execute_input": "2021-12-09T21:26:49.998775Z",
     "iopub.status.busy": "2021-12-09T21:26:49.998256Z",
     "iopub.status.idle": "2021-12-09T21:26:50.000311Z",
     "shell.execute_reply": "2021-12-09T21:26:50.000736Z"
    },
    "tags": [
     "GPU_config"
    ]
   },
   "outputs": [],
   "source": [
    "#xp,plt,allclose=map(ad.cupy_friendly,(xp,plt,allclose))"
   ]
  },
  {
   "cell_type": "markdown",
   "metadata": {},
   "source": [
    "## 1. Decomposing a tensor, or a tensor field\n",
    "\n",
    "In order to illustrate our tensor decomposition facilities, we will rely on randomly generated *symmetric positive definite* tensors. They are built as \n",
    "$$\n",
    "    M = A^T A\n",
    "$$\n",
    "where $A$ has normalized random gaussian entries."
   ]
  },
  {
   "cell_type": "code",
   "execution_count": 5,
   "metadata": {
    "execution": {
     "iopub.execute_input": "2021-12-09T21:26:50.005815Z",
     "iopub.status.busy": "2021-12-09T21:26:50.005188Z",
     "iopub.status.idle": "2021-12-09T21:26:50.007525Z",
     "shell.execute_reply": "2021-12-09T21:26:50.006993Z"
    },
    "tags": [
     "ExportCode"
    ]
   },
   "outputs": [],
   "source": [
    "def MakeRandomTensor(dim,shape = tuple(),relax=0.01):\n",
    "    identity = fd.as_field(np.eye(dim),shape,depth=2)\n",
    "    A = np.random.standard_normal( (dim,dim) + shape ) \n",
    "    M = lp.dot_AA(lp.transpose(A),A) + relax*identity\n",
    "    return xp.asarray(M) # Convert to GPU array if needed"
   ]
  },
  {
   "cell_type": "code",
   "execution_count": 6,
   "metadata": {
    "execution": {
     "iopub.execute_input": "2021-12-09T21:26:50.010993Z",
     "iopub.status.busy": "2021-12-09T21:26:50.010487Z",
     "iopub.status.idle": "2021-12-09T21:26:50.012462Z",
     "shell.execute_reply": "2021-12-09T21:26:50.012946Z"
    }
   },
   "outputs": [],
   "source": [
    "# For reproducibility, we fix the random seed\n",
    "np.random.seed(42) "
   ]
  },
  {
   "cell_type": "markdown",
   "metadata": {},
   "source": [
    "### 1.1 Case of a $2\\times 2$ matrix \n"
   ]
  },
  {
   "cell_type": "code",
   "execution_count": 7,
   "metadata": {
    "execution": {
     "iopub.execute_input": "2021-12-09T21:26:50.016497Z",
     "iopub.status.busy": "2021-12-09T21:26:50.015987Z",
     "iopub.status.idle": "2021-12-09T21:26:50.018227Z",
     "shell.execute_reply": "2021-12-09T21:26:50.018678Z"
    }
   },
   "outputs": [],
   "source": [
    "# Generate a 2x2 random psd tensor\n",
    "D2 = MakeRandomTensor(2)"
   ]
  },
  {
   "cell_type": "markdown",
   "metadata": {},
   "source": [
    "The **Selling.Decomposition** routine, applies to a symmetric positive definite matrix $D$ of size $d \\times d$, with $d\\leq 3$. It returns coefficients $\\lambda_i \\geq 0$ and offsets $e_i \\in Z^d$.\n",
    "\n",
    "A discussion on the inner workings of this decomposition is presented in the next section."
   ]
  },
  {
   "cell_type": "code",
   "execution_count": 8,
   "metadata": {
    "execution": {
     "iopub.execute_input": "2021-12-09T21:26:50.022638Z",
     "iopub.status.busy": "2021-12-09T21:26:50.021976Z",
     "iopub.status.idle": "2021-12-09T21:26:50.025231Z",
     "shell.execute_reply": "2021-12-09T21:26:50.024764Z"
    }
   },
   "outputs": [],
   "source": [
    "coefs,offsets = Selling.Decomposition(D2)"
   ]
  },
  {
   "cell_type": "markdown",
   "metadata": {},
   "source": [
    "The matrix can be reconstructed by the formula\n",
    "$$\n",
    "    D = \\sum_{0 \\leq i < I} \\lambda_i e_i e_i^T. \n",
    "$$\n",
    "\n",
    "<!---ExoFR\n",
    "Définissez une fonction qui reconstruit le tenseur D à partir de coefficients $(\\lambda_i)_{0\\leq i <I}$ et offsets $(e_i)_{0 \\leq i < I}$.\n",
    "--->\n",
    "\n",
    "<!---ExoCode\n",
    "def Reconstruct(coefs,offsets):\n",
    "    \"\"\"\n",
    "    Input.\n",
    "     - coefs :   array of shape   (I,n1,...,nk)\n",
    "     - offsets : array of shape (d,I,n1,...,nk)\n",
    "    Output. \n",
    "     - D :       array of shape (d,d,n1,...,nk)\n",
    "    \"\"\"\n",
    "    return # TODO.\n",
    "--->"
   ]
  },
  {
   "cell_type": "code",
   "execution_count": 9,
   "metadata": {
    "execution": {
     "iopub.execute_input": "2021-12-09T21:26:50.028925Z",
     "iopub.status.busy": "2021-12-09T21:26:50.028412Z",
     "iopub.status.idle": "2021-12-09T21:26:50.030475Z",
     "shell.execute_reply": "2021-12-09T21:26:50.031001Z"
    },
    "tags": [
     "ExportCode"
    ]
   },
   "outputs": [],
   "source": [
    "def Reconstruct(coefs,offsets):\n",
    "     return lp.mult(coefs,lp.outer_self(offsets)).sum(2)"
   ]
  },
  {
   "cell_type": "code",
   "execution_count": 10,
   "metadata": {
    "execution": {
     "iopub.execute_input": "2021-12-09T21:26:50.034589Z",
     "iopub.status.busy": "2021-12-09T21:26:50.034069Z",
     "iopub.status.idle": "2021-12-09T21:26:50.036432Z",
     "shell.execute_reply": "2021-12-09T21:26:50.035995Z"
    }
   },
   "outputs": [],
   "source": [
    "assert allclose(D2,Reconstruct(coefs,offsets))"
   ]
  },
  {
   "cell_type": "markdown",
   "metadata": {},
   "source": [
    "There are $I = d(d+1)/2$ coefficients and offsets (a.k.a $I=3$ if $d=2$, and $I=6$ if $d=3$). Note that this is more than the similar-looking eigen-decomposition of a matrix, which uses only $d$ coefficients and unit vectors. However, our offsets have integer entries, hence are suitable for the construction of finite difference schemes."
   ]
  },
  {
   "cell_type": "code",
   "execution_count": 11,
   "metadata": {
    "execution": {
     "iopub.execute_input": "2021-12-09T21:26:50.041175Z",
     "iopub.status.busy": "2021-12-09T21:26:50.040654Z",
     "iopub.status.idle": "2021-12-09T21:26:50.043640Z",
     "shell.execute_reply": "2021-12-09T21:26:50.044061Z"
    }
   },
   "outputs": [
    {
     "name": "stdout",
     "output_type": "stream",
     "text": [
      "Selling decomposition of matrix : \n",
      " [[0.67622539 0.91777115]\n",
      " [0.91777115 2.34873696]]\n",
      "Coefficients :  [0.43467964 0.94787431 0.24154575]\n",
      "Offsets : \n",
      " [[-1  0  1]\n",
      " [-1 -1  2]]\n"
     ]
    }
   ],
   "source": [
    "print(\"Selling decomposition of matrix : \\n\", D2)\n",
    "print(\"Coefficients : \", coefs)\n",
    "print(\"Offsets : \\n\", offsets)"
   ]
  },
  {
   "cell_type": "code",
   "execution_count": 12,
   "metadata": {
    "execution": {
     "iopub.execute_input": "2021-12-09T21:26:50.055605Z",
     "iopub.status.busy": "2021-12-09T21:26:50.054888Z",
     "iopub.status.idle": "2021-12-09T21:26:50.234010Z",
     "shell.execute_reply": "2021-12-09T21:26:50.233529Z"
    }
   },
   "outputs": [
    {
     "data": {
      "image/png": "[encoded data removed]",
      "text/plain": [
       "<Figure size 432x288 with 1 Axes>"
      ]
     },
     "metadata": {
      "needs_background": "light"
     },
     "output_type": "display_data"
    }
   ],
   "source": [
    "plt.axis('equal'); plt.title(\"Decomposition offsets for the matrix D2\")\n",
    "plt.quiver(*np.zeros(offsets.shape),*offsets,angles='xy',scale_units='xy',scale=1);\n",
    "plt.scatter(*offsets); plt.scatter(*(-offsets));"
   ]
  },
  {
   "cell_type": "markdown",
   "metadata": {},
   "source": [
    "### 1.2 Case of a $3 \\times 3$ matrix.\n",
    "\n",
    "As previously, we generate a 3x3 random psd tensor, decompose it and validate the absence of reconstruction error."
   ]
  },
  {
   "cell_type": "code",
   "execution_count": 13,
   "metadata": {
    "execution": {
     "iopub.execute_input": "2021-12-09T21:26:50.237851Z",
     "iopub.status.busy": "2021-12-09T21:26:50.237264Z",
     "iopub.status.idle": "2021-12-09T21:26:50.239974Z",
     "shell.execute_reply": "2021-12-09T21:26:50.240471Z"
    }
   },
   "outputs": [],
   "source": [
    "D3 = MakeRandomTensor(3)"
   ]
  },
  {
   "cell_type": "code",
   "execution_count": 14,
   "metadata": {
    "execution": {
     "iopub.execute_input": "2021-12-09T21:26:50.245538Z",
     "iopub.status.busy": "2021-12-09T21:26:50.244017Z",
     "iopub.status.idle": "2021-12-09T21:26:50.248071Z",
     "shell.execute_reply": "2021-12-09T21:26:50.247570Z"
    }
   },
   "outputs": [],
   "source": [
    "coefs,offsets = Selling.Decomposition(D3)"
   ]
  },
  {
   "cell_type": "code",
   "execution_count": 15,
   "metadata": {
    "execution": {
     "iopub.execute_input": "2021-12-09T21:26:50.253683Z",
     "iopub.status.busy": "2021-12-09T21:26:50.251931Z",
     "iopub.status.idle": "2021-12-09T21:26:50.256997Z",
     "shell.execute_reply": "2021-12-09T21:26:50.257484Z"
    }
   },
   "outputs": [
    {
     "data": {
      "text/plain": [
       "array([-1.,  0., -0.])"
      ]
     },
     "execution_count": 15,
     "metadata": {},
     "output_type": "execute_result"
    }
   ],
   "source": [
    "sb = Selling.ObtuseSuperbase(D3)\n",
    "lp.cross(sb[:,1],sb[:,2])"
   ]
  },
  {
   "cell_type": "code",
   "execution_count": 16,
   "metadata": {
    "execution": {
     "iopub.execute_input": "2021-12-09T21:26:50.261715Z",
     "iopub.status.busy": "2021-12-09T21:26:50.261141Z",
     "iopub.status.idle": "2021-12-09T21:26:50.264134Z",
     "shell.execute_reply": "2021-12-09T21:26:50.263538Z"
    }
   },
   "outputs": [],
   "source": [
    "assert allclose(D3,Reconstruct(coefs,offsets))"
   ]
  },
  {
   "cell_type": "code",
   "execution_count": 17,
   "metadata": {
    "execution": {
     "iopub.execute_input": "2021-12-09T21:26:50.268876Z",
     "iopub.status.busy": "2021-12-09T21:26:50.268306Z",
     "iopub.status.idle": "2021-12-09T21:26:50.272704Z",
     "shell.execute_reply": "2021-12-09T21:26:50.272185Z"
    }
   },
   "outputs": [
    {
     "name": "stdout",
     "output_type": "stream",
     "text": [
      "Selling decomposition of matrix : \n",
      " [[ 0.86853982 -0.08963958 -0.06552819]\n",
      " [-0.08963958  0.50213052 -0.73715916]\n",
      " [-0.06552819 -0.73715916  2.85683026]]\n",
      "Coefficients :  [0.15516777 0.08963958 0.62373247 0.23502864 1.49444606 0.1774623 ]\n",
      "Offsets : \n",
      " [[-1  1 -1  0  0  0]\n",
      " [ 0 -1  0  1  0 -1]\n",
      " [ 1  1  0 -2  1  1]]\n"
     ]
    }
   ],
   "source": [
    "print(\"Selling decomposition of matrix : \\n\", D3)\n",
    "print(\"Coefficients : \", coefs)\n",
    "print(\"Offsets : \\n\", offsets)"
   ]
  },
  {
   "cell_type": "markdown",
   "metadata": {},
   "source": [
    "### 1.3 Case of (extremely) strong anisotropy\n",
    "\n",
    "Selling's tensor decomposition algorithm requires the matrix to be positive definite. It involves a loop, which number of iterations explodes as the matrix degenerates.\n",
    "\n",
    "A maximum number of iterations is set by default, to a reasonably large value, so that non-convergence is typically due to an error on the user's side - namely a non-positive matrix. "
   ]
  },
  {
   "cell_type": "code",
   "execution_count": 18,
   "metadata": {
    "execution": {
     "iopub.execute_input": "2021-12-09T21:26:50.277057Z",
     "iopub.status.busy": "2021-12-09T21:26:50.276403Z",
     "iopub.status.idle": "2021-12-09T21:26:50.278943Z",
     "shell.execute_reply": "2021-12-09T21:26:50.278457Z"
    }
   },
   "outputs": [],
   "source": [
    "# Construct some matrix with extremely large condition number\n",
    "eps = 1/200.\n",
    "D2_bad = np.array([[1,eps],[eps,2*eps**2]])"
   ]
  },
  {
   "cell_type": "code",
   "execution_count": 19,
   "metadata": {
    "execution": {
     "iopub.execute_input": "2021-12-09T21:26:50.291704Z",
     "iopub.status.busy": "2021-12-09T21:26:50.291119Z",
     "iopub.status.idle": "2021-12-09T21:26:50.293655Z",
     "shell.execute_reply": "2021-12-09T21:26:50.294115Z"
    }
   },
   "outputs": [
    {
     "name": "stdout",
     "output_type": "stream",
     "text": [
      "(\"Selling's algorithm did not terminate in iterMax2=100 iterations\",)\n"
     ]
    }
   ],
   "source": [
    "#Selling's decomposition does not terminate within the iteration limit\n",
    "try:\n",
    "    coefs,offsets = Selling.Decomposition(D2_bad)\n",
    "except ValueError as e:\n",
    "    print(e.args)"
   ]
  },
  {
   "cell_type": "markdown",
   "metadata": {},
   "source": [
    "The iteration limit of Selling's algorithm may be increased, so as to ensure correct termination."
   ]
  },
  {
   "cell_type": "code",
   "execution_count": 20,
   "metadata": {
    "execution": {
     "iopub.execute_input": "2021-12-09T21:26:50.297797Z",
     "iopub.status.busy": "2021-12-09T21:26:50.297248Z",
     "iopub.status.idle": "2021-12-09T21:26:50.299598Z",
     "shell.execute_reply": "2021-12-09T21:26:50.300043Z"
    }
   },
   "outputs": [],
   "source": [
    "Selling.iterMax2 *= 2"
   ]
  },
  {
   "cell_type": "code",
   "execution_count": 21,
   "metadata": {
    "execution": {
     "iopub.execute_input": "2021-12-09T21:26:50.316999Z",
     "iopub.status.busy": "2021-12-09T21:26:50.316400Z",
     "iopub.status.idle": "2021-12-09T21:26:50.319364Z",
     "shell.execute_reply": "2021-12-09T21:26:50.318868Z"
    }
   },
   "outputs": [],
   "source": [
    "coefs,offsets = Selling.Decomposition(D2_bad)"
   ]
  },
  {
   "cell_type": "markdown",
   "metadata": {},
   "source": [
    "However, the resulting offsets are unlikely to be of use for any PDE discretization, since they are way too large. \n",
    "\n",
    "Note also that basis reduction techniques more efficient than Selling's algorithm are available for tensors with extremely large condition numbers. (E.g. Lagrange's algorithm.)"
   ]
  },
  {
   "cell_type": "code",
   "execution_count": 22,
   "metadata": {
    "execution": {
     "iopub.execute_input": "2021-12-09T21:26:50.323735Z",
     "iopub.status.busy": "2021-12-09T21:26:50.323138Z",
     "iopub.status.idle": "2021-12-09T21:26:50.326029Z",
     "shell.execute_reply": "2021-12-09T21:26:50.326502Z"
    }
   },
   "outputs": [
    {
     "name": "stdout",
     "output_type": "stream",
     "text": [
      "offsets : \n",
      " [[-99 100  -1]\n",
      " [ -1   1   0]]\n"
     ]
    }
   ],
   "source": [
    "print(\"offsets : \\n\", offsets)"
   ]
  },
  {
   "cell_type": "markdown",
   "metadata": {},
   "source": [
    "### 1.4 Decomposition a field of symmetric tensors\n",
    "\n",
    "Our implementation of Selling's algorithm automatically threads over dimensions deeper than two."
   ]
  },
  {
   "cell_type": "code",
   "execution_count": 23,
   "metadata": {
    "execution": {
     "iopub.execute_input": "2021-12-09T21:26:50.330551Z",
     "iopub.status.busy": "2021-12-09T21:26:50.329962Z",
     "iopub.status.idle": "2021-12-09T21:26:50.332419Z",
     "shell.execute_reply": "2021-12-09T21:26:50.332898Z"
    }
   },
   "outputs": [],
   "source": [
    "# Generate a 10x10 field of random 2x2 spd tensors\n",
    "D2_field = MakeRandomTensor(2,(10,10))"
   ]
  },
  {
   "cell_type": "code",
   "execution_count": 24,
   "metadata": {
    "execution": {
     "iopub.execute_input": "2021-12-09T21:26:50.338691Z",
     "iopub.status.busy": "2021-12-09T21:26:50.337985Z",
     "iopub.status.idle": "2021-12-09T21:26:50.340265Z",
     "shell.execute_reply": "2021-12-09T21:26:50.340745Z"
    }
   },
   "outputs": [],
   "source": [
    "coefs, offsets = Selling.Decomposition(D2_field)"
   ]
  },
  {
   "cell_type": "code",
   "execution_count": 25,
   "metadata": {
    "execution": {
     "iopub.execute_input": "2021-12-09T21:26:50.344741Z",
     "iopub.status.busy": "2021-12-09T21:26:50.344122Z",
     "iopub.status.idle": "2021-12-09T21:26:50.346704Z",
     "shell.execute_reply": "2021-12-09T21:26:50.347213Z"
    }
   },
   "outputs": [],
   "source": [
    "assert allclose(D2_field,Reconstruct(coefs,offsets))"
   ]
  },
  {
   "cell_type": "markdown",
   "metadata": {},
   "source": [
    "## 2. Under the hood : obtuse superbases\n",
    "\n",
    "This section illustrates the main mathematical concept underlying Selling's decomposition, known as *obtuse superbases* of the lattice $Z^d$.\n",
    "\n",
    "A superbase of $Z^d$ is a special kind of coordinate system $(b_0,\\cdots,b_d)$, spanning the lattice of integer points and with some redundancy. More precisely, one requires\n",
    "$$\n",
    "\\begin{aligned}\n",
    "    b_0+\\cdots+b_d &= 0\\\\\n",
    "    \\det(b_1,\\cdots,b_d) &= \\pm 1\n",
    "\\end{aligned}\n",
    "$$\n",
    "Obtuseness is a geometrical property, related to the tensor being decomposed, and illustrated below.\n"
   ]
  },
  {
   "cell_type": "markdown",
   "metadata": {},
   "source": [
    "### 2.1 Two dimensions\n",
    "\n",
    "Given a positive definite tensor $D$, of dimension $d \\in \\{2,3\\}$, Selling's algorithm produces a superbase obeying a  geometrical condition described below.\n",
    "\n",
    "<!---ExoFR\n",
    "Implémenter l'algorithme de Selling, pour construire une superbase $D$-obtuse pour toute matrice symétrique définie positive $D$ donnée de taille $2 \\times 2$.\n",
    "\n",
    "On rappelle que si $(v_0,v_1,v_2)$ est une superbase qui n'est pas obtuse, donc satisfaisant $<v_i,D v_j> > 0$ où $\\{i,j,k\\}$ est une permutation de $\\{0,1,2\\}$, alors la règle de mise à jour Selling est \n",
    "$$\n",
    "    (v_0,v_1,v_2) \\gets (-v_i,v_j,v_i-v_j).\n",
    "$$\n",
    "--->\n",
    "\n",
    "<!---ExoCode\n",
    "def ObtuseSuperbase2(D,niter=100):\n",
    "    \"\"\"\n",
    "    Input.\n",
    "     - D :  array of shape (2,2)\n",
    "    Output : \n",
    "     - sb : array of shape (2,3)\n",
    "    \"\"\"\n",
    "    sb = np.array([[-1,-1],[1,0],[0,1]]) # here of shape (3,2), transposed in the end\n",
    "    for _ in range(niter):\n",
    "        for i,j,k in [(0,1,2),(0,2,1),(1,2,0)]:\n",
    "            # TODO : check if <sb_i, D sb_j> > 0\n",
    "            # in that case, apply the Selling update rule and break\n",
    "        else: \n",
    "            # All superbase angles are obtuse\n",
    "            return sb.T\n",
    "    raise ValueError(f\"Selling algorithm failed to converge in {niter} iterations\")\n",
    "\n",
    "# Try your code\n",
    "sb = ObtuseSuperbase2(D2)\n",
    "--->\n",
    "\n",
    "<!---\n",
    "def ObtuseSuperbase2(D,niter=100):\n",
    "    sb = np.array([[-1,-1],[1,0],[0,1]])\n",
    "    for _ in range(niter):\n",
    "        for i,j,k in [(0,1,2),(0,2,1),(1,2,0)]:\n",
    "            if lp.dot_VAV(sb[i],D,sb[j]) > 0:\n",
    "                sb[k] = sb[i]-sb[j]\n",
    "                sb[i] = -sb[i]\n",
    "                break\n",
    "        else: \n",
    "            return sb.T\n",
    "    raise ValueError(f\"Selling algorithm failed to converge in {niter} iterations\")\n",
    "--->"
   ]
  },
  {
   "cell_type": "code",
   "execution_count": 26,
   "metadata": {
    "execution": {
     "iopub.execute_input": "2021-12-09T21:26:50.351577Z",
     "iopub.status.busy": "2021-12-09T21:26:50.351014Z",
     "iopub.status.idle": "2021-12-09T21:26:50.353405Z",
     "shell.execute_reply": "2021-12-09T21:26:50.353901Z"
    }
   },
   "outputs": [],
   "source": [
    "sb = Selling.ObtuseSuperbase(D2)"
   ]
  },
  {
   "cell_type": "code",
   "execution_count": 27,
   "metadata": {
    "execution": {
     "iopub.execute_input": "2021-12-09T21:26:50.358992Z",
     "iopub.status.busy": "2021-12-09T21:26:50.358259Z",
     "iopub.status.idle": "2021-12-09T21:26:50.361285Z",
     "shell.execute_reply": "2021-12-09T21:26:50.361747Z"
    }
   },
   "outputs": [
    {
     "data": {
      "text/plain": [
       "array([[-1., -1.,  2.],\n",
       "       [ 1., -0., -1.]])"
      ]
     },
     "execution_count": 27,
     "metadata": {},
     "output_type": "execute_result"
    }
   ],
   "source": [
    "sb"
   ]
  },
  {
   "cell_type": "markdown",
   "metadata": {},
   "source": [
    "The generated superbase $(b_0,\\cdots,b_d)$ is designed to be $D$-obtuse. In other words to obey \n",
    "$$\n",
    "    <b_i,D b_j> \\leq 0\n",
    "$$\n",
    "for all distinct $i,j\\in \\{0,\\cdots,d\\}$."
   ]
  },
  {
   "cell_type": "code",
   "execution_count": 28,
   "metadata": {
    "execution": {
     "iopub.execute_input": "2021-12-09T21:26:50.367442Z",
     "iopub.status.busy": "2021-12-09T21:26:50.366669Z",
     "iopub.status.idle": "2021-12-09T21:26:50.369829Z",
     "shell.execute_reply": "2021-12-09T21:26:50.370311Z"
    }
   },
   "outputs": [
    {
     "data": {
      "text/plain": [
       "[-0.241545753744008, -0.4346796384446705, -0.9478743070679037]"
      ]
     },
     "execution_count": 28,
     "metadata": {},
     "output_type": "execute_result"
    }
   ],
   "source": [
    "[lp.dot_VAV(sb[:,i],D2,sb[:,np.mod(i+1,3)]) for i in range(3)]"
   ]
  },
  {
   "cell_type": "markdown",
   "metadata": {},
   "source": [
    "The tensor decomposition reads \n",
    "$$\n",
    "    D = -\\sum_{0\\leq i<j \\leq d} <b_i,D b_j> v_{ij} v_{ij}^T,\n",
    "$$\n",
    "where one defines $v_{ij} = \\pm b_k^\\perp$ where $\\{i,j,k\\} = \\{0,1,2\\}$. \n",
    "\n",
    "In particular, \n",
    "* the weight of the decomposition are the negated scalar products.\n",
    "* the offsets of the decomposition are the superbase elements rotated by $\\pi/2$.\n",
    "\n",
    "<!---ExoFR\n",
    "Implémentez la formule de reconstruction de Selling, en dimension 2.\n",
    "--->\n",
    "\n",
    "<!---ExoCode\n",
    "def Decomposition2(D):\n",
    "    coefs = []\n",
    "    offsets = []\n",
    "    for i,j,k in [(0,1,2),(0,2,1),(1,2,0)]:\n",
    "        coefs.append(   # TODO. Append coefficient\n",
    "        offsets.append( # TODO. Append offset\n",
    "    return np.array(coefs),np.array(offsets).T\n",
    "--->\n",
    "\n",
    "<!---\n",
    "def Decomposition2(D):\n",
    "    sb = ObtuseSuperbase2(D)\n",
    "    coefs = []\n",
    "    offsets = []\n",
    "    for i,j,k in [(0,1,2),(0,2,1),(1,2,0)]:\n",
    "        coefs.append(-lp.dot_VAV(sb[:,i],D,sb[:,j]))\n",
    "        offsets.append([sb[1,k],-sb[0,k]])\n",
    "    return np.array(coefs),np.array(offsets).T\n",
    "--->"
   ]
  },
  {
   "cell_type": "code",
   "execution_count": 29,
   "metadata": {
    "execution": {
     "iopub.execute_input": "2021-12-09T21:26:50.374642Z",
     "iopub.status.busy": "2021-12-09T21:26:50.374024Z",
     "iopub.status.idle": "2021-12-09T21:26:50.376845Z",
     "shell.execute_reply": "2021-12-09T21:26:50.376327Z"
    }
   },
   "outputs": [],
   "source": [
    "coefs,offsets = Selling.Decomposition(D2,sb=sb)"
   ]
  },
  {
   "cell_type": "code",
   "execution_count": 30,
   "metadata": {
    "execution": {
     "iopub.execute_input": "2021-12-09T21:26:50.381607Z",
     "iopub.status.busy": "2021-12-09T21:26:50.380756Z",
     "iopub.status.idle": "2021-12-09T21:26:50.384019Z",
     "shell.execute_reply": "2021-12-09T21:26:50.384512Z"
    }
   },
   "outputs": [
    {
     "name": "stdout",
     "output_type": "stream",
     "text": [
      "Coefficients :  [0.43467964 0.94787431 0.24154575]\n",
      "Offsets : \n",
      " [[-1  0  1]\n",
      " [-1 -1  2]]\n"
     ]
    }
   ],
   "source": [
    "print(\"Coefficients : \", coefs)\n",
    "print(\"Offsets : \\n\", offsets)"
   ]
  },
  {
   "cell_type": "markdown",
   "metadata": {},
   "source": [
    "It is possible to produce a tensor decomposition from an arbitrary superbase, but the coefficients are positive only if the superbase is obtuse."
   ]
  },
  {
   "cell_type": "code",
   "execution_count": 31,
   "metadata": {
    "execution": {
     "iopub.execute_input": "2021-12-09T21:26:50.390322Z",
     "iopub.status.busy": "2021-12-09T21:26:50.389695Z",
     "iopub.status.idle": "2021-12-09T21:26:50.393566Z",
     "shell.execute_reply": "2021-12-09T21:26:50.393062Z"
    }
   },
   "outputs": [
    {
     "name": "stdout",
     "output_type": "stream",
     "text": [
      "Coefficients :  [-0.91777115  3.26650811  1.59399654]\n",
      "Offsets : \n",
      " [[ 1  0 -1]\n",
      " [-1  1  0]]\n"
     ]
    }
   ],
   "source": [
    "sb = Selling.CanonicalSuperbase(D2) # Takes dimension an array type from argument\n",
    "coefs,offsets = Selling.Decomposition(D2,sb=sb)\n",
    "print(\"Coefficients : \", coefs)\n",
    "print(\"Offsets : \\n\", offsets)"
   ]
  },
  {
   "cell_type": "markdown",
   "metadata": {},
   "source": [
    "### 2.2 Three dimensions\n",
    "\n",
    "We follow similar steps in dimension $d=3$.\n",
    "\n",
    "<!---ExoFR\n",
    "Implémenter l'algorithme de Selling, pour construire une superbase $D$-obtuse pour toute matrice symétrique définie positive $D$ donnée de taille $3 \\times 3$.\n",
    "\n",
    "On rappelle que si $(v_0,v_1,v_2,v_3)$ est une superbase qui n'est pas obtuse, donc satisfaisant $<v_i,D v_j> > 0$ où $\\{i,j,k,l\\}$ est une permutation de $\\{0,1,2,3\\}$, alors la règle de mise à jour Selling est \n",
    "$$\n",
    "    (v_0,v_1,v_2,v_3) \\gets (-v_i,v_j,v_k+v_i,v_l+v_i).\n",
    "$$\n",
    "--->\n",
    "\n",
    "<!---ExoCode\n",
    "def ObtuseSuperbase3(D,niter=100):\n",
    "    \"\"\"\n",
    "    Input.\n",
    "     - D :  array of shape (3,3)\n",
    "    Output : \n",
    "     - sb : array of shape (3,6)\n",
    "    \"\"\"\n",
    "    # TODO : reprendre et adapter ObtuseSuperbase2\n",
    "    raise ValueError(f\"Selling algorithm failed to converge in {niter} iterations\")\n",
    "\n",
    "# Try your code\n",
    "sb = ObtuseSuperbase3(D3)\n",
    "--->"
   ]
  },
  {
   "cell_type": "code",
   "execution_count": 32,
   "metadata": {
    "execution": {
     "iopub.execute_input": "2021-12-09T21:26:50.398116Z",
     "iopub.status.busy": "2021-12-09T21:26:50.397483Z",
     "iopub.status.idle": "2021-12-09T21:26:50.400399Z",
     "shell.execute_reply": "2021-12-09T21:26:50.400884Z"
    }
   },
   "outputs": [],
   "source": [
    "sb = Selling.ObtuseSuperbase(D3)"
   ]
  },
  {
   "cell_type": "code",
   "execution_count": 33,
   "metadata": {
    "execution": {
     "iopub.execute_input": "2021-12-09T21:26:50.405339Z",
     "iopub.status.busy": "2021-12-09T21:26:50.404784Z",
     "iopub.status.idle": "2021-12-09T21:26:50.407732Z",
     "shell.execute_reply": "2021-12-09T21:26:50.408210Z"
    }
   },
   "outputs": [
    {
     "data": {
      "text/plain": [
       "array([[ 1., -0.,  0., -1.],\n",
       "       [ 0.,  1.,  1., -2.],\n",
       "       [ 0.,  1.,  0., -1.]])"
      ]
     },
     "execution_count": 33,
     "metadata": {},
     "output_type": "execute_result"
    }
   ],
   "source": [
    "sb"
   ]
  },
  {
   "cell_type": "markdown",
   "metadata": {},
   "source": [
    "The superbase, once updated by Selling's algorithm, is again $D$-obtuse as in two dimensions."
   ]
  },
  {
   "cell_type": "code",
   "execution_count": 34,
   "metadata": {
    "execution": {
     "iopub.execute_input": "2021-12-09T21:26:50.413650Z",
     "iopub.status.busy": "2021-12-09T21:26:50.413088Z",
     "iopub.status.idle": "2021-12-09T21:26:50.416382Z",
     "shell.execute_reply": "2021-12-09T21:26:50.416852Z"
    }
   },
   "outputs": [
    {
     "data": {
      "text/plain": [
       "[-0.15516776941907545,\n",
       " -0.08963958172347006,\n",
       " -0.23502863838412358,\n",
       " -0.6237324732734054,\n",
       " -1.4944460568297007,\n",
       " -0.17746229691144133]"
      ]
     },
     "execution_count": 34,
     "metadata": {},
     "output_type": "execute_result"
    }
   ],
   "source": [
    "[lp.dot_VAV(sb[:,i],D3,sb[:,j]) for i in range(4) for j in range(i)]"
   ]
  },
  {
   "cell_type": "markdown",
   "metadata": {},
   "source": [
    "The tensor decomposition reads \n",
    "$$\n",
    "    D = -\\sum_{0\\leq i<j \\leq d} <b_i,D b_j> v_{ij} v_{ij}^T,\n",
    "$$\n",
    "where one defines $v_{ij} = \\pm b_k \\wedge bl$ where $\\{i,j,k,l\\} = \\{0,1,2,3\\}$. \n",
    "\n",
    "In particular, \n",
    "* the weight of the decomposition are the negated scalar products.\n",
    "* the offsets of the decomposition are the cross-products of superbase elements (or their opposites)\n",
    "\n",
    "<!---ExoFR\n",
    "Implémenter la formule de décomposition de Selling en dimension $d=3$.\n",
    "--->\n",
    "\n",
    "<!---ExoCode\n",
    "def Decomposition3(D):\n",
    "    \"\"\"\n",
    "    Input.\n",
    "     - D :       array of shape (3,3)\n",
    "    Output.\n",
    "     - coefs :   array of shape (6,)\n",
    "     - offsets : array of shape (3,6)\n",
    "    \"\"\"\n",
    "    coefs = []\n",
    "    offsets = []\n",
    "    # TODO : Reprendre et adapter Decomposition2\n",
    "    return np.array(coefs),np.array(offsets).T\n",
    "--->"
   ]
  },
  {
   "cell_type": "code",
   "execution_count": 35,
   "metadata": {
    "execution": {
     "iopub.execute_input": "2021-12-09T21:26:50.422220Z",
     "iopub.status.busy": "2021-12-09T21:26:50.421633Z",
     "iopub.status.idle": "2021-12-09T21:26:50.423753Z",
     "shell.execute_reply": "2021-12-09T21:26:50.424208Z"
    }
   },
   "outputs": [],
   "source": [
    "coefs,offsets = Selling.Decomposition(D3)"
   ]
  },
  {
   "cell_type": "code",
   "execution_count": 36,
   "metadata": {
    "execution": {
     "iopub.execute_input": "2021-12-09T21:26:50.428063Z",
     "iopub.status.busy": "2021-12-09T21:26:50.427521Z",
     "iopub.status.idle": "2021-12-09T21:26:50.430846Z",
     "shell.execute_reply": "2021-12-09T21:26:50.431414Z"
    }
   },
   "outputs": [
    {
     "name": "stdout",
     "output_type": "stream",
     "text": [
      "Coefficients :  [0.15516777 0.08963958 0.62373247 0.23502864 1.49444606 0.1774623 ]\n",
      "Offsets : \n",
      " [[-1  1 -1  0  0  0]\n",
      " [ 0 -1  0  1  0 -1]\n",
      " [ 1  1  0 -2  1  1]]\n"
     ]
    }
   ],
   "source": [
    "print(\"Coefficients : \", coefs)\n",
    "print(\"Offsets : \\n\", offsets)"
   ]
  },
  {
   "cell_type": "code",
   "execution_count": 37,
   "metadata": {
    "execution": {
     "iopub.execute_input": "2021-12-09T21:26:50.437184Z",
     "iopub.status.busy": "2021-12-09T21:26:50.436620Z",
     "iopub.status.idle": "2021-12-09T21:26:50.439612Z",
     "shell.execute_reply": "2021-12-09T21:26:50.440105Z"
    }
   },
   "outputs": [
    {
     "data": {
      "text/plain": [
       "array([[ 0,  0,  1,  0, -1,  1],\n",
       "       [ 1,  0,  0, -1,  1,  0],\n",
       "       [-1, -1,  0,  2, -1, -1]])"
      ]
     },
     "execution_count": 37,
     "metadata": {},
     "output_type": "execute_result"
    }
   ],
   "source": [
    "#Comparing with the cross products of the superbase elements.\n",
    "ad.array(\n",
    "    [lp.cross(sb[:,i],sb[:,j]) for i in range(4) for j in range(i)]\n",
    ").astype(int).T"
   ]
  },
  {
   "cell_type": "markdown",
   "metadata": {},
   "source": [
    "## 3. Properties of the decomposition\n",
    "\n",
    "Selling's decomposition of tensors, presented in this notebook has a qualities that make it particularly suitable for PDE discretizations. More precisely, it is:\n",
    "* *Local*: The offsets appearing in the decomposition are typically small, and in any case bounded by the anisotropy ratio of the tensor, see below.\n",
    "* *Stable*: The decomposition is unique, up to trivial transformations (reordering the offsets, and replacing some with their opposites). It is also stable, more precisely it is locally Lipschitz w.r.t. the decomposed tensor.  \n",
    "* *Spanning* The offsets span $Z^d$ by linear relations with integer coordinates. In practice, this means that anisotropic PDE discretizations using this method should not produce chessboard artifacts. \n",
    "\n",
    "\n",
    "We illustrate these properties in dimension $d=2$, by considering a rotating family of tensors with fixed condition number. For any positive definite tensor $D$ we let \n",
    "$$\n",
    "    \\mu(D) := \\sqrt{\\|D\\| \\|D^{-1}\\|}\n",
    "$$ \n",
    "denote the anisotropy ratio, i.e. the sqrt of the condition number of $D$."
   ]
  },
  {
   "cell_type": "code",
   "execution_count": 38,
   "metadata": {
    "execution": {
     "iopub.execute_input": "2021-12-09T21:26:50.445293Z",
     "iopub.status.busy": "2021-12-09T21:26:50.444766Z",
     "iopub.status.idle": "2021-12-09T21:26:50.447318Z",
     "shell.execute_reply": "2021-12-09T21:26:50.446858Z"
    }
   },
   "outputs": [],
   "source": [
    "theta = np.linspace(0,np.pi/2,100)\n",
    "mu = 10\n",
    "D2_rotating = (\n",
    "    mu**2 * lp.outer_self(np.array([np.cos(theta),np.sin(theta)])) \n",
    "    + lp.outer_self(np.array([-np.sin(theta),np.cos(theta)])) \n",
    ")"
   ]
  },
  {
   "cell_type": "code",
   "execution_count": 39,
   "metadata": {
    "execution": {
     "iopub.execute_input": "2021-12-09T21:26:50.451250Z",
     "iopub.status.busy": "2021-12-09T21:26:50.450724Z",
     "iopub.status.idle": "2021-12-09T21:26:50.454082Z",
     "shell.execute_reply": "2021-12-09T21:26:50.454563Z"
    }
   },
   "outputs": [],
   "source": [
    "coefs,offsets = Selling.Decomposition(D2_rotating)"
   ]
  },
  {
   "cell_type": "markdown",
   "metadata": {},
   "source": [
    "### 3.1 Offsets smallness \n",
    "\n",
    "The offsets $(e_i)_{1 \\leq i \\leq I}$ involved in Selling's decomposition of a tensor $D$ obey\n",
    "$$\n",
    "    \\|e_i\\| \\leq C \\mu(D),\n",
    "$$\n",
    "where $C$ is an absolute constant. "
   ]
  },
  {
   "cell_type": "code",
   "execution_count": 40,
   "metadata": {
    "execution": {
     "iopub.execute_input": "2021-12-09T21:26:50.458401Z",
     "iopub.status.busy": "2021-12-09T21:26:50.457824Z",
     "iopub.status.idle": "2021-12-09T21:26:50.459884Z",
     "shell.execute_reply": "2021-12-09T21:26:50.460310Z"
    }
   },
   "outputs": [],
   "source": [
    "offsets_norms = np.sqrt(np.sum(offsets**2,axis=0))"
   ]
  },
  {
   "cell_type": "code",
   "execution_count": 41,
   "metadata": {
    "execution": {
     "iopub.execute_input": "2021-12-09T21:26:50.463787Z",
     "iopub.status.busy": "2021-12-09T21:26:50.463259Z",
     "iopub.status.idle": "2021-12-09T21:26:50.466267Z",
     "shell.execute_reply": "2021-12-09T21:26:50.466728Z"
    }
   },
   "outputs": [
    {
     "name": "stdout",
     "output_type": "stream",
     "text": [
      "Sqrt of condition number :  10\n",
      "Largest offset norm :  5.0990195135927845\n"
     ]
    }
   ],
   "source": [
    "print(\"Sqrt of condition number : \", mu)\n",
    "print(\"Largest offset norm : \", np.max(offsets_norms))"
   ]
  },
  {
   "cell_type": "code",
   "execution_count": 42,
   "metadata": {
    "execution": {
     "iopub.execute_input": "2021-12-09T21:26:50.497914Z",
     "iopub.status.busy": "2021-12-09T21:26:50.469897Z",
     "iopub.status.idle": "2021-12-09T21:26:50.616152Z",
     "shell.execute_reply": "2021-12-09T21:26:50.615648Z"
    }
   },
   "outputs": [
    {
     "data": {
      "image/png": "[encoded data removed]",
      "text/plain": [
       "<Figure size 432x288 with 1 Axes>"
      ]
     },
     "metadata": {
      "needs_background": "light"
     },
     "output_type": "display_data"
    }
   ],
   "source": [
    "plt.plot(theta,np.max(offsets_norms,axis=0));"
   ]
  },
  {
   "cell_type": "markdown",
   "metadata": {},
   "source": [
    "### 3.2 Stability\n",
    "\n",
    "We may rewrite Selling's decomposition in an indexation independent manner, as follows\n",
    "$$\n",
    "    D = \\sum_{e \\in Z^d} \\lambda^e(D) e e^T.\n",
    "$$\n",
    "One can the prove that the coefficient $\\lambda^e(D)$ of Selling's tensor decomposition, for a given offset $e \\in Z^d$, depends continuously on the parameter $D$, as illustrated below. "
   ]
  },
  {
   "cell_type": "code",
   "execution_count": 43,
   "metadata": {
    "execution": {
     "iopub.execute_input": "2021-12-09T21:26:50.626555Z",
     "iopub.status.busy": "2021-12-09T21:26:50.625883Z",
     "iopub.status.idle": "2021-12-09T21:26:50.630396Z",
     "shell.execute_reply": "2021-12-09T21:26:50.629865Z"
    }
   },
   "outputs": [],
   "source": [
    "decomp = Selling.GatherByOffset(theta,coefs,offsets)"
   ]
  },
  {
   "cell_type": "code",
   "execution_count": 44,
   "metadata": {
    "execution": {
     "iopub.execute_input": "2021-12-09T21:26:50.635800Z",
     "iopub.status.busy": "2021-12-09T21:26:50.635143Z",
     "iopub.status.idle": "2021-12-09T21:26:50.984961Z",
     "shell.execute_reply": "2021-12-09T21:26:50.985399Z"
    }
   },
   "outputs": [
    {
     "data": {
      "image/png": "[encoded data removed]",
      "text/plain": [
       "<Figure size 576x288 with 1 Axes>"
      ]
     },
     "metadata": {
      "needs_background": "light"
     },
     "output_type": "display_data"
    }
   ],
   "source": [
    "fig = plt.figure(figsize=(8,4))\n",
    "for offset,(angle,coef) in decomp.items():\n",
    "    plt.plot(angle,coef)\n",
    "plt.legend(decomp.keys(),ncol=3);\n",
    "savefig(fig,\"Coefs_Sel2_rot.pdf\")"
   ]
  },
  {
   "cell_type": "markdown",
   "metadata": {},
   "source": [
    "### 3.3 Spanning property (no chessboard artifacts)\n",
    "\n",
    "The lattice $Z^d$ is spanned, by integer combinations, by the offsets $(e_i)_{1 \\leq i \\leq I}$ appearing in the decomposition of an arbitrary p.s.d. tensor $D$. In other words, for all $x \\in Z^d$, there exists coefficisnts $k_1,\\cdots, k_I \\in Z$ such that \n",
    "$$\n",
    "    x = k_1 e_1 + \\cdots+ k_d e_d.\n",
    "$$\n",
    "In addition, one may select this decomposition so that the weight $\\lambda_i$ of $e_i$ is positive whenever $k_i \\neq 0$.\n",
    "\n",
    "This property guarantees that the graph underlying e.g. the discretization of an anisotropic laplacian is locally connected, hence that spurious modes such as chessboard artifacts will not appear. \n",
    "\n",
    "From a mathematical standpoint, the spanning property can be deduced from the construction of the decomposition in terms of obtuse superbases. Numerically, we can check it by finding a subset of the offsets whose determinant equals $\\pm 1$. "
   ]
  },
  {
   "cell_type": "code",
   "execution_count": 45,
   "metadata": {
    "execution": {
     "iopub.execute_input": "2021-12-09T21:26:50.990390Z",
     "iopub.status.busy": "2021-12-09T21:26:50.989780Z",
     "iopub.status.idle": "2021-12-09T21:26:50.992529Z",
     "shell.execute_reply": "2021-12-09T21:26:50.992953Z"
    }
   },
   "outputs": [
    {
     "data": {
      "text/plain": [
       "array([ 1,  1, -1,  1, -1, -1, -1, -1, -1, -1, -1, -1, -1,  1,  1,  1,  1,\n",
       "        1,  1, -1, -1, -1, -1, -1, -1, -1, -1, -1,  1,  1,  1,  1, -1, -1,\n",
       "       -1, -1, -1, -1, -1, -1, -1, -1, -1, -1, -1, -1, -1, -1,  1, -1, -1,\n",
       "        1, -1, -1, -1, -1, -1, -1, -1, -1, -1, -1, -1, -1, -1, -1, -1, -1,\n",
       "        1,  1,  1,  1, -1, -1, -1, -1, -1, -1, -1, -1, -1,  1,  1,  1,  1,\n",
       "        1,  1, -1, -1, -1, -1, -1, -1, -1, -1, -1,  1, -1,  1, -1])"
      ]
     },
     "execution_count": 45,
     "metadata": {},
     "output_type": "execute_result"
    }
   ],
   "source": [
    "lp.det(offsets[:,0:2])"
   ]
  },
  {
   "cell_type": "code",
   "execution_count": 46,
   "metadata": {
    "execution": {
     "iopub.execute_input": "2021-12-09T21:26:50.997858Z",
     "iopub.status.busy": "2021-12-09T21:26:50.997338Z",
     "iopub.status.idle": "2021-12-09T21:26:50.999338Z",
     "shell.execute_reply": "2021-12-09T21:26:50.999767Z"
    }
   },
   "outputs": [],
   "source": [
    "coefs,offsets = Selling.Decomposition(D3)"
   ]
  },
  {
   "cell_type": "code",
   "execution_count": 47,
   "metadata": {
    "execution": {
     "iopub.execute_input": "2021-12-09T21:26:51.003802Z",
     "iopub.status.busy": "2021-12-09T21:26:51.003283Z",
     "iopub.status.idle": "2021-12-09T21:26:51.005947Z",
     "shell.execute_reply": "2021-12-09T21:26:51.006451Z"
    }
   },
   "outputs": [
    {
     "data": {
      "text/plain": [
       "-1"
      ]
     },
     "execution_count": 47,
     "metadata": {},
     "output_type": "execute_result"
    }
   ],
   "source": [
    "lp.det(offsets[:,0:3])"
   ]
  },
  {
   "cell_type": "markdown",
   "metadata": {},
   "source": [
    "### 3.4 Piecewise linearity\n",
    "\n",
    "The Selling's coefficients depend in a piecewise linear manner on the decomposed tensor. This property can be exploited, in (often quite sophisticated) numerical schemes."
   ]
  },
  {
   "cell_type": "code",
   "execution_count": 48,
   "metadata": {
    "execution": {
     "iopub.execute_input": "2021-12-09T21:26:51.010682Z",
     "iopub.status.busy": "2021-12-09T21:26:51.010166Z",
     "iopub.status.idle": "2021-12-09T21:26:51.012615Z",
     "shell.execute_reply": "2021-12-09T21:26:51.013044Z"
    }
   },
   "outputs": [],
   "source": [
    "def Interpolate(a,b,T=np.linspace(0,1,100)):\n",
    "    return T, np.moveaxis(ad.array([(1-t)*a + t*b for t in T]),0,-1)"
   ]
  },
  {
   "cell_type": "code",
   "execution_count": 49,
   "metadata": {
    "execution": {
     "iopub.execute_input": "2021-12-09T21:26:51.019176Z",
     "iopub.status.busy": "2021-12-09T21:26:51.018393Z",
     "iopub.status.idle": "2021-12-09T21:26:51.026125Z",
     "shell.execute_reply": "2021-12-09T21:26:51.026597Z"
    }
   },
   "outputs": [],
   "source": [
    "np.random.seed(42)\n",
    "t,D2t = Interpolate(MakeRandomTensor(2),MakeRandomTensor(2))\n",
    "decomp = Selling.GatherByOffset(t,*Selling.Decomposition(D2t))"
   ]
  },
  {
   "cell_type": "code",
   "execution_count": 50,
   "metadata": {
    "execution": {
     "iopub.execute_input": "2021-12-09T21:26:51.043432Z",
     "iopub.status.busy": "2021-12-09T21:26:51.042899Z",
     "iopub.status.idle": "2021-12-09T21:26:51.206334Z",
     "shell.execute_reply": "2021-12-09T21:26:51.206837Z"
    }
   },
   "outputs": [
    {
     "data": {
      "image/png": "[encoded data removed]",
      "text/plain": [
       "<Figure size 576x288 with 1 Axes>"
      ]
     },
     "metadata": {
      "needs_background": "light"
     },
     "output_type": "display_data"
    }
   ],
   "source": [
    "fig = plt.figure(figsize=(8,4))\n",
    "for offset,(time,coef) in decomp.items(): plt.plot(time,coef)\n",
    "plt.legend(decomp.keys());"
   ]
  },
  {
   "cell_type": "code",
   "execution_count": 51,
   "metadata": {
    "execution": {
     "iopub.execute_input": "2021-12-09T21:26:51.212892Z",
     "iopub.status.busy": "2021-12-09T21:26:51.212264Z",
     "iopub.status.idle": "2021-12-09T21:26:51.225435Z",
     "shell.execute_reply": "2021-12-09T21:26:51.225926Z"
    }
   },
   "outputs": [],
   "source": [
    "np.random.seed(1)\n",
    "t,D3t = Interpolate(MakeRandomTensor(3),MakeRandomTensor(3))\n",
    "decomp = Selling.GatherByOffset(t,*Selling.Decomposition(D3t))"
   ]
  },
  {
   "cell_type": "code",
   "execution_count": 52,
   "metadata": {
    "execution": {
     "iopub.execute_input": "2021-12-09T21:26:51.279299Z",
     "iopub.status.busy": "2021-12-09T21:26:51.244348Z",
     "iopub.status.idle": "2021-12-09T21:26:51.525064Z",
     "shell.execute_reply": "2021-12-09T21:26:51.525492Z"
    }
   },
   "outputs": [
    {
     "data": {
      "image/png": "[encoded data removed]",
      "text/plain": [
       "<Figure size 576x288 with 1 Axes>"
      ]
     },
     "metadata": {
      "needs_background": "light"
     },
     "output_type": "display_data"
    }
   ],
   "source": [
    "fig = plt.figure(figsize=(8,4)); plt.title(\"Coefficients of Selling's decomposition (d=3)\")\n",
    "for offset,(time,coef) in decomp.items(): plt.plot(time,coef)\n",
    "plt.legend(decomp.keys(),ncol=3)\n",
    "savefig(fig,\"Coefs_Sel3.pdf\")"
   ]
  },
  {
   "cell_type": "markdown",
   "metadata": {},
   "source": [
    "## 4. Smooth decomposition\n",
    "\n",
    "The coefficients of Selling's decomposition have are piecewise linear, hence have Lipschitz regularity, but not better. In some applications it is preferable, at least from the theoretical standpoint, to define a decomposition whose coefficients have a *Lipschitz gradient*. We describe such a construction in the following."
   ]
  },
  {
   "cell_type": "markdown",
   "metadata": {},
   "source": [
    "### 4.1 Construction\n",
    "\n",
    "Two auxiliary functions are needed for our smooth variant of Selling's decomposition. The first one is a regularized absolute value."
   ]
  },
  {
   "cell_type": "code",
   "execution_count": 53,
   "metadata": {
    "execution": {
     "iopub.execute_input": "2021-12-09T21:26:51.530298Z",
     "iopub.status.busy": "2021-12-09T21:26:51.529782Z",
     "iopub.status.idle": "2021-12-09T21:26:51.532181Z",
     "shell.execute_reply": "2021-12-09T21:26:51.531741Z"
    }
   },
   "outputs": [],
   "source": [
    "def sabs(x):\n",
    "    \"\"\"Regularized absolute value. Guarantee : 0 <= result-|x| <= 1/2\"\"\"\n",
    "    x = np.abs(x) # Actually useless for this specific application\n",
    "    return np.where(x<=1, 0.5*(1+x**2), x) \n",
    "#    return np.where(x<=1, (3+6*x**2-x**4)/8,x) # Alternative with higher regularity"
   ]
  },
  {
   "cell_type": "code",
   "execution_count": 54,
   "metadata": {
    "execution": {
     "iopub.execute_input": "2021-12-09T21:26:51.581097Z",
     "iopub.status.busy": "2021-12-09T21:26:51.580487Z",
     "iopub.status.idle": "2021-12-09T21:26:51.721854Z",
     "shell.execute_reply": "2021-12-09T21:26:51.722359Z"
    }
   },
   "outputs": [
    {
     "data": {
      "image/png": "[encoded data removed]",
      "text/plain": [
       "<Figure size 432x288 with 1 Axes>"
      ]
     },
     "metadata": {
      "needs_background": "light"
     },
     "output_type": "display_data"
    }
   ],
   "source": [
    "x=np.linspace(-2,2,100)\n",
    "plt.plot(x,sabs(x),label=\"sabs\")\n",
    "plt.plot(x,np.abs(x),label=\"abs\")\n",
    "plt.title(\"Smoothed absolute value\")\n",
    "plt.legend();"
   ]
  },
  {
   "cell_type": "markdown",
   "metadata": {},
   "source": [
    "The second auxiliary function is a regularized median. It is also defined in terms of quantities, $s$ and $q$, that are chosen for their invariance under Selling's superbase operations."
   ]
  },
  {
   "cell_type": "code",
   "execution_count": 55,
   "metadata": {
    "execution": {
     "iopub.execute_input": "2021-12-09T21:26:51.727722Z",
     "iopub.status.busy": "2021-12-09T21:26:51.727161Z",
     "iopub.status.idle": "2021-12-09T21:26:51.729518Z",
     "shell.execute_reply": "2021-12-09T21:26:51.730015Z"
    }
   },
   "outputs": [],
   "source": [
    "def smed(ρ0,ρ1,ρ2):\n",
    "    \"\"\"Regularized median (a.k.a. ρ1) assuming ρ0<=ρ1<=ρ2.\n",
    "    Guarantee : ρ1/(2*sqrt(2)) <= result < ρ1\"\"\"\n",
    "    s,q = ρ0*ρ1+ρ1*ρ2+ρ2*ρ0, (ρ2-ρ1)**2 # Invariant quantities under Selling superbase flip \n",
    "    return 0.5*s/np.sqrt(q+2*s) "
   ]
  },
  {
   "cell_type": "code",
   "execution_count": 56,
   "metadata": {
    "execution": {
     "iopub.execute_input": "2021-12-09T21:26:51.740135Z",
     "iopub.status.busy": "2021-12-09T21:26:51.736993Z",
     "iopub.status.idle": "2021-12-09T21:26:51.941311Z",
     "shell.execute_reply": "2021-12-09T21:26:51.941823Z"
    }
   },
   "outputs": [
    {
     "data": {
      "image/png": "[encoded data removed]",
      "text/plain": [
       "<Figure size 432x288 with 1 Axes>"
      ]
     },
     "metadata": {
      "needs_background": "light"
     },
     "output_type": "display_data"
    }
   ],
   "source": [
    "t = np.linspace(0,2*np.pi,200)\n",
    "ρ0,ρ1,ρ2 = np.sort([1.5+np.cos(t),0.5*np.sin(t)**2,np.cos(3*t)+2],axis=0)\n",
    "plt.plot(t,ρ0, t,ρ1, t,ρ2, t,smed(ρ0,ρ1,ρ2))\n",
    "plt.title(\"Smoothed median\")\n",
    "plt.legend(['ρ0','ρ1','ρ2', 'smed']);"
   ]
  },
  {
   "cell_type": "markdown",
   "metadata": {},
   "source": [
    "Consider a positive definite matrix $D$, and a $D$-obtuse superbase $(v_0,v_1,v_2)$.\n",
    "Define the Selling weights $\\rho_i = -<e_{i-1},D e_{i+1}>$, with periodic indices, and offsets $e_i = v_i^\\perp. Assume that $\\rho_0\\leq \\rho_1\\leq \\rho_2$, up to permuting the basis elements.\n",
    "\n",
    "Our regularized Selling decomposition takes the following form, with $m = \\mathrm{smed}(\\rho_0,\\rho_1,\\rho_2)$.\n",
    "$$\n",
    "    D = \\sum_{0 \\leq i \\leq 2} \\rho_i e_i e_i^\\top + \\frac 1 2 (m\\, \\mathrm{sabs}(\\rho_0/m)-\\rho_0)(e_0 e_0^\\top - 2 e_1 e_1^\\top - 2 e_2 e_2^\\top + (e_1-e_2)(e_1-e_2)^\\top).\n",
    "$$\n",
    "Note that the first term $\\sum_{0 \\leq i \\leq 2} \\rho_i e_i e_i^\\top$ is Selling's standard decomposition of $D$. The second term amounts to zero, since $e_0 e_0^\\top - 2 e_1 e_1^\\top - 2 e_2 e_2^\\top + (e_1-e_2)(e_1-e_2)^\\top = 0$, but it introduces the additional offset $e_1-e_2$ and modifies the weights in a smooth manner."
   ]
  },
  {
   "cell_type": "code",
   "execution_count": 57,
   "metadata": {
    "execution": {
     "iopub.execute_input": "2021-12-09T21:26:51.951316Z",
     "iopub.status.busy": "2021-12-09T21:26:51.950724Z",
     "iopub.status.idle": "2021-12-09T21:26:51.953055Z",
     "shell.execute_reply": "2021-12-09T21:26:51.953635Z"
    }
   },
   "outputs": [],
   "source": [
    "def sdecomp(D):\n",
    "    \"\"\"Smooth variant of Selling's two dimensional decomposition\"\"\"\n",
    "    v = np.moveaxis(Selling.ObtuseSuperbase(D),1,0)\n",
    "    ρ = np.array([-lp.dot_VAV(v[1],D,v[2]),-lp.dot_VAV(v[0],D,v[2]),-lp.dot_VAV(v[0],D,v[1])])\n",
    "    order = np.argsort(ρ,axis=0)\n",
    "    v = np.take_along_axis(v,order[:,None],axis=0); ρ=np.take_along_axis(ρ,order,axis=0)\n",
    "\n",
    "    m = smed(*ρ)\n",
    "    w = np.maximum(0,m*sabs(ρ[0]/m)-ρ[0]) # Positive (w.o. max) up to roundoff error\n",
    "    \n",
    "    return (np.array([ρ[0]+w/2, ρ[1]-w, ρ[2]-w, w/2]),\n",
    "         lp.perp(np.moveaxis([v[0],v[1],v[2],v[1]-v[2]],0,1)).astype(int) )"
   ]
  },
  {
   "cell_type": "markdown",
   "metadata": {},
   "source": [
    "### 4.2 Display of coefficients\n",
    "\n",
    "Recall that Selling's decomposition has piecewise linear coefficients."
   ]
  },
  {
   "cell_type": "code",
   "execution_count": 58,
   "metadata": {
    "execution": {
     "iopub.execute_input": "2021-12-09T21:26:51.960324Z",
     "iopub.status.busy": "2021-12-09T21:26:51.959715Z",
     "iopub.status.idle": "2021-12-09T21:26:51.962053Z",
     "shell.execute_reply": "2021-12-09T21:26:51.962577Z"
    }
   },
   "outputs": [],
   "source": [
    "np.random.seed(42)\n",
    "t,D2t = Interpolate(MakeRandomTensor(2),MakeRandomTensor(2))\n",
    "if xp is not np: D2t = D2t.get() # Bug with cupy 9.0 and np.zeros_like below"
   ]
  },
  {
   "cell_type": "code",
   "execution_count": 59,
   "metadata": {
    "execution": {
     "iopub.execute_input": "2021-12-09T21:26:51.968270Z",
     "iopub.status.busy": "2021-12-09T21:26:51.967708Z",
     "iopub.status.idle": "2021-12-09T21:26:52.147803Z",
     "shell.execute_reply": "2021-12-09T21:26:52.148307Z"
    }
   },
   "outputs": [
    {
     "data": {
      "image/png": "[encoded data removed]",
      "text/plain": [
       "<Figure size 576x288 with 1 Axes>"
      ]
     },
     "metadata": {
      "needs_background": "light"
     },
     "output_type": "display_data"
    }
   ],
   "source": [
    "fig = plt.figure(figsize=(8,4)); plt.title(\"Coefficients of Selling's decomposition\")\n",
    "decomp = Selling.GatherByOffset(t,*Selling.Decomposition(D2t))\n",
    "for offset,(time,coef) in decomp.items(): plt.plot(time,coef)\n",
    "plt.legend(decomp.keys()); savefig(fig,\"Coefs_Sel2.pdf\")"
   ]
  },
  {
   "cell_type": "markdown",
   "metadata": {},
   "source": [
    "In this section, we constructed a matrix decomposition whose coefficients have a bounded second order derivative."
   ]
  },
  {
   "cell_type": "code",
   "execution_count": 60,
   "metadata": {
    "execution": {
     "iopub.execute_input": "2021-12-09T21:26:52.171994Z",
     "iopub.status.busy": "2021-12-09T21:26:52.155979Z",
     "iopub.status.idle": "2021-12-09T21:26:52.390050Z",
     "shell.execute_reply": "2021-12-09T21:26:52.390627Z"
    }
   },
   "outputs": [
    {
     "data": {
      "image/png": "[encoded data removed]",
      "text/plain": [
       "<Figure size 576x288 with 1 Axes>"
      ]
     },
     "metadata": {
      "needs_background": "light"
     },
     "output_type": "display_data"
    }
   ],
   "source": [
    "fig = plt.figure(figsize=(8,4)); plt.title(\"Coefficients of the smooth decomposition\")\n",
    "decomp = Selling.GatherByOffset(t,*sdecomp(D2t))\n",
    "for offset,(time,coef) in decomp.items(): plt.plot(time,coef)\n",
    "plt.legend(decomp.keys()); savefig(fig,\"Coefs_Smooth.pdf\")"
   ]
  },
  {
   "cell_type": "markdown",
   "metadata": {},
   "source": [
    "In particular, their square root is Lipschitz, a property used in some convergence analyses."
   ]
  },
  {
   "cell_type": "code",
   "execution_count": 61,
   "metadata": {
    "execution": {
     "iopub.execute_input": "2021-12-09T21:26:52.441751Z",
     "iopub.status.busy": "2021-12-09T21:26:52.396211Z",
     "iopub.status.idle": "2021-12-09T21:26:52.577955Z",
     "shell.execute_reply": "2021-12-09T21:26:52.578434Z"
    }
   },
   "outputs": [
    {
     "data": {
      "image/png": "[encoded data removed]",
      "text/plain": [
       "<Figure size 576x288 with 1 Axes>"
      ]
     },
     "metadata": {
      "needs_background": "light"
     },
     "output_type": "display_data"
    }
   ],
   "source": [
    "fig = plt.figure(figsize=(8,4)); plt.title(\"Sqrt of coefficients, smooth decomposition\")\n",
    "for offset,(time,coef) in decomp.items(): plt.plot(time,np.sqrt(coef))\n",
    "plt.legend(decomp.keys(),loc=\"upper right\"); savefig(fig,\"SqCoefs_Smooth.pdf\")"
   ]
  },
  {
   "cell_type": "code",
   "execution_count": null,
   "metadata": {},
   "outputs": [],
   "source": []
  }
 ],
 "metadata": {
  "celltoolbar": "Format de la Cellule Texte Brut",
  "kernelspec": {
   "display_name": "Python 3",
   "language": "python",
   "name": "python3"
  },
  "language_info": {
   "codemirror_mode": {
    "name": "ipython",
    "version": 3
   },
   "file_extension": ".py",
   "mimetype": "text/x-python",
   "name": "python",
   "nbconvert_exporter": "python",
   "pygments_lexer": "ipython3",
   "version": "3.9.7"
  }
 },
 "nbformat": 4,
 "nbformat_minor": 2
}

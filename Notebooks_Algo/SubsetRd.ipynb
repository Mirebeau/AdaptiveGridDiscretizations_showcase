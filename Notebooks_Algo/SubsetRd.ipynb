{
 "cells": [
  {
   "cell_type": "markdown",
   "metadata": {},
   "source": [
    "# Adaptive PDE discretizations on cartesian grids\n",
    "## Volume : Algorithmic tools\n",
    "## Part : Domain representation\n",
    "## Chapter : Subsets of $R^d$"
   ]
  },
  {
   "cell_type": "markdown",
   "metadata": {},
   "source": [
    "This notebook shows how to describe a simple subset of $R^d$, and to compute finite differences taking into account a given Dirichlet data on the boundary. It is a prerequisite to the implementation of monotone schemes on non-rectangular domains.\n",
    "\n",
    "*Note:* The library presented in this notebook features some elementary primitives of algorithmic geometry. However, their expressivity is rather limited, and exact predicates are not implemented. Therefore, please consider using a dedicated computational geometry package if you intend to go much beyond the basic examples presented in this series of notebooks."
   ]
  },
  {
   "cell_type": "markdown",
   "metadata": {},
   "source": [
    "[**Summary**](Summary.ipynb) of volume Algorithmic tools, this series of notebooks.\n",
    "\n",
    "[**Main summary**](../Summary.ipynb) of the Adaptive Grid Discretizations \n",
    "\tbook of notebooks, including the other volumes.\n",
    "\n",
    "# Table of contents\n",
    "  * [1. Domain description](#1.-Domain-description)\n",
    "    * [1.1 Basic shapes, boolean operations, affine transformation.](#1.1-Basic-shapes,-boolean-operations,-affine-transformation.)\n",
    "    * [1.2 Level set function](#1.2-Level-set-function)\n",
    "    * [1.3 Distance to the boundary in a given direction.](#1.3-Distance-to-the-boundary-in-a-given-direction.)\n",
    "  * [2. Boundary-adapted finite differences](#2.-Boundary-adapted-finite-differences)\n",
    "    * [2.1 Interior points](#2.1-Interior-points)\n",
    "    * [2.2 Upwind finite differences](#2.2-Upwind-finite-differences)\n",
    "    * [2.3 Centered finite differences](#2.3-Centered-finite-differences)\n",
    "    * [2.4 Second order finite differences](#2.4-Second-order-finite-differences)\n",
    "  * [3. Mock boundary conditions](#3.-Mock-boundary-conditions)\n",
    "\n",
    "\n",
    "\n",
    "**Acknowledgement.** The experiments presented in these notebooks are part of ongoing research, \n",
    "some of it with PhD student Guillaume Bonnet, in co-direction with Frederic Bonnans, \n",
    "and PhD student François Desquilbet, in co-direction with Ludovic Métivier.\n",
    "\n",
    "Copyright Jean-Marie Mirebeau, Centre Borelli, ENS Paris-Saclay, CNRS, University Paris-Saclay"
   ]
  },
  {
   "cell_type": "markdown",
   "metadata": {},
   "source": [
    "## 0. Import the required libraries"
   ]
  },
  {
   "cell_type": "code",
   "execution_count": 1,
   "metadata": {
    "execution": {
     "iopub.execute_input": "2021-12-09T21:28:50.107569Z",
     "iopub.status.busy": "2021-12-09T21:28:50.106856Z",
     "iopub.status.idle": "2021-12-09T21:28:50.112374Z",
     "shell.execute_reply": "2021-12-09T21:28:50.111293Z"
    }
   },
   "outputs": [],
   "source": [
    "import sys; sys.path.insert(0,\"..\") # Allow import of agd from parent directory (useless if conda package installed)\n",
    "#from Miscellaneous import TocTools; print(TocTools.displayTOC('SubsetRd','Algo'))"
   ]
  },
  {
   "cell_type": "code",
   "execution_count": 2,
   "metadata": {
    "execution": {
     "iopub.execute_input": "2021-12-09T21:28:50.116220Z",
     "iopub.status.busy": "2021-12-09T21:28:50.115653Z",
     "iopub.status.idle": "2021-12-09T21:28:50.221372Z",
     "shell.execute_reply": "2021-12-09T21:28:50.221844Z"
    }
   },
   "outputs": [],
   "source": [
    "from agd import Domain \n",
    "from agd import AutomaticDifferentiation as ad"
   ]
  },
  {
   "cell_type": "code",
   "execution_count": 3,
   "metadata": {
    "execution": {
     "iopub.execute_input": "2021-12-09T21:28:50.225561Z",
     "iopub.status.busy": "2021-12-09T21:28:50.224971Z",
     "iopub.status.idle": "2021-12-09T21:28:51.167552Z",
     "shell.execute_reply": "2021-12-09T21:28:51.167005Z"
    }
   },
   "outputs": [],
   "source": [
    "import scipy.linalg\n",
    "import numpy as np\n",
    "from matplotlib import pyplot as plt"
   ]
  },
  {
   "cell_type": "code",
   "execution_count": 4,
   "metadata": {
    "execution": {
     "iopub.execute_input": "2021-12-09T21:28:51.171820Z",
     "iopub.status.busy": "2021-12-09T21:28:51.171293Z",
     "iopub.status.idle": "2021-12-09T21:28:51.173772Z",
     "shell.execute_reply": "2021-12-09T21:28:51.173231Z"
    }
   },
   "outputs": [],
   "source": [
    "def reload_packages():\n",
    "    import importlib\n",
    "    Domain = importlib.reload(sys.modules['agd.Domain'])\n",
    "    ad = importlib.reload(sys.modules['agd.AutomaticDifferentiation'])\n",
    "    ad.reload_submodules()"
   ]
  },
  {
   "cell_type": "markdown",
   "metadata": {},
   "source": [
    "## 1. Domain description\n",
    "\n",
    "The provided library allows to define a family of basic shapes, combine them with boolean operations, and affine transformations. Once the desired shape is constructed, two main functions are available: a level set map, and the distance to the boundary along a given half line."
   ]
  },
  {
   "cell_type": "markdown",
   "metadata": {},
   "source": [
    "### 1.1 Basic shapes, boolean operations, affine transformation."
   ]
  },
  {
   "cell_type": "markdown",
   "metadata": {},
   "source": [
    "Define a ball and a box domain, here in dimension two, but these primitives are dimension independent.\n",
    "* *Ball* $\\{x\\in R^d;\\, \\|x-x_0\\| \\leq r\\}$ with parameters $(x_0,r)$, the center and the radius (defaults to one).\n",
    "* *Box* $[a_1,b_1] \\times [a_n,b_n]$, a product of intervals."
   ]
  },
  {
   "cell_type": "code",
   "execution_count": 5,
   "metadata": {
    "execution": {
     "iopub.execute_input": "2021-12-09T21:28:51.177986Z",
     "iopub.status.busy": "2021-12-09T21:28:51.177471Z",
     "iopub.status.idle": "2021-12-09T21:28:51.179323Z",
     "shell.execute_reply": "2021-12-09T21:28:51.179852Z"
    }
   },
   "outputs": [],
   "source": [
    "ball = Domain.Ball([0,0]) # Two dimensional ball centered at the origin with radius one.\n",
    "box = Domain.Box([[0,1],[0,1]]) # Square domain [0,1]x[0,1]"
   ]
  },
  {
   "cell_type": "markdown",
   "metadata": {},
   "source": [
    "The standard boolean operations allow to combine elementary shapes: intersection, union, and relative complement."
   ]
  },
  {
   "cell_type": "code",
   "execution_count": 6,
   "metadata": {
    "execution": {
     "iopub.execute_input": "2021-12-09T21:28:51.183583Z",
     "iopub.status.busy": "2021-12-09T21:28:51.183075Z",
     "iopub.status.idle": "2021-12-09T21:28:51.185062Z",
     "shell.execute_reply": "2021-12-09T21:28:51.185551Z"
    }
   },
   "outputs": [],
   "source": [
    "cap = Domain.Intersection(ball,box)\n",
    "cup = Domain.Union(ball,box)\n",
    "compl = Domain.Complement(ball,box)"
   ]
  },
  {
   "cell_type": "markdown",
   "metadata": {},
   "source": [
    "Bands and Convex polygons are some potentially useful additional shapes:\n",
    "* *Band* $\\{x\\in R^d; b_0 \\leq <x,v> \\leq b_1$, depending on $(v,b)$, where $v$ is called the direction and $b=(b_0,b_1)$ the bounds. \n",
    "* *Convex polygon* $\\mathrm{Hull}(x_1,\\cdots,x_n)$. This primitive is two dimensional only."
   ]
  },
  {
   "cell_type": "code",
   "execution_count": 7,
   "metadata": {
    "execution": {
     "iopub.execute_input": "2021-12-09T21:28:51.190609Z",
     "iopub.status.busy": "2021-12-09T21:28:51.190073Z",
     "iopub.status.idle": "2021-12-09T21:28:51.192156Z",
     "shell.execute_reply": "2021-12-09T21:28:51.192580Z"
    }
   },
   "outputs": [],
   "source": [
    "band = Domain.Band([1.,2.],[-2.,1.]) # Direction, bounds\n",
    "triangle = Domain.ConvexPolygon(np.stack([[1.,0.],[0.,1.],[-1.,-1.]],axis=1))"
   ]
  },
  {
   "cell_type": "markdown",
   "metadata": {},
   "source": [
    "An affine transformation can be applied to the domain, with parameters:\n",
    "* *A* (mult) the matrix of the linear part. (defaults to identity)\n",
    "* $x_0$ (center) the center of the previous linear transformation. (defaults to the origin)\n",
    "* $v$ (shift) a translation to be applied. (defaults to zero)\n",
    "\n",
    "The direct mapping takes the form\n",
    "$$\n",
    "    x \\mapsto A (x-x_0)+x_0 + v\n",
    "$$"
   ]
  },
  {
   "cell_type": "code",
   "execution_count": 8,
   "metadata": {
    "execution": {
     "iopub.execute_input": "2021-12-09T21:28:51.197600Z",
     "iopub.status.busy": "2021-12-09T21:28:51.197048Z",
     "iopub.status.idle": "2021-12-09T21:28:51.199097Z",
     "shell.execute_reply": "2021-12-09T21:28:51.199646Z"
    }
   },
   "outputs": [],
   "source": [
    "def rot(t): c,s = np.cos(t),np.sin(t); return np.array(((c,-s),(s,c)))    \n",
    "aff = Domain.AffineTransform(cup,0.7*rot(np.pi/3.),shift=[-0.2,-0.2])"
   ]
  },
  {
   "cell_type": "code",
   "execution_count": 9,
   "metadata": {
    "execution": {
     "iopub.execute_input": "2021-12-09T21:28:51.204289Z",
     "iopub.status.busy": "2021-12-09T21:28:51.203773Z",
     "iopub.status.idle": "2021-12-09T21:28:51.206236Z",
     "shell.execute_reply": "2021-12-09T21:28:51.206732Z"
    }
   },
   "outputs": [],
   "source": [
    "doms = (ball,box,cap,compl,cup,band,triangle,aff)\n",
    "domNames = (\"ball\",\"box\",\"cap\",\"compl\",\"cup\",\"band\",\"triangle\",\"affine\")"
   ]
  },
  {
   "cell_type": "markdown",
   "metadata": {},
   "source": [
    "Let us display the domains."
   ]
  },
  {
   "cell_type": "code",
   "execution_count": 10,
   "metadata": {
    "execution": {
     "iopub.execute_input": "2021-12-09T21:28:51.211217Z",
     "iopub.status.busy": "2021-12-09T21:28:51.210709Z",
     "iopub.status.idle": "2021-12-09T21:28:51.212661Z",
     "shell.execute_reply": "2021-12-09T21:28:51.213091Z"
    }
   },
   "outputs": [],
   "source": [
    "aX=np.linspace(-1.2,1.2)\n",
    "X = np.array(np.meshgrid(aX,aX,indexing='ij'))\n",
    "h=aX[1]-aX[0]"
   ]
  },
  {
   "cell_type": "code",
   "execution_count": 11,
   "metadata": {
    "execution": {
     "iopub.execute_input": "2021-12-09T21:28:51.224759Z",
     "iopub.status.busy": "2021-12-09T21:28:51.224231Z",
     "iopub.status.idle": "2021-12-09T21:28:52.179974Z",
     "shell.execute_reply": "2021-12-09T21:28:52.180460Z"
    }
   },
   "outputs": [
    {
     "data": {
      "image/png": "[encoded data removed]",
      "text/plain": [
       "<Figure size 1152x576 with 8 Axes>"
      ]
     },
     "metadata": {
      "needs_background": "light"
     },
     "output_type": "display_data"
    }
   ],
   "source": [
    "plt.figure(figsize=(16,8))\n",
    "for i,(dom,name) in enumerate(zip(doms,domNames)):\n",
    "    plt.subplot(2,4,1+i)\n",
    "    plt.contourf(*X,dom.contains(X))\n",
    "    plt.title(name)\n",
    "    plt.axis('equal')"
   ]
  },
  {
   "cell_type": "markdown",
   "metadata": {},
   "source": [
    "It is possible to select the points around which the domain contains a ball of a given radius $h$, possibly negative. This predicate is only approximate."
   ]
  },
  {
   "cell_type": "code",
   "execution_count": 12,
   "metadata": {
    "execution": {
     "iopub.execute_input": "2021-12-09T21:28:52.192427Z",
     "iopub.status.busy": "2021-12-09T21:28:52.185856Z",
     "iopub.status.idle": "2021-12-09T21:28:53.070729Z",
     "shell.execute_reply": "2021-12-09T21:28:53.071218Z"
    }
   },
   "outputs": [
    {
     "data": {
      "image/png": "[encoded data removed]",
      "text/plain": [
       "<Figure size 1152x576 with 8 Axes>"
      ]
     },
     "metadata": {
      "needs_background": "light"
     },
     "output_type": "display_data"
    }
   ],
   "source": [
    "plt.figure(figsize=(16,8))\n",
    "for i,(dom,name) in enumerate(zip(doms,domNames)):\n",
    "    plt.subplot(2,4,1+i)\n",
    "    \n",
    "    interior = dom.contains(X)\n",
    "    erosion = dom.contains_ball(X,2*h)\n",
    "    boundary_layer = np.logical_and(interior,np.logical_not(erosion))\n",
    "    \n",
    "    plt.contourf(*X,boundary_layer)\n",
    "    plt.title(name)\n",
    "    plt.axis('equal')"
   ]
  },
  {
   "cell_type": "markdown",
   "metadata": {},
   "source": [
    "### 1.2 Level set function"
   ]
  },
  {
   "cell_type": "markdown",
   "metadata": {},
   "source": [
    "Each domain comes equipped with a level set function, that is negative inside the domain, and positive outside. It is also guaranteed to be $1$-Lipschitz. "
   ]
  },
  {
   "cell_type": "code",
   "execution_count": 13,
   "metadata": {
    "execution": {
     "iopub.execute_input": "2021-12-09T21:28:53.114229Z",
     "iopub.status.busy": "2021-12-09T21:28:53.092041Z",
     "iopub.status.idle": "2021-12-09T21:28:53.965016Z",
     "shell.execute_reply": "2021-12-09T21:28:53.965518Z"
    }
   },
   "outputs": [
    {
     "data": {
      "image/png": "[encoded data removed]",
      "text/plain": [
       "<Figure size 1152x576 with 8 Axes>"
      ]
     },
     "metadata": {
      "needs_background": "light"
     },
     "output_type": "display_data"
    }
   ],
   "source": [
    "plt.figure(figsize=(16,8))\n",
    "for i,(dom,name) in enumerate(zip(doms,domNames)):\n",
    "    plt.subplot(2,4,1+i)\n",
    "    plt.contourf(*X,dom.level(X))\n",
    "    plt.title(name)\n",
    "    plt.axis('equal')"
   ]
  },
  {
   "cell_type": "markdown",
   "metadata": {},
   "source": [
    "This level set function is in general different from the signed Euclidean distance to the boundary.  \n",
    "If you do need the Euclidean distance function, you may consider solving an eikonal equation, or using an adequate computational geometry package."
   ]
  },
  {
   "cell_type": "markdown",
   "metadata": {},
   "source": [
    "### 1.3 Distance to the boundary in a given direction.\n",
    "\n",
    "For the design of finite difference schemes, it is important to know the distance from a given point to the domain boundary in a given direction. This is referred to as the \"free way\" from $x$ in the direction $v$."
   ]
  },
  {
   "cell_type": "code",
   "execution_count": 14,
   "metadata": {
    "execution": {
     "iopub.execute_input": "2021-12-09T21:28:53.969370Z",
     "iopub.status.busy": "2021-12-09T21:28:53.968715Z",
     "iopub.status.idle": "2021-12-09T21:28:53.971608Z",
     "shell.execute_reply": "2021-12-09T21:28:53.970979Z"
    }
   },
   "outputs": [],
   "source": [
    "#Domain = importlib.reload(Domain)\n",
    "#ball = Domain.Ball(np.array([0,0]))\n",
    "#box = Domain.Box([[0,1],[0,1]])\n",
    "#cap = Domain.Intersection( (ball,box) )\n",
    "#abox = Domain.AbsoluteComplement(box)\n",
    "#aball = Domain.AbsoluteComplement(ball)\n",
    "#compl = Domain.Complement(ball,box)\n",
    "#cup = Domain.Union((ball,box))\n",
    "#acup = Domain.Intersection((aball,abox))\n",
    "#band = Domain.Band([1.,2.],[-2.,1.]) # Direction, bounds"
   ]
  },
  {
   "cell_type": "code",
   "execution_count": 15,
   "metadata": {
    "execution": {
     "iopub.execute_input": "2021-12-09T21:28:54.063021Z",
     "iopub.status.busy": "2021-12-09T21:28:54.061391Z",
     "iopub.status.idle": "2021-12-09T21:28:54.929100Z",
     "shell.execute_reply": "2021-12-09T21:28:54.929536Z"
    }
   },
   "outputs": [
    {
     "data": {
      "image/png": "[encoded data removed]",
      "text/plain": [
       "<Figure size 1152x576 with 8 Axes>"
      ]
     },
     "metadata": {
      "needs_background": "light"
     },
     "output_type": "display_data"
    }
   ],
   "source": [
    "v=np.array([1,-0.5])\n",
    "plt.figure(figsize=(16,8))\n",
    "for i,(dom,name) in enumerate(zip(doms,domNames)):\n",
    "    plt.subplot(2,4,i+1)\n",
    "    plt.title(name)\n",
    "    plt.axis('equal')\n",
    "    fw = dom.freeway(X,v)\n",
    "    if np.all(fw==np.inf): continue #Warning triggered otherwise \n",
    "    plt.contourf(*X,fw)"
   ]
  },
  {
   "cell_type": "code",
   "execution_count": 16,
   "metadata": {
    "execution": {
     "iopub.execute_input": "2021-12-09T21:28:54.950167Z",
     "iopub.status.busy": "2021-12-09T21:28:54.949616Z",
     "iopub.status.idle": "2021-12-09T21:28:55.808146Z",
     "shell.execute_reply": "2021-12-09T21:28:55.808584Z"
    }
   },
   "outputs": [
    {
     "data": {
      "image/png": "[encoded data removed]",
      "text/plain": [
       "<Figure size 1152x576 with 8 Axes>"
      ]
     },
     "metadata": {
      "needs_background": "light"
     },
     "output_type": "display_data"
    }
   ],
   "source": [
    "v=np.array([-1,-0.5])\n",
    "plt.figure(figsize=(16,8))\n",
    "for i,(dom,name) in enumerate(zip(doms,domNames)):\n",
    "    plt.subplot(2,4,i+1)\n",
    "    plt.contourf(*X,dom.freeway(X,v))"
   ]
  },
  {
   "cell_type": "code",
   "execution_count": 17,
   "metadata": {
    "execution": {
     "iopub.execute_input": "2021-12-09T21:28:55.828169Z",
     "iopub.status.busy": "2021-12-09T21:28:55.815805Z",
     "iopub.status.idle": "2021-12-09T21:28:56.752721Z",
     "shell.execute_reply": "2021-12-09T21:28:56.753168Z"
    }
   },
   "outputs": [
    {
     "data": {
      "image/png": "[encoded data removed]",
      "text/plain": [
       "<Figure size 1152x576 with 8 Axes>"
      ]
     },
     "metadata": {
      "needs_background": "light"
     },
     "output_type": "display_data"
    }
   ],
   "source": [
    "v=np.array([1,0.])\n",
    "plt.figure(figsize=(16,8))\n",
    "for i,(dom,name) in enumerate(zip(doms,domNames)):\n",
    "    plt.subplot(2,4,i+1)\n",
    "    plt.contourf(*X,dom.freeway(X,v))"
   ]
  },
  {
   "cell_type": "markdown",
   "metadata": {},
   "source": [
    "## 2. Boundary-adapted finite differences\n",
    "\n",
    "Only Dirichlet boundary conditions are implemented at present. When a grid point falls outside the domain, the provided boundary data is used instead, as described below.\n",
    "\n",
    "Denote by $\\Omega$ the domain, and $\\Omega_h$ its intersection with the cartesian grid $h Z^d$. Let $x\\in \\Omega_h$ be a point of the domain, and let $e \\in Z^d\\setminus \\{0\\}$ be an offset.\n",
    "\n",
    "* *Upwind finite difference*.  Denote by $h_+>0$ the smallest real such that $x+h_+ e  \\in \\Omega_h \\cup \\partial \\Omega$. The first order upwind finite difference is defined as\n",
    "$$\n",
    "    \\delta^e_h u(x) := \\frac{u(x+h_+e)-u(x)} {h_+}\n",
    "$$\n",
    "* *Centered finite difference*. The standard expression $(u(x+h e)-u(x-he))/(2h)$ is used, unless $x+ h e\\notin \\Omega_h$ or $x-he \\notin \\Omega_h$. In that case, we fall back to the upwind finite difference.\n",
    "* *Second order finite difference*. Let $h_\\pm>0$ denote the smallest real such that $x\\pm h_\\pm e \\in \\Omega_h \\cup \\partial \\Omega$. The second order finite difference is defined as \n",
    "$$\n",
    "    \\Delta^e_h u(x) := \\frac 2 {h_++h_-} \\Big(\\frac{u(x+h_+ e)-u(x)}{h_+} + \\frac{u(x-h_- e)-u(x)}{h_-} \\Big)\n",
    "$$"
   ]
  },
  {
   "cell_type": "markdown",
   "metadata": {},
   "source": [
    "Define the dirichlet data, based on a domain,a function defined on (at least) the boundary, and the cartesian grid."
   ]
  },
  {
   "cell_type": "code",
   "execution_count": 18,
   "metadata": {
    "execution": {
     "iopub.execute_input": "2021-12-09T21:28:56.757909Z",
     "iopub.status.busy": "2021-12-09T21:28:56.757161Z",
     "iopub.status.idle": "2021-12-09T21:28:56.760497Z",
     "shell.execute_reply": "2021-12-09T21:28:56.760032Z"
    }
   },
   "outputs": [],
   "source": [
    "def bc_value(x): return x[0]+2*x[1]\n",
    "bc_domain = cup\n",
    "bc = Domain.Dirichlet(bc_domain,bc_value,X)"
   ]
  },
  {
   "cell_type": "markdown",
   "metadata": {},
   "source": [
    "### 2.1 Interior points"
   ]
  },
  {
   "cell_type": "markdown",
   "metadata": {},
   "source": [
    "The gridscale of the domain is automatically extracted. Note that we only support gridscales which are axis independent and position independent."
   ]
  },
  {
   "cell_type": "code",
   "execution_count": 19,
   "metadata": {
    "execution": {
     "iopub.execute_input": "2021-12-09T21:28:56.764728Z",
     "iopub.status.busy": "2021-12-09T21:28:56.764221Z",
     "iopub.status.idle": "2021-12-09T21:28:56.767335Z",
     "shell.execute_reply": "2021-12-09T21:28:56.766898Z"
    }
   },
   "outputs": [
    {
     "data": {
      "text/plain": [
       "0.048979591836734615"
      ]
     },
     "execution_count": 19,
     "metadata": {},
     "output_type": "execute_result"
    }
   ],
   "source": [
    "bc.gridscale"
   ]
  },
  {
   "cell_type": "markdown",
   "metadata": {},
   "source": [
    "A boolean mask of interior points is constructed."
   ]
  },
  {
   "cell_type": "code",
   "execution_count": 20,
   "metadata": {
    "execution": {
     "iopub.execute_input": "2021-12-09T21:28:56.806136Z",
     "iopub.status.busy": "2021-12-09T21:28:56.780765Z",
     "iopub.status.idle": "2021-12-09T21:28:56.901473Z",
     "shell.execute_reply": "2021-12-09T21:28:56.901934Z"
    }
   },
   "outputs": [
    {
     "data": {
      "image/png": "[encoded data removed]",
      "text/plain": [
       "<Figure size 432x288 with 1 Axes>"
      ]
     },
     "metadata": {
      "needs_background": "light"
     },
     "output_type": "display_data"
    }
   ],
   "source": [
    "plt.title('domain interior'); plt.axis('equal')\n",
    "plt.contourf(*X,bc.interior);"
   ]
  },
  {
   "cell_type": "markdown",
   "metadata": {},
   "source": [
    "Actually, this is a very slightly eroded version of the domain, for numerical stability. \n",
    "<!---which does not strictly contain all points of $X$ within it. The purpose of this erosion is to bound below the denominators $h_+$ and $h_-$ in the finite differences at the boundary, for better stability.\n",
    "\n",
    "If necessary, the set of interior points can be explicitly specified at initialization, or even modified afterwards.\n",
    "--->"
   ]
  },
  {
   "cell_type": "markdown",
   "metadata": {},
   "source": [
    "### 2.2 Upwind finite differences\n",
    "\n",
    "We choose a linear function, in order to confirm that the upwind scheme is exact in this case."
   ]
  },
  {
   "cell_type": "code",
   "execution_count": 21,
   "metadata": {
    "execution": {
     "iopub.execute_input": "2021-12-09T21:28:56.905707Z",
     "iopub.status.busy": "2021-12-09T21:28:56.905157Z",
     "iopub.status.idle": "2021-12-09T21:28:56.907718Z",
     "shell.execute_reply": "2021-12-09T21:28:56.908238Z"
    }
   },
   "outputs": [],
   "source": [
    "u = bc.value(X)"
   ]
  },
  {
   "cell_type": "code",
   "execution_count": 22,
   "metadata": {
    "execution": {
     "iopub.execute_input": "2021-12-09T21:28:56.912362Z",
     "iopub.status.busy": "2021-12-09T21:28:56.911777Z",
     "iopub.status.idle": "2021-12-09T21:28:56.917580Z",
     "shell.execute_reply": "2021-12-09T21:28:56.917087Z"
    }
   },
   "outputs": [],
   "source": [
    "du = bc.DiffUpwind(u,(1,0))"
   ]
  },
  {
   "cell_type": "code",
   "execution_count": 23,
   "metadata": {
    "execution": {
     "iopub.execute_input": "2021-12-09T21:28:56.922059Z",
     "iopub.status.busy": "2021-12-09T21:28:56.921037Z",
     "iopub.status.idle": "2021-12-09T21:28:56.925595Z",
     "shell.execute_reply": "2021-12-09T21:28:56.926391Z"
    }
   },
   "outputs": [
    {
     "data": {
      "text/plain": [
       "(1.0000000000000142, 0.9999999999999833)"
      ]
     },
     "execution_count": 23,
     "metadata": {},
     "output_type": "execute_result"
    }
   ],
   "source": [
    "du[bc.interior].max(),du[bc.interior].min()"
   ]
  },
  {
   "cell_type": "code",
   "execution_count": 24,
   "metadata": {
    "execution": {
     "iopub.execute_input": "2021-12-09T21:28:56.931984Z",
     "iopub.status.busy": "2021-12-09T21:28:56.931283Z",
     "iopub.status.idle": "2021-12-09T21:28:57.175811Z",
     "shell.execute_reply": "2021-12-09T21:28:57.176395Z"
    }
   },
   "outputs": [
    {
     "name": "stdout",
     "output_type": "stream",
     "text": [
      "Largest and smallest h in finite differences: 0.048979591836734615 0.00047605827449359595\n"
     ]
    },
    {
     "data": {
      "image/png": "[encoded data removed]",
      "text/plain": [
       "<Figure size 432x288 with 2 Axes>"
      ]
     },
     "metadata": {
      "needs_background": "light"
     },
     "output_type": "display_data"
    }
   ],
   "source": [
    "du,h = bc.DiffUpwind(u,(1,0),reth=True)\n",
    "print(\"Largest and smallest h in finite differences:\",np.max(h),np.min(h))\n",
    "plt.title(\"Value of h in finite difference\"); plt.axis('equal')\n",
    "plt.contourf(*X,h); plt.colorbar();"
   ]
  },
  {
   "cell_type": "markdown",
   "metadata": {},
   "source": [
    "Differentiating along the horizontal and vertical directions simultaneously."
   ]
  },
  {
   "cell_type": "code",
   "execution_count": 25,
   "metadata": {
    "execution": {
     "iopub.execute_input": "2021-12-09T21:28:57.180798Z",
     "iopub.status.busy": "2021-12-09T21:28:57.180205Z",
     "iopub.status.idle": "2021-12-09T21:28:57.186292Z",
     "shell.execute_reply": "2021-12-09T21:28:57.185671Z"
    }
   },
   "outputs": [],
   "source": [
    "du = bc.DiffUpwind(u,np.eye(2).astype(int))"
   ]
  },
  {
   "cell_type": "code",
   "execution_count": 26,
   "metadata": {
    "execution": {
     "iopub.execute_input": "2021-12-09T21:28:57.190423Z",
     "iopub.status.busy": "2021-12-09T21:28:57.189746Z",
     "iopub.status.idle": "2021-12-09T21:28:57.194093Z",
     "shell.execute_reply": "2021-12-09T21:28:57.194591Z"
    }
   },
   "outputs": [
    {
     "data": {
      "text/plain": [
       "(1.0000000000000142, 0.9999999999999833)"
      ]
     },
     "execution_count": 26,
     "metadata": {},
     "output_type": "execute_result"
    }
   ],
   "source": [
    "du[0,bc.interior].max(),du[0,bc.interior].min()"
   ]
  },
  {
   "cell_type": "code",
   "execution_count": 27,
   "metadata": {
    "execution": {
     "iopub.execute_input": "2021-12-09T21:28:57.198742Z",
     "iopub.status.busy": "2021-12-09T21:28:57.198168Z",
     "iopub.status.idle": "2021-12-09T21:28:57.202493Z",
     "shell.execute_reply": "2021-12-09T21:28:57.201917Z"
    }
   },
   "outputs": [
    {
     "data": {
      "text/plain": [
       "(2.000000000000028, 1.9999999999999858)"
      ]
     },
     "execution_count": 27,
     "metadata": {},
     "output_type": "execute_result"
    }
   ],
   "source": [
    "du[1,bc.interior].max(),du[1,bc.interior].min()"
   ]
  },
  {
   "cell_type": "markdown",
   "metadata": {},
   "source": [
    "### 2.3 Centered finite differences\n",
    "\n",
    "Again, we choose a linear function, in order to confirm that the upwind scheme is exact in this case."
   ]
  },
  {
   "cell_type": "code",
   "execution_count": 28,
   "metadata": {
    "execution": {
     "iopub.execute_input": "2021-12-09T21:28:57.206312Z",
     "iopub.status.busy": "2021-12-09T21:28:57.205731Z",
     "iopub.status.idle": "2021-12-09T21:28:57.211931Z",
     "shell.execute_reply": "2021-12-09T21:28:57.212402Z"
    }
   },
   "outputs": [],
   "source": [
    "du = bc.DiffCentered(u,(1,0))"
   ]
  },
  {
   "cell_type": "code",
   "execution_count": 29,
   "metadata": {
    "execution": {
     "iopub.execute_input": "2021-12-09T21:28:57.217172Z",
     "iopub.status.busy": "2021-12-09T21:28:57.216602Z",
     "iopub.status.idle": "2021-12-09T21:28:57.219645Z",
     "shell.execute_reply": "2021-12-09T21:28:57.220105Z"
    }
   },
   "outputs": [
    {
     "data": {
      "text/plain": [
       "(1.000000000000007, 0.9999999999999833)"
      ]
     },
     "execution_count": 29,
     "metadata": {},
     "output_type": "execute_result"
    }
   ],
   "source": [
    "du[bc.interior].max(),du[bc.interior].min()"
   ]
  },
  {
   "cell_type": "code",
   "execution_count": 30,
   "metadata": {
    "execution": {
     "iopub.execute_input": "2021-12-09T21:28:57.223880Z",
     "iopub.status.busy": "2021-12-09T21:28:57.223320Z",
     "iopub.status.idle": "2021-12-09T21:28:57.229198Z",
     "shell.execute_reply": "2021-12-09T21:28:57.229653Z"
    }
   },
   "outputs": [],
   "source": [
    "du = bc.DiffCentered(u,np.eye(2).astype(int))"
   ]
  },
  {
   "cell_type": "code",
   "execution_count": 31,
   "metadata": {
    "execution": {
     "iopub.execute_input": "2021-12-09T21:28:57.233396Z",
     "iopub.status.busy": "2021-12-09T21:28:57.232856Z",
     "iopub.status.idle": "2021-12-09T21:28:57.236895Z",
     "shell.execute_reply": "2021-12-09T21:28:57.237416Z"
    }
   },
   "outputs": [
    {
     "data": {
      "text/plain": [
       "(1.000000000000007, 0.9999999999999833)"
      ]
     },
     "execution_count": 31,
     "metadata": {},
     "output_type": "execute_result"
    }
   ],
   "source": [
    "du[0,bc.interior].max(),du[0,bc.interior].min()"
   ]
  },
  {
   "cell_type": "code",
   "execution_count": 32,
   "metadata": {
    "execution": {
     "iopub.execute_input": "2021-12-09T21:28:57.242026Z",
     "iopub.status.busy": "2021-12-09T21:28:57.241120Z",
     "iopub.status.idle": "2021-12-09T21:28:57.244939Z",
     "shell.execute_reply": "2021-12-09T21:28:57.245386Z"
    }
   },
   "outputs": [
    {
     "data": {
      "text/plain": [
       "(2.000000000000028, 1.99999999999999)"
      ]
     },
     "execution_count": 32,
     "metadata": {},
     "output_type": "execute_result"
    }
   ],
   "source": [
    "du[1,bc.interior].max(),du[1,bc.interior].min()"
   ]
  },
  {
   "cell_type": "markdown",
   "metadata": {},
   "source": [
    "### 2.4 Second order finite differences\n",
    "\n",
    "The second order differences of a linear function identically vanish."
   ]
  },
  {
   "cell_type": "code",
   "execution_count": 33,
   "metadata": {
    "execution": {
     "iopub.execute_input": "2021-12-09T21:28:57.248789Z",
     "iopub.status.busy": "2021-12-09T21:28:57.248267Z",
     "iopub.status.idle": "2021-12-09T21:28:57.255831Z",
     "shell.execute_reply": "2021-12-09T21:28:57.256285Z"
    }
   },
   "outputs": [],
   "source": [
    "d2u = bc.Diff2(u,(1,0))"
   ]
  },
  {
   "cell_type": "code",
   "execution_count": 34,
   "metadata": {
    "execution": {
     "iopub.execute_input": "2021-12-09T21:28:57.260326Z",
     "iopub.status.busy": "2021-12-09T21:28:57.259405Z",
     "iopub.status.idle": "2021-12-09T21:28:57.263109Z",
     "shell.execute_reply": "2021-12-09T21:28:57.263537Z"
    }
   },
   "outputs": [
    {
     "data": {
      "text/plain": [
       "(1.1536608264867289e-11, -5.983034965740204e-13)"
      ]
     },
     "execution_count": 34,
     "metadata": {},
     "output_type": "execute_result"
    }
   ],
   "source": [
    "d2u[bc.interior].max(),d2u[bc.interior].min()"
   ]
  },
  {
   "cell_type": "code",
   "execution_count": 35,
   "metadata": {
    "execution": {
     "iopub.execute_input": "2021-12-09T21:28:57.266868Z",
     "iopub.status.busy": "2021-12-09T21:28:57.266361Z",
     "iopub.status.idle": "2021-12-09T21:28:57.273572Z",
     "shell.execute_reply": "2021-12-09T21:28:57.274101Z"
    }
   },
   "outputs": [],
   "source": [
    "d2u = bc.Diff2(u,np.eye(2).astype(int))"
   ]
  },
  {
   "cell_type": "code",
   "execution_count": 36,
   "metadata": {
    "execution": {
     "iopub.execute_input": "2021-12-09T21:28:57.277785Z",
     "iopub.status.busy": "2021-12-09T21:28:57.277277Z",
     "iopub.status.idle": "2021-12-09T21:28:57.281381Z",
     "shell.execute_reply": "2021-12-09T21:28:57.280941Z"
    }
   },
   "outputs": [
    {
     "data": {
      "text/plain": [
       "(1.1536608264867289e-11, -5.983034965740204e-13)"
      ]
     },
     "execution_count": 36,
     "metadata": {},
     "output_type": "execute_result"
    }
   ],
   "source": [
    "d2u[0,bc.interior].max(),d2u[0,bc.interior].min()"
   ]
  },
  {
   "cell_type": "code",
   "execution_count": 37,
   "metadata": {
    "execution": {
     "iopub.execute_input": "2021-12-09T21:28:57.284841Z",
     "iopub.status.busy": "2021-12-09T21:28:57.284333Z",
     "iopub.status.idle": "2021-12-09T21:28:57.287985Z",
     "shell.execute_reply": "2021-12-09T21:28:57.288463Z"
    }
   },
   "outputs": [
    {
     "data": {
      "text/plain": [
       "(1.9440713794339614e-11, -5.802765675374161e-13)"
      ]
     },
     "execution_count": 37,
     "metadata": {},
     "output_type": "execute_result"
    }
   ],
   "source": [
    "d2u[1,bc.interior].max(),d2u[1,bc.interior].min()"
   ]
  },
  {
   "cell_type": "markdown",
   "metadata": {},
   "source": [
    "We need to use quadratic polynomials to illustrate consistency in a non-trivial manner."
   ]
  },
  {
   "cell_type": "code",
   "execution_count": 38,
   "metadata": {
    "execution": {
     "iopub.execute_input": "2021-12-09T21:28:57.292779Z",
     "iopub.status.busy": "2021-12-09T21:28:57.292137Z",
     "iopub.status.idle": "2021-12-09T21:28:57.295512Z",
     "shell.execute_reply": "2021-12-09T21:28:57.294916Z"
    }
   },
   "outputs": [],
   "source": [
    "def bc2_value(x): return x[0]**2+x[0]*x[1]\n",
    "bc2 = Domain.Dirichlet(bc_domain,bc2_value,X)"
   ]
  },
  {
   "cell_type": "code",
   "execution_count": 39,
   "metadata": {
    "execution": {
     "iopub.execute_input": "2021-12-09T21:28:57.298898Z",
     "iopub.status.busy": "2021-12-09T21:28:57.298388Z",
     "iopub.status.idle": "2021-12-09T21:28:57.300710Z",
     "shell.execute_reply": "2021-12-09T21:28:57.300280Z"
    }
   },
   "outputs": [],
   "source": [
    "u2 = bc2.value(X)"
   ]
  },
  {
   "cell_type": "code",
   "execution_count": 40,
   "metadata": {
    "execution": {
     "iopub.execute_input": "2021-12-09T21:28:57.304471Z",
     "iopub.status.busy": "2021-12-09T21:28:57.303959Z",
     "iopub.status.idle": "2021-12-09T21:28:57.312739Z",
     "shell.execute_reply": "2021-12-09T21:28:57.313205Z"
    }
   },
   "outputs": [
    {
     "data": {
      "text/plain": [
       "(2.0000000000041758, 1.9999999999877116)"
      ]
     },
     "execution_count": 40,
     "metadata": {},
     "output_type": "execute_result"
    }
   ],
   "source": [
    "d2u = bc2.Diff2(u2,(1,0))\n",
    "d2u[bc.interior].max(),d2u[bc.interior].min()"
   ]
  },
  {
   "cell_type": "code",
   "execution_count": 41,
   "metadata": {
    "execution": {
     "iopub.execute_input": "2021-12-09T21:28:57.316977Z",
     "iopub.status.busy": "2021-12-09T21:28:57.316467Z",
     "iopub.status.idle": "2021-12-09T21:28:57.323616Z",
     "shell.execute_reply": "2021-12-09T21:28:57.324154Z"
    }
   },
   "outputs": [],
   "source": [
    "d2u = bc2.Diff2(u2,np.eye(2).astype(int))"
   ]
  },
  {
   "cell_type": "code",
   "execution_count": 42,
   "metadata": {
    "execution": {
     "iopub.execute_input": "2021-12-09T21:28:57.327711Z",
     "iopub.status.busy": "2021-12-09T21:28:57.327190Z",
     "iopub.status.idle": "2021-12-09T21:28:57.330774Z",
     "shell.execute_reply": "2021-12-09T21:28:57.331199Z"
    }
   },
   "outputs": [
    {
     "data": {
      "text/plain": [
       "(2.0000000000041758, 1.9999999999877116)"
      ]
     },
     "execution_count": 42,
     "metadata": {},
     "output_type": "execute_result"
    }
   ],
   "source": [
    "d2u[0,bc.interior].max(),d2u[0,bc.interior].min()"
   ]
  },
  {
   "cell_type": "code",
   "execution_count": 43,
   "metadata": {
    "execution": {
     "iopub.execute_input": "2021-12-09T21:28:57.335125Z",
     "iopub.status.busy": "2021-12-09T21:28:57.334200Z",
     "iopub.status.idle": "2021-12-09T21:28:57.338140Z",
     "shell.execute_reply": "2021-12-09T21:28:57.338571Z"
    }
   },
   "outputs": [
    {
     "data": {
      "text/plain": [
       "(4.265283626933634e-12, -8.961585388799509e-12)"
      ]
     },
     "execution_count": 43,
     "metadata": {},
     "output_type": "execute_result"
    }
   ],
   "source": [
    "d2u[1,bc.interior].max(),d2u[1,bc.interior].min()"
   ]
  },
  {
   "cell_type": "markdown",
   "metadata": {},
   "source": [
    "## 3. Mock boundary conditions\n",
    "\n",
    "There is an alternative way of handling boundary conditions, which is simpler but also much more crude and inaccurate. In that approach, the boundary data is provided in a *neighborhood* of the boundary, and the standard finite difference schemes is used.\n",
    "\n",
    "Be warned that this alternative is both:\n",
    "* Excessively unprecise in applications, because an $O(h)$ error is introduced when extending the boundary conditions.\n",
    "* Excessively precise in synthetic test cases, because the boundary solution is typically the exact analytical solution, which in this way is provided in a substantial narrow band along the boundary.\n",
    "\n",
    "In view of these caveats, we refer to it as mock boundary conditions."
   ]
  },
  {
   "cell_type": "code",
   "execution_count": 44,
   "metadata": {
    "execution": {
     "iopub.execute_input": "2021-12-09T21:28:57.342878Z",
     "iopub.status.busy": "2021-12-09T21:28:57.342362Z",
     "iopub.status.idle": "2021-12-09T21:28:57.345236Z",
     "shell.execute_reply": "2021-12-09T21:28:57.345668Z"
    }
   },
   "outputs": [],
   "source": [
    "grid_values = bc_value(X) # Boundary conditions are evaluated in the whole domain\n",
    "grid_values[ np.logical_not(bc_domain.contains(X)) ] = np.nan # Define the domain\n",
    "\n",
    "bc_mock = Domain.MockDirichlet(grid_values,h)"
   ]
  },
  {
   "cell_type": "markdown",
   "metadata": {},
   "source": [
    "In that approach, the domain is actually not taken into account when computing the finite differences.\n",
    "\n",
    "However, the provided placeholder values are those of the boundary condition, instead of an arbitrary default. This makes sense in view of the numerical schemes implementation, see e.g. [link](../Notebooks_NonDiv/LinearMonotoneSchemes2D.ipynb)"
   ]
  },
  {
   "cell_type": "code",
   "execution_count": 45,
   "metadata": {
    "execution": {
     "iopub.execute_input": "2021-12-09T21:28:57.350212Z",
     "iopub.status.busy": "2021-12-09T21:28:57.349531Z",
     "iopub.status.idle": "2021-12-09T21:28:57.352883Z",
     "shell.execute_reply": "2021-12-09T21:28:57.352362Z"
    }
   },
   "outputs": [
    {
     "data": {
      "text/plain": [
       "True"
      ]
     },
     "execution_count": 45,
     "metadata": {},
     "output_type": "execute_result"
    }
   ],
   "source": [
    "bc_mock.grid_values is grid_values # Returns the extended boundary conditions "
   ]
  },
  {
   "cell_type": "code",
   "execution_count": 46,
   "metadata": {
    "execution": {
     "iopub.execute_input": "2021-12-09T21:28:57.356932Z",
     "iopub.status.busy": "2021-12-09T21:28:57.356406Z",
     "iopub.status.idle": "2021-12-09T21:28:57.359222Z",
     "shell.execute_reply": "2021-12-09T21:28:57.359644Z"
    }
   },
   "outputs": [
    {
     "data": {
      "text/plain": [
       "0.0"
      ]
     },
     "execution_count": 46,
     "metadata": {},
     "output_type": "execute_result"
    }
   ],
   "source": [
    "bc.grid_values # Arbitrary placeholder"
   ]
  },
  {
   "cell_type": "code",
   "execution_count": null,
   "metadata": {},
   "outputs": [],
   "source": []
  }
 ],
 "metadata": {
  "kernelspec": {
   "display_name": "Python 3",
   "language": "python",
   "name": "python3"
  },
  "language_info": {
   "codemirror_mode": {
    "name": "ipython",
    "version": 3
   },
   "file_extension": ".py",
   "mimetype": "text/x-python",
   "name": "python",
   "nbconvert_exporter": "python",
   "pygments_lexer": "ipython3",
   "version": "3.9.7"
  }
 },
 "nbformat": 4,
 "nbformat_minor": 2
}

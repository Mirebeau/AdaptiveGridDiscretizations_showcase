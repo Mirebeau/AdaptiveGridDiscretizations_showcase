{
 "cells": [
  {
   "cell_type": "markdown",
   "metadata": {},
   "source": [
    "# Adaptive PDE discretizations on cartesian grids\n",
    "## Volume : Non-divergence form PDEs\n",
    "## Part : Monotone numerical schemes\n",
    "## Chapter : The Monge-Ampere equation\n",
    "\n",
    "This notebook presents a series of methods for numerically solving the Monge-Ampere equation\n",
    "$$\n",
    "    f(x) - \\det(\\nabla^2 u(x)) = 0,\n",
    "$$\n",
    "among convex functions, with Dirichlet boundary conditions. \n",
    "The function $f$ is assumed to be strictly positive.\n",
    "For that purpose, we rely on the monotone and consistent MA-LBR numerical scheme (Monge-Ampere using Lattice Basis Reduction), and some variants.\n",
    "\n",
    "**References.**\n",
    "\n",
    "The MA-LBR scheme was first introduced in:\n",
    "* Benamou, J.-D., Collino, F., & Mirebeau, J.-M. (2016). Monotone and Consistent discretization of the Monge-Ampere operator. Mathematics of Computation, 85(302), 2743–2775."
   ]
  },
  {
   "cell_type": "markdown",
   "metadata": {},
   "source": [
    "**Reformulation as an extremal operator.**\n",
    "The starting point of these methods is to observe that, for a positive definite $d \\times d$ matrix $M$\n",
    "$$\n",
    "    d (\\det M)^\\frac 1 d = \\inf_{\\det D = 1} \\mathrm{Tr}(D M),\n",
    "$$\n",
    "where, implicitly, the optimization variable $D$ is also assumed to be a symmetric positive definite matrix.\n",
    "\n",
    "If $M = \\nabla^2 u$ is a hessian matrix, then the l.h.s. is (a multiple of a power of) the Monge-Ampere operator, while the r.h.s. is an infimum of second order linear operators, which can be discretized using monotone finite differences.\n",
    "\n",
    "**Discretization strategy**\n",
    "The chosen finite difference scheme for the linear operator is described in \n",
    "[I Tensor decomposition, dimensions 2 and 3](http://nbviewer.jupyter.org/urls/rawgithub.com/Mirebeau/AdaptiveGridDiscretizations/master/Notebooks/TensorSelling.ipynb)\n",
    "Since \n"
   ]
  },
  {
   "cell_type": "markdown",
   "metadata": {},
   "source": [
    "[**Summary**](Summary.ipynb) of volume Non-Divergence form PDEs, this series of notebooks.\n",
    "\n",
    "[**Main summary**](../Summary.ipynb) of the Adaptive Grid Discretizations \n",
    "\tbook of notebooks, including the other volumes.\n",
    "\n",
    "# Table of contents\n",
    "  * [1. Naive non-monotone discretization (purposedly fails)](#1.-Naive-non-monotone-discretization-(purposedly-fails))\n",
    "  * [2. The MA-LBR scheme](#2.-The-MA-LBR-scheme)\n",
    "    * [2.1 First implementation](#2.1-First-implementation)\n",
    "    * [2.2 Optimized implementation](#2.2-Optimized-implementation)\n",
    "  * [3. Uniformly elliptic scheme](#3.-Uniformly-elliptic-scheme)\n",
    "    * [3.1 First implementation](#3.1-First-implementation)\n",
    "    * [3.2 Optimized implementation](#3.2-Optimized-implementation)\n",
    "    * [3.3 Rotated domains](#3.3-Rotated-domains)\n",
    "    * [3.4 degenerate solutions](#3.4-degenerate-solutions)\n",
    "  * [4. Validation](#4.-Validation)\n",
    "    * [4.1 Comparison with a sampling based scheme](#4.1-Comparison-with-a-sampling-based-scheme)\n",
    "    * [4.2 The monotone and consistent schemes have identical solutions](#4.2-The-monotone-and-consistent-schemes-have-identical-solutions)\n",
    "    * [4.3 Comparison with automatic differentiation](#4.3-Comparison-with-automatic-differentiation)\n",
    "\n",
    "\n",
    "\n",
    "**Acknowledgement.** The experiments presented in these notebooks are part of ongoing research, \n",
    "some of it with PhD student Guillaume Bonnet, in co-direction with Frederic Bonnans.\n",
    "\n",
    "Copyright Jean-Marie Mirebeau, University Paris-Sud, CNRS, University Paris-Saclay"
   ]
  },
  {
   "cell_type": "markdown",
   "metadata": {},
   "source": [
    "## 0. Importing the required libraries"
   ]
  },
  {
   "cell_type": "code",
   "execution_count": 1,
   "metadata": {},
   "outputs": [],
   "source": [
    "import sys; sys.path.insert(0,\"..\") # Allow import of agd from parent directory (useless if conda package installed)\n",
    "#from Miscellaneous import TocTools; print(TocTools.displayTOC('MongeAmpere','NonDiv'))"
   ]
  },
  {
   "cell_type": "code",
   "execution_count": 2,
   "metadata": {
    "tags": [
     "ExportCode"
    ]
   },
   "outputs": [],
   "source": [
    "from agd import Selling\n",
    "from agd import Domain\n",
    "from agd import LinearParallel as lp\n",
    "from agd import AutomaticDifferentiation as ad\n",
    "from agd.Plotting import savefig; #savefig.dirName = \"Figures/MongeAmpere\""
   ]
  },
  {
   "cell_type": "code",
   "execution_count": 3,
   "metadata": {
    "tags": [
     "ExportCode"
    ]
   },
   "outputs": [],
   "source": [
    "import numpy as np\n",
    "from matplotlib import pyplot as plt"
   ]
  },
  {
   "cell_type": "markdown",
   "metadata": {},
   "source": [
    "Some utility functions"
   ]
  },
  {
   "cell_type": "code",
   "execution_count": 4,
   "metadata": {
    "tags": [
     "ExportCode"
    ]
   },
   "outputs": [],
   "source": [
    "newton_root = ad.Optimization.newton_root\n",
    "stop    = ad.Optimization.stop_default\n",
    "damping = ad.Optimization.damping_default \n",
    "norm = ad.Optimization.norm"
   ]
  },
  {
   "cell_type": "markdown",
   "metadata": {},
   "source": [
    "## 1. Naive non-monotone discretization (purposedly fails)\n",
    "\n",
    "We present a naive, non-monotone discretization of the addressed problem. This scheme can be used to check that a numerical solution (produced by other means) is correct, or to construct synthetic examples. However, using it to solve the PDE is usually bound to fail. \n",
    "\n",
    "The naive scheme is based on a reconstruction of the Hessian matrix of the form\n",
    "$$\n",
    "    \\begin{pmatrix}\n",
    "        D^h_{00} u(x) & D^h_{01} u(x)\\\\\n",
    "        D^h_{01} u(x) & D^h_{11} u(x)\n",
    "    \\end{pmatrix},\n",
    "$$\n",
    "where $D_{00}$, $D_{01}$ and $D_{11}$ are finite-difference operators. Namely\n",
    "$$\n",
    "    D^h_{00} u(x) := \\frac{u(x_0+h,x_1)-2 u(x_0,x_1) + u(x_0-h,x_1)}{h^2},\n",
    "$$\n",
    "likewise for $D^h_{11} u(x)$, and finally\n",
    "$$\n",
    "    D^h_{01} u(x) := \\frac{u(x_0+h,x_1+h)-u(x_0-h,x_1+h)-u(x_0+h,x_1-h)+h(x_0-h,x_1-h)}{4 h^2}.\n",
    "$$"
   ]
  },
  {
   "cell_type": "code",
   "execution_count": 5,
   "metadata": {
    "tags": [
     "ExportCode"
    ]
   },
   "outputs": [],
   "source": [
    "def SchemeNonMonotone(u,f,bc):\n",
    "    # Compute the hessian matrix of u\n",
    "    uxx = bc.Diff2(u,(1,0))\n",
    "    uyy = bc.Diff2(u,(0,1))\n",
    "    uxy = 0.25*(bc.Diff2(u,(1,1)) - bc.Diff2(u,(1,-1)))\n",
    "    \n",
    "    # Numerical scheme\n",
    "    det = uxx*uyy-uxy**2\n",
    "    residue = f - det\n",
    "    \n",
    "    # Boundary conditions\n",
    "    return np.where(bc.interior,residue,u-bc.grid_values)"
   ]
  },
  {
   "cell_type": "markdown",
   "metadata": {},
   "source": [
    "We next choose some problem parameters"
   ]
  },
  {
   "cell_type": "code",
   "execution_count": 6,
   "metadata": {},
   "outputs": [],
   "source": [
    "# Create the domain\n",
    "aX0 = np.linspace(-1,1,100); aX1=aX0;\n",
    "X = np.array(np.meshgrid(aX0,aX1,indexing='ij'))\n",
    "\n",
    "# Set the boundary conditions \n",
    "gridscale = aX0[1]-aX0[0]\n",
    "bc_square = Domain.Dirichlet(Domain.Box([[-1,1],[-1,1]]),0.,X)\n",
    "bc_convex = Domain.Dirichlet(Domain.Union(Domain.Ball(),Domain.Box()), 0., X)\n",
    "bc_concave = Domain.Dirichlet(Domain.Complement(Domain.Ball(),Domain.Box()), 0., X)\n",
    "\n",
    "# Choose the PDE parameters\n",
    "f=1."
   ]
  },
  {
   "cell_type": "code",
   "execution_count": 7,
   "metadata": {},
   "outputs": [],
   "source": [
    "#bc_mock_grid_values = np.zeros(bc.shape); bc_mock_grid_values[1:-1,1:-1]=np.nan\n",
    "#bc_mock = Domain.MockDirichlet(bc_mock_grid_values,gridscale,padding=np.inf)"
   ]
  },
  {
   "cell_type": "markdown",
   "metadata": {},
   "source": [
    "The following quadratic function, often shifted by a constant value, will be used as a guess for the numerical methods."
   ]
  },
  {
   "cell_type": "code",
   "execution_count": 8,
   "metadata": {},
   "outputs": [],
   "source": [
    "quadratic = X[0]**2+X[1]**2"
   ]
  },
  {
   "cell_type": "markdown",
   "metadata": {},
   "source": [
    "The naive and non-monotone discretization scheme is consistent, but lacks any other sort of theoretical guarantees. \n",
    "\n",
    "**In general, attempts to solve numerically the non-monotone scheme will fail. This is expected behavior**\n",
    "\n",
    "The non-monotone scheme may nevertheless work for some specific gentle problem instances (with a smooth solution), a careful initialization, and a bit of luck. This is the case below.\n",
    "\n",
    "<!---This is the case below, where we solve the same problem as above, but with a different handling of the boundary conditions: they are imposed implicitly by the padding values used in the finite differences.--->"
   ]
  },
  {
   "cell_type": "code",
   "execution_count": 9,
   "metadata": {},
   "outputs": [
    {
     "name": "stdout",
     "output_type": "stream",
     "text": [
      "Iteration: 1  Residue norm: 1225.4294894654133\n"
     ]
    },
    {
     "name": "stdout",
     "output_type": "stream",
     "text": [
      "Iteration: 2  Residue norm: 306.0919194323477\n"
     ]
    },
    {
     "name": "stdout",
     "output_type": "stream",
     "text": [
      "Iteration: 3  Residue norm: 76.26003650875855\n"
     ]
    },
    {
     "name": "stdout",
     "output_type": "stream",
     "text": [
      "Iteration: 4  Residue norm: 18.80912328734252\n"
     ]
    },
    {
     "name": "stdout",
     "output_type": "stream",
     "text": [
      "Iteration: 5  Residue norm: 4.457432515643518\n"
     ]
    },
    {
     "name": "stdout",
     "output_type": "stream",
     "text": [
      "Iteration: 6  Residue norm: 0.907934617270244\n"
     ]
    },
    {
     "name": "stdout",
     "output_type": "stream",
     "text": [
      "Iteration: 8  Residue norm: 0.002566380867047968\n"
     ]
    },
    {
     "name": "stdout",
     "output_type": "stream",
     "text": [
      "Iteration: 10  Residue norm: 2.4140689447449404e-12\n",
      "Target residue reached. Terminating.\n"
     ]
    },
    {
     "data": {
      "image/png": "[encoded data removed]",
      "text/plain": [
       "<Figure size 432x288 with 1 Axes>"
      ]
     },
     "metadata": {
      "needs_background": "light"
     },
     "output_type": "display_data"
    }
   ],
   "source": [
    "params = (f,bc_square)\n",
    "solution_non_monotone = newton_root(SchemeNonMonotone,quadratic-2,params) \n",
    "\n",
    "plt.axis('equal'); plt.title(\"Solution to 1-det(d^2 u)=0, with u=0 on bd\")\n",
    "plt.contourf(*X,solution_non_monotone);"
   ]
  },
  {
   "cell_type": "markdown",
   "metadata": {},
   "source": [
    "However, the non-monotone scheme fails even on a simple convex domain."
   ]
  },
  {
   "cell_type": "code",
   "execution_count": 10,
   "metadata": {},
   "outputs": [
    {
     "name": "stdout",
     "output_type": "stream",
     "text": [
      "Iteration: 1  Residue norm: 524067228.4592241\n"
     ]
    },
    {
     "name": "stdout",
     "output_type": "stream",
     "text": [
      "Iteration: 2  Residue norm: 131016806.47500534\n"
     ]
    },
    {
     "name": "stdout",
     "output_type": "stream",
     "text": [
      "Iteration: 3  Residue norm: 32754170.322630018\n"
     ]
    },
    {
     "name": "stdout",
     "output_type": "stream",
     "text": [
      "Iteration: 4  Residue norm: 8188532.7726346785\n"
     ]
    },
    {
     "name": "stdout",
     "output_type": "stream",
     "text": [
      "Iteration: 5  Residue norm: 2047131.702471896\n"
     ]
    },
    {
     "name": "stdout",
     "output_type": "stream",
     "text": [
      "Iteration: 6  Residue norm: 629632.0527780496\n"
     ]
    },
    {
     "name": "stdout",
     "output_type": "stream",
     "text": [
      "Iteration: 8  Residue norm: 1027911.0056858909\n"
     ]
    },
    {
     "name": "stdout",
     "output_type": "stream",
     "text": [
      "Iteration: 10  Residue norm: 64239.037985510935\n"
     ]
    },
    {
     "name": "stdout",
     "output_type": "stream",
     "text": [
      "Iteration: 12  Residue norm: 942976.8992383487\n"
     ]
    },
    {
     "name": "stdout",
     "output_type": "stream",
     "text": [
      "Iteration: 14  Residue norm: 21022870.33538651\n"
     ]
    },
    {
     "name": "stdout",
     "output_type": "stream",
     "text": [
      "Iteration: 16  Residue norm: 1313903.05919149\n"
     ]
    },
    {
     "name": "stdout",
     "output_type": "stream",
     "text": [
      "Iteration: 20  Residue norm: 63208532.76493221\n"
     ]
    },
    {
     "name": "stdout",
     "output_type": "stream",
     "text": [
      "Iteration: 24  Residue norm: 662287.7790241145\n"
     ]
    },
    {
     "name": "stdout",
     "output_type": "stream",
     "text": [
      "Iteration: 28  Residue norm: 437086.1856808057\n"
     ]
    },
    {
     "name": "stdout",
     "output_type": "stream",
     "text": [
      "Iteration: 32  Residue norm: 1106979.5898854546\n"
     ]
    },
    {
     "name": "stdout",
     "output_type": "stream",
     "text": [
      "Iteration: 36  Residue norm: 27267243837.378876\n"
     ]
    },
    {
     "name": "stdout",
     "output_type": "stream",
     "text": [
      "Iteration: 40  Residue norm: 106512670.48977989\n"
     ]
    },
    {
     "name": "stdout",
     "output_type": "stream",
     "text": [
      "Iteration: 44  Residue norm: 415894.4898584215\n"
     ]
    },
    {
     "name": "stdout",
     "output_type": "stream",
     "text": [
      "Iteration: 48  Residue norm: 1103366.9291404805\n"
     ]
    },
    {
     "name": "stdout",
     "output_type": "stream",
     "text": [
      "Iteration: 50  Residue norm: 68960.079051679\n",
      "Max iterations exceeded. Aborting.\n"
     ]
    }
   ],
   "source": [
    "params = (f,bc_convex)\n",
    "newton_root(SchemeNonMonotone,quadratic-2,params,\n",
    "            stop = ad.Optimization.stop_default(raise_on_abort=False));"
   ]
  },
  {
   "cell_type": "markdown",
   "metadata": {},
   "source": [
    "## 2. The MA-LBR scheme\n",
    "\n",
    "The MA-LBR scheme is a monotone and consistent discretization of the Monge-Ampere operator. It takes the form:\n",
    "$$\n",
    "    \\Lambda u(x) := \\inf_{(e_0,e_1,e_2) \\in S} H( \\Delta_{e_0}^h u(x), \\Delta_{e_1}^h u(x), \\Delta_{e_2}^h u(x)).\n",
    "$$\n",
    "We denoted by $S$ a family of superbases of $Z^2$, which is a parameter to the scheme that must be chosen, see below. \n",
    "Superbases are triplets $(e_0,e_1,e_2)$ of vectors $e_0,e_1,e_2 \\in Z^2$ with integer coordinates.\n",
    "\n",
    "We denoted second order finite differences, in a direction $e\\in Z^2$ by \n",
    "$$\n",
    "    \\Delta_e^h u(x) := \\frac{u(x+h e) -2 u(x) +u(x+he)} {h^2}.\n",
    "$$\n",
    "The scheme also features a three argument function $H$, defined as follows: $H(a,b,c) := H_0(a_+,b_+,c_+)$, where \n",
    "$$\n",
    "    H_0(a,b,c) :=\n",
    "    \\begin{cases}\n",
    "        a b \\quad \\text{ if }\\ a+b < c, \\text{ and likewise permuting } a,b,c\\\\\n",
    "        \\frac 1 2 (a b+b c+c a) - \\frac 1 4 (a^2+b^2+c^2)\\quad \\text{ otherwise}.\n",
    "    \\end{cases}\n",
    "$$\n",
    "\n",
    "\n",
    "**Convexity of the solution, and ellipticity of the PDE and numerical scheme.**\n",
    "\n",
    "The Monge-Ampere equation imposes, as a constraint, that the solution $u$ be convex. The ellipticity of the Monge-Ampere operator degenerates as $\\det(\\nabla^2 u) \\to 0$, which means that $u$ looses convexity.\n",
    "\n",
    "A similar issue arises with the MA-LBR scheme. It is strictly elliptic only as long as \n",
    "$$\n",
    "    \\Lambda u(x) > 0,\n",
    "$$\n",
    "which is a discrete counterpart of convexity. \n",
    "\n",
    "**Damping of the Newton method.**\n",
    "We need to guarantee that, along the iterations, the numerical scheme ellipticity is preserved. \n",
    "A first requirement for this is to choose a strictly convex initialization, for instance the quadratic function $u(x) = \\|x\\|^2/2$.\n",
    "\n",
    "For this reason, we also resort to a damped Newton method. The default behavior is to define\n",
    "$$\n",
    "    u_{n+1} = u_n + 2^{-k_n} d_n,\n",
    "$$\n",
    "where $d_n$ is the Newton descent direction, and $k_n$ is the least integer such that \n",
    "$$\n",
    "    \\Lambda u_{n+1}(x) \\geq f(x)/2,\n",
    "$$\n",
    "at all discretization points $x$.\n",
    "(Recall that the r.h.s $f$ is assumed to be strictly positive.)\n",
    "\n",
    "We assume, for simplicity, that this condition holds at initialization. Otherwise a threshold lower than $f/2$ could be used.\n",
    "\n",
    "*Note that a different scheme, presented in the next section of this notebook, is uniformly elliptic (independently of the unknown $u$), and thus does not require the precautions presented in the latter paragraph.*"
   ]
  },
  {
   "cell_type": "markdown",
   "metadata": {},
   "source": [
    "### 2.1 First implementation"
   ]
  },
  {
   "cell_type": "code",
   "execution_count": 11,
   "metadata": {
    "tags": [
     "ExportCode"
    ]
   },
   "outputs": [],
   "source": [
    "def MALBR_H(d2u):\n",
    "    a,b,c = np.sort(np.maximum(0.,d2u), axis=0)\n",
    "\n",
    "    # General formula, handling infinite values separately\n",
    "    A,B,C = (np.where(e==np.inf,0.,e) for e in (a,b,c))\n",
    "    result = 0.5*(A*B+B*C+C*A)-0.25*(A**2+B**2+C**2)\n",
    "    \n",
    "    pos_inf = np.logical_or.reduce(d2u==np.inf)    \n",
    "    result[pos_inf]=np.inf\n",
    "    \n",
    "    pos_ineq = a+b<c\n",
    "    result[pos_ineq] = (A*B)[pos_ineq]\n",
    "        \n",
    "    return result\n",
    "    \n",
    "def SchemeMALBR(u,SB,f,bc):\n",
    "    # Compute the finite differences along the superbase directions\n",
    "    d2u = bc.Diff2(u,SB)\n",
    "    d2u[...,bc.not_interior] = 0. # Replace NaNs with arbitrary values to silence warnings\n",
    "    \n",
    "    # Numerical scheme\n",
    "    residue = f-MALBR_H(d2u).min(axis=0)\n",
    "    \n",
    "    # Boundary conditions\n",
    "    return np.where(bc.interior,residue,u-bc.grid_values)"
   ]
  },
  {
   "cell_type": "markdown",
   "metadata": {},
   "source": [
    "We next implement the test used to select the damping parameter, as announced. "
   ]
  },
  {
   "cell_type": "code",
   "execution_count": 12,
   "metadata": {
    "tags": [
     "ExportCode"
    ]
   },
   "outputs": [],
   "source": [
    "def InvalidMALBR(u,SB,f,bc):\n",
    "    residue = SchemeMALBR(u,SB,f,bc)\n",
    "    return np.any(residue[bc.interior]>=f/2)"
   ]
  },
  {
   "cell_type": "markdown",
   "metadata": {},
   "source": [
    "We next choose a family of superbases. The scheme is (second order) consistent while the condition number of the hessian of $u$ remains below the given bound. Beyond that, a consistency defect is introduced."
   ]
  },
  {
   "cell_type": "code",
   "execution_count": 13,
   "metadata": {},
   "outputs": [],
   "source": [
    "SB0 = Selling.SuperbasesForConditioning(5)\n",
    "SB1 = Selling.SuperbasesForConditioning(15)\n",
    "SB2 = Selling.SuperbasesForConditioning(30)"
   ]
  },
  {
   "cell_type": "code",
   "execution_count": 14,
   "metadata": {},
   "outputs": [
    {
     "data": {
      "image/png": "[encoded data removed]",
      "text/plain": [
       "<Figure size 936x288 with 3 Axes>"
      ]
     },
     "metadata": {
      "needs_background": "light"
     },
     "output_type": "display_data"
    }
   ],
   "source": [
    "#Stencil of the MA-LBR scheme, for bounds (5,15,30) on conditioning'\n",
    "def stencil(SB): return np.stack((SB,-SB),axis=2)[:,:]\n",
    "fig = plt.figure(figsize=[13,4]);\n",
    "plt.subplot(1,3,1);plt.scatter(*stencil(SB0)); plt.title(r\"Stencil SB0, conditioning $\\mu\\leq 5$\"); plt.axis('equal');\n",
    "plt.subplot(1,3,2);plt.scatter(*stencil(SB1)); plt.title(r\"Stencil SB1, conditioning $\\mu\\leq 15$\"); plt.axis('equal');\n",
    "plt.subplot(1,3,3);plt.scatter(*stencil(SB2)); plt.title(r\"Stencil SB2, conditioning $\\mu\\leq 30$\"); plt.axis('equal');\n",
    "savefig(fig,'Stencils.pdf'); savefig(fig,'Stencils.png')"
   ]
  },
  {
   "cell_type": "markdown",
   "metadata": {},
   "source": [
    "The initial guess is chosen to be in the ellipticity domain of the operator."
   ]
  },
  {
   "cell_type": "code",
   "execution_count": 15,
   "metadata": {},
   "outputs": [
    {
     "data": {
      "text/plain": [
       "False"
      ]
     },
     "execution_count": 15,
     "metadata": {},
     "output_type": "execute_result"
    }
   ],
   "source": [
    "InvalidMALBR(quadratic-2.,SB0,f,bc_convex)"
   ]
  },
  {
   "cell_type": "code",
   "execution_count": 16,
   "metadata": {},
   "outputs": [
    {
     "name": "stdout",
     "output_type": "stream",
     "text": [
      "Iteration: 1  Residue norm: 605028507.700233\n"
     ]
    },
    {
     "name": "stdout",
     "output_type": "stream",
     "text": [
      "Iteration: 2  Residue norm: 340328535.4000831\n"
     ]
    },
    {
     "name": "stdout",
     "output_type": "stream",
     "text": [
      "Iteration: 3  Residue norm: 260564034.85936686\n"
     ]
    },
    {
     "name": "stdout",
     "output_type": "stream",
     "text": [
      "Iteration: 4  Residue norm: 199494339.12800813\n"
     ]
    },
    {
     "name": "stdout",
     "output_type": "stream",
     "text": [
      "Iteration: 5  Residue norm: 152737853.32904297\n"
     ]
    },
    {
     "name": "stdout",
     "output_type": "stream",
     "text": [
      "Iteration: 6  Residue norm: 116939918.88492492\n"
     ]
    },
    {
     "name": "stdout",
     "output_type": "stream",
     "text": [
      "Iteration: 8  Residue norm: 37000520.71957463\n"
     ]
    },
    {
     "name": "stdout",
     "output_type": "stream",
     "text": [
      "Iteration: 10  Residue norm: 2312530.757647794\n"
     ]
    },
    {
     "name": "stdout",
     "output_type": "stream",
     "text": [
      "Iteration: 12  Residue norm: 442631.6557370531\n"
     ]
    },
    {
     "name": "stdout",
     "output_type": "stream",
     "text": [
      "Iteration: 14  Residue norm: 190625.15530763913\n"
     ]
    },
    {
     "name": "stdout",
     "output_type": "stream",
     "text": [
      "Iteration: 16  Residue norm: 128273.97348152011\n"
     ]
    },
    {
     "name": "stdout",
     "output_type": "stream",
     "text": [
      "Iteration: 20  Residue norm: 12841.29401186514\n"
     ]
    },
    {
     "name": "stdout",
     "output_type": "stream",
     "text": [
      "Iteration: 24  Residue norm: 1285.141514860305\n"
     ]
    },
    {
     "name": "stdout",
     "output_type": "stream",
     "text": [
      "Iteration: 28  Residue norm: 24.6290123835074\n"
     ]
    },
    {
     "name": "stdout",
     "output_type": "stream",
     "text": [
      "Iteration: 32  Residue norm: 0.0010238294396567316\n"
     ]
    },
    {
     "name": "stdout",
     "output_type": "stream",
     "text": [
      "Iteration: 34  Residue norm: 1.4024337247064977e-12\n",
      "Target residue reached. Terminating.\n",
      "CPU times: user 43.4 s, sys: 9.78 s, total: 53.1 s\n",
      "Wall time: 9.36 s\n"
     ]
    }
   ],
   "source": [
    "%%time\n",
    "# This damping rule cuts the step size in half until the MALBR validity criterion is met\n",
    "dampingMALBR = damping(criterion=InvalidMALBR)\n",
    "\n",
    "params = (SB0,f,bc_convex)\n",
    "solution_MALBR = newton_root(SchemeMALBR,quadratic-2.,params,damping=dampingMALBR)"
   ]
  },
  {
   "cell_type": "markdown",
   "metadata": {},
   "source": [
    "The last Newton steps, close to the solution, equal one. In contrast, a stong damping is applied in some of the first. "
   ]
  },
  {
   "cell_type": "code",
   "execution_count": 17,
   "metadata": {},
   "outputs": [
    {
     "data": {
      "text/plain": [
       "array([0.5  , 0.5  , 0.25 , 0.25 , 0.25 , 0.25 , 0.5  , 0.5  , 1.   ,\n",
       "       1.   , 1.   , 0.25 , 0.25 , 0.5  , 0.125, 0.25 , 0.5  , 0.5  ,\n",
       "       0.5  , 0.5  , 0.5  , 0.5  , 0.5  , 0.5  , 0.5  , 0.5  , 1.   ,\n",
       "       1.   , 1.   , 1.   , 1.   , 1.   , 1.   , 1.   ])"
      ]
     },
     "execution_count": 17,
     "metadata": {},
     "output_type": "execute_result"
    }
   ],
   "source": [
    "np.array(dampingMALBR.steps)"
   ]
  },
  {
   "cell_type": "code",
   "execution_count": 18,
   "metadata": {},
   "outputs": [
    {
     "data": {
      "image/png": "[encoded data removed]",
      "text/plain": [
       "<Figure size 432x288 with 1 Axes>"
      ]
     },
     "metadata": {
      "needs_background": "light"
     },
     "output_type": "display_data"
    }
   ],
   "source": [
    "plt.axis('equal'); plt.title(\"MALBR solution to det(d2 u)=1\")\n",
    "plt.contourf(*X,solution_MALBR);"
   ]
  },
  {
   "cell_type": "markdown",
   "metadata": {},
   "source": [
    "The method also works for the square domain."
   ]
  },
  {
   "cell_type": "code",
   "execution_count": 19,
   "metadata": {},
   "outputs": [
    {
     "name": "stdout",
     "output_type": "stream",
     "text": [
      "Iteration: 1  Residue norm: 2757.303780227201\n"
     ]
    },
    {
     "name": "stdout",
     "output_type": "stream",
     "text": [
      "Iteration: 2  Residue norm: 1550.9088719693245\n"
     ]
    },
    {
     "name": "stdout",
     "output_type": "stream",
     "text": [
      "Iteration: 3  Residue norm: 1187.3958042880986\n"
     ]
    },
    {
     "name": "stdout",
     "output_type": "stream",
     "text": [
      "Iteration: 4  Residue norm: 909.0813228879124\n"
     ]
    },
    {
     "name": "stdout",
     "output_type": "stream",
     "text": [
      "Iteration: 5  Residue norm: 695.9969226545072\n"
     ]
    },
    {
     "name": "stdout",
     "output_type": "stream",
     "text": [
      "Iteration: 6  Residue norm: 532.8542052996345\n"
     ]
    },
    {
     "name": "stdout",
     "output_type": "stream",
     "text": [
      "Iteration: 8  Residue norm: 168.4807752527704\n"
     ]
    },
    {
     "name": "stdout",
     "output_type": "stream",
     "text": [
      "Iteration: 10  Residue norm: 10.099175420546999\n"
     ]
    },
    {
     "name": "stdout",
     "output_type": "stream",
     "text": [
      "Iteration: 12  Residue norm: 0.3471595331810704\n"
     ]
    },
    {
     "name": "stdout",
     "output_type": "stream",
     "text": [
      "Iteration: 14  Residue norm: 0.00010333129574746636\n"
     ]
    },
    {
     "name": "stdout",
     "output_type": "stream",
     "text": [
      "Iteration: 15  Residue norm: 2.618122607600526e-09\n",
      "Target residue reached. Terminating.\n",
      "CPU times: user 21.6 s, sys: 4.9 s, total: 26.5 s\n",
      "Wall time: 4.44 s\n"
     ]
    },
    {
     "data": {
      "text/plain": [
       "<matplotlib.contour.QuadContourSet at 0x116e7af10>"
      ]
     },
     "execution_count": 19,
     "metadata": {},
     "output_type": "execute_result"
    },
    {
     "data": {
      "image/png": "[encoded data removed]",
      "text/plain": [
       "<Figure size 432x288 with 1 Axes>"
      ]
     },
     "metadata": {
      "needs_background": "light"
     },
     "output_type": "display_data"
    }
   ],
   "source": [
    "%%time\n",
    "params = (SB0,f,bc_square)\n",
    "solution_MALBR = newton_root(SchemeMALBR,quadratic-2.,params,damping=dampingMALBR)\n",
    "\n",
    "plt.axis('equal'); plt.title(\"MALBR solution to det(d2 u)=1\")\n",
    "plt.contourf(*X,solution_MALBR);"
   ]
  },
  {
   "cell_type": "markdown",
   "metadata": {},
   "source": [
    "And with the non-convex domain."
   ]
  },
  {
   "cell_type": "code",
   "execution_count": 20,
   "metadata": {},
   "outputs": [
    {
     "name": "stdout",
     "output_type": "stream",
     "text": [
      "Iteration: 1  Residue norm: 268901558.6941084\n",
      "Iteration: 2  Residue norm: 205877755.8400154\n"
     ]
    },
    {
     "name": "stdout",
     "output_type": "stream",
     "text": [
      "Iteration: 3  Residue norm: 157625156.77644432\n",
      "Iteration: 4  Residue norm: 88664150.51865622\n"
     ]
    },
    {
     "name": "stdout",
     "output_type": "stream",
     "text": [
      "Iteration: 5  Residue norm: 49873584.469986394\n",
      "Iteration: 6  Residue norm: 12468395.251199288\n"
     ]
    },
    {
     "name": "stdout",
     "output_type": "stream",
     "text": [
      "Iteration: 8  Residue norm: 779273.5172804048\n"
     ]
    },
    {
     "name": "stdout",
     "output_type": "stream",
     "text": [
      "Iteration: 10  Residue norm: 335604.86291089404\n"
     ]
    },
    {
     "name": "stdout",
     "output_type": "stream",
     "text": [
      "Iteration: 12  Residue norm: 196725.30987762415\n"
     ]
    },
    {
     "name": "stdout",
     "output_type": "stream",
     "text": [
      "Iteration: 14  Residue norm: 115316.67033159958\n"
     ]
    },
    {
     "name": "stdout",
     "output_type": "stream",
     "text": [
      "Iteration: 16  Residue norm: 67596.42558512177\n"
     ]
    },
    {
     "name": "stdout",
     "output_type": "stream",
     "text": [
      "Iteration: 20  Residue norm: 40336.0630177052\n"
     ]
    },
    {
     "name": "stdout",
     "output_type": "stream",
     "text": [
      "Iteration: 24  Residue norm: 8587.805186564134\n"
     ]
    },
    {
     "name": "stdout",
     "output_type": "stream",
     "text": [
      "Iteration: 28  Residue norm: 859.4774429224321\n"
     ]
    },
    {
     "name": "stdout",
     "output_type": "stream",
     "text": [
      "Iteration: 32  Residue norm: 6.94933781131823\n"
     ]
    },
    {
     "name": "stdout",
     "output_type": "stream",
     "text": [
      "Iteration: 36  Residue norm: 8.758804213027105e-07\n",
      "Iteration: 37  Residue norm: 6.734248714224123e-10\n",
      "Target residue reached. Terminating.\n",
      "CPU times: user 5.28 s, sys: 1.28 s, total: 6.56 s\n",
      "Wall time: 6.59 s\n"
     ]
    },
    {
     "data": {
      "text/plain": [
       "<matplotlib.contour.QuadContourSet at 0x116f73c10>"
      ]
     },
     "execution_count": 20,
     "metadata": {},
     "output_type": "execute_result"
    },
    {
     "data": {
      "image/png": "[encoded data removed]",
      "text/plain": [
       "<Figure size 432x288 with 1 Axes>"
      ]
     },
     "metadata": {
      "needs_background": "light"
     },
     "output_type": "display_data"
    }
   ],
   "source": [
    "%%time\n",
    "params = (SB0,f,bc_concave)\n",
    "solution_MALBR = newton_root(SchemeMALBR,quadratic-2.,params,damping=dampingMALBR)\n",
    "\n",
    "plt.axis('equal'); plt.title(\"MALBR solution to det(d2 u)=1\")\n",
    "plt.contourf(*X,solution_MALBR);"
   ]
  },
  {
   "cell_type": "markdown",
   "metadata": {},
   "source": [
    "### 2.2 Optimized implementation\n",
    "\n",
    "In the course of the Newton method, the AD-LBR scheme is evaluated on sparse AD variables. In this regard, two features of the scheme yield optimization opportunities:\n",
    "* *Minimization over the superbases.* Using the envelope theorem, we find the minimizer using ordinary arrays without AD information, and then provide this oracle information in a second pass involving AD information.\n",
    "* *Complex non-linear function $H$.* We can take advantage of dense and sparse AD composition, to efficiently evaluate $H$.\n",
    "\n",
    "**Important: other optimization opportunities.**\n",
    "Our main intent in this subsection is to illustrate advanced AD techniques. There may be other optimization opportunities."
   ]
  },
  {
   "cell_type": "code",
   "execution_count": 21,
   "metadata": {
    "tags": [
     "ExportCode"
    ]
   },
   "outputs": [],
   "source": [
    "def SchemeMALBR_OptInner(u,SB,bc,oracle=None):\n",
    "    # If the active superbases are known, then take only these\n",
    "    if not(oracle is None):\n",
    "        SB = np.take_along_axis(SB,np.broadcast_to(oracle,SB.shape[:2]+(1,)+oracle.shape),axis=2)\n",
    "                \n",
    "    d2u = bc.Diff2(u,SB)\n",
    "    d2u[...,bc.not_interior] = 0. # Placeholder value to silent NaN warnings\n",
    "    # Evaluate the complex non-linear function using dense - sparse composition\n",
    "    result = ad.apply(MALBR_H,d2u,shape_bound=u.shape)\n",
    "    \n",
    "    return ad.min_argmin(result,axis=0)\n",
    "\n",
    "def SchemeMALBR_Opt(u,SB,f,bc):\n",
    "    \n",
    "    # Evaluate using the envelope theorem\n",
    "    result,_ = ad.apply(SchemeMALBR_OptInner, u,bc.as_field(SB),bc, envelope=True)\n",
    "        \n",
    "    # Boundary conditions\n",
    "    return np.where(bc.interior, f - result, u-bc.grid_values)"
   ]
  },
  {
   "cell_type": "markdown",
   "metadata": {},
   "source": [
    "We can afford more superbases, taking `SB2` instead of `SB0`, thanks to the optimizations. Replace `SchemeMALBR_Opt` with `SchemeMALBR` to see the computation time difference."
   ]
  },
  {
   "cell_type": "code",
   "execution_count": 22,
   "metadata": {},
   "outputs": [
    {
     "name": "stdout",
     "output_type": "stream",
     "text": [
      "Iteration: 1  Residue norm: 48984073.341035314\n"
     ]
    },
    {
     "name": "stdout",
     "output_type": "stream",
     "text": [
      "Iteration: 2  Residue norm: 37503430.86099577\n"
     ]
    },
    {
     "name": "stdout",
     "output_type": "stream",
     "text": [
      "Iteration: 3  Residue norm: 32961999.701030113\n"
     ]
    },
    {
     "name": "stdout",
     "output_type": "stream",
     "text": [
      "Iteration: 4  Residue norm: 25236530.693300385\n"
     ]
    },
    {
     "name": "stdout",
     "output_type": "stream",
     "text": [
      "Iteration: 5  Residue norm: 14195547.115555806\n"
     ]
    },
    {
     "name": "stdout",
     "output_type": "stream",
     "text": [
      "Iteration: 6  Residue norm: 7984993.698099858\n"
     ]
    },
    {
     "name": "stdout",
     "output_type": "stream",
     "text": [
      "Iteration: 8  Residue norm: 2526499.3574555335\n"
     ]
    },
    {
     "name": "stdout",
     "output_type": "stream",
     "text": [
      "Iteration: 10  Residue norm: 157899.96447289185\n"
     ]
    },
    {
     "name": "stdout",
     "output_type": "stream",
     "text": [
      "Iteration: 12  Residue norm: 68001.57044740225\n"
     ]
    },
    {
     "name": "stdout",
     "output_type": "stream",
     "text": [
      "Iteration: 14  Residue norm: 39861.22860989643\n"
     ]
    },
    {
     "name": "stdout",
     "output_type": "stream",
     "text": [
      "Iteration: 16  Residue norm: 23365.823537826614\n"
     ]
    },
    {
     "name": "stdout",
     "output_type": "stream",
     "text": [
      "Iteration: 20  Residue norm: 3181.9395288116193\n"
     ]
    },
    {
     "name": "stdout",
     "output_type": "stream",
     "text": [
      "Iteration: 24  Residue norm: 1537.8088048793397\n"
     ]
    },
    {
     "name": "stdout",
     "output_type": "stream",
     "text": [
      "Iteration: 28  Residue norm: 689.9272689962181\n"
     ]
    },
    {
     "name": "stdout",
     "output_type": "stream",
     "text": [
      "Iteration: 32  Residue norm: 91.68892030740116\n"
     ]
    },
    {
     "name": "stdout",
     "output_type": "stream",
     "text": [
      "Iteration: 36  Residue norm: 0.0492649228962998\n"
     ]
    },
    {
     "name": "stdout",
     "output_type": "stream",
     "text": [
      "Iteration: 39  Residue norm: 1.1386447340555605e-12\n",
      "Target residue reached. Terminating.\n",
      "CPU times: user 54 s, sys: 12.6 s, total: 1min 6s\n",
      "Wall time: 19.9 s\n"
     ]
    }
   ],
   "source": [
    "%%time\n",
    "params = (SB2,f,bc_convex)\n",
    "solution_MALBR = newton_root(SchemeMALBR_Opt,quadratic-2.,params,damping=dampingMALBR) "
   ]
  },
  {
   "cell_type": "markdown",
   "metadata": {},
   "source": [
    "If we use the same set of superbases, then the optimized and non-optimized versions yield an identical result, up to machine precision, iteration after iteration."
   ]
  },
  {
   "cell_type": "code",
   "execution_count": 23,
   "metadata": {},
   "outputs": [
    {
     "name": "stdout",
     "output_type": "stream",
     "text": [
      "Iteration: 1  Residue norm: 605028507.7002333\n"
     ]
    },
    {
     "name": "stdout",
     "output_type": "stream",
     "text": [
      "Iteration: 2  Residue norm: 340328535.4000832\n"
     ]
    },
    {
     "name": "stdout",
     "output_type": "stream",
     "text": [
      "Iteration: 3  Residue norm: 260564034.85936704\n"
     ]
    },
    {
     "name": "stdout",
     "output_type": "stream",
     "text": [
      "Iteration: 4  Residue norm: 199494339.12800825\n"
     ]
    },
    {
     "name": "stdout",
     "output_type": "stream",
     "text": [
      "Iteration: 5  Residue norm: 152737853.32904312\n"
     ]
    },
    {
     "name": "stdout",
     "output_type": "stream",
     "text": [
      "Iteration: 6  Residue norm: 116939918.88492495\n"
     ]
    },
    {
     "name": "stdout",
     "output_type": "stream",
     "text": [
      "Iteration: 8  Residue norm: 37000520.71957463\n"
     ]
    },
    {
     "name": "stdout",
     "output_type": "stream",
     "text": [
      "Iteration: 10  Residue norm: 2312530.7576477933\n"
     ]
    },
    {
     "name": "stdout",
     "output_type": "stream",
     "text": [
      "Iteration: 12  Residue norm: 442631.65573705314\n"
     ]
    },
    {
     "name": "stdout",
     "output_type": "stream",
     "text": [
      "Iteration: 14  Residue norm: 190625.1553076392\n"
     ]
    },
    {
     "name": "stdout",
     "output_type": "stream",
     "text": [
      "Iteration: 16  Residue norm: 128273.97348152006\n"
     ]
    },
    {
     "name": "stdout",
     "output_type": "stream",
     "text": [
      "Iteration: 20  Residue norm: 12841.294011865128\n"
     ]
    },
    {
     "name": "stdout",
     "output_type": "stream",
     "text": [
      "Iteration: 24  Residue norm: 1285.1415148603062\n"
     ]
    },
    {
     "name": "stdout",
     "output_type": "stream",
     "text": [
      "Iteration: 28  Residue norm: 24.629012383507437\n"
     ]
    },
    {
     "name": "stdout",
     "output_type": "stream",
     "text": [
      "Iteration: 32  Residue norm: 0.0010238294396567316\n"
     ]
    },
    {
     "name": "stdout",
     "output_type": "stream",
     "text": [
      "Iteration: 34  Residue norm: 1.4024337247064977e-12\n",
      "Target residue reached. Terminating.\n",
      "CPU times: user 31.6 s, sys: 7.88 s, total: 39.5 s\n",
      "Wall time: 8.95 s\n"
     ]
    }
   ],
   "source": [
    "%%time\n",
    "params = (SB0,f,bc_convex)\n",
    "solution_MALBR = newton_root(SchemeMALBR_Opt,quadratic-2.,params,damping=dampingMALBR) "
   ]
  },
  {
   "cell_type": "markdown",
   "metadata": {},
   "source": [
    "## 3. Uniformly elliptic scheme\n",
    "\n",
    "We present a numerical scheme robust enough that the Newton method converges *without need for damping*, even in the non-convex domains. For that purpose, we use the following classical reformulation of the Monge-Ampere PDE.\n",
    "$$\n",
    "    0 = \\max_D \\alpha(x)\\det(D)^\\frac 1 d - \\mathrm{Tr} (D \\nabla^2 u(x))\n",
    "$$\n",
    "subject to the constraints\n",
    "$$\n",
    "    D \\succeq 0, \\qquad \\mathrm{Tr} (D) = 1,\n",
    "$$\n",
    "and where we denoted\n",
    "$$\n",
    "    \\alpha(x) := d f(x)^{\\frac 1 d}.\n",
    "$$"
   ]
  },
  {
   "cell_type": "markdown",
   "metadata": {},
   "source": [
    "### Reformulation as a quadratic optimization problem\n",
    "\n",
    "We constrain the above optimization problem to matrices $D$ which can be decomposed over a superbase $(e_0,e_1,e_2)$ of $Z^2$ in the form\n",
    "$$\n",
    "    D = \\sum_i v_i e_i e_i^T,\n",
    "$$\n",
    "where $v_i \\geq 0$, $0 \\leq i \\leq 2$.\n",
    "We can compute the trace of $D$ \n",
    "$$\n",
    "    \\mathrm{Tr}(D) = \\sum_i v_i \\|e_i\\|^2,\n",
    "$$\n",
    "and its determinant\n",
    "$$\n",
    "    \\det(D) = v_0 v_1 + v_1 v_2 + v_2 v_0 = <v,Q v>\n",
    "$$\n",
    "where \n",
    "$$\n",
    "    Q = \\frac 1 2 \\begin{pmatrix} 0 & 1 & 1\\\\ 1 & 0 & 1\\\\ 1 & 1 & 0 \\end{pmatrix}\n",
    "$$\n",
    "In addition, we have the finite differences approximation\n",
    "$$\n",
    "    \\mathrm{Tr}(D \\nabla^2 u(x)) \\approx \\sum_i v_i \\frac{ u(x+h e_i)-2 u(x)+u(x-he_i)} {h^2}\n",
    "$$\n"
   ]
  },
  {
   "cell_type": "markdown",
   "metadata": {},
   "source": [
    "### Solving a low dimensional constrained optimization problem\n",
    "We need to solve the concave maximization problem \n",
    "$$\n",
    "    \\max_v \\alpha\\sqrt{<v,Q v>} + <l,v>\n",
    "$$\n",
    "subject to the constraints\n",
    "$$\n",
    "    v \\succeq 0, \\qquad <m,v>=1.\n",
    "$$\n",
    "\n",
    "**Distinction on $\\alpha$**\n",
    "The scalar $\\alpha$ is by assumption non-negative.\n",
    "If $\\alpha=0$, then the solution to the above optimization problem is \n",
    "$$\n",
    "    \\max_{1 \\leq i \\leq d} \\frac{l_i}{m_i}.\n",
    "$$\n",
    "On the other hand, if $\\alpha>0$, then we may assume $\\alpha=1$, up to including it in $Q$.\n",
    "\n",
    "**Optimality relation**\n",
    "Assuming that the positivity constraints are inactive at the maximizer, we obtain the optimality relation\n",
    "$$\n",
    "    \\frac {Q v}{\\sqrt{<v,Q v>}} + l = \\mu m,\n",
    "$$\n",
    "for some Lagrange multiplier $\\mu \\in R$.\n",
    "\n",
    "**Solving the problem.**\n",
    "A quadratic equation is obeyed by this multiplier\n",
    "$$\n",
    "    <(\\mu m -l), Q^{-1} (\\mu m -l)> = 1.\n",
    "$$\n",
    "(Which root is to be selected ?)\n",
    "The minimizer can be obtained by \n",
    "$$\n",
    "    \\frac{v}{\\sqrt{<v,Q v >}} = Q^{-1} (\\mu m -l)\n",
    "$$"
   ]
  },
  {
   "cell_type": "markdown",
   "metadata": {},
   "source": [
    "### 3.1 First implementation"
   ]
  },
  {
   "cell_type": "code",
   "execution_count": 24,
   "metadata": {
    "tags": [
     "ExportCode"
    ]
   },
   "outputs": [],
   "source": [
    "def ConstrainedMaximize(Q,l,m):\n",
    "    dim = l.shape[0]\n",
    "    if dim==1:\n",
    "        return (l[0]+np.sqrt(Q[0,0]))/m[0]\n",
    "    \n",
    "    # Discard infinite values, handled afterwards\n",
    "    pos_bad = l.min(axis=0)==-np.inf\n",
    "    L = l.copy(); L[:,pos_bad]=0\n",
    "    \n",
    "    # Solve the quadratic equation\n",
    "    A = lp.inverse(Q)    \n",
    "    lAl = lp.dot_VAV(L,A,L)\n",
    "    lAm = lp.dot_VAV(L,A,m)\n",
    "    mAm = lp.dot_VAV(m,A,m)\n",
    "    \n",
    "    delta = lAm**2 - (lAl-1.)*mAm\n",
    "    pos_bad = np.logical_or(pos_bad,delta<=0)\n",
    "    delta[pos_bad] = 1.\n",
    "    \n",
    "    mu = (lAm + np.sqrt(delta))/mAm\n",
    "    \n",
    "    # Check the positivity\n",
    "#    v = dot_AV(A,mu*m-L)\n",
    "    rm_ad = np.array\n",
    "    v = lp.dot_AV(rm_ad(A),rm_ad(mu)*rm_ad(m)-rm_ad(L))\n",
    "    pos_bad = np.logical_or(pos_bad,np.any(v<0,axis=0))\n",
    "    \n",
    "    result = mu\n",
    "    result[pos_bad] = -np.inf\n",
    "    \n",
    "    # Solve the lower dimensional sub-problems\n",
    "    # We could restrict to the bad positions, and avoid repeating computations\n",
    "    for i in range(dim):             \n",
    "        axes = np.full((dim),True); axes[i]=False\n",
    "        res = ConstrainedMaximize(Q[axes][:,axes],l[axes],m[axes])\n",
    "        result = np.maximum(result,res)\n",
    "    return result"
   ]
  },
  {
   "cell_type": "code",
   "execution_count": 25,
   "metadata": {
    "tags": [
     "ExportCode"
    ]
   },
   "outputs": [],
   "source": [
    "def SchemeUniform(u,SB,f,bc):\n",
    "    # Compute the finite differences along the superbase directions\n",
    "    d2u = bc.Diff2(u,SB) \n",
    "    d2u[...,bc.not_interior] = 0. # Placeholder value to silent NaN warnings\n",
    "    \n",
    "    # Generate the parameters for the low dimensional optimization problem\n",
    "    Q = 0.5*np.array([[0,1,1],[1,0,1],[1,1,0]])\n",
    "    l = -d2u\n",
    "    m = lp.dot_VV(SB,SB)\n",
    "    \n",
    "    # Evaluate the numerical scheme\n",
    "    m = bc.as_field(m)\n",
    "    from agd.FiniteDifferences import as_field\n",
    "    Q = as_field(Q,m.shape[1:])\n",
    "    \n",
    "    dim = 2\n",
    "    alpha = dim * f**(1/dim)\n",
    "    mask= (alpha==0)\n",
    "\n",
    "    Q = Q* np.where(mask,1.,alpha**2)\n",
    "    residue = ConstrainedMaximize(Q,l,m).max(axis=0)\n",
    "    residue[mask] = np.max(l/m,axis=0).max(axis=0)[mask]\n",
    "    \n",
    "    # Boundary conditions\n",
    "    return np.where(bc.interior,residue,u-bc.grid_values)"
   ]
  },
  {
   "cell_type": "markdown",
   "metadata": {},
   "source": [
    "The monotone scheme is able to approach discontinuous vicosity solutions, defined on non-convex domains."
   ]
  },
  {
   "cell_type": "code",
   "execution_count": 26,
   "metadata": {},
   "outputs": [],
   "source": [
    "%%time\n",
    "relax = ad.Sparse.identity(bc_concave.shape)\n",
    "stop = ad.Optimization.stop_default\n",
    "\n",
    "params = (SB0,f,bc_concave)\n",
    "solution_Uniform = newton_root(SchemeUniform,quadratic-2.,params)\n",
    "\n",
    "fig = plt.figure(figsize=(5,4)); plt.axis('equal')\n",
    "plt.title(r\"$\\det(d^2 u)=1$, $u=0$ on $\\partial \\Omega$, concave domain\"); \n",
    "plt.contourf(*X,solution_Uniform);  plt.colorbar();\n",
    "\n",
    "savefig(fig,'UniformScheme_ConcaveDomain_SB0.png')"
   ]
  },
  {
   "cell_type": "markdown",
   "metadata": {},
   "source": [
    "It also still works on simpler cases, such as the square and convex domain."
   ]
  },
  {
   "cell_type": "code",
   "execution_count": null,
   "metadata": {},
   "outputs": [],
   "source": [
    "%%time\n",
    "params = (SB0,f,bc_square)\n",
    "solution_Uniform = newton_root(SchemeUniform,quadratic-2.,params) \n",
    "\n",
    "fig = plt.figure(figsize=(5,4)); plt.axis('equal')\n",
    "plt.title(r\"$\\det(d^2 u)=1$, $u=0$ on $\\partial \\Omega$, square domain\"); \n",
    "plt.contourf(*X,solution_Uniform); plt.colorbar();\n",
    "\n",
    "savefig(fig,'UniformScheme_SquareDomain_SB0.png')"
   ]
  },
  {
   "cell_type": "code",
   "execution_count": null,
   "metadata": {},
   "outputs": [],
   "source": [
    "%%time\n",
    "params = (SB0,f,bc_convex)\n",
    "solution_Uniform = newton_root(SchemeUniform,quadratic-2.,params)\n",
    "\n",
    "fig = plt.figure(figsize=(4,4)); plt.axis('equal')\n",
    "plt.title(r\"det(d^2 u)=1, uniformly elliptic scheme\")\n",
    "plt.contourf(*X,solution_Uniform); #plt.colorbar();\n",
    "\n",
    "savefig(fig,'UniformScheme_ConvexDomain_SB0.png')"
   ]
  },
  {
   "cell_type": "markdown",
   "metadata": {},
   "source": [
    "### 3.2 Optimized implementation\n",
    "\n",
    "We optimize the uniformly elliptic scheme using the same ingredients as for the MA-LBR scheme: the envelope theorem, and dense-sparse AD composition."
   ]
  },
  {
   "cell_type": "code",
   "execution_count": null,
   "metadata": {
    "tags": [
     "ExportCode"
    ]
   },
   "outputs": [],
   "source": [
    "def SchemeUniform_OptInner(u,SB,f,bc,oracle=None):\n",
    "    # Use the oracle, if available, to select the active superbases only\n",
    "    if not(oracle is None):\n",
    "        SB = np.take_along_axis(SB,np.broadcast_to(oracle,SB.shape[:2]+(1,)+oracle.shape),axis=2)\n",
    "\n",
    "    d2u = bc.Diff2(u,SB) \n",
    "    d2u[...,bc.not_interior] = 0. # Placeholder value to silent NaN warnings\n",
    "    \n",
    "    # Generate the parameters for the low dimensional optimization problem\n",
    "    Q = 0.5*np.array([[0,1,1],[1,0,1],[1,1,0]])\n",
    "    dim = 2\n",
    "    l = -d2u\n",
    "    m = lp.dot_VV(SB,SB)\n",
    "    \n",
    "    m = bc.as_field(m)\n",
    "    from agd.FiniteDifferences import as_field\n",
    "    Q = as_field(Q,m.shape[1:])\n",
    "    \n",
    "    dim = 2\n",
    "    alpha = dim * f**(1/dim)\n",
    "    mask= (alpha==0)\n",
    "\n",
    "    Q = Q* np.where(mask,1.,alpha**2)\n",
    "    # Evaluate the non-linear functional using dense-sparse composition\n",
    "    residue = ad.apply(ConstrainedMaximize,Q,l,m,shape_bound=u.shape).copy()\n",
    "    residue[:,mask] = np.max(l/m,axis=0)[:,mask]\n",
    "    \n",
    "    return ad.max_argmax(residue,axis=0)\n",
    "\n",
    "def SchemeUniform_Opt(u,SB,f,bc):\n",
    "    \n",
    "    # Evaluate the maximum over the superbases using the envelope theorem\n",
    "    residue,_ = ad.apply(SchemeUniform_OptInner, u,bc.as_field(SB),f,bc, envelope=True)\n",
    "    \n",
    "    return np.where(bc.interior,residue,u-bc.grid_values)"
   ]
  },
  {
   "cell_type": "markdown",
   "metadata": {},
   "source": [
    "The computation time is significantly reduced with these optimizations, and we can afford to take more superbases: `SB2` instead of `SB0`."
   ]
  },
  {
   "cell_type": "code",
   "execution_count": null,
   "metadata": {},
   "outputs": [],
   "source": [
    "%%time\n",
    "params = (SB2,f,bc_convex)\n",
    "solution_Uniform = newton_root(SchemeUniform_Opt,quadratic-2.,params) "
   ]
  },
  {
   "cell_type": "code",
   "execution_count": null,
   "metadata": {},
   "outputs": [],
   "source": [
    "plt.contourf(*X,solution_Uniform); plt.axis('equal');"
   ]
  },
  {
   "cell_type": "code",
   "execution_count": null,
   "metadata": {},
   "outputs": [],
   "source": [
    "%%time\n",
    "params = (SB0,f,bc_convex)\n",
    "solution_Uniform = newton_root(SchemeUniform_Opt,quadratic-2.,params) "
   ]
  },
  {
   "cell_type": "markdown",
   "metadata": {},
   "source": [
    "### 3.3 Rotated domains\n",
    "\n",
    "The domains considered in this notebook have some of their edges aligned with the coordinate axes, which may give an unfair advantage given to grid based methods. We show in the experiments below that our implementations are equally efficient on rotated domains."
   ]
  },
  {
   "cell_type": "code",
   "execution_count": null,
   "metadata": {},
   "outputs": [],
   "source": [
    "%%time\n",
    "bc_convex_rotated = Domain.Dirichlet(Domain.AffineTransform(bc_convex.domain,0.75*lp.rotation(-np.pi/6)),0.,X)\n",
    "params = (SB2,f,bc_convex_rotated)\n",
    "solution = newton_root(SchemeUniform_Opt,quadratic-2.,params) \n",
    "\n",
    "fig=plt.figure(figsize=[4,4]); plt.axis('equal');\n",
    "plt.title(r\"$\\det(d^2u)=1$, rotated convex domain\")\n",
    "plt.contourf(*X,solution); \n",
    "\n",
    "savefig(fig,\"UniformScheme_RotatedConvexDomain_SB2.png\")"
   ]
  },
  {
   "cell_type": "code",
   "execution_count": null,
   "metadata": {},
   "outputs": [],
   "source": [
    "%%time\n",
    "bc_concave_rotated = Domain.Dirichlet(Domain.AffineTransform(bc_concave.domain,lp.rotation(-np.pi/6)),0.,X)\n",
    "params = (SB2,f,bc_concave_rotated)\n",
    "solution = newton_root(SchemeUniform_Opt,quadratic-2.,params)\n",
    "\n",
    "fig=plt.figure(figsize=[4,4]); plt.axis('equal');\n",
    "plt.title(r\"$\\det(d^2u)=1$, rotated concave domain\")\n",
    "plt.contourf(*X,solution); \n",
    "\n",
    "savefig(fig,\"UniformScheme_RotatedConcaveDomain_SB2.png\")"
   ]
  },
  {
   "cell_type": "code",
   "execution_count": null,
   "metadata": {},
   "outputs": [],
   "source": [
    "bc=bc_concave_rotated; grad = np.array(np.gradient(solution,bc.gridscale))\n",
    "grad[:,np.logical_not(bc.domain.contains_ball(X,2.5*bc.gridscale))]=0.\n",
    "\n",
    "fig = plt.figure(figsize=[5,4]);  plt.axis('equal')\n",
    "plt.axis('equal'); plt.title(r\"Norm of the solution gradient, rotated concave domain\")\n",
    "plt.pcolormesh(*X,norm(grad,ord=2,axis=0)); plt.colorbar();"
   ]
  },
  {
   "cell_type": "markdown",
   "metadata": {},
   "source": [
    "Non-simply connected domains raise no difficulty either."
   ]
  },
  {
   "cell_type": "code",
   "execution_count": null,
   "metadata": {},
   "outputs": [],
   "source": [
    "outer = Domain.Union(Domain.Ball(),Domain.Box([[0,1],[-1,1]]))\n",
    "inner = Domain.AffineTransform(outer,0.4*lp.rotation(np.pi/3))\n",
    "domain_ring = Domain.Complement(outer,inner)\n",
    "\n",
    "def bc_value_ring(x):\n",
    "    \"\"\"0 on inner boundary, 1 on outer boundary.\"\"\"\n",
    "    return outer.level(x)+inner.level(x) > 0\n",
    "\n",
    "bc_ring = Domain.Dirichlet(domain_ring,bc_value_ring,X)"
   ]
  },
  {
   "cell_type": "code",
   "execution_count": null,
   "metadata": {},
   "outputs": [],
   "source": [
    "solution = newton_root(SchemeUniform_Opt,quadratic-2.,(SB2,f,bc_ring))\n",
    "\n",
    "fig=plt.figure(figsize=[4,4]); plt.axis('equal');\n",
    "plt.title(r\"$det(d^2u)=1$, non-smooth ring-shaped domain\")\n",
    "plt.contourf(*X,solution); "
   ]
  },
  {
   "cell_type": "markdown",
   "metadata": {},
   "source": [
    "### 3.4 degenerate solutions\n",
    "\n",
    "The Monge-Ampere equation $\\det(\\nabla^2 u)=f$ assumes a non-negative right-hand-side $f\\geq 0$.\n",
    "When $f=0$, the Monge-Ampere equation degenerates to the convex envelope equation\n",
    "$$\n",
    "    \\lambda_{\\min}(\\nabla^2 u) = 0.\n",
    "$$\n",
    "The uniformly elliptic scheme also degenerates to a simpler scheme when $f=0$, namely\n",
    "$$\n",
    "    \\max_{e \\in E} \\frac{- \\Delta^e_h u(x)}{\\|e\\|^2} = 0,\n",
    "$$\n",
    "where $E$ is a set of vectors with integer coordinates, defined as the union of all superbases involved in the scheme.\n",
    "\n",
    "Due to lack of strong ellipticity of the convex envelope equation, there is no hope to achieve a consistent discretization with a finite stencil. A consistency defect is introduced, which depends on the size of the stencil.\n",
    "\n",
    "We illustrate this behavior with a piecewise linear function. In this case, the accuracy of the solution depends almost exclusively on the stencil size, and is independent of the grid size. "
   ]
  },
  {
   "cell_type": "code",
   "execution_count": null,
   "metadata": {},
   "outputs": [],
   "source": [
    "def bc_abs_value(x):\n",
    "    return np.abs(x[0]+x[1]/np.sqrt(10))"
   ]
  },
  {
   "cell_type": "markdown",
   "metadata": {},
   "source": [
    "By design, non-differentiability set is a line of irrational slope. Indeed, the solution could otherwise be exactly recovered with a suitable stencil, e.g. in the case of $|x_0|$."
   ]
  },
  {
   "cell_type": "code",
   "execution_count": null,
   "metadata": {},
   "outputs": [],
   "source": [
    "bc_abs = Domain.Dirichlet(bc_convex.domain,bc_abs_value,X)"
   ]
  },
  {
   "cell_type": "code",
   "execution_count": null,
   "metadata": {},
   "outputs": [],
   "source": [
    "solution_SB0 = newton_root(SchemeUniform_Opt,quadratic-2.,(SB0,0.,bc_abs)) \n",
    "solution_SB1 = newton_root(SchemeUniform_Opt,quadratic-2.,(SB1,0.,bc_abs)) \n",
    "solution_SB2 = newton_root(SchemeUniform_Opt,quadratic-2.,(SB2,0.,bc_abs)) "
   ]
  },
  {
   "cell_type": "markdown",
   "metadata": {},
   "source": [
    "As expected, the solution improves as the stencil size increases."
   ]
  },
  {
   "cell_type": "code",
   "execution_count": null,
   "metadata": {},
   "outputs": [],
   "source": [
    "fig=plt.figure(figsize=[13,4])\n",
    "plt.subplot(1,3,1)\n",
    "plt.title(\"8 points stencil (SB0)\")\n",
    "plt.contour(*X,solution_SB0,levels=30); plt.axis('equal')\n",
    "plt.subplot(1,3,2)\n",
    "plt.title(\"16 points stencil (SB1)\")\n",
    "plt.contour(*X,solution_SB1,levels=30); plt.axis('equal')\n",
    "plt.subplot(1,3,3)\n",
    "plt.title(\"24 points stencil (SB2)\")\n",
    "plt.contour(*X,solution_SB2,levels=30); plt.axis('equal')\n",
    "savefig(fig,\"UniformScheme_AbsoluteValue.png\",dpi=100)"
   ]
  },
  {
   "cell_type": "markdown",
   "metadata": {},
   "source": [
    "We can also solve the Monge-Ampere equation with a r.h.s. vanishing on part of the domain only. \n",
    "Here the rhs is $1$, except in the upper quadrant rotated by $\\pi/6$ where it is $0$. The resulting solution has a degenerate hessian on part of the domain."
   ]
  },
  {
   "cell_type": "code",
   "execution_count": null,
   "metadata": {},
   "outputs": [],
   "source": [
    "bc_ball = Domain.Dirichlet(Domain.Ball(),0.,X)\n",
    "def rhs(x):\n",
    "    c,s = np.cos(np.pi/6),np.sin(np.pi/6)\n",
    "    return 1-np.logical_and(c*x[0]-s*x[1]>=0,s*x[0]+c*x[1]>=0)\n",
    "solution = newton_root(SchemeUniform_Opt,quadratic-2.,(SB2,rhs(X),bc_ball)) "
   ]
  },
  {
   "cell_type": "code",
   "execution_count": null,
   "metadata": {},
   "outputs": [],
   "source": [
    "fig=plt.figure(figsize=[4,4]); \n",
    "plt.title(r\"$\\det(d^2 u)=f$, with $f=0$ on an angular sector\")\n",
    "plt.contourf(*X,solution); plt.axis('equal');\n",
    "savefig(fig,\"UniformScheme_VanishingRHS_SB2.png\")"
   ]
  },
  {
   "cell_type": "code",
   "execution_count": null,
   "metadata": {},
   "outputs": [],
   "source": [
    "bc=bc_ball; grad = np.array(np.gradient(solution,bc.gridscale))\n",
    "grad[:,np.logical_not(bc.domain.contains_ball(X,2.5*bc.gridscale))]=0.\n",
    "\n",
    "fig = plt.figure(figsize=[5,4]);  plt.axis('equal')\n",
    "plt.axis('equal'); plt.title(r\"Norm of the solution gradient, vanishing r.h.s\")\n",
    "plt.pcolormesh(*X,norm(grad,ord=2,axis=0)); plt.colorbar();"
   ]
  },
  {
   "cell_type": "markdown",
   "metadata": {},
   "source": [
    "## 4. Validation\n",
    "\n",
    "When designing and implementing a numerical method, one must distinguish:\n",
    "* *Mathematical correctness*. A proof on paper that the scheme solutions exist, are unique, and e.g. do converge toward the solution of a continuous problem of interest as the grid is refined.\n",
    "* *Implementation correctness*. The fact that the code faithfully reflects the mathematical description. A.k.a the absence of bugs. \n",
    "\n",
    "This section deals with implementation correctness. Again, there are two options:\n",
    "* Computer assisted proof of correctness. This approach is still mostly sci-fy at the moment, although I would love it in principle. See [F*](https://www.fstar-lang.org/) for such works.\n",
    "* A series of tests showing that the implementation obeys some expected mathematical properties. \n",
    "\n",
    "We rely on the second approach, and for that purpose we compare the implemented schemes between themselves, and with variants."
   ]
  },
  {
   "cell_type": "code",
   "execution_count": null,
   "metadata": {},
   "outputs": [],
   "source": [
    "LInfNorm=ad.Optimization.norm_infinity"
   ]
  },
  {
   "cell_type": "markdown",
   "metadata": {},
   "source": [
    "### 4.1 Comparison with a sampling based scheme\n",
    "\n",
    "The scheme described above is based on a discretization of the PDE formulation\n",
    "$$\n",
    "    0 = \\max_D \\det(D)^\\frac 1 d - \\alpha(x) \\mathrm{Tr} (D \\nabla ^2 u(x))\n",
    "$$\n",
    "followed with an exact solution subject to the constraints\n",
    "$$\n",
    "    D \\succeq 0, \\qquad \\mathrm{Tr} (D) = 1,\n",
    "$$\n",
    "and the additional constraint that some superbase $s \\in SB$ is obtuse. Denote by $F_{SB}$ this scheme.\n",
    "\n",
    "**Sampling based scheme**\n",
    "For validation purposes, it can be interesting to consider a brute-force approach to the same optimization problem, based on a sampling of the parameter space. Namely\n",
    "$$\n",
    "    D(\\mu,\\theta) := R_\\theta \n",
    "    \\begin{pmatrix} \\mu & 0 \\\\ 0 & 1-\\mu \\end{pmatrix}\n",
    "    R_\\theta^T\n",
    "$$\n",
    "where $\\mu\\in M_n \\subset [0,1/2]$ and $\\theta\\in \\Theta_n [0,\\pi]$. Here $A_n$ and $\\Theta_n$ are $n$-element regular sampling of their respective containing intervals. \n",
    "\n",
    "Let us denote by $F^n$ this second scheme, and by $F^n_{SB}$ the same similar scheme where one only keeps matrices $D(\\mu,\\theta)$ for which some superbase $s \\in SB$ is obtuse.\n",
    "\n",
    "**Convergence**\n",
    "By construction, one should have as $n \\to \\infty$, for any discrete map $u$ and set of superbases $SB$\n",
    "$$\n",
    "    F_{SB}^n(u) = F_{SB}(u) + O(n^{-1}).\n",
    "$$\n",
    "Note that the test function $u$, and the set of superbases are here fixed.\n",
    "\n",
    "**Similar work** A similar approach is implemented in the notebook [NonlinearMonotoneSecond2D](NonlinearMonotoneSecond2D.ipynb). In that case, the order of convergence is $O(n^{-2})$, instead of $O(n^{-1})$. The difference is related with the sampling of the boundary of the optimization domain."
   ]
  },
  {
   "cell_type": "code",
   "execution_count": null,
   "metadata": {},
   "outputs": [],
   "source": [
    "def SchemeSampling(u,mus,thetas,SB,f,bc):\n",
    "    # Sampling is independent for mu and theta\n",
    "    mus=np.expand_dims(mus,axis=0)\n",
    "    thetas=np.expand_dims(thetas,axis=1)\n",
    "\n",
    "    # Build the tensors\n",
    "    e=np.array(((np.cos(thetas),np.sin(thetas)),(-np.sin(thetas),np.cos(thetas))) )\n",
    "    D = mus*lp.outer_self(e[0])+(1.-mus)*lp.outer_self(e[1])\n",
    "    \n",
    "    # Select the tensors for which one of the superbases is obtuse\n",
    "    # This step is only needed if one intends to reproduce the consistent schem\n",
    "    if D is not None:\n",
    "        nD = np.prod(D.shape[2:]); D=D.reshape((2,2,1,1,nD))\n",
    "        nSB=SB.shape[2]; SB=SB.reshape((2,3,nSB,1))\n",
    "        scals = lp.dot_VAV(SB,D,np.roll(SB,axis=1,shift=1))\n",
    "        # Test if a given superbase is obtuse for a given tensor\n",
    "        is_obtuse = scals.max(axis=0)<=0 \n",
    "        # Test if a given tensor admits an obtuse superbase among the proposed ones\n",
    "        is_admissible = is_obtuse.any(axis=0)\n",
    "        D=D.squeeze(axis=(2,3))\n",
    "        D=D[:,:,is_admissible]\n",
    "    \n",
    "\n",
    "    # Decompose the tensors\n",
    "    coefs,offsets = Selling.Decomposition(D)\n",
    "    coefs = bc.as_field(coefs)\n",
    "    \n",
    "    # Discretization\n",
    "    d=2.\n",
    "    alpha = 1./(d*f**(1./d))\n",
    "    d2u = bc.Diff2(u,offsets)    \n",
    "    detD = bc.as_field(lp.det(D))\n",
    "    res = detD**(1./d)-alpha*(coefs*d2u).sum(axis=0)\n",
    "    # Note : optimization opportunity using the envelope theorem\n",
    "    residue = res.max(axis=0) \n",
    "    return np.where(bc.interior,residue,u-bc.grid_values)"
   ]
  },
  {
   "cell_type": "code",
   "execution_count": null,
   "metadata": {},
   "outputs": [],
   "source": [
    "np.random.seed(42)\n",
    "u = np.random.uniform(-1,1,bc_square.shape)\n",
    "bc_mock = Domain.MockDirichlet(u.shape,1.,0.)\n",
    "params = (SB0,f,bc_mock)\n",
    "\n",
    "residue_consistent = SchemeUniform(u,*params)\n",
    "\n",
    "def error(n): \n",
    "    mus=np.linspace(0,0.5,n,endpoint=False)+0.25/n\n",
    "    thetas=np.linspace(0,np.pi,n,endpoint=False)\n",
    "    residue_sampling = SchemeSampling(u,mus,thetas,*params)\n",
    "\n",
    "    LInfNorm=ad.Optimization.norm_infinity\n",
    "    residue_diff = residue_sampling-residue_consistent\n",
    "    return LInfNorm(residue_sampling-residue_consistent)"
   ]
  },
  {
   "cell_type": "code",
   "execution_count": null,
   "metadata": {},
   "outputs": [],
   "source": [
    "samples = [5,8,12,16,20,25,30,35,40] #,50,60,70,80,100]\n",
    "errors = [error(n) for n in samples]"
   ]
  },
  {
   "cell_type": "markdown",
   "metadata": {},
   "source": [
    "The sampling based scheme does converge toward the consistent scheme, with the expected convergence order $O(n^{-1})$."
   ]
  },
  {
   "cell_type": "code",
   "execution_count": null,
   "metadata": {},
   "outputs": [],
   "source": [
    "isamples=1./np.array(samples); plt.title(\"Convergence of the sampling based scheme toward the consistent scheme\")\n",
    "plt.loglog(isamples,errors, isamples,isamples);"
   ]
  },
  {
   "cell_type": "markdown",
   "metadata": {},
   "source": [
    "### 4.2 The monotone and consistent schemes have identical solutions\n",
    "\n",
    "The implementation of the MALBR scheme and of the Uniformly elliptic schemes are quite different. \n",
    "However, it can be shown that a solution to the first scheme is a solution to the second scheme, and conversely.\n",
    "\n",
    "This is not a convergence result as a grid is refined. It is a result valid at any fixed scheme, up to machine precision due to rounding errors. Note also that the scheme residues are in general different if they are non-zero."
   ]
  },
  {
   "cell_type": "code",
   "execution_count": null,
   "metadata": {},
   "outputs": [],
   "source": [
    "params = (SB2,f,bc_convex)\n",
    "solution_Uniform = newton_root(SchemeUniform_Opt,quadratic-2.,params) "
   ]
  },
  {
   "cell_type": "code",
   "execution_count": null,
   "metadata": {},
   "outputs": [],
   "source": [
    "LInfNorm(SchemeMALBR_Opt(solution_Uniform,*params))"
   ]
  },
  {
   "cell_type": "markdown",
   "metadata": {},
   "source": [
    "### 4.3 Comparison with automatic differentiation\n",
    "\n",
    "We rely on automatic differentiation to compute the derivatives of an analytic function, and evaluate the PDE operator of interest. We then compute the numerical scheme residue on a synthetic problem with a known solution."
   ]
  },
  {
   "cell_type": "code",
   "execution_count": null,
   "metadata": {
    "tags": [
     "ExportCode"
    ]
   },
   "outputs": [],
   "source": [
    "def Hessian_ad(u,x):\n",
    "    x_ad = ad.Dense2.identity(constant=x,shape_free=(2,))\n",
    "    return u(x_ad).hessian()\n",
    "def MongeAmpere_ad(u,x):\n",
    "    return lp.det(Hessian_ad(u,x))"
   ]
  },
  {
   "cell_type": "code",
   "execution_count": null,
   "metadata": {},
   "outputs": [],
   "source": [
    "def Residue_ad(u,SB,dom,X,scheme=SchemeMALBR):\n",
    "    bc = Domain.Dirichlet(dom,u,X)\n",
    "    rhs = MongeAmpere_ad(u,X)\n",
    "    residue = scheme(u(X),SB,rhs,bc)\n",
    "    residue[bc.not_interior]=0\n",
    "    return residue"
   ]
  },
  {
   "cell_type": "markdown",
   "metadata": {},
   "source": [
    "It is also interesting to know the condition number of the hessian of our analytic function, in order to wisely choose the set of superbases. The condition number is defined as the ratio of the largest and smallest eigenvalue."
   ]
  },
  {
   "cell_type": "code",
   "execution_count": null,
   "metadata": {},
   "outputs": [],
   "source": [
    "from agd.Metrics import Riemann\n",
    "def HessianConditionNumber(u,x):\n",
    "    return Riemann(Hessian_ad(u,x)).anisotropy()**2"
   ]
  },
  {
   "cell_type": "code",
   "execution_count": null,
   "metadata": {},
   "outputs": [],
   "source": [
    "def test_quadratic(x): # Positive definite by non-isotropic quadratic function\n",
    "    return x[0]**2+2*x[1]**2+2*1.3*x[0]*x[1] \n",
    "def test_polynomial(x):\n",
    "    return (x[0]**2+x[1]**2)**2"
   ]
  },
  {
   "cell_type": "markdown",
   "metadata": {},
   "source": [
    "Recall that `SB0` (resp. `SB1`, `SB2`) are guaranteed to yield a consistent discretization of the Monge-Ampere operator provided the hessian condition number is bounded by $5$ (resp. $15$, $30$)."
   ]
  },
  {
   "cell_type": "code",
   "execution_count": null,
   "metadata": {},
   "outputs": [],
   "source": [
    "np.max(HessianConditionNumber(test_quadratic,X)),np.max(HessianConditionNumber(test_polynomial,X))"
   ]
  },
  {
   "cell_type": "markdown",
   "metadata": {},
   "source": [
    "We know for sure that `SB2` is adequate for the quadratic polynomial - but it happens, by chance, that `SB1` also does the job, see below. Also, `SB0` (hence also `SB1` and `SB2`) will work for the polynomial test function."
   ]
  },
  {
   "cell_type": "code",
   "execution_count": null,
   "metadata": {},
   "outputs": [],
   "source": [
    "dom_convex = Domain.Union(Domain.Ball(),Domain.Box())\n",
    "[norm(Residue_ad(test_quadratic,SB,dom_convex,X),ord=np.inf) for SB in (SB0,SB1,SB2)]"
   ]
  },
  {
   "cell_type": "markdown",
   "metadata": {},
   "source": [
    "We next consider the impact of the grid scale on the residue norm."
   ]
  },
  {
   "cell_type": "code",
   "execution_count": null,
   "metadata": {},
   "outputs": [],
   "source": [
    "def X_(n):\n",
    "    aX = np.linspace(-1,1,n)\n",
    "    return np.array(np.meshgrid(aX,aX,indexing='ij'))"
   ]
  },
  {
   "cell_type": "markdown",
   "metadata": {},
   "source": [
    "In the interior, the numerical scheme is second order accurate. "
   ]
  },
  {
   "cell_type": "code",
   "execution_count": null,
   "metadata": {},
   "outputs": [],
   "source": [
    "print(\"L^1 norm of MALBR residue at resolution 25,50,100\")\n",
    "[norm(Residue_ad(test_polynomial,SB0,dom_convex,X_(n)),ord=1,averaged=True) for n in (26,50,100)]"
   ]
  },
  {
   "cell_type": "markdown",
   "metadata": {},
   "source": [
    "But the scheme is only first order accurate at the boundary."
   ]
  },
  {
   "cell_type": "code",
   "execution_count": null,
   "metadata": {},
   "outputs": [],
   "source": [
    "print(\"L^Infinity norm of MALBR residue at resolution 25,50,100\")\n",
    "[norm(Residue_ad(test_polynomial,SB0,dom_convex,X_(n)),ord=np.inf) for n in (26,50,100)]"
   ]
  },
  {
   "cell_type": "code",
   "execution_count": null,
   "metadata": {},
   "outputs": [],
   "source": [
    "print(\"L^1 norm of uniformly elliptic scheme residue at resolution 25,50,100\")\n",
    "[norm(Residue_ad(test_polynomial,SB1,dom_convex,X_(n),scheme=SchemeUniform),ord=1,averaged=True) for n in (25,50,100)]"
   ]
  },
  {
   "cell_type": "code",
   "execution_count": null,
   "metadata": {},
   "outputs": [],
   "source": [
    "print(\"L^Infinity norm of uniformly elliptic scheme residue at resolution 25,50,100\")\n",
    "[norm(Residue_ad(test_polynomial,SB0,dom_convex,X_(n),scheme=SchemeUniform),ord=np.inf) for n in (25,50,100)]"
   ]
  },
  {
   "cell_type": "code",
   "execution_count": null,
   "metadata": {},
   "outputs": [],
   "source": []
  }
 ],
 "metadata": {
  "celltoolbar": "Format de la Cellule Texte Brut",
  "kernelspec": {
   "display_name": "Python 3",
   "language": "python",
   "name": "python3"
  },
  "language_info": {
   "codemirror_mode": {
    "name": "ipython",
    "version": 3
   },
   "file_extension": ".py",
   "mimetype": "text/x-python",
   "name": "python",
   "nbconvert_exporter": "python",
   "pygments_lexer": "ipython3",
   "version": "3.8.1"
  }
 },
 "nbformat": 4,
 "nbformat_minor": 2
}

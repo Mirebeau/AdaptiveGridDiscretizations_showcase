{
 "cells": [
  {
   "cell_type": "markdown",
   "metadata": {},
   "source": [
    "# Adaptive grid discretizations\n",
    "## A set of tools for discretizing anisotropic PDEs on cartesian grids\n",
    "# Volume : Non-divergence form PDEs"
   ]
  },
  {
   "cell_type": "markdown",
   "metadata": {},
   "source": [
    "This collection of notebooks presents a series of general principles and reference implementations for *second order Partial Differential Equations (PDEs) in non-divergence form*, using *adaptive finite difference schemes on cartesian grids*. The addressed PDEs are either anisotropic or non-linear.\n",
    "* *Anisotropy* means that some directions in the domain play, locally, a preferred role. A typical instance of an anisotropic PDE is anisotropic diffusion\n",
    "$$\n",
    "    \\partial_t u = \\mathrm{Tr}(D \\nabla^2 u)\n",
    "$$\n",
    "<!---, e.g. in divergence form\n",
    "$$\n",
    "    \\partial_t u = \\mathrm{div}(D \\nabla u)\n",
    "$$\n",
    "-->\n",
    "which smoothes the map $u$ preferentially along the eigenvectors associated to the large eigenvalues of $D$. In the special case where $D$ proportional to the identity matrix, the PDE becomes isotropic. Our approach also encompasses some non-linear operators, such as the Monge-Ampere operator, when they can be expressed as extrema of diffusion operators, e.g. in the form\n",
    "$$\n",
    "    \\max_{D \\in \\mathcal D} \\mathrm{Tr}(D \\nabla^2 u).\n",
    "$$\n",
    "* *Finite difference schemes* are a numerical approach to the discretization of PDEs, based on the approximation of the first and second derivatives of a given function $u$ in the form\n",
    "$$\n",
    "\\begin{aligned}\n",
    "    <\\nabla u(x),e> &= \\frac{u(x+he)-u(x)} h +{\\mathcal O}(h), \\\\\n",
    "    <e,\\nabla^2 u(x) \\cdot e> &= \\frac{u(x+he)-2u(x)+u(x-h e)} {h^2} +{\\mathcal O}(h^2).\n",
    "\\end{aligned}\n",
    "$$\n",
    "The direction of differentiation, the vector $e$, needs to belong to $Z^d$ for these formulas to make sense on a cartesian grid of scale $h>0$. A numerical scheme for a PDE based on finite differences is said adaptive if it involves such expressions for vectors $e\\in Z^d$ depending on the problem data, as opposed to e.g. the immediate neighbors on the cartesian grid.\n",
    "\n",
    "**Acknowledgement** Some of the experiments presented in this series of notebooks are part of the ongoing PhD thesis of Guillaume Bonnet, in co-direction with Frederic Bonnans."
   ]
  },
  {
   "cell_type": "markdown",
   "metadata": {},
   "source": [
    "### Additional notes\n",
    "\n",
    "Latest version of this summary [(view online)](http://nbviewer.jupyter.org/urls/rawgithub.com/Mirebeau/AdaptiveGridDiscretizations/master/Notebooks_NonDiv/Summary.ipynb)\n",
    "\n",
    "**Github repository** to run and modify the examples on your computer.\n",
    "[AdaptiveGridDiscretizations](https://github.com/Mirebeau/AdaptiveGridDiscretizations)\n",
    "\n",
    "**Mathematical foundations.** An essential ingredient of our adaptive discretization schemes is a technique for decomposing positive definite tensors $D$ in a way that allows the design of finite difference schemes. This set of tools, and our implementation, are presented in the first part.\n",
    "\n",
    "**Domain dimension.** Unless otherwise specified, the numerical experiments presented in the notebooks involve two dimensional PDEs."
   ]
  },
  {
   "cell_type": "markdown",
   "metadata": {},
   "source": [
    "**Github repository** to run and modify the examples on your computer.\n",
    "[AdaptiveGridDiscretizations](https://github.com/Mirebeau/AdaptiveGridDiscretizations)\n",
    "\n",
    "\n",
    "# Table of contents\n",
    "[**Main summary**](../Summary.ipynb), including the other volumes of this work. \n",
    "### A. One space dimension\n",
    "\n",
    " * I. [Static problems](MonotoneSchemes1D.ipynb)\n",
    "  1. A first order linear equation\n",
    "  2. A second order linear equation\n",
    "  3. A non-linear equation\n",
    "\n",
    "\n",
    " * II. [Advection and diffusion](Time1D_NonDiv.ipynb)\n",
    "  1. Advection\n",
    "  2. Diffusion\n",
    "\n",
    "\n",
    " * III. [Optimal transport non-linearities and boundary conditions](OTBoundary1D.ipynb)\n",
    "  1. Second boundary conditions\n",
    "  2. Non-linearity in the gradient\n",
    "\n",
    "\n",
    "### B. Monotone numerical schemes\n",
    "\n",
    " * I. [Linear partial differential equations](LinearMonotoneSchemes2D.ipynb)\n",
    "  1. A first order linear equation\n",
    "  2. A second order linear equation\n",
    "  3. Second-order scheme with upwind first order differences\n",
    "\n",
    "\n",
    " * II. [PDEs with a first order non-linearity](NonlinearMonotoneFirst2D.ipynb)\n",
    "  1. Numerical schemes\n",
    "  2. Pure eikonal equations\n",
    "\n",
    "\n",
    " * III. [PDEs with a second order non-linearity](NonlinearMonotoneSecond2D.ipynb)\n",
    "  1. Non-Monotone discretization (purposedly fails)\n",
    "  2. Monotone discretization by sampling of the control space\n",
    "  3. Monotone and consistent discretization\n",
    "  4 Validation\n",
    "\n",
    "\n",
    " * IV. [The Monge-Ampere equation](MongeAmpere.ipynb)\n",
    "  1. Naive non-monotone discretization (purposedly fails)\n",
    "  2. The MA-LBR scheme\n",
    "  3. Uniformly elliptic scheme\n",
    "  4. Validation\n",
    "\n",
    "\n",
    "### C. Eikonal equation and variants\n",
    "\n",
    " * I. [Eulerian scheme for Riemannian distances](EikonalEulerian.ipynb)\n",
    "  1. The update operator\n",
    "  2. Iteration policies\n",
    "  3. Anisotropic metric\n",
    "  4. GPU acceleration\n",
    "\n",
    "\n",
    " * II. [Shape from shading with oblique lighting](ShapeFromShading.ipynb)\n",
    "  1. Reformulation of the PDE and discretization\n",
    "  2. Implementation\n",
    "  3. Testing\n",
    "  4. GPU acceleration\n",
    "\n",
    "\n",
    "### D. Time dependent optimal control\n",
    "\n",
    " * I. [Boat routing, with a generic cost](BoatRoutingGeneric_Time.ipynb)\n",
    "  1. The numerical scheme\n",
    "  2. Quadratic cost\n",
    "  3. Data driven cost\n",
    "  4. Complex environment\n",
    "\n",
    "\n",
    " * II. [Boat routing, with a quadratic cost](BoatRouting_Time.ipynb)\n",
    "  1. The model and numerical scheme\n",
    "  2. Constant medium in space and time\n",
    "  3. Varying medium in space, constant in time\n",
    "  4. Extracting the optimal paths\n",
    "  5. Varying medium in space and time"
   ]
  },
  {
   "cell_type": "code",
   "execution_count": 1,
   "metadata": {
    "execution": {
     "iopub.execute_input": "2021-12-09T21:29:50.247797Z",
     "iopub.status.busy": "2021-12-09T21:29:50.247268Z",
     "iopub.status.idle": "2021-12-09T21:29:50.255097Z",
     "shell.execute_reply": "2021-12-09T21:29:50.254552Z"
    }
   },
   "outputs": [],
   "source": [
    "#import sys; sys.path.append(\"..\") # Allow imports from parent directory\n",
    "#from Miscellaneous import TocTools; print(TocTools.displayTOCs('NonDiv'))"
   ]
  }
 ],
 "metadata": {
  "celltoolbar": "Format de la Cellule Texte Brut",
  "kernelspec": {
   "display_name": "Python 3",
   "language": "python",
   "name": "python3"
  },
  "language_info": {
   "codemirror_mode": {
    "name": "ipython",
    "version": 3
   },
   "file_extension": ".py",
   "mimetype": "text/x-python",
   "name": "python",
   "nbconvert_exporter": "python",
   "pygments_lexer": "ipython3",
   "version": "3.9.7"
  }
 },
 "nbformat": 4,
 "nbformat_minor": 2
}

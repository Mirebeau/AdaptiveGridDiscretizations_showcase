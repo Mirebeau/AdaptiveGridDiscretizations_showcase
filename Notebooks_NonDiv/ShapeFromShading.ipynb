{
 "cells": [
  {
   "cell_type": "markdown",
   "metadata": {},
   "source": [
    "# Adaptive PDE discretizations on cartesian grids\n",
    "## Volume : Non-divergence form PDEs\n",
    "## Part : Applications\n",
    "## Chapter : The shape from shading equation\n",
    "\n",
    "In this notebook, we propose a discretization of the shape from shading PDE, which reads\n",
    "\\begin{equation}\n",
    "    I(p) = I_0 a \\frac{\\alpha \\partial_x u(p) + \\beta \\partial_y u(p) + \\gamma}{\\sqrt{1+\\|\\nabla u(p)\\|^2}}\n",
    "\\end{equation}\n",
    "for all $p \\in \\Omega$, and $u(p) = 0$ for all $p \\in \\partial \\Omega$.\n",
    "\n",
    "we denoted:\n",
    "- $\\Omega\\subset \\mathbb R^2$ is a bounded domain.\n",
    "- $u : \\Omega \\to \\mathbb R$ is an unknown surface elevation, to be computed.\n",
    "- $I_0$ is the light source intensity, and $a$ the albedo of the surface.\n",
    "- $I: \\Omega \\to \\mathbb R_+$ the reflected intensity.\n",
    "- The vector $(\\alpha, \\beta, -\\gamma)$ is unit and defines the incident direction of the light rays, and $\\gamma>0$. Without loss of generality, up to a reflection of the axes, we can assume that $\\alpha\\geq 0$ and $\\gamma\\geq 0$.\n",
    "\n",
    "The modeling is that the normal to the surface is proportional $(-\\nabla u(p), 1)$, hence the deposited light density is proportional to the cosine of the angle difference\n",
    "\\begin{equation}\n",
    "\\frac{(-\\nabla u(p),1)}{\\sqrt{1+\\|\\nabla u(p)\\|^2}} \\cdot (\\alpha, \\beta, -\\gamma).\n",
    "\\end{equation}\n",
    "We make the assumption $I(p)>0$ everywhere, which amounts to say that no shadows are cast. It implies that the above scalar product is positive.\n",
    "\n",
    "**Note** The numerical method developed in this notebook does not take advantage of the specific techniques developed for Anisotropic Monotone PDEs."
   ]
  },
  {
   "cell_type": "markdown",
   "metadata": {},
   "source": [
    "[**Summary**](Summary.ipynb) of volume Non-Divergence form PDEs, this series of notebooks.\n",
    "\n",
    "[**Main summary**](../Summary.ipynb) of the Adaptive Grid Discretizations \n",
    "\tbook of notebooks, including the other volumes.\n",
    "\n",
    "# Table of contents\n",
    "  * [1. Reformulation of the PDE and discretization](#1.-Reformulation-of-the-PDE-and-discretization)\n",
    "  * [2. Implementation](#2.-Implementation)\n",
    "  * [3. Testing](#3.-Testing)\n",
    "\n",
    "\n",
    "\n",
    "**Acknowledgement.** The experiments presented in these notebooks are part of ongoing research, \n",
    "some of it with PhD student Guillaume Bonnet, in co-direction with Frederic Bonnans.\n",
    "\n",
    "Copyright Jean-Marie Mirebeau, University Paris-Sud, CNRS, University Paris-Saclay"
   ]
  },
  {
   "cell_type": "markdown",
   "metadata": {},
   "source": [
    "## 0. Importing the required libaries"
   ]
  },
  {
   "cell_type": "code",
   "execution_count": 1,
   "metadata": {},
   "outputs": [],
   "source": [
    "import sys; sys.path.insert(0,\"..\") # Allow import of agd from parent directory (useless if conda package installed)\n",
    "#from Miscellaneous import TocTools; TocTools.displayTOC('ShapeFromShading','NonDiv')"
   ]
  },
  {
   "cell_type": "code",
   "execution_count": 2,
   "metadata": {},
   "outputs": [],
   "source": [
    "import numpy as np\n",
    "import matplotlib.pyplot as plt"
   ]
  },
  {
   "cell_type": "markdown",
   "metadata": {},
   "source": [
    "## 1. Reformulation of the PDE and discretization\n",
    "\n",
    "We rewrite the PDE as \n",
    "\\begin{equation}\n",
    "c(p) \\sqrt{1+\\|\\nabla u(p)\\|^2} = (\\alpha,\\beta) \\cdot \\nabla u(p) + \\gamma,\n",
    "\\end{equation}\n",
    "where $c(p) :=  I(p)/(I_0 a)$. \n",
    "\n",
    "Let us denote this equation as $lhs=rhs$. In order to solve it we need to design a monotone scheme for one of the following.\n",
    "\n",
    "**Note on squaring both sides of the inequality.**\n",
    "It is very tempting to get rid of the square root, and consider the system $lhs^2 - rhs^2 = 0$, which is a quadratic form with respect to $\\nabla u(p)$. However, the second degree part in this equation is not positive definite in general, unless we do strong assumptions on the coefficients.\n",
    "After some thinking, this approach is abandoned.\n",
    "\n",
    "\n",
    "**Discretization.** We consider the PDE $lhs - rhs = 0$, which we discretize as follows:\n",
    "$$\n",
    "    c(p)\\sqrt{1+(\\delta^+_x u(p))^2 + (\\delta_y^+ u(p))^2} +\\alpha D^+_{-x} u(p) + \\beta D^+_{-x} u(p) - \\gamma = 0,\n",
    "$$\n",
    "where we denoted \n",
    "\\begin{align}\n",
    "    \\delta_x^+ u(p) &:= h^{-1}\\max \\{0,u(p)-u(p-h e_x), u(p)-u(p+h e_x)\\}, \\\\\n",
    "    D^+_{-x} u(p) &= h^{-1}(u(p)-u(p+h e_x)),\n",
    "\\end{align}\n",
    "with $e_x = (1,0)$ the unit vector along the $x$-axis, and $h$ the gridscale. Likewise in the $y$ direction.\n",
    "\n",
    "**Existence of a solution.** \n",
    "The above discrete system of equations admits a  sub-solution and a super solution, obtained as affine functions\n",
    "\\begin{equation}\n",
    "    u(p) = C + p\\cdot v.\n",
    "\\end{equation}\n",
    "\n",
    "The constant term $C$ should be chosen so as to be below or above zero respectively at the boundary. The gradient should be chosen as follows.\n",
    "-  sub-solution. Choose $v = (\\alpha,\\beta)/\\gamma$ so that one has the equality $(\\alpha,\\beta)\\cdot v+\\gamma = \\sqrt{1+\\|v\\|^2}$ - indeed  $\\alpha^2+\\beta^2+\\gamma^2 =1$ by assumption. Conclude recalling that $c(p)<1$.\n",
    "-  super-solution. Choose an $v$ such that $(\\alpha,\\beta) \\cdot v + \\gamma = 0$. Conclude recalling that $c(p)>0$. \n",
    "\n",
    "<!---\n",
    "\\begin{equation}\n",
    "    c(p)\\sqrt{1+\\|v\\|^2} - (\\alpha,\\beta)\\cdot v -\\gamma >0.\n",
    "\\end{equation}\n",
    "\n",
    "For instance, we can choose a multiple of $(\\alpha,\\beta)$ with sufficiently large norm. (the vector $v$ can point in an arbitrary direction if $(\\alpha,\\beta)=0$.\n",
    "--->\n",
    "\n",
    "Since the discretization is monotone, there is a solution.\n",
    "\n",
    "**Jacobi iteration.**\n",
    "We start with $u_0 = 0$, and iteratively obtain $u_{n+1}$ by solving pointwise a univariate equation. This equation is such that $u_{n+1}(p)$, with neighboring values unchanged, solves the discretized equation.\n",
    "\n",
    "By monotony of the discretization, and since the initialization is a sub-solution, this  defines an increasing sequence of sub-solutions. The sequence converges, and the limit is a solution."
   ]
  },
  {
   "cell_type": "markdown",
   "metadata": {},
   "source": [
    "## 2. Implementation\n",
    "\n",
    "The jacobi iteration requires solving the following equation\n",
    "\\begin{equation}\n",
    "    c(p)\\sqrt{1+\\frac{(\\lambda-v_x)^2_+ +(\\lambda-v_y)^2_+}{h^2}} + \\alpha \\frac{\\lambda-w_x} h +\\beta\\frac{\\lambda-w_y} h - \\gamma = 0,\n",
    "\\end{equation}\n",
    "where $a_+ := \\max{0,a}$ for any $a \\in \\mathbb R$, and where\n",
    "\\begin{align}\n",
    "    v_x & := \\min\\{u(x+h e_x),u(x-he_x)\\}, & \n",
    "    w_x & := u(x+h e_x),\n",
    "\\end{align}\n",
    "and likewise for $v_y$, $w_y$.\n",
    "\n",
    "We write this as $lhs^2 == rhs^2$, solve a quadratic equation. Then we select the single root $\\lambda$ such that \n",
    "\\begin{equation}\n",
    "\\gamma \\geq \\alpha \\frac{\\lambda-w_x} h + \\beta \\frac{\\lambda-w_y} h.\n",
    "\\end{equation}\n",
    "This must be the smallest root.\n",
    "If the obtained value satisfies $\\lambda<v_x$ or $\\lambda<v_y$, then the corresponding term is removed from the equation and the process is repeated.\n",
    "\n",
    "**The quadratic equation.** It reads\n",
    "\\begin{equation*}\n",
    "c(p)^2 (1+\\frac{(\\lambda-v_x)^2_+ +(\\lambda-v_y)^2_+}{h^2}) - (\\alpha \\frac{\\lambda-w_x} h +\\beta\\frac{\\lambda-w_y} h - \\gamma)^2 = 0\n",
    "\\end{equation*}\n",
    "\n",
    "That is, assuming $\\lambda>v_x$ and $\\lambda>v_y$,\n",
    "\\begin{equation}\n",
    "    \\lambda^2 (2 c(p)^2  - (\\alpha+\\beta)^2)\n",
    "    - 2 \\lambda (c(p)^2 (v_x+v_y) - (\\alpha+\\beta)(\\alpha w_x+\\beta w_y +h\\gamma)) + \n",
    "    (c(p)^2 (h^2+v_x^2+v_y^2) - (\\gamma h +\\alpha w_x+\\beta w_y)^2) = 0\n",
    "\\end{equation}"
   ]
  },
  {
   "cell_type": "code",
   "execution_count": 3,
   "metadata": {},
   "outputs": [],
   "source": [
    "def EvalScheme(cp,u,uc,params):\n",
    "    alpha,beta,gamma,h = params\n",
    "    wx = np.roll(u,-1,axis=0)\n",
    "    wy = np.roll(u,-1,axis=1)\n",
    "    vx = np.minimum(wx,np.roll(u,1,axis=0))\n",
    "    vy = np.minimum(wy,np.roll(u,1,axis=1))\n",
    "\n",
    "    return (cp*np.sqrt(1+(np.maximum(0,uc-vx)**2+np.maximum(0,uc-vy)**2)/h**2) +\n",
    "            alpha*(uc-wx)/h+beta*(uc-wy)/h-gamma)"
   ]
  },
  {
   "cell_type": "code",
   "execution_count": 4,
   "metadata": {},
   "outputs": [],
   "source": [
    "def LocalSolve(cp,vx,vy,wx,wy,params):\n",
    "    alpha,beta,gamma,h = params\n",
    "    # Trying with two active positive parts\n",
    "    \n",
    "    # Quadratic equation coefficients.\n",
    "    # a lambda^2 - 2 b lambda + c =0\n",
    "    a = (2.*cp**2 - (alpha+beta)**2)\n",
    "    b = cp**2 *(vx+vy) - (alpha+beta)*(alpha*wx+beta*wy+h*gamma)\n",
    "    c = cp**2*(h**2+vx**2+vy**2)-(gamma*h+alpha*wx+beta*wy)**2\n",
    "    \n",
    "    delta = b**2 - a*c\n",
    "    good = np.logical_and(delta>=0,a!=0)\n",
    "    u = 0*cp;\n",
    "    # TODO : Is that the correct root selection ?\n",
    "    u[good] = (b[good]+np.sqrt(delta[good]))/a[good] \n",
    "\n",
    "    vmax = np.maximum(vx,vy)\n",
    "    good = np.logical_and(good,u>=vmax)\n",
    "    \n",
    "    # Trying with one active positive part\n",
    "    # TODO : restrict computations to not good points to save cpu time ?\n",
    "    \n",
    "    vmin = np.minimum(vx,vy)\n",
    "    a = (cp**2 - (alpha+beta)**2)\n",
    "    b = cp**2 *vmin - (alpha+beta)*(alpha*wx+beta*wy+h*gamma)\n",
    "    c = cp**2*(h**2+vmin**2)-(gamma*h+alpha*wx+beta*wy)**2\n",
    "\n",
    "    delta = b**2 - a*c\n",
    "    ggood = np.logical_and(np.logical_and(delta>=0,a!=0), 1-good)\n",
    "    u[ggood] = (b[ggood] +np.sqrt(delta[ggood]))/a[ggood]\n",
    "    \n",
    "    good = np.logical_or(good,np.logical_and(ggood,u>=vmin))\n",
    "    \n",
    "    # No active positive part\n",
    "    # equation becomes linear, a lambda - b = 0\n",
    "    a = alpha+beta+0.*cp\n",
    "    b = alpha*wx+beta*wy +gamma*h - cp*h\n",
    "    bad = np.logical_not(good)\n",
    "    u[bad]=b[bad]/a[bad]\n",
    "    return u\n",
    "    \n",
    "def JacobiIteration(u,Omega,c,params):\n",
    "    wx = np.roll(u,-1,axis=0)\n",
    "    wy = np.roll(u,-1,axis=1)\n",
    "    vx = np.minimum(wx,np.roll(u,1,axis=0))\n",
    "    vy = np.minimum(wy,np.roll(u,1,axis=1))\n",
    "    \n",
    "#    sol=LocalSolve(c,vx,vy,wx,wy,params)\n",
    "    sol = u+LocalSolve(c,vx-u,vy-u,wx-u,wy-u,params)\n",
    "    u[Omega] = sol[Omega]\n",
    "    "
   ]
  },
  {
   "cell_type": "markdown",
   "metadata": {},
   "source": [
    "## 3. Testing"
   ]
  },
  {
   "cell_type": "code",
   "execution_count": 5,
   "metadata": {},
   "outputs": [],
   "source": [
    "h=1/100.\n",
    "X,Y = np.meshgrid(np.arange(0,1,h),np.arange(0,1,h))"
   ]
  },
  {
   "cell_type": "code",
   "execution_count": 6,
   "metadata": {},
   "outputs": [],
   "source": [
    "# The height map\n",
    "\n",
    "\n",
    "# Three bumps\n",
    "height = np.maximum(0*X,\n",
    "                    np.maximum(\n",
    "                    0.3-3.*((X-0.4)**2+(Y-0.5)**2),\n",
    "                        np.maximum(\n",
    "                    0.25-3.*((X-0.65)**2+(Y-0.6)**2),\n",
    "                    0.25-3.*((X-0.6)**2+(Y-0.35)**2)\n",
    "                    )))\n",
    "\n",
    "# Single bump\n",
    "#height = np.maximum(0*X,0.5-3.*((X-0.5)**2+(Y-0.5)**2))\n",
    "\n",
    "\n",
    "# Volcano\n",
    "#R = np.sqrt((X-0.5)**2+(Y-0.5)**2);\n",
    "#height = np.maximum(0.*X, 0.05+(1+X)*1.5*(R**2-6*R**4) )\n",
    "\n",
    "Omega = height!=0"
   ]
  },
  {
   "cell_type": "code",
   "execution_count": 7,
   "metadata": {},
   "outputs": [
    {
     "data": {
      "image/png": "[encoded data removed]",
      "text/plain": [
       "<Figure size 432x288 with 1 Axes>"
      ]
     },
     "metadata": {
      "needs_background": "light"
     },
     "output_type": "display_data"
    }
   ],
   "source": [
    "plt.contourf(X,Y,height);"
   ]
  },
  {
   "cell_type": "code",
   "execution_count": 8,
   "metadata": {},
   "outputs": [
    {
     "data": {
      "image/png": "[encoded data removed]",
      "text/plain": [
       "<Figure size 432x288 with 1 Axes>"
      ]
     },
     "metadata": {
      "needs_background": "light"
     },
     "output_type": "display_data"
    }
   ],
   "source": [
    "plt.contourf(X,Y,Omega);"
   ]
  },
  {
   "cell_type": "code",
   "execution_count": 9,
   "metadata": {},
   "outputs": [],
   "source": [
    "# Setting the parameters\n",
    "omega = 0.15*np.array([1,2]); #0.15\n",
    "alpha,beta,gamma = np.append(omega,1)/np.linalg.norm(np.append(omega,1))\n",
    "params = alpha,beta,gamma,h"
   ]
  },
  {
   "cell_type": "code",
   "execution_count": 10,
   "metadata": {},
   "outputs": [
    {
     "data": {
      "text/plain": [
       "(0.14221363894199318, 0.28442727788398636, 0.9480909262799545)"
      ]
     },
     "execution_count": 10,
     "metadata": {},
     "output_type": "execute_result"
    }
   ],
   "source": [
    "alpha,beta,gamma"
   ]
  },
  {
   "cell_type": "code",
   "execution_count": 11,
   "metadata": {},
   "outputs": [],
   "source": [
    "hx,hy = np.gradient(height,h)\n",
    "Intensity = (alpha*hx+beta*hy+gamma)/np.sqrt(1+hx**2+hy**2)"
   ]
  },
  {
   "cell_type": "code",
   "execution_count": 12,
   "metadata": {},
   "outputs": [
    {
     "data": {
      "image/png": "[encoded data removed]",
      "text/plain": [
       "<Figure size 432x288 with 2 Axes>"
      ]
     },
     "metadata": {
      "needs_background": "light"
     },
     "output_type": "display_data"
    }
   ],
   "source": [
    "plt.contourf(X,Y,Intensity);plt.colorbar();"
   ]
  },
  {
   "cell_type": "code",
   "execution_count": 13,
   "metadata": {},
   "outputs": [
    {
     "data": {
      "text/plain": [
       "0.2142396137463398"
      ]
     },
     "execution_count": 13,
     "metadata": {},
     "output_type": "execute_result"
    }
   ],
   "source": [
    "# Must be positive\n",
    "np.min(Intensity[:])"
   ]
  },
  {
   "cell_type": "code",
   "execution_count": 14,
   "metadata": {},
   "outputs": [
    {
     "data": {
      "image/png": "[encoded data removed]",
      "text/plain": [
       "<Figure size 432x288 with 2 Axes>"
      ]
     },
     "metadata": {
      "needs_background": "light"
     },
     "output_type": "display_data"
    }
   ],
   "source": [
    "# Must be zero, up to first order approx of derivatives\n",
    "plt.contourf(X,Y,EvalScheme(Intensity,height,height,[alpha,beta,gamma,h]));\n",
    "plt.colorbar();"
   ]
  },
  {
   "cell_type": "code",
   "execution_count": 15,
   "metadata": {},
   "outputs": [],
   "source": [
    "U=1.+0.*X; U[np.logical_not(Omega)]=0; # Start with an overestimate : fast convergence\n",
    "#U=0.*X;  # Start with an under-estimate : slow convergence\n",
    "JacobiIteration(U,Omega,Intensity,[alpha,beta,gamma,h])"
   ]
  },
  {
   "cell_type": "code",
   "execution_count": 16,
   "metadata": {},
   "outputs": [],
   "source": [
    "for i in range(200):\n",
    "    JacobiIteration(U,Omega,Intensity,[alpha,beta,gamma,h])"
   ]
  },
  {
   "cell_type": "code",
   "execution_count": 17,
   "metadata": {},
   "outputs": [
    {
     "data": {
      "image/png": "[encoded data removed]",
      "text/plain": [
       "<Figure size 432x288 with 2 Axes>"
      ]
     },
     "metadata": {
      "needs_background": "light"
     },
     "output_type": "display_data"
    }
   ],
   "source": [
    "plt.contourf(X,Y,U); plt.colorbar();"
   ]
  },
  {
   "cell_type": "code",
   "execution_count": 18,
   "metadata": {},
   "outputs": [
    {
     "data": {
      "image/png": "[encoded data removed]",
      "text/plain": [
       "<Figure size 432x288 with 2 Axes>"
      ]
     },
     "metadata": {
      "needs_background": "light"
     },
     "output_type": "display_data"
    }
   ],
   "source": [
    "plt.contourf(U-height);plt.colorbar();"
   ]
  },
  {
   "cell_type": "code",
   "execution_count": 19,
   "metadata": {},
   "outputs": [
    {
     "data": {
      "image/png": "[encoded data removed]",
      "text/plain": [
       "<Figure size 432x288 with 2 Axes>"
      ]
     },
     "metadata": {
      "needs_background": "light"
     },
     "output_type": "display_data"
    }
   ],
   "source": [
    "plt.contourf(X,Y,EvalScheme(Intensity,U,U,[alpha,beta,gamma,h])); plt.colorbar();"
   ]
  },
  {
   "cell_type": "code",
   "execution_count": 20,
   "metadata": {},
   "outputs": [
    {
     "data": {
      "text/plain": [
       "0.002900088381802779"
      ]
     },
     "execution_count": 20,
     "metadata": {},
     "output_type": "execute_result"
    }
   ],
   "source": [
    "np.max(EvalScheme(Intensity,U,U,[alpha,beta,gamma,h])[Omega])"
   ]
  },
  {
   "cell_type": "markdown",
   "metadata": {},
   "source": [
    "Works, but many iterations are needed, and accuracy is not super-great.\n",
    "\n",
    "Interestingly, we do find the volcano even when the rays are from above. Note that the PDE is degenerate in that case, due to the horizontal part on top."
   ]
  },
  {
   "cell_type": "markdown",
   "metadata": {},
   "source": [
    "<!---\n",
    "# What next ?\n",
    "\n",
    "Iterations are rather fast, so their number may not be an issue.\n",
    "Otherwise, we could try a Newton method...\n",
    "Improving the accuracy would require a non-monotone method.\n",
    "-->"
   ]
  },
  {
   "cell_type": "code",
   "execution_count": null,
   "metadata": {},
   "outputs": [],
   "source": []
  }
 ],
 "metadata": {
  "kernelspec": {
   "display_name": "Python 3",
   "language": "python",
   "name": "python3"
  },
  "language_info": {
   "codemirror_mode": {
    "name": "ipython",
    "version": 3
   },
   "file_extension": ".py",
   "mimetype": "text/x-python",
   "name": "python",
   "nbconvert_exporter": "python",
   "pygments_lexer": "ipython3",
   "version": "3.7.6"
  }
 },
 "nbformat": 4,
 "nbformat_minor": 2
}

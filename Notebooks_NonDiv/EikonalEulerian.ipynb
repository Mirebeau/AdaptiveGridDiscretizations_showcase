{
 "cells": [
  {
   "cell_type": "markdown",
   "metadata": {},
   "source": [
    "# Adaptive PDE discretizations on cartesian grids\n",
    "## Volume : Non-divergence form PDEs\n",
    "## Part : Eikonal equation and variants\n",
    "## Chapter : Eulerian scheme for Riemannian distances"
   ]
  },
  {
   "cell_type": "markdown",
   "metadata": {},
   "source": [
    "This notebook presents a single pass Eulerian scheme for the Riemannian eikonal equation. It is provided solely for pedagogical purposes.\n",
    "Indeed, a state of the art C++ implementation, more optimized and versatile, is provided in the HFM AGD and libraries, for CPU and GPU processors respectively. These implementations are illustrated in the following [notebook on riemannian distance](../Notebooks_FMM/Riemannian.ipynb) and [volume on general eikonal equations](../Notebooks_FMM/Summary.ipynb). "
   ]
  },
  {
   "cell_type": "markdown",
   "metadata": {},
   "source": [
    "The purpose of this notebook is to illustrate the theory and implementation principles underlying the discretization of the (anisotropic) *Riemannian eikonal equation*, and its numerical solution using iterative solvers such as fast sweeping, adaptive Gauss-Siedel iteration, and the fast marching method method. \n",
    "The PDE to be solved involves a Riemannian metric $M : \\Omega \\to S_d^{++}$ on a domain $\\Omega\\subset R^d$. Denoting by $u : \\Omega \\to R^d$ the unkown, the problem is written\n",
    "$$\n",
    "    \\| \\nabla u(x)\\|_{D(x)} = 1\n",
    "$$\n",
    "for all $x \\in \\Omega$, where $D(x) := M(x)^{-1}$. Null boundary conditions, or outflow boundary conditions, are applied on $\\partial \\Omega$. The solution $u$ should be regarded as the arrival times of a front originating from the boundary. Minimal paths toward the boundary, also known as minimal geodesics, can be extracted by solving the ODE *backwards in time*:\n",
    "$$\n",
    "    \\gamma'(t) := V(\\gamma(t))\n",
    "$$\n",
    "where $V(x) := D(x) \\nabla u(x)$."
   ]
  },
  {
   "cell_type": "markdown",
   "metadata": {},
   "source": [
    "**Important ! Note on CPU computation speed.** Because of intrinsic limitations of the Python programming language, and in particular the slow execution of sequential programs, the fast marching eikonal solver implemented in this notebook is extremely slow. In particular it is slower than the global iteration, or the fast sweeping method, which are also implemented for illustration. The fast marching method is here only implemented for pedagogical purposes. Please use the C++ implementation, or some reimplementation of the Python programs below in a compiled language, for any application.\n",
    "\n",
    "The GPU eikonal solver presented in the end of this notebook, is not particularly slow, but would shine best on three dimensional problems where more parallelims can be extracted.\n",
    "\n",
    "\n",
    "**Note on accuracy.** The eikonal equation solver presented below is extremely basic, and is presented solely for pedagogical purposes. Two optional techniques, implemented in the c++ version allow to increase accuracy: *source factorization*, and the use *second order finite differences* when conditions allow. See the notebook on [high accuracy](../Notebooks_FMM/HighAccuracy.ipynb)\n",
    "\n",
    "**Reference.** The numerical scheme implemented in this notebook is described in the following publication:\n",
    "* Jean-Marie Mirebeau, Jorg Portegies, \"Hamiltonian Fast Marching: A numerical solver for anisotropic and non-holonomic eikonal PDEs\", 2019, IPOL [(link)](https://hal.archives-ouvertes.fr/hal-01778322)"
   ]
  },
  {
   "cell_type": "markdown",
   "metadata": {},
   "source": [
    "[**Summary**](Summary.ipynb) of volume Non-Divergence form PDEs, this series of notebooks.\n",
    "\n",
    "[**Main summary**](../Summary.ipynb) of the Adaptive Grid Discretizations \n",
    "\tbook of notebooks, including the other volumes.\n",
    "\n",
    "# Table of contents\n",
    "  * [1. The update operator](#1.-The-update-operator)\n",
    "  * [2. Iteration policies](#2.-Iteration-policies)\n",
    "    * [2.1 Global iteration](#2.1-Global-iteration)\n",
    "    * [2.2 Fast sweeping](#2.2-Fast-sweeping)\n",
    "    * [2.3 Fast marching](#2.3-Fast-marching)\n",
    "  * [3. Anisotropic metric](#3.-Anisotropic-metric)\n",
    "  * [4. GPU acceleration](#4.-GPU-acceleration)\n",
    "    * [4.1 Update operator](#4.1-Update-operator)\n",
    "    * [4.2 Cuda kernel](#4.2-Cuda-kernel)\n",
    "    * [4.3 Global iteration](#4.3-Global-iteration)\n",
    "    * [4.4 Adaptive Gauss-Siedel iteration](#4.4-Adaptive-Gauss-Siedel-iteration)\n",
    "\n",
    "\n",
    "\n",
    "**Acknowledgement.** The experiments presented in these notebooks are part of ongoing research, \n",
    "some of it with PhD student Guillaume Bonnet, in co-direction with Frederic Bonnans, \n",
    "and PhD student François Desquilbet, in co-direction with Ludovic Métivier.\n",
    "\n",
    "Copyright Jean-Marie Mirebeau, Centre Borelli, ENS Paris-Saclay, CNRS, University Paris-Saclay"
   ]
  },
  {
   "cell_type": "markdown",
   "metadata": {},
   "source": [
    "## 0. Importing the required libraries"
   ]
  },
  {
   "cell_type": "code",
   "execution_count": 1,
   "metadata": {
    "execution": {
     "iopub.execute_input": "2021-12-09T21:45:53.020045Z",
     "iopub.status.busy": "2021-12-09T21:45:53.019508Z",
     "iopub.status.idle": "2021-12-09T21:45:53.026223Z",
     "shell.execute_reply": "2021-12-09T21:45:53.026694Z"
    }
   },
   "outputs": [],
   "source": [
    "import sys; sys.path.insert(0,\"..\") # Allow import of agd from parent directory (useless if conda package installed)\n",
    "#from Miscellaneous import TocTools; TocTools.displayTOC('EikonalEulerian','NonDiv')"
   ]
  },
  {
   "cell_type": "code",
   "execution_count": 2,
   "metadata": {
    "execution": {
     "iopub.execute_input": "2021-12-09T21:45:53.030685Z",
     "iopub.status.busy": "2021-12-09T21:45:53.030156Z",
     "iopub.status.idle": "2021-12-09T21:45:53.134520Z",
     "shell.execute_reply": "2021-12-09T21:45:53.134967Z"
    }
   },
   "outputs": [],
   "source": [
    "from agd import Selling\n",
    "from agd import LinearParallel as lp\n",
    "from agd import FiniteDifferences as fd\n",
    "from agd import AutomaticDifferentiation as ad\n",
    "norm_infinity = ad.Optimization.norm_infinity"
   ]
  },
  {
   "cell_type": "code",
   "execution_count": 3,
   "metadata": {
    "execution": {
     "iopub.execute_input": "2021-12-09T21:45:53.138771Z",
     "iopub.status.busy": "2021-12-09T21:45:53.138093Z",
     "iopub.status.idle": "2021-12-09T21:45:54.072952Z",
     "shell.execute_reply": "2021-12-09T21:45:54.073396Z"
    }
   },
   "outputs": [],
   "source": [
    "import numpy as np\n",
    "import matplotlib\n",
    "import matplotlib.pyplot as plt\n",
    "import itertools\n",
    "import heapq\n",
    "import scipy.linalg"
   ]
  },
  {
   "cell_type": "markdown",
   "metadata": {},
   "source": [
    "## 1. The update operator\n",
    "\n",
    "Our discretization of the eikonal equation is based on a decomposition of the inverse tensors to the Riemannian metric. For all $x \\in \\Omega$,\n",
    "$$\n",
    "    D(x) = \\sum_{1 \\leq i \\leq I} \\rho_i(x) e_i e_i^T\n",
    "$$\n",
    "where $\\rho_i(x) \\geq 0$ is a non-negative weight, and $e_i=e_i(x) \\in Z^d$ is an offset, which may depend on the current position $x$.\n",
    "The numerical scheme reads\n",
    "$$\n",
    "    F u (x) := \\sum_{1 \\leq i \\leq I} \\rho_i(x) \\max \\{0,\\frac{u(x)-u(x-h e_i)} h, \\frac{u(x)-u(x+h e_i)} h\\}^2 - 1.\n",
    "$$\n",
    "for all discretization points $x$ in the domain interior. One has to solve $F u \\equiv 0$.\n",
    "\n",
    "**Historical note.**\n",
    "This numerical scheme was introduced by Rouy in 1992, in the case of an isotropic metric: $D(x)$ is proportional to the identity matrix. In that special case, the natural tensor decomposition only uses offsets from the canonical basis. It was observed by Sethian in 1996 that it can be solved in a single pass using the fast marching method. \n",
    "\n",
    "The author, in 2018, generalized the scheme to handle arbitrary anisotropic Riemannian metrics, using adequate methods for tensor decomposition. See the reference in the introduction.\n",
    "\n",
    "<!---ExoFR\n",
    "Implémenter le schéma numérique $F$ il servira à vérifier que l'équation eikonale discrétisée à été correctement résolue. On étend $u$ par $+\\infty$ en dehors du domaine (conditions de flot sortant).\n",
    "--->\n",
    "\n",
    "<!---ExoCode\n",
    "def Scheme(u,coefs,offsets,h):\n",
    "    residue =  # TODO. Hint : fd.DiffUpwind(u,offsets,gridScale=h,padding=np.inf)\n",
    "    boundary = np.logical_or.reduce(np.isnan(coefs),axis=0)\n",
    "    return np.where(boundary,0.,residue)\n",
    "--->"
   ]
  },
  {
   "cell_type": "code",
   "execution_count": 4,
   "metadata": {
    "execution": {
     "iopub.execute_input": "2021-12-09T21:45:54.079561Z",
     "iopub.status.busy": "2021-12-09T21:45:54.078949Z",
     "iopub.status.idle": "2021-12-09T21:45:54.080867Z",
     "shell.execute_reply": "2021-12-09T21:45:54.081333Z"
    }
   },
   "outputs": [],
   "source": [
    "def Scheme(u,coefs,offsets,h):\n",
    "    v = np.maximum(0,np.maximum(-fd.DiffUpwind(u, offsets,gridScale=h,padding=np.inf),\n",
    "                                -fd.DiffUpwind(u,-offsets,gridScale=h,padding=np.inf)))\n",
    "    residue = (coefs*np.maximum(0,v)**2).sum(axis=0) - 1.\n",
    "    boundary = np.logical_or.reduce(np.isnan(coefs),axis=0)\n",
    "    return np.where(boundary,0.,residue)"
   ]
  },
  {
   "cell_type": "markdown",
   "metadata": {},
   "source": [
    "In contrast with the other notebooks of this series, we will not use a Newton method to solve this numerical scheme. Instead, we rely on Gauss-Siedel / Jacobi updates. In other words we solve, pointwise, the equation $Fu(x)$ for $u(x)$ assuming that $u(y)$ is fixed for all $y \\neq x$. These updates are repeated until convergence, following an order in the domain that is discussed below.\n",
    "\n",
    "**Gauss-Siedel update of $u(x)$.** Consider a fixed point $x \\in \\Omega$, and denote, for all $1 \\leq i \\leq I$,\n",
    "$$\n",
    "    v_i := \\min \\{u(x-h e_i), u(x+h e_i)\\}.\n",
    "$$\n",
    "The value of the Gauss-Siedel/Jacobi update is the unique solution $\\lambda = u(x)$ to the equation\n",
    "$$\n",
    "    \\sum_{1 \\leq i \\leq I} \\rho_i (\\lambda-v_i)_+^2 - h^2 = 0,\n",
    "$$\n",
    "where $a_+ := \\max \\{0,a\\}$.\n",
    "\n",
    "**Solution by sorting and a sequence of quadratic equations.**\n",
    "Assume that $v_1 \\leq \\cdots \\leq v_I$, up to sorting these quantities.\n",
    "Then $\\lambda$ is the solution to a quadratic equation\n",
    "$$\n",
    "    \\alpha \\lambda^2 - 2 \\beta \\lambda + \\gamma = 0\n",
    "$$\n",
    "where \n",
    "$$\n",
    "    \\alpha := \\sum_{1 \\leq i \\leq J} \\rho_i, \\quad \\beta := \\sum_{1 \\leq i \\leq J} \\rho_i v_i, \\quad \\gamma := -h^2+\\sum_{i \\leq J} \\rho_i v_i^2.\n",
    "$$\n",
    "We denoted by $J$ the unique integer $1 \\leq J \\leq I$ such that  \n",
    "$$\n",
    "    \\lambda \\in [v_J,v_{J+1}],\n",
    "$$\n",
    "with the convention $V_{I+1} = \\infty$.\n",
    "\n",
    "<!---ExoFR\n",
    "Compléter la fonction ci-dessous qui calcule la mise à jour de Gauss-Siedel/Jacobi.\n",
    "--->\n",
    "\n",
    "<!---ExoCode\n",
    "def Update(u,coefs,offsets,h,where=(Ellipsis,)):\n",
    "    \"\"\"Local Gauss-Siedel update for the fast marching algorithm\"\"\"\n",
    "    #Get the values at the neighbors, and sort them\n",
    "    v = np.minimum(fd.TakeAtOffset(u, offsets,padding=np.inf,where=where),\n",
    "                   fd.TakeAtOffset(u,-offsets,padding=np.inf,where=where))\n",
    "    \n",
    "    u,coefs=u[where],coefs[(slice(None),)+where] # Akin to coefs[:,where]\n",
    "    \n",
    "    v[coefs==0.] = np.inf; \n",
    "    ai=v.argsort(axis=0)\n",
    "    v,coefs = (np.take_along_axis(a,ai,axis=0) for a in (v,coefs))\n",
    "    \n",
    "    # Initialize the variables\n",
    "    result= np.zeros_like(u)\n",
    "    result[v[0]==np.inf]=np.inf # Far points\n",
    "    boundary = np.logical_or.reduce(np.isnan(coefs),axis=0)\n",
    "    result[boundary]=u[boundary] # Apply bc\n",
    "    considered = np.logical_and(v[0]<np.inf, np.logical_not(boundary))    \n",
    "    v[:,np.logical_not(considered)] = np.nan; coefs[:,np.logical_not(considered)] = np.nan\n",
    "    \n",
    "    alpha = coefs[0]\n",
    "    beta  = np.zeros_like(u)\n",
    "    gamma = np.zeros_like(u) - h**2\n",
    "    solution = h/np.sqrt(alpha)\n",
    "    result[considered] = v[0,considered]+solution[considered] # Update from closest neighbor\n",
    "        \n",
    "    # Solve the quadratic equations\n",
    "    for rhoi, vi in zip(coefs[1:],v[1:]-v[0]):\n",
    "        considered = np.logical_and(considered,np.inf>vi)\n",
    "        vi = np.asarray(vi)\n",
    "        vi[vi==np.inf]=np.nan\n",
    "        \n",
    "        alpha+= # TODO\n",
    "        beta += # TODO\n",
    "        gamma+= # TODO\n",
    "        \n",
    "        delta = # TODO \n",
    "        sdelta = np.sqrt(np.maximum(0.,delta))\n",
    "        considered = np.logical_and(considered,delta>0)\n",
    "\n",
    "        solution = # TODO\n",
    "        considered = np.logical_and(considered,solution>vi)\n",
    "        result[considered]= v[0,considered]+solution[considered]\n",
    "        \n",
    "    return result\n",
    "--->"
   ]
  },
  {
   "cell_type": "code",
   "execution_count": 5,
   "metadata": {
    "execution": {
     "iopub.execute_input": "2021-12-09T21:45:54.095495Z",
     "iopub.status.busy": "2021-12-09T21:45:54.094882Z",
     "iopub.status.idle": "2021-12-09T21:45:54.097062Z",
     "shell.execute_reply": "2021-12-09T21:45:54.097524Z"
    }
   },
   "outputs": [],
   "source": [
    "def gtr_silentNaN(a,b):\n",
    "    \"\"\"Compare two values without emitting a warning for NaNs\"\"\"\n",
    "    from numpy import warnings\n",
    "    with np.warnings.catch_warnings():\n",
    "        warnings.simplefilter(\"ignore\")\n",
    "        return a>b\n",
    "    \n",
    "def Update(u,coefs,offsets,h,where=(Ellipsis,)):\n",
    "    \"\"\"Local Gauss-Siedel update for the fast marching algorithm\"\"\"\n",
    "    #Get the values at the neighbors, and sort them\n",
    "    v = np.minimum(fd.TakeAtOffset(u, offsets,padding=np.inf,where=where),\n",
    "                   fd.TakeAtOffset(u,-offsets,padding=np.inf,where=where))\n",
    "    \n",
    "    u,coefs=u[where],coefs[(slice(None),)+where] # Akin to coefs[:,where]\n",
    "    \n",
    "    v[coefs==0.] = np.inf; \n",
    "    ai=v.argsort(axis=0)\n",
    "    v,coefs = (np.take_along_axis(a,ai,axis=0) for a in (v,coefs))\n",
    "    \n",
    "    # Initialize the variables\n",
    "    result= np.zeros_like(u)\n",
    "    result[v[0]==np.inf]=np.inf # Far points\n",
    "    boundary = np.logical_or.reduce(np.isnan(coefs),axis=0)\n",
    "    result[boundary]=u[boundary] # Apply bc\n",
    "    considered = np.logical_and(v[0]<np.inf, np.logical_not(boundary))    \n",
    "    v[:,np.logical_not(considered)] = np.nan; coefs[:,np.logical_not(considered)] = np.nan\n",
    "    \n",
    "    alpha = coefs[0]\n",
    "    beta  = np.zeros_like(u)\n",
    "    gamma = np.zeros_like(u) - h**2\n",
    "    solution = h/np.sqrt(alpha)\n",
    "    result[considered] = v[0,considered]+solution[considered] # Update from closest neighbor\n",
    "        \n",
    "    # Solve the quadratic equations\n",
    "    for rhoi, vi in zip(coefs[1:],v[1:]-v[0]):\n",
    "        considered = np.logical_and(considered,gtr_silentNaN(np.inf,vi))\n",
    "        vi = np.asarray(vi)\n",
    "        vi[vi==np.inf]=np.nan\n",
    "        \n",
    "        alpha+=rhoi\n",
    "        beta+=rhoi*vi\n",
    "        gamma+=rhoi*vi**2\n",
    "        \n",
    "        delta = beta**2 - gamma*alpha\n",
    "        sdelta = np.sqrt(np.maximum(0.,delta))\n",
    "        considered = np.logical_and(considered,gtr_silentNaN(delta,0)) #delta>0.\n",
    "\n",
    "        solution = (beta+sdelta)/alpha\n",
    "        considered = np.logical_and(considered,gtr_silentNaN(solution,vi)) #solution>vi\n",
    "        result[considered]= v[0,considered]+solution[considered]\n",
    "        \n",
    "    return result"
   ]
  },
  {
   "cell_type": "markdown",
   "metadata": {},
   "source": [
    "We next define the some problem parameters, in order to test the scheme.\n",
    "As a start, we use an isotropic metric on the square, with a single seed point in the center."
   ]
  },
  {
   "cell_type": "code",
   "execution_count": 6,
   "metadata": {
    "execution": {
     "iopub.execute_input": "2021-12-09T21:45:54.103893Z",
     "iopub.status.busy": "2021-12-09T21:45:54.103347Z",
     "iopub.status.idle": "2021-12-09T21:45:54.110349Z",
     "shell.execute_reply": "2021-12-09T21:45:54.110777Z"
    }
   },
   "outputs": [],
   "source": [
    "#Define the square [-1,1]^2, sampled on a cartesian grid\n",
    "aX0 = np.linspace(-1,1,51); aX1 = aX0\n",
    "gridScale=aX0[1]-aX0[0]\n",
    "X0,X1 = np.meshgrid(aX0,aX1,indexing='ij')\n",
    "\n",
    "# Define the domain, and the problem parameters\n",
    "metric = fd.as_field(np.eye(2),X0.shape)\n",
    "bc=np.full(X0.shape,np.nan)\n",
    "bc[X0.shape[0]//2,X0.shape[1]//2] = 0\n",
    "\n",
    "# Decompose the tensors dual to the Riemannian metric\n",
    "coefs, offsets = Selling.Decomposition(lp.inverse(metric))\n",
    "coefs[:,np.logical_not(np.isnan(bc))] = np.nan"
   ]
  },
  {
   "cell_type": "code",
   "execution_count": 7,
   "metadata": {
    "execution": {
     "iopub.execute_input": "2021-12-09T21:45:54.113957Z",
     "iopub.status.busy": "2021-12-09T21:45:54.113403Z",
     "iopub.status.idle": "2021-12-09T21:45:54.115428Z",
     "shell.execute_reply": "2021-12-09T21:45:54.115913Z"
    }
   },
   "outputs": [],
   "source": [
    "#u0=np.where(np.isnan(bc),np.inf,bc)\n",
    "#Update(u0,coefs,offsets,gridScale)"
   ]
  },
  {
   "cell_type": "markdown",
   "metadata": {},
   "source": [
    "## 2. Iteration policies\n",
    "\n",
    "We present three classical iteration policies, applied to for the Gauss-Siedel update implemented in the previous section. The justification of their convergence is based on mathematical properties, referred to as *Monotony* and *Causality*.\n",
    "\n",
    "**Monotony.** Denote by $\\Lambda$ the Gauss-Siedel update operator implemented above. This operator benefits from an important property, known as monotony: for any discrete maps $u,v$\n",
    "$$\n",
    "    u\\leq v \\Rightarrow \\Lambda u \\leq \\Lambda v,\n",
    "$$\n",
    "where $u\\leq v$ means $u(x) \\leq v(x)$ for all points $x\\in X$ of the discretization domain $X$.\n",
    "Monotony is inherited from another property of the numerical scheme $F$, known as degenerate ellipticity: $Fu(x)$ is a non-decreasing function of the finite differences $u(x)-u(y)$, $y \\neq x$.\n",
    "\n",
    "**Iterative methods**\n",
    "Thanks to monotony, and mild additional technical assumptions, basic repeated iteration of the updates over the domain is guaranteed to converge to the numerical scheme solution. Some variants exist in the iteration order, for instance:\n",
    "* *Global iteration.* Set $u(x) \\gets \\Lambda u(x)$ simultaneously for all $x\\in X$.\n",
    "* *Fast sweeping and related methods.* Set $u(x) \\gets \\Lambda u(x)$ simultaneously for all $x$ in a slice of the domain. Iterate slice by slice: left to right, right to left, top to bottom, bottom to top, and then repeat.\n",
    "\n",
    "Iterations are stopped when a stopping criterion is met. If the initialization $u_0$ equals $+\\infty$ in the domain interior, or a sufficiently large value, then one easily shows using monotonicity that the successive iterates obey $u_{n+1} \\leq u_n$. A typicaly stopping criterion is then \n",
    "$$\n",
    "    u_{n+1} \\geq u_n+ \\epsilon,\n",
    "$$\n",
    "where $\\epsilon>0$ is a given tolerance.\n",
    "\n",
    "**Causality.** The Gauss-Siedel update operator corresponding to our numerical scheme benefits from an additional property, known as causality: for any discrete maps $u$ \n",
    "$$\n",
    "    \\Lambda u(x) \\text{ may depend on } u(y) \\text{ only if } u(y) < \\Lambda u(x).\n",
    "$$\n",
    "Causality is inherited from another property of the numerical scheme $F$, also referred to as causality: $Fu(x)$ only depends on the non-negative part of the finite differences $u(x)-u(y)$, $y\\neq x$.\n",
    "Note that, in addition, $u(x)$ may depend on $u(y)$ only if $y$ appears in the stencil of $x$, in other words $y = x\\pm h e_i$ for some $1 \\leq i \\leq I$.\n",
    "\n",
    "**Single pass solution.**\n",
    "Thanks to monotony and causality, and mild additional technical assumptions, the system of equations discretizing the PDE can be solved in a *single pass* over the domain, visiting each point a finite number of times that is prescribed in advance. For that purpose, a variant of Dijkstra's shortest path algorithm is used, known as the fast marching method.\n",
    "\n",
    "In contrast with the iterative methods, the fast marching naturally stops after a finite number of steps."
   ]
  },
  {
   "cell_type": "markdown",
   "metadata": {},
   "source": [
    "### 2.1 Global iteration\n",
    "\n",
    "We simultaneously update the unknown function $u$ over all the domain."
   ]
  },
  {
   "cell_type": "code",
   "execution_count": 8,
   "metadata": {
    "execution": {
     "iopub.execute_input": "2021-12-09T21:45:54.121048Z",
     "iopub.status.busy": "2021-12-09T21:45:54.120514Z",
     "iopub.status.idle": "2021-12-09T21:45:54.122400Z",
     "shell.execute_reply": "2021-12-09T21:45:54.122824Z"
    }
   },
   "outputs": [],
   "source": [
    "def GlobalIteration(update,u0,args,eps=1e-6,niter_max=200):\n",
    "    u=u0.copy()\n",
    "    for niter in range(niter_max):\n",
    "        u,u_old = update(u,*args),u\n",
    "        if np.all(u+eps>=u_old):\n",
    "            return u,niter\n",
    "    print(\"Iterative method did not reach stopping criterion within iteration budget\")\n",
    "    return u,niter_max"
   ]
  },
  {
   "cell_type": "code",
   "execution_count": 9,
   "metadata": {
    "execution": {
     "iopub.execute_input": "2021-12-09T21:45:54.127172Z",
     "iopub.status.busy": "2021-12-09T21:45:54.126659Z",
     "iopub.status.idle": "2021-12-09T21:45:54.203225Z",
     "shell.execute_reply": "2021-12-09T21:45:54.203658Z"
    }
   },
   "outputs": [
    {
     "name": "stdout",
     "output_type": "stream",
     "text": [
      "CPU times: user 144 ms, sys: 2.71 ms, total: 147 ms\n",
      "Wall time: 73.7 ms\n"
     ]
    }
   ],
   "source": [
    "%%time\n",
    "u0=np.where(np.isnan(bc),np.inf,bc)\n",
    "solution,nupdate = GlobalIteration(Update,u0,(coefs,offsets,gridScale))"
   ]
  },
  {
   "cell_type": "markdown",
   "metadata": {},
   "source": [
    "The number of updates per point `niter` is quite large with this approach, since the front progresses only by one pixel at a time. \n",
    "Therefore `niter` is not far from the domain diameter, measured in pixels.\n",
    "More precisely, `niter` is the length of the longest minimal path in the domain, measured in pixels. "
   ]
  },
  {
   "cell_type": "code",
   "execution_count": 10,
   "metadata": {
    "execution": {
     "iopub.execute_input": "2021-12-09T21:45:54.207326Z",
     "iopub.status.busy": "2021-12-09T21:45:54.206790Z",
     "iopub.status.idle": "2021-12-09T21:45:54.209424Z",
     "shell.execute_reply": "2021-12-09T21:45:54.209848Z"
    }
   },
   "outputs": [
    {
     "name": "stdout",
     "output_type": "stream",
     "text": [
      "Average number of updates per point : 50\n"
     ]
    }
   ],
   "source": [
    "print(\"Average number of updates per point :\", nupdate)"
   ]
  },
  {
   "cell_type": "code",
   "execution_count": 11,
   "metadata": {
    "execution": {
     "iopub.execute_input": "2021-12-09T21:45:54.220257Z",
     "iopub.status.busy": "2021-12-09T21:45:54.219725Z",
     "iopub.status.idle": "2021-12-09T21:45:54.374571Z",
     "shell.execute_reply": "2021-12-09T21:45:54.375107Z"
    }
   },
   "outputs": [
    {
     "data": {
      "image/png": "[encoded data removed]",
      "text/plain": [
       "<Figure size 432x288 with 1 Axes>"
      ]
     },
     "metadata": {
      "needs_background": "light"
     },
     "output_type": "display_data"
    }
   ],
   "source": [
    "plt.axis('equal')\n",
    "plt.contourf(X0,X1,solution);"
   ]
  },
  {
   "cell_type": "markdown",
   "metadata": {},
   "source": [
    "Let us check that the system of equations is indeed solved."
   ]
  },
  {
   "cell_type": "code",
   "execution_count": 12,
   "metadata": {
    "execution": {
     "iopub.execute_input": "2021-12-09T21:45:54.380332Z",
     "iopub.status.busy": "2021-12-09T21:45:54.379333Z",
     "iopub.status.idle": "2021-12-09T21:45:54.384289Z",
     "shell.execute_reply": "2021-12-09T21:45:54.384771Z"
    }
   },
   "outputs": [],
   "source": [
    "residue = Scheme(solution,coefs,offsets,gridScale)\n",
    "assert norm_infinity(residue)<1e-13"
   ]
  },
  {
   "cell_type": "markdown",
   "metadata": {},
   "source": [
    "### 2.2 Fast sweeping\n",
    "\n",
    "In this approach, solution is updated slice after slice, left to right, right to left, top to bottom, bottom to top, etc. On large domains, the number of updates per pixel is smaller than with the global iteration approach.\n",
    "\n",
    "On a domaine of shape $N_x \\times N_y$, the Fast sweeping method repeats the following steps until convergence is achieved\n",
    "* For $x$ from $1$ to $N_x$\n",
    "    - For $y$ from $1$ to $N_y$ in parallel: update $u(x,y)$\n",
    "* For $x$ from $N_x$ to $1$\n",
    "    - For $y$ from $1$ to $N_y$ in parallel: update $u(x,y)$\n",
    "* For $y$ from $1$ to $N_y$\n",
    "    - For $x$ from $1$ to $N_x$ in parallel: update $u(x,y)$\n",
    "* For y from $N_y$ to $1$\n",
    "    - For $x$ from $1$ to $N_x$ in parallel: update $u(x,y)$\n",
    "    \n",
    "Some variants of the fast sweeping method use diagonal sweeps, rather than axis aligned ones as above.\n",
    "\n",
    "<!---ExoFR\n",
    "Compléter la fonction suivante, qui produit les slices utilisées par la méthode du fast sweeping.\n",
    "--->\n",
    "\n",
    "<!---ExoCode\n",
    "def SweepSlices(shape):\n",
    "    \"\"\"Produit les slices utilisées par la méthode du fast sweeping.\"\"\"\n",
    "    Nx,Ny = shape\n",
    "    s = slice(None) # Means everyone\n",
    "    for x in range(Nx): yield (x,s)\n",
    "    for x # TODO\n",
    "    # TODO\n",
    "--->\n",
    "\n",
    "<!---\n",
    "def SweepSlices(shape):\n",
    "    Nx,Ny = shape\n",
    "    s = slice(None) # Means everyone\n",
    "    for x in range(Nx): yield (x,s)\n",
    "    for x in reversed(range(Nx)): yield (x,s)\n",
    "    for y in range(Ny): yield (s,y)\n",
    "    for y in reversed(range(Nx)): yield (s,y)\n",
    "--->"
   ]
  },
  {
   "cell_type": "code",
   "execution_count": 13,
   "metadata": {
    "execution": {
     "iopub.execute_input": "2021-12-09T21:45:54.390568Z",
     "iopub.status.busy": "2021-12-09T21:45:54.389952Z",
     "iopub.status.idle": "2021-12-09T21:45:54.392419Z",
     "shell.execute_reply": "2021-12-09T21:45:54.392929Z"
    }
   },
   "outputs": [],
   "source": [
    "def SweepSlices(shape):\n",
    "    \"\"\"Enumerates the slices used in the fast sweeping method.\"\"\"\n",
    "    dim = len(shape)\n",
    "    s=(slice(None),)\n",
    "    for d,n in enumerate(shape):\n",
    "        for x in itertools.chain(range(n),reversed(range(n))):\n",
    "            # [:,...(d times),:, x, :,...(dim-d-1 times),:]\n",
    "            yield s*d +(x,)+s*(dim-d-1) "
   ]
  },
  {
   "cell_type": "code",
   "execution_count": 14,
   "metadata": {
    "execution": {
     "iopub.execute_input": "2021-12-09T21:45:54.399391Z",
     "iopub.status.busy": "2021-12-09T21:45:54.398796Z",
     "iopub.status.idle": "2021-12-09T21:45:54.401322Z",
     "shell.execute_reply": "2021-12-09T21:45:54.401830Z"
    }
   },
   "outputs": [],
   "source": [
    "def SweepIteration(update,u0,args,eps=1e-6,niter_max=100):\n",
    "    u=u0.copy()\n",
    "    for niter in range(niter_max):\n",
    "        u_old=u.copy()\n",
    "        for sl in SweepSlices(u0.shape):\n",
    "            u[sl]=update(u,*args,where=sl)\n",
    "        if np.all(u+eps>=u_old):\n",
    "            return u,niter*2*u0.ndim\n",
    "    print(\"Iterative method did not reach stopping criterion within iteration budget\")\n",
    "    return u,niter_max *2*u0.ndim"
   ]
  },
  {
   "cell_type": "markdown",
   "metadata": {},
   "source": [
    "**Note on execution time.** For some reason that needs to be clarified, the update of a slice of the domain costs almost as much as the update of the full domain with this Python implementation. (This is possibly an issue with memory management.) As a result, execution time is here much larger than with the global iteration approach. This effect is not encountered in reasonably optimized implementations, possibly written in other languages."
   ]
  },
  {
   "cell_type": "code",
   "execution_count": 15,
   "metadata": {
    "execution": {
     "iopub.execute_input": "2021-12-09T21:45:54.406392Z",
     "iopub.status.busy": "2021-12-09T21:45:54.405790Z",
     "iopub.status.idle": "2021-12-09T21:45:56.060752Z",
     "shell.execute_reply": "2021-12-09T21:45:56.060282Z"
    }
   },
   "outputs": [
    {
     "name": "stdout",
     "output_type": "stream",
     "text": [
      "CPU times: user 1.7 s, sys: 12.6 ms, total: 1.71 s\n",
      "Wall time: 1.65 s\n"
     ]
    }
   ],
   "source": [
    "%%time\n",
    "u0=np.where(np.isnan(bc),np.inf,bc)\n",
    "solution,nupdate = SweepIteration(Update,u0,(coefs,offsets,gridScale))"
   ]
  },
  {
   "cell_type": "markdown",
   "metadata": {},
   "source": [
    "In principle, fast sweeping allows to substantially reduce the number of updates per point in comparison with global iteration. This effect is pronounced over large domains, but is not much observed in very small domains as here."
   ]
  },
  {
   "cell_type": "code",
   "execution_count": 16,
   "metadata": {
    "execution": {
     "iopub.execute_input": "2021-12-09T21:45:56.064514Z",
     "iopub.status.busy": "2021-12-09T21:45:56.063991Z",
     "iopub.status.idle": "2021-12-09T21:45:56.066328Z",
     "shell.execute_reply": "2021-12-09T21:45:56.066753Z"
    }
   },
   "outputs": [
    {
     "name": "stdout",
     "output_type": "stream",
     "text": [
      "Average number of updates per point : 48\n"
     ]
    }
   ],
   "source": [
    "print(\"Average number of updates per point :\", nupdate)"
   ]
  },
  {
   "cell_type": "code",
   "execution_count": 17,
   "metadata": {
    "execution": {
     "iopub.execute_input": "2021-12-09T21:45:56.114282Z",
     "iopub.status.busy": "2021-12-09T21:45:56.092347Z",
     "iopub.status.idle": "2021-12-09T21:45:56.209665Z",
     "shell.execute_reply": "2021-12-09T21:45:56.210095Z"
    }
   },
   "outputs": [
    {
     "data": {
      "image/png": "[encoded data removed]",
      "text/plain": [
       "<Figure size 432x288 with 1 Axes>"
      ]
     },
     "metadata": {
      "needs_background": "light"
     },
     "output_type": "display_data"
    }
   ],
   "source": [
    "plt.axis('equal')\n",
    "plt.contourf(X0,X1,solution);"
   ]
  },
  {
   "cell_type": "code",
   "execution_count": 18,
   "metadata": {
    "execution": {
     "iopub.execute_input": "2021-12-09T21:45:56.213857Z",
     "iopub.status.busy": "2021-12-09T21:45:56.213341Z",
     "iopub.status.idle": "2021-12-09T21:45:56.218090Z",
     "shell.execute_reply": "2021-12-09T21:45:56.218523Z"
    }
   },
   "outputs": [],
   "source": [
    "residue = Scheme(solution,coefs,offsets,gridScale)\n",
    "assert norm_infinity(residue)<1e-13"
   ]
  },
  {
   "cell_type": "markdown",
   "metadata": {},
   "source": [
    "### 2.3 Fast marching\n",
    "\n",
    "The fast marching method updates the solution in a very specific order, in a Dijkstra-like fashion, taking advantage of the causality of the numerical scheme.\n",
    "\n",
    "A preliminary step, achieved in the `ReverseNeighbors` routine, is to identify all the *reverse neighbors* of given point $y \\in X$. In other words all $x \\in X$ such that $y = x \\pm h e_i(x)$ for some $1 \\leq i \\leq I$."
   ]
  },
  {
   "cell_type": "code",
   "execution_count": 19,
   "metadata": {
    "execution": {
     "iopub.execute_input": "2021-12-09T21:45:56.230733Z",
     "iopub.status.busy": "2021-12-09T21:45:56.230191Z",
     "iopub.status.idle": "2021-12-09T21:45:56.232476Z",
     "shell.execute_reply": "2021-12-09T21:45:56.232909Z"
    }
   },
   "outputs": [],
   "source": [
    "def ReverseNeighbors(shape,offsets):\n",
    "    \"\"\"Reverses a directed graph, defined by offsets on a cartesian grid. \n",
    "    The reverse neighbors for index i are orig[changes[i]:changes[i+1]], \n",
    "    where (orig,changes) is the output.\"\"\"\n",
    "    # Get original and neighbor offset\n",
    "    neigh,inside = fd.OffsetToIndex(shape,offsets)\n",
    "    size = np.prod(shape)\n",
    "    orig = np.broadcast_to(np.arange(size),(neigh.size//size,size)).flatten()\n",
    "    orig,neigh=orig[inside.flatten()],neigh[inside].flatten()\n",
    "\n",
    "    # Sort according to neighbor offset\n",
    "    ind = np.lexsort((orig,neigh))\n",
    "    orig,neigh=orig[ind],neigh[ind]\n",
    "    \n",
    "    # Count\n",
    "    changes = np.arange(1,neigh.size)[neigh[1:]!=neigh[:-1]]\n",
    "    changes = np.append(np.insert(changes,0,0),neigh.size)\n",
    "    return orig,changes\n",
    "\n",
    "def FastMarching(update,u0,args):\n",
    "    \n",
    "    # Compute the reverse neighbors\n",
    "    _,offsets,_ = args\n",
    "    rev,chg = ReverseNeighbors(u0.shape,np.stack((offsets,-offsets),axis=1))\n",
    "\n",
    "    # Find the seeds\n",
    "    seeds = u0<np.inf\n",
    "    heap=[(value,index) for value,index in zip(u0[seeds],np.arange(u0.size)[seeds.flatten()]) ]\n",
    "    heapq.heapify(heap)\n",
    "    \n",
    "    # Run the Dijkstra-like method\n",
    "    accepted = np.full(u0.shape,False).flatten()\n",
    "    u = u0.copy().flatten()\n",
    "    niter=0\n",
    "    while heap:\n",
    "        # Find the non-accepted point with smallest value\n",
    "        value,index = heapq.heappop(heap)\n",
    "        if value > u[index]: continue\n",
    "        accepted[index]=True\n",
    "        # Update the neighbors\n",
    "        for index2 in rev[chg[index]:chg[index+1]]:\n",
    "            if accepted[index2]: continue\n",
    "            value2 = update(u.reshape(u0.shape),*args,where=np.unravel_index(index2,u0.shape))\n",
    "            niter+=1\n",
    "            if value2 < u[index2]:\n",
    "                u[index2]=value2\n",
    "                heapq.heappush(heap,(value2,index2))\n",
    "    return u.reshape(u0.shape),niter/u0.size"
   ]
  },
  {
   "cell_type": "markdown",
   "metadata": {},
   "source": [
    "**Note on execution time.** Again, the computation time observed here is not representative of what is obtained in a compiled language, compatible with sequential execution on a mutable state."
   ]
  },
  {
   "cell_type": "code",
   "execution_count": 20,
   "metadata": {
    "execution": {
     "iopub.execute_input": "2021-12-09T21:45:56.237164Z",
     "iopub.status.busy": "2021-12-09T21:45:56.236606Z",
     "iopub.status.idle": "2021-12-09T21:46:01.173118Z",
     "shell.execute_reply": "2021-12-09T21:46:01.173569Z"
    }
   },
   "outputs": [
    {
     "name": "stdout",
     "output_type": "stream",
     "text": [
      "CPU times: user 4.99 s, sys: 33.7 ms, total: 5.02 s\n",
      "Wall time: 4.93 s\n"
     ]
    }
   ],
   "source": [
    "%%time\n",
    "u0=np.where(np.isnan(bc),np.inf,bc)\n",
    "solution,nupdate = FastMarching(Update,u0,(coefs,offsets,gridScale))"
   ]
  },
  {
   "cell_type": "markdown",
   "metadata": {},
   "source": [
    "The number of updates per point is greatly reduced w.r.t. the fast sweeping method (and global iteration as well). In some implementations, this can be counterbalanced by the cost of maintaining a priority queue."
   ]
  },
  {
   "cell_type": "code",
   "execution_count": 21,
   "metadata": {
    "execution": {
     "iopub.execute_input": "2021-12-09T21:46:01.177445Z",
     "iopub.status.busy": "2021-12-09T21:46:01.176925Z",
     "iopub.status.idle": "2021-12-09T21:46:01.179368Z",
     "shell.execute_reply": "2021-12-09T21:46:01.179801Z"
    }
   },
   "outputs": [
    {
     "name": "stdout",
     "output_type": "stream",
     "text": [
      "Average number of updates per point : 2.9219530949634756\n"
     ]
    }
   ],
   "source": [
    "print(\"Average number of updates per point :\", nupdate)"
   ]
  },
  {
   "cell_type": "code",
   "execution_count": 22,
   "metadata": {
    "execution": {
     "iopub.execute_input": "2021-12-09T21:46:01.198969Z",
     "iopub.status.busy": "2021-12-09T21:46:01.198437Z",
     "iopub.status.idle": "2021-12-09T21:46:01.322506Z",
     "shell.execute_reply": "2021-12-09T21:46:01.322010Z"
    }
   },
   "outputs": [
    {
     "data": {
      "image/png": "[encoded data removed]",
      "text/plain": [
       "<Figure size 432x288 with 1 Axes>"
      ]
     },
     "metadata": {
      "needs_background": "light"
     },
     "output_type": "display_data"
    }
   ],
   "source": [
    "plt.axis('equal')\n",
    "plt.contourf(X0,X1,solution);"
   ]
  },
  {
   "cell_type": "markdown",
   "metadata": {},
   "source": [
    "Despite the smaller number of updates per point, the system is exactly solved."
   ]
  },
  {
   "cell_type": "code",
   "execution_count": 23,
   "metadata": {
    "execution": {
     "iopub.execute_input": "2021-12-09T21:46:01.326525Z",
     "iopub.status.busy": "2021-12-09T21:46:01.325987Z",
     "iopub.status.idle": "2021-12-09T21:46:01.330126Z",
     "shell.execute_reply": "2021-12-09T21:46:01.330581Z"
    }
   },
   "outputs": [],
   "source": [
    "residue = Scheme(solution,coefs,offsets,gridScale)\n",
    "assert norm_infinity(residue)<1e-13"
   ]
  },
  {
   "cell_type": "markdown",
   "metadata": {},
   "source": [
    "## 3. Anisotropic metric\n",
    "\n",
    "The numerical schemes above presented apply without modification to non-constant, anisotropic Riemannian metrics."
   ]
  },
  {
   "cell_type": "code",
   "execution_count": 24,
   "metadata": {
    "execution": {
     "iopub.execute_input": "2021-12-09T21:46:01.337723Z",
     "iopub.status.busy": "2021-12-09T21:46:01.337167Z",
     "iopub.status.idle": "2021-12-09T21:46:01.347188Z",
     "shell.execute_reply": "2021-12-09T21:46:01.347622Z"
    }
   },
   "outputs": [],
   "source": [
    "#Define the square [-1,1]^2, sampled on a cartesian grid\n",
    "aX0 = np.linspace(-1,1,51); aX1 = aX0\n",
    "gridScale=aX0[1]-aX0[0]\n",
    "X0,X1 = np.meshgrid(aX0,aX1,indexing='ij')\n",
    "\n",
    "# Generate the metric\n",
    "eig1 = np.stack((np.full(X0.shape,1.),(np.pi/2)*np.cos(2*np.pi*X0)))\n",
    "eig1 /= scipy.linalg.norm(eig1,axis=0) \n",
    "eig2 = np.stack( (eig1[1],-eig1[0]) ) # Rotate eig1 by pi/2\n",
    "lambda1, lambda2 = 0.8, 0.2\n",
    "metric = lambda1**-2*lp.outer_self(eig1) + lambda2**-2*lp.outer_self(eig2)\n",
    "\n",
    "# Decompose the tensors dual to the Riemannian metric\n",
    "coefs, offsets = Selling.Decomposition(lp.inverse(metric))\n",
    "coefs[:,np.logical_not(np.isnan(bc))] = np.nan"
   ]
  },
  {
   "cell_type": "code",
   "execution_count": 25,
   "metadata": {
    "execution": {
     "iopub.execute_input": "2021-12-09T21:46:01.351735Z",
     "iopub.status.busy": "2021-12-09T21:46:01.351207Z",
     "iopub.status.idle": "2021-12-09T21:46:01.449182Z",
     "shell.execute_reply": "2021-12-09T21:46:01.449631Z"
    }
   },
   "outputs": [
    {
     "name": "stdout",
     "output_type": "stream",
     "text": [
      "CPU times: user 236 ms, sys: 4.35 ms, total: 240 ms\n",
      "Wall time: 95.2 ms\n"
     ]
    }
   ],
   "source": [
    "%%time\n",
    "u0=np.where(np.isnan(bc),np.inf,bc)\n",
    "solution_Global,nupdate_Global = GlobalIteration(Update,u0,(coefs,offsets,gridScale))"
   ]
  },
  {
   "cell_type": "code",
   "execution_count": 26,
   "metadata": {
    "execution": {
     "iopub.execute_input": "2021-12-09T21:46:01.474311Z",
     "iopub.status.busy": "2021-12-09T21:46:01.464296Z",
     "iopub.status.idle": "2021-12-09T21:46:01.592086Z",
     "shell.execute_reply": "2021-12-09T21:46:01.592524Z"
    }
   },
   "outputs": [
    {
     "data": {
      "image/png": "[encoded data removed]",
      "text/plain": [
       "<Figure size 432x288 with 1 Axes>"
      ]
     },
     "metadata": {
      "needs_background": "light"
     },
     "output_type": "display_data"
    }
   ],
   "source": [
    "plt.axis('equal')\n",
    "plt.contourf(X0,X1,solution_Global);"
   ]
  },
  {
   "cell_type": "code",
   "execution_count": 27,
   "metadata": {
    "execution": {
     "iopub.execute_input": "2021-12-09T21:46:01.596685Z",
     "iopub.status.busy": "2021-12-09T21:46:01.596124Z",
     "iopub.status.idle": "2021-12-09T21:46:03.229823Z",
     "shell.execute_reply": "2021-12-09T21:46:03.229352Z"
    }
   },
   "outputs": [
    {
     "name": "stdout",
     "output_type": "stream",
     "text": [
      "CPU times: user 1.76 s, sys: 13.2 ms, total: 1.78 s\n",
      "Wall time: 1.63 s\n"
     ]
    }
   ],
   "source": [
    "%%time\n",
    "u0=np.where(np.isnan(bc),np.inf,bc)\n",
    "solution_Sweep,nupdate_Sweep = SweepIteration(Update,u0,(coefs,offsets,gridScale))"
   ]
  },
  {
   "cell_type": "code",
   "execution_count": 28,
   "metadata": {
    "execution": {
     "iopub.execute_input": "2021-12-09T21:46:03.234459Z",
     "iopub.status.busy": "2021-12-09T21:46:03.233933Z",
     "iopub.status.idle": "2021-12-09T21:46:08.359784Z",
     "shell.execute_reply": "2021-12-09T21:46:08.360237Z"
    }
   },
   "outputs": [
    {
     "name": "stdout",
     "output_type": "stream",
     "text": [
      "CPU times: user 5.08 s, sys: 29.8 ms, total: 5.11 s\n",
      "Wall time: 5.12 s\n"
     ]
    }
   ],
   "source": [
    "%%time\n",
    "u0=np.where(np.isnan(bc),np.inf,bc)\n",
    "solution_FM,nupdate_FM = FastMarching(Update,u0,(coefs,offsets,gridScale))"
   ]
  },
  {
   "cell_type": "markdown",
   "metadata": {},
   "source": [
    "As before, the number of updates per point is largest for global iteration, and smallest for the fast marching method."
   ]
  },
  {
   "cell_type": "code",
   "execution_count": 29,
   "metadata": {
    "execution": {
     "iopub.execute_input": "2021-12-09T21:46:08.365070Z",
     "iopub.status.busy": "2021-12-09T21:46:08.364513Z",
     "iopub.status.idle": "2021-12-09T21:46:08.367546Z",
     "shell.execute_reply": "2021-12-09T21:46:08.367977Z"
    }
   },
   "outputs": [
    {
     "name": "stdout",
     "output_type": "stream",
     "text": [
      "Number of updates per point.\n",
      "Global iteration : 65\n",
      "Fast sweeping : 48\n",
      "Fast marching : 3.021914648212226\n"
     ]
    }
   ],
   "source": [
    "print(\"Number of updates per point.\")\n",
    "print(\"Global iteration :\",nupdate_Global)\n",
    "print(\"Fast sweeping :\",nupdate_Sweep)\n",
    "print(\"Fast marching :\",nupdate_FM)"
   ]
  },
  {
   "cell_type": "markdown",
   "metadata": {},
   "source": [
    "The residue of the fast marching method is zero, up to numerical precision. In constrast, the residue of the fast sweeping method and of the global iteration method is expected to be of the order of the prescribed tolerance $\\epsilon$, here defaulted to $\\epsilon = 1e-6$."
   ]
  },
  {
   "cell_type": "code",
   "execution_count": 30,
   "metadata": {
    "execution": {
     "iopub.execute_input": "2021-12-09T21:46:08.372621Z",
     "iopub.status.busy": "2021-12-09T21:46:08.372104Z",
     "iopub.status.idle": "2021-12-09T21:46:08.380474Z",
     "shell.execute_reply": "2021-12-09T21:46:08.380934Z"
    }
   },
   "outputs": [
    {
     "name": "stdout",
     "output_type": "stream",
     "text": [
      "Numerical scheme residue.\n",
      "Global iteration : 2.930180383664549e-06\n",
      "Fast sweeping : 1.261707627264741e-09\n",
      "Fast marching : 1.9761969838327786e-14\n"
     ]
    }
   ],
   "source": [
    "residue_Global,residue_Sweep,residue_FM = (norm_infinity(Scheme(solution,coefs,offsets,gridScale))\n",
    "                                           for solution in (solution_Global,solution_Sweep,solution_FM))\n",
    "print(\"Numerical scheme residue.\")\n",
    "print(\"Global iteration :\",residue_Global)\n",
    "print(\"Fast sweeping :\",residue_Sweep)\n",
    "print(\"Fast marching :\",residue_FM)"
   ]
  },
  {
   "cell_type": "markdown",
   "metadata": {},
   "source": [
    "## 4. GPU acceleration\n",
    "\n",
    "Eikonal equation solvers can take advantage of GPU acceleration. We illustrate here the basic architecture and concepts of this implementation. \n",
    "\n",
    "**AGD library eikonal solver.** Note that an eikonal solver with many more features (source factorization, arbitrary dimension, anisotropic metrics, etc) is included in the AGD library. The one presented here is only intended as an introduction and for teaching purposes."
   ]
  },
  {
   "cell_type": "code",
   "execution_count": 31,
   "metadata": {
    "execution": {
     "iopub.execute_input": "2021-12-09T21:46:08.384780Z",
     "iopub.status.busy": "2021-12-09T21:46:08.384258Z",
     "iopub.status.idle": "2021-12-09T21:46:08.571171Z",
     "shell.execute_reply": "2021-12-09T21:46:08.570193Z"
    }
   },
   "outputs": [
    {
     "ename": "DeliberateNotebookError",
     "evalue": "Cupy needed for the rest of this notebook",
     "output_type": "error",
     "traceback": [
      "\u001b[0;31m---------------------------------------------------------------------------\u001b[0m",
      "\u001b[0;31mModuleNotFoundError\u001b[0m                       Traceback (most recent call last)",
      "\u001b[0;32m/var/folders/my/8txl5p_52rj9jc_601wqr7cr0000gn/T/ipykernel_92756/3002064933.py\u001b[0m in \u001b[0;36m<module>\u001b[0;34m\u001b[0m\n\u001b[0;32m----> 1\u001b[0;31m \u001b[0;32mtry\u001b[0m\u001b[0;34m:\u001b[0m \u001b[0;32mimport\u001b[0m \u001b[0mcupy\u001b[0m \u001b[0;32mas\u001b[0m \u001b[0mcp\u001b[0m\u001b[0;34m\u001b[0m\u001b[0;34m\u001b[0m\u001b[0m\n\u001b[0m\u001b[1;32m      2\u001b[0m \u001b[0;32mexcept\u001b[0m \u001b[0mModuleNotFoundError\u001b[0m\u001b[0;34m:\u001b[0m \u001b[0;32mraise\u001b[0m \u001b[0mad\u001b[0m\u001b[0;34m.\u001b[0m\u001b[0mDeliberateNotebookError\u001b[0m\u001b[0;34m(\u001b[0m\u001b[0;34m\"Cupy needed for the rest of this notebook\"\u001b[0m\u001b[0;34m)\u001b[0m\u001b[0;34m\u001b[0m\u001b[0;34m\u001b[0m\u001b[0m\n",
      "\u001b[0;31mModuleNotFoundError\u001b[0m: No module named 'cupy'",
      "\nDuring handling of the above exception, another exception occurred:\n",
      "\u001b[0;31mDeliberateNotebookError\u001b[0m                   Traceback (most recent call last)",
      "\u001b[0;32m/var/folders/my/8txl5p_52rj9jc_601wqr7cr0000gn/T/ipykernel_92756/3002064933.py\u001b[0m in \u001b[0;36m<module>\u001b[0;34m\u001b[0m\n\u001b[1;32m      1\u001b[0m \u001b[0;32mtry\u001b[0m\u001b[0;34m:\u001b[0m \u001b[0;32mimport\u001b[0m \u001b[0mcupy\u001b[0m \u001b[0;32mas\u001b[0m \u001b[0mcp\u001b[0m\u001b[0;34m\u001b[0m\u001b[0;34m\u001b[0m\u001b[0m\n\u001b[0;32m----> 2\u001b[0;31m \u001b[0;32mexcept\u001b[0m \u001b[0mModuleNotFoundError\u001b[0m\u001b[0;34m:\u001b[0m \u001b[0;32mraise\u001b[0m \u001b[0mad\u001b[0m\u001b[0;34m.\u001b[0m\u001b[0mDeliberateNotebookError\u001b[0m\u001b[0;34m(\u001b[0m\u001b[0;34m\"Cupy needed for the rest of this notebook\"\u001b[0m\u001b[0;34m)\u001b[0m\u001b[0;34m\u001b[0m\u001b[0;34m\u001b[0m\u001b[0m\n\u001b[0m",
      "\u001b[0;31mDeliberateNotebookError\u001b[0m: Cupy needed for the rest of this notebook"
     ]
    }
   ],
   "source": [
    "try: import cupy as cp\n",
    "except ModuleNotFoundError: raise ad.DeliberateNotebookError(\"Cupy needed for the rest of this notebook\")"
   ]
  },
  {
   "cell_type": "markdown",
   "metadata": {},
   "source": [
    "GPU acceleration is mostly visible on large test cases, preferably in three dimensions. In this illustration, we content ourselves with a two dimensional map of centre Pompidou."
   ]
  },
  {
   "cell_type": "code",
   "execution_count": 314,
   "metadata": {},
   "outputs": [],
   "source": [
    "local_path = 'TestImages/centre_pompidou_800x546.png'\n",
    "web_path = 'https://github.com/Mirebeau/AdaptiveGridDiscretizations/blob/master/Notebooks_FMM/TestImages/centre_pompidou_800x546.png?raw=true'\n",
    "\n",
    "try: im = matplotlib.image.imread(local_path)\n",
    "except FileNotFoundError: im = matplotlib.image.imread(web_path)\n",
    "im = im[68:515,65:770]\n",
    "dom = np.logical_and(np.logical_and(im[:,:,0]==0,im[:,:,1]==0),im[:,:,2]==1).T\n",
    "cost_map = np.where(dom,1,np.inf).T\n",
    "cost_map = cp.asarray(cost_map,dtype=np.float32)"
   ]
  },
  {
   "cell_type": "code",
   "execution_count": 315,
   "metadata": {},
   "outputs": [
    {
     "data": {
      "image/png": "[encoded data removed]",
      "text/plain": [
       "<Figure size 432x288 with 1 Axes>"
      ]
     },
     "metadata": {
      "needs_background": "light"
     },
     "output_type": "display_data"
    }
   ],
   "source": [
    "plt.contourf(cost_map.get());"
   ]
  },
  {
   "cell_type": "markdown",
   "metadata": {},
   "source": [
    "### 4.1 Update operator\n",
    "\n",
    "**Update of a point**\n",
    "For simplicity, we content ourselfves with the isotropic eikonal equation $\\|\\nabla u\\| = c$ in two dimensions, in contrast with the Riemannian eikonal equation addressed above. We use the standard Rouy-Tourin discretization, reading\n",
    "$$\n",
    "    \\max\\{0,u(x)-u(x-h e_1), u(x)-u(x+h e_1)\\}^2 + \\max\\{0,u(x)-u(x-h e_2), u(x)-u(x+h e_2)\\}^2 = h^2 c(x)^2,\n",
    "$$\n",
    "where $(e_1,e_2)$ is the canonical basis of $R^2$.\n",
    "\n",
    "The update operator is defined as the solution $u(x)$ of this equation, when the neighbor values $u(x\\pm h e_1)$ and $u(x\\pm h e_2)$ are fixed.\n",
    "It can be computed as follows : \n",
    "* define $v_0 = \\min\\{u(x-h e_1), u(x+h e_1)\\}$, $v_1 = \\min\\{u(x-h e_1), u(x+h e_1)\\}$.\n",
    "* define $w_0 = \\min\\{v_0,v_1\\}$ and $w_1=\\max\\{v_0,v_1\\}$.\n",
    "* define $C = h c(x)$.\n",
    "\n",
    "The equation to be solved, with unknown $\\lambda = u(x)$, now reads:\n",
    "$$\n",
    "    (\\lambda-w_0)_+^2 + (\\lambda-w_0)_+^2 = C^2.\n",
    "$$\n",
    "The solution $\\lambda$ is :\n",
    "* $C+w_0$ if this value is smaller than $w_1$.\n",
    "* the largest root of the quadratic equation  $(\\lambda-w_0)^2 + (\\lambda-w_0)^2 = C^2$ otherwise.\n",
    "\n",
    "\n",
    "**Update of a block.**\n",
    "We group points into blocks of $8\\times 8$. Accordingly, a block of $64$ GPU threads loads the solution values at these points as well as their neighbors, into shared memory. Each GPU thread is responsible for one point in the block, and updates its value a in parallel. These updates are repeated a fixed number of times, so that the information can propagate through the block. Afterwards, the block data is written back from shared memory to main GPU memory."
   ]
  },
  {
   "cell_type": "markdown",
   "metadata": {},
   "source": [
    "### 4.2 Cuda kernel\n",
    "\n",
    "**Main domain.**\n",
    "The eikonal PDE is solved on a domain of size `xmax_ * ymax_`, whose point coordinates are denoted `x_` and `y_`, with `0 <= x_ < xmax_` and `0 <= y_ < ymax_`.\n",
    "\n",
    "**Subdomains.**\n",
    "A block of threads works on a subdomain of size `10 * 10`, whose point coordinates are denoted `x` and `y`, with `0 <= x <10` and `0 <= y < 10`. The subdomain is divided into two regions:\n",
    "* the *interior*, where `1 <= x < 9` and `1 <= y < 9`, contains `8*8 = 64` points each handled by one thread within the block. (This means that `64` threads are used.) The values corresponding to these points are loaded, processed and updated.\n",
    "* the *boundary* which is the complement of the interior. The values corresponding to these points are loaded, but not updated.\n",
    "\n",
    "The position of a subdomain is characterized by two variables `X` and `Y`. The interiors of distinct subdomains are disjoints, but they boundaries overlap. The mapping from the subdomain to the domain is `x_ = 8*X + x - 1` and `y_ = 8*Y + y - 1`.\n",
    "\n",
    "<!---\n",
    "**Numerical scheme.**\n",
    "We solve the isotropic eikonal equation, using the standard scheme of Rouy, which can be written:\n",
    "$$\n",
    "    (\\lambda - v_0)_+^2 + (\\lambda-v_1)_+^2 = c(x,y)^2,\n",
    "$$\n",
    "where $v_0 = \\min\\{u(x+1,y),u(x-1,y)\\}$ and $v_1 = \\min\\{u(x,y+1),u(x,y-1)\\}$. The unknown $u$ is extended by $+\\infty$ outside of the domain.\n",
    "--->\n",
    "\n",
    "<!---ExoFR\n",
    "Compléter le noyau cuda ci-dessous.\n",
    "--->\n",
    "\n",
    "<!---ExoCode\n",
    "try: kernel=open(\"TestData/IsoEik_GPU_exo.h\").read()\n",
    "except FileNotFoundError: \n",
    "    import urllib.request; \n",
    "    kernel=urllib.request.urlopen(\"https://dl.dropbox.com/s/7w46ai2v62e2k7e/IsoEik_GPU_exo.h?dl=0\").read().decode(\"utf-8\")\n",
    "--->"
   ]
  },
  {
   "cell_type": "code",
   "execution_count": 350,
   "metadata": {},
   "outputs": [],
   "source": [
    "try: kernel=open(\"TestData/IsoEik_GPU.h\").read()\n",
    "except FileNotFoundError: import urllib.request; kernel=urllib.request.urlopen(\"https://dl.dropbox.com/s/rzprc0cxn97fss2/IsoEik_GPU.h?dl=0\").read().decode(\"utf-8\")"
   ]
  },
  {
   "cell_type": "code",
   "execution_count": 351,
   "metadata": {},
   "outputs": [
    {
     "name": "stdout",
     "output_type": "stream",
     "text": [
      "const float tol = 1e-8; // Stopping criterion tolerance\n",
      "const int niter = 8; // Iterations within a block\n",
      "\n",
      "extern \"C\" { \n",
      "__global__ void eikonal_update(float * u_, float * cost_, \n",
      "int * update_list, char * update_next, int xmax_, int ymax_){\n",
      "\n",
      "// Expecting threadDim.x=64, threadDim.y=threadDim.z=blockDim.y=blockDim.z=1\n",
      "const int tid = threadIdx.x;\n",
      "const int bid = blockIdx.x;\n",
      "\n",
      "\n",
      "// Blocks are organized in a grid of size Xmax x Ymax\n",
      "// The current block has position (X,Y) within this grid\n",
      "const int Xmax = 1+(xmax_-1)/8, Ymax = 1+(ymax_-1)/8;\n",
      "const float inf = 1./0.;\n",
      "\n",
      "__shared__ int X,Y;\n",
      "__shared__ bool updated; // Wether this block was significantly updated\n",
      "\n",
      "if(tid==0){\n",
      "\tconst long n = update_list[bid];\n",
      "\tX = n/Ymax; Y = n%Ymax;\n",
      "\tupdated=false;\n",
      "}\n",
      "__syncthreads();\n",
      "\n",
      "// Load the solution values at the points of the block and a layer of neighbors\n",
      "__shared__ float u[10][10];\n",
      "\n",
      "for(int r=0; r<2; ++r){\n",
      "\tconst int m = tid + r*blockDim.x;\n",
      "\tif(m>=100) break;\n",
      "\tconst int x = m/10, y=m%10;\n",
      "\n",
      "\tconst int x_ = 8*X+x-1, y_ = 8*Y+y-1;\n",
      "\tu[x][y] = (0<=x_ && x_<xmax_ && 0<=y_ && y_<ymax_) ? u_[ymax_*x_ + y_] : inf;\n",
      "}\n",
      "\n",
      "__syncthreads();\n",
      "\n",
      "// Compute the position (x,y) within this block, and (x_,y_) within the global grid\n",
      "const int x  = (tid/8)+1, y=(tid%8)+1;\n",
      "const int x_ = 8*X+x-1, y_=8*Y+y-1;\n",
      "const float cost = (x_<xmax_ && y_<ymax_) ? cost_[ymax_*x_+y_] : inf;\n",
      "const float u_old = u[x][y];\n",
      "\n",
      "// Apply the local update operator a prescribed number of times\n",
      "for(int iter=0; iter<niter; ++iter){\n",
      "\n",
      "\t// Get the neighbor values\n",
      "\tconst float \n",
      "\tv0 = min(u[x+1][y], u[x-1][y]),\n",
      "\tv1 = min(u[x][y+1], u[x][y-1]);\n",
      "\tconst float \n",
      "\tw0 = min(v0,v1), \n",
      "\tw1 = max(v0,v1);\n",
      "\n",
      "\t// Compute the update\n",
      "\tfloat u_new = w0 + cost;\n",
      "\tif(u_new>w1){\n",
      "\t\tconst float delta = 2.*cost*cost - (w0-w1)*(w0-w1); // Non-negative, up to machine precision\n",
      "\t\tu_new = (w0+w1 + sqrt(max(0.,delta)) )/2.;\n",
      "\t}\n",
      "\n",
      "\t// Set the new value, if smaller. \n",
      "\t// (Guaranteed to decrease, up to machine precision, \n",
      "\t// except at seed points which must be preserved)\n",
      "\tu[x][y] = min(u[x][y],u_new);\n",
      "\n",
      "\t__syncthreads();\n",
      "}  \n",
      "\n",
      "// Export the updated values of the solution\n",
      "if(x_<xmax_ && y_<ymax_) u_[ymax_*x_+y_] = u[x][y];\n",
      "\n",
      "// Check if any value has substantially changed\n",
      "if(u[x][y] < u_old-tol) updated=true;\n",
      "__syncthreads();\n",
      "\n",
      "// Mark this block and neighbors for update, if adequate\n",
      "if(tid==0 && updated){\n",
      "\tupdate_next[Ymax*X+Y]=1; \n",
      "\tif(X+1<Xmax)  update_next[Ymax*(X+1)+Y]=1;\n",
      "\tif(X-1>=0)    update_next[Ymax*(X-1)+Y]=1;\n",
      "\tif(Y+1<Ymax)  update_next[Ymax*X+(Y+1)]=1;\n",
      "\tif(Y-1>=0)    update_next[Ymax*X+(Y-1)]=1;\n",
      "}\n",
      "\n",
      "} // void eikonal_gpu_update\n",
      "} // extern \"C\"\n"
     ]
    }
   ],
   "source": [
    "print(kernel)"
   ]
  },
  {
   "cell_type": "code",
   "execution_count": 318,
   "metadata": {},
   "outputs": [],
   "source": [
    "eikonal_gpu_update = cp.RawKernel(kernel,'eikonal_update')"
   ]
  },
  {
   "cell_type": "markdown",
   "metadata": {},
   "source": [
    "### 4.3 Global iteration\n",
    "\n",
    "We update here all blocks in parallel. As a result a given block is updated many times uselessly : before the front reaches it, and after its value has stabilized. "
   ]
  },
  {
   "cell_type": "code",
   "execution_count": 319,
   "metadata": {},
   "outputs": [],
   "source": [
    "xseed,yseed = 102,15; cost = cost_map\n",
    "#xseed,yseed = 3,3; cost = cp.ones((18,23),dtype=np.float32); cost[7,:10]=np.inf #Small instance for testing"
   ]
  },
  {
   "cell_type": "code",
   "execution_count": 320,
   "metadata": {},
   "outputs": [],
   "source": [
    "u = np.full_like(cost,np.inf)\n",
    "Shape = tuple(int(np.ceil(s/8)) for s in u.shape)\n",
    "update_next = cp.full(Shape,0,dtype=np.uint8)"
   ]
  },
  {
   "cell_type": "code",
   "execution_count": 327,
   "metadata": {
    "scrolled": true
   },
   "outputs": [
    {
     "name": "stdout",
     "output_type": "stream",
     "text": [
      "Wall time: 165 ms\n"
     ]
    }
   ],
   "source": [
    "%%time\n",
    "# Make sure the arrays are C-contiguous (silent bug otherwise)\n",
    "u,cost,update_next = [cp.ascontiguousarray(e) for e in (u,cost,update_next)]\n",
    "\n",
    "# Initialize data\n",
    "u.fill(np.inf); u[xseed,yseed]=0\n",
    "update_list = cp.arange(np.prod(Shape),dtype=np.int32)\n",
    "\n",
    "# Global updates (Bounded number of iterations, just to be safe)\n",
    "for it in range(2000): \n",
    "    update_next.fill(0)\n",
    "    eikonal_gpu_update( (update_list.size,), (64,), (u,cost,update_list,update_next,*u.shape))\n",
    "    if not np.any(update_next): break"
   ]
  },
  {
   "cell_type": "code",
   "execution_count": 328,
   "metadata": {},
   "outputs": [
    {
     "name": "stdout",
     "output_type": "stream",
     "text": [
      "Number updates : 209\n",
      "Number of block udpates : 209\n"
     ]
    }
   ],
   "source": [
    "print(f\"Number updates : {it}\")\n",
    "print(f\"Number of block udpates : {it}\")"
   ]
  },
  {
   "cell_type": "code",
   "execution_count": 329,
   "metadata": {},
   "outputs": [
    {
     "data": {
      "image/png": "[encoded data removed]",
      "text/plain": [
       "<Figure size 432x288 with 1 Axes>"
      ]
     },
     "metadata": {
      "needs_background": "light"
     },
     "output_type": "display_data"
    }
   ],
   "source": [
    "plt.axis('equal')\n",
    "plt.contourf(u.get());"
   ]
  },
  {
   "cell_type": "code",
   "execution_count": 330,
   "metadata": {},
   "outputs": [],
   "source": [
    "u_global = u.copy()"
   ]
  },
  {
   "cell_type": "markdown",
   "metadata": {},
   "source": [
    "The solution has indeed stabilized: further updates have no effect."
   ]
  },
  {
   "cell_type": "code",
   "execution_count": 331,
   "metadata": {},
   "outputs": [],
   "source": [
    "eikonal_gpu_update( (update_list.size,), (64,), (u_global,cost,update_list,update_next,*u.shape))\n",
    "assert np.nanmax(np.abs(u_global-u)) == 0."
   ]
  },
  {
   "cell_type": "markdown",
   "metadata": {},
   "source": [
    "### 4.4 Adaptive Gauss-Siedel iteration\n",
    "\n",
    "We update a block when the value at one of its neighbors has changed, following a strategy often referred to as the AGSI. Many other strategies exist, going by the names of fast-sweeping, fast-iterative-method, etc"
   ]
  },
  {
   "cell_type": "code",
   "execution_count": 346,
   "metadata": {},
   "outputs": [
    {
     "name": "stdout",
     "output_type": "stream",
     "text": [
      "Wall time: 111 ms\n"
     ]
    }
   ],
   "source": [
    "%%time\n",
    "# Make sure the arrays are C-contiguous (silent bug otherwise)\n",
    "u,update_next = [cp.ascontiguousarray(e) for e in (u,update_next)]\n",
    "\n",
    "# Initialize data\n",
    "u.fill(np.inf); u[xseed,yseed]=0\n",
    "update_next.fill(0); update_next[xseed/8,yseed/8]=1\n",
    "update_counter = np.zeros_like(update_next,dtype=np.int32)\n",
    "\n",
    "# Global updates (Bounded number of iterations, just to be safe)\n",
    "for it in range(1000): \n",
    "    update_counter+=update_next\n",
    "    update_list = np.flatnonzero(update_next); update_list = cp.ascontiguousarray(update_list,dtype=np.int32)\n",
    "    if update_list.size==0: break\n",
    "    update_next.fill(0)\n",
    "    eikonal_gpu_update( (update_list.size,), (64,), (u,cost,update_list,update_next,*u.shape))"
   ]
  },
  {
   "cell_type": "code",
   "execution_count": 347,
   "metadata": {},
   "outputs": [
    {
     "data": {
      "image/png": "[encoded data removed]",
      "text/plain": [
       "<Figure size 432x288 with 1 Axes>"
      ]
     },
     "metadata": {
      "needs_background": "light"
     },
     "output_type": "display_data"
    }
   ],
   "source": [
    "plt.axis('equal')\n",
    "plt.contourf(u.get());"
   ]
  },
  {
   "cell_type": "markdown",
   "metadata": {},
   "source": [
    "Computation time is not much faster in this instance, because it is small and therefore not enough parallelism can be exploited by the GPU. (More substantial differences are obtained with 3D problems.) Nevertheless on can check that the number of bloc updates is significantly reduced. A further reduction could be obtained using the FIM or adjusting parameters such as the number of iterations per block."
   ]
  },
  {
   "cell_type": "code",
   "execution_count": 344,
   "metadata": {},
   "outputs": [
    {
     "name": "stdout",
     "output_type": "stream",
     "text": [
      "Number of iterations 212\n",
      "Mean number of block updates 43.401685393258425\n"
     ]
    }
   ],
   "source": [
    "print(f\"Number of iterations {it}\")\n",
    "print(f\"Mean number of block updates\",np.mean(update_counter))"
   ]
  },
  {
   "cell_type": "code",
   "execution_count": 345,
   "metadata": {},
   "outputs": [
    {
     "data": {
      "image/png": "[encoded data removed]",
      "text/plain": [
       "<Figure size 432x288 with 2 Axes>"
      ]
     },
     "metadata": {
      "needs_background": "light"
     },
     "output_type": "display_data"
    }
   ],
   "source": [
    "plt.contourf(update_counter.get()) \n",
    "plt.axis('equal'); plt.colorbar();"
   ]
  },
  {
   "cell_type": "markdown",
   "metadata": {},
   "source": [
    "The solution of the AGSI and of the global update are identical up to small numerical errors."
   ]
  },
  {
   "cell_type": "code",
   "execution_count": 343,
   "metadata": {},
   "outputs": [],
   "source": [
    "assert np.nanmax(np.abs(u_global-u))<1e-3"
   ]
  },
  {
   "cell_type": "code",
   "execution_count": null,
   "metadata": {},
   "outputs": [],
   "source": []
  }
 ],
 "metadata": {
  "kernelspec": {
   "display_name": "Python 3",
   "language": "python",
   "name": "python3"
  },
  "language_info": {
   "codemirror_mode": {
    "name": "ipython",
    "version": 3
   },
   "file_extension": ".py",
   "mimetype": "text/x-python",
   "name": "python",
   "nbconvert_exporter": "python",
   "pygments_lexer": "ipython3",
   "version": "3.9.7"
  }
 },
 "nbformat": 4,
 "nbformat_minor": 2
}

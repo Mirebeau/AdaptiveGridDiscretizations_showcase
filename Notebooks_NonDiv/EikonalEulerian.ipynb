{
 "cells": [
  {
   "cell_type": "markdown",
   "metadata": {},
   "source": [
    "# Adaptive PDE discretizations on cartesian grids\n",
    "## Volume : Non-divergence form PDEs\n",
    "## Part : Eikonal equations\n",
    "## Chapter : Eulerian schemes"
   ]
  },
  {
   "cell_type": "markdown",
   "metadata": {},
   "source": [
    "This notebook presents a single pass Eulerian scheme for the Riemannian eikonal equation. It is provided solely for pedagogical purposes.\n",
    "Indeed, let us emphasize that a state of the art C++ implementation, more optimized and versatile, is also provided. It is strongly recommended to use that implementation for any serious application, see [notebook](../Notebooks_FMM/Riemannian.ipynb) and volume [summary](../Notebooks_FMM/Summary.ipynb). "
   ]
  },
  {
   "cell_type": "markdown",
   "metadata": {},
   "source": [
    "The purpose of this notebook is to illustrate the theory and implementation principles underlying eikonal equation solvers, in particular the (anisotropic) fast marching method and the fast sweeping method. \n",
    "The PDE to be solved is known as the *Riemannian eikonal equation*, and it involves a Riemannian metric $M : \\Omega \\to S_d^{++}$ on a domain $\\Omega\\subset R^d$. Denoting by $u : \\Omega \\to R^d$ the unkown, the problem is written\n",
    "$$\n",
    "    \\| \\nabla u(x)\\|_{D(x)} = 1\n",
    "$$\n",
    "for all $x \\in \\Omega$, where $D(x) := M(x)^{-1}$. Null boundary conditions, or outflow boundary conditions, are applied on $\\partial \\Omega$. The solution $u$ should be regarded as the arrival times of a front originating from the boundary. Minimal paths toward the boundary, also known as minimal geodesics, can be extracted by solving the ODE\n",
    "$$\n",
    "    \\gamma'(t) := V(\\gamma(t))\n",
    "$$\n",
    "where $V(x) := D(x) \\nabla u(x)$."
   ]
  },
  {
   "cell_type": "markdown",
   "metadata": {},
   "source": [
    "**Important ! Note on computation speed.** Because of intrinsic limitations of the Python programming language, and in particular the slow execution of sequential programs, the fast marching eikonal solver implemented in this notebook is extremely slow. In particular it is slower than the global iteration, or the fast sweeping method, also implemented. The fast marching method is here only implemented for pedagogical purposes. Please use the C++ implementation, or some reimplementation of the Python programs below in a compiled language, for any application.\n",
    "\n",
    "**Note on accuracy.** The eikonal equation solver presented below is extremely basic, and presented solely for pedagogical purposes. Two optional techniques, implemented in the c++ version allow to increase accuracy: equation factoring, and a dynamic switch to second order finite differences.\n",
    "\n",
    "**Reference.** The numerical scheme implemented in this notebook is described in the following publication:\n",
    "* Jean-Marie Mirebeau, Jorg Portegies, \"Hamiltonian Fast Marching: A numerical solver for anisotropic and non-holonomic eikonal PDEs\", 2019, IPOL [(link)](https://hal.archives-ouvertes.fr/hal-01778322)"
   ]
  },
  {
   "cell_type": "markdown",
   "metadata": {},
   "source": [
    "[**Summary**](Summary.ipynb) of volume Non-Divergence form PDEs, this series of notebooks.\n",
    "\n",
    "[**Main summary**](../Summary.ipynb) of the Adaptive Grid Discretizations \n",
    "\tbook of notebooks, including the other volumes.\n",
    "\n",
    "# Table of contents\n",
    "  * [1. The update operator](#1.-The-update-operator)\n",
    "  * [2. Iteration policies](#2.-Iteration-policies)\n",
    "    * [2.1 Global iteration](#2.1-Global-iteration)\n",
    "    * [2.2 Fast sweeping](#2.2-Fast-sweeping)\n",
    "    * [2.3 Fast marching](#2.3-Fast-marching)\n",
    "  * [3. Anisotropic metric](#3.-Anisotropic-metric)\n",
    "\n",
    "\n",
    "\n",
    "**Acknowledgement.** The experiments presented in these notebooks are part of ongoing research, \n",
    "some of it with PhD student Guillaume Bonnet, in co-direction with Frederic Bonnans.\n",
    "\n",
    "Copyright Jean-Marie Mirebeau, University Paris-Sud, CNRS, University Paris-Saclay"
   ]
  },
  {
   "cell_type": "markdown",
   "metadata": {},
   "source": [
    "## 0. Importing the required libraries"
   ]
  },
  {
   "cell_type": "code",
   "execution_count": 1,
   "metadata": {},
   "outputs": [],
   "source": [
    "import sys; sys.path.insert(0,\"..\") # Allow import of agd from parent directory (useless if conda package installed)\n",
    "#from Miscellaneous import TocTools; TocTools.displayTOC('EikonalEulerian','NonDiv')"
   ]
  },
  {
   "cell_type": "code",
   "execution_count": 2,
   "metadata": {},
   "outputs": [],
   "source": [
    "import sys; sys.path.append(\"..\") # Allow import from parent directory\n",
    "from agd import Selling\n",
    "from agd import LinearParallel as lp\n",
    "from agd import FiniteDifferences as fd\n",
    "from agd import AutomaticDifferentiation as ad"
   ]
  },
  {
   "cell_type": "code",
   "execution_count": 3,
   "metadata": {},
   "outputs": [],
   "source": [
    "import numpy as np\n",
    "import matplotlib.pyplot as plt\n",
    "import itertools\n",
    "import heapq\n",
    "import scipy.linalg"
   ]
  },
  {
   "cell_type": "code",
   "execution_count": 4,
   "metadata": {},
   "outputs": [],
   "source": [
    "def LInfNorm(a):\n",
    "    return np.max(np.abs(np.array(a)))\n",
    "\n",
    "def as_field(u,shape):\n",
    "    ndim = len(shape)\n",
    "    if u.ndim>=ndim and u.shape[-ndim:]==shape: return u\n",
    "    else: return np.broadcast_to(u.reshape(u.shape+(1,)*ndim), u.shape+shape)"
   ]
  },
  {
   "cell_type": "markdown",
   "metadata": {},
   "source": [
    "## 1. The update operator\n",
    "\n",
    "Our discretization of the eikonal equation is based on a decomposition of the inverse tensors to the Riemannian metric. For all $x \\in \\Omega$,\n",
    "$$\n",
    "    D(x) = \\sum_{1 \\leq i \\leq I} \\rho_i(x) e_i e_i^T\n",
    "$$\n",
    "where $\\rho_i(x) \\geq 0$ is a non-negative weight, and $e_i=e_i(x) \\in Z^d$ is an offset, which may depend on the current position $x$.\n",
    "The numerical scheme reads\n",
    "$$\n",
    "    F u (x) := \\sum_{1 \\leq i \\leq I} \\rho_i(x) \\max \\{0,\\frac{u(x)-u(x-h e_i)} h, \\frac{u(x)-u(x+h e_i)} h\\}^2 - 1.\n",
    "$$\n",
    "for all discretization points $x$ in the domain interior. One has to solve $F u \\equiv 0$.\n",
    "\n",
    "**Historical note.**\n",
    "This numerical scheme was introduced by Rouy in 1992, in the case of an isotropic metric: $D(x)$ is proportional to the identity matrix. In that special case, the natural tensor decomposition only uses offsets from the canonical basis. It was observed by Sethian in 1996 that it can be solved in a single pass using the fast marching method. \n",
    "\n",
    "The author, in 2018, generalized the scheme to handle arbitrary anisotropic Riemannian metrics, using adequate methods for tensor decomposition. See the reference in the introduction."
   ]
  },
  {
   "cell_type": "code",
   "execution_count": 5,
   "metadata": {},
   "outputs": [],
   "source": [
    "def Scheme(u,coefs,offsets,h):\n",
    "    v = np.maximum(0,np.maximum(-fd.DiffUpwind(u, offsets,gridScale=h,padding=np.inf),\n",
    "                                -fd.DiffUpwind(u,-offsets,gridScale=h,padding=np.inf)))\n",
    "    residue = (coefs*np.maximum(0,v)**2).sum(axis=0) - 1.\n",
    "    boundary = np.logical_or.reduce(np.isnan(coefs),axis=0)\n",
    "    return np.where(boundary,0.,residue)"
   ]
  },
  {
   "cell_type": "markdown",
   "metadata": {},
   "source": [
    "In contrast with the other notebooks of this series, we will not use a Newton method to solve this numerical scheme. Instead, we rely on Gauss-Siedel updates. In other words we solve, pointwise, for $u(x)$ assuming that $u(y)$ is fixed for all $y \\neq x$. These updates are repeated until convergence, following an order in the domain that is discussed below.\n",
    "\n",
    "**Gauss-Siedel update of $u(x)$.** Consider a fixed point $x \\in \\Omega$, and denote, for all $1 \\leq i \\leq I$,\n",
    "$$\n",
    "    v_i := \\min \\{u(x-h e_i), u(x+h e_i)\\}.\n",
    "$$\n",
    "Assume that $v_1 \\leq \\cdots \\leq v_I$, up to sorting these quantities.\n",
    "Then $\\lambda = u(x)$ is the solution to a quadratic equation\n",
    "$$\n",
    "    \\alpha \\lambda^2 - 2 \\beta \\lambda + \\gamma = 0\n",
    "$$\n",
    "where \n",
    "$$\n",
    "    \\alpha := \\sum_{1 \\leq i \\leq J} \\rho_i, \\quad \\beta := \\sum_{1 \\leq i \\leq J} \\rho_i v_i, \\quad \\gamma := -h^2+\\sum_{i \\leq J} \\rho_i v_i^2.\n",
    "$$\n",
    "We denoted by $J$ the unique integer $1 \\leq J \\leq I$ such that  \n",
    "$$\n",
    "    \\lambda \\in [v_J,v_{J+1}],\n",
    "$$\n",
    "with the convention $V_{I+1} = \\infty$."
   ]
  },
  {
   "cell_type": "code",
   "execution_count": 6,
   "metadata": {},
   "outputs": [],
   "source": [
    "def gtr_silentNaN(a,b):\n",
    "    \"\"\"Compare two values without emitting a warning for NaNs\"\"\"\n",
    "    from numpy import warnings\n",
    "    with np.warnings.catch_warnings():\n",
    "        warnings.simplefilter(\"ignore\")\n",
    "        return a>b\n",
    "    \n",
    "def Update(u,coefs,offsets,h,where=(Ellipsis,)):\n",
    "    \"\"\"Local Gauss-Siedel update for the fast marching algorithm\"\"\"\n",
    "    #Get the values at the neighbors\n",
    "    v = np.minimum(fd.TakeAtOffset(u, offsets,padding=np.inf,where=where),\n",
    "                   fd.TakeAtOffset(u,-offsets,padding=np.inf,where=where))\n",
    "    \n",
    "    u,coefs=u[where],coefs[(slice(None),)+where] # Akin to coefs[:,where]\n",
    "    \n",
    "    v[coefs==0.] = np.inf; \n",
    "    ai=v.argsort(axis=0)\n",
    "    v,coefs = (np.take_along_axis(a,ai,axis=0) for a in (v,coefs))\n",
    "    \n",
    "    # Initialize the variables\n",
    "    result= np.zeros_like(u)\n",
    "    result[v[0]==np.inf]=np.inf # Far points\n",
    "    boundary = np.logical_or.reduce(np.isnan(coefs),axis=0)\n",
    "    result[boundary]=u[boundary] # Apply bc\n",
    "    considered = np.logical_and(v[0]<np.inf, np.logical_not(boundary))    \n",
    "    v[:,np.logical_not(considered)] = np.nan; coefs[:,np.logical_not(considered)] = np.nan\n",
    "    \n",
    "    alpha = coefs[0]\n",
    "    beta  = np.zeros_like(u)\n",
    "    gamma = np.zeros_like(u) - h**2\n",
    "    solution = h/np.sqrt(alpha)\n",
    "    result[considered] = v[0,considered]+solution[considered] # Update from closest neighbor\n",
    "        \n",
    "    # Solve the quadratic equations\n",
    "    for rhoi, vi in zip(coefs[1:],v[1:]-v[0]):\n",
    "        considered = np.logical_and(considered,gtr_silentNaN(np.inf,vi))\n",
    "        if not isinstance(vi,np.ndarray): vi=np.array(vi)\n",
    "        vi[vi==np.inf]=np.nan\n",
    "        \n",
    "        alpha+=rhoi\n",
    "        beta+=rhoi*vi\n",
    "        gamma+=rhoi*vi**2\n",
    "        \n",
    "        delta = beta**2 - gamma*alpha\n",
    "        sdelta = np.sqrt(np.maximum(0.,delta))\n",
    "        considered = np.logical_and(considered,gtr_silentNaN(delta,0)) #delta>0.)\n",
    "\n",
    "        solution = (beta+sdelta)/alpha\n",
    "        considered = np.logical_and(considered,gtr_silentNaN(solution,vi)) #solution>vi)\n",
    "        result[considered]= v[0,considered]+solution[considered]\n",
    "        \n",
    "    return result"
   ]
  },
  {
   "cell_type": "markdown",
   "metadata": {},
   "source": [
    "We next define the some problem parameters, in order to test the scheme.\n",
    "As a start, we use an isotropic metric on the square, with a single seed point in the center."
   ]
  },
  {
   "cell_type": "code",
   "execution_count": 7,
   "metadata": {},
   "outputs": [],
   "source": [
    "#Define the square [-1,1]^2, sampled on a cartesian grid\n",
    "aX0 = np.linspace(-1,1,51); aX1 = aX0\n",
    "gridScale=aX0[1]-aX0[0]\n",
    "X0,X1 = np.meshgrid(aX0,aX1,indexing='ij')\n",
    "\n",
    "# Define the domain, and the problem parameters\n",
    "metric = as_field(np.eye(2),X0.shape)\n",
    "bc=np.full(X0.shape,np.nan)\n",
    "bc[X0.shape[0]//2,X0.shape[1]//2] = 0\n",
    "\n",
    "# Decompose the tensors dual to the Riemannian metric\n",
    "coefs, offsets = Selling.Decomposition(lp.inverse(metric))\n",
    "coefs[:,np.logical_not(np.isnan(bc))] = np.nan"
   ]
  },
  {
   "cell_type": "code",
   "execution_count": 8,
   "metadata": {},
   "outputs": [],
   "source": [
    "#u0=np.where(np.isnan(bc),np.inf,bc)\n",
    "#Update(u0,coefs,offsets,gridScale)"
   ]
  },
  {
   "cell_type": "markdown",
   "metadata": {},
   "source": [
    "## 2. Iteration policies\n",
    "\n",
    "We present three classical iteration policies, applied to for the Gauss-Siedel update implemented in the previous section. The justification of their convergence is based on mathematical properties, referred to as *Monotony* and *Causality*.\n",
    "\n",
    "**Monotony.** Denote by $\\Lambda$ the Gauss-Siedel update operator implemented above. This operator benefits from an important property, known as monotony: for any discrete maps $u,v$\n",
    "$$\n",
    "    u\\leq v \\Rightarrow \\Lambda u \\leq \\Lambda v,\n",
    "$$\n",
    "where $u\\leq v$ means $u(x) \\leq v(x)$ for all points $x\\in X$ of the discretization domain $X$.\n",
    "Monotony is inherited from another property of the numerical scheme $F$, known as degenerate ellipticity: $Fu(x)$ is a non-decreasing function of the finite differences $u(x)-u(y)$, $y \\neq x$.\n",
    "\n",
    "**Iterative methods**\n",
    "Thanks to monotony, and mild additional technical assumptions, basic repeated iteration of the updates over the domain is guaranteed to converge to the numerical scheme solution. Some variants exist in the iteration order, for instance:\n",
    "* *Global iteration.* Set $u(x) \\gets \\Lambda u(x)$ simultaneously for all $x\\in X$.\n",
    "* *Fast sweeping and related methods.* Set $u(x) \\gets \\Lambda u(x)$ simultaneously for all $x$ in a slice of the domain. Iterate slice by slice: left to right, right to left, top to bottom, bottom to top, and then repeat.\n",
    "\n",
    "Iterations are stopped when a stopping criterion is met. If the initialization $u_0$ equals $+\\infty$ in the domain interior, or a sufficiently large value, then one easily shows using monotonicity that the successive iterates obey $u_{n+1} \\leq u_n$. A typicaly stopping criterion is then \n",
    "$$\n",
    "    u_{n+1} \\geq u_n+ \\epsilon,\n",
    "$$\n",
    "where $\\epsilon>0$ is a given tolerance.\n",
    "\n",
    "**Causality.** The Gauss-Siedel update operator corresponding to our numerical scheme benefits from an additional property, known as causality: for any discrete maps $u$ \n",
    "$$\n",
    "    \\Lambda u(x) \\text{ may depend on } u(y) \\text{ only if } u(y) < \\Lambda u(x).\n",
    "$$\n",
    "Causality is inherited from another property of the numerical scheme $F$, also referred to as causality: $Fu(x)$ only depends on the non-negative part of the finite differences $u(x)-u(y)$, $y\\neq x$.\n",
    "Note that, in addition, $u(x)$ may depend on $u(y)$ only if $y$ appears in the stencil of $x$, in other words $y = x\\pm h e_i$ for some $1 \\leq i \\leq I$.\n",
    "\n",
    "**Single pass solution.**\n",
    "Thanks to monotony and causality, and mild additional technical assumptions, the system of equations discretizing the PDE can be solved in a *single pass* over the domain, visiting each point a finite number of times that is prescribed in advance. For that purpose, a variant of Dijkstra's shortest path algorithm is used, known as the fast marching method.\n",
    "\n",
    "In contrast with the iterative methods, the fast marching naturally stops after a finite number of steps."
   ]
  },
  {
   "cell_type": "markdown",
   "metadata": {},
   "source": [
    "### 2.1 Global iteration\n",
    "\n",
    "We simultaneously update the unknown function $u$ over all the domain."
   ]
  },
  {
   "cell_type": "code",
   "execution_count": 9,
   "metadata": {},
   "outputs": [],
   "source": [
    "def GlobalIteration(update,u0,args,eps=1e-6,niter_max=200):\n",
    "    u=u0.copy()\n",
    "    for niter in range(niter_max):\n",
    "        u,u_old = update(u,*args),u\n",
    "        if np.all(u+eps>=u_old):\n",
    "            return u,niter\n",
    "    print(\"Iterative method did not reach stopping criterion within iteration budget\")\n",
    "    return u,niter_max"
   ]
  },
  {
   "cell_type": "code",
   "execution_count": 10,
   "metadata": {},
   "outputs": [
    {
     "name": "stdout",
     "output_type": "stream",
     "text": [
      "CPU times: user 132 ms, sys: 11.5 ms, total: 143 ms\n",
      "Wall time: 72.2 ms\n"
     ]
    }
   ],
   "source": [
    "%%time\n",
    "u0=np.where(np.isnan(bc),np.inf,bc)\n",
    "solution,nupdate = GlobalIteration(Update,u0,(coefs,offsets,gridScale))"
   ]
  },
  {
   "cell_type": "markdown",
   "metadata": {},
   "source": [
    "The number of updates per point `niter` is quite large with this approach, since the front progresses only by one pixel at a time. \n",
    "Therefore `niter` is not far from the domain diameter, measured in pixels.\n",
    "More precisely, `niter` is the length of the longest minimal path in the domain, measured in pixels. "
   ]
  },
  {
   "cell_type": "code",
   "execution_count": 11,
   "metadata": {},
   "outputs": [
    {
     "name": "stdout",
     "output_type": "stream",
     "text": [
      "Average number of updates per point : 50\n"
     ]
    }
   ],
   "source": [
    "print(\"Average number of updates per point :\", nupdate)"
   ]
  },
  {
   "cell_type": "code",
   "execution_count": 12,
   "metadata": {},
   "outputs": [
    {
     "data": {
      "image/png": "[encoded data removed]",
      "text/plain": [
       "<Figure size 432x288 with 1 Axes>"
      ]
     },
     "metadata": {
      "needs_background": "light"
     },
     "output_type": "display_data"
    }
   ],
   "source": [
    "plt.axis('equal')\n",
    "plt.contourf(X0,X1,solution);"
   ]
  },
  {
   "cell_type": "markdown",
   "metadata": {},
   "source": [
    "Let us check that the system of equations is indeed solved."
   ]
  },
  {
   "cell_type": "code",
   "execution_count": 13,
   "metadata": {},
   "outputs": [
    {
     "name": "stdout",
     "output_type": "stream",
     "text": [
      "Max residue : 1.7985612998927536e-14\n"
     ]
    }
   ],
   "source": [
    "residue = Scheme(solution,coefs,offsets,gridScale)\n",
    "print(\"Max residue :\",LInfNorm(residue))"
   ]
  },
  {
   "cell_type": "markdown",
   "metadata": {},
   "source": [
    "### 2.2 Fast sweeping\n",
    "\n",
    "In this approach, solution is updated slice after slice, left to right, right to left, top to bottom, bottom to top, etc. On large domains, the number of updates per pixel is smaller than with the global iteration approach."
   ]
  },
  {
   "cell_type": "code",
   "execution_count": 14,
   "metadata": {},
   "outputs": [],
   "source": [
    "def SweepSlices(shape):\n",
    "    \"\"\"Enumerates the slices used in the fast sweeping method.\"\"\"\n",
    "    dim = len(shape)\n",
    "    s=(slice(None),)\n",
    "    for d,n in enumerate(shape):\n",
    "        for x in itertools.chain(range(n),reversed(range(n))):\n",
    "            yield s*d +(x,)+s*(dim-d-1)\n",
    "\n",
    "def SweepIteration(update,u0,args,eps=1e-6,niter_max=100):\n",
    "    u=u0.copy()\n",
    "    for niter in range(niter_max):\n",
    "        u_old=u.copy()\n",
    "        for sl in SweepSlices(u0.shape):\n",
    "            u[sl]=update(u,*args,where=sl)\n",
    "        if np.all(u+eps>=u_old):\n",
    "            return u,niter*2*u0.ndim\n",
    "    print(\"Iterative method did not reach stopping criterion within iteration budget\")\n",
    "    return u,niter_max*2*u0.ndim"
   ]
  },
  {
   "cell_type": "markdown",
   "metadata": {},
   "source": [
    "**Note on execution time.** For some reason that needs to be clarified, the update of a slice of the domain costs almost as much as the update of the full domain with this Python implementation. (This is possibly an issue with memory management.) As a result, execution time is here much larger than with the global iteration approach. This effect is not encountered in reasonably optimized implementations, possibly written in other languages."
   ]
  },
  {
   "cell_type": "code",
   "execution_count": 15,
   "metadata": {},
   "outputs": [
    {
     "name": "stdout",
     "output_type": "stream",
     "text": [
      "CPU times: user 1.58 s, sys: 10.5 ms, total: 1.59 s\n",
      "Wall time: 1.59 s\n"
     ]
    }
   ],
   "source": [
    "%%time\n",
    "u0=np.where(np.isnan(bc),np.inf,bc)\n",
    "solution,nupdate = SweepIteration(Update,u0,(coefs,offsets,gridScale))"
   ]
  },
  {
   "cell_type": "markdown",
   "metadata": {},
   "source": [
    "In principle, fast sweeping allows to substantially reduce the number of updates per point in comparison with global iteration. This effect is pronounced over large domains, but is not much observed in very small domains as here."
   ]
  },
  {
   "cell_type": "code",
   "execution_count": 16,
   "metadata": {},
   "outputs": [
    {
     "name": "stdout",
     "output_type": "stream",
     "text": [
      "Average number of updates per point : 48\n"
     ]
    }
   ],
   "source": [
    "print(\"Average number of updates per point :\", nupdate)"
   ]
  },
  {
   "cell_type": "code",
   "execution_count": 17,
   "metadata": {},
   "outputs": [
    {
     "data": {
      "image/png": "[encoded data removed]",
      "text/plain": [
       "<Figure size 432x288 with 1 Axes>"
      ]
     },
     "metadata": {
      "needs_background": "light"
     },
     "output_type": "display_data"
    }
   ],
   "source": [
    "plt.axis('equal')\n",
    "plt.contourf(X0,X1,solution);"
   ]
  },
  {
   "cell_type": "code",
   "execution_count": 18,
   "metadata": {},
   "outputs": [
    {
     "name": "stdout",
     "output_type": "stream",
     "text": [
      "Max residue : 1.7985612998927536e-14\n"
     ]
    }
   ],
   "source": [
    "residue = Scheme(solution,coefs,offsets,gridScale)\n",
    "print(\"Max residue :\",LInfNorm(residue))"
   ]
  },
  {
   "cell_type": "markdown",
   "metadata": {},
   "source": [
    "### 2.3 Fast marching\n",
    "\n",
    "The fast marching method updates the solution in a very specific order, in a Dijkstra-like fashion, taking advantage of the causality of the numerical scheme.\n",
    "\n",
    "A preliminary step, achieved in the `ReverseNeighbors` routine, is to identify all the *reverse neighbors* of given point $y \\in X$. In other words all $x \\in X$ such that $y = x \\pm h e_i(x)$ for some $1 \\leq i \\leq I$."
   ]
  },
  {
   "cell_type": "code",
   "execution_count": 19,
   "metadata": {},
   "outputs": [],
   "source": [
    "def ReverseNeighbors(shape,offsets):\n",
    "    \"\"\"Reverses a directed graph, defined by offsets on a cartesian grid. \n",
    "    The reverse neighbors for index i are orig[changes[i]:changes[i+1]], \n",
    "    where (orig,changes) is the output.\"\"\"\n",
    "    # Get original and neighbor offset\n",
    "    neigh,inside = fd.OffsetToIndex(shape,offsets)\n",
    "    size = np.prod(shape)\n",
    "    orig = np.broadcast_to(np.arange(size),(neigh.size//size,size)).flatten()\n",
    "    orig,neigh=orig[inside.flatten()],neigh[inside].flatten()\n",
    "\n",
    "    # Sort according to neighbor offset\n",
    "    ind = np.lexsort((orig,neigh))\n",
    "    orig,neigh=orig[ind],neigh[ind]\n",
    "    \n",
    "    # Count\n",
    "    changes = np.arange(1,neigh.size)[neigh[1:]!=neigh[:-1]]\n",
    "    changes = np.append(np.insert(changes,0,0),neigh.size)\n",
    "    return orig,changes\n",
    "\n",
    "def FastMarching(update,u0,args):\n",
    "    \n",
    "    # Compute the reverse neighbors\n",
    "    _,offsets,_ = args\n",
    "    rev,chg = ReverseNeighbors(u0.shape,np.stack((offsets,-offsets),axis=1))\n",
    "\n",
    "    # Find the seeds\n",
    "    seeds = u0<np.inf\n",
    "    heap=[(value,index) for value,index in zip(u0[seeds],np.arange(u0.size)[seeds.flatten()]) ]\n",
    "    heapq.heapify(heap)\n",
    "    \n",
    "    # Run the Dijkstra-like method\n",
    "    accepted = np.full(u0.shape,False).flatten()\n",
    "    u = u0.copy().flatten()\n",
    "    niter=0\n",
    "    while heap:\n",
    "        # Find the non-accepted point with smallest value\n",
    "        value,index = heapq.heappop(heap)\n",
    "        if value > u[index]: continue\n",
    "        accepted[index]=True\n",
    "        # Update the neighbors\n",
    "        for index2 in rev[chg[index]:chg[index+1]]:\n",
    "            if accepted[index2]: continue\n",
    "            value2 = update(u.reshape(u0.shape),*args,where=np.unravel_index(index2,u0.shape))\n",
    "            niter+=1\n",
    "            if value2 < u[index2]:\n",
    "                u[index2]=value2\n",
    "                heapq.heappush(heap,(value2,index2))\n",
    "    return u.reshape(u0.shape),niter/u0.size"
   ]
  },
  {
   "cell_type": "markdown",
   "metadata": {},
   "source": [
    "**Note on execution time.** Again, the computation time observed here is not representative of what is obtained in a compiled language, compatible with sequential execution on a mutable state."
   ]
  },
  {
   "cell_type": "code",
   "execution_count": 20,
   "metadata": {},
   "outputs": [
    {
     "name": "stdout",
     "output_type": "stream",
     "text": [
      "CPU times: user 4.91 s, sys: 25 ms, total: 4.93 s\n",
      "Wall time: 4.94 s\n"
     ]
    }
   ],
   "source": [
    "%%time\n",
    "u0=np.where(np.isnan(bc),np.inf,bc)\n",
    "solution,nupdate = FastMarching(Update,u0,(coefs,offsets,gridScale))"
   ]
  },
  {
   "cell_type": "markdown",
   "metadata": {},
   "source": [
    "The number of updates per point is greatly reduced w.r.t. the fast sweeping method (and global iteration as well). In some implementations, this can be counterbalanced by the cost of maintaining a priority queue."
   ]
  },
  {
   "cell_type": "code",
   "execution_count": 21,
   "metadata": {},
   "outputs": [
    {
     "name": "stdout",
     "output_type": "stream",
     "text": [
      "Average number of updates per point : 2.9219530949634756\n"
     ]
    }
   ],
   "source": [
    "print(\"Average number of updates per point :\", nupdate)"
   ]
  },
  {
   "cell_type": "code",
   "execution_count": 22,
   "metadata": {},
   "outputs": [
    {
     "data": {
      "image/png": "[encoded data removed]",
      "text/plain": [
       "<Figure size 432x288 with 1 Axes>"
      ]
     },
     "metadata": {
      "needs_background": "light"
     },
     "output_type": "display_data"
    }
   ],
   "source": [
    "plt.axis('equal')\n",
    "plt.contourf(X0,X1,solution);"
   ]
  },
  {
   "cell_type": "markdown",
   "metadata": {},
   "source": [
    "Despite the smaller number of updates per point, the system is exactly solved."
   ]
  },
  {
   "cell_type": "code",
   "execution_count": 23,
   "metadata": {},
   "outputs": [
    {
     "name": "stdout",
     "output_type": "stream",
     "text": [
      "Max residue : 1.7985612998927536e-14\n"
     ]
    }
   ],
   "source": [
    "residue = Scheme(solution,coefs,offsets,gridScale)\n",
    "print(\"Max residue :\",LInfNorm(residue))"
   ]
  },
  {
   "cell_type": "markdown",
   "metadata": {},
   "source": [
    "## 3. Anisotropic metric\n",
    "\n",
    "The numerical schemes above presented apply without modification to non-constant, anisotropic Riemannian metrics."
   ]
  },
  {
   "cell_type": "code",
   "execution_count": 24,
   "metadata": {},
   "outputs": [],
   "source": [
    "#Define the square [-1,1]^2, sampled on a cartesian grid\n",
    "aX0 = np.linspace(-1,1,51); aX1 = aX0\n",
    "gridScale=aX0[1]-aX0[0]\n",
    "X0,X1 = np.meshgrid(aX0,aX1,indexing='ij')\n",
    "\n",
    "# Generate the metric\n",
    "eig1 = np.stack((np.full(X0.shape,1.),(np.pi/2)*np.cos(2*np.pi*X0)))\n",
    "eig1 /= scipy.linalg.norm(eig1,axis=0) \n",
    "eig2 = np.stack( (eig1[1],-eig1[0]) ) # Rotate eig1 by pi/2\n",
    "lambda1, lambda2 = 0.8, 0.2\n",
    "metric = lambda1**-2*lp.outer_self(eig1) + lambda2**-2*lp.outer_self(eig2)\n",
    "\n",
    "# Decompose the tensors dual to the Riemannian metric\n",
    "coefs, offsets = Selling.Decomposition(lp.inverse(metric))\n",
    "coefs[:,np.logical_not(np.isnan(bc))] = np.nan"
   ]
  },
  {
   "cell_type": "code",
   "execution_count": 25,
   "metadata": {},
   "outputs": [
    {
     "name": "stdout",
     "output_type": "stream",
     "text": [
      "CPU times: user 169 ms, sys: 14.6 ms, total: 184 ms\n",
      "Wall time: 95.5 ms\n"
     ]
    }
   ],
   "source": [
    "%%time\n",
    "u0=np.where(np.isnan(bc),np.inf,bc)\n",
    "solution_Global,nupdate_Global = GlobalIteration(Update,u0,(coefs,offsets,gridScale))"
   ]
  },
  {
   "cell_type": "code",
   "execution_count": 26,
   "metadata": {},
   "outputs": [
    {
     "data": {
      "image/png": "[encoded data removed]",
      "text/plain": [
       "<Figure size 432x288 with 1 Axes>"
      ]
     },
     "metadata": {
      "needs_background": "light"
     },
     "output_type": "display_data"
    }
   ],
   "source": [
    "plt.axis('equal')\n",
    "plt.contourf(X0,X1,solution_Global);"
   ]
  },
  {
   "cell_type": "code",
   "execution_count": 27,
   "metadata": {},
   "outputs": [
    {
     "name": "stdout",
     "output_type": "stream",
     "text": [
      "CPU times: user 1.6 s, sys: 8.91 ms, total: 1.61 s\n",
      "Wall time: 1.61 s\n"
     ]
    }
   ],
   "source": [
    "%%time\n",
    "u0=np.where(np.isnan(bc),np.inf,bc)\n",
    "solution_Sweep,nupdate_Sweep = SweepIteration(Update,u0,(coefs,offsets,gridScale))"
   ]
  },
  {
   "cell_type": "code",
   "execution_count": 28,
   "metadata": {},
   "outputs": [
    {
     "name": "stdout",
     "output_type": "stream",
     "text": [
      "CPU times: user 5.04 s, sys: 23.2 ms, total: 5.07 s\n",
      "Wall time: 5.07 s\n"
     ]
    }
   ],
   "source": [
    "%%time\n",
    "u0=np.where(np.isnan(bc),np.inf,bc)\n",
    "solution_FM,nupdate_FM = FastMarching(Update,u0,(coefs,offsets,gridScale))"
   ]
  },
  {
   "cell_type": "markdown",
   "metadata": {},
   "source": [
    "As before, the number of updates per point is largest for global iteration, and smallest for the fast marching method."
   ]
  },
  {
   "cell_type": "code",
   "execution_count": 29,
   "metadata": {},
   "outputs": [
    {
     "name": "stdout",
     "output_type": "stream",
     "text": [
      "Number of updates per point.\n",
      "Global iteration : 65\n",
      "Fast sweeping : 48\n",
      "Fast marching : 3.021914648212226\n"
     ]
    }
   ],
   "source": [
    "print(\"Number of updates per point.\")\n",
    "print(\"Global iteration :\",nupdate_Global)\n",
    "print(\"Fast sweeping :\",nupdate_Sweep)\n",
    "print(\"Fast marching :\",nupdate_FM)"
   ]
  },
  {
   "cell_type": "markdown",
   "metadata": {},
   "source": [
    "The residue of the fast marching method is zero, up to numerical precision. In constrast, the residue of the fast sweeping method and of the global iteration method is expected to be of the order of the prescribed tolerance $\\epsilon$, here defaulted to $\\epsilon = 1e-6$."
   ]
  },
  {
   "cell_type": "code",
   "execution_count": 30,
   "metadata": {},
   "outputs": [
    {
     "name": "stdout",
     "output_type": "stream",
     "text": [
      "Numerical scheme residue.\n",
      "Global iteration : 2.930180383664549e-06\n",
      "Fast sweeping : 1.261707627264741e-09\n",
      "Fast marching : 1.9761969838327786e-14\n"
     ]
    }
   ],
   "source": [
    "residue_Global,residue_Sweep,residue_FM = (LInfNorm(Scheme(solution,coefs,offsets,gridScale))\n",
    "                                           for solution in (solution_Global,solution_Sweep,solution_FM))\n",
    "print(\"Numerical scheme residue.\")\n",
    "print(\"Global iteration :\",residue_Global)\n",
    "print(\"Fast sweeping :\",residue_Sweep)\n",
    "print(\"Fast marching :\",residue_FM)"
   ]
  },
  {
   "cell_type": "code",
   "execution_count": null,
   "metadata": {},
   "outputs": [],
   "source": []
  }
 ],
 "metadata": {
  "kernelspec": {
   "display_name": "Python 3",
   "language": "python",
   "name": "python3"
  },
  "language_info": {
   "codemirror_mode": {
    "name": "ipython",
    "version": 3
   },
   "file_extension": ".py",
   "mimetype": "text/x-python",
   "name": "python",
   "nbconvert_exporter": "python",
   "pygments_lexer": "ipython3",
   "version": "3.7.6"
  }
 },
 "nbformat": 4,
 "nbformat_minor": 2
}

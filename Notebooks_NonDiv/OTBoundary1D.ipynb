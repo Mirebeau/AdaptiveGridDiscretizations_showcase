{
 "cells": [
  {
   "cell_type": "markdown",
   "metadata": {},
   "source": [
    "# Adaptive PDE discretizations on Cartesian grids\n",
    "## Volume : Non-divergence form PDEs\n",
    "## Part : One space dimension\n",
    "## Chapter : Optimal transport non-linearities and boundary conditions\n",
    "\n",
    "The PDE formulation of the optimal transport problem reads as follows:\n",
    "$$\n",
    "    f(x)-g(\\nabla u(x))\\det(\\nabla^2 u(x)) = 0,\n",
    "$$\n",
    "subject to the constraint\n",
    "$$\n",
    "    u \\quad \\text{convex},\n",
    "$$\n",
    "and the boundary condition\n",
    "$$\n",
    "    \\nabla u(X) = Y,\n",
    "$$\n",
    "where $X$ is the source domain, and $Y$ is the target domain. The parameters of the PDE are the densities $f$ and $g$, which are non-negative and subject to the compatibility condition\n",
    "$$\n",
    "    \\int_X f(x) dx = \\int_Y g(y) dy.\n",
    "$$\n",
    "\n",
    "This mathematical problem comes with a number of challenges, of both theoretical and numerical nature, including the:\n",
    "1. Full non-linearity of the second order operator.\n",
    "2. Constraint of convexity\n",
    "3. Unspecified non-linearity of the first order operator.\n",
    "4. Lack of a comparison principle.\n",
    "\n",
    "Challenges 1. and 2. are related with the Monge-Ampere operator $\\det(\\nabla^2 u)$. They are discussed  the notebook \n",
    "[C.I Monge-Ampere equations](http://nbviewer.jupyter.org/urls/rawgithub.com/Mirebeau/AdaptiveGridDiscretizations/master/Notebooks/MongeAmpere.ipynb)\n",
    "\n",
    "This notebook is devoted to challenges 3. and 4., in a simplified one dimensional setting.\n",
    "In practice, 3. is mostly an implementation problem. Substantial theoretical work has been required to address 4. however. It is based on the observation that the second boundary condition could be weakened into \n",
    "$$\n",
    "    \\nabla u(X) \\subset Y,\n",
    "$$\n",
    "and that equality must hold for the solution due to the compatibility condition relating the problem parameter densities.\n",
    "\n",
    "**Note on one dimensional optimal transport.**\n",
    "It is well known that one dimensional optimal transport (with a convex cost function) is nothing else than a sorting problem. As such it can be solved extremely efficiently, at a quasi-linear cost, and is considered a solved algorithmic problem.\n",
    "The interest of numerical techniques presented in this notebook lies is their possible extension to higher dimensions.\n",
    "\n",
    "**References**\n",
    "\n",
    "* Benamou, J.-D., & Duval, V. (2017). Minimal convex extensions and finite difference discretisation of the quadratic Monge--Kantorovich problem. European Journal of Applied Mathematics, 1–38."
   ]
  },
  {
   "cell_type": "markdown",
   "metadata": {},
   "source": [
    "## The one-dimensional problem\n",
    "\n",
    "In dimension one, the Monge-Ampere operator reduces to the usual laplacian operator, and the related difficulties 1. and 2. disappear. We are left with the equation\n",
    "$$\n",
    "    f(x) - g(u'(x)) u''(x) = 0,\n",
    "$$\n",
    "subject to the boundary conditions\n",
    "$$\n",
    "    u'(x_*) =  y_*, \\quad u'(x^*) = y^*,\n",
    "$$\n",
    "where $X=[x_*,x^*]$ and $Y = [y_*,y^*]$ are the source and target intervals. Again the problem parameters are subject to the compatibility conditions\n",
    "$$\n",
    "    \\int_{x_*}^{x^*} f(x) dx = \\int_{y_*}^{y^*} g(y) dy,\n",
    "$$\n",
    "and this allows to weaken the boundary conditions into \n",
    "$$\n",
    "    u'(x_*) \\geq  y_*, \\quad u'(x^*) \\leq y^*.\n",
    "$$"
   ]
  },
  {
   "cell_type": "markdown",
   "metadata": {},
   "source": [
    "[**Summary**](Summary.ipynb) of volume Non-Divergence form PDEs, this series of notebooks.\n",
    "\n",
    "[**Main summary**](../Summary.ipynb) of the Adaptive Grid Discretizations \n",
    "\tbook of notebooks, including the other volumes.\n",
    "\n",
    "# Table of contents\n",
    "  * [1. Second boundary conditions](#1.-Second-boundary-conditions)\n",
    "  * [2. Non-linearity in the gradient](#2.-Non-linearity-in-the-gradient)\n",
    "\n",
    "\n",
    "\n",
    "**Acknowledgement.** Some of the experiments presented in these notebooks are part of \n",
    "ongoing research with Ludovic Métivier and Da Chen.\n",
    "\n",
    "Copyright Jean-Marie Mirebeau, Centre Borelli, ENS Paris-Saclay, CNRS, University Paris-Saclay"
   ]
  },
  {
   "cell_type": "markdown",
   "metadata": {},
   "source": [
    "## 0. Importing the required libraries"
   ]
  },
  {
   "cell_type": "code",
   "execution_count": 1,
   "metadata": {
    "execution": {
     "iopub.execute_input": "2024-04-30T08:48:01.840756Z",
     "iopub.status.busy": "2024-04-30T08:48:01.840241Z",
     "iopub.status.idle": "2024-04-30T08:48:01.858684Z",
     "shell.execute_reply": "2024-04-30T08:48:01.857807Z"
    }
   },
   "outputs": [],
   "source": [
    "import sys; sys.path.insert(0,\"..\") # Allow import of agd from parent directory (useless if conda package installed)\n",
    "#from Miscellaneous import TocTools; TocTools.displayTOC('OTBoundary1D','NonDiv')"
   ]
  },
  {
   "cell_type": "code",
   "execution_count": 2,
   "metadata": {
    "execution": {
     "iopub.execute_input": "2024-04-30T08:48:01.862754Z",
     "iopub.status.busy": "2024-04-30T08:48:01.862382Z",
     "iopub.status.idle": "2024-04-30T08:48:01.919875Z",
     "shell.execute_reply": "2024-04-30T08:48:01.919492Z"
    }
   },
   "outputs": [],
   "source": [
    "from agd import LinearParallel as lp\n",
    "from agd import FiniteDifferences as fd\n",
    "from agd import AutomaticDifferentiation as ad"
   ]
  },
  {
   "cell_type": "code",
   "execution_count": 3,
   "metadata": {
    "execution": {
     "iopub.execute_input": "2024-04-30T08:48:01.921558Z",
     "iopub.status.busy": "2024-04-30T08:48:01.921430Z",
     "iopub.status.idle": "2024-04-30T08:48:02.087693Z",
     "shell.execute_reply": "2024-04-30T08:48:02.087285Z"
    }
   },
   "outputs": [],
   "source": [
    "import numpy as np\n",
    "from matplotlib import pyplot as plt\n",
    "import time"
   ]
  },
  {
   "cell_type": "markdown",
   "metadata": {},
   "source": [
    "Some utility functions"
   ]
  },
  {
   "cell_type": "code",
   "execution_count": 4,
   "metadata": {
    "execution": {
     "iopub.execute_input": "2024-04-30T08:48:02.089529Z",
     "iopub.status.busy": "2024-04-30T08:48:02.089379Z",
     "iopub.status.idle": "2024-04-30T08:48:02.091107Z",
     "shell.execute_reply": "2024-04-30T08:48:02.090843Z"
    }
   },
   "outputs": [],
   "source": [
    "newton_root = ad.Optimization.newton_root"
   ]
  },
  {
   "cell_type": "markdown",
   "metadata": {},
   "source": [
    "## 1. Second boundary conditions\n",
    "\n",
    "We further simplify the problem and assume $g \\equiv 1$, to study the weakened *second boundary conditions* that we rewrite as \n",
    "$$\n",
    "    y_* - u'(x_*) \\leq 0, \\quad u'(x^*) - y^*\\leq 0,\n",
    "$$\n",
    "at the endponts of the interval $[x_*,x^*]$ of definition of the problem solution $u$.\n",
    "Recall that the PDE solved is \n",
    "$$\n",
    "    f(x) - u''(x) = 0,\n",
    "$$\n",
    "and that we have \n",
    "$$\n",
    "    \\int_{x_*}^{x^*} f(x) dx = y^*-y_*.\n",
    "$$\n",
    "\n",
    "**Explicit solution.**\n",
    "The above problem admits a one dimensional, family of explicit solutions. Namely\n",
    "$$\n",
    "u(x) = \\alpha + r x + v(x),\n",
    "$$\n",
    "where $v$ is a second primitive of $u$, and the constant $r$ is adequately chosen to match the boundary conditions.\n",
    "The other constant, denoted $\\alpha$, is *arbitrary*.\n",
    "\n",
    "### Montone discretization\n",
    "\n",
    "We may define a monotone (degenerate elliptic) discretization of the boundary conditions, using upwind finite differences as follows\n",
    "$$\n",
    "    \\max\\{0,y_* - \\frac{u(x_*+h)-u(x_*)} h\\} = 0, \\quad \\max\\{0,\\frac{u(x^*)-u(x^*-h)} h - y^*\\}= 0.\n",
    "$$\n",
    "We also use the standard discretization of the laplacian operator in the interior.\n",
    "\n",
    "The resulting discretization obeys the assumptions of a degenerate elliptic (monotone) scheme, since it takes the form\n",
    "$$\n",
    "    F u(x) := F(x,u(x),(u(x)-u(x'))_{x' \\in X} ),\n",
    "$$\n",
    "where $F$ is a non-decreasing function of its second and third arguments.\n",
    "\n",
    "### Non-uniqueness and lack of a comparision principle\n",
    "\n",
    "The continuous problems admits, as mentioned above, a one dimensional family of solutions. The discrete problem, on the other hand, admits either no solution, or a large and typically multi-dimensional family of solutions.\n",
    "\n",
    "These indeterminacies reflect a failure of the comparison principle, due to the impossibility to perturb a given solution into a strict sub-solution."
   ]
  },
  {
   "cell_type": "code",
   "execution_count": 5,
   "metadata": {
    "execution": {
     "iopub.execute_input": "2024-04-30T08:48:02.092449Z",
     "iopub.status.busy": "2024-04-30T08:48:02.092366Z",
     "iopub.status.idle": "2024-04-30T08:48:02.094517Z",
     "shell.execute_reply": "2024-04-30T08:48:02.094282Z"
    }
   },
   "outputs": [],
   "source": [
    "def Scheme(u,f,bc,h):\n",
    "    u,f,bc = ad.common_cast(u,f,bc) # Safe AD scalars\n",
    "    residue = f-fd.Diff2(u,(1,),h)\n",
    "    residue[0]  = np.maximum(0.,bc[0] - (u[1]-u[0])/h)\n",
    "    residue[-1] = np.maximum(0.,(u[-1]-u[-2])/h - bc[1])\n",
    "    return residue"
   ]
  },
  {
   "cell_type": "code",
   "execution_count": 6,
   "metadata": {
    "execution": {
     "iopub.execute_input": "2024-04-30T08:48:02.095853Z",
     "iopub.status.busy": "2024-04-30T08:48:02.095750Z",
     "iopub.status.idle": "2024-04-30T08:48:02.097967Z",
     "shell.execute_reply": "2024-04-30T08:48:02.097704Z"
    }
   },
   "outputs": [],
   "source": [
    "X = np.linspace(-1,1,101,endpoint=True)\n",
    "gridScale = X[1]-X[0]\n",
    "f = 1.+0.9*np.sin(2.*np.pi*X)\n",
    "bc = np.array((-1.,1.))\n",
    "\n",
    "guess = np.zeros(X.shape)"
   ]
  },
  {
   "cell_type": "markdown",
   "metadata": {},
   "source": [
    "The discretized problem is linear. However, the jacobian matrix $J$ is rank deficient and non-invertible.\n",
    "Fortunately, thanks to the scheme monotony, the matrix \n",
    "$$\n",
    "    J+\\epsilon \\mathrm{Id} \n",
    "$$\n",
    "is invertible for every $\\epsilon>0$.\n",
    "We use an iterative method, featuring such a relaxation, so solve the problem.\n",
    "\n",
    "In order to illustrate the dichotomy between *no solution* and *infinitely may solutions, we perturb a bit the boundary conditions.\n",
    "\n",
    "**Note on convergence (No solution).**\n",
    "The discretized problem addressed here has *no solution*. As a result, the Newton solver residues do not tend to zero (or numerical precision). This is expected behavior."
   ]
  },
  {
   "cell_type": "code",
   "execution_count": 7,
   "metadata": {
    "execution": {
     "iopub.execute_input": "2024-04-30T08:48:02.099368Z",
     "iopub.status.busy": "2024-04-30T08:48:02.099268Z",
     "iopub.status.idle": "2024-04-30T08:48:02.164088Z",
     "shell.execute_reply": "2024-04-30T08:48:02.163803Z"
    }
   },
   "outputs": [
    {
     "name": "stdout",
     "output_type": "stream",
     "text": [
      "Iteration: 1  Residue norm: 0.12636527953248256\n",
      "Iteration: 2  Residue norm: 0.00999800901335579\n",
      "Iteration: 3  Residue norm: 0.005066525567444802\n",
      "Iteration: 4  Residue norm: 0.005025995705958408\n",
      "Iteration: 5  Residue norm: 0.005025147488323389\n",
      "Iteration: 6  Residue norm: 0.005025126195161711\n",
      "Iteration: 8  Residue norm: 0.005025125631041072\n",
      "Iteration: 10  Residue norm: 0.005025125630709226\n",
      "Iteration: 12  Residue norm: 0.005025125630709115\n",
      "Iteration: 14  Residue norm: 0.005025125632812211\n",
      "Iteration: 16  Residue norm: 0.0050251256346312\n",
      "Iteration: 20  Residue norm: 0.005025125633769556\n",
      "Iteration: 24  Residue norm: 0.005025125633511429\n",
      "Iteration: 28  Residue norm: 0.005025125637149408\n",
      "Iteration: 32  Residue norm: 0.005025125639784411\n",
      "Iteration: 36  Residue norm: 0.005025125640381933\n",
      "Iteration: 40  Residue norm: 0.005025125639226746\n",
      "Iteration: 44  Residue norm: 0.005025125637750705\n",
      "Iteration: 48  Residue norm: 0.005025125639711581\n",
      "Iteration: 50  Residue norm: 0.005025125639896988\n",
      "Max iterations exceeded. Aborting.\n"
     ]
    }
   ],
   "source": [
    "bc2 = np.array((-1,1-2*gridScale))\n",
    "params = (f,bc2,gridScale)\n",
    "relax = ad.Sparse.identity(X.shape)*gridScale\n",
    "stop = ad.Optimization.stop_default(raise_on_abort=False)\n",
    "solution = newton_root(Scheme,guess,params,relax=relax,stop=stop)"
   ]
  },
  {
   "cell_type": "code",
   "execution_count": 8,
   "metadata": {
    "execution": {
     "iopub.execute_input": "2024-04-30T08:48:02.165545Z",
     "iopub.status.busy": "2024-04-30T08:48:02.165454Z",
     "iopub.status.idle": "2024-04-30T08:48:02.240117Z",
     "shell.execute_reply": "2024-04-30T08:48:02.239848Z"
    }
   },
   "outputs": [
    {
     "data": {
      "image/png": "[encoded data removed]",
      "text/plain": [
       "<Figure size 640x480 with 1 Axes>"
      ]
     },
     "metadata": {},
     "output_type": "display_data"
    }
   ],
   "source": [
    "plt.title(\"Closest solution to 1-d optimal transport problem\")\n",
    "plt.plot(X,solution);"
   ]
  },
  {
   "cell_type": "markdown",
   "metadata": {},
   "source": [
    "We next perturb a bit the boundary conditions, ensuring, this time, that the discretized problem has *an infinity of solutions*.\n",
    "\n",
    "**Note on convergence (degenerate solutions).**\n",
    "The discretized problem addressed here has a two dimensional non-linear family of solutions. It is also non-differentiable. As a result, the Newton solve takes more steps to reach numerical precision than what could be expected for problems this size."
   ]
  },
  {
   "cell_type": "code",
   "execution_count": 9,
   "metadata": {
    "execution": {
     "iopub.execute_input": "2024-04-30T08:48:02.241665Z",
     "iopub.status.busy": "2024-04-30T08:48:02.241556Z",
     "iopub.status.idle": "2024-04-30T08:48:02.248615Z",
     "shell.execute_reply": "2024-04-30T08:48:02.248377Z"
    }
   },
   "outputs": [
    {
     "name": "stdout",
     "output_type": "stream",
     "text": [
      "Iteration: 1  Residue norm: 0.12636527953248256\n",
      "Iteration: 2  Residue norm: 0.0049899647157736204\n",
      "Iteration: 3  Residue norm: 0.0003108032158998242\n",
      "Iteration: 4  Residue norm: 1.9903133235965598e-05\n",
      "Iteration: 5  Residue norm: 1.2774458824083013e-06\n",
      "Iteration: 6  Residue norm: 8.200718704109988e-08\n",
      "Iteration: 7  Residue norm: 5.264649827196877e-09\n",
      "Target residue reached. Terminating.\n"
     ]
    }
   ],
   "source": [
    "bc3 = np.array((-1,1+2*gridScale))\n",
    "params = (f,bc3,gridScale)\n",
    "relax = ad.Sparse.identity(X.shape) * gridScale\n",
    "solution = newton_root(Scheme,guess,params,relax=relax)"
   ]
  },
  {
   "cell_type": "markdown",
   "metadata": {},
   "source": [
    "## 2. Non-linearity in the gradient \n",
    "\n",
    "We solve the PDE \n",
    "$$\n",
    "f(x)/g(u'(x)) - u''(x)=0\n",
    "$$"
   ]
  },
  {
   "cell_type": "code",
   "execution_count": 10,
   "metadata": {
    "execution": {
     "iopub.execute_input": "2024-04-30T08:48:02.250130Z",
     "iopub.status.busy": "2024-04-30T08:48:02.250044Z",
     "iopub.status.idle": "2024-04-30T08:48:02.252330Z",
     "shell.execute_reply": "2024-04-30T08:48:02.252099Z"
    }
   },
   "outputs": [],
   "source": [
    "def SchemeGradient(u,f,g,bc,h):\n",
    "    u,f,bc = ad.common_cast(u,f,bc) # Safe array scalars\n",
    "    residue = f/g(fd.DiffCentered(u,(1,),h))-fd.Diff2(u,(1,),h)\n",
    "    residue[0]  = np.maximum(0.,bc[0] - (u[1]-u[0])/h)\n",
    "    residue[-1] = np.maximum(0.,(u[-1]-u[-2])/h - bc[1])\n",
    "    return residue"
   ]
  },
  {
   "cell_type": "code",
   "execution_count": 11,
   "metadata": {
    "execution": {
     "iopub.execute_input": "2024-04-30T08:48:02.253703Z",
     "iopub.status.busy": "2024-04-30T08:48:02.253625Z",
     "iopub.status.idle": "2024-04-30T08:48:02.255843Z",
     "shell.execute_reply": "2024-04-30T08:48:02.255605Z"
    }
   },
   "outputs": [],
   "source": [
    "X = np.linspace(-1,1,101,endpoint=True)\n",
    "gridScale = X[1]-X[0]\n",
    "f = 1.+0.9*np.sin(2.*np.pi*X)\n",
    "bc = np.array((-1.,1.))\n",
    "\n",
    "g = 1.+0.5*np.cos(2.*np.pi*X)\n",
    "f*=g.sum()/f.sum()\n",
    "g_interp=fd.UniformGridInterpolator1D(X,g)\n",
    "\n",
    "guess = np.zeros(X.shape)"
   ]
  },
  {
   "cell_type": "code",
   "execution_count": 12,
   "metadata": {
    "execution": {
     "iopub.execute_input": "2024-04-30T08:48:02.257174Z",
     "iopub.status.busy": "2024-04-30T08:48:02.257091Z",
     "iopub.status.idle": "2024-04-30T08:48:02.269958Z",
     "shell.execute_reply": "2024-04-30T08:48:02.269724Z"
    }
   },
   "outputs": [
    {
     "name": "stdout",
     "output_type": "stream",
     "text": [
      "Iteration: 1  Residue norm: 2.2761649652917186\n",
      "Iteration: 2  Residue norm: 6.979329423723923\n",
      "Iteration: 3  Residue norm: 8.624421504086634\n",
      "Iteration: 4  Residue norm: 9.030547460869691\n",
      "Iteration: 5  Residue norm: 2.1593586930554776\n",
      "Iteration: 6  Residue norm: 9.625961543904994\n",
      "Iteration: 8  Residue norm: 0.011620928559427757\n",
      "Iteration: 10  Residue norm: 0.0031334056753382633\n",
      "Iteration: 12  Residue norm: 7.999408913050843e-08\n",
      "Iteration: 13  Residue norm: 5.972761174533048e-09\n",
      "Target residue reached. Terminating.\n"
     ]
    }
   ],
   "source": [
    "params = (f,g_interp,bc,gridScale)\n",
    "relax = ad.Sparse.identity(X.shape) * gridScale\n",
    "solution = newton_root(SchemeGradient,X,params,relax=relax)"
   ]
  },
  {
   "cell_type": "markdown",
   "metadata": {},
   "source": [
    "Check the solution."
   ]
  },
  {
   "cell_type": "code",
   "execution_count": 13,
   "metadata": {
    "execution": {
     "iopub.execute_input": "2024-04-30T08:48:02.271341Z",
     "iopub.status.busy": "2024-04-30T08:48:02.271246Z",
     "iopub.status.idle": "2024-04-30T08:48:02.274284Z",
     "shell.execute_reply": "2024-04-30T08:48:02.274043Z"
    }
   },
   "outputs": [
    {
     "data": {
      "text/plain": [
       "array([            nan,  6.87742983e-04,  4.25196993e-04,  6.73178906e-05,\n",
       "        1.32363622e-04,  4.45170486e-05,  3.27466290e-04,  7.37163922e-04,\n",
       "        7.38002938e-04,  1.51154860e-04,  3.57739168e-04,  4.42063840e-06,\n",
       "       -5.29404330e-04, -6.49207983e-04, -2.02727836e-03, -8.13380574e-04,\n",
       "       -3.11914280e-03, -6.59402656e-04, -1.30583764e-03, -4.67608297e-04,\n",
       "       -1.92586907e-04,  4.54341292e-05,  2.70857290e-04,  3.77270943e-04,\n",
       "        4.26255688e-04,  3.84348262e-04,  6.73967588e-05,  3.50017316e-04,\n",
       "        2.35552704e-04,  2.84909030e-04,  2.42766141e-05,  1.98972914e-04,\n",
       "        1.76881338e-04,  1.02023537e-04,  3.46008525e-05,  9.93660574e-06,\n",
       "        3.01323044e-05,  3.95244887e-05,  4.91219547e-05,  6.44654562e-05,\n",
       "        8.73718644e-05,  1.13774457e-04,  1.26276364e-04,  7.92677584e-05,\n",
       "        1.02317288e-04,  2.91498165e-04,  2.61703920e-04,  2.59976561e-04,\n",
       "        4.49189840e-04,  4.13061030e-04,  3.15628355e-04,  7.20788425e-04,\n",
       "        7.32809426e-04,  5.83267972e-04,  4.87529159e-04,  5.64789653e-04,\n",
       "        7.69878866e-04,  8.52741139e-04,  3.75878394e-04,  4.90616286e-04,\n",
       "        9.92443903e-05, -1.47271696e-05, -3.44071402e-04, -1.15737945e-03,\n",
       "       -1.63520005e-03, -3.31223234e-03, -2.26671011e-03, -2.14275673e-03,\n",
       "       -1.00581223e-04, -2.29777765e-04, -7.04375544e-05,  1.50077727e-04,\n",
       "        2.72969222e-04,  2.90883271e-04,  3.58959463e-04,  4.48151308e-04,\n",
       "        3.46515367e-04,  1.61367522e-04,  3.58014857e-04,  1.49703596e-04,\n",
       "        1.97683306e-04,  2.25009462e-04,  1.24548433e-04,  1.63233157e-05,\n",
       "        4.80731393e-05,  6.37670770e-05,  6.27813405e-05,  6.03663598e-05,\n",
       "        6.26799298e-05,  7.10670641e-05,  8.25084291e-05,  8.62660516e-05,\n",
       "        5.54776016e-05,  5.98086396e-05,  2.13448342e-04,  2.86419325e-04,\n",
       "        5.17678957e-05,  4.12035987e-04,  2.33839578e-04,  5.73114765e-04,\n",
       "                   nan])"
      ]
     },
     "execution_count": 13,
     "metadata": {},
     "output_type": "execute_result"
    }
   ],
   "source": [
    "def g_exact(X): return  1.+0.5*np.cos(2.*np.pi*X)\n",
    "g_exact(fd.DiffCentered(solution,(1,),gridScale))*fd.Diff2(solution,(1,),gridScale) - f"
   ]
  },
  {
   "cell_type": "code",
   "execution_count": null,
   "metadata": {},
   "outputs": [],
   "source": []
  }
 ],
 "metadata": {
  "kernelspec": {
   "display_name": "Python 3 (ipykernel)",
   "language": "python",
   "name": "python3"
  },
  "language_info": {
   "codemirror_mode": {
    "name": "ipython",
    "version": 3
   },
   "file_extension": ".py",
   "mimetype": "text/x-python",
   "name": "python",
   "nbconvert_exporter": "python",
   "pygments_lexer": "ipython3",
   "version": "3.10.8"
  },
  "varInspector": {
   "cols": {
    "lenName": 16,
    "lenType": 16,
    "lenVar": 40
   },
   "kernels_config": {
    "python": {
     "delete_cmd_postfix": "",
     "delete_cmd_prefix": "del ",
     "library": "var_list.py",
     "varRefreshCmd": "print(var_dic_list())"
    },
    "r": {
     "delete_cmd_postfix": ") ",
     "delete_cmd_prefix": "rm(",
     "library": "var_list.r",
     "varRefreshCmd": "cat(var_dic_list()) "
    }
   },
   "types_to_exclude": [
    "module",
    "function",
    "builtin_function_or_method",
    "instance",
    "_Feature"
   ],
   "window_display": false
  }
 },
 "nbformat": 4,
 "nbformat_minor": 2
}

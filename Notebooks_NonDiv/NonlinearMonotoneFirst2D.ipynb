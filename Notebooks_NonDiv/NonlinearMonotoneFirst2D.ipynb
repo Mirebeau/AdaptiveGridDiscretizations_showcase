{
 "cells": [
  {
   "cell_type": "markdown",
   "metadata": {},
   "source": [
    "# Adaptive PDE discretizations on cartesian grids\n",
    "## Volume : Non-divergence form PDEs## Part : Monotone numerical schemes\n",
    "## Chapter : PDEs with a first order non-linearity\n",
    "\n",
    "This notebook illustrates the use of monotone finite difference schemes to compute viscosity solutions of non-linear PDEs, in two space dimensions. \n",
    "We consider the PDE\n",
    "$$\n",
    "    {-} \\mathrm{Tr}(A(x) \\nabla^2 u(x)) + F(x, \\nabla u(x)) = 1,\n",
    "$$\n",
    "with Dirichlet boundary conditions, where $\\|v\\|_D^2 := <v,D v>$. \n",
    "For illustration, we consider a quadratic non-linearity:\n",
    "$$\n",
    "    F(x, \\nabla u(x)) := \\| \\nabla u(x) -\\omega(x)\\|^2_{D(x)}\n",
    "$$\n",
    "More details on this problem below.\n",
    "\n",
    "\n",
    "Two possibilities are considered for the discretization of the first order non-linear (quadratic) term, in a monotone fashion. One is second order accurate, but requires the diffusion tensors $A$ to be positive definite, and the solution to be smooth enough, for monotony to hold. The other possibility is only first order accurate, but unconditionally monotone.\n",
    "\n",
    "Our numerical schemes use adaptive stencils, and depend on Selling's decomposition of the diffusion tensors $A$ and $D$. Their implementation is fairly simple and compact (approx. ten lines) thanks to the use of sparse automatic differentiation.\n",
    "\n",
    "**Reference.**\n",
    "\n",
    "The use of Selling's algorithm for the discretization of anisotropic PDEs was first introduced in:\n",
    "* Bonnans, J. F., Ottenwaelter, E., Zidani, H. (2004). A fast algorithm for the two dimensional HJB equation of stochastic control. ESAIM: Mathematical Modelling and Numerical Analysis, 38(4), 723–735.\n",
    "* Fehrenbach, J., & Mirebeau, J.-M. (2014). Sparse non-negative stencils for anisotropic diffusion. Journal of Mathematical Imaging and Vision, 49(1), 123–147. http://doi.org/http://dx.doi.org/10.1007/s10851-013-0446-3"
   ]
  },
  {
   "cell_type": "markdown",
   "metadata": {},
   "source": [
    "[**Summary**](Summary.ipynb) of volume Non-Divergence form PDEs, this series of notebooks.\n",
    "\n",
    "[**Main summary**](../Summary.ipynb) of the Adaptive Grid Discretizations \n",
    "\tbook of notebooks, including the other volumes.\n",
    "\n",
    "# Table of contents\n",
    "  * [1. Numerical schemes](#1.-Numerical-schemes)\n",
    "    * [1.1 Centered scheme](#1.1-Centered-scheme)\n",
    "    * [1.2 Upwind type scheme](#1.2-Upwind-type-scheme)\n",
    "    * [1.3 Numerical tests](#1.3-Numerical-tests)\n",
    "    * [1.4 Alternative centered scheme](#1.4-Alternative-centered-scheme)\n",
    "  * [2. Pure eikonal equations](#2.-Pure-eikonal-equations)\n",
    "    * [2.1 A Riemannian eikonal equation](#2.1-A-Riemannian-eikonal-equation)\n",
    "    * [2.2 An eikonal equation of Rander type](#2.2-An-eikonal-equation-of-Rander-type)\n",
    "\n",
    "\n",
    "\n",
    "**Acknowledgement.** The experiments presented in these notebooks are part of ongoing research, \n",
    "some of it with PhD student Guillaume Bonnet, in co-direction with Frederic Bonnans, \n",
    "and PhD student François Desquilbet, in co-direction with Ludovic Métivier.\n",
    "\n",
    "Copyright Jean-Marie Mirebeau, University Paris-Sud, CNRS, University Paris-Saclay"
   ]
  },
  {
   "cell_type": "markdown",
   "metadata": {},
   "source": [
    "## 0. Importing the required libraries"
   ]
  },
  {
   "cell_type": "code",
   "execution_count": 1,
   "metadata": {},
   "outputs": [],
   "source": [
    "import sys; sys.path.insert(0,\"..\") # Allow import of agd from parent directory (useless if conda package installed)\n",
    "#from Miscellaneous import TocTools; print(TocTools.displayTOC('NonlinearMonotoneFirst2D','NonDiv'))"
   ]
  },
  {
   "cell_type": "code",
   "execution_count": 2,
   "metadata": {
    "tags": [
     "ExportCode"
    ]
   },
   "outputs": [],
   "source": [
    "from agd import Selling\n",
    "from agd import LinearParallel as lp\n",
    "from agd import AutomaticDifferentiation as ad\n",
    "from agd import Domain"
   ]
  },
  {
   "cell_type": "code",
   "execution_count": 3,
   "metadata": {
    "tags": [
     "ExportCode"
    ]
   },
   "outputs": [],
   "source": [
    "import numpy as np\n",
    "import matplotlib.pyplot as plt\n",
    "import scipy.linalg;\n",
    "import itertools"
   ]
  },
  {
   "cell_type": "markdown",
   "metadata": {},
   "source": [
    "Some utility functions"
   ]
  },
  {
   "cell_type": "code",
   "execution_count": 4,
   "metadata": {},
   "outputs": [],
   "source": [
    "newton_root = ad.Optimization.newton_root\n",
    "stop = ad.Optimization.stop_default\n",
    "every4 = itertools.count(1,4)"
   ]
  },
  {
   "cell_type": "markdown",
   "metadata": {},
   "source": [
    "## 1. Numerical schemes\n",
    "\n",
    "We propose several approches for discretizing the proposed PDE, whose properties are summarized below:\n",
    "\n",
    "| Finite differences | Monotony | Accuracy | Non-linearity |\n",
    "|--|--|--|--|\n",
    "| Centered | Conditional | Second order | General |\n",
    "| Upwind  | Unconditional | First order | Quadratic |\n",
    "\n",
    "<!---| Alternative centered | Conditional | Second order | Quadratic specific |\n",
    "--->"
   ]
  },
  {
   "cell_type": "markdown",
   "metadata": {},
   "source": [
    "### 1.1 Centered scheme \n",
    "\n",
    "Recall that we consider the PDE \n",
    "$$\n",
    "-\\mathrm{Tr}(A(x) \\nabla^2 u(x)) + F(x, \\nabla u(x)) = 1\n",
    "$$\n",
    "with Dirichlet boundary conditions. \n",
    "\n",
    "We propose below a numerical scheme, that is degenerate elliptic (maximum principle holds) under the following additional assumptions:\n",
    "* the tensors $A(x)$ are Lipschitz and uniformly positive definite,\n",
    "* the function $F$ uniformly Lipschitz in its second variable, \n",
    "* the discretization grid scale $h>0$ is sufficiently small.\n",
    "\n",
    "The discretization of the first order term $F(x,\\nabla u(x))$ is based on centered finite differences, along specific directions. Their lack of monotony is compensated by the second order term $-\\mathrm{Tr}(A(x) \\nabla^2 u(x))$. \n",
    "\n",
    "**Connection with the Lax-Friedrichs approximation.**\n",
    "The Lax Friedrichs approximation is based, likewise, on the use of centered finite differences, whose monotony is compensated by a linear second order operator. The key difference is, however, that the Lax-Friedrichs scheme only uses finite differences along the coordinate axes, and introduces an additional isotropic diffusion term, thus loosing second order accuracy.\n",
    "\n",
    "<!---\n",
    "Note : the usual Lax-Friedrichs approximation is obtained in the special case where $A = h \\mathrm{Id}$.\n",
    "--->\n",
    "\n",
    "**Note on the uniform Lipschitz regularity assumption.**\n",
    "The non-linearity $F$ considered in our examples is quadratic, hence it isn't uniformly Lipschitz. \n",
    "As a result, the scheme looses the degenerate ellipticity property if the solution gradient is excessively large, or unbounded.\n",
    "\n",
    "**Discretization of the second order term.** Consider a tensor decomposition of the form\n",
    "$$\n",
    "    A(x) = \\sum_{1 \\leq i \\leq n} \\mu_i(x) e_i(x) e_i(x)^T,\n",
    "$$\n",
    "where $\\mu_i(x)\\geq 0$ and $e_i(x)$ has integer entries. Typically, we obtain such a decomposition using Selling's formula. The second order part of the operator is discretized using centered finite differences.\n",
    "$$\n",
    "    -\\mathrm{Tr}(A(x) \\nabla^2 u(x)) = -\\sum_{1 \\leq i \\leq n} \\mu_i(x) \\frac{u(x+he_i(x)) - 2 u(x) +u(x-h e_i(x))}{h^2} + O(h^2).\n",
    "$$\n",
    "\n",
    "\n",
    "**Discretization of the first order term.**\n",
    "We approximate the product $A(x)\\nabla u(x)$ using second order finite differences:\n",
    "$$\n",
    "A(x) \\nabla u(x) = \\sum_{1 \\leq i \\leq n} \\mu_i \\frac{u(x+h e_i)-u(x-h e_i)} {2 h} e_i + O(h^2).\n",
    "$$\n",
    "Form this point, a second order finite difference approximation of the gradient $\\nabla u(x)$ is obtained by applying the linear mapping $A(x)^{-1}$ to both sides. After what, the non-linear functional $F$ can be applied to both sides. No specific form of this functional is required."
   ]
  },
  {
   "cell_type": "code",
   "execution_count": 5,
   "metadata": {
    "tags": [
     "ExportCode"
    ]
   },
   "outputs": [],
   "source": [
    "def Gradient(u,A,bc,decomp=None):\n",
    "    \"\"\"\n",
    "    Approximates grad u(x), using finite differences along the axes of A.\n",
    "    \"\"\"\n",
    "    coefs,offsets = Selling.Decomposition(A) if decomp is None else decomp\n",
    "    du = bc.DiffCentered(u,offsets) \n",
    "    AGrad = lp.dot_AV(offsets.astype(float),(coefs*du)) # Approximates A * grad u\n",
    "    return lp.solve_AV(A,AGrad) # Approximates A^{-1} (A * grad u) = grad u"
   ]
  },
  {
   "cell_type": "code",
   "execution_count": 6,
   "metadata": {
    "tags": [
     "ExportCode"
    ]
   },
   "outputs": [],
   "source": [
    "def SchemeCentered(u,A,F,rhs,bc):\n",
    "    \"\"\"\n",
    "    Discretization of - Tr(A(x) hess u(x)) + F(grad u(x)) - rhs,\n",
    "    with Dirichlet boundary conditions. The scheme is second order,\n",
    "    and degenerate elliptic under suitable assumptions.\n",
    "    \"\"\"\n",
    "    # Compute the tensor decomposition\n",
    "    coefs,offsets = Selling.Decomposition(A)\n",
    "    A,coefs,offsets = (bc.as_field(e) for e in (A,coefs,offsets))\n",
    "    \n",
    "    # Obtain the first and second order finite differences\n",
    "    grad = Gradient(u,A,bc,decomp=(coefs,offsets))\n",
    "    d2u = bc.Diff2(u,offsets)    \n",
    "    \n",
    "    # Numerical scheme in interior    \n",
    "    residue = -lp.dot_VV(coefs,d2u) + F(grad) - rhs\n",
    "    \n",
    "    # Placeholders outside domain\n",
    "    return np.where(bc.interior,residue,u-bc.grid_values)"
   ]
  },
  {
   "cell_type": "code",
   "execution_count": 7,
   "metadata": {
    "tags": [
     "ExportCode"
    ]
   },
   "outputs": [],
   "source": [
    "# Specialization for the quadratic non-linearity\n",
    "def SchemeCentered_Quad(u,A,omega,D,rhs,bc):\n",
    "    omega,D = (bc.as_field(e) for e in (omega,D))\n",
    "    def F(g): return lp.dot_VAV(g-omega,D,g-omega)\n",
    "    return SchemeCentered(u,A,F,rhs,bc)"
   ]
  },
  {
   "cell_type": "markdown",
   "metadata": {},
   "source": [
    "### 1.2 Upwind type scheme\n",
    "\n",
    "As announced we assume here a specific form of the PDE non-linearity:\n",
    "$$\n",
    "    F(x,\\nabla u(x)) = \\|\\nabla u(x) - \\omega(x)\\|^2_{D(x)}\n",
    "$$\n",
    "\n",
    "We propose below a numerical schemes that is degenerate elliptic as soon as $D$ and $A$ are everywhere positive definite. (Or positive semi-definite, provided the required tensor decompositions exist.)\n",
    "\n",
    "For that purpose, we introduce a decomposition of the tensors appearing in the first order non-linearity\n",
    "$$\n",
    "    D(x) = \\sum_{1 \\leq i \\leq n} \\nu_i(x) f_i(x) f_i(x)^T,\n",
    "$$\n",
    "involving again non-negative weights $\\nu_i(x)\\geq 0$ and offsets with integer coordinates $f_i(x) \\in Z^d$.\n",
    "We then discretize the non-linearity using first order upwind finite differences\n",
    "$$\n",
    "    F(x,\\nabla u(x)) = \n",
    "     \\sum_{1 \\leq i \\leq n} \\nu_i(x) \\max\\left\\{0,\n",
    "    <\\omega(x),f_i(x)> - \\frac{u(x+h f_i(x))-u(x)}{h},\n",
    "    -<\\omega(x),f_i(x)> - \\frac{u(x-h f_i(x))-u(x)}{h}\n",
    "    \\right\\}^2 + O(h)\n",
    "$$"
   ]
  },
  {
   "cell_type": "code",
   "execution_count": 8,
   "metadata": {
    "tags": [
     "ExportCode"
    ]
   },
   "outputs": [],
   "source": [
    "def SchemeUpwind(u,A,omega,D,rhs,bc):\n",
    "    \"\"\"\n",
    "    Discretization of -Tr(A(x) hess u(x)) + \\| grad u(x) - omega(x) \\|_D(x)^2 - rhs,\n",
    "    with Dirichlet boundary conditions, using upwind finite differences for the first order part.\n",
    "    The scheme is degenerate elliptic if A and D are positive definite. \n",
    "    \"\"\"\n",
    "    # Compute the decompositions (here offset_e = offset_f)\n",
    "    nothing = (np.full((0,),0.), np.full((2,0),0)) # empty coefs and offsets\n",
    "    mu,offset_e = nothing if A is None else Selling.Decomposition(A) \n",
    "    nu,offset_f = nothing if D is None else Selling.Decomposition(D)\n",
    "    omega_f = lp.dot_VA(omega,offset_f.astype(float))\n",
    "\n",
    "    # First and second order finite differences\n",
    "    maxi = np.maximum\n",
    "    mu,nu,omega_f = (bc.as_field(e) for e in (mu,nu,omega_f))\n",
    "\n",
    "    dup = bc.DiffUpwind(u, offset_f)\n",
    "    dum = bc.DiffUpwind(u,-offset_f)\n",
    "    dup[...,bc.not_interior]=0. # Placeholder values to silence NaN warnings\n",
    "    dum[...,bc.not_interior]=0.\n",
    "    \n",
    "    d2u = bc.Diff2(u,offset_e)\n",
    "        \n",
    "    # Scheme in the interior\n",
    "    du = maxi(0.,maxi( omega_f - dup, -omega_f - dum) )\n",
    "    residue = - lp.dot_VV(mu,d2u) + lp.dot_VV(nu,du**2) - rhs\n",
    "\n",
    "    # Placeholders outside domain\n",
    "    return np.where(bc.interior,residue,u-bc.grid_values)"
   ]
  },
  {
   "cell_type": "markdown",
   "metadata": {},
   "source": [
    "### 1.3 Numerical tests"
   ]
  },
  {
   "cell_type": "markdown",
   "metadata": {},
   "source": [
    "We next choose some problem parameters. As a starter we solve \n",
    "$$\n",
    "    -\\epsilon \\Delta u +\\| \\nabla u\\|^2 -1 = 0,\n",
    "$$\n",
    "with on the unit disk $B(0,1)$, with null boundary conditions.\n",
    "This is a a relaxation of the eikonal equation, and the solution is therefore close to the distance to the disk boundary."
   ]
  },
  {
   "cell_type": "code",
   "execution_count": 9,
   "metadata": {},
   "outputs": [],
   "source": [
    "# Create the domain\n",
    "aX0 = np.linspace(-1,1,100); aX1=aX0;\n",
    "X = np.array(np.meshgrid(aX0,aX1,indexing='ij'))\n",
    "\n",
    "# Unit ball, with null Dirichlet boundary conditions, on grid X\n",
    "bc = Domain.Dirichlet(Domain.Ball(),0.,X)\n",
    "\n",
    "# A correctly shaped arbitrary guess for the solvers\n",
    "guess = np.zeros(bc.shape) "
   ]
  },
  {
   "cell_type": "code",
   "execution_count": 10,
   "metadata": {},
   "outputs": [],
   "source": [
    "A = 0.1*np.eye(2) \n",
    "omega = np.zeros(2)\n",
    "D = np.eye(2)"
   ]
  },
  {
   "cell_type": "code",
   "execution_count": 11,
   "metadata": {},
   "outputs": [
    {
     "name": "stdout",
     "output_type": "stream",
     "text": [
      "Centered discretization\n"
     ]
    },
    {
     "name": "stdout",
     "output_type": "stream",
     "text": [
      "Iteration: 1  Residue norm: 24.999950894587023\n",
      "Iteration: 2  Residue norm: 6.002480451567161\n"
     ]
    },
    {
     "name": "stdout",
     "output_type": "stream",
     "text": [
      "Iteration: 3  Residue norm: 1.272425109926679\n",
      "Iteration: 4  Residue norm: 0.16500802975014173\n"
     ]
    },
    {
     "name": "stdout",
     "output_type": "stream",
     "text": [
      "Iteration: 5  Residue norm: 0.00428070816143622\n",
      "Iteration: 6  Residue norm: 2.2617146200332172e-06\n"
     ]
    },
    {
     "name": "stdout",
     "output_type": "stream",
     "text": [
      "Iteration: 7  Residue norm: 3.6148861681795097e-13\n",
      "Target residue reached. Terminating.\n",
      "\n",
      "Upwind discretization\n",
      "Iteration: 1  Residue norm: 24.999950894587204\n",
      "Iteration: 2  Residue norm: 6.00387299934568\n"
     ]
    },
    {
     "name": "stdout",
     "output_type": "stream",
     "text": [
      "Iteration: 3  Residue norm: 1.274791508178469\n",
      "Iteration: 4  Residue norm: 0.16663906528892336\n",
      "Iteration: 5  Residue norm: 0.0044604896689330875\n"
     ]
    },
    {
     "name": "stdout",
     "output_type": "stream",
     "text": [
      "Iteration: 6  Residue norm: 2.60179986244502e-06\n",
      "Iteration: 7  Residue norm: 5.491163079796024e-13\n",
      "Target residue reached. Terminating.\n"
     ]
    }
   ],
   "source": [
    "params0 = (A,omega,D,1.,bc)\n",
    "print(\"Centered discretization\"); \n",
    "solution_lf = newton_root(SchemeCentered_Quad,guess,params0)\n",
    "print()\n",
    "print(\"Upwind discretization\");   \n",
    "solution_upwind = newton_root(SchemeUpwind,guess,params0)"
   ]
  },
  {
   "cell_type": "code",
   "execution_count": 12,
   "metadata": {},
   "outputs": [
    {
     "data": {
      "image/png": "[encoded data removed]",
      "text/plain": [
       "<Figure size 648x288 with 2 Axes>"
      ]
     },
     "metadata": {
      "needs_background": "light"
     },
     "output_type": "display_data"
    }
   ],
   "source": [
    "plt.figure(figsize=(9,4))\n",
    "plt.subplot(1,2,1); plt.axis('equal'); plt.title('Centered solution')\n",
    "plt.contourf(*X,solution_lf);\n",
    "plt.subplot(1,2,2); plt.axis('equal'); plt.title('Upwind solution')\n",
    "plt.contourf(*X,solution_upwind);"
   ]
  },
  {
   "cell_type": "markdown",
   "metadata": {},
   "source": [
    "We introduce a drift term $\\omega$. While $|\\omega|<1$, the deterministic optimal control problem corresponding to $\\|\\nabla u - \\omega\\|=1$ remains locally controllable. The solution is smooth enough that the centered scheme remains monotone, and the two solutions agree."
   ]
  },
  {
   "cell_type": "code",
   "execution_count": 13,
   "metadata": {},
   "outputs": [],
   "source": [
    "drift_direction = np.array( (1,1) )/np.sqrt(2)"
   ]
  },
  {
   "cell_type": "code",
   "execution_count": 14,
   "metadata": {},
   "outputs": [
    {
     "name": "stdout",
     "output_type": "stream",
     "text": [
      "Centered discretization\n"
     ]
    },
    {
     "name": "stdout",
     "output_type": "stream",
     "text": [
      "Iteration: 1  Residue norm: 30.408059414782464\n",
      "Iteration: 2  Residue norm: 7.379568316641791\n"
     ]
    },
    {
     "name": "stdout",
     "output_type": "stream",
     "text": [
      "Iteration: 3  Residue norm: 1.0964622384982396\n",
      "Iteration: 4  Residue norm: 0.018004761462493413\n"
     ]
    },
    {
     "name": "stdout",
     "output_type": "stream",
     "text": [
      "Iteration: 5  Residue norm: 2.6812805293818798e-06\n",
      "Iteration: 6  Residue norm: 6.505906924303417e-14\n",
      "Target residue reached. Terminating.\n",
      "\n",
      "Upwind discretization\n"
     ]
    },
    {
     "name": "stdout",
     "output_type": "stream",
     "text": [
      "Iteration: 1  Residue norm: 24.592819351648178\n",
      "Iteration: 2  Residue norm: 5.77819234691769\n",
      "Iteration: 3  Residue norm: 0.8418135077234867\n"
     ]
    },
    {
     "name": "stdout",
     "output_type": "stream",
     "text": [
      "Iteration: 4  Residue norm: 0.017537685235410994\n",
      "Iteration: 5  Residue norm: 4.362129309321006e-06\n",
      "Iteration: 6  Residue norm: 1.723066134218243e-13\n",
      "Target residue reached. Terminating.\n"
     ]
    },
    {
     "data": {
      "image/png": "[encoded data removed]",
      "text/plain": [
       "<Figure size 648x288 with 2 Axes>"
      ]
     },
     "metadata": {
      "needs_background": "light"
     },
     "output_type": "display_data"
    }
   ],
   "source": [
    "params1 = (A,0.8*drift_direction,D,1.,bc)\n",
    "print(\"Centered discretization\"); \n",
    "solution_lf = newton_root(SchemeCentered_Quad,guess,params1)\n",
    "print()\n",
    "print(\"Upwind discretization\");   \n",
    "solution_upwind = newton_root(SchemeUpwind,guess,params1)\n",
    "\n",
    "plt.figure(figsize=(9,4))\n",
    "plt.subplot(1,2,1); plt.axis('equal'); plt.title('Centered solution')\n",
    "plt.contourf(*X,solution_lf);\n",
    "plt.subplot(1,2,2); plt.axis('equal'); plt.title('Upwind solution')\n",
    "plt.contourf(*X,solution_upwind);"
   ]
  },
  {
   "cell_type": "markdown",
   "metadata": {},
   "source": [
    "On the other hand, if $|\\omega|>1$, then the solution features a boundary layer, along which the gradient norm is large. As a result, the centered scheme looses monotonicity, and cannot the solver fails. "
   ]
  },
  {
   "cell_type": "code",
   "execution_count": 15,
   "metadata": {},
   "outputs": [
    {
     "name": "stdout",
     "output_type": "stream",
     "text": [
      "Centered discretization\n"
     ]
    },
    {
     "name": "stdout",
     "output_type": "stream",
     "text": [
      "Iteration: 1  Residue norm: 50.26568723291735\n",
      "Iteration: 2  Residue norm: 49336633.79105467\n"
     ]
    },
    {
     "name": "stdout",
     "output_type": "stream",
     "text": [
      "Iteration: 3  Residue norm: 12334165.482003365\n",
      "Iteration: 4  Residue norm: 3083542.558897324\n"
     ]
    },
    {
     "name": "stdout",
     "output_type": "stream",
     "text": [
      "Iteration: 5  Residue norm: 770880.4029508403\n",
      "Iteration: 6  Residue norm: 177320707.78978604\n"
     ]
    },
    {
     "name": "stdout",
     "output_type": "stream",
     "text": [
      "Iteration: 8  Residue norm: 11082568.583815372\n"
     ]
    },
    {
     "name": "stdout",
     "output_type": "stream",
     "text": [
      "Iteration: 10  Residue norm: 692691.8418254894\n"
     ]
    },
    {
     "name": "stdout",
     "output_type": "stream",
     "text": [
      "Iteration: 12  Residue norm: 52619.87479750259\n",
      "Max iterations exceeded. Aborting.\n",
      "\n",
      "Upwind discretization\n",
      "Iteration: 1  Residue norm: 26.152648728268844\n",
      "Iteration: 2  Residue norm: 12.054212149922108\n"
     ]
    },
    {
     "name": "stdout",
     "output_type": "stream",
     "text": [
      "Iteration: 3  Residue norm: 0.015615302075318027\n",
      "Iteration: 4  Residue norm: 1.0064768218853715e-06\n",
      "Iteration: 5  Residue norm: 9.725553695716371e-14\n",
      "Target residue reached. Terminating.\n"
     ]
    },
    {
     "data": {
      "image/png": "[encoded data removed]",
      "text/plain": [
       "<Figure size 648x288 with 2 Axes>"
      ]
     },
     "metadata": {
      "needs_background": "light"
     },
     "output_type": "display_data"
    }
   ],
   "source": [
    "params2 = (A,1.2*drift_direction,D,1.,bc)\n",
    "print(\"Centered discretization\"); \n",
    "solution_lf = newton_root(SchemeCentered_Quad,guess,params2,\n",
    "                          stop=stop(niter_max=12,raise_on_abort=False))\n",
    "print()\n",
    "print(\"Upwind discretization\");   \n",
    "solution_upwind = newton_root(SchemeUpwind,guess,params2)\n",
    "\n",
    "plt.figure(figsize=(9,4))\n",
    "plt.subplot(1,2,1); plt.axis('equal'); plt.title('Centered solution')\n",
    "plt.contourf(*X,solution_lf);\n",
    "plt.subplot(1,2,2); plt.axis('equal'); plt.title('Upwind solution')\n",
    "plt.contourf(*X,solution_upwind);"
   ]
  },
  {
   "cell_type": "markdown",
   "metadata": {},
   "source": [
    "The upwind scheme is monotone and solvable even for a vanishing diffusion tensor field $A$.\n",
    "\n",
    "A numerical difficulty arises however for our Newton solver : the jacobian matrix $J$ of the scheme may not be invertible. Fortunately but $J+ \\epsilon \\mathrm{Id}$ is invertible for any $\\epsilon>0$."
   ]
  },
  {
   "cell_type": "code",
   "execution_count": 16,
   "metadata": {},
   "outputs": [
    {
     "name": "stdout",
     "output_type": "stream",
     "text": [
      "Iteration: 1  Residue norm: 39.513767346713\n",
      "Iteration: 2  Residue norm: 9.8408191774981\n",
      "Iteration: 3  Residue norm: 2.3997317508090434\n",
      "Iteration: 4  Residue norm: 0.44412322609316157\n",
      "Iteration: 5  Residue norm: 0.037963132835068025\n"
     ]
    },
    {
     "name": "stdout",
     "output_type": "stream",
     "text": [
      "Iteration: 6  Residue norm: 0.0008139125358357369\n",
      "Iteration: 8  Residue norm: 7.2353676496828e-06\n",
      "Iteration: 10  Residue norm: 9.558118230224011e-08\n"
     ]
    },
    {
     "name": "stdout",
     "output_type": "stream",
     "text": [
      "Iteration: 11  Residue norm: 9.553106306015025e-09\n",
      "Target residue reached. Terminating.\n"
     ]
    },
    {
     "data": {
      "image/png": "[encoded data removed]",
      "text/plain": [
       "<Figure size 432x288 with 1 Axes>"
      ]
     },
     "metadata": {
      "needs_background": "light"
     },
     "output_type": "display_data"
    }
   ],
   "source": [
    "params = (None,1.2*drift_direction,D,1.,bc)\n",
    "epsilon=1; relax = epsilon*ad.Sparse.identity(bc.shape)\n",
    "solution_upwind = newton_root(SchemeUpwind,guess,params,relax=relax)\n",
    "\n",
    "\n",
    "plt.axis('equal'); plt.title('Upwind solution')\n",
    "plt.contourf(*X,solution_upwind);"
   ]
  },
  {
   "cell_type": "markdown",
   "metadata": {},
   "source": [
    "For validation purposes, we reproduce the canonical example of a laplacian over a square domain."
   ]
  },
  {
   "cell_type": "code",
   "execution_count": 17,
   "metadata": {},
   "outputs": [
    {
     "name": "stdout",
     "output_type": "stream",
     "text": [
      "Iteration: 1  Residue norm: 2.0463630789890885e-12\n",
      "Target residue reached. Terminating.\n"
     ]
    },
    {
     "data": {
      "image/png": "[encoded data removed]",
      "text/plain": [
       "<Figure size 432x288 with 1 Axes>"
      ]
     },
     "metadata": {
      "needs_background": "light"
     },
     "output_type": "display_data"
    }
   ],
   "source": [
    "bc_square = Domain.MockDirichlet(bc.shape,bc.gridscale,0.)\n",
    "params = (np.eye(2),np.zeros(2),None,1.,bc_square)\n",
    "solution_upwind = newton_root(SchemeUpwind,guess,params)\n",
    "\n",
    "plt.axis('equal'); plt.title('Laplacian on a square')\n",
    "plt.contourf(*X,solution_upwind);"
   ]
  },
  {
   "cell_type": "markdown",
   "metadata": {},
   "source": [
    "### 1.4 Alternative centered scheme\n",
    "\n",
    "For completeness, we present a last scheme, that mixes the discretization principles of the previous two. In the considered examples, it behaves similarly to the first centered scheme. We use:\n",
    "* Centered finite differences for second order accuracy,\n",
    "* A sum-of-squares decomposition of the non-linearity, which is assumed to be quadratic.\n",
    "\n",
    "In addition, the quadratic non-linearity must be defined in terms of a tensor $D(x)$ which is *proportionnal* to diffusion tensor $A(x)$. This is strong restriction, which possibly makes this scheme less useful in applications. This assumption could be weakened, but the the scheme would become more complex.\n",
    "\n",
    "The resulting scheme is degenerate elliptic under the condition that\n",
    "* $A(x)$ is positive definite at each point.\n",
    "* $D(x)$ obeys a compatibility condition, satisfied in particular if $D(x)=\\alpha(x) A(x)$ at each point.\n",
    "* The grid scale $h>0$ is sufficiently small.\n",
    "<!---* $D(x)$ is *proportionnal* to $A(x)$ at each point.--->\n",
    "\n",
    "\n",
    "The approximation of the first order non-linearity reads\n",
    "$$\n",
    "    F(x,\\nabla u(x)) =  \\sum_{1 \\leq i \\leq n} \\nu_i(x) \\left(\\frac{u(x+h e_i(x))-u(x-h e_i(x))}{2 h} - <\\omega(x),e_i(x)>\\right)^2+ O(h)\n",
    "$$\n",
    "where \n",
    "$$\n",
    "    D(x) = \\sum_{1 \\leq i \\leq n} \\nu_i(x) e_i(x) e_i(x)^T\n",
    "$$\n",
    "is a tensor decomposition over the same stencil as $A(x)$, but with possibly negative weights $\\nu_i(x)\\in R$. This scheme is monotone provided the solution gradient is suitably bounded and \n",
    "$$\n",
    "    \\mu_i \\geq h |\\nu_i|,\n",
    "$$\n",
    "where $h$ is the discretization grid scale. This is in particular the case if $A(x) = \\alpha(x) D(x)$ where $\\alpha(x) \\geq h$, at each point $x$.\n",
    "\n",
    "<!---\n",
    "*Note on the case where $A$ and $D$ are not proportionnal.* If $A$ and $D$ are not proportional, but both are positive definite, then one may rewrite the PDE as \n",
    "$$\n",
    "    {-} \\mathrm{tr}(\\tilde A(x) \\nabla^2 u(x)) -\\alpha(x) \\mathrm{Tr}(D(x) \\nabla^2 u(x))  + \\| \\nabla u(x) -\\omega(x)\\|^2_{D(x)} - 1 = 0,\n",
    "$$\n",
    "where for instance \n",
    "$$\n",
    "1/\\alpha(x) := 2 \\mathrm{tr} (D(x) A(x)^{-1}),\n",
    "$$\n",
    "which ensures that $\\tilde A(x) := A(x)-\\alpha(x) D(x)$ is positive definite, at each discretization point $x$. Monotony holds for the resulting scheme, provided $\\alpha(x) \\geq h$ and the solution gradient is suitably bounded.\n",
    "--->"
   ]
  },
  {
   "cell_type": "code",
   "execution_count": 18,
   "metadata": {},
   "outputs": [],
   "source": [
    "def SchemeCenteredAlt(u,A,omega,D,rhs,bc):\n",
    "    # Compute the decompositions (here offset_e = offset_f)\n",
    "    sb = Selling.ObtuseSuperbase(A) \n",
    "    mu,offset_e = Selling.Decomposition(A,sb=sb) # Non-negative decomposition\n",
    "    nu,offset_f = Selling.Decomposition(D,sb=sb) # Decomposition with the same offsets\n",
    "    omega_f = lp.dot_VA(omega,offset_f.astype(float))\n",
    "\n",
    "    # Compute the first and second order finite differences\n",
    "    du  = bc.DiffCentered(u,offset_f)\n",
    "    d2u = bc.Diff2(u,offset_e)\n",
    "    \n",
    "    # Scheme in the interior\n",
    "    mu,nu,omega_f = (bc.as_field(e) for e in (mu,nu,omega_f)) \n",
    "    residue = -lp.dot_VV(mu,d2u) + lp.dot_VV(nu, (du-omega_f)**2) - rhs\n",
    "\n",
    "    # Boundary conditions\n",
    "    return np.where(bc.interior,residue,u-bc.grid_values)"
   ]
  },
  {
   "cell_type": "code",
   "execution_count": 19,
   "metadata": {},
   "outputs": [
    {
     "name": "stdout",
     "output_type": "stream",
     "text": [
      "\n",
      "No drift\n"
     ]
    },
    {
     "name": "stdout",
     "output_type": "stream",
     "text": [
      "Iteration: 1  Residue norm: 24.999950894587023\n",
      "Iteration: 2  Residue norm: 6.002480451567165\n"
     ]
    },
    {
     "name": "stdout",
     "output_type": "stream",
     "text": [
      "Iteration: 3  Residue norm: 1.2724251099266812\n"
     ]
    },
    {
     "name": "stdout",
     "output_type": "stream",
     "text": [
      "Iteration: 4  Residue norm: 0.1650080297501415\n",
      "Iteration: 5  Residue norm: 0.004280708161434887\n"
     ]
    },
    {
     "name": "stdout",
     "output_type": "stream",
     "text": [
      "Iteration: 6  Residue norm: 2.2617146198111726e-06\n"
     ]
    },
    {
     "name": "stdout",
     "output_type": "stream",
     "text": [
      "Iteration: 7  Residue norm: 3.6060043839825084e-13\n",
      "Target residue reached. Terminating.\n",
      "\n",
      "Weak drift\n"
     ]
    },
    {
     "name": "stdout",
     "output_type": "stream",
     "text": [
      "Iteration: 1  Residue norm: 30.408059414784383\n",
      "Iteration: 2  Residue norm: 7.379568316642295\n"
     ]
    },
    {
     "name": "stdout",
     "output_type": "stream",
     "text": [
      "Iteration: 3  Residue norm: 1.0964622384983613\n"
     ]
    },
    {
     "name": "stdout",
     "output_type": "stream",
     "text": [
      "Iteration: 4  Residue norm: 0.01800476146249652\n",
      "Iteration: 5  Residue norm: 2.681280526939389e-06\n"
     ]
    },
    {
     "name": "stdout",
     "output_type": "stream",
     "text": [
      "Iteration: 6  Residue norm: 6.616929226765933e-14\n",
      "Target residue reached. Terminating.\n",
      "\n",
      "Non-controllable drift\n"
     ]
    },
    {
     "name": "stdout",
     "output_type": "stream",
     "text": [
      "Iteration: 1  Residue norm: 50.26568723291735\n",
      "Iteration: 2  Residue norm: 49336633.79105337\n"
     ]
    },
    {
     "name": "stdout",
     "output_type": "stream",
     "text": [
      "Iteration: 3  Residue norm: 12334165.482003042\n"
     ]
    },
    {
     "name": "stdout",
     "output_type": "stream",
     "text": [
      "Iteration: 4  Residue norm: 3083542.5588972433\n",
      "Iteration: 5  Residue norm: 770880.4029508197\n"
     ]
    },
    {
     "name": "stdout",
     "output_type": "stream",
     "text": [
      "Iteration: 6  Residue norm: 177320707.78215867\n"
     ]
    },
    {
     "name": "stdout",
     "output_type": "stream",
     "text": [
      "Iteration: 8  Residue norm: 11082568.583338661\n"
     ]
    },
    {
     "name": "stdout",
     "output_type": "stream",
     "text": [
      "Iteration: 10  Residue norm: 692691.8417956947\n"
     ]
    },
    {
     "name": "stdout",
     "output_type": "stream",
     "text": [
      "Iteration: 12  Residue norm: 52619.874708279545\n",
      "Max iterations exceeded. Aborting.\n"
     ]
    }
   ],
   "source": [
    "print()\n",
    "print(\"No drift\"); \n",
    "solution_no = newton_root(SchemeCenteredAlt,guess,params0)\n",
    "print()\n",
    "print(\"Weak drift\"); \n",
    "solution_weak = newton_root(SchemeCenteredAlt,guess,params1)\n",
    "print()\n",
    "print(\"Non-controllable drift\"); \n",
    "solution_strong = newton_root(SchemeCenteredAlt,guess,params2,\n",
    "                                stop=stop(niter_max=12,raise_on_abort=False))"
   ]
  },
  {
   "cell_type": "code",
   "execution_count": 20,
   "metadata": {},
   "outputs": [
    {
     "data": {
      "image/png": "[encoded data removed]",
      "text/plain": [
       "<Figure size 936x288 with 3 Axes>"
      ]
     },
     "metadata": {
      "needs_background": "light"
     },
     "output_type": "display_data"
    }
   ],
   "source": [
    "plt.figure(figsize=(13,4))\n",
    "plt.subplot(1,3,1); plt.axis('equal'); plt.title('No drift')\n",
    "plt.contourf(*X,solution_no);\n",
    "plt.subplot(1,3,2); plt.axis('equal'); plt.title('Weak drift')\n",
    "plt.contourf(*X,solution_weak);\n",
    "plt.subplot(1,3,3); plt.axis('equal'); plt.title('Strong drift (Scheme fails)')\n",
    "plt.contourf(*X,solution_strong);"
   ]
  },
  {
   "cell_type": "markdown",
   "metadata": {},
   "source": [
    "## 2. Pure eikonal equations\n",
    "\n",
    "The upwind scheme can accomodate, a null diffusion tensor $A$, so that the consider PDE degenerates to a first order eikonal-like equation. \n",
    "$$\n",
    "    \\|\\nabla u-\\omega\\|_D^2-1=0.\n",
    "$$\n",
    "In that case we may in addition impose the boundary condition $+\\infty$ on part of the domain boundary, in the sense of viscosity solutions. This corresponds to outflow boundary conditions."
   ]
  },
  {
   "cell_type": "markdown",
   "metadata": {},
   "source": [
    "**Note on the numerical solver.**\n",
    "In this notebook, we use a Newton-like solver for all the PDEs. While this approach does eventually work for the considered examples, let us emphasize that it *lacks both speed and robustness in the case of pure eikonal equations*. Gauss-Siedel iterations (either sweeping or adaptive) are much more adequate, or even better the single pass fast marching method (applicable to this numerical scheme when $\\omega=0$). \n",
    "\n",
    "**Stabilization of the linear solves**\n",
    "The jacobian matrix $J$ of the considered numerical scheme is not invertible, but \n",
    "$$\n",
    "    J + \\epsilon_0 \\mathrm{Id} - \\epsilon_1 \\Delta\n",
    "$$\n",
    "is invertible for any $\\epsilon_0>0$ and $\\epsilon_1\\geq 0$, where $\\Delta$ is the matrix of the laplacian operator.\n",
    "\n",
    "We use both $\\epsilon_0>0$ and $\\epsilon_1>0$ in the first steps of Newton method, to propagate information over the domain using the laplacian kernel. Once a good approximation of the solution is obtained, we turn to a more basic relaxation with $\\epsilon_0>0$ and $\\epsilon_1=0$."
   ]
  },
  {
   "cell_type": "markdown",
   "metadata": {},
   "source": [
    "### 2.1 A Riemannian eikonal equation\n",
    "We solve $\\|\\nabla u\\|_D = 1$, where $D$ is the inverse to a Riemannian metric, which is specified in terms of its eigenvalues and eigenvectors.\n",
    "\n",
    "In order to compute the Riemannian distance from the domain center $x_0$, we impose the Dirichlet boundary condition $u(x_0)=0$. On the domain boundary, we set $u=+\\infty$ in the sense of viscosity solutions, to impose outflow boundary conditions."
   ]
  },
  {
   "cell_type": "code",
   "execution_count": 21,
   "metadata": {},
   "outputs": [],
   "source": [
    "# Generate the metric\n",
    "eig1 = np.stack((np.full(bc.shape,1.),(np.pi/2)*np.cos(2*np.pi*X[0])))\n",
    "eig1 /= scipy.linalg.norm(eig1,axis=0) \n",
    "eig2 = np.stack( (eig1[1],-eig1[0]) ) # Rotate eig1 by pi/2\n",
    "lambda1, lambda2 = 0.8, 0.2\n",
    "metric = lambda1**-2*lp.outer_self(eig1) + lambda2**-2*lp.outer_self(eig2)\n",
    "\n",
    "# Boundary conditions set a seed in the center\n",
    "bc_eikonal_grid_values = np.full(bc.shape,np.nan)\n",
    "bc_eikonal_grid_values[bc.shape[0]//2,bc.shape[1]//2] = 1.\n",
    "\n",
    "# Outflow boundary conditions on the square boundary obtained by padding +infinity\n",
    "bc_eikonal = Domain.MockDirichlet(bc_eikonal_grid_values, bc.gridscale, padding=np.inf)"
   ]
  },
  {
   "cell_type": "code",
   "execution_count": 22,
   "metadata": {},
   "outputs": [],
   "source": [
    "# Set the problem parameters\n",
    "D_Riemann = lp.inverse(metric)\n",
    "omega_Riemann = bc.as_field(np.zeros(2))"
   ]
  },
  {
   "cell_type": "markdown",
   "metadata": {},
   "source": [
    "The following variables encode the identity and laplacian operators, devoted to the stabilization of the linear systems."
   ]
  },
  {
   "cell_type": "code",
   "execution_count": 23,
   "metadata": {},
   "outputs": [],
   "source": [
    "ident = ad.Sparse.identity(bc.shape)\n",
    "lap   = bc_eikonal.Diff2(ident,(1,0)) + bc_eikonal.Diff2(ident,(0,1))\n",
    "lap[0,:]=0.; lap[-1,:]=0.; lap[:,0]=0.; lap[:,-1]=0.; "
   ]
  },
  {
   "cell_type": "code",
   "execution_count": 24,
   "metadata": {},
   "outputs": [
    {
     "name": "stdout",
     "output_type": "stream",
     "text": [
      "Iteration: 1  Residue norm: 1.0\n"
     ]
    },
    {
     "name": "stdout",
     "output_type": "stream",
     "text": [
      "Iteration: 5  Residue norm: 3.6054328928746955\n"
     ]
    },
    {
     "name": "stdout",
     "output_type": "stream",
     "text": [
      "Iteration: 9  Residue norm: 194.58604911473827\n"
     ]
    },
    {
     "name": "stdout",
     "output_type": "stream",
     "text": [
      "Iteration: 13  Residue norm: 3.9728508145430323\n"
     ]
    },
    {
     "name": "stdout",
     "output_type": "stream",
     "text": [
      "Iteration: 17  Residue norm: 2.8803427436693765\n"
     ]
    },
    {
     "name": "stdout",
     "output_type": "stream",
     "text": [
      "Iteration: 20  Residue norm: 1.6378773781358051\n",
      "Max iterations exceeded. Aborting.\n",
      "\n",
      "Iteration: 1  Residue norm: 10.651492467555226\n"
     ]
    },
    {
     "name": "stdout",
     "output_type": "stream",
     "text": [
      "Iteration: 5  Residue norm: 0.3407054867578443\n"
     ]
    },
    {
     "name": "stdout",
     "output_type": "stream",
     "text": [
      "Iteration: 9  Residue norm: 0.02625453062696037\n"
     ]
    },
    {
     "name": "stdout",
     "output_type": "stream",
     "text": [
      "Iteration: 13  Residue norm: 0.0017178774713898504\n"
     ]
    },
    {
     "name": "stdout",
     "output_type": "stream",
     "text": [
      "Iteration: 17  Residue norm: 0.000107782239372467\n"
     ]
    },
    {
     "name": "stdout",
     "output_type": "stream",
     "text": [
      "Iteration: 21  Residue norm: 6.737072064000316e-06\n"
     ]
    },
    {
     "name": "stdout",
     "output_type": "stream",
     "text": [
      "Iteration: 25  Residue norm: 4.210679556138075e-07\n"
     ]
    },
    {
     "name": "stdout",
     "output_type": "stream",
     "text": [
      "Iteration: 29  Residue norm: 2.6316748558130598e-08\n",
      "Iteration: 31  Residue norm: 6.579191524913597e-09\n",
      "Target residue reached. Terminating.\n"
     ]
    },
    {
     "data": {
      "image/png": "[encoded data removed]",
      "text/plain": [
       "<Figure size 432x288 with 1 Axes>"
      ]
     },
     "metadata": {
      "needs_background": "light"
     },
     "output_type": "display_data"
    }
   ],
   "source": [
    "params = (None,omega_Riemann,D_Riemann,1.,bc_eikonal)\n",
    "\n",
    "# First run 20 iterations with a strong relaxation, featuring a laplacian\n",
    "solution_upwind = newton_root(SchemeUpwind,guess,params,relax=ident-bc_eikonal.gridscale*lap,\n",
    "                             stop = stop(niter_max=20,raise_on_abort=False,niter_print=every4))\n",
    "\n",
    "print()\n",
    "# Then refine the solution, with a weaker relaxation\n",
    "solution_upwind = newton_root(SchemeUpwind,solution_upwind,params,relax=ident,\n",
    "                              stop = stop(niter_print=every4)) \n",
    "\n",
    "plt.axis('equal'); plt.title(\"Riemannian eikonal equation\")\n",
    "plt.contourf(*X,solution_upwind);"
   ]
  },
  {
   "cell_type": "markdown",
   "metadata": {},
   "source": [
    "### 2.2 An eikonal equation of Rander type\n",
    "\n",
    "We solve a classical instance of Zermelo's navigation problem: $u(x)=T$ is the smallest time for which there exists a path $\\gamma : [0,T] \\to \\Omega$ such that \n",
    "$$\n",
    "    \\| \\gamma'(t) - \\eta(\\gamma(t))\\|_{M(\\gamma(t))} \\leq 1\n",
    "$$\n",
    "for all $0 \\leq t \\leq T$, and with the endpoint conditions $\\gamma(0) = x_0$ (the seed point) and $\\gamma(T)=x$.\n",
    "Here $M$ is a prescribed Riemannian metric, and $\\eta$ is a drift vector field. \n",
    "\n",
    "For well posedness, we require the problem to be locally controllable, which is the case provided \n",
    "$$\n",
    "\\| \\eta(x)\\|_{M(x)} < 1\n",
    "$$\n",
    "at all points of the domain."
   ]
  },
  {
   "cell_type": "code",
   "execution_count": 25,
   "metadata": {},
   "outputs": [],
   "source": [
    "# Choose the Riemannian metric and drift\n",
    "metric = bc_eikonal.as_field( np.eye(2))\n",
    "drift_max_speed = 0.8\n",
    "drift = drift_max_speed*np.sin(2*np.pi*X[0])*np.sin(2*np.pi*X[1]) * X / ad.Optimization.norm(X,ord=2,axis=0)"
   ]
  },
  {
   "cell_type": "code",
   "execution_count": 26,
   "metadata": {},
   "outputs": [],
   "source": [
    "def RanderDual(m,v):\n",
    "    s = lp.inverse(m-lp.outer_self(v))\n",
    "    w = lp.dot_AV(s,v)\n",
    "    return (s*(1+lp.dot_VV(v,w)),w)"
   ]
  },
  {
   "cell_type": "code",
   "execution_count": 27,
   "metadata": {},
   "outputs": [],
   "source": [
    "# Set the problem parameters\n",
    "D_Rander,omega_Rander = RanderDual(lp.inverse(metric),drift)\n",
    "D_Rander = lp.inverse(D_Rander)"
   ]
  },
  {
   "cell_type": "code",
   "execution_count": 28,
   "metadata": {},
   "outputs": [
    {
     "name": "stdout",
     "output_type": "stream",
     "text": [
      "Iteration: 1  Residue norm: 3.3779230090939034\n"
     ]
    },
    {
     "name": "stdout",
     "output_type": "stream",
     "text": [
      "Iteration: 5  Residue norm: 782.3323881462424\n"
     ]
    },
    {
     "name": "stdout",
     "output_type": "stream",
     "text": [
      "Iteration: 9  Residue norm: 7.84463181816259\n"
     ]
    },
    {
     "name": "stdout",
     "output_type": "stream",
     "text": [
      "Iteration: 13  Residue norm: 0.7264236353474036\n"
     ]
    },
    {
     "name": "stdout",
     "output_type": "stream",
     "text": [
      "Iteration: 17  Residue norm: 0.23659580521166568\n"
     ]
    },
    {
     "name": "stdout",
     "output_type": "stream",
     "text": [
      "Iteration: 20  Residue norm: 0.09804071441833473\n",
      "Max iterations exceeded. Aborting.\n",
      "\n",
      "Iteration: 1  Residue norm: 0.011436478442604647\n"
     ]
    },
    {
     "name": "stdout",
     "output_type": "stream",
     "text": [
      "Iteration: 5  Residue norm: 0.0012592903006557465\n"
     ]
    },
    {
     "name": "stdout",
     "output_type": "stream",
     "text": [
      "Iteration: 9  Residue norm: 7.933843450369515e-05\n"
     ]
    },
    {
     "name": "stdout",
     "output_type": "stream",
     "text": [
      "Iteration: 13  Residue norm: 4.95868412153655e-06\n"
     ]
    },
    {
     "name": "stdout",
     "output_type": "stream",
     "text": [
      "Iteration: 17  Residue norm: 3.099181191679179e-07\n"
     ]
    },
    {
     "name": "stdout",
     "output_type": "stream",
     "text": [
      "Iteration: 21  Residue norm: 1.936986149253528e-08\n",
      "Iteration: 22  Residue norm: 9.6849650521591e-09\n",
      "Target residue reached. Terminating.\n"
     ]
    },
    {
     "data": {
      "image/png": "[encoded data removed]",
      "text/plain": [
       "<Figure size 432x288 with 1 Axes>"
      ]
     },
     "metadata": {
      "needs_background": "light"
     },
     "output_type": "display_data"
    }
   ],
   "source": [
    "params = (None,omega_Rander,D_Rander,1.,bc_eikonal)\n",
    "solution_upwind = newton_root(SchemeUpwind,guess,params, # Zero guess\n",
    "                              relax=ident-bc_eikonal.gridscale*lap, # Laplacian in relaxation\n",
    "                       stop=stop(niter_max=20,raise_on_abort=False,niter_print=every4) )\n",
    "\n",
    "print()\n",
    "solution_upwind = newton_root(SchemeUpwind,solution_upwind,params, # Previous solution as guess\n",
    "                       relax=ident, stop=stop(niter_print=every4)) # Basic relaxation\n",
    "\n",
    "plt.axis('equal'); plt.title(\"Rander eikonal equation\")\n",
    "plt.contourf(*X,solution_upwind);"
   ]
  }
 ],
 "metadata": {
  "celltoolbar": "Format de la Cellule Texte Brut",
  "kernelspec": {
   "display_name": "Python 3",
   "language": "python",
   "name": "python3"
  },
  "language_info": {
   "codemirror_mode": {
    "name": "ipython",
    "version": 3
   },
   "file_extension": ".py",
   "mimetype": "text/x-python",
   "name": "python",
   "nbconvert_exporter": "python",
   "pygments_lexer": "ipython3",
   "version": "3.7.6"
  }
 },
 "nbformat": 4,
 "nbformat_minor": 2
}
